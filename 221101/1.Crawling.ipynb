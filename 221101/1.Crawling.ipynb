{
 "cells": [
  {
   "cell_type": "code",
   "execution_count": 1,
   "id": "67f37e73-08ba-4922-b10c-082dcb8f8698",
   "metadata": {},
   "outputs": [],
   "source": [
    "import requests"
   ]
  },
  {
   "cell_type": "code",
   "execution_count": 2,
   "id": "dc69e25d-f7be-426b-b2d8-03538ab04159",
   "metadata": {},
   "outputs": [],
   "source": [
    "url = 'https://www.koreabaseball.com/Record/Player/HitterBasic/BasicOld.aspx?sort=HRA_RT'"
   ]
  },
  {
   "cell_type": "code",
   "execution_count": 3,
   "id": "8a3abaaf-45a9-4fe0-8af1-f2b0c832557d",
   "metadata": {},
   "outputs": [],
   "source": [
    "req = requests.get(url)"
   ]
  },
  {
   "cell_type": "code",
   "execution_count": 4,
   "id": "9ab7c009-9c2f-49e6-8007-c70705ec056c",
   "metadata": {
    "tags": []
   },
   "outputs": [],
   "source": [
    "html = req.text"
   ]
  },
  {
   "cell_type": "code",
   "execution_count": 5,
   "id": "0d982be6-cfa9-4346-b995-5cf466891762",
   "metadata": {},
   "outputs": [],
   "source": [
    "from bs4 import BeautifulSoup #소스코드를 아름답게 변환해줌~"
   ]
  },
  {
   "cell_type": "code",
   "execution_count": 6,
   "id": "8912d174-0be0-4eb1-affc-a3080e9d9130",
   "metadata": {},
   "outputs": [],
   "source": [
    "soup = BeautifulSoup(html, 'html.parser')"
   ]
  },
  {
   "cell_type": "code",
   "execution_count": 7,
   "id": "0b9f82cc-82d6-4356-a158-68d480ac5045",
   "metadata": {
    "tags": []
   },
   "outputs": [
    {
     "data": {
      "text/plain": [
       "\n",
       "<!DOCTYPE html>\n",
       "\n",
       "<html lang=\"ko\">\n",
       "<head><title>\n",
       "\t기록실 | 기록 | KBO\n",
       "</title><meta content=\"text/html; charset=utf-8\" http-equiv=\"Content-Type\"/><meta content=\"text/javascript\" http-equiv=\"Content-Script-Type\"/><meta content=\"text/css\" http-equiv=\"Content-Style-Type\"/><meta content=\"IE=edge, Chrome\" http-equiv=\"X-UA-Compatible\"/><meta content=\"KBO\" name=\"title\"/><meta content=\"스포츠투아이\" name=\"author\"/><meta content=\"KBO, 한국야구위원회, 프로야구, KBO 리그, 퓨처스리그, 프로야구순위, 프로야구 일정\" name=\"keywords\"/><meta content=\"width=1200\" name=\"viewport\"/>\n",
       "<!-- OG -->\n",
       "<meta content=\"website\" property=\"og:type\"/><meta content=\"KBO 홈페이지\" property=\"og:title\"/><meta content=\"KBO, 한국야구위원회, 프로야구, KBO 리그, 퓨처스리그, 프로야구순위, 프로야구 일정\" property=\"og:description\"/><meta content=\"https://lgcxydabfbch3774324.cdn.ntruss.com/KBO_IMAGE/KBOHome/resources/images/common/open_graph_kbo_2022.png\" property=\"og:image\"/><meta content=\"https://www.koreabaseball.com/\" property=\"og:url\"/>\n",
       "<link href=\"//lgcxydabfbch3774324.cdn.ntruss.com/KBO_IMAGE/KBOHome/resources/images/common/favicon.ico\" rel=\"shortcut icon\" type=\"image/x-icon\"/>\n",
       "<link href=\"/resources/css/font.css\" rel=\"stylesheet\" type=\"text/css\"/>\n",
       "<link href=\"//lgcxydabfbch3774324.cdn.ntruss.com/KBO_IMAGE/KBOHome/resources/min/css/reset.min.css?version=20221028\" rel=\"stylesheet\" type=\"text/css\"/>\n",
       "<link href=\"//lgcxydabfbch3774324.cdn.ntruss.com/KBO_IMAGE/KBOHome/resources/min/css/common.min.css?version=20221028\" rel=\"stylesheet\" type=\"text/css\"/>\n",
       "<link href=\"//lgcxydabfbch3774324.cdn.ntruss.com/KBO_IMAGE/KBOHome/resources/min/css/layout.min.css?version=20221028\" rel=\"stylesheet\" type=\"text/css\"/>\n",
       "<link href=\"//lgcxydabfbch3774324.cdn.ntruss.com/KBO_IMAGE/KBOHome/resources/min/css/contents.min.css?version=20221028\" rel=\"stylesheet\" type=\"text/css\"/>\n",
       "<link href=\"//lgcxydabfbch3774324.cdn.ntruss.com/KBO_IMAGE/KBOHome/resources/min/css/jquery-ui.min.css?version=20221028\" rel=\"stylesheet\" type=\"text/css\"/>\n",
       "<link href=\"//lgcxydabfbch3774324.cdn.ntruss.com/KBO_IMAGE/KBOHome/resources/min/css/jquery-ui-theme.min.css?version=20221028\" rel=\"stylesheet\" type=\"text/css\"/>\n",
       "<link href=\"//lgcxydabfbch3774324.cdn.ntruss.com/KBO_IMAGE/KBOHome/resources/min/css/jquery.bxslider.min.css?version=20221028\" rel=\"stylesheet\" type=\"text/css\"/>\n",
       "<script charset=\"utf-8\" src=\"//lgcxydabfbch3774324.cdn.ntruss.com/KBO_IMAGE/KBOHome/resources/min/js/jquery-1.12.4.min.js?version=20221025\" type=\"text/javascript\"></script>\n",
       "<script charset=\"utf-8\" src=\"//lgcxydabfbch3774324.cdn.ntruss.com/KBO_IMAGE/KBOHome/resources/min/js/jquery-migrate-1.1.1.min.js?version=20221025\" type=\"text/javascript\"></script>\n",
       "<script charset=\"utf-8\" src=\"//lgcxydabfbch3774324.cdn.ntruss.com/KBO_IMAGE/KBOHome/resources/min/js/jquery-ui.min.js?version=20221025\" type=\"text/javascript\"></script>\n",
       "<script charset=\"utf-8\" src=\"//lgcxydabfbch3774324.cdn.ntruss.com/KBO_IMAGE/KBOHome/resources/min/js/jquery.bxslider.min.js?version=20221025\" type=\"text/javascript\"></script>\n",
       "<script charset=\"utf-8\" src=\"//lgcxydabfbch3774324.cdn.ntruss.com/KBO_IMAGE/KBOHome/resources/min/js/jquery.ui.datepicker-ko.min.js?version=20221025\" type=\"text/javascript\"></script>\n",
       "<script charset=\"utf-8\" src=\"//lgcxydabfbch3774324.cdn.ntruss.com/KBO_IMAGE/KBOHome/resources/min/js/S2i.Common-1.0.1.min.js?version=20221025\" type=\"text/javascript\"></script>\n",
       "<script charset=\"utf-8\" src=\"//lgcxydabfbch3774324.cdn.ntruss.com/KBO_IMAGE/KBOHome/resources/min/js/S2i.Paging-1.0.8.min.js?version=20221025\" type=\"text/javascript\"></script>\n",
       "<script charset=\"utf-8\" src=\"//lgcxydabfbch3774324.cdn.ntruss.com/KBO_IMAGE/KBOHome/resources/min/js/common.min.js?version=20221025\" type=\"text/javascript\"></script>\n",
       "<script charset=\"utf-8\" src=\"//lgcxydabfbch3774324.cdn.ntruss.com/KBO_IMAGE/KBOHome/resources/min/js/S2i.MakeTable-1.0.3.min.js?version=20221025\" type=\"text/javascript\"></script>\n",
       "<script charset=\"utf-8\" src=\"//lgcxydabfbch3774324.cdn.ntruss.com/KBO_IMAGE/KBOHome/resources/min/js/bTogether.min.js?version=20221025\" type=\"text/javascript\"></script>\n",
       "<!--—[if lt IE 9]-->\n",
       "<script src=\"//lgcxydabfbch3774324.cdn.ntruss.com/KBO_IMAGE/KBOHome/resources/min/js/html5shiv.min.js?version=20221025\"></script>\n",
       "<?endif]—>\n",
       "\t<!-- Google Tag Manager -->\n",
       "\t<script>\n",
       "\t\t(function (w, d, s, l, i) {\n",
       "\t\t\tw[l] = w[l] || []; w[l].push({\n",
       "\t\t\t\t'gtm.start':\n",
       "\t\t\t\t\tnew Date().getTime(), event: 'gtm.js'\n",
       "\t\t\t}); var f = d.getElementsByTagName(s)[0],\n",
       "\t\t\t\tj = d.createElement(s), dl = l != 'dataLayer' ? '&l=' + l : ''; j.async = true; j.src =\n",
       "\t\t\t\t\t'https://www.googletagmanager.com/gtm.js?id=' + i + dl; f.parentNode.insertBefore(j, f);\n",
       "\t\t})(window, document, 'script', 'dataLayer', 'GTM-K3BL64Q');\n",
       "\t</script>\n",
       "\t<!-- End Google Tag Manager -->\n",
       "    \n",
       "    <link type=\"text/css\" rel=\"stylesheet\" href=\"//lgcxydabfbch3774324.cdn.ntruss.com/KBO_IMAGE/KBOHome/resources/min/css/common_old.min.css?version=20221028\"/>\n",
       "    <link rel=\"stylesheet\" type=\"text/css\" href=\"//lgcxydabfbch3774324.cdn.ntruss.com/KBO_IMAGE/KBOHome/resources/min/css/sub.min.css?version=20221028\" />\n",
       "    \n",
       "\t<link type=\"text/css\" rel=\"stylesheet\" href=\"//lgcxydabfbch3774324.cdn.ntruss.com/KBO_IMAGE/KBOHome/resources/min/css/Record.min.css?version=20221028\"/>\n",
       "    \n",
       "\n",
       "\n",
       "</head>\n",
       "<body>\n",
       "\t<!-- Google Tag Manager (noscript) -->\n",
       "\t<noscript><iframe src=\"https://www.googletagmanager.com/ns.html?id=GTM-K3BL64Q\"\n",
       "\theight=\"0\" width=\"0\" style=\"display:none;visibility:hidden\"></iframe></noscript>\n",
       "\t<!-- End Google Tag Manager (noscript) -->\n",
       "    <form method=\"post\" action=\"./BasicOld.aspx?sort=HRA_RT\" id=\"mainForm\">\n",
       "<input type=\"hidden\" name=\"__VIEWSTATE\" id=\"__VIEWSTATE\" value=\"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\" />\n",
       "\n",
       "\n",
       "<script src=\"/ScriptResource.axd?d=eLqvTZrSDFtYbPijNtyjIT6CVEgjpBaYOXOadsXTlFHYXIHUwPYcJXQzz3Z7lykZBuXl4A9Xj7n7yBoZ8IStMlsNtFc27j6WGyPVl81XsDWWuDpDofyRThhVLkxWNlX4IqkhRSTznXpsTOu2gxjlxeLlbk_PmW_CInh0qHnCDMiBW3zvAHoQSIWpasgKujn20&amp;t=ffffffffaa493ab8\" type=\"text/javascript\"></script>\n",
       "<script type=\"text/javascript\">\n",
       "//<![CDATA[\n",
       "if (typeof(Sys) === 'undefined') throw new Error('ASP.NET Ajax 클라이언트 쪽 프레임워크를 로드하지 못했습니다.');\n",
       "//]?>\n",
       "\n",
       "<input id=\"__VIEWSTATEGENERATOR\" name=\"__VIEWSTATEGENERATOR\" type=\"hidden\" value=\"33D3A891\"/>\n",
       "<input id=\"__EVENTVALIDATION\" name=\"__EVENTVALIDATION\" type=\"hidden\" value=\"/wEdAETQ2s1LUjWCRafXnkDnKh1URc8CueumcEQeBh7AQ0QcAc3QpZG0WdQHnbTznhJMgoQXkfZ3eKVY/XA1XRpd2PLS+3NCxH5BFzTFUke2Ln5w4XITX9zAm2TulfA6kX9oC3Zn3O4oeuWhd8D/JCvwPZRyuu33LEDngY5uA9l/31FPKNMqdWuWHCxEIT6WjC5HuvRt/amVrfvX7YM5i0+ix+G2bKjNrIRYqQbZn6AzdCTXHj9jkv03RZMFkJ4LlItVG8FScN9cNnpWNx+XMdAdushKGP9T+6q8libABdW3ymnzLsM212rvQh71CUEtS9l04the1ZzMDrSxQi4jdbu/ubE6RtNrahrvsRN/LtkRXTxRLFkD3WWdA4mxMn7E0FNs+2M436KkpxQdo1oGVZc+Q5pyyZ/hCSO2eqGo2L1zgcIbiuDWjROg4UuzsebcGUzhFRIVNXnpoRAKe7SnRZk0WYkr75TX766VQxFIG0fS0oQtFzP/jkB0C2U4vNqpKt05Gk9qAWZlvtYyrShvS7mNj29HD6hf1tpA+XZvfJ3FO1ZyS7pBBhfzacp/t6H5ksqEDQDUUYL4MlmxKZvQlOd7OAp+Ju4KZ2t+H9zhzVxKdwO0FngObrI9pqD6B2iczr4vXyVmZt5/F5xuDeTrjSLHS2kmSWJAJ3sPxSmjawXcICPozS2uAdfWu0dEMbTA/K3CMil70JZQP4cRmMPEXI31TKsn87JdGpNmuYrg+3E4Vq2G5bbjKpl4LwHxHjdrNKBwqC45d4B4y5gubEiB1Q4MTx+MrT/fEQ3jZH33aRa47EJLIJ+za89w8ku4BFmFEPY+w4V/GXCKD8pdrIwhlObcqD5oPYPjpb5fKm2KSAjeocG1WZ6D1cNg0vy8T7QTt8gPNe7mJ/RSsb9+vetvzmrY1c1F65NUI27RCmDIEOwxtbAedn7cTxCCcDkv2WfzZJAhNfE6/Ak60tJL16F8Ap97yEqUFk6d5xL4xAHduU/ideG3+OsLpgzi52LVXF+jMcLJMban/vhRNMZEtg9Kq1/CVsBDmZ68J5R5w5fS4stafQLbTrJ3dFLjO/P6MUq5IOFpN0SEwKwjbwPdTXXJO/W/mw3bqsFs/IePeUpNfvrPNwEedRaFw7KQCRElfNbQHvQRR6I693d4m7eXE/53sQNLu2L0Ky2n2TgZNLW+2kQ3par4KMr0D2va9IJpvqnVTj847pWS6GQCkOcnPZBgnj5a2JUj8Ff0VwiGnNSN/ppZKDQrFl+Tz+DnTneKGCJVYGsB+LyUxDjhysaIDO+sap6cDF5Y5nyYNsqMQst2gd++Fp1r0VeyGVg3Y4Gbh670aESe6iEiBLKd/L+bUCRk2pGIClPRqUK6+mRsdxhnNCA+WG212rY7vOO7Ce+LEVgckbttP880DAoyDOlnWn5hlWrmZQBJTg8F0ZIMrtTFphxBzbdIOXr5LGxqa3eBuW5/aCwhXFFRchTXDzs0fG9LFpwB2kXH\"/>\n",
       "<!-- wrap -->\n",
       "<div id=\"wrap\">\n",
       "<!-- header -->\n",
       "<header>\n",
       "<div class=\"bgf3\" id=\"gnb\">\n",
       "<div class=\"gnb-wrap\">\n",
       "<img alt=\"신한은행\" class=\"sponsor\" src=\"//lgcxydabfbch3774324.cdn.ntruss.com/KBO_IMAGE/KBOHome/resources/images/main/img_shinhan.png\"/>\n",
       "<ul class=\"menu\">\n",
       "<li><a href=\"/Member/Login.aspx\">로그인</a></li>\n",
       "<li><a href=\"/Member/Join/Accessterms.aspx\">회원가입</a></li>\n",
       "<li><a href=\"http://eng.koreabaseball.com/\">ENGLISH</a></li>\n",
       "</ul>\n",
       "<div class=\"search-area\">\n",
       "<div class=\"search-box\">\n",
       "<input class=\"ipt-search\" id=\"txtTopPlayerWord\" placeholder=\"선수 검색하기\" type=\"text\"/>\n",
       "<a class=\"btn-search\" href=\"#none;\" id=\"btnTopPlayerSearch\"><img alt=\"검색\" src=\"//lgcxydabfbch3774324.cdn.ntruss.com/KBO_IMAGE/KBOHome/resources/images/common/btn_search.png\"/></a>\n",
       "</div>\n",
       "<div class=\"search-result\" id=\"player_search_area\">\n",
       "<!-- <p class=\"null\">검색 결과가 없습니다.</p> -->\n",
       "</div>\n",
       "</div>\n",
       "</div>\n",
       "</div>\n",
       "<div class=\"wrapping lnb-wrap\">\n",
       "<h1 class=\"logo\"><a href=\"/Default.aspx\"><img alt=\"\" src=\"//lgcxydabfbch3774324.cdn.ntruss.com/KBO_IMAGE/KBOHome/resources/images/common/h1_logo.png\"/></a></h1>\n",
       "<nav>\n",
       "<ul id=\"lnb\">\n",
       "<li>\n",
       "<a href=\"/Schedule/GameCenter/Main.aspx\">일정/결과</a>\n",
       "<div class=\"lnb-sub\">\n",
       "<ul class=\"lnb01\">\n",
       "<li><a href=\"/Schedule/GameCenter/Main.aspx\">게임센터</a></li>\n",
       "<li><a href=\"/Schedule/ScoreBoard.aspx\">스코어보드</a></li>\n",
       "<li><a href=\"/Schedule/Schedule.aspx\">경기일정/결과</a></li>\n",
       "<li><a href=\"/Schedule/Calendar.aspx\">월별일정/결과</a></li>\n",
       "<li><a href=\"/Schedule/International/AsianGames/Main2022.aspx\">국제대회</a></li>\n",
       "<li><a href=\"/Schedule/Allstar/Game/Main2022.aspx\">KBO 올스타전</a></li>\n",
       "<li><a href=\"/Schedule/Weather.aspx\">야구장 날씨</a></li>\n",
       "</ul>\n",
       "</div>\n",
       "</li>\n",
       "<li>\n",
       "<a href=\"/TeamRank/TeamRank.aspx\">순위</a>\n",
       "<div class=\"lnb-sub\">\n",
       "<ul class=\"lnb02\">\n",
       "<li><a href=\"/TeamRank/TeamRank.aspx\">팀순위</a></li>\n",
       "<li><a href=\"/TeamRank/GraphDaily.aspx\">팀별 순위변동 그래프</a></li>\n",
       "</ul>\n",
       "</div>\n",
       "</li>\n",
       "<li>\n",
       "<a href=\"/Record/Main.aspx\">기록</a>\n",
       "<div class=\"lnb-sub\">\n",
       "<ul class=\"lnb03\">\n",
       "<li><a href=\"/Record/Main.aspx\">TOP5</a></li>\n",
       "<li><a href=\"/Record/Ranking/Week.aspx\">주간/월간 랭킹</a></li>\n",
       "<li><a href=\"/Record/Player/HitterBasic/Basic1.aspx\">기록실</a></li>\n",
       "<li><a href=\"/Record/Etc/HitVsPit.aspx\">투수 vs 타자</a></li>\n",
       "<li><a href=\"/Record/History/Top/Hitter.aspx\">역대기록실</a></li>\n",
       "<li><a href=\"/Record/Expectation/WeekList.aspx\">주간/일간 예상 달성기록</a></li>\n",
       "<li><a href=\"/Record/RecordCorrect/RecordCorrect.aspx\">기록 정정 현황</a></li>\n",
       "</ul>\n",
       "</div>\n",
       "</li>\n",
       "<li>\n",
       "<a href=\"/Player/Search.aspx\">선수</a>\n",
       "<div class=\"lnb-sub\">\n",
       "<ul class=\"lnb04\">\n",
       "<li><a href=\"/Player/Search.aspx\">선수조회</a></li>\n",
       "<li><a href=\"/Player/Register.aspx\">선수등록현황</a></li>\n",
       "<li><a href=\"/Player/RegisterAll.aspx\">전체등록현황</a></li>\n",
       "<li><a href=\"/Player/CareerCertificate.aspx\">경력증명서 신청</a></li>\n",
       "<li><a href=\"/Player/Trade.aspx\">선수이동현황</a></li>\n",
       "<li style=\"font-size:13px;\"><a href=\"https://draft.koreabaseball.com/\" target=\"_blank\">신인 지명 참가 신청</a></li>\n",
       "</ul>\n",
       "</div>\n",
       "</li>\n",
       "<li class=\"\">\n",
       "<a href=\"/News/BreakingNews/List.aspx\">NEWS</a>\n",
       "<div class=\"lnb-sub\">\n",
       "<ul class=\"lnb05\">\n",
       "<li><a href=\"/News/BreakingNews/List.aspx\">NEWS</a></li>\n",
       "<li><a href=\"/News/NewsLetter/List.aspx\">KBO 뉴스레터</a></li>\n",
       "<li><a href=\"/News/Notice/List.aspx\">KBO 보도자료</a></li>\n",
       "</ul>\n",
       "</div>\n",
       "</li>\n",
       "<li>\n",
       "<a href=\"javascript:;\">KBO</a>\n",
       "<div class=\"lnb-sub lnb-style-all\">\n",
       "<div class=\"wrapping lnb-all-wrap\">\n",
       "<h3>KBO</h3>\n",
       "<div class=\"lnb-all kbo01\">\n",
       "<h4>HISTORY</h4>\n",
       "<ul>\n",
       "<li><a href=\"/History/Crowd/GraphTeam.aspx\">관중현황</a></li>\n",
       "<li><a href=\"/History/Etc/PlayerPrize.aspx\">역대 개인수상</a></li>\n",
       "<li><a href=\"/History/Etc/GoldenGlove.aspx\">역대 골든글러브</a></li>\n",
       "<li><a href=\"/History/Etc/GameManage.aspx\">경기운영제도</a></li>\n",
       "<li><a href=\"/History/Etc/TeamHistory.aspx\">각 구단 변천사</a></li>\n",
       "</ul>\n",
       "</div>\n",
       "<div class=\"lnb-all kbo02\">\n",
       "<h4>KBO TV</h4>\n",
       "<ul>\n",
       "<li><a href=\"/KboTv/Highlight/List.aspx\">하이라이트</a></li>\n",
       "<li><a href=\"/KboTv/WeeklyLineUp/List.aspx\">위클리 베스트 라인업</a></li>\n",
       "<li><a href=\"/KboTv/MonthMvp/List.aspx\">월간MVP</a></li>\n",
       "<li><a href=\"/KboTv/Legend/List.aspx\">레전드 올스타 동영상</a></li>\n",
       "<li><a href=\"/KboTv/Event/List.aspx\">KBO 공식 영상</a></li>\n",
       "<li><a href=\"/KboTv/VeteranInterview/List.aspx\">야구 원로 인터뷰</a></li>\n",
       "</ul>\n",
       "</div>\n",
       "<div class=\"lnb-all kbo03\">\n",
       "<h4>게시판</h4>\n",
       "<ul>\n",
       "<li><a href=\"/Board/Notice/List.aspx\">NOTICE</a></li>\n",
       "<li><a href=\"/Board/Faqs/List.aspx\">자주하는질문</a></li>\n",
       "<li><a href=\"/Board/UnivMarketer/VideoList.aspx\">대학생 마케터</a></li>\n",
       "<li class=\"lnbDraft\"><a href=\"/Event/Etc/Draft.aspx\">신인 드래프트</a></li>\n",
       "</ul>\n",
       "</div>\n",
       "<div class=\"lnb-all kbo04\">\n",
       "<h4>자료실</h4>\n",
       "<ul>\n",
       "<li><a href=\"/Reference/Ebook/EbookPublication.aspx\">E-BOOK</a></li>\n",
       "<li><a href=\"/Reference/OnlineLecture/List.aspx\">초급자용 사이버야구교실</a></li>\n",
       "<li><a href=\"/Reference/Etc/GameRule.aspx\">경기규칙</a></li>\n",
       "</ul>\n",
       "</div>\n",
       "<div class=\"lnb-all kbo05\">\n",
       "<h4>ABOUT KBO</h4>\n",
       "<ul>\n",
       "<li><a href=\"/About/Etc/TeamInfo.aspx\">구단 소개</a></li>\n",
       "<li><a href=\"/About/Group/Activity.aspx\">조직 및 활동</a></li>\n",
       "<li><a href=\"/About/Logo/Logo.aspx\">KBO 로고</a></li>\n",
       "<li><a href=\"/About/Etc/Map.aspx\">약도 / 관람료</a></li>\n",
       "<li><a href=\"/About/Committee/OrganizationChart.aspx\">기록위원회</a></li>\n",
       "<li><a href=\"http://www.cleankbo.com/\" target=\"_blank\">클린베이스볼센터</a></li>\n",
       "</ul>\n",
       "</div>\n",
       "<div class=\"lnb-all kbo06\">\n",
       "<h4>주요 사업/행사</h4>\n",
       "<ul>\n",
       "<li><a href=\"/Event/Etc/TimeLine.aspx\">KBO 타임라인</a></li>\n",
       "<li><a href=\"/Event/Contribution/Service2019.aspx\">KBO 사회공헌</a></li>\n",
       "<li><a href=\"/Event/RecordClass/Professional.aspx\">기록강습회</a></li>\n",
       "<li><a href=\"/Event/WinterMeeting/WinterMeeting2019.aspx\">KBO 윈터미팅</a></li> <!-- 20180417 KBO 요청 임시삭제 -->\n",
       "<li><a href=\"/Event/Etc/SafeGuide.aspx\">KBO 경기장 안전정책</a></li>\n",
       "<li><a href=\"/Event/Etc/SaveSacrifice.aspx\">Save &amp; Sacrifice</a></li>\n",
       "</ul>\n",
       "</div>\n",
       "</div>\n",
       "</div>\n",
       "</li>\n",
       "<li class=\"futures\">\n",
       "<a href=\"/Futures/Main.aspx\">퓨처스리그</a>\n",
       "</li>\n",
       "<li class=\"market\" id=\"market\"><a href=\"https://www.kbomarket.com/\" target=\"_blank\">KBO 마켓</a></li>\n",
       "<li class=\"anniversary\" id=\"anniversary\"><a href=\"/Anniversary/Legend40.aspx\">레전드 40</a></li>\n",
       "<li id=\"lnbAll\">\n",
       "<a href=\"javascript:;\">전체 메뉴</a>\n",
       "<div class=\"lnb-sub lnb-style-all\">\n",
       "<div class=\"wrapping lnb-all-wrap\">\n",
       "<div class=\"line line01\">\n",
       "<h3>전체 메뉴</h3>\n",
       "<div class=\"lnb-all menu01\">\n",
       "<h4>일정/결과</h4>\n",
       "<ul>\n",
       "<li><a href=\"/Schedule/GameCenter/Main.aspx\">게임센터</a></li>\n",
       "<li><a href=\"/Schedule/ScoreBoard.aspx\">스코어보드</a></li>\n",
       "<li><a href=\"/Schedule/Schedule.aspx\">경기일정/결과</a></li>\n",
       "<li><a href=\"/Schedule/Calendar.aspx\">월별일정/결과</a></li>\n",
       "<li><a href=\"/Schedule/International/AsianGames/Main2022.aspx\">국제대회</a></li>\n",
       "<li><a href=\"/Schedule/Allstar/Game/Main2022.aspx\">KBO 올스타전</a></li>\n",
       "<li><a href=\"/Schedule/Weather.aspx\">야구장 날씨</a></li>\n",
       "</ul>\n",
       "</div>\n",
       "<div class=\"lnb-all menu02\">\n",
       "<h4>순위</h4>\n",
       "<ul>\n",
       "<li><a href=\"/TeamRank/TeamRank.aspx\">팀순위</a></li>\n",
       "<li><a href=\"/TeamRank/GraphDaily.aspx\">팀별 순위변동 그래프</a></li>\n",
       "</ul>\n",
       "</div>\n",
       "<div class=\"lnb-all menu03\">\n",
       "<h4>기록</h4>\n",
       "<ul>\n",
       "<li><a href=\"/Record/Main.aspx\">TOP5</a></li>\n",
       "<li><a href=\"/Record/Ranking/Week.aspx\">주간/월간 랭킹</a></li>\n",
       "<li><a href=\"/Record/Player/HitterBasic/Basic1.aspx\">기록실</a></li>\n",
       "<li><a href=\"/Record/Etc/HitVsPit.aspx\">투수 vs 타자</a></li>\n",
       "<li><a href=\"/Record/History/Top/Hitter.aspx\">역대기록실</a></li>\n",
       "<li class=\"menu0305\"><a href=\"/Record/Expectation/WeekList.aspx\">주간/일간 예상 달성기록</a></li>\n",
       "<li><a href=\"/Record/RecordCorrect/RecordCorrect.aspx\">기록 정정 현황</a></li>\n",
       "</ul>\n",
       "</div>\n",
       "<div class=\"lnb-all menu04\">\n",
       "<h4>선수</h4>\n",
       "<ul>\n",
       "<li><a href=\"/Player/Search.aspx\">선수조회</a></li>\n",
       "<li><a href=\"/Player/Register.aspx\">선수등록현황</a></li>\n",
       "<li><a href=\"/Player/RegisterAll.aspx\">전체등록현황</a></li>\n",
       "<li><a href=\"/Player/CareerCertificate.aspx\">경력증명서 신청</a></li>\n",
       "<li><a href=\"/Player/Trade.aspx\">선수이동현황</a></li>\n",
       "<li><a href=\"https://draft.koreabaseball.com/\" target=\"_blank\">신인 지명 참가 신청</a></li>\n",
       "</ul>\n",
       "</div>\n",
       "<div class=\"lnb-all menu05\">\n",
       "<h4>퓨처스리그</h4>\n",
       "<ul>\n",
       "<li><a href=\"/Futures/Schedule/GameList.aspx\">경기일정/결과</a></li>\n",
       "<li><a href=\"/Futures/TeamRank/North.aspx\">팀순위</a></li>\n",
       "<li><a href=\"/Futures/Top/Main.aspx\">TOP5</a></li>\n",
       "<li><a href=\"/Futures/Player/Hitter.aspx\">기록실</a></li>\n",
       "<li><a href=\"/Futures/Player/Register.aspx\">선수등록현황</a></li>\n",
       "</ul>\n",
       "</div>\n",
       "<div class=\"lnb-all menu06\">\n",
       "<h4>NEWS</h4>\n",
       "<ul>\n",
       "<li><a href=\"/News/BreakingNews/List.aspx\">NEWS</a></li>\n",
       "<li><a href=\"/News/NewsLetter/List.aspx\">KBO 뉴스레터</a></li>\n",
       "<li><a href=\"/News/Notice/List.aspx\">KBO 보도자료</a></li>\n",
       "</ul>\n",
       "</div>\n",
       "</div>\n",
       "<div class=\"line line02\">\n",
       "<h3>KBO</h3>\n",
       "<div class=\"lnb-all menu07\">\n",
       "<h4>HISTORY</h4>\n",
       "<ul>\n",
       "<li><a href=\"/History/Crowd/GraphTeam.aspx\">관중현황</a></li>\n",
       "<li><a href=\"/History/Etc/PlayerPrize.aspx\">역대 개인수상</a></li>\n",
       "<li><a href=\"/History/Etc/GoldenGlove.aspx\">역대 골든글러브</a></li>\n",
       "<li><a href=\"/History/Etc/GameManage.aspx\">경기운영제도</a></li>\n",
       "<li><a href=\"/History/Etc/TeamHistory.aspx\">각 구단 변천사</a></li>\n",
       "</ul>\n",
       "</div>\n",
       "<div class=\"lnb-all menu08\">\n",
       "<h4>KBO TV</h4>\n",
       "<ul>\n",
       "<li><a href=\"/KboTv/Highlight/List.aspx\">하이라이트</a></li>\n",
       "<li><a href=\"/KboTv/WeeklyLineUp/List.aspx\">위클리 베스트 라인업</a></li>\n",
       "</ul>\n",
       "</div>\n",
       "<div class=\"lnb-all menu09\">\n",
       "<h4>게시판</h4>\n",
       "<ul>\n",
       "<li><a href=\"/Board/Notice/List.aspx\">NOTICE</a></li>\n",
       "<li><a href=\"/Board/Faqs/List.aspx\">자주하는질문</a></li>\n",
       "<li><a href=\"/Board/UnivMarketer/VideoList.aspx\">대학생 마케터</a></li>\n",
       "<li class=\"lnbDraft\"><a href=\"/Event/Etc/Draft.aspx\">신인 드래프트</a></li>\n",
       "</ul>\n",
       "</div>\n",
       "<div class=\"lnb-all menu10\">\n",
       "<h4>자료실</h4>\n",
       "<ul>\n",
       "<li><a href=\"/Reference/Ebook/EbookPublication.aspx\">E-BOOK</a></li>\n",
       "<li><a href=\"/Reference/OnlineLecture/List.aspx\">초급자용 사이버야구교실</a></li>\n",
       "<li><a href=\"/Reference/Etc/GameRule.aspx\">경기규칙</a></li>\n",
       "</ul>\n",
       "</div>\n",
       "<div class=\"lnb-all menu11\">\n",
       "<h4>ABOUT KBO</h4>\n",
       "<ul>\n",
       "<li><a href=\"/About/Etc/TeamInfo.aspx\">구단 소개</a></li>\n",
       "<li><a href=\"/About/Group/Activity.aspx\">조직 및 활동</a></li>\n",
       "<li><a href=\"/About/Logo/Logo.aspx\">KBO 로고</a></li>\n",
       "<li><a href=\"/About/Etc/Map.aspx\">약도 / 관람료</a></li>\n",
       "<li><a href=\"/About/Committee/OrganizationChart.aspx\">기록위원회</a></li>\n",
       "<li><a href=\"http://www.cleankbo.com/\" target=\"_blank\">클린베이스볼센터</a></li>\n",
       "</ul>\n",
       "</div>\n",
       "<div class=\"lnb-all menu12\">\n",
       "<h4>주요 사업/행사</h4>\n",
       "<ul>\n",
       "<li><a href=\"/Event/Etc/TimeLine.aspx\">KBO 타임라인</a></li>\n",
       "<li><a href=\"/Event/Contribution/Service2019.aspx\">KBO 사회공헌</a></li>\n",
       "<li><a href=\"/Event/RecordClass/Professional.aspx\">기록강습회</a></li>\n",
       "<li><a href=\"/Event/WinterMeeting/WinterMeeting2019.aspx\">KBO 윈터미팅</a></li> <!-- 20180417 KBO 요청 임시삭제 -->\n",
       "<li><a href=\"/Event/Etc/SafeGuide.aspx\">KBO 경기장 안전정책</a></li>\n",
       "</ul>\n",
       "</div>\n",
       "</div>\n",
       "</div>\n",
       "<div class=\"btn-close\">\n",
       "<a href=\"javascript:;\">\n",
       "<img alt=\"\" src=\"//lgcxydabfbch3774324.cdn.ntruss.com/KBO_IMAGE/KBOHome/resources/images/common/btn_close_fff.png\"/>\n",
       "<span>닫기</span>\n",
       "</a>\n",
       "</div>\n",
       "</div>\n",
       "</li>\n",
       "</ul>\n",
       "</nav>\n",
       "</div>\n",
       "</header>\n",
       "<!-- // header -->\n",
       "<hr/>\n",
       "<!-- container -->\n",
       "<section id=\"container\">\n",
       "<div class=\"wrapping container-wrap\">\n",
       "<aside>\n",
       "<h3>기록</h3>\n",
       "<ul id=\"snb\">\n",
       "<li><a href=\"/Record/Main.aspx\" id=\"lnb01\">TOP5</a></li>\n",
       "<li><a href=\"/Record/Ranking/Week.aspx\" id=\"lnb06\">주간/월간 랭킹</a></li>\n",
       "<li><a href=\"/Record/Player/HitterBasic/Basic1.aspx\" id=\"lnb02\">기록실</a></li>\n",
       "<li><a href=\"/Record/Etc/HitVsPit.aspx\" id=\"lnb03\">투수 vs 타자</a></li>\n",
       "<li><a href=\"/Record/History/Top/Hitter.aspx\" id=\"lnb04\">역대기록실</a></li>\n",
       "<li><a href=\"/Record/Expectation/WeekList.aspx\" id=\"lnb05\">주간/일간 예상 달성기록</a></li>\n",
       "<li><a href=\"/Record/RecordCorrect/RecordCorrect.aspx\" id=\"lnb07\">기록 정정 현황</a></li>\n",
       "</ul>\n",
       "</aside>\n",
       "<div id=\"contents\">\n",
       "<!--sub title & location -->\n",
       "<div class=\"location\">\n",
       "<span class=\"home\"><a href=\"/Default.aspx\"><img alt=\"홈으로\" src=\"//lgcxydabfbch3774324.cdn.ntruss.com/KBO_IMAGE/KBOHome/resources/images/common/ico_home.gif\"/></a></span> &gt;\n",
       "\t\t<span class=\"depth1\"><a href=\"/Record/Main.aspx\">기록</a></span> &gt;\n",
       "\t\t<span class=\"depth2\">기록실</span>\n",
       "</div>\n",
       "<h4 class=\"tit-page\">기록실</h4>\n",
       "<!-- // sub title & location -->\n",
       "<div class=\"sub-content\">\n",
       "<div class=\"tab-depth1\">\n",
       "<ul class=\"tab\">\n",
       "<li class=\"on\"><a href=\"/Record/Player/HitterBasic/BasicOld.aspx\">선수기록</a></li>\n",
       "<li><a href=\"/Record/Team/Hitter/BasicOld.aspx\">팀기록</a></li>\n",
       "</ul>\n",
       "<span class=\"record_words\"><a href=\"#\"><img alt=\"기록용어\" src=\"//lgcxydabfbch3774324.cdn.ntruss.com/KBO_IMAGE/KBOHome/resources/images/record/btn_record_words.png\"/></a></span>\n",
       "<div class=\"words\" id=\"words\">\n",
       "</div>\n",
       "</div>\n",
       "<div class=\"tab-depth2\">\n",
       "<ul class=\"tab\">\n",
       "<li class=\"on\"> <a href=\"/Record/Player/HitterBasic/BasicOld.aspx\">타자</a></li>\n",
       "<li> <a href=\"/Record/Player/PitcherBasic/BasicOld.aspx\">투수</a></li>\n",
       "<li> <a href=\"/Record/Player/Defense/Basic.aspx\">수비</a></li>\n",
       "<li class=\"last\"> <a href=\"/Record/Player/Runner/Basic.aspx\">주루</a></li>\n",
       "</ul>\n",
       "</div>\n",
       "<div id=\"cphContents_cphContents_cphContents_udpContent\">\n",
       "<div class=\"compare mt25\">\n",
       "<div class=\"styled-select02 mt5 bar01\">\n",
       "<select class=\"select03\" id=\"cphContents_cphContents_cphContents_ddlSeason_ddlSeason\" name=\"ctl00$ctl00$ctl00$cphContents$cphContents$cphContents$ddlSeason$ddlSeason\">\n",
       "<option value=\"1982\">1982</option>\n",
       "<option value=\"1983\">1983</option>\n",
       "<option value=\"1984\">1984</option>\n",
       "<option value=\"1985\">1985</option>\n",
       "<option value=\"1986\">1986</option>\n",
       "<option value=\"1987\">1987</option>\n",
       "<option value=\"1988\">1988</option>\n",
       "<option value=\"1989\">1989</option>\n",
       "<option value=\"1990\">1990</option>\n",
       "<option value=\"1991\">1991</option>\n",
       "<option value=\"1992\">1992</option>\n",
       "<option value=\"1993\">1993</option>\n",
       "<option value=\"1994\">1994</option>\n",
       "<option value=\"1995\">1995</option>\n",
       "<option value=\"1996\">1996</option>\n",
       "<option value=\"1997\">1997</option>\n",
       "<option value=\"1998\">1998</option>\n",
       "<option value=\"1999\">1999</option>\n",
       "<option value=\"2000\">2000</option>\n",
       "<option value=\"2001\">2001</option>\n",
       "<option value=\"2002\">2002</option>\n",
       "<option value=\"2003\">2003</option>\n",
       "<option value=\"2004\">2004</option>\n",
       "<option value=\"2005\">2005</option>\n",
       "<option value=\"2006\">2006</option>\n",
       "<option value=\"2007\">2007</option>\n",
       "<option value=\"2008\">2008</option>\n",
       "<option value=\"2009\">2009</option>\n",
       "<option value=\"2010\">2010</option>\n",
       "<option value=\"2011\">2011</option>\n",
       "<option value=\"2012\">2012</option>\n",
       "<option value=\"2013\">2013</option>\n",
       "<option value=\"2014\">2014</option>\n",
       "<option value=\"2015\">2015</option>\n",
       "<option value=\"2016\">2016</option>\n",
       "<option value=\"2017\">2017</option>\n",
       "<option value=\"2018\">2018</option>\n",
       "<option value=\"2019\">2019</option>\n",
       "<option value=\"2020\">2020</option>\n",
       "<option value=\"2021\">2021</option>\n",
       "<option selected=\"selected\" value=\"2022\">2022</option>\n",
       "</select>\n",
       "</div>\n",
       "<span class=\"bar\">|</span>\n",
       "<div class=\"styled-select03 mt5\" style=\"width:130px\">\n",
       "<select class=\"select02\" id=\"cphContents_cphContents_cphContents_ddlSeries_ddlSeries\" name=\"ctl00$ctl00$ctl00$cphContents$cphContents$cphContents$ddlSeries$ddlSeries\">\n",
       "<option value=\"0\">KBO 정규시즌</option>\n",
       "<option value=\"1\">KBO 시범경기</option>\n",
       "<option value=\"4\">KBO 와일드카드</option>\n",
       "<option value=\"3\">KBO 준플레이오프</option>\n",
       "<option value=\"5\">KBO 플레이오프</option>\n",
       "<option selected=\"selected\" value=\"7\">KBO 한국시리즈</option>\n",
       "</select>\n",
       "</div>\n",
       "<div class=\"styled-select03 mt5\">\n",
       "<select class=\"select02\" id=\"cphContents_cphContents_cphContents_ddlTeam_ddlTeam\" name=\"ctl00$ctl00$ctl00$cphContents$cphContents$cphContents$ddlTeam$ddlTeam\">\n",
       "<option selected=\"selected\" value=\"\">팀 선택</option>\n",
       "<option value=\"OB\">두산</option>\n",
       "<option value=\"LT\">롯데</option>\n",
       "<option value=\"SS\">삼성</option>\n",
       "<option value=\"WO\">키움</option>\n",
       "<option value=\"HH\">한화</option>\n",
       "<option value=\"HT\">KIA</option>\n",
       "<option value=\"KT\">KT</option>\n",
       "<option value=\"LG\">LG</option>\n",
       "<option value=\"NC\">NC</option>\n",
       "<option value=\"SK\">SSG</option>\n",
       "</select>\n",
       "</div>\n",
       "<div class=\"styled-select03 mt5\">\n",
       "<select class=\"select02\" id=\"cphContents_cphContents_cphContents_ddlPos_ddlPos\" name=\"ctl00$ctl00$ctl00$cphContents$cphContents$cphContents$ddlPos$ddlPos\">\n",
       "<option selected=\"selected\" value=\"\">포지션 선택</option>\n",
       "<option value=\"2\">포수</option>\n",
       "<option value=\"3,4,5,6\">내야수</option>\n",
       "<option value=\"7,8,9\">외야수</option>\n",
       "</select>\n",
       "</div>\n",
       "</div>\n",
       "<h4 class=\"bul_history mt30\"> 타자기록</h4>\n",
       "<div class=\"record_result\">\n",
       "<table cellpadding=\"0\" cellspacing=\"0\" class=\"tData01 tt\" summary=\"선수 기본기록으로 타율,경기,타수,2루타,3루타,홈런,타율,도루허용,도루저지,볼넷,사구,삼진 등을 나타냅니다\">\n",
       "<thead>\n",
       "<tr>\n",
       "<th>순위</th>\n",
       "<th>선수명</th>\n",
       "<th>팀명</th>\n",
       "<th><a href=\"javascript:sort('HRA_RT');\" onmouseenter=\"tooltip(this)\" onmouseout=\"hideTip()\" title=\"타율\">AVG</a></th>\n",
       "<th><a href=\"javascript:sort('GAME_CN');\" onmouseenter=\"tooltip(this)\" onmouseout=\"hideTip()\" title=\"경기\">G</a></th>\n",
       "<th><a href=\"javascript:sort('PA_CN');\" onmouseenter=\"tooltip(this)\" onmouseout=\"hideTip()\" title=\"타석\">PA</a></th>\n",
       "<th><a href=\"javascript:sort('AB_CN');\" onmouseenter=\"tooltip(this)\" onmouseout=\"hideTip()\" title=\"타수\">AB</a></th>\n",
       "<th><a href=\"javascript:sort('HIT_CN');\" onmouseenter=\"tooltip(this)\" onmouseout=\"hideTip()\" title=\"안타\">H</a></th>\n",
       "<th><a href=\"javascript:sort('H2_CN');\" onmouseenter=\"tooltip(this)\" onmouseout=\"hideTip()\" title=\"2루타\">2B</a></th>\n",
       "<th><a href=\"javascript:sort('H3_CN');\" onmouseenter=\"tooltip(this)\" onmouseout=\"hideTip()\" title=\"3루타\">3B</a></th>\n",
       "<th><a href=\"javascript:sort('HR_CN');\" onmouseenter=\"tooltip(this)\" onmouseout=\"hideTip()\" title=\"홈런\">HR</a></th>\n",
       "<th><a href=\"javascript:sort('RBI_CN');\" onmouseenter=\"tooltip(this)\" onmouseout=\"hideTip()\" title=\"타점\">RBI</a></th>\n",
       "<th><a href=\"javascript:sort('SB_CN');\" onmouseenter=\"tooltip(this)\" onmouseout=\"hideTip()\" title=\"도루\">SB</a></th>\n",
       "<th><a href=\"javascript:sort('CS_CN');\" onmouseenter=\"tooltip(this)\" onmouseout=\"hideTip()\" title=\"도루실패\">CS</a></th>\n",
       "<th><a href=\"javascript:sort('BB_CN');\" onmouseenter=\"tooltip(this)\" onmouseout=\"hideTip()\" title=\"볼넷\">BB</a></th>\n",
       "<th><a href=\"javascript:sort('HP_CN');\" onmouseenter=\"tooltip(this)\" onmouseout=\"hideTip()\" title=\"사구\">HBP</a></th>\n",
       "<th><a href=\"javascript:sort('KK_CN');\" onmouseenter=\"tooltip(this)\" onmouseout=\"hideTip()\" title=\"삼진\">SO</a></th>\n",
       "<th><a href=\"javascript:sort('GD_CN');\" onmouseenter=\"tooltip(this)\" onmouseout=\"hideTip()\" title=\"병살타\">GDP</a></th>\n",
       "<th><a href=\"javascript:sort('ERR_CN');\" onmouseenter=\"tooltip(this)\" onmouseout=\"hideTip()\" title=\"실책\">E</a></th>\n",
       "</tr>\n",
       "</thead>\n",
       "<tbody>\n",
       "<tr>\n",
       "<td>1</td>\n",
       "<td><a href=\"/Record/Player/HitterDetail/Basic.aspx?playerId=75847\">최정</a></td>\n",
       "<td>SSG</td>\n",
       "<td data-id=\"HRA_RT\">0.571</td>\n",
       "<td data-id=\"GAME_CN\">4</td>\n",
       "<td data-id=\"PA_CN\">19</td>\n",
       "<td data-id=\"AB_CN\">14</td>\n",
       "<td data-id=\"HIT_CN\">8</td>\n",
       "<td data-id=\"H2_CN\">1</td>\n",
       "<td data-id=\"H3_CN\">0</td>\n",
       "<td data-id=\"HR_CN\">1</td>\n",
       "<td data-id=\"RBI_CN\">7</td>\n",
       "<td data-id=\"SB_CN\">1</td>\n",
       "<td data-id=\"CS_CN\">1</td>\n",
       "<td data-id=\"BB_CN\">5</td>\n",
       "<td data-id=\"HP_CN\">0</td>\n",
       "<td data-id=\"KK_CN\">1</td>\n",
       "<td data-id=\"GD_CN\">0</td>\n",
       "<td data-id=\"ERR_CN\">0</td>\n",
       "</tr>\n",
       "<tr>\n",
       "<td>2</td>\n",
       "<td><a href=\"/Record/Player/HitterDetail/Basic.aspx?playerId=79456\">이지영</a></td>\n",
       "<td>키움</td>\n",
       "<td data-id=\"HRA_RT\">0.500</td>\n",
       "<td data-id=\"GAME_CN\">4</td>\n",
       "<td data-id=\"PA_CN\">17</td>\n",
       "<td data-id=\"AB_CN\">10</td>\n",
       "<td data-id=\"HIT_CN\">5</td>\n",
       "<td data-id=\"H2_CN\">0</td>\n",
       "<td data-id=\"H3_CN\">0</td>\n",
       "<td data-id=\"HR_CN\">0</td>\n",
       "<td data-id=\"RBI_CN\">2</td>\n",
       "<td data-id=\"SB_CN\">0</td>\n",
       "<td data-id=\"CS_CN\">0</td>\n",
       "<td data-id=\"BB_CN\">5</td>\n",
       "<td data-id=\"HP_CN\">0</td>\n",
       "<td data-id=\"KK_CN\">1</td>\n",
       "<td data-id=\"GD_CN\">0</td>\n",
       "<td data-id=\"ERR_CN\">0</td>\n",
       "</tr>\n",
       "<tr>\n",
       "<td>3</td>\n",
       "<td><a href=\"/Record/Player/HitterDetail/Basic.aspx?playerId=65357\">송성문</a></td>\n",
       "<td>키움</td>\n",
       "<td data-id=\"HRA_RT\">0.467</td>\n",
       "<td data-id=\"GAME_CN\">4</td>\n",
       "<td data-id=\"PA_CN\">16</td>\n",
       "<td data-id=\"AB_CN\">15</td>\n",
       "<td data-id=\"HIT_CN\">7</td>\n",
       "<td data-id=\"H2_CN\">3</td>\n",
       "<td data-id=\"H3_CN\">0</td>\n",
       "<td data-id=\"HR_CN\">0</td>\n",
       "<td data-id=\"RBI_CN\">2</td>\n",
       "<td data-id=\"SB_CN\">0</td>\n",
       "<td data-id=\"CS_CN\">0</td>\n",
       "<td data-id=\"BB_CN\">1</td>\n",
       "<td data-id=\"HP_CN\">0</td>\n",
       "<td data-id=\"KK_CN\">1</td>\n",
       "<td data-id=\"GD_CN\">0</td>\n",
       "<td data-id=\"ERR_CN\">0</td>\n",
       "</tr>\n",
       "<tr>\n",
       "<td>4</td>\n",
       "<td><a href=\"/Record/Player/HitterDetail/Basic.aspx?playerId=64984\">김태진</a></td>\n",
       "<td>키움</td>\n",
       "<td data-id=\"HRA_RT\">0.429</td>\n",
       "<td data-id=\"GAME_CN\">4</td>\n",
       "<td data-id=\"PA_CN\">17</td>\n",
       "<td data-id=\"AB_CN\">14</td>\n",
       "<td data-id=\"HIT_CN\">6</td>\n",
       "<td data-id=\"H2_CN\">1</td>\n",
       "<td data-id=\"H3_CN\">0</td>\n",
       "<td data-id=\"HR_CN\">0</td>\n",
       "<td data-id=\"RBI_CN\">2</td>\n",
       "<td data-id=\"SB_CN\">0</td>\n",
       "<td data-id=\"CS_CN\">0</td>\n",
       "<td data-id=\"BB_CN\">2</td>\n",
       "<td data-id=\"HP_CN\">0</td>\n",
       "<td data-id=\"KK_CN\">2</td>\n",
       "<td data-id=\"GD_CN\">0</td>\n",
       "<td data-id=\"ERR_CN\">0</td>\n",
       "</tr>\n",
       "<tr>\n",
       "<td>5</td>\n",
       "<td><a href=\"/Record/Player/HitterDetail/Basic.aspx?playerId=76802\">김성현</a></td>\n",
       "<td>SSG</td>\n",
       "<td data-id=\"HRA_RT\">0.412</td>\n",
       "<td data-id=\"GAME_CN\">4</td>\n",
       "<td data-id=\"PA_CN\">18</td>\n",
       "<td data-id=\"AB_CN\">17</td>\n",
       "<td data-id=\"HIT_CN\">7</td>\n",
       "<td data-id=\"H2_CN\">0</td>\n",
       "<td data-id=\"H3_CN\">0</td>\n",
       "<td data-id=\"HR_CN\">0</td>\n",
       "<td data-id=\"RBI_CN\">2</td>\n",
       "<td data-id=\"SB_CN\">0</td>\n",
       "<td data-id=\"CS_CN\">0</td>\n",
       "<td data-id=\"BB_CN\">1</td>\n",
       "<td data-id=\"HP_CN\">0</td>\n",
       "<td data-id=\"KK_CN\">0</td>\n",
       "<td data-id=\"GD_CN\">1</td>\n",
       "<td data-id=\"ERR_CN\">1</td>\n",
       "</tr>\n",
       "<tr>\n",
       "<td>6</td>\n",
       "<td><a href=\"/Record/Player/HitterDetail/Basic.aspx?playerId=51817\">추신수</a></td>\n",
       "<td>SSG</td>\n",
       "<td data-id=\"HRA_RT\">0.353</td>\n",
       "<td data-id=\"GAME_CN\">4</td>\n",
       "<td data-id=\"PA_CN\">21</td>\n",
       "<td data-id=\"AB_CN\">17</td>\n",
       "<td data-id=\"HIT_CN\">6</td>\n",
       "<td data-id=\"H2_CN\">0</td>\n",
       "<td data-id=\"H3_CN\">0</td>\n",
       "<td data-id=\"HR_CN\">0</td>\n",
       "<td data-id=\"RBI_CN\">0</td>\n",
       "<td data-id=\"SB_CN\">0</td>\n",
       "<td data-id=\"CS_CN\">0</td>\n",
       "<td data-id=\"BB_CN\">4</td>\n",
       "<td data-id=\"HP_CN\">0</td>\n",
       "<td data-id=\"KK_CN\">7</td>\n",
       "<td data-id=\"GD_CN\">0</td>\n",
       "<td data-id=\"ERR_CN\">0</td>\n",
       "</tr>\n",
       "<tr>\n",
       "<td>7</td>\n",
       "<td><a href=\"/Record/Player/HitterDetail/Basic.aspx?playerId=52806\">라가레스</a></td>\n",
       "<td>SSG</td>\n",
       "<td data-id=\"HRA_RT\">0.294</td>\n",
       "<td data-id=\"GAME_CN\">4</td>\n",
       "<td data-id=\"PA_CN\">19</td>\n",
       "<td data-id=\"AB_CN\">17</td>\n",
       "<td data-id=\"HIT_CN\">5</td>\n",
       "<td data-id=\"H2_CN\">0</td>\n",
       "<td data-id=\"H3_CN\">0</td>\n",
       "<td data-id=\"HR_CN\">1</td>\n",
       "<td data-id=\"RBI_CN\">3</td>\n",
       "<td data-id=\"SB_CN\">0</td>\n",
       "<td data-id=\"CS_CN\">0</td>\n",
       "<td data-id=\"BB_CN\">2</td>\n",
       "<td data-id=\"HP_CN\">0</td>\n",
       "<td data-id=\"KK_CN\">2</td>\n",
       "<td data-id=\"GD_CN\">0</td>\n",
       "<td data-id=\"ERR_CN\">0</td>\n",
       "</tr>\n",
       "<tr>\n",
       "<td>8</td>\n",
       "<td><a href=\"/Record/Player/HitterDetail/Basic.aspx?playerId=50854\">최지훈</a></td>\n",
       "<td>SSG</td>\n",
       "<td data-id=\"HRA_RT\">0.267</td>\n",
       "<td data-id=\"GAME_CN\">4</td>\n",
       "<td data-id=\"PA_CN\">16</td>\n",
       "<td data-id=\"AB_CN\">15</td>\n",
       "<td data-id=\"HIT_CN\">4</td>\n",
       "<td data-id=\"H2_CN\">0</td>\n",
       "<td data-id=\"H3_CN\">0</td>\n",
       "<td data-id=\"HR_CN\">1</td>\n",
       "<td data-id=\"RBI_CN\">2</td>\n",
       "<td data-id=\"SB_CN\">1</td>\n",
       "<td data-id=\"CS_CN\">0</td>\n",
       "<td data-id=\"BB_CN\">0</td>\n",
       "<td data-id=\"HP_CN\">0</td>\n",
       "<td data-id=\"KK_CN\">4</td>\n",
       "<td data-id=\"GD_CN\">0</td>\n",
       "<td data-id=\"ERR_CN\">0</td>\n",
       "</tr>\n",
       "<tr>\n",
       "<td>9</td>\n",
       "<td><a href=\"/Record/Player/HitterDetail/Basic.aspx?playerId=52366\">푸이그</a></td>\n",
       "<td>키움</td>\n",
       "<td data-id=\"HRA_RT\">0.250</td>\n",
       "<td data-id=\"GAME_CN\">4</td>\n",
       "<td data-id=\"PA_CN\">17</td>\n",
       "<td data-id=\"AB_CN\">16</td>\n",
       "<td data-id=\"HIT_CN\">4</td>\n",
       "<td data-id=\"H2_CN\">3</td>\n",
       "<td data-id=\"H3_CN\">0</td>\n",
       "<td data-id=\"HR_CN\">0</td>\n",
       "<td data-id=\"RBI_CN\">0</td>\n",
       "<td data-id=\"SB_CN\">0</td>\n",
       "<td data-id=\"CS_CN\">0</td>\n",
       "<td data-id=\"BB_CN\">1</td>\n",
       "<td data-id=\"HP_CN\">0</td>\n",
       "<td data-id=\"KK_CN\">3</td>\n",
       "<td data-id=\"GD_CN\">0</td>\n",
       "<td data-id=\"ERR_CN\">0</td>\n",
       "</tr>\n",
       "<tr>\n",
       "<td>10</td>\n",
       "<td><a href=\"/Record/Player/HitterDetail/Basic.aspx?playerId=67341\">이정후</a></td>\n",
       "<td>키움</td>\n",
       "<td data-id=\"HRA_RT\">0.211</td>\n",
       "<td data-id=\"GAME_CN\">4</td>\n",
       "<td data-id=\"PA_CN\">19</td>\n",
       "<td data-id=\"AB_CN\">19</td>\n",
       "<td data-id=\"HIT_CN\">4</td>\n",
       "<td data-id=\"H2_CN\">1</td>\n",
       "<td data-id=\"H3_CN\">0</td>\n",
       "<td data-id=\"HR_CN\">0</td>\n",
       "<td data-id=\"RBI_CN\">1</td>\n",
       "<td data-id=\"SB_CN\">0</td>\n",
       "<td data-id=\"CS_CN\">0</td>\n",
       "<td data-id=\"BB_CN\">0</td>\n",
       "<td data-id=\"HP_CN\">0</td>\n",
       "<td data-id=\"KK_CN\">1</td>\n",
       "<td data-id=\"GD_CN\">0</td>\n",
       "<td data-id=\"ERR_CN\">0</td>\n",
       "</tr>\n",
       "<tr>\n",
       "<td>11</td>\n",
       "<td><a href=\"/Record/Player/HitterDetail/Basic.aspx?playerId=62895\">한유섬</a></td>\n",
       "<td>SSG</td>\n",
       "<td data-id=\"HRA_RT\">0.200</td>\n",
       "<td data-id=\"GAME_CN\">4</td>\n",
       "<td data-id=\"PA_CN\">19</td>\n",
       "<td data-id=\"AB_CN\">15</td>\n",
       "<td data-id=\"HIT_CN\">3</td>\n",
       "<td data-id=\"H2_CN\">1</td>\n",
       "<td data-id=\"H3_CN\">0</td>\n",
       "<td data-id=\"HR_CN\">1</td>\n",
       "<td data-id=\"RBI_CN\">4</td>\n",
       "<td data-id=\"SB_CN\">0</td>\n",
       "<td data-id=\"CS_CN\">0</td>\n",
       "<td data-id=\"BB_CN\">3</td>\n",
       "<td data-id=\"HP_CN\">1</td>\n",
       "<td data-id=\"KK_CN\">1</td>\n",
       "<td data-id=\"GD_CN\">1</td>\n",
       "<td data-id=\"ERR_CN\">1</td>\n",
       "</tr>\n",
       "<tr>\n",
       "<td>12</td>\n",
       "<td><a href=\"/Record/Player/HitterDetail/Basic.aspx?playerId=67893\">박성한</a></td>\n",
       "<td>SSG</td>\n",
       "<td data-id=\"HRA_RT\">0.176</td>\n",
       "<td data-id=\"GAME_CN\">4</td>\n",
       "<td data-id=\"PA_CN\">19</td>\n",
       "<td data-id=\"AB_CN\">17</td>\n",
       "<td data-id=\"HIT_CN\">3</td>\n",
       "<td data-id=\"H2_CN\">1</td>\n",
       "<td data-id=\"H3_CN\">0</td>\n",
       "<td data-id=\"HR_CN\">0</td>\n",
       "<td data-id=\"RBI_CN\">2</td>\n",
       "<td data-id=\"SB_CN\">0</td>\n",
       "<td data-id=\"CS_CN\">0</td>\n",
       "<td data-id=\"BB_CN\">1</td>\n",
       "<td data-id=\"HP_CN\">0</td>\n",
       "<td data-id=\"KK_CN\">1</td>\n",
       "<td data-id=\"GD_CN\">0</td>\n",
       "<td data-id=\"ERR_CN\">1</td>\n",
       "</tr>\n",
       "<tr>\n",
       "<td>13</td>\n",
       "<td><a href=\"/Record/Player/HitterDetail/Basic.aspx?playerId=67304\">김혜성</a></td>\n",
       "<td>키움</td>\n",
       "<td data-id=\"HRA_RT\">0.071</td>\n",
       "<td data-id=\"GAME_CN\">4</td>\n",
       "<td data-id=\"PA_CN\">14</td>\n",
       "<td data-id=\"AB_CN\">14</td>\n",
       "<td data-id=\"HIT_CN\">1</td>\n",
       "<td data-id=\"H2_CN\">0</td>\n",
       "<td data-id=\"H3_CN\">0</td>\n",
       "<td data-id=\"HR_CN\">0</td>\n",
       "<td data-id=\"RBI_CN\">0</td>\n",
       "<td data-id=\"SB_CN\">0</td>\n",
       "<td data-id=\"CS_CN\">0</td>\n",
       "<td data-id=\"BB_CN\">0</td>\n",
       "<td data-id=\"HP_CN\">0</td>\n",
       "<td data-id=\"KK_CN\">3</td>\n",
       "<td data-id=\"GD_CN\">0</td>\n",
       "<td data-id=\"ERR_CN\">1</td>\n",
       "</tr>\n",
       "<tr>\n",
       "<td>14</td>\n",
       "<td><a href=\"/Record/Player/HitterDetail/Basic.aspx?playerId=63920\">김준완</a></td>\n",
       "<td>키움</td>\n",
       "<td data-id=\"HRA_RT\">0.067</td>\n",
       "<td data-id=\"GAME_CN\">4</td>\n",
       "<td data-id=\"PA_CN\">19</td>\n",
       "<td data-id=\"AB_CN\">15</td>\n",
       "<td data-id=\"HIT_CN\">1</td>\n",
       "<td data-id=\"H2_CN\">0</td>\n",
       "<td data-id=\"H3_CN\">0</td>\n",
       "<td data-id=\"HR_CN\">0</td>\n",
       "<td data-id=\"RBI_CN\">1</td>\n",
       "<td data-id=\"SB_CN\">0</td>\n",
       "<td data-id=\"CS_CN\">0</td>\n",
       "<td data-id=\"BB_CN\">4</td>\n",
       "<td data-id=\"HP_CN\">0</td>\n",
       "<td data-id=\"KK_CN\">6</td>\n",
       "<td data-id=\"GD_CN\">0</td>\n",
       "<td data-id=\"ERR_CN\">0</td>\n",
       "</tr>\n",
       "</tbody>\n",
       "</table>\n",
       "<div class=\"paging\">\n",
       "<a class=\"on\" href=\"javascript:__doPostBack('ctl00$ctl00$ctl00$cphContents$cphContents$cphContents$ucPager$btnNo1','')\" id=\"cphContents_cphContents_cphContents_ucPager_btnNo1\">1</a>\n",
       "</div>\n",
       "<input id=\"cphContents_cphContents_cphContents_hfPage\" name=\"ctl00$ctl00$ctl00$cphContents$cphContents$cphContents$hfPage\" type=\"hidden\" value=\"1\"/>\n",
       "<input id=\"cphContents_cphContents_cphContents_hfOrderByCol\" name=\"ctl00$ctl00$ctl00$cphContents$cphContents$cphContents$hfOrderByCol\" type=\"hidden\" value=\"HRA_RT\"/>\n",
       "<input id=\"cphContents_cphContents_cphContents_hfOrderBy\" name=\"ctl00$ctl00$ctl00$cphContents$cphContents$cphContents$hfOrderBy\" type=\"hidden\" value=\"DESC\"/>\n",
       "<a href=\"javascript:__doPostBack('ctl00$ctl00$ctl00$cphContents$cphContents$cphContents$lbtnOrderBy','')\" id=\"cphContents_cphContents_cphContents_lbtnOrderBy\" style=\"display:none\"></a>\n",
       "</div>\n",
       "</div>\n",
       "</div>\n",
       "</div>\n",
       "</div>\n",
       "</section>\n",
       "<!-- // container -->\n",
       "<hr/>\n",
       "<!-- footer -->\n",
       "<footer>\n",
       "<div id=\"fnb\">\n",
       "<div class=\"wrapping fnb-wrap\">\n",
       "<ul class=\"fnb-list\">\n",
       "<li class=\"privacy\"><a href=\"/Etc/Privacy.aspx\">개인정보 처리방침</a></li>\n",
       "<li><a href=\"/Schedule/ScoreBoard.aspx\">문자중계</a></li>\n",
       "<li><a href=\"/Board/Faqs/List.aspx\">고객질문</a></li>\n",
       "<li><a href=\"/Etc/SiteMap.aspx\">사이트맵</a></li>\n",
       "</ul>\n",
       "</div>\n",
       "</div>\n",
       "<div class=\"wrapping\" id=\"kboInfo\">\n",
       "<h2><a href=\"/Etc/PressRelease.aspx\"><img alt=\"KBO\" src=\"//lgcxydabfbch3774324.cdn.ntruss.com/KBO_IMAGE/KBOHome/resources/images/common/h2_logo.png\"/></a></h2>\n",
       "<address class=\"kbo-info\">\n",
       "<div class=\"address01\">\n",
       "<p>(사)한국야구위원회</p>\n",
       "<p>02) 3460-4600</p>\n",
       "<p>서울시 강남구 강남대로 278</p>\n",
       "</div>\n",
       "</address>\n",
       "<div class=\"copyright\">\n",
       "<span>본 사이트는 스포츠투아이㈜가 KBO 리그 팬을 위해 운영하는 KBO 공식 사이트입니다. </span><br/>\n",
       "<span>Copyrightⓒ KBO, All Rights Reserved.</span>\n",
       "</div>\n",
       "<div class=\"certification\">\n",
       "<img alt=\"w3c xhtml 3.0, Verisign\" src=\"//lgcxydabfbch3774324.cdn.ntruss.com/KBO_IMAGE/KBOHome/resources/images/main/img_certification.png\"/>\n",
       "</div>\n",
       "</div>\n",
       "</footer>\n",
       "<!-- // footer -->\n",
       "</div>\n",
       "<!-- // wrap -->\n",
       "<script type=\"text/javascript\">\n",
       "//<![CDATA[\n",
       "jQuery(function ($) {$('[data-id=HRA_RT]').addClass('asc');$('[data-id=HRA_RT]').siblings().removeClass('asc');});//]]>\n",
       "</script>\n",
       "\n",
       "<script type=\"text/javascript\">\n",
       "    currentLnb(\"02\");\n",
       "\n",
       "    function tooltip(x) {\n",
       "        var title = $(x).attr(\"title\");\n",
       "        $(x).append(\"<div class='tooltip'></div>\");\n",
       "        $(\".tooltip\").html(title);\n",
       "        var cnt = $(\".tooltip\").text().length;\n",
       "        $(\".tooltip\").css(\"width\", cnt * 12);\n",
       "        $(\".tData01 thead tr th:last-child\").find(\"> a .tooltip\").css({\n",
       "            right: 0,\n",
       "            top: '-35px'\n",
       "        });\n",
       "        return false;\n",
       "    }\n",
       "\n",
       "    function hideTip() {\n",
       "        $(\".tooltip\").remove();\n",
       "    }\n",
       "\n",
       "    $(\".record_words a\").on(\"click\", function (e) {\n",
       "        e.preventDefault();\n",
       "        Words();\n",
       "        $(\".words\").show();\n",
       "    });\n",
       "\n",
       "    function sort(colName) {\n",
       "\t    var order = $(\"#cphContents_cphContents_cphContents_hfOrderBy\").val();           //정렬조건 \n",
       "\n",
       "        if($(\"#cphContents_cphContents_cphContents_hfOrderByCol\").val() == colName) {\n",
       "            if (order.indexOf(\"DESC\") > -1) {\n",
       "                order = \"ASC\";\n",
       "            } else {\n",
       "                order = \"DESC\";\n",
       "            }\n",
       "        } else {\n",
       "            if(colName == \"ERA_RT\") {\n",
       "                order = \"ASC\";\n",
       "            } else {\n",
       "                order = \"DESC\";\n",
       "            }\n",
       "        } \n",
       "\n",
       "        $(\"#cphContents_cphContents_cphContents_hfOrderByCol\").val(colName);\n",
       "        $(\"#cphContents_cphContents_cphContents_hfOrderBy\").val(order);\n",
       "        __doPostBack('ctl00$ctl00$ctl00$cphContents$cphContents$cphContents$lbtnOrderBy','')\n",
       "    }\n",
       "</script>\n",
       "<script type=\"text/javascript\">\n",
       "        $(document).ready(function () {\n",
       "            // 선수 검색\n",
       "            $(document).on(\"click\", \"#btnTopPlayerSearch\", function (e) {\n",
       "                getPlayerSearch();\n",
       "                e.preventDefault();\n",
       "            });\n",
       "\n",
       "            // 선수 검색 엔터\n",
       "            $(document).on(\"keypress\", \"#txtTopPlayerWord\", function (e) {\n",
       "                if (event.keyCode == 13) {\n",
       "                    getPlayerSearch();\n",
       "                    e.preventDefault();\n",
       "                }\n",
       "            });\n",
       "\n",
       "            //// 선수 검색 마우스 아웃\n",
       "            //$(\"body\").click(function (e) {\n",
       "            //    var container = $(\"#player_search_area\");\n",
       "\n",
       "            //    if (container.css(\"display\") == \"block\") {\n",
       "            //        if (!container.has(e.target).length) {\n",
       "            //            container.hide();\n",
       "            //        }\n",
       "            //    }\n",
       "            //});\n",
       "\n",
       "\t\t\t// 21.06.29 | veron | 나중에 탭들 다 지우고 배너 다시 원복 후 이부분 삭제해야함\n",
       "\t\t\t// 8월 15일 00시 지나가면 삭제 \n",
       "            if (new Date().getTime() > new Date(\"2021/08/15 00:00:00\").getTime()) {\n",
       "\t\t\t\t// 위에 탭 삭제\n",
       "                $(\".menu04 li:last\").remove();\n",
       "                $(\".lnb-sub ul.lnb04 li:last\").remove();\n",
       "\t\t\t\t// Player.master 삭제\n",
       "                $(\"#liRookie\").remove();\n",
       "\t\t\t\t// 메인 배너 교체\n",
       "                $(\"#imgGijang\").attr(\"href\", \"http://gijangcmc.or.kr/baseball/main/main.asp\");\n",
       "                $(\"#imgGijang img\").attr(\"src\", \"//lgcxydabfbch3774324.cdn.ntruss.com/KBO_IMAGE/KBOHome/resources/images/main/img_banner01.jpg\");\n",
       "\t\t\t}\n",
       "\n",
       "\t\t\t// 22.09.06, 김연중, 신인드래프트 신청 이벤트 표출시간\n",
       "            if (new Date().getTime() < new Date(\"2022/09/07 09:00:00\"))\n",
       "\t\t\t\t$('.lnbDraft').hide();\n",
       "        });\n",
       "\n",
       "        // 선수 검색\n",
       "        function getPlayerSearch() {\n",
       "            if ($(\"#txtTopPlayerWord\").val() == \"\") {\n",
       "                alert(\"선수명은 필수 입니다.\");\n",
       "                $(\"#txtTopPlayerWord\").focus();\n",
       "                return false;\n",
       "            } else {\n",
       "                //var searchWord = encodeURI($(\"#txtTopPlayerWord\").val());\n",
       "\n",
       "                //if (searchWord != \"\") {\n",
       "                //    location.href = \"/Player/Search.aspx?searchWord=\" + searchWord;\n",
       "                //}\n",
       "                var request = $.ajax({\n",
       "                    type: \"post\"\n",
       "                    , url: \"/ws/Controls.asmx/GetSearchPlayer\"\n",
       "                    , dataType: \"json\"\n",
       "                    , data: {\n",
       "                        name: $(\"#txtTopPlayerWord\").val()\n",
       "                    }\n",
       "                    , error: ajaxFailed\n",
       "                    , async: true\n",
       "                });\n",
       "\n",
       "                request.done(function (data) {\n",
       "                    if (data.code == \"100\") {\n",
       "                        var container = $(\".search-result\");\n",
       "                        container.children().remove();\n",
       "\n",
       "                        container.hide();\n",
       "\n",
       "                        if (data.now.length > 0 || data.retire.length > 0) {\n",
       "                            // 2017-05-22 yeeun, 홍지희 사원 요청, 결과가 1명일 경우 바로 페이지 연결\n",
       "                            if (data.now.length + data.retire.length == 1) {\n",
       "                                var link = \"\";\n",
       "\n",
       "                                if (data.now.length == 1) {\n",
       "                                    link = data.now[0][\"P_LINK\"];\n",
       "                                } else {\n",
       "                                    link = data.retire[0][\"P_LINK\"];\n",
       "                                }\n",
       "\n",
       "                                location.href = link;\n",
       "                            } else {\n",
       "                                if (data.now.length > 0) {\n",
       "                                    container.append($(\"<h4>등록 선수</h4>\"));\n",
       "\n",
       "                                    var div = $(\"<div class='active' />\");\n",
       "                                    div.children().remove();\n",
       "\n",
       "                                    setPlayerDiv(data.now, div, true);\n",
       "\n",
       "                                    container.append(div);\n",
       "                                }\n",
       "\n",
       "                                if (data.retire.length > 0) {\n",
       "                                    container.append($(\"<h4>역대 선수</h4>\"));\n",
       "\n",
       "                                    var div = $(\"<div class='retire'/>\");\n",
       "                                    div.children().remove();\n",
       "\n",
       "                                    setPlayerDiv(data.retire, div, false);\n",
       "\n",
       "                                    container.append(div);\n",
       "                                }\n",
       "\n",
       "                                //container.append($(String.format(\"<p><a href='/Player/Search.aspx?searchWord={0}''>'{0}' 검색결과 모두 보기</a></p>\", $(\"#txtTopPlayerWord\").val())));\n",
       "                                container.append($(\"<p><a href='/Player/Search.aspx?searchWord=\" + $(\"#txtTopPlayerWord\").val() + \"''>'\" + $(\"#txtTopPlayerWord\").val() + \"' 검색결과 모두 보기</a></p>\"));\n",
       "                                container.show();\n",
       "                            }\n",
       "                        } else {\n",
       "                            container.append($(\"<p class='null'>검색 결과가 없습니다.</p>\"));\n",
       "                            container.show();\n",
       "                        }\n",
       "                    }\n",
       "                });\n",
       "            }\n",
       "        }\n",
       "\n",
       "        // 선수 검색 div \n",
       "        function setPlayerDiv(list, div, isActive) {\n",
       "            $.each(list, function (index, player) {\n",
       "                var aLink = $(\"<a />\");\n",
       "                aLink.attr(\"href\", player[\"P_LINK\"]);\n",
       "\n",
       "                var dl = $(\"<dl />\");\n",
       "                var dt = $(\"<dt />\");\n",
       "                var backNo = \"\";\n",
       "\n",
       "                if (isActive) {\n",
       "                    //backNo = String.format(\"No.{0}\", player[\"BACK_NO\"]);\n",
       "                    backNo = \"No.\" + player[\"BACK_NO\"];\n",
       "                }\n",
       "\n",
       "                //dt.text(String.format(\"{0} {1}\", player[\"P_NM\"], backNo));\n",
       "                dt.text(player[\"P_NM\"] + \" \" + backNo);\n",
       "                dl.append(dt);\n",
       "\n",
       "                var dd = $(\"<dd />\");\n",
       "                //dd.text(String.format(\"{0} {1}({2})\", player[\"T_NM\"], player[\"POS_NO\"], player[\"P_TYPE\"]));\n",
       "                dd.text(player[\"T_NM\"] + \" \" + player[\"POS_NO\"] + \"(\" + player[\"P_TYPE\"] + \")\");\n",
       "                dl.append(dd);\n",
       "\n",
       "                var ddImg = $(String.format(\"<dd class='btn-arrow'><img src='{0}/resources/images/common/btn_arrow_search.png' alt='' /></dd>\", \"//lgcxydabfbch3774324.cdn.ntruss.com/KBO_IMAGE/KBOHome\"));\n",
       "                dl.append(ddImg);\n",
       "\n",
       "                aLink.append(dl);\n",
       "                div.append(aLink);\n",
       "            });\n",
       "        }\n",
       "    </script>\n",
       "\n",
       "</head></html>"
      ]
     },
     "execution_count": 7,
     "metadata": {},
     "output_type": "execute_result"
    }
   ],
   "source": [
    "soup"
   ]
  },
  {
   "cell_type": "code",
   "execution_count": 8,
   "id": "0a2ae2dd-e04a-4a70-b676-5f6cf7c60fdd",
   "metadata": {
    "tags": []
   },
   "outputs": [
    {
     "data": {
      "text/plain": [
       "[<a href=\"/Record/Player/HitterDetail/Basic.aspx?playerId=75847\">최정</a>,\n",
       " <a href=\"/Record/Player/HitterDetail/Basic.aspx?playerId=79456\">이지영</a>,\n",
       " <a href=\"/Record/Player/HitterDetail/Basic.aspx?playerId=65357\">송성문</a>,\n",
       " <a href=\"/Record/Player/HitterDetail/Basic.aspx?playerId=64984\">김태진</a>,\n",
       " <a href=\"/Record/Player/HitterDetail/Basic.aspx?playerId=76802\">김성현</a>,\n",
       " <a href=\"/Record/Player/HitterDetail/Basic.aspx?playerId=51817\">추신수</a>,\n",
       " <a href=\"/Record/Player/HitterDetail/Basic.aspx?playerId=52806\">라가레스</a>,\n",
       " <a href=\"/Record/Player/HitterDetail/Basic.aspx?playerId=50854\">최지훈</a>,\n",
       " <a href=\"/Record/Player/HitterDetail/Basic.aspx?playerId=52366\">푸이그</a>,\n",
       " <a href=\"/Record/Player/HitterDetail/Basic.aspx?playerId=67341\">이정후</a>,\n",
       " <a href=\"/Record/Player/HitterDetail/Basic.aspx?playerId=62895\">한유섬</a>,\n",
       " <a href=\"/Record/Player/HitterDetail/Basic.aspx?playerId=67893\">박성한</a>,\n",
       " <a href=\"/Record/Player/HitterDetail/Basic.aspx?playerId=67304\">김혜성</a>,\n",
       " <a href=\"/Record/Player/HitterDetail/Basic.aspx?playerId=63920\">김준완</a>]"
      ]
     },
     "execution_count": 8,
     "metadata": {},
     "output_type": "execute_result"
    }
   ],
   "source": [
    "soup.select('#cphContents_cphContents_cphContents_udpContent > div.record_result > table > tbody > tr > td:nth-child(2) > a')"
   ]
  },
  {
   "cell_type": "code",
   "execution_count": 9,
   "id": "5c175952-6605-471b-9764-af4511b79782",
   "metadata": {},
   "outputs": [
    {
     "data": {
      "text/plain": [
       "[<a href=\"/Record/Player/HitterDetail/Basic.aspx?playerId=79456\">이지영</a>]"
      ]
     },
     "execution_count": 9,
     "metadata": {},
     "output_type": "execute_result"
    }
   ],
   "source": [
    "soup.select('#cphContents_cphContents_cphContents_udpContent > div.record_result > table > tbody > tr:nth-child(2) > td:nth-child(2) > a')"
   ]
  },
  {
   "cell_type": "code",
   "execution_count": 10,
   "id": "0187c4e7-5859-4512-b41e-20c6fa3273ad",
   "metadata": {},
   "outputs": [
    {
     "data": {
      "text/plain": [
       "[<a href=\"/Record/Player/HitterDetail/Basic.aspx?playerId=65357\">송성문</a>]"
      ]
     },
     "execution_count": 10,
     "metadata": {},
     "output_type": "execute_result"
    }
   ],
   "source": [
    "soup.select('#cphContents_cphContents_cphContents_udpContent > div.record_result > table > tbody > tr:nth-child(3) > td:nth-child(2) > a')"
   ]
  },
  {
   "cell_type": "code",
   "execution_count": 11,
   "id": "983a63d3-efa4-4aab-8628-c71ad74b47c4",
   "metadata": {},
   "outputs": [],
   "source": [
    "name = soup.select('#cphContents_cphContents_cphContents_udpContent > div.record_result > table > tbody > tr > td:nth-child(2) > a')"
   ]
  },
  {
   "cell_type": "code",
   "execution_count": 12,
   "id": "ea9bd53e-e732-43a7-bc8a-f4f861466202",
   "metadata": {},
   "outputs": [
    {
     "data": {
      "text/plain": [
       "<a href=\"/Record/Player/HitterDetail/Basic.aspx?playerId=75847\">최정</a>"
      ]
     },
     "execution_count": 12,
     "metadata": {},
     "output_type": "execute_result"
    }
   ],
   "source": [
    "name[0]"
   ]
  },
  {
   "cell_type": "code",
   "execution_count": 13,
   "id": "bbafab7f-3c0d-4f39-8868-182dfd57ff97",
   "metadata": {},
   "outputs": [
    {
     "data": {
      "text/plain": [
       "'최정'"
      ]
     },
     "execution_count": 13,
     "metadata": {},
     "output_type": "execute_result"
    }
   ],
   "source": [
    "name[0].text"
   ]
  },
  {
   "cell_type": "code",
   "execution_count": 14,
   "id": "a10a10f0-fbf7-4a0f-80dd-735a0d116c5e",
   "metadata": {
    "tags": []
   },
   "outputs": [
    {
     "name": "stdout",
     "output_type": "stream",
     "text": [
      "최정\n",
      "이지영\n",
      "송성문\n",
      "김태진\n",
      "김성현\n",
      "추신수\n",
      "라가레스\n",
      "최지훈\n",
      "푸이그\n",
      "이정후\n",
      "한유섬\n",
      "박성한\n",
      "김혜성\n",
      "김준완\n"
     ]
    }
   ],
   "source": [
    "for i in range (len(name)) :\n",
    "    print(name[i].text)\n",
    "    "
   ]
  },
  {
   "cell_type": "code",
   "execution_count": 15,
   "id": "81dd1484-2957-4faf-9258-3cf619f3f55c",
   "metadata": {
    "tags": []
   },
   "outputs": [],
   "source": [
    "name_t =[]\n",
    "for n in name :\n",
    "    name_t.append(n.text)       #파이썬에서는 리스트를 변수에 그냥 넣을 수 있다!"
   ]
  },
  {
   "cell_type": "code",
   "execution_count": 16,
   "id": "cfd32179-caed-43c9-af00-2a349a1eb51c",
   "metadata": {
    "tags": []
   },
   "outputs": [
    {
     "data": {
      "text/plain": [
       "[<td>SSG</td>]"
      ]
     },
     "execution_count": 16,
     "metadata": {},
     "output_type": "execute_result"
    }
   ],
   "source": [
    "soup.select('#cphContents_cphContents_cphContents_udpContent > div.record_result > table > tbody > tr:nth-child(1) > td:nth-child(3)')"
   ]
  },
  {
   "cell_type": "code",
   "execution_count": 17,
   "id": "f6617583-23e5-4e4f-9f5e-529ce23c7225",
   "metadata": {
    "tags": []
   },
   "outputs": [
    {
     "data": {
      "text/plain": [
       "[<td>키움</td>]"
      ]
     },
     "execution_count": 17,
     "metadata": {},
     "output_type": "execute_result"
    }
   ],
   "source": [
    "soup.select('#cphContents_cphContents_cphContents_udpContent > div.record_result > table > tbody > tr:nth-child(2) > td:nth-child(3)')"
   ]
  },
  {
   "cell_type": "code",
   "execution_count": 18,
   "id": "bb991f37-290f-4fbe-85a9-8dd6e4419483",
   "metadata": {
    "tags": []
   },
   "outputs": [
    {
     "data": {
      "text/plain": [
       "[<td>키움</td>]"
      ]
     },
     "execution_count": 18,
     "metadata": {},
     "output_type": "execute_result"
    }
   ],
   "source": [
    "soup.select('#cphContents_cphContents_cphContents_udpContent > div.record_result > table > tbody > tr:nth-child(3) > td:nth-child(3)')"
   ]
  },
  {
   "cell_type": "code",
   "execution_count": 19,
   "id": "227be5e3-2bda-477d-893c-8df9a9b2b4fe",
   "metadata": {},
   "outputs": [],
   "source": [
    "team = soup.select('#cphContents_cphContents_cphContents_udpContent > div.record_result > table > tbody > tr > td:nth-child(3)')"
   ]
  },
  {
   "cell_type": "code",
   "execution_count": 20,
   "id": "38fee963-e519-4696-b87a-bb6f94d46219",
   "metadata": {
    "tags": []
   },
   "outputs": [
    {
     "name": "stdout",
     "output_type": "stream",
     "text": [
      "SSG\n",
      "키움\n",
      "키움\n",
      "키움\n",
      "SSG\n",
      "SSG\n",
      "SSG\n",
      "SSG\n",
      "키움\n",
      "키움\n",
      "SSG\n",
      "SSG\n",
      "키움\n",
      "키움\n"
     ]
    }
   ],
   "source": [
    "for n in team :\n",
    "    print(n.text)"
   ]
  },
  {
   "cell_type": "code",
   "execution_count": 21,
   "id": "ba0f67d3-4ceb-4d0d-ab22-8325ba96181c",
   "metadata": {},
   "outputs": [],
   "source": [
    "team_t =[]\n",
    "for t in team :\n",
    "    team_t.append(t.text)"
   ]
  },
  {
   "cell_type": "code",
   "execution_count": 22,
   "id": "0eb9c7a4-d1dc-4c0e-908c-e4e61b941437",
   "metadata": {
    "tags": []
   },
   "outputs": [
    {
     "data": {
      "text/plain": [
       "['최정',\n",
       " '이지영',\n",
       " '송성문',\n",
       " '김태진',\n",
       " '김성현',\n",
       " '추신수',\n",
       " '라가레스',\n",
       " '최지훈',\n",
       " '푸이그',\n",
       " '이정후',\n",
       " '한유섬',\n",
       " '박성한',\n",
       " '김혜성',\n",
       " '김준완']"
      ]
     },
     "execution_count": 22,
     "metadata": {},
     "output_type": "execute_result"
    }
   ],
   "source": [
    "name_t"
   ]
  },
  {
   "cell_type": "code",
   "execution_count": 23,
   "id": "bf06511c-2954-4dfa-bce1-baea544b5f02",
   "metadata": {
    "tags": []
   },
   "outputs": [
    {
     "data": {
      "text/plain": [
       "['SSG',\n",
       " '키움',\n",
       " '키움',\n",
       " '키움',\n",
       " 'SSG',\n",
       " 'SSG',\n",
       " 'SSG',\n",
       " 'SSG',\n",
       " '키움',\n",
       " '키움',\n",
       " 'SSG',\n",
       " 'SSG',\n",
       " '키움',\n",
       " '키움']"
      ]
     },
     "execution_count": 23,
     "metadata": {},
     "output_type": "execute_result"
    }
   ],
   "source": [
    "team_t"
   ]
  },
  {
   "cell_type": "code",
   "execution_count": 24,
   "id": "2ca0f3b1-765d-46b1-bf75-5c5ef82b00e6",
   "metadata": {
    "tags": []
   },
   "outputs": [
    {
     "name": "stdout",
     "output_type": "stream",
     "text": [
      "['최정', '이지영', '송성문', '김태진', '김성현', '추신수', '라가레스', '최지훈', '푸이그', '이정후', '한유섬', '박성한', '김혜성', '김준완'] \n",
      " ['SSG', '키움', '키움', '키움', 'SSG', 'SSG', 'SSG', 'SSG', '키움', '키움', 'SSG', 'SSG', '키움', '키움']\n"
     ]
    }
   ],
   "source": [
    "print(name_t, '\\n', team_t)"
   ]
  },
  {
   "cell_type": "code",
   "execution_count": 25,
   "id": "1665d92b-d8bd-4c9a-b23d-1dc7a92bb5bc",
   "metadata": {},
   "outputs": [],
   "source": [
    "data  = list(zip(name_t, team_t))"
   ]
  },
  {
   "cell_type": "code",
   "execution_count": 26,
   "id": "35eaca96-4815-47ba-a469-0b201c8376b7",
   "metadata": {
    "tags": []
   },
   "outputs": [
    {
     "data": {
      "text/plain": [
       "[('최정', 'SSG'),\n",
       " ('이지영', '키움'),\n",
       " ('송성문', '키움'),\n",
       " ('김태진', '키움'),\n",
       " ('김성현', 'SSG'),\n",
       " ('추신수', 'SSG'),\n",
       " ('라가레스', 'SSG'),\n",
       " ('최지훈', 'SSG'),\n",
       " ('푸이그', '키움'),\n",
       " ('이정후', '키움'),\n",
       " ('한유섬', 'SSG'),\n",
       " ('박성한', 'SSG'),\n",
       " ('김혜성', '키움'),\n",
       " ('김준완', '키움')]"
      ]
     },
     "execution_count": 26,
     "metadata": {},
     "output_type": "execute_result"
    }
   ],
   "source": [
    "data"
   ]
  },
  {
   "cell_type": "code",
   "execution_count": 27,
   "id": "60afa138-c852-4fec-8e41-dab0467ecde0",
   "metadata": {},
   "outputs": [],
   "source": [
    "import pandas as pd"
   ]
  },
  {
   "cell_type": "code",
   "execution_count": 28,
   "id": "bc456ae0-2caa-45ee-9f62-8b09c1ae8586",
   "metadata": {},
   "outputs": [],
   "source": [
    "df = pd.DataFrame(data, columns=['선수명','팀명'])"
   ]
  },
  {
   "cell_type": "code",
   "execution_count": 29,
   "id": "19b9b700-86a1-4285-9043-2cc8cedd5c91",
   "metadata": {
    "tags": []
   },
   "outputs": [
    {
     "data": {
      "text/html": [
       "<div>\n",
       "<style scoped>\n",
       "    .dataframe tbody tr th:only-of-type {\n",
       "        vertical-align: middle;\n",
       "    }\n",
       "\n",
       "    .dataframe tbody tr th {\n",
       "        vertical-align: top;\n",
       "    }\n",
       "\n",
       "    .dataframe thead th {\n",
       "        text-align: right;\n",
       "    }\n",
       "</style>\n",
       "<table border=\"1\" class=\"dataframe\">\n",
       "  <thead>\n",
       "    <tr style=\"text-align: right;\">\n",
       "      <th></th>\n",
       "      <th>선수명</th>\n",
       "      <th>팀명</th>\n",
       "    </tr>\n",
       "  </thead>\n",
       "  <tbody>\n",
       "    <tr>\n",
       "      <th>0</th>\n",
       "      <td>최정</td>\n",
       "      <td>SSG</td>\n",
       "    </tr>\n",
       "    <tr>\n",
       "      <th>1</th>\n",
       "      <td>이지영</td>\n",
       "      <td>키움</td>\n",
       "    </tr>\n",
       "    <tr>\n",
       "      <th>2</th>\n",
       "      <td>송성문</td>\n",
       "      <td>키움</td>\n",
       "    </tr>\n",
       "    <tr>\n",
       "      <th>3</th>\n",
       "      <td>김태진</td>\n",
       "      <td>키움</td>\n",
       "    </tr>\n",
       "    <tr>\n",
       "      <th>4</th>\n",
       "      <td>김성현</td>\n",
       "      <td>SSG</td>\n",
       "    </tr>\n",
       "    <tr>\n",
       "      <th>5</th>\n",
       "      <td>추신수</td>\n",
       "      <td>SSG</td>\n",
       "    </tr>\n",
       "    <tr>\n",
       "      <th>6</th>\n",
       "      <td>라가레스</td>\n",
       "      <td>SSG</td>\n",
       "    </tr>\n",
       "    <tr>\n",
       "      <th>7</th>\n",
       "      <td>최지훈</td>\n",
       "      <td>SSG</td>\n",
       "    </tr>\n",
       "    <tr>\n",
       "      <th>8</th>\n",
       "      <td>푸이그</td>\n",
       "      <td>키움</td>\n",
       "    </tr>\n",
       "    <tr>\n",
       "      <th>9</th>\n",
       "      <td>이정후</td>\n",
       "      <td>키움</td>\n",
       "    </tr>\n",
       "    <tr>\n",
       "      <th>10</th>\n",
       "      <td>한유섬</td>\n",
       "      <td>SSG</td>\n",
       "    </tr>\n",
       "    <tr>\n",
       "      <th>11</th>\n",
       "      <td>박성한</td>\n",
       "      <td>SSG</td>\n",
       "    </tr>\n",
       "    <tr>\n",
       "      <th>12</th>\n",
       "      <td>김혜성</td>\n",
       "      <td>키움</td>\n",
       "    </tr>\n",
       "    <tr>\n",
       "      <th>13</th>\n",
       "      <td>김준완</td>\n",
       "      <td>키움</td>\n",
       "    </tr>\n",
       "  </tbody>\n",
       "</table>\n",
       "</div>"
      ],
      "text/plain": [
       "     선수명   팀명\n",
       "0     최정  SSG\n",
       "1    이지영   키움\n",
       "2    송성문   키움\n",
       "3    김태진   키움\n",
       "4    김성현  SSG\n",
       "5    추신수  SSG\n",
       "6   라가레스  SSG\n",
       "7    최지훈  SSG\n",
       "8    푸이그   키움\n",
       "9    이정후   키움\n",
       "10   한유섬  SSG\n",
       "11   박성한  SSG\n",
       "12   김혜성   키움\n",
       "13   김준완   키움"
      ]
     },
     "execution_count": 29,
     "metadata": {},
     "output_type": "execute_result"
    }
   ],
   "source": [
    "df"
   ]
  },
  {
   "cell_type": "code",
   "execution_count": 30,
   "id": "ec645b0a-6134-4100-8877-dadacd5f02d0",
   "metadata": {
    "tags": []
   },
   "outputs": [
    {
     "data": {
      "text/plain": [
       "[<td data-id=\"AB_CN\">14</td>,\n",
       " <td data-id=\"AB_CN\">10</td>,\n",
       " <td data-id=\"AB_CN\">15</td>,\n",
       " <td data-id=\"AB_CN\">14</td>,\n",
       " <td data-id=\"AB_CN\">17</td>,\n",
       " <td data-id=\"AB_CN\">17</td>,\n",
       " <td data-id=\"AB_CN\">17</td>,\n",
       " <td data-id=\"AB_CN\">15</td>,\n",
       " <td data-id=\"AB_CN\">16</td>,\n",
       " <td data-id=\"AB_CN\">19</td>,\n",
       " <td data-id=\"AB_CN\">15</td>,\n",
       " <td data-id=\"AB_CN\">17</td>,\n",
       " <td data-id=\"AB_CN\">14</td>,\n",
       " <td data-id=\"AB_CN\">15</td>]"
      ]
     },
     "execution_count": 30,
     "metadata": {},
     "output_type": "execute_result"
    }
   ],
   "source": [
    "soup.select('#cphContents_cphContents_cphContents_udpContent > div.record_result > table > tbody > tr > td:nth-child(7)')"
   ]
  },
  {
   "cell_type": "code",
   "execution_count": 31,
   "id": "9cd09e09-2df1-47b5-a134-072e73435ae7",
   "metadata": {},
   "outputs": [
    {
     "data": {
      "text/plain": [
       "[<td data-id=\"AB_CN\">10</td>]"
      ]
     },
     "execution_count": 31,
     "metadata": {},
     "output_type": "execute_result"
    }
   ],
   "source": [
    "soup.select('#cphContents_cphContents_cphContents_udpContent > div.record_result > table > tbody > tr:nth-child(2) > td:nth-child(7)')"
   ]
  },
  {
   "cell_type": "code",
   "execution_count": 32,
   "id": "75b8af69-8b9d-4b6f-9ae6-251ae3720014",
   "metadata": {},
   "outputs": [],
   "source": [
    "AB = soup.select('#cphContents_cphContents_cphContents_udpContent > div.record_result > table > tbody > tr > td:nth-child(7)')"
   ]
  },
  {
   "cell_type": "code",
   "execution_count": 33,
   "id": "729247a6-a945-419d-a1bc-e9011bf51347",
   "metadata": {},
   "outputs": [],
   "source": [
    "AB_t =[]\n",
    "for i in AB :\n",
    "    AB_t.append(i.text)"
   ]
  },
  {
   "cell_type": "code",
   "execution_count": 34,
   "id": "4f753a42-a6b2-4345-83d4-cb996c7f766c",
   "metadata": {
    "tags": []
   },
   "outputs": [
    {
     "data": {
      "text/plain": [
       "['14',\n",
       " '10',\n",
       " '15',\n",
       " '14',\n",
       " '17',\n",
       " '17',\n",
       " '17',\n",
       " '15',\n",
       " '16',\n",
       " '19',\n",
       " '15',\n",
       " '17',\n",
       " '14',\n",
       " '15']"
      ]
     },
     "execution_count": 34,
     "metadata": {},
     "output_type": "execute_result"
    }
   ],
   "source": [
    "AB_t"
   ]
  },
  {
   "cell_type": "code",
   "execution_count": 35,
   "id": "600429d5-dc98-4969-9fdf-960d7e3f87b1",
   "metadata": {},
   "outputs": [],
   "source": [
    "data  = list(zip(name_t, team_t, AB_t))"
   ]
  },
  {
   "cell_type": "code",
   "execution_count": 36,
   "id": "3ec858bb-2b82-4e5e-a0bf-3f363410cd48",
   "metadata": {},
   "outputs": [],
   "source": [
    "df = pd.DataFrame(data, columns=['선수명','팀명','AB'])"
   ]
  },
  {
   "cell_type": "code",
   "execution_count": 37,
   "id": "a9e85caf-4b91-4328-8df7-89785d5738fc",
   "metadata": {
    "tags": []
   },
   "outputs": [
    {
     "data": {
      "text/html": [
       "<div>\n",
       "<style scoped>\n",
       "    .dataframe tbody tr th:only-of-type {\n",
       "        vertical-align: middle;\n",
       "    }\n",
       "\n",
       "    .dataframe tbody tr th {\n",
       "        vertical-align: top;\n",
       "    }\n",
       "\n",
       "    .dataframe thead th {\n",
       "        text-align: right;\n",
       "    }\n",
       "</style>\n",
       "<table border=\"1\" class=\"dataframe\">\n",
       "  <thead>\n",
       "    <tr style=\"text-align: right;\">\n",
       "      <th></th>\n",
       "      <th>선수명</th>\n",
       "      <th>팀명</th>\n",
       "      <th>AB</th>\n",
       "    </tr>\n",
       "  </thead>\n",
       "  <tbody>\n",
       "    <tr>\n",
       "      <th>0</th>\n",
       "      <td>최정</td>\n",
       "      <td>SSG</td>\n",
       "      <td>14</td>\n",
       "    </tr>\n",
       "    <tr>\n",
       "      <th>1</th>\n",
       "      <td>이지영</td>\n",
       "      <td>키움</td>\n",
       "      <td>10</td>\n",
       "    </tr>\n",
       "    <tr>\n",
       "      <th>2</th>\n",
       "      <td>송성문</td>\n",
       "      <td>키움</td>\n",
       "      <td>15</td>\n",
       "    </tr>\n",
       "    <tr>\n",
       "      <th>3</th>\n",
       "      <td>김태진</td>\n",
       "      <td>키움</td>\n",
       "      <td>14</td>\n",
       "    </tr>\n",
       "    <tr>\n",
       "      <th>4</th>\n",
       "      <td>김성현</td>\n",
       "      <td>SSG</td>\n",
       "      <td>17</td>\n",
       "    </tr>\n",
       "    <tr>\n",
       "      <th>5</th>\n",
       "      <td>추신수</td>\n",
       "      <td>SSG</td>\n",
       "      <td>17</td>\n",
       "    </tr>\n",
       "    <tr>\n",
       "      <th>6</th>\n",
       "      <td>라가레스</td>\n",
       "      <td>SSG</td>\n",
       "      <td>17</td>\n",
       "    </tr>\n",
       "    <tr>\n",
       "      <th>7</th>\n",
       "      <td>최지훈</td>\n",
       "      <td>SSG</td>\n",
       "      <td>15</td>\n",
       "    </tr>\n",
       "    <tr>\n",
       "      <th>8</th>\n",
       "      <td>푸이그</td>\n",
       "      <td>키움</td>\n",
       "      <td>16</td>\n",
       "    </tr>\n",
       "    <tr>\n",
       "      <th>9</th>\n",
       "      <td>이정후</td>\n",
       "      <td>키움</td>\n",
       "      <td>19</td>\n",
       "    </tr>\n",
       "    <tr>\n",
       "      <th>10</th>\n",
       "      <td>한유섬</td>\n",
       "      <td>SSG</td>\n",
       "      <td>15</td>\n",
       "    </tr>\n",
       "    <tr>\n",
       "      <th>11</th>\n",
       "      <td>박성한</td>\n",
       "      <td>SSG</td>\n",
       "      <td>17</td>\n",
       "    </tr>\n",
       "    <tr>\n",
       "      <th>12</th>\n",
       "      <td>김혜성</td>\n",
       "      <td>키움</td>\n",
       "      <td>14</td>\n",
       "    </tr>\n",
       "    <tr>\n",
       "      <th>13</th>\n",
       "      <td>김준완</td>\n",
       "      <td>키움</td>\n",
       "      <td>15</td>\n",
       "    </tr>\n",
       "  </tbody>\n",
       "</table>\n",
       "</div>"
      ],
      "text/plain": [
       "     선수명   팀명  AB\n",
       "0     최정  SSG  14\n",
       "1    이지영   키움  10\n",
       "2    송성문   키움  15\n",
       "3    김태진   키움  14\n",
       "4    김성현  SSG  17\n",
       "5    추신수  SSG  17\n",
       "6   라가레스  SSG  17\n",
       "7    최지훈  SSG  15\n",
       "8    푸이그   키움  16\n",
       "9    이정후   키움  19\n",
       "10   한유섬  SSG  15\n",
       "11   박성한  SSG  17\n",
       "12   김혜성   키움  14\n",
       "13   김준완   키움  15"
      ]
     },
     "execution_count": 37,
     "metadata": {},
     "output_type": "execute_result"
    }
   ],
   "source": [
    "df"
   ]
  },
  {
   "cell_type": "code",
   "execution_count": 38,
   "id": "b88e1f65-989d-4313-bc76-3a7f61c647b5",
   "metadata": {},
   "outputs": [],
   "source": [
    "H = soup.select('#cphContents_cphContents_cphContents_udpContent > div.record_result > table > tbody > tr > td:nth-child(8)')"
   ]
  },
  {
   "cell_type": "code",
   "execution_count": 39,
   "id": "d70aec8a-a618-4986-9ec0-c5ebdc38aa1c",
   "metadata": {
    "tags": []
   },
   "outputs": [
    {
     "data": {
      "text/plain": [
       "[<td data-id=\"HIT_CN\">8</td>,\n",
       " <td data-id=\"HIT_CN\">5</td>,\n",
       " <td data-id=\"HIT_CN\">7</td>,\n",
       " <td data-id=\"HIT_CN\">6</td>,\n",
       " <td data-id=\"HIT_CN\">7</td>,\n",
       " <td data-id=\"HIT_CN\">6</td>,\n",
       " <td data-id=\"HIT_CN\">5</td>,\n",
       " <td data-id=\"HIT_CN\">4</td>,\n",
       " <td data-id=\"HIT_CN\">4</td>,\n",
       " <td data-id=\"HIT_CN\">4</td>,\n",
       " <td data-id=\"HIT_CN\">3</td>,\n",
       " <td data-id=\"HIT_CN\">3</td>,\n",
       " <td data-id=\"HIT_CN\">1</td>,\n",
       " <td data-id=\"HIT_CN\">1</td>]"
      ]
     },
     "execution_count": 39,
     "metadata": {},
     "output_type": "execute_result"
    }
   ],
   "source": [
    "H"
   ]
  },
  {
   "cell_type": "code",
   "execution_count": 40,
   "id": "647afebe-fa18-48de-b8f0-d72f6a6bcc8b",
   "metadata": {},
   "outputs": [],
   "source": [
    "H_t =[]\n",
    "for i in H :\n",
    "    H_t.append(i.text)"
   ]
  },
  {
   "cell_type": "code",
   "execution_count": 41,
   "id": "4ffd4b4e-928a-4ad9-b949-25f61e9142e7",
   "metadata": {},
   "outputs": [],
   "source": [
    "data  = list(zip(name_t, team_t, AB_t, H_t))"
   ]
  },
  {
   "cell_type": "code",
   "execution_count": 42,
   "id": "33bff0c0-9ad5-440f-bbee-937ef8ca9999",
   "metadata": {},
   "outputs": [],
   "source": [
    "df = pd.DataFrame(data, columns=['선수명','팀명','AB','H'])"
   ]
  },
  {
   "cell_type": "code",
   "execution_count": 43,
   "id": "8d8400a0-fc69-4051-9669-5efe845753e5",
   "metadata": {
    "tags": []
   },
   "outputs": [
    {
     "data": {
      "text/html": [
       "<div>\n",
       "<style scoped>\n",
       "    .dataframe tbody tr th:only-of-type {\n",
       "        vertical-align: middle;\n",
       "    }\n",
       "\n",
       "    .dataframe tbody tr th {\n",
       "        vertical-align: top;\n",
       "    }\n",
       "\n",
       "    .dataframe thead th {\n",
       "        text-align: right;\n",
       "    }\n",
       "</style>\n",
       "<table border=\"1\" class=\"dataframe\">\n",
       "  <thead>\n",
       "    <tr style=\"text-align: right;\">\n",
       "      <th></th>\n",
       "      <th>선수명</th>\n",
       "      <th>팀명</th>\n",
       "      <th>AB</th>\n",
       "      <th>H</th>\n",
       "    </tr>\n",
       "  </thead>\n",
       "  <tbody>\n",
       "    <tr>\n",
       "      <th>0</th>\n",
       "      <td>최정</td>\n",
       "      <td>SSG</td>\n",
       "      <td>14</td>\n",
       "      <td>8</td>\n",
       "    </tr>\n",
       "    <tr>\n",
       "      <th>1</th>\n",
       "      <td>이지영</td>\n",
       "      <td>키움</td>\n",
       "      <td>10</td>\n",
       "      <td>5</td>\n",
       "    </tr>\n",
       "    <tr>\n",
       "      <th>2</th>\n",
       "      <td>송성문</td>\n",
       "      <td>키움</td>\n",
       "      <td>15</td>\n",
       "      <td>7</td>\n",
       "    </tr>\n",
       "    <tr>\n",
       "      <th>3</th>\n",
       "      <td>김태진</td>\n",
       "      <td>키움</td>\n",
       "      <td>14</td>\n",
       "      <td>6</td>\n",
       "    </tr>\n",
       "    <tr>\n",
       "      <th>4</th>\n",
       "      <td>김성현</td>\n",
       "      <td>SSG</td>\n",
       "      <td>17</td>\n",
       "      <td>7</td>\n",
       "    </tr>\n",
       "    <tr>\n",
       "      <th>5</th>\n",
       "      <td>추신수</td>\n",
       "      <td>SSG</td>\n",
       "      <td>17</td>\n",
       "      <td>6</td>\n",
       "    </tr>\n",
       "    <tr>\n",
       "      <th>6</th>\n",
       "      <td>라가레스</td>\n",
       "      <td>SSG</td>\n",
       "      <td>17</td>\n",
       "      <td>5</td>\n",
       "    </tr>\n",
       "    <tr>\n",
       "      <th>7</th>\n",
       "      <td>최지훈</td>\n",
       "      <td>SSG</td>\n",
       "      <td>15</td>\n",
       "      <td>4</td>\n",
       "    </tr>\n",
       "    <tr>\n",
       "      <th>8</th>\n",
       "      <td>푸이그</td>\n",
       "      <td>키움</td>\n",
       "      <td>16</td>\n",
       "      <td>4</td>\n",
       "    </tr>\n",
       "    <tr>\n",
       "      <th>9</th>\n",
       "      <td>이정후</td>\n",
       "      <td>키움</td>\n",
       "      <td>19</td>\n",
       "      <td>4</td>\n",
       "    </tr>\n",
       "    <tr>\n",
       "      <th>10</th>\n",
       "      <td>한유섬</td>\n",
       "      <td>SSG</td>\n",
       "      <td>15</td>\n",
       "      <td>3</td>\n",
       "    </tr>\n",
       "    <tr>\n",
       "      <th>11</th>\n",
       "      <td>박성한</td>\n",
       "      <td>SSG</td>\n",
       "      <td>17</td>\n",
       "      <td>3</td>\n",
       "    </tr>\n",
       "    <tr>\n",
       "      <th>12</th>\n",
       "      <td>김혜성</td>\n",
       "      <td>키움</td>\n",
       "      <td>14</td>\n",
       "      <td>1</td>\n",
       "    </tr>\n",
       "    <tr>\n",
       "      <th>13</th>\n",
       "      <td>김준완</td>\n",
       "      <td>키움</td>\n",
       "      <td>15</td>\n",
       "      <td>1</td>\n",
       "    </tr>\n",
       "  </tbody>\n",
       "</table>\n",
       "</div>"
      ],
      "text/plain": [
       "     선수명   팀명  AB  H\n",
       "0     최정  SSG  14  8\n",
       "1    이지영   키움  10  5\n",
       "2    송성문   키움  15  7\n",
       "3    김태진   키움  14  6\n",
       "4    김성현  SSG  17  7\n",
       "5    추신수  SSG  17  6\n",
       "6   라가레스  SSG  17  5\n",
       "7    최지훈  SSG  15  4\n",
       "8    푸이그   키움  16  4\n",
       "9    이정후   키움  19  4\n",
       "10   한유섬  SSG  15  3\n",
       "11   박성한  SSG  17  3\n",
       "12   김혜성   키움  14  1\n",
       "13   김준완   키움  15  1"
      ]
     },
     "execution_count": 43,
     "metadata": {},
     "output_type": "execute_result"
    }
   ],
   "source": [
    "df"
   ]
  },
  {
   "cell_type": "code",
   "execution_count": 44,
   "id": "018c48a6-dca2-4aac-af8c-b50fe0f0179b",
   "metadata": {},
   "outputs": [],
   "source": [
    "AVG=soup.select('#cphContents_cphContents_cphContents_udpContent > div.record_result > table > tbody > tr > td:nth-child(4)')"
   ]
  },
  {
   "cell_type": "code",
   "execution_count": 45,
   "id": "762aecf6-ba77-4f58-8966-2e101bdb5261",
   "metadata": {},
   "outputs": [],
   "source": [
    "AVG_t =[]\n",
    "for i in AVG :\n",
    "    AVG_t.append(i.text)"
   ]
  },
  {
   "cell_type": "code",
   "execution_count": 46,
   "id": "c8d1a4bd-4b78-4f04-8d3e-503e41e9ecc1",
   "metadata": {
    "tags": []
   },
   "outputs": [
    {
     "data": {
      "text/plain": [
       "['0.571',\n",
       " '0.500',\n",
       " '0.467',\n",
       " '0.429',\n",
       " '0.412',\n",
       " '0.353',\n",
       " '0.294',\n",
       " '0.267',\n",
       " '0.250',\n",
       " '0.211',\n",
       " '0.200',\n",
       " '0.176',\n",
       " '0.071',\n",
       " '0.067']"
      ]
     },
     "execution_count": 46,
     "metadata": {},
     "output_type": "execute_result"
    }
   ],
   "source": [
    "AVG_t"
   ]
  },
  {
   "cell_type": "code",
   "execution_count": 47,
   "id": "6cf5232f-6373-429b-9f61-60e0409f7f69",
   "metadata": {},
   "outputs": [],
   "source": [
    "data  = list(zip(name_t, team_t, AB_t, H_t, AVG_t))"
   ]
  },
  {
   "cell_type": "code",
   "execution_count": 48,
   "id": "0f08b935-323f-48c9-bb4c-a637518e4863",
   "metadata": {},
   "outputs": [],
   "source": [
    "df = pd.DataFrame(data, columns=['선수명','팀명','AB','H','AVG'])"
   ]
  },
  {
   "cell_type": "code",
   "execution_count": 49,
   "id": "07fe027d-c4cd-427d-af48-ecdbbdd4263c",
   "metadata": {
    "tags": []
   },
   "outputs": [
    {
     "data": {
      "text/html": [
       "<div>\n",
       "<style scoped>\n",
       "    .dataframe tbody tr th:only-of-type {\n",
       "        vertical-align: middle;\n",
       "    }\n",
       "\n",
       "    .dataframe tbody tr th {\n",
       "        vertical-align: top;\n",
       "    }\n",
       "\n",
       "    .dataframe thead th {\n",
       "        text-align: right;\n",
       "    }\n",
       "</style>\n",
       "<table border=\"1\" class=\"dataframe\">\n",
       "  <thead>\n",
       "    <tr style=\"text-align: right;\">\n",
       "      <th></th>\n",
       "      <th>선수명</th>\n",
       "      <th>팀명</th>\n",
       "      <th>AB</th>\n",
       "      <th>H</th>\n",
       "      <th>AVG</th>\n",
       "    </tr>\n",
       "  </thead>\n",
       "  <tbody>\n",
       "    <tr>\n",
       "      <th>0</th>\n",
       "      <td>최정</td>\n",
       "      <td>SSG</td>\n",
       "      <td>14</td>\n",
       "      <td>8</td>\n",
       "      <td>0.571</td>\n",
       "    </tr>\n",
       "    <tr>\n",
       "      <th>1</th>\n",
       "      <td>이지영</td>\n",
       "      <td>키움</td>\n",
       "      <td>10</td>\n",
       "      <td>5</td>\n",
       "      <td>0.500</td>\n",
       "    </tr>\n",
       "    <tr>\n",
       "      <th>2</th>\n",
       "      <td>송성문</td>\n",
       "      <td>키움</td>\n",
       "      <td>15</td>\n",
       "      <td>7</td>\n",
       "      <td>0.467</td>\n",
       "    </tr>\n",
       "    <tr>\n",
       "      <th>3</th>\n",
       "      <td>김태진</td>\n",
       "      <td>키움</td>\n",
       "      <td>14</td>\n",
       "      <td>6</td>\n",
       "      <td>0.429</td>\n",
       "    </tr>\n",
       "    <tr>\n",
       "      <th>4</th>\n",
       "      <td>김성현</td>\n",
       "      <td>SSG</td>\n",
       "      <td>17</td>\n",
       "      <td>7</td>\n",
       "      <td>0.412</td>\n",
       "    </tr>\n",
       "    <tr>\n",
       "      <th>5</th>\n",
       "      <td>추신수</td>\n",
       "      <td>SSG</td>\n",
       "      <td>17</td>\n",
       "      <td>6</td>\n",
       "      <td>0.353</td>\n",
       "    </tr>\n",
       "    <tr>\n",
       "      <th>6</th>\n",
       "      <td>라가레스</td>\n",
       "      <td>SSG</td>\n",
       "      <td>17</td>\n",
       "      <td>5</td>\n",
       "      <td>0.294</td>\n",
       "    </tr>\n",
       "    <tr>\n",
       "      <th>7</th>\n",
       "      <td>최지훈</td>\n",
       "      <td>SSG</td>\n",
       "      <td>15</td>\n",
       "      <td>4</td>\n",
       "      <td>0.267</td>\n",
       "    </tr>\n",
       "    <tr>\n",
       "      <th>8</th>\n",
       "      <td>푸이그</td>\n",
       "      <td>키움</td>\n",
       "      <td>16</td>\n",
       "      <td>4</td>\n",
       "      <td>0.250</td>\n",
       "    </tr>\n",
       "    <tr>\n",
       "      <th>9</th>\n",
       "      <td>이정후</td>\n",
       "      <td>키움</td>\n",
       "      <td>19</td>\n",
       "      <td>4</td>\n",
       "      <td>0.211</td>\n",
       "    </tr>\n",
       "    <tr>\n",
       "      <th>10</th>\n",
       "      <td>한유섬</td>\n",
       "      <td>SSG</td>\n",
       "      <td>15</td>\n",
       "      <td>3</td>\n",
       "      <td>0.200</td>\n",
       "    </tr>\n",
       "    <tr>\n",
       "      <th>11</th>\n",
       "      <td>박성한</td>\n",
       "      <td>SSG</td>\n",
       "      <td>17</td>\n",
       "      <td>3</td>\n",
       "      <td>0.176</td>\n",
       "    </tr>\n",
       "    <tr>\n",
       "      <th>12</th>\n",
       "      <td>김혜성</td>\n",
       "      <td>키움</td>\n",
       "      <td>14</td>\n",
       "      <td>1</td>\n",
       "      <td>0.071</td>\n",
       "    </tr>\n",
       "    <tr>\n",
       "      <th>13</th>\n",
       "      <td>김준완</td>\n",
       "      <td>키움</td>\n",
       "      <td>15</td>\n",
       "      <td>1</td>\n",
       "      <td>0.067</td>\n",
       "    </tr>\n",
       "  </tbody>\n",
       "</table>\n",
       "</div>"
      ],
      "text/plain": [
       "     선수명   팀명  AB  H    AVG\n",
       "0     최정  SSG  14  8  0.571\n",
       "1    이지영   키움  10  5  0.500\n",
       "2    송성문   키움  15  7  0.467\n",
       "3    김태진   키움  14  6  0.429\n",
       "4    김성현  SSG  17  7  0.412\n",
       "5    추신수  SSG  17  6  0.353\n",
       "6   라가레스  SSG  17  5  0.294\n",
       "7    최지훈  SSG  15  4  0.267\n",
       "8    푸이그   키움  16  4  0.250\n",
       "9    이정후   키움  19  4  0.211\n",
       "10   한유섬  SSG  15  3  0.200\n",
       "11   박성한  SSG  17  3  0.176\n",
       "12   김혜성   키움  14  1  0.071\n",
       "13   김준완   키움  15  1  0.067"
      ]
     },
     "execution_count": 49,
     "metadata": {},
     "output_type": "execute_result"
    }
   ],
   "source": [
    "df"
   ]
  },
  {
   "cell_type": "code",
   "execution_count": 50,
   "id": "65290e7e-9c0f-4818-b6a0-fb9fea7387c8",
   "metadata": {},
   "outputs": [],
   "source": [
    "df['AB'] = df['AB'].astype(int)"
   ]
  },
  {
   "cell_type": "code",
   "execution_count": 51,
   "id": "f1fa6886-7e7a-42ea-86af-96541653465b",
   "metadata": {},
   "outputs": [],
   "source": [
    "df['H'] = df['H'].astype(int)"
   ]
  },
  {
   "cell_type": "code",
   "execution_count": 52,
   "id": "a895bcf1-eb3a-4875-a72a-7628ebef4a29",
   "metadata": {},
   "outputs": [],
   "source": [
    "df['AVG2'] = df['H'] / df['AB']"
   ]
  },
  {
   "cell_type": "code",
   "execution_count": 53,
   "id": "f0ae578b-7452-449d-b78b-017f87271dcb",
   "metadata": {},
   "outputs": [],
   "source": [
    "df['AVG2'] = round(df['AVG2'], 3)"
   ]
  },
  {
   "cell_type": "code",
   "execution_count": 54,
   "id": "9bc3015c-d659-457f-a2e5-6b9ce59d5f94",
   "metadata": {
    "tags": []
   },
   "outputs": [
    {
     "data": {
      "text/plain": [
       "0     0.571\n",
       "1     0.500\n",
       "2     0.467\n",
       "3     0.429\n",
       "4     0.412\n",
       "5     0.353\n",
       "6     0.294\n",
       "7     0.267\n",
       "8     0.250\n",
       "9     0.211\n",
       "10    0.200\n",
       "11    0.176\n",
       "12    0.071\n",
       "13    0.067\n",
       "Name: AVG2, dtype: float64"
      ]
     },
     "execution_count": 54,
     "metadata": {},
     "output_type": "execute_result"
    }
   ],
   "source": [
    "df['AVG2']"
   ]
  },
  {
   "cell_type": "code",
   "execution_count": 55,
   "id": "59b39262-59fc-4e9a-a05b-ac1b5eecd4e8",
   "metadata": {
    "tags": []
   },
   "outputs": [
    {
     "data": {
      "text/html": [
       "<div>\n",
       "<style scoped>\n",
       "    .dataframe tbody tr th:only-of-type {\n",
       "        vertical-align: middle;\n",
       "    }\n",
       "\n",
       "    .dataframe tbody tr th {\n",
       "        vertical-align: top;\n",
       "    }\n",
       "\n",
       "    .dataframe thead th {\n",
       "        text-align: right;\n",
       "    }\n",
       "</style>\n",
       "<table border=\"1\" class=\"dataframe\">\n",
       "  <thead>\n",
       "    <tr style=\"text-align: right;\">\n",
       "      <th></th>\n",
       "      <th>선수명</th>\n",
       "      <th>팀명</th>\n",
       "      <th>AB</th>\n",
       "      <th>H</th>\n",
       "      <th>AVG</th>\n",
       "      <th>AVG2</th>\n",
       "    </tr>\n",
       "  </thead>\n",
       "  <tbody>\n",
       "    <tr>\n",
       "      <th>0</th>\n",
       "      <td>최정</td>\n",
       "      <td>SSG</td>\n",
       "      <td>14</td>\n",
       "      <td>8</td>\n",
       "      <td>0.571</td>\n",
       "      <td>0.571</td>\n",
       "    </tr>\n",
       "    <tr>\n",
       "      <th>1</th>\n",
       "      <td>이지영</td>\n",
       "      <td>키움</td>\n",
       "      <td>10</td>\n",
       "      <td>5</td>\n",
       "      <td>0.500</td>\n",
       "      <td>0.500</td>\n",
       "    </tr>\n",
       "    <tr>\n",
       "      <th>2</th>\n",
       "      <td>송성문</td>\n",
       "      <td>키움</td>\n",
       "      <td>15</td>\n",
       "      <td>7</td>\n",
       "      <td>0.467</td>\n",
       "      <td>0.467</td>\n",
       "    </tr>\n",
       "    <tr>\n",
       "      <th>3</th>\n",
       "      <td>김태진</td>\n",
       "      <td>키움</td>\n",
       "      <td>14</td>\n",
       "      <td>6</td>\n",
       "      <td>0.429</td>\n",
       "      <td>0.429</td>\n",
       "    </tr>\n",
       "    <tr>\n",
       "      <th>4</th>\n",
       "      <td>김성현</td>\n",
       "      <td>SSG</td>\n",
       "      <td>17</td>\n",
       "      <td>7</td>\n",
       "      <td>0.412</td>\n",
       "      <td>0.412</td>\n",
       "    </tr>\n",
       "    <tr>\n",
       "      <th>5</th>\n",
       "      <td>추신수</td>\n",
       "      <td>SSG</td>\n",
       "      <td>17</td>\n",
       "      <td>6</td>\n",
       "      <td>0.353</td>\n",
       "      <td>0.353</td>\n",
       "    </tr>\n",
       "    <tr>\n",
       "      <th>6</th>\n",
       "      <td>라가레스</td>\n",
       "      <td>SSG</td>\n",
       "      <td>17</td>\n",
       "      <td>5</td>\n",
       "      <td>0.294</td>\n",
       "      <td>0.294</td>\n",
       "    </tr>\n",
       "    <tr>\n",
       "      <th>7</th>\n",
       "      <td>최지훈</td>\n",
       "      <td>SSG</td>\n",
       "      <td>15</td>\n",
       "      <td>4</td>\n",
       "      <td>0.267</td>\n",
       "      <td>0.267</td>\n",
       "    </tr>\n",
       "    <tr>\n",
       "      <th>8</th>\n",
       "      <td>푸이그</td>\n",
       "      <td>키움</td>\n",
       "      <td>16</td>\n",
       "      <td>4</td>\n",
       "      <td>0.250</td>\n",
       "      <td>0.250</td>\n",
       "    </tr>\n",
       "    <tr>\n",
       "      <th>9</th>\n",
       "      <td>이정후</td>\n",
       "      <td>키움</td>\n",
       "      <td>19</td>\n",
       "      <td>4</td>\n",
       "      <td>0.211</td>\n",
       "      <td>0.211</td>\n",
       "    </tr>\n",
       "    <tr>\n",
       "      <th>10</th>\n",
       "      <td>한유섬</td>\n",
       "      <td>SSG</td>\n",
       "      <td>15</td>\n",
       "      <td>3</td>\n",
       "      <td>0.200</td>\n",
       "      <td>0.200</td>\n",
       "    </tr>\n",
       "    <tr>\n",
       "      <th>11</th>\n",
       "      <td>박성한</td>\n",
       "      <td>SSG</td>\n",
       "      <td>17</td>\n",
       "      <td>3</td>\n",
       "      <td>0.176</td>\n",
       "      <td>0.176</td>\n",
       "    </tr>\n",
       "    <tr>\n",
       "      <th>12</th>\n",
       "      <td>김혜성</td>\n",
       "      <td>키움</td>\n",
       "      <td>14</td>\n",
       "      <td>1</td>\n",
       "      <td>0.071</td>\n",
       "      <td>0.071</td>\n",
       "    </tr>\n",
       "    <tr>\n",
       "      <th>13</th>\n",
       "      <td>김준완</td>\n",
       "      <td>키움</td>\n",
       "      <td>15</td>\n",
       "      <td>1</td>\n",
       "      <td>0.067</td>\n",
       "      <td>0.067</td>\n",
       "    </tr>\n",
       "  </tbody>\n",
       "</table>\n",
       "</div>"
      ],
      "text/plain": [
       "     선수명   팀명  AB  H    AVG   AVG2\n",
       "0     최정  SSG  14  8  0.571  0.571\n",
       "1    이지영   키움  10  5  0.500  0.500\n",
       "2    송성문   키움  15  7  0.467  0.467\n",
       "3    김태진   키움  14  6  0.429  0.429\n",
       "4    김성현  SSG  17  7  0.412  0.412\n",
       "5    추신수  SSG  17  6  0.353  0.353\n",
       "6   라가레스  SSG  17  5  0.294  0.294\n",
       "7    최지훈  SSG  15  4  0.267  0.267\n",
       "8    푸이그   키움  16  4  0.250  0.250\n",
       "9    이정후   키움  19  4  0.211  0.211\n",
       "10   한유섬  SSG  15  3  0.200  0.200\n",
       "11   박성한  SSG  17  3  0.176  0.176\n",
       "12   김혜성   키움  14  1  0.071  0.071\n",
       "13   김준완   키움  15  1  0.067  0.067"
      ]
     },
     "execution_count": 55,
     "metadata": {},
     "output_type": "execute_result"
    }
   ],
   "source": [
    "df  #AVG 와 AVG2가 같음을 확인!!"
   ]
  },
  {
   "cell_type": "code",
   "execution_count": 56,
   "id": "fad17384-d8cb-476f-8232-39df3e004cb0",
   "metadata": {},
   "outputs": [
    {
     "data": {
      "text/plain": [
       "SSG    7\n",
       "키움     7\n",
       "Name: 팀명, dtype: int64"
      ]
     },
     "execution_count": 56,
     "metadata": {},
     "output_type": "execute_result"
    }
   ],
   "source": [
    "df['팀명'].value_counts()"
   ]
  },
  {
   "cell_type": "code",
   "execution_count": 57,
   "id": "7259415f-59e1-4217-b024-3269583146b8",
   "metadata": {},
   "outputs": [],
   "source": [
    "df.to_csv('Hitter2022.csv', index=False, encoding='euc-kr')"
   ]
  },
  {
   "cell_type": "code",
   "execution_count": 58,
   "id": "b3b18813-2a61-4682-bd76-c0d34c205c87",
   "metadata": {},
   "outputs": [],
   "source": [
    "#주소 복사하기"
   ]
  },
  {
   "cell_type": "code",
   "execution_count": 59,
   "id": "dd8ba5e5-689a-4074-88b2-90b5328ade4e",
   "metadata": {},
   "outputs": [
    {
     "data": {
      "text/plain": [
       "'/Record/Player/HitterDetail/Basic.aspx?playerId=75847'"
      ]
     },
     "execution_count": 59,
     "metadata": {},
     "output_type": "execute_result"
    }
   ],
   "source": [
    "name[0]['href']"
   ]
  },
  {
   "cell_type": "code",
   "execution_count": 60,
   "id": "f9aeb9f4-23d0-4d1d-84f4-06d4cf23f849",
   "metadata": {},
   "outputs": [
    {
     "data": {
      "text/plain": [
       "'/Record/Player/HitterDetail/Basic.aspx?playerId=75847'"
      ]
     },
     "execution_count": 60,
     "metadata": {},
     "output_type": "execute_result"
    }
   ],
   "source": [
    "name[0]['href']"
   ]
  },
  {
   "cell_type": "code",
   "execution_count": 61,
   "id": "8c2d2945-c2c2-40c8-b03b-eeb2450c39db",
   "metadata": {},
   "outputs": [
    {
     "data": {
      "text/plain": [
       "'http://www.koreabaseball.com//Record/Player/HitterDetail/Basic.aspx?playerId=75847'"
      ]
     },
     "execution_count": 61,
     "metadata": {},
     "output_type": "execute_result"
    }
   ],
   "source": [
    "'http://www.koreabaseball.com/'+name[0]['href']"
   ]
  },
  {
   "cell_type": "markdown",
   "id": "2c32fde2-5b89-4f6e-a12e-375d2ff2ba21",
   "metadata": {},
   "source": [
    "---------------------------"
   ]
  },
  {
   "cell_type": "markdown",
   "id": "cb27c41d-0fd3-4f80-9024-03f5509193a6",
   "metadata": {},
   "source": [
    "## 로또복권사이트에서 1등배출점 을 크롤링하라."
   ]
  },
  {
   "cell_type": "code",
   "execution_count": 62,
   "id": "870a94b4-76c0-4d24-907e-18914eb37e81",
   "metadata": {},
   "outputs": [],
   "source": [
    "import requests\n",
    "from bs4 import BeautifulSoup\n",
    "import pandas as pd"
   ]
  },
  {
   "cell_type": "code",
   "execution_count": 63,
   "id": "e11b0893-9c13-4412-b615-f76a2597e11c",
   "metadata": {},
   "outputs": [],
   "source": [
    "url = 'https://dhlottery.co.kr/store.do?method=topStore&pageGubun=L645' #주소 입력"
   ]
  },
  {
   "cell_type": "code",
   "execution_count": 64,
   "id": "ac3b91b3-d078-4cb1-94f2-affad4d62fac",
   "metadata": {},
   "outputs": [],
   "source": [
    "req = requests.get(url) #주소 입력 후 엔터"
   ]
  },
  {
   "cell_type": "code",
   "execution_count": 65,
   "id": "5cc826da-1854-4ab7-829d-b68d37a4ab5b",
   "metadata": {},
   "outputs": [],
   "source": [
    "html = req.text #요청값에서 text만 빼주겠다~"
   ]
  },
  {
   "cell_type": "code",
   "execution_count": 66,
   "id": "8b368173-2d59-4487-8962-594fc20d0c61",
   "metadata": {},
   "outputs": [],
   "source": [
    "from bs4 import BeautifulSoup"
   ]
  },
  {
   "cell_type": "code",
   "execution_count": 67,
   "id": "e4d2326c-430d-480a-94ba-2cb4c030a3c9",
   "metadata": {},
   "outputs": [],
   "source": [
    "soup = BeautifulSoup(html, 'html.parser')"
   ]
  },
  {
   "cell_type": "code",
   "execution_count": 68,
   "id": "5859772d-2a2e-4b0d-9f17-df3df28b27c9",
   "metadata": {},
   "outputs": [
    {
     "data": {
      "text/plain": [
       "[<td>소리창고</td>]"
      ]
     },
     "execution_count": 68,
     "metadata": {},
     "output_type": "execute_result"
    }
   ],
   "source": [
    "soup.select('#article > div:nth-child(2) > div > div:nth-child(4) > table > tbody > tr:nth-child(1) > td:nth-child(2)')"
   ]
  },
  {
   "cell_type": "code",
   "execution_count": 69,
   "id": "70198a88-a11a-46bc-a83c-1991ca54e37d",
   "metadata": {},
   "outputs": [
    {
     "data": {
      "text/plain": [
       "[<td>로그인편의점</td>]"
      ]
     },
     "execution_count": 69,
     "metadata": {},
     "output_type": "execute_result"
    }
   ],
   "source": [
    "soup.select('#article > div:nth-child(2) > div > div:nth-child(4) > table > tbody > tr:nth-child(2) > td:nth-child(2)')"
   ]
  },
  {
   "cell_type": "code",
   "execution_count": 70,
   "id": "9e4abc6b-d9d1-4cf6-b94d-b0bd71dc0452",
   "metadata": {},
   "outputs": [],
   "source": [
    "name=soup.select('#article > div:nth-child(2) > div > div:nth-child(4) > table > tbody > tr > td:nth-child(2)')"
   ]
  },
  {
   "cell_type": "code",
   "execution_count": 71,
   "id": "384e750b-0f5f-4c3a-abf8-4b1807dd9c3c",
   "metadata": {},
   "outputs": [
    {
     "data": {
      "text/plain": [
       "[<td>\n",
       " \t\t\t\t\t\t\t\t\t\t\t\n",
       " \t\t\t\t\t\t\t\t\t\t\t\t \n",
       " \t\t\t\t\t\t\t\t\t\t\t\t수동\n",
       " \t\t\t\t\t\t\t\t\t\t\t\t\n",
       " \t\t\t\t\t\t\t\t\t\t\t\t\n",
       " \t\t\t\t\t\t\t\t\t\t\t\n",
       " \t\t\t\t\t\t\t\t\t\t</td>]"
      ]
     },
     "execution_count": 71,
     "metadata": {},
     "output_type": "execute_result"
    }
   ],
   "source": [
    "soup.select('#article > div:nth-child(2) > div > div:nth-child(4) > table > tbody > tr:nth-child(1) > td:nth-child(3)')"
   ]
  },
  {
   "cell_type": "code",
   "execution_count": 72,
   "id": "a421aabf-8dbf-4fcb-a494-e316a9ac8042",
   "metadata": {},
   "outputs": [],
   "source": [
    "name_L =[]\n",
    "for n in name :\n",
    "    name_L.append(n.text)"
   ]
  },
  {
   "cell_type": "code",
   "execution_count": 73,
   "id": "649325fc-92c8-4a41-bbd3-4f0f22d5efec",
   "metadata": {},
   "outputs": [
    {
     "data": {
      "text/plain": [
       "['소리창고', '로그인편의점', '뉴빅마트', '새상무복권', '온천로또방', '행운복권', '드림복권방']"
      ]
     },
     "execution_count": 73,
     "metadata": {},
     "output_type": "execute_result"
    }
   ],
   "source": [
    "name_L"
   ]
  },
  {
   "cell_type": "code",
   "execution_count": 74,
   "id": "6c72d3af-a7dc-4efa-953a-ca838e52f448",
   "metadata": {},
   "outputs": [],
   "source": [
    "way=soup.select('#article > div:nth-child(2) > div > div:nth-child(4) > table > tbody > tr > td:nth-child(3)')"
   ]
  },
  {
   "cell_type": "code",
   "execution_count": 75,
   "id": "19b15334-8652-404c-9162-103ba8bd5a55",
   "metadata": {
    "tags": []
   },
   "outputs": [],
   "source": [
    "where=soup.select('#article > div:nth-child(2) > div > div:nth-child(4) > table > tbody > tr > td:nth-child(4)')"
   ]
  },
  {
   "cell_type": "code",
   "execution_count": null,
   "id": "bbe62924-efe0-42a9-a0f1-ad31317c0677",
   "metadata": {},
   "outputs": [],
   "source": []
  },
  {
   "cell_type": "markdown",
   "id": "fdcaf941-125a-433c-bb02-23c524b9d560",
   "metadata": {},
   "source": [
    "*******  해답 ******"
   ]
  },
  {
   "cell_type": "markdown",
   "id": "36655ed7-4626-4d49-82e7-f7e27dc06775",
   "metadata": {},
   "source": [
    "---------------------------------------"
   ]
  },
  {
   "cell_type": "code",
   "execution_count": 76,
   "id": "1549c346-7f3c-4157-833b-8b8f34b85875",
   "metadata": {},
   "outputs": [],
   "source": [
    "data=[]\n",
    "for i in range(len(name)) :\n",
    "    temp =[]\n",
    "    temp.append(name[i].text)\n",
    "    temp.append(way[i].text.strip())\n",
    "    temp.append(where[i].text)\n",
    "    data.append(temp)"
   ]
  },
  {
   "cell_type": "code",
   "execution_count": 77,
   "id": "67be2b88-ddc4-4692-9907-3f52bb0240c0",
   "metadata": {
    "tags": []
   },
   "outputs": [
    {
     "data": {
      "text/plain": [
       "[['소리창고', '수동', '서울 강서구 강서로 306 '],\n",
       " ['로그인편의점', '수동', '서울 성동구 천호대로 430 103호 로그인편의점'],\n",
       " ['뉴빅마트', '자동', '부산 기장군 정관중앙로 48 106호'],\n",
       " ['새상무복권', '자동', '광주 서구 치평로 30 수암빌딩 1층 102호'],\n",
       " ['온천로또방', '자동', '대전 유성구 계룡로 92 유성CJ나인파크 1층 101-3호'],\n",
       " ['행운복권', '자동', '경기 군포시 대야1로 3 현대팰리스 1동'],\n",
       " ['드림복권방', '자동', '경기 의정부시 청사로5번길 8-17 1층 112호(신곡동,센타프라자)']]"
      ]
     },
     "execution_count": 77,
     "metadata": {},
     "output_type": "execute_result"
    }
   ],
   "source": [
    "data"
   ]
  },
  {
   "cell_type": "markdown",
   "id": "ea7b1159-8386-4d10-aa97-80da5089958c",
   "metadata": {},
   "source": [
    "--------------------------------"
   ]
  },
  {
   "cell_type": "code",
   "execution_count": null,
   "id": "92f85acb-e082-4ada-8dfa-83507ca40ebe",
   "metadata": {},
   "outputs": [],
   "source": []
  },
  {
   "cell_type": "code",
   "execution_count": null,
   "id": "c6d2e67b-fb41-4941-b0aa-85824c36ced2",
   "metadata": {},
   "outputs": [],
   "source": []
  },
  {
   "cell_type": "code",
   "execution_count": 78,
   "id": "f0204849-8f5e-4f72-aeec-588dff5f332d",
   "metadata": {
    "tags": []
   },
   "outputs": [
    {
     "data": {
      "text/plain": [
       "<td>\n",
       "\t\t\t\t\t\t\t\t\t\t\t\n",
       "\t\t\t\t\t\t\t\t\t\t\t\t \n",
       "\t\t\t\t\t\t\t\t\t\t\t\t수동\n",
       "\t\t\t\t\t\t\t\t\t\t\t\t\n",
       "\t\t\t\t\t\t\t\t\t\t\t\t\n",
       "\t\t\t\t\t\t\t\t\t\t\t\n",
       "\t\t\t\t\t\t\t\t\t\t</td>"
      ]
     },
     "execution_count": 78,
     "metadata": {},
     "output_type": "execute_result"
    }
   ],
   "source": [
    "way[0]"
   ]
  },
  {
   "cell_type": "code",
   "execution_count": 79,
   "id": "e9069616-c526-456b-b3e9-7be11fa1be8a",
   "metadata": {
    "tags": []
   },
   "outputs": [],
   "source": [
    "way_L =[]\n",
    "for n in way :\n",
    "    way_L.append(n.text)"
   ]
  },
  {
   "cell_type": "code",
   "execution_count": 80,
   "id": "e28a5b27-e241-40f8-8f04-a00bddb57fbf",
   "metadata": {
    "tags": []
   },
   "outputs": [
    {
     "data": {
      "text/plain": [
       "'수동'"
      ]
     },
     "execution_count": 80,
     "metadata": {},
     "output_type": "execute_result"
    }
   ],
   "source": [
    "way_L[0].strip()"
   ]
  },
  {
   "cell_type": "code",
   "execution_count": null,
   "id": "fba782a2-525f-4969-a47b-15456beb8151",
   "metadata": {},
   "outputs": [],
   "source": []
  },
  {
   "cell_type": "code",
   "execution_count": 81,
   "id": "9ac80345-3852-485c-8f6c-85a2d25bbe71",
   "metadata": {},
   "outputs": [
    {
     "data": {
      "text/plain": [
       "7"
      ]
     },
     "execution_count": 81,
     "metadata": {},
     "output_type": "execute_result"
    }
   ],
   "source": [
    "len(way_L)"
   ]
  },
  {
   "cell_type": "code",
   "execution_count": 82,
   "id": "3d7baab2-f01d-4ef5-96b4-ff1b6175975a",
   "metadata": {},
   "outputs": [],
   "source": [
    "L2 =[]\n",
    "for i in range (len(way_L)) :\n",
    "    L2.append(way_L[i].strip())"
   ]
  },
  {
   "cell_type": "code",
   "execution_count": 83,
   "id": "c08999ff-9b11-4934-bddf-280b60773390",
   "metadata": {},
   "outputs": [
    {
     "data": {
      "text/plain": [
       "['수동', '수동', '자동', '자동', '자동', '자동', '자동']"
      ]
     },
     "execution_count": 83,
     "metadata": {},
     "output_type": "execute_result"
    }
   ],
   "source": [
    "L2"
   ]
  },
  {
   "cell_type": "code",
   "execution_count": 84,
   "id": "584d784b-1dd9-4b47-9620-e5b612cacf9b",
   "metadata": {},
   "outputs": [],
   "source": [
    "where_L =[]\n",
    "for n in where :\n",
    "    where_L.append(n.text)"
   ]
  },
  {
   "cell_type": "code",
   "execution_count": 85,
   "id": "4b2d44a6-913b-4b07-8537-e567186eba21",
   "metadata": {},
   "outputs": [
    {
     "data": {
      "text/plain": [
       "['서울 강서구 강서로 306 ',\n",
       " '서울 성동구 천호대로 430 103호 로그인편의점',\n",
       " '부산 기장군 정관중앙로 48 106호',\n",
       " '광주 서구 치평로 30 수암빌딩 1층 102호',\n",
       " '대전 유성구 계룡로 92 유성CJ나인파크 1층 101-3호',\n",
       " '경기 군포시 대야1로 3 현대팰리스 1동',\n",
       " '경기 의정부시 청사로5번길 8-17 1층 112호(신곡동,센타프라자)']"
      ]
     },
     "execution_count": 85,
     "metadata": {},
     "output_type": "execute_result"
    }
   ],
   "source": [
    "where_L"
   ]
  },
  {
   "cell_type": "code",
   "execution_count": null,
   "id": "e1300dbe-95b7-4a0f-8239-5466cdcb360a",
   "metadata": {},
   "outputs": [],
   "source": []
  },
  {
   "cell_type": "code",
   "execution_count": null,
   "id": "93b700f7-5043-402b-bf3e-7fc82290ec66",
   "metadata": {},
   "outputs": [],
   "source": []
  },
  {
   "cell_type": "code",
   "execution_count": 86,
   "id": "1a581975-aba2-448f-908d-737eeabcad73",
   "metadata": {},
   "outputs": [],
   "source": [
    "data  = list(zip(name_L, L2, where_L))"
   ]
  },
  {
   "cell_type": "code",
   "execution_count": 87,
   "id": "99c4a0ee-0013-4ea4-a41d-934343f41980",
   "metadata": {},
   "outputs": [],
   "source": [
    "import pandas as pd"
   ]
  },
  {
   "cell_type": "code",
   "execution_count": 88,
   "id": "f35711f8-3d0a-42b3-9d54-7f275f6c6d17",
   "metadata": {},
   "outputs": [],
   "source": [
    "df = pd.DataFrame(data, columns=['상호명','구분','소재지'])"
   ]
  },
  {
   "cell_type": "code",
   "execution_count": 89,
   "id": "fb1d808c-dedc-4c36-a95e-f612af278556",
   "metadata": {
    "tags": []
   },
   "outputs": [
    {
     "data": {
      "text/html": [
       "<div>\n",
       "<style scoped>\n",
       "    .dataframe tbody tr th:only-of-type {\n",
       "        vertical-align: middle;\n",
       "    }\n",
       "\n",
       "    .dataframe tbody tr th {\n",
       "        vertical-align: top;\n",
       "    }\n",
       "\n",
       "    .dataframe thead th {\n",
       "        text-align: right;\n",
       "    }\n",
       "</style>\n",
       "<table border=\"1\" class=\"dataframe\">\n",
       "  <thead>\n",
       "    <tr style=\"text-align: right;\">\n",
       "      <th></th>\n",
       "      <th>상호명</th>\n",
       "      <th>구분</th>\n",
       "      <th>소재지</th>\n",
       "    </tr>\n",
       "  </thead>\n",
       "  <tbody>\n",
       "    <tr>\n",
       "      <th>0</th>\n",
       "      <td>소리창고</td>\n",
       "      <td>수동</td>\n",
       "      <td>서울 강서구 강서로 306</td>\n",
       "    </tr>\n",
       "    <tr>\n",
       "      <th>1</th>\n",
       "      <td>로그인편의점</td>\n",
       "      <td>수동</td>\n",
       "      <td>서울 성동구 천호대로 430 103호 로그인편의점</td>\n",
       "    </tr>\n",
       "    <tr>\n",
       "      <th>2</th>\n",
       "      <td>뉴빅마트</td>\n",
       "      <td>자동</td>\n",
       "      <td>부산 기장군 정관중앙로 48 106호</td>\n",
       "    </tr>\n",
       "    <tr>\n",
       "      <th>3</th>\n",
       "      <td>새상무복권</td>\n",
       "      <td>자동</td>\n",
       "      <td>광주 서구 치평로 30 수암빌딩 1층 102호</td>\n",
       "    </tr>\n",
       "    <tr>\n",
       "      <th>4</th>\n",
       "      <td>온천로또방</td>\n",
       "      <td>자동</td>\n",
       "      <td>대전 유성구 계룡로 92 유성CJ나인파크 1층 101-3호</td>\n",
       "    </tr>\n",
       "    <tr>\n",
       "      <th>5</th>\n",
       "      <td>행운복권</td>\n",
       "      <td>자동</td>\n",
       "      <td>경기 군포시 대야1로 3 현대팰리스 1동</td>\n",
       "    </tr>\n",
       "    <tr>\n",
       "      <th>6</th>\n",
       "      <td>드림복권방</td>\n",
       "      <td>자동</td>\n",
       "      <td>경기 의정부시 청사로5번길 8-17 1층 112호(신곡동,센타프라자)</td>\n",
       "    </tr>\n",
       "  </tbody>\n",
       "</table>\n",
       "</div>"
      ],
      "text/plain": [
       "      상호명  구분                                     소재지\n",
       "0    소리창고  수동                         서울 강서구 강서로 306 \n",
       "1  로그인편의점  수동             서울 성동구 천호대로 430 103호 로그인편의점\n",
       "2    뉴빅마트  자동                    부산 기장군 정관중앙로 48 106호\n",
       "3   새상무복권  자동               광주 서구 치평로 30 수암빌딩 1층 102호\n",
       "4   온천로또방  자동        대전 유성구 계룡로 92 유성CJ나인파크 1층 101-3호\n",
       "5    행운복권  자동                  경기 군포시 대야1로 3 현대팰리스 1동\n",
       "6   드림복권방  자동  경기 의정부시 청사로5번길 8-17 1층 112호(신곡동,센타프라자)"
      ]
     },
     "execution_count": 89,
     "metadata": {},
     "output_type": "execute_result"
    }
   ],
   "source": [
    "df"
   ]
  },
  {
   "cell_type": "code",
   "execution_count": null,
   "id": "0471eef6-bd56-4098-8117-86fbbae3fdbb",
   "metadata": {},
   "outputs": [],
   "source": []
  },
  {
   "cell_type": "markdown",
   "id": "e2221c4b-a6e4-49d6-ae5e-cd05e9cf3fef",
   "metadata": {},
   "source": [
    "### 맞춰보기!!"
   ]
  },
  {
   "cell_type": "code",
   "execution_count": 90,
   "id": "2b10ed92-c880-41b8-99e5-fddf09f29d53",
   "metadata": {},
   "outputs": [],
   "source": [
    "data=[]\n",
    "for i in range(len(name)) :\n",
    "    temp =[]\n",
    "    temp.append(name[i].text)\n",
    "    temp.append(way[i].text.strip())\n",
    "    temp.append(where[i].text)\n",
    "    data.append(temp)"
   ]
  },
  {
   "cell_type": "code",
   "execution_count": null,
   "id": "f1d09619-7196-43e6-b7c4-a638c7df2a36",
   "metadata": {},
   "outputs": [],
   "source": []
  },
  {
   "cell_type": "code",
   "execution_count": null,
   "id": "977f859d-136c-4b57-83a6-be1ed788d809",
   "metadata": {},
   "outputs": [],
   "source": []
  },
  {
   "cell_type": "code",
   "execution_count": null,
   "id": "4f1bfa6a-22cc-4af3-bf09-0ad8ff331f8c",
   "metadata": {},
   "outputs": [],
   "source": []
  },
  {
   "cell_type": "markdown",
   "id": "15c767f9-c974-405e-8625-4d64c0f73015",
   "metadata": {},
   "source": [
    "# 로또 회차 목록을 추가하고, 1000회부터 1038회까지 pandas"
   ]
  },
  {
   "cell_type": "code",
   "execution_count": null,
   "id": "dfb75a75-bd88-4097-bdc5-48e602f6b823",
   "metadata": {},
   "outputs": [],
   "source": []
  },
  {
   "cell_type": "code",
   "execution_count": 91,
   "id": "f3b8f818-9c3c-4fd8-8d49-7a8f3c8f562b",
   "metadata": {},
   "outputs": [],
   "source": [
    "data = {'method':'topStore',\n",
    "        'nowPage':'1',\n",
    "        'rankNo':'',\n",
    "        'gameNo':'5133',\n",
    "        'drwNo':'1037',\n",
    "        'schKey':'all',\n",
    "        'schVal':''}"
   ]
  },
  {
   "cell_type": "raw",
   "id": "ae77de56-a810-42c0-a44e-85103f545f3c",
   "metadata": {},
   "source": [
    "data.append(1)"
   ]
  },
  {
   "cell_type": "code",
   "execution_count": 92,
   "id": "da0d0990-1415-421c-825b-9dad406c7350",
   "metadata": {},
   "outputs": [
    {
     "data": {
      "text/plain": [
       "{'method': 'topStore',\n",
       " 'nowPage': '1',\n",
       " 'rankNo': '',\n",
       " 'gameNo': '5133',\n",
       " 'drwNo': '1037',\n",
       " 'schKey': 'all',\n",
       " 'schVal': ''}"
      ]
     },
     "execution_count": 92,
     "metadata": {},
     "output_type": "execute_result"
    }
   ],
   "source": [
    "data"
   ]
  },
  {
   "cell_type": "code",
   "execution_count": 93,
   "id": "44ca6381-aa58-4068-8b00-65231bebe1c3",
   "metadata": {},
   "outputs": [],
   "source": [
    "req = requests.post(url, data= data)\n",
    "html = req.text\n",
    "soup = BeautifulSoup(html, 'html.parser')"
   ]
  },
  {
   "cell_type": "code",
   "execution_count": 94,
   "id": "e1312110-a878-476b-a534-726e18dcfd3c",
   "metadata": {},
   "outputs": [],
   "source": [
    "name=soup.select('#article > div:nth-child(2) > div > div:nth-child(4) > table > tbody > tr > td:nth-child(2)')\n",
    "way=soup.select('#article > div:nth-child(2) > div > div:nth-child(4) > table > tbody > tr > td:nth-child(3)')\n",
    "where=soup.select('#article > div:nth-child(2) > div > div:nth-child(4) > table > tbody > tr > td:nth-child(4)')\n",
    "\n",
    "data=[]\n",
    "for i in range(len(name)) :\n",
    "    temp =[]\n",
    "    temp.append(name[i].text)\n",
    "    temp.append(way[i].text.strip())\n",
    "    temp.append(where[i].text)\n",
    "    data.append(temp)"
   ]
  },
  {
   "cell_type": "code",
   "execution_count": 95,
   "id": "f408d8e1-3e18-4f33-ae13-7d6e258bf87d",
   "metadata": {},
   "outputs": [
    {
     "data": {
      "text/plain": [
       "[['지원물산', '자동', '서울 노원구 공릉로 108,(공릉동) '],\n",
       " ['로또 명당', '자동', '대구 동구 화랑로75길 69 '],\n",
       " ['초원복권 신창점', '자동', '광주 광산구 신창로 76 1층'],\n",
       " ['대전우표사', '자동', '대전 동구 중앙로204번길 16-1 '],\n",
       " ['대한유통', '자동', '울산 북구 박상진11로 1 1층112호'],\n",
       " ['몽키버블티', '자동', '경기 군포시 고산로250번길 27 1층 일부호(당동)'],\n",
       " ['꽃길', '수동', '경기 수원시 권선구 정조로 571 1층(세류동)'],\n",
       " ['꽃길', '수동', '경기 수원시 권선구 정조로 571 1층(세류동)'],\n",
       " ['행운복권방', '수동', '경기 안성시 서동대로 7184 1층 복권방'],\n",
       " ['로또복권합정점', '수동', '경기 평택시 중앙로 176 127호 평택합정 SK뷰 주상복합'],\n",
       " ['세븐일레븐화성봉담수기점', '자동', '경기 화성시 세자로 358 '],\n",
       " ['포항오거리CU복권', '자동', '경북 포항시 북구 죽도로 33 CU포항오거리점내'],\n",
       " ['삼정상회', '자동', '경남 김해시 활천로 23 가동 109호 복권판매점'],\n",
       " ['목화휴게소', '자동', '경남 사천시 사천대로 912 '],\n",
       " ['신세계', '자동', '제주 제주시 고마로14길 7 ']]"
      ]
     },
     "execution_count": 95,
     "metadata": {},
     "output_type": "execute_result"
    }
   ],
   "source": [
    "data"
   ]
  },
  {
   "cell_type": "code",
   "execution_count": 96,
   "id": "0a8aa798-f3eb-4ed7-aec5-7531eb5debaa",
   "metadata": {},
   "outputs": [],
   "source": [
    "from tqdm import tqdm"
   ]
  },
  {
   "cell_type": "code",
   "execution_count": 97,
   "id": "8336702e-4c44-4ef4-a956-d1aedfca4f23",
   "metadata": {
    "tags": []
   },
   "outputs": [
    {
     "name": "stderr",
     "output_type": "stream",
     "text": [
      "100%|██████████████████████████████████████████████████████████████████████████████████| 39/39 [00:04<00:00,  8.26it/s]\n"
     ]
    }
   ],
   "source": [
    "data1 = []\n",
    "for n in tqdm(range (1000,1039)):\n",
    "    #print(n)\n",
    "    d_data = {'method':'topStore',\n",
    "        'nowPage':'1',\n",
    "        'rankNo':'',\n",
    "        'gameNo':'5133',\n",
    "        'drwNo':n,\n",
    "        'schKey':'all',\n",
    "        'schVal':''}\n",
    "    \n",
    "    req = requests.post(url, data= d_data)\n",
    "    html = req.text\n",
    "    soup = BeautifulSoup(html, 'html.parser')\n",
    "    \n",
    "    name=soup.select('#article > div:nth-child(2) > div > div:nth-child(4) > table > tbody > tr > td:nth-child(2)')\n",
    "    way=soup.select('#article > div:nth-child(2) > div > div:nth-child(4) > table > tbody > tr > td:nth-child(3)')\n",
    "    where=soup.select('#article > div:nth-child(2) > div > div:nth-child(4) > table > tbody > tr > td:nth-child(4)')\n",
    "\n",
    "  \n",
    "    for i in range(len(name)) :\n",
    "        temp =[]\n",
    "        temp.append(n)\n",
    "        temp.append(name[i].text)\n",
    "        temp.append(way[i].text.strip())\n",
    "        temp.append(where[i].text)\n",
    "        data1.append(temp)"
   ]
  },
  {
   "cell_type": "code",
   "execution_count": 98,
   "id": "6525a9da-9648-412e-9361-ed37fededa25",
   "metadata": {
    "collapsed": true,
    "jupyter": {
     "outputs_hidden": true
    },
    "tags": []
   },
   "outputs": [
    {
     "data": {
      "text/plain": [
       "[[1000, '행운식품', '자동', '서울 관악구 신원로3길 21 '],\n",
       " [1000, '로또백화점 홍은점', '수동', '서울 서대문구 세검정로 99-1 1층 좌측'],\n",
       " [1000, '인터넷 복권판매사이트', '수동', '동행복권(dhlottery.co.kr) '],\n",
       " [1000, '복권나라', '수동', '서울 성동구 용답중앙15길 12-1 1층'],\n",
       " [1000, '티에스네트웍스', '자동', '서울 영등포구 신길로28길  9 상가동 B2층 00006호(신길동, 힐스테이트클래시안)'],\n",
       " [1000, '서면로또', '자동', '부산 부산진구 중앙대로680번가길 55-5 '],\n",
       " [1000, '로터리복권방', '수동', '부산 서구 자갈치로 4 '],\n",
       " [1000, '로터리복권방', '수동', '부산 서구 자갈치로 4 '],\n",
       " [1000, '수퍼복권대박', '수동', '인천 연수구 용담로 60 1층'],\n",
       " [1000, '돈벼락맞는곳', '수동', '대전 서구 복수남로 16 '],\n",
       " [1000, '와우복권방', '자동', '대전 중구 평촌로 94-1 '],\n",
       " [1000, '웃는로또방', '수동', '경기 고양시 덕양구 토당로 102 '],\n",
       " [1000, '강선복권', '반자동', '경기 고양시 일산서구 중앙로 1376 한양상가 1층 8호'],\n",
       " [1000, '올웨이즈', '자동', '경기 군포시  산본로 378 산본사이버텔 사이버텔109호'],\n",
       " [1000, '행운 아이스크림 판매점', '자동', '경기 부천시 부일로 434-1 1층'],\n",
       " [1000, '복권방', '수동', '경기 안양시 동안구 부림로 194  '],\n",
       " [1000, '복권나라', '수동', '경기 포천시 죽엽산로35번길 1 '],\n",
       " [1000, '동탄복합문화센터복권판매점', '자동', '경기 화성시 동탄순환대로 725 106호'],\n",
       " [1000, '더블로또', '수동', '강원 양구군 양구새싹로 22 1층 GS25'],\n",
       " [1000, '복권명당', '수동', '충북 청주시 상당구 월평로 204 '],\n",
       " [1000, '영유통(로또복권)', '수동', '전북 군산시 미룡로 45 '],\n",
       " [1000, '로또복권판매', '수동', '제주 서귀포시 표선동서로 230 '],\n",
       " [1001, '행운복권', '자동', '서울 강북구 솔샘로 212 신영빌딩 1층'],\n",
       " [1001, '복권백화점', '자동', '서울 은평구 연서로29길 7-2 1층'],\n",
       " [1001, '빅세일복권방', '자동', '부산 부산진구 서면문화로 6 '],\n",
       " [1001, '복권명당(동아스포츠점)', '자동', '대구 수성구 지범로 91 1층'],\n",
       " [1001, '최강복권&아이스크림', '수동', '경기 고양시 덕양구 삼송로 176-1 '],\n",
       " [1001, '최강복권&아이스크림', '수동', '경기 고양시 덕양구 삼송로 176-1 '],\n",
       " [1001, '대박복권방', '자동', '경기 남양주시 맷돌로 118 중흥프라자101호'],\n",
       " [1001, '월산리주고받는로또', '자동', '경기 남양주시 경춘로 2244 1층 CU내'],\n",
       " [1001, '소망로또', '자동', '경기 의정부시 평화로 176 '],\n",
       " [1001, '법원로또', '자동', '강원 원주시 무실로 300 원주무실8단지엘에이치아파트 상가 101호'],\n",
       " [1001, '영화유통', '자동', '경북 포항시 북구 양학천로 15 '],\n",
       " [1001, '진양호', '자동', '경남 진주시 남강로 58 1층'],\n",
       " [1002, '투데이', '수동', '서울 동대문구 천호대로 67 1층'],\n",
       " [1002, '그린마트', '자동', '서울 송파구 백제고분로19길 26 1층'],\n",
       " [1002, '진우복권', '자동', '부산 연제구 월드컵대로 119 204호(연산동)'],\n",
       " [1002, '복권방', '자동', '인천 남동구 백범로 123 cu편의점'],\n",
       " [1002, '복권판매점', '수동', '경기 성남시 수정구  남문로77번길 13-1 1층'],\n",
       " [1002, '에이데이마트', '자동', '전남 목포시 백년대로375번길 42 에이데이마트'],\n",
       " [1002, '동일설비 명성복권', '자동', '경북 안동시 경동로 913 '],\n",
       " [1002, '행복충전', '수동', '경북 포항시 북구 삼흥로 441 3호'],\n",
       " [1003, '가로판매대', '자동', '서울 강동구 올림픽로 648 천호역 3번 출구 앞(가판점)'],\n",
       " [1003, '노다지복권방', '자동', '서울 동대문구 한빛로 1-1,(신설동) '],\n",
       " [1003, '버스매표소', '자동', '인천 부평구 부평대로 3 가판'],\n",
       " [1003, '노다지복권방', '수동', '인천 연수구 앵고개로 256 '],\n",
       " [1003, '천복권방', '자동', '대전 대덕구 한밭대로1043번길 2 '],\n",
       " [1003, '주엽역 로또판매점', '자동', '경기 고양시 일산서구 중앙로 1437 화성프라자 도로'],\n",
       " [1003, '해뜰날', '수동', '경기 동두천시 중앙로 134-30 '],\n",
       " [1003, '해뜰날', '수동', '경기 동두천시 중앙로 134-30 '],\n",
       " [1003, '해뜰날', '수동', '경기 동두천시 중앙로 134-30 '],\n",
       " [1003, '해뜰날', '수동', '경기 동두천시 중앙로 134-30 '],\n",
       " [1003, '해뜰날', '수동', '경기 동두천시 중앙로 134-30 '],\n",
       " [1003, '오이도직판장마트', '자동', '경기 시흥시 오이도로 167 오이도이주단지B'],\n",
       " [1003, '떳다복권방', '자동', '전북 군산시 조촌로 90 '],\n",
       " [1003, '로또복권판매', '자동', '제주 서귀포시 표선동서로 230 '],\n",
       " [1004, '금손복권', '자동', '서울 마포구 새창로 22 1층(도화동)'],\n",
       " [1004, '교통카드', '자동', '서울 서초구 강남대로 517 '],\n",
       " [1004, 'G마트', '자동', '서울 영등포구 디지털로 387 '],\n",
       " [1004, '만복래', '자동', '인천 부평구 주부토로 20-2 1층'],\n",
       " [1004, '잉크와복권', '자동', '경기 광명시 시청로 69,(철산동) '],\n",
       " [1004, '대박로또', '자동', '충남 당진시 서해로 6869 '],\n",
       " [1004, '천하명당복권방', '자동', '충남 홍성군 조양로 180 '],\n",
       " [1004, '포시즌마트 빛가람희망로또', '자동', '전남 나주시 그린로 351 110호 포시즌마트'],\n",
       " [1004, '로또야놀자', '자동', '경북 경주시 양정로 211,(동천동) '],\n",
       " [1004, '로또월드', '수동', '경북 성주군 성주순환로 113 1층 창민전기'],\n",
       " [1005, '스파', '자동', '서울 노원구 동일로 1493 상계주공아파트(10단지) 주공10단지종합상가111'],\n",
       " [1005, '부일카서비스', '자동', '부산 동구 자성로133번길 35 '],\n",
       " [1005, '대박신화로또판매점', '자동', '인천 미추홀구 인하로 267 1층'],\n",
       " [1005, '드림마트', '수동', '인천 서구 검단로 490 '],\n",
       " [1005, '영화복권(버들점)', '자동', '광주 서구 상무버들로 32 '],\n",
       " [1005, '이전유통', '자동', '경기 고양시 일산동구 호수로446번길 54 1층'],\n",
       " [1005, '마리오슈퍼', '반자동', '경기 부천시 송내대로265번길 85 뱅뱅프라자 1층 118호'],\n",
       " [1005, '남문시장', '수동', '경기 수원시 팔달구 수원천로255번길 6 영동시장 영동시장 101호'],\n",
       " [1005, '용꿈돼지꿈복권방', '수동', '경기 시흥시 하중로 235 법조타운103호'],\n",
       " [1005, '도깨비복권방', '자동', '전북 군산시 문화로 29 '],\n",
       " [1005, '복권명당', '자동', '경북 경주시 동문로 46 '],\n",
       " [1005, '천하명당복권방', '수동', '경남 거제시 옥포성안로 60 '],\n",
       " [1006, '다판다25 일광푸르지오점', '자동', '부산 기장군 해빛로 39-32 '],\n",
       " [1006, '종로복권', '수동', '인천 서구 검단로 519 종로문고'],\n",
       " [1006, '로또랑 슈퍼랑', '자동', '경기 고양시 일산동구 고양대로 739 1층 108호'],\n",
       " [1006, '토큰박스', '자동', '경기 남양주시 진건오남로 112-1 동양할인마트 앞 로또판매점'],\n",
       " [1006, '북문복권방', '자동', '경기 수원시 장안구 정조로 927-1 '],\n",
       " [1006, '지니로또복권방', '자동', '경기 오산시 대호로 70 '],\n",
       " [1006, '행운복권방', '수동', '경기 포천시 솔모루로 86-1 '],\n",
       " [1006, '서울로또방', '자동', '충북 옥천군 삼금로 8 '],\n",
       " [1006, '로또복권', '자동', '경남 창원시 의창구 원이대로69번길 24-4 1층 103호 태경동태탕'],\n",
       " [1007, '소울로또', '수동', '서울 강동구 진황도로 119 '],\n",
       " [1007, '인터넷 복권판매사이트', '자동', '동행복권(dhlottery.co.kr) '],\n",
       " [1007, '뉴빅마트', '자동', '부산 기장군 정관중앙로 48 106호'],\n",
       " [1007, '로또나라', '자동', '부산 북구 팽나무로 1 '],\n",
       " [1007, '복권명당', '반자동', '대구 수성구 천을로 180 동서1차아파트상가108-112호'],\n",
       " [1007, '로또명당 이천쌀유통', '자동', '인천 부평구 광장로 34 1층'],\n",
       " [1007, '주엽역 로또판매점', '자동', '경기 고양시 일산서구 중앙로 1437 화성프라자 도로'],\n",
       " [1007, '거진터미널로또복권판매점', '수동', '강원 고성군 거진읍 거진길 21-2 거진터미널'],\n",
       " [1007, '로또명당인주점', '자동', '충남 아산시 서해로 519-2 '],\n",
       " [1008, '포이로또방', '수동', '서울 강남구 개포로22길 19 1층'],\n",
       " [1008, '인터넷 복권판매사이트', '자동', '동행복권(dhlottery.co.kr) '],\n",
       " [1008, '어머화장품', '자동', '서울 송파구 가락로11길 19 '],\n",
       " [1008, '현대슈퍼', '자동', '서울 중랑구 봉우재로 203-1,(망우동) '],\n",
       " [1008, '삼각R복권방', '수동', '대구 남구 현충로 221 솔내음발연구소 내'],\n",
       " [1008, '삼각R복권방', '수동', '대구 남구 현충로 221 솔내음발연구소 내'],\n",
       " [1008, '드림월드복권', '자동', '인천 남동구 만수로27번길 3 '],\n",
       " [1008, '로또대박', '자동', '세종  장척로 571 '],\n",
       " [1008, '현대25시편의점', '자동', '경기 고양시 일산서구 경의로 862 1층'],\n",
       " [1008, '대박찬스', '자동', '충북 청주시 흥덕구 가경로161번길 3 '],\n",
       " [1008, '노형로또마트', '자동', '제주 제주시 수덕로 6 '],\n",
       " [1009, '명동역5번출구가판', '자동', '서울 중구 퇴계로 115 '],\n",
       " [1009, '토스터리 아리울', '자동', '부산 동구 중앙대로286번길 3-1 '],\n",
       " [1009, '행운복권방', '수동', '부산 부산진구 냉정로 273 '],\n",
       " [1009, '대원슈퍼마켓', '자동', '부산 수영구 수영로 524 '],\n",
       " [1009, '금강복권', '자동', '경기 김포시 율생로 3 '],\n",
       " [1009, '일등복권', '수동', '경기 성남시 분당구 성남대로331번길 3-3 110호 (정자동, 젤존타워3)'],\n",
       " [1009, '비나리', '자동', '경기 수원시 권선구 금호로 67 (금곡동)'],\n",
       " [1009, '서부역지점', '자동', '경기 평택시 원평로 55 1층'],\n",
       " [1009, '향남복권', '수동', '경기 화성시 행정서로1길 30 '],\n",
       " [1009, '거두리복권방', '자동', '강원 춘천시 거두택지길 25 부영아파트 부영아파트제상가1-102호'],\n",
       " [1009, '황금손복권판매점', '자동', '전북 전주시 완산구 어은로 9 1층'],\n",
       " [1009, '파워할인마트', '자동', '경북 김천시 자산로 44-2 1층 파워할인마트내'],\n",
       " [1009, '삼정상회', '수동', '경남 김해시 활천로 23 가동 109호 복권판매점'],\n",
       " [1009, '부강 돈벼락', '수동', '경남 양산시 물금로 41 양산물금양우내안애5차리버파크 상가108호 양우대산부동산 내'],\n",
       " [1009, '제주대림점', '자동', '제주 제주시 과원북2길 48 '],\n",
       " [1010, '인터넷 복권판매사이트', '자동', '동행복권(dhlottery.co.kr) '],\n",
       " [1010, '지에스25 신매태왕점로또', '자동', '대구 수성구 욱수천로 70 편의점_GS25'],\n",
       " [1010, '한꿈복권방', '자동', '울산 중구 번영로 586 '],\n",
       " [1010, '복권 판매점', '자동', '경기 구리시 안골로 103 '],\n",
       " [1010, '로또25시', '수동', '경기 수원시 권선구 금곡로102번길 15 비즈웍스 비즈웍스 111호'],\n",
       " [1010, '춘향로또', '수동', '전북 남원시 동림로 102-1 '],\n",
       " [1010, '대박복권방', '자동', '경북 구미시 인동36길 34 '],\n",
       " [1010, '억만금로또복권', '자동', '경남 사천시 주공로 60 용강현대아파트 현대상가 1동 101호'],\n",
       " [1011, '버스카드판매대', '자동', '서울 관악구 신림로 145-2 '],\n",
       " [1011, '지에스(GS)25대전코젤점', '자동', '대전 유성구 계백로 927 코젤병원 1층 GS25편의점'],\n",
       " [1011, '복권나라', '수동', '경기 수원시 장안구 장안로 288 수단란주점 1층'],\n",
       " [1011, '오뚜기로또', '수동', '경기 안산시 단원구 원초로 30 보성프라자 143호'],\n",
       " [1011, 'J마트', '수동', '경기 안양시 만안구 안양로 145-1 '],\n",
       " [1011, '규암복권판매점', '자동', '충남 부여군 자온로 61 '],\n",
       " [1011, '노다지복권방', '자동', '충남 천안시 동남구 원성천1길 151 2호'],\n",
       " [1011, '좋은사람들로또', '수동', '전남 보성군 현충로 85 '],\n",
       " [1011, '돈벼락맞는곳', '자동', '경남 김해시 김해대로 2793 복권판매점'],\n",
       " [1011, '희망슈퍼', '수동', '경남 창원시 의창구 원이대로279번길 17 '],\n",
       " [1011, '동홍코사마트', '자동', '제주 서귀포시 동홍서로 108 '],\n",
       " [1012, '복권천하', '자동', '서울 강북구 월계로7나길 23,(미아동) '],\n",
       " [1012, '노다지', '자동', '서울 동대문구 한천로 55 '],\n",
       " [1012, '세계로생활가전', '수동', '서울 동작구 보라매로 104 1층'],\n",
       " [1012, '복권천국', '자동', '서울 서초구 서초대로 97 1층'],\n",
       " [1012, '인터넷 복권판매사이트', '자동', '동행복권(dhlottery.co.kr) '],\n",
       " [1012, '종국이두마리치킨불로점', '자동', '대구 동구 팔공로30길 6 '],\n",
       " [1012, '이마트24 대구북구매천점', '자동', '대구 북구 매전로4길 22 1층(매천동)'],\n",
       " [1012, '명당로또', '자동', '울산 남구 팔등로 65 '],\n",
       " [1012, '명당슈퍼', '자동', '경기 수원시 영통구 중부대로 285 김환규산부인과 '],\n",
       " [1012, '천하명당', '자동', '경기 평택시 탄현로 224 '],\n",
       " [1012, '복권명당', '자동', '충남 공주시 번영1로 41 '],\n",
       " [1012, '차암일등로또', '자동', '충남 천안시 서북구 밤개울1길 1-5 '],\n",
       " [1012, '로또복권판매점', '자동', '전북 남원시 가방뜰길 57 금동휴먼시아 상가'],\n",
       " [1013, '삼성마트', '자동', '서울 강남구 선릉로 628 '],\n",
       " [1013, '스파', '자동', '서울 노원구 동일로 1493 상계주공아파트(10단지) 주공10단지종합상가111'],\n",
       " [1013, '가로가판대제57호(구)', '자동', '서울 중구 세종대로14길 6-2 '],\n",
       " [1013, '부일카서비스', '자동', '부산 동구 자성로133번길 35 '],\n",
       " [1013, '장원로또', '자동', '경기 수원시 영통구 중부대로246번길 10 1층 3호'],\n",
       " [1014, '서울구가-17가판', '자동', '서울 구로구 구로동로 130-2 구로4동우체국앞가판'],\n",
       " [1014, '가로판매점', '수동', '서울 용산구 한강대로 114 신용산역 1번출구앞 가판'],\n",
       " [1014, '갈렙분식한식', '수동', '서울 중랑구 용마산로115길 92 '],\n",
       " [1014, '현대슈퍼', '수동', '광주 서구 상무대로 871 '],\n",
       " [1014, '가판점', '자동', '경기 부천시 부일로459번길 8 국민은행버스정류장 옆 가판'],\n",
       " [1014, '금곡로', '자동', '경기 수원시 권선구 금곡로197번길 18-23 해피라움블루 105호(금곡동, 해피라움블루)'],\n",
       " [1014, '로또복권방', '반자동', '충남 천안시 서북구 쌍용대로 190 상가3호'],\n",
       " [1014, '행운플러스', '수동', '전북 전주시 덕진구 송천로 1 '],\n",
       " [1014, '드림마트', '자동', '경남 김해시 인제로170번길 15-6 씨스페이스편의점 내'],\n",
       " [1014, '스마일', '반자동', '경남 양산시 북안남4길 2 복권판매점'],\n",
       " [1015, '오렌지데이편의점', '수동', '부산 해운대구 좌동순환로249번길 11 르네상스오피스102호'],\n",
       " [1015, '복권명당(영남점)', '수동', '대구 달서구 월배로 122,(진천동) '],\n",
       " [1015, '1등로또방', '자동', '광주 동구 중앙로 249-2 '],\n",
       " [1015, '오천억복권방', '자동', '광주 서구 상무대로 1087 '],\n",
       " [1015, '돈방석', '수동', '경기 수원시 장안구 송정로 170 1층 101호(조원동)'],\n",
       " [1015, '복권천국', '수동', '전남 여수시 선소로 62 부영아파트상가4동1-2호'],\n",
       " [1015, '큐마트학동점로또', '수동', '전남 여수시 학동서5길 2 큐마트내'],\n",
       " [1015, '부강 돈벼락', '자동', '경남 양산시 물금로 41 양산물금양우내안애5차리버파크 상가108호 양우대산부동산 내'],\n",
       " [1016, '나눔로또 석촌점', '수동', '서울 송파구 백제고분로27길  34 1층'],\n",
       " [1016, '가판14호', '자동', '서울 중구 퇴계로 37 '],\n",
       " [1016, '가판14호', '자동', '서울 중구 퇴계로 37 '],\n",
       " [1016, '희망복권방', '자동', '부산 동래구 명장로20번길 26,(명장동) '],\n",
       " [1016, '운수대통', '자동', '인천 부평구 동암광장로 6 1층 A호'],\n",
       " [1016, '우두로또', '자동', '강원 춘천시 영서로 2786 1층'],\n",
       " [1016, '국영슈퍼', '자동', '충남 아산시 시민로 366 '],\n",
       " [1016, '종합복권방', '자동', '전남 해남군 해남로 34 종합복권방편의점 '],\n",
       " [1016, '고현시장만남의광장복권방', '자동', '경남 거제시 거제중앙로19길 8 102호'],\n",
       " [1016, '호박넝쿨복권방', '자동', '경남 김해시 여래로20번길 50-7 103호'],\n",
       " [1016, '지에스(GS25)뉴양산혜인점', '자동', '경남 양산시 웅상대로 955 GS편의점'],\n",
       " [1017, '베네시티앞가판', '자동', '서울 강동구 올림픽로 664 대우베네시티cafe7gram앞'],\n",
       " [1017, '대박복권방', '수동', '서울 구로구 개봉로17길 18 '],\n",
       " [1017, '복권명당', '자동', '서울 동작구 국사봉길 26 '],\n",
       " [1017, 'SK 복권방', '자동', '인천 미추홀구 용정공원로 33 인천SKSkyVIEW 상가 A-2동 1층 104호'],\n",
       " [1017,\n",
       "  '로또판매점',\n",
       "  '자동',\n",
       "  '경기 김포시 김포한강2로 208 고창마을케이시시스위첸아파트 스웨첸아파트상가1동101호씨유kcc점'],\n",
       " [1017, '슈퍼맨편의점', '자동', '강원 강릉시 경강로 2113 꽃사슴복권방'],\n",
       " [1017, '행운복권', '자동', '충북 제천시 명륜로 67 1층'],\n",
       " [1018, '씨스페이스 범어사역점', '자동', '부산 금정구 중앙대로 2097 1층'],\n",
       " [1018, '노다지복권방', '자동', '인천 미추홀구 한나루로 400 학익시장 외7필지125호'],\n",
       " [1019, '미나식품(로또판매점)', '수동', '서울 강서구 금낭화로 91-12 '],\n",
       " [1019, '장수복권', '수동', '서울 관악구 난곡로 223 1층'],\n",
       " [1019, 'Today', '수동', '서울 광진구 광나루로56길 85 테크노마트9층판매동24호'],\n",
       " [1019, '종합가판점', '수동', '서울 동대문구 왕산로40길 6 건물 앞쪽 가판점 청량리역 5번출구 앞쪽'],\n",
       " [1019, '인터넷 복권판매사이트', '수동', '동행복권(dhlottery.co.kr) '],\n",
       " [1019, '인터넷 복권판매사이트', '수동', '동행복권(dhlottery.co.kr) '],\n",
       " [1019, '인터넷 복권판매사이트', '수동', '동행복권(dhlottery.co.kr) '],\n",
       " [1019, '인터넷 복권판매사이트', '수동', '동행복권(dhlottery.co.kr) '],\n",
       " [1019, '인터넷 복권판매사이트', '수동', '동행복권(dhlottery.co.kr) '],\n",
       " [1019, '인터넷 복권판매사이트', '수동', '동행복권(dhlottery.co.kr) '],\n",
       " [1019, '잠실매점', '수동', '서울 송파구 올림픽로 269 잠실역 8번출구 앞 가판'],\n",
       " [1019, '우리마트', '수동', '서울 중구 창경궁로 11 '],\n",
       " [1019, '신간판', '수동', '서울 중구 무교로 24 '],\n",
       " [1019, '빅세일복권방', '수동', '부산 부산진구 서면문화로 6 '],\n",
       " [1019, '청솔서점', '수동', '부산 사하구 하신번영로 195 '],\n",
       " [1019, '플러스로또', '수동', '대구 달서구 월곡로45길 56,(상인동) '],\n",
       " [1019, '로또명당', '반자동', '인천 남동구 호구포로 874 '],\n",
       " [1019, '대박스타', '수동', '인천 미추홀구 경인로 348 1층'],\n",
       " [1019, '무판안경시청점', '수동', '울산 남구 중앙로 210-1 '],\n",
       " [1019, '광명24시편의점', '반자동', '울산 동구 방어진순환도로 945 '],\n",
       " [1019, '복권방', '자동', '울산 울주군 덕남로 87 '],\n",
       " [1019, '경은 로또 판매점', '수동', '울산 중구 태화로 37 1층'],\n",
       " [1019, '다정로또복권', '자동', '세종   다정중앙로 52 '],\n",
       " [1019, '대박복권판매점', '수동', '경기 김포시 김포한강11로140번길 8-12 102호'],\n",
       " [1019, '오남 로또택배', '수동', '경기 남양주시 진건오남로 814 B동 1층 5호'],\n",
       " [1019, '팡팡마트', '수동', '경기 남양주시 진건오남로522번길 3 102호'],\n",
       " [1019, '또와또복권', '수동', '경기 성남시 수정구 수정로 215 왼쪽2호 (태평동)'],\n",
       " [1019, '크로바쉼터', '수동', '경기 성남시 수정구 대왕판교로 1289 1층 5호'],\n",
       " [1019, '따따블 대박로또', '수동', '경기 시흥시 서울대학로278번길 26 109호'],\n",
       " [1019, '머니머니', '자동', '경기 시흥시 월곶중앙로14번길 100 '],\n",
       " [1019, '로또복권', '수동', '경기 오산시 성호새싹길 11 '],\n",
       " [1019, '대박로또', '자동', '경기 용인시 기흥구 신갈로 32 '],\n",
       " [1019, '노다지복권방', '자동', '경기 용인시 처인구 금령로 130 '],\n",
       " [1019, '행운복권방', '수동', '경기 포천시 솔모루로 86-1 '],\n",
       " [1019, '서해로또방', '수동', '경기 화성시 화성로 1471 '],\n",
       " [1019, '드림 복권방', '수동', '경기 화성시 효행로 216 1층'],\n",
       " [1019, '황금복권방', '수동', '강원 인제군 인제로 232 '],\n",
       " [1019, '사내로또', '수동', '강원 화천군 문화마을1길 113 1층'],\n",
       " [1019, '행운복권방', '수동', '충북 청주시 상당구 단재로 119,(영운동) '],\n",
       " [1019, '행운복권방', '수동', '충북 청주시 상당구 단재로 119,(영운동) '],\n",
       " [1019, '로또매점', '수동', '충남 당진시 송산로 723 '],\n",
       " [1019, '1등명당', '수동', '충남 서천군 장항로 220 '],\n",
       " [1019, '1등명당', '수동', '충남 서천군 장항로 220 '],\n",
       " [1019, '1등명당', '수동', '충남 서천군 장항로 220 '],\n",
       " [1019, '남원복권방', '자동', '전북 남원시 남문로 414 '],\n",
       " [1019, '대박찬스', '수동', '전북 정읍시 관통로 59 '],\n",
       " [1019, '광양복권나라(로터리)', '수동', '전남 광양시 백운로 1 '],\n",
       " [1019, '복받는날', '수동', '경북 포항시 북구 삼흥로 64 '],\n",
       " [1019, '스마일', '수동', '경남 양산시 북안남4길 2 복권판매점'],\n",
       " [1019, '범어로또판매점', '수동', '경남 양산시 목화로 52 좌측 복권판매점'],\n",
       " [1020, '고덕로또복권', '자동', '서울 강동구 상일로15길 18 1층'],\n",
       " [1020, '오케이상사', '자동', '서울 서초구 신반포로 176 센트럴시티내100호매점'],\n",
       " [1020, '복권 아이스크림', '자동', '서울 송파구 위례광장로 188 101호'],\n",
       " [1020, '제이복권방', '자동', '서울 종로구 종로 225-1 평창빌딩 1층 103호'],\n",
       " [1020, '을지상회', '자동', '서울 중구 장충단로13길 43 동화연쇄상가1층특3'],\n",
       " [1020, '이마트24침산명성점', '자동', '대구 북구 침산로 153 명성푸르지오 상가 103동 B2호'],\n",
       " [1020, '충남상회', '자동', '인천 미추홀구 석정로 78 10호'],\n",
       " [1020, '진플러스안경', '자동', '대전 중구 대종로 301-1 '],\n",
       " [1020, '행운대박복권방', '자동', '경기 남양주시 광릉내로 17 '],\n",
       " [1020, '주택복권방', '자동', '경기 안양시 동안구 흥안대로145번길 77 77'],\n",
       " [1020, '포유25다농점', '자동', '경기 오산시  운천로 80-5 거성그린프라자114호'],\n",
       " [1020, '민속촌삼거리 행운복권방', '수동', '경기 용인시 기흥구 용구대로 1869 '],\n",
       " [1020, '광포로또복권', '자동', '경북 울진군 죽변북로 154 '],\n",
       " [1021, '황금대박점', '자동', '서울 노원구 공릉로 328,(하계동) '],\n",
       " [1021, '대만상사', '자동', '서울 성북구 보국문로11길 30 '],\n",
       " [1021, 'G마트', '자동', '서울 영등포구 디지털로 387 '],\n",
       " [1021, '야단법석', '자동', '대구 북구 호암로 20 123동112호(성광우방상가 내)'],\n",
       " [1021, '유연마트', '자동', '대전 동구 계족로 88 '],\n",
       " [1021, '대운복권', '자동', '경기 성남시 중원구 성남대로 1149 '],\n",
       " [1021, '스타복권방', '수동', '충남 논산시 안심로 72 '],\n",
       " [1021, '오복로또', '자동', '충남 부여군 성흥로 178 '],\n",
       " [1021, '로또명당인주점', '자동', '충남 아산시 서해로 519-2 '],\n",
       " [1021, '롯데마트', '자동', '전북 군산시 하나운로 43 '],\n",
       " [1021, '불타는복권', '자동', '경북 영주시 기주로 84 '],\n",
       " [1021, '목화휴게소', '자동', '경남 사천시 사천대로 912 '],\n",
       " [1022, '복권백화점', '자동', '경기 파주시 평화로 70 '],\n",
       " [1022, '규암복권판매점', '자동', '충남 부여군 자온로 61 '],\n",
       " [1022, '씨유 목포세진점', '자동', '전남 목포시 해안로249번길 17 CU편의점'],\n",
       " [1022, '텀브커피왜관점 로또명당', '자동', '경북 칠곡군 중앙로 95 1층 커피&로또명당'],\n",
       " [1022, '포항오거리CU복권', '자동', '경북 포항시 북구 죽도로 33 CU포항오거리점내'],\n",
       " [1023, '오로라복권방', '수동', '서울 광진구 뚝섬로 625 국민은행자양동지점 50m'],\n",
       " [1023, '광장하이퍼', '자동', '서울 구로구 경인로53길 15 중앙유통단지C-05'],\n",
       " [1023, '아이마트', '수동', '대전 서구 둔산로 230 '],\n",
       " [1023, '(I.A) 로또마트', '자동', '경기 안산시 단원구 신길로 9-4 '],\n",
       " [1023, '협신복권방', '자동', '경기 여주시 도예로 28 CU편의점내'],\n",
       " [1023, '서해로또방', '자동', '경기 화성시 화성로 1471 '],\n",
       " [1023, '운수대통복권방', '자동', '충남 천안시 동남구 대흥로 122 중앙시장 입구'],\n",
       " [1023, '복권판매점', '반자동', '전남 광양시 용강로 35 '],\n",
       " [1023, '돈방석(로또)', '자동', '경남 사천시 사천대로 1791 '],\n",
       " [1024, '로또 光복권', '자동', '서울 구로구 개봉로23가길 37 '],\n",
       " [1024, 'CU(남가좌현대점)', '자동', '서울 서대문구 가재울로 46 '],\n",
       " [1024, '천하명당로또복권', '수동', '서울 서대문구 세무서길 12 '],\n",
       " [1024, '제일복권', '자동', '부산 서구 충무대로 35-1 1층 복권방'],\n",
       " [1024, '대박명당', '자동', '울산 남구 중앙로 154 '],\n",
       " [1024, '희망복권', '자동', '경기 시흥시 월곶중앙로14번길 68 1동 104호'],\n",
       " [1024, '열두보석복권방', '자동', '경기 용인시 기흥구 구갈로 74 구갈스포츠센타 구갈스포츠센터106호'],\n",
       " [1024, 'CU노서점', '자동', '경북 경주시 금성로259번길 38 1층 CU 노서점 내'],\n",
       " [1025, '행복슈퍼', '자동', '서울 성북구 동소문로 49 '],\n",
       " [1025, '로또킹', '자동', '서울 영등포구 영중로 2 1층(영등포동3가)'],\n",
       " [1025, '오늘또로또', '자동', '경기 이천시 중앙로 92 1층 101호'],\n",
       " [1025, '복권나라', '자동', '충북 제천시 청풍호로 52 1층'],\n",
       " [1026, '자양사거리가로매점', '자동', '서울 광진구 자양로 95 '],\n",
       " [1026, 'GS25궁동상지점', '자동', '서울 구로구 부일로15길 29 '],\n",
       " [1026, '금정복권방', '자동', '서울 도봉구 해등로 168 1층'],\n",
       " [1026, '씨스페이스 범어사역점', '자동', '부산 금정구 중앙대로 2097 1층'],\n",
       " [1026, '수퍼복권대박', '자동', '인천 연수구 용담로 60 1층'],\n",
       " [1026, '운수대통', '자동', '광주 광산구 어등대로 581-1 1층 운수대통'],\n",
       " [1026, '서민', '수동', '경기 광주시 무들로 211 '],\n",
       " [1026, '서민', '수동', '경기 광주시 무들로 211 '],\n",
       " [1026, '지엘복권 및 위로마트', '자동', '경기 김포시 김포한강4로 571 1층 110호'],\n",
       " [1026, '천운', '자동', '경기 의정부시 문충로  110 ,106호(고산동,백봉프라자)'],\n",
       " [1026, 'OK편의점', '자동', '경기 이천시 중리천로 56 '],\n",
       " [1026, '복권하우스', '자동', '경기 평택시 송탄로 369-1 1층'],\n",
       " [1026, '삼팔로또', '자동', '충남 서천군 서천읍 충절로 34 '],\n",
       " [1026, '태안로또복권방', '자동', '충남 태안군 독샘로 57 '],\n",
       " [1026, '진빈레코드', '자동', '경남 밀양시 북성로 7 '],\n",
       " [1027, '인터넷 복권판매사이트', '수동', '동행복권(dhlottery.co.kr) '],\n",
       " [1027, '골든티켓', '자동', '인천 남동구 만수서로 23 101호'],\n",
       " [1027, '행복충전소', '수동', '경기 평택시 탄현로 332-2 '],\n",
       " [1027, '나눔로또판매점희망엄사점', '자동', '충남 계룡시 엄사중앙로 11 '],\n",
       " [1027, '큰별복권판매점', '자동', '충남 논산시 중앙로 318 '],\n",
       " [1027, '왕대박복권', '자동', '충남 논산시 연산면 계백로 1853 편의점'],\n",
       " [1027, '부안복권방', '자동', '전북 부안군 부안읍 번영로 135 '],\n",
       " [1027, '팡팡복권마트.잡화슈퍼', '자동', '전북 전주시 덕진구 가리내로 26 '],\n",
       " [1027, '로또명당', '자동', '전남 해남군 우수영로 1 '],\n",
       " [1027, '럭키', '수동', '경남 진주시 하대로 138 상가동 103호'],\n",
       " [1028, '복권세계', '자동', '서울 구로구 우마길 4 '],\n",
       " [1028, '오성할인마트', '자동', '서울 도봉구 도봉로 505,(쌍문동) '],\n",
       " [1028, '노다지복권방', '자동', '서울 동대문구 한빛로 1-1,(신설동) '],\n",
       " [1028, '인터넷 복권판매사이트', '수동', '동행복권(dhlottery.co.kr) '],\n",
       " [1028, '대지사', '자동', '서울 성동구 왕십리로 362 '],\n",
       " [1028, '크로바쎄븐', '자동', '서울 송파구 법원로11길 7 문정현대지식산업센터1-2 1층 128호'],\n",
       " [1028, '더디씨 신월점', '자동', '서울 양천구 남부순환로 516 '],\n",
       " [1028, '로또킹', '자동', '서울 영등포구 영중로 2 1층(영등포동3가)'],\n",
       " [1028, 'GS25(명륜성대점)', '자동', '서울 종로구 명륜길 2 '],\n",
       " [1028, '돈벼락맞는곳', '자동', '부산 동구 조방로49번길 18-1 '],\n",
       " [1028, '루이방', '수동', '경기 과천시 중앙로 135-1 '],\n",
       " [1028, '로또명당 대박복권방', '자동', '경기 광명시 소하로 78 109호(소하동, 신성프라자)'],\n",
       " [1028, '로또', '자동', '경기 구리시 갈매순환로 96 102호(갈매동,오대타워)'],\n",
       " [1028, '역곡역전로또', '자동', '경기 부천시 경인로 506 가판대'],\n",
       " [1028, '천하명당', '자동', '경기 시흥시 신천3길 26-1 1층1호'],\n",
       " [1028, '로또스테이션', '자동', '경기 안산시 단원구 선부광장1로 81 주공15단지아파트 상가동 108호(선부동1080-2)'],\n",
       " [1028, '열두보석복권방', '자동', '경기 용인시 기흥구 구갈로 74 구갈스포츠센타 구갈스포츠센터106호'],\n",
       " [1028, '한솔제지 오거리로또', '자동', '충남 천안시 동남구 행정길 9 오리사냥 '],\n",
       " [1028, '천하명당', '자동', '전남 여수시 망마로 107 '],\n",
       " [1028, '복권왕국', '자동', '전남 여수시 화산로 134 '],\n",
       " [1029, '인터넷 복권판매사이트', '자동', '동행복권(dhlottery.co.kr) '],\n",
       " [1029, '통일복권방', '반자동', '서울 송파구 백제고분로7길 6 '],\n",
       " [1029, '씨유 장기파랑새점', '자동', '대구 달서구 용산로 63-1 1층  CU편의점'],\n",
       " [1029, '가평로또방', '자동', '경기 가평군 석봉로 240 스마트빌딩 1층'],\n",
       " [1029, '행운복권', '자동', '경기 군포시 대야1로 3 현대팰리스 1동'],\n",
       " [1029, '송추장흥로또', '자동', '경기 양주시 호국로 511 '],\n",
       " [1029, '신나는복권방', '자동', '경기 파주시 문향로 51-1 '],\n",
       " [1029, '현대장미슈퍼', '자동', '전북 익산시 동서로61길 41 현대아파트1층108호'],\n",
       " [1029, '한성슈퍼', '자동', '전북 익산시 익산대로 52 '],\n",
       " [1029, '송도하우스', '자동', '전남 목포시 영산로 525 목포터미널 내'],\n",
       " [1030, '명당복권방', '수동', '서울 동작구 상도로 281 1층'],\n",
       " [1030, '용꿈돼지꿈', '자동', '서울 마포구 마포대로 112-5 '],\n",
       " [1030, '인터넷 복권판매사이트', '수동', '동행복권(dhlottery.co.kr) '],\n",
       " [1030, '인터넷 복권판매사이트', '수동', '동행복권(dhlottery.co.kr) '],\n",
       " [1030, '교통카드판매대', '수동', '서울 송파구 송파대로28길 27 송파성원쌍떼빌 공영주차장앞가판'],\n",
       " [1030, '코사마트금강점', '반자동', '대구 달서구 용산로 204 1층 코사마트'],\n",
       " [1030, '대박복권방', '수동', '대구 북구 옥산로 53,(노원동1가) '],\n",
       " [1030, '복권전문점', '수동', '인천 부평구 원적로 437 '],\n",
       " [1030, '인생로또', '수동', '울산 북구 천곡남로 33 삼성코아루상가내'],\n",
       " [1030, '복권사랑', '자동', '경기 가평군 청평중앙로 24 1층 CU청평중앙로점'],\n",
       " [1030, '대박', '수동', '경기 구리시 안골로103번길 46 '],\n",
       " [1030, '로또맛집배은복', '반자동', '경기 김포시 풍무로 121 1층 6호'],\n",
       " [1030, '김포로또', '자동', '경기 김포시 돌문로 48 한솔프라자101'],\n",
       " [1030, '여수복권방', '자동', '경기 성남시 중원구 성남대로997번길 25-9 '],\n",
       " [1030, '스피드세븐', '자동', '경기 화성시 한절이길 15 101호'],\n",
       " [1030, '돈벼락복권', '자동', '강원 태백시 번영로 356 '],\n",
       " [1030, '천하명당', '반자동', '전남 여수시 망마로 107 '],\n",
       " [1030, '일등복권', '자동', '경북 칠곡군 동명면 금암중앙길 42,(금암리) '],\n",
       " [1030, '동행복권 진해신항점', '자동', '경남 창원시 진해구 신항4로 47-26 111호(마린타워)'],\n",
       " [1031, '삼육오상사', '자동', '서울 동대문구 홍릉로 67 1층우측(청량리동)'],\n",
       " [1031, '우일', '수동', '서울 송파구 마천로 235 '],\n",
       " [1031, '한국인세계대박복권', '자동', '인천 연수구 한나루로197번길 34 '],\n",
       " [1031, '해피+24시편의점', '자동', '광주 북구 하서로 330 '],\n",
       " [1031, '삼산현대 로또판매', '자동', '울산 남구 월평로 225 '],\n",
       " [1031, '후레쉬슈퍼', '수동', '경기 부천시 부천로 80 풍산메디칼프라자 101호'],\n",
       " [1031, '이마트24녹동점1등복권방', '자동', '전남 고흥군 녹동남촌1길 13 이마트24녹동점옆'],\n",
       " [1031, '로또 휴게', '자동', '제주 제주시 연삼로 626 '],\n",
       " [1032, '일등복권방', '자동', '부산 남구 고동골로 3 '],\n",
       " [1032, '미니스톱 새법조타운점', '자동', '부산 연제구 법원로16번길 10 금복빌딩 '],\n",
       " [1032, '행운생활건강', '수동', '인천 서구 고래울로 42 '],\n",
       " [1032, '복권명당(광주시청점)', '자동', '경기 광주시 회안대로 900 로얄프라자 115호'],\n",
       " [1032, '로또복권방', '자동', '경기 군포시 산본로323번길 16-6 신명타워 신명빌딩1층1005호'],\n",
       " [1032, '1번지복권방', '자동', '경기 성남시 중원구 희망로 448 1층일부 (금광동)'],\n",
       " [1032, '번개로또복권방', '자동', '경기 수원시 장안구 경수대로973번길 13-4 1층 (송죽동)'],\n",
       " [1032, '대박천국', '자동', '전북 군산시 가도로 217 다모아 '],\n",
       " [1032, '에코시티복권판매점', '수동', '전북 전주시 덕진구 세병로 8 '],\n",
       " [1032, '코아복권판매점', '자동', '전북 전주시 완산구 팔달로 252 '],\n",
       " [1033, '월드 복권방', '자동', '서울 강서구 곰달래로53길 41 1층 102호(화곡동, 재룡빌딩)'],\n",
       " [1033, '헬스프라자', '수동', '서울 관악구 관악로 184 1층'],\n",
       " [1033, '인터넷 복권판매사이트', '자동', '동행복권(dhlottery.co.kr) '],\n",
       " [1033, '행운복권방', '수동', '서울 은평구 서오릉로 10,(녹번동) '],\n",
       " [1033, '송천복권방', '자동', '부산 해운대구 선수촌로 108 '],\n",
       " [1033, '복권왕국', '자동', '인천 부평구 경인로 931 '],\n",
       " [1033, '복권천국', '자동', '인천 부평구 평천로 306 양영빌딩1층'],\n",
       " [1033, '성호복권방', '자동', '대전 대덕구 신일동로 1 '],\n",
       " [1033, '대박로또복권', '자동', '경기 김포시 통진읍 김포대로 2449 '],\n",
       " [1033, '대박행진 복권랜드', '자동', '경기 파주시 금빛로 22 금촌프라자107호'],\n",
       " [1033, 'CU(제천고암점)', '자동', '충북 제천시 고암로 69 1층 CU편의점'],\n",
       " [1033, '세븐일레븐 천안메르디앙점', '수동', '충남 천안시 서북구 성정공원5로 30 105호(세븐일레븐)'],\n",
       " [1033, '포시즌', '수동', '경남 김해시 내외중앙로 99 복권판매점'],\n",
       " [1034, '부자랑', '수동', '서울 성동구 둘레15길 23 '],\n",
       " [1034, '홈돌이로또복권', '자동', '인천 남동구 경원대로 971 삼성홈플러스간석점2층내'],\n",
       " [1034, 'LG슈퍼', '수동', '인천 연수구 함박로12번길 24 1층'],\n",
       " [1034, '경준유통', '자동', '인천 중구 화랑목로100번길 65 104호'],\n",
       " [1034, '오천억복권방', '자동', '광주 서구 상무대로 1087 '],\n",
       " [1034, '제우스테크', '자동', '대전 서구 원도안로 30 '],\n",
       " [1034, '강경복권방', '자동', '충남 논산시 강경읍 계백로 126-1,(대흥리) '],\n",
       " [1034, '청룡마트', '자동', '충남 천안시 동남구 풍세로 1010-31 현대아파트상가B-102호'],\n",
       " [1034, '스타복권', '자동', '전남 목포시 고하대로 688-1 1층'],\n",
       " [1035, '인터넷 복권판매사이트', '자동', '동행복권(dhlottery.co.kr) '],\n",
       " [1035, '세원로또복권방', '자동', '부산 수영구 수영로725번길 53 수영 엔스타Ⅱ 101호'],\n",
       " [1035, '무량복권', '자동', '대구 수성구 시지로 37 1층 동편상가'],\n",
       " [1035, '동원인테리어', '수동', '인천 미추홀구 경인로 213-4 '],\n",
       " [1035, '복권명당', '자동', '인천 서구 봉오재3로 104 엔시티타워2차 1층 115호'],\n",
       " [1035, '황금복권판매점', '자동', '경기 성남시 중원구 산성대로582번길 2 1층일부 (은행동)'],\n",
       " [1035, '로또명당가두판매점', '자동', '경기 안양시 동안구 경수대로 848-2 동안구가로판매대2005-00065 '],\n",
       " [1035, '영월로또명당', '자동', '강원 영월군 중앙로 44 '],\n",
       " [1036, '토큰박스', '자동', '서울 동대문구 이문로 93 민족통일MJ캠퍼스외대 외대앞 버스정류장'],\n",
       " [1036, '명지복권방', '자동', '서울 송파구 거마로 55 101호'],\n",
       " [1036, '하나복권(가로판매점)', '자동', '서울 영등포구 여의나루로 42 가로판매점(여의도동)'],\n",
       " [1036, '동양마트일곡점', '자동', '광주 북구 일곡마을로 55 현대아파트 2차상가 102-2호'],\n",
       " [1036, '용꿈돼지꿈복권방', '수동', '경기 시흥시 하중로 235 법조타운103호'],\n",
       " [1036, '로또', '자동', '경기 포천시 죽엽산로196번길 4 '],\n",
       " [1036, '명성복권마트', '수동', '충남 계룡시 장안로 66 '],\n",
       " [1036, '복권천국', '수동', '전남 여수시 선소로 62 부영아파트상가4동1-2호'],\n",
       " [1036, '비디오 채널4', '수동', '경남 진주시 동진로 220 '],\n",
       " [1037, '지원물산', '자동', '서울 노원구 공릉로 108,(공릉동) '],\n",
       " [1037, '로또 명당', '자동', '대구 동구 화랑로75길 69 '],\n",
       " [1037, '초원복권 신창점', '자동', '광주 광산구 신창로 76 1층'],\n",
       " [1037, '대전우표사', '자동', '대전 동구 중앙로204번길 16-1 '],\n",
       " [1037, '대한유통', '자동', '울산 북구 박상진11로 1 1층112호'],\n",
       " [1037, '몽키버블티', '자동', '경기 군포시 고산로250번길 27 1층 일부호(당동)'],\n",
       " [1037, '꽃길', '수동', '경기 수원시 권선구 정조로 571 1층(세류동)'],\n",
       " [1037, '꽃길', '수동', '경기 수원시 권선구 정조로 571 1층(세류동)'],\n",
       " [1037, '행운복권방', '수동', '경기 안성시 서동대로 7184 1층 복권방'],\n",
       " [1037, '로또복권합정점', '수동', '경기 평택시 중앙로 176 127호 평택합정 SK뷰 주상복합'],\n",
       " [1037, '세븐일레븐화성봉담수기점', '자동', '경기 화성시 세자로 358 '],\n",
       " [1037, '포항오거리CU복권', '자동', '경북 포항시 북구 죽도로 33 CU포항오거리점내'],\n",
       " [1037, '삼정상회', '자동', '경남 김해시 활천로 23 가동 109호 복권판매점'],\n",
       " [1037, '목화휴게소', '자동', '경남 사천시 사천대로 912 '],\n",
       " [1037, '신세계', '자동', '제주 제주시 고마로14길 7 '],\n",
       " [1038, '인터넷 복권판매사이트', '자동', '동행복권(dhlottery.co.kr) '],\n",
       " [1038, '하나복권(가로판매점)', '자동', '서울 영등포구 여의나루로 42 가로판매점(여의도동)'],\n",
       " [1038, '황금로또', '자동', '부산 동구 중앙대로251번길 42-1 '],\n",
       " [1038, '고려슈퍼마켓', '자동', '경기 구리시 원수택로64번길 28 상가'],\n",
       " [1038, '대한복권', '자동', '경기 부천시 부천로 52 '],\n",
       " [1038, '그린마트', '자동', '경기 성남시 분당구 대왕판교로 255 107호'],\n",
       " [1038, '한아름복권방(매탄점)', '수동', '경기 수원시 영통구 권선로 808 '],\n",
       " [1038, '종합복권슈퍼', '자동', '경기 시흥시 마유로 336 정일빌딩104'],\n",
       " [1038, '프랜드편의점', '수동', '경기 화성시 3.1만세로 1100-2 '],\n",
       " [1038, '진평양행', '자동', '강원 강릉시 임영로 107 '],\n",
       " [1038, '이마트24망상해변점', '자동', '강원 동해시 동해대로 6270-20 1층 118호, 이마트24망상해변점'],\n",
       " [1038, 'NG24', '수동', '경북 칠곡군 북중리3길 59 '],\n",
       " [1038, '천하명당(팔용점)', '자동', '경남 창원시 의창구 사화로 26 '],\n",
       " [1038, '킹로또', '수동', '제주 제주시 아란4길 85-5 1층'],\n",
       " [1038, '행운복권방', '수동', '제주 제주시 우정로11길 12 ']]"
      ]
     },
     "execution_count": 98,
     "metadata": {},
     "output_type": "execute_result"
    }
   ],
   "source": [
    "data1"
   ]
  },
  {
   "cell_type": "code",
   "execution_count": 99,
   "id": "6fd8184e-ed41-4b30-866b-842e43c782f1",
   "metadata": {},
   "outputs": [
    {
     "data": {
      "text/plain": [
       "459"
      ]
     },
     "execution_count": 99,
     "metadata": {},
     "output_type": "execute_result"
    }
   ],
   "source": [
    "len(data1)"
   ]
  },
  {
   "cell_type": "code",
   "execution_count": 100,
   "id": "c152c4b1-61f3-456f-b045-5359e9a5e223",
   "metadata": {},
   "outputs": [],
   "source": [
    "lotto = pd.DataFrame(data1)"
   ]
  },
  {
   "cell_type": "code",
   "execution_count": 101,
   "id": "62eafa0d-311e-4147-9b2d-7ab340f1b50c",
   "metadata": {
    "tags": []
   },
   "outputs": [
    {
     "data": {
      "text/html": [
       "<div>\n",
       "<style scoped>\n",
       "    .dataframe tbody tr th:only-of-type {\n",
       "        vertical-align: middle;\n",
       "    }\n",
       "\n",
       "    .dataframe tbody tr th {\n",
       "        vertical-align: top;\n",
       "    }\n",
       "\n",
       "    .dataframe thead th {\n",
       "        text-align: right;\n",
       "    }\n",
       "</style>\n",
       "<table border=\"1\" class=\"dataframe\">\n",
       "  <thead>\n",
       "    <tr style=\"text-align: right;\">\n",
       "      <th></th>\n",
       "      <th>0</th>\n",
       "      <th>1</th>\n",
       "      <th>2</th>\n",
       "      <th>3</th>\n",
       "    </tr>\n",
       "  </thead>\n",
       "  <tbody>\n",
       "    <tr>\n",
       "      <th>0</th>\n",
       "      <td>1000</td>\n",
       "      <td>행운식품</td>\n",
       "      <td>자동</td>\n",
       "      <td>서울 관악구 신원로3길 21</td>\n",
       "    </tr>\n",
       "    <tr>\n",
       "      <th>1</th>\n",
       "      <td>1000</td>\n",
       "      <td>로또백화점 홍은점</td>\n",
       "      <td>수동</td>\n",
       "      <td>서울 서대문구 세검정로 99-1 1층 좌측</td>\n",
       "    </tr>\n",
       "    <tr>\n",
       "      <th>2</th>\n",
       "      <td>1000</td>\n",
       "      <td>인터넷 복권판매사이트</td>\n",
       "      <td>수동</td>\n",
       "      <td>동행복권(dhlottery.co.kr)</td>\n",
       "    </tr>\n",
       "    <tr>\n",
       "      <th>3</th>\n",
       "      <td>1000</td>\n",
       "      <td>복권나라</td>\n",
       "      <td>수동</td>\n",
       "      <td>서울 성동구 용답중앙15길 12-1 1층</td>\n",
       "    </tr>\n",
       "    <tr>\n",
       "      <th>4</th>\n",
       "      <td>1000</td>\n",
       "      <td>티에스네트웍스</td>\n",
       "      <td>자동</td>\n",
       "      <td>서울 영등포구 신길로28길  9 상가동 B2층 00006호(신길동, 힐스테이트클래시안)</td>\n",
       "    </tr>\n",
       "    <tr>\n",
       "      <th>...</th>\n",
       "      <td>...</td>\n",
       "      <td>...</td>\n",
       "      <td>...</td>\n",
       "      <td>...</td>\n",
       "    </tr>\n",
       "    <tr>\n",
       "      <th>454</th>\n",
       "      <td>1038</td>\n",
       "      <td>이마트24망상해변점</td>\n",
       "      <td>자동</td>\n",
       "      <td>강원 동해시 동해대로 6270-20 1층 118호, 이마트24망상해변점</td>\n",
       "    </tr>\n",
       "    <tr>\n",
       "      <th>455</th>\n",
       "      <td>1038</td>\n",
       "      <td>NG24</td>\n",
       "      <td>수동</td>\n",
       "      <td>경북 칠곡군 북중리3길 59</td>\n",
       "    </tr>\n",
       "    <tr>\n",
       "      <th>456</th>\n",
       "      <td>1038</td>\n",
       "      <td>천하명당(팔용점)</td>\n",
       "      <td>자동</td>\n",
       "      <td>경남 창원시 의창구 사화로 26</td>\n",
       "    </tr>\n",
       "    <tr>\n",
       "      <th>457</th>\n",
       "      <td>1038</td>\n",
       "      <td>킹로또</td>\n",
       "      <td>수동</td>\n",
       "      <td>제주 제주시 아란4길 85-5 1층</td>\n",
       "    </tr>\n",
       "    <tr>\n",
       "      <th>458</th>\n",
       "      <td>1038</td>\n",
       "      <td>행운복권방</td>\n",
       "      <td>수동</td>\n",
       "      <td>제주 제주시 우정로11길 12</td>\n",
       "    </tr>\n",
       "  </tbody>\n",
       "</table>\n",
       "<p>459 rows × 4 columns</p>\n",
       "</div>"
      ],
      "text/plain": [
       "        0            1   2                                                 3\n",
       "0    1000         행운식품  자동                                  서울 관악구 신원로3길 21 \n",
       "1    1000    로또백화점 홍은점  수동                           서울 서대문구 세검정로 99-1 1층 좌측\n",
       "2    1000  인터넷 복권판매사이트  수동                            동행복권(dhlottery.co.kr) \n",
       "3    1000         복권나라  수동                            서울 성동구 용답중앙15길 12-1 1층\n",
       "4    1000      티에스네트웍스  자동  서울 영등포구 신길로28길  9 상가동 B2층 00006호(신길동, 힐스테이트클래시안)\n",
       "..    ...          ...  ..                                               ...\n",
       "454  1038   이마트24망상해변점  자동           강원 동해시 동해대로 6270-20 1층 118호, 이마트24망상해변점\n",
       "455  1038         NG24  수동                                  경북 칠곡군 북중리3길 59 \n",
       "456  1038    천하명당(팔용점)  자동                                경남 창원시 의창구 사화로 26 \n",
       "457  1038          킹로또  수동                               제주 제주시 아란4길 85-5 1층\n",
       "458  1038        행운복권방  수동                                 제주 제주시 우정로11길 12 \n",
       "\n",
       "[459 rows x 4 columns]"
      ]
     },
     "execution_count": 101,
     "metadata": {},
     "output_type": "execute_result"
    }
   ],
   "source": [
    "lotto"
   ]
  },
  {
   "cell_type": "code",
   "execution_count": 102,
   "id": "73aca826-c7a8-41a7-8a02-aed55dec67d8",
   "metadata": {},
   "outputs": [
    {
     "data": {
      "text/plain": [
       "RangeIndex(start=0, stop=4, step=1)"
      ]
     },
     "execution_count": 102,
     "metadata": {},
     "output_type": "execute_result"
    }
   ],
   "source": [
    "lotto.columns"
   ]
  },
  {
   "cell_type": "code",
   "execution_count": 103,
   "id": "54b46cce-4eea-4e68-8a9b-4444f322f65c",
   "metadata": {},
   "outputs": [],
   "source": [
    "lotto.columns=['회차','상호명','구분','소재지']"
   ]
  },
  {
   "cell_type": "code",
   "execution_count": 104,
   "id": "bb170aae-77bd-45bc-8f91-f994be543f69",
   "metadata": {
    "tags": []
   },
   "outputs": [
    {
     "data": {
      "text/html": [
       "<div>\n",
       "<style scoped>\n",
       "    .dataframe tbody tr th:only-of-type {\n",
       "        vertical-align: middle;\n",
       "    }\n",
       "\n",
       "    .dataframe tbody tr th {\n",
       "        vertical-align: top;\n",
       "    }\n",
       "\n",
       "    .dataframe thead th {\n",
       "        text-align: right;\n",
       "    }\n",
       "</style>\n",
       "<table border=\"1\" class=\"dataframe\">\n",
       "  <thead>\n",
       "    <tr style=\"text-align: right;\">\n",
       "      <th></th>\n",
       "      <th>회차</th>\n",
       "      <th>상호명</th>\n",
       "      <th>구분</th>\n",
       "      <th>소재지</th>\n",
       "    </tr>\n",
       "  </thead>\n",
       "  <tbody>\n",
       "    <tr>\n",
       "      <th>0</th>\n",
       "      <td>1000</td>\n",
       "      <td>행운식품</td>\n",
       "      <td>자동</td>\n",
       "      <td>서울 관악구 신원로3길 21</td>\n",
       "    </tr>\n",
       "    <tr>\n",
       "      <th>1</th>\n",
       "      <td>1000</td>\n",
       "      <td>로또백화점 홍은점</td>\n",
       "      <td>수동</td>\n",
       "      <td>서울 서대문구 세검정로 99-1 1층 좌측</td>\n",
       "    </tr>\n",
       "    <tr>\n",
       "      <th>2</th>\n",
       "      <td>1000</td>\n",
       "      <td>인터넷 복권판매사이트</td>\n",
       "      <td>수동</td>\n",
       "      <td>동행복권(dhlottery.co.kr)</td>\n",
       "    </tr>\n",
       "    <tr>\n",
       "      <th>3</th>\n",
       "      <td>1000</td>\n",
       "      <td>복권나라</td>\n",
       "      <td>수동</td>\n",
       "      <td>서울 성동구 용답중앙15길 12-1 1층</td>\n",
       "    </tr>\n",
       "    <tr>\n",
       "      <th>4</th>\n",
       "      <td>1000</td>\n",
       "      <td>티에스네트웍스</td>\n",
       "      <td>자동</td>\n",
       "      <td>서울 영등포구 신길로28길  9 상가동 B2층 00006호(신길동, 힐스테이트클래시안)</td>\n",
       "    </tr>\n",
       "    <tr>\n",
       "      <th>...</th>\n",
       "      <td>...</td>\n",
       "      <td>...</td>\n",
       "      <td>...</td>\n",
       "      <td>...</td>\n",
       "    </tr>\n",
       "    <tr>\n",
       "      <th>454</th>\n",
       "      <td>1038</td>\n",
       "      <td>이마트24망상해변점</td>\n",
       "      <td>자동</td>\n",
       "      <td>강원 동해시 동해대로 6270-20 1층 118호, 이마트24망상해변점</td>\n",
       "    </tr>\n",
       "    <tr>\n",
       "      <th>455</th>\n",
       "      <td>1038</td>\n",
       "      <td>NG24</td>\n",
       "      <td>수동</td>\n",
       "      <td>경북 칠곡군 북중리3길 59</td>\n",
       "    </tr>\n",
       "    <tr>\n",
       "      <th>456</th>\n",
       "      <td>1038</td>\n",
       "      <td>천하명당(팔용점)</td>\n",
       "      <td>자동</td>\n",
       "      <td>경남 창원시 의창구 사화로 26</td>\n",
       "    </tr>\n",
       "    <tr>\n",
       "      <th>457</th>\n",
       "      <td>1038</td>\n",
       "      <td>킹로또</td>\n",
       "      <td>수동</td>\n",
       "      <td>제주 제주시 아란4길 85-5 1층</td>\n",
       "    </tr>\n",
       "    <tr>\n",
       "      <th>458</th>\n",
       "      <td>1038</td>\n",
       "      <td>행운복권방</td>\n",
       "      <td>수동</td>\n",
       "      <td>제주 제주시 우정로11길 12</td>\n",
       "    </tr>\n",
       "  </tbody>\n",
       "</table>\n",
       "<p>459 rows × 4 columns</p>\n",
       "</div>"
      ],
      "text/plain": [
       "       회차          상호명  구분                                               소재지\n",
       "0    1000         행운식품  자동                                  서울 관악구 신원로3길 21 \n",
       "1    1000    로또백화점 홍은점  수동                           서울 서대문구 세검정로 99-1 1층 좌측\n",
       "2    1000  인터넷 복권판매사이트  수동                            동행복권(dhlottery.co.kr) \n",
       "3    1000         복권나라  수동                            서울 성동구 용답중앙15길 12-1 1층\n",
       "4    1000      티에스네트웍스  자동  서울 영등포구 신길로28길  9 상가동 B2층 00006호(신길동, 힐스테이트클래시안)\n",
       "..    ...          ...  ..                                               ...\n",
       "454  1038   이마트24망상해변점  자동           강원 동해시 동해대로 6270-20 1층 118호, 이마트24망상해변점\n",
       "455  1038         NG24  수동                                  경북 칠곡군 북중리3길 59 \n",
       "456  1038    천하명당(팔용점)  자동                                경남 창원시 의창구 사화로 26 \n",
       "457  1038          킹로또  수동                               제주 제주시 아란4길 85-5 1층\n",
       "458  1038        행운복권방  수동                                 제주 제주시 우정로11길 12 \n",
       "\n",
       "[459 rows x 4 columns]"
      ]
     },
     "execution_count": 104,
     "metadata": {},
     "output_type": "execute_result"
    }
   ],
   "source": [
    "lotto"
   ]
  },
  {
   "cell_type": "code",
   "execution_count": 105,
   "id": "3e7081b2-2c6e-49db-bc9d-77fd910b4328",
   "metadata": {},
   "outputs": [],
   "source": [
    " # get 방식과 post방식\n",
    " #    req = requests.post(url, data= d_data)\n",
    " #    req = request.get(url, headers=headers)"
   ]
  },
  {
   "cell_type": "code",
   "execution_count": 106,
   "id": "a97349aa-1e8a-40ed-b416-067e460d8e37",
   "metadata": {},
   "outputs": [
    {
     "data": {
      "text/html": [
       "<div>\n",
       "<style scoped>\n",
       "    .dataframe tbody tr th:only-of-type {\n",
       "        vertical-align: middle;\n",
       "    }\n",
       "\n",
       "    .dataframe tbody tr th {\n",
       "        vertical-align: top;\n",
       "    }\n",
       "\n",
       "    .dataframe thead th {\n",
       "        text-align: right;\n",
       "    }\n",
       "</style>\n",
       "<table border=\"1\" class=\"dataframe\">\n",
       "  <thead>\n",
       "    <tr style=\"text-align: right;\">\n",
       "      <th></th>\n",
       "      <th>회차</th>\n",
       "      <th>상호명</th>\n",
       "      <th>구분</th>\n",
       "      <th>소재지</th>\n",
       "    </tr>\n",
       "  </thead>\n",
       "  <tbody>\n",
       "    <tr>\n",
       "      <th>60</th>\n",
       "      <td>1004</td>\n",
       "      <td>잉크와복권</td>\n",
       "      <td>자동</td>\n",
       "      <td>경기 광명시 시청로 69,(철산동)</td>\n",
       "    </tr>\n",
       "    <tr>\n",
       "      <th>334</th>\n",
       "      <td>1028</td>\n",
       "      <td>로또명당 대박복권방</td>\n",
       "      <td>자동</td>\n",
       "      <td>경기 광명시 소하로 78 109호(소하동, 신성프라자)</td>\n",
       "    </tr>\n",
       "  </tbody>\n",
       "</table>\n",
       "</div>"
      ],
      "text/plain": [
       "       회차         상호명  구분                             소재지\n",
       "60   1004       잉크와복권  자동            경기 광명시 시청로 69,(철산동) \n",
       "334  1028  로또명당 대박복권방  자동  경기 광명시 소하로 78 109호(소하동, 신성프라자)"
      ]
     },
     "execution_count": 106,
     "metadata": {},
     "output_type": "execute_result"
    }
   ],
   "source": [
    "lotto[lotto['소재지'].str.contains('광명')]"
   ]
  },
  {
   "cell_type": "code",
   "execution_count": 107,
   "id": "3bdbcca0-6ddc-4bda-833f-2c9b06945ea3",
   "metadata": {},
   "outputs": [],
   "source": [
    "#lotto.to_csv('lotto.csv', index=False, encoding='euc-kr')"
   ]
  },
  {
   "cell_type": "code",
   "execution_count": 108,
   "id": "5bf8ee45-4ab7-4492-a53f-2ffa6bc1e5c3",
   "metadata": {},
   "outputs": [],
   "source": [
    "df=lotto"
   ]
  },
  {
   "cell_type": "code",
   "execution_count": 109,
   "id": "cc4d235b-ffef-44bf-92a1-3fc55cd8af43",
   "metadata": {
    "tags": []
   },
   "outputs": [
    {
     "data": {
      "text/html": [
       "<div>\n",
       "<style scoped>\n",
       "    .dataframe tbody tr th:only-of-type {\n",
       "        vertical-align: middle;\n",
       "    }\n",
       "\n",
       "    .dataframe tbody tr th {\n",
       "        vertical-align: top;\n",
       "    }\n",
       "\n",
       "    .dataframe thead th {\n",
       "        text-align: right;\n",
       "    }\n",
       "</style>\n",
       "<table border=\"1\" class=\"dataframe\">\n",
       "  <thead>\n",
       "    <tr style=\"text-align: right;\">\n",
       "      <th></th>\n",
       "      <th>회차</th>\n",
       "      <th>상호명</th>\n",
       "      <th>구분</th>\n",
       "      <th>소재지</th>\n",
       "    </tr>\n",
       "  </thead>\n",
       "  <tbody>\n",
       "    <tr>\n",
       "      <th>0</th>\n",
       "      <td>1000</td>\n",
       "      <td>행운식품</td>\n",
       "      <td>자동</td>\n",
       "      <td>서울 관악구 신원로3길 21</td>\n",
       "    </tr>\n",
       "    <tr>\n",
       "      <th>1</th>\n",
       "      <td>1000</td>\n",
       "      <td>로또백화점 홍은점</td>\n",
       "      <td>수동</td>\n",
       "      <td>서울 서대문구 세검정로 99-1 1층 좌측</td>\n",
       "    </tr>\n",
       "    <tr>\n",
       "      <th>2</th>\n",
       "      <td>1000</td>\n",
       "      <td>인터넷 복권판매사이트</td>\n",
       "      <td>수동</td>\n",
       "      <td>동행복권(dhlottery.co.kr)</td>\n",
       "    </tr>\n",
       "    <tr>\n",
       "      <th>3</th>\n",
       "      <td>1000</td>\n",
       "      <td>복권나라</td>\n",
       "      <td>수동</td>\n",
       "      <td>서울 성동구 용답중앙15길 12-1 1층</td>\n",
       "    </tr>\n",
       "    <tr>\n",
       "      <th>4</th>\n",
       "      <td>1000</td>\n",
       "      <td>티에스네트웍스</td>\n",
       "      <td>자동</td>\n",
       "      <td>서울 영등포구 신길로28길  9 상가동 B2층 00006호(신길동, 힐스테이트클래시안)</td>\n",
       "    </tr>\n",
       "    <tr>\n",
       "      <th>...</th>\n",
       "      <td>...</td>\n",
       "      <td>...</td>\n",
       "      <td>...</td>\n",
       "      <td>...</td>\n",
       "    </tr>\n",
       "    <tr>\n",
       "      <th>454</th>\n",
       "      <td>1038</td>\n",
       "      <td>이마트24망상해변점</td>\n",
       "      <td>자동</td>\n",
       "      <td>강원 동해시 동해대로 6270-20 1층 118호, 이마트24망상해변점</td>\n",
       "    </tr>\n",
       "    <tr>\n",
       "      <th>455</th>\n",
       "      <td>1038</td>\n",
       "      <td>NG24</td>\n",
       "      <td>수동</td>\n",
       "      <td>경북 칠곡군 북중리3길 59</td>\n",
       "    </tr>\n",
       "    <tr>\n",
       "      <th>456</th>\n",
       "      <td>1038</td>\n",
       "      <td>천하명당(팔용점)</td>\n",
       "      <td>자동</td>\n",
       "      <td>경남 창원시 의창구 사화로 26</td>\n",
       "    </tr>\n",
       "    <tr>\n",
       "      <th>457</th>\n",
       "      <td>1038</td>\n",
       "      <td>킹로또</td>\n",
       "      <td>수동</td>\n",
       "      <td>제주 제주시 아란4길 85-5 1층</td>\n",
       "    </tr>\n",
       "    <tr>\n",
       "      <th>458</th>\n",
       "      <td>1038</td>\n",
       "      <td>행운복권방</td>\n",
       "      <td>수동</td>\n",
       "      <td>제주 제주시 우정로11길 12</td>\n",
       "    </tr>\n",
       "  </tbody>\n",
       "</table>\n",
       "<p>459 rows × 4 columns</p>\n",
       "</div>"
      ],
      "text/plain": [
       "       회차          상호명  구분                                               소재지\n",
       "0    1000         행운식품  자동                                  서울 관악구 신원로3길 21 \n",
       "1    1000    로또백화점 홍은점  수동                           서울 서대문구 세검정로 99-1 1층 좌측\n",
       "2    1000  인터넷 복권판매사이트  수동                            동행복권(dhlottery.co.kr) \n",
       "3    1000         복권나라  수동                            서울 성동구 용답중앙15길 12-1 1층\n",
       "4    1000      티에스네트웍스  자동  서울 영등포구 신길로28길  9 상가동 B2층 00006호(신길동, 힐스테이트클래시안)\n",
       "..    ...          ...  ..                                               ...\n",
       "454  1038   이마트24망상해변점  자동           강원 동해시 동해대로 6270-20 1층 118호, 이마트24망상해변점\n",
       "455  1038         NG24  수동                                  경북 칠곡군 북중리3길 59 \n",
       "456  1038    천하명당(팔용점)  자동                                경남 창원시 의창구 사화로 26 \n",
       "457  1038          킹로또  수동                               제주 제주시 아란4길 85-5 1층\n",
       "458  1038        행운복권방  수동                                 제주 제주시 우정로11길 12 \n",
       "\n",
       "[459 rows x 4 columns]"
      ]
     },
     "execution_count": 109,
     "metadata": {},
     "output_type": "execute_result"
    }
   ],
   "source": [
    "df"
   ]
  },
  {
   "cell_type": "code",
   "execution_count": 110,
   "id": "706e2fa0-0255-445d-bde4-32bdddc754be",
   "metadata": {
    "tags": []
   },
   "outputs": [
    {
     "data": {
      "text/plain": [
       "1019    50\n",
       "1000    22\n",
       "1028    20\n",
       "1030    19\n",
       "1038    15\n",
       "1037    15\n",
       "1026    15\n",
       "1009    15\n",
       "1003    14\n",
       "1012    13\n",
       "1033    13\n",
       "1020    13\n",
       "1021    12\n",
       "1001    12\n",
       "1005    12\n",
       "1008    11\n",
       "1011    11\n",
       "1016    11\n",
       "1004    10\n",
       "1032    10\n",
       "1014    10\n",
       "1027    10\n",
       "1029    10\n",
       "1036     9\n",
       "1034     9\n",
       "1006     9\n",
       "1023     9\n",
       "1007     9\n",
       "1035     8\n",
       "1031     8\n",
       "1002     8\n",
       "1024     8\n",
       "1010     8\n",
       "1015     8\n",
       "1017     7\n",
       "1013     5\n",
       "1022     5\n",
       "1025     4\n",
       "1018     2\n",
       "Name: 회차, dtype: int64"
      ]
     },
     "execution_count": 110,
     "metadata": {},
     "output_type": "execute_result"
    }
   ],
   "source": [
    "df['회차'].value_counts() #회차별 당첨자수"
   ]
  },
  {
   "cell_type": "code",
   "execution_count": 111,
   "id": "ee4a3824-7618-4f44-a96e-1a8b2db0b5f6",
   "metadata": {
    "tags": []
   },
   "outputs": [
    {
     "data": {
      "text/html": [
       "<div>\n",
       "<style scoped>\n",
       "    .dataframe tbody tr th:only-of-type {\n",
       "        vertical-align: middle;\n",
       "    }\n",
       "\n",
       "    .dataframe tbody tr th {\n",
       "        vertical-align: top;\n",
       "    }\n",
       "\n",
       "    .dataframe thead th {\n",
       "        text-align: right;\n",
       "    }\n",
       "</style>\n",
       "<table border=\"1\" class=\"dataframe\">\n",
       "  <thead>\n",
       "    <tr style=\"text-align: right;\">\n",
       "      <th></th>\n",
       "      <th>회차</th>\n",
       "      <th>상호명</th>\n",
       "      <th>구분</th>\n",
       "      <th>소재지</th>\n",
       "    </tr>\n",
       "  </thead>\n",
       "  <tbody>\n",
       "    <tr>\n",
       "      <th>197</th>\n",
       "      <td>1019</td>\n",
       "      <td>미나식품(로또판매점)</td>\n",
       "      <td>수동</td>\n",
       "      <td>서울 강서구 금낭화로 91-12</td>\n",
       "    </tr>\n",
       "    <tr>\n",
       "      <th>198</th>\n",
       "      <td>1019</td>\n",
       "      <td>장수복권</td>\n",
       "      <td>수동</td>\n",
       "      <td>서울 관악구 난곡로 223 1층</td>\n",
       "    </tr>\n",
       "    <tr>\n",
       "      <th>199</th>\n",
       "      <td>1019</td>\n",
       "      <td>Today</td>\n",
       "      <td>수동</td>\n",
       "      <td>서울 광진구 광나루로56길 85 테크노마트9층판매동24호</td>\n",
       "    </tr>\n",
       "    <tr>\n",
       "      <th>200</th>\n",
       "      <td>1019</td>\n",
       "      <td>종합가판점</td>\n",
       "      <td>수동</td>\n",
       "      <td>서울 동대문구 왕산로40길 6 건물 앞쪽 가판점 청량리역 5번출구 앞쪽</td>\n",
       "    </tr>\n",
       "    <tr>\n",
       "      <th>201</th>\n",
       "      <td>1019</td>\n",
       "      <td>인터넷 복권판매사이트</td>\n",
       "      <td>수동</td>\n",
       "      <td>동행복권(dhlottery.co.kr)</td>\n",
       "    </tr>\n",
       "    <tr>\n",
       "      <th>202</th>\n",
       "      <td>1019</td>\n",
       "      <td>인터넷 복권판매사이트</td>\n",
       "      <td>수동</td>\n",
       "      <td>동행복권(dhlottery.co.kr)</td>\n",
       "    </tr>\n",
       "    <tr>\n",
       "      <th>203</th>\n",
       "      <td>1019</td>\n",
       "      <td>인터넷 복권판매사이트</td>\n",
       "      <td>수동</td>\n",
       "      <td>동행복권(dhlottery.co.kr)</td>\n",
       "    </tr>\n",
       "    <tr>\n",
       "      <th>204</th>\n",
       "      <td>1019</td>\n",
       "      <td>인터넷 복권판매사이트</td>\n",
       "      <td>수동</td>\n",
       "      <td>동행복권(dhlottery.co.kr)</td>\n",
       "    </tr>\n",
       "    <tr>\n",
       "      <th>205</th>\n",
       "      <td>1019</td>\n",
       "      <td>인터넷 복권판매사이트</td>\n",
       "      <td>수동</td>\n",
       "      <td>동행복권(dhlottery.co.kr)</td>\n",
       "    </tr>\n",
       "    <tr>\n",
       "      <th>206</th>\n",
       "      <td>1019</td>\n",
       "      <td>인터넷 복권판매사이트</td>\n",
       "      <td>수동</td>\n",
       "      <td>동행복권(dhlottery.co.kr)</td>\n",
       "    </tr>\n",
       "    <tr>\n",
       "      <th>207</th>\n",
       "      <td>1019</td>\n",
       "      <td>잠실매점</td>\n",
       "      <td>수동</td>\n",
       "      <td>서울 송파구 올림픽로 269 잠실역 8번출구 앞 가판</td>\n",
       "    </tr>\n",
       "    <tr>\n",
       "      <th>208</th>\n",
       "      <td>1019</td>\n",
       "      <td>우리마트</td>\n",
       "      <td>수동</td>\n",
       "      <td>서울 중구 창경궁로 11</td>\n",
       "    </tr>\n",
       "    <tr>\n",
       "      <th>209</th>\n",
       "      <td>1019</td>\n",
       "      <td>신간판</td>\n",
       "      <td>수동</td>\n",
       "      <td>서울 중구 무교로 24</td>\n",
       "    </tr>\n",
       "    <tr>\n",
       "      <th>210</th>\n",
       "      <td>1019</td>\n",
       "      <td>빅세일복권방</td>\n",
       "      <td>수동</td>\n",
       "      <td>부산 부산진구 서면문화로 6</td>\n",
       "    </tr>\n",
       "    <tr>\n",
       "      <th>211</th>\n",
       "      <td>1019</td>\n",
       "      <td>청솔서점</td>\n",
       "      <td>수동</td>\n",
       "      <td>부산 사하구 하신번영로 195</td>\n",
       "    </tr>\n",
       "    <tr>\n",
       "      <th>212</th>\n",
       "      <td>1019</td>\n",
       "      <td>플러스로또</td>\n",
       "      <td>수동</td>\n",
       "      <td>대구 달서구 월곡로45길 56,(상인동)</td>\n",
       "    </tr>\n",
       "    <tr>\n",
       "      <th>213</th>\n",
       "      <td>1019</td>\n",
       "      <td>로또명당</td>\n",
       "      <td>반자동</td>\n",
       "      <td>인천 남동구 호구포로 874</td>\n",
       "    </tr>\n",
       "    <tr>\n",
       "      <th>214</th>\n",
       "      <td>1019</td>\n",
       "      <td>대박스타</td>\n",
       "      <td>수동</td>\n",
       "      <td>인천 미추홀구 경인로 348 1층</td>\n",
       "    </tr>\n",
       "    <tr>\n",
       "      <th>215</th>\n",
       "      <td>1019</td>\n",
       "      <td>무판안경시청점</td>\n",
       "      <td>수동</td>\n",
       "      <td>울산 남구 중앙로 210-1</td>\n",
       "    </tr>\n",
       "    <tr>\n",
       "      <th>216</th>\n",
       "      <td>1019</td>\n",
       "      <td>광명24시편의점</td>\n",
       "      <td>반자동</td>\n",
       "      <td>울산 동구 방어진순환도로 945</td>\n",
       "    </tr>\n",
       "    <tr>\n",
       "      <th>217</th>\n",
       "      <td>1019</td>\n",
       "      <td>복권방</td>\n",
       "      <td>자동</td>\n",
       "      <td>울산 울주군 덕남로 87</td>\n",
       "    </tr>\n",
       "    <tr>\n",
       "      <th>218</th>\n",
       "      <td>1019</td>\n",
       "      <td>경은 로또 판매점</td>\n",
       "      <td>수동</td>\n",
       "      <td>울산 중구 태화로 37 1층</td>\n",
       "    </tr>\n",
       "    <tr>\n",
       "      <th>219</th>\n",
       "      <td>1019</td>\n",
       "      <td>다정로또복권</td>\n",
       "      <td>자동</td>\n",
       "      <td>세종   다정중앙로 52</td>\n",
       "    </tr>\n",
       "    <tr>\n",
       "      <th>220</th>\n",
       "      <td>1019</td>\n",
       "      <td>대박복권판매점</td>\n",
       "      <td>수동</td>\n",
       "      <td>경기 김포시 김포한강11로140번길 8-12 102호</td>\n",
       "    </tr>\n",
       "    <tr>\n",
       "      <th>221</th>\n",
       "      <td>1019</td>\n",
       "      <td>오남 로또택배</td>\n",
       "      <td>수동</td>\n",
       "      <td>경기 남양주시 진건오남로 814 B동 1층 5호</td>\n",
       "    </tr>\n",
       "    <tr>\n",
       "      <th>222</th>\n",
       "      <td>1019</td>\n",
       "      <td>팡팡마트</td>\n",
       "      <td>수동</td>\n",
       "      <td>경기 남양주시 진건오남로522번길 3 102호</td>\n",
       "    </tr>\n",
       "    <tr>\n",
       "      <th>223</th>\n",
       "      <td>1019</td>\n",
       "      <td>또와또복권</td>\n",
       "      <td>수동</td>\n",
       "      <td>경기 성남시 수정구 수정로 215 왼쪽2호 (태평동)</td>\n",
       "    </tr>\n",
       "    <tr>\n",
       "      <th>224</th>\n",
       "      <td>1019</td>\n",
       "      <td>크로바쉼터</td>\n",
       "      <td>수동</td>\n",
       "      <td>경기 성남시 수정구 대왕판교로 1289 1층 5호</td>\n",
       "    </tr>\n",
       "    <tr>\n",
       "      <th>225</th>\n",
       "      <td>1019</td>\n",
       "      <td>따따블 대박로또</td>\n",
       "      <td>수동</td>\n",
       "      <td>경기 시흥시 서울대학로278번길 26 109호</td>\n",
       "    </tr>\n",
       "    <tr>\n",
       "      <th>226</th>\n",
       "      <td>1019</td>\n",
       "      <td>머니머니</td>\n",
       "      <td>자동</td>\n",
       "      <td>경기 시흥시 월곶중앙로14번길 100</td>\n",
       "    </tr>\n",
       "    <tr>\n",
       "      <th>227</th>\n",
       "      <td>1019</td>\n",
       "      <td>로또복권</td>\n",
       "      <td>수동</td>\n",
       "      <td>경기 오산시 성호새싹길 11</td>\n",
       "    </tr>\n",
       "    <tr>\n",
       "      <th>228</th>\n",
       "      <td>1019</td>\n",
       "      <td>대박로또</td>\n",
       "      <td>자동</td>\n",
       "      <td>경기 용인시 기흥구 신갈로 32</td>\n",
       "    </tr>\n",
       "    <tr>\n",
       "      <th>229</th>\n",
       "      <td>1019</td>\n",
       "      <td>노다지복권방</td>\n",
       "      <td>자동</td>\n",
       "      <td>경기 용인시 처인구 금령로 130</td>\n",
       "    </tr>\n",
       "    <tr>\n",
       "      <th>230</th>\n",
       "      <td>1019</td>\n",
       "      <td>행운복권방</td>\n",
       "      <td>수동</td>\n",
       "      <td>경기 포천시 솔모루로 86-1</td>\n",
       "    </tr>\n",
       "    <tr>\n",
       "      <th>231</th>\n",
       "      <td>1019</td>\n",
       "      <td>서해로또방</td>\n",
       "      <td>수동</td>\n",
       "      <td>경기 화성시 화성로 1471</td>\n",
       "    </tr>\n",
       "    <tr>\n",
       "      <th>232</th>\n",
       "      <td>1019</td>\n",
       "      <td>드림 복권방</td>\n",
       "      <td>수동</td>\n",
       "      <td>경기 화성시 효행로 216 1층</td>\n",
       "    </tr>\n",
       "    <tr>\n",
       "      <th>233</th>\n",
       "      <td>1019</td>\n",
       "      <td>황금복권방</td>\n",
       "      <td>수동</td>\n",
       "      <td>강원 인제군 인제로 232</td>\n",
       "    </tr>\n",
       "    <tr>\n",
       "      <th>234</th>\n",
       "      <td>1019</td>\n",
       "      <td>사내로또</td>\n",
       "      <td>수동</td>\n",
       "      <td>강원 화천군 문화마을1길 113 1층</td>\n",
       "    </tr>\n",
       "    <tr>\n",
       "      <th>235</th>\n",
       "      <td>1019</td>\n",
       "      <td>행운복권방</td>\n",
       "      <td>수동</td>\n",
       "      <td>충북 청주시 상당구 단재로 119,(영운동)</td>\n",
       "    </tr>\n",
       "    <tr>\n",
       "      <th>236</th>\n",
       "      <td>1019</td>\n",
       "      <td>행운복권방</td>\n",
       "      <td>수동</td>\n",
       "      <td>충북 청주시 상당구 단재로 119,(영운동)</td>\n",
       "    </tr>\n",
       "    <tr>\n",
       "      <th>237</th>\n",
       "      <td>1019</td>\n",
       "      <td>로또매점</td>\n",
       "      <td>수동</td>\n",
       "      <td>충남 당진시 송산로 723</td>\n",
       "    </tr>\n",
       "    <tr>\n",
       "      <th>238</th>\n",
       "      <td>1019</td>\n",
       "      <td>1등명당</td>\n",
       "      <td>수동</td>\n",
       "      <td>충남 서천군 장항로 220</td>\n",
       "    </tr>\n",
       "    <tr>\n",
       "      <th>239</th>\n",
       "      <td>1019</td>\n",
       "      <td>1등명당</td>\n",
       "      <td>수동</td>\n",
       "      <td>충남 서천군 장항로 220</td>\n",
       "    </tr>\n",
       "    <tr>\n",
       "      <th>240</th>\n",
       "      <td>1019</td>\n",
       "      <td>1등명당</td>\n",
       "      <td>수동</td>\n",
       "      <td>충남 서천군 장항로 220</td>\n",
       "    </tr>\n",
       "    <tr>\n",
       "      <th>241</th>\n",
       "      <td>1019</td>\n",
       "      <td>남원복권방</td>\n",
       "      <td>자동</td>\n",
       "      <td>전북 남원시 남문로 414</td>\n",
       "    </tr>\n",
       "    <tr>\n",
       "      <th>242</th>\n",
       "      <td>1019</td>\n",
       "      <td>대박찬스</td>\n",
       "      <td>수동</td>\n",
       "      <td>전북 정읍시 관통로 59</td>\n",
       "    </tr>\n",
       "    <tr>\n",
       "      <th>243</th>\n",
       "      <td>1019</td>\n",
       "      <td>광양복권나라(로터리)</td>\n",
       "      <td>수동</td>\n",
       "      <td>전남 광양시 백운로 1</td>\n",
       "    </tr>\n",
       "    <tr>\n",
       "      <th>244</th>\n",
       "      <td>1019</td>\n",
       "      <td>복받는날</td>\n",
       "      <td>수동</td>\n",
       "      <td>경북 포항시 북구 삼흥로 64</td>\n",
       "    </tr>\n",
       "    <tr>\n",
       "      <th>245</th>\n",
       "      <td>1019</td>\n",
       "      <td>스마일</td>\n",
       "      <td>수동</td>\n",
       "      <td>경남 양산시 북안남4길 2 복권판매점</td>\n",
       "    </tr>\n",
       "    <tr>\n",
       "      <th>246</th>\n",
       "      <td>1019</td>\n",
       "      <td>범어로또판매점</td>\n",
       "      <td>수동</td>\n",
       "      <td>경남 양산시 목화로 52 좌측 복권판매점</td>\n",
       "    </tr>\n",
       "  </tbody>\n",
       "</table>\n",
       "</div>"
      ],
      "text/plain": [
       "       회차          상호명   구분                                      소재지\n",
       "197  1019  미나식품(로또판매점)   수동                       서울 강서구 금낭화로 91-12 \n",
       "198  1019         장수복권   수동                        서울 관악구 난곡로 223 1층\n",
       "199  1019        Today   수동          서울 광진구 광나루로56길 85 테크노마트9층판매동24호\n",
       "200  1019        종합가판점   수동  서울 동대문구 왕산로40길 6 건물 앞쪽 가판점 청량리역 5번출구 앞쪽\n",
       "201  1019  인터넷 복권판매사이트   수동                   동행복권(dhlottery.co.kr) \n",
       "202  1019  인터넷 복권판매사이트   수동                   동행복권(dhlottery.co.kr) \n",
       "203  1019  인터넷 복권판매사이트   수동                   동행복권(dhlottery.co.kr) \n",
       "204  1019  인터넷 복권판매사이트   수동                   동행복권(dhlottery.co.kr) \n",
       "205  1019  인터넷 복권판매사이트   수동                   동행복권(dhlottery.co.kr) \n",
       "206  1019  인터넷 복권판매사이트   수동                   동행복권(dhlottery.co.kr) \n",
       "207  1019         잠실매점   수동            서울 송파구 올림픽로 269 잠실역 8번출구 앞 가판\n",
       "208  1019         우리마트   수동                           서울 중구 창경궁로 11 \n",
       "209  1019          신간판   수동                            서울 중구 무교로 24 \n",
       "210  1019       빅세일복권방   수동                         부산 부산진구 서면문화로 6 \n",
       "211  1019         청솔서점   수동                        부산 사하구 하신번영로 195 \n",
       "212  1019        플러스로또   수동                  대구 달서구 월곡로45길 56,(상인동) \n",
       "213  1019         로또명당  반자동                         인천 남동구 호구포로 874 \n",
       "214  1019         대박스타   수동                       인천 미추홀구 경인로 348 1층\n",
       "215  1019      무판안경시청점   수동                         울산 남구 중앙로 210-1 \n",
       "216  1019     광명24시편의점  반자동                       울산 동구 방어진순환도로 945 \n",
       "217  1019          복권방   자동                           울산 울주군 덕남로 87 \n",
       "218  1019    경은 로또 판매점   수동                          울산 중구 태화로 37 1층\n",
       "219  1019       다정로또복권   자동                           세종   다정중앙로 52 \n",
       "220  1019      대박복권판매점   수동            경기 김포시 김포한강11로140번길 8-12 102호\n",
       "221  1019      오남 로또택배   수동               경기 남양주시 진건오남로 814 B동 1층 5호\n",
       "222  1019         팡팡마트   수동                경기 남양주시 진건오남로522번길 3 102호\n",
       "223  1019        또와또복권   수동            경기 성남시 수정구 수정로 215 왼쪽2호 (태평동)\n",
       "224  1019        크로바쉼터   수동              경기 성남시 수정구 대왕판교로 1289 1층 5호\n",
       "225  1019     따따블 대박로또   수동                경기 시흥시 서울대학로278번길 26 109호\n",
       "226  1019         머니머니   자동                    경기 시흥시 월곶중앙로14번길 100 \n",
       "227  1019         로또복권   수동                         경기 오산시 성호새싹길 11 \n",
       "228  1019         대박로또   자동                       경기 용인시 기흥구 신갈로 32 \n",
       "229  1019       노다지복권방   자동                      경기 용인시 처인구 금령로 130 \n",
       "230  1019        행운복권방   수동                        경기 포천시 솔모루로 86-1 \n",
       "231  1019        서해로또방   수동                         경기 화성시 화성로 1471 \n",
       "232  1019       드림 복권방   수동                        경기 화성시 효행로 216 1층\n",
       "233  1019        황금복권방   수동                          강원 인제군 인제로 232 \n",
       "234  1019         사내로또   수동                     강원 화천군 문화마을1길 113 1층\n",
       "235  1019        행운복권방   수동                충북 청주시 상당구 단재로 119,(영운동) \n",
       "236  1019        행운복권방   수동                충북 청주시 상당구 단재로 119,(영운동) \n",
       "237  1019         로또매점   수동                          충남 당진시 송산로 723 \n",
       "238  1019         1등명당   수동                          충남 서천군 장항로 220 \n",
       "239  1019         1등명당   수동                          충남 서천군 장항로 220 \n",
       "240  1019         1등명당   수동                          충남 서천군 장항로 220 \n",
       "241  1019        남원복권방   자동                          전북 남원시 남문로 414 \n",
       "242  1019         대박찬스   수동                           전북 정읍시 관통로 59 \n",
       "243  1019  광양복권나라(로터리)   수동                            전남 광양시 백운로 1 \n",
       "244  1019         복받는날   수동                        경북 포항시 북구 삼흥로 64 \n",
       "245  1019          스마일   수동                     경남 양산시 북안남4길 2 복권판매점\n",
       "246  1019      범어로또판매점   수동                   경남 양산시 목화로 52 좌측 복권판매점"
      ]
     },
     "execution_count": 111,
     "metadata": {},
     "output_type": "execute_result"
    }
   ],
   "source": [
    "df[df['회차']==1019] #1019회의 당첨자들을 DF로표현"
   ]
  },
  {
   "cell_type": "code",
   "execution_count": 112,
   "id": "8344e54c-6ebb-4c58-b813-b59eed9eb64d",
   "metadata": {},
   "outputs": [
    {
     "data": {
      "text/plain": [
       "자동     300\n",
       "수동     147\n",
       "반자동     12\n",
       "Name: 구분, dtype: int64"
      ]
     },
     "execution_count": 112,
     "metadata": {},
     "output_type": "execute_result"
    }
   ],
   "source": [
    "df['구분'].value_counts() #방식 당 당첨자수"
   ]
  },
  {
   "cell_type": "markdown",
   "id": "a07551ab-5d73-41ac-bd7a-4d5c3bd570cc",
   "metadata": {},
   "source": [
    "## 8 대 광역시 / 시군구 별 당첨자수 비교"
   ]
  },
  {
   "cell_type": "code",
   "execution_count": 113,
   "id": "3c9e85a6-6604-41ea-a6a3-22bee47b806f",
   "metadata": {
    "tags": []
   },
   "outputs": [
    {
     "data": {
      "text/plain": [
       "'서울 관악구 신원로3길 21 '"
      ]
     },
     "execution_count": 113,
     "metadata": {},
     "output_type": "execute_result"
    }
   ],
   "source": [
    "df['소재지'][0]"
   ]
  },
  {
   "cell_type": "code",
   "execution_count": null,
   "id": "018129c3-00fb-4c9c-8992-cb01130f9b25",
   "metadata": {},
   "outputs": [],
   "source": []
  },
  {
   "cell_type": "code",
   "execution_count": null,
   "id": "97005be9-c805-4d40-8be9-d5ab2501106c",
   "metadata": {},
   "outputs": [],
   "source": []
  },
  {
   "cell_type": "code",
   "execution_count": 125,
   "id": "f8c2e8cd-94ee-4ca5-869f-76f78cdbbe6a",
   "metadata": {},
   "outputs": [
    {
     "data": {
      "text/plain": [
       "0                                      서울 관악구 신원로3길 21 \n",
       "1                               서울 서대문구 세검정로 99-1 1층 좌측\n",
       "2                                동행복권(dhlottery.co.kr) \n",
       "3                                서울 성동구 용답중앙15길 12-1 1층\n",
       "4      서울 영등포구 신길로28길  9 상가동 B2층 00006호(신길동, 힐스테이트클래시안)\n",
       "                             ...                       \n",
       "454             강원 동해시 동해대로 6270-20 1층 118호, 이마트24망상해변점\n",
       "455                                    경북 칠곡군 북중리3길 59 \n",
       "456                                  경남 창원시 의창구 사화로 26 \n",
       "457                                 제주 제주시 아란4길 85-5 1층\n",
       "458                                   제주 제주시 우정로11길 12 \n",
       "Name: 소재지, Length: 459, dtype: object"
      ]
     },
     "execution_count": 125,
     "metadata": {},
     "output_type": "execute_result"
    }
   ],
   "source": [
    "df['소재지']"
   ]
  },
  {
   "cell_type": "code",
   "execution_count": 131,
   "id": "b45644fb-9a85-4ed7-beed-46478bf024e7",
   "metadata": {
    "tags": []
   },
   "outputs": [],
   "source": [
    "df['소재지1#'] =df['소재지'].str.contains('서울#i')"
   ]
  },
  {
   "cell_type": "code",
   "execution_count": 134,
   "id": "97e879b7-f0a1-4e57-871e-5800eecddda6",
   "metadata": {},
   "outputs": [
    {
     "data": {
      "text/html": [
       "<div>\n",
       "<style scoped>\n",
       "    .dataframe tbody tr th:only-of-type {\n",
       "        vertical-align: middle;\n",
       "    }\n",
       "\n",
       "    .dataframe tbody tr th {\n",
       "        vertical-align: top;\n",
       "    }\n",
       "\n",
       "    .dataframe thead th {\n",
       "        text-align: right;\n",
       "    }\n",
       "</style>\n",
       "<table border=\"1\" class=\"dataframe\">\n",
       "  <thead>\n",
       "    <tr style=\"text-align: right;\">\n",
       "      <th></th>\n",
       "      <th>회차</th>\n",
       "      <th>상호명</th>\n",
       "      <th>구분</th>\n",
       "      <th>소재지</th>\n",
       "      <th>소재지1</th>\n",
       "    </tr>\n",
       "  </thead>\n",
       "  <tbody>\n",
       "    <tr>\n",
       "      <th>0</th>\n",
       "      <td>1000</td>\n",
       "      <td>행운식품</td>\n",
       "      <td>자동</td>\n",
       "      <td>서울 관악구 신원로3길 21</td>\n",
       "      <td>True</td>\n",
       "    </tr>\n",
       "    <tr>\n",
       "      <th>1</th>\n",
       "      <td>1000</td>\n",
       "      <td>로또백화점 홍은점</td>\n",
       "      <td>수동</td>\n",
       "      <td>서울 서대문구 세검정로 99-1 1층 좌측</td>\n",
       "      <td>True</td>\n",
       "    </tr>\n",
       "    <tr>\n",
       "      <th>3</th>\n",
       "      <td>1000</td>\n",
       "      <td>복권나라</td>\n",
       "      <td>수동</td>\n",
       "      <td>서울 성동구 용답중앙15길 12-1 1층</td>\n",
       "      <td>True</td>\n",
       "    </tr>\n",
       "    <tr>\n",
       "      <th>4</th>\n",
       "      <td>1000</td>\n",
       "      <td>티에스네트웍스</td>\n",
       "      <td>자동</td>\n",
       "      <td>서울 영등포구 신길로28길  9 상가동 B2층 00006호(신길동, 힐스테이트클래시안)</td>\n",
       "      <td>True</td>\n",
       "    </tr>\n",
       "    <tr>\n",
       "      <th>22</th>\n",
       "      <td>1001</td>\n",
       "      <td>행운복권</td>\n",
       "      <td>자동</td>\n",
       "      <td>서울 강북구 솔샘로 212 신영빌딩 1층</td>\n",
       "      <td>True</td>\n",
       "    </tr>\n",
       "    <tr>\n",
       "      <th>...</th>\n",
       "      <td>...</td>\n",
       "      <td>...</td>\n",
       "      <td>...</td>\n",
       "      <td>...</td>\n",
       "      <td>...</td>\n",
       "    </tr>\n",
       "    <tr>\n",
       "      <th>420</th>\n",
       "      <td>1036</td>\n",
       "      <td>토큰박스</td>\n",
       "      <td>자동</td>\n",
       "      <td>서울 동대문구 이문로 93 민족통일MJ캠퍼스외대 외대앞 버스정류장</td>\n",
       "      <td>True</td>\n",
       "    </tr>\n",
       "    <tr>\n",
       "      <th>421</th>\n",
       "      <td>1036</td>\n",
       "      <td>명지복권방</td>\n",
       "      <td>자동</td>\n",
       "      <td>서울 송파구 거마로 55 101호</td>\n",
       "      <td>True</td>\n",
       "    </tr>\n",
       "    <tr>\n",
       "      <th>422</th>\n",
       "      <td>1036</td>\n",
       "      <td>하나복권(가로판매점)</td>\n",
       "      <td>자동</td>\n",
       "      <td>서울 영등포구 여의나루로 42 가로판매점(여의도동)</td>\n",
       "      <td>True</td>\n",
       "    </tr>\n",
       "    <tr>\n",
       "      <th>429</th>\n",
       "      <td>1037</td>\n",
       "      <td>지원물산</td>\n",
       "      <td>자동</td>\n",
       "      <td>서울 노원구 공릉로 108,(공릉동)</td>\n",
       "      <td>True</td>\n",
       "    </tr>\n",
       "    <tr>\n",
       "      <th>445</th>\n",
       "      <td>1038</td>\n",
       "      <td>하나복권(가로판매점)</td>\n",
       "      <td>자동</td>\n",
       "      <td>서울 영등포구 여의나루로 42 가로판매점(여의도동)</td>\n",
       "      <td>True</td>\n",
       "    </tr>\n",
       "  </tbody>\n",
       "</table>\n",
       "<p>85 rows × 5 columns</p>\n",
       "</div>"
      ],
      "text/plain": [
       "       회차          상호명  구분                                               소재지  \\\n",
       "0    1000         행운식품  자동                                  서울 관악구 신원로3길 21    \n",
       "1    1000    로또백화점 홍은점  수동                           서울 서대문구 세검정로 99-1 1층 좌측   \n",
       "3    1000         복권나라  수동                            서울 성동구 용답중앙15길 12-1 1층   \n",
       "4    1000      티에스네트웍스  자동  서울 영등포구 신길로28길  9 상가동 B2층 00006호(신길동, 힐스테이트클래시안)   \n",
       "22   1001         행운복권  자동                            서울 강북구 솔샘로 212 신영빌딩 1층   \n",
       "..    ...          ...  ..                                               ...   \n",
       "420  1036         토큰박스  자동              서울 동대문구 이문로 93 민족통일MJ캠퍼스외대 외대앞 버스정류장   \n",
       "421  1036        명지복권방  자동                                서울 송파구 거마로 55 101호   \n",
       "422  1036  하나복권(가로판매점)  자동                      서울 영등포구 여의나루로 42 가로판매점(여의도동)   \n",
       "429  1037         지원물산  자동                             서울 노원구 공릉로 108,(공릉동)    \n",
       "445  1038  하나복권(가로판매점)  자동                      서울 영등포구 여의나루로 42 가로판매점(여의도동)   \n",
       "\n",
       "     소재지1  \n",
       "0    True  \n",
       "1    True  \n",
       "3    True  \n",
       "4    True  \n",
       "22   True  \n",
       "..    ...  \n",
       "420  True  \n",
       "421  True  \n",
       "422  True  \n",
       "429  True  \n",
       "445  True  \n",
       "\n",
       "[85 rows x 5 columns]"
      ]
     },
     "execution_count": 134,
     "metadata": {},
     "output_type": "execute_result"
    }
   ],
   "source": [
    "df[df['소재지1']==True]"
   ]
  },
  {
   "cell_type": "code",
   "execution_count": null,
   "id": "e03045fd-a722-4105-a6ac-c9515c0d540a",
   "metadata": {},
   "outputs": [],
   "source": []
  },
  {
   "cell_type": "code",
   "execution_count": null,
   "id": "e4baa26c-a661-471c-a357-35ac14343eb5",
   "metadata": {},
   "outputs": [],
   "source": []
  },
  {
   "cell_type": "markdown",
   "id": "47f18145-bc63-4ddf-8580-91813cb522f0",
   "metadata": {},
   "source": [
    "--------------------------"
   ]
  },
  {
   "cell_type": "code",
   "execution_count": null,
   "id": "20898f6a-3a9f-49cd-a973-12cde6a3269f",
   "metadata": {},
   "outputs": [],
   "source": [
    "df['소재지'].str.contains() == True"
   ]
  },
  {
   "cell_type": "code",
   "execution_count": 122,
   "id": "3e0d44c7-5f94-48fd-bda6-30e5539e6cbb",
   "metadata": {
    "tags": []
   },
   "outputs": [],
   "source": [
    "kwang = []\n",
    "dae8 = ['서울','경기','부산','대구','인천','광주','대전','울산']\n",
    "for i in dae8 :\n",
    "    df['소재지1']=df['소재지'].str.contains(i) :\n",
    "    "
   ]
  },
  {
   "cell_type": "code",
   "execution_count": 123,
   "id": "f5e6c470-3c7f-4e92-a832-b5f8684ed1b0",
   "metadata": {},
   "outputs": [
    {
     "data": {
      "text/plain": [
       "[]"
      ]
     },
     "execution_count": 123,
     "metadata": {},
     "output_type": "execute_result"
    }
   ],
   "source": []
  },
  {
   "cell_type": "code",
   "execution_count": null,
   "id": "f466877c-9370-4cff-98c5-b48a2f51f8ff",
   "metadata": {},
   "outputs": [],
   "source": []
  },
  {
   "cell_type": "code",
   "execution_count": null,
   "id": "b142e0cf-a695-4481-a75e-415c95138046",
   "metadata": {},
   "outputs": [],
   "source": []
  },
  {
   "cell_type": "markdown",
   "id": "f4d471a3-32ae-4f74-a357-59e59854aca7",
   "metadata": {},
   "source": [
    "-----------------------------------"
   ]
  },
  {
   "cell_type": "code",
   "execution_count": null,
   "id": "fa1566f6-376f-4b24-86f6-7353398cc369",
   "metadata": {},
   "outputs": [],
   "source": []
  },
  {
   "cell_type": "code",
   "execution_count": null,
   "id": "f80e63c3-5674-4fae-89cf-0e1349120da9",
   "metadata": {},
   "outputs": [],
   "source": []
  },
  {
   "cell_type": "code",
   "execution_count": null,
   "id": "1509f4b8-dd4c-4a8a-a134-b7b889b82d48",
   "metadata": {},
   "outputs": [],
   "source": []
  },
  {
   "cell_type": "code",
   "execution_count": null,
   "id": "0c38a131-2d56-4408-8780-87ab22a848f6",
   "metadata": {},
   "outputs": [],
   "source": []
  },
  {
   "cell_type": "code",
   "execution_count": null,
   "id": "54222a68-1574-4553-8bb0-ca22ad4211dc",
   "metadata": {},
   "outputs": [],
   "source": []
  },
  {
   "cell_type": "code",
   "execution_count": null,
   "id": "e87414c1-e82a-49a1-a115-b322cce3bb33",
   "metadata": {},
   "outputs": [],
   "source": []
  },
  {
   "cell_type": "code",
   "execution_count": null,
   "id": "712a382e-98f9-47da-beef-d00683fb6b89",
   "metadata": {},
   "outputs": [],
   "source": [
    "df['광역시']= df['소재지'].str.split(' ', expand=True)[0]"
   ]
  },
  {
   "cell_type": "code",
   "execution_count": null,
   "id": "f441c906-590f-4286-a9cb-6184d3bb589e",
   "metadata": {},
   "outputs": [],
   "source": [
    "df['시군구']= df['소재지'].str.split(' ', expand=True)[1]"
   ]
  },
  {
   "cell_type": "code",
   "execution_count": null,
   "id": "23a4e513-1a0d-4a21-afe8-3771169b15e8",
   "metadata": {
    "tags": []
   },
   "outputs": [],
   "source": [
    "df['광역시'].value_counts()"
   ]
  },
  {
   "cell_type": "code",
   "execution_count": null,
   "id": "c00fbb7f-e1b5-4cca-8a1b-6dcd5c3b48c2",
   "metadata": {
    "tags": []
   },
   "outputs": [],
   "source": [
    "df['시군구2'] = df['광역시'] + ' '+ df['시군구']"
   ]
  },
  {
   "cell_type": "code",
   "execution_count": null,
   "id": "22db1563-2477-45f6-b536-9bc2fe478a34",
   "metadata": {},
   "outputs": [],
   "source": [
    "df['시군구2'].value_counts()"
   ]
  },
  {
   "cell_type": "code",
   "execution_count": null,
   "id": "b8bdfde7-204a-420d-8df9-004cadf058cc",
   "metadata": {},
   "outputs": [],
   "source": [
    "df[df['시군구2']=='서울 구로구']"
   ]
  },
  {
   "cell_type": "code",
   "execution_count": null,
   "id": "26e7c47f-8f7a-491a-b572-be30b2cb3657",
   "metadata": {},
   "outputs": [],
   "source": []
  },
  {
   "cell_type": "code",
   "execution_count": null,
   "id": "64385af8-b235-4b05-b2f3-a6159dab6574",
   "metadata": {},
   "outputs": [],
   "source": [
    "df['소재지'].str.contains('서울').value_counts()"
   ]
  },
  {
   "cell_type": "code",
   "execution_count": null,
   "id": "f7a8120b-b974-4588-9cae-df4de9c5ea8d",
   "metadata": {},
   "outputs": [],
   "source": [
    "df['소재지'].str.contains('경기').value_counts()"
   ]
  },
  {
   "cell_type": "code",
   "execution_count": null,
   "id": "3838e8da-f7f2-4ddb-a9a8-7761b1306def",
   "metadata": {},
   "outputs": [],
   "source": [
    "df['소재지'].str.contains('부산').value_counts()"
   ]
  },
  {
   "cell_type": "code",
   "execution_count": null,
   "id": "9523d6ff-272e-4b4b-ab55-0b49d78c56ec",
   "metadata": {},
   "outputs": [],
   "source": [
    "df['소재지'].str.contains('대구').value_counts()"
   ]
  },
  {
   "cell_type": "code",
   "execution_count": null,
   "id": "46a579cb-70d9-447f-bb73-988ffded4ec2",
   "metadata": {},
   "outputs": [],
   "source": [
    "df['소재지'].str.contains('인천').value_counts()"
   ]
  },
  {
   "cell_type": "code",
   "execution_count": null,
   "id": "afb22d0a-f478-4d0f-bce4-2c0a5930e9b3",
   "metadata": {},
   "outputs": [],
   "source": [
    "df['소재지'].str.contains('광주').value_counts()"
   ]
  },
  {
   "cell_type": "code",
   "execution_count": null,
   "id": "ed00efc1-0f93-4860-975e-452e3d020060",
   "metadata": {},
   "outputs": [],
   "source": [
    "df['소재지'].str.contains('대전').value_counts()"
   ]
  },
  {
   "cell_type": "code",
   "execution_count": null,
   "id": "4e8cb7ff-3ac1-407e-89f0-ba94751bddfe",
   "metadata": {},
   "outputs": [],
   "source": [
    "df['소재지'].str.contains('울산').value_counts()"
   ]
  },
  {
   "cell_type": "code",
   "execution_count": null,
   "id": "3618e431-2d70-4bc1-b295-b3f043845139",
   "metadata": {},
   "outputs": [],
   "source": [
    "df['소재지'].str.split(' ', expand=True)[1].value_counts().head(50)"
   ]
  },
  {
   "cell_type": "code",
   "execution_count": null,
   "id": "9f97df01-7874-43c1-a537-deb9fd6cad43",
   "metadata": {},
   "outputs": [],
   "source": [
    "df['소재지'].str.split(' ', expand=True)[1] == ' '"
   ]
  },
  {
   "cell_type": "code",
   "execution_count": null,
   "id": "b2861ab2-d85d-4f2a-99fb-63ae51cabff1",
   "metadata": {},
   "outputs": [],
   "source": []
  },
  {
   "cell_type": "code",
   "execution_count": null,
   "id": "ebab347d-a390-4a2d-9145-0d559f21b840",
   "metadata": {},
   "outputs": [],
   "source": []
  },
  {
   "cell_type": "code",
   "execution_count": null,
   "id": "062439a9-6c7a-4744-8969-5b3444438697",
   "metadata": {},
   "outputs": [],
   "source": []
  },
  {
   "cell_type": "code",
   "execution_count": null,
   "id": "2b4ef89e-1165-4263-ad3f-b14293a176e5",
   "metadata": {},
   "outputs": [],
   "source": []
  }
 ],
 "metadata": {
  "kernelspec": {
   "display_name": "Python 3 (ipykernel)",
   "language": "python",
   "name": "python3"
  },
  "language_info": {
   "codemirror_mode": {
    "name": "ipython",
    "version": 3
   },
   "file_extension": ".py",
   "mimetype": "text/x-python",
   "name": "python",
   "nbconvert_exporter": "python",
   "pygments_lexer": "ipython3",
   "version": "3.9.12"
  }
 },
 "nbformat": 4,
 "nbformat_minor": 5
}
