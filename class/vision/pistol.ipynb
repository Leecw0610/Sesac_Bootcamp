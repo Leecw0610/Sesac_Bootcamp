{
  "cells": [
    {
      "cell_type": "markdown",
      "metadata": {
        "id": "bDOfyPZSN2K-"
      },
      "source": []
    },
    {
      "cell_type": "code",
      "execution_count": null,
      "metadata": {
        "colab": {
          "base_uri": "https://localhost:8080/"
        },
        "id": "sbgOZwamNvTG",
        "outputId": "9be2aab2-8a09-4d6f-94f0-b859f40cb2d5"
      },
      "outputs": [],
      "source": [
        "from google.colab import drive\n",
        "drive.mount('/content/drive')"
      ]
    },
    {
      "cell_type": "code",
      "execution_count": null,
      "metadata": {
        "colab": {
          "base_uri": "https://localhost:8080/"
        },
        "id": "MiLaVLhVNv0v",
        "outputId": "9679d54a-e0a2-4f9c-d169-0492eb713ff6"
      },
      "outputs": [],
      "source": [
        "!curl -L 'https://public.roboflow.com/ds/WWHF51u4si?key=vOgM6mvbVh' > roboflow.zip; unzip roboflow.zip"
      ]
    },
    {
      "cell_type": "code",
      "execution_count": null,
      "metadata": {
        "colab": {
          "base_uri": "https://localhost:8080/"
        },
        "id": "AH9wkSINN6fu",
        "outputId": "316efc8d-86ee-4682-db1c-e8322d76122c"
      },
      "outputs": [],
      "source": [
        "!git clone https://github.com/ultralytics/yolov5.git"
      ]
    },
    {
      "cell_type": "code",
      "execution_count": null,
      "metadata": {
        "colab": {
          "base_uri": "https://localhost:8080/"
        },
        "id": "BMK3kSlWONau",
        "outputId": "8ba46ba1-51b1-4ed1-82dc-282cc3db5397"
      },
      "outputs": [],
      "source": [
        "ls"
      ]
    },
    {
      "cell_type": "code",
      "execution_count": null,
      "metadata": {
        "colab": {
          "base_uri": "https://localhost:8080/"
        },
        "id": "M2yplXHvOE-_",
        "outputId": "fc65edb8-c6bc-4e1c-c0d9-0a3a0e206d64"
      },
      "outputs": [],
      "source": [
        "cd yolov5/"
      ]
    },
    {
      "cell_type": "code",
      "execution_count": null,
      "metadata": {
        "colab": {
          "base_uri": "https://localhost:8080/"
        },
        "id": "E8jKOt1sOISj",
        "outputId": "0048d08d-5ae0-47cf-c0aa-a564cc241d77"
      },
      "outputs": [],
      "source": [
        "!pip install -r requirements.txt"
      ]
    },
    {
      "cell_type": "code",
      "execution_count": null,
      "metadata": {
        "id": "u_WpPGd2OLgL"
      },
      "outputs": [],
      "source": [
        "from glob import glob"
      ]
    },
    {
      "cell_type": "code",
      "execution_count": null,
      "metadata": {
        "id": "ktNVLthoO8CH"
      },
      "outputs": [],
      "source": [
        "img_list=glob('/content/export/images/*jpg')"
      ]
    },
    {
      "cell_type": "code",
      "execution_count": null,
      "metadata": {
        "id": "STVzLqtNPCJl"
      },
      "outputs": [],
      "source": [
        "from sklearn.model_selection import train_test_split"
      ]
    },
    {
      "cell_type": "code",
      "execution_count": null,
      "metadata": {
        "id": "5Oey7JTePFL9"
      },
      "outputs": [],
      "source": [
        "## yaml file에 트레인과 테스트로 나눈 경로를 명시\n",
        "## nc는 class count\n",
        "train_img_list , test_img_list = train_test_split(img_list, test_size=0.2, random_state=0)"
      ]
    },
    {
      "cell_type": "code",
      "execution_count": null,
      "metadata": {
        "id": "DT1QlVZoPlXE"
      },
      "outputs": [],
      "source": [
        "## 파일 만들기 , \\n -> 한줄씩 들어가게\n",
        "with open('/content/dataset/train.txt', 'w') as f :\n",
        "  f.write('\\n'.join(train_img_list))\n",
        "\n",
        "with open('/content/dataset/test.txt', 'w') as f :\n",
        "  f.write('\\n'.join(test_img_list))"
      ]
    },
    {
      "cell_type": "code",
      "execution_count": null,
      "metadata": {
        "colab": {
          "base_uri": "https://localhost:8080/"
        },
        "id": "ugvExmeqQB09",
        "outputId": "4f00b625-fa04-48b0-9b45-9df668be8aa8"
      },
      "outputs": [],
      "source": [
        "## train.py 파일 실행\n",
        "!python train.py --img 416 --batch 16 --epochs 50 --data ../data.yaml --cfg ./models/yolov5s.yaml"
      ]
    },
    {
      "cell_type": "code",
      "execution_count": null,
      "metadata": {
        "id": "_WwCUT3UR4zd"
      },
      "outputs": [],
      "source": []
    }
  ],
  "metadata": {
    "accelerator": "GPU",
    "colab": {
      "machine_shape": "hm",
      "provenance": []
    },
    "gpuClass": "standard",
    "kernelspec": {
      "display_name": "base",
      "language": "python",
      "name": "python3"
    },
    "language_info": {
      "name": "python",
      "version": "3.9.12 (main, Apr  4 2022, 05:22:27) [MSC v.1916 64 bit (AMD64)]"
    },
    "vscode": {
      "interpreter": {
        "hash": "a077222d77dfe082b8f1dd562ad70e458ac2ab76993a0b248ab0476e32e9e8dd"
      }
    }
  },
  "nbformat": 4,
  "nbformat_minor": 0
}
