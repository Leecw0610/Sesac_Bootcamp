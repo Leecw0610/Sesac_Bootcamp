{
 "cells": [
  {
   "cell_type": "raw",
   "id": "c082a712-7c61-477b-9fc0-b656808520f4",
   "metadata": {},
   "source": [
    "*구글 colab"
   ]
  },
  {
   "cell_type": "code",
   "execution_count": 1,
   "id": "cde5bce0-25e5-4bbd-9304-2df2788ccb9e",
   "metadata": {},
   "outputs": [],
   "source": [
    "def get(**kwargs) :\n",
    "    print(kwargs)\n",
    "    if kwargs['headers']  :\n",
    "        print('headers껄 해라')\n",
    "    else :\n",
    "        print('error')"
   ]
  },
  {
   "cell_type": "code",
   "execution_count": 3,
   "id": "10971e62-1114-4f03-939b-e63e95f90e4c",
   "metadata": {},
   "outputs": [
    {
     "name": "stdout",
     "output_type": "stream",
     "text": [
      "{'headers': 'headers'}\n",
      "headers껄 해라\n"
     ]
    }
   ],
   "source": [
    "get(headers = 'headers')"
   ]
  },
  {
   "cell_type": "raw",
   "id": "d1ccd9cd-2140-4aae-908c-5db639284f7a",
   "metadata": {},
   "source": [
    "df nclass english\n",
    "df.groupby('nclass')['english'].mean()"
   ]
  },
  {
   "cell_type": "code",
   "execution_count": null,
   "id": "78a5eba2-b5c6-4763-ac57-887eb1de70ed",
   "metadata": {},
   "outputs": [],
   "source": []
  }
 ],
 "metadata": {
  "kernelspec": {
   "display_name": "Python 3 (ipykernel)",
   "language": "python",
   "name": "python3"
  },
  "language_info": {
   "codemirror_mode": {
    "name": "ipython",
    "version": 3
   },
   "file_extension": ".py",
   "mimetype": "text/x-python",
   "name": "python",
   "nbconvert_exporter": "python",
   "pygments_lexer": "ipython3",
   "version": "3.9.12"
  }
 },
 "nbformat": 4,
 "nbformat_minor": 5
}
