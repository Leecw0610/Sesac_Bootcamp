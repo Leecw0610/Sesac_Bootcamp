{
 "cells": [
  {
   "cell_type": "code",
   "execution_count": 3,
   "id": "c2c42b4f-9e53-4bfb-bc45-904a7973d2b2",
   "metadata": {},
   "outputs": [],
   "source": [
    "import pandas as pd"
   ]
  },
  {
   "cell_type": "code",
   "execution_count": 4,
   "id": "0690eee9-723a-4f5d-9567-1369c77b5e7f",
   "metadata": {},
   "outputs": [],
   "source": [
    "loan=pd.read_csv('loan.csv')"
   ]
  },
  {
   "cell_type": "code",
   "execution_count": 8,
   "id": "999b4012-0e98-4508-948c-27f87b8c862b",
   "metadata": {},
   "outputs": [
    {
     "data": {
      "text/plain": [
       "array(['LP001003', 'Male', 'Yes', '1', 'Graduate', 'No', 4583, 1508.0,\n",
       "       128.0, 360.0, 1.0, 'Rural', 'N'], dtype=object)"
      ]
     },
     "execution_count": 8,
     "metadata": {},
     "output_type": "execute_result"
    }
   ],
   "source": [
    "loan.iloc[1].values"
   ]
  },
  {
   "cell_type": "code",
   "execution_count": null,
   "id": "cca3f1e3-5a25-44a5-b78e-6abb2aa06d30",
   "metadata": {
    "tags": []
   },
   "outputs": [],
   "source": [
    "loan.head(1)"
   ]
  },
  {
   "cell_type": "code",
   "execution_count": null,
   "id": "38bbfba8-bb11-4db9-b37f-1910a2350d35",
   "metadata": {
    "tags": []
   },
   "outputs": [],
   "source": [
    "loan.info()"
   ]
  },
  {
   "cell_type": "code",
   "execution_count": null,
   "id": "64aed716-7f7e-405c-8ba3-cb9c67e097c6",
   "metadata": {},
   "outputs": [],
   "source": [
    "loan['Credit_History'].value_counts()"
   ]
  },
  {
   "cell_type": "raw",
   "id": "7063f975-a171-49cf-9fea-e562c328b8bf",
   "metadata": {
    "tags": []
   },
   "source": [
    "*변수해석\n",
    "1 Loan_ID 대출자ID\n",
    "2 Gender 성별\n",
    "3 Married 결혼여부\n",
    "4 Dependents 부양가족\n",
    "5 Education 교육\n",
    "6 Self_Employed 자영업\n",
    "7 ApplicantIncome 대출자 수익\n",
    "8 CoapplicantIncome 공동신청자 수익\n",
    "9 LoanAmount 대출량\n",
    "10 Loan_Amount_Term 대출량의기간?\n",
    "11 Credit_History 신용기록\n",
    "12 Property_Area 자산지의 종류?\n",
    "13 Loan_Status Y : 가능 / N : 불가능"
   ]
  },
  {
   "cell_type": "code",
   "execution_count": null,
   "id": "3c694954-079e-4e8e-845c-611cd6f2f91a",
   "metadata": {
    "tags": []
   },
   "outputs": [],
   "source": [
    "loan['Loan_Status'].value_counts()"
   ]
  },
  {
   "cell_type": "code",
   "execution_count": null,
   "id": "1392bfbc-1104-455e-bd87-6edff0e6b6eb",
   "metadata": {
    "tags": []
   },
   "outputs": [],
   "source": [
    "loan['Loan_Status'].unique()"
   ]
  },
  {
   "cell_type": "markdown",
   "id": "4f13c53a-0a69-41e6-82c5-41f017a2fdd8",
   "metadata": {},
   "source": [
    "# 1.전처리"
   ]
  },
  {
   "cell_type": "raw",
   "id": "e61e99de-f5fd-4553-929e-926bcc4eda2f",
   "metadata": {},
   "source": [
    "1- 0) 각항목 null값부터 없애기 "
   ]
  },
  {
   "cell_type": "code",
   "execution_count": null,
   "id": "e804d4eb-492c-4971-a228-8cadb290e4bd",
   "metadata": {},
   "outputs": [],
   "source": [
    "loan.isnull().sum()"
   ]
  },
  {
   "cell_type": "raw",
   "id": "d7fe5f96-b560-4367-86f2-50345660387f",
   "metadata": {},
   "source": [
    "null값 7개 항목에 각기 다른 null값 채우기 적용"
   ]
  },
  {
   "cell_type": "raw",
   "id": "8f6d734d-815f-4632-9fe3-d3b0e00abdd4",
   "metadata": {},
   "source": [
    "1) Gender는 null값을 다 male로!"
   ]
  },
  {
   "cell_type": "code",
   "execution_count": null,
   "id": "e0019aad-eaee-40f7-892c-8412081fcb2f",
   "metadata": {},
   "outputs": [],
   "source": [
    "loan['Gender'].unique()"
   ]
  },
  {
   "cell_type": "code",
   "execution_count": null,
   "id": "28f3979a-e540-47b9-b8a0-5171b15f7f10",
   "metadata": {},
   "outputs": [],
   "source": [
    "loan['Gender'].value_counts()"
   ]
  },
  {
   "cell_type": "code",
   "execution_count": 3,
   "id": "bac281bb-22c2-4c77-a6a2-aad4de206a28",
   "metadata": {},
   "outputs": [],
   "source": [
    "loan['Gender'].fillna('Male', inplace=True) ###################"
   ]
  },
  {
   "cell_type": "raw",
   "id": "6d38e72b-8b50-4351-802d-ba4c05f4fb15",
   "metadata": {},
   "source": [
    "2) Married는 null값을 다 Yes로!"
   ]
  },
  {
   "cell_type": "code",
   "execution_count": null,
   "id": "577b9d3c-fd6e-4cbd-98d5-5b7b23fdc041",
   "metadata": {},
   "outputs": [],
   "source": [
    "loan['Married'].value_counts()"
   ]
  },
  {
   "cell_type": "code",
   "execution_count": 4,
   "id": "51b7c94b-42ba-412a-8ea9-7937d70eb6dc",
   "metadata": {},
   "outputs": [],
   "source": [
    "loan['Married'].fillna('Yes', inplace=True) ###################"
   ]
  },
  {
   "cell_type": "raw",
   "id": "038dc9a9-225b-44c9-bc8b-bc6aebed72a5",
   "metadata": {},
   "source": [
    "3) Dependents는 null값 0으로!, 3이상 값도 다 3으로"
   ]
  },
  {
   "cell_type": "code",
   "execution_count": null,
   "id": "81b233df-a237-429f-9f8e-86b2ab918ee5",
   "metadata": {},
   "outputs": [],
   "source": [
    "loan['Dependents'].unique()"
   ]
  },
  {
   "cell_type": "code",
   "execution_count": null,
   "id": "1c6e1403-81cd-4a36-af4f-d84046eea4d7",
   "metadata": {},
   "outputs": [],
   "source": [
    "loan['Dependents'].value_counts()"
   ]
  },
  {
   "cell_type": "code",
   "execution_count": 5,
   "id": "2d684691-6064-4143-bbb8-a1a037b0054a",
   "metadata": {},
   "outputs": [],
   "source": [
    "loan['Dependents'].fillna(0, inplace=True) #################"
   ]
  },
  {
   "cell_type": "code",
   "execution_count": 6,
   "id": "71ebc9e8-9df2-42ec-9ecb-eccce1faeae1",
   "metadata": {},
   "outputs": [],
   "source": [
    "loan['Dependents'].replace('3+', 3, inplace=True) ###################"
   ]
  },
  {
   "cell_type": "code",
   "execution_count": 7,
   "id": "852090c0-bc36-4724-a719-138cb79957b2",
   "metadata": {},
   "outputs": [],
   "source": [
    "loan['Dependents']=loan['Dependents'].astype(int) ###############"
   ]
  },
  {
   "cell_type": "raw",
   "id": "427f9112-521d-4a00-bcc8-45c94b7fa66b",
   "metadata": {},
   "source": [
    "4) Self_Employed 는 null값 no로   "
   ]
  },
  {
   "cell_type": "code",
   "execution_count": null,
   "id": "db6d9cef-22dd-4698-a49a-8255aced3b6d",
   "metadata": {},
   "outputs": [],
   "source": [
    "loan['Self_Employed'].unique()"
   ]
  },
  {
   "cell_type": "code",
   "execution_count": null,
   "id": "0f43f4ba-98de-4c32-89bc-c772ac6304d5",
   "metadata": {},
   "outputs": [],
   "source": [
    "loan['Self_Employed'].value_counts()"
   ]
  },
  {
   "cell_type": "code",
   "execution_count": 8,
   "id": "ad0f5ee7-bb8d-4ee4-a3fc-d25a78a2d0df",
   "metadata": {},
   "outputs": [],
   "source": [
    "loan['Self_Employed'].fillna('No', inplace=True) #################"
   ]
  },
  {
   "cell_type": "raw",
   "id": "00cb8f31-a681-42ab-9cc1-fc4734651950",
   "metadata": {},
   "source": [
    "5) LoanAmount 는 null값을 중위값으로!"
   ]
  },
  {
   "cell_type": "code",
   "execution_count": null,
   "id": "dd373d69-912e-4045-93b2-1aa36c5fbdf8",
   "metadata": {},
   "outputs": [],
   "source": [
    "loan['LoanAmount'].describe()"
   ]
  },
  {
   "cell_type": "code",
   "execution_count": 9,
   "id": "3160820c-c906-45c9-92be-00f010afedd3",
   "metadata": {},
   "outputs": [],
   "source": [
    "loan['LoanAmount'].fillna(loan['LoanAmount'].median(), inplace=True) ##################"
   ]
  },
  {
   "cell_type": "raw",
   "id": "f7f9a023-450b-4b14-ace5-4a941580a94b",
   "metadata": {},
   "source": [
    "6) Loan_Amount_Term 는 null값을 360으로"
   ]
  },
  {
   "cell_type": "code",
   "execution_count": null,
   "id": "a923dfdf-ea08-4848-934c-a6540a9265d8",
   "metadata": {},
   "outputs": [],
   "source": [
    "loan['Loan_Amount_Term'].unique()"
   ]
  },
  {
   "cell_type": "code",
   "execution_count": null,
   "id": "8f91ba30-d120-4986-9e70-e654663add09",
   "metadata": {},
   "outputs": [],
   "source": [
    "loan['Loan_Amount_Term'].value_counts()"
   ]
  },
  {
   "cell_type": "code",
   "execution_count": 10,
   "id": "4465f542-9e12-4ccf-b61c-8119edd1f41b",
   "metadata": {},
   "outputs": [],
   "source": [
    "loan['Loan_Amount_Term'].fillna(360, inplace=True) ################"
   ]
  },
  {
   "cell_type": "raw",
   "id": "8fe76835-da9b-46c9-b085-b95344ad1218",
   "metadata": {},
   "source": [
    "7) Credit_History 는 null값을 1로!!   "
   ]
  },
  {
   "cell_type": "code",
   "execution_count": null,
   "id": "5ba4fd54-9374-42bc-8175-b0da0e8bfdf7",
   "metadata": {},
   "outputs": [],
   "source": [
    "loan['Credit_History'].unique()"
   ]
  },
  {
   "cell_type": "code",
   "execution_count": null,
   "id": "07531f76-4a06-499a-a970-2bc5b37109af",
   "metadata": {},
   "outputs": [],
   "source": [
    "loan['Credit_History'].value_counts()"
   ]
  },
  {
   "cell_type": "code",
   "execution_count": 11,
   "id": "b168b130-d7ac-472b-9cfc-ad187bddd3c9",
   "metadata": {},
   "outputs": [],
   "source": [
    "loan['Credit_History'].fillna(1, inplace=True) #####################"
   ]
  },
  {
   "cell_type": "code",
   "execution_count": null,
   "id": "be50b0ae-a818-4978-b3c3-6ea20b67b2fe",
   "metadata": {},
   "outputs": [],
   "source": []
  },
  {
   "cell_type": "raw",
   "id": "a34f1c37-7ba5-4d6f-845a-33b0f846d116",
   "metadata": {
    "tags": []
   },
   "source": [
    "1 -1) object항목들을 수치화 처리필요~ "
   ]
  },
  {
   "cell_type": "code",
   "execution_count": null,
   "id": "a1fda357-c53c-445a-9873-d10d24946ae1",
   "metadata": {},
   "outputs": [],
   "source": [
    "loan.info()"
   ]
  },
  {
   "cell_type": "code",
   "execution_count": 12,
   "id": "32655b2b-837a-4166-b9fb-2b6e6e7e18a2",
   "metadata": {},
   "outputs": [],
   "source": [
    "from sklearn.preprocessing import LabelEncoder #################"
   ]
  },
  {
   "cell_type": "code",
   "execution_count": null,
   "id": "cc6af944-81b7-4b80-a8f7-1c3aa6d851e9",
   "metadata": {},
   "outputs": [],
   "source": [
    "loan.columns"
   ]
  },
  {
   "cell_type": "code",
   "execution_count": 13,
   "id": "966cae9d-a1ff-4196-b6a8-627eead2643f",
   "metadata": {},
   "outputs": [],
   "source": [
    "#null값 처리 부터 하고 바꿔야함.\n",
    "col_list = ['Loan_ID','Gender','Married','Education','Self_Employed','Property_Area','Loan_Status']\n",
    "for col in col_list : \n",
    "    label = LabelEncoder()\n",
    "    label.fit(loan[col].unique())\n",
    "    loan[col] = label.transform(loan[col])"
   ]
  },
  {
   "cell_type": "code",
   "execution_count": null,
   "id": "13812d63-c4c2-4171-94f2-15336fd4b810",
   "metadata": {},
   "outputs": [],
   "source": [
    "loan"
   ]
  },
  {
   "cell_type": "code",
   "execution_count": null,
   "id": "53e6f0b5-c02a-4c71-8db2-32b17cf97ca5",
   "metadata": {},
   "outputs": [],
   "source": [
    "loan.info()"
   ]
  },
  {
   "cell_type": "code",
   "execution_count": null,
   "id": "c465b3a2-c053-4bda-bf19-0a6157aa57c3",
   "metadata": {},
   "outputs": [],
   "source": [
    "loan.isnull().sum()"
   ]
  },
  {
   "cell_type": "code",
   "execution_count": null,
   "id": "99695e7e-248b-474c-b8ab-5aa285252927",
   "metadata": {},
   "outputs": [],
   "source": []
  },
  {
   "cell_type": "raw",
   "id": "50198b1c-e770-4819-aa02-f37bfcccf030",
   "metadata": {},
   "source": [
    "2) 상관계수 살펴보기"
   ]
  },
  {
   "cell_type": "code",
   "execution_count": 14,
   "id": "841a0434-4cc9-4a21-9a35-ec969f873423",
   "metadata": {},
   "outputs": [],
   "source": [
    "import seaborn as sns\n",
    "import matplotlib.pyplot as plt"
   ]
  },
  {
   "cell_type": "code",
   "execution_count": 15,
   "id": "b64cff6d-48f2-43a8-9934-96f89748bdc3",
   "metadata": {},
   "outputs": [],
   "source": [
    "corr = loan.corr().round(2)"
   ]
  },
  {
   "cell_type": "code",
   "execution_count": 16,
   "id": "9accbdec-b297-4acd-b420-15abadf015e1",
   "metadata": {
    "tags": []
   },
   "outputs": [
    {
     "data": {
      "text/plain": [
       "<AxesSubplot:>"
      ]
     },
     "execution_count": 16,
     "metadata": {},
     "output_type": "execute_result"
    },
    {
     "data": {
      "image/png": "[encoded data removed]",
      "text/plain": [
       "<Figure size 1440x1440 with 2 Axes>"
      ]
     },
     "metadata": {
      "needs_background": "light"
     },
     "output_type": "display_data"
    }
   ],
   "source": [
    "plt.figure(figsize=(20,20))\n",
    "sns.heatmap(corr, annot=True)"
   ]
  },
  {
   "cell_type": "raw",
   "id": "73dccdf1-4039-4957-b0ce-a5413e713029",
   "metadata": {},
   "source": [
    "Credit_History가 가장 강한 상관관계를 가짐\n",
    "Self_Employed, ApplicantIncome는 크게 유의미한 상관관계를 갖지않음(제외해도 무방?)"
   ]
  },
  {
   "cell_type": "code",
   "execution_count": null,
   "id": "7b7d449e-444c-49ee-a7ca-e10179248ca6",
   "metadata": {},
   "outputs": [],
   "source": []
  },
  {
   "cell_type": "code",
   "execution_count": null,
   "id": "1b099d4d-ec23-4a5d-b150-6b6ff3c9c1db",
   "metadata": {},
   "outputs": [],
   "source": []
  },
  {
   "cell_type": "markdown",
   "id": "b4e20b69-6dc1-49a3-aff4-20bf19aaa3dc",
   "metadata": {},
   "source": [
    "# 2.모델 검정"
   ]
  },
  {
   "cell_type": "code",
   "execution_count": null,
   "id": "d9a0c455-1400-40fb-981b-be68df5d6852",
   "metadata": {},
   "outputs": [],
   "source": [
    "from sklearn.model_selection import train_test_split\n",
    "import warnings\n",
    "warnings.filterwarnings('ignore')\n",
    "from sklearn.svm import SVC\n",
    "import numpy as np"
   ]
  },
  {
   "cell_type": "code",
   "execution_count": null,
   "id": "0cbf85dc-2297-4c92-9b9d-4e9cc4b118c6",
   "metadata": {},
   "outputs": [],
   "source": [
    "model=SVC()"
   ]
  },
  {
   "cell_type": "code",
   "execution_count": null,
   "id": "8ef30c8a-ed3e-440a-9d10-4bced6641972",
   "metadata": {},
   "outputs": [],
   "source": [
    "x= loan.drop(['Loan_Status','Loan_ID'], axis=1)"
   ]
  },
  {
   "cell_type": "code",
   "execution_count": null,
   "id": "227ecf88-4dd5-4850-b011-4716ac375e4a",
   "metadata": {},
   "outputs": [],
   "source": [
    "y = loan['Loan_Status']"
   ]
  },
  {
   "cell_type": "code",
   "execution_count": null,
   "id": "c03770f0-5060-4196-bd88-2d7242e97287",
   "metadata": {
    "tags": []
   },
   "outputs": [],
   "source": [
    "x_train, x_test, y_train, y_test = train_test_split(x,y,test_size=0.15, random_state=0, stratify=y)"
   ]
  },
  {
   "cell_type": "code",
   "execution_count": null,
   "id": "21dd0d17-3e96-4f1b-a427-be78fb061b0c",
   "metadata": {
    "tags": []
   },
   "outputs": [],
   "source": [
    "model.fit(x_train, y_train)"
   ]
  },
  {
   "cell_type": "code",
   "execution_count": null,
   "id": "c27c6309-c592-41e7-88ef-1ac818d88db6",
   "metadata": {},
   "outputs": [],
   "source": [
    "model.score(x_train, y_train)"
   ]
  },
  {
   "cell_type": "code",
   "execution_count": null,
   "id": "232a9b4f-3c54-42cf-b218-09c9066b0b8f",
   "metadata": {},
   "outputs": [],
   "source": [
    "model.score(x_test, y_test)"
   ]
  },
  {
   "cell_type": "code",
   "execution_count": null,
   "id": "33851e57-a6d4-442c-b2ed-4427f11ae2d7",
   "metadata": {},
   "outputs": [],
   "source": []
  },
  {
   "cell_type": "code",
   "execution_count": null,
   "id": "28174fab-448a-48b6-b4f7-500c194ba4b9",
   "metadata": {},
   "outputs": [],
   "source": [
    "model2.fit(x_train, y_train)"
   ]
  },
  {
   "cell_type": "code",
   "execution_count": null,
   "id": "18b7e13f-9a52-4f13-965c-d883f79bcabf",
   "metadata": {},
   "outputs": [],
   "source": [
    "model2.score(x_train, y_train)"
   ]
  },
  {
   "cell_type": "code",
   "execution_count": null,
   "id": "64b826b8-1310-4f0e-a998-bb6694352c15",
   "metadata": {},
   "outputs": [],
   "source": [
    "model2.score(x_test, y_test)"
   ]
  },
  {
   "cell_type": "code",
   "execution_count": null,
   "id": "abd08c16-ab92-4eae-bf93-189ef1cc0aa3",
   "metadata": {},
   "outputs": [],
   "source": [
    "model3.fit(x_train, y_train)"
   ]
  },
  {
   "cell_type": "code",
   "execution_count": null,
   "id": "52b0556d-433e-4b15-a640-7cc0f8ec0012",
   "metadata": {},
   "outputs": [],
   "source": [
    "model3.score(x_train, y_train)"
   ]
  },
  {
   "cell_type": "code",
   "execution_count": null,
   "id": "cba59fa0-d37a-473e-926f-f992a0ee8b41",
   "metadata": {},
   "outputs": [],
   "source": [
    "model3.score(x_test, y_test)"
   ]
  },
  {
   "cell_type": "code",
   "execution_count": null,
   "id": "93768772-9e44-4c51-ae44-78494d61810c",
   "metadata": {},
   "outputs": [],
   "source": []
  },
  {
   "cell_type": "raw",
   "id": "d964364b-0bd3-42d8-8d1c-4115220ace39",
   "metadata": {},
   "source": [
    "모델 안 kernel c gamma값\n"
   ]
  },
  {
   "cell_type": "code",
   "execution_count": null,
   "id": "538cbe4e-d8ae-4c17-903d-274ce337d838",
   "metadata": {},
   "outputs": [],
   "source": [
    "from tqdm import tqdm"
   ]
  },
  {
   "cell_type": "code",
   "execution_count": null,
   "id": "0a2b8749-4c4e-4bf0-baeb-ff186cb3529c",
   "metadata": {
    "tags": []
   },
   "outputs": [],
   "source": [
    "final_data=[]\n",
    "ker_name = ['rbf','poly','sigmoid','linear','precomputed']\n",
    "for c in tqdm(range(1,5)) : \n",
    "    for i in range(1, 10) : \n",
    "        for k in ker_name :\n",
    "            gamma = 0.001 * i\n",
    "            model = SVC(kernel=k, C=c, gamma=gamma)\n",
    "            #print(gamma, model)\n",
    "            model.fit(x_train,y_train)\n",
    "            ret1 = model.score(x_train, y_train)\n",
    "            ret2 = model.score(x_test, y_test)\n",
    "            temp=[]\n",
    "            temp.append(k)\n",
    "            temp.append(c)\n",
    "            temp.append(gamma)\n",
    "            temp.append(ret1)\n",
    "            temp.append(ret2)\n",
    "            final_data.append(temp)"
   ]
  },
  {
   "cell_type": "code",
   "execution_count": null,
   "id": "7c0a4441-d411-4974-a5a1-ce5f680ea539",
   "metadata": {},
   "outputs": [],
   "source": [
    "df = pd.DataFrame(final_data, columns = ['Kernel','C','gamma','train','test'])"
   ]
  },
  {
   "cell_type": "code",
   "execution_count": null,
   "id": "994326b9-a647-4486-81d4-3ac4abcda8a7",
   "metadata": {},
   "outputs": [],
   "source": [
    "df.sort_values(by=['test','train'], ascending= False).head(20)"
   ]
  },
  {
   "cell_type": "code",
   "execution_count": null,
   "id": "d2f6da5f-0db4-450e-8974-8d43a7089536",
   "metadata": {},
   "outputs": [],
   "source": []
  },
  {
   "cell_type": "code",
   "execution_count": null,
   "id": "9704a02b-0623-4566-be6d-9ca9799094f4",
   "metadata": {},
   "outputs": [],
   "source": []
  },
  {
   "cell_type": "raw",
   "id": "c6bc11e8-35cd-4abc-b68e-62af26265850",
   "metadata": {},
   "source": [
    "2-1) 적합 모델 찾아보기"
   ]
  },
  {
   "cell_type": "code",
   "execution_count": null,
   "id": "4c31fcc2-6bbf-4968-a9f2-76678ec2d54a",
   "metadata": {},
   "outputs": [],
   "source": [
    "from sklearn.model_selection import train_test_split\n",
    "import warnings\n",
    "warnings.filterwarnings('ignore')\n",
    "\n",
    "from sklearn.svm import SVC\n",
    "from sklearn.linear_model import LogisticRegression\n",
    "from sklearn.linear_model import LogisticRegressionCV"
   ]
  },
  {
   "cell_type": "code",
   "execution_count": null,
   "id": "9bfb5e67-fd2b-48bf-8ad1-3c2ce2c90e4b",
   "metadata": {},
   "outputs": [],
   "source": [
    "model1 = SVC()\n",
    "model2 = LogisticRegression()\n",
    "model3 = LogisticRegressionCV()"
   ]
  },
  {
   "cell_type": "code",
   "execution_count": null,
   "id": "ce23af3e-6c32-4e4c-883c-f6f3199b2cfb",
   "metadata": {},
   "outputs": [],
   "source": [
    "x= loan.drop(['Loan_Status','Loan_ID'], axis=1)"
   ]
  },
  {
   "cell_type": "code",
   "execution_count": null,
   "id": "3062386f-3ce4-450c-81f7-935256389b67",
   "metadata": {},
   "outputs": [],
   "source": [
    "y = loan['Loan_Status']"
   ]
  },
  {
   "cell_type": "code",
   "execution_count": null,
   "id": "b7d7cc8a-94cc-4264-b44c-f6f182e50017",
   "metadata": {},
   "outputs": [],
   "source": [
    "x_train, x_test, y_train, y_test = train_test_split(x,y,test_size=0.3, random_state=0, stratify=y)"
   ]
  },
  {
   "cell_type": "code",
   "execution_count": null,
   "id": "6183b2a3-37c1-47e7-a3c6-119a60fb2fe5",
   "metadata": {},
   "outputs": [],
   "source": []
  },
  {
   "cell_type": "code",
   "execution_count": null,
   "id": "2ddb503b-c091-4c15-b63d-19a2df106d07",
   "metadata": {
    "tags": []
   },
   "outputs": [],
   "source": [
    "model1.fit(x_train, y_train)"
   ]
  },
  {
   "cell_type": "code",
   "execution_count": null,
   "id": "4b4bda2f-a45d-4f82-aae5-06701150db3f",
   "metadata": {},
   "outputs": [],
   "source": [
    "model1.score(x_train, y_train)"
   ]
  },
  {
   "cell_type": "code",
   "execution_count": null,
   "id": "15876df6-6f14-41ce-8307-6826ec1b4887",
   "metadata": {},
   "outputs": [],
   "source": [
    "model1.score(x_test, y_test)"
   ]
  },
  {
   "cell_type": "code",
   "execution_count": null,
   "id": "859bdff8-0d49-4a61-b24c-46f881d3a5c2",
   "metadata": {},
   "outputs": [],
   "source": []
  },
  {
   "cell_type": "code",
   "execution_count": null,
   "id": "e744383c-0f54-43d0-9439-f09d009285a1",
   "metadata": {},
   "outputs": [],
   "source": [
    "model2.fit(x_train, y_train)"
   ]
  },
  {
   "cell_type": "code",
   "execution_count": null,
   "id": "a33cbd6d-7db8-470f-8db6-df292749b720",
   "metadata": {},
   "outputs": [],
   "source": [
    "model2.score(x_train, y_train)"
   ]
  },
  {
   "cell_type": "code",
   "execution_count": null,
   "id": "b66ba795-5425-4507-8acf-8f5c46607dc6",
   "metadata": {},
   "outputs": [],
   "source": [
    "model2.score(x_test, y_test)"
   ]
  },
  {
   "cell_type": "code",
   "execution_count": null,
   "id": "14ccc465-2e53-4edb-a0fa-4149b78c5f4d",
   "metadata": {},
   "outputs": [],
   "source": [
    "model3.fit(x_train, y_train)"
   ]
  },
  {
   "cell_type": "code",
   "execution_count": null,
   "id": "25d4da19-705f-44ca-81c2-e61d7485fbea",
   "metadata": {},
   "outputs": [],
   "source": [
    "model3.score(x_train, y_train)"
   ]
  },
  {
   "cell_type": "code",
   "execution_count": null,
   "id": "c4887748-26da-48ee-a055-29ce491cce28",
   "metadata": {},
   "outputs": [],
   "source": [
    "model3.score(x_test, y_test)"
   ]
  },
  {
   "cell_type": "code",
   "execution_count": null,
   "id": "7ea8dc3c-cf4a-4ee0-a262-5518a8fca3f2",
   "metadata": {},
   "outputs": [],
   "source": []
  },
  {
   "cell_type": "code",
   "execution_count": null,
   "id": "85de8c86-dbcb-42fd-bf11-b285b54e9255",
   "metadata": {},
   "outputs": [],
   "source": [
    "d = [(x_train, y_train), (x_test, y_test)]"
   ]
  },
  {
   "cell_type": "code",
   "execution_count": null,
   "id": "9a869a55-5e30-4181-9d1d-ebbef727a320",
   "metadata": {},
   "outputs": [],
   "source": [
    "def trainModel(model, d):\n",
    "    for i, x in enumerate(d) : \n",
    "        if(i==0) :\n",
    "            model.fit(x[0],x[1])\n",
    "            print('train', model.score(x[0], x[1]))\n",
    "        else :\n",
    "            print('test', model.score(x[0], x[1]))   "
   ]
  },
  {
   "cell_type": "code",
   "execution_count": null,
   "id": "4f1a616f-5538-4918-8f1d-6e709c4eaf22",
   "metadata": {},
   "outputs": [],
   "source": [
    "trainModel(model1, d)"
   ]
  },
  {
   "cell_type": "code",
   "execution_count": null,
   "id": "346c378d-429d-4e01-878d-a6a1c9b3e3cd",
   "metadata": {},
   "outputs": [],
   "source": [
    "trainModel(model2, d)"
   ]
  },
  {
   "cell_type": "code",
   "execution_count": null,
   "id": "b7d59112-ba52-40e7-a7b2-3e40880cb372",
   "metadata": {},
   "outputs": [],
   "source": [
    "trainModel(model3, d)"
   ]
  },
  {
   "cell_type": "raw",
   "id": "6a434e94-9a08-444d-84b2-169ff8605779",
   "metadata": {},
   "source": []
  },
  {
   "cell_type": "code",
   "execution_count": null,
   "id": "15a3b0c1-c1e6-43cb-b0df-6c7bd2e4efcf",
   "metadata": {},
   "outputs": [],
   "source": []
  },
  {
   "cell_type": "raw",
   "id": "9e562bc4-7f17-4ad3-a8b3-cc80939570b3",
   "metadata": {},
   "source": [
    "2-0) minmax scaler 써보기!"
   ]
  },
  {
   "cell_type": "code",
   "execution_count": null,
   "id": "a4c0bf03-c61f-4590-b94a-d5f5cd4d75ac",
   "metadata": {},
   "outputs": [],
   "source": [
    "from sklearn.preprocessing import MinMaxScaler"
   ]
  },
  {
   "cell_type": "code",
   "execution_count": null,
   "id": "91e1575d-a777-4eff-bff9-dae83e10ddb7",
   "metadata": {},
   "outputs": [],
   "source": [
    "scaler = MinMaxScaler()"
   ]
  },
  {
   "cell_type": "code",
   "execution_count": null,
   "id": "1f60fb7f-5b78-461a-b976-f13c60a6fac0",
   "metadata": {},
   "outputs": [],
   "source": [
    "x_train = scaler.fit_transform(x_train)"
   ]
  },
  {
   "cell_type": "code",
   "execution_count": null,
   "id": "af544385-b27d-471c-ad21-adb90f50be77",
   "metadata": {},
   "outputs": [],
   "source": [
    "x_test = scaler.transform(x_test)"
   ]
  },
  {
   "cell_type": "code",
   "execution_count": null,
   "id": "cc83f5e3-fd97-4916-a4f0-9aed42747c23",
   "metadata": {
    "tags": []
   },
   "outputs": [],
   "source": [
    "model =LogisticRegressionCV()"
   ]
  },
  {
   "cell_type": "code",
   "execution_count": null,
   "id": "3f9589ea-83c7-4eda-8a74-4f75623a9c18",
   "metadata": {
    "tags": []
   },
   "outputs": [],
   "source": [
    "model.fit(x_train, y_train)"
   ]
  },
  {
   "cell_type": "code",
   "execution_count": null,
   "id": "441e65ad-23d0-4794-9584-a7a8f71452ff",
   "metadata": {
    "tags": []
   },
   "outputs": [],
   "source": [
    "model.score(x_train,y_train)"
   ]
  },
  {
   "cell_type": "code",
   "execution_count": null,
   "id": "46ba25a3-4e56-461e-95bf-485eaca5de4c",
   "metadata": {
    "tags": []
   },
   "outputs": [],
   "source": [
    "model.score(x_test,y_test)"
   ]
  },
  {
   "cell_type": "code",
   "execution_count": null,
   "id": "2f09ef7f-28df-4fdb-a691-13e7f03a2be1",
   "metadata": {},
   "outputs": [],
   "source": []
  },
  {
   "cell_type": "code",
   "execution_count": null,
   "id": "ecfa1f31-1e29-44bc-870b-bc1078c3ab8e",
   "metadata": {},
   "outputs": [],
   "source": []
  },
  {
   "cell_type": "markdown",
   "id": "03486968-9c16-41c0-9f5b-091f791aa957",
   "metadata": {},
   "source": [
    "# 3. 실제 데이터로 적용"
   ]
  },
  {
   "cell_type": "code",
   "execution_count": null,
   "id": "629b3001-4ed0-40a0-8948-76433b70f0d0",
   "metadata": {},
   "outputs": [],
   "source": []
  },
  {
   "cell_type": "code",
   "execution_count": null,
   "id": "5638bf15-4fa5-4ef9-a2f3-f8f6e79e1bf6",
   "metadata": {},
   "outputs": [],
   "source": []
  },
  {
   "cell_type": "code",
   "execution_count": null,
   "id": "06ea80dd-6a02-4a41-9785-990d785849c2",
   "metadata": {},
   "outputs": [],
   "source": []
  },
  {
   "cell_type": "code",
   "execution_count": null,
   "id": "ab89d38c-4dbf-48e1-b51b-7f9fb2421bc5",
   "metadata": {},
   "outputs": [],
   "source": []
  }
 ],
 "metadata": {
  "kernelspec": {
   "display_name": "Python 3 (ipykernel)",
   "language": "python",
   "name": "python3"
  },
  "language_info": {
   "codemirror_mode": {
    "name": "ipython",
    "version": 3
   },
   "file_extension": ".py",
   "mimetype": "text/x-python",
   "name": "python",
   "nbconvert_exporter": "python",
   "pygments_lexer": "ipython3",
   "version": "3.9.12"
  }
 },
 "nbformat": 4,
 "nbformat_minor": 5
}
