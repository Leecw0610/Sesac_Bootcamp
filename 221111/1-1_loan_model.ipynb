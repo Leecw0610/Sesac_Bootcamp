{
 "cells": [
  {
   "cell_type": "code",
   "execution_count": 1,
   "id": "242ce303-91d4-4da3-b8b5-fdc2ebbe4b7d",
   "metadata": {},
   "outputs": [],
   "source": [
    "import pandas as pd"
   ]
  },
  {
   "cell_type": "code",
   "execution_count": 3,
   "id": "012cf0ef-bc78-4c57-86af-a174247cc620",
   "metadata": {},
   "outputs": [],
   "source": [
    "loan=pd.read_csv('loan.csv')"
   ]
  },
  {
   "cell_type": "code",
   "execution_count": null,
   "id": "13a0bf6e-2bde-4d69-a78d-3aa50f693f27",
   "metadata": {},
   "outputs": [],
   "source": [
    "loan.columns"
   ]
  },
  {
   "cell_type": "code",
   "execution_count": null,
   "id": "4d59189b-57e4-4d1f-b7f7-470fc7160507",
   "metadata": {},
   "outputs": [],
   "source": []
  },
  {
   "cell_type": "raw",
   "id": "fd11ace9-8054-4905-9516-783687c95da5",
   "metadata": {},
   "source": [
    "null값 처리의 여러가지방법 1번 dropna로 다날리기"
   ]
  },
  {
   "cell_type": "code",
   "execution_count": null,
   "id": "6419d63a-c9ec-4cc7-b51d-42c04680521a",
   "metadata": {},
   "outputs": [],
   "source": [
    "loan = loan.dropna() #null값있는 항목 전부제외"
   ]
  },
  {
   "cell_type": "code",
   "execution_count": null,
   "id": "5b7da117-fe88-4b9a-855b-7cdbe899ca60",
   "metadata": {},
   "outputs": [],
   "source": [
    "loan.shape #데이터가 100개 넘게 날라감. 데이터손실 큼!!"
   ]
  },
  {
   "cell_type": "code",
   "execution_count": null,
   "id": "c999a109-601a-43e4-94d7-4d1842abb758",
   "metadata": {},
   "outputs": [],
   "source": [
    "loan.info()"
   ]
  },
  {
   "cell_type": "code",
   "execution_count": null,
   "id": "ffa8afb7-fb45-4896-ad7a-f3cff4eaf894",
   "metadata": {},
   "outputs": [],
   "source": [
    "obj_col =[]\n",
    "for i, j in zip(loan.dtypes.index, loan.dtypes.values):\n",
    "    if j == 'object' :\n",
    "        obj_col.append(i)\n",
    "        #object인 애들만 뽑아내기"
   ]
  },
  {
   "cell_type": "code",
   "execution_count": null,
   "id": "f87d78df-6d2b-4664-a37f-646e9c4b56b8",
   "metadata": {},
   "outputs": [],
   "source": [
    "obj_col"
   ]
  },
  {
   "cell_type": "raw",
   "id": "24714cd9-1ea6-4759-b803-e084b9e08984",
   "metadata": {},
   "source": [
    "Loan_ID는 의미가 없기 때문에 나중에 !!지우자!!"
   ]
  },
  {
   "cell_type": "code",
   "execution_count": null,
   "id": "a1e5fcef-f40c-4213-b3fb-2438bfcf04d3",
   "metadata": {},
   "outputs": [],
   "source": [
    "for col in obj_col[1:] : \n",
    "    print(loan[col].unique())\n",
    "    #Loan_ID를 제외한 나머지변수들의 고유항목들 보기!"
   ]
  },
  {
   "cell_type": "code",
   "execution_count": null,
   "id": "f9ba5382-1763-4aac-9936-9760d5179df8",
   "metadata": {},
   "outputs": [],
   "source": [
    "from sklearn.preprocessing import LabelEncoder"
   ]
  },
  {
   "cell_type": "code",
   "execution_count": null,
   "id": "6380e04a-77e3-4ed7-aac1-07d82bb5c22f",
   "metadata": {},
   "outputs": [],
   "source": [
    "label1 = LabelEncoder()"
   ]
  },
  {
   "cell_type": "code",
   "execution_count": null,
   "id": "71fc8bb8-62cd-4e7e-b19b-113490792098",
   "metadata": {},
   "outputs": [],
   "source": [
    "for col in obj_col[1:] :\n",
    "    label = LabelEncoder()\n",
    "    loan[col] = label.fit_transform(loan[col])"
   ]
  },
  {
   "cell_type": "code",
   "execution_count": null,
   "id": "70e922c7-c79c-4da8-87f6-b01f67377183",
   "metadata": {},
   "outputs": [],
   "source": [
    "X = loan.drop(['Loan_ID','Loan_Status'], axis=1)\n",
    "Y = loan['Loan_Status']"
   ]
  },
  {
   "cell_type": "code",
   "execution_count": null,
   "id": "3a33c38c-0ab5-4ae0-be09-4fd878d83b45",
   "metadata": {},
   "outputs": [],
   "source": []
  },
  {
   "cell_type": "code",
   "execution_count": null,
   "id": "37af4146-7c9e-4da7-a42a-770ad9c36da2",
   "metadata": {},
   "outputs": [],
   "source": [
    "from sklearn.model_selection import train_test_split\n",
    "from sklearn.svm import SVC"
   ]
  },
  {
   "cell_type": "code",
   "execution_count": null,
   "id": "5396a13d-3600-4134-8bfc-64340bcda940",
   "metadata": {},
   "outputs": [],
   "source": [
    "x_train, x_test, y_train, y_test = train_test_split(X,Y, test_size = 0.2, stratify=Y, random_state=0)"
   ]
  },
  {
   "cell_type": "code",
   "execution_count": null,
   "id": "4b2176d2-3d17-484b-b04e-0c090c13311f",
   "metadata": {},
   "outputs": [],
   "source": [
    "model = SVC()"
   ]
  },
  {
   "cell_type": "code",
   "execution_count": null,
   "id": "4f5a32e9-9c72-43b2-ab2a-db62ac5e1ec2",
   "metadata": {},
   "outputs": [],
   "source": [
    "model.fit(x_train, y_train)"
   ]
  },
  {
   "cell_type": "code",
   "execution_count": null,
   "id": "3803aa34-c03b-4ab9-bcc5-ad3d000884a8",
   "metadata": {
    "tags": []
   },
   "outputs": [],
   "source": [
    "model.score(x_train,y_train)"
   ]
  },
  {
   "cell_type": "code",
   "execution_count": null,
   "id": "3cc5c826-8712-4fa5-820e-e1787e95a459",
   "metadata": {},
   "outputs": [],
   "source": [
    "model.score(x_test,y_test)"
   ]
  },
  {
   "cell_type": "code",
   "execution_count": null,
   "id": "d5dfce76-8614-46f5-ab7e-9a6b8f1bb2da",
   "metadata": {},
   "outputs": [],
   "source": [
    "from sklearn.preprocessing import MinMaxScaler"
   ]
  },
  {
   "cell_type": "code",
   "execution_count": null,
   "id": "b0f48019-76b4-4800-9d3c-febe996f0833",
   "metadata": {},
   "outputs": [],
   "source": [
    "scaler = MinMaxScaler()"
   ]
  },
  {
   "cell_type": "code",
   "execution_count": null,
   "id": "ec8184c2-22b3-4b51-acad-2fe89b14ec85",
   "metadata": {},
   "outputs": [],
   "source": [
    "x_train = scaler.fit_transform(x_train)"
   ]
  },
  {
   "cell_type": "code",
   "execution_count": null,
   "id": "d773963f-1893-4793-b15b-5d343274d680",
   "metadata": {},
   "outputs": [],
   "source": [
    "x_test = scaler.transform(x_test)"
   ]
  },
  {
   "cell_type": "code",
   "execution_count": null,
   "id": "0c179d93-d826-4ae2-962d-67fcb379231a",
   "metadata": {
    "tags": []
   },
   "outputs": [],
   "source": [
    "model2 =SVC()"
   ]
  },
  {
   "cell_type": "code",
   "execution_count": null,
   "id": "d111ce58-5049-425a-84eb-f05c4c57fc6d",
   "metadata": {
    "tags": []
   },
   "outputs": [],
   "source": [
    "model2.fit(x_train, y_train)"
   ]
  },
  {
   "cell_type": "code",
   "execution_count": null,
   "id": "86f69100-30b4-44bc-aa0e-fd7088f4b7d8",
   "metadata": {
    "tags": []
   },
   "outputs": [],
   "source": [
    "model2.score(x_train,y_train)"
   ]
  },
  {
   "cell_type": "code",
   "execution_count": null,
   "id": "491a8ff8-90af-419b-bd1e-1ef438b9ebd8",
   "metadata": {
    "tags": []
   },
   "outputs": [],
   "source": [
    "model2.score(x_test,y_test)"
   ]
  },
  {
   "cell_type": "markdown",
   "id": "f2c24388-de8e-49be-961f-991f00fa22ed",
   "metadata": {},
   "source": [
    "--------------------------"
   ]
  },
  {
   "cell_type": "raw",
   "id": "6136b11c-85bd-47e0-a58f-d823ed835cb0",
   "metadata": {},
   "source": [
    "위에는 걍 빈모델로 해본거 !! 다시 정석으로 하기"
   ]
  },
  {
   "cell_type": "code",
   "execution_count": 4,
   "id": "b34487c0-c6b8-4ce0-96d8-f032dfc4b9f6",
   "metadata": {},
   "outputs": [],
   "source": [
    "loan=pd.read_csv('loan.csv')"
   ]
  },
  {
   "cell_type": "code",
   "execution_count": 5,
   "id": "d7260a71-f6e6-4c13-91dd-ca52dc2be014",
   "metadata": {},
   "outputs": [
    {
     "data": {
      "text/plain": [
       "Loan_ID               0\n",
       "Gender               13\n",
       "Married               3\n",
       "Dependents           15\n",
       "Education             0\n",
       "Self_Employed        32\n",
       "ApplicantIncome       0\n",
       "CoapplicantIncome     0\n",
       "LoanAmount           22\n",
       "Loan_Amount_Term     14\n",
       "Credit_History       50\n",
       "Property_Area         0\n",
       "Loan_Status           0\n",
       "dtype: int64"
      ]
     },
     "execution_count": 5,
     "metadata": {},
     "output_type": "execute_result"
    }
   ],
   "source": [
    "loan.isnull().sum()"
   ]
  },
  {
   "cell_type": "raw",
   "id": "e4fa7aef-8534-409d-9d1b-4ca1170b03e1",
   "metadata": {},
   "source": [
    " null이 있는 컬럼들\n",
    "\n",
    "-Gender               13\n",
    "-Married               3\n",
    "-Dependents           15\n",
    "-Self_Employed        32\n",
    "-LoanAmount           22\n",
    "-Loan_Amount_Term     14\n",
    "-Credit_History       50\n",
    "\n"
   ]
  },
  {
   "cell_type": "raw",
   "id": "cef4845e-6f43-4c8a-80b8-eb74dd092652",
   "metadata": {},
   "source": [
    "1) Gender의 결측치 처리!"
   ]
  },
  {
   "cell_type": "code",
   "execution_count": 6,
   "id": "c4d3b7c2-6f62-47e3-9509-6e3746921045",
   "metadata": {},
   "outputs": [
    {
     "data": {
      "text/plain": [
       "Male      489\n",
       "Female    112\n",
       "NaN        13\n",
       "Name: Gender, dtype: int64"
      ]
     },
     "execution_count": 6,
     "metadata": {},
     "output_type": "execute_result"
    }
   ],
   "source": [
    "loan['Gender'].value_counts(dropna=False) #null값 까지 표시하기 위해 dropna=False"
   ]
  },
  {
   "cell_type": "code",
   "execution_count": 7,
   "id": "84d65d36-f900-47ba-80b9-21f45e0d1089",
   "metadata": {},
   "outputs": [
    {
     "data": {
      "text/plain": [
       "0    Male\n",
       "Name: Gender, dtype: object"
      ]
     },
     "execution_count": 7,
     "metadata": {},
     "output_type": "execute_result"
    }
   ],
   "source": [
    "loan['Gender'].mode() #최빈값!!"
   ]
  },
  {
   "cell_type": "code",
   "execution_count": 8,
   "id": "2346720d-e128-4db9-826c-b4641e3eee0a",
   "metadata": {},
   "outputs": [],
   "source": [
    "male=loan['Gender'].value_counts(dropna=False)[0]\n",
    "female=loan['Gender'].value_counts(dropna=False)[1]\n",
    "na=loan['Gender'].value_counts(dropna=False)[2]"
   ]
  },
  {
   "cell_type": "code",
   "execution_count": 9,
   "id": "2b667bf1-0231-47af-9677-774a0824a761",
   "metadata": {},
   "outputs": [
    {
     "name": "stdout",
     "output_type": "stream",
     "text": [
      "Male의 비율 : 79.64\n",
      "Female의 비율 : 18.24\n",
      "Null의 비율 : 2.12\n"
     ]
    }
   ],
   "source": [
    "print('Male의 비율 : %.2f'%(male / len(loan) *100))\n",
    "print('Female의 비율 : %.2f'%(female / len(loan) *100))\n",
    "print('Null의 비율 : %.2f'%(na / len(loan) *100))"
   ]
  },
  {
   "cell_type": "code",
   "execution_count": 10,
   "id": "a3ded29f-673d-4a49-a7e7-5cb6faaa0288",
   "metadata": {},
   "outputs": [],
   "source": [
    "loan['Gender'].fillna(loan['Gender'].mode()[0], inplace=True)"
   ]
  },
  {
   "cell_type": "code",
   "execution_count": 11,
   "id": "9ce460d9-42f7-40f5-894d-9ea54a0629c4",
   "metadata": {},
   "outputs": [
    {
     "data": {
      "text/plain": [
       "0"
      ]
     },
     "execution_count": 11,
     "metadata": {},
     "output_type": "execute_result"
    }
   ],
   "source": [
    "loan['Gender'].isnull().sum()"
   ]
  },
  {
   "cell_type": "raw",
   "id": "102949fd-c5f3-45b1-bf07-b1660d318773",
   "metadata": {},
   "source": [
    "2) Married 항목 결측치 처리"
   ]
  },
  {
   "cell_type": "code",
   "execution_count": 12,
   "id": "f648a949-fee0-4ee3-a4c0-8c36750172c7",
   "metadata": {},
   "outputs": [
    {
     "data": {
      "text/plain": [
       "Yes    398\n",
       "No     213\n",
       "NaN      3\n",
       "Name: Married, dtype: int64"
      ]
     },
     "execution_count": 12,
     "metadata": {},
     "output_type": "execute_result"
    }
   ],
   "source": [
    "loan['Married'].value_counts(dropna=False)"
   ]
  },
  {
   "cell_type": "code",
   "execution_count": 13,
   "id": "e50ec6d8-a66c-4ebc-96f9-96f22e1fd42b",
   "metadata": {},
   "outputs": [],
   "source": [
    "loan['Married'].fillna(loan['Married'].mode()[0], inplace=True)"
   ]
  },
  {
   "cell_type": "code",
   "execution_count": 14,
   "id": "93885241-fd9d-455d-8884-d07fa76d40c7",
   "metadata": {},
   "outputs": [
    {
     "data": {
      "text/plain": [
       "0"
      ]
     },
     "execution_count": 14,
     "metadata": {},
     "output_type": "execute_result"
    }
   ],
   "source": [
    "loan['Married'].isnull().sum()"
   ]
  },
  {
   "cell_type": "code",
   "execution_count": 15,
   "id": "70f8ee7a-ce33-493c-80c6-a5fb44b6505a",
   "metadata": {},
   "outputs": [],
   "source": [
    "null_col = ['Gender','Married','Dependents','Self_Employed'] #4가지 항목은 최빈값으로 결측치 처리!"
   ]
  },
  {
   "cell_type": "code",
   "execution_count": 16,
   "id": "4679c65d-c933-4a8b-b18e-2080dd026e5e",
   "metadata": {},
   "outputs": [],
   "source": [
    "for col in null_col :\n",
    "    #print(loan[col].value_counts(dropna=False))\n",
    "    loan[col].fillna(loan[col].mode()[0], inplace=True)"
   ]
  },
  {
   "cell_type": "code",
   "execution_count": 17,
   "id": "48956684-cd0a-49c5-9857-0ab3cc511226",
   "metadata": {},
   "outputs": [
    {
     "data": {
      "text/plain": [
       "Loan_ID               0\n",
       "Gender                0\n",
       "Married               0\n",
       "Dependents            0\n",
       "Education             0\n",
       "Self_Employed         0\n",
       "ApplicantIncome       0\n",
       "CoapplicantIncome     0\n",
       "LoanAmount           22\n",
       "Loan_Amount_Term     14\n",
       "Credit_History       50\n",
       "Property_Area         0\n",
       "Loan_Status           0\n",
       "dtype: int64"
      ]
     },
     "execution_count": 17,
     "metadata": {},
     "output_type": "execute_result"
    }
   ],
   "source": [
    "loan.isnull().sum()"
   ]
  },
  {
   "cell_type": "code",
   "execution_count": 18,
   "id": "11facc0f-aeaf-4032-b214-269a11a369d4",
   "metadata": {},
   "outputs": [
    {
     "data": {
      "text/plain": [
       "count    592.000000\n",
       "mean     146.412162\n",
       "std       85.587325\n",
       "min        9.000000\n",
       "25%      100.000000\n",
       "50%      128.000000\n",
       "75%      168.000000\n",
       "max      700.000000\n",
       "Name: LoanAmount, dtype: float64"
      ]
     },
     "execution_count": 18,
     "metadata": {},
     "output_type": "execute_result"
    }
   ],
   "source": [
    "loan['LoanAmount'].describe()"
   ]
  },
  {
   "cell_type": "code",
   "execution_count": 19,
   "id": "d8a0ea33-5554-47b2-a7bd-458df288dc73",
   "metadata": {},
   "outputs": [
    {
     "data": {
      "text/plain": [
       "128.0"
      ]
     },
     "execution_count": 19,
     "metadata": {},
     "output_type": "execute_result"
    }
   ],
   "source": [
    "loan['LoanAmount'].median()"
   ]
  },
  {
   "cell_type": "code",
   "execution_count": 20,
   "id": "f7be0966-f9ee-4a21-9c86-e09dc396fdbd",
   "metadata": {},
   "outputs": [
    {
     "data": {
      "text/plain": [
       "No     532\n",
       "Yes     82\n",
       "Name: Self_Employed, dtype: int64"
      ]
     },
     "execution_count": 20,
     "metadata": {},
     "output_type": "execute_result"
    }
   ],
   "source": [
    "loan['Self_Employed'].value_counts()"
   ]
  },
  {
   "cell_type": "code",
   "execution_count": 22,
   "id": "8800ab9b-4b36-41ba-bd53-c87bee20da96",
   "metadata": {},
   "outputs": [
    {
     "data": {
      "text/plain": [
       "Self_Employed\n",
       "No     125.0\n",
       "Yes    150.0\n",
       "Name: LoanAmount, dtype: float64"
      ]
     },
     "execution_count": 22,
     "metadata": {},
     "output_type": "execute_result"
    }
   ],
   "source": [
    "loan.groupby('Self_Employed')['LoanAmount'].median()"
   ]
  },
  {
   "cell_type": "code",
   "execution_count": 23,
   "id": "efd988d0-ceb9-4cd5-8a67-1f72ecea44b9",
   "metadata": {},
   "outputs": [
    {
     "data": {
      "text/plain": [
       "No     19\n",
       "Yes     3\n",
       "Name: Self_Employed, dtype: int64"
      ]
     },
     "execution_count": 23,
     "metadata": {},
     "output_type": "execute_result"
    }
   ],
   "source": [
    "loan[loan['LoanAmount'].isnull()]['Self_Employed'].value_counts()"
   ]
  },
  {
   "cell_type": "code",
   "execution_count": 24,
   "id": "1ea3bc69-d027-4ae0-8c5e-488170efa1c9",
   "metadata": {},
   "outputs": [],
   "source": [
    "loan['LoanAmount'].fillna(loan['LoanAmount'].median(), inplace=True) # LoanAmount의 결측치 처리 중위수로!"
   ]
  },
  {
   "cell_type": "code",
   "execution_count": 25,
   "id": "07eef5dd-9ed7-4522-a6b5-05069b5489cd",
   "metadata": {},
   "outputs": [
    {
     "data": {
      "text/plain": [
       "0"
      ]
     },
     "execution_count": 25,
     "metadata": {},
     "output_type": "execute_result"
    }
   ],
   "source": [
    "loan['LoanAmount'].isnull().sum()"
   ]
  },
  {
   "cell_type": "code",
   "execution_count": 26,
   "id": "432dab3c-640e-4e52-afb8-455b7d954f06",
   "metadata": {},
   "outputs": [
    {
     "data": {
      "text/plain": [
       "360.0    512\n",
       "180.0     44\n",
       "480.0     15\n",
       "300.0     13\n",
       "240.0      4\n",
       "84.0       4\n",
       "120.0      3\n",
       "60.0       2\n",
       "36.0       2\n",
       "12.0       1\n",
       "Name: Loan_Amount_Term, dtype: int64"
      ]
     },
     "execution_count": 26,
     "metadata": {},
     "output_type": "execute_result"
    }
   ],
   "source": [
    "loan['Loan_Amount_Term'].value_counts()"
   ]
  },
  {
   "cell_type": "code",
   "execution_count": 27,
   "id": "55f10c83-7b1a-49f7-965d-a07ab699190c",
   "metadata": {},
   "outputs": [
    {
     "data": {
      "text/plain": [
       "Loan_Amount_Term\n",
       "12.0     111.0\n",
       "36.0     117.5\n",
       "60.0     140.0\n",
       "84.0     126.0\n",
       "120.0     25.0\n",
       "180.0    127.0\n",
       "240.0    114.0\n",
       "300.0    124.0\n",
       "360.0    128.0\n",
       "480.0    113.0\n",
       "Name: LoanAmount, dtype: float64"
      ]
     },
     "execution_count": 27,
     "metadata": {},
     "output_type": "execute_result"
    }
   ],
   "source": [
    "loan.groupby('Loan_Amount_Term')['LoanAmount'].median()"
   ]
  },
  {
   "cell_type": "code",
   "execution_count": 28,
   "id": "2dde37ec-7a23-4a5f-9692-a41002f9e36c",
   "metadata": {},
   "outputs": [],
   "source": [
    "loan['Loan_Amount_Term'].fillna(loan['Loan_Amount_Term'].mode()[0], inplace=True) # LoanAmountterm의 결측치 처리 최빈값로!"
   ]
  },
  {
   "cell_type": "code",
   "execution_count": 29,
   "id": "631091c7-7e24-428f-b732-5465db224128",
   "metadata": {},
   "outputs": [
    {
     "data": {
      "text/plain": [
       "1.0    475\n",
       "0.0     89\n",
       "NaN     50\n",
       "Name: Credit_History, dtype: int64"
      ]
     },
     "execution_count": 29,
     "metadata": {},
     "output_type": "execute_result"
    }
   ],
   "source": [
    "loan['Credit_History'].value_counts(dropna=False)"
   ]
  },
  {
   "cell_type": "code",
   "execution_count": 30,
   "id": "eeda2c87-b5bf-4221-94a0-1bbd92699df2",
   "metadata": {},
   "outputs": [
    {
     "data": {
      "text/plain": [
       "Credit_History\n",
       "0.0    127.0\n",
       "1.0    128.0\n",
       "Name: LoanAmount, dtype: float64"
      ]
     },
     "execution_count": 30,
     "metadata": {},
     "output_type": "execute_result"
    }
   ],
   "source": [
    "loan.groupby('Credit_History')['LoanAmount'].median()"
   ]
  },
  {
   "cell_type": "code",
   "execution_count": 31,
   "id": "580ed41a-c57c-4aa4-8c2a-85ce547cbb3c",
   "metadata": {},
   "outputs": [],
   "source": [
    "loan['Credit_History'].fillna(loan['Credit_History'].mode()[0], inplace=True) # LoanAmountterm의 결측치 처리 최빈값로!"
   ]
  },
  {
   "cell_type": "code",
   "execution_count": null,
   "id": "3b25ad54-6419-4129-9e4c-3e6194534d95",
   "metadata": {},
   "outputs": [],
   "source": []
  },
  {
   "cell_type": "code",
   "execution_count": 32,
   "id": "316b1437-ea22-47b7-8a38-d5ff64200983",
   "metadata": {},
   "outputs": [
    {
     "data": {
      "text/plain": [
       "Loan_ID              0\n",
       "Gender               0\n",
       "Married              0\n",
       "Dependents           0\n",
       "Education            0\n",
       "Self_Employed        0\n",
       "ApplicantIncome      0\n",
       "CoapplicantIncome    0\n",
       "LoanAmount           0\n",
       "Loan_Amount_Term     0\n",
       "Credit_History       0\n",
       "Property_Area        0\n",
       "Loan_Status          0\n",
       "dtype: int64"
      ]
     },
     "execution_count": 32,
     "metadata": {},
     "output_type": "execute_result"
    }
   ],
   "source": [
    "loan.isnull().sum()"
   ]
  },
  {
   "cell_type": "code",
   "execution_count": null,
   "id": "84fab897-64aa-4915-8c6d-757cbf159dee",
   "metadata": {},
   "outputs": [],
   "source": []
  },
  {
   "cell_type": "code",
   "execution_count": null,
   "id": "8e1437b8-3075-47ad-ba57-fb0934fb24c6",
   "metadata": {},
   "outputs": [],
   "source": []
  },
  {
   "cell_type": "code",
   "execution_count": 33,
   "id": "b36dc299-d9cd-4151-9f1f-0dc3c709259b",
   "metadata": {},
   "outputs": [],
   "source": [
    "from sklearn.preprocessing import LabelEncoder"
   ]
  },
  {
   "cell_type": "code",
   "execution_count": 37,
   "id": "9faa7413-e7c6-4e3a-8274-fbdc4b47ae9e",
   "metadata": {},
   "outputs": [],
   "source": [
    "obj_col = ['Gender','Married','Dependents','Education','Self_Employed','Property_Area']"
   ]
  },
  {
   "cell_type": "code",
   "execution_count": 38,
   "id": "ff960087-13c5-4cfb-b65b-6d2376c8b9cd",
   "metadata": {},
   "outputs": [],
   "source": [
    "label = LabelEncoder()"
   ]
  },
  {
   "cell_type": "code",
   "execution_count": 47,
   "id": "b4ca3eee-fa0b-4408-a625-6d02a125315e",
   "metadata": {},
   "outputs": [],
   "source": [
    "for col in obj_col :\n",
    "    label = LabelEncoder()\n",
    "    loan[col] = label.fit_transform(loan[col])    "
   ]
  },
  {
   "cell_type": "code",
   "execution_count": null,
   "id": "3ec30057-2ba6-466d-8069-ce91a1b5ccd7",
   "metadata": {},
   "outputs": [],
   "source": []
  },
  {
   "cell_type": "code",
   "execution_count": null,
   "id": "cae8bd28-2fe9-4aac-8ea9-d52ebc1a0f69",
   "metadata": {},
   "outputs": [],
   "source": []
  },
  {
   "cell_type": "code",
   "execution_count": null,
   "id": "3d0e1226-f28a-4477-a37b-b3eef89c5268",
   "metadata": {},
   "outputs": [],
   "source": []
  },
  {
   "cell_type": "code",
   "execution_count": 48,
   "id": "99338e42-3965-48c4-a349-9bd0d01bcc04",
   "metadata": {},
   "outputs": [
    {
     "data": {
      "text/html": [
       "<div>\n",
       "<style scoped>\n",
       "    .dataframe tbody tr th:only-of-type {\n",
       "        vertical-align: middle;\n",
       "    }\n",
       "\n",
       "    .dataframe tbody tr th {\n",
       "        vertical-align: top;\n",
       "    }\n",
       "\n",
       "    .dataframe thead th {\n",
       "        text-align: right;\n",
       "    }\n",
       "</style>\n",
       "<table border=\"1\" class=\"dataframe\">\n",
       "  <thead>\n",
       "    <tr style=\"text-align: right;\">\n",
       "      <th></th>\n",
       "      <th>Loan_ID</th>\n",
       "      <th>Gender</th>\n",
       "      <th>Married</th>\n",
       "      <th>Dependents</th>\n",
       "      <th>Education</th>\n",
       "      <th>Self_Employed</th>\n",
       "      <th>ApplicantIncome</th>\n",
       "      <th>CoapplicantIncome</th>\n",
       "      <th>LoanAmount</th>\n",
       "      <th>Loan_Amount_Term</th>\n",
       "      <th>Credit_History</th>\n",
       "      <th>Property_Area</th>\n",
       "      <th>Loan_Status</th>\n",
       "    </tr>\n",
       "  </thead>\n",
       "  <tbody>\n",
       "    <tr>\n",
       "      <th>0</th>\n",
       "      <td>LP001002</td>\n",
       "      <td>1</td>\n",
       "      <td>0</td>\n",
       "      <td>0</td>\n",
       "      <td>0</td>\n",
       "      <td>0</td>\n",
       "      <td>5849</td>\n",
       "      <td>0.0</td>\n",
       "      <td>128.0</td>\n",
       "      <td>360.0</td>\n",
       "      <td>1.0</td>\n",
       "      <td>2</td>\n",
       "      <td>Y</td>\n",
       "    </tr>\n",
       "    <tr>\n",
       "      <th>1</th>\n",
       "      <td>LP001003</td>\n",
       "      <td>1</td>\n",
       "      <td>1</td>\n",
       "      <td>1</td>\n",
       "      <td>0</td>\n",
       "      <td>0</td>\n",
       "      <td>4583</td>\n",
       "      <td>1508.0</td>\n",
       "      <td>128.0</td>\n",
       "      <td>360.0</td>\n",
       "      <td>1.0</td>\n",
       "      <td>0</td>\n",
       "      <td>N</td>\n",
       "    </tr>\n",
       "    <tr>\n",
       "      <th>2</th>\n",
       "      <td>LP001005</td>\n",
       "      <td>1</td>\n",
       "      <td>1</td>\n",
       "      <td>0</td>\n",
       "      <td>0</td>\n",
       "      <td>1</td>\n",
       "      <td>3000</td>\n",
       "      <td>0.0</td>\n",
       "      <td>66.0</td>\n",
       "      <td>360.0</td>\n",
       "      <td>1.0</td>\n",
       "      <td>2</td>\n",
       "      <td>Y</td>\n",
       "    </tr>\n",
       "    <tr>\n",
       "      <th>3</th>\n",
       "      <td>LP001006</td>\n",
       "      <td>1</td>\n",
       "      <td>1</td>\n",
       "      <td>0</td>\n",
       "      <td>1</td>\n",
       "      <td>0</td>\n",
       "      <td>2583</td>\n",
       "      <td>2358.0</td>\n",
       "      <td>120.0</td>\n",
       "      <td>360.0</td>\n",
       "      <td>1.0</td>\n",
       "      <td>2</td>\n",
       "      <td>Y</td>\n",
       "    </tr>\n",
       "    <tr>\n",
       "      <th>4</th>\n",
       "      <td>LP001008</td>\n",
       "      <td>1</td>\n",
       "      <td>0</td>\n",
       "      <td>0</td>\n",
       "      <td>0</td>\n",
       "      <td>0</td>\n",
       "      <td>6000</td>\n",
       "      <td>0.0</td>\n",
       "      <td>141.0</td>\n",
       "      <td>360.0</td>\n",
       "      <td>1.0</td>\n",
       "      <td>2</td>\n",
       "      <td>Y</td>\n",
       "    </tr>\n",
       "    <tr>\n",
       "      <th>...</th>\n",
       "      <td>...</td>\n",
       "      <td>...</td>\n",
       "      <td>...</td>\n",
       "      <td>...</td>\n",
       "      <td>...</td>\n",
       "      <td>...</td>\n",
       "      <td>...</td>\n",
       "      <td>...</td>\n",
       "      <td>...</td>\n",
       "      <td>...</td>\n",
       "      <td>...</td>\n",
       "      <td>...</td>\n",
       "      <td>...</td>\n",
       "    </tr>\n",
       "    <tr>\n",
       "      <th>609</th>\n",
       "      <td>LP002978</td>\n",
       "      <td>0</td>\n",
       "      <td>0</td>\n",
       "      <td>0</td>\n",
       "      <td>0</td>\n",
       "      <td>0</td>\n",
       "      <td>2900</td>\n",
       "      <td>0.0</td>\n",
       "      <td>71.0</td>\n",
       "      <td>360.0</td>\n",
       "      <td>1.0</td>\n",
       "      <td>0</td>\n",
       "      <td>Y</td>\n",
       "    </tr>\n",
       "    <tr>\n",
       "      <th>610</th>\n",
       "      <td>LP002979</td>\n",
       "      <td>1</td>\n",
       "      <td>1</td>\n",
       "      <td>3</td>\n",
       "      <td>0</td>\n",
       "      <td>0</td>\n",
       "      <td>4106</td>\n",
       "      <td>0.0</td>\n",
       "      <td>40.0</td>\n",
       "      <td>180.0</td>\n",
       "      <td>1.0</td>\n",
       "      <td>0</td>\n",
       "      <td>Y</td>\n",
       "    </tr>\n",
       "    <tr>\n",
       "      <th>611</th>\n",
       "      <td>LP002983</td>\n",
       "      <td>1</td>\n",
       "      <td>1</td>\n",
       "      <td>1</td>\n",
       "      <td>0</td>\n",
       "      <td>0</td>\n",
       "      <td>8072</td>\n",
       "      <td>240.0</td>\n",
       "      <td>253.0</td>\n",
       "      <td>360.0</td>\n",
       "      <td>1.0</td>\n",
       "      <td>2</td>\n",
       "      <td>Y</td>\n",
       "    </tr>\n",
       "    <tr>\n",
       "      <th>612</th>\n",
       "      <td>LP002984</td>\n",
       "      <td>1</td>\n",
       "      <td>1</td>\n",
       "      <td>2</td>\n",
       "      <td>0</td>\n",
       "      <td>0</td>\n",
       "      <td>7583</td>\n",
       "      <td>0.0</td>\n",
       "      <td>187.0</td>\n",
       "      <td>360.0</td>\n",
       "      <td>1.0</td>\n",
       "      <td>2</td>\n",
       "      <td>Y</td>\n",
       "    </tr>\n",
       "    <tr>\n",
       "      <th>613</th>\n",
       "      <td>LP002990</td>\n",
       "      <td>0</td>\n",
       "      <td>0</td>\n",
       "      <td>0</td>\n",
       "      <td>0</td>\n",
       "      <td>1</td>\n",
       "      <td>4583</td>\n",
       "      <td>0.0</td>\n",
       "      <td>133.0</td>\n",
       "      <td>360.0</td>\n",
       "      <td>0.0</td>\n",
       "      <td>1</td>\n",
       "      <td>N</td>\n",
       "    </tr>\n",
       "  </tbody>\n",
       "</table>\n",
       "<p>614 rows × 13 columns</p>\n",
       "</div>"
      ],
      "text/plain": [
       "      Loan_ID  Gender  Married  Dependents  Education  Self_Employed  \\\n",
       "0    LP001002       1        0           0          0              0   \n",
       "1    LP001003       1        1           1          0              0   \n",
       "2    LP001005       1        1           0          0              1   \n",
       "3    LP001006       1        1           0          1              0   \n",
       "4    LP001008       1        0           0          0              0   \n",
       "..        ...     ...      ...         ...        ...            ...   \n",
       "609  LP002978       0        0           0          0              0   \n",
       "610  LP002979       1        1           3          0              0   \n",
       "611  LP002983       1        1           1          0              0   \n",
       "612  LP002984       1        1           2          0              0   \n",
       "613  LP002990       0        0           0          0              1   \n",
       "\n",
       "     ApplicantIncome  CoapplicantIncome  LoanAmount  Loan_Amount_Term  \\\n",
       "0               5849                0.0       128.0             360.0   \n",
       "1               4583             1508.0       128.0             360.0   \n",
       "2               3000                0.0        66.0             360.0   \n",
       "3               2583             2358.0       120.0             360.0   \n",
       "4               6000                0.0       141.0             360.0   \n",
       "..               ...                ...         ...               ...   \n",
       "609             2900                0.0        71.0             360.0   \n",
       "610             4106                0.0        40.0             180.0   \n",
       "611             8072              240.0       253.0             360.0   \n",
       "612             7583                0.0       187.0             360.0   \n",
       "613             4583                0.0       133.0             360.0   \n",
       "\n",
       "     Credit_History  Property_Area Loan_Status  \n",
       "0               1.0              2           Y  \n",
       "1               1.0              0           N  \n",
       "2               1.0              2           Y  \n",
       "3               1.0              2           Y  \n",
       "4               1.0              2           Y  \n",
       "..              ...            ...         ...  \n",
       "609             1.0              0           Y  \n",
       "610             1.0              0           Y  \n",
       "611             1.0              2           Y  \n",
       "612             1.0              2           Y  \n",
       "613             0.0              1           N  \n",
       "\n",
       "[614 rows x 13 columns]"
      ]
     },
     "execution_count": 48,
     "metadata": {},
     "output_type": "execute_result"
    }
   ],
   "source": [
    "loan"
   ]
  },
  {
   "cell_type": "code",
   "execution_count": 49,
   "id": "10df9192-b09e-4f68-8318-cf0585602595",
   "metadata": {},
   "outputs": [],
   "source": [
    "X = loan.drop(['Loan_ID','Loan_Status'], axis=1)\n",
    "Y = loan['Loan_Status']"
   ]
  },
  {
   "cell_type": "code",
   "execution_count": null,
   "id": "b84fe73e-edfa-4c6b-9605-7b17ee77e4b0",
   "metadata": {},
   "outputs": [],
   "source": []
  },
  {
   "cell_type": "code",
   "execution_count": 50,
   "id": "3ed7865c-4f77-41d4-923f-9caaaf114ec0",
   "metadata": {},
   "outputs": [],
   "source": [
    "from sklearn.model_selection import train_test_split\n",
    "from sklearn.svm import SVC"
   ]
  },
  {
   "cell_type": "code",
   "execution_count": 51,
   "id": "2f49e48f-b22b-4bc2-a7d0-a95031a1af7c",
   "metadata": {},
   "outputs": [],
   "source": [
    "x_train, x_test, y_train, y_test = train_test_split(X,Y, test_size = 0.2, stratify=Y, random_state=1)"
   ]
  },
  {
   "cell_type": "code",
   "execution_count": 52,
   "id": "5056f23f-5279-4256-b479-f5b4f5d5c7e8",
   "metadata": {},
   "outputs": [],
   "source": [
    "model = SVC()"
   ]
  },
  {
   "cell_type": "code",
   "execution_count": 53,
   "id": "aed6562d-fed1-4fe8-b06f-48e4c88c5694",
   "metadata": {
    "tags": []
   },
   "outputs": [
    {
     "data": {
      "text/plain": [
       "SVC()"
      ]
     },
     "execution_count": 53,
     "metadata": {},
     "output_type": "execute_result"
    }
   ],
   "source": [
    "model.fit(x_train, y_train)"
   ]
  },
  {
   "cell_type": "code",
   "execution_count": 54,
   "id": "4b4ec791-160f-43ed-8a34-801922d55c85",
   "metadata": {},
   "outputs": [
    {
     "data": {
      "text/plain": [
       "0.6924643584521385"
      ]
     },
     "execution_count": 54,
     "metadata": {},
     "output_type": "execute_result"
    }
   ],
   "source": [
    "model.score(x_train,y_train)"
   ]
  },
  {
   "cell_type": "code",
   "execution_count": 55,
   "id": "17efede4-45de-49b1-ab4b-2894c32de855",
   "metadata": {},
   "outputs": [
    {
     "data": {
      "text/plain": [
       "0.6910569105691057"
      ]
     },
     "execution_count": 55,
     "metadata": {},
     "output_type": "execute_result"
    }
   ],
   "source": [
    "model.score(x_test,y_test)"
   ]
  },
  {
   "cell_type": "code",
   "execution_count": 56,
   "id": "7ad7d6dd-cc25-4beb-b8a3-6895d34c2b45",
   "metadata": {},
   "outputs": [],
   "source": [
    "from sklearn.preprocessing import MinMaxScaler"
   ]
  },
  {
   "cell_type": "code",
   "execution_count": 57,
   "id": "ccaeaf96-a7a4-41f4-a0cc-7a74525ab227",
   "metadata": {},
   "outputs": [],
   "source": [
    "scaler = MinMaxScaler()"
   ]
  },
  {
   "cell_type": "code",
   "execution_count": 58,
   "id": "b2a28777-1573-4674-b506-c3e7a5b5eca3",
   "metadata": {},
   "outputs": [],
   "source": [
    "x_train = scaler.fit_transform(x_train)"
   ]
  },
  {
   "cell_type": "code",
   "execution_count": 59,
   "id": "07fec37b-bd6f-4910-9e6d-3bfee245f072",
   "metadata": {},
   "outputs": [],
   "source": [
    "x_test = scaler.transform(x_test)"
   ]
  },
  {
   "cell_type": "code",
   "execution_count": 60,
   "id": "0a57f332-c6a7-4c12-bc7d-32a1560f99fb",
   "metadata": {
    "tags": []
   },
   "outputs": [],
   "source": [
    "model2 =SVC()"
   ]
  },
  {
   "cell_type": "code",
   "execution_count": 61,
   "id": "a2248f61-07d5-4f99-8a19-c26692a1d52e",
   "metadata": {
    "tags": []
   },
   "outputs": [
    {
     "data": {
      "text/plain": [
       "SVC()"
      ]
     },
     "execution_count": 61,
     "metadata": {},
     "output_type": "execute_result"
    }
   ],
   "source": [
    "model2.fit(x_train, y_train)"
   ]
  },
  {
   "cell_type": "code",
   "execution_count": 62,
   "id": "722ce282-7306-4ad5-b5cb-f04c1ba80a0e",
   "metadata": {
    "tags": []
   },
   "outputs": [
    {
     "data": {
      "text/plain": [
       "0.8044806517311609"
      ]
     },
     "execution_count": 62,
     "metadata": {},
     "output_type": "execute_result"
    }
   ],
   "source": [
    "model2.score(x_train,y_train)"
   ]
  },
  {
   "cell_type": "code",
   "execution_count": 63,
   "id": "2cc15f1b-c6a8-4fbe-8e19-4acaf4627851",
   "metadata": {
    "tags": []
   },
   "outputs": [
    {
     "data": {
      "text/plain": [
       "0.8373983739837398"
      ]
     },
     "execution_count": 63,
     "metadata": {},
     "output_type": "execute_result"
    }
   ],
   "source": [
    "model2.score(x_test,y_test)"
   ]
  },
  {
   "cell_type": "code",
   "execution_count": 64,
   "id": "60af4459-6fce-4eae-86b8-073d890d5c75",
   "metadata": {},
   "outputs": [],
   "source": [
    "import pickle"
   ]
  },
  {
   "cell_type": "code",
   "execution_count": 66,
   "id": "145044af-c392-44c5-84a6-4ed3bebedcbf",
   "metadata": {},
   "outputs": [],
   "source": [
    "with open('loan_model.pkl', 'wb') as f :\n",
    "    pickle.dump(model, f)"
   ]
  },
  {
   "cell_type": "raw",
   "id": "bb1a6ad1-b8c0-42b4-9532-1df4e1c92297",
   "metadata": {},
   "source": [
    " * auto sklearn에 대해 알아보기~"
   ]
  },
  {
   "cell_type": "code",
   "execution_count": null,
   "id": "55dc5109-f0b9-4d79-bafd-3fc92b9145fd",
   "metadata": {},
   "outputs": [],
   "source": [
    "loan['LoanAmount'].value_counts()"
   ]
  },
  {
   "cell_type": "code",
   "execution_count": null,
   "id": "65d6728a-24c5-431b-ae2a-d60ee4ff1b74",
   "metadata": {},
   "outputs": [],
   "source": []
  }
 ],
 "metadata": {
  "kernelspec": {
   "display_name": "Python 3 (ipykernel)",
   "language": "python",
   "name": "python3"
  },
  "language_info": {
   "codemirror_mode": {
    "name": "ipython",
    "version": 3
   },
   "file_extension": ".py",
   "mimetype": "text/x-python",
   "name": "python",
   "nbconvert_exporter": "python",
   "pygments_lexer": "ipython3",
   "version": "3.9.12"
  }
 },
 "nbformat": 4,
 "nbformat_minor": 5
}
