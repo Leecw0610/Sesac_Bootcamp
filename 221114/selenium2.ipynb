{
 "cells": [
  {
   "cell_type": "markdown",
   "id": "719d40ee-ace0-444b-88f5-748fd5f79461",
   "metadata": {},
   "source": [
    "# CGV사이트 로그인하기"
   ]
  },
  {
   "cell_type": "code",
   "execution_count": null,
   "id": "d2d22700-0503-459c-ac1e-22e1fdaeb28d",
   "metadata": {
    "tags": []
   },
   "outputs": [],
   "source": [
    "#conda install -c conda-forge python-dotenv"
   ]
  },
  {
   "cell_type": "code",
   "execution_count": null,
   "id": "ff6180b1-c68e-4dc2-b170-253bef8ad5cf",
   "metadata": {},
   "outputs": [],
   "source": [
    "#!pip install dotenv"
   ]
  },
  {
   "cell_type": "code",
   "execution_count": null,
   "id": "69454e74-b227-4790-bd76-7c4ecbec7fb2",
   "metadata": {},
   "outputs": [],
   "source": [
    "import os\n",
    "from dotenv import load_dotenv"
   ]
  },
  {
   "cell_type": "code",
   "execution_count": null,
   "id": "a9a361e2-ba65-43ca-896e-f6e7083651b3",
   "metadata": {},
   "outputs": [],
   "source": [
    "load_dotenv()\n",
    "print(os.getenv('id'))"
   ]
  },
  {
   "cell_type": "code",
   "execution_count": null,
   "id": "fecf0afb-29c3-4038-a9ec-46cd0e855224",
   "metadata": {},
   "outputs": [],
   "source": [
    "os.getenv('id')"
   ]
  },
  {
   "cell_type": "code",
   "execution_count": null,
   "id": "84e8f4da-d653-4367-9416-351c16e0ad53",
   "metadata": {},
   "outputs": [],
   "source": [
    "#크롬브라우저 열기"
   ]
  },
  {
   "cell_type": "code",
   "execution_count": null,
   "id": "0684f463-65f6-4a2b-8d08-fb3081286744",
   "metadata": {},
   "outputs": [],
   "source": [
    "DRIVER_DIR = './chromedriver.exe'\n",
    "driver = webdriver.Chrome(DRIVER_DIR)"
   ]
  },
  {
   "cell_type": "code",
   "execution_count": null,
   "id": "1350e1e2-7a3c-4d5a-b7fc-c86e152f379c",
   "metadata": {},
   "outputs": [],
   "source": [
    "#CGV 로그인 주소로 이동"
   ]
  },
  {
   "cell_type": "code",
   "execution_count": null,
   "id": "2ab8a314-593f-4071-8df4-6a567d92c8d5",
   "metadata": {
    "tags": []
   },
   "outputs": [],
   "source": [
    "driver.get('https://www.cgv.co.kr/user/login')"
   ]
  },
  {
   "cell_type": "code",
   "execution_count": null,
   "id": "81b04d3e-131f-43bb-9ed6-5094a1876963",
   "metadata": {},
   "outputs": [],
   "source": [
    "#ID 입력"
   ]
  },
  {
   "cell_type": "code",
   "execution_count": null,
   "id": "d7ccb197-6679-4882-ae98-a1235161183f",
   "metadata": {},
   "outputs": [],
   "source": [
    "ele = driver.find_element(By.ID, 'txtUserId')"
   ]
  },
  {
   "cell_type": "code",
   "execution_count": null,
   "id": "9ac0ad16-71ee-4d0e-9ae5-9c321f03152c",
   "metadata": {},
   "outputs": [],
   "source": [
    "ele.send_keys(os.getenv('id'))"
   ]
  },
  {
   "cell_type": "code",
   "execution_count": null,
   "id": "630c8693-2cd9-4de7-8373-26fecd1da4c3",
   "metadata": {},
   "outputs": [],
   "source": []
  },
  {
   "cell_type": "code",
   "execution_count": null,
   "id": "c6856842-8f06-4e20-a335-f599140d96c5",
   "metadata": {},
   "outputs": [],
   "source": []
  },
  {
   "cell_type": "code",
   "execution_count": null,
   "id": "8577094d-3523-44d4-8219-4302b081e822",
   "metadata": {},
   "outputs": [],
   "source": []
  },
  {
   "cell_type": "code",
   "execution_count": null,
   "id": "f6661201-4968-43f0-8a45-39d6ae0a8bcc",
   "metadata": {},
   "outputs": [],
   "source": [
    "#PW 입력"
   ]
  },
  {
   "cell_type": "code",
   "execution_count": null,
   "id": "ab3983fe-3eee-4b73-bb01-0be815369d98",
   "metadata": {},
   "outputs": [],
   "source": [
    "ele2 = driver.find_element(By.ID, 'txtPassword')"
   ]
  },
  {
   "cell_type": "code",
   "execution_count": null,
   "id": "639c283f-a4b8-452f-80ce-77242c40982c",
   "metadata": {
    "tags": []
   },
   "outputs": [],
   "source": [
    "ele2.send_keys(os.getenv('pw'))"
   ]
  },
  {
   "cell_type": "code",
   "execution_count": null,
   "id": "e242084a-ad0e-46f8-8333-cb29ece985fe",
   "metadata": {},
   "outputs": [],
   "source": [
    "#txtPassword"
   ]
  },
  {
   "cell_type": "code",
   "execution_count": null,
   "id": "dd4ebd93-7150-4f86-a389-8658566bf3c7",
   "metadata": {},
   "outputs": [],
   "source": []
  },
  {
   "cell_type": "code",
   "execution_count": null,
   "id": "80147689-b1cc-4d64-a676-eca6988ef0fa",
   "metadata": {},
   "outputs": [],
   "source": []
  },
  {
   "cell_type": "code",
   "execution_count": null,
   "id": "7c0e4325-4c39-4c83-8d25-30fd28c593e3",
   "metadata": {},
   "outputs": [],
   "source": [
    "#로그인버튼 클릭"
   ]
  },
  {
   "cell_type": "code",
   "execution_count": null,
   "id": "c7709d90-6813-4224-8132-a04b7aa128ff",
   "metadata": {},
   "outputs": [],
   "source": [
    "ele3 = driver.find_element(By.CSS_SELECTOR, '#submit > span')"
   ]
  },
  {
   "cell_type": "code",
   "execution_count": null,
   "id": "11221f82-1cb0-49a0-8830-c5df4d0af169",
   "metadata": {},
   "outputs": [],
   "source": [
    "#submit > span"
   ]
  },
  {
   "cell_type": "code",
   "execution_count": null,
   "id": "e97a6f59-a63c-4af6-b65c-e0c8154d0685",
   "metadata": {},
   "outputs": [],
   "source": [
    "ele3.click()"
   ]
  },
  {
   "cell_type": "code",
   "execution_count": null,
   "id": "207bb178-f1db-49cd-90df-85ab865a80af",
   "metadata": {},
   "outputs": [],
   "source": [
    "#ctl00_PlaceHolderContent_btn_pw_chag_later > span"
   ]
  },
  {
   "cell_type": "code",
   "execution_count": null,
   "id": "a34c1f1b-d034-4002-aa7e-b7e2008170dd",
   "metadata": {},
   "outputs": [],
   "source": [
    "ele4 = driver.find_element(By.CSS_SELECTOR, '#ctl00_PlaceHolderContent_btn_pw_chag_later > span')\n",
    "ele4.click()"
   ]
  },
  {
   "cell_type": "code",
   "execution_count": 4,
   "id": "c33d651a-9990-41c9-af08-8ac3662c9fbf",
   "metadata": {},
   "outputs": [
    {
     "name": "stdout",
     "output_type": "stream",
     "text": [
      "Collecting webdriver_manager\n",
      "  Downloading webdriver_manager-3.8.4-py2.py3-none-any.whl (27 kB)\n",
      "Requirement already satisfied: python-dotenv in c:\\users\\user\\anaconda3\\lib\\site-packages (from webdriver_manager) (0.21.0)\n",
      "Requirement already satisfied: requests in c:\\users\\user\\anaconda3\\lib\\site-packages (from webdriver_manager) (2.27.1)\n",
      "Requirement already satisfied: tqdm in c:\\users\\user\\anaconda3\\lib\\site-packages (from webdriver_manager) (4.64.0)\n",
      "Requirement already satisfied: idna<4,>=2.5 in c:\\users\\user\\anaconda3\\lib\\site-packages (from requests->webdriver_manager) (3.3)\n",
      "Requirement already satisfied: urllib3<1.27,>=1.21.1 in c:\\users\\user\\anaconda3\\lib\\site-packages (from requests->webdriver_manager) (1.26.9)\n",
      "Requirement already satisfied: certifi>=2017.4.17 in c:\\users\\user\\anaconda3\\lib\\site-packages (from requests->webdriver_manager) (2021.10.8)\n",
      "Requirement already satisfied: charset-normalizer~=2.0.0 in c:\\users\\user\\anaconda3\\lib\\site-packages (from requests->webdriver_manager) (2.0.4)\n",
      "Requirement already satisfied: colorama in c:\\users\\user\\anaconda3\\lib\\site-packages (from tqdm->webdriver_manager) (0.4.4)\n",
      "Installing collected packages: webdriver-manager\n",
      "Successfully installed webdriver-manager-3.8.4\n"
     ]
    }
   ],
   "source": [
    "!pip install webdriver_manager"
   ]
  },
  {
   "cell_type": "code",
   "execution_count": 9,
   "id": "422b3b08-e3ae-4683-884a-a28ec935d9bd",
   "metadata": {},
   "outputs": [
    {
     "name": "stdout",
     "output_type": "stream",
     "text": [
      "Requirement already satisfied: webdriver_manager in c:\\users\\user\\anaconda3\\lib\\site-packages (3.8.4)\n",
      "Requirement already satisfied: tqdm in c:\\users\\user\\anaconda3\\lib\\site-packages (from webdriver_manager) (4.64.0)\n",
      "Requirement already satisfied: requests in c:\\users\\user\\anaconda3\\lib\\site-packages (from webdriver_manager) (2.27.1)\n",
      "Requirement already satisfied: python-dotenv in c:\\users\\user\\anaconda3\\lib\\site-packages (from webdriver_manager) (0.21.0)\n",
      "Requirement already satisfied: idna<4,>=2.5 in c:\\users\\user\\anaconda3\\lib\\site-packages (from requests->webdriver_manager) (3.3)\n",
      "Requirement already satisfied: certifi>=2017.4.17 in c:\\users\\user\\anaconda3\\lib\\site-packages (from requests->webdriver_manager) (2021.10.8)\n",
      "Requirement already satisfied: charset-normalizer~=2.0.0 in c:\\users\\user\\anaconda3\\lib\\site-packages (from requests->webdriver_manager) (2.0.4)\n",
      "Requirement already satisfied: urllib3<1.27,>=1.21.1 in c:\\users\\user\\anaconda3\\lib\\site-packages (from requests->webdriver_manager) (1.26.9)\n",
      "Requirement already satisfied: colorama in c:\\users\\user\\anaconda3\\lib\\site-packages (from tqdm->webdriver_manager) (0.4.4)\n",
      "Note: you may need to restart the kernel to use updated packages.\n"
     ]
    }
   ],
   "source": [
    "pip install webdriver_manager"
   ]
  },
  {
   "cell_type": "code",
   "execution_count": 19,
   "id": "52b7489f-6da7-4edb-9e53-8aeaab348c77",
   "metadata": {},
   "outputs": [],
   "source": [
    "import time\n",
    "import requests\n",
    "from bs4 import BeautifulSoup\n",
    "from selenium import webdriver\n",
    "from selenium.webdriver.common.keys import Keys\n",
    "from selenium.webdriver.common.by import By\n",
    "from webdriver_manager.chrome import ChromeDriverManager\n",
    "from selenium.webdriver.chrome.service import Service\n",
    "import os\n",
    "from dotenv import load_dotenv\n",
    "\n",
    "load_dotenv()\n",
    "driver = webdriver.Chrome(service=Service(ChromeDriverManager().install()))\n",
    "driver.get('https://www.cgv.co.kr/user/login')\n",
    "\n",
    "driver.find_element(By.ID, 'txtUserId').send_keys(os.getenv('id'))\n",
    "driver.find_element(By.ID, 'txtPassword').send_keys(os.getenv('pw'))\n",
    "driver.find_element(By.CSS_SELECTOR, '#submit > span').click()\n",
    "driver.find_element(By.CSS_SELECTOR, '#ctl00_PlaceHolderContent_btn_pw_chag_later > span').click()"
   ]
  },
  {
   "cell_type": "code",
   "execution_count": null,
   "id": "e984e670-a784-48ed-944d-d40d00f120ee",
   "metadata": {},
   "outputs": [],
   "source": []
  }
 ],
 "metadata": {
  "kernelspec": {
   "display_name": "Python 3 (ipykernel)",
   "language": "python",
   "name": "python3"
  },
  "language_info": {
   "codemirror_mode": {
    "name": "ipython",
    "version": 3
   },
   "file_extension": ".py",
   "mimetype": "text/x-python",
   "name": "python",
   "nbconvert_exporter": "python",
   "pygments_lexer": "ipython3",
   "version": "3.9.12"
  }
 },
 "nbformat": 4,
 "nbformat_minor": 5
}
