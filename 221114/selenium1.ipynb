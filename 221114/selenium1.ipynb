{
 "cells": [
  {
   "cell_type": "markdown",
   "id": "9c646d08-5bc4-4d23-a4e7-6a89ae44927d",
   "metadata": {},
   "source": [
    "# 셀레니움을 활용한 동적페이지 크롤링"
   ]
  },
  {
   "cell_type": "markdown",
   "id": "a95b4691-4bea-44b7-b632-1286afa62fee",
   "metadata": {},
   "source": [
    "## 라이브러리 가져오기"
   ]
  },
  {
   "cell_type": "code",
   "execution_count": null,
   "id": "11ff02be-ea49-4d67-9457-23d02c57de67",
   "metadata": {},
   "outputs": [],
   "source": [
    "!pip install selenium"
   ]
  },
  {
   "cell_type": "code",
   "execution_count": null,
   "id": "eada2125-8b2e-4f53-8835-b033438668c2",
   "metadata": {},
   "outputs": [],
   "source": [
    "import time\n",
    "import requests\n",
    "from bs4 import BeautifulSoup\n",
    "from selenium import webdriver\n",
    "from selenium.webdriver.common.keys import Keys\n",
    "from selenium.webdriver.common.by import By"
   ]
  },
  {
   "cell_type": "code",
   "execution_count": null,
   "id": "125121dc-ec5b-4726-9015-a4a69e2c21c0",
   "metadata": {},
   "outputs": [],
   "source": [
    "DRIVER_DIR = './chromedriver.exe'\n",
    "driver = webdriver.Chrome(DRIVER_DIR)"
   ]
  },
  {
   "cell_type": "markdown",
   "id": "06c9f894-ac07-4499-820b-73c2f2cc3c3c",
   "metadata": {},
   "source": [
    "## 페이지 이동하기"
   ]
  },
  {
   "cell_type": "markdown",
   "id": "bdd73a52-5505-4423-aeb7-19cdb0508757",
   "metadata": {},
   "source": [
    "### driver.get(url)"
   ]
  },
  {
   "cell_type": "code",
   "execution_count": null,
   "id": "455f09fc-795d-4d7a-8501-2b91463221ed",
   "metadata": {},
   "outputs": [],
   "source": [
    "driver.get('https://v-room.kr')"
   ]
  },
  {
   "cell_type": "markdown",
   "id": "3517d7da-60ee-4ae2-a5e8-f226e93faf3b",
   "metadata": {},
   "source": [
    "### 페이지와 상호작용하기\n",
    "- element = driver.find_element(By.ID, 'passwd-id')\n",
    "- element = driver.find_element(By.Name, 'passwd')\n",
    "- element = driver.find_element(By.XPATH, '//input[@id='passwd-id']')\n",
    "- element = driver.find_element(By.CSS_SELECTOR, 'input#passwd-id')"
   ]
  },
  {
   "cell_type": "code",
   "execution_count": null,
   "id": "82c0bf24-1c78-4902-b34d-de3e54531a1b",
   "metadata": {},
   "outputs": [],
   "source": [
    "driver.get('https://v-room.kr/login')\n",
    "ele = driver.find_element(By.ID, 'inputID')\n",
    "ele"
   ]
  },
  {
   "cell_type": "code",
   "execution_count": null,
   "id": "bd33222e-b097-4c74-b7bb-b5e26cb5e0fe",
   "metadata": {},
   "outputs": [],
   "source": [
    "ele.send_keys('test')"
   ]
  },
  {
   "cell_type": "code",
   "execution_count": null,
   "id": "ff66ae52-4cfa-4bf1-8264-cc81c75096aa",
   "metadata": {},
   "outputs": [],
   "source": [
    "# 비밀번호에 'test'라는 값 넣기"
   ]
  },
  {
   "cell_type": "code",
   "execution_count": null,
   "id": "f1efde30-5235-42ad-acf3-3120e90855ff",
   "metadata": {
    "tags": []
   },
   "outputs": [],
   "source": [
    "ele2 = driver.find_element(By.ID, 'inputPW')\n",
    "ele2.send_keys('test')\n",
    "#ele2.send_keys(Keys.ARROW_DOWN)"
   ]
  },
  {
   "cell_type": "code",
   "execution_count": null,
   "id": "7972fb74-13e6-4f20-bed7-6878de72b1a9",
   "metadata": {},
   "outputs": [],
   "source": [
    "# 엔터키로 로그인하기[(Keys.Enter)도 가능]\n",
    "# ele2.send_keys(Keys.RETURN)"
   ]
  },
  {
   "cell_type": "code",
   "execution_count": null,
   "id": "b2c2c1d5-1e6a-40f2-9598-00f2f2274851",
   "metadata": {},
   "outputs": [],
   "source": [
    "# Login버튼 클릭해서 로그인하기\n",
    "ele3 = driver.find_element(By.CSS_SELECTOR, '.login-bottom') #'.'이 뜻하는것은 class이다. '#'은 ID를 뜻한다! (외워둘것~)\n",
    "# W3 school 의 CSS Selector Reference 참조!!"
   ]
  },
  {
   "cell_type": "code",
   "execution_count": null,
   "id": "f000c9a0-da7e-41e9-991f-ea086e068768",
   "metadata": {},
   "outputs": [],
   "source": [
    "ele3.click()"
   ]
  },
  {
   "cell_type": "code",
   "execution_count": null,
   "id": "6bd1cb8b-170a-4f72-8c31-6cad6aa5ec85",
   "metadata": {},
   "outputs": [],
   "source": [
    "#ele3 = driver.find_element(By.CSS_SELECTOR, '#container_login > div > form > div > div > button')"
   ]
  },
  {
   "cell_type": "code",
   "execution_count": null,
   "id": "689b50b4-9db4-432c-a0f3-635195410966",
   "metadata": {},
   "outputs": [],
   "source": [
    "#container_login > div > form > div > div > button"
   ]
  },
  {
   "cell_type": "code",
   "execution_count": null,
   "id": "7020c891-3e9a-4545-ad20-c78c8db6f78c",
   "metadata": {},
   "outputs": [],
   "source": [
    "# 현재 화면 저장\n",
    "driver.save_screenshot('screenshot.png')\n",
    "# 현재 화면 저장 기능을 이용하여 크롤링의 진행상태나 에러 발생 경로를 찾는데 사용~"
   ]
  },
  {
   "cell_type": "code",
   "execution_count": null,
   "id": "db87d4a0-b0f2-4e1d-92d0-5a4286823ea4",
   "metadata": {},
   "outputs": [],
   "source": [
    "#페이지 이동: 뒤로가기, 앞으로가기\n",
    "driver.back()\n",
    "driver.forward()"
   ]
  },
  {
   "cell_type": "code",
   "execution_count": null,
   "id": "66516194-71ad-46c8-b093-d3af49867da0",
   "metadata": {},
   "outputs": [],
   "source": []
  },
  {
   "cell_type": "raw",
   "id": "6034ca56-8068-428c-bdc2-c139a6a62706",
   "metadata": {},
   "source": [
    "i=0\n",
    "for i in range (10) :\n",
    "    driver.back()\n",
    "    driver.forward()\n",
    "    i+=1"
   ]
  },
  {
   "cell_type": "markdown",
   "id": "545608e8-39d3-434f-ac57-de35ba57c834",
   "metadata": {},
   "source": [
    "### 데이터 가져오기"
   ]
  },
  {
   "cell_type": "code",
   "execution_count": null,
   "id": "2b92ea7a-dc7b-4c71-9a5c-e682f788cb24",
   "metadata": {},
   "outputs": [],
   "source": [
    "driver.get('https://v-room.kr/classlist')"
   ]
  },
  {
   "cell_type": "code",
   "execution_count": null,
   "id": "377490c6-0006-43af-acdf-34434e8e9551",
   "metadata": {},
   "outputs": [],
   "source": [
    "#container_course > ul > li:nth-child(1)\n",
    "elem = driver.find_elements(By.CSS_SELECTOR, '.course.register')  #element가 아니라 elements로 바꾸어서 모든 요소를 볼 수있음.\n",
    "#course랑 register를 동시에 갖는 값들을 불러옴"
   ]
  },
  {
   "cell_type": "raw",
   "id": "addc316d-c445-4508-a23a-9002e3bc6a0c",
   "metadata": {},
   "source": [
    "elem"
   ]
  },
  {
   "cell_type": "code",
   "execution_count": null,
   "id": "ab23254d-79ee-4d32-9620-b5ec3a5ab4f0",
   "metadata": {},
   "outputs": [],
   "source": [
    "for i in elem:\n",
    "    print(i.text)"
   ]
  },
  {
   "cell_type": "code",
   "execution_count": null,
   "id": "897d6da1-e28b-494a-b87a-fcd06a6a57e6",
   "metadata": {},
   "outputs": [],
   "source": [
    "driver.close()"
   ]
  },
  {
   "cell_type": "code",
   "execution_count": null,
   "id": "e50919a6-6d21-484d-a995-65c3f5a21360",
   "metadata": {
    "tags": []
   },
   "outputs": [],
   "source": []
  }
 ],
 "metadata": {
  "kernelspec": {
   "display_name": "Python 3 (ipykernel)",
   "language": "python",
   "name": "python3"
  },
  "language_info": {
   "codemirror_mode": {
    "name": "ipython",
    "version": 3
   },
   "file_extension": ".py",
   "mimetype": "text/x-python",
   "name": "python",
   "nbconvert_exporter": "python",
   "pygments_lexer": "ipython3",
   "version": "3.9.12"
  }
 },
 "nbformat": 4,
 "nbformat_minor": 5
}
