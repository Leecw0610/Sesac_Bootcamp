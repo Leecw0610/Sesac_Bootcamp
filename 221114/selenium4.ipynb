{
 "cells": [
  {
   "cell_type": "code",
   "execution_count": 1,
   "id": "ccf4208e-b31b-4748-8eb2-5977e4275a85",
   "metadata": {},
   "outputs": [],
   "source": [
    "# 셀레니움으로 유튜브 영상 긁어오기\n",
    "## pytube"
   ]
  },
  {
   "cell_type": "code",
   "execution_count": 2,
   "id": "67a2f576-691e-4e47-b3b1-32d8bac56e84",
   "metadata": {},
   "outputs": [
    {
     "name": "stdout",
     "output_type": "stream",
     "text": [
      "Collecting pytube\n",
      "  Downloading pytube-12.1.0-py3-none-any.whl (56 kB)\n",
      "Installing collected packages: pytube\n",
      "Successfully installed pytube-12.1.0\n"
     ]
    }
   ],
   "source": [
    "#!pip install pytube"
   ]
  },
  {
   "cell_type": "code",
   "execution_count": 3,
   "id": "b099e9fb-fc3e-4eaf-86b9-19bd566a4eca",
   "metadata": {},
   "outputs": [],
   "source": [
    "from pytube import YouTube"
   ]
  },
  {
   "cell_type": "code",
   "execution_count": 4,
   "id": "0ea2d4b2-d0fa-4e9c-9494-2a4c1d71a961",
   "metadata": {},
   "outputs": [],
   "source": [
    "yt = YouTube('https://www.youtube.com/watch?v=LY6FqyehFt4')"
   ]
  },
  {
   "cell_type": "code",
   "execution_count": 5,
   "id": "41da84da-5096-4bbd-8f05-3f50ba2dcf7a",
   "metadata": {},
   "outputs": [
    {
     "data": {
      "text/plain": [
       "[<Stream: itag=\"18\" mime_type=\"video/mp4\" res=\"360p\" fps=\"30fps\" vcodec=\"avc1.42001E\" acodec=\"mp4a.40.2\" progressive=\"True\" type=\"video\">, <Stream: itag=\"22\" mime_type=\"video/mp4\" res=\"720p\" fps=\"30fps\" vcodec=\"avc1.64001F\" acodec=\"mp4a.40.2\" progressive=\"True\" type=\"video\">, <Stream: itag=\"137\" mime_type=\"video/mp4\" res=\"1080p\" fps=\"30fps\" vcodec=\"avc1.640028\" progressive=\"False\" type=\"video\">, <Stream: itag=\"136\" mime_type=\"video/mp4\" res=\"720p\" fps=\"30fps\" vcodec=\"avc1.64001f\" progressive=\"False\" type=\"video\">, <Stream: itag=\"135\" mime_type=\"video/mp4\" res=\"480p\" fps=\"30fps\" vcodec=\"avc1.4d400b\" progressive=\"False\" type=\"video\">, <Stream: itag=\"134\" mime_type=\"video/mp4\" res=\"360p\" fps=\"30fps\" vcodec=\"avc1.4d401e\" progressive=\"False\" type=\"video\">, <Stream: itag=\"133\" mime_type=\"video/mp4\" res=\"240p\" fps=\"30fps\" vcodec=\"avc1.4d400c\" progressive=\"False\" type=\"video\">, <Stream: itag=\"160\" mime_type=\"video/mp4\" res=\"144p\" fps=\"30fps\" vcodec=\"avc1.4d400b\" progressive=\"False\" type=\"video\">, <Stream: itag=\"139\" mime_type=\"audio/mp4\" abr=\"48kbps\" acodec=\"mp4a.40.5\" progressive=\"False\" type=\"audio\">, <Stream: itag=\"140\" mime_type=\"audio/mp4\" abr=\"128kbps\" acodec=\"mp4a.40.2\" progressive=\"False\" type=\"audio\">]"
      ]
     },
     "execution_count": 5,
     "metadata": {},
     "output_type": "execute_result"
    }
   ],
   "source": [
    "#yt.streams.filter(file_extension='mp4')"
   ]
  },
  {
   "cell_type": "code",
   "execution_count": 6,
   "id": "aa2f3d6e-c53f-43d5-8998-93ac03c061d9",
   "metadata": {},
   "outputs": [],
   "source": [
    "stream = yt.streams.get_by_itag(22)\n",
    "# 가장많이 씀 (itag22번을 가져와줘~)"
   ]
  },
  {
   "cell_type": "code",
   "execution_count": 7,
   "id": "48e765a5-51a8-49c9-8a08-d7af34682567",
   "metadata": {},
   "outputs": [
    {
     "data": {
      "text/plain": [
       "'C:\\\\Users\\\\user\\\\Desktop\\\\Python\\\\221114\\\\2022 올잇원 회사소개영상.mp4'"
      ]
     },
     "execution_count": 7,
     "metadata": {},
     "output_type": "execute_result"
    }
   ],
   "source": [
    "stream.download()"
   ]
  },
  {
   "cell_type": "code",
   "execution_count": 8,
   "id": "07d59d6c-6ce4-48c1-8918-8c5dcbe9ceea",
   "metadata": {},
   "outputs": [
    {
     "data": {
      "text/plain": [
       "'2022 올잇원 회사소개영상'"
      ]
     },
     "execution_count": 8,
     "metadata": {},
     "output_type": "execute_result"
    }
   ],
   "source": [
    "yt.title"
   ]
  },
  {
   "cell_type": "code",
   "execution_count": null,
   "id": "3eac2f62-2dd9-4804-838e-56305df234b9",
   "metadata": {},
   "outputs": [],
   "source": [
    "링크로 들어가서\n",
    "\n",
    "스크롤하고\n",
    "\n",
    "링크따고\n",
    "\n",
    "다운로드"
   ]
  },
  {
   "cell_type": "markdown",
   "id": "806caec0-3363-4c01-9d3e-2fc5ecbc3664",
   "metadata": {
    "tags": []
   },
   "source": [
    "# 유튜브 영상 다운로드 받기"
   ]
  },
  {
   "cell_type": "code",
   "execution_count": null,
   "id": "801f90d3-bcef-41dd-856a-1b700ae1a2a7",
   "metadata": {},
   "outputs": [],
   "source": []
  },
  {
   "cell_type": "code",
   "execution_count": null,
   "id": "43faf8cf-4495-49c2-b904-f1e22005a8c8",
   "metadata": {},
   "outputs": [],
   "source": []
  },
  {
   "cell_type": "code",
   "execution_count": null,
   "id": "d74a7a91-eab0-4472-89a3-012db2e37e24",
   "metadata": {},
   "outputs": [],
   "source": []
  },
  {
   "cell_type": "markdown",
   "id": "b92f3026-8178-4dc2-b843-2254b93286a4",
   "metadata": {},
   "source": [
    "## 1. 라이브러리 열기 "
   ]
  },
  {
   "cell_type": "code",
   "execution_count": 18,
   "id": "966c2cb7-1016-48db-93ba-a88c27e10280",
   "metadata": {},
   "outputs": [],
   "source": [
    "from selenium import webdriver\n",
    "from selenium.webdriver.common.keys import Keys\n",
    "from selenium.webdriver.common.by import By\n",
    "from webdriver_manager.chrome import ChromeDriverManager\n",
    "from selenium.webdriver.chrome.service import Service\n",
    "import time\n",
    "from pytube import YouTube"
   ]
  },
  {
   "cell_type": "code",
   "execution_count": null,
   "id": "a865c4a1-b8ab-4123-9d7b-8f6992f6cc67",
   "metadata": {},
   "outputs": [],
   "source": []
  },
  {
   "cell_type": "code",
   "execution_count": null,
   "id": "0530e1bd-bf6a-40cb-b9c9-6bf0fdbbfe3e",
   "metadata": {},
   "outputs": [],
   "source": []
  },
  {
   "cell_type": "markdown",
   "id": "3fda7899-f05c-4393-bb32-9d64da234374",
   "metadata": {},
   "source": [
    "## 2. 페이지 이동"
   ]
  },
  {
   "cell_type": "code",
   "execution_count": 19,
   "id": "deb78dc8-9c5e-4b89-b4ad-435471d17d3e",
   "metadata": {},
   "outputs": [],
   "source": [
    "driver = webdriver.Chrome(service=Service(ChromeDriverManager().install()))"
   ]
  },
  {
   "cell_type": "code",
   "execution_count": 20,
   "id": "3b91cf22-bcab-4aae-b1a8-b60c73524bfc",
   "metadata": {},
   "outputs": [],
   "source": [
    "driver.get('https://www.youtube.com/channel/UCmyFB-ySHaEG2W31RYLwROA/videos')"
   ]
  },
  {
   "cell_type": "code",
   "execution_count": null,
   "id": "24ce4a63-932f-4a61-b12d-74ebcccb38a3",
   "metadata": {},
   "outputs": [],
   "source": []
  },
  {
   "cell_type": "markdown",
   "id": "726cae58-d27e-487c-a9d0-4af91fd15baa",
   "metadata": {},
   "source": [
    "## 3. 원하는 크리에이터 영상 찾기"
   ]
  },
  {
   "cell_type": "raw",
   "id": "40537286-d98c-468b-82eb-faffaae5a5e1",
   "metadata": {},
   "source": [
    "동영상의 영상 전부!!"
   ]
  },
  {
   "cell_type": "code",
   "execution_count": null,
   "id": "b373700c-f979-40d7-85e1-ca641b85e788",
   "metadata": {},
   "outputs": [],
   "source": []
  },
  {
   "cell_type": "code",
   "execution_count": null,
   "id": "212a0546-60ef-4c20-8ef1-29131c5d75e4",
   "metadata": {},
   "outputs": [],
   "source": []
  },
  {
   "cell_type": "markdown",
   "id": "6b572e9b-8f95-448c-8217-c307ade53dd0",
   "metadata": {},
   "source": [
    "## 4. 페이지 스크롤"
   ]
  },
  {
   "cell_type": "raw",
   "id": "8463627e-df73-4951-a6ee-6785fa4a6779",
   "metadata": {},
   "source": [
    "1(A). 현재 높이를 가져온다.\n",
    "2(A). 스크롤을 실행한다.\n",
    "3(A). 스크롤 후의 높이를 가져온다.\n",
    "4. 처음 높이와 스크롤 후의 높이가 같으면 break, 다르면 (A)를 반복"
   ]
  },
  {
   "cell_type": "code",
   "execution_count": 29,
   "id": "06a9c1b1-6bbc-4b94-8c0a-51d6d2e119a3",
   "metadata": {},
   "outputs": [],
   "source": [
    "elem = driver.find_element(By.CSS_SELECTOR, 'body')\n",
    "first_height = driver.execute_script('return document.documentElement.scrollHeight')\n",
    "second_height = 0\n",
    "\n",
    "while True :\n",
    "    \n",
    "    if first_height == second_height :\n",
    "        break\n",
    "    \n",
    "    else :\n",
    "        first_height = driver.execute_script('return document.documentElement.scrollHeight')\n",
    "        k=15\n",
    "        for i in range(k) : \n",
    "            if k<8 :\n",
    "                elem.send_keys(Keys.PAGE_DOWN)\n",
    "                time.sleep(1)\n",
    "            else :\n",
    "                elem.send_keys(Keys.PAGE_DOWN)\n",
    "                time.sleep(4)\n",
    "\n",
    "        second_height = driver.execute_script('return document.documentElement.scrollHeight')\n",
    "        #print(first_height, second_height)"
   ]
  },
  {
   "cell_type": "code",
   "execution_count": 25,
   "id": "a447a952-db58-4e41-bf44-b098126ea565",
   "metadata": {},
   "outputs": [
    {
     "data": {
      "text/plain": [
       "<selenium.webdriver.remote.webelement.WebElement (session=\"5f3f7f7746f079c2117fb97af94466e0\", element=\"e3ffe5e7-f59f-4b57-a39b-acbbf1cac0b0\")>"
      ]
     },
     "execution_count": 25,
     "metadata": {},
     "output_type": "execute_result"
    }
   ],
   "source": [
    "driver.find_element(By.CSS_SELECTOR, 'body')"
   ]
  },
  {
   "cell_type": "code",
   "execution_count": null,
   "id": "bd0b3c80-30b5-4763-abb3-bfe0a21850f2",
   "metadata": {},
   "outputs": [],
   "source": []
  },
  {
   "cell_type": "markdown",
   "id": "dceea76c-c244-4180-abe2-81ecde78faee",
   "metadata": {},
   "source": [
    "## 5. 유튜브 영상 추출"
   ]
  },
  {
   "cell_type": "code",
   "execution_count": null,
   "id": "5cbab1e4-ad05-44ed-a6c6-581c03143360",
   "metadata": {},
   "outputs": [],
   "source": [
    "videos =driver.find_elements(By.CSS_SELECTOR, '.thumb img')"
   ]
  },
  {
   "cell_type": "code",
   "execution_count": null,
   "id": "fe86655b-bf9e-41ff-9793-216efdbbf44b",
   "metadata": {},
   "outputs": [],
   "source": []
  },
  {
   "cell_type": "code",
   "execution_count": null,
   "id": "04d5b5cf-9a1c-405d-818a-fcf9240c35fb",
   "metadata": {},
   "outputs": [],
   "source": [
    "video_link=[]\n",
    "for i in videos :\n",
    "    video_link.append(i.get_attribute('src'))\n",
    "video_link"
   ]
  },
  {
   "cell_type": "code",
   "execution_count": null,
   "id": "4be69967-7baf-499d-9c58-4f67aa19f23a",
   "metadata": {},
   "outputs": [],
   "source": [
    "videos = driver.find_elements(By.CSS_SELECTOR, '.thumb img')\n",
    "video_link = [x.get_attribute('src') for x in videos]"
   ]
  },
  {
   "cell_type": "code",
   "execution_count": null,
   "id": "4bfa8cab-954c-4d9c-9091-4868be5d110d",
   "metadata": {},
   "outputs": [],
   "source": []
  },
  {
   "cell_type": "code",
   "execution_count": null,
   "id": "c2c46b9c-0254-46cc-9480-3a9b9a265949",
   "metadata": {},
   "outputs": [],
   "source": []
  },
  {
   "cell_type": "code",
   "execution_count": null,
   "id": "5d74061d-1250-4352-b437-3e34899e8807",
   "metadata": {},
   "outputs": [],
   "source": [
    "#movie_player > div.html5-video-container > video"
   ]
  },
  {
   "cell_type": "code",
   "execution_count": 30,
   "id": "7f4a51ae-cc1a-4295-a0a2-6bd047f73f19",
   "metadata": {},
   "outputs": [],
   "source": [
    "videos =driver.find_elements(By.CSS_SELECTOR, '#movie_player > div.html5-video-container > video')"
   ]
  },
  {
   "cell_type": "code",
   "execution_count": 33,
   "id": "9f00db12-01ea-43db-89f7-40cde234818e",
   "metadata": {},
   "outputs": [],
   "source": [
    "yt = YouTube('https://www.youtube.com/watch?v=LY6FqyehFt4')"
   ]
  },
  {
   "cell_type": "code",
   "execution_count": 34,
   "id": "8c7c2bed-faba-431a-91c1-efe1f753137f",
   "metadata": {},
   "outputs": [
    {
     "data": {
      "text/plain": [
       "[<selenium.webdriver.remote.webelement.WebElement (session=\"5f3f7f7746f079c2117fb97af94466e0\", element=\"5de8c5cd-fb10-4ca3-8094-0caae1a373eb\")>]"
      ]
     },
     "execution_count": 34,
     "metadata": {},
     "output_type": "execute_result"
    }
   ],
   "source": [
    "videos #영상 주소"
   ]
  },
  {
   "cell_type": "code",
   "execution_count": 35,
   "id": "a4204dfb-fb4f-42fd-87b9-3a9931476578",
   "metadata": {},
   "outputs": [
    {
     "ename": "AttributeError",
     "evalue": "'YouTube' object has no attribute 'videos'",
     "output_type": "error",
     "traceback": [
      "\u001b[1;31m---------------------------------------------------------------------------\u001b[0m",
      "\u001b[1;31mAttributeError\u001b[0m                            Traceback (most recent call last)",
      "Input \u001b[1;32mIn [35]\u001b[0m, in \u001b[0;36m<cell line: 1>\u001b[1;34m()\u001b[0m\n\u001b[1;32m----> 1\u001b[0m videos \u001b[38;5;241m=\u001b[39m \u001b[43myt\u001b[49m\u001b[38;5;241;43m.\u001b[39;49m\u001b[43mvideos\u001b[49m\u001b[38;5;241m.\u001b[39mget_by_itag(\u001b[38;5;241m22\u001b[39m)\n",
      "\u001b[1;31mAttributeError\u001b[0m: 'YouTube' object has no attribute 'videos'"
     ]
    }
   ],
   "source": [
    "videos = yt.videos.get_by_itag(22)"
   ]
  },
  {
   "cell_type": "raw",
   "id": "8623f837-0bdc-4ee1-bf0c-9e30bcca4149",
   "metadata": {},
   "source": [
    "!!!!!!!!!!!!!!!!!!!!!!!!!!!!!!!!!!!!!!!!!!!!!!!!!!!!!!!!!!!!!!!!!!!!!!!!!!!!!!!!!!!!!!!!!!!!!!!!!!!!"
   ]
  },
  {
   "cell_type": "code",
   "execution_count": 36,
   "id": "984fd837-1fed-48b9-9fd9-e2b96d4e03ed",
   "metadata": {},
   "outputs": [],
   "source": [
    "yt = YouTube('https://www.youtube.com/watch?v=P4HhIP6Okg4')"
   ]
  },
  {
   "cell_type": "code",
   "execution_count": 37,
   "id": "a194e1a3-97f6-4f7e-84c0-94c388969ff0",
   "metadata": {},
   "outputs": [],
   "source": [
    "stream = yt.streams.get_by_itag(22)"
   ]
  },
  {
   "cell_type": "code",
   "execution_count": 38,
   "id": "4926c3c7-aa10-4a20-a79c-05fc8c9715ee",
   "metadata": {},
   "outputs": [
    {
     "data": {
      "text/plain": [
       "'C:\\\\Users\\\\user\\\\Desktop\\\\Python\\\\221114\\\\아기강아지 입양 첫날 첫 만남.mp4'"
      ]
     },
     "execution_count": 38,
     "metadata": {},
     "output_type": "execute_result"
    }
   ],
   "source": [
    "stream.download()"
   ]
  },
  {
   "cell_type": "code",
   "execution_count": null,
   "id": "48b10dd2-1a3f-4db8-aded-362a55ba9e20",
   "metadata": {},
   "outputs": [],
   "source": []
  },
  {
   "cell_type": "code",
   "execution_count": 39,
   "id": "83e4bc36-3827-415a-bb04-56fe374de032",
   "metadata": {},
   "outputs": [
    {
     "name": "stdout",
     "output_type": "stream",
     "text": [
      "61\n"
     ]
    }
   ],
   "source": [
    "user_data = driver.find_elements(By.XPATH,'//*[@id=\"video-title-link\"]')\n",
    "links = []\n",
    "for i in user_data:\n",
    "    links.append(i.get_attribute('href'))\n",
    "print(len(links))"
   ]
  },
  {
   "cell_type": "code",
   "execution_count": 40,
   "id": "e3af0160-a261-4c64-b1df-1d60e7392e31",
   "metadata": {
    "collapsed": true,
    "jupyter": {
     "outputs_hidden": true
    },
    "tags": []
   },
   "outputs": [
    {
     "data": {
      "text/plain": [
       "['https://www.youtube.com/watch?v=t-3PxN7EUk0',\n",
       " 'https://www.youtube.com/watch?v=o9jhop0r1Gg',\n",
       " 'https://www.youtube.com/watch?v=fwYzWxiaW38',\n",
       " 'https://www.youtube.com/watch?v=9Uwclfd2HxM',\n",
       " 'https://www.youtube.com/watch?v=WJmRej_pbhE',\n",
       " 'https://www.youtube.com/watch?v=v3PI88yyGgU',\n",
       " 'https://www.youtube.com/watch?v=ljbX6kOvU4E',\n",
       " 'https://www.youtube.com/watch?v=cwldBbdaQ4w',\n",
       " 'https://www.youtube.com/watch?v=Yd0Vt7H51r8',\n",
       " 'https://www.youtube.com/watch?v=sbcSTVfW_yU',\n",
       " 'https://www.youtube.com/watch?v=SRtI2Qqm1Ys',\n",
       " 'https://www.youtube.com/watch?v=ivjxY7650zE',\n",
       " 'https://www.youtube.com/watch?v=MeKrXPofrtA',\n",
       " 'https://www.youtube.com/watch?v=ekyL6esvE-E',\n",
       " 'https://www.youtube.com/watch?v=fmOTWuTLjt8',\n",
       " 'https://www.youtube.com/watch?v=kHI6nXsuMzw',\n",
       " 'https://www.youtube.com/watch?v=B2WHkXdkY3c',\n",
       " 'https://www.youtube.com/watch?v=sLso0neQSBw',\n",
       " 'https://www.youtube.com/watch?v=6BonMe4wFaE',\n",
       " 'https://www.youtube.com/watch?v=cYpBU7guSsk',\n",
       " 'https://www.youtube.com/watch?v=hhenERDsNRw',\n",
       " 'https://www.youtube.com/watch?v=562JT-gyWA8',\n",
       " 'https://www.youtube.com/watch?v=uZfvtS9ftVo',\n",
       " 'https://www.youtube.com/watch?v=uESEPG33Os4',\n",
       " 'https://www.youtube.com/watch?v=4Iq21xVG0vc',\n",
       " 'https://www.youtube.com/watch?v=3YbggZCigTU',\n",
       " 'https://www.youtube.com/watch?v=0O_pd24U7CY',\n",
       " 'https://www.youtube.com/watch?v=AsUqxAEAuuc',\n",
       " 'https://www.youtube.com/watch?v=_a8Y_IuhTtQ',\n",
       " 'https://www.youtube.com/watch?v=Lmm1xZot-SQ',\n",
       " 'https://www.youtube.com/watch?v=OAa3StLpvrs',\n",
       " 'https://www.youtube.com/watch?v=RjD2PkseSaU',\n",
       " 'https://www.youtube.com/watch?v=tgWBUGEOONw',\n",
       " 'https://www.youtube.com/watch?v=PV83wvHs6yA',\n",
       " 'https://www.youtube.com/watch?v=fseQnfDaCiM',\n",
       " 'https://www.youtube.com/watch?v=cOmnxIgi3qk',\n",
       " 'https://www.youtube.com/watch?v=cmGshVmN_Ro',\n",
       " 'https://www.youtube.com/watch?v=5sXbSNuRmqA',\n",
       " 'https://www.youtube.com/watch?v=PvwDR8_MSpg',\n",
       " 'https://www.youtube.com/watch?v=kGjvL6dWGyI',\n",
       " 'https://www.youtube.com/watch?v=o3emjOPQdHw',\n",
       " 'https://www.youtube.com/watch?v=7Y9_8lhmkAc',\n",
       " 'https://www.youtube.com/watch?v=xLBGyv8488I',\n",
       " 'https://www.youtube.com/watch?v=tBXSjfeJFd0',\n",
       " 'https://www.youtube.com/watch?v=Qvrq-oPjJdI',\n",
       " 'https://www.youtube.com/watch?v=e6uq-ghV83s',\n",
       " 'https://www.youtube.com/watch?v=dWtKITklhNo',\n",
       " 'https://www.youtube.com/watch?v=WiO0P4PKpHE',\n",
       " 'https://www.youtube.com/watch?v=34-48czjGYU',\n",
       " 'https://www.youtube.com/watch?v=HV2Adp3dHdg',\n",
       " 'https://www.youtube.com/watch?v=Le681XFbtQQ',\n",
       " 'https://www.youtube.com/watch?v=9ytiUZ027Ao',\n",
       " 'https://www.youtube.com/watch?v=RAHmVw2PVcI',\n",
       " 'https://www.youtube.com/watch?v=uGk2ouocJ9A',\n",
       " 'https://www.youtube.com/watch?v=00rzFZMUWQw',\n",
       " 'https://www.youtube.com/watch?v=A42GD36wiPQ',\n",
       " 'https://www.youtube.com/watch?v=OB_Qo6DaA5k',\n",
       " 'https://www.youtube.com/watch?v=a1A6xgwz3og',\n",
       " 'https://www.youtube.com/watch?v=UahWSI1jmvo',\n",
       " 'https://www.youtube.com/watch?v=6-XxsgFDkfE',\n",
       " None]"
      ]
     },
     "execution_count": 40,
     "metadata": {},
     "output_type": "execute_result"
    }
   ],
   "source": [
    "links"
   ]
  },
  {
   "cell_type": "code",
   "execution_count": null,
   "id": "99d86f9d-3094-47dd-bb03-ca165d999ad1",
   "metadata": {},
   "outputs": [],
   "source": []
  },
  {
   "cell_type": "code",
   "execution_count": 41,
   "id": "c5f50315-fbf1-430e-85a5-e9aa2c43ddf0",
   "metadata": {},
   "outputs": [],
   "source": [
    "\n",
    "#############################################################################################"
   ]
  },
  {
   "cell_type": "code",
   "execution_count": null,
   "id": "0c858dc6-0b86-423f-a118-54958c6f1799",
   "metadata": {},
   "outputs": [],
   "source": [
    "\n",
    "user_data = driver.find_elements(By.XPATH,'//*[@id=\"video-title-link\"]')\n",
    "links = []\n",
    "for i in user_data:\n",
    "    links.append(i.get_attribute('href'))\n",
    "print(len(links))"
   ]
  },
  {
   "cell_type": "code",
   "execution_count": 42,
   "id": "3c92b592-984b-4da9-a329-d3557d87fe4c",
   "metadata": {
    "collapsed": true,
    "jupyter": {
     "outputs_hidden": true
    },
    "tags": []
   },
   "outputs": [
    {
     "data": {
      "text/plain": [
       "['https://www.youtube.com/watch?v=t-3PxN7EUk0',\n",
       " 'https://www.youtube.com/watch?v=o9jhop0r1Gg',\n",
       " 'https://www.youtube.com/watch?v=fwYzWxiaW38',\n",
       " 'https://www.youtube.com/watch?v=9Uwclfd2HxM',\n",
       " 'https://www.youtube.com/watch?v=WJmRej_pbhE',\n",
       " 'https://www.youtube.com/watch?v=v3PI88yyGgU',\n",
       " 'https://www.youtube.com/watch?v=ljbX6kOvU4E',\n",
       " 'https://www.youtube.com/watch?v=cwldBbdaQ4w',\n",
       " 'https://www.youtube.com/watch?v=Yd0Vt7H51r8',\n",
       " 'https://www.youtube.com/watch?v=sbcSTVfW_yU',\n",
       " 'https://www.youtube.com/watch?v=SRtI2Qqm1Ys',\n",
       " 'https://www.youtube.com/watch?v=ivjxY7650zE',\n",
       " 'https://www.youtube.com/watch?v=MeKrXPofrtA',\n",
       " 'https://www.youtube.com/watch?v=ekyL6esvE-E',\n",
       " 'https://www.youtube.com/watch?v=fmOTWuTLjt8',\n",
       " 'https://www.youtube.com/watch?v=kHI6nXsuMzw',\n",
       " 'https://www.youtube.com/watch?v=B2WHkXdkY3c',\n",
       " 'https://www.youtube.com/watch?v=sLso0neQSBw',\n",
       " 'https://www.youtube.com/watch?v=6BonMe4wFaE',\n",
       " 'https://www.youtube.com/watch?v=cYpBU7guSsk',\n",
       " 'https://www.youtube.com/watch?v=hhenERDsNRw',\n",
       " 'https://www.youtube.com/watch?v=562JT-gyWA8',\n",
       " 'https://www.youtube.com/watch?v=uZfvtS9ftVo',\n",
       " 'https://www.youtube.com/watch?v=uESEPG33Os4',\n",
       " 'https://www.youtube.com/watch?v=4Iq21xVG0vc',\n",
       " 'https://www.youtube.com/watch?v=3YbggZCigTU',\n",
       " 'https://www.youtube.com/watch?v=0O_pd24U7CY',\n",
       " 'https://www.youtube.com/watch?v=AsUqxAEAuuc',\n",
       " 'https://www.youtube.com/watch?v=_a8Y_IuhTtQ',\n",
       " 'https://www.youtube.com/watch?v=Lmm1xZot-SQ',\n",
       " 'https://www.youtube.com/watch?v=OAa3StLpvrs',\n",
       " 'https://www.youtube.com/watch?v=RjD2PkseSaU',\n",
       " 'https://www.youtube.com/watch?v=tgWBUGEOONw',\n",
       " 'https://www.youtube.com/watch?v=PV83wvHs6yA',\n",
       " 'https://www.youtube.com/watch?v=fseQnfDaCiM',\n",
       " 'https://www.youtube.com/watch?v=cOmnxIgi3qk',\n",
       " 'https://www.youtube.com/watch?v=cmGshVmN_Ro',\n",
       " 'https://www.youtube.com/watch?v=5sXbSNuRmqA',\n",
       " 'https://www.youtube.com/watch?v=PvwDR8_MSpg',\n",
       " 'https://www.youtube.com/watch?v=kGjvL6dWGyI',\n",
       " 'https://www.youtube.com/watch?v=o3emjOPQdHw',\n",
       " 'https://www.youtube.com/watch?v=7Y9_8lhmkAc',\n",
       " 'https://www.youtube.com/watch?v=xLBGyv8488I',\n",
       " 'https://www.youtube.com/watch?v=tBXSjfeJFd0',\n",
       " 'https://www.youtube.com/watch?v=Qvrq-oPjJdI',\n",
       " 'https://www.youtube.com/watch?v=e6uq-ghV83s',\n",
       " 'https://www.youtube.com/watch?v=dWtKITklhNo',\n",
       " 'https://www.youtube.com/watch?v=WiO0P4PKpHE',\n",
       " 'https://www.youtube.com/watch?v=34-48czjGYU',\n",
       " 'https://www.youtube.com/watch?v=HV2Adp3dHdg',\n",
       " 'https://www.youtube.com/watch?v=Le681XFbtQQ',\n",
       " 'https://www.youtube.com/watch?v=9ytiUZ027Ao',\n",
       " 'https://www.youtube.com/watch?v=RAHmVw2PVcI',\n",
       " 'https://www.youtube.com/watch?v=uGk2ouocJ9A',\n",
       " 'https://www.youtube.com/watch?v=00rzFZMUWQw',\n",
       " 'https://www.youtube.com/watch?v=A42GD36wiPQ',\n",
       " 'https://www.youtube.com/watch?v=OB_Qo6DaA5k',\n",
       " 'https://www.youtube.com/watch?v=a1A6xgwz3og',\n",
       " 'https://www.youtube.com/watch?v=UahWSI1jmvo',\n",
       " 'https://www.youtube.com/watch?v=6-XxsgFDkfE',\n",
       " None]"
      ]
     },
     "execution_count": 42,
     "metadata": {},
     "output_type": "execute_result"
    }
   ],
   "source": [
    "links"
   ]
  },
  {
   "cell_type": "code",
   "execution_count": null,
   "id": "b1f97f67-f204-4e48-9b8f-c99aa8e224a2",
   "metadata": {},
   "outputs": [],
   "source": []
  },
  {
   "cell_type": "code",
   "execution_count": null,
   "id": "40ef998c-d938-42d5-b9a4-41193495f491",
   "metadata": {},
   "outputs": [],
   "source": []
  },
  {
   "cell_type": "code",
   "execution_count": null,
   "id": "ec94a99c-22c9-4c74-b98e-a864c03dad47",
   "metadata": {},
   "outputs": [],
   "source": []
  },
  {
   "cell_type": "markdown",
   "id": "532e6362-344b-4edd-b20d-4519be366cfe",
   "metadata": {},
   "source": [
    "## 6. 영상 다운로드"
   ]
  },
  {
   "cell_type": "code",
   "execution_count": null,
   "id": "cb419c8c-1706-449e-a377-f4aadda39764",
   "metadata": {},
   "outputs": [],
   "source": []
  },
  {
   "cell_type": "code",
   "execution_count": null,
   "id": "a1b643a4-2aa4-4b29-8b4b-ca1d8ee6fb8c",
   "metadata": {},
   "outputs": [],
   "source": [
    "for i in range (len(links))[:3] :\n",
    "    yt = YouTube(links[i])\n",
    "    stream = yt.streams.get_by_itag(22)\n",
    "    stream.download()\n",
    "\n"
   ]
  },
  {
   "cell_type": "code",
   "execution_count": null,
   "id": "331f643e-8192-4b7a-af39-a5e5b3aee488",
   "metadata": {},
   "outputs": [],
   "source": [
    "import urllib.request"
   ]
  },
  {
   "cell_type": "code",
   "execution_count": null,
   "id": "8fc674a3-9553-46ff-b62c-306a612a0788",
   "metadata": {},
   "outputs": [],
   "source": [
    "for i in range(len(image_link))[:30] :\n",
    "    urllib.request.urlretrieve(image_link[i], './images/{}.jpeg'.format(i+1))"
   ]
  },
  {
   "cell_type": "code",
   "execution_count": null,
   "id": "23d4b8c1-1592-4298-a86a-866eff7e842b",
   "metadata": {},
   "outputs": [],
   "source": []
  },
  {
   "cell_type": "code",
   "execution_count": null,
   "id": "543fbcb1-81b9-4f23-af24-4157346ec570",
   "metadata": {},
   "outputs": [],
   "source": []
  },
  {
   "cell_type": "code",
   "execution_count": null,
   "id": "38ae2aa6-1e90-4311-b814-61545ad4d221",
   "metadata": {},
   "outputs": [],
   "source": []
  },
  {
   "cell_type": "code",
   "execution_count": null,
   "id": "8f759f0e-eb8a-44eb-a5e6-5acf997a71bc",
   "metadata": {},
   "outputs": [],
   "source": []
  },
  {
   "cell_type": "markdown",
   "id": "320df3c0-f3c1-46e6-97b5-4f342bae837f",
   "metadata": {},
   "source": [
    "# Final. 코드정리"
   ]
  },
  {
   "cell_type": "code",
   "execution_count": 49,
   "id": "56f0d3ab-8820-4a6e-ab0f-0d496553f82b",
   "metadata": {},
   "outputs": [],
   "source": [
    "from selenium import webdriver\n",
    "from selenium.webdriver.common.keys import Keys\n",
    "from selenium.webdriver.common.by import By\n",
    "from webdriver_manager.chrome import ChromeDriverManager\n",
    "from selenium.webdriver.chrome.service import Service\n",
    "import time\n",
    "from pytube import YouTube"
   ]
  },
  {
   "cell_type": "code",
   "execution_count": 50,
   "id": "0eff587a-0413-4476-a161-f818dfb27e3a",
   "metadata": {},
   "outputs": [],
   "source": [
    "driver = webdriver.Chrome(service=Service(ChromeDriverManager().install()))\n",
    "driver.get('https://www.youtube.com/channel/UCmyFB-ySHaEG2W31RYLwROA/videos')"
   ]
  },
  {
   "cell_type": "code",
   "execution_count": 51,
   "id": "e2bc02f6-57df-4932-b852-7cd5786318d1",
   "metadata": {},
   "outputs": [],
   "source": [
    "elem = driver.find_element(By.CSS_SELECTOR, 'body')\n",
    "first_height = driver.execute_script('return document.documentElement.scrollHeight')\n",
    "second_height = 0\n",
    "\n",
    "while True :\n",
    "    \n",
    "    if first_height == second_height :\n",
    "        break\n",
    "    \n",
    "    else :\n",
    "        first_height = driver.execute_script('return document.documentElement.scrollHeight')\n",
    "        k=15\n",
    "        for i in range(k) : \n",
    "            if k<8 :\n",
    "                elem.send_keys(Keys.PAGE_DOWN)\n",
    "                time.sleep(1)\n",
    "            else :\n",
    "                elem.send_keys(Keys.PAGE_DOWN)\n",
    "                time.sleep(4)\n",
    "\n",
    "        second_height = driver.execute_script('return document.documentElement.scrollHeight')\n",
    "        #print(first_height, second_height)"
   ]
  },
  {
   "cell_type": "code",
   "execution_count": 52,
   "id": "d96c9b12-b2b7-4eac-8b79-0e6fb4a57b26",
   "metadata": {},
   "outputs": [
    {
     "name": "stdout",
     "output_type": "stream",
     "text": [
      "557\n"
     ]
    }
   ],
   "source": [
    "user_data = driver.find_elements(By.XPATH,'//*[@id=\"video-title-link\"]')\n",
    "links = []\n",
    "for i in user_data:\n",
    "    links.append(i.get_attribute('href'))\n",
    "print(len(links))\n",
    "\n",
    "\n",
    "for i in range (len(links))[:3] :\n",
    "    yt = YouTube(links[i])\n",
    "    stream = yt.streams.get_by_itag(22)\n",
    "    stream.download('./videos/')\n"
   ]
  },
  {
   "cell_type": "markdown",
   "id": "ea74dfc3-abe8-4984-9d64-6b78fd1c163f",
   "metadata": {},
   "source": [
    "-----------------"
   ]
  },
  {
   "cell_type": "code",
   "execution_count": 53,
   "id": "f97b2146-e9b2-4a28-9cd4-addcf4da124e",
   "metadata": {},
   "outputs": [],
   "source": [
    "# 풀이"
   ]
  },
  {
   "cell_type": "code",
   "execution_count": null,
   "id": "5233dab8-c7e3-4492-88a3-f2f3450d7d3b",
   "metadata": {},
   "outputs": [],
   "source": [
    "import os\n",
    "import time\n",
    "from selenium import webdriver\n",
    "from selenium.webdriver.common.by import By\n",
    "from selenium.webdriver.common.keys import Keys\n",
    "from selenium.webdriver.chrome.service import Service\n",
    "from webdriver_manager.chrome import ChromeDriverManager\n",
    "from pytube import YouTube\n",
    "driver = webdriver.Chrome(service=Service(ChromeDriverManager().install()))\n",
    "driver.get('https://www.youtube.com/channel/UCEI1bBdeeDFPZK5tguqPjqA/videos')\n",
    "body = driver.find_element(By.CSS_SELECTOR,'body')\n",
    "for i in range(10):\n",
    "    body.send_keys(Keys.PAGE_DOWN)\n",
    "    time.sleep(1)\n",
    "ele = driver.find_elements(By.CSS_SELECTOR,'#content a#thumbnail')\n",
    "for i in ele:\n",
    "    link = i.get_attribute('href')\n",
    "    if(link):\n",
    "        try:\n",
    "            yt = YouTube(link)\n",
    "            stream = yt.streams.get_by_itag(22)\n",
    "            print(yt.title)\n",
    "            stream.download(output_path='./videos')\n",
    "        except:\n",
    "                pass"
   ]
  }
 ],
 "metadata": {
  "kernelspec": {
   "display_name": "Python 3 (ipykernel)",
   "language": "python",
   "name": "python3"
  },
  "language_info": {
   "codemirror_mode": {
    "name": "ipython",
    "version": 3
   },
   "file_extension": ".py",
   "mimetype": "text/x-python",
   "name": "python",
   "nbconvert_exporter": "python",
   "pygments_lexer": "ipython3",
   "version": "3.9.12"
  }
 },
 "nbformat": 4,
 "nbformat_minor": 5
}
