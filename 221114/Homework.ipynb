{
 "cells": [
  {
   "cell_type": "raw",
   "id": "292a1dda-e943-4875-a132-fb75e89b98f6",
   "metadata": {},
   "source": [
    "현재 상영중인 영화목록 전체를 가져와서 상세페이지로 이동 후,\n",
    "각 영화 리뷰의 (작성자, 내용, 날짜) 를 데이터 프레임으로 만들어보세요"
   ]
  },
  {
   "cell_type": "code",
   "execution_count": null,
   "id": "05d5614c-6058-4e45-b23e-35e75f7acf49",
   "metadata": {},
   "outputs": [],
   "source": [
    "영화는 beautifulSOup으로 그안의 내용은 selenium으로"
   ]
  }
 ],
 "metadata": {
  "kernelspec": {
   "display_name": "Python 3 (ipykernel)",
   "language": "python",
   "name": "python3"
  },
  "language_info": {
   "codemirror_mode": {
    "name": "ipython",
    "version": 3
   },
   "file_extension": ".py",
   "mimetype": "text/x-python",
   "name": "python",
   "nbconvert_exporter": "python",
   "pygments_lexer": "ipython3",
   "version": "3.9.12"
  }
 },
 "nbformat": 4,
 "nbformat_minor": 5
}
