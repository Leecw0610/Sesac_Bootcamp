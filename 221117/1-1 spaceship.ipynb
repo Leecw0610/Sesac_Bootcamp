{
 "cells": [
  {
   "cell_type": "raw",
   "id": "16aca8c9-d21e-44e8-bffd-9eca697ec93b",
   "metadata": {},
   "source": [
    "1) 칼럼명 파악이 우선!!\n",
    "\n",
    "2) 각항목의 value_counts를 해봄\n",
    "\n",
    "----------------\n",
    "\n",
    "3) home planet null값 처리"
   ]
  }
 ],
 "metadata": {
  "kernelspec": {
   "display_name": "Python 3 (ipykernel)",
   "language": "python",
   "name": "python3"
  },
  "language_info": {
   "codemirror_mode": {
    "name": "ipython",
    "version": 3
   },
   "file_extension": ".py",
   "mimetype": "text/x-python",
   "name": "python",
   "nbconvert_exporter": "python",
   "pygments_lexer": "ipython3",
   "version": "3.9.12"
  }
 },
 "nbformat": 4,
 "nbformat_minor": 5
}
