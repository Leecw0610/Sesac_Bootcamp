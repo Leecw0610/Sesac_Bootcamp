{
 "cells": [
  {
   "cell_type": "code",
   "execution_count": null,
   "id": "9f1b816a-35f0-482b-b950-0ccbbf24e2f3",
   "metadata": {},
   "outputs": [],
   "source": []
  },
  {
   "cell_type": "code",
   "execution_count": 13,
   "id": "17dfdfb6-6d71-4216-b1cf-7683666d7c85",
   "metadata": {},
   "outputs": [],
   "source": [
    "#####해답"
   ]
  },
  {
   "cell_type": "code",
   "execution_count": 1,
   "id": "a3ae0f2e-b420-4649-89cf-2fb3c632c829",
   "metadata": {},
   "outputs": [],
   "source": [
    "import pandas as pd"
   ]
  },
  {
   "cell_type": "code",
   "execution_count": 2,
   "id": "a16b8b37-a842-4f2a-93ce-33c8f830a43b",
   "metadata": {},
   "outputs": [],
   "source": [
    "data = pd.read_csv('insurance.csv')"
   ]
  },
  {
   "cell_type": "code",
   "execution_count": 3,
   "id": "288e3d9a-483b-4169-97c9-0dad836896ae",
   "metadata": {},
   "outputs": [
    {
     "data": {
      "text/html": [
       "<div>\n",
       "<style scoped>\n",
       "    .dataframe tbody tr th:only-of-type {\n",
       "        vertical-align: middle;\n",
       "    }\n",
       "\n",
       "    .dataframe tbody tr th {\n",
       "        vertical-align: top;\n",
       "    }\n",
       "\n",
       "    .dataframe thead th {\n",
       "        text-align: right;\n",
       "    }\n",
       "</style>\n",
       "<table border=\"1\" class=\"dataframe\">\n",
       "  <thead>\n",
       "    <tr style=\"text-align: right;\">\n",
       "      <th></th>\n",
       "      <th>age</th>\n",
       "      <th>sex</th>\n",
       "      <th>bmi</th>\n",
       "      <th>children</th>\n",
       "      <th>smoker</th>\n",
       "      <th>region</th>\n",
       "      <th>charges</th>\n",
       "    </tr>\n",
       "  </thead>\n",
       "  <tbody>\n",
       "    <tr>\n",
       "      <th>0</th>\n",
       "      <td>19</td>\n",
       "      <td>female</td>\n",
       "      <td>27.900</td>\n",
       "      <td>0</td>\n",
       "      <td>yes</td>\n",
       "      <td>southwest</td>\n",
       "      <td>16884.92400</td>\n",
       "    </tr>\n",
       "    <tr>\n",
       "      <th>1</th>\n",
       "      <td>18</td>\n",
       "      <td>male</td>\n",
       "      <td>33.770</td>\n",
       "      <td>1</td>\n",
       "      <td>no</td>\n",
       "      <td>southeast</td>\n",
       "      <td>1725.55230</td>\n",
       "    </tr>\n",
       "    <tr>\n",
       "      <th>2</th>\n",
       "      <td>28</td>\n",
       "      <td>male</td>\n",
       "      <td>33.000</td>\n",
       "      <td>3</td>\n",
       "      <td>no</td>\n",
       "      <td>southeast</td>\n",
       "      <td>4449.46200</td>\n",
       "    </tr>\n",
       "    <tr>\n",
       "      <th>3</th>\n",
       "      <td>33</td>\n",
       "      <td>male</td>\n",
       "      <td>22.705</td>\n",
       "      <td>0</td>\n",
       "      <td>no</td>\n",
       "      <td>northwest</td>\n",
       "      <td>21984.47061</td>\n",
       "    </tr>\n",
       "    <tr>\n",
       "      <th>4</th>\n",
       "      <td>32</td>\n",
       "      <td>male</td>\n",
       "      <td>28.880</td>\n",
       "      <td>0</td>\n",
       "      <td>no</td>\n",
       "      <td>northwest</td>\n",
       "      <td>3866.85520</td>\n",
       "    </tr>\n",
       "    <tr>\n",
       "      <th>...</th>\n",
       "      <td>...</td>\n",
       "      <td>...</td>\n",
       "      <td>...</td>\n",
       "      <td>...</td>\n",
       "      <td>...</td>\n",
       "      <td>...</td>\n",
       "      <td>...</td>\n",
       "    </tr>\n",
       "    <tr>\n",
       "      <th>1333</th>\n",
       "      <td>50</td>\n",
       "      <td>male</td>\n",
       "      <td>30.970</td>\n",
       "      <td>3</td>\n",
       "      <td>no</td>\n",
       "      <td>northwest</td>\n",
       "      <td>10600.54830</td>\n",
       "    </tr>\n",
       "    <tr>\n",
       "      <th>1334</th>\n",
       "      <td>18</td>\n",
       "      <td>female</td>\n",
       "      <td>31.920</td>\n",
       "      <td>0</td>\n",
       "      <td>no</td>\n",
       "      <td>northeast</td>\n",
       "      <td>2205.98080</td>\n",
       "    </tr>\n",
       "    <tr>\n",
       "      <th>1335</th>\n",
       "      <td>18</td>\n",
       "      <td>female</td>\n",
       "      <td>36.850</td>\n",
       "      <td>0</td>\n",
       "      <td>no</td>\n",
       "      <td>southeast</td>\n",
       "      <td>1629.83350</td>\n",
       "    </tr>\n",
       "    <tr>\n",
       "      <th>1336</th>\n",
       "      <td>21</td>\n",
       "      <td>female</td>\n",
       "      <td>25.800</td>\n",
       "      <td>0</td>\n",
       "      <td>no</td>\n",
       "      <td>southwest</td>\n",
       "      <td>2007.94500</td>\n",
       "    </tr>\n",
       "    <tr>\n",
       "      <th>1337</th>\n",
       "      <td>61</td>\n",
       "      <td>female</td>\n",
       "      <td>29.070</td>\n",
       "      <td>0</td>\n",
       "      <td>yes</td>\n",
       "      <td>northwest</td>\n",
       "      <td>29141.36030</td>\n",
       "    </tr>\n",
       "  </tbody>\n",
       "</table>\n",
       "<p>1338 rows × 7 columns</p>\n",
       "</div>"
      ],
      "text/plain": [
       "      age     sex     bmi  children smoker     region      charges\n",
       "0      19  female  27.900         0    yes  southwest  16884.92400\n",
       "1      18    male  33.770         1     no  southeast   1725.55230\n",
       "2      28    male  33.000         3     no  southeast   4449.46200\n",
       "3      33    male  22.705         0     no  northwest  21984.47061\n",
       "4      32    male  28.880         0     no  northwest   3866.85520\n",
       "...   ...     ...     ...       ...    ...        ...          ...\n",
       "1333   50    male  30.970         3     no  northwest  10600.54830\n",
       "1334   18  female  31.920         0     no  northeast   2205.98080\n",
       "1335   18  female  36.850         0     no  southeast   1629.83350\n",
       "1336   21  female  25.800         0     no  southwest   2007.94500\n",
       "1337   61  female  29.070         0    yes  northwest  29141.36030\n",
       "\n",
       "[1338 rows x 7 columns]"
      ]
     },
     "execution_count": 3,
     "metadata": {},
     "output_type": "execute_result"
    }
   ],
   "source": [
    "data"
   ]
  },
  {
   "cell_type": "code",
   "execution_count": null,
   "id": "469ef1d4-c57e-41d3-8cae-a44acaa56338",
   "metadata": {},
   "outputs": [],
   "source": []
  },
  {
   "cell_type": "code",
   "execution_count": null,
   "id": "7cee453a-61af-403d-962c-c54c11b48815",
   "metadata": {},
   "outputs": [],
   "source": [
    "data.isnull().sum()"
   ]
  },
  {
   "cell_type": "code",
   "execution_count": null,
   "id": "7e01bfe7-3dfa-40fa-ae07-ae867734915e",
   "metadata": {},
   "outputs": [],
   "source": [
    "data.info()"
   ]
  },
  {
   "cell_type": "code",
   "execution_count": null,
   "id": "7e48e583-8686-436c-8d0a-6a628e89380b",
   "metadata": {},
   "outputs": [],
   "source": [
    "data.isnull().sum()"
   ]
  },
  {
   "cell_type": "raw",
   "id": "01d49dd6-3bcb-4f5a-8337-469a2859ca46",
   "metadata": {},
   "source": [
    "변수 해석\n",
    "1.제1순위 보험금 수령인의 나이\n",
    "2 계약자의 성별\n",
    "3 bmi \n",
    "4 건강보험 적용 자녀 수\n",
    "5 흡연여부\n",
    "6 수혜자의 주거 지역\n",
    "7 보험료"
   ]
  },
  {
   "cell_type": "code",
   "execution_count": 5,
   "id": "71abd9a3-c692-488b-bee0-dd634ff593d3",
   "metadata": {},
   "outputs": [
    {
     "data": {
      "text/html": [
       "<div>\n",
       "<style scoped>\n",
       "    .dataframe tbody tr th:only-of-type {\n",
       "        vertical-align: middle;\n",
       "    }\n",
       "\n",
       "    .dataframe tbody tr th {\n",
       "        vertical-align: top;\n",
       "    }\n",
       "\n",
       "    .dataframe thead th {\n",
       "        text-align: right;\n",
       "    }\n",
       "</style>\n",
       "<table border=\"1\" class=\"dataframe\">\n",
       "  <thead>\n",
       "    <tr style=\"text-align: right;\">\n",
       "      <th></th>\n",
       "      <th>age</th>\n",
       "      <th>sex</th>\n",
       "      <th>bmi</th>\n",
       "      <th>children</th>\n",
       "      <th>smoker</th>\n",
       "      <th>region</th>\n",
       "      <th>charges</th>\n",
       "    </tr>\n",
       "  </thead>\n",
       "  <tbody>\n",
       "    <tr>\n",
       "      <th>581</th>\n",
       "      <td>19</td>\n",
       "      <td>male</td>\n",
       "      <td>30.59</td>\n",
       "      <td>0</td>\n",
       "      <td>no</td>\n",
       "      <td>northwest</td>\n",
       "      <td>1639.5631</td>\n",
       "    </tr>\n",
       "  </tbody>\n",
       "</table>\n",
       "</div>"
      ],
      "text/plain": [
       "     age   sex    bmi  children smoker     region    charges\n",
       "581   19  male  30.59         0     no  northwest  1639.5631"
      ]
     },
     "execution_count": 5,
     "metadata": {},
     "output_type": "execute_result"
    }
   ],
   "source": [
    "data[data.duplicated()] #중복된 데이터 찾기"
   ]
  },
  {
   "cell_type": "code",
   "execution_count": 6,
   "id": "1fb89da7-efd4-4c7a-b203-56d3eb6e772b",
   "metadata": {},
   "outputs": [
    {
     "data": {
      "text/html": [
       "<div>\n",
       "<style scoped>\n",
       "    .dataframe tbody tr th:only-of-type {\n",
       "        vertical-align: middle;\n",
       "    }\n",
       "\n",
       "    .dataframe tbody tr th {\n",
       "        vertical-align: top;\n",
       "    }\n",
       "\n",
       "    .dataframe thead th {\n",
       "        text-align: right;\n",
       "    }\n",
       "</style>\n",
       "<table border=\"1\" class=\"dataframe\">\n",
       "  <thead>\n",
       "    <tr style=\"text-align: right;\">\n",
       "      <th></th>\n",
       "      <th>age</th>\n",
       "      <th>sex</th>\n",
       "      <th>bmi</th>\n",
       "      <th>children</th>\n",
       "      <th>smoker</th>\n",
       "      <th>region</th>\n",
       "      <th>charges</th>\n",
       "    </tr>\n",
       "  </thead>\n",
       "  <tbody>\n",
       "    <tr>\n",
       "      <th>195</th>\n",
       "      <td>19</td>\n",
       "      <td>male</td>\n",
       "      <td>30.59</td>\n",
       "      <td>0</td>\n",
       "      <td>no</td>\n",
       "      <td>northwest</td>\n",
       "      <td>1639.5631</td>\n",
       "    </tr>\n",
       "    <tr>\n",
       "      <th>581</th>\n",
       "      <td>19</td>\n",
       "      <td>male</td>\n",
       "      <td>30.59</td>\n",
       "      <td>0</td>\n",
       "      <td>no</td>\n",
       "      <td>northwest</td>\n",
       "      <td>1639.5631</td>\n",
       "    </tr>\n",
       "  </tbody>\n",
       "</table>\n",
       "</div>"
      ],
      "text/plain": [
       "     age   sex    bmi  children smoker     region    charges\n",
       "195   19  male  30.59         0     no  northwest  1639.5631\n",
       "581   19  male  30.59         0     no  northwest  1639.5631"
      ]
     },
     "execution_count": 6,
     "metadata": {},
     "output_type": "execute_result"
    }
   ],
   "source": [
    "data[data['charges']==1639.5631]"
   ]
  },
  {
   "cell_type": "code",
   "execution_count": 8,
   "id": "5aafef60-eb40-4103-8474-cfbe83d7c0b3",
   "metadata": {},
   "outputs": [
    {
     "data": {
      "text/html": [
       "<div>\n",
       "<style scoped>\n",
       "    .dataframe tbody tr th:only-of-type {\n",
       "        vertical-align: middle;\n",
       "    }\n",
       "\n",
       "    .dataframe tbody tr th {\n",
       "        vertical-align: top;\n",
       "    }\n",
       "\n",
       "    .dataframe thead th {\n",
       "        text-align: right;\n",
       "    }\n",
       "</style>\n",
       "<table border=\"1\" class=\"dataframe\">\n",
       "  <thead>\n",
       "    <tr style=\"text-align: right;\">\n",
       "      <th></th>\n",
       "      <th>age</th>\n",
       "      <th>sex</th>\n",
       "      <th>bmi</th>\n",
       "      <th>children</th>\n",
       "      <th>smoker</th>\n",
       "      <th>region</th>\n",
       "      <th>charges</th>\n",
       "    </tr>\n",
       "  </thead>\n",
       "  <tbody>\n",
       "    <tr>\n",
       "      <th>0</th>\n",
       "      <td>19</td>\n",
       "      <td>female</td>\n",
       "      <td>27.900</td>\n",
       "      <td>0</td>\n",
       "      <td>yes</td>\n",
       "      <td>southwest</td>\n",
       "      <td>16884.92400</td>\n",
       "    </tr>\n",
       "    <tr>\n",
       "      <th>1</th>\n",
       "      <td>18</td>\n",
       "      <td>male</td>\n",
       "      <td>33.770</td>\n",
       "      <td>1</td>\n",
       "      <td>no</td>\n",
       "      <td>southeast</td>\n",
       "      <td>1725.55230</td>\n",
       "    </tr>\n",
       "    <tr>\n",
       "      <th>2</th>\n",
       "      <td>28</td>\n",
       "      <td>male</td>\n",
       "      <td>33.000</td>\n",
       "      <td>3</td>\n",
       "      <td>no</td>\n",
       "      <td>southeast</td>\n",
       "      <td>4449.46200</td>\n",
       "    </tr>\n",
       "    <tr>\n",
       "      <th>3</th>\n",
       "      <td>33</td>\n",
       "      <td>male</td>\n",
       "      <td>22.705</td>\n",
       "      <td>0</td>\n",
       "      <td>no</td>\n",
       "      <td>northwest</td>\n",
       "      <td>21984.47061</td>\n",
       "    </tr>\n",
       "    <tr>\n",
       "      <th>4</th>\n",
       "      <td>32</td>\n",
       "      <td>male</td>\n",
       "      <td>28.880</td>\n",
       "      <td>0</td>\n",
       "      <td>no</td>\n",
       "      <td>northwest</td>\n",
       "      <td>3866.85520</td>\n",
       "    </tr>\n",
       "    <tr>\n",
       "      <th>...</th>\n",
       "      <td>...</td>\n",
       "      <td>...</td>\n",
       "      <td>...</td>\n",
       "      <td>...</td>\n",
       "      <td>...</td>\n",
       "      <td>...</td>\n",
       "      <td>...</td>\n",
       "    </tr>\n",
       "    <tr>\n",
       "      <th>1333</th>\n",
       "      <td>50</td>\n",
       "      <td>male</td>\n",
       "      <td>30.970</td>\n",
       "      <td>3</td>\n",
       "      <td>no</td>\n",
       "      <td>northwest</td>\n",
       "      <td>10600.54830</td>\n",
       "    </tr>\n",
       "    <tr>\n",
       "      <th>1334</th>\n",
       "      <td>18</td>\n",
       "      <td>female</td>\n",
       "      <td>31.920</td>\n",
       "      <td>0</td>\n",
       "      <td>no</td>\n",
       "      <td>northeast</td>\n",
       "      <td>2205.98080</td>\n",
       "    </tr>\n",
       "    <tr>\n",
       "      <th>1335</th>\n",
       "      <td>18</td>\n",
       "      <td>female</td>\n",
       "      <td>36.850</td>\n",
       "      <td>0</td>\n",
       "      <td>no</td>\n",
       "      <td>southeast</td>\n",
       "      <td>1629.83350</td>\n",
       "    </tr>\n",
       "    <tr>\n",
       "      <th>1336</th>\n",
       "      <td>21</td>\n",
       "      <td>female</td>\n",
       "      <td>25.800</td>\n",
       "      <td>0</td>\n",
       "      <td>no</td>\n",
       "      <td>southwest</td>\n",
       "      <td>2007.94500</td>\n",
       "    </tr>\n",
       "    <tr>\n",
       "      <th>1337</th>\n",
       "      <td>61</td>\n",
       "      <td>female</td>\n",
       "      <td>29.070</td>\n",
       "      <td>0</td>\n",
       "      <td>yes</td>\n",
       "      <td>northwest</td>\n",
       "      <td>29141.36030</td>\n",
       "    </tr>\n",
       "  </tbody>\n",
       "</table>\n",
       "<p>1337 rows × 7 columns</p>\n",
       "</div>"
      ],
      "text/plain": [
       "      age     sex     bmi  children smoker     region      charges\n",
       "0      19  female  27.900         0    yes  southwest  16884.92400\n",
       "1      18    male  33.770         1     no  southeast   1725.55230\n",
       "2      28    male  33.000         3     no  southeast   4449.46200\n",
       "3      33    male  22.705         0     no  northwest  21984.47061\n",
       "4      32    male  28.880         0     no  northwest   3866.85520\n",
       "...   ...     ...     ...       ...    ...        ...          ...\n",
       "1333   50    male  30.970         3     no  northwest  10600.54830\n",
       "1334   18  female  31.920         0     no  northeast   2205.98080\n",
       "1335   18  female  36.850         0     no  southeast   1629.83350\n",
       "1336   21  female  25.800         0     no  southwest   2007.94500\n",
       "1337   61  female  29.070         0    yes  northwest  29141.36030\n",
       "\n",
       "[1337 rows x 7 columns]"
      ]
     },
     "execution_count": 8,
     "metadata": {},
     "output_type": "execute_result"
    }
   ],
   "source": [
    "data.drop_duplicates() #중복된 데이터 삭제"
   ]
  },
  {
   "cell_type": "code",
   "execution_count": 10,
   "id": "7551ac3a-c0a4-47d7-a747-4c2f863cdaff",
   "metadata": {},
   "outputs": [
    {
     "data": {
      "text/plain": [
       "Index(['age', 'sex', 'bmi', 'children', 'smoker', 'region', 'charges'], dtype='object')"
      ]
     },
     "execution_count": 10,
     "metadata": {},
     "output_type": "execute_result"
    }
   ],
   "source": [
    "data.columns"
   ]
  },
  {
   "cell_type": "code",
   "execution_count": 11,
   "id": "32d10fd7-cd13-4832-9027-c77fff3bd437",
   "metadata": {},
   "outputs": [],
   "source": [
    "obj_col = ['sex','children','smoker','region']"
   ]
  },
  {
   "cell_type": "code",
   "execution_count": 12,
   "id": "dba2383d-8217-4381-926c-1ce45f4c97f5",
   "metadata": {},
   "outputs": [
    {
     "name": "stdout",
     "output_type": "stream",
     "text": [
      "sex ['female' 'male']\n",
      "children [0 1 3 2 5 4]\n",
      "smoker ['yes' 'no']\n",
      "region ['southwest' 'southeast' 'northwest' 'northeast']\n"
     ]
    }
   ],
   "source": [
    "for col in obj_col:\n",
    "    print(col, data[col].unique())       #자료들의 변수의 유니크값들 확인"
   ]
  },
  {
   "cell_type": "code",
   "execution_count": 15,
   "id": "e54030e6-e98c-4d62-b4c9-0e6ef04a1ec9",
   "metadata": {},
   "outputs": [
    {
     "name": "stdout",
     "output_type": "stream",
     "text": [
      "sex \n",
      " male      676\n",
      "female    662\n",
      "Name: sex, dtype: int64\n",
      "---------\n",
      "children \n",
      " 0    574\n",
      "1    324\n",
      "2    240\n",
      "3    157\n",
      "4     25\n",
      "5     18\n",
      "Name: children, dtype: int64\n",
      "---------\n",
      "smoker \n",
      " no     1064\n",
      "yes     274\n",
      "Name: smoker, dtype: int64\n",
      "---------\n",
      "region \n",
      " southeast    364\n",
      "southwest    325\n",
      "northwest    325\n",
      "northeast    324\n",
      "Name: region, dtype: int64\n",
      "---------\n"
     ]
    }
   ],
   "source": [
    "for col in obj_col:\n",
    "    print(col, '\\n', data[col].value_counts())\n",
    "    print('---------')                    #변수들의 개수파악 대략의 이상치 파악"
   ]
  },
  {
   "cell_type": "code",
   "execution_count": 17,
   "id": "60c48269-e1dd-4747-9804-906940e0d0b1",
   "metadata": {},
   "outputs": [
    {
     "data": {
      "text/plain": [
       "smoker\n",
       "no      8434.268298\n",
       "yes    32050.231832\n",
       "Name: charges, dtype: float64"
      ]
     },
     "execution_count": 17,
     "metadata": {},
     "output_type": "execute_result"
    }
   ],
   "source": [
    "data.groupby('smoker')['charges'].mean()"
   ]
  },
  {
   "cell_type": "code",
   "execution_count": 18,
   "id": "2bb18dd1-0d2b-4645-8f11-ed5ea4ef0b80",
   "metadata": {},
   "outputs": [
    {
     "data": {
      "text/plain": [
       "region\n",
       "northeast    10057.652025\n",
       "northwest     8965.795750\n",
       "southeast     9294.131950\n",
       "southwest     8798.593000\n",
       "Name: charges, dtype: float64"
      ]
     },
     "execution_count": 18,
     "metadata": {},
     "output_type": "execute_result"
    }
   ],
   "source": [
    "data.groupby('region')['charges'].median()"
   ]
  },
  {
   "cell_type": "code",
   "execution_count": 24,
   "id": "fdcc1d92-d7a5-4e81-8f6d-f886e246cc9f",
   "metadata": {},
   "outputs": [],
   "source": [
    "q1=data['charges'].quantile(0.25)     # Q1"
   ]
  },
  {
   "cell_type": "code",
   "execution_count": 25,
   "id": "91de5307-2f2d-48a3-86e2-641b15a51b59",
   "metadata": {},
   "outputs": [],
   "source": [
    "q3= data['charges'].quantile(0.75)     # Q3"
   ]
  },
  {
   "cell_type": "code",
   "execution_count": 26,
   "id": "95bf5321-d7b9-4eb9-9f12-f429171fb44d",
   "metadata": {},
   "outputs": [],
   "source": [
    "outlier = q3 + (q3-q1) *1.5     #이상치 구간 설정 (신뢰도 99.7%)"
   ]
  },
  {
   "cell_type": "code",
   "execution_count": 27,
   "id": "9e657b5c-ba26-4ca4-aee5-f8573470c0c6",
   "metadata": {},
   "outputs": [
    {
     "data": {
      "text/plain": [
       "count     1338.000000\n",
       "mean     13270.422265\n",
       "std      12110.011237\n",
       "min       1121.873900\n",
       "25%       4740.287150\n",
       "50%       9382.033000\n",
       "75%      16639.912515\n",
       "max      63770.428010\n",
       "Name: charges, dtype: float64"
      ]
     },
     "execution_count": 27,
     "metadata": {},
     "output_type": "execute_result"
    }
   ],
   "source": [
    "data['charges'].describe()"
   ]
  },
  {
   "cell_type": "code",
   "execution_count": 29,
   "id": "aae3ce16-2c98-472c-bf51-637d85854f2e",
   "metadata": {},
   "outputs": [
    {
     "data": {
      "text/html": [
       "<div>\n",
       "<style scoped>\n",
       "    .dataframe tbody tr th:only-of-type {\n",
       "        vertical-align: middle;\n",
       "    }\n",
       "\n",
       "    .dataframe tbody tr th {\n",
       "        vertical-align: top;\n",
       "    }\n",
       "\n",
       "    .dataframe thead th {\n",
       "        text-align: right;\n",
       "    }\n",
       "</style>\n",
       "<table border=\"1\" class=\"dataframe\">\n",
       "  <thead>\n",
       "    <tr style=\"text-align: right;\">\n",
       "      <th></th>\n",
       "      <th>age</th>\n",
       "      <th>sex</th>\n",
       "      <th>bmi</th>\n",
       "      <th>children</th>\n",
       "      <th>smoker</th>\n",
       "      <th>region</th>\n",
       "      <th>charges</th>\n",
       "    </tr>\n",
       "  </thead>\n",
       "  <tbody>\n",
       "    <tr>\n",
       "      <th>14</th>\n",
       "      <td>27</td>\n",
       "      <td>male</td>\n",
       "      <td>42.130</td>\n",
       "      <td>0</td>\n",
       "      <td>yes</td>\n",
       "      <td>southeast</td>\n",
       "      <td>39611.75770</td>\n",
       "    </tr>\n",
       "    <tr>\n",
       "      <th>19</th>\n",
       "      <td>30</td>\n",
       "      <td>male</td>\n",
       "      <td>35.300</td>\n",
       "      <td>0</td>\n",
       "      <td>yes</td>\n",
       "      <td>southwest</td>\n",
       "      <td>36837.46700</td>\n",
       "    </tr>\n",
       "    <tr>\n",
       "      <th>23</th>\n",
       "      <td>34</td>\n",
       "      <td>female</td>\n",
       "      <td>31.920</td>\n",
       "      <td>1</td>\n",
       "      <td>yes</td>\n",
       "      <td>northeast</td>\n",
       "      <td>37701.87680</td>\n",
       "    </tr>\n",
       "    <tr>\n",
       "      <th>29</th>\n",
       "      <td>31</td>\n",
       "      <td>male</td>\n",
       "      <td>36.300</td>\n",
       "      <td>2</td>\n",
       "      <td>yes</td>\n",
       "      <td>southwest</td>\n",
       "      <td>38711.00000</td>\n",
       "    </tr>\n",
       "    <tr>\n",
       "      <th>30</th>\n",
       "      <td>22</td>\n",
       "      <td>male</td>\n",
       "      <td>35.600</td>\n",
       "      <td>0</td>\n",
       "      <td>yes</td>\n",
       "      <td>southwest</td>\n",
       "      <td>35585.57600</td>\n",
       "    </tr>\n",
       "    <tr>\n",
       "      <th>...</th>\n",
       "      <td>...</td>\n",
       "      <td>...</td>\n",
       "      <td>...</td>\n",
       "      <td>...</td>\n",
       "      <td>...</td>\n",
       "      <td>...</td>\n",
       "      <td>...</td>\n",
       "    </tr>\n",
       "    <tr>\n",
       "      <th>1300</th>\n",
       "      <td>45</td>\n",
       "      <td>male</td>\n",
       "      <td>30.360</td>\n",
       "      <td>0</td>\n",
       "      <td>yes</td>\n",
       "      <td>southeast</td>\n",
       "      <td>62592.87309</td>\n",
       "    </tr>\n",
       "    <tr>\n",
       "      <th>1301</th>\n",
       "      <td>62</td>\n",
       "      <td>male</td>\n",
       "      <td>30.875</td>\n",
       "      <td>3</td>\n",
       "      <td>yes</td>\n",
       "      <td>northwest</td>\n",
       "      <td>46718.16325</td>\n",
       "    </tr>\n",
       "    <tr>\n",
       "      <th>1303</th>\n",
       "      <td>43</td>\n",
       "      <td>male</td>\n",
       "      <td>27.800</td>\n",
       "      <td>0</td>\n",
       "      <td>yes</td>\n",
       "      <td>southwest</td>\n",
       "      <td>37829.72420</td>\n",
       "    </tr>\n",
       "    <tr>\n",
       "      <th>1313</th>\n",
       "      <td>19</td>\n",
       "      <td>female</td>\n",
       "      <td>34.700</td>\n",
       "      <td>2</td>\n",
       "      <td>yes</td>\n",
       "      <td>southwest</td>\n",
       "      <td>36397.57600</td>\n",
       "    </tr>\n",
       "    <tr>\n",
       "      <th>1323</th>\n",
       "      <td>42</td>\n",
       "      <td>female</td>\n",
       "      <td>40.370</td>\n",
       "      <td>2</td>\n",
       "      <td>yes</td>\n",
       "      <td>southeast</td>\n",
       "      <td>43896.37630</td>\n",
       "    </tr>\n",
       "  </tbody>\n",
       "</table>\n",
       "<p>139 rows × 7 columns</p>\n",
       "</div>"
      ],
      "text/plain": [
       "      age     sex     bmi  children smoker     region      charges\n",
       "14     27    male  42.130         0    yes  southeast  39611.75770\n",
       "19     30    male  35.300         0    yes  southwest  36837.46700\n",
       "23     34  female  31.920         1    yes  northeast  37701.87680\n",
       "29     31    male  36.300         2    yes  southwest  38711.00000\n",
       "30     22    male  35.600         0    yes  southwest  35585.57600\n",
       "...   ...     ...     ...       ...    ...        ...          ...\n",
       "1300   45    male  30.360         0    yes  southeast  62592.87309\n",
       "1301   62    male  30.875         3    yes  northwest  46718.16325\n",
       "1303   43    male  27.800         0    yes  southwest  37829.72420\n",
       "1313   19  female  34.700         2    yes  southwest  36397.57600\n",
       "1323   42  female  40.370         2    yes  southeast  43896.37630\n",
       "\n",
       "[139 rows x 7 columns]"
      ]
     },
     "execution_count": 29,
     "metadata": {},
     "output_type": "execute_result"
    }
   ],
   "source": [
    "data[data['charges'] > outlier]  #139개의 이상치 확인!! 뺄지를 고려"
   ]
  },
  {
   "cell_type": "code",
   "execution_count": 31,
   "id": "d85b2f50-2926-409e-82f2-24b121eb9e6d",
   "metadata": {},
   "outputs": [],
   "source": [
    "data1=data[data['charges'] <= outlier]"
   ]
  },
  {
   "cell_type": "code",
   "execution_count": 32,
   "id": "cfb250bc-fb20-4c1e-a50c-2f90c7f1860e",
   "metadata": {},
   "outputs": [
    {
     "data": {
      "text/html": [
       "<div>\n",
       "<style scoped>\n",
       "    .dataframe tbody tr th:only-of-type {\n",
       "        vertical-align: middle;\n",
       "    }\n",
       "\n",
       "    .dataframe tbody tr th {\n",
       "        vertical-align: top;\n",
       "    }\n",
       "\n",
       "    .dataframe thead th {\n",
       "        text-align: right;\n",
       "    }\n",
       "</style>\n",
       "<table border=\"1\" class=\"dataframe\">\n",
       "  <thead>\n",
       "    <tr style=\"text-align: right;\">\n",
       "      <th></th>\n",
       "      <th>age</th>\n",
       "      <th>bmi</th>\n",
       "      <th>children</th>\n",
       "      <th>charges</th>\n",
       "    </tr>\n",
       "  </thead>\n",
       "  <tbody>\n",
       "    <tr>\n",
       "      <th>count</th>\n",
       "      <td>1199.000000</td>\n",
       "      <td>1199.000000</td>\n",
       "      <td>1199.000000</td>\n",
       "      <td>1199.000000</td>\n",
       "    </tr>\n",
       "    <tr>\n",
       "      <th>mean</th>\n",
       "      <td>38.989992</td>\n",
       "      <td>30.095200</td>\n",
       "      <td>1.084237</td>\n",
       "      <td>9927.753402</td>\n",
       "    </tr>\n",
       "    <tr>\n",
       "      <th>std</th>\n",
       "      <td>14.068040</td>\n",
       "      <td>6.010551</td>\n",
       "      <td>1.214304</td>\n",
       "      <td>7241.158309</td>\n",
       "    </tr>\n",
       "    <tr>\n",
       "      <th>min</th>\n",
       "      <td>18.000000</td>\n",
       "      <td>15.960000</td>\n",
       "      <td>0.000000</td>\n",
       "      <td>1121.873900</td>\n",
       "    </tr>\n",
       "    <tr>\n",
       "      <th>25%</th>\n",
       "      <td>26.000000</td>\n",
       "      <td>25.800000</td>\n",
       "      <td>0.000000</td>\n",
       "      <td>4408.695900</td>\n",
       "    </tr>\n",
       "    <tr>\n",
       "      <th>50%</th>\n",
       "      <td>39.000000</td>\n",
       "      <td>29.735000</td>\n",
       "      <td>1.000000</td>\n",
       "      <td>8410.046850</td>\n",
       "    </tr>\n",
       "    <tr>\n",
       "      <th>75%</th>\n",
       "      <td>51.000000</td>\n",
       "      <td>33.820000</td>\n",
       "      <td>2.000000</td>\n",
       "      <td>12953.594600</td>\n",
       "    </tr>\n",
       "    <tr>\n",
       "      <th>max</th>\n",
       "      <td>64.000000</td>\n",
       "      <td>53.130000</td>\n",
       "      <td>5.000000</td>\n",
       "      <td>34472.841000</td>\n",
       "    </tr>\n",
       "  </tbody>\n",
       "</table>\n",
       "</div>"
      ],
      "text/plain": [
       "               age          bmi     children       charges\n",
       "count  1199.000000  1199.000000  1199.000000   1199.000000\n",
       "mean     38.989992    30.095200     1.084237   9927.753402\n",
       "std      14.068040     6.010551     1.214304   7241.158309\n",
       "min      18.000000    15.960000     0.000000   1121.873900\n",
       "25%      26.000000    25.800000     0.000000   4408.695900\n",
       "50%      39.000000    29.735000     1.000000   8410.046850\n",
       "75%      51.000000    33.820000     2.000000  12953.594600\n",
       "max      64.000000    53.130000     5.000000  34472.841000"
      ]
     },
     "execution_count": 32,
     "metadata": {},
     "output_type": "execute_result"
    }
   ],
   "source": [
    "data1.describe()"
   ]
  },
  {
   "cell_type": "code",
   "execution_count": 33,
   "id": "7d44ee35-859c-4bd4-9f47-db1866ac67ab",
   "metadata": {},
   "outputs": [
    {
     "data": {
      "text/plain": [
       "(1199, 7)"
      ]
     },
     "execution_count": 33,
     "metadata": {},
     "output_type": "execute_result"
    }
   ],
   "source": [
    "data1.shape"
   ]
  },
  {
   "cell_type": "code",
   "execution_count": 34,
   "id": "9a1afd02-b87a-42f9-9665-ccdd5e5a6458",
   "metadata": {},
   "outputs": [],
   "source": [
    "from sklearn.preprocessing import LabelEncoder"
   ]
  },
  {
   "cell_type": "code",
   "execution_count": 38,
   "id": "8cd2cd07-b8d5-425c-b41a-713534d742d9",
   "metadata": {},
   "outputs": [],
   "source": [
    "col_list = ['sex','smoker','region']\n",
    "for col in col_list : \n",
    "    label = LabelEncoder()\n",
    "    label.fit(data[col].unique())\n",
    "    data[col] = label.transform(data[col])  #명목변수를 숫자로 바꾸기! 알아둘것!!"
   ]
  },
  {
   "cell_type": "code",
   "execution_count": 37,
   "id": "1f338e9a-af9f-4730-851c-afa95ca7f2fc",
   "metadata": {},
   "outputs": [
    {
     "data": {
      "text/html": [
       "<div>\n",
       "<style scoped>\n",
       "    .dataframe tbody tr th:only-of-type {\n",
       "        vertical-align: middle;\n",
       "    }\n",
       "\n",
       "    .dataframe tbody tr th {\n",
       "        vertical-align: top;\n",
       "    }\n",
       "\n",
       "    .dataframe thead th {\n",
       "        text-align: right;\n",
       "    }\n",
       "</style>\n",
       "<table border=\"1\" class=\"dataframe\">\n",
       "  <thead>\n",
       "    <tr style=\"text-align: right;\">\n",
       "      <th></th>\n",
       "      <th>age</th>\n",
       "      <th>sex</th>\n",
       "      <th>bmi</th>\n",
       "      <th>children</th>\n",
       "      <th>smoker</th>\n",
       "      <th>region</th>\n",
       "      <th>charges</th>\n",
       "    </tr>\n",
       "  </thead>\n",
       "  <tbody>\n",
       "    <tr>\n",
       "      <th>0</th>\n",
       "      <td>19</td>\n",
       "      <td>0</td>\n",
       "      <td>27.900</td>\n",
       "      <td>0</td>\n",
       "      <td>1</td>\n",
       "      <td>3</td>\n",
       "      <td>16884.92400</td>\n",
       "    </tr>\n",
       "    <tr>\n",
       "      <th>1</th>\n",
       "      <td>18</td>\n",
       "      <td>1</td>\n",
       "      <td>33.770</td>\n",
       "      <td>1</td>\n",
       "      <td>0</td>\n",
       "      <td>2</td>\n",
       "      <td>1725.55230</td>\n",
       "    </tr>\n",
       "    <tr>\n",
       "      <th>2</th>\n",
       "      <td>28</td>\n",
       "      <td>1</td>\n",
       "      <td>33.000</td>\n",
       "      <td>3</td>\n",
       "      <td>0</td>\n",
       "      <td>2</td>\n",
       "      <td>4449.46200</td>\n",
       "    </tr>\n",
       "    <tr>\n",
       "      <th>3</th>\n",
       "      <td>33</td>\n",
       "      <td>1</td>\n",
       "      <td>22.705</td>\n",
       "      <td>0</td>\n",
       "      <td>0</td>\n",
       "      <td>1</td>\n",
       "      <td>21984.47061</td>\n",
       "    </tr>\n",
       "    <tr>\n",
       "      <th>4</th>\n",
       "      <td>32</td>\n",
       "      <td>1</td>\n",
       "      <td>28.880</td>\n",
       "      <td>0</td>\n",
       "      <td>0</td>\n",
       "      <td>1</td>\n",
       "      <td>3866.85520</td>\n",
       "    </tr>\n",
       "    <tr>\n",
       "      <th>...</th>\n",
       "      <td>...</td>\n",
       "      <td>...</td>\n",
       "      <td>...</td>\n",
       "      <td>...</td>\n",
       "      <td>...</td>\n",
       "      <td>...</td>\n",
       "      <td>...</td>\n",
       "    </tr>\n",
       "    <tr>\n",
       "      <th>1333</th>\n",
       "      <td>50</td>\n",
       "      <td>1</td>\n",
       "      <td>30.970</td>\n",
       "      <td>3</td>\n",
       "      <td>0</td>\n",
       "      <td>1</td>\n",
       "      <td>10600.54830</td>\n",
       "    </tr>\n",
       "    <tr>\n",
       "      <th>1334</th>\n",
       "      <td>18</td>\n",
       "      <td>0</td>\n",
       "      <td>31.920</td>\n",
       "      <td>0</td>\n",
       "      <td>0</td>\n",
       "      <td>0</td>\n",
       "      <td>2205.98080</td>\n",
       "    </tr>\n",
       "    <tr>\n",
       "      <th>1335</th>\n",
       "      <td>18</td>\n",
       "      <td>0</td>\n",
       "      <td>36.850</td>\n",
       "      <td>0</td>\n",
       "      <td>0</td>\n",
       "      <td>2</td>\n",
       "      <td>1629.83350</td>\n",
       "    </tr>\n",
       "    <tr>\n",
       "      <th>1336</th>\n",
       "      <td>21</td>\n",
       "      <td>0</td>\n",
       "      <td>25.800</td>\n",
       "      <td>0</td>\n",
       "      <td>0</td>\n",
       "      <td>3</td>\n",
       "      <td>2007.94500</td>\n",
       "    </tr>\n",
       "    <tr>\n",
       "      <th>1337</th>\n",
       "      <td>61</td>\n",
       "      <td>0</td>\n",
       "      <td>29.070</td>\n",
       "      <td>0</td>\n",
       "      <td>1</td>\n",
       "      <td>1</td>\n",
       "      <td>29141.36030</td>\n",
       "    </tr>\n",
       "  </tbody>\n",
       "</table>\n",
       "<p>1338 rows × 7 columns</p>\n",
       "</div>"
      ],
      "text/plain": [
       "      age  sex     bmi  children  smoker  region      charges\n",
       "0      19    0  27.900         0       1       3  16884.92400\n",
       "1      18    1  33.770         1       0       2   1725.55230\n",
       "2      28    1  33.000         3       0       2   4449.46200\n",
       "3      33    1  22.705         0       0       1  21984.47061\n",
       "4      32    1  28.880         0       0       1   3866.85520\n",
       "...   ...  ...     ...       ...     ...     ...          ...\n",
       "1333   50    1  30.970         3       0       1  10600.54830\n",
       "1334   18    0  31.920         0       0       0   2205.98080\n",
       "1335   18    0  36.850         0       0       2   1629.83350\n",
       "1336   21    0  25.800         0       0       3   2007.94500\n",
       "1337   61    0  29.070         0       1       1  29141.36030\n",
       "\n",
       "[1338 rows x 7 columns]"
      ]
     },
     "execution_count": 37,
     "metadata": {},
     "output_type": "execute_result"
    }
   ],
   "source": [
    "data"
   ]
  },
  {
   "cell_type": "code",
   "execution_count": 39,
   "id": "81b01035-de38-4229-9685-3c181ab1a01c",
   "metadata": {},
   "outputs": [],
   "source": [
    "import pandas as pd\n",
    "import sklearn.datasets\n",
    "from sklearn.model_selection import train_test_split #학습과 테스트 데이터로 나누기\n",
    "from sklearn.linear_model import LinearRegression  #첫번쨰 모델\n",
    "from sklearn.metrics import mean_absolute_error  #오차값 계산\n",
    "from sklearn.ensemble import GradientBoostingRegressor  #두번째 모델"
   ]
  },
  {
   "cell_type": "code",
   "execution_count": null,
   "id": "127217d5-c0c1-40e0-b4ad-0945e3cc7b04",
   "metadata": {},
   "outputs": [],
   "source": []
  },
  {
   "cell_type": "code",
   "execution_count": 40,
   "id": "68ddc859-0580-4646-9cfb-b4502bc07b23",
   "metadata": {
    "tags": []
   },
   "outputs": [],
   "source": [
    "model = LinearRegression() # 모델 첫번째에 적용"
   ]
  },
  {
   "cell_type": "code",
   "execution_count": 41,
   "id": "285d1ad1-51fc-4978-88c7-bef457811a7f",
   "metadata": {},
   "outputs": [],
   "source": [
    "x = data.drop(['charges'],axis=1)"
   ]
  },
  {
   "cell_type": "code",
   "execution_count": 42,
   "id": "d575f57c-1806-4f9f-8f67-973706488f2a",
   "metadata": {},
   "outputs": [],
   "source": [
    "y= data['charges']"
   ]
  },
  {
   "cell_type": "code",
   "execution_count": 43,
   "id": "33b02dcb-0b91-4927-a78a-3dedd28f33ca",
   "metadata": {},
   "outputs": [],
   "source": [
    "x_train, x_test, y_train, y_test = train_test_split(x,y,test_size=0.2, random_state=0)"
   ]
  },
  {
   "cell_type": "code",
   "execution_count": 44,
   "id": "70031b7b-4223-4f97-939e-07fea93c1ecf",
   "metadata": {
    "tags": []
   },
   "outputs": [
    {
     "data": {
      "text/plain": [
       "LinearRegression()"
      ]
     },
     "execution_count": 44,
     "metadata": {},
     "output_type": "execute_result"
    }
   ],
   "source": [
    "model.fit(x_train, y_train)"
   ]
  },
  {
   "cell_type": "code",
   "execution_count": 45,
   "id": "2997e042-edd1-4103-9367-f52a40fe8b3e",
   "metadata": {
    "tags": []
   },
   "outputs": [],
   "source": [
    "pre_train = model.predict(x_train)"
   ]
  },
  {
   "cell_type": "code",
   "execution_count": 46,
   "id": "6da85574-b9f5-497f-922e-04ce1ca82c56",
   "metadata": {},
   "outputs": [
    {
     "data": {
      "text/plain": [
       "4235.3838760320905"
      ]
     },
     "execution_count": 46,
     "metadata": {},
     "output_type": "execute_result"
    }
   ],
   "source": [
    "mean_absolute_error(pre_train, y_train)"
   ]
  },
  {
   "cell_type": "code",
   "execution_count": 54,
   "id": "c54f347f-1273-4043-b20c-ba014f20e2e3",
   "metadata": {},
   "outputs": [
    {
     "data": {
      "text/plain": [
       "0.7368306228430945"
      ]
     },
     "execution_count": 54,
     "metadata": {},
     "output_type": "execute_result"
    }
   ],
   "source": [
    "model.score(x_train, y_train)"
   ]
  },
  {
   "cell_type": "code",
   "execution_count": 55,
   "id": "0a0e9ba2-6d83-45d6-ab20-e94fee83c55f",
   "metadata": {},
   "outputs": [],
   "source": [
    "pre_test = model.predict(x_test)"
   ]
  },
  {
   "cell_type": "code",
   "execution_count": 56,
   "id": "4e3a9705-a2f6-4474-bcec-b7385bd22519",
   "metadata": {},
   "outputs": [
    {
     "data": {
      "text/plain": [
       "3930.3332739011403"
      ]
     },
     "execution_count": 56,
     "metadata": {},
     "output_type": "execute_result"
    }
   ],
   "source": [
    "mean_absolute_error(pre_test, y_test)"
   ]
  },
  {
   "cell_type": "code",
   "execution_count": 57,
   "id": "6db0be18-0a4a-40f5-a572-837e859cdbcc",
   "metadata": {},
   "outputs": [
    {
     "data": {
      "text/plain": [
       "0.7998747145449959"
      ]
     },
     "execution_count": 57,
     "metadata": {},
     "output_type": "execute_result"
    }
   ],
   "source": [
    "model.score(x_test, y_test) #모델 정확도"
   ]
  },
  {
   "cell_type": "code",
   "execution_count": null,
   "id": "3a532b4e-d946-4dc3-a686-2e3fa69dcd0d",
   "metadata": {},
   "outputs": [],
   "source": [
    "# *참조 정확도 구하는 공식 ((y_true - y_test))제곱 .sum()"
   ]
  },
  {
   "cell_type": "code",
   "execution_count": 50,
   "id": "c01cc6a4-3ec7-432f-8939-e447aae22b9b",
   "metadata": {},
   "outputs": [],
   "source": [
    "from sklearn.preprocessing import PolynomialFeatures"
   ]
  },
  {
   "cell_type": "code",
   "execution_count": 51,
   "id": "cb1d75c6-db90-4d4b-bbe9-32d57e5082ba",
   "metadata": {},
   "outputs": [],
   "source": [
    "pol= PolynomialFeatures(degree=2) # 변수 늘리기"
   ]
  },
  {
   "cell_type": "code",
   "execution_count": 52,
   "id": "1dfd2a81-aeb9-415f-8537-efac799597fd",
   "metadata": {},
   "outputs": [],
   "source": [
    "x_pol = pol.fit_transform(x)"
   ]
  },
  {
   "cell_type": "code",
   "execution_count": 53,
   "id": "deb83836-ac77-4dfb-983a-594fbe4973c3",
   "metadata": {},
   "outputs": [
    {
     "data": {
      "text/plain": [
       "array([[ 1., 19.,  0., ...,  1.,  3.,  9.],\n",
       "       [ 1., 18.,  1., ...,  0.,  0.,  4.],\n",
       "       [ 1., 28.,  1., ...,  0.,  0.,  4.],\n",
       "       ...,\n",
       "       [ 1., 18.,  0., ...,  0.,  0.,  4.],\n",
       "       [ 1., 21.,  0., ...,  0.,  0.,  9.],\n",
       "       [ 1., 61.,  0., ...,  1.,  1.,  1.]])"
      ]
     },
     "execution_count": 53,
     "metadata": {},
     "output_type": "execute_result"
    }
   ],
   "source": [
    "x_pol"
   ]
  },
  {
   "cell_type": "code",
   "execution_count": 58,
   "id": "64e8990b-63f6-4c32-9fd3-aa9c8c9c88cc",
   "metadata": {
    "collapsed": true,
    "jupyter": {
     "outputs_hidden": true
    },
    "tags": []
   },
   "outputs": [
    {
     "name": "stderr",
     "output_type": "stream",
     "text": [
      "C:\\Users\\user\\anaconda3\\lib\\site-packages\\sklearn\\utils\\deprecation.py:87: FutureWarning: Function get_feature_names is deprecated; get_feature_names is deprecated in 1.0 and will be removed in 1.2. Please use get_feature_names_out instead.\n",
      "  warnings.warn(msg, category=FutureWarning)\n"
     ]
    },
    {
     "data": {
      "text/plain": [
       "['1',\n",
       " 'x0',\n",
       " 'x1',\n",
       " 'x2',\n",
       " 'x3',\n",
       " 'x4',\n",
       " 'x5',\n",
       " 'x0^2',\n",
       " 'x0 x1',\n",
       " 'x0 x2',\n",
       " 'x0 x3',\n",
       " 'x0 x4',\n",
       " 'x0 x5',\n",
       " 'x1^2',\n",
       " 'x1 x2',\n",
       " 'x1 x3',\n",
       " 'x1 x4',\n",
       " 'x1 x5',\n",
       " 'x2^2',\n",
       " 'x2 x3',\n",
       " 'x2 x4',\n",
       " 'x2 x5',\n",
       " 'x3^2',\n",
       " 'x3 x4',\n",
       " 'x3 x5',\n",
       " 'x4^2',\n",
       " 'x4 x5',\n",
       " 'x5^2']"
      ]
     },
     "execution_count": 58,
     "metadata": {},
     "output_type": "execute_result"
    }
   ],
   "source": [
    "pol.get_feature_names()"
   ]
  },
  {
   "cell_type": "code",
   "execution_count": 59,
   "id": "e26e315e-fce2-445c-98e1-f613997d4977",
   "metadata": {},
   "outputs": [],
   "source": [
    "from sklearn.ensemble import RandomForestRegressor"
   ]
  },
  {
   "cell_type": "code",
   "execution_count": null,
   "id": "6f97330b-9119-4e3c-8191-5ad8eadf8bb3",
   "metadata": {},
   "outputs": [],
   "source": [
    "forest = RandomForestRegressor(n_estimators = 100, criterion='mes', random_state= ,"
   ]
  },
  {
   "cell_type": "code",
   "execution_count": null,
   "id": "5f7780c8-806b-42fd-b010-cd4522414fc1",
   "metadata": {},
   "outputs": [],
   "source": []
  },
  {
   "cell_type": "markdown",
   "id": "bb198b0e-b889-40d2-8e03-0b34ec9eb77a",
   "metadata": {},
   "source": [
    "----------------------------"
   ]
  },
  {
   "cell_type": "code",
   "execution_count": null,
   "id": "0221d0b7-0674-477d-936a-799e91e21df9",
   "metadata": {},
   "outputs": [],
   "source": []
  },
  {
   "cell_type": "raw",
   "id": "bfbaae16-e24c-4072-be33-d5d63575c435",
   "metadata": {},
   "source": [
    "데이터 정제"
   ]
  },
  {
   "cell_type": "code",
   "execution_count": null,
   "id": "11b67a98-174d-43cd-8c9d-0063b2581e56",
   "metadata": {},
   "outputs": [],
   "source": []
  },
  {
   "cell_type": "raw",
   "id": "7bf04010-89cf-43fd-add2-80784717746a",
   "metadata": {},
   "source": [
    "1> 첫번째 정제 변수들을 수치화"
   ]
  },
  {
   "cell_type": "raw",
   "id": "8ca4e4b0-5837-40ac-9a86-cdd7f53ecf56",
   "metadata": {},
   "source": [
    "1) object 변수인 sex 를 남자는 0 여자는 1로!\n",
    "2) smoker 변수를 yes는 1  no는 0으로\n",
    "3) 주거지역 north_west 1 north_east 2 south_west 3 south_east 4로!!"
   ]
  },
  {
   "cell_type": "raw",
   "id": "6f3746d5-5fb3-4e74-aa29-b317addc4094",
   "metadata": {},
   "source": [
    "# 2> 이상치 찾기!"
   ]
  },
  {
   "cell_type": "raw",
   "id": "44062498-ab87-4714-8b33-b8a5f953f2d4",
   "metadata": {},
   "source": [
    "각 항목을 describe으로 살펴 이상치로 판별 가능한 것들을 제외하고 다시 모델 검정"
   ]
  },
  {
   "cell_type": "raw",
   "id": "b35b6cfb-3fb3-434f-a027-b69cd4e815ad",
   "metadata": {},
   "source": []
  },
  {
   "cell_type": "code",
   "execution_count": null,
   "id": "c164f4df-94b5-4542-9d85-20abe25ba436",
   "metadata": {},
   "outputs": [],
   "source": [
    "data.describe()"
   ]
  },
  {
   "cell_type": "code",
   "execution_count": null,
   "id": "cba75b8d-0328-4403-b218-a9d7e12e1eba",
   "metadata": {},
   "outputs": [],
   "source": [
    "data = data[data['bmi'] < 45]"
   ]
  },
  {
   "cell_type": "code",
   "execution_count": null,
   "id": "5bad0c18-d535-4101-a8e3-84dad625d7e0",
   "metadata": {},
   "outputs": [],
   "source": [
    "x= data.drop('charges',axis=1)"
   ]
  },
  {
   "cell_type": "code",
   "execution_count": null,
   "id": "9e181483-bc8c-4621-b199-063c21c785dc",
   "metadata": {},
   "outputs": [],
   "source": [
    "y = data['charges']"
   ]
  },
  {
   "cell_type": "code",
   "execution_count": null,
   "id": "6f2211ee-0125-4d7d-99bb-882835ba1537",
   "metadata": {},
   "outputs": [],
   "source": []
  },
  {
   "cell_type": "code",
   "execution_count": null,
   "id": "46bc39d7-e090-4a81-8462-bc8a9db0150b",
   "metadata": {},
   "outputs": [],
   "source": []
  },
  {
   "cell_type": "code",
   "execution_count": null,
   "id": "ef762d4b-f682-4291-b3fc-14eb6b1ed041",
   "metadata": {},
   "outputs": [],
   "source": [
    "import numpy as np"
   ]
  },
  {
   "cell_type": "code",
   "execution_count": null,
   "id": "5d8a5f0f-feac-443e-bea9-45b868270ee6",
   "metadata": {},
   "outputs": [],
   "source": [
    "data.columns"
   ]
  },
  {
   "cell_type": "code",
   "execution_count": null,
   "id": "304b7229-9894-4577-9594-b7504aba9ca7",
   "metadata": {},
   "outputs": [],
   "source": [
    "data['sex'] = np.where((data['sex'] == 'female'), 1 ,0)"
   ]
  },
  {
   "cell_type": "code",
   "execution_count": null,
   "id": "8d1988d4-a203-4e24-b4cc-109b377701e6",
   "metadata": {},
   "outputs": [],
   "source": [
    "data"
   ]
  },
  {
   "cell_type": "code",
   "execution_count": null,
   "id": "ee8ec0d3-9eb9-4445-80b3-01f718f6df6b",
   "metadata": {},
   "outputs": [],
   "source": [
    "data['smoker'] = np.where((data['smoker'] == 'yes'), 1 , 0)"
   ]
  },
  {
   "cell_type": "code",
   "execution_count": null,
   "id": "45f1f21d-62b3-4b69-af42-abcfdb4d1709",
   "metadata": {},
   "outputs": [],
   "source": [
    "data"
   ]
  },
  {
   "cell_type": "code",
   "execution_count": null,
   "id": "3745abc0-3f67-4b4d-978f-817bb6b96149",
   "metadata": {},
   "outputs": [],
   "source": [
    "data['region'] = np.where((data['region'] == 'northwest'), 1 , 0)"
   ]
  },
  {
   "cell_type": "code",
   "execution_count": null,
   "id": "819ca8f8-8238-463d-8db4-1c63001d5647",
   "metadata": {},
   "outputs": [],
   "source": [
    "data # 최종 수치로 정제한 데이터"
   ]
  },
  {
   "cell_type": "code",
   "execution_count": null,
   "id": "cfc4dc14-59cc-4746-9c24-8e33631652e0",
   "metadata": {},
   "outputs": [],
   "source": [
    "type(data['region'][5])"
   ]
  },
  {
   "cell_type": "code",
   "execution_count": null,
   "id": "4c5d9660-a6d8-4ca6-9164-dbcc6905f9fe",
   "metadata": {},
   "outputs": [],
   "source": []
  },
  {
   "cell_type": "code",
   "execution_count": null,
   "id": "c305480e-f203-4b31-a4ff-d64106ffc5aa",
   "metadata": {},
   "outputs": [],
   "source": [
    "data"
   ]
  },
  {
   "cell_type": "code",
   "execution_count": null,
   "id": "2bd91df4-b775-42de-a7d6-6bd91060b738",
   "metadata": {},
   "outputs": [],
   "source": []
  },
  {
   "cell_type": "code",
   "execution_count": null,
   "id": "74a72dce-27d6-46db-aea2-ca33afcebb3e",
   "metadata": {},
   "outputs": [],
   "source": [
    "import seaborn as sns\n",
    "import matplotlib.pyplot as plt"
   ]
  },
  {
   "cell_type": "code",
   "execution_count": null,
   "id": "2d834fce-ad9d-4199-9563-258a79c573cb",
   "metadata": {},
   "outputs": [],
   "source": [
    "corr = data.corr().round(2)"
   ]
  },
  {
   "cell_type": "code",
   "execution_count": null,
   "id": "cc81bf1e-881e-446d-a6ab-82b2dc89fac5",
   "metadata": {
    "tags": []
   },
   "outputs": [],
   "source": [
    "plt.figure(figsize=(10,10))\n",
    "sns.heatmap(corr, annot=True)"
   ]
  },
  {
   "cell_type": "code",
   "execution_count": null,
   "id": "89959e6e-7859-4bce-b2a2-645438eb59b5",
   "metadata": {},
   "outputs": [],
   "source": [
    "import pandas as pd\n",
    "import sklearn.datasets\n",
    "from sklearn.model_selection import train_test_split\n",
    "from sklearn.linear_model import LinearRegression\n",
    "from sklearn.metrics import mean_absolute_error\n",
    "from sklearn.ensemble import GradientBoostingRegressor"
   ]
  },
  {
   "cell_type": "code",
   "execution_count": null,
   "id": "0a066235-be09-4b26-8b38-b8fb99292af6",
   "metadata": {},
   "outputs": [],
   "source": []
  },
  {
   "cell_type": "code",
   "execution_count": null,
   "id": "9b09cec1-a06f-4f26-bfa2-3808f4a7f8ad",
   "metadata": {},
   "outputs": [],
   "source": [
    "import matplotlib.pyplot as plt"
   ]
  },
  {
   "cell_type": "code",
   "execution_count": null,
   "id": "af87aedb-cd60-4b90-ae24-0970569fc815",
   "metadata": {},
   "outputs": [],
   "source": []
  },
  {
   "cell_type": "code",
   "execution_count": null,
   "id": "05014bbb-c87d-4026-84e0-97aadd311a6a",
   "metadata": {},
   "outputs": [],
   "source": [
    "plt.scatter(data['smoker'], data['charges'])"
   ]
  },
  {
   "cell_type": "code",
   "execution_count": null,
   "id": "1f8636b8-c974-461c-bd7a-bdfe0f71c38e",
   "metadata": {},
   "outputs": [],
   "source": [
    "import numpy as np"
   ]
  },
  {
   "cell_type": "code",
   "execution_count": null,
   "id": "53f16a57-4b3d-446f-94c0-4d4bea584899",
   "metadata": {},
   "outputs": [],
   "source": [
    "data.columns"
   ]
  },
  {
   "cell_type": "code",
   "execution_count": null,
   "id": "eb76aa96-a3df-4bfb-8efa-534d4c85cefc",
   "metadata": {},
   "outputs": [],
   "source": [
    "data['sex'] = np.where((data['sex'] == 'female'), 1 ,0)"
   ]
  },
  {
   "cell_type": "code",
   "execution_count": null,
   "id": "dd04d751-525e-4f8f-904f-ed7822d677f8",
   "metadata": {},
   "outputs": [],
   "source": [
    "data"
   ]
  },
  {
   "cell_type": "code",
   "execution_count": null,
   "id": "87af0883-5120-431b-80e9-391d8f46613f",
   "metadata": {},
   "outputs": [],
   "source": [
    "data['smoker'] = np.where((data['smoker'] == 'yes'), 1 , 0)"
   ]
  },
  {
   "cell_type": "code",
   "execution_count": null,
   "id": "fcb7df85-44b9-4b34-a444-9e1ce6f7943f",
   "metadata": {},
   "outputs": [],
   "source": [
    "data"
   ]
  },
  {
   "cell_type": "code",
   "execution_count": null,
   "id": "a8edd6bc-1b4f-4b44-bebf-2339566bcdd8",
   "metadata": {},
   "outputs": [],
   "source": [
    "data['region'] = np.where((data['region'] == 'northwest'), 1 , 0)"
   ]
  },
  {
   "cell_type": "code",
   "execution_count": null,
   "id": "60f83137-60d9-4baa-b487-a8fd0b224d8b",
   "metadata": {},
   "outputs": [],
   "source": [
    "data # 최종 수치로 정제한 데이터"
   ]
  },
  {
   "cell_type": "code",
   "execution_count": null,
   "id": "5397a65f-2204-43b4-b1f5-6fd6f1126891",
   "metadata": {},
   "outputs": [],
   "source": [
    "type(data['region'][5])"
   ]
  },
  {
   "cell_type": "code",
   "execution_count": null,
   "id": "1b15fefb-7757-4840-a6b5-20229100fd78",
   "metadata": {},
   "outputs": [],
   "source": [
    "plt.boxplot(data['bmi'])"
   ]
  },
  {
   "cell_type": "raw",
   "id": "9a8ff8c4-e586-43f7-bafb-c6ea1ecece69",
   "metadata": {
    "jupyter": {
     "outputs_hidden": true
    },
    "tags": []
   },
   "source": [
    "sns.boxplot(data= data, x='charges' ,y='bmi', xlim=[15000,30000], ylim=[15,30])"
   ]
  },
  {
   "cell_type": "code",
   "execution_count": null,
   "id": "8177b9d5-ff05-405b-97cc-e758b1ae8637",
   "metadata": {},
   "outputs": [],
   "source": [
    "import numpy as np"
   ]
  },
  {
   "cell_type": "code",
   "execution_count": null,
   "id": "e6d62184-3cdd-4f9f-b49a-e1f1800d77aa",
   "metadata": {},
   "outputs": [],
   "source": [
    "data.columns"
   ]
  },
  {
   "cell_type": "code",
   "execution_count": null,
   "id": "c0f46ba0-5fad-4db8-9e4a-7fb4b8c99489",
   "metadata": {},
   "outputs": [],
   "source": [
    "data['sex'] = np.where((data['sex'] == 'female'), 1 ,0)"
   ]
  },
  {
   "cell_type": "code",
   "execution_count": null,
   "id": "58048739-7b7a-4ad5-bb72-92aa00ba9c99",
   "metadata": {},
   "outputs": [],
   "source": [
    "data"
   ]
  },
  {
   "cell_type": "code",
   "execution_count": null,
   "id": "46a00602-b3bb-4fb7-b437-4c9d66d8abfd",
   "metadata": {},
   "outputs": [],
   "source": [
    "data['smoker'] = np.where((data['smoker'] == 'yes'), 1 , 0)"
   ]
  },
  {
   "cell_type": "code",
   "execution_count": null,
   "id": "1a819c17-32e8-43cd-b851-bc08ee108a8b",
   "metadata": {},
   "outputs": [],
   "source": [
    "data"
   ]
  },
  {
   "cell_type": "code",
   "execution_count": null,
   "id": "925ae0d2-32f8-4efd-905f-a9a5b6c3dc01",
   "metadata": {},
   "outputs": [],
   "source": [
    "data['region'] = np.where((data['region'] == 'northwest'), 1 , 0)"
   ]
  },
  {
   "cell_type": "code",
   "execution_count": null,
   "id": "b69d9b35-cd35-405a-934a-804c9abd28c5",
   "metadata": {},
   "outputs": [],
   "source": [
    "data # 최종 수치로 정제한 데이터"
   ]
  },
  {
   "cell_type": "code",
   "execution_count": null,
   "id": "a0acec8c-4855-4580-b014-0e9e70a67344",
   "metadata": {},
   "outputs": [],
   "source": [
    "type(data['region'][5])"
   ]
  },
  {
   "cell_type": "code",
   "execution_count": null,
   "id": "4a75f870-6cb7-48a9-920a-93f84600e0bb",
   "metadata": {
    "tags": []
   },
   "outputs": [],
   "source": [
    "model = LinearRegression() # 모델 첫번째 "
   ]
  },
  {
   "cell_type": "code",
   "execution_count": null,
   "id": "4ca83d05-660f-4a02-88bf-d3476dd7f51f",
   "metadata": {},
   "outputs": [],
   "source": [
    "x = data.drop(['charges'],axis=1)"
   ]
  },
  {
   "cell_type": "code",
   "execution_count": null,
   "id": "412b5010-2d99-4ff3-8af9-7707b350ceee",
   "metadata": {},
   "outputs": [],
   "source": [
    "y= data['charges']"
   ]
  },
  {
   "cell_type": "code",
   "execution_count": null,
   "id": "086d3740-58cf-4b26-ac37-7c7c855eeac2",
   "metadata": {},
   "outputs": [],
   "source": [
    "x_train, x_test, y_train, y_test = train_test_split(x,y,test_size=0.2, random_state=0)"
   ]
  },
  {
   "cell_type": "code",
   "execution_count": null,
   "id": "faaa2713-c862-4bb6-ae0b-b63beb0de21c",
   "metadata": {
    "tags": []
   },
   "outputs": [],
   "source": [
    "model.fit(x_train, y_train)"
   ]
  },
  {
   "cell_type": "code",
   "execution_count": null,
   "id": "2ef78c32-f066-443e-9c37-cdb86693ee06",
   "metadata": {
    "tags": []
   },
   "outputs": [],
   "source": [
    "pre_train = model.predict(x_train)"
   ]
  },
  {
   "cell_type": "code",
   "execution_count": null,
   "id": "0bafa106-396b-4d3d-a9fc-2baf302ab0a8",
   "metadata": {},
   "outputs": [],
   "source": [
    "mean_absolute_error(pre_train, y_train)"
   ]
  },
  {
   "cell_type": "code",
   "execution_count": null,
   "id": "326c4861-bd05-492f-bf78-c50585bd861b",
   "metadata": {},
   "outputs": [],
   "source": []
  },
  {
   "cell_type": "code",
   "execution_count": null,
   "id": "456e0733-c69d-4765-96bf-3256ac19f7c8",
   "metadata": {},
   "outputs": [],
   "source": [
    "pre_test = model.predict(x_test)"
   ]
  },
  {
   "cell_type": "code",
   "execution_count": null,
   "id": "861d614e-0516-464c-9abe-e7f9c5f5605d",
   "metadata": {},
   "outputs": [],
   "source": [
    "mean_absolute_error(pre_test, y_test)"
   ]
  },
  {
   "cell_type": "code",
   "execution_count": null,
   "id": "31d8a1cc-6214-4fdd-a562-07d985ad4b4e",
   "metadata": {},
   "outputs": [],
   "source": [
    "model.score(x_train, y_train) #모델 정확도"
   ]
  },
  {
   "cell_type": "code",
   "execution_count": null,
   "id": "fef60fc5-6dc4-411f-801d-6fc04622b285",
   "metadata": {},
   "outputs": [],
   "source": []
  },
  {
   "cell_type": "code",
   "execution_count": null,
   "id": "6bec3fb1-5c0c-4260-b4fb-f1a71c81912e",
   "metadata": {},
   "outputs": [],
   "source": [
    "from sklearn.ensemble import GradientBoostingRegressor"
   ]
  },
  {
   "cell_type": "code",
   "execution_count": null,
   "id": "c9c80326-d51a-42c6-bb1b-c8df8a32c743",
   "metadata": {},
   "outputs": [],
   "source": [
    "model2 = GradientBoostingRegressor() # 모델 두번째"
   ]
  },
  {
   "cell_type": "code",
   "execution_count": null,
   "id": "d19d7e5b-f874-49c2-b6a9-f4fad7f8059d",
   "metadata": {},
   "outputs": [],
   "source": [
    "model2.fit(x_train, y_train)"
   ]
  },
  {
   "cell_type": "code",
   "execution_count": null,
   "id": "4f1f166f-53d8-4d75-93ce-af5c9a17cf67",
   "metadata": {},
   "outputs": [],
   "source": [
    "pre_train = model2.predict(x_train)"
   ]
  },
  {
   "cell_type": "code",
   "execution_count": null,
   "id": "beac0187-fce1-4f74-8bad-6a5f74d69d20",
   "metadata": {},
   "outputs": [],
   "source": [
    "mean_absolute_error(pre_train, y_train)"
   ]
  },
  {
   "cell_type": "code",
   "execution_count": null,
   "id": "d8863dad-a09a-4bab-b3f2-5a02f0b1e848",
   "metadata": {},
   "outputs": [],
   "source": [
    "pre_test = model2.predict(x_test)"
   ]
  },
  {
   "cell_type": "code",
   "execution_count": null,
   "id": "94969f0d-e617-48cb-a154-62b5afa3128a",
   "metadata": {},
   "outputs": [],
   "source": [
    "mean_absolute_error(pre_test, y_test)"
   ]
  },
  {
   "cell_type": "code",
   "execution_count": null,
   "id": "27f0265a-82f6-4a93-948d-26b2fda482b0",
   "metadata": {},
   "outputs": [],
   "source": [
    "model2.score(x_train, y_train) #모델 정확도"
   ]
  },
  {
   "cell_type": "code",
   "execution_count": null,
   "id": "83523f2e-de85-40f0-b699-ff9279b5be97",
   "metadata": {},
   "outputs": [],
   "source": [
    "plt.scatter(pre_test, y_test) # 2번째 모델 테스트 시 산점도"
   ]
  },
  {
   "cell_type": "code",
   "execution_count": null,
   "id": "b9514bde-9e76-4cb1-a784-4ccc5438abab",
   "metadata": {},
   "outputs": [],
   "source": [
    "plt.scatter(pre_train, y_train) #2번째 모델 트레인 시 산점도"
   ]
  },
  {
   "cell_type": "raw",
   "id": "fc5abb62-8e86-455e-aae1-7d35e2a59f28",
   "metadata": {},
   "source": [
    "2> 이상치제거"
   ]
  },
  {
   "cell_type": "code",
   "execution_count": null,
   "id": "02d5df21-54e2-4fb1-91e1-3663edabf94d",
   "metadata": {},
   "outputs": [],
   "source": [
    "data"
   ]
  },
  {
   "cell_type": "code",
   "execution_count": null,
   "id": "a1e2abe9-d362-486b-a253-5e5e0d6d0884",
   "metadata": {},
   "outputs": [],
   "source": [
    "data1 = data.drop(['region','charges'], axis=1)"
   ]
  },
  {
   "cell_type": "code",
   "execution_count": null,
   "id": "b0cccba3-97b0-424c-ab36-1549b2b748b6",
   "metadata": {},
   "outputs": [],
   "source": [
    "data1"
   ]
  },
  {
   "cell_type": "code",
   "execution_count": null,
   "id": "f248e3c2-65e1-4929-8131-c47651b3c813",
   "metadata": {},
   "outputs": [],
   "source": [
    "data1.describe()"
   ]
  },
  {
   "cell_type": "raw",
   "id": "ae0f72a9-c910-4ea7-ad92-9df7e6e3dd10",
   "metadata": {},
   "source": [
    "1) age,sex는 이상치 존재의 의미가 없다. PASS\n"
   ]
  },
  {
   "cell_type": "raw",
   "id": "2ed66d91-2fca-4802-9b6a-61a37388fc80",
   "metadata": {},
   "source": [
    "머신러닝의 여러가지 방법 케글에서 찾아서 보면서 익혀볼것!"
   ]
  },
  {
   "cell_type": "code",
   "execution_count": null,
   "id": "465a06b7-627e-4bfd-a5f6-2f91da874277",
   "metadata": {},
   "outputs": [],
   "source": []
  },
  {
   "cell_type": "code",
   "execution_count": null,
   "id": "3720427f-eef1-434b-ba7f-d2f8d89b00a0",
   "metadata": {},
   "outputs": [],
   "source": []
  },
  {
   "cell_type": "code",
   "execution_count": null,
   "id": "16a2f9f0-41fb-4ec0-92b1-fe21ddb9e694",
   "metadata": {},
   "outputs": [],
   "source": []
  }
 ],
 "metadata": {
  "kernelspec": {
   "display_name": "Python 3 (ipykernel)",
   "language": "python",
   "name": "python3"
  },
  "language_info": {
   "codemirror_mode": {
    "name": "ipython",
    "version": 3
   },
   "file_extension": ".py",
   "mimetype": "text/x-python",
   "name": "python",
   "nbconvert_exporter": "python",
   "pygments_lexer": "ipython3",
   "version": "3.9.12"
  }
 },
 "nbformat": 4,
 "nbformat_minor": 5
}
