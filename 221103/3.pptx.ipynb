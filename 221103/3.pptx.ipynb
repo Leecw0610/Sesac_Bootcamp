{
 "cells": [
  {
   "cell_type": "code",
   "execution_count": 2,
   "id": "7afec773-16e4-452f-9ffa-85d8d9212149",
   "metadata": {},
   "outputs": [
    {
     "name": "stdout",
     "output_type": "stream",
     "text": [
      "Collecting python-pptx\n",
      "  Downloading python-pptx-0.6.21.tar.gz (10.1 MB)\n",
      "Requirement already satisfied: lxml>=3.1.0 in c:\\users\\user\\anaconda3\\lib\\site-packages (from python-pptx) (4.8.0)\n",
      "Requirement already satisfied: Pillow>=3.3.2 in c:\\users\\user\\anaconda3\\lib\\site-packages (from python-pptx) (9.0.1)\n",
      "Requirement already satisfied: XlsxWriter>=0.5.7 in c:\\users\\user\\anaconda3\\lib\\site-packages (from python-pptx) (3.0.3)\n",
      "Building wheels for collected packages: python-pptx\n",
      "  Building wheel for python-pptx (setup.py): started\n",
      "  Building wheel for python-pptx (setup.py): finished with status 'done'\n",
      "  Created wheel for python-pptx: filename=python_pptx-0.6.21-py3-none-any.whl size=470951 sha256=273cca387dbea6d638a2835b0f783469c8a9e4acfeb4c72d5b9f791b24a63923\n",
      "  Stored in directory: c:\\users\\user\\appdata\\local\\pip\\cache\\wheels\\0e\\4a\\ed\\9653bc799915f52dce3f04d14946fbd85cce9c3cdedc9cfa71\n",
      "Successfully built python-pptx\n",
      "Installing collected packages: python-pptx\n",
      "Successfully installed python-pptx-0.6.21\n",
      "Note: you may need to restart the kernel to use updated packages.\n"
     ]
    }
   ],
   "source": [
    "pip install python-pptx"
   ]
  },
  {
   "cell_type": "code",
   "execution_count": 3,
   "id": "35757d17-4fa1-4ba2-b215-4d746b5c6c76",
   "metadata": {},
   "outputs": [],
   "source": [
    "from pptx import Presentation"
   ]
  },
  {
   "cell_type": "code",
   "execution_count": 4,
   "id": "536477bb-6b5e-498f-bae8-cd109ba2f4c8",
   "metadata": {},
   "outputs": [],
   "source": [
    "parsed = Presentation('청년취업사관학교.pptx')"
   ]
  },
  {
   "cell_type": "code",
   "execution_count": 5,
   "id": "6f1c8a33-bcbe-43c5-9e32-097b819f1116",
   "metadata": {},
   "outputs": [
    {
     "data": {
      "text/plain": [
       "<pptx.shapes.shapetree.SlideShapes at 0x29e7ba4b790>"
      ]
     },
     "execution_count": 5,
     "metadata": {},
     "output_type": "execute_result"
    }
   ],
   "source": [
    "parsed.slides[1].shapes"
   ]
  },
  {
   "cell_type": "code",
   "execution_count": 7,
   "id": "5117f3a0-8a44-4a22-863e-1ae92523e229",
   "metadata": {},
   "outputs": [],
   "source": [
    "from pptx import Presentation\n",
    "\n",
    "prs = Presentation()\n",
    "title_slide_layout = prs.slide_layouts[0]\n",
    "slide = prs.slides.add_slide(title_slide_layout)\n",
    "title = slide.shapes.title\n",
    "subtitle = slide.placeholders[1]\n",
    "\n",
    "title.text = \"Hello, World!\"\n",
    "subtitle.text = \"python-pptx was here!\"\n",
    "\n",
    "#===================================================\n",
    "\n",
    "bullet_slide_layout = prs.slide_layouts[1]\n",
    "\n",
    "slide = prs.slides.add_slide(bullet_slide_layout)\n",
    "shapes = slide.shapes\n",
    "\n",
    "title_shape = shapes.title\n",
    "body_shape = shapes.placeholders[1]\n",
    "\n",
    "\n",
    "# 큰 제목\n",
    "title_shape.text = 'Adding a Bullet Slide'\n",
    "\n",
    "\n",
    "tf = body_shape.text_frame\n",
    "\n",
    "\n",
    "#부제목\n",
    "tf.text = 'Find the bullet slide layout'\n",
    "\n",
    "p = tf.add_paragraph()\n",
    "p.text = 'Use _TextFrame.text for first bullet'\n",
    "p.level = 1\n",
    "\n",
    "p = tf.add_paragraph()\n",
    "p.text = 'Use _TextFrame.add_paragraph() for subsequent bullets'\n",
    "p.level = 2\n",
    "\n",
    "prs.save('test.pptx')"
   ]
  },
  {
   "cell_type": "code",
   "execution_count": 8,
   "id": "ae883ee1-b105-4621-af47-a19d1d2b7c93",
   "metadata": {},
   "outputs": [],
   "source": [
    "parsed = Presentation('청년취업사관학교.pptx')"
   ]
  },
  {
   "cell_type": "code",
   "execution_count": null,
   "id": "7382f7f7-eba0-4353-acaf-ff227bd1b53f",
   "metadata": {},
   "outputs": [],
   "source": []
  },
  {
   "cell_type": "code",
   "execution_count": 18,
   "id": "de530328-16ad-42c0-b240-db495488a527",
   "metadata": {},
   "outputs": [],
   "source": [
    "from pptx import Presentation\n",
    "from pptx.util import Pt\n",
    "from pptx.dml.color import RGBColor"
   ]
  },
  {
   "cell_type": "code",
   "execution_count": null,
   "id": "99e9765f-445e-4704-a25d-f1e83bbf89cb",
   "metadata": {},
   "outputs": [],
   "source": []
  },
  {
   "cell_type": "code",
   "execution_count": 22,
   "id": "f0014ccb-b58c-4d0e-8e33-7cc83e87589b",
   "metadata": {},
   "outputs": [],
   "source": [
    "for n, shape in enumerate (parsed.slides[0].shapes) :\n",
    "    if n== 0:\n",
    "        \n",
    "        tf = shape.text_frame\n",
    "        tf.clear()\n",
    "        para = tf.paragraphs[0]\n",
    "        run= para.add_run()\n",
    "        run.text = '청년취업사관학교2'\n",
    "        font = run.font\n",
    "        font.size = Pt(30)\n",
    "        font.color.regb = RGBColor(100,100,100)\n",
    "        tf.text='text'\n",
    "parsed.save('청년취업사관학교2.pptx')\n"
   ]
  },
  {
   "cell_type": "code",
   "execution_count": null,
   "id": "319bc427-69fb-4b36-a328-00972146d468",
   "metadata": {},
   "outputs": [],
   "source": []
  }
 ],
 "metadata": {
  "kernelspec": {
   "display_name": "Python 3 (ipykernel)",
   "language": "python",
   "name": "python3"
  },
  "language_info": {
   "codemirror_mode": {
    "name": "ipython",
    "version": 3
   },
   "file_extension": ".py",
   "mimetype": "text/x-python",
   "name": "python",
   "nbconvert_exporter": "python",
   "pygments_lexer": "ipython3",
   "version": "3.9.12"
  }
 },
 "nbformat": 4,
 "nbformat_minor": 5
}
