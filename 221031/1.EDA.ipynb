{
 "cells": [
  {
   "cell_type": "code",
   "execution_count": 1,
   "id": "d1f7b026-13f6-4585-bb8c-6ce91102e1aa",
   "metadata": {},
   "outputs": [],
   "source": [
    "import pandas as pd\n",
    "import numpy as np"
   ]
  },
  {
   "cell_type": "code",
   "execution_count": 2,
   "id": "90a983ea-1332-4e7e-8259-5368cf6b50ce",
   "metadata": {},
   "outputs": [],
   "source": [
    "sales = pd.read_csv('sales.csv')"
   ]
  },
  {
   "cell_type": "code",
   "execution_count": 3,
   "id": "9d96d032-e309-48aa-a4e6-1aed9f610761",
   "metadata": {},
   "outputs": [
    {
     "name": "stdout",
     "output_type": "stream",
     "text": [
      "<class 'pandas.core.frame.DataFrame'>\n",
      "RangeIndex: 2935849 entries, 0 to 2935848\n",
      "Data columns (total 5 columns):\n",
      " #   Column        Dtype  \n",
      "---  ------        -----  \n",
      " 0   date          object \n",
      " 1   shop_id       int64  \n",
      " 2   item_id       int64  \n",
      " 3   item_price    float64\n",
      " 4   item_cnt_day  float64\n",
      "dtypes: float64(2), int64(2), object(1)\n",
      "memory usage: 112.0+ MB\n"
     ]
    }
   ],
   "source": [
    "sales.info()"
   ]
  },
  {
   "cell_type": "raw",
   "id": "ce8062ab-cb2d-45fb-99d4-f3ef358b88a3",
   "metadata": {},
   "source": [
    "#date :판매날자 / shop_id : 판매장소 / item_id : 물품명\n",
    " item_price : 물품가격/ item_cnt_day : 일당 팔린 개수"
   ]
  },
  {
   "cell_type": "code",
   "execution_count": 4,
   "id": "dcc567bd-3c68-4997-b96a-40d617e0c549",
   "metadata": {},
   "outputs": [
    {
     "data": {
      "text/html": [
       "<div>\n",
       "<style scoped>\n",
       "    .dataframe tbody tr th:only-of-type {\n",
       "        vertical-align: middle;\n",
       "    }\n",
       "\n",
       "    .dataframe tbody tr th {\n",
       "        vertical-align: top;\n",
       "    }\n",
       "\n",
       "    .dataframe thead th {\n",
       "        text-align: right;\n",
       "    }\n",
       "</style>\n",
       "<table border=\"1\" class=\"dataframe\">\n",
       "  <thead>\n",
       "    <tr style=\"text-align: right;\">\n",
       "      <th></th>\n",
       "      <th>date</th>\n",
       "      <th>shop_id</th>\n",
       "      <th>item_id</th>\n",
       "      <th>item_price</th>\n",
       "      <th>item_cnt_day</th>\n",
       "    </tr>\n",
       "  </thead>\n",
       "  <tbody>\n",
       "    <tr>\n",
       "      <th>0</th>\n",
       "      <td>02.01.2013</td>\n",
       "      <td>59</td>\n",
       "      <td>22154</td>\n",
       "      <td>999.0</td>\n",
       "      <td>1.0</td>\n",
       "    </tr>\n",
       "  </tbody>\n",
       "</table>\n",
       "</div>"
      ],
      "text/plain": [
       "         date  shop_id  item_id  item_price  item_cnt_day\n",
       "0  02.01.2013       59    22154       999.0           1.0"
      ]
     },
     "execution_count": 4,
     "metadata": {},
     "output_type": "execute_result"
    }
   ],
   "source": [
    "sales.head(1)"
   ]
  },
  {
   "cell_type": "code",
   "execution_count": 5,
   "id": "d6ddfcf9-5432-4b9c-9748-9c0bd488583f",
   "metadata": {},
   "outputs": [
    {
     "data": {
      "text/plain": [
       "array(['02.01.2013', '03.01.2013', '05.01.2013', ..., '28.10.2015',\n",
       "       '25.10.2015', '13.10.2015'], dtype=object)"
      ]
     },
     "execution_count": 5,
     "metadata": {},
     "output_type": "execute_result"
    }
   ],
   "source": [
    "sales['date'].unique()"
   ]
  },
  {
   "cell_type": "code",
   "execution_count": 6,
   "id": "3be9793f-8d09-4ccb-abb7-b34947c4ca21",
   "metadata": {},
   "outputs": [
    {
     "data": {
      "text/html": [
       "<div>\n",
       "<style scoped>\n",
       "    .dataframe tbody tr th:only-of-type {\n",
       "        vertical-align: middle;\n",
       "    }\n",
       "\n",
       "    .dataframe tbody tr th {\n",
       "        vertical-align: top;\n",
       "    }\n",
       "\n",
       "    .dataframe thead th {\n",
       "        text-align: right;\n",
       "    }\n",
       "</style>\n",
       "<table border=\"1\" class=\"dataframe\">\n",
       "  <thead>\n",
       "    <tr style=\"text-align: right;\">\n",
       "      <th></th>\n",
       "      <th>date</th>\n",
       "      <th>shop_id</th>\n",
       "      <th>item_id</th>\n",
       "      <th>item_price</th>\n",
       "      <th>item_cnt_day</th>\n",
       "    </tr>\n",
       "  </thead>\n",
       "  <tbody>\n",
       "    <tr>\n",
       "      <th>16164</th>\n",
       "      <td>01.01.2013</td>\n",
       "      <td>28</td>\n",
       "      <td>11613</td>\n",
       "      <td>1499.0</td>\n",
       "      <td>1.0</td>\n",
       "    </tr>\n",
       "    <tr>\n",
       "      <th>101474</th>\n",
       "      <td>01.01.2013</td>\n",
       "      <td>51</td>\n",
       "      <td>10283</td>\n",
       "      <td>667.0</td>\n",
       "      <td>1.0</td>\n",
       "    </tr>\n",
       "    <tr>\n",
       "      <th>10197</th>\n",
       "      <td>01.01.2013</td>\n",
       "      <td>19</td>\n",
       "      <td>2828</td>\n",
       "      <td>499.0</td>\n",
       "      <td>1.0</td>\n",
       "    </tr>\n",
       "    <tr>\n",
       "      <th>101457</th>\n",
       "      <td>01.01.2013</td>\n",
       "      <td>51</td>\n",
       "      <td>10390</td>\n",
       "      <td>150.0</td>\n",
       "      <td>1.0</td>\n",
       "    </tr>\n",
       "    <tr>\n",
       "      <th>101455</th>\n",
       "      <td>01.01.2013</td>\n",
       "      <td>51</td>\n",
       "      <td>10591</td>\n",
       "      <td>110.0</td>\n",
       "      <td>1.0</td>\n",
       "    </tr>\n",
       "    <tr>\n",
       "      <th>...</th>\n",
       "      <td>...</td>\n",
       "      <td>...</td>\n",
       "      <td>...</td>\n",
       "      <td>...</td>\n",
       "      <td>...</td>\n",
       "    </tr>\n",
       "    <tr>\n",
       "      <th>2263531</th>\n",
       "      <td>31.12.2014</td>\n",
       "      <td>10</td>\n",
       "      <td>15784</td>\n",
       "      <td>195.0</td>\n",
       "      <td>1.0</td>\n",
       "    </tr>\n",
       "    <tr>\n",
       "      <th>2238358</th>\n",
       "      <td>31.12.2014</td>\n",
       "      <td>31</td>\n",
       "      <td>18624</td>\n",
       "      <td>499.0</td>\n",
       "      <td>1.0</td>\n",
       "    </tr>\n",
       "    <tr>\n",
       "      <th>2238360</th>\n",
       "      <td>31.12.2014</td>\n",
       "      <td>31</td>\n",
       "      <td>18622</td>\n",
       "      <td>169.0</td>\n",
       "      <td>1.0</td>\n",
       "    </tr>\n",
       "    <tr>\n",
       "      <th>2210313</th>\n",
       "      <td>31.12.2014</td>\n",
       "      <td>59</td>\n",
       "      <td>9412</td>\n",
       "      <td>299.0</td>\n",
       "      <td>1.0</td>\n",
       "    </tr>\n",
       "    <tr>\n",
       "      <th>2239634</th>\n",
       "      <td>31.12.2014</td>\n",
       "      <td>34</td>\n",
       "      <td>15336</td>\n",
       "      <td>529.0</td>\n",
       "      <td>1.0</td>\n",
       "    </tr>\n",
       "  </tbody>\n",
       "</table>\n",
       "<p>2935849 rows × 5 columns</p>\n",
       "</div>"
      ],
      "text/plain": [
       "               date  shop_id  item_id  item_price  item_cnt_day\n",
       "16164    01.01.2013       28    11613      1499.0           1.0\n",
       "101474   01.01.2013       51    10283       667.0           1.0\n",
       "10197    01.01.2013       19     2828       499.0           1.0\n",
       "101457   01.01.2013       51    10390       150.0           1.0\n",
       "101455   01.01.2013       51    10591       110.0           1.0\n",
       "...             ...      ...      ...         ...           ...\n",
       "2263531  31.12.2014       10    15784       195.0           1.0\n",
       "2238358  31.12.2014       31    18624       499.0           1.0\n",
       "2238360  31.12.2014       31    18622       169.0           1.0\n",
       "2210313  31.12.2014       59     9412       299.0           1.0\n",
       "2239634  31.12.2014       34    15336       529.0           1.0\n",
       "\n",
       "[2935849 rows x 5 columns]"
      ]
     },
     "execution_count": 6,
     "metadata": {},
     "output_type": "execute_result"
    }
   ],
   "source": [
    "sales.sort_values('date')"
   ]
  },
  {
   "cell_type": "code",
   "execution_count": 7,
   "id": "71f1bdca-6bd8-465e-afb9-827234f093b0",
   "metadata": {
    "tags": []
   },
   "outputs": [
    {
     "data": {
      "text/plain": [
       "shop_id\n",
       "31         235636\n",
       "25         186104\n",
       "54         143480\n",
       "28         142234\n",
       "57         117428\n",
       "42         109253\n",
       "27         105366\n",
       "6           82663\n",
       "58          71441\n",
       "56          69573\n",
       "46          66321\n",
       "50          65173\n",
       "19          63911\n",
       "15          59511\n",
       "35          58445\n",
       "21          58133\n",
       "7           58076\n",
       "47          56695\n",
       "26          53910\n",
       "18          53227\n",
       "24          53032\n",
       "53          52921\n",
       "16          52734\n",
       "30          50860\n",
       "29          49225\n",
       "38          46013\n",
       "22          45434\n",
       "51          44433\n",
       "52          43502\n",
       "59          42108\n",
       "41          41967\n",
       "37          39638\n",
       "44          39530\n",
       "43          39282\n",
       "4           38242\n",
       "5           38179\n",
       "14          36979\n",
       "45          35891\n",
       "55          34769\n",
       "12          34694\n",
       "2           25991\n",
       "3           25532\n",
       "17          22950\n",
       "48          21612\n",
       "10          21397\n",
       "13          17824\n",
       "49          15849\n",
       "39          13440\n",
       "0            9857\n",
       "32           7947\n",
       "23           6963\n",
       "34           5752\n",
       "1            5678\n",
       "33           5027\n",
       "40           4257\n",
       "9            3751\n",
       "8            3412\n",
       "20           1792\n",
       "11            499\n",
       "36            306\n",
       "dtype: int64"
      ]
     },
     "execution_count": 7,
     "metadata": {},
     "output_type": "execute_result"
    }
   ],
   "source": [
    "sales.value_counts(['shop_id'])"
   ]
  },
  {
   "cell_type": "code",
   "execution_count": 8,
   "id": "543752bb-1622-42d2-82d4-9981b0ba2cda",
   "metadata": {},
   "outputs": [
    {
     "data": {
      "text/plain": [
       "60"
      ]
     },
     "execution_count": 8,
     "metadata": {},
     "output_type": "execute_result"
    }
   ],
   "source": [
    "len(sales['shop_id'].unique()) #판매장소의 수"
   ]
  },
  {
   "cell_type": "code",
   "execution_count": 1,
   "id": "33dbc658-d1c5-4def-bf22-d962dead0d16",
   "metadata": {
    "collapsed": true,
    "jupyter": {
     "outputs_hidden": true
    },
    "tags": []
   },
   "outputs": [
    {
     "ename": "NameError",
     "evalue": "name 'sales' is not defined",
     "output_type": "error",
     "traceback": [
      "\u001b[1;31m---------------------------------------------------------------------------\u001b[0m",
      "\u001b[1;31mNameError\u001b[0m                                 Traceback (most recent call last)",
      "\u001b[1;32m~\\AppData\\Local\\Temp\\ipykernel_21816\\308070910.py\u001b[0m in \u001b[0;36m<module>\u001b[1;34m\u001b[0m\n\u001b[1;32m----> 1\u001b[1;33m \u001b[0msales\u001b[0m\u001b[1;33m.\u001b[0m\u001b[0mvalue_counts\u001b[0m\u001b[1;33m(\u001b[0m\u001b[1;33m[\u001b[0m\u001b[1;34m'item_id'\u001b[0m\u001b[1;33m]\u001b[0m\u001b[1;33m)\u001b[0m \u001b[1;31m#항목별판매량\u001b[0m\u001b[1;33m\u001b[0m\u001b[1;33m\u001b[0m\u001b[0m\n\u001b[0m",
      "\u001b[1;31mNameError\u001b[0m: name 'sales' is not defined"
     ]
    }
   ],
   "source": [
    "sales.value_counts(['item_id'])"
   ]
  },
  {
   "cell_type": "code",
   "execution_count": 10,
   "id": "852b1f76-0d27-494d-9987-f08437d9bb83",
   "metadata": {},
   "outputs": [
    {
     "data": {
      "text/plain": [
       "21807"
      ]
     },
     "execution_count": 10,
     "metadata": {},
     "output_type": "execute_result"
    }
   ],
   "source": [
    "len(sales['item_id'].unique())"
   ]
  },
  {
   "cell_type": "code",
   "execution_count": 11,
   "id": "ab84fbba-889e-4b4f-ba45-d28bff469388",
   "metadata": {
    "tags": []
   },
   "outputs": [
    {
     "data": {
      "text/plain": [
       "date            0\n",
       "shop_id         0\n",
       "item_id         0\n",
       "item_price      0\n",
       "item_cnt_day    0\n",
       "dtype: int64"
      ]
     },
     "execution_count": 11,
     "metadata": {},
     "output_type": "execute_result"
    }
   ],
   "source": [
    "sales.isnull().sum()"
   ]
  },
  {
   "cell_type": "code",
   "execution_count": 12,
   "id": "b4a754b8-7076-4c2d-a90c-1df1c017ceee",
   "metadata": {
    "tags": []
   },
   "outputs": [
    {
     "data": {
      "text/plain": [
       "item_price   \n",
       "299.000000       291352\n",
       "399.000000       242603\n",
       "149.000000       218432\n",
       "199.000000       184044\n",
       "349.000000       101461\n",
       "                  ...  \n",
       "709.700000            1\n",
       "709.920000            1\n",
       "710.333333            1\n",
       "710.450000            1\n",
       "307980.000000         1\n",
       "Length: 19993, dtype: int64"
      ]
     },
     "execution_count": 12,
     "metadata": {},
     "output_type": "execute_result"
    }
   ],
   "source": [
    "sales.value_counts(['item_price'])"
   ]
  },
  {
   "cell_type": "code",
   "execution_count": 13,
   "id": "c020a1b8-bd32-41d2-9a13-662056c6451d",
   "metadata": {},
   "outputs": [
    {
     "data": {
      "text/plain": [
       "19993"
      ]
     },
     "execution_count": 13,
     "metadata": {},
     "output_type": "execute_result"
    }
   ],
   "source": [
    "len(sales['item_price'].unique())"
   ]
  },
  {
   "cell_type": "code",
   "execution_count": 14,
   "id": "8f6e9648-3781-49cd-9823-b180f024860d",
   "metadata": {},
   "outputs": [
    {
     "data": {
      "text/plain": [
       "count    2.935849e+06\n",
       "mean     8.908532e+02\n",
       "std      1.729800e+03\n",
       "min     -1.000000e+00\n",
       "25%      2.490000e+02\n",
       "50%      3.990000e+02\n",
       "75%      9.990000e+02\n",
       "max      3.079800e+05\n",
       "Name: item_price, dtype: float64"
      ]
     },
     "execution_count": 14,
     "metadata": {},
     "output_type": "execute_result"
    }
   ],
   "source": [
    "sales['item_price'].describe() # 이상치 발견!!"
   ]
  },
  {
   "cell_type": "code",
   "execution_count": 15,
   "id": "a8d06e6e-8a8a-4c98-93a6-2e9f0c25680c",
   "metadata": {},
   "outputs": [
    {
     "data": {
      "text/html": [
       "<div>\n",
       "<style scoped>\n",
       "    .dataframe tbody tr th:only-of-type {\n",
       "        vertical-align: middle;\n",
       "    }\n",
       "\n",
       "    .dataframe tbody tr th {\n",
       "        vertical-align: top;\n",
       "    }\n",
       "\n",
       "    .dataframe thead th {\n",
       "        text-align: right;\n",
       "    }\n",
       "</style>\n",
       "<table border=\"1\" class=\"dataframe\">\n",
       "  <thead>\n",
       "    <tr style=\"text-align: right;\">\n",
       "      <th></th>\n",
       "      <th>date</th>\n",
       "      <th>shop_id</th>\n",
       "      <th>item_id</th>\n",
       "      <th>item_price</th>\n",
       "      <th>item_cnt_day</th>\n",
       "    </tr>\n",
       "  </thead>\n",
       "  <tbody>\n",
       "    <tr>\n",
       "      <th>484683</th>\n",
       "      <td>15.05.2013</td>\n",
       "      <td>32</td>\n",
       "      <td>2973</td>\n",
       "      <td>-1.0</td>\n",
       "      <td>1.0</td>\n",
       "    </tr>\n",
       "  </tbody>\n",
       "</table>\n",
       "</div>"
      ],
      "text/plain": [
       "              date  shop_id  item_id  item_price  item_cnt_day\n",
       "484683  15.05.2013       32     2973        -1.0           1.0"
      ]
     },
     "execution_count": 15,
     "metadata": {},
     "output_type": "execute_result"
    }
   ],
   "source": [
    "sales[sales['item_price'] <= 0]"
   ]
  },
  {
   "cell_type": "code",
   "execution_count": 16,
   "id": "2ddee1ca-0809-45a6-95e1-844b155713f3",
   "metadata": {},
   "outputs": [
    {
     "data": {
      "text/html": [
       "<div>\n",
       "<style scoped>\n",
       "    .dataframe tbody tr th:only-of-type {\n",
       "        vertical-align: middle;\n",
       "    }\n",
       "\n",
       "    .dataframe tbody tr th {\n",
       "        vertical-align: top;\n",
       "    }\n",
       "\n",
       "    .dataframe thead th {\n",
       "        text-align: right;\n",
       "    }\n",
       "</style>\n",
       "<table border=\"1\" class=\"dataframe\">\n",
       "  <thead>\n",
       "    <tr style=\"text-align: right;\">\n",
       "      <th></th>\n",
       "      <th>date</th>\n",
       "      <th>shop_id</th>\n",
       "      <th>item_id</th>\n",
       "      <th>item_price</th>\n",
       "      <th>item_cnt_day</th>\n",
       "    </tr>\n",
       "  </thead>\n",
       "  <tbody>\n",
       "    <tr>\n",
       "      <th>1163158</th>\n",
       "      <td>13.12.2013</td>\n",
       "      <td>12</td>\n",
       "      <td>6066</td>\n",
       "      <td>307980.0</td>\n",
       "      <td>1.0</td>\n",
       "    </tr>\n",
       "  </tbody>\n",
       "</table>\n",
       "</div>"
      ],
      "text/plain": [
       "               date  shop_id  item_id  item_price  item_cnt_day\n",
       "1163158  13.12.2013       12     6066    307980.0           1.0"
      ]
     },
     "execution_count": 16,
     "metadata": {},
     "output_type": "execute_result"
    }
   ],
   "source": [
    "sales[sales['item_price'] ==sales['item_price'].max()] #가장 비싼값의 물건을 보기"
   ]
  },
  {
   "cell_type": "code",
   "execution_count": 17,
   "id": "2fdb4eb6-c180-49e7-8d2e-413a4f9ab49a",
   "metadata": {},
   "outputs": [
    {
     "data": {
      "text/html": [
       "<div>\n",
       "<style scoped>\n",
       "    .dataframe tbody tr th:only-of-type {\n",
       "        vertical-align: middle;\n",
       "    }\n",
       "\n",
       "    .dataframe tbody tr th {\n",
       "        vertical-align: top;\n",
       "    }\n",
       "\n",
       "    .dataframe thead th {\n",
       "        text-align: right;\n",
       "    }\n",
       "</style>\n",
       "<table border=\"1\" class=\"dataframe\">\n",
       "  <thead>\n",
       "    <tr style=\"text-align: right;\">\n",
       "      <th></th>\n",
       "      <th>date</th>\n",
       "      <th>shop_id</th>\n",
       "      <th>item_id</th>\n",
       "      <th>item_price</th>\n",
       "      <th>item_cnt_day</th>\n",
       "    </tr>\n",
       "  </thead>\n",
       "  <tbody>\n",
       "    <tr>\n",
       "      <th>1163158</th>\n",
       "      <td>13.12.2013</td>\n",
       "      <td>12</td>\n",
       "      <td>6066</td>\n",
       "      <td>307980.0</td>\n",
       "      <td>1.0</td>\n",
       "    </tr>\n",
       "  </tbody>\n",
       "</table>\n",
       "</div>"
      ],
      "text/plain": [
       "               date  shop_id  item_id  item_price  item_cnt_day\n",
       "1163158  13.12.2013       12     6066    307980.0           1.0"
      ]
     },
     "execution_count": 17,
     "metadata": {},
     "output_type": "execute_result"
    }
   ],
   "source": [
    "sales[sales['item_id'] ==6066]"
   ]
  },
  {
   "cell_type": "code",
   "execution_count": 18,
   "id": "df2ca3b3-99e5-4c43-8532-6a9481e324cd",
   "metadata": {
    "tags": []
   },
   "outputs": [
    {
     "data": {
      "text/html": [
       "<div>\n",
       "<style scoped>\n",
       "    .dataframe tbody tr th:only-of-type {\n",
       "        vertical-align: middle;\n",
       "    }\n",
       "\n",
       "    .dataframe tbody tr th {\n",
       "        vertical-align: top;\n",
       "    }\n",
       "\n",
       "    .dataframe thead th {\n",
       "        text-align: right;\n",
       "    }\n",
       "</style>\n",
       "<table border=\"1\" class=\"dataframe\">\n",
       "  <thead>\n",
       "    <tr style=\"text-align: right;\">\n",
       "      <th></th>\n",
       "      <th>date</th>\n",
       "      <th>shop_id</th>\n",
       "      <th>item_id</th>\n",
       "      <th>item_price</th>\n",
       "      <th>item_cnt_day</th>\n",
       "    </tr>\n",
       "  </thead>\n",
       "  <tbody>\n",
       "    <tr>\n",
       "      <th>352</th>\n",
       "      <td>15.01.2013</td>\n",
       "      <td>25</td>\n",
       "      <td>2973</td>\n",
       "      <td>2499.00</td>\n",
       "      <td>13.0</td>\n",
       "    </tr>\n",
       "    <tr>\n",
       "      <th>353</th>\n",
       "      <td>16.01.2013</td>\n",
       "      <td>25</td>\n",
       "      <td>2973</td>\n",
       "      <td>2499.00</td>\n",
       "      <td>5.0</td>\n",
       "    </tr>\n",
       "    <tr>\n",
       "      <th>354</th>\n",
       "      <td>17.01.2013</td>\n",
       "      <td>25</td>\n",
       "      <td>2973</td>\n",
       "      <td>2499.00</td>\n",
       "      <td>3.0</td>\n",
       "    </tr>\n",
       "    <tr>\n",
       "      <th>355</th>\n",
       "      <td>18.01.2013</td>\n",
       "      <td>25</td>\n",
       "      <td>2973</td>\n",
       "      <td>2499.00</td>\n",
       "      <td>2.0</td>\n",
       "    </tr>\n",
       "    <tr>\n",
       "      <th>356</th>\n",
       "      <td>19.01.2013</td>\n",
       "      <td>25</td>\n",
       "      <td>2973</td>\n",
       "      <td>2499.00</td>\n",
       "      <td>3.0</td>\n",
       "    </tr>\n",
       "    <tr>\n",
       "      <th>...</th>\n",
       "      <td>...</td>\n",
       "      <td>...</td>\n",
       "      <td>...</td>\n",
       "      <td>...</td>\n",
       "      <td>...</td>\n",
       "    </tr>\n",
       "    <tr>\n",
       "      <th>1765321</th>\n",
       "      <td>22.06.2014</td>\n",
       "      <td>57</td>\n",
       "      <td>2973</td>\n",
       "      <td>1249.50</td>\n",
       "      <td>1.0</td>\n",
       "    </tr>\n",
       "    <tr>\n",
       "      <th>1782298</th>\n",
       "      <td>09.06.2014</td>\n",
       "      <td>47</td>\n",
       "      <td>2973</td>\n",
       "      <td>1249.00</td>\n",
       "      <td>1.0</td>\n",
       "    </tr>\n",
       "    <tr>\n",
       "      <th>1851765</th>\n",
       "      <td>04.07.2014</td>\n",
       "      <td>26</td>\n",
       "      <td>2973</td>\n",
       "      <td>1249.50</td>\n",
       "      <td>1.0</td>\n",
       "    </tr>\n",
       "    <tr>\n",
       "      <th>1923837</th>\n",
       "      <td>06.08.2014</td>\n",
       "      <td>6</td>\n",
       "      <td>2973</td>\n",
       "      <td>1249.50</td>\n",
       "      <td>1.0</td>\n",
       "    </tr>\n",
       "    <tr>\n",
       "      <th>2131937</th>\n",
       "      <td>20.11.2014</td>\n",
       "      <td>51</td>\n",
       "      <td>2973</td>\n",
       "      <td>1832.37</td>\n",
       "      <td>1.0</td>\n",
       "    </tr>\n",
       "  </tbody>\n",
       "</table>\n",
       "<p>780 rows × 5 columns</p>\n",
       "</div>"
      ],
      "text/plain": [
       "               date  shop_id  item_id  item_price  item_cnt_day\n",
       "352      15.01.2013       25     2973     2499.00          13.0\n",
       "353      16.01.2013       25     2973     2499.00           5.0\n",
       "354      17.01.2013       25     2973     2499.00           3.0\n",
       "355      18.01.2013       25     2973     2499.00           2.0\n",
       "356      19.01.2013       25     2973     2499.00           3.0\n",
       "...             ...      ...      ...         ...           ...\n",
       "1765321  22.06.2014       57     2973     1249.50           1.0\n",
       "1782298  09.06.2014       47     2973     1249.00           1.0\n",
       "1851765  04.07.2014       26     2973     1249.50           1.0\n",
       "1923837  06.08.2014        6     2973     1249.50           1.0\n",
       "2131937  20.11.2014       51     2973     1832.37           1.0\n",
       "\n",
       "[780 rows x 5 columns]"
      ]
     },
     "execution_count": 18,
     "metadata": {},
     "output_type": "execute_result"
    }
   ],
   "source": [
    "sales[sales['item_id'] ==2973]"
   ]
  },
  {
   "cell_type": "code",
   "execution_count": 19,
   "id": "77f749b1-126c-47c7-8f30-4ba4fa52a337",
   "metadata": {
    "tags": []
   },
   "outputs": [
    {
     "data": {
      "text/plain": [
       "31    235636\n",
       "25    186104\n",
       "54    143480\n",
       "28    142234\n",
       "57    117428\n",
       "42    109253\n",
       "27    105366\n",
       "6      82663\n",
       "58     71441\n",
       "56     69573\n",
       "46     66321\n",
       "50     65173\n",
       "19     63911\n",
       "15     59511\n",
       "35     58445\n",
       "21     58133\n",
       "7      58076\n",
       "47     56695\n",
       "26     53910\n",
       "18     53227\n",
       "24     53032\n",
       "53     52921\n",
       "16     52734\n",
       "30     50860\n",
       "29     49225\n",
       "38     46013\n",
       "22     45434\n",
       "51     44433\n",
       "52     43502\n",
       "59     42108\n",
       "41     41967\n",
       "37     39638\n",
       "44     39530\n",
       "43     39282\n",
       "4      38242\n",
       "5      38179\n",
       "14     36979\n",
       "45     35891\n",
       "55     34769\n",
       "12     34694\n",
       "2      25991\n",
       "3      25532\n",
       "17     22950\n",
       "48     21612\n",
       "10     21397\n",
       "13     17824\n",
       "49     15849\n",
       "39     13440\n",
       "0       9857\n",
       "32      7947\n",
       "23      6963\n",
       "34      5752\n",
       "1       5678\n",
       "33      5027\n",
       "40      4257\n",
       "9       3751\n",
       "8       3412\n",
       "20      1792\n",
       "11       499\n",
       "36       306\n",
       "Name: shop_id, dtype: int64"
      ]
     },
     "execution_count": 19,
     "metadata": {},
     "output_type": "execute_result"
    }
   ],
   "source": [
    "sales['shop_id'].value_counts()"
   ]
  },
  {
   "cell_type": "code",
   "execution_count": 20,
   "id": "25d4e453-f87f-44c1-84ed-d7ed80803049",
   "metadata": {},
   "outputs": [
    {
     "data": {
      "text/plain": [
       "item_cnt_day\n",
       "1.0             2629372\n",
       "2.0              194201\n",
       "3.0               47350\n",
       "4.0               19685\n",
       "5.0               10474\n",
       "                 ...   \n",
       "167.0                 1\n",
       "179.0                 1\n",
       "187.0                 1\n",
       "194.0                 1\n",
       "2169.0                1\n",
       "Length: 198, dtype: int64"
      ]
     },
     "execution_count": 20,
     "metadata": {},
     "output_type": "execute_result"
    }
   ],
   "source": [
    "sales.value_counts(['item_cnt_day'])"
   ]
  },
  {
   "cell_type": "code",
   "execution_count": 21,
   "id": "41a03e89-af09-4fc6-8a7b-8dcd0181df6c",
   "metadata": {},
   "outputs": [
    {
     "data": {
      "text/html": [
       "<div>\n",
       "<style scoped>\n",
       "    .dataframe tbody tr th:only-of-type {\n",
       "        vertical-align: middle;\n",
       "    }\n",
       "\n",
       "    .dataframe tbody tr th {\n",
       "        vertical-align: top;\n",
       "    }\n",
       "\n",
       "    .dataframe thead th {\n",
       "        text-align: right;\n",
       "    }\n",
       "</style>\n",
       "<table border=\"1\" class=\"dataframe\">\n",
       "  <thead>\n",
       "    <tr style=\"text-align: right;\">\n",
       "      <th></th>\n",
       "      <th>date</th>\n",
       "      <th>shop_id</th>\n",
       "      <th>item_id</th>\n",
       "      <th>item_price</th>\n",
       "      <th>item_cnt_day</th>\n",
       "    </tr>\n",
       "  </thead>\n",
       "  <tbody>\n",
       "    <tr>\n",
       "      <th>2909818</th>\n",
       "      <td>28.10.2015</td>\n",
       "      <td>12</td>\n",
       "      <td>11373</td>\n",
       "      <td>0.908714</td>\n",
       "      <td>2169.0</td>\n",
       "    </tr>\n",
       "  </tbody>\n",
       "</table>\n",
       "</div>"
      ],
      "text/plain": [
       "               date  shop_id  item_id  item_price  item_cnt_day\n",
       "2909818  28.10.2015       12    11373    0.908714        2169.0"
      ]
     },
     "execution_count": 21,
     "metadata": {},
     "output_type": "execute_result"
    }
   ],
   "source": [
    "sales[sales['item_cnt_day'] ==sales['item_cnt_day'].max()]"
   ]
  },
  {
   "cell_type": "code",
   "execution_count": 22,
   "id": "acec29ae-57d9-4929-8cf8-991d18b56d56",
   "metadata": {},
   "outputs": [
    {
     "data": {
      "text/html": [
       "<div>\n",
       "<style scoped>\n",
       "    .dataframe tbody tr th:only-of-type {\n",
       "        vertical-align: middle;\n",
       "    }\n",
       "\n",
       "    .dataframe tbody tr th {\n",
       "        vertical-align: top;\n",
       "    }\n",
       "\n",
       "    .dataframe thead th {\n",
       "        text-align: right;\n",
       "    }\n",
       "</style>\n",
       "<table border=\"1\" class=\"dataframe\">\n",
       "  <thead>\n",
       "    <tr style=\"text-align: right;\">\n",
       "      <th></th>\n",
       "      <th>date</th>\n",
       "      <th>shop_id</th>\n",
       "      <th>item_id</th>\n",
       "      <th>item_price</th>\n",
       "      <th>item_cnt_day</th>\n",
       "    </tr>\n",
       "  </thead>\n",
       "  <tbody>\n",
       "    <tr>\n",
       "      <th>1057907</th>\n",
       "      <td>02.11.2013</td>\n",
       "      <td>12</td>\n",
       "      <td>8023</td>\n",
       "      <td>15.0</td>\n",
       "      <td>-22.0</td>\n",
       "    </tr>\n",
       "  </tbody>\n",
       "</table>\n",
       "</div>"
      ],
      "text/plain": [
       "               date  shop_id  item_id  item_price  item_cnt_day\n",
       "1057907  02.11.2013       12     8023        15.0         -22.0"
      ]
     },
     "execution_count": 22,
     "metadata": {},
     "output_type": "execute_result"
    }
   ],
   "source": [
    "sales[sales['item_cnt_day'] ==sales['item_cnt_day'].min()]"
   ]
  },
  {
   "cell_type": "code",
   "execution_count": 23,
   "id": "c35bedff-093e-49eb-9759-c1c8339675cb",
   "metadata": {
    "tags": []
   },
   "outputs": [
    {
     "data": {
      "text/html": [
       "<div>\n",
       "<style scoped>\n",
       "    .dataframe tbody tr th:only-of-type {\n",
       "        vertical-align: middle;\n",
       "    }\n",
       "\n",
       "    .dataframe tbody tr th {\n",
       "        vertical-align: top;\n",
       "    }\n",
       "\n",
       "    .dataframe thead th {\n",
       "        text-align: right;\n",
       "    }\n",
       "</style>\n",
       "<table border=\"1\" class=\"dataframe\">\n",
       "  <thead>\n",
       "    <tr style=\"text-align: right;\">\n",
       "      <th></th>\n",
       "      <th>date</th>\n",
       "      <th>shop_id</th>\n",
       "      <th>item_id</th>\n",
       "      <th>item_price</th>\n",
       "      <th>item_cnt_day</th>\n",
       "    </tr>\n",
       "  </thead>\n",
       "  <tbody>\n",
       "    <tr>\n",
       "      <th>2</th>\n",
       "      <td>05.01.2013</td>\n",
       "      <td>25</td>\n",
       "      <td>2552</td>\n",
       "      <td>899.0</td>\n",
       "      <td>-1.0</td>\n",
       "    </tr>\n",
       "    <tr>\n",
       "      <th>148</th>\n",
       "      <td>23.01.2013</td>\n",
       "      <td>25</td>\n",
       "      <td>2321</td>\n",
       "      <td>999.0</td>\n",
       "      <td>-1.0</td>\n",
       "    </tr>\n",
       "    <tr>\n",
       "      <th>175</th>\n",
       "      <td>07.01.2013</td>\n",
       "      <td>25</td>\n",
       "      <td>2199</td>\n",
       "      <td>1449.0</td>\n",
       "      <td>-1.0</td>\n",
       "    </tr>\n",
       "    <tr>\n",
       "      <th>807</th>\n",
       "      <td>02.01.2013</td>\n",
       "      <td>25</td>\n",
       "      <td>2330</td>\n",
       "      <td>599.0</td>\n",
       "      <td>-1.0</td>\n",
       "    </tr>\n",
       "    <tr>\n",
       "      <th>1041</th>\n",
       "      <td>13.01.2013</td>\n",
       "      <td>25</td>\n",
       "      <td>5034</td>\n",
       "      <td>1989.0</td>\n",
       "      <td>-1.0</td>\n",
       "    </tr>\n",
       "    <tr>\n",
       "      <th>...</th>\n",
       "      <td>...</td>\n",
       "      <td>...</td>\n",
       "      <td>...</td>\n",
       "      <td>...</td>\n",
       "      <td>...</td>\n",
       "    </tr>\n",
       "    <tr>\n",
       "      <th>2934243</th>\n",
       "      <td>26.10.2015</td>\n",
       "      <td>25</td>\n",
       "      <td>3917</td>\n",
       "      <td>449.0</td>\n",
       "      <td>-1.0</td>\n",
       "    </tr>\n",
       "    <tr>\n",
       "      <th>2934462</th>\n",
       "      <td>18.10.2015</td>\n",
       "      <td>25</td>\n",
       "      <td>4896</td>\n",
       "      <td>6398.0</td>\n",
       "      <td>-1.0</td>\n",
       "    </tr>\n",
       "    <tr>\n",
       "      <th>2935263</th>\n",
       "      <td>05.10.2015</td>\n",
       "      <td>25</td>\n",
       "      <td>10039</td>\n",
       "      <td>249.0</td>\n",
       "      <td>-1.0</td>\n",
       "    </tr>\n",
       "    <tr>\n",
       "      <th>2935643</th>\n",
       "      <td>16.10.2015</td>\n",
       "      <td>25</td>\n",
       "      <td>7893</td>\n",
       "      <td>2990.0</td>\n",
       "      <td>-1.0</td>\n",
       "    </tr>\n",
       "    <tr>\n",
       "      <th>2935779</th>\n",
       "      <td>07.10.2015</td>\n",
       "      <td>25</td>\n",
       "      <td>7087</td>\n",
       "      <td>999.0</td>\n",
       "      <td>-1.0</td>\n",
       "    </tr>\n",
       "  </tbody>\n",
       "</table>\n",
       "<p>7356 rows × 5 columns</p>\n",
       "</div>"
      ],
      "text/plain": [
       "               date  shop_id  item_id  item_price  item_cnt_day\n",
       "2        05.01.2013       25     2552       899.0          -1.0\n",
       "148      23.01.2013       25     2321       999.0          -1.0\n",
       "175      07.01.2013       25     2199      1449.0          -1.0\n",
       "807      02.01.2013       25     2330       599.0          -1.0\n",
       "1041     13.01.2013       25     5034      1989.0          -1.0\n",
       "...             ...      ...      ...         ...           ...\n",
       "2934243  26.10.2015       25     3917       449.0          -1.0\n",
       "2934462  18.10.2015       25     4896      6398.0          -1.0\n",
       "2935263  05.10.2015       25    10039       249.0          -1.0\n",
       "2935643  16.10.2015       25     7893      2990.0          -1.0\n",
       "2935779  07.10.2015       25     7087       999.0          -1.0\n",
       "\n",
       "[7356 rows x 5 columns]"
      ]
     },
     "execution_count": 23,
     "metadata": {},
     "output_type": "execute_result"
    }
   ],
   "source": [
    "sales[sales['item_cnt_day'] <=0 ] # -값들은 이상치로 본다!"
   ]
  },
  {
   "cell_type": "code",
   "execution_count": 24,
   "id": "977dc36f-be10-45ff-b9d4-0c735a7ceed1",
   "metadata": {},
   "outputs": [
    {
     "data": {
      "text/plain": [
       "198"
      ]
     },
     "execution_count": 24,
     "metadata": {},
     "output_type": "execute_result"
    }
   ],
   "source": [
    "len(sales['item_cnt_day'].unique())"
   ]
  },
  {
   "cell_type": "code",
   "execution_count": 25,
   "id": "2db37e0a-3aae-4e43-bf5b-5d6c4c9c7452",
   "metadata": {
    "tags": []
   },
   "outputs": [
    {
     "data": {
      "text/plain": [
       "count    2.935849e+06\n",
       "mean     1.242641e+00\n",
       "std      2.618834e+00\n",
       "min     -2.200000e+01\n",
       "25%      1.000000e+00\n",
       "50%      1.000000e+00\n",
       "75%      1.000000e+00\n",
       "max      2.169000e+03\n",
       "Name: item_cnt_day, dtype: float64"
      ]
     },
     "execution_count": 25,
     "metadata": {},
     "output_type": "execute_result"
    }
   ],
   "source": [
    "sales['item_cnt_day'].describe()"
   ]
  },
  {
   "cell_type": "code",
   "execution_count": 26,
   "id": "e3962d7b-0278-4257-bece-482a8c5c47cf",
   "metadata": {
    "tags": []
   },
   "outputs": [
    {
     "data": {
      "text/plain": [
       "date      \n",
       "28.12.2013    9434\n",
       "29.12.2013    9335\n",
       "30.12.2014    9324\n",
       "30.12.2013    9138\n",
       "31.12.2014    8347\n",
       "              ... \n",
       "14.05.2015    1174\n",
       "28.04.2015    1154\n",
       "06.10.2015    1152\n",
       "13.05.2015    1128\n",
       "12.05.2015    1123\n",
       "Length: 1034, dtype: int64"
      ]
     },
     "execution_count": 26,
     "metadata": {},
     "output_type": "execute_result"
    }
   ],
   "source": [
    "sales.value_counts(['date'])"
   ]
  },
  {
   "cell_type": "code",
   "execution_count": null,
   "id": "bbe5e189-60b9-4aed-ae5b-9646d6319c1c",
   "metadata": {},
   "outputs": [],
   "source": []
  }
 ],
 "metadata": {
  "kernelspec": {
   "display_name": "Python 3 (ipykernel)",
   "language": "python",
   "name": "python3"
  },
  "language_info": {
   "codemirror_mode": {
    "name": "ipython",
    "version": 3
   },
   "file_extension": ".py",
   "mimetype": "text/x-python",
   "name": "python",
   "nbconvert_exporter": "python",
   "pygments_lexer": "ipython3",
   "version": "3.9.13"
  }
 },
 "nbformat": 4,
 "nbformat_minor": 5
}
