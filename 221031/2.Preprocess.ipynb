{
 "cells": [
  {
   "cell_type": "markdown",
   "id": "cf7e14ed-6897-406b-8230-3955052bf1af",
   "metadata": {},
   "source": [
    "## 데이터 전처리"
   ]
  },
  {
   "cell_type": "markdown",
   "id": "52d40f14-d9a9-4d58-97f2-df63b63a9ba9",
   "metadata": {},
   "source": [
    "1) 이상치 삭제하기 (item_price, item_cnt_day가 0보다 작은 값 삭제)\n",
    "2) 년(year),월(month),일(day) date를 분리하기\n",
    "3) 수입(income), 연월(y_d), 월일(m_d) 데이터 만들기"
   ]
  },
  {
   "cell_type": "raw",
   "id": "fe14e132-f419-4c9a-819d-2fb3418f485d",
   "metadata": {},
   "source": [
    "전체데이터 2928492개\n",
    "칼럼 11개\n",
    "(date, shop_id, item_id, item_price, item_cnt_day, income,\n",
    "day, month, year, y_m, m_d)"
   ]
  },
  {
   "cell_type": "code",
   "execution_count": 1,
   "id": "8b321c65-d99d-4afb-85ef-63adcab6f6b5",
   "metadata": {},
   "outputs": [],
   "source": [
    "import pandas as pd"
   ]
  },
  {
   "cell_type": "code",
   "execution_count": 2,
   "id": "e9a824b5-f088-4826-b35d-910ed4429333",
   "metadata": {},
   "outputs": [],
   "source": [
    "sales = pd.read_csv('sales.csv')"
   ]
  },
  {
   "cell_type": "markdown",
   "id": "c0a54e47-4042-4fa5-89f0-ad53117b7dda",
   "metadata": {},
   "source": [
    "1-1. 이상치 삭제하기 (item_price)"
   ]
  },
  {
   "cell_type": "code",
   "execution_count": 3,
   "id": "4364a22a-f025-4c5f-a598-f236f370f5df",
   "metadata": {},
   "outputs": [
    {
     "data": {
      "text/html": [
       "<div>\n",
       "<style scoped>\n",
       "    .dataframe tbody tr th:only-of-type {\n",
       "        vertical-align: middle;\n",
       "    }\n",
       "\n",
       "    .dataframe tbody tr th {\n",
       "        vertical-align: top;\n",
       "    }\n",
       "\n",
       "    .dataframe thead th {\n",
       "        text-align: right;\n",
       "    }\n",
       "</style>\n",
       "<table border=\"1\" class=\"dataframe\">\n",
       "  <thead>\n",
       "    <tr style=\"text-align: right;\">\n",
       "      <th></th>\n",
       "      <th>date</th>\n",
       "      <th>shop_id</th>\n",
       "      <th>item_id</th>\n",
       "      <th>item_price</th>\n",
       "      <th>item_cnt_day</th>\n",
       "    </tr>\n",
       "  </thead>\n",
       "  <tbody>\n",
       "    <tr>\n",
       "      <th>484683</th>\n",
       "      <td>15.05.2013</td>\n",
       "      <td>32</td>\n",
       "      <td>2973</td>\n",
       "      <td>-1.0</td>\n",
       "      <td>1.0</td>\n",
       "    </tr>\n",
       "  </tbody>\n",
       "</table>\n",
       "</div>"
      ],
      "text/plain": [
       "              date  shop_id  item_id  item_price  item_cnt_day\n",
       "484683  15.05.2013       32     2973        -1.0           1.0"
      ]
     },
     "execution_count": 3,
     "metadata": {},
     "output_type": "execute_result"
    }
   ],
   "source": [
    "#행 삭제\n",
    "sales[sales['item_price'] <0]"
   ]
  },
  {
   "cell_type": "code",
   "execution_count": 4,
   "id": "1fa3056b-a91b-4fa5-8d5b-db188a1f83b2",
   "metadata": {},
   "outputs": [],
   "source": [
    "sales1=sales.drop(sales[sales['item_price'] <0].index)"
   ]
  },
  {
   "cell_type": "markdown",
   "id": "97d7d58f-b76a-4dc6-a83a-ac4169c8aadb",
   "metadata": {},
   "source": [
    "1-2. 이상치 삭제하기 (item_cnt_day)"
   ]
  },
  {
   "cell_type": "code",
   "execution_count": 5,
   "id": "3abf87ab-f572-410d-966f-0e80f1c28817",
   "metadata": {},
   "outputs": [
    {
     "data": {
      "text/html": [
       "<div>\n",
       "<style scoped>\n",
       "    .dataframe tbody tr th:only-of-type {\n",
       "        vertical-align: middle;\n",
       "    }\n",
       "\n",
       "    .dataframe tbody tr th {\n",
       "        vertical-align: top;\n",
       "    }\n",
       "\n",
       "    .dataframe thead th {\n",
       "        text-align: right;\n",
       "    }\n",
       "</style>\n",
       "<table border=\"1\" class=\"dataframe\">\n",
       "  <thead>\n",
       "    <tr style=\"text-align: right;\">\n",
       "      <th></th>\n",
       "      <th>date</th>\n",
       "      <th>shop_id</th>\n",
       "      <th>item_id</th>\n",
       "      <th>item_price</th>\n",
       "      <th>item_cnt_day</th>\n",
       "    </tr>\n",
       "  </thead>\n",
       "  <tbody>\n",
       "    <tr>\n",
       "      <th>2</th>\n",
       "      <td>05.01.2013</td>\n",
       "      <td>25</td>\n",
       "      <td>2552</td>\n",
       "      <td>899.0</td>\n",
       "      <td>-1.0</td>\n",
       "    </tr>\n",
       "    <tr>\n",
       "      <th>148</th>\n",
       "      <td>23.01.2013</td>\n",
       "      <td>25</td>\n",
       "      <td>2321</td>\n",
       "      <td>999.0</td>\n",
       "      <td>-1.0</td>\n",
       "    </tr>\n",
       "    <tr>\n",
       "      <th>175</th>\n",
       "      <td>07.01.2013</td>\n",
       "      <td>25</td>\n",
       "      <td>2199</td>\n",
       "      <td>1449.0</td>\n",
       "      <td>-1.0</td>\n",
       "    </tr>\n",
       "    <tr>\n",
       "      <th>807</th>\n",
       "      <td>02.01.2013</td>\n",
       "      <td>25</td>\n",
       "      <td>2330</td>\n",
       "      <td>599.0</td>\n",
       "      <td>-1.0</td>\n",
       "    </tr>\n",
       "    <tr>\n",
       "      <th>1041</th>\n",
       "      <td>13.01.2013</td>\n",
       "      <td>25</td>\n",
       "      <td>5034</td>\n",
       "      <td>1989.0</td>\n",
       "      <td>-1.0</td>\n",
       "    </tr>\n",
       "    <tr>\n",
       "      <th>...</th>\n",
       "      <td>...</td>\n",
       "      <td>...</td>\n",
       "      <td>...</td>\n",
       "      <td>...</td>\n",
       "      <td>...</td>\n",
       "    </tr>\n",
       "    <tr>\n",
       "      <th>2934243</th>\n",
       "      <td>26.10.2015</td>\n",
       "      <td>25</td>\n",
       "      <td>3917</td>\n",
       "      <td>449.0</td>\n",
       "      <td>-1.0</td>\n",
       "    </tr>\n",
       "    <tr>\n",
       "      <th>2934462</th>\n",
       "      <td>18.10.2015</td>\n",
       "      <td>25</td>\n",
       "      <td>4896</td>\n",
       "      <td>6398.0</td>\n",
       "      <td>-1.0</td>\n",
       "    </tr>\n",
       "    <tr>\n",
       "      <th>2935263</th>\n",
       "      <td>05.10.2015</td>\n",
       "      <td>25</td>\n",
       "      <td>10039</td>\n",
       "      <td>249.0</td>\n",
       "      <td>-1.0</td>\n",
       "    </tr>\n",
       "    <tr>\n",
       "      <th>2935643</th>\n",
       "      <td>16.10.2015</td>\n",
       "      <td>25</td>\n",
       "      <td>7893</td>\n",
       "      <td>2990.0</td>\n",
       "      <td>-1.0</td>\n",
       "    </tr>\n",
       "    <tr>\n",
       "      <th>2935779</th>\n",
       "      <td>07.10.2015</td>\n",
       "      <td>25</td>\n",
       "      <td>7087</td>\n",
       "      <td>999.0</td>\n",
       "      <td>-1.0</td>\n",
       "    </tr>\n",
       "  </tbody>\n",
       "</table>\n",
       "<p>7356 rows × 5 columns</p>\n",
       "</div>"
      ],
      "text/plain": [
       "               date  shop_id  item_id  item_price  item_cnt_day\n",
       "2        05.01.2013       25     2552       899.0          -1.0\n",
       "148      23.01.2013       25     2321       999.0          -1.0\n",
       "175      07.01.2013       25     2199      1449.0          -1.0\n",
       "807      02.01.2013       25     2330       599.0          -1.0\n",
       "1041     13.01.2013       25     5034      1989.0          -1.0\n",
       "...             ...      ...      ...         ...           ...\n",
       "2934243  26.10.2015       25     3917       449.0          -1.0\n",
       "2934462  18.10.2015       25     4896      6398.0          -1.0\n",
       "2935263  05.10.2015       25    10039       249.0          -1.0\n",
       "2935643  16.10.2015       25     7893      2990.0          -1.0\n",
       "2935779  07.10.2015       25     7087       999.0          -1.0\n",
       "\n",
       "[7356 rows x 5 columns]"
      ]
     },
     "execution_count": 5,
     "metadata": {},
     "output_type": "execute_result"
    }
   ],
   "source": [
    "sales1[sales1['item_cnt_day'] <= 0]"
   ]
  },
  {
   "cell_type": "code",
   "execution_count": 6,
   "id": "2509beb4-784b-421d-a26f-1be9e6c650eb",
   "metadata": {},
   "outputs": [],
   "source": [
    "sales2=sales1.drop(sales1[sales1['item_cnt_day'] <=0].index)"
   ]
  },
  {
   "cell_type": "code",
   "execution_count": 7,
   "id": "9f690fb8-2f0e-4c2e-8147-87f095c40fd9",
   "metadata": {},
   "outputs": [
    {
     "data": {
      "text/html": [
       "<div>\n",
       "<style scoped>\n",
       "    .dataframe tbody tr th:only-of-type {\n",
       "        vertical-align: middle;\n",
       "    }\n",
       "\n",
       "    .dataframe tbody tr th {\n",
       "        vertical-align: top;\n",
       "    }\n",
       "\n",
       "    .dataframe thead th {\n",
       "        text-align: right;\n",
       "    }\n",
       "</style>\n",
       "<table border=\"1\" class=\"dataframe\">\n",
       "  <thead>\n",
       "    <tr style=\"text-align: right;\">\n",
       "      <th></th>\n",
       "      <th>date</th>\n",
       "      <th>shop_id</th>\n",
       "      <th>item_id</th>\n",
       "      <th>item_price</th>\n",
       "      <th>item_cnt_day</th>\n",
       "    </tr>\n",
       "  </thead>\n",
       "  <tbody>\n",
       "    <tr>\n",
       "      <th>0</th>\n",
       "      <td>02.01.2013</td>\n",
       "      <td>59</td>\n",
       "      <td>22154</td>\n",
       "      <td>999.00</td>\n",
       "      <td>1.0</td>\n",
       "    </tr>\n",
       "    <tr>\n",
       "      <th>1</th>\n",
       "      <td>03.01.2013</td>\n",
       "      <td>25</td>\n",
       "      <td>2552</td>\n",
       "      <td>899.00</td>\n",
       "      <td>1.0</td>\n",
       "    </tr>\n",
       "    <tr>\n",
       "      <th>3</th>\n",
       "      <td>06.01.2013</td>\n",
       "      <td>25</td>\n",
       "      <td>2554</td>\n",
       "      <td>1709.05</td>\n",
       "      <td>1.0</td>\n",
       "    </tr>\n",
       "    <tr>\n",
       "      <th>4</th>\n",
       "      <td>15.01.2013</td>\n",
       "      <td>25</td>\n",
       "      <td>2555</td>\n",
       "      <td>1099.00</td>\n",
       "      <td>1.0</td>\n",
       "    </tr>\n",
       "    <tr>\n",
       "      <th>5</th>\n",
       "      <td>10.01.2013</td>\n",
       "      <td>25</td>\n",
       "      <td>2564</td>\n",
       "      <td>349.00</td>\n",
       "      <td>1.0</td>\n",
       "    </tr>\n",
       "    <tr>\n",
       "      <th>...</th>\n",
       "      <td>...</td>\n",
       "      <td>...</td>\n",
       "      <td>...</td>\n",
       "      <td>...</td>\n",
       "      <td>...</td>\n",
       "    </tr>\n",
       "    <tr>\n",
       "      <th>2935844</th>\n",
       "      <td>10.10.2015</td>\n",
       "      <td>25</td>\n",
       "      <td>7409</td>\n",
       "      <td>299.00</td>\n",
       "      <td>1.0</td>\n",
       "    </tr>\n",
       "    <tr>\n",
       "      <th>2935845</th>\n",
       "      <td>09.10.2015</td>\n",
       "      <td>25</td>\n",
       "      <td>7460</td>\n",
       "      <td>299.00</td>\n",
       "      <td>1.0</td>\n",
       "    </tr>\n",
       "    <tr>\n",
       "      <th>2935846</th>\n",
       "      <td>14.10.2015</td>\n",
       "      <td>25</td>\n",
       "      <td>7459</td>\n",
       "      <td>349.00</td>\n",
       "      <td>1.0</td>\n",
       "    </tr>\n",
       "    <tr>\n",
       "      <th>2935847</th>\n",
       "      <td>22.10.2015</td>\n",
       "      <td>25</td>\n",
       "      <td>7440</td>\n",
       "      <td>299.00</td>\n",
       "      <td>1.0</td>\n",
       "    </tr>\n",
       "    <tr>\n",
       "      <th>2935848</th>\n",
       "      <td>03.10.2015</td>\n",
       "      <td>25</td>\n",
       "      <td>7460</td>\n",
       "      <td>299.00</td>\n",
       "      <td>1.0</td>\n",
       "    </tr>\n",
       "  </tbody>\n",
       "</table>\n",
       "<p>2928492 rows × 5 columns</p>\n",
       "</div>"
      ],
      "text/plain": [
       "               date  shop_id  item_id  item_price  item_cnt_day\n",
       "0        02.01.2013       59    22154      999.00           1.0\n",
       "1        03.01.2013       25     2552      899.00           1.0\n",
       "3        06.01.2013       25     2554     1709.05           1.0\n",
       "4        15.01.2013       25     2555     1099.00           1.0\n",
       "5        10.01.2013       25     2564      349.00           1.0\n",
       "...             ...      ...      ...         ...           ...\n",
       "2935844  10.10.2015       25     7409      299.00           1.0\n",
       "2935845  09.10.2015       25     7460      299.00           1.0\n",
       "2935846  14.10.2015       25     7459      349.00           1.0\n",
       "2935847  22.10.2015       25     7440      299.00           1.0\n",
       "2935848  03.10.2015       25     7460      299.00           1.0\n",
       "\n",
       "[2928492 rows x 5 columns]"
      ]
     },
     "execution_count": 7,
     "metadata": {},
     "output_type": "execute_result"
    }
   ],
   "source": [
    "sales2"
   ]
  },
  {
   "cell_type": "markdown",
   "id": "7990078d-8793-484b-af96-2aa5d6ee1df8",
   "metadata": {},
   "source": [
    "2. 년(year),월(month),일(day) date를 분리하기"
   ]
  },
  {
   "cell_type": "raw",
   "id": "8b0cfcb8-6ec1-40d8-8c13-7fe1c086e67c",
   "metadata": {},
   "source": [
    "sales.iloc[0]['date'].split('.')"
   ]
  },
  {
   "cell_type": "raw",
   "id": "7035315b-8891-41f0-acc3-a08eab5eaea5",
   "metadata": {},
   "source": [
    "type(sales.iloc[0]['date'].split('.'))"
   ]
  },
  {
   "cell_type": "raw",
   "id": "6e697358-9b28-42de-b787-83013428a914",
   "metadata": {},
   "source": [
    "sales.count()"
   ]
  },
  {
   "cell_type": "raw",
   "id": "3f07e569-2af7-4919-ad39-d9ddb8f85dcc",
   "metadata": {
    "jupyter": {
     "outputs_hidden": true
    },
    "tags": []
   },
   "source": [
    "\n",
    "i=0\n",
    "for i in range(sales.count()):\n",
    "    sales['day'][i] = sales.iloc[i]['date'].split('.')[0]\n",
    "    sales['month'][i] = sales.iloc[i]['date'].split('.')[1]\n",
    "    year['year'][i] = sales.iloc[i]['date'].split('.')[2]\n",
    "    i+=1"
   ]
  },
  {
   "cell_type": "raw",
   "id": "bbfca504-70da-47e7-b583-20c835d7c932",
   "metadata": {},
   "source": [
    "sales1['date']"
   ]
  },
  {
   "cell_type": "raw",
   "id": "e3e96ca8-6a21-43bb-b092-3d3349efb1ae",
   "metadata": {},
   "source": [
    "str(sales1['date']).split('.')[0]"
   ]
  },
  {
   "cell_type": "raw",
   "id": "f4a0f09c-3e3b-4bc3-8da4-232155316e21",
   "metadata": {
    "jupyter": {
     "outputs_hidden": true
    },
    "tags": []
   },
   "source": [
    "sales1['day']= str(sales1['date']).split('.')\n",
    "    "
   ]
  },
  {
   "cell_type": "raw",
   "id": "f0eafa35-4895-4f4c-a674-ce06202c2a45",
   "metadata": {
    "tags": []
   },
   "source": [
    "str(sales1['date']).split('.')"
   ]
  },
  {
   "cell_type": "raw",
   "id": "d7b5deae-3c34-4cfc-898c-5cc242fb63f6",
   "metadata": {},
   "source": [
    "정규표현식으로 해보기"
   ]
  },
  {
   "cell_type": "raw",
   "id": "d79587ee-24af-44c8-a633-c2e46f68802d",
   "metadata": {},
   "source": [
    "sales['date'].str.extract('([a-zA-Z]+),') "
   ]
  },
  {
   "cell_type": "raw",
   "id": "842eae97-9bb9-473e-b9ea-f6d5f671c2f6",
   "metadata": {},
   "source": [
    "sales['day'] = sales['date'].str.extract('([0-9]+)[.]')\n",
    "sales['month'] = sales['date'].str.extract('[.]([0-9]+)[.]')\n",
    "sales['year'] = sales['date'].str.extract('[.][0-9]+[.]([0-9]+)')"
   ]
  },
  {
   "cell_type": "code",
   "execution_count": null,
   "id": "cb413138-104b-4342-8dc5-a71523d21021",
   "metadata": {},
   "outputs": [],
   "source": []
  },
  {
   "cell_type": "code",
   "execution_count": null,
   "id": "55cec096-e459-4233-a627-c8d62d0b4a91",
   "metadata": {},
   "outputs": [],
   "source": []
  },
  {
   "cell_type": "markdown",
   "id": "8023a520-a0fe-4804-9c93-679694bfd803",
   "metadata": {},
   "source": [
    "3) 수입(income), 연월(y_d), 월일(m_d) 데이터 만들기"
   ]
  },
  {
   "cell_type": "code",
   "execution_count": 14,
   "id": "23413f27-2e97-4a60-91c2-7ce8aed5d8e7",
   "metadata": {},
   "outputs": [],
   "source": [
    "sales2['income'] = sales2['item_price'] * sales2['item_cnt_day']"
   ]
  },
  {
   "cell_type": "code",
   "execution_count": 15,
   "id": "9bbb08c7-3dd2-4369-8941-5571cca3ccfb",
   "metadata": {
    "tags": []
   },
   "outputs": [
    {
     "data": {
      "text/plain": [
       "0           999.00\n",
       "1           899.00\n",
       "3          1709.05\n",
       "4          1099.00\n",
       "5           349.00\n",
       "            ...   \n",
       "2935844     299.00\n",
       "2935845     299.00\n",
       "2935846     349.00\n",
       "2935847     299.00\n",
       "2935848     299.00\n",
       "Name: income, Length: 2928492, dtype: float64"
      ]
     },
     "execution_count": 15,
     "metadata": {},
     "output_type": "execute_result"
    }
   ],
   "source": [
    "sales2['income']"
   ]
  },
  {
   "cell_type": "code",
   "execution_count": 16,
   "id": "647085d6-f0c1-4f4c-8f5b-f1b9259e9281",
   "metadata": {},
   "outputs": [
    {
     "data": {
      "text/plain": [
       "0    02.01.2013\n",
       "Name: date, dtype: object"
      ]
     },
     "execution_count": 16,
     "metadata": {},
     "output_type": "execute_result"
    }
   ],
   "source": [
    "sales2['date'].head(1)"
   ]
  },
  {
   "cell_type": "code",
   "execution_count": 17,
   "id": "8a65f7a3-f663-4860-9d55-cdbffb9cbd01",
   "metadata": {
    "tags": []
   },
   "outputs": [
    {
     "data": {
      "text/plain": [
       "0         2013-01-02\n",
       "1         2013-01-03\n",
       "3         2013-01-06\n",
       "4         2013-01-15\n",
       "5         2013-01-10\n",
       "             ...    \n",
       "2935844   2015-10-10\n",
       "2935845   2015-10-09\n",
       "2935846   2015-10-14\n",
       "2935847   2015-10-22\n",
       "2935848   2015-10-03\n",
       "Name: date, Length: 2928492, dtype: datetime64[ns]"
      ]
     },
     "execution_count": 17,
     "metadata": {},
     "output_type": "execute_result"
    }
   ],
   "source": [
    "pd.to_datetime(sales2['date'], format = '%d.%m.%Y')"
   ]
  },
  {
   "cell_type": "code",
   "execution_count": 18,
   "id": "09aedd8d-a4bc-409b-90c1-c8d859b66570",
   "metadata": {},
   "outputs": [],
   "source": [
    "sales2[['day','month','year']] = sales2['date'].str.split('.', expand = True)"
   ]
  },
  {
   "cell_type": "code",
   "execution_count": 19,
   "id": "c4a48dce-3c11-4878-9a50-0a9f086fa802",
   "metadata": {},
   "outputs": [
    {
     "data": {
      "text/html": [
       "<div>\n",
       "<style scoped>\n",
       "    .dataframe tbody tr th:only-of-type {\n",
       "        vertical-align: middle;\n",
       "    }\n",
       "\n",
       "    .dataframe tbody tr th {\n",
       "        vertical-align: top;\n",
       "    }\n",
       "\n",
       "    .dataframe thead th {\n",
       "        text-align: right;\n",
       "    }\n",
       "</style>\n",
       "<table border=\"1\" class=\"dataframe\">\n",
       "  <thead>\n",
       "    <tr style=\"text-align: right;\">\n",
       "      <th></th>\n",
       "      <th>date</th>\n",
       "      <th>shop_id</th>\n",
       "      <th>item_id</th>\n",
       "      <th>item_price</th>\n",
       "      <th>item_cnt_day</th>\n",
       "      <th>income</th>\n",
       "      <th>day</th>\n",
       "      <th>month</th>\n",
       "      <th>year</th>\n",
       "    </tr>\n",
       "  </thead>\n",
       "  <tbody>\n",
       "    <tr>\n",
       "      <th>0</th>\n",
       "      <td>02.01.2013</td>\n",
       "      <td>59</td>\n",
       "      <td>22154</td>\n",
       "      <td>999.0</td>\n",
       "      <td>1.0</td>\n",
       "      <td>999.0</td>\n",
       "      <td>02</td>\n",
       "      <td>01</td>\n",
       "      <td>2013</td>\n",
       "    </tr>\n",
       "  </tbody>\n",
       "</table>\n",
       "</div>"
      ],
      "text/plain": [
       "         date  shop_id  item_id  item_price  item_cnt_day  income day month  \\\n",
       "0  02.01.2013       59    22154       999.0           1.0   999.0  02    01   \n",
       "\n",
       "   year  \n",
       "0  2013  "
      ]
     },
     "execution_count": 19,
     "metadata": {},
     "output_type": "execute_result"
    }
   ],
   "source": [
    "sales2.head(1)"
   ]
  },
  {
   "cell_type": "code",
   "execution_count": 22,
   "id": "e15123ec-1c2f-46d0-952a-9557b73b2dee",
   "metadata": {},
   "outputs": [],
   "source": [
    "sales2['y_m'] = sales2['year'] + ',' + sales2['month']"
   ]
  },
  {
   "cell_type": "code",
   "execution_count": 23,
   "id": "db88eaa5-dfb1-44b7-94f9-977cbdbf94dd",
   "metadata": {},
   "outputs": [],
   "source": [
    "sales2['m_d'] = sales2['month'] + ',' + sales2['day']"
   ]
  },
  {
   "cell_type": "code",
   "execution_count": 24,
   "id": "2003b0ad-47a6-4cb3-ab05-ced51fff77c7",
   "metadata": {},
   "outputs": [
    {
     "data": {
      "text/html": [
       "<div>\n",
       "<style scoped>\n",
       "    .dataframe tbody tr th:only-of-type {\n",
       "        vertical-align: middle;\n",
       "    }\n",
       "\n",
       "    .dataframe tbody tr th {\n",
       "        vertical-align: top;\n",
       "    }\n",
       "\n",
       "    .dataframe thead th {\n",
       "        text-align: right;\n",
       "    }\n",
       "</style>\n",
       "<table border=\"1\" class=\"dataframe\">\n",
       "  <thead>\n",
       "    <tr style=\"text-align: right;\">\n",
       "      <th></th>\n",
       "      <th>date</th>\n",
       "      <th>shop_id</th>\n",
       "      <th>item_id</th>\n",
       "      <th>item_price</th>\n",
       "      <th>item_cnt_day</th>\n",
       "      <th>income</th>\n",
       "      <th>day</th>\n",
       "      <th>month</th>\n",
       "      <th>year</th>\n",
       "      <th>y_m</th>\n",
       "      <th>m_d</th>\n",
       "    </tr>\n",
       "  </thead>\n",
       "  <tbody>\n",
       "    <tr>\n",
       "      <th>0</th>\n",
       "      <td>02.01.2013</td>\n",
       "      <td>59</td>\n",
       "      <td>22154</td>\n",
       "      <td>999.0</td>\n",
       "      <td>1.0</td>\n",
       "      <td>999.0</td>\n",
       "      <td>02</td>\n",
       "      <td>01</td>\n",
       "      <td>2013</td>\n",
       "      <td>2013,01</td>\n",
       "      <td>01,02</td>\n",
       "    </tr>\n",
       "  </tbody>\n",
       "</table>\n",
       "</div>"
      ],
      "text/plain": [
       "         date  shop_id  item_id  item_price  item_cnt_day  income day month  \\\n",
       "0  02.01.2013       59    22154       999.0           1.0   999.0  02    01   \n",
       "\n",
       "   year      y_m    m_d  \n",
       "0  2013  2013,01  01,02  "
      ]
     },
     "execution_count": 24,
     "metadata": {},
     "output_type": "execute_result"
    }
   ],
   "source": [
    "sales2.head(1)"
   ]
  },
  {
   "cell_type": "code",
   "execution_count": 27,
   "id": "2f961e32-4ee1-4641-95c2-8f90b77717c4",
   "metadata": {},
   "outputs": [],
   "source": [
    "sales=sales2"
   ]
  },
  {
   "cell_type": "code",
   "execution_count": 28,
   "id": "8bfda92d-f665-41fb-8a14-d2dd8fe8ed26",
   "metadata": {},
   "outputs": [
    {
     "data": {
      "text/plain": [
       "2013    1264490\n",
       "2014    1053211\n",
       "2015     610791\n",
       "Name: year, dtype: int64"
      ]
     },
     "execution_count": 28,
     "metadata": {},
     "output_type": "execute_result"
    }
   ],
   "source": [
    "sales['year'].value_counts()"
   ]
  },
  {
   "cell_type": "code",
   "execution_count": 30,
   "id": "8be7ef4a-c94b-44cd-a95a-2e222056cc1b",
   "metadata": {
    "tags": []
   },
   "outputs": [
    {
     "data": {
      "text/plain": [
       "01    302546\n",
       "02    269471\n",
       "03    283349\n",
       "04    227740\n",
       "05    224378\n",
       "06    236914\n",
       "07    234324\n",
       "08    247835\n",
       "09    219304\n",
       "10    226493\n",
       "11    182728\n",
       "12    273410\n",
       "Name: month, dtype: int64"
      ]
     },
     "execution_count": 30,
     "metadata": {},
     "output_type": "execute_result"
    }
   ],
   "source": [
    "sales['month'].value_counts().sort_index()"
   ]
  },
  {
   "cell_type": "code",
   "execution_count": 31,
   "id": "73c7a93f-7ba1-49d3-9087-dd7eded4273d",
   "metadata": {
    "collapsed": true,
    "jupyter": {
     "outputs_hidden": true
    },
    "tags": []
   },
   "outputs": [
    {
     "data": {
      "text/plain": [
       "02    103081\n",
       "07    102064\n",
       "23    101117\n",
       "22    101105\n",
       "08    100718\n",
       "21    100004\n",
       "28     99576\n",
       "27     98743\n",
       "03     98725\n",
       "06     97808\n",
       "30     97209\n",
       "20     96777\n",
       "26     95907\n",
       "05     95158\n",
       "19     94716\n",
       "04     94192\n",
       "01     94182\n",
       "25     93228\n",
       "24     93113\n",
       "16     92631\n",
       "15     92399\n",
       "17     92205\n",
       "12     92099\n",
       "14     91841\n",
       "09     91775\n",
       "13     90780\n",
       "29     90709\n",
       "18     90389\n",
       "10     89838\n",
       "11     88964\n",
       "31     67439\n",
       "Name: day, dtype: int64"
      ]
     },
     "execution_count": 31,
     "metadata": {},
     "output_type": "execute_result"
    }
   ],
   "source": [
    "sales['day'].value_counts()"
   ]
  },
  {
   "cell_type": "code",
   "execution_count": 32,
   "id": "07ba1a17-0226-4860-8479-ba393d946069",
   "metadata": {},
   "outputs": [
    {
     "data": {
      "text/plain": [
       "array(['2013,01', '2013,02', '2013,03', '2013,04', '2013,05', '2013,06',\n",
       "       '2013,07', '2013,08', '2013,09', '2013,10', '2013,11', '2013,12',\n",
       "       '2014,01', '2014,02', '2014,03', '2014,04', '2014,05', '2014,06',\n",
       "       '2014,07', '2014,08', '2014,09', '2014,10', '2014,11', '2014,12',\n",
       "       '2015,01', '2015,02', '2015,03', '2015,04', '2015,05', '2015,06',\n",
       "       '2015,07', '2015,08', '2015,09', '2015,10'], dtype=object)"
      ]
     },
     "execution_count": 32,
     "metadata": {},
     "output_type": "execute_result"
    }
   ],
   "source": [
    "sales['y_m'].unique()"
   ]
  },
  {
   "cell_type": "code",
   "execution_count": 34,
   "id": "4ff3553c-c276-48fd-818c-9a168fe0c88b",
   "metadata": {},
   "outputs": [
    {
     "data": {
      "text/plain": [
       "2013,01    115338\n",
       "2013,02    108326\n",
       "2013,03    121053\n",
       "Name: y_m, dtype: int64"
      ]
     },
     "execution_count": 34,
     "metadata": {},
     "output_type": "execute_result"
    }
   ],
   "source": [
    "sales['y_m'].value_counts().sort_index()[:3]"
   ]
  },
  {
   "cell_type": "code",
   "execution_count": 42,
   "id": "545157f0-ab4c-4971-81e9-3221c8acf496",
   "metadata": {},
   "outputs": [],
   "source": [
    "ym_mapping={}\n",
    "for value, key in enumerate(sales['y_m'].unique()):\n",
    "    ym_mapping[key] = value+1\n",
    "    #print(value, key)"
   ]
  },
  {
   "cell_type": "code",
   "execution_count": 43,
   "id": "5ed4880a-d527-458b-9037-5c82207c8297",
   "metadata": {
    "collapsed": true,
    "jupyter": {
     "outputs_hidden": true
    },
    "tags": []
   },
   "outputs": [
    {
     "data": {
      "text/plain": [
       "{'2013,01': 1,\n",
       " '2013,02': 2,\n",
       " '2013,03': 3,\n",
       " '2013,04': 4,\n",
       " '2013,05': 5,\n",
       " '2013,06': 6,\n",
       " '2013,07': 7,\n",
       " '2013,08': 8,\n",
       " '2013,09': 9,\n",
       " '2013,10': 10,\n",
       " '2013,11': 11,\n",
       " '2013,12': 12,\n",
       " '2014,01': 13,\n",
       " '2014,02': 14,\n",
       " '2014,03': 15,\n",
       " '2014,04': 16,\n",
       " '2014,05': 17,\n",
       " '2014,06': 18,\n",
       " '2014,07': 19,\n",
       " '2014,08': 20,\n",
       " '2014,09': 21,\n",
       " '2014,10': 22,\n",
       " '2014,11': 23,\n",
       " '2014,12': 24,\n",
       " '2015,01': 25,\n",
       " '2015,02': 26,\n",
       " '2015,03': 27,\n",
       " '2015,04': 28,\n",
       " '2015,05': 29,\n",
       " '2015,06': 30,\n",
       " '2015,07': 31,\n",
       " '2015,08': 32,\n",
       " '2015,09': 33,\n",
       " '2015,10': 34}"
      ]
     },
     "execution_count": 43,
     "metadata": {},
     "output_type": "execute_result"
    }
   ],
   "source": [
    "ym_mapping"
   ]
  },
  {
   "cell_type": "code",
   "execution_count": 45,
   "id": "4f034d1c-e1d9-41cb-8444-ed324e197d24",
   "metadata": {},
   "outputs": [],
   "source": [
    "ym_mapping= { key : value+1 for value, key in enumerate (sales['y_m'].unique())}"
   ]
  },
  {
   "cell_type": "code",
   "execution_count": 46,
   "id": "b9ae6005-c0a5-48e9-acd3-85b5335c38b4",
   "metadata": {
    "tags": []
   },
   "outputs": [
    {
     "data": {
      "text/plain": [
       "{'2013,01': 1,\n",
       " '2013,02': 2,\n",
       " '2013,03': 3,\n",
       " '2013,04': 4,\n",
       " '2013,05': 5,\n",
       " '2013,06': 6,\n",
       " '2013,07': 7,\n",
       " '2013,08': 8,\n",
       " '2013,09': 9,\n",
       " '2013,10': 10,\n",
       " '2013,11': 11,\n",
       " '2013,12': 12,\n",
       " '2014,01': 13,\n",
       " '2014,02': 14,\n",
       " '2014,03': 15,\n",
       " '2014,04': 16,\n",
       " '2014,05': 17,\n",
       " '2014,06': 18,\n",
       " '2014,07': 19,\n",
       " '2014,08': 20,\n",
       " '2014,09': 21,\n",
       " '2014,10': 22,\n",
       " '2014,11': 23,\n",
       " '2014,12': 24,\n",
       " '2015,01': 25,\n",
       " '2015,02': 26,\n",
       " '2015,03': 27,\n",
       " '2015,04': 28,\n",
       " '2015,05': 29,\n",
       " '2015,06': 30,\n",
       " '2015,07': 31,\n",
       " '2015,08': 32,\n",
       " '2015,09': 33,\n",
       " '2015,10': 34}"
      ]
     },
     "execution_count": 46,
     "metadata": {},
     "output_type": "execute_result"
    }
   ],
   "source": [
    "ym_mapping"
   ]
  },
  {
   "cell_type": "code",
   "execution_count": 47,
   "id": "5670026b-bd74-4a0b-a586-659d8b45bcff",
   "metadata": {},
   "outputs": [],
   "source": [
    "sales['y_m2'] = sales['y_m'].map(ym_mapping)"
   ]
  },
  {
   "cell_type": "code",
   "execution_count": 48,
   "id": "a9c2854e-d829-4fff-b239-23f72a6e9c2d",
   "metadata": {},
   "outputs": [
    {
     "data": {
      "text/plain": [
       "1    115338\n",
       "2    108326\n",
       "3    121053\n",
       "Name: y_m2, dtype: int64"
      ]
     },
     "execution_count": 48,
     "metadata": {},
     "output_type": "execute_result"
    }
   ],
   "source": [
    "sales['y_m2'].value_counts().sort_index()[:3]"
   ]
  },
  {
   "cell_type": "code",
   "execution_count": 67,
   "id": "c3312308-8b3b-4bd9-97a9-a661a23ad9d9",
   "metadata": {},
   "outputs": [],
   "source": [
    "md_mapping= { key : value+1 for value, key in enumerate (sales['m_d'].unique())}"
   ]
  },
  {
   "cell_type": "code",
   "execution_count": 80,
   "id": "84d2b78c-9a60-419f-9072-f1d61810bc8f",
   "metadata": {
    "collapsed": true,
    "jupyter": {
     "outputs_hidden": true
    },
    "tags": []
   },
   "outputs": [
    {
     "data": {
      "text/plain": [
       "{'01,02': 1,\n",
       " '01,03': 2,\n",
       " '01,06': 3,\n",
       " '01,15': 4,\n",
       " '01,10': 5,\n",
       " '01,04': 6,\n",
       " '01,11': 7,\n",
       " '01,05': 8,\n",
       " '01,07': 9,\n",
       " '01,08': 10,\n",
       " '01,13': 11,\n",
       " '01,16': 12,\n",
       " '01,26': 13,\n",
       " '01,27': 14,\n",
       " '01,09': 15,\n",
       " '01,29': 16,\n",
       " '01,12': 17,\n",
       " '01,23': 18,\n",
       " '01,25': 19,\n",
       " '01,30': 20,\n",
       " '01,19': 21,\n",
       " '01,20': 22,\n",
       " '01,24': 23,\n",
       " '01,21': 24,\n",
       " '01,22': 25,\n",
       " '01,28': 26,\n",
       " '01,14': 27,\n",
       " '01,31': 28,\n",
       " '01,17': 29,\n",
       " '01,18': 30,\n",
       " '01,01': 31,\n",
       " '02,21': 32,\n",
       " '02,14': 33,\n",
       " '02,13': 34,\n",
       " '02,24': 35,\n",
       " '02,07': 36,\n",
       " '02,02': 37,\n",
       " '02,23': 38,\n",
       " '02,09': 39,\n",
       " '02,16': 40,\n",
       " '02,15': 41,\n",
       " '02,10': 42,\n",
       " '02,20': 43,\n",
       " '02,11': 44,\n",
       " '02,22': 45,\n",
       " '02,27': 46,\n",
       " '02,05': 47,\n",
       " '02,06': 48,\n",
       " '02,04': 49,\n",
       " '02,08': 50,\n",
       " '02,19': 51,\n",
       " '02,17': 52,\n",
       " '02,18': 53,\n",
       " '02,26': 54,\n",
       " '02,12': 55,\n",
       " '02,25': 56,\n",
       " '02,28': 57,\n",
       " '02,03': 58,\n",
       " '02,01': 59,\n",
       " '03,03': 60,\n",
       " '03,06': 61,\n",
       " '03,02': 62,\n",
       " '03,17': 63,\n",
       " '03,24': 64,\n",
       " '03,10': 65,\n",
       " '03,04': 66,\n",
       " '03,26': 67,\n",
       " '03,25': 68,\n",
       " '03,15': 69,\n",
       " '03,07': 70,\n",
       " '03,01': 71,\n",
       " '03,05': 72,\n",
       " '03,31': 73,\n",
       " '03,08': 74,\n",
       " '03,29': 75,\n",
       " '03,21': 76,\n",
       " '03,16': 77,\n",
       " '03,27': 78,\n",
       " '03,30': 79,\n",
       " '03,23': 80,\n",
       " '03,22': 81,\n",
       " '03,09': 82,\n",
       " '03,19': 83,\n",
       " '03,28': 84,\n",
       " '03,18': 85,\n",
       " '03,20': 86,\n",
       " '03,14': 87,\n",
       " '03,13': 88,\n",
       " '03,11': 89,\n",
       " '03,12': 90,\n",
       " '04,16': 91,\n",
       " '04,27': 92,\n",
       " '04,29': 93,\n",
       " '04,28': 94,\n",
       " '04,06': 95,\n",
       " '04,20': 96,\n",
       " '04,03': 97,\n",
       " '04,04': 98,\n",
       " '04,10': 99,\n",
       " '04,01': 100,\n",
       " '04,22': 101,\n",
       " '04,14': 102,\n",
       " '04,02': 103,\n",
       " '04,05': 104,\n",
       " '04,07': 105,\n",
       " '04,08': 106,\n",
       " '04,24': 107,\n",
       " '04,13': 108,\n",
       " '04,30': 109,\n",
       " '04,11': 110,\n",
       " '04,25': 111,\n",
       " '04,19': 112,\n",
       " '04,23': 113,\n",
       " '04,21': 114,\n",
       " '04,17': 115,\n",
       " '04,18': 116,\n",
       " '04,26': 117,\n",
       " '04,12': 118,\n",
       " '04,15': 119,\n",
       " '04,09': 120,\n",
       " '05,10': 121,\n",
       " '05,17': 122,\n",
       " '05,04': 123,\n",
       " '05,03': 124,\n",
       " '05,22': 125,\n",
       " '05,18': 126,\n",
       " '05,11': 127,\n",
       " '05,02': 128,\n",
       " '05,20': 129,\n",
       " '05,12': 130,\n",
       " '05,19': 131,\n",
       " '05,26': 132,\n",
       " '05,09': 133,\n",
       " '05,13': 134,\n",
       " '05,05': 135,\n",
       " '05,25': 136,\n",
       " '05,01': 137,\n",
       " '05,23': 138,\n",
       " '05,08': 139,\n",
       " '05,06': 140,\n",
       " '05,24': 141,\n",
       " '05,16': 142,\n",
       " '05,14': 143,\n",
       " '05,07': 144,\n",
       " '05,21': 145,\n",
       " '05,15': 146,\n",
       " '05,28': 147,\n",
       " '05,27': 148,\n",
       " '05,31': 149,\n",
       " '05,30': 150,\n",
       " '05,29': 151,\n",
       " '06,16': 152,\n",
       " '06,14': 153,\n",
       " '06,06': 154,\n",
       " '06,15': 155,\n",
       " '06,13': 156,\n",
       " '06,23': 157,\n",
       " '06,27': 158,\n",
       " '06,28': 159,\n",
       " '06,12': 160,\n",
       " '06,18': 161,\n",
       " '06,01': 162,\n",
       " '06,09': 163,\n",
       " '06,10': 164,\n",
       " '06,25': 165,\n",
       " '06,08': 166,\n",
       " '06,03': 167,\n",
       " '06,29': 168,\n",
       " '06,02': 169,\n",
       " '06,04': 170,\n",
       " '06,11': 171,\n",
       " '06,21': 172,\n",
       " '06,19': 173,\n",
       " '06,20': 174,\n",
       " '06,07': 175,\n",
       " '06,05': 176,\n",
       " '06,30': 177,\n",
       " '06,24': 178,\n",
       " '06,26': 179,\n",
       " '06,22': 180,\n",
       " '06,17': 181,\n",
       " '07,22': 182,\n",
       " '07,27': 183,\n",
       " '07,28': 184,\n",
       " '07,01': 185,\n",
       " '07,25': 186,\n",
       " '07,13': 187,\n",
       " '07,21': 188,\n",
       " '07,07': 189,\n",
       " '07,10': 190,\n",
       " '07,26': 191,\n",
       " '07,29': 192,\n",
       " '07,08': 193,\n",
       " '07,05': 194,\n",
       " '07,23': 195,\n",
       " '07,14': 196,\n",
       " '07,02': 197,\n",
       " '07,20': 198,\n",
       " '07,30': 199,\n",
       " '07,17': 200,\n",
       " '07,11': 201,\n",
       " '07,15': 202,\n",
       " '07,18': 203,\n",
       " '07,19': 204,\n",
       " '07,24': 205,\n",
       " '07,31': 206,\n",
       " '07,06': 207,\n",
       " '07,12': 208,\n",
       " '07,04': 209,\n",
       " '07,09': 210,\n",
       " '07,03': 211,\n",
       " '07,16': 212,\n",
       " '08,25': 213,\n",
       " '08,16': 214,\n",
       " '08,22': 215,\n",
       " '08,10': 216,\n",
       " '08,01': 217,\n",
       " '08,11': 218,\n",
       " '08,05': 219,\n",
       " '08,07': 220,\n",
       " '08,09': 221,\n",
       " '08,31': 222,\n",
       " '08,28': 223,\n",
       " '08,30': 224,\n",
       " '08,19': 225,\n",
       " '08,21': 226,\n",
       " '08,18': 227,\n",
       " '08,24': 228,\n",
       " '08,20': 229,\n",
       " '08,27': 230,\n",
       " '08,04': 231,\n",
       " '08,03': 232,\n",
       " '08,12': 233,\n",
       " '08,29': 234,\n",
       " '08,23': 235,\n",
       " '08,14': 236,\n",
       " '08,13': 237,\n",
       " '08,02': 238,\n",
       " '08,26': 239,\n",
       " '08,15': 240,\n",
       " '08,17': 241,\n",
       " '08,08': 242,\n",
       " '08,06': 243,\n",
       " '09,22': 244,\n",
       " '09,30': 245,\n",
       " '09,06': 246,\n",
       " '09,21': 247,\n",
       " '09,14': 248,\n",
       " '09,12': 249,\n",
       " '09,16': 250,\n",
       " '09,02': 251,\n",
       " '09,19': 252,\n",
       " '09,11': 253,\n",
       " '09,03': 254,\n",
       " '09,20': 255,\n",
       " '09,17': 256,\n",
       " '09,15': 257,\n",
       " '09,08': 258,\n",
       " '09,07': 259,\n",
       " '09,13': 260,\n",
       " '09,24': 261,\n",
       " '09,25': 262,\n",
       " '09,27': 263,\n",
       " '09,09': 264,\n",
       " '09,18': 265,\n",
       " '09,05': 266,\n",
       " '09,26': 267,\n",
       " '09,29': 268,\n",
       " '09,28': 269,\n",
       " '09,10': 270,\n",
       " '09,23': 271,\n",
       " '09,01': 272,\n",
       " '09,04': 273,\n",
       " '10,12': 274,\n",
       " '10,29': 275,\n",
       " '10,27': 276,\n",
       " '10,26': 277,\n",
       " '10,25': 278,\n",
       " '10,09': 279,\n",
       " '10,16': 280,\n",
       " '10,15': 281,\n",
       " '10,14': 282,\n",
       " '10,06': 283,\n",
       " '10,11': 284,\n",
       " '10,18': 285,\n",
       " '10,08': 286,\n",
       " '10,05': 287,\n",
       " '10,17': 288,\n",
       " '10,01': 289,\n",
       " '10,07': 290,\n",
       " '10,28': 291,\n",
       " '10,23': 292,\n",
       " '10,21': 293,\n",
       " '10,03': 294,\n",
       " '10,13': 295,\n",
       " '10,10': 296,\n",
       " '10,31': 297,\n",
       " '10,30': 298,\n",
       " '10,22': 299,\n",
       " '10,19': 300,\n",
       " '10,04': 301,\n",
       " '10,20': 302,\n",
       " '10,02': 303,\n",
       " '10,24': 304,\n",
       " '11,06': 305,\n",
       " '11,16': 306,\n",
       " '11,14': 307,\n",
       " '11,22': 308,\n",
       " '11,30': 309,\n",
       " '11,10': 310,\n",
       " '11,07': 311,\n",
       " '11,04': 312,\n",
       " '11,02': 313,\n",
       " '11,23': 314,\n",
       " '11,01': 315,\n",
       " '11,17': 316,\n",
       " '11,03': 317,\n",
       " '11,09': 318,\n",
       " '11,29': 319,\n",
       " '11,20': 320,\n",
       " '11,24': 321,\n",
       " '11,11': 322,\n",
       " '11,15': 323,\n",
       " '11,18': 324,\n",
       " '11,25': 325,\n",
       " '11,13': 326,\n",
       " '11,21': 327,\n",
       " '11,08': 328,\n",
       " '11,05': 329,\n",
       " '11,12': 330,\n",
       " '11,28': 331,\n",
       " '11,26': 332,\n",
       " '11,19': 333,\n",
       " '11,27': 334,\n",
       " '12,04': 335,\n",
       " '12,15': 336,\n",
       " '12,22': 337,\n",
       " '12,31': 338,\n",
       " '12,18': 339,\n",
       " '12,06': 340,\n",
       " '12,03': 341,\n",
       " '12,28': 342,\n",
       " '12,26': 343,\n",
       " '12,19': 344,\n",
       " '12,11': 345,\n",
       " '12,08': 346,\n",
       " '12,09': 347,\n",
       " '12,17': 348,\n",
       " '12,16': 349,\n",
       " '12,14': 350,\n",
       " '12,13': 351,\n",
       " '12,21': 352,\n",
       " '12,12': 353,\n",
       " '12,10': 354,\n",
       " '12,29': 355,\n",
       " '12,30': 356,\n",
       " '12,25': 357,\n",
       " '12,24': 358,\n",
       " '12,07': 359,\n",
       " '12,27': 360,\n",
       " '12,05': 361,\n",
       " '12,01': 362,\n",
       " '12,20': 363,\n",
       " '12,02': 364,\n",
       " '12,23': 365}"
      ]
     },
     "execution_count": 80,
     "metadata": {},
     "output_type": "execute_result"
    }
   ],
   "source": [
    "md_mapping #md_mapping 이 정렬이 안되어있다!!"
   ]
  },
  {
   "cell_type": "code",
   "execution_count": 81,
   "id": "8997506e-6dc4-4a24-affd-678cb8e89e55",
   "metadata": {},
   "outputs": [],
   "source": [
    "md = sales['m_d'].unique()"
   ]
  },
  {
   "cell_type": "code",
   "execution_count": 79,
   "id": "e1ae99b9-78e5-4f29-b54d-a03c4677f7e4",
   "metadata": {},
   "outputs": [
    {
     "data": {
      "text/plain": [
       "numpy.ndarray"
      ]
     },
     "execution_count": 79,
     "metadata": {},
     "output_type": "execute_result"
    }
   ],
   "source": [
    "type(md)"
   ]
  },
  {
   "cell_type": "code",
   "execution_count": 82,
   "id": "6e58e3ed-9254-4a63-8437-9aa5a3d31fb5",
   "metadata": {},
   "outputs": [],
   "source": [
    "md.sort()"
   ]
  },
  {
   "cell_type": "code",
   "execution_count": 83,
   "id": "7392189e-827d-4643-ad59-3352ccc65f14",
   "metadata": {
    "collapsed": true,
    "jupyter": {
     "outputs_hidden": true
    },
    "tags": []
   },
   "outputs": [
    {
     "data": {
      "text/plain": [
       "array([  1,   2,   3,   4,   5,   6,   7,   8,   9,  10,  11,  12,  13,\n",
       "        14,  15,  16,  17,  18,  19,  20,  21,  22,  23,  24,  25,  26,\n",
       "        27,  28,  29,  30,  31,  32,  33,  34,  35,  36,  37,  38,  39,\n",
       "        40,  41,  42,  43,  44,  45,  46,  47,  48,  49,  50,  51,  52,\n",
       "        53,  54,  55,  56,  57,  58,  59,  60,  61,  62,  63,  64,  65,\n",
       "        66,  67,  68,  69,  70,  71,  72,  73,  74,  75,  76,  77,  78,\n",
       "        79,  80,  81,  82,  83,  84,  85,  86,  87,  88,  89,  90,  91,\n",
       "        92,  93,  94,  95,  96,  97,  98,  99, 100, 101, 102, 103, 104,\n",
       "       105, 106, 107, 108, 109, 110, 111, 112, 113, 114, 115, 116, 117,\n",
       "       118, 119, 120, 121, 122, 123, 124, 125, 126, 127, 128, 129, 130,\n",
       "       131, 132, 133, 134, 135, 136, 137, 138, 139, 140, 141, 142, 143,\n",
       "       144, 145, 146, 147, 148, 149, 150, 151, 152, 153, 154, 155, 156,\n",
       "       157, 158, 159, 160, 161, 162, 163, 164, 165, 166, 167, 168, 169,\n",
       "       170, 171, 172, 173, 174, 175, 176, 177, 178, 179, 180, 181, 182,\n",
       "       183, 184, 185, 186, 187, 188, 189, 190, 191, 192, 193, 194, 195,\n",
       "       196, 197, 198, 199, 200, 201, 202, 203, 204, 205, 206, 207, 208,\n",
       "       209, 210, 211, 212, 213, 214, 215, 216, 217, 218, 219, 220, 221,\n",
       "       222, 223, 224, 225, 226, 227, 228, 229, 230, 231, 232, 233, 234,\n",
       "       235, 236, 237, 238, 239, 240, 241, 242, 243, 244, 245, 246, 247,\n",
       "       248, 249, 250, 251, 252, 253, 254, 255, 256, 257, 258, 259, 260,\n",
       "       261, 262, 263, 264, 265, 266, 267, 268, 269, 270, 271, 272, 273,\n",
       "       274, 275, 276, 277, 278, 279, 280, 281, 282, 283, 284, 285, 286,\n",
       "       287, 288, 289, 290, 291, 292, 293, 294, 295, 296, 297, 298, 299,\n",
       "       300, 301, 302, 303, 304, 305, 306, 307, 308, 309, 310, 311, 312,\n",
       "       313, 314, 315, 316, 317, 318, 319, 320, 321, 322, 323, 324, 325,\n",
       "       326, 327, 328, 329, 330, 331, 332, 333, 334, 335, 336, 337, 338,\n",
       "       339, 340, 341, 342, 343, 344, 345, 346, 347, 348, 349, 350, 351,\n",
       "       352, 353, 354, 355, 356, 357, 358, 359, 360, 361, 362, 363, 364,\n",
       "       365], dtype=int64)"
      ]
     },
     "execution_count": 83,
     "metadata": {},
     "output_type": "execute_result"
    }
   ],
   "source": [
    "md"
   ]
  },
  {
   "cell_type": "code",
   "execution_count": 74,
   "id": "12c48add-c7f8-4088-ad2b-28709d33314c",
   "metadata": {},
   "outputs": [],
   "source": [
    "sales['m_d2'] = sales['m_d'].map(md_mapping)"
   ]
  },
  {
   "cell_type": "code",
   "execution_count": 75,
   "id": "e38bdba0-f7cd-4a50-a494-e1ec2e4605b0",
   "metadata": {},
   "outputs": [
    {
     "data": {
      "text/plain": [
       "1      18584\n",
       "2      17059\n",
       "3      13512\n",
       "4       6901\n",
       "5       8987\n",
       "       ...  \n",
       "361     5443\n",
       "362     5964\n",
       "363    10653\n",
       "364     4211\n",
       "365     7887\n",
       "Name: m_d2, Length: 365, dtype: int64"
      ]
     },
     "execution_count": 75,
     "metadata": {},
     "output_type": "execute_result"
    }
   ],
   "source": [
    "sales['m_d2'].value_counts().sort_index()"
   ]
  },
  {
   "cell_type": "code",
   "execution_count": 76,
   "id": "ab29f2b5-a1be-405e-9159-061c03264cfd",
   "metadata": {},
   "outputs": [],
   "source": [
    "sales.drop(columns = ['y_m','m_d'], inplace=True)"
   ]
  },
  {
   "cell_type": "code",
   "execution_count": 77,
   "id": "c463d88f-c86e-42ba-b56a-101a444db114",
   "metadata": {},
   "outputs": [],
   "source": [
    "sales.rename({'y_m2':'y_m', 'm_d2':'m_d'}, axis=1, inplace=True)"
   ]
  },
  {
   "cell_type": "code",
   "execution_count": 78,
   "id": "9cd2cc63-2f1a-40d0-9b50-093ef2a37d76",
   "metadata": {},
   "outputs": [],
   "source": [
    "sales.to_csv('sales_pre.csv', index=False)"
   ]
  },
  {
   "cell_type": "code",
   "execution_count": null,
   "id": "ae5acf85-7030-4135-b1b2-f1ff4abd1538",
   "metadata": {},
   "outputs": [],
   "source": []
  }
 ],
 "metadata": {
  "kernelspec": {
   "display_name": "Python 3 (ipykernel)",
   "language": "python",
   "name": "python3"
  },
  "language_info": {
   "codemirror_mode": {
    "name": "ipython",
    "version": 3
   },
   "file_extension": ".py",
   "mimetype": "text/x-python",
   "name": "python",
   "nbconvert_exporter": "python",
   "pygments_lexer": "ipython3",
   "version": "3.9.12"
  }
 },
 "nbformat": 4,
 "nbformat_minor": 5
}
