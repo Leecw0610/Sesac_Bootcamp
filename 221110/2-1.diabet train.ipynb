{
 "cells": [
  {
   "cell_type": "raw",
   "id": "d84a36bd-51ad-4cbf-886e-70374db0153f",
   "metadata": {},
   "source": [
    "----해설-----"
   ]
  },
  {
   "cell_type": "code",
   "execution_count": 23,
   "id": "4e5395c9-c78d-4929-8b15-ee6290d667f5",
   "metadata": {
    "tags": []
   },
   "outputs": [],
   "source": [
    "import pandas as pd\n",
    "from sklearn.svm import SVC\n",
    "import numpy as np\n",
    "from sklearn.model_selection import train_test_split\n",
    "import warnings\n",
    "warnings.filterwarnings('ignore')"
   ]
  },
  {
   "cell_type": "code",
   "execution_count": 24,
   "id": "4718c389-cab2-45aa-9428-83cf2eb79b54",
   "metadata": {},
   "outputs": [],
   "source": [
    "data = pd.read_csv('diabetes.csv')"
   ]
  },
  {
   "cell_type": "code",
   "execution_count": 25,
   "id": "241c3c7b-566c-4ed9-8257-083ce5fd6e64",
   "metadata": {},
   "outputs": [],
   "source": [
    "col_list = ['Glucose','BloodPressure','SkinThickness','Insulin','BMI']\n",
    "for col in col_list :\n",
    "    #print(col, len(data[data[col] ==0]))\n",
    "    data[col]=np.where((data[col]==0) , np.nan, data[col])\n",
    "    #1-1>>data의 0값들을 null값 처리!"
   ]
  },
  {
   "cell_type": "code",
   "execution_count": 26,
   "id": "b0858551-f205-4b92-b11d-715cc0580f59",
   "metadata": {},
   "outputs": [],
   "source": [
    "def ageRange(age) : \n",
    "    if 21 <= age < 30 :\n",
    "        return 1\n",
    "    elif 30 <= age < 40 :\n",
    "        return 2\n",
    "    elif 40 <= age < 50 :\n",
    "        return 3\n",
    "    elif 50 <= age < 60 :\n",
    "        return 4\n",
    "    elif 60 <= age < 70 :\n",
    "        return 5\n",
    "    else :\n",
    "        return 6"
   ]
  },
  {
   "cell_type": "code",
   "execution_count": 27,
   "id": "0a464d41-e01c-4c2d-8b26-82ef560fd621",
   "metadata": {},
   "outputs": [],
   "source": [
    "data['Age2'] = data['Age'].apply(ageRange) #Age를 구간별로 나눈 새로운 변수 Age2를 만듬"
   ]
  },
  {
   "cell_type": "code",
   "execution_count": 28,
   "id": "3ee68c3d-7db1-49c7-b382-6061344c39b9",
   "metadata": {},
   "outputs": [],
   "source": [
    "col_list = ['Glucose','BloodPressure','SkinThickness','Insulin','BMI']\n",
    "for col in col_list :\n",
    "    data[col].fillna(data.groupby('Age2')[col].transform('median'), inplace=True)\n",
    "    # 실제 데이터 외에 검정할때는 쓸수없다. 본래 데이터에서만 쓸수 있는..\n",
    "    # 실제 데이터는 그룹바이 적용 불가능."
   ]
  },
  {
   "cell_type": "code",
   "execution_count": null,
   "id": "bc127af9-cc0e-46d4-b4a9-c44609fdc49d",
   "metadata": {},
   "outputs": [],
   "source": []
  },
  {
   "cell_type": "code",
   "execution_count": 29,
   "id": "5f5db585-6339-4033-921f-1792e0ba6781",
   "metadata": {},
   "outputs": [
    {
     "data": {
      "text/plain": [
       "0      139.0\n",
       "1      122.0\n",
       "2      122.0\n",
       "3      109.0\n",
       "4      122.0\n",
       "       ...  \n",
       "763    136.0\n",
       "764    109.0\n",
       "765    122.0\n",
       "766    123.0\n",
       "767    109.0\n",
       "Name: Glucose, Length: 768, dtype: float64"
      ]
     },
     "execution_count": 29,
     "metadata": {},
     "output_type": "execute_result"
    }
   ],
   "source": [
    "data.groupby('Age2')['Glucose'].transform('median')"
   ]
  },
  {
   "cell_type": "code",
   "execution_count": null,
   "id": "c649f85b-b89c-402d-93cc-f0cfbca79880",
   "metadata": {},
   "outputs": [],
   "source": []
  },
  {
   "cell_type": "code",
   "execution_count": 30,
   "id": "9e7a2165-d0a6-4115-ae0d-96df2a808074",
   "metadata": {},
   "outputs": [],
   "source": [
    "model=SVC()     #모델을 변화시켜서 정확도 변화 확인!!"
   ]
  },
  {
   "cell_type": "code",
   "execution_count": 31,
   "id": "d23890a7-2fcf-4d58-88f9-882e5b9627e1",
   "metadata": {},
   "outputs": [],
   "source": [
    "x= data.drop(['Outcome','Age2'], axis=1)"
   ]
  },
  {
   "cell_type": "code",
   "execution_count": 32,
   "id": "b011a53c-281a-4fd8-baeb-5eeba90c79d6",
   "metadata": {},
   "outputs": [],
   "source": [
    "y = data['Outcome']"
   ]
  },
  {
   "cell_type": "code",
   "execution_count": 33,
   "id": "83a70af1-a906-4171-a988-cbb9c5b2cc1d",
   "metadata": {},
   "outputs": [],
   "source": [
    "x_train, x_test, y_train, y_test = train_test_split(x,y,test_size=0.2, random_state=0, stratify=y)"
   ]
  },
  {
   "cell_type": "code",
   "execution_count": 34,
   "id": "cf1965e1-716d-4002-be92-c4e36cfcbec1",
   "metadata": {},
   "outputs": [
    {
     "data": {
      "text/plain": [
       "SVC()"
      ]
     },
     "execution_count": 34,
     "metadata": {},
     "output_type": "execute_result"
    }
   ],
   "source": [
    "model.fit(x_train, y_train)"
   ]
  },
  {
   "cell_type": "code",
   "execution_count": 35,
   "id": "d146d070-77d9-4a11-8dbc-f4e1767ead50",
   "metadata": {
    "tags": []
   },
   "outputs": [
    {
     "data": {
      "text/plain": [
       "0.749185667752443"
      ]
     },
     "execution_count": 35,
     "metadata": {},
     "output_type": "execute_result"
    }
   ],
   "source": [
    "model.score(x_train, y_train)"
   ]
  },
  {
   "cell_type": "code",
   "execution_count": 36,
   "id": "4a58c564-c878-4637-b3d5-9016da1f7678",
   "metadata": {
    "tags": []
   },
   "outputs": [
    {
     "data": {
      "text/plain": [
       "0.7792207792207793"
      ]
     },
     "execution_count": 36,
     "metadata": {},
     "output_type": "execute_result"
    }
   ],
   "source": [
    "model.score(x_test, y_test)"
   ]
  },
  {
   "cell_type": "code",
   "execution_count": 37,
   "id": "035eea40-9718-4d68-a3ab-55cd209d5507",
   "metadata": {},
   "outputs": [],
   "source": [
    "import pickle"
   ]
  },
  {
   "cell_type": "code",
   "execution_count": 38,
   "id": "2dddd357-3fe7-473a-b1c6-6ff9b6902c9a",
   "metadata": {},
   "outputs": [],
   "source": [
    "with open('diabet_model.pkl', 'wb') as f :\n",
    "    pickle.dump(model, f)"
   ]
  },
  {
   "cell_type": "code",
   "execution_count": null,
   "id": "40106bc6-4281-476b-b63d-95f6d2d39af2",
   "metadata": {},
   "outputs": [],
   "source": []
  },
  {
   "cell_type": "code",
   "execution_count": 39,
   "id": "edc9a689-f2f5-4769-bb16-00d8d6b18a77",
   "metadata": {},
   "outputs": [],
   "source": [
    "index = data.groupby('Age2')['Glucose'].median().index"
   ]
  },
  {
   "cell_type": "code",
   "execution_count": 40,
   "id": "43f6fc3b-e776-49d7-bc06-b9bc7b62cfd4",
   "metadata": {},
   "outputs": [],
   "source": [
    "value = data.groupby('Age2')['Glucose'].median().values"
   ]
  },
  {
   "cell_type": "code",
   "execution_count": 41,
   "id": "f3ca461f-9d71-4c38-985f-7913b9c7beca",
   "metadata": {},
   "outputs": [],
   "source": [
    "dict_tot = {}\n",
    "for col in col_list :\n",
    "    index = data.groupby('Age2')[col].median().index\n",
    "    value = data.groupby('Age2')[col].median().values\n",
    "    temp={}\n",
    "    for i in range(len(index)) :\n",
    "        temp[index[i]] =  value[i]\n",
    "    dict_tot[col] = temp\n"
   ]
  },
  {
   "cell_type": "code",
   "execution_count": 42,
   "id": "ef5e39d4-86a7-4747-b252-3a6e069b916c",
   "metadata": {},
   "outputs": [
    {
     "data": {
      "text/plain": [
       "{'Glucose': {1: 109.0, 2: 122.0, 3: 123.0, 4: 139.0, 5: 136.0, 6: 134.0},\n",
       " 'BloodPressure': {1: 68.0, 2: 74.0, 3: 78.0, 4: 78.0, 5: 78.0, 6: 78.0},\n",
       " 'SkinThickness': {1: 27.0, 2: 32.0, 3: 31.0, 4: 28.5, 5: 31.0, 6: 25.5},\n",
       " 'Insulin': {1: 105.0, 2: 140.0, 3: 131.0, 4: 192.0, 5: 258.0, 6: 60.0},\n",
       " 'BMI': {1: 31.6, 2: 32.0, 3: 33.95, 4: 33.05, 5: 29.3, 6: 25.9}}"
      ]
     },
     "execution_count": 42,
     "metadata": {},
     "output_type": "execute_result"
    }
   ],
   "source": [
    "dict_tot"
   ]
  },
  {
   "cell_type": "code",
   "execution_count": 43,
   "id": "415cf7bb-a133-4e1b-847e-676e5721f5ab",
   "metadata": {},
   "outputs": [],
   "source": [
    "with open('dict_tot.pkl', 'wb') as f :\n",
    "    pickle.dump(dict_tot, f)"
   ]
  },
  {
   "cell_type": "code",
   "execution_count": 44,
   "id": "d43f9a90-bac6-4bf7-8c39-5ed57df886cd",
   "metadata": {},
   "outputs": [
    {
     "data": {
      "text/plain": [
       "Index(['Pregnancies', 'Glucose', 'BloodPressure', 'SkinThickness', 'Insulin',\n",
       "       'BMI', 'DiabetesPedigreeFunction', 'Age', 'Outcome', 'Age2'],\n",
       "      dtype='object')"
      ]
     },
     "execution_count": 44,
     "metadata": {},
     "output_type": "execute_result"
    }
   ],
   "source": [
    "data.columns"
   ]
  },
  {
   "cell_type": "code",
   "execution_count": null,
   "id": "7771e9fc-2f5e-404d-a8fc-1ffe1937ac27",
   "metadata": {},
   "outputs": [],
   "source": []
  },
  {
   "cell_type": "code",
   "execution_count": null,
   "id": "05fb4d0a-758f-4013-9c69-e41fa2b07540",
   "metadata": {},
   "outputs": [],
   "source": []
  },
  {
   "cell_type": "code",
   "execution_count": null,
   "id": "fa681eb8-4104-48ae-b92e-b6c8d1d6f16f",
   "metadata": {},
   "outputs": [],
   "source": []
  }
 ],
 "metadata": {
  "kernelspec": {
   "display_name": "Python 3 (ipykernel)",
   "language": "python",
   "name": "python3"
  },
  "language_info": {
   "codemirror_mode": {
    "name": "ipython",
    "version": 3
   },
   "file_extension": ".py",
   "mimetype": "text/x-python",
   "name": "python",
   "nbconvert_exporter": "python",
   "pygments_lexer": "ipython3",
   "version": "3.9.12"
  }
 },
 "nbformat": 4,
 "nbformat_minor": 5
}
