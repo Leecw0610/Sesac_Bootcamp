{
 "cells": [
  {
   "cell_type": "code",
   "execution_count": 44,
   "id": "7f4cd1bf-ada0-447a-962a-9ef672b5684e",
   "metadata": {},
   "outputs": [],
   "source": [
    "import pandas as pd\n",
    "from sklearn.svm import SVC"
   ]
  },
  {
   "cell_type": "code",
   "execution_count": 45,
   "id": "6c307739-9cf0-45ed-b06a-2f375dc03471",
   "metadata": {},
   "outputs": [],
   "source": [
    "data = pd.read_csv('diabetes.csv')"
   ]
  },
  {
   "cell_type": "raw",
   "id": "a6b148a2-e50a-4dcd-ad0e-34cc3dfffb06",
   "metadata": {},
   "source": [
    "1> 자료 살펴보기"
   ]
  },
  {
   "cell_type": "code",
   "execution_count": null,
   "id": "33766664-3d7c-44bb-91cd-10b85a1608cb",
   "metadata": {},
   "outputs": [],
   "source": [
    "data.head()"
   ]
  },
  {
   "cell_type": "code",
   "execution_count": 46,
   "id": "599c11f1-8095-414d-8cb4-3ddf8bad9958",
   "metadata": {},
   "outputs": [
    {
     "data": {
      "text/html": [
       "<div>\n",
       "<style scoped>\n",
       "    .dataframe tbody tr th:only-of-type {\n",
       "        vertical-align: middle;\n",
       "    }\n",
       "\n",
       "    .dataframe tbody tr th {\n",
       "        vertical-align: top;\n",
       "    }\n",
       "\n",
       "    .dataframe thead th {\n",
       "        text-align: right;\n",
       "    }\n",
       "</style>\n",
       "<table border=\"1\" class=\"dataframe\">\n",
       "  <thead>\n",
       "    <tr style=\"text-align: right;\">\n",
       "      <th></th>\n",
       "      <th>Pregnancies</th>\n",
       "      <th>Glucose</th>\n",
       "      <th>BloodPressure</th>\n",
       "      <th>SkinThickness</th>\n",
       "      <th>Insulin</th>\n",
       "      <th>BMI</th>\n",
       "      <th>DiabetesPedigreeFunction</th>\n",
       "      <th>Age</th>\n",
       "      <th>Outcome</th>\n",
       "    </tr>\n",
       "  </thead>\n",
       "  <tbody>\n",
       "    <tr>\n",
       "      <th>0</th>\n",
       "      <td>6</td>\n",
       "      <td>148</td>\n",
       "      <td>72</td>\n",
       "      <td>35</td>\n",
       "      <td>0</td>\n",
       "      <td>33.6</td>\n",
       "      <td>0.627</td>\n",
       "      <td>50</td>\n",
       "      <td>1</td>\n",
       "    </tr>\n",
       "    <tr>\n",
       "      <th>1</th>\n",
       "      <td>1</td>\n",
       "      <td>85</td>\n",
       "      <td>66</td>\n",
       "      <td>29</td>\n",
       "      <td>0</td>\n",
       "      <td>26.6</td>\n",
       "      <td>0.351</td>\n",
       "      <td>31</td>\n",
       "      <td>0</td>\n",
       "    </tr>\n",
       "    <tr>\n",
       "      <th>2</th>\n",
       "      <td>8</td>\n",
       "      <td>183</td>\n",
       "      <td>64</td>\n",
       "      <td>0</td>\n",
       "      <td>0</td>\n",
       "      <td>23.3</td>\n",
       "      <td>0.672</td>\n",
       "      <td>32</td>\n",
       "      <td>1</td>\n",
       "    </tr>\n",
       "    <tr>\n",
       "      <th>3</th>\n",
       "      <td>1</td>\n",
       "      <td>89</td>\n",
       "      <td>66</td>\n",
       "      <td>23</td>\n",
       "      <td>94</td>\n",
       "      <td>28.1</td>\n",
       "      <td>0.167</td>\n",
       "      <td>21</td>\n",
       "      <td>0</td>\n",
       "    </tr>\n",
       "    <tr>\n",
       "      <th>4</th>\n",
       "      <td>0</td>\n",
       "      <td>137</td>\n",
       "      <td>40</td>\n",
       "      <td>35</td>\n",
       "      <td>168</td>\n",
       "      <td>43.1</td>\n",
       "      <td>2.288</td>\n",
       "      <td>33</td>\n",
       "      <td>1</td>\n",
       "    </tr>\n",
       "    <tr>\n",
       "      <th>...</th>\n",
       "      <td>...</td>\n",
       "      <td>...</td>\n",
       "      <td>...</td>\n",
       "      <td>...</td>\n",
       "      <td>...</td>\n",
       "      <td>...</td>\n",
       "      <td>...</td>\n",
       "      <td>...</td>\n",
       "      <td>...</td>\n",
       "    </tr>\n",
       "    <tr>\n",
       "      <th>763</th>\n",
       "      <td>10</td>\n",
       "      <td>101</td>\n",
       "      <td>76</td>\n",
       "      <td>48</td>\n",
       "      <td>180</td>\n",
       "      <td>32.9</td>\n",
       "      <td>0.171</td>\n",
       "      <td>63</td>\n",
       "      <td>0</td>\n",
       "    </tr>\n",
       "    <tr>\n",
       "      <th>764</th>\n",
       "      <td>2</td>\n",
       "      <td>122</td>\n",
       "      <td>70</td>\n",
       "      <td>27</td>\n",
       "      <td>0</td>\n",
       "      <td>36.8</td>\n",
       "      <td>0.340</td>\n",
       "      <td>27</td>\n",
       "      <td>0</td>\n",
       "    </tr>\n",
       "    <tr>\n",
       "      <th>765</th>\n",
       "      <td>5</td>\n",
       "      <td>121</td>\n",
       "      <td>72</td>\n",
       "      <td>23</td>\n",
       "      <td>112</td>\n",
       "      <td>26.2</td>\n",
       "      <td>0.245</td>\n",
       "      <td>30</td>\n",
       "      <td>0</td>\n",
       "    </tr>\n",
       "    <tr>\n",
       "      <th>766</th>\n",
       "      <td>1</td>\n",
       "      <td>126</td>\n",
       "      <td>60</td>\n",
       "      <td>0</td>\n",
       "      <td>0</td>\n",
       "      <td>30.1</td>\n",
       "      <td>0.349</td>\n",
       "      <td>47</td>\n",
       "      <td>1</td>\n",
       "    </tr>\n",
       "    <tr>\n",
       "      <th>767</th>\n",
       "      <td>1</td>\n",
       "      <td>93</td>\n",
       "      <td>70</td>\n",
       "      <td>31</td>\n",
       "      <td>0</td>\n",
       "      <td>30.4</td>\n",
       "      <td>0.315</td>\n",
       "      <td>23</td>\n",
       "      <td>0</td>\n",
       "    </tr>\n",
       "  </tbody>\n",
       "</table>\n",
       "<p>768 rows × 9 columns</p>\n",
       "</div>"
      ],
      "text/plain": [
       "     Pregnancies  Glucose  BloodPressure  SkinThickness  Insulin   BMI  \\\n",
       "0              6      148             72             35        0  33.6   \n",
       "1              1       85             66             29        0  26.6   \n",
       "2              8      183             64              0        0  23.3   \n",
       "3              1       89             66             23       94  28.1   \n",
       "4              0      137             40             35      168  43.1   \n",
       "..           ...      ...            ...            ...      ...   ...   \n",
       "763           10      101             76             48      180  32.9   \n",
       "764            2      122             70             27        0  36.8   \n",
       "765            5      121             72             23      112  26.2   \n",
       "766            1      126             60              0        0  30.1   \n",
       "767            1       93             70             31        0  30.4   \n",
       "\n",
       "     DiabetesPedigreeFunction  Age  Outcome  \n",
       "0                       0.627   50        1  \n",
       "1                       0.351   31        0  \n",
       "2                       0.672   32        1  \n",
       "3                       0.167   21        0  \n",
       "4                       2.288   33        1  \n",
       "..                        ...  ...      ...  \n",
       "763                     0.171   63        0  \n",
       "764                     0.340   27        0  \n",
       "765                     0.245   30        0  \n",
       "766                     0.349   47        1  \n",
       "767                     0.315   23        0  \n",
       "\n",
       "[768 rows x 9 columns]"
      ]
     },
     "execution_count": 46,
     "metadata": {},
     "output_type": "execute_result"
    }
   ],
   "source": [
    "data"
   ]
  },
  {
   "cell_type": "code",
   "execution_count": null,
   "id": "6168f198-fdea-4737-b295-07d090dfa654",
   "metadata": {},
   "outputs": [],
   "source": [
    "data.info()"
   ]
  },
  {
   "cell_type": "raw",
   "id": "28e4fb75-69dd-4d0a-a7d9-449e22bb21e3",
   "metadata": {},
   "source": [
    "1-1>변수명 파악"
   ]
  },
  {
   "cell_type": "raw",
   "id": "682eaca2-d89e-42d3-a8c5-355648295fa9",
   "metadata": {},
   "source": [
    "num columns descriptions\n",
    "1 Pregnancies 임신 횟수\n",
    "2 Glucose 포도당 부하 검사 수치\n",
    "3 BloodPressure 혈압(mm Hg)\n",
    "4 SkinThickness 팔 삼두근 뒤쪽의 피하지방 측정값(mm)\n",
    "5 Insulin 혈청 인슐린(mu U/ml)\n",
    "6 BMI 체질량지수 (체중(kg) / 키(m)^2)\n",
    "7 DiabetesPedigreeFunction 당뇨 내력 가중치 값\n",
    "8 Age 나이\n",
    "9 Outcome 당뇨 여부\n"
   ]
  },
  {
   "cell_type": "code",
   "execution_count": 47,
   "id": "494c7905-fc8f-44cd-a3ca-0ddad7f59d59",
   "metadata": {},
   "outputs": [
    {
     "data": {
      "text/html": [
       "<div>\n",
       "<style scoped>\n",
       "    .dataframe tbody tr th:only-of-type {\n",
       "        vertical-align: middle;\n",
       "    }\n",
       "\n",
       "    .dataframe tbody tr th {\n",
       "        vertical-align: top;\n",
       "    }\n",
       "\n",
       "    .dataframe thead th {\n",
       "        text-align: right;\n",
       "    }\n",
       "</style>\n",
       "<table border=\"1\" class=\"dataframe\">\n",
       "  <thead>\n",
       "    <tr style=\"text-align: right;\">\n",
       "      <th></th>\n",
       "      <th>Pregnancies</th>\n",
       "      <th>Glucose</th>\n",
       "      <th>BloodPressure</th>\n",
       "      <th>SkinThickness</th>\n",
       "      <th>Insulin</th>\n",
       "      <th>BMI</th>\n",
       "      <th>DiabetesPedigreeFunction</th>\n",
       "      <th>Age</th>\n",
       "      <th>Outcome</th>\n",
       "    </tr>\n",
       "  </thead>\n",
       "  <tbody>\n",
       "    <tr>\n",
       "      <th>count</th>\n",
       "      <td>768.000000</td>\n",
       "      <td>768.000000</td>\n",
       "      <td>768.000000</td>\n",
       "      <td>768.000000</td>\n",
       "      <td>768.000000</td>\n",
       "      <td>768.000000</td>\n",
       "      <td>768.000000</td>\n",
       "      <td>768.000000</td>\n",
       "      <td>768.000000</td>\n",
       "    </tr>\n",
       "    <tr>\n",
       "      <th>mean</th>\n",
       "      <td>3.845052</td>\n",
       "      <td>120.894531</td>\n",
       "      <td>69.105469</td>\n",
       "      <td>20.536458</td>\n",
       "      <td>79.799479</td>\n",
       "      <td>31.992578</td>\n",
       "      <td>0.471876</td>\n",
       "      <td>33.240885</td>\n",
       "      <td>0.348958</td>\n",
       "    </tr>\n",
       "    <tr>\n",
       "      <th>std</th>\n",
       "      <td>3.369578</td>\n",
       "      <td>31.972618</td>\n",
       "      <td>19.355807</td>\n",
       "      <td>15.952218</td>\n",
       "      <td>115.244002</td>\n",
       "      <td>7.884160</td>\n",
       "      <td>0.331329</td>\n",
       "      <td>11.760232</td>\n",
       "      <td>0.476951</td>\n",
       "    </tr>\n",
       "    <tr>\n",
       "      <th>min</th>\n",
       "      <td>0.000000</td>\n",
       "      <td>0.000000</td>\n",
       "      <td>0.000000</td>\n",
       "      <td>0.000000</td>\n",
       "      <td>0.000000</td>\n",
       "      <td>0.000000</td>\n",
       "      <td>0.078000</td>\n",
       "      <td>21.000000</td>\n",
       "      <td>0.000000</td>\n",
       "    </tr>\n",
       "    <tr>\n",
       "      <th>25%</th>\n",
       "      <td>1.000000</td>\n",
       "      <td>99.000000</td>\n",
       "      <td>62.000000</td>\n",
       "      <td>0.000000</td>\n",
       "      <td>0.000000</td>\n",
       "      <td>27.300000</td>\n",
       "      <td>0.243750</td>\n",
       "      <td>24.000000</td>\n",
       "      <td>0.000000</td>\n",
       "    </tr>\n",
       "    <tr>\n",
       "      <th>50%</th>\n",
       "      <td>3.000000</td>\n",
       "      <td>117.000000</td>\n",
       "      <td>72.000000</td>\n",
       "      <td>23.000000</td>\n",
       "      <td>30.500000</td>\n",
       "      <td>32.000000</td>\n",
       "      <td>0.372500</td>\n",
       "      <td>29.000000</td>\n",
       "      <td>0.000000</td>\n",
       "    </tr>\n",
       "    <tr>\n",
       "      <th>75%</th>\n",
       "      <td>6.000000</td>\n",
       "      <td>140.250000</td>\n",
       "      <td>80.000000</td>\n",
       "      <td>32.000000</td>\n",
       "      <td>127.250000</td>\n",
       "      <td>36.600000</td>\n",
       "      <td>0.626250</td>\n",
       "      <td>41.000000</td>\n",
       "      <td>1.000000</td>\n",
       "    </tr>\n",
       "    <tr>\n",
       "      <th>max</th>\n",
       "      <td>17.000000</td>\n",
       "      <td>199.000000</td>\n",
       "      <td>122.000000</td>\n",
       "      <td>99.000000</td>\n",
       "      <td>846.000000</td>\n",
       "      <td>67.100000</td>\n",
       "      <td>2.420000</td>\n",
       "      <td>81.000000</td>\n",
       "      <td>1.000000</td>\n",
       "    </tr>\n",
       "  </tbody>\n",
       "</table>\n",
       "</div>"
      ],
      "text/plain": [
       "       Pregnancies     Glucose  BloodPressure  SkinThickness     Insulin  \\\n",
       "count   768.000000  768.000000     768.000000     768.000000  768.000000   \n",
       "mean      3.845052  120.894531      69.105469      20.536458   79.799479   \n",
       "std       3.369578   31.972618      19.355807      15.952218  115.244002   \n",
       "min       0.000000    0.000000       0.000000       0.000000    0.000000   \n",
       "25%       1.000000   99.000000      62.000000       0.000000    0.000000   \n",
       "50%       3.000000  117.000000      72.000000      23.000000   30.500000   \n",
       "75%       6.000000  140.250000      80.000000      32.000000  127.250000   \n",
       "max      17.000000  199.000000     122.000000      99.000000  846.000000   \n",
       "\n",
       "              BMI  DiabetesPedigreeFunction         Age     Outcome  \n",
       "count  768.000000                768.000000  768.000000  768.000000  \n",
       "mean    31.992578                  0.471876   33.240885    0.348958  \n",
       "std      7.884160                  0.331329   11.760232    0.476951  \n",
       "min      0.000000                  0.078000   21.000000    0.000000  \n",
       "25%     27.300000                  0.243750   24.000000    0.000000  \n",
       "50%     32.000000                  0.372500   29.000000    0.000000  \n",
       "75%     36.600000                  0.626250   41.000000    1.000000  \n",
       "max     67.100000                  2.420000   81.000000    1.000000  "
      ]
     },
     "execution_count": 47,
     "metadata": {},
     "output_type": "execute_result"
    }
   ],
   "source": [
    "data.describe()"
   ]
  },
  {
   "cell_type": "code",
   "execution_count": 50,
   "id": "26d59e6b-0720-4602-80e1-18b941f85526",
   "metadata": {},
   "outputs": [
    {
     "data": {
      "text/plain": [
       "657"
      ]
     },
     "execution_count": 50,
     "metadata": {},
     "output_type": "execute_result"
    }
   ],
   "source": [
    "len(data[data['Pregnancies']>=1].value_counts())"
   ]
  },
  {
   "cell_type": "code",
   "execution_count": 51,
   "id": "5bf28f53-292a-4c96-a0be-dbd06bb3753e",
   "metadata": {
    "collapsed": true,
    "jupyter": {
     "outputs_hidden": true
    },
    "tags": []
   },
   "outputs": [
    {
     "data": {
      "text/plain": [
       "1     135\n",
       "0     111\n",
       "2     103\n",
       "3      75\n",
       "4      68\n",
       "5      57\n",
       "6      50\n",
       "7      45\n",
       "8      38\n",
       "9      28\n",
       "10     24\n",
       "11     11\n",
       "13     10\n",
       "12      9\n",
       "14      2\n",
       "15      1\n",
       "17      1\n",
       "Name: Pregnancies, dtype: int64"
      ]
     },
     "execution_count": 51,
     "metadata": {},
     "output_type": "execute_result"
    }
   ],
   "source": [
    "data['Pregnancies'].value_counts()  # 0 // 1 // 2 // 34 // 56 // 789 // 10+"
   ]
  },
  {
   "cell_type": "code",
   "execution_count": 53,
   "id": "bb1bb616-3507-4f87-b5b9-256354da3f61",
   "metadata": {
    "collapsed": true,
    "jupyter": {
     "outputs_hidden": true
    },
    "tags": []
   },
   "outputs": [
    {
     "data": {
      "text/plain": [
       "0      35\n",
       "24      1\n",
       "30      2\n",
       "38      1\n",
       "40      1\n",
       "44      4\n",
       "46      2\n",
       "48      5\n",
       "50     13\n",
       "52     11\n",
       "54     11\n",
       "55      2\n",
       "56     12\n",
       "58     21\n",
       "60     37\n",
       "61      1\n",
       "62     34\n",
       "64     43\n",
       "65      7\n",
       "66     30\n",
       "68     45\n",
       "70     57\n",
       "72     44\n",
       "74     52\n",
       "75      8\n",
       "76     39\n",
       "78     45\n",
       "80     40\n",
       "82     30\n",
       "84     23\n",
       "85      6\n",
       "86     21\n",
       "88     25\n",
       "90     22\n",
       "92      8\n",
       "94      6\n",
       "95      1\n",
       "96      4\n",
       "98      3\n",
       "100     3\n",
       "102     1\n",
       "104     2\n",
       "106     3\n",
       "108     2\n",
       "110     3\n",
       "114     1\n",
       "122     1\n",
       "Name: BloodPressure, dtype: int64"
      ]
     },
     "execution_count": 53,
     "metadata": {},
     "output_type": "execute_result"
    }
   ],
   "source": [
    "data['BloodPressure'].value_counts().sort_index()"
   ]
  },
  {
   "cell_type": "code",
   "execution_count": 18,
   "id": "bf661191-ef34-4a80-898b-813605751dab",
   "metadata": {
    "tags": []
   },
   "outputs": [],
   "source": [
    "import pandas as pd\n",
    "from sklearn.svm import SVC\n",
    "import numpy as np"
   ]
  },
  {
   "cell_type": "code",
   "execution_count": 19,
   "id": "e86a51c0-4c7c-4774-bbf1-95f9c827690f",
   "metadata": {},
   "outputs": [],
   "source": [
    "data = pd.read_csv('diabetes.csv')"
   ]
  },
  {
   "cell_type": "code",
   "execution_count": 20,
   "id": "56325c6c-0cf9-48ef-9c03-ac4a88d89585",
   "metadata": {},
   "outputs": [],
   "source": [
    "col_list = ['Glucose','BloodPressure','SkinThickness','Insulin','BMI']\n",
    "for col in col_list :\n",
    "    #print(col, len(data[data[col] ==0]))\n",
    "    data[col]=np.where((data[col]==0) , np.nan, data[col])\n",
    "    #1-1>>data의 0값들을 null값 처리!"
   ]
  },
  {
   "cell_type": "code",
   "execution_count": 21,
   "id": "3ea24bd6-34d4-4757-a3be-7942f2b2e4bf",
   "metadata": {},
   "outputs": [],
   "source": [
    "def ageRange(age) : \n",
    "    if 21 <= age < 30 :\n",
    "        return 1\n",
    "    elif 30 <= age < 40 :\n",
    "        return 2\n",
    "    elif 40 <= age < 50 :\n",
    "        return 3\n",
    "    elif 50 <= age < 60 :\n",
    "        return 4\n",
    "    elif 60 <= age < 70 :\n",
    "        return 5\n",
    "    else :\n",
    "        return 6"
   ]
  },
  {
   "cell_type": "code",
   "execution_count": 22,
   "id": "f59f3b76-43fb-48b6-b977-07bfe45447c0",
   "metadata": {},
   "outputs": [],
   "source": [
    "data['Age2'] = data['Age'].apply(ageRange) #Age를 구간별로 나눈 새로운 변수 Age2를 만듬"
   ]
  },
  {
   "cell_type": "code",
   "execution_count": 36,
   "id": "f1fbda10-f157-4d2f-8237-2365189bca5e",
   "metadata": {},
   "outputs": [
    {
     "data": {
      "text/html": [
       "<div>\n",
       "<style scoped>\n",
       "    .dataframe tbody tr th:only-of-type {\n",
       "        vertical-align: middle;\n",
       "    }\n",
       "\n",
       "    .dataframe tbody tr th {\n",
       "        vertical-align: top;\n",
       "    }\n",
       "\n",
       "    .dataframe thead th {\n",
       "        text-align: right;\n",
       "    }\n",
       "</style>\n",
       "<table border=\"1\" class=\"dataframe\">\n",
       "  <thead>\n",
       "    <tr style=\"text-align: right;\">\n",
       "      <th></th>\n",
       "      <th>Pregnancies</th>\n",
       "      <th>Glucose</th>\n",
       "      <th>BloodPressure</th>\n",
       "      <th>SkinThickness</th>\n",
       "      <th>Insulin</th>\n",
       "      <th>BMI</th>\n",
       "      <th>DiabetesPedigreeFunction</th>\n",
       "      <th>Age</th>\n",
       "      <th>Outcome</th>\n",
       "      <th>Age2</th>\n",
       "    </tr>\n",
       "  </thead>\n",
       "  <tbody>\n",
       "    <tr>\n",
       "      <th>0</th>\n",
       "      <td>6</td>\n",
       "      <td>148.0</td>\n",
       "      <td>72.0</td>\n",
       "      <td>35.0</td>\n",
       "      <td>192.0</td>\n",
       "      <td>33.6</td>\n",
       "      <td>0.627</td>\n",
       "      <td>50</td>\n",
       "      <td>1</td>\n",
       "      <td>4</td>\n",
       "    </tr>\n",
       "    <tr>\n",
       "      <th>1</th>\n",
       "      <td>1</td>\n",
       "      <td>85.0</td>\n",
       "      <td>66.0</td>\n",
       "      <td>29.0</td>\n",
       "      <td>140.0</td>\n",
       "      <td>26.6</td>\n",
       "      <td>0.351</td>\n",
       "      <td>31</td>\n",
       "      <td>0</td>\n",
       "      <td>2</td>\n",
       "    </tr>\n",
       "    <tr>\n",
       "      <th>2</th>\n",
       "      <td>8</td>\n",
       "      <td>183.0</td>\n",
       "      <td>64.0</td>\n",
       "      <td>32.0</td>\n",
       "      <td>140.0</td>\n",
       "      <td>23.3</td>\n",
       "      <td>0.672</td>\n",
       "      <td>32</td>\n",
       "      <td>1</td>\n",
       "      <td>2</td>\n",
       "    </tr>\n",
       "    <tr>\n",
       "      <th>3</th>\n",
       "      <td>1</td>\n",
       "      <td>89.0</td>\n",
       "      <td>66.0</td>\n",
       "      <td>23.0</td>\n",
       "      <td>94.0</td>\n",
       "      <td>28.1</td>\n",
       "      <td>0.167</td>\n",
       "      <td>21</td>\n",
       "      <td>0</td>\n",
       "      <td>1</td>\n",
       "    </tr>\n",
       "    <tr>\n",
       "      <th>4</th>\n",
       "      <td>0</td>\n",
       "      <td>137.0</td>\n",
       "      <td>40.0</td>\n",
       "      <td>35.0</td>\n",
       "      <td>168.0</td>\n",
       "      <td>43.1</td>\n",
       "      <td>2.288</td>\n",
       "      <td>33</td>\n",
       "      <td>1</td>\n",
       "      <td>2</td>\n",
       "    </tr>\n",
       "    <tr>\n",
       "      <th>...</th>\n",
       "      <td>...</td>\n",
       "      <td>...</td>\n",
       "      <td>...</td>\n",
       "      <td>...</td>\n",
       "      <td>...</td>\n",
       "      <td>...</td>\n",
       "      <td>...</td>\n",
       "      <td>...</td>\n",
       "      <td>...</td>\n",
       "      <td>...</td>\n",
       "    </tr>\n",
       "    <tr>\n",
       "      <th>763</th>\n",
       "      <td>10</td>\n",
       "      <td>101.0</td>\n",
       "      <td>76.0</td>\n",
       "      <td>48.0</td>\n",
       "      <td>180.0</td>\n",
       "      <td>32.9</td>\n",
       "      <td>0.171</td>\n",
       "      <td>63</td>\n",
       "      <td>0</td>\n",
       "      <td>5</td>\n",
       "    </tr>\n",
       "    <tr>\n",
       "      <th>764</th>\n",
       "      <td>2</td>\n",
       "      <td>122.0</td>\n",
       "      <td>70.0</td>\n",
       "      <td>27.0</td>\n",
       "      <td>105.0</td>\n",
       "      <td>36.8</td>\n",
       "      <td>0.340</td>\n",
       "      <td>27</td>\n",
       "      <td>0</td>\n",
       "      <td>1</td>\n",
       "    </tr>\n",
       "    <tr>\n",
       "      <th>765</th>\n",
       "      <td>5</td>\n",
       "      <td>121.0</td>\n",
       "      <td>72.0</td>\n",
       "      <td>23.0</td>\n",
       "      <td>112.0</td>\n",
       "      <td>26.2</td>\n",
       "      <td>0.245</td>\n",
       "      <td>30</td>\n",
       "      <td>0</td>\n",
       "      <td>2</td>\n",
       "    </tr>\n",
       "    <tr>\n",
       "      <th>766</th>\n",
       "      <td>1</td>\n",
       "      <td>126.0</td>\n",
       "      <td>60.0</td>\n",
       "      <td>31.0</td>\n",
       "      <td>131.0</td>\n",
       "      <td>30.1</td>\n",
       "      <td>0.349</td>\n",
       "      <td>47</td>\n",
       "      <td>1</td>\n",
       "      <td>3</td>\n",
       "    </tr>\n",
       "    <tr>\n",
       "      <th>767</th>\n",
       "      <td>1</td>\n",
       "      <td>93.0</td>\n",
       "      <td>70.0</td>\n",
       "      <td>31.0</td>\n",
       "      <td>105.0</td>\n",
       "      <td>30.4</td>\n",
       "      <td>0.315</td>\n",
       "      <td>23</td>\n",
       "      <td>0</td>\n",
       "      <td>1</td>\n",
       "    </tr>\n",
       "  </tbody>\n",
       "</table>\n",
       "<p>768 rows × 10 columns</p>\n",
       "</div>"
      ],
      "text/plain": [
       "     Pregnancies  Glucose  BloodPressure  SkinThickness  Insulin   BMI  \\\n",
       "0              6    148.0           72.0           35.0    192.0  33.6   \n",
       "1              1     85.0           66.0           29.0    140.0  26.6   \n",
       "2              8    183.0           64.0           32.0    140.0  23.3   \n",
       "3              1     89.0           66.0           23.0     94.0  28.1   \n",
       "4              0    137.0           40.0           35.0    168.0  43.1   \n",
       "..           ...      ...            ...            ...      ...   ...   \n",
       "763           10    101.0           76.0           48.0    180.0  32.9   \n",
       "764            2    122.0           70.0           27.0    105.0  36.8   \n",
       "765            5    121.0           72.0           23.0    112.0  26.2   \n",
       "766            1    126.0           60.0           31.0    131.0  30.1   \n",
       "767            1     93.0           70.0           31.0    105.0  30.4   \n",
       "\n",
       "     DiabetesPedigreeFunction  Age  Outcome  Age2  \n",
       "0                       0.627   50        1     4  \n",
       "1                       0.351   31        0     2  \n",
       "2                       0.672   32        1     2  \n",
       "3                       0.167   21        0     1  \n",
       "4                       2.288   33        1     2  \n",
       "..                        ...  ...      ...   ...  \n",
       "763                     0.171   63        0     5  \n",
       "764                     0.340   27        0     1  \n",
       "765                     0.245   30        0     2  \n",
       "766                     0.349   47        1     3  \n",
       "767                     0.315   23        0     1  \n",
       "\n",
       "[768 rows x 10 columns]"
      ]
     },
     "execution_count": 36,
     "metadata": {},
     "output_type": "execute_result"
    }
   ],
   "source": [
    "data"
   ]
  },
  {
   "cell_type": "code",
   "execution_count": 37,
   "id": "d09108c4-e424-46aa-a75b-3f4a6be49e92",
   "metadata": {},
   "outputs": [],
   "source": [
    "col_list = ['Glucose','BloodPressure','SkinThickness','Insulin','BMI']\n",
    "for col in col_list :\n",
    "    data[col].fillna(data.groupby('Age2')[col].transform('median'), inplace=True)\n",
    "    "
   ]
  },
  {
   "cell_type": "code",
   "execution_count": null,
   "id": "3e337d82-33a3-4f5a-9a36-59d868c878f9",
   "metadata": {},
   "outputs": [],
   "source": []
  },
  {
   "cell_type": "code",
   "execution_count": 38,
   "id": "1f918a7f-e048-4259-a23b-e0df367448d5",
   "metadata": {},
   "outputs": [],
   "source": [
    "model=SVC(kernel = 'linear',C=5, gamma=0.0001)     #모델을 변화시켜서 정확도 변화 확인!!"
   ]
  },
  {
   "cell_type": "code",
   "execution_count": 39,
   "id": "cf3e4c0d-4aef-47d0-b8eb-cc95823131ba",
   "metadata": {},
   "outputs": [],
   "source": [
    "x= data.drop('Outcome', axis=1)"
   ]
  },
  {
   "cell_type": "code",
   "execution_count": 40,
   "id": "6169e1c1-2749-4be0-a982-6a976f7a9795",
   "metadata": {},
   "outputs": [],
   "source": [
    "y = data['Outcome']"
   ]
  },
  {
   "cell_type": "code",
   "execution_count": 41,
   "id": "e20da961-0c44-49e7-a5d7-d26cfe1ff5e6",
   "metadata": {},
   "outputs": [],
   "source": [
    "from sklearn.model_selection import train_test_split\n",
    "import warnings\n",
    "warnings.filterwarnings('ignore')"
   ]
  },
  {
   "cell_type": "code",
   "execution_count": 42,
   "id": "9da8a17a-75d9-4612-97f8-63b4eb1bf33d",
   "metadata": {},
   "outputs": [],
   "source": [
    "x_train, x_test, y_train, y_test = train_test_split(x,y,test_size=0.2, random_state=0, stratify=y)"
   ]
  },
  {
   "cell_type": "code",
   "execution_count": 43,
   "id": "dad7c839-2ced-487f-8c5b-e3f94e76ce77",
   "metadata": {},
   "outputs": [
    {
     "data": {
      "text/plain": [
       "SVC(C=5, gamma=0.0001, kernel='linear')"
      ]
     },
     "execution_count": 43,
     "metadata": {},
     "output_type": "execute_result"
    }
   ],
   "source": [
    "model.fit(x_train, y_train)"
   ]
  },
  {
   "cell_type": "code",
   "execution_count": 44,
   "id": "fbd53df0-8617-4b1b-b8de-358dec6ede5c",
   "metadata": {},
   "outputs": [
    {
     "data": {
      "text/plain": [
       "0.7719869706840391"
      ]
     },
     "execution_count": 44,
     "metadata": {},
     "output_type": "execute_result"
    }
   ],
   "source": [
    "model.score(x_train, y_train)"
   ]
  },
  {
   "cell_type": "code",
   "execution_count": 45,
   "id": "49fd4225-f7e4-47b5-9476-fd5bdf1e4d3a",
   "metadata": {},
   "outputs": [
    {
     "data": {
      "text/plain": [
       "0.7597402597402597"
      ]
     },
     "execution_count": 45,
     "metadata": {},
     "output_type": "execute_result"
    }
   ],
   "source": [
    "model.score(x_test, y_test)"
   ]
  },
  {
   "cell_type": "code",
   "execution_count": 46,
   "id": "d566bbe4-dcbe-4f28-b682-93ec672463ae",
   "metadata": {},
   "outputs": [],
   "source": [
    "final_data=[]\n",
    "for c in range(1,5) : \n",
    "    for i in range(1, 10) : \n",
    "        gamma = 0.0001 * i\n",
    "        model = SVC(C=c, gamma=gamma)\n",
    "        model.fit(x_train,y_train)\n",
    "        ret1 = model.score(x_train, y_train)\n",
    "        ret2 = model.score(x_test, y_test)\n",
    "        temp=[]\n",
    "        temp.append(c)\n",
    "        temp.append(gamma)\n",
    "        temp.append(ret1)\n",
    "        temp.append(ret2)\n",
    "        final_data.append(temp)\n",
    "        #SVC 모델에 최적의 C , gamma값 찾기~"
   ]
  },
  {
   "cell_type": "code",
   "execution_count": 47,
   "id": "f1a51055-f06e-484a-8f02-3bec4ecf590d",
   "metadata": {},
   "outputs": [],
   "source": [
    "df = pd.DataFrame(final_data, columns = ['C','gamma','train','test'])"
   ]
  },
  {
   "cell_type": "code",
   "execution_count": 48,
   "id": "846c5af8-6b19-4a5e-8953-08f69272bc07",
   "metadata": {
    "collapsed": true,
    "jupyter": {
     "outputs_hidden": true
    },
    "tags": []
   },
   "outputs": [
    {
     "data": {
      "text/html": [
       "<div>\n",
       "<style scoped>\n",
       "    .dataframe tbody tr th:only-of-type {\n",
       "        vertical-align: middle;\n",
       "    }\n",
       "\n",
       "    .dataframe tbody tr th {\n",
       "        vertical-align: top;\n",
       "    }\n",
       "\n",
       "    .dataframe thead th {\n",
       "        text-align: right;\n",
       "    }\n",
       "</style>\n",
       "<table border=\"1\" class=\"dataframe\">\n",
       "  <thead>\n",
       "    <tr style=\"text-align: right;\">\n",
       "      <th></th>\n",
       "      <th>C</th>\n",
       "      <th>gamma</th>\n",
       "      <th>train</th>\n",
       "      <th>test</th>\n",
       "    </tr>\n",
       "  </thead>\n",
       "  <tbody>\n",
       "    <tr>\n",
       "      <th>27</th>\n",
       "      <td>4</td>\n",
       "      <td>0.0001</td>\n",
       "      <td>0.781759</td>\n",
       "      <td>0.798701</td>\n",
       "    </tr>\n",
       "    <tr>\n",
       "      <th>18</th>\n",
       "      <td>3</td>\n",
       "      <td>0.0001</td>\n",
       "      <td>0.773616</td>\n",
       "      <td>0.798701</td>\n",
       "    </tr>\n",
       "    <tr>\n",
       "      <th>31</th>\n",
       "      <td>4</td>\n",
       "      <td>0.0005</td>\n",
       "      <td>0.835505</td>\n",
       "      <td>0.792208</td>\n",
       "    </tr>\n",
       "    <tr>\n",
       "      <th>30</th>\n",
       "      <td>4</td>\n",
       "      <td>0.0004</td>\n",
       "      <td>0.828990</td>\n",
       "      <td>0.792208</td>\n",
       "    </tr>\n",
       "    <tr>\n",
       "      <th>29</th>\n",
       "      <td>4</td>\n",
       "      <td>0.0003</td>\n",
       "      <td>0.809446</td>\n",
       "      <td>0.792208</td>\n",
       "    </tr>\n",
       "    <tr>\n",
       "      <th>11</th>\n",
       "      <td>2</td>\n",
       "      <td>0.0003</td>\n",
       "      <td>0.794788</td>\n",
       "      <td>0.792208</td>\n",
       "    </tr>\n",
       "    <tr>\n",
       "      <th>19</th>\n",
       "      <td>3</td>\n",
       "      <td>0.0002</td>\n",
       "      <td>0.789902</td>\n",
       "      <td>0.792208</td>\n",
       "    </tr>\n",
       "    <tr>\n",
       "      <th>2</th>\n",
       "      <td>1</td>\n",
       "      <td>0.0003</td>\n",
       "      <td>0.781759</td>\n",
       "      <td>0.792208</td>\n",
       "    </tr>\n",
       "    <tr>\n",
       "      <th>10</th>\n",
       "      <td>2</td>\n",
       "      <td>0.0002</td>\n",
       "      <td>0.778502</td>\n",
       "      <td>0.792208</td>\n",
       "    </tr>\n",
       "    <tr>\n",
       "      <th>1</th>\n",
       "      <td>1</td>\n",
       "      <td>0.0002</td>\n",
       "      <td>0.773616</td>\n",
       "      <td>0.792208</td>\n",
       "    </tr>\n",
       "    <tr>\n",
       "      <th>35</th>\n",
       "      <td>4</td>\n",
       "      <td>0.0009</td>\n",
       "      <td>0.866450</td>\n",
       "      <td>0.785714</td>\n",
       "    </tr>\n",
       "    <tr>\n",
       "      <th>7</th>\n",
       "      <td>1</td>\n",
       "      <td>0.0008</td>\n",
       "      <td>0.817590</td>\n",
       "      <td>0.785714</td>\n",
       "    </tr>\n",
       "    <tr>\n",
       "      <th>6</th>\n",
       "      <td>1</td>\n",
       "      <td>0.0007</td>\n",
       "      <td>0.811075</td>\n",
       "      <td>0.785714</td>\n",
       "    </tr>\n",
       "    <tr>\n",
       "      <th>5</th>\n",
       "      <td>1</td>\n",
       "      <td>0.0006</td>\n",
       "      <td>0.806189</td>\n",
       "      <td>0.785714</td>\n",
       "    </tr>\n",
       "    <tr>\n",
       "      <th>12</th>\n",
       "      <td>2</td>\n",
       "      <td>0.0004</td>\n",
       "      <td>0.806189</td>\n",
       "      <td>0.785714</td>\n",
       "    </tr>\n",
       "    <tr>\n",
       "      <th>20</th>\n",
       "      <td>3</td>\n",
       "      <td>0.0003</td>\n",
       "      <td>0.804560</td>\n",
       "      <td>0.785714</td>\n",
       "    </tr>\n",
       "    <tr>\n",
       "      <th>28</th>\n",
       "      <td>4</td>\n",
       "      <td>0.0002</td>\n",
       "      <td>0.793160</td>\n",
       "      <td>0.785714</td>\n",
       "    </tr>\n",
       "    <tr>\n",
       "      <th>3</th>\n",
       "      <td>1</td>\n",
       "      <td>0.0004</td>\n",
       "      <td>0.786645</td>\n",
       "      <td>0.785714</td>\n",
       "    </tr>\n",
       "    <tr>\n",
       "      <th>9</th>\n",
       "      <td>2</td>\n",
       "      <td>0.0001</td>\n",
       "      <td>0.767101</td>\n",
       "      <td>0.785714</td>\n",
       "    </tr>\n",
       "    <tr>\n",
       "      <th>34</th>\n",
       "      <td>4</td>\n",
       "      <td>0.0008</td>\n",
       "      <td>0.863192</td>\n",
       "      <td>0.779221</td>\n",
       "    </tr>\n",
       "    <tr>\n",
       "      <th>25</th>\n",
       "      <td>3</td>\n",
       "      <td>0.0008</td>\n",
       "      <td>0.856678</td>\n",
       "      <td>0.779221</td>\n",
       "    </tr>\n",
       "    <tr>\n",
       "      <th>33</th>\n",
       "      <td>4</td>\n",
       "      <td>0.0007</td>\n",
       "      <td>0.851792</td>\n",
       "      <td>0.779221</td>\n",
       "    </tr>\n",
       "    <tr>\n",
       "      <th>32</th>\n",
       "      <td>4</td>\n",
       "      <td>0.0006</td>\n",
       "      <td>0.850163</td>\n",
       "      <td>0.779221</td>\n",
       "    </tr>\n",
       "    <tr>\n",
       "      <th>24</th>\n",
       "      <td>3</td>\n",
       "      <td>0.0007</td>\n",
       "      <td>0.848534</td>\n",
       "      <td>0.779221</td>\n",
       "    </tr>\n",
       "    <tr>\n",
       "      <th>23</th>\n",
       "      <td>3</td>\n",
       "      <td>0.0006</td>\n",
       "      <td>0.842020</td>\n",
       "      <td>0.779221</td>\n",
       "    </tr>\n",
       "    <tr>\n",
       "      <th>15</th>\n",
       "      <td>2</td>\n",
       "      <td>0.0007</td>\n",
       "      <td>0.840391</td>\n",
       "      <td>0.779221</td>\n",
       "    </tr>\n",
       "    <tr>\n",
       "      <th>22</th>\n",
       "      <td>3</td>\n",
       "      <td>0.0005</td>\n",
       "      <td>0.833876</td>\n",
       "      <td>0.779221</td>\n",
       "    </tr>\n",
       "    <tr>\n",
       "      <th>14</th>\n",
       "      <td>2</td>\n",
       "      <td>0.0006</td>\n",
       "      <td>0.828990</td>\n",
       "      <td>0.779221</td>\n",
       "    </tr>\n",
       "    <tr>\n",
       "      <th>21</th>\n",
       "      <td>3</td>\n",
       "      <td>0.0004</td>\n",
       "      <td>0.822476</td>\n",
       "      <td>0.779221</td>\n",
       "    </tr>\n",
       "    <tr>\n",
       "      <th>8</th>\n",
       "      <td>1</td>\n",
       "      <td>0.0009</td>\n",
       "      <td>0.819218</td>\n",
       "      <td>0.779221</td>\n",
       "    </tr>\n",
       "    <tr>\n",
       "      <th>4</th>\n",
       "      <td>1</td>\n",
       "      <td>0.0005</td>\n",
       "      <td>0.801303</td>\n",
       "      <td>0.779221</td>\n",
       "    </tr>\n",
       "    <tr>\n",
       "      <th>26</th>\n",
       "      <td>3</td>\n",
       "      <td>0.0009</td>\n",
       "      <td>0.863192</td>\n",
       "      <td>0.772727</td>\n",
       "    </tr>\n",
       "    <tr>\n",
       "      <th>16</th>\n",
       "      <td>2</td>\n",
       "      <td>0.0008</td>\n",
       "      <td>0.845277</td>\n",
       "      <td>0.772727</td>\n",
       "    </tr>\n",
       "    <tr>\n",
       "      <th>13</th>\n",
       "      <td>2</td>\n",
       "      <td>0.0005</td>\n",
       "      <td>0.817590</td>\n",
       "      <td>0.772727</td>\n",
       "    </tr>\n",
       "    <tr>\n",
       "      <th>17</th>\n",
       "      <td>2</td>\n",
       "      <td>0.0009</td>\n",
       "      <td>0.853420</td>\n",
       "      <td>0.766234</td>\n",
       "    </tr>\n",
       "    <tr>\n",
       "      <th>0</th>\n",
       "      <td>1</td>\n",
       "      <td>0.0001</td>\n",
       "      <td>0.768730</td>\n",
       "      <td>0.766234</td>\n",
       "    </tr>\n",
       "  </tbody>\n",
       "</table>\n",
       "</div>"
      ],
      "text/plain": [
       "    C   gamma     train      test\n",
       "27  4  0.0001  0.781759  0.798701\n",
       "18  3  0.0001  0.773616  0.798701\n",
       "31  4  0.0005  0.835505  0.792208\n",
       "30  4  0.0004  0.828990  0.792208\n",
       "29  4  0.0003  0.809446  0.792208\n",
       "11  2  0.0003  0.794788  0.792208\n",
       "19  3  0.0002  0.789902  0.792208\n",
       "2   1  0.0003  0.781759  0.792208\n",
       "10  2  0.0002  0.778502  0.792208\n",
       "1   1  0.0002  0.773616  0.792208\n",
       "35  4  0.0009  0.866450  0.785714\n",
       "7   1  0.0008  0.817590  0.785714\n",
       "6   1  0.0007  0.811075  0.785714\n",
       "5   1  0.0006  0.806189  0.785714\n",
       "12  2  0.0004  0.806189  0.785714\n",
       "20  3  0.0003  0.804560  0.785714\n",
       "28  4  0.0002  0.793160  0.785714\n",
       "3   1  0.0004  0.786645  0.785714\n",
       "9   2  0.0001  0.767101  0.785714\n",
       "34  4  0.0008  0.863192  0.779221\n",
       "25  3  0.0008  0.856678  0.779221\n",
       "33  4  0.0007  0.851792  0.779221\n",
       "32  4  0.0006  0.850163  0.779221\n",
       "24  3  0.0007  0.848534  0.779221\n",
       "23  3  0.0006  0.842020  0.779221\n",
       "15  2  0.0007  0.840391  0.779221\n",
       "22  3  0.0005  0.833876  0.779221\n",
       "14  2  0.0006  0.828990  0.779221\n",
       "21  3  0.0004  0.822476  0.779221\n",
       "8   1  0.0009  0.819218  0.779221\n",
       "4   1  0.0005  0.801303  0.779221\n",
       "26  3  0.0009  0.863192  0.772727\n",
       "16  2  0.0008  0.845277  0.772727\n",
       "13  2  0.0005  0.817590  0.772727\n",
       "17  2  0.0009  0.853420  0.766234\n",
       "0   1  0.0001  0.768730  0.766234"
      ]
     },
     "execution_count": 48,
     "metadata": {},
     "output_type": "execute_result"
    }
   ],
   "source": [
    "df.sort_values(by=['test','train'], ascending= False)"
   ]
  },
  {
   "cell_type": "code",
   "execution_count": 50,
   "id": "f7c7aa1f-257d-4d7e-9fbe-0f01db7c9448",
   "metadata": {},
   "outputs": [],
   "source": [
    "model=SVC(kernel = 'linear',C=4, gamma=0.0001) #최적의 모델 선정!!"
   ]
  },
  {
   "cell_type": "raw",
   "id": "bff75684-95ce-48ab-a2eb-65973ceac719",
   "metadata": {},
   "source": [
    "혈청 인슐린 값에 이상치가 있음을 확인 (mean 과 50%(median)의 차이가 큼)"
   ]
  },
  {
   "cell_type": "markdown",
   "id": "e15bbd1c-c866-49f6-8036-a90e9c3fbb63",
   "metadata": {},
   "source": [
    "1-2>인슐린 "
   ]
  },
  {
   "cell_type": "raw",
   "id": "1c15a88a-abb8-4f6c-8585-1ea2a2f58663",
   "metadata": {},
   "source": [
    "인슐린 수치가 0인 값들을 다 제외시키고 data1로 다시검정"
   ]
  },
  {
   "cell_type": "code",
   "execution_count": null,
   "id": "b5e334cc-80ce-48b7-867c-4fa878a69813",
   "metadata": {},
   "outputs": [],
   "source": [
    "data['Insulin'].value_counts()"
   ]
  },
  {
   "cell_type": "code",
   "execution_count": null,
   "id": "d0f72d52-ad83-4100-b94a-7542b482c952",
   "metadata": {},
   "outputs": [],
   "source": [
    "data1 = data[data['Insulin'] != 0]"
   ]
  },
  {
   "cell_type": "code",
   "execution_count": null,
   "id": "b4c20cee-11b9-48f7-b3c4-45a9ba6a72a1",
   "metadata": {},
   "outputs": [],
   "source": [
    "data.drop_duplicates()"
   ]
  },
  {
   "cell_type": "code",
   "execution_count": null,
   "id": "aacc8023-f4a5-4888-97a2-34c6fa0d0592",
   "metadata": {},
   "outputs": [],
   "source": [
    "data[data['Pregnancies'] == 0][['Pregnancies']].replace(0, data['Pregnancies'].median(), inplace=True)"
   ]
  },
  {
   "cell_type": "code",
   "execution_count": null,
   "id": "089dcd74-ba85-4621-8470-b4242eb6a19e",
   "metadata": {},
   "outputs": [],
   "source": [
    "data['Pregnancies']=np.where((data['Pregnancies']==0) , data['Pregnancies'].median(), data['Pregnancies'])"
   ]
  },
  {
   "cell_type": "code",
   "execution_count": null,
   "id": "ded196b7-9388-4cf5-9c3d-b2765846cc88",
   "metadata": {},
   "outputs": [],
   "source": [
    "data"
   ]
  },
  {
   "cell_type": "code",
   "execution_count": null,
   "id": "cef92f83-2c53-403c-bab0-7454860c18d6",
   "metadata": {},
   "outputs": [],
   "source": [
    "data['Pregnancies'].median()"
   ]
  },
  {
   "cell_type": "code",
   "execution_count": null,
   "id": "169cf980-39b6-41ed-9257-1fe90f719b50",
   "metadata": {},
   "outputs": [],
   "source": []
  },
  {
   "cell_type": "code",
   "execution_count": null,
   "id": "ba038d4d-0eee-48b7-847e-e043f8e806c2",
   "metadata": {},
   "outputs": [],
   "source": []
  },
  {
   "cell_type": "code",
   "execution_count": null,
   "id": "b5b293d9-5c68-4d0f-bfde-bcaef4e05ad3",
   "metadata": {},
   "outputs": [],
   "source": []
  },
  {
   "cell_type": "code",
   "execution_count": null,
   "id": "f0e8beea-8859-41a9-bef1-25c5b8a4457f",
   "metadata": {},
   "outputs": [],
   "source": [
    "data.columns"
   ]
  },
  {
   "cell_type": "code",
   "execution_count": null,
   "id": "1eab3a1a-bb13-45aa-bf33-7bcc4ebad913",
   "metadata": {},
   "outputs": [],
   "source": [
    "data['Outcome'].value_counts()"
   ]
  },
  {
   "cell_type": "code",
   "execution_count": null,
   "id": "b5fa8f8b-3a49-44f5-bb52-7a86382ba953",
   "metadata": {},
   "outputs": [],
   "source": [
    "data['Outcome'].unique()"
   ]
  },
  {
   "cell_type": "markdown",
   "id": "08e3618b-e13a-4bd8-b4d4-47be1cd83bf6",
   "metadata": {},
   "source": [
    "------------------------"
   ]
  },
  {
   "cell_type": "raw",
   "id": "b9519805-9b33-4cbe-aaef-57c57901e550",
   "metadata": {},
   "source": [
    "상관계수 살펴보기"
   ]
  },
  {
   "cell_type": "code",
   "execution_count": null,
   "id": "ef45d786-2546-4d65-a522-06f013a6bd87",
   "metadata": {},
   "outputs": [],
   "source": [
    "import seaborn as sns\n",
    "import matplotlib.pyplot as plt"
   ]
  },
  {
   "cell_type": "code",
   "execution_count": null,
   "id": "0fea9367-e8f7-4ab0-bd1d-d3e5b8cb9b4f",
   "metadata": {},
   "outputs": [],
   "source": [
    "corr = data.corr().round(2)"
   ]
  },
  {
   "cell_type": "code",
   "execution_count": null,
   "id": "cd9810c1-a1e6-4f54-a8ef-dbf3375bf710",
   "metadata": {},
   "outputs": [],
   "source": [
    "plt.figure(figsize=(10,10))\n",
    "sns.heatmap(corr, annot=True)"
   ]
  },
  {
   "cell_type": "markdown",
   "id": "f9ae8b5d-2766-4198-a866-d73e3d89478b",
   "metadata": {},
   "source": [
    "-------------------------------------"
   ]
  },
  {
   "cell_type": "code",
   "execution_count": null,
   "id": "3f253e05-7f85-40a2-b21d-2a80fa0e9476",
   "metadata": {},
   "outputs": [],
   "source": []
  },
  {
   "cell_type": "raw",
   "id": "cebd6fd8-1a09-472c-a17f-b0d8a8d077af",
   "metadata": {},
   "source": [
    "2>모델 검정"
   ]
  },
  {
   "cell_type": "code",
   "execution_count": null,
   "id": "b2eaf58a-0ca5-42a6-9b24-1ad3d485b228",
   "metadata": {},
   "outputs": [],
   "source": [
    "from sklearn.model_selection import train_test_split\n",
    "from sklearn.metrics import mean_absolute_error"
   ]
  },
  {
   "cell_type": "code",
   "execution_count": null,
   "id": "ce8adf4b-a1da-4355-adfa-f7a45c61f4dc",
   "metadata": {},
   "outputs": [],
   "source": [
    "model = SVC()"
   ]
  },
  {
   "cell_type": "code",
   "execution_count": null,
   "id": "8ab85bfc-78b3-4491-8908-41dd1c80b855",
   "metadata": {},
   "outputs": [],
   "source": [
    "x = data1.drop(['Outcome'], axis=1)"
   ]
  },
  {
   "cell_type": "code",
   "execution_count": null,
   "id": "0594b122-41a8-4c05-99d9-b9b4f205bd3c",
   "metadata": {},
   "outputs": [],
   "source": [
    "y = data1['Outcome']"
   ]
  },
  {
   "cell_type": "code",
   "execution_count": null,
   "id": "c2f3940b",
   "metadata": {},
   "outputs": [],
   "source": [
    "x_train, x_test, y_train, y_test = train_test_split"
   ]
  },
  {
   "cell_type": "code",
   "execution_count": null,
   "id": "03431121-33c6-41c0-a360-91afeef2a58b",
   "metadata": {},
   "outputs": [],
   "source": [
    "model.fit(x_train, y_train)"
   ]
  },
  {
   "cell_type": "code",
   "execution_count": null,
   "id": "c6e9882e-98b1-45ef-9c53-96f1a37ab8c7",
   "metadata": {},
   "outputs": [],
   "source": [
    "pre_train = model.predict(x_train)"
   ]
  },
  {
   "cell_type": "code",
   "execution_count": null,
   "id": "9e7859b5-8f1b-4686-832c-963e4bce51e9",
   "metadata": {},
   "outputs": [],
   "source": [
    "mean_absolute_error(pre_train, y_train)"
   ]
  },
  {
   "cell_type": "code",
   "execution_count": null,
   "id": "33736133-9263-4a7d-9e97-89b926c37336",
   "metadata": {},
   "outputs": [],
   "source": [
    "model.score(x_train, y_train)"
   ]
  },
  {
   "cell_type": "code",
   "execution_count": null,
   "id": "18d185b6-7d2a-4915-8003-3d726b399d89",
   "metadata": {},
   "outputs": [],
   "source": [
    "model.score(x_test, y_test)"
   ]
  },
  {
   "cell_type": "markdown",
   "id": "e8bd9c8f-b691-4c79-862e-eba85599aa80",
   "metadata": {},
   "source": [
    "--------------------------"
   ]
  },
  {
   "cell_type": "raw",
   "id": "8308e653-d626-41ff-bc33-822ee7319e33",
   "metadata": {},
   "source": [
    "해설"
   ]
  },
  {
   "cell_type": "raw",
   "id": "7aca04f1-e89c-4a24-8985-71c4c1597080",
   "metadata": {},
   "source": [
    "1.자료 살펴보기"
   ]
  },
  {
   "cell_type": "raw",
   "id": "fa0a3747-7abc-433d-b96c-6b9468045e21",
   "metadata": {},
   "source": [
    "1)임신여부별 당뇨여부"
   ]
  },
  {
   "cell_type": "code",
   "execution_count": null,
   "id": "f4f5f097-c743-4e43-8de4-1aad585f76bf",
   "metadata": {},
   "outputs": [],
   "source": [
    "data.columns"
   ]
  },
  {
   "cell_type": "code",
   "execution_count": null,
   "id": "8a6f2b41-79ab-4caa-80bc-48784b74bd8a",
   "metadata": {},
   "outputs": [],
   "source": [
    "data[data['Pregnancies'] ==0]"
   ]
  },
  {
   "cell_type": "code",
   "execution_count": null,
   "id": "b9fb8c0d-3ed0-4273-9a46-7468ec8c17e1",
   "metadata": {},
   "outputs": [],
   "source": [
    "data['Pregnancies2'] = np.where(data['Pregnancies'] ==0, 0 , 1)"
   ]
  },
  {
   "cell_type": "code",
   "execution_count": null,
   "id": "2a149f0f-c7d1-4b82-b517-22fb92264634",
   "metadata": {},
   "outputs": [],
   "source": [
    "data"
   ]
  },
  {
   "cell_type": "code",
   "execution_count": null,
   "id": "860886cc-d7e0-4251-bce5-db33208ef4b5",
   "metadata": {},
   "outputs": [],
   "source": [
    "data.groupby(['Pregnancies2','Outcome'])['Age'].count()"
   ]
  },
  {
   "cell_type": "raw",
   "id": "41b374d0-f43c-4573-94e9-29344192ecd5",
   "metadata": {},
   "source": [
    "임신여부가 Outcome에 큰 의미는 없는것 같다~"
   ]
  },
  {
   "cell_type": "raw",
   "id": "19b921a7-3cb9-4042-b81d-d6e972708fdd",
   "metadata": {},
   "source": [
    "2)연령별 당뇨여부"
   ]
  },
  {
   "cell_type": "code",
   "execution_count": null,
   "id": "acaec138-4888-470f-b4ac-5387e66d9106",
   "metadata": {},
   "outputs": [],
   "source": [
    "data.groupby('Outcome')['Age','BMI'].median()"
   ]
  },
  {
   "cell_type": "raw",
   "id": "5dc2933b-db28-4f25-8b3c-76844e84c1c7",
   "metadata": {},
   "source": [
    "유의미한 차이라 보기엔 어려움"
   ]
  },
  {
   "cell_type": "raw",
   "id": "e489f371-e208-4674-b1f7-09237988f475",
   "metadata": {},
   "source": [
    "3) 변수들의 이상치를 null값 처리\n",
    "이 데이터에선 0값들 (말이 안됨)을 null값으로 바꾼 후\n",
    "Age구간을 나눠 각각의 Age구간의 median으로 대체하려함."
   ]
  },
  {
   "cell_type": "code",
   "execution_count": null,
   "id": "3a290ecb-56bc-46f6-8ef2-bb669e9b6924",
   "metadata": {},
   "outputs": [],
   "source": [
    "data"
   ]
  },
  {
   "cell_type": "code",
   "execution_count": null,
   "id": "ec3f6c8d-9f17-49c1-9a50-5a7371f8a97c",
   "metadata": {},
   "outputs": [],
   "source": [
    "data1=data[['Glucose','BloodPressure','SkinThickness','Insulin','BMI']].replace(0,np.NaN)"
   ]
  },
  {
   "cell_type": "code",
   "execution_count": null,
   "id": "88193e39-5585-4f2b-b71c-5ce915d561d8",
   "metadata": {},
   "outputs": [],
   "source": []
  },
  {
   "cell_type": "code",
   "execution_count": null,
   "id": "49522834-11dd-47a6-b0aa-860ef0fd1703",
   "metadata": {},
   "outputs": [],
   "source": [
    "data1.isnull().sum()"
   ]
  },
  {
   "cell_type": "code",
   "execution_count": null,
   "id": "f389381c-801b-4931-ac75-3012fcbc301b",
   "metadata": {},
   "outputs": [],
   "source": []
  },
  {
   "cell_type": "markdown",
   "id": "f50653df-116f-43c8-8b68-cddb1c8b990a",
   "metadata": {},
   "source": [
    "-----------------------"
   ]
  },
  {
   "cell_type": "raw",
   "id": "bfb466ae-86ed-4ffc-a167-1fbb50a7ea13",
   "metadata": {},
   "source": [
    "풀이"
   ]
  },
  {
   "cell_type": "code",
   "execution_count": 3,
   "id": "b2b32330-14af-4f3c-b10e-c279a8d15789",
   "metadata": {},
   "outputs": [],
   "source": [
    "import numpy as np"
   ]
  },
  {
   "cell_type": "raw",
   "id": "30105e26-a5e4-4e4d-b10d-c7269a9af113",
   "metadata": {},
   "source": [
    "data[col]=np.where((data[col]==0) , data[col].median(), data[col])\n",
    "0값을 각각의 median 값으로 처리\n",
    "but 이거보다 더 세분화된 null값 처리 요구!!"
   ]
  },
  {
   "cell_type": "code",
   "execution_count": 4,
   "id": "07a708c0-bb74-4503-8b22-8cdb1647dc6f",
   "metadata": {},
   "outputs": [],
   "source": [
    "col_list = ['Glucose','BloodPressure','SkinThickness','Insulin','BMI']\n",
    "for col in col_list :\n",
    "    #print(col, len(data[data[col] ==0]))\n",
    "    data[col]=np.where((data[col]==0) , np.nan, data[col])\n",
    "    #값이 0인 변수들의 null값 처리"
   ]
  },
  {
   "cell_type": "code",
   "execution_count": 5,
   "id": "6f1d5659-aa3a-497a-9b57-e2abefb36c96",
   "metadata": {},
   "outputs": [
    {
     "data": {
      "text/html": [
       "<div>\n",
       "<style scoped>\n",
       "    .dataframe tbody tr th:only-of-type {\n",
       "        vertical-align: middle;\n",
       "    }\n",
       "\n",
       "    .dataframe tbody tr th {\n",
       "        vertical-align: top;\n",
       "    }\n",
       "\n",
       "    .dataframe thead th {\n",
       "        text-align: right;\n",
       "    }\n",
       "</style>\n",
       "<table border=\"1\" class=\"dataframe\">\n",
       "  <thead>\n",
       "    <tr style=\"text-align: right;\">\n",
       "      <th></th>\n",
       "      <th>Pregnancies</th>\n",
       "      <th>Glucose</th>\n",
       "      <th>BloodPressure</th>\n",
       "      <th>SkinThickness</th>\n",
       "      <th>Insulin</th>\n",
       "      <th>BMI</th>\n",
       "      <th>DiabetesPedigreeFunction</th>\n",
       "      <th>Age</th>\n",
       "      <th>Outcome</th>\n",
       "    </tr>\n",
       "  </thead>\n",
       "  <tbody>\n",
       "    <tr>\n",
       "      <th>0</th>\n",
       "      <td>6</td>\n",
       "      <td>148.0</td>\n",
       "      <td>72.0</td>\n",
       "      <td>35.0</td>\n",
       "      <td>NaN</td>\n",
       "      <td>33.6</td>\n",
       "      <td>0.627</td>\n",
       "      <td>50</td>\n",
       "      <td>1</td>\n",
       "    </tr>\n",
       "    <tr>\n",
       "      <th>1</th>\n",
       "      <td>1</td>\n",
       "      <td>85.0</td>\n",
       "      <td>66.0</td>\n",
       "      <td>29.0</td>\n",
       "      <td>NaN</td>\n",
       "      <td>26.6</td>\n",
       "      <td>0.351</td>\n",
       "      <td>31</td>\n",
       "      <td>0</td>\n",
       "    </tr>\n",
       "    <tr>\n",
       "      <th>2</th>\n",
       "      <td>8</td>\n",
       "      <td>183.0</td>\n",
       "      <td>64.0</td>\n",
       "      <td>NaN</td>\n",
       "      <td>NaN</td>\n",
       "      <td>23.3</td>\n",
       "      <td>0.672</td>\n",
       "      <td>32</td>\n",
       "      <td>1</td>\n",
       "    </tr>\n",
       "    <tr>\n",
       "      <th>3</th>\n",
       "      <td>1</td>\n",
       "      <td>89.0</td>\n",
       "      <td>66.0</td>\n",
       "      <td>23.0</td>\n",
       "      <td>94.0</td>\n",
       "      <td>28.1</td>\n",
       "      <td>0.167</td>\n",
       "      <td>21</td>\n",
       "      <td>0</td>\n",
       "    </tr>\n",
       "    <tr>\n",
       "      <th>4</th>\n",
       "      <td>0</td>\n",
       "      <td>137.0</td>\n",
       "      <td>40.0</td>\n",
       "      <td>35.0</td>\n",
       "      <td>168.0</td>\n",
       "      <td>43.1</td>\n",
       "      <td>2.288</td>\n",
       "      <td>33</td>\n",
       "      <td>1</td>\n",
       "    </tr>\n",
       "    <tr>\n",
       "      <th>...</th>\n",
       "      <td>...</td>\n",
       "      <td>...</td>\n",
       "      <td>...</td>\n",
       "      <td>...</td>\n",
       "      <td>...</td>\n",
       "      <td>...</td>\n",
       "      <td>...</td>\n",
       "      <td>...</td>\n",
       "      <td>...</td>\n",
       "    </tr>\n",
       "    <tr>\n",
       "      <th>763</th>\n",
       "      <td>10</td>\n",
       "      <td>101.0</td>\n",
       "      <td>76.0</td>\n",
       "      <td>48.0</td>\n",
       "      <td>180.0</td>\n",
       "      <td>32.9</td>\n",
       "      <td>0.171</td>\n",
       "      <td>63</td>\n",
       "      <td>0</td>\n",
       "    </tr>\n",
       "    <tr>\n",
       "      <th>764</th>\n",
       "      <td>2</td>\n",
       "      <td>122.0</td>\n",
       "      <td>70.0</td>\n",
       "      <td>27.0</td>\n",
       "      <td>NaN</td>\n",
       "      <td>36.8</td>\n",
       "      <td>0.340</td>\n",
       "      <td>27</td>\n",
       "      <td>0</td>\n",
       "    </tr>\n",
       "    <tr>\n",
       "      <th>765</th>\n",
       "      <td>5</td>\n",
       "      <td>121.0</td>\n",
       "      <td>72.0</td>\n",
       "      <td>23.0</td>\n",
       "      <td>112.0</td>\n",
       "      <td>26.2</td>\n",
       "      <td>0.245</td>\n",
       "      <td>30</td>\n",
       "      <td>0</td>\n",
       "    </tr>\n",
       "    <tr>\n",
       "      <th>766</th>\n",
       "      <td>1</td>\n",
       "      <td>126.0</td>\n",
       "      <td>60.0</td>\n",
       "      <td>NaN</td>\n",
       "      <td>NaN</td>\n",
       "      <td>30.1</td>\n",
       "      <td>0.349</td>\n",
       "      <td>47</td>\n",
       "      <td>1</td>\n",
       "    </tr>\n",
       "    <tr>\n",
       "      <th>767</th>\n",
       "      <td>1</td>\n",
       "      <td>93.0</td>\n",
       "      <td>70.0</td>\n",
       "      <td>31.0</td>\n",
       "      <td>NaN</td>\n",
       "      <td>30.4</td>\n",
       "      <td>0.315</td>\n",
       "      <td>23</td>\n",
       "      <td>0</td>\n",
       "    </tr>\n",
       "  </tbody>\n",
       "</table>\n",
       "<p>768 rows × 9 columns</p>\n",
       "</div>"
      ],
      "text/plain": [
       "     Pregnancies  Glucose  BloodPressure  SkinThickness  Insulin   BMI  \\\n",
       "0              6    148.0           72.0           35.0      NaN  33.6   \n",
       "1              1     85.0           66.0           29.0      NaN  26.6   \n",
       "2              8    183.0           64.0            NaN      NaN  23.3   \n",
       "3              1     89.0           66.0           23.0     94.0  28.1   \n",
       "4              0    137.0           40.0           35.0    168.0  43.1   \n",
       "..           ...      ...            ...            ...      ...   ...   \n",
       "763           10    101.0           76.0           48.0    180.0  32.9   \n",
       "764            2    122.0           70.0           27.0      NaN  36.8   \n",
       "765            5    121.0           72.0           23.0    112.0  26.2   \n",
       "766            1    126.0           60.0            NaN      NaN  30.1   \n",
       "767            1     93.0           70.0           31.0      NaN  30.4   \n",
       "\n",
       "     DiabetesPedigreeFunction  Age  Outcome  \n",
       "0                       0.627   50        1  \n",
       "1                       0.351   31        0  \n",
       "2                       0.672   32        1  \n",
       "3                       0.167   21        0  \n",
       "4                       2.288   33        1  \n",
       "..                        ...  ...      ...  \n",
       "763                     0.171   63        0  \n",
       "764                     0.340   27        0  \n",
       "765                     0.245   30        0  \n",
       "766                     0.349   47        1  \n",
       "767                     0.315   23        0  \n",
       "\n",
       "[768 rows x 9 columns]"
      ]
     },
     "execution_count": 5,
     "metadata": {},
     "output_type": "execute_result"
    }
   ],
   "source": [
    "data"
   ]
  },
  {
   "cell_type": "code",
   "execution_count": 6,
   "id": "b1599104-fc1d-4fc0-b2be-19109b039d2f",
   "metadata": {},
   "outputs": [
    {
     "data": {
      "text/plain": [
       "Pregnancies                   0\n",
       "Glucose                       5\n",
       "BloodPressure                35\n",
       "SkinThickness               227\n",
       "Insulin                     374\n",
       "BMI                          11\n",
       "DiabetesPedigreeFunction      0\n",
       "Age                           0\n",
       "Outcome                       0\n",
       "dtype: int64"
      ]
     },
     "execution_count": 6,
     "metadata": {},
     "output_type": "execute_result"
    }
   ],
   "source": [
    "data.isnull().sum()"
   ]
  },
  {
   "cell_type": "code",
   "execution_count": 7,
   "id": "02937a17-ac5c-4a81-8394-4d14bd50fa8e",
   "metadata": {},
   "outputs": [
    {
     "data": {
      "text/plain": [
       "count    768.000000\n",
       "mean      33.240885\n",
       "std       11.760232\n",
       "min       21.000000\n",
       "25%       24.000000\n",
       "50%       29.000000\n",
       "75%       41.000000\n",
       "max       81.000000\n",
       "Name: Age, dtype: float64"
      ]
     },
     "execution_count": 7,
     "metadata": {},
     "output_type": "execute_result"
    }
   ],
   "source": [
    "data['Age'].describe()"
   ]
  },
  {
   "cell_type": "code",
   "execution_count": 9,
   "id": "cc7cdeb9-7dca-4cbe-b3e3-e7c036d14e27",
   "metadata": {},
   "outputs": [],
   "source": [
    "def ageRange(age) : \n",
    "    if 21 <= age < 30 :\n",
    "        return 1\n",
    "    elif 30 <= age < 40 :\n",
    "        return 2\n",
    "    elif 40 <= age < 50 :\n",
    "        return 3\n",
    "    elif 50 <= age < 60 :\n",
    "        return 4\n",
    "    elif 60 <= age < 70 :\n",
    "        return 5\n",
    "    else :\n",
    "        return 6\n",
    "    \n",
    "    #Age구간 설정 함수 ageRange"
   ]
  },
  {
   "cell_type": "code",
   "execution_count": 10,
   "id": "b120724a-eac7-4377-ae07-2414f416febe",
   "metadata": {},
   "outputs": [],
   "source": [
    "data['Age2'] = data['Age'].apply(ageRange) #Age를 구간별로 나눈 새로운 변수 Age2"
   ]
  },
  {
   "cell_type": "code",
   "execution_count": 11,
   "id": "77986e08-8279-4e4b-b527-78e133b4c570",
   "metadata": {},
   "outputs": [
    {
     "data": {
      "text/html": [
       "<div>\n",
       "<style scoped>\n",
       "    .dataframe tbody tr th:only-of-type {\n",
       "        vertical-align: middle;\n",
       "    }\n",
       "\n",
       "    .dataframe tbody tr th {\n",
       "        vertical-align: top;\n",
       "    }\n",
       "\n",
       "    .dataframe thead th {\n",
       "        text-align: right;\n",
       "    }\n",
       "</style>\n",
       "<table border=\"1\" class=\"dataframe\">\n",
       "  <thead>\n",
       "    <tr style=\"text-align: right;\">\n",
       "      <th></th>\n",
       "      <th>Pregnancies</th>\n",
       "      <th>Glucose</th>\n",
       "      <th>BloodPressure</th>\n",
       "      <th>SkinThickness</th>\n",
       "      <th>Insulin</th>\n",
       "      <th>BMI</th>\n",
       "      <th>DiabetesPedigreeFunction</th>\n",
       "      <th>Age</th>\n",
       "      <th>Outcome</th>\n",
       "      <th>Age2</th>\n",
       "    </tr>\n",
       "  </thead>\n",
       "  <tbody>\n",
       "    <tr>\n",
       "      <th>0</th>\n",
       "      <td>6</td>\n",
       "      <td>148.0</td>\n",
       "      <td>72.0</td>\n",
       "      <td>35.0</td>\n",
       "      <td>NaN</td>\n",
       "      <td>33.6</td>\n",
       "      <td>0.627</td>\n",
       "      <td>50</td>\n",
       "      <td>1</td>\n",
       "      <td>4</td>\n",
       "    </tr>\n",
       "    <tr>\n",
       "      <th>1</th>\n",
       "      <td>1</td>\n",
       "      <td>85.0</td>\n",
       "      <td>66.0</td>\n",
       "      <td>29.0</td>\n",
       "      <td>NaN</td>\n",
       "      <td>26.6</td>\n",
       "      <td>0.351</td>\n",
       "      <td>31</td>\n",
       "      <td>0</td>\n",
       "      <td>2</td>\n",
       "    </tr>\n",
       "    <tr>\n",
       "      <th>2</th>\n",
       "      <td>8</td>\n",
       "      <td>183.0</td>\n",
       "      <td>64.0</td>\n",
       "      <td>NaN</td>\n",
       "      <td>NaN</td>\n",
       "      <td>23.3</td>\n",
       "      <td>0.672</td>\n",
       "      <td>32</td>\n",
       "      <td>1</td>\n",
       "      <td>2</td>\n",
       "    </tr>\n",
       "    <tr>\n",
       "      <th>3</th>\n",
       "      <td>1</td>\n",
       "      <td>89.0</td>\n",
       "      <td>66.0</td>\n",
       "      <td>23.0</td>\n",
       "      <td>94.0</td>\n",
       "      <td>28.1</td>\n",
       "      <td>0.167</td>\n",
       "      <td>21</td>\n",
       "      <td>0</td>\n",
       "      <td>1</td>\n",
       "    </tr>\n",
       "    <tr>\n",
       "      <th>4</th>\n",
       "      <td>0</td>\n",
       "      <td>137.0</td>\n",
       "      <td>40.0</td>\n",
       "      <td>35.0</td>\n",
       "      <td>168.0</td>\n",
       "      <td>43.1</td>\n",
       "      <td>2.288</td>\n",
       "      <td>33</td>\n",
       "      <td>1</td>\n",
       "      <td>2</td>\n",
       "    </tr>\n",
       "    <tr>\n",
       "      <th>...</th>\n",
       "      <td>...</td>\n",
       "      <td>...</td>\n",
       "      <td>...</td>\n",
       "      <td>...</td>\n",
       "      <td>...</td>\n",
       "      <td>...</td>\n",
       "      <td>...</td>\n",
       "      <td>...</td>\n",
       "      <td>...</td>\n",
       "      <td>...</td>\n",
       "    </tr>\n",
       "    <tr>\n",
       "      <th>763</th>\n",
       "      <td>10</td>\n",
       "      <td>101.0</td>\n",
       "      <td>76.0</td>\n",
       "      <td>48.0</td>\n",
       "      <td>180.0</td>\n",
       "      <td>32.9</td>\n",
       "      <td>0.171</td>\n",
       "      <td>63</td>\n",
       "      <td>0</td>\n",
       "      <td>5</td>\n",
       "    </tr>\n",
       "    <tr>\n",
       "      <th>764</th>\n",
       "      <td>2</td>\n",
       "      <td>122.0</td>\n",
       "      <td>70.0</td>\n",
       "      <td>27.0</td>\n",
       "      <td>NaN</td>\n",
       "      <td>36.8</td>\n",
       "      <td>0.340</td>\n",
       "      <td>27</td>\n",
       "      <td>0</td>\n",
       "      <td>1</td>\n",
       "    </tr>\n",
       "    <tr>\n",
       "      <th>765</th>\n",
       "      <td>5</td>\n",
       "      <td>121.0</td>\n",
       "      <td>72.0</td>\n",
       "      <td>23.0</td>\n",
       "      <td>112.0</td>\n",
       "      <td>26.2</td>\n",
       "      <td>0.245</td>\n",
       "      <td>30</td>\n",
       "      <td>0</td>\n",
       "      <td>2</td>\n",
       "    </tr>\n",
       "    <tr>\n",
       "      <th>766</th>\n",
       "      <td>1</td>\n",
       "      <td>126.0</td>\n",
       "      <td>60.0</td>\n",
       "      <td>NaN</td>\n",
       "      <td>NaN</td>\n",
       "      <td>30.1</td>\n",
       "      <td>0.349</td>\n",
       "      <td>47</td>\n",
       "      <td>1</td>\n",
       "      <td>3</td>\n",
       "    </tr>\n",
       "    <tr>\n",
       "      <th>767</th>\n",
       "      <td>1</td>\n",
       "      <td>93.0</td>\n",
       "      <td>70.0</td>\n",
       "      <td>31.0</td>\n",
       "      <td>NaN</td>\n",
       "      <td>30.4</td>\n",
       "      <td>0.315</td>\n",
       "      <td>23</td>\n",
       "      <td>0</td>\n",
       "      <td>1</td>\n",
       "    </tr>\n",
       "  </tbody>\n",
       "</table>\n",
       "<p>768 rows × 10 columns</p>\n",
       "</div>"
      ],
      "text/plain": [
       "     Pregnancies  Glucose  BloodPressure  SkinThickness  Insulin   BMI  \\\n",
       "0              6    148.0           72.0           35.0      NaN  33.6   \n",
       "1              1     85.0           66.0           29.0      NaN  26.6   \n",
       "2              8    183.0           64.0            NaN      NaN  23.3   \n",
       "3              1     89.0           66.0           23.0     94.0  28.1   \n",
       "4              0    137.0           40.0           35.0    168.0  43.1   \n",
       "..           ...      ...            ...            ...      ...   ...   \n",
       "763           10    101.0           76.0           48.0    180.0  32.9   \n",
       "764            2    122.0           70.0           27.0      NaN  36.8   \n",
       "765            5    121.0           72.0           23.0    112.0  26.2   \n",
       "766            1    126.0           60.0            NaN      NaN  30.1   \n",
       "767            1     93.0           70.0           31.0      NaN  30.4   \n",
       "\n",
       "     DiabetesPedigreeFunction  Age  Outcome  Age2  \n",
       "0                       0.627   50        1     4  \n",
       "1                       0.351   31        0     2  \n",
       "2                       0.672   32        1     2  \n",
       "3                       0.167   21        0     1  \n",
       "4                       2.288   33        1     2  \n",
       "..                        ...  ...      ...   ...  \n",
       "763                     0.171   63        0     5  \n",
       "764                     0.340   27        0     1  \n",
       "765                     0.245   30        0     2  \n",
       "766                     0.349   47        1     3  \n",
       "767                     0.315   23        0     1  \n",
       "\n",
       "[768 rows x 10 columns]"
      ]
     },
     "execution_count": 11,
     "metadata": {},
     "output_type": "execute_result"
    }
   ],
   "source": [
    "data"
   ]
  },
  {
   "cell_type": "code",
   "execution_count": 14,
   "id": "852e4139-73b1-4330-bb09-156d8ff69f20",
   "metadata": {},
   "outputs": [
    {
     "data": {
      "text/plain": [
       "Age2\n",
       "1    105.0\n",
       "2    140.0\n",
       "3    131.0\n",
       "4    192.0\n",
       "5    258.0\n",
       "6     60.0\n",
       "Name: Insulin, dtype: float64"
      ]
     },
     "execution_count": 14,
     "metadata": {},
     "output_type": "execute_result"
    }
   ],
   "source": [
    "data.groupby('Age2')['Insulin'].median()\n",
    "#새로 나눈 나이그룹별 인슐린 수치의 평균\n",
    "#그룹간 평균수치가 상이하게 다름. <<중위수가 더 적절>>"
   ]
  },
  {
   "cell_type": "code",
   "execution_count": 17,
   "id": "662df5db-d65e-44ee-9266-6343b4ca5268",
   "metadata": {},
   "outputs": [],
   "source": [
    "col_list = ['Glucose','BloodPressure','SkinThickness','Insulin','BMI']\n",
    "for col in col_list :\n",
    "    data[col].fillna(data.groupby('Age2')[col].transform('median'), inplace=True)\n",
    "    "
   ]
  },
  {
   "cell_type": "code",
   "execution_count": 18,
   "id": "85f3ecbb-5aa4-4834-8183-637dc4a1b403",
   "metadata": {},
   "outputs": [
    {
     "data": {
      "text/html": [
       "<div>\n",
       "<style scoped>\n",
       "    .dataframe tbody tr th:only-of-type {\n",
       "        vertical-align: middle;\n",
       "    }\n",
       "\n",
       "    .dataframe tbody tr th {\n",
       "        vertical-align: top;\n",
       "    }\n",
       "\n",
       "    .dataframe thead th {\n",
       "        text-align: right;\n",
       "    }\n",
       "</style>\n",
       "<table border=\"1\" class=\"dataframe\">\n",
       "  <thead>\n",
       "    <tr style=\"text-align: right;\">\n",
       "      <th></th>\n",
       "      <th>Pregnancies</th>\n",
       "      <th>Glucose</th>\n",
       "      <th>BloodPressure</th>\n",
       "      <th>SkinThickness</th>\n",
       "      <th>Insulin</th>\n",
       "      <th>BMI</th>\n",
       "      <th>DiabetesPedigreeFunction</th>\n",
       "      <th>Age</th>\n",
       "      <th>Outcome</th>\n",
       "      <th>Age2</th>\n",
       "    </tr>\n",
       "  </thead>\n",
       "  <tbody>\n",
       "    <tr>\n",
       "      <th>0</th>\n",
       "      <td>6</td>\n",
       "      <td>148.0</td>\n",
       "      <td>72.0</td>\n",
       "      <td>35.0</td>\n",
       "      <td>192.0</td>\n",
       "      <td>33.6</td>\n",
       "      <td>0.627</td>\n",
       "      <td>50</td>\n",
       "      <td>1</td>\n",
       "      <td>4</td>\n",
       "    </tr>\n",
       "    <tr>\n",
       "      <th>1</th>\n",
       "      <td>1</td>\n",
       "      <td>85.0</td>\n",
       "      <td>66.0</td>\n",
       "      <td>29.0</td>\n",
       "      <td>140.0</td>\n",
       "      <td>26.6</td>\n",
       "      <td>0.351</td>\n",
       "      <td>31</td>\n",
       "      <td>0</td>\n",
       "      <td>2</td>\n",
       "    </tr>\n",
       "    <tr>\n",
       "      <th>2</th>\n",
       "      <td>8</td>\n",
       "      <td>183.0</td>\n",
       "      <td>64.0</td>\n",
       "      <td>32.0</td>\n",
       "      <td>140.0</td>\n",
       "      <td>23.3</td>\n",
       "      <td>0.672</td>\n",
       "      <td>32</td>\n",
       "      <td>1</td>\n",
       "      <td>2</td>\n",
       "    </tr>\n",
       "    <tr>\n",
       "      <th>3</th>\n",
       "      <td>1</td>\n",
       "      <td>89.0</td>\n",
       "      <td>66.0</td>\n",
       "      <td>23.0</td>\n",
       "      <td>94.0</td>\n",
       "      <td>28.1</td>\n",
       "      <td>0.167</td>\n",
       "      <td>21</td>\n",
       "      <td>0</td>\n",
       "      <td>1</td>\n",
       "    </tr>\n",
       "    <tr>\n",
       "      <th>4</th>\n",
       "      <td>0</td>\n",
       "      <td>137.0</td>\n",
       "      <td>40.0</td>\n",
       "      <td>35.0</td>\n",
       "      <td>168.0</td>\n",
       "      <td>43.1</td>\n",
       "      <td>2.288</td>\n",
       "      <td>33</td>\n",
       "      <td>1</td>\n",
       "      <td>2</td>\n",
       "    </tr>\n",
       "    <tr>\n",
       "      <th>...</th>\n",
       "      <td>...</td>\n",
       "      <td>...</td>\n",
       "      <td>...</td>\n",
       "      <td>...</td>\n",
       "      <td>...</td>\n",
       "      <td>...</td>\n",
       "      <td>...</td>\n",
       "      <td>...</td>\n",
       "      <td>...</td>\n",
       "      <td>...</td>\n",
       "    </tr>\n",
       "    <tr>\n",
       "      <th>763</th>\n",
       "      <td>10</td>\n",
       "      <td>101.0</td>\n",
       "      <td>76.0</td>\n",
       "      <td>48.0</td>\n",
       "      <td>180.0</td>\n",
       "      <td>32.9</td>\n",
       "      <td>0.171</td>\n",
       "      <td>63</td>\n",
       "      <td>0</td>\n",
       "      <td>5</td>\n",
       "    </tr>\n",
       "    <tr>\n",
       "      <th>764</th>\n",
       "      <td>2</td>\n",
       "      <td>122.0</td>\n",
       "      <td>70.0</td>\n",
       "      <td>27.0</td>\n",
       "      <td>105.0</td>\n",
       "      <td>36.8</td>\n",
       "      <td>0.340</td>\n",
       "      <td>27</td>\n",
       "      <td>0</td>\n",
       "      <td>1</td>\n",
       "    </tr>\n",
       "    <tr>\n",
       "      <th>765</th>\n",
       "      <td>5</td>\n",
       "      <td>121.0</td>\n",
       "      <td>72.0</td>\n",
       "      <td>23.0</td>\n",
       "      <td>112.0</td>\n",
       "      <td>26.2</td>\n",
       "      <td>0.245</td>\n",
       "      <td>30</td>\n",
       "      <td>0</td>\n",
       "      <td>2</td>\n",
       "    </tr>\n",
       "    <tr>\n",
       "      <th>766</th>\n",
       "      <td>1</td>\n",
       "      <td>126.0</td>\n",
       "      <td>60.0</td>\n",
       "      <td>31.0</td>\n",
       "      <td>131.0</td>\n",
       "      <td>30.1</td>\n",
       "      <td>0.349</td>\n",
       "      <td>47</td>\n",
       "      <td>1</td>\n",
       "      <td>3</td>\n",
       "    </tr>\n",
       "    <tr>\n",
       "      <th>767</th>\n",
       "      <td>1</td>\n",
       "      <td>93.0</td>\n",
       "      <td>70.0</td>\n",
       "      <td>31.0</td>\n",
       "      <td>105.0</td>\n",
       "      <td>30.4</td>\n",
       "      <td>0.315</td>\n",
       "      <td>23</td>\n",
       "      <td>0</td>\n",
       "      <td>1</td>\n",
       "    </tr>\n",
       "  </tbody>\n",
       "</table>\n",
       "<p>768 rows × 10 columns</p>\n",
       "</div>"
      ],
      "text/plain": [
       "     Pregnancies  Glucose  BloodPressure  SkinThickness  Insulin   BMI  \\\n",
       "0              6    148.0           72.0           35.0    192.0  33.6   \n",
       "1              1     85.0           66.0           29.0    140.0  26.6   \n",
       "2              8    183.0           64.0           32.0    140.0  23.3   \n",
       "3              1     89.0           66.0           23.0     94.0  28.1   \n",
       "4              0    137.0           40.0           35.0    168.0  43.1   \n",
       "..           ...      ...            ...            ...      ...   ...   \n",
       "763           10    101.0           76.0           48.0    180.0  32.9   \n",
       "764            2    122.0           70.0           27.0    105.0  36.8   \n",
       "765            5    121.0           72.0           23.0    112.0  26.2   \n",
       "766            1    126.0           60.0           31.0    131.0  30.1   \n",
       "767            1     93.0           70.0           31.0    105.0  30.4   \n",
       "\n",
       "     DiabetesPedigreeFunction  Age  Outcome  Age2  \n",
       "0                       0.627   50        1     4  \n",
       "1                       0.351   31        0     2  \n",
       "2                       0.672   32        1     2  \n",
       "3                       0.167   21        0     1  \n",
       "4                       2.288   33        1     2  \n",
       "..                        ...  ...      ...   ...  \n",
       "763                     0.171   63        0     5  \n",
       "764                     0.340   27        0     1  \n",
       "765                     0.245   30        0     2  \n",
       "766                     0.349   47        1     3  \n",
       "767                     0.315   23        0     1  \n",
       "\n",
       "[768 rows x 10 columns]"
      ]
     },
     "execution_count": 18,
     "metadata": {},
     "output_type": "execute_result"
    }
   ],
   "source": [
    "data"
   ]
  },
  {
   "cell_type": "code",
   "execution_count": 19,
   "id": "f4b0b19c-1ec3-425d-8c46-3cd1ffebb1cd",
   "metadata": {},
   "outputs": [
    {
     "data": {
      "text/plain": [
       "Pregnancies                 0\n",
       "Glucose                     0\n",
       "BloodPressure               0\n",
       "SkinThickness               0\n",
       "Insulin                     0\n",
       "BMI                         0\n",
       "DiabetesPedigreeFunction    0\n",
       "Age                         0\n",
       "Outcome                     0\n",
       "Age2                        0\n",
       "dtype: int64"
      ]
     },
     "execution_count": 19,
     "metadata": {},
     "output_type": "execute_result"
    }
   ],
   "source": [
    "data.isnull().sum() #null값을 다 채웠음을 확인"
   ]
  },
  {
   "cell_type": "code",
   "execution_count": 20,
   "id": "9a78cde7-44a9-4f26-bb9d-73f4f496b192",
   "metadata": {},
   "outputs": [],
   "source": [
    "model=SVC(kernel = 'linear',C=5, gamma=0.0001)     #모델을 변화시켜서 정확도 변화 확인!!"
   ]
  },
  {
   "cell_type": "code",
   "execution_count": 21,
   "id": "b67f4c53-9718-4439-8da8-39661e9bc8e7",
   "metadata": {},
   "outputs": [],
   "source": [
    "x= data.drop('Outcome', axis=1)"
   ]
  },
  {
   "cell_type": "code",
   "execution_count": 22,
   "id": "70794c55-15a0-4b96-bc56-ac8668762b65",
   "metadata": {},
   "outputs": [],
   "source": [
    "y = data['Outcome']"
   ]
  },
  {
   "cell_type": "code",
   "execution_count": 23,
   "id": "90be7f71-400c-4f73-a8a7-d9d26612b8e5",
   "metadata": {},
   "outputs": [],
   "source": [
    "from sklearn.model_selection import train_test_split"
   ]
  },
  {
   "cell_type": "code",
   "execution_count": 24,
   "id": "e1de804b-3e36-49ff-81f1-6b3c7cdd6f85",
   "metadata": {},
   "outputs": [],
   "source": [
    "x_train, x_test, y_train, y_test = train_test_split(x,y,test_size=0.2, random_state=0, stratify=y)"
   ]
  },
  {
   "cell_type": "code",
   "execution_count": 25,
   "id": "0068185f-a3e5-46cd-87e1-71f75b0f1704",
   "metadata": {},
   "outputs": [
    {
     "data": {
      "text/plain": [
       "SVC(C=5, gamma=0.0001, kernel='linear')"
      ]
     },
     "execution_count": 25,
     "metadata": {},
     "output_type": "execute_result"
    }
   ],
   "source": [
    "model.fit(x_train, y_train)"
   ]
  },
  {
   "cell_type": "code",
   "execution_count": 26,
   "id": "cf6405fd-9c98-403f-bf6f-a7734eaf68b9",
   "metadata": {},
   "outputs": [
    {
     "data": {
      "text/plain": [
       "0.7719869706840391"
      ]
     },
     "execution_count": 26,
     "metadata": {},
     "output_type": "execute_result"
    }
   ],
   "source": [
    "model.score(x_train, y_train)"
   ]
  },
  {
   "cell_type": "code",
   "execution_count": 27,
   "id": "bc06a3c2-9ab9-4474-b8fb-5ca79d506861",
   "metadata": {},
   "outputs": [
    {
     "data": {
      "text/plain": [
       "0.7597402597402597"
      ]
     },
     "execution_count": 27,
     "metadata": {},
     "output_type": "execute_result"
    }
   ],
   "source": [
    "model.score(x_test, y_test)"
   ]
  },
  {
   "cell_type": "code",
   "execution_count": 28,
   "id": "7358804a-9b3a-4d6e-b40b-adedd385eb15",
   "metadata": {},
   "outputs": [],
   "source": [
    "data=[]\n",
    "for c in range(1,5) : \n",
    "    for i in range(1, 10) : \n",
    "        gamma = 0.0001 * i\n",
    "        model = SVC(C=c, gamma=gamma)\n",
    "        model.fit(x_train,y_train)\n",
    "        ret1 = model.score(x_train, y_train)\n",
    "        ret2 = model.score(x_test, y_test)\n",
    "        temp=[]\n",
    "        temp.append(c)\n",
    "        temp.append(gamma)\n",
    "        temp.append(ret1)\n",
    "        temp.append(ret2)\n",
    "        data.append(temp)"
   ]
  },
  {
   "cell_type": "code",
   "execution_count": 29,
   "id": "8f5c5fc9-9b7a-4302-b512-747fcb62d7e6",
   "metadata": {},
   "outputs": [],
   "source": [
    "df = pd.DataFrame(data, columns = ['C','gamma','train','test'])"
   ]
  },
  {
   "cell_type": "code",
   "execution_count": 32,
   "id": "327e4641-58fd-400c-a923-5c34715d8133",
   "metadata": {
    "collapsed": true,
    "jupyter": {
     "outputs_hidden": true
    },
    "tags": []
   },
   "outputs": [
    {
     "data": {
      "text/html": [
       "<div>\n",
       "<style scoped>\n",
       "    .dataframe tbody tr th:only-of-type {\n",
       "        vertical-align: middle;\n",
       "    }\n",
       "\n",
       "    .dataframe tbody tr th {\n",
       "        vertical-align: top;\n",
       "    }\n",
       "\n",
       "    .dataframe thead th {\n",
       "        text-align: right;\n",
       "    }\n",
       "</style>\n",
       "<table border=\"1\" class=\"dataframe\">\n",
       "  <thead>\n",
       "    <tr style=\"text-align: right;\">\n",
       "      <th></th>\n",
       "      <th>C</th>\n",
       "      <th>gamma</th>\n",
       "      <th>train</th>\n",
       "      <th>test</th>\n",
       "    </tr>\n",
       "  </thead>\n",
       "  <tbody>\n",
       "    <tr>\n",
       "      <th>27</th>\n",
       "      <td>4</td>\n",
       "      <td>0.0001</td>\n",
       "      <td>0.781759</td>\n",
       "      <td>0.798701</td>\n",
       "    </tr>\n",
       "    <tr>\n",
       "      <th>18</th>\n",
       "      <td>3</td>\n",
       "      <td>0.0001</td>\n",
       "      <td>0.773616</td>\n",
       "      <td>0.798701</td>\n",
       "    </tr>\n",
       "    <tr>\n",
       "      <th>31</th>\n",
       "      <td>4</td>\n",
       "      <td>0.0005</td>\n",
       "      <td>0.835505</td>\n",
       "      <td>0.792208</td>\n",
       "    </tr>\n",
       "    <tr>\n",
       "      <th>30</th>\n",
       "      <td>4</td>\n",
       "      <td>0.0004</td>\n",
       "      <td>0.828990</td>\n",
       "      <td>0.792208</td>\n",
       "    </tr>\n",
       "    <tr>\n",
       "      <th>29</th>\n",
       "      <td>4</td>\n",
       "      <td>0.0003</td>\n",
       "      <td>0.809446</td>\n",
       "      <td>0.792208</td>\n",
       "    </tr>\n",
       "    <tr>\n",
       "      <th>11</th>\n",
       "      <td>2</td>\n",
       "      <td>0.0003</td>\n",
       "      <td>0.794788</td>\n",
       "      <td>0.792208</td>\n",
       "    </tr>\n",
       "    <tr>\n",
       "      <th>19</th>\n",
       "      <td>3</td>\n",
       "      <td>0.0002</td>\n",
       "      <td>0.789902</td>\n",
       "      <td>0.792208</td>\n",
       "    </tr>\n",
       "    <tr>\n",
       "      <th>2</th>\n",
       "      <td>1</td>\n",
       "      <td>0.0003</td>\n",
       "      <td>0.781759</td>\n",
       "      <td>0.792208</td>\n",
       "    </tr>\n",
       "    <tr>\n",
       "      <th>10</th>\n",
       "      <td>2</td>\n",
       "      <td>0.0002</td>\n",
       "      <td>0.778502</td>\n",
       "      <td>0.792208</td>\n",
       "    </tr>\n",
       "    <tr>\n",
       "      <th>1</th>\n",
       "      <td>1</td>\n",
       "      <td>0.0002</td>\n",
       "      <td>0.773616</td>\n",
       "      <td>0.792208</td>\n",
       "    </tr>\n",
       "    <tr>\n",
       "      <th>35</th>\n",
       "      <td>4</td>\n",
       "      <td>0.0009</td>\n",
       "      <td>0.866450</td>\n",
       "      <td>0.785714</td>\n",
       "    </tr>\n",
       "    <tr>\n",
       "      <th>7</th>\n",
       "      <td>1</td>\n",
       "      <td>0.0008</td>\n",
       "      <td>0.817590</td>\n",
       "      <td>0.785714</td>\n",
       "    </tr>\n",
       "    <tr>\n",
       "      <th>6</th>\n",
       "      <td>1</td>\n",
       "      <td>0.0007</td>\n",
       "      <td>0.811075</td>\n",
       "      <td>0.785714</td>\n",
       "    </tr>\n",
       "    <tr>\n",
       "      <th>5</th>\n",
       "      <td>1</td>\n",
       "      <td>0.0006</td>\n",
       "      <td>0.806189</td>\n",
       "      <td>0.785714</td>\n",
       "    </tr>\n",
       "    <tr>\n",
       "      <th>12</th>\n",
       "      <td>2</td>\n",
       "      <td>0.0004</td>\n",
       "      <td>0.806189</td>\n",
       "      <td>0.785714</td>\n",
       "    </tr>\n",
       "    <tr>\n",
       "      <th>20</th>\n",
       "      <td>3</td>\n",
       "      <td>0.0003</td>\n",
       "      <td>0.804560</td>\n",
       "      <td>0.785714</td>\n",
       "    </tr>\n",
       "    <tr>\n",
       "      <th>28</th>\n",
       "      <td>4</td>\n",
       "      <td>0.0002</td>\n",
       "      <td>0.793160</td>\n",
       "      <td>0.785714</td>\n",
       "    </tr>\n",
       "    <tr>\n",
       "      <th>3</th>\n",
       "      <td>1</td>\n",
       "      <td>0.0004</td>\n",
       "      <td>0.786645</td>\n",
       "      <td>0.785714</td>\n",
       "    </tr>\n",
       "    <tr>\n",
       "      <th>9</th>\n",
       "      <td>2</td>\n",
       "      <td>0.0001</td>\n",
       "      <td>0.767101</td>\n",
       "      <td>0.785714</td>\n",
       "    </tr>\n",
       "    <tr>\n",
       "      <th>34</th>\n",
       "      <td>4</td>\n",
       "      <td>0.0008</td>\n",
       "      <td>0.863192</td>\n",
       "      <td>0.779221</td>\n",
       "    </tr>\n",
       "    <tr>\n",
       "      <th>25</th>\n",
       "      <td>3</td>\n",
       "      <td>0.0008</td>\n",
       "      <td>0.856678</td>\n",
       "      <td>0.779221</td>\n",
       "    </tr>\n",
       "    <tr>\n",
       "      <th>33</th>\n",
       "      <td>4</td>\n",
       "      <td>0.0007</td>\n",
       "      <td>0.851792</td>\n",
       "      <td>0.779221</td>\n",
       "    </tr>\n",
       "    <tr>\n",
       "      <th>32</th>\n",
       "      <td>4</td>\n",
       "      <td>0.0006</td>\n",
       "      <td>0.850163</td>\n",
       "      <td>0.779221</td>\n",
       "    </tr>\n",
       "    <tr>\n",
       "      <th>24</th>\n",
       "      <td>3</td>\n",
       "      <td>0.0007</td>\n",
       "      <td>0.848534</td>\n",
       "      <td>0.779221</td>\n",
       "    </tr>\n",
       "    <tr>\n",
       "      <th>23</th>\n",
       "      <td>3</td>\n",
       "      <td>0.0006</td>\n",
       "      <td>0.842020</td>\n",
       "      <td>0.779221</td>\n",
       "    </tr>\n",
       "    <tr>\n",
       "      <th>15</th>\n",
       "      <td>2</td>\n",
       "      <td>0.0007</td>\n",
       "      <td>0.840391</td>\n",
       "      <td>0.779221</td>\n",
       "    </tr>\n",
       "    <tr>\n",
       "      <th>22</th>\n",
       "      <td>3</td>\n",
       "      <td>0.0005</td>\n",
       "      <td>0.833876</td>\n",
       "      <td>0.779221</td>\n",
       "    </tr>\n",
       "    <tr>\n",
       "      <th>14</th>\n",
       "      <td>2</td>\n",
       "      <td>0.0006</td>\n",
       "      <td>0.828990</td>\n",
       "      <td>0.779221</td>\n",
       "    </tr>\n",
       "    <tr>\n",
       "      <th>21</th>\n",
       "      <td>3</td>\n",
       "      <td>0.0004</td>\n",
       "      <td>0.822476</td>\n",
       "      <td>0.779221</td>\n",
       "    </tr>\n",
       "    <tr>\n",
       "      <th>8</th>\n",
       "      <td>1</td>\n",
       "      <td>0.0009</td>\n",
       "      <td>0.819218</td>\n",
       "      <td>0.779221</td>\n",
       "    </tr>\n",
       "    <tr>\n",
       "      <th>4</th>\n",
       "      <td>1</td>\n",
       "      <td>0.0005</td>\n",
       "      <td>0.801303</td>\n",
       "      <td>0.779221</td>\n",
       "    </tr>\n",
       "    <tr>\n",
       "      <th>26</th>\n",
       "      <td>3</td>\n",
       "      <td>0.0009</td>\n",
       "      <td>0.863192</td>\n",
       "      <td>0.772727</td>\n",
       "    </tr>\n",
       "    <tr>\n",
       "      <th>16</th>\n",
       "      <td>2</td>\n",
       "      <td>0.0008</td>\n",
       "      <td>0.845277</td>\n",
       "      <td>0.772727</td>\n",
       "    </tr>\n",
       "    <tr>\n",
       "      <th>13</th>\n",
       "      <td>2</td>\n",
       "      <td>0.0005</td>\n",
       "      <td>0.817590</td>\n",
       "      <td>0.772727</td>\n",
       "    </tr>\n",
       "    <tr>\n",
       "      <th>17</th>\n",
       "      <td>2</td>\n",
       "      <td>0.0009</td>\n",
       "      <td>0.853420</td>\n",
       "      <td>0.766234</td>\n",
       "    </tr>\n",
       "    <tr>\n",
       "      <th>0</th>\n",
       "      <td>1</td>\n",
       "      <td>0.0001</td>\n",
       "      <td>0.768730</td>\n",
       "      <td>0.766234</td>\n",
       "    </tr>\n",
       "  </tbody>\n",
       "</table>\n",
       "</div>"
      ],
      "text/plain": [
       "    C   gamma     train      test\n",
       "27  4  0.0001  0.781759  0.798701\n",
       "18  3  0.0001  0.773616  0.798701\n",
       "31  4  0.0005  0.835505  0.792208\n",
       "30  4  0.0004  0.828990  0.792208\n",
       "29  4  0.0003  0.809446  0.792208\n",
       "11  2  0.0003  0.794788  0.792208\n",
       "19  3  0.0002  0.789902  0.792208\n",
       "2   1  0.0003  0.781759  0.792208\n",
       "10  2  0.0002  0.778502  0.792208\n",
       "1   1  0.0002  0.773616  0.792208\n",
       "35  4  0.0009  0.866450  0.785714\n",
       "7   1  0.0008  0.817590  0.785714\n",
       "6   1  0.0007  0.811075  0.785714\n",
       "5   1  0.0006  0.806189  0.785714\n",
       "12  2  0.0004  0.806189  0.785714\n",
       "20  3  0.0003  0.804560  0.785714\n",
       "28  4  0.0002  0.793160  0.785714\n",
       "3   1  0.0004  0.786645  0.785714\n",
       "9   2  0.0001  0.767101  0.785714\n",
       "34  4  0.0008  0.863192  0.779221\n",
       "25  3  0.0008  0.856678  0.779221\n",
       "33  4  0.0007  0.851792  0.779221\n",
       "32  4  0.0006  0.850163  0.779221\n",
       "24  3  0.0007  0.848534  0.779221\n",
       "23  3  0.0006  0.842020  0.779221\n",
       "15  2  0.0007  0.840391  0.779221\n",
       "22  3  0.0005  0.833876  0.779221\n",
       "14  2  0.0006  0.828990  0.779221\n",
       "21  3  0.0004  0.822476  0.779221\n",
       "8   1  0.0009  0.819218  0.779221\n",
       "4   1  0.0005  0.801303  0.779221\n",
       "26  3  0.0009  0.863192  0.772727\n",
       "16  2  0.0008  0.845277  0.772727\n",
       "13  2  0.0005  0.817590  0.772727\n",
       "17  2  0.0009  0.853420  0.766234\n",
       "0   1  0.0001  0.768730  0.766234"
      ]
     },
     "execution_count": 32,
     "metadata": {},
     "output_type": "execute_result"
    }
   ],
   "source": [
    "df.sort_values(by=['test','train'], ascending= False)"
   ]
  },
  {
   "cell_type": "code",
   "execution_count": 37,
   "id": "ab2ff009-5e59-42e0-ad8d-89348799dd3b",
   "metadata": {},
   "outputs": [],
   "source": [
    "from sklearn.linear_model import LogisticRegression\n",
    "from sklearn.linear_model import LogisticRegressionCV\n",
    "import warnings\n",
    "warnings.filterwarnings('ignore')"
   ]
  },
  {
   "cell_type": "code",
   "execution_count": 38,
   "id": "ac6aa950-d939-47aa-a527-b6ba186cd10e",
   "metadata": {},
   "outputs": [],
   "source": [
    "model2 = LogisticRegression()\n",
    "model3 = LogisticRegressionCV()"
   ]
  },
  {
   "cell_type": "code",
   "execution_count": 39,
   "id": "020c0de8-c751-40da-8c68-1224ee661ffe",
   "metadata": {},
   "outputs": [],
   "source": [
    "d = [(x_train, y_train), (x_test, y_test)]"
   ]
  },
  {
   "cell_type": "code",
   "execution_count": 40,
   "id": "3fb2a6de-e024-423e-a1de-dc2fd7eccc26",
   "metadata": {},
   "outputs": [],
   "source": [
    "def trainModel(model, d):\n",
    "    for i, x in enumerate(d) : \n",
    "        if(i==0) :\n",
    "            model.fit(x[0],x[1])\n",
    "            print('train', model.score(x[0], x[1]))\n",
    "        else :\n",
    "            print('test', model.score(x[0], x[1]))   "
   ]
  },
  {
   "cell_type": "code",
   "execution_count": 41,
   "id": "a4c29b89-767c-4cbe-8a8e-dfeaf797cf79",
   "metadata": {},
   "outputs": [
    {
     "name": "stdout",
     "output_type": "stream",
     "text": [
      "train 0.8664495114006515\n",
      "test 0.7857142857142857\n"
     ]
    }
   ],
   "source": [
    "trainModel(model , d)"
   ]
  },
  {
   "cell_type": "code",
   "execution_count": 42,
   "id": "a824fb0b-af12-4f7e-9dc0-8fec6a131742",
   "metadata": {},
   "outputs": [
    {
     "name": "stdout",
     "output_type": "stream",
     "text": [
      "train 0.749185667752443\n",
      "test 0.7662337662337663\n"
     ]
    }
   ],
   "source": [
    "trainModel(model2, d)"
   ]
  },
  {
   "cell_type": "code",
   "execution_count": 43,
   "id": "7b7e09a2-26f2-448d-a6e7-2f54df3e43ae",
   "metadata": {},
   "outputs": [
    {
     "name": "stdout",
     "output_type": "stream",
     "text": [
      "train 0.7687296416938111\n",
      "test 0.7662337662337663\n"
     ]
    }
   ],
   "source": [
    "trainModel(model3, d)"
   ]
  },
  {
   "cell_type": "code",
   "execution_count": null,
   "id": "b1467411-f805-4ac0-af83-8429234e401d",
   "metadata": {},
   "outputs": [],
   "source": []
  },
  {
   "cell_type": "code",
   "execution_count": null,
   "id": "62ec1d9b-0434-42c3-9ae2-1414aef8d896",
   "metadata": {},
   "outputs": [],
   "source": [
    "#실제 데이터에 적용해보자!"
   ]
  },
  {
   "cell_type": "code",
   "execution_count": null,
   "id": "3f791383-c69f-4d6c-8f15-432ae341e823",
   "metadata": {},
   "outputs": [],
   "source": [
    "real =data.iloc[100].values"
   ]
  },
  {
   "cell_type": "code",
   "execution_count": null,
   "id": "f88621d2-2403-4e13-83d3-93b6b8031dd9",
   "metadata": {},
   "outputs": [],
   "source": [
    "real"
   ]
  },
  {
   "cell_type": "code",
   "execution_count": null,
   "id": "a6357f9e-d446-46bc-8dcf-6e7df8113c8b",
   "metadata": {},
   "outputs": [],
   "source": [
    "# 전처리부터 해야함!!"
   ]
  },
  {
   "cell_type": "raw",
   "id": "0046e535-95c8-4c16-b8e0-7a8ed7e01aa9",
   "metadata": {},
   "source": [
    "1. 전처리를 통해서 모델을 하나 만든다.\n",
    "2. 전처리 결과와 모델을 저장한다.\n",
    "3. real 데이터를 예측한다."
   ]
  },
  {
   "cell_type": "code",
   "execution_count": null,
   "id": "7807a319-e307-4f47-b3fb-93ea705ec000",
   "metadata": {},
   "outputs": [],
   "source": []
  },
  {
   "cell_type": "code",
   "execution_count": null,
   "id": "f0703336-94a8-422e-809a-d8d7f2446624",
   "metadata": {
    "tags": []
   },
   "outputs": [],
   "source": [
    "import pandas as pd\n",
    "from sklearn.svm import SVC\n",
    "import numpy as np"
   ]
  },
  {
   "cell_type": "code",
   "execution_count": null,
   "id": "c71179ab-2ead-4826-b9eb-892ee61105e5",
   "metadata": {},
   "outputs": [],
   "source": [
    "data = pd.read_csv('diabetes.csv')"
   ]
  },
  {
   "cell_type": "code",
   "execution_count": null,
   "id": "74c8b44a-2276-4550-ab68-7194ea8a76fb",
   "metadata": {},
   "outputs": [],
   "source": [
    "col_list = ['Glucose','BloodPressure','SkinThickness','Insulin','BMI']\n",
    "for col in col_list :\n",
    "    #print(col, len(data[data[col] ==0]))\n",
    "    data[col]=np.where((data[col]==0) , np.nan, data[col])\n",
    "    #1-1>>data의 0값들을 null값 처리!"
   ]
  },
  {
   "cell_type": "code",
   "execution_count": null,
   "id": "081449e2-50d1-4e60-9997-289c8d6f572a",
   "metadata": {},
   "outputs": [],
   "source": [
    "def ageRange(age) : \n",
    "    if 21 <= age < 30 :\n",
    "        return 1\n",
    "    elif 30 <= age < 40 :\n",
    "        return 2\n",
    "    elif 40 <= age < 50 :\n",
    "        return 3\n",
    "    elif 50 <= age < 60 :\n",
    "        return 4\n",
    "    elif 60 <= age < 70 :\n",
    "        return 5\n",
    "    else :\n",
    "        return 6"
   ]
  },
  {
   "cell_type": "code",
   "execution_count": null,
   "id": "3cd3a576-5a7c-410e-91db-bb4afba94fbd",
   "metadata": {},
   "outputs": [],
   "source": [
    "data['Age2'] = data['Age'].apply(ageRange) #Age를 구간별로 나눈 새로운 변수 Age2를 만듬"
   ]
  },
  {
   "cell_type": "code",
   "execution_count": null,
   "id": "6a0e7317-636f-4ad0-9362-63945f8b9187",
   "metadata": {},
   "outputs": [],
   "source": [
    "data"
   ]
  },
  {
   "cell_type": "code",
   "execution_count": null,
   "id": "9e474d84-3d21-4368-a9e4-eaf03e0be1a5",
   "metadata": {},
   "outputs": [],
   "source": [
    "col_list = ['Glucose','BloodPressure','SkinThickness','Insulin','BMI']\n",
    "for col in col_list :\n",
    "    data[col].fillna(data.groupby('Age2')[col].transform('median'), inplace=True)\n",
    "    "
   ]
  },
  {
   "cell_type": "code",
   "execution_count": null,
   "id": "d11ec02d-c3f8-4822-8d1e-eb84ea219a01",
   "metadata": {},
   "outputs": [],
   "source": []
  },
  {
   "cell_type": "code",
   "execution_count": null,
   "id": "e903308e-ee57-4438-9e56-7ac570245745",
   "metadata": {},
   "outputs": [],
   "source": [
    "model=SVC(kernel = 'linear',C=5, gamma=0.0001)     #모델을 변화시켜서 정확도 변화 확인!!"
   ]
  },
  {
   "cell_type": "code",
   "execution_count": null,
   "id": "fe6d12ec-30ba-4ea2-b076-12d062fff2e5",
   "metadata": {},
   "outputs": [],
   "source": [
    "x= data.drop('Outcome', axis=1)"
   ]
  },
  {
   "cell_type": "code",
   "execution_count": null,
   "id": "1da303fa-68a3-476b-b95f-733221ad8c45",
   "metadata": {},
   "outputs": [],
   "source": [
    "y = data['Outcome']"
   ]
  },
  {
   "cell_type": "code",
   "execution_count": null,
   "id": "1414680f-e8fc-433b-af44-0e9a01748d10",
   "metadata": {},
   "outputs": [],
   "source": [
    "from sklearn.model_selection import train_test_split\n",
    "import warnings\n",
    "warnings.filterwarnings('ignore')"
   ]
  },
  {
   "cell_type": "code",
   "execution_count": null,
   "id": "f1ee0726-8a28-46a5-b6c6-dbd8316314c9",
   "metadata": {},
   "outputs": [],
   "source": [
    "x_train, x_test, y_train, y_test = train_test_split(x,y,test_size=0.2, random_state=0, stratify=y)"
   ]
  },
  {
   "cell_type": "code",
   "execution_count": null,
   "id": "5c3aa668-f0cc-416a-ad46-fbd71fb69934",
   "metadata": {},
   "outputs": [],
   "source": [
    "model.fit(x_train, y_train)"
   ]
  },
  {
   "cell_type": "code",
   "execution_count": null,
   "id": "acb90051-c5bf-4367-88f9-7465f3189cd3",
   "metadata": {},
   "outputs": [],
   "source": [
    "model.score(x_train, y_train)"
   ]
  },
  {
   "cell_type": "code",
   "execution_count": null,
   "id": "20c8456e-4433-4cd7-8155-bff0480fa81d",
   "metadata": {},
   "outputs": [],
   "source": [
    "model.score(x_test, y_test)"
   ]
  },
  {
   "cell_type": "code",
   "execution_count": null,
   "id": "49b949fa-edb9-4b80-8972-a27a994b7e37",
   "metadata": {},
   "outputs": [],
   "source": [
    "final_data=[]\n",
    "for c in range(1,5) : \n",
    "    for i in range(1, 10) : \n",
    "        gamma = 0.0001 * i\n",
    "        model = SVC(C=c, gamma=gamma)\n",
    "        model.fit(x_train,y_train)\n",
    "        ret1 = model.score(x_train, y_train)\n",
    "        ret2 = model.score(x_test, y_test)\n",
    "        temp=[]\n",
    "        temp.append(c)\n",
    "        temp.append(gamma)\n",
    "        temp.append(ret1)\n",
    "        temp.append(ret2)\n",
    "        final_data.append(temp)\n",
    "        #SVC 모델에 최적의 C , gamma값 찾기~"
   ]
  },
  {
   "cell_type": "code",
   "execution_count": null,
   "id": "b2e348d4-cc8f-42b6-b11a-233c810f60a3",
   "metadata": {},
   "outputs": [],
   "source": [
    "df = pd.DataFrame(final_data, columns = ['C','gamma','train','test'])"
   ]
  },
  {
   "cell_type": "code",
   "execution_count": null,
   "id": "0a585208-9f07-4e3c-81ac-898eeb716cb9",
   "metadata": {
    "tags": []
   },
   "outputs": [],
   "source": [
    "df.sort_values(by=['test','train'], ascending= False)"
   ]
  },
  {
   "cell_type": "code",
   "execution_count": null,
   "id": "7f9f51b8-b66f-47ac-b1c4-bd26e8499a99",
   "metadata": {},
   "outputs": [],
   "source": [
    "model=SVC(kernel = 'linear',C=4, gamma=0.0001) #최적의 모델 선정!!"
   ]
  },
  {
   "cell_type": "code",
   "execution_count": null,
   "id": "2466e5ea-afa9-45fb-bd5a-b22bfdccd59c",
   "metadata": {},
   "outputs": [],
   "source": [
    "import pickle"
   ]
  },
  {
   "cell_type": "code",
   "execution_count": null,
   "id": "4b6a779a-80ea-4724-b651-b1d6f86b6e58",
   "metadata": {},
   "outputs": [],
   "source": [
    "with open('model.pkl', 'wb') as f :\n",
    "    pickle.dump(model, f)"
   ]
  }
 ],
 "metadata": {
  "kernelspec": {
   "display_name": "Python 3 (ipykernel)",
   "language": "python",
   "name": "python3"
  },
  "language_info": {
   "codemirror_mode": {
    "name": "ipython",
    "version": 3
   },
   "file_extension": ".py",
   "mimetype": "text/x-python",
   "name": "python",
   "nbconvert_exporter": "python",
   "pygments_lexer": "ipython3",
   "version": "3.9.12"
  }
 },
 "nbformat": 4,
 "nbformat_minor": 5
}
