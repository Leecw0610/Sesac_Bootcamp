{
 "cells": [
  {
   "cell_type": "code",
   "execution_count": null,
   "id": "c68af995-9fa2-4a8b-8ec7-b3ed9e24d91c",
   "metadata": {},
   "outputs": [],
   "source": [
    "for data in train_test_dataset :\n",
    "    data['Title'] = data['Name'].str.extract('([a-zA-Z]+)\\.')\n",
    "    data['Title'] = data['Title'].str.lower()\n",
    "    data['Title'] = np.where(data['Title'] == 'mr', 0,\n",
    "                           np.where(data['Title'] == 'miss', 1,\n",
    "                                    np.where(data['Title'] == 'mrs', 2, 3)))\n",
    "    data['Age'] = data['Age'].fillna(data.groupby('Title')['Age'].transform('median'))\n",
    "    data['Age'] = np.where(data['Age'] <= 16, 0,\n",
    "                             np.where(data['Age'] <= 26, 1,\n",
    "                                      np.where(data['Age'] <= 36, 2,\n",
    "                                               np.where(data['Age'] <= 62, 3, 4))))\n",
    "    data['Embarked'].fillna('S', inplace=True)\n",
    "    data['Embarked'] = np.where(data['Embarked'] == 'S', 0,\n",
    "                              np.where(data['Embarked'] == 'C', 1, 2))\n",
    "    data['Cabin'] = data['Cabin'].str[0]\n",
    "    cabin_mapping = {'A': 0.0, 'B': 0.4, 'C': 0.8, 'D': 1.2, 'E': 1.6, 'F': 2.0, 'G': 2.4, 'T': 2.8}\n",
    "    data['Cabin'] = data['Cabin'].map(cabin_mapping)\n",
    "    data['Cabin'].fillna(data.groupby('Pclass')['Cabin'].transform('median'), inplace=True)\n",
    "    data['Sex'] = data['Sex'].map({'male':0, 'female':1})\n",
    "    data['Fare'].fillna(data.groupby('Pclass')['Fare'].transform('median'), inplace=True)\n",
    "    data['Fare'] = np.where(data['Fare'] <= 17, 0,\n",
    "                          np.where(data['Fare'] <= 30, 1,\n",
    "                                   np.where(data['Fare'] <= 100, 2, 3)))\n",
    "    data['FamilySize'] = data['SibSp'] + data['Parch'] + 1\n",
    "    family_mapping = {1: 0.0, 2: 0.4, 3: 0.8, 4: 1.2, 5: 1.6, 6: 2.0, 7: 2.4, 8: 2.8, 9: 3.2, 10: 3.6, 11: 4.0}\n",
    "    data['FamilySize'] = data['FamilySize'].map(family_mapping)"
   ]
  }
 ],
 "metadata": {
  "kernelspec": {
   "display_name": "Python 3 (ipykernel)",
   "language": "python",
   "name": "python3"
  },
  "language_info": {
   "codemirror_mode": {
    "name": "ipython",
    "version": 3
   },
   "file_extension": ".py",
   "mimetype": "text/x-python",
   "name": "python",
   "nbconvert_exporter": "python",
   "pygments_lexer": "ipython3",
   "version": "3.9.12"
  }
 },
 "nbformat": 4,
 "nbformat_minor": 5
}
