{
 "cells": [
  {
   "cell_type": "code",
   "execution_count": 1,
   "id": "05b07e84-06bc-43a9-8981-a54b892eb1be",
   "metadata": {},
   "outputs": [],
   "source": [
    "import pandas as pd\n",
    "import numpy as np"
   ]
  },
  {
   "cell_type": "code",
   "execution_count": 2,
   "id": "ded3dcaf-db23-4cbb-a9bd-e0084e9bbc2b",
   "metadata": {},
   "outputs": [],
   "source": [
    "train = pd.read_csv('titanic/train.csv')"
   ]
  },
  {
   "cell_type": "code",
   "execution_count": 3,
   "id": "254f658d-2a66-489c-b073-bc9e5ca4c624",
   "metadata": {},
   "outputs": [],
   "source": [
    "test = pd.read_csv('titanic/test.csv')"
   ]
  },
  {
   "cell_type": "code",
   "execution_count": 4,
   "id": "910ab975-eb4e-490f-90e8-07d3f974b045",
   "metadata": {},
   "outputs": [
    {
     "name": "stdout",
     "output_type": "stream",
     "text": [
      "(891, 12) (418, 11)\n"
     ]
    }
   ],
   "source": [
    "print(train.shape, test.shape)"
   ]
  },
  {
   "cell_type": "code",
   "execution_count": 5,
   "id": "fa3ef4cb-c236-412d-b4ad-ec9a192a5201",
   "metadata": {},
   "outputs": [],
   "source": [
    "train_test_dataset = [train, test]"
   ]
  },
  {
   "cell_type": "code",
   "execution_count": 6,
   "id": "5fc16ed8-06f5-4d88-bfe5-b84b7bcc6d05",
   "metadata": {},
   "outputs": [],
   "source": [
    "for data in train_test_dataset :\n",
    "    data['Title']= data['Name'].str.extract('([a-zA-Z]+)\\.')\n",
    "    data['Title']= data['Title'].str.lower()\n",
    "    data['Title']= np.where(data['Title']== 'mr', 0,      \n",
    "                    np.where(data['Title'] =='miss', 1,\n",
    "                    np.where(data['Title'] =='mrs', 2, 3)))\n",
    "    \n",
    "    data['Age']= data['Age'].fillna(data.groupby('Title')['Age'].transform('median'))\n",
    "    #수치를 고정 시킬 필요가 있다!!(생각해 볼것 ; 실제 입력값은 한개기 때문에)\n",
    "    \n",
    "    data['Age'] = np.where(data['Age'] <= 16, 0,\n",
    "                             np.where(data['Age'] <= 26, 1,\n",
    "                                      np.where(data['Age'] <= 36, 2,\n",
    "                                               np.where(data['Age'] <= 62, 3, 4))))\n",
    "                \n",
    "    data['Embarked'].fillna('S', inplace=True)\n",
    "    data['Embarked']= data['Embarked'].map({'S':0, 'C':1, 'Q':2})\n",
    "    \n",
    "    data['Cabin'] = data['Cabin'].str[0]\n",
    "        \n",
    "    def Cabin_g(i) :\n",
    "        if i == 'A' :\n",
    "            return 0\n",
    "        elif i == 'B' :\n",
    "            return 0.4\n",
    "        elif i == 'C' :\n",
    "            return 0.8\n",
    "        elif i == 'D' :\n",
    "            return 1.2\n",
    "        elif i == 'E' :\n",
    "            return 1.6\n",
    "        elif i == 'F' :\n",
    "            return 2\n",
    "        elif i == 'G' :\n",
    "            return 2.4\n",
    "        elif i == 'T' :\n",
    "            return 2.8\n",
    "        else :\n",
    "            pass\n",
    "    data['Cabin'] = data['Cabin'].apply(Cabin_g)\n",
    "    data['Cabin'].fillna(data.groupby('Pclass')['Cabin'].transform('median'), inplace = True)\n",
    "    \n",
    "    data['Sex']=data['Sex'].map({'male':0, 'female':1})\n",
    "    data['Fare'].fillna(data.groupby('Pclass')['Fare'].transform('median'), inplace=True)\n",
    "    data['Fare'] = np.where(data['Fare']<= 17, 0,\n",
    "                   np.where(data['Fare']<= 30, 1,\n",
    "                   np.where(data['Fare']<= 100, 2, 3)))\n",
    "    data['FamilySize'] = data['SibSp'] + data['Parch'] +1\n",
    "    family_mapping = {}\n",
    "    for value, key in enumerate(range(1, 12)) :\n",
    "        family_mapping[key] = round(value*0.4, 1) \n",
    "    data['FamilySize']= data['FamilySize'].map(family_mapping)\n",
    "    "
   ]
  },
  {
   "cell_type": "code",
   "execution_count": 7,
   "id": "5b116e13-e392-4af3-b4df-0d595e7c6427",
   "metadata": {},
   "outputs": [
    {
     "data": {
      "text/html": [
       "<div>\n",
       "<style scoped>\n",
       "    .dataframe tbody tr th:only-of-type {\n",
       "        vertical-align: middle;\n",
       "    }\n",
       "\n",
       "    .dataframe tbody tr th {\n",
       "        vertical-align: top;\n",
       "    }\n",
       "\n",
       "    .dataframe thead th {\n",
       "        text-align: right;\n",
       "    }\n",
       "</style>\n",
       "<table border=\"1\" class=\"dataframe\">\n",
       "  <thead>\n",
       "    <tr style=\"text-align: right;\">\n",
       "      <th></th>\n",
       "      <th>PassengerId</th>\n",
       "      <th>Pclass</th>\n",
       "      <th>Name</th>\n",
       "      <th>Sex</th>\n",
       "      <th>Age</th>\n",
       "      <th>SibSp</th>\n",
       "      <th>Parch</th>\n",
       "      <th>Ticket</th>\n",
       "      <th>Fare</th>\n",
       "      <th>Cabin</th>\n",
       "      <th>Embarked</th>\n",
       "      <th>Title</th>\n",
       "      <th>FamilySize</th>\n",
       "    </tr>\n",
       "  </thead>\n",
       "  <tbody>\n",
       "    <tr>\n",
       "      <th>0</th>\n",
       "      <td>892</td>\n",
       "      <td>3</td>\n",
       "      <td>Kelly, Mr. James</td>\n",
       "      <td>0</td>\n",
       "      <td>2</td>\n",
       "      <td>0</td>\n",
       "      <td>0</td>\n",
       "      <td>330911</td>\n",
       "      <td>0</td>\n",
       "      <td>2.0</td>\n",
       "      <td>2</td>\n",
       "      <td>0</td>\n",
       "      <td>0.0</td>\n",
       "    </tr>\n",
       "    <tr>\n",
       "      <th>1</th>\n",
       "      <td>893</td>\n",
       "      <td>3</td>\n",
       "      <td>Wilkes, Mrs. James (Ellen Needs)</td>\n",
       "      <td>1</td>\n",
       "      <td>3</td>\n",
       "      <td>1</td>\n",
       "      <td>0</td>\n",
       "      <td>363272</td>\n",
       "      <td>0</td>\n",
       "      <td>2.0</td>\n",
       "      <td>0</td>\n",
       "      <td>2</td>\n",
       "      <td>0.4</td>\n",
       "    </tr>\n",
       "    <tr>\n",
       "      <th>2</th>\n",
       "      <td>894</td>\n",
       "      <td>2</td>\n",
       "      <td>Myles, Mr. Thomas Francis</td>\n",
       "      <td>0</td>\n",
       "      <td>3</td>\n",
       "      <td>0</td>\n",
       "      <td>0</td>\n",
       "      <td>240276</td>\n",
       "      <td>0</td>\n",
       "      <td>2.0</td>\n",
       "      <td>2</td>\n",
       "      <td>0</td>\n",
       "      <td>0.0</td>\n",
       "    </tr>\n",
       "    <tr>\n",
       "      <th>3</th>\n",
       "      <td>895</td>\n",
       "      <td>3</td>\n",
       "      <td>Wirz, Mr. Albert</td>\n",
       "      <td>0</td>\n",
       "      <td>2</td>\n",
       "      <td>0</td>\n",
       "      <td>0</td>\n",
       "      <td>315154</td>\n",
       "      <td>0</td>\n",
       "      <td>2.0</td>\n",
       "      <td>0</td>\n",
       "      <td>0</td>\n",
       "      <td>0.0</td>\n",
       "    </tr>\n",
       "    <tr>\n",
       "      <th>4</th>\n",
       "      <td>896</td>\n",
       "      <td>3</td>\n",
       "      <td>Hirvonen, Mrs. Alexander (Helga E Lindqvist)</td>\n",
       "      <td>1</td>\n",
       "      <td>1</td>\n",
       "      <td>1</td>\n",
       "      <td>1</td>\n",
       "      <td>3101298</td>\n",
       "      <td>0</td>\n",
       "      <td>2.0</td>\n",
       "      <td>0</td>\n",
       "      <td>2</td>\n",
       "      <td>0.8</td>\n",
       "    </tr>\n",
       "    <tr>\n",
       "      <th>...</th>\n",
       "      <td>...</td>\n",
       "      <td>...</td>\n",
       "      <td>...</td>\n",
       "      <td>...</td>\n",
       "      <td>...</td>\n",
       "      <td>...</td>\n",
       "      <td>...</td>\n",
       "      <td>...</td>\n",
       "      <td>...</td>\n",
       "      <td>...</td>\n",
       "      <td>...</td>\n",
       "      <td>...</td>\n",
       "      <td>...</td>\n",
       "    </tr>\n",
       "    <tr>\n",
       "      <th>413</th>\n",
       "      <td>1305</td>\n",
       "      <td>3</td>\n",
       "      <td>Spector, Mr. Woolf</td>\n",
       "      <td>0</td>\n",
       "      <td>2</td>\n",
       "      <td>0</td>\n",
       "      <td>0</td>\n",
       "      <td>A.5. 3236</td>\n",
       "      <td>0</td>\n",
       "      <td>2.0</td>\n",
       "      <td>0</td>\n",
       "      <td>0</td>\n",
       "      <td>0.0</td>\n",
       "    </tr>\n",
       "    <tr>\n",
       "      <th>414</th>\n",
       "      <td>1306</td>\n",
       "      <td>1</td>\n",
       "      <td>Oliva y Ocana, Dona. Fermina</td>\n",
       "      <td>1</td>\n",
       "      <td>3</td>\n",
       "      <td>0</td>\n",
       "      <td>0</td>\n",
       "      <td>PC 17758</td>\n",
       "      <td>3</td>\n",
       "      <td>0.8</td>\n",
       "      <td>1</td>\n",
       "      <td>3</td>\n",
       "      <td>0.0</td>\n",
       "    </tr>\n",
       "    <tr>\n",
       "      <th>415</th>\n",
       "      <td>1307</td>\n",
       "      <td>3</td>\n",
       "      <td>Saether, Mr. Simon Sivertsen</td>\n",
       "      <td>0</td>\n",
       "      <td>3</td>\n",
       "      <td>0</td>\n",
       "      <td>0</td>\n",
       "      <td>SOTON/O.Q. 3101262</td>\n",
       "      <td>0</td>\n",
       "      <td>2.0</td>\n",
       "      <td>0</td>\n",
       "      <td>0</td>\n",
       "      <td>0.0</td>\n",
       "    </tr>\n",
       "    <tr>\n",
       "      <th>416</th>\n",
       "      <td>1308</td>\n",
       "      <td>3</td>\n",
       "      <td>Ware, Mr. Frederick</td>\n",
       "      <td>0</td>\n",
       "      <td>2</td>\n",
       "      <td>0</td>\n",
       "      <td>0</td>\n",
       "      <td>359309</td>\n",
       "      <td>0</td>\n",
       "      <td>2.0</td>\n",
       "      <td>0</td>\n",
       "      <td>0</td>\n",
       "      <td>0.0</td>\n",
       "    </tr>\n",
       "    <tr>\n",
       "      <th>417</th>\n",
       "      <td>1309</td>\n",
       "      <td>3</td>\n",
       "      <td>Peter, Master. Michael J</td>\n",
       "      <td>0</td>\n",
       "      <td>0</td>\n",
       "      <td>1</td>\n",
       "      <td>1</td>\n",
       "      <td>2668</td>\n",
       "      <td>1</td>\n",
       "      <td>2.0</td>\n",
       "      <td>1</td>\n",
       "      <td>3</td>\n",
       "      <td>0.8</td>\n",
       "    </tr>\n",
       "  </tbody>\n",
       "</table>\n",
       "<p>418 rows × 13 columns</p>\n",
       "</div>"
      ],
      "text/plain": [
       "     PassengerId  Pclass                                          Name  Sex  \\\n",
       "0            892       3                              Kelly, Mr. James    0   \n",
       "1            893       3              Wilkes, Mrs. James (Ellen Needs)    1   \n",
       "2            894       2                     Myles, Mr. Thomas Francis    0   \n",
       "3            895       3                              Wirz, Mr. Albert    0   \n",
       "4            896       3  Hirvonen, Mrs. Alexander (Helga E Lindqvist)    1   \n",
       "..           ...     ...                                           ...  ...   \n",
       "413         1305       3                            Spector, Mr. Woolf    0   \n",
       "414         1306       1                  Oliva y Ocana, Dona. Fermina    1   \n",
       "415         1307       3                  Saether, Mr. Simon Sivertsen    0   \n",
       "416         1308       3                           Ware, Mr. Frederick    0   \n",
       "417         1309       3                      Peter, Master. Michael J    0   \n",
       "\n",
       "     Age  SibSp  Parch              Ticket  Fare  Cabin  Embarked  Title  \\\n",
       "0      2      0      0              330911     0    2.0         2      0   \n",
       "1      3      1      0              363272     0    2.0         0      2   \n",
       "2      3      0      0              240276     0    2.0         2      0   \n",
       "3      2      0      0              315154     0    2.0         0      0   \n",
       "4      1      1      1             3101298     0    2.0         0      2   \n",
       "..   ...    ...    ...                 ...   ...    ...       ...    ...   \n",
       "413    2      0      0           A.5. 3236     0    2.0         0      0   \n",
       "414    3      0      0            PC 17758     3    0.8         1      3   \n",
       "415    3      0      0  SOTON/O.Q. 3101262     0    2.0         0      0   \n",
       "416    2      0      0              359309     0    2.0         0      0   \n",
       "417    0      1      1                2668     1    2.0         1      3   \n",
       "\n",
       "     FamilySize  \n",
       "0           0.0  \n",
       "1           0.4  \n",
       "2           0.0  \n",
       "3           0.0  \n",
       "4           0.8  \n",
       "..          ...  \n",
       "413         0.0  \n",
       "414         0.0  \n",
       "415         0.0  \n",
       "416         0.0  \n",
       "417         0.8  \n",
       "\n",
       "[418 rows x 13 columns]"
      ]
     },
     "execution_count": 7,
     "metadata": {},
     "output_type": "execute_result"
    }
   ],
   "source": [
    "data"
   ]
  },
  {
   "cell_type": "code",
   "execution_count": 8,
   "id": "3c1b8704-4429-45c8-a401-02c3bf25acc4",
   "metadata": {},
   "outputs": [],
   "source": [
    "features_drop = ['PassengerId', 'Name', 'Ticket', 'SibSp', 'Parch']"
   ]
  },
  {
   "cell_type": "code",
   "execution_count": 9,
   "id": "aed99638-2214-40dc-895a-289f21b0f7e5",
   "metadata": {
    "tags": []
   },
   "outputs": [],
   "source": [
    "train= train.drop(features_drop, axis=1)"
   ]
  },
  {
   "cell_type": "code",
   "execution_count": 10,
   "id": "0bae8260-8bdf-441c-b81c-b44fd6a251e0",
   "metadata": {
    "tags": []
   },
   "outputs": [],
   "source": [
    "test = test.drop(features_drop, axis=1)"
   ]
  },
  {
   "cell_type": "code",
   "execution_count": 11,
   "id": "0ce9dba3-399c-4f61-a5be-12e90b2309a0",
   "metadata": {},
   "outputs": [
    {
     "data": {
      "text/html": [
       "<div>\n",
       "<style scoped>\n",
       "    .dataframe tbody tr th:only-of-type {\n",
       "        vertical-align: middle;\n",
       "    }\n",
       "\n",
       "    .dataframe tbody tr th {\n",
       "        vertical-align: top;\n",
       "    }\n",
       "\n",
       "    .dataframe thead th {\n",
       "        text-align: right;\n",
       "    }\n",
       "</style>\n",
       "<table border=\"1\" class=\"dataframe\">\n",
       "  <thead>\n",
       "    <tr style=\"text-align: right;\">\n",
       "      <th></th>\n",
       "      <th>Survived</th>\n",
       "      <th>Pclass</th>\n",
       "      <th>Sex</th>\n",
       "      <th>Age</th>\n",
       "      <th>Fare</th>\n",
       "      <th>Cabin</th>\n",
       "      <th>Embarked</th>\n",
       "      <th>Title</th>\n",
       "      <th>FamilySize</th>\n",
       "    </tr>\n",
       "  </thead>\n",
       "  <tbody>\n",
       "    <tr>\n",
       "      <th>0</th>\n",
       "      <td>0</td>\n",
       "      <td>3</td>\n",
       "      <td>0</td>\n",
       "      <td>1</td>\n",
       "      <td>0</td>\n",
       "      <td>2.0</td>\n",
       "      <td>0</td>\n",
       "      <td>0</td>\n",
       "      <td>0.4</td>\n",
       "    </tr>\n",
       "  </tbody>\n",
       "</table>\n",
       "</div>"
      ],
      "text/plain": [
       "   Survived  Pclass  Sex  Age  Fare  Cabin  Embarked  Title  FamilySize\n",
       "0         0       3    0    1     0    2.0         0      0         0.4"
      ]
     },
     "execution_count": 11,
     "metadata": {},
     "output_type": "execute_result"
    }
   ],
   "source": [
    "train.head(1)"
   ]
  },
  {
   "cell_type": "code",
   "execution_count": 12,
   "id": "dd4d3462-7aa1-4581-943f-4a559206abe0",
   "metadata": {},
   "outputs": [
    {
     "data": {
      "text/html": [
       "<div>\n",
       "<style scoped>\n",
       "    .dataframe tbody tr th:only-of-type {\n",
       "        vertical-align: middle;\n",
       "    }\n",
       "\n",
       "    .dataframe tbody tr th {\n",
       "        vertical-align: top;\n",
       "    }\n",
       "\n",
       "    .dataframe thead th {\n",
       "        text-align: right;\n",
       "    }\n",
       "</style>\n",
       "<table border=\"1\" class=\"dataframe\">\n",
       "  <thead>\n",
       "    <tr style=\"text-align: right;\">\n",
       "      <th></th>\n",
       "      <th>Pclass</th>\n",
       "      <th>Sex</th>\n",
       "      <th>Age</th>\n",
       "      <th>Fare</th>\n",
       "      <th>Cabin</th>\n",
       "      <th>Embarked</th>\n",
       "      <th>Title</th>\n",
       "      <th>FamilySize</th>\n",
       "    </tr>\n",
       "  </thead>\n",
       "  <tbody>\n",
       "    <tr>\n",
       "      <th>0</th>\n",
       "      <td>3</td>\n",
       "      <td>0</td>\n",
       "      <td>2</td>\n",
       "      <td>0</td>\n",
       "      <td>2.0</td>\n",
       "      <td>2</td>\n",
       "      <td>0</td>\n",
       "      <td>0.0</td>\n",
       "    </tr>\n",
       "  </tbody>\n",
       "</table>\n",
       "</div>"
      ],
      "text/plain": [
       "   Pclass  Sex  Age  Fare  Cabin  Embarked  Title  FamilySize\n",
       "0       3    0    2     0    2.0         2      0         0.0"
      ]
     },
     "execution_count": 12,
     "metadata": {},
     "output_type": "execute_result"
    }
   ],
   "source": [
    "test.head(1)"
   ]
  },
  {
   "cell_type": "code",
   "execution_count": 13,
   "id": "17df997f-67bc-461a-b75a-e55d1ac7427e",
   "metadata": {},
   "outputs": [],
   "source": [
    "###########"
   ]
  },
  {
   "cell_type": "raw",
   "id": "d2668b9f-e115-4be6-a34d-fadc401cdfea",
   "metadata": {},
   "source": [
    "----10월 31일  머신러닝---"
   ]
  },
  {
   "cell_type": "code",
   "execution_count": 14,
   "id": "def2dfe2-b51b-48e3-bfc8-400c23b1029a",
   "metadata": {},
   "outputs": [],
   "source": [
    "###########"
   ]
  },
  {
   "cell_type": "code",
   "execution_count": 16,
   "id": "73517b0c-a864-48ee-b995-4fb9144bab9b",
   "metadata": {},
   "outputs": [],
   "source": [
    "from sklearn.linear_model import LogisticRegression\n",
    "from sklearn.tree import DecisionTreeClassifier\n",
    "from sklearn.ensemble import RandomForestClassifier\n",
    "from sklearn.ensemble import GradientBoostingClassifier\n",
    "from sklearn.ensemble import AdaBoostClassifier\n",
    "\n",
    "from sklearn.metrics import accuracy_score\n",
    "from sklearn.model_selection import train_test_split"
   ]
  },
  {
   "cell_type": "code",
   "execution_count": 18,
   "id": "9f3f61d0-540a-42de-afd4-d993da61fcc3",
   "metadata": {},
   "outputs": [
    {
     "data": {
      "text/html": [
       "<div>\n",
       "<style scoped>\n",
       "    .dataframe tbody tr th:only-of-type {\n",
       "        vertical-align: middle;\n",
       "    }\n",
       "\n",
       "    .dataframe tbody tr th {\n",
       "        vertical-align: top;\n",
       "    }\n",
       "\n",
       "    .dataframe thead th {\n",
       "        text-align: right;\n",
       "    }\n",
       "</style>\n",
       "<table border=\"1\" class=\"dataframe\">\n",
       "  <thead>\n",
       "    <tr style=\"text-align: right;\">\n",
       "      <th></th>\n",
       "      <th>Survived</th>\n",
       "      <th>Pclass</th>\n",
       "      <th>Sex</th>\n",
       "      <th>Age</th>\n",
       "      <th>Fare</th>\n",
       "      <th>Cabin</th>\n",
       "      <th>Embarked</th>\n",
       "      <th>Title</th>\n",
       "      <th>FamilySize</th>\n",
       "    </tr>\n",
       "  </thead>\n",
       "  <tbody>\n",
       "    <tr>\n",
       "      <th>0</th>\n",
       "      <td>0</td>\n",
       "      <td>3</td>\n",
       "      <td>0</td>\n",
       "      <td>1</td>\n",
       "      <td>0</td>\n",
       "      <td>2.0</td>\n",
       "      <td>0</td>\n",
       "      <td>0</td>\n",
       "      <td>0.4</td>\n",
       "    </tr>\n",
       "    <tr>\n",
       "      <th>1</th>\n",
       "      <td>1</td>\n",
       "      <td>1</td>\n",
       "      <td>1</td>\n",
       "      <td>3</td>\n",
       "      <td>2</td>\n",
       "      <td>0.8</td>\n",
       "      <td>1</td>\n",
       "      <td>2</td>\n",
       "      <td>0.4</td>\n",
       "    </tr>\n",
       "    <tr>\n",
       "      <th>2</th>\n",
       "      <td>1</td>\n",
       "      <td>3</td>\n",
       "      <td>1</td>\n",
       "      <td>1</td>\n",
       "      <td>0</td>\n",
       "      <td>2.0</td>\n",
       "      <td>0</td>\n",
       "      <td>1</td>\n",
       "      <td>0.0</td>\n",
       "    </tr>\n",
       "    <tr>\n",
       "      <th>3</th>\n",
       "      <td>1</td>\n",
       "      <td>1</td>\n",
       "      <td>1</td>\n",
       "      <td>2</td>\n",
       "      <td>2</td>\n",
       "      <td>0.8</td>\n",
       "      <td>0</td>\n",
       "      <td>2</td>\n",
       "      <td>0.4</td>\n",
       "    </tr>\n",
       "    <tr>\n",
       "      <th>4</th>\n",
       "      <td>0</td>\n",
       "      <td>3</td>\n",
       "      <td>0</td>\n",
       "      <td>2</td>\n",
       "      <td>0</td>\n",
       "      <td>2.0</td>\n",
       "      <td>0</td>\n",
       "      <td>0</td>\n",
       "      <td>0.0</td>\n",
       "    </tr>\n",
       "    <tr>\n",
       "      <th>...</th>\n",
       "      <td>...</td>\n",
       "      <td>...</td>\n",
       "      <td>...</td>\n",
       "      <td>...</td>\n",
       "      <td>...</td>\n",
       "      <td>...</td>\n",
       "      <td>...</td>\n",
       "      <td>...</td>\n",
       "      <td>...</td>\n",
       "    </tr>\n",
       "    <tr>\n",
       "      <th>886</th>\n",
       "      <td>0</td>\n",
       "      <td>2</td>\n",
       "      <td>0</td>\n",
       "      <td>2</td>\n",
       "      <td>0</td>\n",
       "      <td>1.8</td>\n",
       "      <td>0</td>\n",
       "      <td>3</td>\n",
       "      <td>0.0</td>\n",
       "    </tr>\n",
       "    <tr>\n",
       "      <th>887</th>\n",
       "      <td>1</td>\n",
       "      <td>1</td>\n",
       "      <td>1</td>\n",
       "      <td>1</td>\n",
       "      <td>1</td>\n",
       "      <td>0.4</td>\n",
       "      <td>0</td>\n",
       "      <td>1</td>\n",
       "      <td>0.0</td>\n",
       "    </tr>\n",
       "    <tr>\n",
       "      <th>888</th>\n",
       "      <td>0</td>\n",
       "      <td>3</td>\n",
       "      <td>1</td>\n",
       "      <td>1</td>\n",
       "      <td>1</td>\n",
       "      <td>2.0</td>\n",
       "      <td>0</td>\n",
       "      <td>1</td>\n",
       "      <td>1.2</td>\n",
       "    </tr>\n",
       "    <tr>\n",
       "      <th>889</th>\n",
       "      <td>1</td>\n",
       "      <td>1</td>\n",
       "      <td>0</td>\n",
       "      <td>1</td>\n",
       "      <td>1</td>\n",
       "      <td>0.8</td>\n",
       "      <td>1</td>\n",
       "      <td>0</td>\n",
       "      <td>0.0</td>\n",
       "    </tr>\n",
       "    <tr>\n",
       "      <th>890</th>\n",
       "      <td>0</td>\n",
       "      <td>3</td>\n",
       "      <td>0</td>\n",
       "      <td>2</td>\n",
       "      <td>0</td>\n",
       "      <td>2.0</td>\n",
       "      <td>2</td>\n",
       "      <td>0</td>\n",
       "      <td>0.0</td>\n",
       "    </tr>\n",
       "  </tbody>\n",
       "</table>\n",
       "<p>891 rows × 9 columns</p>\n",
       "</div>"
      ],
      "text/plain": [
       "     Survived  Pclass  Sex  Age  Fare  Cabin  Embarked  Title  FamilySize\n",
       "0           0       3    0    1     0    2.0         0      0         0.4\n",
       "1           1       1    1    3     2    0.8         1      2         0.4\n",
       "2           1       3    1    1     0    2.0         0      1         0.0\n",
       "3           1       1    1    2     2    0.8         0      2         0.4\n",
       "4           0       3    0    2     0    2.0         0      0         0.0\n",
       "..        ...     ...  ...  ...   ...    ...       ...    ...         ...\n",
       "886         0       2    0    2     0    1.8         0      3         0.0\n",
       "887         1       1    1    1     1    0.4         0      1         0.0\n",
       "888         0       3    1    1     1    2.0         0      1         1.2\n",
       "889         1       1    0    1     1    0.8         1      0         0.0\n",
       "890         0       3    0    2     0    2.0         2      0         0.0\n",
       "\n",
       "[891 rows x 9 columns]"
      ]
     },
     "execution_count": 18,
     "metadata": {},
     "output_type": "execute_result"
    }
   ],
   "source": [
    "train #survived를 제외한 나머지를 input으로 옮기자!!"
   ]
  },
  {
   "cell_type": "code",
   "execution_count": 20,
   "id": "51879db9-7892-4ac6-bab9-3d7f5aeb7384",
   "metadata": {},
   "outputs": [
    {
     "data": {
      "text/html": [
       "<div>\n",
       "<style scoped>\n",
       "    .dataframe tbody tr th:only-of-type {\n",
       "        vertical-align: middle;\n",
       "    }\n",
       "\n",
       "    .dataframe tbody tr th {\n",
       "        vertical-align: top;\n",
       "    }\n",
       "\n",
       "    .dataframe thead th {\n",
       "        text-align: right;\n",
       "    }\n",
       "</style>\n",
       "<table border=\"1\" class=\"dataframe\">\n",
       "  <thead>\n",
       "    <tr style=\"text-align: right;\">\n",
       "      <th></th>\n",
       "      <th>Pclass</th>\n",
       "      <th>Sex</th>\n",
       "      <th>Age</th>\n",
       "      <th>Fare</th>\n",
       "      <th>Cabin</th>\n",
       "      <th>Embarked</th>\n",
       "      <th>Title</th>\n",
       "      <th>FamilySize</th>\n",
       "    </tr>\n",
       "  </thead>\n",
       "  <tbody>\n",
       "    <tr>\n",
       "      <th>0</th>\n",
       "      <td>3</td>\n",
       "      <td>0</td>\n",
       "      <td>1</td>\n",
       "      <td>0</td>\n",
       "      <td>2.0</td>\n",
       "      <td>0</td>\n",
       "      <td>0</td>\n",
       "      <td>0.4</td>\n",
       "    </tr>\n",
       "    <tr>\n",
       "      <th>1</th>\n",
       "      <td>1</td>\n",
       "      <td>1</td>\n",
       "      <td>3</td>\n",
       "      <td>2</td>\n",
       "      <td>0.8</td>\n",
       "      <td>1</td>\n",
       "      <td>2</td>\n",
       "      <td>0.4</td>\n",
       "    </tr>\n",
       "    <tr>\n",
       "      <th>2</th>\n",
       "      <td>3</td>\n",
       "      <td>1</td>\n",
       "      <td>1</td>\n",
       "      <td>0</td>\n",
       "      <td>2.0</td>\n",
       "      <td>0</td>\n",
       "      <td>1</td>\n",
       "      <td>0.0</td>\n",
       "    </tr>\n",
       "    <tr>\n",
       "      <th>3</th>\n",
       "      <td>1</td>\n",
       "      <td>1</td>\n",
       "      <td>2</td>\n",
       "      <td>2</td>\n",
       "      <td>0.8</td>\n",
       "      <td>0</td>\n",
       "      <td>2</td>\n",
       "      <td>0.4</td>\n",
       "    </tr>\n",
       "    <tr>\n",
       "      <th>4</th>\n",
       "      <td>3</td>\n",
       "      <td>0</td>\n",
       "      <td>2</td>\n",
       "      <td>0</td>\n",
       "      <td>2.0</td>\n",
       "      <td>0</td>\n",
       "      <td>0</td>\n",
       "      <td>0.0</td>\n",
       "    </tr>\n",
       "    <tr>\n",
       "      <th>...</th>\n",
       "      <td>...</td>\n",
       "      <td>...</td>\n",
       "      <td>...</td>\n",
       "      <td>...</td>\n",
       "      <td>...</td>\n",
       "      <td>...</td>\n",
       "      <td>...</td>\n",
       "      <td>...</td>\n",
       "    </tr>\n",
       "    <tr>\n",
       "      <th>886</th>\n",
       "      <td>2</td>\n",
       "      <td>0</td>\n",
       "      <td>2</td>\n",
       "      <td>0</td>\n",
       "      <td>1.8</td>\n",
       "      <td>0</td>\n",
       "      <td>3</td>\n",
       "      <td>0.0</td>\n",
       "    </tr>\n",
       "    <tr>\n",
       "      <th>887</th>\n",
       "      <td>1</td>\n",
       "      <td>1</td>\n",
       "      <td>1</td>\n",
       "      <td>1</td>\n",
       "      <td>0.4</td>\n",
       "      <td>0</td>\n",
       "      <td>1</td>\n",
       "      <td>0.0</td>\n",
       "    </tr>\n",
       "    <tr>\n",
       "      <th>888</th>\n",
       "      <td>3</td>\n",
       "      <td>1</td>\n",
       "      <td>1</td>\n",
       "      <td>1</td>\n",
       "      <td>2.0</td>\n",
       "      <td>0</td>\n",
       "      <td>1</td>\n",
       "      <td>1.2</td>\n",
       "    </tr>\n",
       "    <tr>\n",
       "      <th>889</th>\n",
       "      <td>1</td>\n",
       "      <td>0</td>\n",
       "      <td>1</td>\n",
       "      <td>1</td>\n",
       "      <td>0.8</td>\n",
       "      <td>1</td>\n",
       "      <td>0</td>\n",
       "      <td>0.0</td>\n",
       "    </tr>\n",
       "    <tr>\n",
       "      <th>890</th>\n",
       "      <td>3</td>\n",
       "      <td>0</td>\n",
       "      <td>2</td>\n",
       "      <td>0</td>\n",
       "      <td>2.0</td>\n",
       "      <td>2</td>\n",
       "      <td>0</td>\n",
       "      <td>0.0</td>\n",
       "    </tr>\n",
       "  </tbody>\n",
       "</table>\n",
       "<p>891 rows × 8 columns</p>\n",
       "</div>"
      ],
      "text/plain": [
       "     Pclass  Sex  Age  Fare  Cabin  Embarked  Title  FamilySize\n",
       "0         3    0    1     0    2.0         0      0         0.4\n",
       "1         1    1    3     2    0.8         1      2         0.4\n",
       "2         3    1    1     0    2.0         0      1         0.0\n",
       "3         1    1    2     2    0.8         0      2         0.4\n",
       "4         3    0    2     0    2.0         0      0         0.0\n",
       "..      ...  ...  ...   ...    ...       ...    ...         ...\n",
       "886       2    0    2     0    1.8         0      3         0.0\n",
       "887       1    1    1     1    0.4         0      1         0.0\n",
       "888       3    1    1     1    2.0         0      1         1.2\n",
       "889       1    0    1     1    0.8         1      0         0.0\n",
       "890       3    0    2     0    2.0         2      0         0.0\n",
       "\n",
       "[891 rows x 8 columns]"
      ]
     },
     "execution_count": 20,
     "metadata": {},
     "output_type": "execute_result"
    }
   ],
   "source": [
    "train.drop('Survived', axis=1) \n",
    "#train.drop(columns = 'Survived') 두개가 같다!! 둘다 알아둘 것"
   ]
  },
  {
   "cell_type": "code",
   "execution_count": 21,
   "id": "db0d5f53-f9de-4897-86d9-5fe67aa13562",
   "metadata": {},
   "outputs": [],
   "source": [
    "inputs = train.drop('Survived', axis=1)"
   ]
  },
  {
   "cell_type": "code",
   "execution_count": 24,
   "id": "4fc057b0-7677-43ea-8c37-91aef1d97a46",
   "metadata": {
    "tags": []
   },
   "outputs": [],
   "source": [
    "outputs = train['Survived']"
   ]
  },
  {
   "cell_type": "code",
   "execution_count": 26,
   "id": "0cc9fb6a-752b-4eea-b63f-fe0b43071e8e",
   "metadata": {},
   "outputs": [
    {
     "name": "stdout",
     "output_type": "stream",
     "text": [
      "(891, 8) (891,)\n"
     ]
    }
   ],
   "source": [
    "print(inputs.shape, outputs.shape)  # ( 891 , 1 ) 이 생략되어있음.\n",
    "# 891의 표본이 똑같아야한다."
   ]
  },
  {
   "cell_type": "code",
   "execution_count": 31,
   "id": "c2f8a48c-1a6e-4083-837a-a4c8644d1191",
   "metadata": {},
   "outputs": [
    {
     "data": {
      "text/plain": [
       "0    549\n",
       "1    342\n",
       "Name: Survived, dtype: int64"
      ]
     },
     "execution_count": 31,
     "metadata": {},
     "output_type": "execute_result"
    }
   ],
   "source": [
    "outputs.value_counts() # 0 이 죽은 사람, 1이 산사람 (대략 6:4의 비율)"
   ]
  },
  {
   "cell_type": "code",
   "execution_count": 27,
   "id": "05b1668e-86c9-4019-8478-9c476c74a6be",
   "metadata": {},
   "outputs": [],
   "source": [
    "train_input, test_input, train_output, test_output = \\\n",
    "train_test_split(inputs, outputs, test_size=0.2, stratify=outputs, random_state=10)"
   ]
  },
  {
   "cell_type": "code",
   "execution_count": 28,
   "id": "3706a765-1fd3-4340-9f35-8c3f61d3066b",
   "metadata": {},
   "outputs": [
    {
     "name": "stdout",
     "output_type": "stream",
     "text": [
      "(712, 8) (712,)\n",
      "(179, 8) (179,)\n"
     ]
    }
   ],
   "source": [
    "print(train_input.shape, train_output.shape)\n",
    "print(test_input.shape, test_output.shape)"
   ]
  },
  {
   "cell_type": "raw",
   "id": "fa0853c6-0dd3-4ecf-86a2-77aa90973bf8",
   "metadata": {},
   "source": [
    "train_test_split (인풋, 아웃풋, 테스트사이즈 8:2, \n",
    "stratify: outputs의 비율을 유지하면서 결과 도출하라 ,\n",
    "random_state : random state를 고정함으로써 모델의 랜덤값을 똑같이 쓸수있음.다시 실험하더라도 똑같은 결과 도출을 위해 )"
   ]
  },
  {
   "cell_type": "code",
   "execution_count": 33,
   "id": "98a8b909-a002-439e-bdb8-bee751cf3a7e",
   "metadata": {},
   "outputs": [
    {
     "data": {
      "text/plain": [
       "0    439\n",
       "1    273\n",
       "Name: Survived, dtype: int64"
      ]
     },
     "execution_count": 33,
     "metadata": {},
     "output_type": "execute_result"
    }
   ],
   "source": [
    "train_output.value_counts()"
   ]
  },
  {
   "cell_type": "code",
   "execution_count": 34,
   "id": "72652a17-2795-4ad0-ab04-8af636bc1e05",
   "metadata": {},
   "outputs": [
    {
     "data": {
      "text/plain": [
       "0    110\n",
       "1     69\n",
       "Name: Survived, dtype: int64"
      ]
     },
     "execution_count": 34,
     "metadata": {},
     "output_type": "execute_result"
    }
   ],
   "source": [
    "test_output.value_counts()"
   ]
  },
  {
   "cell_type": "raw",
   "id": "b8051459-c7d9-42b4-ad14-19e460003939",
   "metadata": {},
   "source": [
    "train과 test의 0과 1의 비율이 어느정도 비슷하다!! (stratify 때문에)"
   ]
  },
  {
   "cell_type": "raw",
   "id": "a4f97c92-5f62-4f74-a054-c9961a022528",
   "metadata": {},
   "source": [
    "train_input, test_input, train_output, test_output 이 순서가 중요하다 외워야함!!"
   ]
  },
  {
   "cell_type": "raw",
   "id": "c91f0bde-90d3-483f-bbbc-7d7310597911",
   "metadata": {},
   "source": [
    "*모델 학습시키기"
   ]
  },
  {
   "cell_type": "code",
   "execution_count": 35,
   "id": "afa7c901-86fd-4d91-b21f-597f1e90dbdf",
   "metadata": {},
   "outputs": [],
   "source": [
    "model1 = LogisticRegression()\n",
    "model2 = DecisionTreeClassifier()\n",
    "model3 = RandomForestClassifier()\n",
    "model4 = GradientBoostingClassifier()\n",
    "model5 = AdaBoostClassifier()     #함수기 때문에 뒤애 괄호를 반드시!!"
   ]
  },
  {
   "cell_type": "code",
   "execution_count": 37,
   "id": "e1e15997-e4a4-439b-9cbd-fe1db37ac877",
   "metadata": {},
   "outputs": [
    {
     "data": {
      "text/plain": [
       "LogisticRegression()"
      ]
     },
     "execution_count": 37,
     "metadata": {},
     "output_type": "execute_result"
    }
   ],
   "source": [
    "model1.fit(train_input, train_output)  #학습 !!"
   ]
  },
  {
   "cell_type": "code",
   "execution_count": 38,
   "id": "a380ef70-d842-443a-a718-098ee00c96ab",
   "metadata": {},
   "outputs": [
    {
     "data": {
      "text/plain": [
       "82.58426966292134"
      ]
     },
     "execution_count": 38,
     "metadata": {},
     "output_type": "execute_result"
    }
   ],
   "source": [
    "model1.score(train_input, train_output) * 100"
   ]
  },
  {
   "cell_type": "code",
   "execution_count": 39,
   "id": "44ae6f49-9872-4cf6-af71-0bfea976e067",
   "metadata": {},
   "outputs": [
    {
     "data": {
      "text/plain": [
       "79.88826815642457"
      ]
     },
     "execution_count": 39,
     "metadata": {},
     "output_type": "execute_result"
    }
   ],
   "source": [
    "model1.score(test_input, test_output) * 100   #정확도 확인 1번"
   ]
  },
  {
   "cell_type": "code",
   "execution_count": 42,
   "id": "267e884d-0dc8-45b7-a429-c6fc6b41a959",
   "metadata": {},
   "outputs": [],
   "source": [
    "test_pre = model1.predict(test_input)"
   ]
  },
  {
   "cell_type": "code",
   "execution_count": 43,
   "id": "7e6bf153-f6a2-4d56-bd34-cfc5cf5b017a",
   "metadata": {},
   "outputs": [
    {
     "data": {
      "text/plain": [
       "array([0, 1, 1, 1, 0, 0, 1, 1, 0, 1, 1, 0, 1, 0, 1, 0, 0, 0, 0, 0, 0, 0,\n",
       "       1, 1, 0, 0, 0, 0, 1, 1, 1, 0, 0, 1, 0, 0, 1, 1, 0, 0, 0, 0, 0, 0,\n",
       "       1, 0, 0, 0, 1, 1, 0, 1, 0, 1, 0, 1, 0, 1, 1, 1, 0, 0, 0, 0, 1, 0,\n",
       "       1, 0, 1, 1, 0, 0, 0, 0, 0, 1, 1, 0, 1, 0, 1, 0, 0, 1, 1, 1, 1, 1,\n",
       "       1, 0, 0, 0, 0, 0, 0, 0, 0, 1, 0, 0, 0, 0, 0, 1, 0, 0, 0, 1, 0, 0,\n",
       "       0, 1, 1, 1, 0, 0, 0, 1, 0, 1, 1, 1, 0, 1, 0, 0, 1, 0, 0, 0, 0, 0,\n",
       "       1, 0, 0, 1, 0, 1, 1, 0, 0, 0, 1, 0, 0, 0, 0, 1, 1, 0, 0, 0, 0, 1,\n",
       "       0, 0, 0, 0, 1, 0, 1, 0, 0, 0, 0, 0, 0, 0, 1, 0, 1, 1, 0, 0, 0, 0,\n",
       "       0, 0, 0], dtype=int64)"
      ]
     },
     "execution_count": 43,
     "metadata": {},
     "output_type": "execute_result"
    }
   ],
   "source": [
    "test_pre"
   ]
  },
  {
   "cell_type": "code",
   "execution_count": 44,
   "id": "4b503922-5056-4e1a-ada6-e6dd7ff051d9",
   "metadata": {},
   "outputs": [
    {
     "data": {
      "text/plain": [
       "Pclass        3.0\n",
       "Sex           1.0\n",
       "Age           0.0\n",
       "Fare          1.0\n",
       "Cabin         2.0\n",
       "Embarked      0.0\n",
       "Title         1.0\n",
       "FamilySize    1.6\n",
       "Name: 24, dtype: float64"
      ]
     },
     "execution_count": 44,
     "metadata": {},
     "output_type": "execute_result"
    }
   ],
   "source": [
    "test_input.iloc[0]"
   ]
  },
  {
   "cell_type": "code",
   "execution_count": 45,
   "id": "790b11ee-a489-4ce5-aa28-b841c320f3c6",
   "metadata": {},
   "outputs": [
    {
     "data": {
      "text/plain": [
       "0"
      ]
     },
     "execution_count": 45,
     "metadata": {},
     "output_type": "execute_result"
    }
   ],
   "source": [
    "test_pre[0]"
   ]
  },
  {
   "cell_type": "code",
   "execution_count": 47,
   "id": "8ab54058-99d0-4214-a133-3b0d4b1fd979",
   "metadata": {},
   "outputs": [
    {
     "data": {
      "text/plain": [
       "0"
      ]
     },
     "execution_count": 47,
     "metadata": {},
     "output_type": "execute_result"
    }
   ],
   "source": [
    "test_output.iloc[0]"
   ]
  },
  {
   "cell_type": "code",
   "execution_count": 49,
   "id": "c26d7189-ef9b-47d5-8b7e-28aa16e959cb",
   "metadata": {},
   "outputs": [
    {
     "data": {
      "text/plain": [
       "79.88826815642457"
      ]
     },
     "execution_count": 49,
     "metadata": {},
     "output_type": "execute_result"
    }
   ],
   "source": [
    "#하나씩 일일이 확인할 수 없으니 \n",
    "\n",
    "accuracy_score(test_pre, test_output) *100 #정확도 확인 2번"
   ]
  },
  {
   "cell_type": "code",
   "execution_count": 51,
   "id": "dca71e86-5a76-4bc2-b196-df9f619aa567",
   "metadata": {},
   "outputs": [
    {
     "data": {
      "text/plain": [
       "DecisionTreeClassifier()"
      ]
     },
     "execution_count": 51,
     "metadata": {},
     "output_type": "execute_result"
    }
   ],
   "source": [
    "model2.fit(train_input, train_output) #모델 2학습"
   ]
  },
  {
   "cell_type": "code",
   "execution_count": 53,
   "id": "8b942c9c-ba26-491d-95ae-895d540a12fb",
   "metadata": {},
   "outputs": [
    {
     "data": {
      "text/plain": [
       "90.30898876404494"
      ]
     },
     "execution_count": 53,
     "metadata": {},
     "output_type": "execute_result"
    }
   ],
   "source": [
    "model2.score(train_input, train_output) * 100 #모델 2의 트레인 데이터 스코어"
   ]
  },
  {
   "cell_type": "code",
   "execution_count": 54,
   "id": "a81a4fe2-e8e0-458c-9b04-4be9943b739d",
   "metadata": {},
   "outputs": [
    {
     "data": {
      "text/plain": [
       "79.3296089385475"
      ]
     },
     "execution_count": 54,
     "metadata": {},
     "output_type": "execute_result"
    }
   ],
   "source": [
    "model2.score(test_input, test_output) * 100 #모델 2의 테스트 스코어"
   ]
  },
  {
   "cell_type": "code",
   "execution_count": 55,
   "id": "c22be613-ef85-44a4-81ba-2c187e7ddde1",
   "metadata": {},
   "outputs": [
    {
     "data": {
      "text/plain": [
       "RandomForestClassifier()"
      ]
     },
     "execution_count": 55,
     "metadata": {},
     "output_type": "execute_result"
    }
   ],
   "source": [
    "model3.fit(train_input, train_output)"
   ]
  },
  {
   "cell_type": "code",
   "execution_count": 56,
   "id": "3c23beae-6c9f-4cc1-a7ab-3d82a4068d0e",
   "metadata": {},
   "outputs": [
    {
     "data": {
      "text/plain": [
       "90.30898876404494"
      ]
     },
     "execution_count": 56,
     "metadata": {},
     "output_type": "execute_result"
    }
   ],
   "source": [
    "model3.score(train_input, train_output) * 100"
   ]
  },
  {
   "cell_type": "code",
   "execution_count": 64,
   "id": "58aa56b8-7a33-49c9-a51c-1c0bc87c516f",
   "metadata": {},
   "outputs": [
    {
     "data": {
      "text/plain": [
       "82.68156424581005"
      ]
     },
     "execution_count": 64,
     "metadata": {},
     "output_type": "execute_result"
    }
   ],
   "source": [
    "model3.score(test_input, test_output) * 100"
   ]
  },
  {
   "cell_type": "code",
   "execution_count": null,
   "id": "83571f85-4f37-4c51-8351-b5b0f912b9de",
   "metadata": {},
   "outputs": [],
   "source": []
  },
  {
   "cell_type": "code",
   "execution_count": 58,
   "id": "97651d67-d00d-4313-8689-204d7ecaa003",
   "metadata": {},
   "outputs": [
    {
     "data": {
      "text/plain": [
       "GradientBoostingClassifier()"
      ]
     },
     "execution_count": 58,
     "metadata": {},
     "output_type": "execute_result"
    }
   ],
   "source": [
    "model4.fit(train_input, train_output)"
   ]
  },
  {
   "cell_type": "code",
   "execution_count": 59,
   "id": "b950d391-31ec-44e1-9a27-26520c5795f4",
   "metadata": {},
   "outputs": [
    {
     "data": {
      "text/plain": [
       "86.65730337078652"
      ]
     },
     "execution_count": 59,
     "metadata": {},
     "output_type": "execute_result"
    }
   ],
   "source": [
    "model4.score(train_input, train_output) * 100"
   ]
  },
  {
   "cell_type": "code",
   "execution_count": 65,
   "id": "f1cb0c4c-34be-4260-bfb6-ec682483e777",
   "metadata": {},
   "outputs": [
    {
     "data": {
      "text/plain": [
       "83.24022346368714"
      ]
     },
     "execution_count": 65,
     "metadata": {},
     "output_type": "execute_result"
    }
   ],
   "source": [
    "model4.score(test_input, test_output) * 100"
   ]
  },
  {
   "cell_type": "code",
   "execution_count": null,
   "id": "fa59e0cf-7f25-44c9-9335-8eade6488a9f",
   "metadata": {},
   "outputs": [],
   "source": []
  },
  {
   "cell_type": "code",
   "execution_count": 61,
   "id": "f40cac74-9615-4644-a153-649e5e9496f3",
   "metadata": {},
   "outputs": [
    {
     "data": {
      "text/plain": [
       "AdaBoostClassifier()"
      ]
     },
     "execution_count": 61,
     "metadata": {},
     "output_type": "execute_result"
    }
   ],
   "source": [
    "model5.fit(train_input, train_output)"
   ]
  },
  {
   "cell_type": "code",
   "execution_count": 62,
   "id": "60c44d15-88aa-44c0-8c71-7c0ff09b35ce",
   "metadata": {},
   "outputs": [
    {
     "data": {
      "text/plain": [
       "81.32022471910112"
      ]
     },
     "execution_count": 62,
     "metadata": {},
     "output_type": "execute_result"
    }
   ],
   "source": [
    "model5.score(train_input, train_output) * 100"
   ]
  },
  {
   "cell_type": "code",
   "execution_count": 66,
   "id": "46ea43ae-4289-4056-8cf4-968e754dccd9",
   "metadata": {},
   "outputs": [
    {
     "data": {
      "text/plain": [
       "83.24022346368714"
      ]
     },
     "execution_count": 66,
     "metadata": {},
     "output_type": "execute_result"
    }
   ],
   "source": [
    "model5.score(test_input, test_output) * 100"
   ]
  },
  {
   "cell_type": "code",
   "execution_count": 72,
   "id": "98ab6f8f-1d9c-432f-b35a-e39b77924e84",
   "metadata": {},
   "outputs": [],
   "source": [
    "model = {'LogisticRegression' : LogisticRegression(),\n",
    "'DecisionTreeClassifier' : DecisionTreeClassifier(),\n",
    "'RandomForestClassifier' : RandomForestClassifier(),\n",
    "'GradientBoostingClassifier' : GradientBoostingClassifier(),\n",
    "'AdaBoostClassifier' : AdaBoostClassifier() }"
   ]
  },
  {
   "cell_type": "code",
   "execution_count": 73,
   "id": "e2ca4a93-63f5-44fc-abc4-cc00792cc640",
   "metadata": {},
   "outputs": [
    {
     "name": "stdout",
     "output_type": "stream",
     "text": [
      "[        LogisticRegression] train:82.58 / test:79.89\n",
      "[    DecisionTreeClassifier] train:90.31 / test:79.33\n",
      "[    RandomForestClassifier] train:90.31 / test:82.68\n",
      "[GradientBoostingClassifier] train:86.66 / test:83.24\n",
      "[        AdaBoostClassifier] train:81.32 / test:83.24\n"
     ]
    }
   ],
   "source": [
    "for i in model :\n",
    "    model_ = model[i]\n",
    "    model_.fit(train_input, train_output)\n",
    "    train_score = model_.score(train_input, train_output) * 100\n",
    "    test_score  = model_.score(test_input, test_output) * 100\n",
    "    \n",
    "    print(f\"[%26s] train:%.2f / test:%.2f\" % \\\n",
    "         (i, train_score, test_score))"
   ]
  },
  {
   "cell_type": "raw",
   "id": "6c1a1fa7-1bdf-4140-a3b8-a1e9515cada9",
   "metadata": {},
   "source": [
    "데이터 프레임으로 만들수 있어야된다!~~\n",
    "\n",
    "딕셔너리화 해서 데이터를 담아야하는데 쉽지 않다? --> 리스트로 하는게 편하다"
   ]
  },
  {
   "cell_type": "code",
   "execution_count": 130,
   "id": "a4a2c979-abdc-4fc2-be1c-8e290dfc1b1f",
   "metadata": {
    "tags": []
   },
   "outputs": [
    {
     "name": "stdout",
     "output_type": "stream",
     "text": [
      "[        LogisticRegression] train:82.58 / test:79.89\n",
      "[    DecisionTreeClassifier] train:90.31 / test:79.33\n",
      "[    RandomForestClassifier] train:90.31 / test:83.24\n",
      "[GradientBoostingClassifier] train:86.66 / test:83.24\n",
      "[        AdaBoostClassifier] train:81.32 / test:83.24\n"
     ]
    }
   ],
   "source": [
    "model = {'LogisticRegression' : LogisticRegression(),\n",
    "'DecisionTreeClassifier' : DecisionTreeClassifier(),\n",
    "'RandomForestClassifier' : RandomForestClassifier(),\n",
    "'GradientBoostingClassifier' : GradientBoostingClassifier(),\n",
    "'AdaBoostClassifier' : AdaBoostClassifier() }\n",
    "\n",
    "model_l = []\n",
    "train_l = []\n",
    "test_l = []\n",
    "\n",
    "for i in model :\n",
    "    model_ = model[i]\n",
    "    model_.fit(train_input, train_output)\n",
    "    train_score = model_.score(train_input, train_output) * 100\n",
    "    test_score  = model_.score(test_input, test_output) * 100\n",
    "    \n",
    "    model_l.append(i)\n",
    "    train_l.append(train_score)\n",
    "    test_l.append(test_score)\n",
    "    \n",
    "    print(f\"[%26s] train:%.2f / test:%.2f\" % \\\n",
    "         (i, train_score, test_score))"
   ]
  },
  {
   "cell_type": "code",
   "execution_count": 131,
   "id": "956ab232-8f6a-41e1-a9e0-38859ef756f5",
   "metadata": {},
   "outputs": [],
   "source": [
    "data = list(zip(model_l, train_l, test_l))"
   ]
  },
  {
   "cell_type": "code",
   "execution_count": 132,
   "id": "b47a66fb-953b-4563-ae16-84ad123baf4c",
   "metadata": {},
   "outputs": [],
   "source": [
    "df = pd.DataFrame(data, columns=['model','tran','test'])"
   ]
  },
  {
   "cell_type": "code",
   "execution_count": 133,
   "id": "d3919ce5-02d4-4558-b0d0-6e5dca57c34d",
   "metadata": {},
   "outputs": [
    {
     "data": {
      "text/html": [
       "<div>\n",
       "<style scoped>\n",
       "    .dataframe tbody tr th:only-of-type {\n",
       "        vertical-align: middle;\n",
       "    }\n",
       "\n",
       "    .dataframe tbody tr th {\n",
       "        vertical-align: top;\n",
       "    }\n",
       "\n",
       "    .dataframe thead th {\n",
       "        text-align: right;\n",
       "    }\n",
       "</style>\n",
       "<table border=\"1\" class=\"dataframe\">\n",
       "  <thead>\n",
       "    <tr style=\"text-align: right;\">\n",
       "      <th></th>\n",
       "      <th>model</th>\n",
       "      <th>tran</th>\n",
       "      <th>test</th>\n",
       "    </tr>\n",
       "  </thead>\n",
       "  <tbody>\n",
       "    <tr>\n",
       "      <th>2</th>\n",
       "      <td>RandomForestClassifier</td>\n",
       "      <td>90.308989</td>\n",
       "      <td>83.240223</td>\n",
       "    </tr>\n",
       "    <tr>\n",
       "      <th>3</th>\n",
       "      <td>GradientBoostingClassifier</td>\n",
       "      <td>86.657303</td>\n",
       "      <td>83.240223</td>\n",
       "    </tr>\n",
       "    <tr>\n",
       "      <th>4</th>\n",
       "      <td>AdaBoostClassifier</td>\n",
       "      <td>81.320225</td>\n",
       "      <td>83.240223</td>\n",
       "    </tr>\n",
       "    <tr>\n",
       "      <th>0</th>\n",
       "      <td>LogisticRegression</td>\n",
       "      <td>82.584270</td>\n",
       "      <td>79.888268</td>\n",
       "    </tr>\n",
       "    <tr>\n",
       "      <th>1</th>\n",
       "      <td>DecisionTreeClassifier</td>\n",
       "      <td>90.308989</td>\n",
       "      <td>79.329609</td>\n",
       "    </tr>\n",
       "  </tbody>\n",
       "</table>\n",
       "</div>"
      ],
      "text/plain": [
       "                        model       tran       test\n",
       "2      RandomForestClassifier  90.308989  83.240223\n",
       "3  GradientBoostingClassifier  86.657303  83.240223\n",
       "4          AdaBoostClassifier  81.320225  83.240223\n",
       "0          LogisticRegression  82.584270  79.888268\n",
       "1      DecisionTreeClassifier  90.308989  79.329609"
      ]
     },
     "execution_count": 133,
     "metadata": {},
     "output_type": "execute_result"
    }
   ],
   "source": [
    "df.sort_values('test', ascending=False)"
   ]
  },
  {
   "cell_type": "code",
   "execution_count": 134,
   "id": "8290546e-f7d3-484c-b319-1310833d752f",
   "metadata": {},
   "outputs": [],
   "source": [
    "model = GradientBoostingClassifier()"
   ]
  },
  {
   "cell_type": "code",
   "execution_count": 135,
   "id": "e959cdce-ec02-493b-82fb-472fd85b1129",
   "metadata": {},
   "outputs": [
    {
     "data": {
      "text/plain": [
       "GradientBoostingClassifier()"
      ]
     },
     "execution_count": 135,
     "metadata": {},
     "output_type": "execute_result"
    }
   ],
   "source": [
    "model.fit(train_input, train_output)"
   ]
  },
  {
   "cell_type": "code",
   "execution_count": 136,
   "id": "6e4324ef-d42c-431d-a5ce-4a6cb4b26b1f",
   "metadata": {},
   "outputs": [],
   "source": [
    "import pickle"
   ]
  },
  {
   "cell_type": "code",
   "execution_count": 137,
   "id": "1df4b426-188b-4d72-b9cf-29795d66de4c",
   "metadata": {},
   "outputs": [],
   "source": [
    "with open('gbc.pkl', 'wb') as f :\n",
    "    pickle.dump(model, f)     #gbc.pkl 파일이 생긴 것을 확인!"
   ]
  },
  {
   "cell_type": "code",
   "execution_count": 138,
   "id": "9e14ce85-b9b2-4f37-98dd-9fb91f10dee2",
   "metadata": {},
   "outputs": [],
   "source": [
    "with open('gbc.pkl', 'rb') as f :\n",
    "    load_model = pickle.load(f)   #학습시켰던 모델 불러오기"
   ]
  },
  {
   "cell_type": "code",
   "execution_count": 139,
   "id": "2c7be804-2f4d-4b07-9cca-729d524b6930",
   "metadata": {},
   "outputs": [
    {
     "data": {
      "text/plain": [
       "GradientBoostingClassifier()"
      ]
     },
     "execution_count": 139,
     "metadata": {},
     "output_type": "execute_result"
    }
   ],
   "source": [
    "load_model"
   ]
  },
  {
   "cell_type": "code",
   "execution_count": 140,
   "id": "a69753fd-b585-4986-aaee-01a7b1c9b59b",
   "metadata": {},
   "outputs": [],
   "source": [
    "data =test_input.iloc[0].to_list() #실제 데이터를 넣는 과정!"
   ]
  },
  {
   "cell_type": "code",
   "execution_count": 141,
   "id": "f7e507e0-9600-4cf1-ae98-52b85638ca12",
   "metadata": {},
   "outputs": [],
   "source": [
    "import numpy as np"
   ]
  },
  {
   "cell_type": "code",
   "execution_count": 142,
   "id": "1fe7f38e-4cbd-4b6f-947e-85b76ef9c93a",
   "metadata": {},
   "outputs": [],
   "source": [
    "np_data = np.asarray(data)"
   ]
  },
  {
   "cell_type": "code",
   "execution_count": 143,
   "id": "c2c6e293-b076-4b36-b922-b2a1c7ac091d",
   "metadata": {},
   "outputs": [],
   "source": [
    "re_data = np_data.reshape(1, -1)"
   ]
  },
  {
   "cell_type": "code",
   "execution_count": 144,
   "id": "6326521d-22ce-41f4-9ad0-4f58fd2ff6a4",
   "metadata": {},
   "outputs": [
    {
     "name": "stderr",
     "output_type": "stream",
     "text": [
      "C:\\Users\\user\\anaconda3\\lib\\site-packages\\sklearn\\base.py:450: UserWarning: X does not have valid feature names, but GradientBoostingClassifier was fitted with feature names\n",
      "  warnings.warn(\n"
     ]
    }
   ],
   "source": [
    "pred = load_model.predict(re_data)"
   ]
  },
  {
   "cell_type": "code",
   "execution_count": 145,
   "id": "7649e788-45a6-423d-883b-eb74d868cf88",
   "metadata": {},
   "outputs": [
    {
     "name": "stdout",
     "output_type": "stream",
     "text": [
      "Died..\n"
     ]
    }
   ],
   "source": [
    "if pred[0] == 0:\n",
    "    print('Died..')\n",
    "else :\n",
    "    print('Survived!!')"
   ]
  },
  {
   "cell_type": "markdown",
   "id": "5f792fd7-31ea-4a6e-b374-0627f863c72f",
   "metadata": {},
   "source": [
    "---------------------------------------------------"
   ]
  },
  {
   "cell_type": "code",
   "execution_count": 146,
   "id": "0c6dfd24-90df-49fd-8307-190f6f744e05",
   "metadata": {},
   "outputs": [],
   "source": [
    "sub=pd.read_csv('titanic/submission.csv')"
   ]
  },
  {
   "cell_type": "code",
   "execution_count": 147,
   "id": "19d4cefc-2c0b-41e4-b9ce-b6548cbaaf95",
   "metadata": {},
   "outputs": [],
   "source": [
    "answer = sub['Survived']"
   ]
  },
  {
   "cell_type": "code",
   "execution_count": 148,
   "id": "b984d0e6-55a6-4e71-a6c4-7a5f0c487e52",
   "metadata": {},
   "outputs": [],
   "source": [
    "submission = load_model.predict(test)"
   ]
  },
  {
   "cell_type": "code",
   "execution_count": 149,
   "id": "7b13d2a0-2c7b-4359-93a8-7e932440f731",
   "metadata": {
    "collapsed": true,
    "jupyter": {
     "outputs_hidden": true
    },
    "tags": []
   },
   "outputs": [
    {
     "data": {
      "text/plain": [
       "array([0, 0, 0, 0, 0, 0, 1, 0, 1, 0, 0, 0, 1, 0, 1, 1, 0, 0, 0, 0, 0, 1,\n",
       "       1, 0, 1, 0, 1, 0, 0, 0, 0, 0, 0, 0, 0, 0, 0, 0, 0, 0, 0, 1, 0, 1,\n",
       "       1, 0, 0, 0, 1, 0, 0, 0, 1, 1, 0, 0, 0, 0, 0, 1, 0, 0, 0, 1, 1, 1,\n",
       "       1, 0, 0, 1, 1, 0, 0, 1, 1, 0, 0, 1, 0, 1, 1, 0, 0, 0, 0, 0, 1, 0,\n",
       "       1, 1, 0, 0, 1, 0, 0, 0, 1, 0, 0, 0, 1, 0, 0, 0, 1, 0, 0, 0, 0, 0,\n",
       "       0, 1, 1, 1, 1, 0, 0, 1, 0, 1, 1, 0, 1, 0, 0, 0, 0, 1, 0, 0, 0, 0,\n",
       "       0, 0, 0, 0, 0, 0, 0, 0, 0, 1, 0, 0, 0, 0, 0, 0, 0, 0, 1, 0, 0, 0,\n",
       "       0, 0, 1, 0, 0, 0, 1, 1, 1, 0, 0, 0, 0, 0, 1, 0, 0, 0, 0, 0, 0, 1,\n",
       "       1, 0, 1, 1, 0, 0, 1, 0, 1, 0, 1, 0, 0, 0, 0, 0, 1, 0, 1, 0, 1, 0,\n",
       "       0, 0, 1, 1, 1, 1, 0, 0, 1, 0, 1, 0, 0, 0, 0, 1, 1, 0, 1, 0, 1, 0,\n",
       "       1, 0, 1, 0, 1, 0, 0, 1, 0, 0, 0, 1, 0, 0, 0, 0, 0, 0, 1, 1, 1, 1,\n",
       "       0, 0, 1, 0, 1, 0, 1, 0, 1, 0, 0, 0, 0, 0, 0, 0, 1, 0, 0, 0, 1, 1,\n",
       "       0, 0, 0, 0, 0, 0, 0, 0, 1, 1, 0, 1, 0, 0, 0, 0, 0, 1, 1, 1, 1, 0,\n",
       "       0, 1, 0, 0, 0, 1, 0, 1, 0, 0, 1, 0, 0, 0, 0, 0, 0, 0, 1, 1, 0, 1,\n",
       "       0, 0, 0, 0, 0, 0, 1, 1, 1, 0, 0, 0, 0, 0, 0, 0, 1, 0, 1, 0, 0, 0,\n",
       "       1, 0, 0, 1, 0, 0, 0, 0, 0, 1, 0, 0, 0, 1, 1, 1, 0, 0, 0, 1, 1, 0,\n",
       "       0, 0, 1, 0, 1, 0, 0, 0, 0, 1, 1, 0, 1, 0, 0, 1, 1, 0, 0, 1, 0, 0,\n",
       "       1, 1, 0, 0, 0, 0, 0, 0, 0, 0, 0, 1, 0, 0, 0, 0, 1, 1, 1, 0, 0, 1,\n",
       "       0, 1, 0, 0, 1, 0, 1, 0, 0, 0, 0, 0, 1, 1, 1, 1, 0, 0, 1, 0, 0, 1],\n",
       "      dtype=int64)"
      ]
     },
     "execution_count": 149,
     "metadata": {},
     "output_type": "execute_result"
    }
   ],
   "source": [
    "submission"
   ]
  },
  {
   "cell_type": "code",
   "execution_count": 150,
   "id": "5b036058-056c-49dd-8d75-aac2aa382ab6",
   "metadata": {},
   "outputs": [
    {
     "data": {
      "text/plain": [
       "85.4066985645933"
      ]
     },
     "execution_count": 150,
     "metadata": {},
     "output_type": "execute_result"
    }
   ],
   "source": [
    "accuracy_score(answer, submission) * 100"
   ]
  },
  {
   "cell_type": "raw",
   "id": "ddf97780-d460-4351-805e-34caba5c30dd",
   "metadata": {},
   "source": [
    "정확도 85% 가 어떻게 도출되었나? => 'Answer : ???' 왜 잘나오는지 이유는 모름."
   ]
  },
  {
   "cell_type": "raw",
   "id": "1cb5170d-5819-4898-b520-e15edca25d2e",
   "metadata": {},
   "source": [
    "XAI?  = 설명할 수 있는 AI (AI가 가르쳐주고 이유를 알려줌.)"
   ]
  },
  {
   "cell_type": "raw",
   "id": "041f3730-7a21-4f29-82f8-cb7067c19b70",
   "metadata": {},
   "source": [
    "모델에 대한 해석은 어렵고 학문적이다. 어떻게 사용하는지만 확실히!!"
   ]
  },
  {
   "cell_type": "code",
   "execution_count": 152,
   "id": "01aa0416-457e-4688-ad73-234b595734f6",
   "metadata": {},
   "outputs": [],
   "source": [
    "sub2 = pd.read_csv('titanic/submission2.csv')"
   ]
  },
  {
   "cell_type": "code",
   "execution_count": 153,
   "id": "a5822661-fd1b-44df-8081-bf51325bc77b",
   "metadata": {},
   "outputs": [],
   "source": [
    "sub2['Survived']= submission"
   ]
  },
  {
   "cell_type": "code",
   "execution_count": 154,
   "id": "6e8d3a1e-13a8-40bb-b512-729cbcfbde3c",
   "metadata": {},
   "outputs": [],
   "source": [
    "sub2.to_csv('result.csv', index = False)"
   ]
  },
  {
   "cell_type": "code",
   "execution_count": 155,
   "id": "662d960d-83d7-41fb-8c22-902fc120eb96",
   "metadata": {},
   "outputs": [
    {
     "data": {
      "text/plain": [
       "0    281\n",
       "1    137\n",
       "Name: Survived, dtype: int64"
      ]
     },
     "execution_count": 155,
     "metadata": {},
     "output_type": "execute_result"
    }
   ],
   "source": [
    "sub2['Survived'].value_counts()"
   ]
  },
  {
   "cell_type": "code",
   "execution_count": null,
   "id": "77edcc2c-8b2d-4c87-ba69-1a25002cb529",
   "metadata": {},
   "outputs": [],
   "source": []
  }
 ],
 "metadata": {
  "kernelspec": {
   "display_name": "Python 3 (ipykernel)",
   "language": "python",
   "name": "python3"
  },
  "language_info": {
   "codemirror_mode": {
    "name": "ipython",
    "version": 3
   },
   "file_extension": ".py",
   "mimetype": "text/x-python",
   "name": "python",
   "nbconvert_exporter": "python",
   "pygments_lexer": "ipython3",
   "version": "3.9.13"
  }
 },
 "nbformat": 4,
 "nbformat_minor": 5
}
