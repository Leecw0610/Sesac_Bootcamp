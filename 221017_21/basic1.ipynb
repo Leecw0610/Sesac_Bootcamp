{
 "cells": [
  {
   "cell_type": "code",
   "execution_count": 1,
   "id": "962f0657-164d-4e18-aa05-8a620b4bbe89",
   "metadata": {},
   "outputs": [],
   "source": [
    "a = 1"
   ]
  },
  {
   "cell_type": "code",
   "execution_count": 2,
   "id": "90c91ad6-4312-46cd-97ee-3e26cb48d303",
   "metadata": {},
   "outputs": [],
   "source": [
    "a = 'a'"
   ]
  },
  {
   "cell_type": "code",
   "execution_count": 3,
   "id": "5baf975e-e0dd-48f3-8429-e7a6cb87304c",
   "metadata": {},
   "outputs": [],
   "source": [
    "name = 'chanwoong'"
   ]
  },
  {
   "cell_type": "code",
   "execution_count": 4,
   "id": "fdb7db80-33e2-4ebe-9982-de9e70ddaaec",
   "metadata": {},
   "outputs": [
    {
     "data": {
      "text/plain": [
       "'chanwoong'"
      ]
     },
     "execution_count": 4,
     "metadata": {},
     "output_type": "execute_result"
    }
   ],
   "source": [
    "name"
   ]
  },
  {
   "cell_type": "code",
   "execution_count": 5,
   "id": "e2f825fe-a044-4569-986a-8846b006af13",
   "metadata": {},
   "outputs": [],
   "source": [
    "이름 = '찬웅'"
   ]
  },
  {
   "cell_type": "code",
   "execution_count": 6,
   "id": "df08e4d2-72c7-4706-9b5f-1add218de248",
   "metadata": {},
   "outputs": [
    {
     "data": {
      "text/plain": [
       "'찬웅'"
      ]
     },
     "execution_count": 6,
     "metadata": {},
     "output_type": "execute_result"
    }
   ],
   "source": [
    "이름"
   ]
  },
  {
   "cell_type": "code",
   "execution_count": 7,
   "id": "27e81a55-92d8-4976-8c4e-f3409a5376f8",
   "metadata": {},
   "outputs": [
    {
     "ename": "NameError",
     "evalue": "name 'nAme' is not defined",
     "output_type": "error",
     "traceback": [
      "\u001b[1;31m---------------------------------------------------------------------------\u001b[0m",
      "\u001b[1;31mNameError\u001b[0m                                 Traceback (most recent call last)",
      "Input \u001b[1;32mIn [7]\u001b[0m, in \u001b[0;36m<cell line: 1>\u001b[1;34m()\u001b[0m\n\u001b[1;32m----> 1\u001b[0m \u001b[43mnAme\u001b[49m\n",
      "\u001b[1;31mNameError\u001b[0m: name 'nAme' is not defined"
     ]
    }
   ],
   "source": [
    "nAme"
   ]
  },
  {
   "cell_type": "code",
   "execution_count": 8,
   "id": "73a9f546-0f72-4d71-886a-1fe4ffbdedb3",
   "metadata": {},
   "outputs": [],
   "source": [
    "name1 = 'test'"
   ]
  },
  {
   "cell_type": "code",
   "execution_count": 9,
   "id": "58793bab-9457-41c5-87d6-984297a8d3c0",
   "metadata": {},
   "outputs": [
    {
     "data": {
      "text/plain": [
       "'test'"
      ]
     },
     "execution_count": 9,
     "metadata": {},
     "output_type": "execute_result"
    }
   ],
   "source": [
    "name1"
   ]
  },
  {
   "cell_type": "code",
   "execution_count": 10,
   "id": "e7c00400-705d-431f-9d51-7449befd6222",
   "metadata": {},
   "outputs": [
    {
     "ename": "SyntaxError",
     "evalue": "invalid syntax (1251804328.py, line 1)",
     "output_type": "error",
     "traceback": [
      "\u001b[1;36m  Input \u001b[1;32mIn [10]\u001b[1;36m\u001b[0m\n\u001b[1;33m    1name\u001b[0m\n\u001b[1;37m     ^\u001b[0m\n\u001b[1;31mSyntaxError\u001b[0m\u001b[1;31m:\u001b[0m invalid syntax\n"
     ]
    }
   ],
   "source": [
    "1name"
   ]
  },
  {
   "cell_type": "raw",
   "id": "86a0666d-6a54-45d6-bd0b-00f132ad3b19",
   "metadata": {},
   "source": [
    "- 숫자형\n",
    "- 문자형\n",
    "- bool(true/false) 0 or 1"
   ]
  },
  {
   "cell_type": "raw",
   "id": "ac9ec861-c544-4c2c-ab10-e39b62679a04",
   "metadata": {},
   "source": [
    "숫자형"
   ]
  },
  {
   "cell_type": "code",
   "execution_count": 13,
   "id": "2c38b869-27a3-48fb-8a16-5e558fffbd11",
   "metadata": {},
   "outputs": [
    {
     "data": {
      "text/plain": [
       "123"
      ]
     },
     "execution_count": 13,
     "metadata": {},
     "output_type": "execute_result"
    }
   ],
   "source": [
    "123 # int"
   ]
  },
  {
   "cell_type": "code",
   "execution_count": 15,
   "id": "ae052bf1-ee93-4bcb-8ed9-01829b90ccee",
   "metadata": {},
   "outputs": [],
   "source": [
    "num1 = 123 # int"
   ]
  },
  {
   "cell_type": "code",
   "execution_count": 16,
   "id": "6d33c2f8-efa9-4dcc-a295-7621d8d342f9",
   "metadata": {},
   "outputs": [
    {
     "data": {
      "text/plain": [
       "123"
      ]
     },
     "execution_count": 16,
     "metadata": {},
     "output_type": "execute_result"
    }
   ],
   "source": [
    "num1"
   ]
  },
  {
   "cell_type": "code",
   "execution_count": 17,
   "id": "eeaf73ed-b253-4c7c-b2af-e493fc592f0a",
   "metadata": {},
   "outputs": [],
   "source": [
    "num2 = 1.1 # float"
   ]
  },
  {
   "cell_type": "code",
   "execution_count": 19,
   "id": "f995042c-0c86-4a7c-86ac-1a62c56a3e97",
   "metadata": {},
   "outputs": [
    {
     "data": {
      "text/plain": [
       "1.1"
      ]
     },
     "execution_count": 19,
     "metadata": {},
     "output_type": "execute_result"
    }
   ],
   "source": [
    "num2"
   ]
  },
  {
   "cell_type": "code",
   "execution_count": 21,
   "id": "2a3ab093-ab34-4541-9a73-52e962a79ef3",
   "metadata": {},
   "outputs": [
    {
     "data": {
      "text/plain": [
       "int"
      ]
     },
     "execution_count": 21,
     "metadata": {},
     "output_type": "execute_result"
    }
   ],
   "source": [
    "type(num1)"
   ]
  },
  {
   "cell_type": "code",
   "execution_count": 24,
   "id": "f63bbc30-fe34-46fc-9faa-d9897625d88a",
   "metadata": {},
   "outputs": [
    {
     "name": "stdout",
     "output_type": "stream",
     "text": [
      "1.1\n"
     ]
    }
   ],
   "source": [
    "print(num2)"
   ]
  },
  {
   "cell_type": "code",
   "execution_count": 25,
   "id": "19c685ad-0861-4e66-b2a9-8dc5e8e3e915",
   "metadata": {},
   "outputs": [
    {
     "data": {
      "text/plain": [
       "float"
      ]
     },
     "execution_count": 25,
     "metadata": {},
     "output_type": "execute_result"
    }
   ],
   "source": [
    "type(num2)"
   ]
  },
  {
   "cell_type": "code",
   "execution_count": 26,
   "id": "1d2097e1-fab5-4fd8-b5fb-e93262ff3c0a",
   "metadata": {},
   "outputs": [
    {
     "data": {
      "text/plain": [
       "124.1"
      ]
     },
     "execution_count": 26,
     "metadata": {},
     "output_type": "execute_result"
    }
   ],
   "source": [
    "num1 + num2"
   ]
  },
  {
   "cell_type": "code",
   "execution_count": 27,
   "id": "72a7241a-6603-4551-bc01-557edb64841f",
   "metadata": {},
   "outputs": [
    {
     "data": {
      "text/plain": [
       "1"
      ]
     },
     "execution_count": 27,
     "metadata": {},
     "output_type": "execute_result"
    }
   ],
   "source": [
    "int(num2)"
   ]
  },
  {
   "cell_type": "code",
   "execution_count": 28,
   "id": "a9fb66ef-c5b2-450b-99b8-fb2d21fca815",
   "metadata": {},
   "outputs": [
    {
     "data": {
      "text/plain": [
       "123.0"
      ]
     },
     "execution_count": 28,
     "metadata": {},
     "output_type": "execute_result"
    }
   ],
   "source": [
    "float(num1)"
   ]
  },
  {
   "cell_type": "code",
   "execution_count": 30,
   "id": "8938230f-ed97-47e0-a5d9-e4ab4ea1c7d6",
   "metadata": {},
   "outputs": [
    {
     "data": {
      "text/plain": [
       "int"
      ]
     },
     "execution_count": 30,
     "metadata": {},
     "output_type": "execute_result"
    }
   ],
   "source": [
    "type(num1)"
   ]
  },
  {
   "cell_type": "code",
   "execution_count": 31,
   "id": "21ff19dd-9201-4587-8275-6070b1f986ec",
   "metadata": {},
   "outputs": [
    {
     "data": {
      "text/plain": [
       "float"
      ]
     },
     "execution_count": 31,
     "metadata": {},
     "output_type": "execute_result"
    }
   ],
   "source": [
    "type(num2)"
   ]
  },
  {
   "cell_type": "raw",
   "id": "594dc4ce-c8be-4f33-9769-e6763a642244",
   "metadata": {},
   "source": [
    "사칙연산\n",
    "-   +  -  *  /  % **"
   ]
  },
  {
   "cell_type": "code",
   "execution_count": 32,
   "id": "09b9ff75-cabf-4d1e-b1ee-a6e9dca6676b",
   "metadata": {},
   "outputs": [
    {
     "data": {
      "text/plain": [
       "300"
      ]
     },
     "execution_count": 32,
     "metadata": {},
     "output_type": "execute_result"
    }
   ],
   "source": [
    "100 + 200"
   ]
  },
  {
   "cell_type": "code",
   "execution_count": 33,
   "id": "bce060e3-c426-4f2b-b169-0870238eef7f",
   "metadata": {},
   "outputs": [
    {
     "data": {
      "text/plain": [
       "100"
      ]
     },
     "execution_count": 33,
     "metadata": {},
     "output_type": "execute_result"
    }
   ],
   "source": [
    "200 - 100"
   ]
  },
  {
   "cell_type": "code",
   "execution_count": 34,
   "id": "d7e65293-1ba9-4ea7-afc9-2a461d5751b0",
   "metadata": {},
   "outputs": [
    {
     "data": {
      "text/plain": [
       "20000"
      ]
     },
     "execution_count": 34,
     "metadata": {},
     "output_type": "execute_result"
    }
   ],
   "source": [
    "200 * 100"
   ]
  },
  {
   "cell_type": "code",
   "execution_count": 36,
   "id": "7137c1bb-fb07-4155-827d-c2e38e8b9829",
   "metadata": {},
   "outputs": [
    {
     "data": {
      "text/plain": [
       "2.5"
      ]
     },
     "execution_count": 36,
     "metadata": {},
     "output_type": "execute_result"
    }
   ],
   "source": [
    "5 / 2"
   ]
  },
  {
   "cell_type": "code",
   "execution_count": 38,
   "id": "d0be3e90-0f50-47a1-a4b0-ffb4bfc19e91",
   "metadata": {},
   "outputs": [
    {
     "data": {
      "text/plain": [
       "1"
      ]
     },
     "execution_count": 38,
     "metadata": {},
     "output_type": "execute_result"
    }
   ],
   "source": [
    "5 % 2"
   ]
  },
  {
   "cell_type": "code",
   "execution_count": 39,
   "id": "b83ff7a1-e6c4-40c7-8d80-5e896e62f1ee",
   "metadata": {},
   "outputs": [
    {
     "data": {
      "text/plain": [
       "25"
      ]
     },
     "execution_count": 39,
     "metadata": {},
     "output_type": "execute_result"
    }
   ],
   "source": [
    "5 ** 2"
   ]
  },
  {
   "cell_type": "code",
   "execution_count": 40,
   "id": "3ca6d5bc-f7f2-4e8b-847c-542aa2fc85de",
   "metadata": {},
   "outputs": [],
   "source": [
    "## quiz"
   ]
  },
  {
   "cell_type": "code",
   "execution_count": 42,
   "id": "8c3a6573-92db-4c49-95a9-01b859843487",
   "metadata": {},
   "outputs": [
    {
     "data": {
      "text/plain": [
       "359"
      ]
     },
     "execution_count": 42,
     "metadata": {},
     "output_type": "execute_result"
    }
   ],
   "source": [
    "57 + 84 + 93 + 58 + 67"
   ]
  },
  {
   "cell_type": "code",
   "execution_count": 43,
   "id": "1da1a52b-866f-44bf-96df-8bc5ddb1517d",
   "metadata": {},
   "outputs": [
    {
     "data": {
      "text/plain": [
       "71.8"
      ]
     },
     "execution_count": 43,
     "metadata": {},
     "output_type": "execute_result"
    }
   ],
   "source": [
    "359 / 5"
   ]
  },
  {
   "cell_type": "code",
   "execution_count": 45,
   "id": "c41ab4c2-a506-49c3-b55c-21e1af862861",
   "metadata": {},
   "outputs": [
    {
     "data": {
      "text/plain": [
       "1441.2586111111111"
      ]
     },
     "execution_count": 45,
     "metadata": {},
     "output_type": "execute_result"
    }
   ],
   "source": [
    "5188531 /3600"
   ]
  },
  {
   "cell_type": "code",
   "execution_count": 47,
   "id": "19af7698-6e9d-4c75-ab4f-146d707e8cc1",
   "metadata": {},
   "outputs": [
    {
     "data": {
      "text/plain": [
       "5187600"
      ]
     },
     "execution_count": 47,
     "metadata": {},
     "output_type": "execute_result"
    }
   ],
   "source": [
    "3600 * 1441"
   ]
  },
  {
   "cell_type": "code",
   "execution_count": 49,
   "id": "22435582-7011-40f6-93cb-6e0b721818a9",
   "metadata": {},
   "outputs": [
    {
     "data": {
      "text/plain": [
       "931"
      ]
     },
     "execution_count": 49,
     "metadata": {},
     "output_type": "execute_result"
    }
   ],
   "source": [
    "5188531 - 5187600"
   ]
  },
  {
   "cell_type": "code",
   "execution_count": 52,
   "id": "31302505-7e49-417e-b7d3-787552825aa2",
   "metadata": {},
   "outputs": [
    {
     "data": {
      "text/plain": [
       "15.516666666666667"
      ]
     },
     "execution_count": 52,
     "metadata": {},
     "output_type": "execute_result"
    }
   ],
   "source": [
    "931 / 60"
   ]
  },
  {
   "cell_type": "code",
   "execution_count": 54,
   "id": "217535f0-ab01-45cd-b9ae-af45fd0679b4",
   "metadata": {},
   "outputs": [
    {
     "data": {
      "text/plain": [
       "1.8109294288974705e+29"
      ]
     },
     "execution_count": 54,
     "metadata": {},
     "output_type": "execute_result"
    }
   ],
   "source": [
    "2 ** 100 / 7"
   ]
  },
  {
   "cell_type": "code",
   "execution_count": 58,
   "id": "9178dc79-6271-4941-831b-e185623ad993",
   "metadata": {},
   "outputs": [],
   "source": [
    "a = 2 ** 100"
   ]
  },
  {
   "cell_type": "code",
   "execution_count": 59,
   "id": "15146a1b-df41-4034-b212-5d349dc3995f",
   "metadata": {},
   "outputs": [
    {
     "data": {
      "text/plain": [
       "1267650600228229401496703205376"
      ]
     },
     "execution_count": 59,
     "metadata": {},
     "output_type": "execute_result"
    }
   ],
   "source": [
    "a"
   ]
  },
  {
   "cell_type": "code",
   "execution_count": 62,
   "id": "fd588e01-c553-4d48-9704-a166a2e94eae",
   "metadata": {},
   "outputs": [
    {
     "data": {
      "text/plain": [
       "1.8109294288974705e+29"
      ]
     },
     "execution_count": 62,
     "metadata": {},
     "output_type": "execute_result"
    }
   ],
   "source": [
    "a / 7"
   ]
  },
  {
   "cell_type": "code",
   "execution_count": 63,
   "id": "c17d0c9d-67a1-4f53-8d00-fcae06229ffe",
   "metadata": {},
   "outputs": [
    {
     "data": {
      "text/plain": [
       "2"
      ]
     },
     "execution_count": 63,
     "metadata": {},
     "output_type": "execute_result"
    }
   ],
   "source": [
    "a % 7"
   ]
  },
  {
   "cell_type": "code",
   "execution_count": 64,
   "id": "bcc9db9d-f468-4b6d-9a58-378d6a4f7967",
   "metadata": {},
   "outputs": [
    {
     "data": {
      "text/plain": [
       "181092942889747057356671886482"
      ]
     },
     "execution_count": 64,
     "metadata": {},
     "output_type": "execute_result"
    }
   ],
   "source": [
    "a //7"
   ]
  },
  {
   "cell_type": "code",
   "execution_count": 67,
   "id": "3820b0d2-7785-4dda-820b-2f7fa5ebbd23",
   "metadata": {},
   "outputs": [
    {
     "name": "stdout",
     "output_type": "stream",
     "text": [
      "71.8\n"
     ]
    }
   ],
   "source": [
    "print((57+84+93+58+67) / 5)"
   ]
  },
  {
   "cell_type": "code",
   "execution_count": 71,
   "id": "c047bb9c-07df-41d1-8fe1-b6c070e5c85d",
   "metadata": {},
   "outputs": [
    {
     "name": "stdout",
     "output_type": "stream",
     "text": [
      "1441\n",
      "15\n",
      "31\n"
     ]
    }
   ],
   "source": [
    "print(5188531//3600)\n",
    "print((5188531%3600)//60)\n",
    "print(((5188531%3600)%60))\n",
    "       "
   ]
  },
  {
   "cell_type": "code",
   "execution_count": 73,
   "id": "7f17b109-a44f-426b-994f-c996009cdf5c",
   "metadata": {},
   "outputs": [
    {
     "name": "stdout",
     "output_type": "stream",
     "text": [
      "181092942889747057356671886482\n",
      "2\n"
     ]
    }
   ],
   "source": [
    "print((2**100)//7)\n",
    "print((2**100)%7)"
   ]
  },
  {
   "cell_type": "raw",
   "id": "05a4737a-7bf7-4920-95f2-919fb6ec6fbc",
   "metadata": {},
   "source": [
    "문자열"
   ]
  },
  {
   "cell_type": "code",
   "execution_count": 74,
   "id": "70409460-40c9-4804-b585-30ac9d6d6378",
   "metadata": {},
   "outputs": [
    {
     "data": {
      "text/plain": [
       "'hello'"
      ]
     },
     "execution_count": 74,
     "metadata": {},
     "output_type": "execute_result"
    }
   ],
   "source": [
    "'hello'"
   ]
  },
  {
   "cell_type": "code",
   "execution_count": 75,
   "id": "cdea88f0-0d30-426f-a165-c0c4da9b5795",
   "metadata": {},
   "outputs": [
    {
     "ename": "SyntaxError",
     "evalue": "invalid syntax (4173396712.py, line 1)",
     "output_type": "error",
     "traceback": [
      "\u001b[1;36m  Input \u001b[1;32mIn [75]\u001b[1;36m\u001b[0m\n\u001b[1;33m    ''hello''\u001b[0m\n\u001b[1;37m      ^\u001b[0m\n\u001b[1;31mSyntaxError\u001b[0m\u001b[1;31m:\u001b[0m invalid syntax\n"
     ]
    }
   ],
   "source": [
    "''hello''"
   ]
  },
  {
   "cell_type": "code",
   "execution_count": 77,
   "id": "ccaff4bc-2618-4417-ae8e-d1b2b9f0441b",
   "metadata": {},
   "outputs": [
    {
     "data": {
      "text/plain": [
       "'hello'"
      ]
     },
     "execution_count": 77,
     "metadata": {},
     "output_type": "execute_result"
    }
   ],
   "source": [
    "\"hello\""
   ]
  },
  {
   "cell_type": "code",
   "execution_count": 78,
   "id": "a2121e66-e899-4585-98b3-d75d12b867ca",
   "metadata": {},
   "outputs": [
    {
     "data": {
      "text/plain": [
       "False"
      ]
     },
     "execution_count": 78,
     "metadata": {},
     "output_type": "execute_result"
    }
   ],
   "source": [
    "1=='1'"
   ]
  },
  {
   "cell_type": "code",
   "execution_count": 80,
   "id": "9a10a4dc-4b91-4f84-9513-49214640e8cd",
   "metadata": {},
   "outputs": [
    {
     "ename": "SyntaxError",
     "evalue": "invalid syntax (3706990057.py, line 1)",
     "output_type": "error",
     "traceback": [
      "\u001b[1;36m  Input \u001b[1;32mIn [80]\u001b[1;36m\u001b[0m\n\u001b[1;33m    ''I'm chanwoong''\u001b[0m\n\u001b[1;37m      ^\u001b[0m\n\u001b[1;31mSyntaxError\u001b[0m\u001b[1;31m:\u001b[0m invalid syntax\n"
     ]
    }
   ],
   "source": [
    "''I'm chanwoong''"
   ]
  },
  {
   "cell_type": "code",
   "execution_count": 81,
   "id": "0f51367c-8f9a-4f2e-ba29-500e4b307d2c",
   "metadata": {},
   "outputs": [
    {
     "data": {
      "text/plain": [
       "\"I'm chanwoong\""
      ]
     },
     "execution_count": 81,
     "metadata": {},
     "output_type": "execute_result"
    }
   ],
   "source": [
    "\"I'm chanwoong\""
   ]
  },
  {
   "cell_type": "code",
   "execution_count": 82,
   "id": "25db2eb1-bb45-4f1e-b695-3beee8e7204e",
   "metadata": {},
   "outputs": [
    {
     "data": {
      "text/plain": [
       "\"I'm chanwoong\""
      ]
     },
     "execution_count": 82,
     "metadata": {},
     "output_type": "execute_result"
    }
   ],
   "source": [
    "'I\\'m chanwoong'"
   ]
  },
  {
   "cell_type": "code",
   "execution_count": 83,
   "id": "f08e4094-8a3c-43e4-a49c-76052885402c",
   "metadata": {},
   "outputs": [
    {
     "name": "stdout",
     "output_type": "stream",
     "text": [
      "Hello world! \n",
      "Hello world!\n"
     ]
    }
   ],
   "source": [
    "print('Hello world! \\nHello world!')"
   ]
  },
  {
   "cell_type": "code",
   "execution_count": 84,
   "id": "e7f05cbf-7c5c-4889-94f5-a08c337018ed",
   "metadata": {},
   "outputs": [
    {
     "name": "stdout",
     "output_type": "stream",
     "text": [
      "hello world!\n",
      "\n",
      "hello world!\n"
     ]
    }
   ],
   "source": [
    "print('''hello world!\n",
    "\n",
    "hello world!''')"
   ]
  },
  {
   "cell_type": "raw",
   "id": "a18a0051-c866-4b4b-88b1-c8fd07193524",
   "metadata": {},
   "source": [
    "문자열 연산 (+) (*)"
   ]
  },
  {
   "cell_type": "code",
   "execution_count": 88,
   "id": "498ae939-d7bc-4f23-808e-cb5d7bbd11df",
   "metadata": {},
   "outputs": [],
   "source": [
    "a = 'Hello'\n",
    "b = ' Python!'"
   ]
  },
  {
   "cell_type": "code",
   "execution_count": 89,
   "id": "d71efe32-328e-4c17-93aa-fd8e5c254beb",
   "metadata": {},
   "outputs": [
    {
     "data": {
      "text/plain": [
       "'Hello Python!'"
      ]
     },
     "execution_count": 89,
     "metadata": {},
     "output_type": "execute_result"
    }
   ],
   "source": [
    "a+b"
   ]
  },
  {
   "cell_type": "code",
   "execution_count": 101,
   "id": "5f0b592f-f099-4203-9153-cd806e01993e",
   "metadata": {},
   "outputs": [
    {
     "name": "stdout",
     "output_type": "stream",
     "text": [
      "Hello, Python!Hello, Python!Hello, Python!Hello, Python!Hello, Python!\n"
     ]
    }
   ],
   "source": [
    "print( 'Hello, Python!'  * 5 )"
   ]
  },
  {
   "cell_type": "code",
   "execution_count": 95,
   "id": "b98cd8cb-96a9-45cf-9211-2870450a68f0",
   "metadata": {},
   "outputs": [],
   "source": [
    "c = 1"
   ]
  },
  {
   "cell_type": "code",
   "execution_count": 97,
   "id": "cd194b53-fd1a-4a67-a4ba-1dc2616e0dbd",
   "metadata": {},
   "outputs": [
    {
     "ename": "TypeError",
     "evalue": "can only concatenate str (not \"int\") to str",
     "output_type": "error",
     "traceback": [
      "\u001b[1;31m---------------------------------------------------------------------------\u001b[0m",
      "\u001b[1;31mTypeError\u001b[0m                                 Traceback (most recent call last)",
      "Input \u001b[1;32mIn [97]\u001b[0m, in \u001b[0;36m<cell line: 1>\u001b[1;34m()\u001b[0m\n\u001b[1;32m----> 1\u001b[0m \u001b[43ma\u001b[49m\u001b[43m \u001b[49m\u001b[38;5;241;43m+\u001b[39;49m\u001b[43m \u001b[49m\u001b[43mb\u001b[49m\u001b[38;5;241;43m+\u001b[39;49m\u001b[43m \u001b[49m\u001b[43mc\u001b[49m\n",
      "\u001b[1;31mTypeError\u001b[0m: can only concatenate str (not \"int\") to str"
     ]
    }
   ],
   "source": [
    "a + b+ c "
   ]
  },
  {
   "cell_type": "code",
   "execution_count": 98,
   "id": "76e4220a-76e4-487e-9f8a-0ee23ab9a61a",
   "metadata": {},
   "outputs": [
    {
     "name": "stdout",
     "output_type": "stream",
     "text": [
      "Hello Python! 1\n"
     ]
    }
   ],
   "source": [
    "print( a+b , c )"
   ]
  },
  {
   "cell_type": "code",
   "execution_count": 102,
   "id": "89a11e18-d7af-4ab4-8491-723f91ff1d1f",
   "metadata": {},
   "outputs": [
    {
     "data": {
      "text/plain": [
       "'Hello Python!1'"
      ]
     },
     "execution_count": 102,
     "metadata": {},
     "output_type": "execute_result"
    }
   ],
   "source": [
    "a+b+str(c)"
   ]
  },
  {
   "cell_type": "raw",
   "id": "744c5f3e-7281-4f56-9aa4-c40dc5a74f6c",
   "metadata": {},
   "source": [
    " 인덱싱과 슬라이싱"
   ]
  },
  {
   "cell_type": "code",
   "execution_count": 107,
   "id": "dd59a7cd-73e8-4cad-90ff-7c7e4ce22ff7",
   "metadata": {},
   "outputs": [],
   "source": [
    "t = 'Hello Sesac!'"
   ]
  },
  {
   "cell_type": "code",
   "execution_count": 104,
   "id": "4df4d4fc-40fc-421a-81d7-b5b613793dcf",
   "metadata": {},
   "outputs": [
    {
     "ename": "NameError",
     "evalue": "name 'index' is not defined",
     "output_type": "error",
     "traceback": [
      "\u001b[1;31m---------------------------------------------------------------------------\u001b[0m",
      "\u001b[1;31mNameError\u001b[0m                                 Traceback (most recent call last)",
      "Input \u001b[1;32mIn [104]\u001b[0m, in \u001b[0;36m<cell line: 1>\u001b[1;34m()\u001b[0m\n\u001b[1;32m----> 1\u001b[0m \u001b[43mindex\u001b[49m(\u001b[38;5;241m0\u001b[39m)\n",
      "\u001b[1;31mNameError\u001b[0m: name 'index' is not defined"
     ]
    }
   ],
   "source": [
    "index(0)"
   ]
  },
  {
   "cell_type": "code",
   "execution_count": 105,
   "id": "01e22365-3bc4-4cc9-ba94-a129d92b2432",
   "metadata": {},
   "outputs": [
    {
     "ename": "TypeError",
     "evalue": "'str' object is not callable",
     "output_type": "error",
     "traceback": [
      "\u001b[1;31m---------------------------------------------------------------------------\u001b[0m",
      "\u001b[1;31mTypeError\u001b[0m                                 Traceback (most recent call last)",
      "Input \u001b[1;32mIn [105]\u001b[0m, in \u001b[0;36m<cell line: 1>\u001b[1;34m()\u001b[0m\n\u001b[1;32m----> 1\u001b[0m \u001b[43mt\u001b[49m\u001b[43m(\u001b[49m\u001b[38;5;241;43m0\u001b[39;49m\u001b[43m)\u001b[49m\n",
      "\u001b[1;31mTypeError\u001b[0m: 'str' object is not callable"
     ]
    }
   ],
   "source": [
    "t(0)"
   ]
  },
  {
   "cell_type": "code",
   "execution_count": 108,
   "id": "54d12900-d816-46c3-8a0d-933f05016dbd",
   "metadata": {},
   "outputs": [
    {
     "data": {
      "text/plain": [
       "'H'"
      ]
     },
     "execution_count": 108,
     "metadata": {},
     "output_type": "execute_result"
    }
   ],
   "source": [
    "t[0]"
   ]
  },
  {
   "cell_type": "code",
   "execution_count": 109,
   "id": "1921c731-f7c2-48f6-a456-3514c384c3d6",
   "metadata": {},
   "outputs": [
    {
     "data": {
      "text/plain": [
       "12"
      ]
     },
     "execution_count": 109,
     "metadata": {},
     "output_type": "execute_result"
    }
   ],
   "source": [
    "len(t)"
   ]
  },
  {
   "cell_type": "code",
   "execution_count": 110,
   "id": "2ac442bb-efb7-4d6f-938b-a078b5a2df4d",
   "metadata": {},
   "outputs": [
    {
     "data": {
      "text/plain": [
       "'!'"
      ]
     },
     "execution_count": 110,
     "metadata": {},
     "output_type": "execute_result"
    }
   ],
   "source": [
    "t[11]"
   ]
  },
  {
   "cell_type": "code",
   "execution_count": 111,
   "id": "2ae66bb7-a479-4ad9-84b2-d0d04fd89a67",
   "metadata": {},
   "outputs": [
    {
     "data": {
      "text/plain": [
       "'!'"
      ]
     },
     "execution_count": 111,
     "metadata": {},
     "output_type": "execute_result"
    }
   ],
   "source": [
    "t[-1]"
   ]
  },
  {
   "cell_type": "code",
   "execution_count": 112,
   "id": "882e36b4-6ded-4dcc-a983-84c6f6023483",
   "metadata": {},
   "outputs": [
    {
     "data": {
      "text/plain": [
       "'H'"
      ]
     },
     "execution_count": 112,
     "metadata": {},
     "output_type": "execute_result"
    }
   ],
   "source": [
    "t[-12]"
   ]
  },
  {
   "cell_type": "code",
   "execution_count": 113,
   "id": "e77f942c-e663-4382-b2f6-618feb4a275a",
   "metadata": {},
   "outputs": [
    {
     "data": {
      "text/plain": [
       "'Hello'"
      ]
     },
     "execution_count": 113,
     "metadata": {},
     "output_type": "execute_result"
    }
   ],
   "source": [
    "t[0] + t[1] + t[2] + t[3] + t[4]"
   ]
  },
  {
   "cell_type": "code",
   "execution_count": 115,
   "id": "8c955dde-1f5f-438f-bccb-eda6164c7eee",
   "metadata": {},
   "outputs": [
    {
     "data": {
      "text/plain": [
       "'Hello'"
      ]
     },
     "execution_count": 115,
     "metadata": {},
     "output_type": "execute_result"
    }
   ],
   "source": [
    "t[0:5]"
   ]
  },
  {
   "cell_type": "code",
   "execution_count": 116,
   "id": "0ffc6038-a581-4cfd-8d68-3ac1d8366910",
   "metadata": {},
   "outputs": [
    {
     "data": {
      "text/plain": [
       "''"
      ]
     },
     "execution_count": 116,
     "metadata": {},
     "output_type": "execute_result"
    }
   ],
   "source": [
    "t[-1:-5]"
   ]
  },
  {
   "cell_type": "code",
   "execution_count": 118,
   "id": "a7fbf171-e867-4ba4-a1b0-2dce4ae74b64",
   "metadata": {},
   "outputs": [
    {
     "data": {
      "text/plain": [
       "'Sesac'"
      ]
     },
     "execution_count": 118,
     "metadata": {},
     "output_type": "execute_result"
    }
   ],
   "source": [
    "t[-6:-1]"
   ]
  },
  {
   "cell_type": "code",
   "execution_count": 119,
   "id": "b88d9af1-85be-4cf1-8137-9a738788b390",
   "metadata": {},
   "outputs": [
    {
     "data": {
      "text/plain": [
       "'Sesac'"
      ]
     },
     "execution_count": 119,
     "metadata": {},
     "output_type": "execute_result"
    }
   ],
   "source": [
    "t[6:11]"
   ]
  },
  {
   "cell_type": "code",
   "execution_count": 120,
   "id": "050f9c52-0ac3-4df6-9e47-6b0d96c116d6",
   "metadata": {},
   "outputs": [
    {
     "data": {
      "text/plain": [
       "'Sesac'"
      ]
     },
     "execution_count": 120,
     "metadata": {},
     "output_type": "execute_result"
    }
   ],
   "source": [
    "t[6:-1]"
   ]
  },
  {
   "cell_type": "code",
   "execution_count": 121,
   "id": "97137e9d-862e-446c-a116-f13ac61c224b",
   "metadata": {},
   "outputs": [
    {
     "data": {
      "text/plain": [
       "'Sesac!'"
      ]
     },
     "execution_count": 121,
     "metadata": {},
     "output_type": "execute_result"
    }
   ],
   "source": [
    "t[6:]"
   ]
  },
  {
   "cell_type": "code",
   "execution_count": 122,
   "id": "4ee47ca6-5d33-4abf-91c6-ea85d425d7fc",
   "metadata": {},
   "outputs": [
    {
     "data": {
      "text/plain": [
       "'Hello '"
      ]
     },
     "execution_count": 122,
     "metadata": {},
     "output_type": "execute_result"
    }
   ],
   "source": [
    "t[:6]"
   ]
  },
  {
   "cell_type": "code",
   "execution_count": 123,
   "id": "ea02bfe1-232b-46df-a0bd-5089c6b6d29e",
   "metadata": {},
   "outputs": [
    {
     "data": {
      "text/plain": [
       "'Hello Sesac!'"
      ]
     },
     "execution_count": 123,
     "metadata": {},
     "output_type": "execute_result"
    }
   ],
   "source": [
    "t[:]"
   ]
  },
  {
   "cell_type": "code",
   "execution_count": 124,
   "id": "a59de37b-3cae-4072-b86c-417b3ae9a6c3",
   "metadata": {},
   "outputs": [
    {
     "ename": "TypeError",
     "evalue": "string indices must be integers",
     "output_type": "error",
     "traceback": [
      "\u001b[1;31m---------------------------------------------------------------------------\u001b[0m",
      "\u001b[1;31mTypeError\u001b[0m                                 Traceback (most recent call last)",
      "Input \u001b[1;32mIn [124]\u001b[0m, in \u001b[0;36m<cell line: 1>\u001b[1;34m()\u001b[0m\n\u001b[1;32m----> 1\u001b[0m \u001b[43mt\u001b[49m\u001b[43m[\u001b[49m\u001b[43m:\u001b[49m\u001b[43m,\u001b[49m\u001b[43m:\u001b[49m\u001b[38;5;241;43m-\u001b[39;49m\u001b[38;5;241;43m1\u001b[39;49m\u001b[43m]\u001b[49m\n",
      "\u001b[1;31mTypeError\u001b[0m: string indices must be integers"
     ]
    }
   ],
   "source": [
    "t[:,:-1]"
   ]
  },
  {
   "cell_type": "code",
   "execution_count": 125,
   "id": "f2c4851a-9e5c-46eb-866e-9a2f1e29e154",
   "metadata": {},
   "outputs": [],
   "source": [
    "### 문자열 관련 함수"
   ]
  },
  {
   "cell_type": "code",
   "execution_count": 126,
   "id": "d6566a35-15bd-47ff-815e-5938fddf62aa",
   "metadata": {},
   "outputs": [
    {
     "ename": "NameError",
     "evalue": "name 'count' is not defined",
     "output_type": "error",
     "traceback": [
      "\u001b[1;31m---------------------------------------------------------------------------\u001b[0m",
      "\u001b[1;31mNameError\u001b[0m                                 Traceback (most recent call last)",
      "Input \u001b[1;32mIn [126]\u001b[0m, in \u001b[0;36m<cell line: 1>\u001b[1;34m()\u001b[0m\n\u001b[1;32m----> 1\u001b[0m \u001b[43mcount\u001b[49m\n",
      "\u001b[1;31mNameError\u001b[0m: name 'count' is not defined"
     ]
    }
   ],
   "source": [
    "count ### 숫자 세기"
   ]
  },
  {
   "cell_type": "code",
   "execution_count": 134,
   "id": "0eb863f7-57b8-4622-8f46-0b013f02e65f",
   "metadata": {},
   "outputs": [],
   "source": [
    "name = 'KIMLEECHOIPARKLEELEE'"
   ]
  },
  {
   "cell_type": "code",
   "execution_count": 135,
   "id": "dc270cec-189c-4683-9a5d-7564a0bffb38",
   "metadata": {},
   "outputs": [
    {
     "data": {
      "text/plain": [
       "3"
      ]
     },
     "execution_count": 135,
     "metadata": {},
     "output_type": "execute_result"
    }
   ],
   "source": [
    "name.count('LEE')"
   ]
  },
  {
   "cell_type": "code",
   "execution_count": 136,
   "id": "9ba12ebc-bc94-4a07-8b9f-46120317437a",
   "metadata": {},
   "outputs": [
    {
     "data": {
      "text/plain": [
       "6"
      ]
     },
     "execution_count": 136,
     "metadata": {},
     "output_type": "execute_result"
    }
   ],
   "source": [
    "name.count('E')"
   ]
  },
  {
   "cell_type": "raw",
   "id": "f0194a7c-a338-4f98-9597-c4b1df6f44bc",
   "metadata": {},
   "source": [
    "find ### 문자 찾기"
   ]
  },
  {
   "cell_type": "code",
   "execution_count": 137,
   "id": "fbaeaed1-ae1e-475c-8f57-40433edebe68",
   "metadata": {},
   "outputs": [
    {
     "data": {
      "text/plain": [
       "6"
      ]
     },
     "execution_count": 137,
     "metadata": {},
     "output_type": "execute_result"
    }
   ],
   "source": [
    "name.find('CHOI')"
   ]
  },
  {
   "cell_type": "code",
   "execution_count": 138,
   "id": "1a88d4b9-dcdf-42f0-bce6-9ea77240116d",
   "metadata": {},
   "outputs": [
    {
     "data": {
      "text/plain": [
       "-1"
      ]
     },
     "execution_count": 138,
     "metadata": {},
     "output_type": "execute_result"
    }
   ],
   "source": [
    "name.find('KWON')"
   ]
  },
  {
   "cell_type": "raw",
   "id": "2e1f31bc-9028-4172-98f7-181ea242afa9",
   "metadata": {},
   "source": [
    "index ### 문자 찾기"
   ]
  },
  {
   "cell_type": "code",
   "execution_count": 139,
   "id": "23c84ee6-10b5-43ca-be4a-24c603e6ab3e",
   "metadata": {},
   "outputs": [
    {
     "data": {
      "text/plain": [
       "6"
      ]
     },
     "execution_count": 139,
     "metadata": {},
     "output_type": "execute_result"
    }
   ],
   "source": [
    "name.index('CHOI')"
   ]
  },
  {
   "cell_type": "code",
   "execution_count": 140,
   "id": "96b73889-1c17-44c5-b6fa-dbe9346fc8ec",
   "metadata": {},
   "outputs": [
    {
     "ename": "ValueError",
     "evalue": "substring not found",
     "output_type": "error",
     "traceback": [
      "\u001b[1;31m---------------------------------------------------------------------------\u001b[0m",
      "\u001b[1;31mValueError\u001b[0m                                Traceback (most recent call last)",
      "Input \u001b[1;32mIn [140]\u001b[0m, in \u001b[0;36m<cell line: 1>\u001b[1;34m()\u001b[0m\n\u001b[1;32m----> 1\u001b[0m \u001b[43mname\u001b[49m\u001b[38;5;241;43m.\u001b[39;49m\u001b[43mindex\u001b[49m\u001b[43m(\u001b[49m\u001b[38;5;124;43m'\u001b[39;49m\u001b[38;5;124;43mKWON\u001b[39;49m\u001b[38;5;124;43m'\u001b[39;49m\u001b[43m)\u001b[49m\n",
      "\u001b[1;31mValueError\u001b[0m: substring not found"
     ]
    }
   ],
   "source": [
    "name.index('KWON')"
   ]
  },
  {
   "cell_type": "raw",
   "id": "62046dcd-8267-4a4f-ad56-8b8e930f898a",
   "metadata": {},
   "source": [
    "join ### 문자 삽입"
   ]
  },
  {
   "cell_type": "code",
   "execution_count": 141,
   "id": "ab77373c-845d-45c3-a4f9-3fa89509c7a3",
   "metadata": {},
   "outputs": [
    {
     "data": {
      "text/plain": [
       "'a-b-c-d-e'"
      ]
     },
     "execution_count": 141,
     "metadata": {},
     "output_type": "execute_result"
    }
   ],
   "source": [
    "'-'.join('abcde')"
   ]
  },
  {
   "cell_type": "code",
   "execution_count": 142,
   "id": "e8bedf3d-7242-439b-8abb-af20e4a754c1",
   "metadata": {},
   "outputs": [
    {
     "data": {
      "text/plain": [
       "'zHixHicHivHib'"
      ]
     },
     "execution_count": 142,
     "metadata": {},
     "output_type": "execute_result"
    }
   ],
   "source": [
    "'Hi'.join('zxcvb')"
   ]
  },
  {
   "cell_type": "raw",
   "id": "965e5c70-9657-4aa4-b5b1-22e0aa71dc0c",
   "metadata": {},
   "source": [
    "upper 대문자\n",
    "lower 소문자"
   ]
  },
  {
   "cell_type": "code",
   "execution_count": 143,
   "id": "cebce56f-a614-45eb-9934-3b26c8e5f77a",
   "metadata": {},
   "outputs": [],
   "source": [
    "msg = 'This is my phone'"
   ]
  },
  {
   "cell_type": "code",
   "execution_count": 144,
   "id": "34b29f37-3c2a-4cc3-9028-f5cf8349f284",
   "metadata": {},
   "outputs": [
    {
     "data": {
      "text/plain": [
       "'THIS IS MY PHONE'"
      ]
     },
     "execution_count": 144,
     "metadata": {},
     "output_type": "execute_result"
    }
   ],
   "source": [
    "msg.upper()"
   ]
  },
  {
   "cell_type": "code",
   "execution_count": 146,
   "id": "21b40062-b4f1-4a61-88a5-9d6b2964da25",
   "metadata": {},
   "outputs": [
    {
     "data": {
      "text/plain": [
       "'this is my phone'"
      ]
     },
     "execution_count": 146,
     "metadata": {},
     "output_type": "execute_result"
    }
   ],
   "source": [
    "msg.lower()"
   ]
  },
  {
   "cell_type": "code",
   "execution_count": 153,
   "id": "babd8de6-8e86-4fbc-8e18-acbfcbc48b6b",
   "metadata": {},
   "outputs": [
    {
     "data": {
      "text/plain": [
       "'THihHiiHisHi HiiHisHi HimHiyHi HipHihHioHinHie'"
      ]
     },
     "execution_count": 153,
     "metadata": {},
     "output_type": "execute_result"
    }
   ],
   "source": [
    "'Hi'.join(msg)"
   ]
  },
  {
   "cell_type": "code",
   "execution_count": 150,
   "id": "ff763e2c-6f8d-4f6c-b11c-9b32bc413a09",
   "metadata": {},
   "outputs": [
    {
     "data": {
      "text/plain": [
       "11"
      ]
     },
     "execution_count": 150,
     "metadata": {},
     "output_type": "execute_result"
    }
   ],
   "source": [
    "msg.lower().find('phone')"
   ]
  },
  {
   "cell_type": "code",
   "execution_count": 151,
   "id": "a59b27d2-1a0a-4dc5-980a-2b67e87bec9e",
   "metadata": {},
   "outputs": [
    {
     "data": {
      "text/plain": [
       "11"
      ]
     },
     "execution_count": 151,
     "metadata": {},
     "output_type": "execute_result"
    }
   ],
   "source": [
    "msg.upper().find('PHONE')"
   ]
  },
  {
   "cell_type": "raw",
   "id": "0ed4bdd8-9163-4733-9afa-3834d57f25ef",
   "metadata": {},
   "source": [
    "##Strip\n",
    "##lstrip\n",
    "##rstrip"
   ]
  },
  {
   "cell_type": "code",
   "execution_count": 154,
   "id": "4e858299-67e7-4d7e-86c1-f246977847f8",
   "metadata": {},
   "outputs": [
    {
     "data": {
      "text/plain": [
       "'This is my phone'"
      ]
     },
     "execution_count": 154,
     "metadata": {},
     "output_type": "execute_result"
    }
   ],
   "source": [
    "msg"
   ]
  },
  {
   "cell_type": "code",
   "execution_count": 156,
   "id": "bef5843b-007c-4a69-8470-f914db5bf3dd",
   "metadata": {},
   "outputs": [
    {
     "data": {
      "text/plain": [
       "'This is my phone'"
      ]
     },
     "execution_count": 156,
     "metadata": {},
     "output_type": "execute_result"
    }
   ],
   "source": [
    "msg.strip()"
   ]
  },
  {
   "cell_type": "code",
   "execution_count": 158,
   "id": "5ddef12a-4277-452e-a166-13ecbfca4d64",
   "metadata": {},
   "outputs": [],
   "source": [
    "msg = '             This is my phone              '"
   ]
  },
  {
   "cell_type": "code",
   "execution_count": 160,
   "id": "ee320b1f-8bb0-4ac6-969a-4f606316b69a",
   "metadata": {},
   "outputs": [
    {
     "data": {
      "text/plain": [
       "'This is my phone'"
      ]
     },
     "execution_count": 160,
     "metadata": {},
     "output_type": "execute_result"
    }
   ],
   "source": [
    "msg.strip()"
   ]
  },
  {
   "cell_type": "code",
   "execution_count": 161,
   "id": "1ed54ce2-9ac0-4852-a9a2-ef496387ddc4",
   "metadata": {},
   "outputs": [
    {
     "data": {
      "text/plain": [
       "'This is my phone              '"
      ]
     },
     "execution_count": 161,
     "metadata": {},
     "output_type": "execute_result"
    }
   ],
   "source": [
    "msg.lstrip()"
   ]
  },
  {
   "cell_type": "code",
   "execution_count": 162,
   "id": "7060cc73-958e-478c-85db-61f82f7056b5",
   "metadata": {},
   "outputs": [
    {
     "data": {
      "text/plain": [
       "'             This is my phone'"
      ]
     },
     "execution_count": 162,
     "metadata": {},
     "output_type": "execute_result"
    }
   ],
   "source": [
    "msg.rstrip()"
   ]
  },
  {
   "cell_type": "code",
   "execution_count": 163,
   "id": "250f5e3f-32eb-4103-a547-163c51f924c7",
   "metadata": {},
   "outputs": [
    {
     "data": {
      "text/plain": [
       "'             This is my phone              '"
      ]
     },
     "execution_count": 163,
     "metadata": {},
     "output_type": "execute_result"
    }
   ],
   "source": [
    "msg"
   ]
  },
  {
   "cell_type": "code",
   "execution_count": 164,
   "id": "9e6f4bc1-201e-440e-9a43-55f3aeaca55d",
   "metadata": {},
   "outputs": [],
   "source": [
    "msg = msg.strip()"
   ]
  },
  {
   "cell_type": "code",
   "execution_count": 165,
   "id": "22234388-4ead-4f4d-bb77-ef930966835c",
   "metadata": {},
   "outputs": [
    {
     "data": {
      "text/plain": [
       "'This is my phone'"
      ]
     },
     "execution_count": 165,
     "metadata": {},
     "output_type": "execute_result"
    }
   ],
   "source": [
    "msg"
   ]
  },
  {
   "cell_type": "raw",
   "id": "02877e4c-c65f-4af9-8c51-edd554f17c74",
   "metadata": {},
   "source": [
    "##Replace"
   ]
  },
  {
   "cell_type": "code",
   "execution_count": 167,
   "id": "b976f9d7-90c4-459e-83e0-1105f366bfa5",
   "metadata": {},
   "outputs": [
    {
     "data": {
      "text/plain": [
       "'This is your phone'"
      ]
     },
     "execution_count": 167,
     "metadata": {},
     "output_type": "execute_result"
    }
   ],
   "source": [
    "msg.replace('my', 'your')"
   ]
  },
  {
   "cell_type": "code",
   "execution_count": 174,
   "id": "8596c7eb-2b1d-404e-85e3-d2f3de1cb4da",
   "metadata": {},
   "outputs": [
    {
     "ename": "SyntaxError",
     "evalue": "invalid syntax (1384753819.py, line 1)",
     "output_type": "error",
     "traceback": [
      "\u001b[1;36m  Input \u001b[1;32mIn [174]\u001b[1;36m\u001b[0m\n\u001b[1;33m    msg.replace('my', '\"chanwoong's\")\u001b[0m\n\u001b[1;37m                                  ^\u001b[0m\n\u001b[1;31mSyntaxError\u001b[0m\u001b[1;31m:\u001b[0m invalid syntax\n"
     ]
    }
   ],
   "source": [
    "msg.replace('my', '\"chanwoong's\")"
   ]
  },
  {
   "cell_type": "code",
   "execution_count": 171,
   "id": "ba02700f-75b6-4a30-adad-1f20dfd0bd28",
   "metadata": {},
   "outputs": [
    {
     "data": {
      "text/plain": [
       "'Thisismyphone'"
      ]
     },
     "execution_count": 171,
     "metadata": {},
     "output_type": "execute_result"
    }
   ],
   "source": [
    "msg.replace(' ', '')"
   ]
  },
  {
   "cell_type": "raw",
   "id": "a2d5eff8-bbea-4927-a8da-aae4d705854a",
   "metadata": {},
   "source": [
    "##split"
   ]
  },
  {
   "cell_type": "code",
   "execution_count": 175,
   "id": "7495aa53-247d-4063-884e-a3a3891a4eff",
   "metadata": {},
   "outputs": [
    {
     "data": {
      "text/plain": [
       "['This', 'is', 'my', 'phone']"
      ]
     },
     "execution_count": 175,
     "metadata": {},
     "output_type": "execute_result"
    }
   ],
   "source": [
    "msg.split(' ')"
   ]
  },
  {
   "cell_type": "code",
   "execution_count": 176,
   "id": "8f1fe5e0-8a0b-4127-8cd6-1d4d2870f6c6",
   "metadata": {},
   "outputs": [
    {
     "data": {
      "text/plain": [
       "['010', '0000', '0000']"
      ]
     },
     "execution_count": 176,
     "metadata": {},
     "output_type": "execute_result"
    }
   ],
   "source": [
    "'010-0000-0000'.split('-')"
   ]
  },
  {
   "cell_type": "code",
   "execution_count": 177,
   "id": "6dccb210-6db9-421d-9f1b-b71766b11ad6",
   "metadata": {},
   "outputs": [
    {
     "data": {
      "text/plain": [
       "'0000'"
      ]
     },
     "execution_count": 177,
     "metadata": {},
     "output_type": "execute_result"
    }
   ],
   "source": [
    "'010-0000-0000'.split('-')[2]"
   ]
  },
  {
   "cell_type": "code",
   "execution_count": 178,
   "id": "b156174b-ee91-48e7-a866-365176b9782d",
   "metadata": {},
   "outputs": [],
   "source": [
    "##quiz"
   ]
  },
  {
   "cell_type": "code",
   "execution_count": 182,
   "id": "a316b012-c8ce-4f16-91fb-5ec4b2505c39",
   "metadata": {},
   "outputs": [],
   "source": [
    "jumin ='900101-1234567'"
   ]
  },
  {
   "cell_type": "code",
   "execution_count": 185,
   "id": "1d166abc-9069-42e4-ba13-62716a5864dd",
   "metadata": {},
   "outputs": [
    {
     "data": {
      "text/plain": [
       "'1'"
      ]
     },
     "execution_count": 185,
     "metadata": {},
     "output_type": "execute_result"
    }
   ],
   "source": [
    "jumin[7]"
   ]
  },
  {
   "cell_type": "code",
   "execution_count": 186,
   "id": "626bf140-8d5b-41bb-8c47-96f5441553dd",
   "metadata": {},
   "outputs": [
    {
     "data": {
      "text/plain": [
       "'1234567'"
      ]
     },
     "execution_count": 186,
     "metadata": {},
     "output_type": "execute_result"
    }
   ],
   "source": [
    "jumin[7:]"
   ]
  },
  {
   "cell_type": "code",
   "execution_count": 189,
   "id": "af813e3b-6b00-44fa-a11b-b509e06f91b7",
   "metadata": {},
   "outputs": [
    {
     "data": {
      "text/plain": [
       "str"
      ]
     },
     "execution_count": 189,
     "metadata": {},
     "output_type": "execute_result"
    }
   ],
   "source": [
    "type (jumin)"
   ]
  },
  {
   "cell_type": "code",
   "execution_count": 190,
   "id": "dfef0157-4869-4f5f-8723-a5ad97ee051d",
   "metadata": {},
   "outputs": [
    {
     "ename": "ValueError",
     "evalue": "invalid literal for int() with base 10: '900101-1234567'",
     "output_type": "error",
     "traceback": [
      "\u001b[1;31m---------------------------------------------------------------------------\u001b[0m",
      "\u001b[1;31mValueError\u001b[0m                                Traceback (most recent call last)",
      "Input \u001b[1;32mIn [190]\u001b[0m, in \u001b[0;36m<cell line: 1>\u001b[1;34m()\u001b[0m\n\u001b[1;32m----> 1\u001b[0m \u001b[38;5;28;43mint\u001b[39;49m\u001b[43m \u001b[49m\u001b[43m(\u001b[49m\u001b[43mjumin\u001b[49m\u001b[43m)\u001b[49m\n",
      "\u001b[1;31mValueError\u001b[0m: invalid literal for int() with base 10: '900101-1234567'"
     ]
    }
   ],
   "source": [
    "int (jumin)"
   ]
  },
  {
   "cell_type": "code",
   "execution_count": 194,
   "id": "5f45f8fd-ae31-4386-8d70-56ebff949e41",
   "metadata": {},
   "outputs": [
    {
     "data": {
      "text/plain": [
       "33"
      ]
     },
     "execution_count": 194,
     "metadata": {},
     "output_type": "execute_result"
    }
   ],
   "source": [
    "122 - int (jumin[:2]) + 1 "
   ]
  },
  {
   "cell_type": "code",
   "execution_count": 195,
   "id": "f7476afe-3b64-46cd-850c-4d23f61e07ef",
   "metadata": {},
   "outputs": [
    {
     "data": {
      "text/plain": [
       "'1'"
      ]
     },
     "execution_count": 195,
     "metadata": {},
     "output_type": "execute_result"
    }
   ],
   "source": [
    "jumin[jumin.find('-')+1]"
   ]
  },
  {
   "cell_type": "code",
   "execution_count": 199,
   "id": "f43da88a-86f5-45d3-949f-baf7b749e7fe",
   "metadata": {},
   "outputs": [
    {
     "data": {
      "text/plain": [
       "33"
      ]
     },
     "execution_count": 199,
     "metadata": {},
     "output_type": "execute_result"
    }
   ],
   "source": [
    "2022 - int('19'+jumin[:2]) +1"
   ]
  },
  {
   "cell_type": "code",
   "execution_count": 200,
   "id": "12eab712-f937-40bd-90f5-1b64299d9d20",
   "metadata": {},
   "outputs": [
    {
     "data": {
      "text/plain": [
       "-67"
      ]
     },
     "execution_count": 200,
     "metadata": {},
     "output_type": "execute_result"
    }
   ],
   "source": [
    "2022 - int('20'+jumin[:2]) +1"
   ]
  },
  {
   "cell_type": "code",
   "execution_count": 201,
   "id": "3f47e8e6-9f35-4210-870c-15634196efbf",
   "metadata": {},
   "outputs": [
    {
     "data": {
      "text/plain": [
       "'1234567'"
      ]
     },
     "execution_count": 201,
     "metadata": {},
     "output_type": "execute_result"
    }
   ],
   "source": [
    "jumin[jumin.find('-')+1:]"
   ]
  },
  {
   "cell_type": "code",
   "execution_count": 202,
   "id": "e8dd7f2a-c33f-4915-8b6f-9184eeba2a91",
   "metadata": {},
   "outputs": [
    {
     "data": {
      "text/plain": [
       "'1234567'"
      ]
     },
     "execution_count": 202,
     "metadata": {},
     "output_type": "execute_result"
    }
   ],
   "source": [
    "jumin.split('-')[1]"
   ]
  },
  {
   "cell_type": "markdown",
   "id": "06c38175-f01c-49af-a40c-8d2e6168e43e",
   "metadata": {},
   "source": [
    "## bool"
   ]
  },
  {
   "cell_type": "code",
   "execution_count": 204,
   "id": "8b7f9a95-cd9a-4330-a4fe-ae8d2e800a71",
   "metadata": {},
   "outputs": [
    {
     "data": {
      "text/plain": [
       "True"
      ]
     },
     "execution_count": 204,
     "metadata": {},
     "output_type": "execute_result"
    }
   ],
   "source": [
    "True"
   ]
  },
  {
   "cell_type": "code",
   "execution_count": 206,
   "id": "b6a9f9e8-1b2f-43e5-b5a4-bd2c80948dc6",
   "metadata": {},
   "outputs": [
    {
     "data": {
      "text/plain": [
       "False"
      ]
     },
     "execution_count": 206,
     "metadata": {},
     "output_type": "execute_result"
    }
   ],
   "source": [
    "False"
   ]
  },
  {
   "cell_type": "code",
   "execution_count": 208,
   "id": "5ca7699d-c26d-49c6-9e95-1db023bf9963",
   "metadata": {},
   "outputs": [
    {
     "data": {
      "text/plain": [
       "bool"
      ]
     },
     "execution_count": 208,
     "metadata": {},
     "output_type": "execute_result"
    }
   ],
   "source": [
    "type(True)"
   ]
  },
  {
   "cell_type": "code",
   "execution_count": 209,
   "id": "8dc120f8-5352-4770-af31-d21c96cc2a4b",
   "metadata": {},
   "outputs": [
    {
     "data": {
      "text/plain": [
       "1"
      ]
     },
     "execution_count": 209,
     "metadata": {},
     "output_type": "execute_result"
    }
   ],
   "source": [
    "int(True)"
   ]
  },
  {
   "cell_type": "code",
   "execution_count": 210,
   "id": "1c5a18b0-13bc-4f88-a442-9ce12a3e88d6",
   "metadata": {},
   "outputs": [
    {
     "data": {
      "text/plain": [
       "0"
      ]
     },
     "execution_count": 210,
     "metadata": {},
     "output_type": "execute_result"
    }
   ],
   "source": [
    "int(False)"
   ]
  },
  {
   "cell_type": "code",
   "execution_count": 211,
   "id": "1b79896f-c1eb-46ac-a333-c8c048271e52",
   "metadata": {},
   "outputs": [
    {
     "data": {
      "text/plain": [
       "True"
      ]
     },
     "execution_count": 211,
     "metadata": {},
     "output_type": "execute_result"
    }
   ],
   "source": [
    "bool('abc')"
   ]
  },
  {
   "cell_type": "code",
   "execution_count": 213,
   "id": "d67acfbc-6d92-42be-b271-ff8ca3dc8b3b",
   "metadata": {},
   "outputs": [
    {
     "data": {
      "text/plain": [
       "True"
      ]
     },
     "execution_count": 213,
     "metadata": {},
     "output_type": "execute_result"
    }
   ],
   "source": [
    "bool(1)"
   ]
  },
  {
   "cell_type": "code",
   "execution_count": 214,
   "id": "2eab846e-bfac-4d3a-b578-dc994ed4da29",
   "metadata": {},
   "outputs": [
    {
     "data": {
      "text/plain": [
       "False"
      ]
     },
     "execution_count": 214,
     "metadata": {},
     "output_type": "execute_result"
    }
   ],
   "source": [
    "bool(0)"
   ]
  },
  {
   "cell_type": "code",
   "execution_count": 215,
   "id": "d91e8a96-136f-4d1c-880a-aca2ef3fcd4e",
   "metadata": {},
   "outputs": [
    {
     "name": "stdout",
     "output_type": "stream",
     "text": [
      "abc\n"
     ]
    }
   ],
   "source": [
    "a = 'abc'\n",
    "if a :\n",
    "    print(a)\n",
    "else :\n",
    "    print('fail')"
   ]
  },
  {
   "cell_type": "code",
   "execution_count": 216,
   "id": "ab410794-61c4-4e44-8133-24d185700498",
   "metadata": {},
   "outputs": [
    {
     "data": {
      "text/plain": [
       "True"
      ]
     },
     "execution_count": 216,
     "metadata": {},
     "output_type": "execute_result"
    }
   ],
   "source": [
    "1 == 1"
   ]
  },
  {
   "cell_type": "code",
   "execution_count": 217,
   "id": "001da8a2-07f0-4f0b-9095-a7d84d744e87",
   "metadata": {},
   "outputs": [
    {
     "data": {
      "text/plain": [
       "False"
      ]
     },
     "execution_count": 217,
     "metadata": {},
     "output_type": "execute_result"
    }
   ],
   "source": [
    "1 == 2"
   ]
  },
  {
   "cell_type": "code",
   "execution_count": 218,
   "id": "1e88f58a-0a89-407b-bde6-92866a222c30",
   "metadata": {},
   "outputs": [
    {
     "data": {
      "text/plain": [
       "False"
      ]
     },
     "execution_count": 218,
     "metadata": {},
     "output_type": "execute_result"
    }
   ],
   "source": [
    "1 == '1' "
   ]
  },
  {
   "cell_type": "code",
   "execution_count": 219,
   "id": "9b5a054b-278a-40ec-b1cb-b6b28a7825f6",
   "metadata": {},
   "outputs": [
    {
     "data": {
      "text/plain": [
       "False"
      ]
     },
     "execution_count": 219,
     "metadata": {},
     "output_type": "execute_result"
    }
   ],
   "source": [
    "1 > 2"
   ]
  },
  {
   "cell_type": "code",
   "execution_count": 220,
   "id": "e893cae9-c7df-4957-8e06-85fce2336faf",
   "metadata": {},
   "outputs": [
    {
     "data": {
      "text/plain": [
       "False"
      ]
     },
     "execution_count": 220,
     "metadata": {},
     "output_type": "execute_result"
    }
   ],
   "source": [
    "'a' > 'b'"
   ]
  },
  {
   "cell_type": "code",
   "execution_count": 221,
   "id": "438f8947-a5b1-4674-b586-cb7eabafb73a",
   "metadata": {},
   "outputs": [
    {
     "data": {
      "text/plain": [
       "True"
      ]
     },
     "execution_count": 221,
     "metadata": {},
     "output_type": "execute_result"
    }
   ],
   "source": [
    "'a' > 'B'"
   ]
  },
  {
   "cell_type": "code",
   "execution_count": 222,
   "id": "93968ca4-2bab-491f-950a-ad6b6c269a1c",
   "metadata": {},
   "outputs": [
    {
     "data": {
      "text/plain": [
       "True"
      ]
     },
     "execution_count": 222,
     "metadata": {},
     "output_type": "execute_result"
    }
   ],
   "source": [
    "'apple' < 'b'"
   ]
  },
  {
   "cell_type": "code",
   "execution_count": 223,
   "id": "eccb03a1-984f-41e4-9aa0-8aace56ed564",
   "metadata": {},
   "outputs": [
    {
     "data": {
      "text/plain": [
       "False"
      ]
     },
     "execution_count": 223,
     "metadata": {},
     "output_type": "execute_result"
    }
   ],
   "source": [
    "'apple' < 'app'"
   ]
  }
 ],
 "metadata": {
  "kernelspec": {
   "display_name": "Python 3 (ipykernel)",
   "language": "python",
   "name": "python3"
  },
  "language_info": {
   "codemirror_mode": {
    "name": "ipython",
    "version": 3
   },
   "file_extension": ".py",
   "mimetype": "text/x-python",
   "name": "python",
   "nbconvert_exporter": "python",
   "pygments_lexer": "ipython3",
   "version": "3.9.12"
  }
 },
 "nbformat": 4,
 "nbformat_minor": 5
}
