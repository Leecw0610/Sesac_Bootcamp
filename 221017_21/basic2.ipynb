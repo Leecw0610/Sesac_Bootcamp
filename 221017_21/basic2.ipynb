{
 "cells": [
  {
   "cell_type": "markdown",
   "id": "586d8ce8-460b-4419-9620-e88da66b0644",
   "metadata": {},
   "source": [
    "##리스트"
   ]
  },
  {
   "cell_type": "code",
   "execution_count": 1,
   "id": "58dbf7f7-c2af-4509-ad69-8bade06bfa7c",
   "metadata": {},
   "outputs": [],
   "source": [
    "a = 1\n",
    "b = 'abc'"
   ]
  },
  {
   "cell_type": "code",
   "execution_count": 15,
   "id": "b94c2823-43f4-40ab-8c3d-ad4764febb71",
   "metadata": {},
   "outputs": [],
   "source": [
    "l = [1, 2, 3, 4]"
   ]
  },
  {
   "cell_type": "code",
   "execution_count": 16,
   "id": "059598d9-a5e0-4e40-8570-1d628fb1ebdc",
   "metadata": {},
   "outputs": [
    {
     "data": {
      "text/plain": [
       "list"
      ]
     },
     "execution_count": 16,
     "metadata": {},
     "output_type": "execute_result"
    }
   ],
   "source": [
    "type(l)"
   ]
  },
  {
   "cell_type": "code",
   "execution_count": 17,
   "id": "30ca46c0-2455-437c-a7cb-8e4947d9b0c1",
   "metadata": {},
   "outputs": [],
   "source": [
    "l2 = [1, '2', True]"
   ]
  },
  {
   "cell_type": "code",
   "execution_count": 18,
   "id": "f35be3dc-0e14-47e0-ace1-1b1da0387ea6",
   "metadata": {},
   "outputs": [],
   "source": [
    "l3 = list()"
   ]
  },
  {
   "cell_type": "code",
   "execution_count": 19,
   "id": "dbdafd82-08b5-4a23-b94a-6565ba93654c",
   "metadata": {},
   "outputs": [
    {
     "data": {
      "text/plain": [
       "[]"
      ]
     },
     "execution_count": 19,
     "metadata": {},
     "output_type": "execute_result"
    }
   ],
   "source": [
    "l3"
   ]
  },
  {
   "cell_type": "code",
   "execution_count": 20,
   "id": "af1c1a1a-86b8-451c-a3bc-11ca0a146909",
   "metadata": {},
   "outputs": [],
   "source": [
    "num = [1, 2, 3, 4, 5]"
   ]
  },
  {
   "cell_type": "code",
   "execution_count": 21,
   "id": "08a681af-a7d1-43f1-b387-43d5680e65e2",
   "metadata": {},
   "outputs": [
    {
     "data": {
      "text/plain": [
       "3"
      ]
     },
     "execution_count": 21,
     "metadata": {},
     "output_type": "execute_result"
    }
   ],
   "source": [
    "num[2]"
   ]
  },
  {
   "cell_type": "code",
   "execution_count": 22,
   "id": "e50ffb3d-fea6-4d14-a79e-1921c2e01b77",
   "metadata": {},
   "outputs": [
    {
     "data": {
      "text/plain": [
       "3"
      ]
     },
     "execution_count": 22,
     "metadata": {},
     "output_type": "execute_result"
    }
   ],
   "source": [
    "num[-3]"
   ]
  },
  {
   "cell_type": "code",
   "execution_count": 23,
   "id": "91b1d2a5-5ff4-4ef5-9c70-850c1f5be31c",
   "metadata": {},
   "outputs": [
    {
     "data": {
      "text/plain": [
       "[4, 5]"
      ]
     },
     "execution_count": 23,
     "metadata": {},
     "output_type": "execute_result"
    }
   ],
   "source": [
    "num[3:]"
   ]
  },
  {
   "cell_type": "code",
   "execution_count": 24,
   "id": "8a728a3e-56d7-4469-a43a-443f8d57f935",
   "metadata": {},
   "outputs": [
    {
     "data": {
      "text/plain": [
       "[1, 2, 3, 4]"
      ]
     },
     "execution_count": 24,
     "metadata": {},
     "output_type": "execute_result"
    }
   ],
   "source": [
    "num[0:4]"
   ]
  },
  {
   "cell_type": "code",
   "execution_count": 25,
   "id": "0a3be65b-fc0d-463e-8bc6-a7e7f6f3e2c3",
   "metadata": {},
   "outputs": [
    {
     "data": {
      "text/plain": [
       "[1, 2, 3]"
      ]
     },
     "execution_count": 25,
     "metadata": {},
     "output_type": "execute_result"
    }
   ],
   "source": [
    "num[0:3]"
   ]
  },
  {
   "cell_type": "code",
   "execution_count": 26,
   "id": "286f7818-e3fa-40ab-856a-c7d14f587d2d",
   "metadata": {},
   "outputs": [
    {
     "data": {
      "text/plain": [
       "[2, 3, 4]"
      ]
     },
     "execution_count": 26,
     "metadata": {},
     "output_type": "execute_result"
    }
   ],
   "source": [
    "num[1:4]"
   ]
  },
  {
   "cell_type": "code",
   "execution_count": 27,
   "id": "6550e7d5-b84d-4642-83c1-0657c5c2ed53",
   "metadata": {},
   "outputs": [
    {
     "data": {
      "text/plain": [
       "[2, 3, 4]"
      ]
     },
     "execution_count": 27,
     "metadata": {},
     "output_type": "execute_result"
    }
   ],
   "source": [
    "num[-4:-1]"
   ]
  },
  {
   "cell_type": "code",
   "execution_count": 28,
   "id": "0d1f2d69-5e11-4a03-b890-c313e4062695",
   "metadata": {},
   "outputs": [
    {
     "data": {
      "text/plain": [
       "[3]"
      ]
     },
     "execution_count": 28,
     "metadata": {},
     "output_type": "execute_result"
    }
   ],
   "source": [
    "num[-3:-2]"
   ]
  },
  {
   "cell_type": "code",
   "execution_count": 29,
   "id": "9f4aab35-1925-4f7e-a663-fd2559652570",
   "metadata": {},
   "outputs": [
    {
     "data": {
      "text/plain": [
       "[3, 4]"
      ]
     },
     "execution_count": 29,
     "metadata": {},
     "output_type": "execute_result"
    }
   ],
   "source": [
    "num[-3:-1]"
   ]
  },
  {
   "cell_type": "code",
   "execution_count": 30,
   "id": "86762cf4-66d8-4eef-8883-6e2d62abd1f6",
   "metadata": {},
   "outputs": [
    {
     "data": {
      "text/plain": [
       "[1, 2]"
      ]
     },
     "execution_count": 30,
     "metadata": {},
     "output_type": "execute_result"
    }
   ],
   "source": [
    "num[:2]"
   ]
  },
  {
   "cell_type": "code",
   "execution_count": 31,
   "id": "ba9842f1-14c4-45f8-b88c-ea1cf3670772",
   "metadata": {},
   "outputs": [
    {
     "data": {
      "text/plain": [
       "[1, 2, 3]"
      ]
     },
     "execution_count": 31,
     "metadata": {},
     "output_type": "execute_result"
    }
   ],
   "source": [
    "num[:3]"
   ]
  },
  {
   "cell_type": "code",
   "execution_count": 32,
   "id": "894ab322-571e-4fb6-a5cf-72d53f11d98b",
   "metadata": {},
   "outputs": [],
   "source": [
    "num = [1, 2, 3, 4, 5, '강아지']"
   ]
  },
  {
   "cell_type": "code",
   "execution_count": 33,
   "id": "ac8d5295-80f6-4d71-a01b-c09cf0dd7573",
   "metadata": {},
   "outputs": [
    {
     "data": {
      "text/plain": [
       "'강아지'"
      ]
     },
     "execution_count": 33,
     "metadata": {},
     "output_type": "execute_result"
    }
   ],
   "source": [
    "num[-1]"
   ]
  },
  {
   "cell_type": "code",
   "execution_count": 35,
   "id": "26b5bf4f-0d8b-44b7-9587-b825d1e0c17d",
   "metadata": {},
   "outputs": [
    {
     "data": {
      "text/plain": [
       "list"
      ]
     },
     "execution_count": 35,
     "metadata": {},
     "output_type": "execute_result"
    }
   ],
   "source": [
    "type(num)"
   ]
  },
  {
   "cell_type": "code",
   "execution_count": 36,
   "id": "505bd8da-b32a-4c0d-a65e-0db42fdfe359",
   "metadata": {},
   "outputs": [
    {
     "data": {
      "text/plain": [
       "[1, 2, 3, 4, 5]"
      ]
     },
     "execution_count": 36,
     "metadata": {},
     "output_type": "execute_result"
    }
   ],
   "source": [
    "num[:5]"
   ]
  },
  {
   "cell_type": "code",
   "execution_count": 37,
   "id": "70850e48-1363-4fa8-9d8d-ad66337493f9",
   "metadata": {},
   "outputs": [
    {
     "data": {
      "text/plain": [
       "[1, 3, 5]"
      ]
     },
     "execution_count": 37,
     "metadata": {},
     "output_type": "execute_result"
    }
   ],
   "source": [
    "num[:5:2]"
   ]
  },
  {
   "cell_type": "code",
   "execution_count": 38,
   "id": "a2c16746-2ce7-4528-8ec0-4a70c0e36968",
   "metadata": {},
   "outputs": [],
   "source": [
    "l1 = [1, 2, 3]"
   ]
  },
  {
   "cell_type": "code",
   "execution_count": 39,
   "id": "6d2cb4b1-2555-4567-87d5-750fc22bdf32",
   "metadata": {},
   "outputs": [],
   "source": [
    "l2 = [4, 5, 6]"
   ]
  },
  {
   "cell_type": "code",
   "execution_count": 40,
   "id": "b5dd79a8-5076-498e-a81a-c65a0294bf23",
   "metadata": {},
   "outputs": [
    {
     "data": {
      "text/plain": [
       "[1, 2, 3, 4, 5, 6]"
      ]
     },
     "execution_count": 40,
     "metadata": {},
     "output_type": "execute_result"
    }
   ],
   "source": [
    "l1 + l2"
   ]
  },
  {
   "cell_type": "raw",
   "id": "2042b483-3c4a-4806-aed0-4d17e6ea6567",
   "metadata": {},
   "source": [
    "##이중리스트"
   ]
  },
  {
   "cell_type": "code",
   "execution_count": 41,
   "id": "ca00813a-fdbb-4f69-9415-58d1dba2284e",
   "metadata": {},
   "outputs": [],
   "source": [
    "mat2 = [[1, 2, 3, 4],\n",
    "        [5, 6, 7, 8],\n",
    "        [9, 10, 11, 12]]"
   ]
  },
  {
   "cell_type": "code",
   "execution_count": 42,
   "id": "9163fb62-3850-45ca-8b4f-a57f2d1339bf",
   "metadata": {},
   "outputs": [
    {
     "data": {
      "text/plain": [
       "[[1, 2, 3, 4], [5, 6, 7, 8], [9, 10, 11, 12]]"
      ]
     },
     "execution_count": 42,
     "metadata": {},
     "output_type": "execute_result"
    }
   ],
   "source": [
    "mat2"
   ]
  },
  {
   "cell_type": "code",
   "execution_count": 44,
   "id": "4026b7c1-dcde-48cf-a40c-47c66b820af0",
   "metadata": {},
   "outputs": [
    {
     "data": {
      "text/plain": [
       "[1, 2, 3, 4]"
      ]
     },
     "execution_count": 44,
     "metadata": {},
     "output_type": "execute_result"
    }
   ],
   "source": [
    "mat2[0]"
   ]
  },
  {
   "cell_type": "code",
   "execution_count": 45,
   "id": "35e46d68-c72c-42ad-a226-b008e5e3bbb2",
   "metadata": {},
   "outputs": [
    {
     "data": {
      "text/plain": [
       "1"
      ]
     },
     "execution_count": 45,
     "metadata": {},
     "output_type": "execute_result"
    }
   ],
   "source": [
    "mat2[0][0]"
   ]
  },
  {
   "cell_type": "code",
   "execution_count": 46,
   "id": "ee45462d-fba9-428b-9c67-9ebf036e4e09",
   "metadata": {},
   "outputs": [
    {
     "data": {
      "text/plain": [
       "4"
      ]
     },
     "execution_count": 46,
     "metadata": {},
     "output_type": "execute_result"
    }
   ],
   "source": [
    "mat2[0][3]"
   ]
  },
  {
   "cell_type": "code",
   "execution_count": 47,
   "id": "88c28ba0-c9de-4f0b-a5fb-0ba20e790b30",
   "metadata": {},
   "outputs": [
    {
     "data": {
      "text/plain": [
       "[[9, 10, 11, 12]]"
      ]
     },
     "execution_count": 47,
     "metadata": {},
     "output_type": "execute_result"
    }
   ],
   "source": [
    "mat2[1:][1:3]"
   ]
  },
  {
   "cell_type": "markdown",
   "id": "b9dd3e8a-8480-4555-880e-4e3fe2f28120",
   "metadata": {},
   "source": [
    "##리스트 연산 (문자열 연산과 유사)"
   ]
  },
  {
   "cell_type": "code",
   "execution_count": 48,
   "id": "0153c6ab-fd2d-498e-adae-f080e6464bd7",
   "metadata": {},
   "outputs": [],
   "source": [
    "l1 = [1, 2, 3, 4]"
   ]
  },
  {
   "cell_type": "code",
   "execution_count": 49,
   "id": "11513500-1213-4cd4-889f-8a51c4b08fd3",
   "metadata": {},
   "outputs": [],
   "source": [
    "l2 = [5, 6, 7, 8]"
   ]
  },
  {
   "cell_type": "code",
   "execution_count": 50,
   "id": "959364df-dcf7-4252-89be-8b3fc9a00deb",
   "metadata": {},
   "outputs": [
    {
     "data": {
      "text/plain": [
       "[1, 2, 3, 4, 5, 6, 7, 8]"
      ]
     },
     "execution_count": 50,
     "metadata": {},
     "output_type": "execute_result"
    }
   ],
   "source": [
    "l1 + l2"
   ]
  },
  {
   "cell_type": "code",
   "execution_count": 51,
   "id": "c2b07062-4742-4611-990a-5b0f5bf2defe",
   "metadata": {},
   "outputs": [
    {
     "data": {
      "text/plain": [
       "[1, 2, 3, 4, 1, 2, 3, 4, 1, 2, 3, 4]"
      ]
     },
     "execution_count": 51,
     "metadata": {},
     "output_type": "execute_result"
    }
   ],
   "source": [
    "l1 * 3"
   ]
  },
  {
   "cell_type": "code",
   "execution_count": 52,
   "id": "ec3c8f95-87e7-42c5-89a5-0b647e4508d3",
   "metadata": {},
   "outputs": [],
   "source": [
    "l1[0] = 100"
   ]
  },
  {
   "cell_type": "code",
   "execution_count": 53,
   "id": "c100aa6d-8f3f-4146-bf8e-e970d29ffd42",
   "metadata": {},
   "outputs": [
    {
     "data": {
      "text/plain": [
       "[100, 2, 3, 4]"
      ]
     },
     "execution_count": 53,
     "metadata": {},
     "output_type": "execute_result"
    }
   ],
   "source": [
    "\n",
    "l1"
   ]
  },
  {
   "cell_type": "code",
   "execution_count": 54,
   "id": "f8c48701-d6b0-4895-801f-2a0a864610ff",
   "metadata": {},
   "outputs": [
    {
     "data": {
      "text/plain": [
       "[2, 3]"
      ]
     },
     "execution_count": 54,
     "metadata": {},
     "output_type": "execute_result"
    }
   ],
   "source": [
    "l1[1:3]"
   ]
  },
  {
   "cell_type": "code",
   "execution_count": 55,
   "id": "89b7f697-d24b-4db4-9641-c3e8bd676c27",
   "metadata": {},
   "outputs": [],
   "source": [
    "l1[1:3] = [101, 102]"
   ]
  },
  {
   "cell_type": "code",
   "execution_count": 56,
   "id": "3255a87d-3de0-43d5-ac4b-144b88910635",
   "metadata": {},
   "outputs": [
    {
     "data": {
      "text/plain": [
       "[100, 101, 102, 4]"
      ]
     },
     "execution_count": 56,
     "metadata": {},
     "output_type": "execute_result"
    }
   ],
   "source": [
    "l1"
   ]
  },
  {
   "cell_type": "code",
   "execution_count": 57,
   "id": "a4a29476-290c-4f36-8dfc-23971d78e03f",
   "metadata": {},
   "outputs": [],
   "source": [
    "l1[:3] = [41 , 42 , 43]"
   ]
  },
  {
   "cell_type": "code",
   "execution_count": 58,
   "id": "003e8757-cc8b-4ec3-b428-4e769444c726",
   "metadata": {},
   "outputs": [
    {
     "data": {
      "text/plain": [
       "[41, 42, 43, 4]"
      ]
     },
     "execution_count": 58,
     "metadata": {},
     "output_type": "execute_result"
    }
   ],
   "source": [
    "l1"
   ]
  },
  {
   "cell_type": "code",
   "execution_count": 59,
   "id": "4770c9af-d8b7-4915-a378-368c98eeeb4e",
   "metadata": {},
   "outputs": [],
   "source": [
    "del l1[-1]"
   ]
  },
  {
   "cell_type": "code",
   "execution_count": 62,
   "id": "04346d87-5e3d-4861-89f6-e6409adb35c9",
   "metadata": {},
   "outputs": [
    {
     "data": {
      "text/plain": [
       "[41, 42, 43]"
      ]
     },
     "execution_count": 62,
     "metadata": {},
     "output_type": "execute_result"
    }
   ],
   "source": [
    "l1"
   ]
  },
  {
   "cell_type": "markdown",
   "id": "11fdad33-e234-40b0-8e41-3b04aa4548ff",
   "metadata": {},
   "source": [
    "##리스트 관련 함수"
   ]
  },
  {
   "cell_type": "raw",
   "id": "24885554-55c2-493e-ae46-c9c6bc9da337",
   "metadata": {},
   "source": [
    "append"
   ]
  },
  {
   "cell_type": "code",
   "execution_count": 63,
   "id": "53e6aacb-eb30-4255-8d90-38c3585e5497",
   "metadata": {},
   "outputs": [],
   "source": [
    "l=[]"
   ]
  },
  {
   "cell_type": "code",
   "execution_count": 64,
   "id": "db0f53ce-5304-4a0a-aeb1-8cff1a1cce29",
   "metadata": {},
   "outputs": [],
   "source": [
    "l.append(1)"
   ]
  },
  {
   "cell_type": "code",
   "execution_count": 65,
   "id": "05990bce-406a-4c10-bc49-7f12c8a01d6b",
   "metadata": {},
   "outputs": [
    {
     "data": {
      "text/plain": [
       "[1]"
      ]
     },
     "execution_count": 65,
     "metadata": {},
     "output_type": "execute_result"
    }
   ],
   "source": [
    "l"
   ]
  },
  {
   "cell_type": "code",
   "execution_count": 66,
   "id": "7eda2bc5-b087-474d-b820-942257e43b09",
   "metadata": {},
   "outputs": [],
   "source": [
    "l.append(2)"
   ]
  },
  {
   "cell_type": "code",
   "execution_count": 67,
   "id": "b2813f4f-81f0-4642-abf9-9aacf1463808",
   "metadata": {},
   "outputs": [
    {
     "data": {
      "text/plain": [
       "[1, 2]"
      ]
     },
     "execution_count": 67,
     "metadata": {},
     "output_type": "execute_result"
    }
   ],
   "source": [
    "l"
   ]
  },
  {
   "cell_type": "raw",
   "id": "5516747d-f1e0-4ece-bd7d-e4e245350256",
   "metadata": {},
   "source": [
    "insert"
   ]
  },
  {
   "cell_type": "code",
   "execution_count": 68,
   "id": "cfc1d4cf-29da-4067-bdd3-06a04441272b",
   "metadata": {},
   "outputs": [],
   "source": [
    "l.insert(0,3)"
   ]
  },
  {
   "cell_type": "code",
   "execution_count": 69,
   "id": "1b66134e-8b70-4540-9de8-830b1ea493cf",
   "metadata": {},
   "outputs": [
    {
     "data": {
      "text/plain": [
       "[3, 1, 2]"
      ]
     },
     "execution_count": 69,
     "metadata": {},
     "output_type": "execute_result"
    }
   ],
   "source": [
    "l"
   ]
  },
  {
   "cell_type": "code",
   "execution_count": 70,
   "id": "fbcccdf2-0079-4ada-b130-39bbc57ba55b",
   "metadata": {},
   "outputs": [],
   "source": [
    "l.insert(3,5)"
   ]
  },
  {
   "cell_type": "code",
   "execution_count": 71,
   "id": "a64bba7a-21ae-4e1f-afee-4ade36b1d6f7",
   "metadata": {},
   "outputs": [
    {
     "data": {
      "text/plain": [
       "[3, 1, 2, 5]"
      ]
     },
     "execution_count": 71,
     "metadata": {},
     "output_type": "execute_result"
    }
   ],
   "source": [
    "l"
   ]
  },
  {
   "cell_type": "code",
   "execution_count": 82,
   "id": "ca1c986e-7f22-4429-8bb1-86a6a7b2e9b9",
   "metadata": {},
   "outputs": [],
   "source": [
    "l.insert(0,7)"
   ]
  },
  {
   "cell_type": "code",
   "execution_count": 83,
   "id": "2a52e4bf-7efa-4811-9dfa-cde44c667952",
   "metadata": {},
   "outputs": [
    {
     "data": {
      "text/plain": [
       "[7, 7, 7, 7, 7, 7, 3, 1, 2, 5]"
      ]
     },
     "execution_count": 83,
     "metadata": {},
     "output_type": "execute_result"
    }
   ],
   "source": [
    "l"
   ]
  },
  {
   "cell_type": "raw",
   "id": "a36a0998-068d-449e-8855-568bc0d99aef",
   "metadata": {},
   "source": [
    "remove"
   ]
  },
  {
   "cell_type": "code",
   "execution_count": 84,
   "id": "91784a4a-7b74-44f7-b60b-7603d3eaf8ef",
   "metadata": {},
   "outputs": [
    {
     "data": {
      "text/plain": [
       "[7, 7, 7, 7, 7, 7, 3, 1, 2, 5]"
      ]
     },
     "execution_count": 84,
     "metadata": {},
     "output_type": "execute_result"
    }
   ],
   "source": [
    "l"
   ]
  },
  {
   "cell_type": "code",
   "execution_count": 85,
   "id": "1ba09022-6ab9-45a4-a26f-a800425e5232",
   "metadata": {},
   "outputs": [],
   "source": [
    "l = [3 , 4, 1, 2]"
   ]
  },
  {
   "cell_type": "code",
   "execution_count": 86,
   "id": "6da91d6d-8200-4e44-b458-cc50a291c539",
   "metadata": {},
   "outputs": [],
   "source": [
    "l.remove(2)"
   ]
  },
  {
   "cell_type": "code",
   "execution_count": 87,
   "id": "88b9cbc8-deab-4856-a24c-bfc5a68bf7ad",
   "metadata": {},
   "outputs": [
    {
     "data": {
      "text/plain": [
       "[3, 4, 1]"
      ]
     },
     "execution_count": 87,
     "metadata": {},
     "output_type": "execute_result"
    }
   ],
   "source": [
    "l"
   ]
  },
  {
   "cell_type": "markdown",
   "id": "0d6b9d0d-0ec4-45a7-8afb-a3f377ac890b",
   "metadata": {},
   "source": [
    "sort"
   ]
  },
  {
   "cell_type": "code",
   "execution_count": 89,
   "id": "5e337b86-dde3-4370-b32e-15202240383c",
   "metadata": {},
   "outputs": [],
   "source": [
    "l.sort()"
   ]
  },
  {
   "cell_type": "code",
   "execution_count": 90,
   "id": "63c73747-7185-4be4-a878-354fb07a850f",
   "metadata": {},
   "outputs": [
    {
     "data": {
      "text/plain": [
       "[1, 3, 4]"
      ]
     },
     "execution_count": 90,
     "metadata": {},
     "output_type": "execute_result"
    }
   ],
   "source": [
    "l"
   ]
  },
  {
   "cell_type": "code",
   "execution_count": 92,
   "id": "386acef7-1edc-4170-9c69-a8664e62561d",
   "metadata": {},
   "outputs": [],
   "source": [
    "l = [1, 3, 4, '가']"
   ]
  },
  {
   "cell_type": "code",
   "execution_count": 93,
   "id": "c652d10a-6a6b-44d5-be36-8b9b97db328d",
   "metadata": {},
   "outputs": [
    {
     "ename": "TypeError",
     "evalue": "'<' not supported between instances of 'str' and 'int'",
     "output_type": "error",
     "traceback": [
      "\u001b[1;31m---------------------------------------------------------------------------\u001b[0m",
      "\u001b[1;31mTypeError\u001b[0m                                 Traceback (most recent call last)",
      "Input \u001b[1;32mIn [93]\u001b[0m, in \u001b[0;36m<cell line: 1>\u001b[1;34m()\u001b[0m\n\u001b[1;32m----> 1\u001b[0m \u001b[43ml\u001b[49m\u001b[38;5;241;43m.\u001b[39;49m\u001b[43msort\u001b[49m\u001b[43m(\u001b[49m\u001b[43m)\u001b[49m\n",
      "\u001b[1;31mTypeError\u001b[0m: '<' not supported between instances of 'str' and 'int'"
     ]
    }
   ],
   "source": [
    "l.sort()"
   ]
  },
  {
   "cell_type": "code",
   "execution_count": 94,
   "id": "040fe033-4772-4341-a253-5858100c9e72",
   "metadata": {},
   "outputs": [],
   "source": [
    "l.append('0')"
   ]
  },
  {
   "cell_type": "code",
   "execution_count": 95,
   "id": "dfb42c4a-ee0a-4918-ac15-8530116e1109",
   "metadata": {},
   "outputs": [
    {
     "data": {
      "text/plain": [
       "[1, 3, 4, '가', '0']"
      ]
     },
     "execution_count": 95,
     "metadata": {},
     "output_type": "execute_result"
    }
   ],
   "source": [
    "l"
   ]
  },
  {
   "cell_type": "code",
   "execution_count": 96,
   "id": "8730030e-4025-4dae-90a5-cacc58ff0561",
   "metadata": {},
   "outputs": [],
   "source": [
    "l.remove(3)"
   ]
  },
  {
   "cell_type": "code",
   "execution_count": 97,
   "id": "e1d96dd0-471a-41f3-b4a9-af7a1a60edd0",
   "metadata": {},
   "outputs": [
    {
     "data": {
      "text/plain": [
       "[1, 4, '가', '0']"
      ]
     },
     "execution_count": 97,
     "metadata": {},
     "output_type": "execute_result"
    }
   ],
   "source": [
    "l"
   ]
  },
  {
   "cell_type": "code",
   "execution_count": 98,
   "id": "1e55ba9a-0165-44c6-8eb3-6dcc4c8eab68",
   "metadata": {},
   "outputs": [],
   "source": [
    "l.remove('가')"
   ]
  },
  {
   "cell_type": "code",
   "execution_count": 99,
   "id": "8bb1c3e5-b764-44e9-b209-b52edfdf9d6c",
   "metadata": {},
   "outputs": [
    {
     "data": {
      "text/plain": [
       "[1, 4, '0']"
      ]
     },
     "execution_count": 99,
     "metadata": {},
     "output_type": "execute_result"
    }
   ],
   "source": [
    "l"
   ]
  },
  {
   "cell_type": "code",
   "execution_count": 100,
   "id": "81b9a932-1bd6-41e0-9e05-b10f0cf861f8",
   "metadata": {},
   "outputs": [
    {
     "ename": "TypeError",
     "evalue": "'<' not supported between instances of 'str' and 'int'",
     "output_type": "error",
     "traceback": [
      "\u001b[1;31m---------------------------------------------------------------------------\u001b[0m",
      "\u001b[1;31mTypeError\u001b[0m                                 Traceback (most recent call last)",
      "Input \u001b[1;32mIn [100]\u001b[0m, in \u001b[0;36m<cell line: 1>\u001b[1;34m()\u001b[0m\n\u001b[1;32m----> 1\u001b[0m \u001b[43ml\u001b[49m\u001b[38;5;241;43m.\u001b[39;49m\u001b[43msort\u001b[49m\u001b[43m(\u001b[49m\u001b[43m)\u001b[49m\n",
      "\u001b[1;31mTypeError\u001b[0m: '<' not supported between instances of 'str' and 'int'"
     ]
    }
   ],
   "source": [
    "l.sort()"
   ]
  },
  {
   "cell_type": "code",
   "execution_count": 101,
   "id": "d0ae7c7d-55b9-45d0-8c90-d08cdf3d3acd",
   "metadata": {},
   "outputs": [],
   "source": [
    "l.remove('0')"
   ]
  },
  {
   "cell_type": "code",
   "execution_count": 102,
   "id": "58293330-e93f-4663-8750-cafcf5e8d115",
   "metadata": {},
   "outputs": [
    {
     "data": {
      "text/plain": [
       "[1, 4]"
      ]
     },
     "execution_count": 102,
     "metadata": {},
     "output_type": "execute_result"
    }
   ],
   "source": [
    "l"
   ]
  },
  {
   "cell_type": "markdown",
   "id": "77e31801-0d1a-4c73-b966-cf3171057061",
   "metadata": {},
   "source": [
    "### index"
   ]
  },
  {
   "cell_type": "code",
   "execution_count": 103,
   "id": "c2a92d7d-ce22-422e-9ee7-ec48c70634a2",
   "metadata": {},
   "outputs": [],
   "source": [
    "l = [1, 2, 3, 4]"
   ]
  },
  {
   "cell_type": "code",
   "execution_count": 104,
   "id": "2331a6ab-5028-4160-af84-92fd4c66667f",
   "metadata": {},
   "outputs": [
    {
     "data": {
      "text/plain": [
       "3"
      ]
     },
     "execution_count": 104,
     "metadata": {},
     "output_type": "execute_result"
    }
   ],
   "source": [
    "l.index(4)"
   ]
  },
  {
   "cell_type": "code",
   "execution_count": 105,
   "id": "22098c51-7010-4076-8dd4-dd2a369930f7",
   "metadata": {},
   "outputs": [
    {
     "ename": "AttributeError",
     "evalue": "'list' object has no attribute 'find'",
     "output_type": "error",
     "traceback": [
      "\u001b[1;31m---------------------------------------------------------------------------\u001b[0m",
      "\u001b[1;31mAttributeError\u001b[0m                            Traceback (most recent call last)",
      "Input \u001b[1;32mIn [105]\u001b[0m, in \u001b[0;36m<cell line: 1>\u001b[1;34m()\u001b[0m\n\u001b[1;32m----> 1\u001b[0m \u001b[43ml\u001b[49m\u001b[38;5;241;43m.\u001b[39;49m\u001b[43mfind\u001b[49m(\u001b[38;5;241m4\u001b[39m)\n",
      "\u001b[1;31mAttributeError\u001b[0m: 'list' object has no attribute 'find'"
     ]
    }
   ],
   "source": [
    "l.find(4)"
   ]
  },
  {
   "cell_type": "markdown",
   "id": "694c225a-c2b8-46c3-8c72-7e0de24b77f2",
   "metadata": {},
   "source": [
    "### pop"
   ]
  },
  {
   "cell_type": "code",
   "execution_count": 106,
   "id": "1a7c6e3f-f3bd-4746-b733-1729ab0540d4",
   "metadata": {},
   "outputs": [
    {
     "data": {
      "text/plain": [
       "[1, 2, 3, 4]"
      ]
     },
     "execution_count": 106,
     "metadata": {},
     "output_type": "execute_result"
    }
   ],
   "source": [
    "l"
   ]
  },
  {
   "cell_type": "code",
   "execution_count": 107,
   "id": "af59f863-a6c3-4244-8b2c-f84eaf252880",
   "metadata": {},
   "outputs": [
    {
     "data": {
      "text/plain": [
       "4"
      ]
     },
     "execution_count": 107,
     "metadata": {},
     "output_type": "execute_result"
    }
   ],
   "source": [
    "l.pop()"
   ]
  },
  {
   "cell_type": "code",
   "execution_count": 108,
   "id": "a5e7f360-c2d8-4377-93c7-adeab05413f4",
   "metadata": {},
   "outputs": [
    {
     "data": {
      "text/plain": [
       "[1, 2, 3]"
      ]
     },
     "execution_count": 108,
     "metadata": {},
     "output_type": "execute_result"
    }
   ],
   "source": [
    "l"
   ]
  },
  {
   "cell_type": "code",
   "execution_count": 109,
   "id": "ea736e15-0caa-4dd6-8c9e-f406feeeb11f",
   "metadata": {},
   "outputs": [
    {
     "data": {
      "text/plain": [
       "3"
      ]
     },
     "execution_count": 109,
     "metadata": {},
     "output_type": "execute_result"
    }
   ],
   "source": [
    "l.pop()"
   ]
  },
  {
   "cell_type": "code",
   "execution_count": 110,
   "id": "5a782bba-d036-428f-8f54-0b1272fbda75",
   "metadata": {},
   "outputs": [
    {
     "data": {
      "text/plain": [
       "[1, 2]"
      ]
     },
     "execution_count": 110,
     "metadata": {},
     "output_type": "execute_result"
    }
   ],
   "source": [
    "l"
   ]
  },
  {
   "cell_type": "markdown",
   "id": "2b249972-c47b-4079-8db2-8863e328c2fb",
   "metadata": {},
   "source": [
    "## count"
   ]
  },
  {
   "cell_type": "code",
   "execution_count": 111,
   "id": "e7d822bb-d9e3-4868-9dd4-194b860ebff0",
   "metadata": {},
   "outputs": [],
   "source": [
    "l = [1, 1, 1, 2, 2, 3, 4, 5]"
   ]
  },
  {
   "cell_type": "code",
   "execution_count": 112,
   "id": "6f550b41-7532-4c96-a1ae-961ba7d559e4",
   "metadata": {},
   "outputs": [
    {
     "data": {
      "text/plain": [
       "3"
      ]
     },
     "execution_count": 112,
     "metadata": {},
     "output_type": "execute_result"
    }
   ],
   "source": [
    "l.count(1)"
   ]
  },
  {
   "cell_type": "code",
   "execution_count": 113,
   "id": "0f1f3eeb-2cd8-409a-990b-227665d38f3d",
   "metadata": {},
   "outputs": [
    {
     "data": {
      "text/plain": [
       "2"
      ]
     },
     "execution_count": 113,
     "metadata": {},
     "output_type": "execute_result"
    }
   ],
   "source": [
    "l.count(2)"
   ]
  },
  {
   "cell_type": "code",
   "execution_count": 114,
   "id": "cf03e308-42a6-4f46-8487-d6d3eae0bdb3",
   "metadata": {},
   "outputs": [
    {
     "data": {
      "text/plain": [
       "0"
      ]
     },
     "execution_count": 114,
     "metadata": {},
     "output_type": "execute_result"
    }
   ],
   "source": [
    "l.count(-1)"
   ]
  },
  {
   "cell_type": "code",
   "execution_count": 115,
   "id": "58b28cb7-b02d-43a5-8acd-719e3c6fb233",
   "metadata": {},
   "outputs": [
    {
     "data": {
      "text/plain": [
       "0"
      ]
     },
     "execution_count": 115,
     "metadata": {},
     "output_type": "execute_result"
    }
   ],
   "source": [
    "l.count(99)"
   ]
  },
  {
   "cell_type": "markdown",
   "id": "9ac50bf2-aaf5-4c9a-809b-86dd927f945b",
   "metadata": {},
   "source": [
    "#### quiz"
   ]
  },
  {
   "cell_type": "markdown",
   "id": "c12c2750-12e2-40c1-b0f3-fd4c9480e902",
   "metadata": {},
   "source": [
    "#### 1"
   ]
  },
  {
   "cell_type": "code",
   "execution_count": 116,
   "id": "9e93fc62-0afb-4c14-a4b0-b6dee5932aa8",
   "metadata": {},
   "outputs": [],
   "source": [
    "list1 = [13, 53, 24, 35, 38]"
   ]
  },
  {
   "cell_type": "code",
   "execution_count": 118,
   "id": "8e852e0c-f2d2-423a-aa47-24fa0721db5c",
   "metadata": {},
   "outputs": [],
   "source": [
    "list1.sort()"
   ]
  },
  {
   "cell_type": "code",
   "execution_count": 183,
   "id": "83de116b-5710-4075-b3e6-33c1b7a44c6e",
   "metadata": {},
   "outputs": [
    {
     "data": {
      "text/plain": [
       "[13, 24, 35, 38, 53]"
      ]
     },
     "execution_count": 183,
     "metadata": {},
     "output_type": "execute_result"
    }
   ],
   "source": [
    "list1"
   ]
  },
  {
   "cell_type": "markdown",
   "id": "3d01a68c-c9a6-48c7-8dce-95f99f5ab473",
   "metadata": {},
   "source": [
    "#### 2"
   ]
  },
  {
   "cell_type": "code",
   "execution_count": 120,
   "id": "817f97c3-f2d8-48f7-aa68-a54cd1aa8887",
   "metadata": {},
   "outputs": [],
   "source": [
    "list2 = [\"Hello\", \"My\", \"Friends\"]"
   ]
  },
  {
   "cell_type": "code",
   "execution_count": 186,
   "id": "73623a6e-4169-4a5e-b6dc-7f0e1c49ed12",
   "metadata": {},
   "outputs": [
    {
     "data": {
      "text/plain": [
       "'Hello My Friends'"
      ]
     },
     "execution_count": 186,
     "metadata": {},
     "output_type": "execute_result"
    }
   ],
   "source": [
    "\" \".join(list2)"
   ]
  },
  {
   "cell_type": "markdown",
   "id": "58c4e5a2-f00e-4eda-ad72-501495ac82ba",
   "metadata": {},
   "source": [
    "#### 3"
   ]
  },
  {
   "cell_type": "code",
   "execution_count": 126,
   "id": "559e8b1b-1ee1-412c-a4c0-bdd07ac9ea9c",
   "metadata": {},
   "outputs": [],
   "source": [
    "netflix_list = [\"DP\", \"오징어게임\", \"슬기로운 의사생활\"]"
   ]
  },
  {
   "cell_type": "markdown",
   "id": "c865f161-a4e0-48e4-92e3-820d6285a37f",
   "metadata": {},
   "source": [
    "#### 4"
   ]
  },
  {
   "cell_type": "code",
   "execution_count": 127,
   "id": "cce3eefc-c0b0-443d-aa26-fc9007072606",
   "metadata": {},
   "outputs": [],
   "source": [
    "netflix_list.insert(3, \"호텔 델루나\")"
   ]
  },
  {
   "cell_type": "code",
   "execution_count": 128,
   "id": "b5c693e0-44f8-4c4f-ae37-b4de101f5388",
   "metadata": {},
   "outputs": [
    {
     "data": {
      "text/plain": [
       "['DP', '오징어게임', '슬기로운 의사생활', '호텔 델루나']"
      ]
     },
     "execution_count": 128,
     "metadata": {},
     "output_type": "execute_result"
    }
   ],
   "source": [
    "netflix_list"
   ]
  },
  {
   "cell_type": "markdown",
   "id": "2d2a352b-fcdd-44f8-8b66-efcc5cb799f3",
   "metadata": {},
   "source": [
    "#### 5"
   ]
  },
  {
   "cell_type": "code",
   "execution_count": 129,
   "id": "68d41b09-9e03-41fe-abf7-b615db9e3561",
   "metadata": {},
   "outputs": [],
   "source": [
    "netflix_list.insert(0, \"갯마을 차차차\")"
   ]
  },
  {
   "cell_type": "code",
   "execution_count": 130,
   "id": "f3236eed-8f29-4a59-91ef-f45a493aa1d7",
   "metadata": {},
   "outputs": [
    {
     "data": {
      "text/plain": [
       "['갯마을 차차차', 'DP', '오징어게임', '슬기로운 의사생활', '호텔 델루나']"
      ]
     },
     "execution_count": 130,
     "metadata": {},
     "output_type": "execute_result"
    }
   ],
   "source": [
    "netflix_list"
   ]
  },
  {
   "cell_type": "markdown",
   "id": "1ea454d5-7158-4a4d-8a21-2ce89645c313",
   "metadata": {},
   "source": [
    "#### 6"
   ]
  },
  {
   "cell_type": "code",
   "execution_count": 134,
   "id": "4372bc07-f07d-42f9-9696-af8af4608cb8",
   "metadata": {},
   "outputs": [],
   "source": [
    "netflix_list.remove(\"DP\")"
   ]
  },
  {
   "cell_type": "code",
   "execution_count": 135,
   "id": "b33ac7a3-843f-4d90-8f1c-60ab229b0c64",
   "metadata": {},
   "outputs": [],
   "source": [
    "netflix_list.insert(1, \"검은태양\")"
   ]
  },
  {
   "cell_type": "code",
   "execution_count": 136,
   "id": "74640656-93df-4cb1-8a1f-1c91dfe0835a",
   "metadata": {},
   "outputs": [
    {
     "data": {
      "text/plain": [
       "['갯마을 차차차', '검은태양', '오징어게임', '슬기로운 의사생활', '호텔 델루나']"
      ]
     },
     "execution_count": 136,
     "metadata": {},
     "output_type": "execute_result"
    }
   ],
   "source": [
    "netflix_list"
   ]
  },
  {
   "cell_type": "markdown",
   "id": "32022a36-bcf1-467c-85ad-e2e39157e67a",
   "metadata": {},
   "source": [
    "#### 7"
   ]
  },
  {
   "cell_type": "code",
   "execution_count": 138,
   "id": "d9291719-6b67-4dca-ac4e-b5c7a3a21ddb",
   "metadata": {},
   "outputs": [],
   "source": [
    "list3 = [294, 185, 1384, 1282, 375, 283]"
   ]
  },
  {
   "cell_type": "code",
   "execution_count": 144,
   "id": "017f7341-13af-40c8-a314-914d3f14d0ce",
   "metadata": {},
   "outputs": [],
   "source": [
    "list3.sort()"
   ]
  },
  {
   "cell_type": "code",
   "execution_count": 145,
   "id": "0027f095-a2da-42ab-8ee9-d6eae5f446de",
   "metadata": {},
   "outputs": [
    {
     "data": {
      "text/plain": [
       "[185, 283, 294, 375, 1282, 1384]"
      ]
     },
     "execution_count": 145,
     "metadata": {},
     "output_type": "execute_result"
    }
   ],
   "source": [
    "list3"
   ]
  },
  {
   "cell_type": "code",
   "execution_count": 147,
   "id": "45c31e33-e340-46dd-a5e8-6ea1e3715f3a",
   "metadata": {},
   "outputs": [
    {
     "data": {
      "text/plain": [
       "185"
      ]
     },
     "execution_count": 147,
     "metadata": {},
     "output_type": "execute_result"
    }
   ],
   "source": [
    "list3[0]"
   ]
  },
  {
   "cell_type": "code",
   "execution_count": 148,
   "id": "2f2366d9-21ca-432d-8a76-9b14e040cbca",
   "metadata": {},
   "outputs": [
    {
     "data": {
      "text/plain": [
       "1384"
      ]
     },
     "execution_count": 148,
     "metadata": {},
     "output_type": "execute_result"
    }
   ],
   "source": [
    "list3[-1]"
   ]
  },
  {
   "cell_type": "code",
   "execution_count": 157,
   "id": "c6219379-a0d9-43a0-bae3-7c0d78a9a39b",
   "metadata": {},
   "outputs": [
    {
     "data": {
      "text/plain": [
       "3803"
      ]
     },
     "execution_count": 157,
     "metadata": {},
     "output_type": "execute_result"
    }
   ],
   "source": [
    "list3[0] + list3[1] + list3[2] + list3[3] + list3[4] + list3[5]"
   ]
  },
  {
   "cell_type": "code",
   "execution_count": 190,
   "id": "502436ca-91ca-4c31-83af-6299537e386d",
   "metadata": {},
   "outputs": [
    {
     "data": {
      "text/plain": [
       "3803"
      ]
     },
     "execution_count": 190,
     "metadata": {},
     "output_type": "execute_result"
    }
   ],
   "source": [
    "sum(list3)"
   ]
  },
  {
   "cell_type": "code",
   "execution_count": 158,
   "id": "d285536f-bb06-42b8-aa0f-b629e6665b76",
   "metadata": {},
   "outputs": [
    {
     "data": {
      "text/plain": [
       "185"
      ]
     },
     "execution_count": 158,
     "metadata": {},
     "output_type": "execute_result"
    }
   ],
   "source": [
    "min(list3)"
   ]
  },
  {
   "cell_type": "code",
   "execution_count": 159,
   "id": "1c50705e-f01e-43d2-af17-16d5314b5bf6",
   "metadata": {},
   "outputs": [
    {
     "data": {
      "text/plain": [
       "1384"
      ]
     },
     "execution_count": 159,
     "metadata": {},
     "output_type": "execute_result"
    }
   ],
   "source": [
    "max(list3)"
   ]
  },
  {
   "cell_type": "code",
   "execution_count": 192,
   "id": "4e0d0bae-e334-45e6-ad5e-49e155e1f0cf",
   "metadata": {},
   "outputs": [
    {
     "data": {
      "text/plain": [
       "6"
      ]
     },
     "execution_count": 192,
     "metadata": {},
     "output_type": "execute_result"
    }
   ],
   "source": [
    "len(list3)"
   ]
  },
  {
   "cell_type": "code",
   "execution_count": 193,
   "id": "cd91493a-aeac-4ca6-9ce3-4c477d361788",
   "metadata": {},
   "outputs": [
    {
     "data": {
      "text/plain": [
       "633.8333333333334"
      ]
     },
     "execution_count": 193,
     "metadata": {},
     "output_type": "execute_result"
    }
   ],
   "source": [
    "sum(list3)/len(list3)"
   ]
  },
  {
   "cell_type": "markdown",
   "id": "70a8eb62-51f4-48e1-baa6-169c7b5e9b9d",
   "metadata": {},
   "source": [
    "#### 8"
   ]
  },
  {
   "cell_type": "code",
   "execution_count": 178,
   "id": "016eb464-fa41-425f-8b02-3d4438c39784",
   "metadata": {},
   "outputs": [],
   "source": [
    "str1 = \"naver, sk, google, kakao\""
   ]
  },
  {
   "cell_type": "code",
   "execution_count": 179,
   "id": "911237a5-001f-4ffc-8780-526f7791e52a",
   "metadata": {},
   "outputs": [],
   "source": [
    "company_list = str1.split(',')"
   ]
  },
  {
   "cell_type": "code",
   "execution_count": 180,
   "id": "afee48fb-5043-40b3-b3f5-5b3cee344cf1",
   "metadata": {},
   "outputs": [
    {
     "data": {
      "text/plain": [
       "['naver', ' sk', ' google', ' kakao']"
      ]
     },
     "execution_count": 180,
     "metadata": {},
     "output_type": "execute_result"
    }
   ],
   "source": [
    "company_list"
   ]
  },
  {
   "cell_type": "code",
   "execution_count": 181,
   "id": "3f6f7f8b-c059-449a-8c69-166adc7674a4",
   "metadata": {},
   "outputs": [],
   "source": [
    "company_list.sort()"
   ]
  },
  {
   "cell_type": "code",
   "execution_count": 182,
   "id": "3bef0bce-02ee-4009-83fa-d2f0ec8453a3",
   "metadata": {},
   "outputs": [
    {
     "data": {
      "text/plain": [
       "[' google', ' kakao', ' sk', 'naver']"
      ]
     },
     "execution_count": 182,
     "metadata": {},
     "output_type": "execute_result"
    }
   ],
   "source": [
    "company_list"
   ]
  },
  {
   "cell_type": "markdown",
   "id": "a4fc494b-bad2-49d6-aeba-e9f60239d25e",
   "metadata": {},
   "source": [
    "### 튜플(tuple)"
   ]
  },
  {
   "cell_type": "code",
   "execution_count": 195,
   "id": "7aef89ae-a89c-4ad5-b8a9-5438494993cb",
   "metadata": {},
   "outputs": [],
   "source": [
    "t1 = tuple()"
   ]
  },
  {
   "cell_type": "code",
   "execution_count": 196,
   "id": "829e0d9c-2320-420d-ab64-7adcb13ae964",
   "metadata": {},
   "outputs": [
    {
     "data": {
      "text/plain": [
       "tuple"
      ]
     },
     "execution_count": 196,
     "metadata": {},
     "output_type": "execute_result"
    }
   ],
   "source": [
    "type(t1)"
   ]
  },
  {
   "cell_type": "code",
   "execution_count": 197,
   "id": "0991d5b4-f467-43da-9936-e6c5350b661f",
   "metadata": {},
   "outputs": [],
   "source": [
    "t2=()"
   ]
  },
  {
   "cell_type": "code",
   "execution_count": 198,
   "id": "daae76db-5c9c-48ce-815b-39a310d347dd",
   "metadata": {},
   "outputs": [
    {
     "data": {
      "text/plain": [
       "tuple"
      ]
     },
     "execution_count": 198,
     "metadata": {},
     "output_type": "execute_result"
    }
   ],
   "source": [
    "type(t2)"
   ]
  },
  {
   "cell_type": "code",
   "execution_count": 199,
   "id": "9a7efd31-0bfd-4cf2-8842-84d949d81391",
   "metadata": {},
   "outputs": [],
   "source": [
    "tuple1 =(1, 2, 3, 4, 5)"
   ]
  },
  {
   "cell_type": "code",
   "execution_count": 200,
   "id": "ca3dc9d3-4bc8-42bf-b22d-a7cd431bbebd",
   "metadata": {},
   "outputs": [
    {
     "ename": "AttributeError",
     "evalue": "'tuple' object has no attribute 'remove'",
     "output_type": "error",
     "traceback": [
      "\u001b[1;31m---------------------------------------------------------------------------\u001b[0m",
      "\u001b[1;31mAttributeError\u001b[0m                            Traceback (most recent call last)",
      "Input \u001b[1;32mIn [200]\u001b[0m, in \u001b[0;36m<cell line: 1>\u001b[1;34m()\u001b[0m\n\u001b[1;32m----> 1\u001b[0m \u001b[43mtuple1\u001b[49m\u001b[38;5;241;43m.\u001b[39;49m\u001b[43mremove\u001b[49m(\u001b[38;5;241m1\u001b[39m)\n",
      "\u001b[1;31mAttributeError\u001b[0m: 'tuple' object has no attribute 'remove'"
     ]
    }
   ],
   "source": [
    "tuple1.remove(1)"
   ]
  },
  {
   "cell_type": "code",
   "execution_count": 201,
   "id": "ed6ff182-5ab5-4f70-93e7-b8247ece5f14",
   "metadata": {},
   "outputs": [
    {
     "data": {
      "text/plain": [
       "1"
      ]
     },
     "execution_count": 201,
     "metadata": {},
     "output_type": "execute_result"
    }
   ],
   "source": [
    "tuple1[0]"
   ]
  },
  {
   "cell_type": "code",
   "execution_count": 202,
   "id": "491090bf-f79e-4b30-9e55-6bb44c31f682",
   "metadata": {},
   "outputs": [
    {
     "ename": "TypeError",
     "evalue": "'tuple' object does not support item assignment",
     "output_type": "error",
     "traceback": [
      "\u001b[1;31m---------------------------------------------------------------------------\u001b[0m",
      "\u001b[1;31mTypeError\u001b[0m                                 Traceback (most recent call last)",
      "Input \u001b[1;32mIn [202]\u001b[0m, in \u001b[0;36m<cell line: 1>\u001b[1;34m()\u001b[0m\n\u001b[1;32m----> 1\u001b[0m tuple1[\u001b[38;5;241m0\u001b[39m] \u001b[38;5;241m=\u001b[39m \u001b[38;5;241m100\u001b[39m\n",
      "\u001b[1;31mTypeError\u001b[0m: 'tuple' object does not support item assignment"
     ]
    }
   ],
   "source": [
    "tuple1[0] = 100"
   ]
  },
  {
   "cell_type": "markdown",
   "id": "dba1f099-038e-4137-8bc8-d952aedfd75c",
   "metadata": {},
   "source": [
    "### 딕셔너리(dict)"
   ]
  },
  {
   "cell_type": "code",
   "execution_count": 204,
   "id": "c9ad4f6e-9e0c-43a4-a3bd-26a58931fdea",
   "metadata": {},
   "outputs": [],
   "source": [
    "dict1 = dict()"
   ]
  },
  {
   "cell_type": "code",
   "execution_count": 205,
   "id": "6a16d8e2-aece-4d78-b707-f1593bcb7e21",
   "metadata": {},
   "outputs": [
    {
     "data": {
      "text/plain": [
       "dict"
      ]
     },
     "execution_count": 205,
     "metadata": {},
     "output_type": "execute_result"
    }
   ],
   "source": [
    "type(dict1)"
   ]
  },
  {
   "cell_type": "code",
   "execution_count": 206,
   "id": "22ec79ac-13c7-4deb-9974-6aa444742410",
   "metadata": {},
   "outputs": [],
   "source": [
    "dict2 = {}"
   ]
  },
  {
   "cell_type": "code",
   "execution_count": 207,
   "id": "c5e97cf9-3371-416e-a873-1bdd78c5db71",
   "metadata": {},
   "outputs": [
    {
     "data": {
      "text/plain": [
       "{}"
      ]
     },
     "execution_count": 207,
     "metadata": {},
     "output_type": "execute_result"
    }
   ],
   "source": [
    "dict2"
   ]
  },
  {
   "cell_type": "code",
   "execution_count": 208,
   "id": "f5d75393-02b0-4ad2-abba-b384088a2c2b",
   "metadata": {},
   "outputs": [
    {
     "data": {
      "text/plain": [
       "dict"
      ]
     },
     "execution_count": 208,
     "metadata": {},
     "output_type": "execute_result"
    }
   ],
   "source": [
    "type(dict2)"
   ]
  },
  {
   "cell_type": "code",
   "execution_count": 214,
   "id": "c88e941e-5681-422a-b4d2-53226dffd368",
   "metadata": {},
   "outputs": [],
   "source": [
    "people = {'name':'chanwoong',\n",
    "          'age':20,\n",
    "          'weight':'30kg'}"
   ]
  },
  {
   "cell_type": "code",
   "execution_count": 217,
   "id": "c3327426-019d-4d00-9c12-672d1bdae195",
   "metadata": {},
   "outputs": [
    {
     "data": {
      "text/plain": [
       "'chanwoong'"
      ]
     },
     "execution_count": 217,
     "metadata": {},
     "output_type": "execute_result"
    }
   ],
   "source": [
    "people ['name']"
   ]
  },
  {
   "cell_type": "code",
   "execution_count": 218,
   "id": "f4f5cf55-8250-4155-b0b5-67b012f7c2e0",
   "metadata": {},
   "outputs": [
    {
     "data": {
      "text/plain": [
       "20"
      ]
     },
     "execution_count": 218,
     "metadata": {},
     "output_type": "execute_result"
    }
   ],
   "source": [
    "people ['age']"
   ]
  },
  {
   "cell_type": "code",
   "execution_count": 219,
   "id": "def21b33-e1cd-40ca-9dd5-fbe7626d6d04",
   "metadata": {},
   "outputs": [
    {
     "data": {
      "text/plain": [
       "'30kg'"
      ]
     },
     "execution_count": 219,
     "metadata": {},
     "output_type": "execute_result"
    }
   ],
   "source": [
    "people ['weight']"
   ]
  },
  {
   "cell_type": "code",
   "execution_count": 220,
   "id": "e7af2589-0912-493c-9a0a-714adfd761d9",
   "metadata": {},
   "outputs": [],
   "source": [
    "people['height'] = '2M'"
   ]
  },
  {
   "cell_type": "code",
   "execution_count": 221,
   "id": "37e6a31d-c89b-4781-bd38-578cef806e7d",
   "metadata": {},
   "outputs": [
    {
     "data": {
      "text/plain": [
       "{'name': 'chanwoong', 'age': 20, 'weight': '30kg', 'height': '2M'}"
      ]
     },
     "execution_count": 221,
     "metadata": {},
     "output_type": "execute_result"
    }
   ],
   "source": [
    "people"
   ]
  },
  {
   "cell_type": "code",
   "execution_count": 222,
   "id": "572359fa-d5dc-4593-a699-a7c120beb65d",
   "metadata": {},
   "outputs": [],
   "source": [
    "people['score'] = ['A', 'A+', 'S']"
   ]
  },
  {
   "cell_type": "code",
   "execution_count": 223,
   "id": "e2e7e792-5d9b-4afb-8658-b22a06c54918",
   "metadata": {},
   "outputs": [
    {
     "data": {
      "text/plain": [
       "{'name': 'chanwoong',\n",
       " 'age': 20,\n",
       " 'weight': '30kg',\n",
       " 'height': '2M',\n",
       " 'score': ['A', 'A+', 'S']}"
      ]
     },
     "execution_count": 223,
     "metadata": {},
     "output_type": "execute_result"
    }
   ],
   "source": [
    "people"
   ]
  },
  {
   "cell_type": "code",
   "execution_count": 224,
   "id": "87177b0c-9f7e-4331-a616-87082fe73e57",
   "metadata": {},
   "outputs": [],
   "source": [
    "del people['weight']"
   ]
  },
  {
   "cell_type": "code",
   "execution_count": 225,
   "id": "c9676b42-8d0a-4485-90e0-28d2cc0b2d73",
   "metadata": {},
   "outputs": [
    {
     "data": {
      "text/plain": [
       "{'name': 'chanwoong', 'age': 20, 'height': '2M', 'score': ['A', 'A+', 'S']}"
      ]
     },
     "execution_count": 225,
     "metadata": {},
     "output_type": "execute_result"
    }
   ],
   "source": [
    "people"
   ]
  },
  {
   "cell_type": "code",
   "execution_count": 230,
   "id": "c613affb-25b0-4182-a37f-6bd17d8ea773",
   "metadata": {},
   "outputs": [
    {
     "data": {
      "text/plain": [
       "['A', 'A+', 'S']"
      ]
     },
     "execution_count": 230,
     "metadata": {},
     "output_type": "execute_result"
    }
   ],
   "source": [
    "people['score']"
   ]
  },
  {
   "cell_type": "code",
   "execution_count": 231,
   "id": "4745f3f1-00d7-4490-8532-b0968cf22b59",
   "metadata": {},
   "outputs": [],
   "source": [
    "people['score'].append('B')"
   ]
  },
  {
   "cell_type": "code",
   "execution_count": 232,
   "id": "6780c4bb-60c4-4c32-b14c-105709879574",
   "metadata": {},
   "outputs": [
    {
     "data": {
      "text/plain": [
       "{'name': 'chanwoong',\n",
       " 'age': 20,\n",
       " 'height': '2M',\n",
       " 'score': ['A', 'A+', 'S', 'B']}"
      ]
     },
     "execution_count": 232,
     "metadata": {},
     "output_type": "execute_result"
    }
   ],
   "source": [
    "people"
   ]
  },
  {
   "cell_type": "code",
   "execution_count": 234,
   "id": "ec621ec7-04b5-460c-959a-d27a567f2d52",
   "metadata": {},
   "outputs": [],
   "source": [
    "people['score'].insert(4, 'C')"
   ]
  },
  {
   "cell_type": "code",
   "execution_count": 235,
   "id": "9ec01deb-5fa3-4d52-8756-727618274eb7",
   "metadata": {},
   "outputs": [
    {
     "data": {
      "text/plain": [
       "{'name': 'chanwoong',\n",
       " 'age': 20,\n",
       " 'height': '2M',\n",
       " 'score': ['A', 'A+', 'S', 'B', 'C']}"
      ]
     },
     "execution_count": 235,
     "metadata": {},
     "output_type": "execute_result"
    }
   ],
   "source": [
    "people"
   ]
  },
  {
   "cell_type": "code",
   "execution_count": 236,
   "id": "3006d1de-8678-40ce-ad42-f43d908684ce",
   "metadata": {},
   "outputs": [],
   "source": [
    "people['score'].insert(-1,'D')"
   ]
  },
  {
   "cell_type": "code",
   "execution_count": 237,
   "id": "2d9c9332-c392-40e2-911f-14a7993c2547",
   "metadata": {},
   "outputs": [
    {
     "data": {
      "text/plain": [
       "{'name': 'chanwoong',\n",
       " 'age': 20,\n",
       " 'height': '2M',\n",
       " 'score': ['A', 'A+', 'S', 'B', 'D', 'C']}"
      ]
     },
     "execution_count": 237,
     "metadata": {},
     "output_type": "execute_result"
    }
   ],
   "source": [
    "people"
   ]
  },
  {
   "cell_type": "markdown",
   "id": "e67b9cd8-a2b9-48b8-92a9-88a0460856c8",
   "metadata": {},
   "source": [
    "### dict 관련 함수"
   ]
  },
  {
   "cell_type": "code",
   "execution_count": 5,
   "id": "994710aa-5689-4e07-97a5-5f53d301b80d",
   "metadata": {},
   "outputs": [],
   "source": [
    "people = {'name' : 'test',\n",
    "          'age' : 20,\n",
    "          'score' : ['A', 'B', 'C'],\n",
    "          'height' : '180cm'}"
   ]
  },
  {
   "cell_type": "code",
   "execution_count": 6,
   "id": "4c15cf2f-927c-4402-be19-1feddc2bb8ca",
   "metadata": {},
   "outputs": [
    {
     "data": {
      "text/plain": [
       "{'name': 'test', 'age': 20, 'score': ['A', 'B', 'C'], 'height': '180cm'}"
      ]
     },
     "execution_count": 6,
     "metadata": {},
     "output_type": "execute_result"
    }
   ],
   "source": [
    "people"
   ]
  },
  {
   "cell_type": "code",
   "execution_count": 7,
   "id": "7d1547c0-f458-43ad-93a6-c86aa472f415",
   "metadata": {},
   "outputs": [
    {
     "data": {
      "text/plain": [
       "dict_keys(['name', 'age', 'score', 'height'])"
      ]
     },
     "execution_count": 7,
     "metadata": {},
     "output_type": "execute_result"
    }
   ],
   "source": [
    "people.keys()"
   ]
  },
  {
   "cell_type": "code",
   "execution_count": 8,
   "id": "2b8d1c09-9c38-46ac-b618-4a22093d2748",
   "metadata": {},
   "outputs": [
    {
     "ename": "TypeError",
     "evalue": "'dict_keys' object is not subscriptable",
     "output_type": "error",
     "traceback": [
      "\u001b[1;31m---------------------------------------------------------------------------\u001b[0m",
      "\u001b[1;31mTypeError\u001b[0m                                 Traceback (most recent call last)",
      "Input \u001b[1;32mIn [8]\u001b[0m, in \u001b[0;36m<cell line: 1>\u001b[1;34m()\u001b[0m\n\u001b[1;32m----> 1\u001b[0m \u001b[43mpeople\u001b[49m\u001b[38;5;241;43m.\u001b[39;49m\u001b[43mkeys\u001b[49m\u001b[43m(\u001b[49m\u001b[43m)\u001b[49m\u001b[43m[\u001b[49m\u001b[38;5;241;43m0\u001b[39;49m\u001b[43m]\u001b[49m\n",
      "\u001b[1;31mTypeError\u001b[0m: 'dict_keys' object is not subscriptable"
     ]
    }
   ],
   "source": [
    "people.keys()[0]"
   ]
  },
  {
   "cell_type": "code",
   "execution_count": 9,
   "id": "4d957f7a-ae8a-44ed-be45-bdc4d17b09a5",
   "metadata": {},
   "outputs": [
    {
     "data": {
      "text/plain": [
       "dict"
      ]
     },
     "execution_count": 9,
     "metadata": {},
     "output_type": "execute_result"
    }
   ],
   "source": [
    "type(people)"
   ]
  },
  {
   "cell_type": "raw",
   "id": "f507b00c-9fee-455a-8f39-b790648eff6c",
   "metadata": {},
   "source": [
    "###key를 리스트화"
   ]
  },
  {
   "cell_type": "code",
   "execution_count": 10,
   "id": "7e9301b3-4ede-40b7-ad08-5a18df079fff",
   "metadata": {},
   "outputs": [
    {
     "data": {
      "text/plain": [
       "'name'"
      ]
     },
     "execution_count": 10,
     "metadata": {},
     "output_type": "execute_result"
    }
   ],
   "source": [
    "list(people.keys())[0]"
   ]
  },
  {
   "cell_type": "code",
   "execution_count": 11,
   "id": "8c8b8f90-3467-40bf-8602-4b158418f577",
   "metadata": {},
   "outputs": [
    {
     "data": {
      "text/plain": [
       "dict_values(['test', 20, ['A', 'B', 'C'], '180cm'])"
      ]
     },
     "execution_count": 11,
     "metadata": {},
     "output_type": "execute_result"
    }
   ],
   "source": [
    "people.values()"
   ]
  },
  {
   "cell_type": "code",
   "execution_count": 12,
   "id": "e3a91c56-ead5-48f5-80c6-11d8c71230e2",
   "metadata": {},
   "outputs": [
    {
     "data": {
      "text/plain": [
       "['test', 20, ['A', 'B', 'C'], '180cm']"
      ]
     },
     "execution_count": 12,
     "metadata": {},
     "output_type": "execute_result"
    }
   ],
   "source": [
    "list(people.values())"
   ]
  },
  {
   "cell_type": "code",
   "execution_count": 13,
   "id": "1bf8fd30-23d5-427f-9646-1f2d620c1523",
   "metadata": {},
   "outputs": [
    {
     "data": {
      "text/plain": [
       "dict_items([('name', 'test'), ('age', 20), ('score', ['A', 'B', 'C']), ('height', '180cm')])"
      ]
     },
     "execution_count": 13,
     "metadata": {},
     "output_type": "execute_result"
    }
   ],
   "source": [
    "people.items()"
   ]
  },
  {
   "cell_type": "code",
   "execution_count": 14,
   "id": "a37effa7-78e1-4cc0-abb5-a71e31010289",
   "metadata": {},
   "outputs": [
    {
     "data": {
      "text/plain": [
       "'test'"
      ]
     },
     "execution_count": 14,
     "metadata": {},
     "output_type": "execute_result"
    }
   ],
   "source": [
    "people['name']"
   ]
  },
  {
   "cell_type": "code",
   "execution_count": 15,
   "id": "62cae07b-db6e-4729-8532-074b061402ad",
   "metadata": {},
   "outputs": [
    {
     "data": {
      "text/plain": [
       "'test'"
      ]
     },
     "execution_count": 15,
     "metadata": {},
     "output_type": "execute_result"
    }
   ],
   "source": [
    "people.get('name')"
   ]
  },
  {
   "cell_type": "code",
   "execution_count": null,
   "id": "35f88fb1-8db9-4822-b197-3c166396f95f",
   "metadata": {},
   "outputs": [
    {
     "data": {
      "text/plain": [
       "True"
      ]
     },
     "execution_count": 16,
     "metadata": {},
     "output_type": "execute_result"
    }
   ],
   "source": [
    "'name' in people"
   ]
  },
  {
   "cell_type": "raw",
   "id": "18ac95b4-f33c-4453-8cb7-dd4f08e3fe11",
   "metadata": {},
   "source": [
    "### name이라는 key가 people에 있는가?"
   ]
  },
  {
   "cell_type": "code",
   "execution_count": 18,
   "id": "3580b95e-4b4f-4ade-90b5-afaff7d284f8",
   "metadata": {},
   "outputs": [
    {
     "data": {
      "text/plain": [
       "False"
      ]
     },
     "execution_count": 18,
     "metadata": {},
     "output_type": "execute_result"
    }
   ],
   "source": [
    "'test' in people"
   ]
  },
  {
   "cell_type": "raw",
   "id": "7603636a-85aa-4263-bfdc-cdf698864291",
   "metadata": {},
   "source": [
    "### test라는 key가 people에 있는가?"
   ]
  },
  {
   "cell_type": "markdown",
   "id": "605e3bab-0436-4fc6-9d34-462059744333",
   "metadata": {},
   "source": [
    "#### Quiz"
   ]
  },
  {
   "cell_type": "raw",
   "id": "bcaab861-69be-427a-b2db-d6915940f4df",
   "metadata": {},
   "source": [
    "1. 자신의 이름, 나이, 성별이 포함된 my_dict를 생성해보세요.\n",
    "2. my_dict에 사는 곳을 추가해보세요.\n",
    "3. my_dict의 키를 리스트로 출력해보세요."
   ]
  },
  {
   "cell_type": "code",
   "execution_count": 23,
   "id": "033fb479-b607-4513-9072-200247e87fd8",
   "metadata": {},
   "outputs": [],
   "source": [
    "my_dict = {'name' : 'Chanwoong',\n",
    "           'age' : 20,\n",
    "           'sex' : 'Man'}"
   ]
  },
  {
   "cell_type": "code",
   "execution_count": 26,
   "id": "25f054e6-8bb0-4862-883f-0fd1607cc787",
   "metadata": {},
   "outputs": [
    {
     "data": {
      "text/plain": [
       "{'name': 'Chanwoong', 'age': 20, 'sex': 'Man'}"
      ]
     },
     "execution_count": 26,
     "metadata": {},
     "output_type": "execute_result"
    }
   ],
   "source": [
    "my_dict"
   ]
  },
  {
   "cell_type": "code",
   "execution_count": 34,
   "id": "feaeb7f9-26a6-41f9-9713-6dc270f4233f",
   "metadata": {},
   "outputs": [],
   "source": [
    "my_dict['address'] = 'KwangMyung'"
   ]
  },
  {
   "cell_type": "code",
   "execution_count": 35,
   "id": "cd56daa4-75a9-4ab9-84d9-37107eed4314",
   "metadata": {},
   "outputs": [
    {
     "data": {
      "text/plain": [
       "{'name': 'Chanwoong', 'age': 20, 'sex': 'Man', 'address': 'KwangMyung'}"
      ]
     },
     "execution_count": 35,
     "metadata": {},
     "output_type": "execute_result"
    }
   ],
   "source": [
    "my_dict"
   ]
  },
  {
   "cell_type": "code",
   "execution_count": 37,
   "id": "cd154596-31a9-4549-a41e-6979cb3f2e98",
   "metadata": {},
   "outputs": [
    {
     "data": {
      "text/plain": [
       "['name', 'age', 'sex', 'address']"
      ]
     },
     "execution_count": 37,
     "metadata": {},
     "output_type": "execute_result"
    }
   ],
   "source": [
    "list(my_dict)"
   ]
  },
  {
   "cell_type": "code",
   "execution_count": 41,
   "id": "12aea53a-0bc9-4f6b-b4c0-cd1137bfa173",
   "metadata": {},
   "outputs": [
    {
     "data": {
      "text/plain": [
       "['name', 'age', 'sex', 'address']"
      ]
     },
     "execution_count": 41,
     "metadata": {},
     "output_type": "execute_result"
    }
   ],
   "source": [
    "list(my_dict.keys())"
   ]
  },
  {
   "cell_type": "code",
   "execution_count": 44,
   "id": "93933853-7bdf-4008-ab3f-06dcecdc769c",
   "metadata": {},
   "outputs": [
    {
     "data": {
      "text/plain": [
       "['Chanwoong', 20, 'Man', 'KwangMyung']"
      ]
     },
     "execution_count": 44,
     "metadata": {},
     "output_type": "execute_result"
    }
   ],
   "source": [
    "list(my_dict.values())"
   ]
  },
  {
   "cell_type": "code",
   "execution_count": 46,
   "id": "f2a0c9bb-57fb-471f-864e-fb444890eb0e",
   "metadata": {},
   "outputs": [
    {
     "data": {
      "text/plain": [
       "dict_values"
      ]
     },
     "execution_count": 46,
     "metadata": {},
     "output_type": "execute_result"
    }
   ],
   "source": [
    "type(my_dict.values())"
   ]
  },
  {
   "cell_type": "markdown",
   "id": "fc1bba79-bda6-4583-b8c9-76a9e0bdca95",
   "metadata": {},
   "source": [
    "### Set"
   ]
  },
  {
   "cell_type": "code",
   "execution_count": 47,
   "id": "89b40e0b-c760-4fa5-a017-a22809e6b01b",
   "metadata": {},
   "outputs": [],
   "source": [
    "s1 = set([1, 2, 3])"
   ]
  },
  {
   "cell_type": "code",
   "execution_count": 48,
   "id": "ee4016e1-23a0-4a68-a7a8-0369a91ce9f4",
   "metadata": {},
   "outputs": [
    {
     "data": {
      "text/plain": [
       "set"
      ]
     },
     "execution_count": 48,
     "metadata": {},
     "output_type": "execute_result"
    }
   ],
   "source": [
    "type(s1)"
   ]
  },
  {
   "cell_type": "code",
   "execution_count": 49,
   "id": "65e6f9d3-6345-432c-ad9f-e4d8204a252f",
   "metadata": {},
   "outputs": [],
   "source": [
    "s1 = set([5, 4, 1, 2, 3, 1, 2, 3])"
   ]
  },
  {
   "cell_type": "code",
   "execution_count": 50,
   "id": "2ddba818-ba45-494b-b06d-b3f27bff4ff2",
   "metadata": {},
   "outputs": [
    {
     "data": {
      "text/plain": [
       "{1, 2, 3, 4, 5}"
      ]
     },
     "execution_count": 50,
     "metadata": {},
     "output_type": "execute_result"
    }
   ],
   "source": [
    "s1"
   ]
  },
  {
   "cell_type": "code",
   "execution_count": 51,
   "id": "1ca79d28-57ec-48a4-8c43-7e6d6a3477e5",
   "metadata": {},
   "outputs": [
    {
     "data": {
      "text/plain": [
       "['E', 'D', 'A', 'C', 'B']"
      ]
     },
     "execution_count": 51,
     "metadata": {},
     "output_type": "execute_result"
    }
   ],
   "source": [
    "list(set('AABBCCDDEE'))"
   ]
  },
  {
   "cell_type": "raw",
   "id": "4bf9006a-1a07-48fb-a364-681794965d1a",
   "metadata": {},
   "source": [
    "중복 값 제거 하기 위해 리스트를 셋을로 바꾼후 다시 리스트화!!"
   ]
  },
  {
   "cell_type": "code",
   "execution_count": 54,
   "id": "30fa696a-083c-4c83-8acd-48370d2af0c2",
   "metadata": {},
   "outputs": [],
   "source": [
    "s2 = set([1, 2, 3])\n",
    "s3 = set([3, 4, 5])"
   ]
  },
  {
   "cell_type": "code",
   "execution_count": 56,
   "id": "3e5faaca-689e-4709-ae3c-e1671fc9ea2b",
   "metadata": {},
   "outputs": [
    {
     "data": {
      "text/plain": [
       "{3}"
      ]
     },
     "execution_count": 56,
     "metadata": {},
     "output_type": "execute_result"
    }
   ],
   "source": [
    "s2 & s3"
   ]
  },
  {
   "cell_type": "code",
   "execution_count": 57,
   "id": "1dca106a-e006-4a4a-97c2-39884efa9936",
   "metadata": {},
   "outputs": [
    {
     "data": {
      "text/plain": [
       "{3}"
      ]
     },
     "execution_count": 57,
     "metadata": {},
     "output_type": "execute_result"
    }
   ],
   "source": [
    "s2.intersection(s3)"
   ]
  },
  {
   "cell_type": "code",
   "execution_count": 59,
   "id": "9da18575-0fdc-47f5-a978-24a5923c06aa",
   "metadata": {},
   "outputs": [
    {
     "data": {
      "text/plain": [
       "{1, 2, 3, 4, 5}"
      ]
     },
     "execution_count": 59,
     "metadata": {},
     "output_type": "execute_result"
    }
   ],
   "source": [
    "s2 | s3"
   ]
  },
  {
   "cell_type": "code",
   "execution_count": 60,
   "id": "c1430b5d-bb4a-4e2f-8562-0828decb9b2d",
   "metadata": {},
   "outputs": [
    {
     "data": {
      "text/plain": [
       "{1, 2, 3, 4, 5}"
      ]
     },
     "execution_count": 60,
     "metadata": {},
     "output_type": "execute_result"
    }
   ],
   "source": [
    "s2.union(s3)"
   ]
  },
  {
   "cell_type": "code",
   "execution_count": 61,
   "id": "0c31aebf-7539-4d9a-8660-c81d31d27356",
   "metadata": {},
   "outputs": [
    {
     "data": {
      "text/plain": [
       "{1, 2}"
      ]
     },
     "execution_count": 61,
     "metadata": {},
     "output_type": "execute_result"
    }
   ],
   "source": [
    "s2 - s3"
   ]
  },
  {
   "cell_type": "code",
   "execution_count": 62,
   "id": "d9896da8-b8eb-43ca-9cce-3b16c47c0f27",
   "metadata": {},
   "outputs": [
    {
     "data": {
      "text/plain": [
       "{1, 2}"
      ]
     },
     "execution_count": 62,
     "metadata": {},
     "output_type": "execute_result"
    }
   ],
   "source": [
    "s2.difference(s3)"
   ]
  },
  {
   "cell_type": "code",
   "execution_count": 63,
   "id": "d9739424-e637-4e51-ba38-b54cf3a1b152",
   "metadata": {},
   "outputs": [
    {
     "data": {
      "text/plain": [
       "{4, 5}"
      ]
     },
     "execution_count": 63,
     "metadata": {},
     "output_type": "execute_result"
    }
   ],
   "source": [
    "s3 - s2"
   ]
  },
  {
   "cell_type": "code",
   "execution_count": 64,
   "id": "173e0b41-7373-46ce-ad89-b49c94efc769",
   "metadata": {},
   "outputs": [
    {
     "data": {
      "text/plain": [
       "{4, 5}"
      ]
     },
     "execution_count": 64,
     "metadata": {},
     "output_type": "execute_result"
    }
   ],
   "source": [
    "s3.difference(s2)"
   ]
  },
  {
   "cell_type": "code",
   "execution_count": 65,
   "id": "77f56bcc-4e50-48c1-8afc-e844349dd90c",
   "metadata": {},
   "outputs": [],
   "source": [
    "s2.add(10)"
   ]
  },
  {
   "cell_type": "code",
   "execution_count": 66,
   "id": "0dd62d31-b70e-4a64-8d6f-f69b4d9f3d42",
   "metadata": {},
   "outputs": [
    {
     "data": {
      "text/plain": [
       "{1, 2, 3, 10}"
      ]
     },
     "execution_count": 66,
     "metadata": {},
     "output_type": "execute_result"
    }
   ],
   "source": [
    "s2"
   ]
  },
  {
   "cell_type": "code",
   "execution_count": 67,
   "id": "8b2daf62-e3a8-4de9-89cc-8ba204958457",
   "metadata": {},
   "outputs": [],
   "source": [
    "s2.add(1)"
   ]
  },
  {
   "cell_type": "code",
   "execution_count": 68,
   "id": "51c8a89c-8ccb-4771-a4bd-3d10a7d2229a",
   "metadata": {},
   "outputs": [
    {
     "data": {
      "text/plain": [
       "{1, 2, 3, 10}"
      ]
     },
     "execution_count": 68,
     "metadata": {},
     "output_type": "execute_result"
    }
   ],
   "source": [
    "s2"
   ]
  },
  {
   "cell_type": "code",
   "execution_count": 69,
   "id": "f26b3bc9-6493-43d8-a2cd-3ad02e3d793d",
   "metadata": {},
   "outputs": [],
   "source": [
    "s2.update([11,12])"
   ]
  },
  {
   "cell_type": "code",
   "execution_count": 70,
   "id": "523868ed-f1cc-4498-9938-1cb7b3fbc760",
   "metadata": {},
   "outputs": [
    {
     "data": {
      "text/plain": [
       "{1, 2, 3, 10, 11, 12}"
      ]
     },
     "execution_count": 70,
     "metadata": {},
     "output_type": "execute_result"
    }
   ],
   "source": [
    "s2"
   ]
  },
  {
   "cell_type": "raw",
   "id": "e7add850-2729-4bca-895a-94b8d52211e3",
   "metadata": {},
   "source": [
    "update는 리스트로 값을 넣을 수 있음. add는 값 한개만 넣을 수 있음.\n",
    "remove는 값을 지움."
   ]
  },
  {
   "cell_type": "code",
   "execution_count": 71,
   "id": "4abc3182-4e28-425a-998c-ea4d8642194e",
   "metadata": {},
   "outputs": [],
   "source": [
    "s2.remove(1)"
   ]
  },
  {
   "cell_type": "code",
   "execution_count": 72,
   "id": "49a00032-3ccb-4241-9367-53295c669698",
   "metadata": {},
   "outputs": [
    {
     "data": {
      "text/plain": [
       "{2, 3, 10, 11, 12}"
      ]
     },
     "execution_count": 72,
     "metadata": {},
     "output_type": "execute_result"
    }
   ],
   "source": [
    "s2"
   ]
  },
  {
   "cell_type": "code",
   "execution_count": 73,
   "id": "56ac64ce-f0ee-468c-9629-d452ed379a6f",
   "metadata": {},
   "outputs": [],
   "source": [
    "list = [1, 2, 1, 4, 5, 1, 3, 5, 7, 8, 1]"
   ]
  },
  {
   "cell_type": "code",
   "execution_count": 74,
   "id": "a342d566-3bdf-4f7e-8887-1634413e5d15",
   "metadata": {},
   "outputs": [
    {
     "data": {
      "text/plain": [
       "{1, 2, 3, 4, 5, 7, 8}"
      ]
     },
     "execution_count": 74,
     "metadata": {},
     "output_type": "execute_result"
    }
   ],
   "source": [
    "set(list)"
   ]
  },
  {
   "cell_type": "code",
   "execution_count": 75,
   "id": "200e2dc5-a98a-4374-b5a5-aba947d8db59",
   "metadata": {},
   "outputs": [
    {
     "data": {
      "text/plain": [
       "11"
      ]
     },
     "execution_count": 75,
     "metadata": {},
     "output_type": "execute_result"
    }
   ],
   "source": [
    "len(list)"
   ]
  },
  {
   "cell_type": "code",
   "execution_count": 76,
   "id": "cbff39e9-696a-4845-bb89-21e15dce6892",
   "metadata": {},
   "outputs": [
    {
     "data": {
      "text/plain": [
       "7"
      ]
     },
     "execution_count": 76,
     "metadata": {},
     "output_type": "execute_result"
    }
   ],
   "source": [
    "len(set(list))"
   ]
  },
  {
   "cell_type": "raw",
   "id": "14134674-086f-4dab-8bf8-31ccbe87c3fe",
   "metadata": {},
   "source": [
    "7은 출력값이다!! 변수 X!! 출력값을 사용하고 싶으면 7을 변수로 넣어야함."
   ]
  },
  {
   "cell_type": "raw",
   "id": "e4cdc2ca-c3ac-40f0-b288-a252b62efb56",
   "metadata": {},
   "source": [
    "list를 set으로 바꾼 후 (중복 제거) 다시 list 변환 후 갯수 측정!!"
   ]
  },
  {
   "cell_type": "code",
   "execution_count": 79,
   "id": "31a3bd23-c432-4799-aa03-10a11f959562",
   "metadata": {},
   "outputs": [
    {
     "data": {
      "text/plain": [
       "{1, 2, 3, 4, 5, 7, 8}"
      ]
     },
     "execution_count": 79,
     "metadata": {},
     "output_type": "execute_result"
    }
   ],
   "source": [
    "set(list)"
   ]
  },
  {
   "cell_type": "code",
   "execution_count": 80,
   "id": "65fdf601-7f07-441f-8edd-24678d17e60b",
   "metadata": {},
   "outputs": [
    {
     "data": {
      "text/plain": [
       "[1, 2, 1, 4, 5, 1, 3, 5, 7, 8, 1]"
      ]
     },
     "execution_count": 80,
     "metadata": {},
     "output_type": "execute_result"
    }
   ],
   "source": [
    "list"
   ]
  },
  {
   "cell_type": "markdown",
   "id": "4a52709d-824e-4a9b-b137-54b526c67cff",
   "metadata": {},
   "source": [
    "## Naming Rules"
   ]
  },
  {
   "cell_type": "raw",
   "id": "f57133ce-06bc-4e41-bf35-6890da37922b",
   "metadata": {},
   "source": [
    "Camel Case, Snake Case"
   ]
  },
  {
   "cell_type": "raw",
   "id": "c43bd67e-8fd7-4615-b58f-62580926f9cd",
   "metadata": {},
   "source": [
    "camel case는 대문자로 변수 표기, snake case는 언더바로 변수 표기"
   ]
  },
  {
   "cell_type": "code",
   "execution_count": 83,
   "id": "2d703452-2266-46e6-937f-a5c092f54030",
   "metadata": {},
   "outputs": [],
   "source": [
    "trainInput = 'train'"
   ]
  },
  {
   "cell_type": "raw",
   "id": "ea8069fd-3b94-442b-a085-756b589987df",
   "metadata": {},
   "source": [
    "myPhoneNumber = '010-0000-0000'"
   ]
  },
  {
   "cell_type": "code",
   "execution_count": 85,
   "id": "eeccf496-b50c-45de-8406-cf1d29b8f003",
   "metadata": {},
   "outputs": [],
   "source": [
    "train_Input = 'train'"
   ]
  },
  {
   "cell_type": "code",
   "execution_count": 86,
   "id": "74729d9f-c17b-4248-b3a5-8ac2c253ef2f",
   "metadata": {},
   "outputs": [
    {
     "ename": "NameError",
     "evalue": "name 'train_input' is not defined",
     "output_type": "error",
     "traceback": [
      "\u001b[1;31m---------------------------------------------------------------------------\u001b[0m",
      "\u001b[1;31mNameError\u001b[0m                                 Traceback (most recent call last)",
      "Input \u001b[1;32mIn [86]\u001b[0m, in \u001b[0;36m<cell line: 1>\u001b[1;34m()\u001b[0m\n\u001b[1;32m----> 1\u001b[0m \u001b[43mtrain_input\u001b[49m\n",
      "\u001b[1;31mNameError\u001b[0m: name 'train_input' is not defined"
     ]
    }
   ],
   "source": [
    "train_input"
   ]
  },
  {
   "cell_type": "code",
   "execution_count": 87,
   "id": "c72b76df-3982-4322-9c17-aaefc3366cf5",
   "metadata": {},
   "outputs": [
    {
     "data": {
      "text/plain": [
       "'train'"
      ]
     },
     "execution_count": 87,
     "metadata": {},
     "output_type": "execute_result"
    }
   ],
   "source": [
    "train_Input"
   ]
  },
  {
   "cell_type": "code",
   "execution_count": 88,
   "id": "822c01cb-e28c-4d2c-971e-56680898113f",
   "metadata": {},
   "outputs": [],
   "source": [
    "my_phone_number = 1"
   ]
  },
  {
   "cell_type": "code",
   "execution_count": 89,
   "id": "c144ddb9-018b-4fd8-884a-865441ae8e06",
   "metadata": {},
   "outputs": [
    {
     "data": {
      "text/plain": [
       "1"
      ]
     },
     "execution_count": 89,
     "metadata": {},
     "output_type": "execute_result"
    }
   ],
   "source": [
    "my_phone_number"
   ]
  },
  {
   "cell_type": "raw",
   "id": "79adaa94-4d1a-41c7-aab5-7b42b0a10d0e",
   "metadata": {},
   "source": [
    "변수 이름 사용할때 언더바사용 습관화!!"
   ]
  },
  {
   "cell_type": "markdown",
   "id": "acce0491-1b18-4fb2-a7d5-c952d57efbbc",
   "metadata": {},
   "source": [
    "----------------------------------------"
   ]
  },
  {
   "cell_type": "code",
   "execution_count": 90,
   "id": "725c5c02-bc0d-4e1d-b14a-ee1764c68ea5",
   "metadata": {},
   "outputs": [],
   "source": [
    "a = [1, 2, 3]"
   ]
  },
  {
   "cell_type": "code",
   "execution_count": 91,
   "id": "369b874c-0b68-486f-9266-6c1ed469b72c",
   "metadata": {},
   "outputs": [],
   "source": [
    "b = a"
   ]
  },
  {
   "cell_type": "raw",
   "id": "0054a22b-457b-4446-8e4b-a63fadb3c461",
   "metadata": {},
   "source": [
    "b와 a는 같은 변수가 되어버림."
   ]
  },
  {
   "cell_type": "code",
   "execution_count": 92,
   "id": "c625eb8d-d82b-4706-9ba7-d305d0b8cb14",
   "metadata": {},
   "outputs": [
    {
     "data": {
      "text/plain": [
       "[1, 2, 3]"
      ]
     },
     "execution_count": 92,
     "metadata": {},
     "output_type": "execute_result"
    }
   ],
   "source": [
    "b"
   ]
  },
  {
   "cell_type": "code",
   "execution_count": 93,
   "id": "751f0c78-0ce6-4f42-9d6b-e441dbe16007",
   "metadata": {},
   "outputs": [],
   "source": [
    "a[1] = 4"
   ]
  },
  {
   "cell_type": "code",
   "execution_count": 94,
   "id": "ad4b5ebd-2845-47ad-806b-b67edeeee77e",
   "metadata": {},
   "outputs": [
    {
     "data": {
      "text/plain": [
       "[1, 4, 3]"
      ]
     },
     "execution_count": 94,
     "metadata": {},
     "output_type": "execute_result"
    }
   ],
   "source": [
    "a"
   ]
  },
  {
   "cell_type": "code",
   "execution_count": 95,
   "id": "785256aa-e83e-4fdf-8458-e4c85a3e250e",
   "metadata": {},
   "outputs": [
    {
     "data": {
      "text/plain": [
       "[1, 4, 3]"
      ]
     },
     "execution_count": 95,
     "metadata": {},
     "output_type": "execute_result"
    }
   ],
   "source": [
    "b"
   ]
  },
  {
   "cell_type": "code",
   "execution_count": 96,
   "id": "3ee7adb2-3e62-47a9-b823-fd4498670b2b",
   "metadata": {},
   "outputs": [],
   "source": [
    "c=a.copy()"
   ]
  },
  {
   "cell_type": "raw",
   "id": "6bb257ff-2246-4681-b6b0-fc8736916bac",
   "metadata": {},
   "source": [
    "copy는 a의 값만 복사"
   ]
  },
  {
   "cell_type": "code",
   "execution_count": 97,
   "id": "ba2a911b-f8ce-4c90-b830-67cdd64e23f0",
   "metadata": {},
   "outputs": [
    {
     "data": {
      "text/plain": [
       "[1, 4, 3]"
      ]
     },
     "execution_count": 97,
     "metadata": {},
     "output_type": "execute_result"
    }
   ],
   "source": [
    "c"
   ]
  },
  {
   "cell_type": "code",
   "execution_count": 98,
   "id": "e361a886-c8f0-4178-9dc7-5a611469af07",
   "metadata": {},
   "outputs": [
    {
     "data": {
      "text/plain": [
       "[1, 4, 3]"
      ]
     },
     "execution_count": 98,
     "metadata": {},
     "output_type": "execute_result"
    }
   ],
   "source": [
    "a"
   ]
  },
  {
   "cell_type": "code",
   "execution_count": 99,
   "id": "ce9fcb4b-463f-4120-a3b7-d955f2a70002",
   "metadata": {},
   "outputs": [],
   "source": [
    "a[1]=5"
   ]
  },
  {
   "cell_type": "code",
   "execution_count": 100,
   "id": "3eaba0b2-4b98-4a8b-ac0b-d022e16edd47",
   "metadata": {},
   "outputs": [
    {
     "data": {
      "text/plain": [
       "[1, 5, 3]"
      ]
     },
     "execution_count": 100,
     "metadata": {},
     "output_type": "execute_result"
    }
   ],
   "source": [
    "a"
   ]
  },
  {
   "cell_type": "code",
   "execution_count": 101,
   "id": "dd4a8e0a-ed28-4223-8fc6-6344909f623a",
   "metadata": {},
   "outputs": [
    {
     "data": {
      "text/plain": [
       "[1, 4, 3]"
      ]
     },
     "execution_count": 101,
     "metadata": {},
     "output_type": "execute_result"
    }
   ],
   "source": [
    "c"
   ]
  },
  {
   "cell_type": "code",
   "execution_count": null,
   "id": "2c0c6a50-5859-4ea7-8dff-53a71d6b8bbe",
   "metadata": {},
   "outputs": [],
   "source": []
  }
 ],
 "metadata": {
  "kernelspec": {
   "display_name": "Python 3 (ipykernel)",
   "language": "python",
   "name": "python3"
  },
  "language_info": {
   "codemirror_mode": {
    "name": "ipython",
    "version": 3
   },
   "file_extension": ".py",
   "mimetype": "text/x-python",
   "name": "python",
   "nbconvert_exporter": "python",
   "pygments_lexer": "ipython3",
   "version": "3.9.12"
  }
 },
 "nbformat": 4,
 "nbformat_minor": 5
}
