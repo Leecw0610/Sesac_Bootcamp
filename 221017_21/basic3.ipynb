{
 "cells": [
  {
   "cell_type": "markdown",
   "id": "2840c824-8a59-4e92-a4c2-94da0541252a",
   "metadata": {},
   "source": [
    "# 제어문 (if, for)"
   ]
  },
  {
   "cell_type": "markdown",
   "id": "6545951d-4aa1-4e53-9f8f-707371c904dc",
   "metadata": {},
   "source": [
    "## IF 문"
   ]
  },
  {
   "cell_type": "markdown",
   "id": "d986a96c-7eed-4755-b19e-acf32641cb79",
   "metadata": {},
   "source": [
    "- If는 만약에 ~라면 뜻\n",
    "- If 뒤에 나오는 값이 참(True)인 경우, ~를 실행해라\n",
    "- If 조건문 : 어떤 행위\n",
    "- If 조건문 뒤에 나오는 행위는 tab, space 4번으로 들여쓰기(indent)"
   ]
  },
  {
   "cell_type": "code",
   "execution_count": 1,
   "id": "ba2ce6a6-24eb-42c1-af39-dcf6184dab5f",
   "metadata": {},
   "outputs": [
    {
     "name": "stdout",
     "output_type": "stream",
     "text": [
      "참\n"
     ]
    }
   ],
   "source": [
    "if 1>0 : \n",
    "    print('참')"
   ]
  },
  {
   "cell_type": "code",
   "execution_count": 2,
   "id": "b0d0a194-6889-4db0-ac8c-7ee9fd477290",
   "metadata": {},
   "outputs": [
    {
     "name": "stdout",
     "output_type": "stream",
     "text": [
      "참\n"
     ]
    }
   ],
   "source": [
    "if True :\n",
    "    print('참')"
   ]
  },
  {
   "cell_type": "code",
   "execution_count": 3,
   "id": "bab5fce3-2dbc-410e-bd3c-4158d27e13f1",
   "metadata": {},
   "outputs": [],
   "source": [
    "if False :\n",
    "    print('거짓')"
   ]
  },
  {
   "cell_type": "code",
   "execution_count": 4,
   "id": "d19a856a-fc1b-4d81-a77d-c9334aabb893",
   "metadata": {},
   "outputs": [
    {
     "name": "stdout",
     "output_type": "stream",
     "text": [
      "참\n"
     ]
    }
   ],
   "source": [
    "if 12345 :\n",
    "    print('참')"
   ]
  },
  {
   "cell_type": "code",
   "execution_count": 5,
   "id": "ed4713d2-582c-4c63-97dd-48cd5dcf897e",
   "metadata": {},
   "outputs": [],
   "source": [
    "if 0 :\n",
    "    print('거짓')"
   ]
  },
  {
   "cell_type": "code",
   "execution_count": 6,
   "id": "50df124f-d5c2-4716-b56a-157a8c9d1285",
   "metadata": {},
   "outputs": [
    {
     "name": "stdout",
     "output_type": "stream",
     "text": [
      "끝\n"
     ]
    }
   ],
   "source": [
    "if 0 :\n",
    "    print('거짓')\n",
    "print('끝')"
   ]
  },
  {
   "cell_type": "raw",
   "id": "b1665a95-046e-4e54-bc32-bf92bde9debf",
   "metadata": {},
   "source": [
    "들여쓰기(indent)가 같은 값은 위 행이 끝나고 실행!!"
   ]
  },
  {
   "cell_type": "code",
   "execution_count": 7,
   "id": "c1bf18bd-bf62-4692-9ece-06c5bb6d37b0",
   "metadata": {},
   "outputs": [
    {
     "name": "stdout",
     "output_type": "stream",
     "text": [
      "A\n"
     ]
    }
   ],
   "source": [
    "if 'A' : \n",
    "    print('A')"
   ]
  },
  {
   "cell_type": "code",
   "execution_count": 8,
   "id": "fdefa2d7-e297-41d4-9c25-35eebb5998d1",
   "metadata": {},
   "outputs": [],
   "source": [
    "if '' :\n",
    "    print('test')"
   ]
  },
  {
   "cell_type": "raw",
   "id": "d208cfb9-7b7c-4463-a18b-f19a0e08c6f9",
   "metadata": {},
   "source": [
    "공백도 false!"
   ]
  },
  {
   "cell_type": "markdown",
   "id": "26823b9e-c944-481a-ab09-2e0b5a14196c",
   "metadata": {},
   "source": [
    "### 비교 연산자"
   ]
  },
  {
   "cell_type": "markdown",
   "id": "8a03e6e6-ec34-42c3-9959-d1c8611269f0",
   "metadata": {},
   "source": [
    "- a < b (a가 b보다 작다)\n",
    "- a > b (a가 b보다 크다)\n",
    "- a == b (a와 b가 같다)\n",
    "- a != b (a와 b가 다르다)\n",
    "- a <= b (a가 b보다 작거나 같다)\n",
    "- a >= b (a가 b보다 크거나 같다)"
   ]
  },
  {
   "cell_type": "raw",
   "id": "7cffbd7a-1c04-4559-b134-2cfafe621082",
   "metadata": {},
   "source": [
    "!! 등호(=)의 위치는 항상 뒤!! 주의!!"
   ]
  },
  {
   "cell_type": "code",
   "execution_count": 9,
   "id": "5cefbe8f-bf4d-4865-bb14-b19741551c8b",
   "metadata": {},
   "outputs": [
    {
     "data": {
      "text/plain": [
       "True"
      ]
     },
     "execution_count": 9,
     "metadata": {},
     "output_type": "execute_result"
    }
   ],
   "source": [
    "1 < 2"
   ]
  },
  {
   "cell_type": "code",
   "execution_count": 10,
   "id": "9efc7ce9-9c5c-49ad-b7fb-ba1472ffb470",
   "metadata": {},
   "outputs": [
    {
     "data": {
      "text/plain": [
       "False"
      ]
     },
     "execution_count": 10,
     "metadata": {},
     "output_type": "execute_result"
    }
   ],
   "source": [
    "1 > 2"
   ]
  },
  {
   "cell_type": "code",
   "execution_count": 11,
   "id": "25ecc051-1f05-4b75-a13d-22d3eb11a974",
   "metadata": {},
   "outputs": [
    {
     "data": {
      "text/plain": [
       "True"
      ]
     },
     "execution_count": 11,
     "metadata": {},
     "output_type": "execute_result"
    }
   ],
   "source": [
    "'a' < 'b'"
   ]
  },
  {
   "cell_type": "code",
   "execution_count": 12,
   "id": "808e4e26-74b7-4aea-892f-875994bbd1f2",
   "metadata": {},
   "outputs": [
    {
     "data": {
      "text/plain": [
       "True"
      ]
     },
     "execution_count": 12,
     "metadata": {},
     "output_type": "execute_result"
    }
   ],
   "source": [
    "'apple' <= 'banana'"
   ]
  },
  {
   "cell_type": "code",
   "execution_count": 13,
   "id": "cd4fd008-1f2e-4a83-9a7b-26a36464ca82",
   "metadata": {},
   "outputs": [
    {
     "data": {
      "text/plain": [
       "True"
      ]
     },
     "execution_count": 13,
     "metadata": {},
     "output_type": "execute_result"
    }
   ],
   "source": [
    "1 == int('1')"
   ]
  },
  {
   "cell_type": "markdown",
   "id": "fb3701ed-6c02-46e1-b3ed-e3259747cd65",
   "metadata": {},
   "source": [
    "### and, or, not"
   ]
  },
  {
   "cell_type": "markdown",
   "id": "4c087af8-4b4e-498c-a8cd-8c672f5842ba",
   "metadata": {},
   "source": [
    "- and (둘 다 T일때만 T)\n",
    "- or (하나라도 T면 T)\n",
    "- not (반대, T->F, F->T)"
   ]
  },
  {
   "cell_type": "code",
   "execution_count": 14,
   "id": "44dc2b1e-01e3-418a-bbbd-33450db1ca79",
   "metadata": {},
   "outputs": [
    {
     "data": {
      "text/plain": [
       "True"
      ]
     },
     "execution_count": 14,
     "metadata": {},
     "output_type": "execute_result"
    }
   ],
   "source": [
    "(3 > 1) and (4 > 2)"
   ]
  },
  {
   "cell_type": "code",
   "execution_count": 15,
   "id": "e9e0820c-660e-44c8-930c-c8e667bde337",
   "metadata": {},
   "outputs": [
    {
     "data": {
      "text/plain": [
       "False"
      ]
     },
     "execution_count": 15,
     "metadata": {},
     "output_type": "execute_result"
    }
   ],
   "source": [
    "(3 > 1) and (4 < 2)"
   ]
  },
  {
   "cell_type": "code",
   "execution_count": 16,
   "id": "3a8714c7-3aa8-4ba0-a73f-ccfb6def94f4",
   "metadata": {},
   "outputs": [
    {
     "data": {
      "text/plain": [
       "True"
      ]
     },
     "execution_count": 16,
     "metadata": {},
     "output_type": "execute_result"
    }
   ],
   "source": [
    "(3 > 1) or (4 > 2)"
   ]
  },
  {
   "cell_type": "code",
   "execution_count": 17,
   "id": "d798a6c9-db2c-4d5a-be84-23a33e576364",
   "metadata": {},
   "outputs": [
    {
     "data": {
      "text/plain": [
       "True"
      ]
     },
     "execution_count": 17,
     "metadata": {},
     "output_type": "execute_result"
    }
   ],
   "source": [
    "(3 > 1) or (4 < 2)"
   ]
  },
  {
   "cell_type": "code",
   "execution_count": 18,
   "id": "f8414f17-94a0-400e-a6a9-fdef003f89c3",
   "metadata": {},
   "outputs": [
    {
     "data": {
      "text/plain": [
       "True"
      ]
     },
     "execution_count": 18,
     "metadata": {},
     "output_type": "execute_result"
    }
   ],
   "source": [
    "not 0 "
   ]
  },
  {
   "cell_type": "code",
   "execution_count": 19,
   "id": "41e88987-51fe-495d-a971-af35b0904f93",
   "metadata": {},
   "outputs": [
    {
     "data": {
      "text/plain": [
       "False"
      ]
     },
     "execution_count": 19,
     "metadata": {},
     "output_type": "execute_result"
    }
   ],
   "source": [
    "not 'A'"
   ]
  },
  {
   "cell_type": "markdown",
   "id": "61f0cae2-acfc-4b44-b6b0-37e3c490093c",
   "metadata": {},
   "source": [
    "### in, not in"
   ]
  },
  {
   "cell_type": "markdown",
   "id": "00a15a74-02a3-4a88-9ca1-f276259536b9",
   "metadata": {},
   "source": [
    "- in : 문자열이나 리스트에서 해당 요소가 포함되어 있는지 검사\n",
    "- not in : 문자열이나 리스트에서 해당 요소가 포함되어 있지 않은지 검사"
   ]
  },
  {
   "cell_type": "code",
   "execution_count": 20,
   "id": "026be88f-6aa1-4d7f-84d7-51923f76dd43",
   "metadata": {},
   "outputs": [],
   "source": [
    "l = [1, 2, 3]"
   ]
  },
  {
   "cell_type": "code",
   "execution_count": 21,
   "id": "a83f7648-a8e9-4f10-a953-93adf95d3d22",
   "metadata": {},
   "outputs": [
    {
     "data": {
      "text/plain": [
       "True"
      ]
     },
     "execution_count": 21,
     "metadata": {},
     "output_type": "execute_result"
    }
   ],
   "source": [
    "3 in l"
   ]
  },
  {
   "cell_type": "code",
   "execution_count": 22,
   "id": "51adc5d1-5515-45c3-a27b-d369b61e8fe5",
   "metadata": {},
   "outputs": [
    {
     "data": {
      "text/plain": [
       "False"
      ]
     },
     "execution_count": 22,
     "metadata": {},
     "output_type": "execute_result"
    }
   ],
   "source": [
    "4 in l"
   ]
  },
  {
   "cell_type": "code",
   "execution_count": 23,
   "id": "04a44504-2362-48b7-a184-74eef1e0c4f7",
   "metadata": {},
   "outputs": [
    {
     "data": {
      "text/plain": [
       "True"
      ]
     },
     "execution_count": 23,
     "metadata": {},
     "output_type": "execute_result"
    }
   ],
   "source": [
    "'a' in 'apple'"
   ]
  },
  {
   "cell_type": "code",
   "execution_count": 24,
   "id": "f50bea14-10fd-4d34-bb68-fdf2bbfdae93",
   "metadata": {},
   "outputs": [
    {
     "data": {
      "text/plain": [
       "False"
      ]
     },
     "execution_count": 24,
     "metadata": {},
     "output_type": "execute_result"
    }
   ],
   "source": [
    "'z' in 'apple'"
   ]
  },
  {
   "cell_type": "code",
   "execution_count": 25,
   "id": "a0616bf7-8898-4df8-9069-b10a3c271a04",
   "metadata": {},
   "outputs": [
    {
     "data": {
      "text/plain": [
       "False"
      ]
     },
     "execution_count": 25,
     "metadata": {},
     "output_type": "execute_result"
    }
   ],
   "source": [
    "'a' in ['apple', 'banana']"
   ]
  },
  {
   "cell_type": "code",
   "execution_count": 26,
   "id": "0e650a07-865d-4e09-a625-3f5470387eac",
   "metadata": {},
   "outputs": [
    {
     "data": {
      "text/plain": [
       "False"
      ]
     },
     "execution_count": 26,
     "metadata": {},
     "output_type": "execute_result"
    }
   ],
   "source": [
    "'a' not in 'apple'"
   ]
  },
  {
   "cell_type": "markdown",
   "id": "4c4a9c5b-baf1-4cd8-9325-7148d41bb0d7",
   "metadata": {},
   "source": [
    "### elif, else"
   ]
  },
  {
   "cell_type": "code",
   "execution_count": 27,
   "id": "4eaa9512-97c5-425c-8b60-e0b90d2f1679",
   "metadata": {},
   "outputs": [
    {
     "ename": "SyntaxError",
     "evalue": "invalid syntax (3319596054.py, line 1)",
     "output_type": "error",
     "traceback": [
      "\u001b[1;36m  Input \u001b[1;32mIn [27]\u001b[1;36m\u001b[0m\n\u001b[1;33m    if :\u001b[0m\n\u001b[1;37m       ^\u001b[0m\n\u001b[1;31mSyntaxError\u001b[0m\u001b[1;31m:\u001b[0m invalid syntax\n"
     ]
    }
   ],
   "source": [
    "if :\n",
    "elif:\n",
    "else :"
   ]
  },
  {
   "cell_type": "code",
   "execution_count": 32,
   "id": "01911d7d-0627-4fb3-aa62-e2e9c31ecbfd",
   "metadata": {},
   "outputs": [
    {
     "name": "stdout",
     "output_type": "stream",
     "text": [
      "a는 5보다 작습니다\n"
     ]
    }
   ],
   "source": [
    "a = 1\n",
    "if a < 5 :\n",
    "    print('a는 5보다 작습니다')"
   ]
  },
  {
   "cell_type": "code",
   "execution_count": 33,
   "id": "04f08046-9c4e-4016-8097-afd8c5ad49ff",
   "metadata": {},
   "outputs": [
    {
     "name": "stdout",
     "output_type": "stream",
     "text": [
      "a는 5보다 작습니다\n",
      "a는 10보다 작습니다\n"
     ]
    }
   ],
   "source": [
    "a > 1\n",
    "if a < 5 :\n",
    "    print('a는 5보다 작습니다')\n",
    "if a < 10 :\n",
    "    print('a는 10보다 작습니다')\n"
   ]
  },
  {
   "cell_type": "code",
   "execution_count": 34,
   "id": "c88eabee-43ec-493c-a9bb-d9af572b0552",
   "metadata": {},
   "outputs": [
    {
     "name": "stdout",
     "output_type": "stream",
     "text": [
      "a는 10보다 큽니다\n"
     ]
    }
   ],
   "source": [
    "a = 15\n",
    "if a < 5 :\n",
    "    print('a는 5보다 작습니다')\n",
    "elif a < 10 :\n",
    "    print('a는 10보다 작습니다')\n",
    "else :\n",
    "    print('a는 10보다 큽니다')\n"
   ]
  },
  {
   "cell_type": "code",
   "execution_count": 35,
   "id": "0a161529-9a81-4d38-8492-a62931f61c8e",
   "metadata": {},
   "outputs": [
    {
     "name": "stdout",
     "output_type": "stream",
     "text": [
      "aaa\n"
     ]
    }
   ],
   "source": [
    "a = 1\n",
    "if 0 < a < 5 :\n",
    "    print('aaa')"
   ]
  },
  {
   "cell_type": "markdown",
   "id": "16e788ec-ec50-4100-998c-17caa9c2674b",
   "metadata": {},
   "source": [
    "#### Quiz"
   ]
  },
  {
   "cell_type": "code",
   "execution_count": 36,
   "id": "85ce386d-2a94-46a8-b183-049b0bc0534e",
   "metadata": {},
   "outputs": [],
   "source": [
    "num = '가'"
   ]
  },
  {
   "cell_type": "code",
   "execution_count": 37,
   "id": "71d93295-23bc-4892-9861-5cc640b9984f",
   "metadata": {},
   "outputs": [
    {
     "ename": "TypeError",
     "evalue": "not all arguments converted during string formatting",
     "output_type": "error",
     "traceback": [
      "\u001b[1;31m---------------------------------------------------------------------------\u001b[0m",
      "\u001b[1;31mTypeError\u001b[0m                                 Traceback (most recent call last)",
      "Input \u001b[1;32mIn [37]\u001b[0m, in \u001b[0;36m<cell line: 1>\u001b[1;34m()\u001b[0m\n\u001b[1;32m----> 1\u001b[0m \u001b[38;5;28;01mif\u001b[39;00m \u001b[43mnum\u001b[49m\u001b[43m \u001b[49m\u001b[38;5;241;43m%\u001b[39;49m\u001b[43m \u001b[49m\u001b[38;5;241;43m2\u001b[39;49m \u001b[38;5;241m==\u001b[39m \u001b[38;5;241m1\u001b[39m :\n\u001b[0;32m      2\u001b[0m     \u001b[38;5;28mprint\u001b[39m(\u001b[38;5;124m'\u001b[39m\u001b[38;5;124m홀수\u001b[39m\u001b[38;5;124m'\u001b[39m)\n\u001b[0;32m      3\u001b[0m \u001b[38;5;28;01melif\u001b[39;00m num \u001b[38;5;241m%\u001b[39m \u001b[38;5;241m2\u001b[39m \u001b[38;5;241m==\u001b[39m \u001b[38;5;241m0\u001b[39m :\n",
      "\u001b[1;31mTypeError\u001b[0m: not all arguments converted during string formatting"
     ]
    }
   ],
   "source": [
    "if num % 2 == 1 :\n",
    "    print('홀수')\n",
    "elif num % 2 == 0 :\n",
    "    print('짝수')\n",
    "else :\n",
    "    print('찾을 수 없습니다')"
   ]
  },
  {
   "cell_type": "raw",
   "id": "ed78217a-8027-497b-8f96-702af4ca4af5",
   "metadata": {},
   "source": [
    "else 뒤에는 조건문이 올 수 없다. (else문은 생략 가능)"
   ]
  },
  {
   "cell_type": "code",
   "execution_count": 38,
   "id": "dcec0625-1661-409b-a75d-fef286f06e89",
   "metadata": {},
   "outputs": [
    {
     "data": {
      "text/plain": [
       "True"
      ]
     },
     "execution_count": 38,
     "metadata": {},
     "output_type": "execute_result"
    }
   ],
   "source": [
    "isinstance(0, int)"
   ]
  },
  {
   "cell_type": "code",
   "execution_count": 39,
   "id": "fbae56ef-1f49-4494-bfd5-745a0805a021",
   "metadata": {},
   "outputs": [
    {
     "data": {
      "text/plain": [
       "True"
      ]
     },
     "execution_count": 39,
     "metadata": {},
     "output_type": "execute_result"
    }
   ],
   "source": [
    "isinstance('0', str)"
   ]
  },
  {
   "cell_type": "code",
   "execution_count": 45,
   "id": "93833e5b-d0e4-46ff-8b47-85df667d0a93",
   "metadata": {},
   "outputs": [],
   "source": [
    "num = '가'"
   ]
  },
  {
   "cell_type": "code",
   "execution_count": 47,
   "id": "b83b56cf-8910-468c-951d-22c9fa557758",
   "metadata": {},
   "outputs": [
    {
     "name": "stdout",
     "output_type": "stream",
     "text": [
      "num은 문자열입니다\n"
     ]
    }
   ],
   "source": [
    "if isinstance(num, int) :\n",
    "    if num == 0 :\n",
    "        print('num은 0입니다')\n",
    "    elif num % 2 == 1 :\n",
    "        print('홀수')\n",
    "    else :\n",
    "        print('짝수')\n",
    "else :\n",
    "    print('num은 문자열입니다')"
   ]
  },
  {
   "cell_type": "code",
   "execution_count": 43,
   "id": "9843101f-b9a9-4c3e-b4a0-7e0058743b8d",
   "metadata": {},
   "outputs": [
    {
     "data": {
      "text/plain": [
       "False"
      ]
     },
     "execution_count": 43,
     "metadata": {},
     "output_type": "execute_result"
    }
   ],
   "source": [
    "isinstance(num, int)"
   ]
  },
  {
   "cell_type": "markdown",
   "id": "81c57b3a-8697-461b-ba31-d146d26366d7",
   "metadata": {},
   "source": [
    "### 사용자 입력값 받기"
   ]
  },
  {
   "cell_type": "code",
   "execution_count": 49,
   "id": "df9bec64-6c18-4c19-aa67-f0a84fd0392c",
   "metadata": {},
   "outputs": [
    {
     "name": "stdin",
     "output_type": "stream",
     "text": [
      " d\n"
     ]
    }
   ],
   "source": [
    "text = input()"
   ]
  },
  {
   "cell_type": "code",
   "execution_count": 50,
   "id": "422b576e-8805-4bbb-a7b2-2f5c0a4eb67d",
   "metadata": {},
   "outputs": [
    {
     "data": {
      "text/plain": [
       "'d'"
      ]
     },
     "execution_count": 50,
     "metadata": {},
     "output_type": "execute_result"
    }
   ],
   "source": [
    "text"
   ]
  },
  {
   "cell_type": "code",
   "execution_count": 51,
   "id": "0a1e2b69-fcf1-44a7-9c5d-e23a03dc7ab3",
   "metadata": {},
   "outputs": [
    {
     "name": "stdin",
     "output_type": "stream",
     "text": [
      "나이를 입력해주세요 12\n"
     ]
    }
   ],
   "source": [
    "user_age = input('나이를 입력해주세요')"
   ]
  },
  {
   "cell_type": "code",
   "execution_count": 52,
   "id": "a55b2466-94e0-43a6-a174-39a38aa772df",
   "metadata": {},
   "outputs": [
    {
     "data": {
      "text/plain": [
       "'12'"
      ]
     },
     "execution_count": 52,
     "metadata": {},
     "output_type": "execute_result"
    }
   ],
   "source": [
    "user_age"
   ]
  },
  {
   "cell_type": "code",
   "execution_count": 53,
   "id": "bc1d7137-435b-470a-bac9-08eddd14f919",
   "metadata": {},
   "outputs": [
    {
     "data": {
      "text/plain": [
       "str"
      ]
     },
     "execution_count": 53,
     "metadata": {},
     "output_type": "execute_result"
    }
   ],
   "source": [
    "type(user_age)"
   ]
  },
  {
   "cell_type": "raw",
   "id": "168f1597-ea8c-47df-a1c8-135851d8bcbd",
   "metadata": {},
   "source": [
    "input으로 들어온 정보는 문자형(str)으로 저장"
   ]
  },
  {
   "cell_type": "code",
   "execution_count": 54,
   "id": "2e5f90d9-7a74-4b37-8b00-af6aa707579e",
   "metadata": {},
   "outputs": [
    {
     "data": {
      "text/plain": [
       "12"
      ]
     },
     "execution_count": 54,
     "metadata": {},
     "output_type": "execute_result"
    }
   ],
   "source": [
    "int(user_age)"
   ]
  },
  {
   "cell_type": "code",
   "execution_count": 55,
   "id": "232124a3-5965-4243-bb06-4cefb556eca1",
   "metadata": {},
   "outputs": [
    {
     "name": "stdout",
     "output_type": "stream",
     "text": [
      "12\n"
     ]
    }
   ],
   "source": [
    "try :\n",
    "    print(int(user_age))\n",
    "except :\n",
    "    print('숫자를 입력해주세요')"
   ]
  },
  {
   "cell_type": "markdown",
   "id": "4db2dc17-7c81-4d00-815c-14ac03304efc",
   "metadata": {},
   "source": [
    "#### Quiz"
   ]
  },
  {
   "cell_type": "raw",
   "id": "c9a294a1-1a0d-4819-b100-c619bc613ff5",
   "metadata": {},
   "source": [
    "1-(1)"
   ]
  },
  {
   "cell_type": "code",
   "execution_count": null,
   "id": "d1a301d1-f752-44e1-9106-eb7fefc6a7e4",
   "metadata": {},
   "outputs": [],
   "source": [
    "user_age = input('나이를 입력해주세요')"
   ]
  },
  {
   "cell_type": "code",
   "execution_count": null,
   "id": "c799c150-06a8-4117-9c21-6eea26f756e0",
   "metadata": {},
   "outputs": [],
   "source": [
    "if int(user_age) >= 20 :\n",
    "    print('성인')\n",
    "else :\n",
    "    print('미성년자')    "
   ]
  },
  {
   "cell_type": "raw",
   "id": "416b17f2-b7b3-458f-9872-d62bc92550f5",
   "metadata": {},
   "source": [
    "1-(2)"
   ]
  },
  {
   "cell_type": "code",
   "execution_count": null,
   "id": "524e1592-c77d-4c6e-9edd-0550225dda12",
   "metadata": {},
   "outputs": [],
   "source": [
    "if int(user_age) < 20 :\n",
    "    print('20대 미만')\n",
    "elif 20 <= int(user_age) < 30 :\n",
    "    print('20대')\n",
    "elif 30 <= int(user_age) < 40 :\n",
    "    print('30대')\n",
    "else :\n",
    "    print('40대 이상')"
   ]
  },
  {
   "cell_type": "raw",
   "id": "c314d298-6ca8-4f71-9428-5c2168f3cb5d",
   "metadata": {},
   "source": [
    "2"
   ]
  },
  {
   "cell_type": "code",
   "execution_count": null,
   "id": "2adec484-fa77-43af-8bd8-0e5cce9468f5",
   "metadata": {},
   "outputs": [],
   "source": [
    "user_name = input('이름을 입력해주세요')"
   ]
  },
  {
   "cell_type": "code",
   "execution_count": null,
   "id": "89f905e1-dea2-4bb9-90a7-a1dd1b7808ca",
   "metadata": {},
   "outputs": [],
   "source": [
    "last_name = user_name[0]"
   ]
  },
  {
   "cell_type": "raw",
   "id": "6e300ccb-087c-42ac-b08e-705f6bc4af78",
   "metadata": {},
   "source": [
    "2-(1)"
   ]
  },
  {
   "cell_type": "code",
   "execution_count": null,
   "id": "416af379-a845-40b7-9647-a11d0debf241",
   "metadata": {},
   "outputs": [],
   "source": [
    "last_name"
   ]
  },
  {
   "cell_type": "code",
   "execution_count": null,
   "id": "f6fe663f-c6f8-4114-bdaf-8e414a22b773",
   "metadata": {},
   "outputs": [],
   "source": [
    "type(last_name)"
   ]
  },
  {
   "cell_type": "raw",
   "id": "f0b6c50a-fe7c-4117-ae0e-fabecbfaf9b8",
   "metadata": {},
   "source": [
    "2-(2)"
   ]
  },
  {
   "cell_type": "code",
   "execution_count": null,
   "id": "1dd73d58-eac5-4dcb-b0a8-90702b65ffce",
   "metadata": {},
   "outputs": [],
   "source": [
    "popular_last_name = ['김', '이', '박']"
   ]
  },
  {
   "cell_type": "code",
   "execution_count": null,
   "id": "7cf5240c-2f50-4729-95a4-cfeca518be7c",
   "metadata": {},
   "outputs": [],
   "source": [
    "if last_name in popular_last_name  :\n",
    "    print('popular_last_name에 포함됩니다.')\n",
    "else :\n",
    "    print('popular_last_name에 포함되지 않습니다.')"
   ]
  },
  {
   "cell_type": "raw",
   "id": "c90194e5-4723-4f93-b6db-dda5145bc9d7",
   "metadata": {},
   "source": [
    "2-(3) "
   ]
  },
  {
   "cell_type": "code",
   "execution_count": null,
   "id": "98554fc5-da1a-4a89-a585-7f244641e424",
   "metadata": {},
   "outputs": [],
   "source": [
    "user_info = {\"홍길동\":24, \"유재석\":26, \"김종국\":27} "
   ]
  },
  {
   "cell_type": "code",
   "execution_count": null,
   "id": "92c08d9c-cc45-45a7-846d-2b04e2251169",
   "metadata": {},
   "outputs": [],
   "source": [
    "if user_name == \"홍길동\" :\n",
    "    print('24')\n",
    "elif user_name == \"유재석\" :\n",
    "    print('26')\n",
    "elif user_name == \"김종국\" :\n",
    "    print('27')\n",
    "else :\n",
    "    print(user_name)"
   ]
  },
  {
   "cell_type": "code",
   "execution_count": null,
   "id": "78c19953-8137-4625-af2c-fa627a5c9b14",
   "metadata": {},
   "outputs": [],
   "source": [
    "if user_name in user_info.keys() :\n",
    "    print (user_info[user_name])"
   ]
  },
  {
   "cell_type": "raw",
   "id": "7041fe96-e21e-42a6-9d58-f30eb4c86e47",
   "metadata": {},
   "source": [
    "3"
   ]
  },
  {
   "cell_type": "code",
   "execution_count": null,
   "id": "8ad0f818-ef2e-4176-b235-fb2b7d1c65ec",
   "metadata": {},
   "outputs": [],
   "source": [
    "list(map(int, ['1', '2', '3']))"
   ]
  },
  {
   "cell_type": "code",
   "execution_count": null,
   "id": "2602ff8c-39ab-4cc4-81cc-5950fde59149",
   "metadata": {},
   "outputs": [],
   "source": [
    "user_input_number = input('숫자 세개를 입력해주세요. (입력형식: 1,2,3)')"
   ]
  },
  {
   "cell_type": "code",
   "execution_count": null,
   "id": "31b1a27f-c8f5-462f-91c5-d5cf33b71bfd",
   "metadata": {},
   "outputs": [],
   "source": [
    "user_input_number"
   ]
  },
  {
   "cell_type": "code",
   "execution_count": null,
   "id": "06b07002-8837-400d-bde7-410fac8edaa9",
   "metadata": {},
   "outputs": [],
   "source": [
    "user_input_number.split(',')"
   ]
  },
  {
   "cell_type": "code",
   "execution_count": null,
   "id": "83057759-ce4a-4a88-9c70-9c91f92f0028",
   "metadata": {},
   "outputs": [],
   "source": [
    "user_11 = user_input_number.split(',') "
   ]
  },
  {
   "cell_type": "code",
   "execution_count": null,
   "id": "449b316e-7ccf-40cc-8459-7723baf24114",
   "metadata": {},
   "outputs": [],
   "source": [
    "user_22 = list(map(int, user_11))"
   ]
  },
  {
   "cell_type": "code",
   "execution_count": null,
   "id": "7dabf37b-74f0-4beb-a76a-bed4951fbaba",
   "metadata": {},
   "outputs": [],
   "source": [
    "s = list(range(1,10))"
   ]
  },
  {
   "cell_type": "code",
   "execution_count": null,
   "id": "53afae8f-cce7-43bb-bf30-f282eb61efb5",
   "metadata": {},
   "outputs": [],
   "source": [
    "max(user_22)"
   ]
  },
  {
   "cell_type": "code",
   "execution_count": null,
   "id": "e1290d3e-69c8-4bd8-a938-ec12254e94a7",
   "metadata": {},
   "outputs": [],
   "source": [
    "s"
   ]
  },
  {
   "cell_type": "code",
   "execution_count": null,
   "id": "f7fff70a-8526-4499-92a5-5b5b3890ab37",
   "metadata": {},
   "outputs": [],
   "source": [
    "list(map(lambda x: x*2, s))"
   ]
  },
  {
   "cell_type": "code",
   "execution_count": null,
   "id": "2d8d548a-4a9e-442f-9cc6-4fe97c2f974f",
   "metadata": {},
   "outputs": [],
   "source": [
    "s"
   ]
  },
  {
   "cell_type": "raw",
   "id": "993f623e-1024-4176-9b11-ed098c838a46",
   "metadata": {},
   "source": [
    "4"
   ]
  },
  {
   "cell_type": "code",
   "execution_count": null,
   "id": "09c2e8eb-af60-4908-95fa-3f4db1067ab6",
   "metadata": {},
   "outputs": [],
   "source": [
    "pin = input('주민등록번호를 000000-0000000 형식으로 입력해주세요.')"
   ]
  },
  {
   "cell_type": "code",
   "execution_count": null,
   "id": "2cf338ef-cca9-41ca-add0-d81d70df512a",
   "metadata": {},
   "outputs": [],
   "source": [
    "pin[7]"
   ]
  },
  {
   "cell_type": "code",
   "execution_count": null,
   "id": "51cf9014-f722-497a-8ab3-223e787ef9c5",
   "metadata": {},
   "outputs": [],
   "source": [
    "type(pin[7])"
   ]
  },
  {
   "cell_type": "code",
   "execution_count": null,
   "id": "e9ca990c-6e4f-4af4-8894-34d836915e31",
   "metadata": {},
   "outputs": [],
   "source": [
    "int(pin[7])"
   ]
  },
  {
   "cell_type": "code",
   "execution_count": null,
   "id": "9121e91a-eda7-4b4f-abd5-1b8f7aab28d1",
   "metadata": {},
   "outputs": [],
   "source": [
    "(int(pin[7]))"
   ]
  },
  {
   "cell_type": "code",
   "execution_count": null,
   "id": "efd32755-6e2a-4f5a-9a64-deb6353ce460",
   "metadata": {},
   "outputs": [],
   "source": [
    "if int(pin[7]) == 1 or int(pin[7]) == 3 :\n",
    "    print('남자')\n",
    "elif int(pin[7]) == 2 or int(pin[7]) == 4 :\n",
    "    print('여자')\n",
    "else :\n",
    "    print('오류')"
   ]
  },
  {
   "cell_type": "markdown",
   "id": "cad2a04e-6690-4477-bb59-06fca8d676a5",
   "metadata": {},
   "source": [
    "## FOR 문"
   ]
  },
  {
   "cell_type": "code",
   "execution_count": 56,
   "id": "424fbc49-5754-47f4-8112-0cee81ab3a4b",
   "metadata": {},
   "outputs": [
    {
     "data": {
      "text/plain": [
       "range(1, 10)"
      ]
     },
     "execution_count": 56,
     "metadata": {},
     "output_type": "execute_result"
    }
   ],
   "source": [
    "range(1, 10)"
   ]
  },
  {
   "cell_type": "code",
   "execution_count": 57,
   "id": "e8f29a31-4b8b-4cbd-9006-35fb7d7d600e",
   "metadata": {},
   "outputs": [
    {
     "data": {
      "text/plain": [
       "[1, 2, 3, 4, 5, 6, 7, 8, 9]"
      ]
     },
     "execution_count": 57,
     "metadata": {},
     "output_type": "execute_result"
    }
   ],
   "source": [
    "list(range(1,10))"
   ]
  },
  {
   "cell_type": "code",
   "execution_count": 58,
   "id": "ddd52900-bfdb-42d0-9e5f-87e7d2f55786",
   "metadata": {},
   "outputs": [
    {
     "data": {
      "text/plain": [
       "[1, 3, 5, 7, 9]"
      ]
     },
     "execution_count": 58,
     "metadata": {},
     "output_type": "execute_result"
    }
   ],
   "source": [
    "list(range(1,10,2))"
   ]
  },
  {
   "cell_type": "code",
   "execution_count": 59,
   "id": "c07f4e23-b101-48da-af79-395ecc284999",
   "metadata": {},
   "outputs": [
    {
     "data": {
      "text/plain": [
       "[0, 1, 2, 3, 4, 5, 6, 7, 8, 9]"
      ]
     },
     "execution_count": 59,
     "metadata": {},
     "output_type": "execute_result"
    }
   ],
   "source": [
    "list(range(10))"
   ]
  },
  {
   "cell_type": "code",
   "execution_count": 60,
   "id": "8302e27d-5c1e-4e4a-9636-089caf0fd799",
   "metadata": {},
   "outputs": [
    {
     "name": "stdout",
     "output_type": "stream",
     "text": [
      "0\n",
      "1\n",
      "2\n",
      "3\n"
     ]
    }
   ],
   "source": [
    "for i in [0, 1, 2, 3] :\n",
    "    print(i)"
   ]
  },
  {
   "cell_type": "code",
   "execution_count": 65,
   "id": "923c8a37-ba61-4de0-85c7-6c2a61b377b3",
   "metadata": {},
   "outputs": [
    {
     "name": "stdout",
     "output_type": "stream",
     "text": [
      "0\n",
      "1\n",
      "2\n",
      "3\n"
     ]
    }
   ],
   "source": [
    "for i in range(4) :\n",
    "    print(i)"
   ]
  },
  {
   "cell_type": "code",
   "execution_count": 66,
   "id": "7c4b47d4-4ca3-4b2f-a1cf-7c7447de9cf7",
   "metadata": {},
   "outputs": [
    {
     "name": "stdout",
     "output_type": "stream",
     "text": [
      "0\n",
      "1\n",
      "2\n",
      "3\n"
     ]
    }
   ],
   "source": [
    "for i in (0, 1, 2, 3) :\n",
    "    print(i)"
   ]
  },
  {
   "cell_type": "code",
   "execution_count": 67,
   "id": "74fb6145-c664-4d7d-9683-a42b1dde7bcb",
   "metadata": {},
   "outputs": [
    {
     "name": "stdout",
     "output_type": "stream",
     "text": [
      "a\n",
      "b\n",
      "c\n",
      "d\n",
      "e\n"
     ]
    }
   ],
   "source": [
    "for i in 'abcde' :\n",
    "    print(i)"
   ]
  },
  {
   "cell_type": "code",
   "execution_count": 68,
   "id": "d3ecfcbf-b2f3-4928-b331-1d403da79890",
   "metadata": {},
   "outputs": [],
   "source": [
    "gender_list = [0, 0, 1, 1, 1]"
   ]
  },
  {
   "cell_type": "code",
   "execution_count": 71,
   "id": "0fe85d27-7467-42c1-a15e-6d6a8b88f045",
   "metadata": {},
   "outputs": [
    {
     "name": "stdout",
     "output_type": "stream",
     "text": [
      "1 번째가 남자입니다\n",
      "1 번째가 남자입니다\n",
      "1 번째가 여자입니다\n",
      "1 번째가 여자입니다\n",
      "1 번째가 여자입니다\n"
     ]
    }
   ],
   "source": [
    "n = 1\n",
    "for gender in gender_list :\n",
    "    if gender == 0 :\n",
    "        print(n, '번째가 남자입니다')\n",
    "    elif gender == 1 :\n",
    "        print(n, '번째가 여자입니다')\n",
    "    else :\n",
    "        print('다시 입력해주세요.')\n",
    "        n = n+1"
   ]
  },
  {
   "cell_type": "code",
   "execution_count": 75,
   "id": "cf9e1184-b86d-4b23-b637-5f9b6e79614e",
   "metadata": {},
   "outputs": [
    {
     "name": "stdout",
     "output_type": "stream",
     "text": [
      "0\n",
      "0\n",
      "1\n",
      "1\n",
      "1\n"
     ]
    }
   ],
   "source": [
    "for i in range(len(gender_list)) :\n",
    "    print(gender_list[i])\n",
    "    \n",
    "    ## 파이썬에서 추구하는 구조는 아님."
   ]
  },
  {
   "cell_type": "code",
   "execution_count": 76,
   "id": "1c59b2b2-4d77-4cc2-a003-df7ecd68021b",
   "metadata": {},
   "outputs": [
    {
     "data": {
      "text/plain": [
       "[(0, 1), (1, 2), (2, 3)]"
      ]
     },
     "execution_count": 76,
     "metadata": {},
     "output_type": "execute_result"
    }
   ],
   "source": [
    "list(enumerate([1,2,3])) "
   ]
  },
  {
   "cell_type": "code",
   "execution_count": 77,
   "id": "d12fbb5c-3f92-4275-b4c7-33a7e80b6b50",
   "metadata": {},
   "outputs": [
    {
     "name": "stdout",
     "output_type": "stream",
     "text": [
      "0 | 1\n",
      "1 | 2\n",
      "2 | 3\n"
     ]
    }
   ],
   "source": [
    "for i,j in enumerate([1,2,3]) :\n",
    "    print(i, '|' ,j)"
   ]
  },
  {
   "cell_type": "code",
   "execution_count": 78,
   "id": "211ccbce-b9cf-4735-982c-39f771af7122",
   "metadata": {},
   "outputs": [
    {
     "data": {
      "text/plain": [
       "[(0, 0), (1, 0), (2, 1), (3, 1), (4, 1)]"
      ]
     },
     "execution_count": 78,
     "metadata": {},
     "output_type": "execute_result"
    }
   ],
   "source": [
    "list(enumerate([0, 0, 1, 1, 1]))"
   ]
  },
  {
   "cell_type": "code",
   "execution_count": 79,
   "id": "b71b48f9-7427-46ad-acf3-98dae8af1c62",
   "metadata": {},
   "outputs": [],
   "source": [
    "gender_list1 = list(enumerate(gender_list))"
   ]
  },
  {
   "cell_type": "code",
   "execution_count": 82,
   "id": "332e9456-d0f0-496c-9ecf-93d11051242a",
   "metadata": {},
   "outputs": [
    {
     "name": "stdout",
     "output_type": "stream",
     "text": [
      "0 (0, 0)\n",
      "1 (1, 0)\n",
      "2 (2, 1)\n",
      "3 (3, 1)\n",
      "4 (4, 1)\n"
     ]
    }
   ],
   "source": [
    "for i, j in enumerate(gender_list1) :\n",
    "    print(i, j)"
   ]
  },
  {
   "cell_type": "code",
   "execution_count": 83,
   "id": "2f3ed1b1-b918-4f38-b84a-ac404501810b",
   "metadata": {},
   "outputs": [
    {
     "name": "stdout",
     "output_type": "stream",
     "text": [
      "1 번째 분은 남자\n",
      "2 번째 분은 남자\n",
      "3 번째 분은 여자\n",
      "4 번째 분은 여자\n",
      "5 번째 분은 여자\n"
     ]
    }
   ],
   "source": [
    "for index, gender in enumerate(gender_list) :\n",
    "    if gender == 0 :\n",
    "        print(index+1,\"번째 분은\", '남자')\n",
    "    else :\n",
    "        print(index+1,\"번째 분은\", '여자')"
   ]
  },
  {
   "cell_type": "markdown",
   "id": "a0547f20-5821-4f5e-847d-72e088f00373",
   "metadata": {},
   "source": [
    "# 1부터 100까지 합 구하기"
   ]
  },
  {
   "cell_type": "code",
   "execution_count": null,
   "id": "9e482101-f4d0-4339-a0cc-011533819dd0",
   "metadata": {},
   "outputs": [],
   "source": [
    "ret = 0\n",
    "\n",
    "for i in range (1, 101) :\n",
    "    # ret = ret + i\n",
    "    ret += i\n",
    "print(ret)"
   ]
  },
  {
   "cell_type": "markdown",
   "id": "3f195a1b-8ad6-483b-845f-6d8b31be9e85",
   "metadata": {},
   "source": [
    "# 홀수 짝수의 합 구하기"
   ]
  },
  {
   "cell_type": "code",
   "execution_count": null,
   "id": "10218851-a4ea-40bc-b0c4-5980710dcdde",
   "metadata": {},
   "outputs": [],
   "source": [
    "even = 0\n",
    "\n",
    "for i in range (1, 101) :\n",
    "    if i % 2 == 0 :\n",
    "        even += i\n",
    "    else :\n",
    "        pass\n",
    "print(even)\n",
    "        "
   ]
  },
  {
   "cell_type": "code",
   "execution_count": null,
   "id": "c53ab181-c3d3-4693-9f03-8cdcf39e9997",
   "metadata": {},
   "outputs": [],
   "source": [
    "odd = 0\n",
    "\n",
    "for i in range(1, 101) :\n",
    "    if i % 2 == 1 :\n",
    "        odd += i\n",
    "    else :\n",
    "        pass\n",
    "print(odd)"
   ]
  },
  {
   "cell_type": "markdown",
   "id": "f70d916e-5555-4147-aaa4-a3f8f6fe8b9b",
   "metadata": {},
   "source": [
    "# 별 찍기"
   ]
  },
  {
   "cell_type": "code",
   "execution_count": null,
   "id": "d7555fcb-6e2b-4510-9032-ca202e9b2fc9",
   "metadata": {},
   "outputs": [],
   "source": [
    "for i in range(5) :\n",
    "    print(int(i+1)*\"*\")"
   ]
  },
  {
   "cell_type": "code",
   "execution_count": null,
   "id": "549ba020-cce3-41eb-98a8-c1be36f29250",
   "metadata": {},
   "outputs": [],
   "source": [
    "for i in range(5) :\n",
    "    print(int(5-i)*\"*\")"
   ]
  },
  {
   "cell_type": "code",
   "execution_count": null,
   "id": "7dfcb1db-1e18-4908-a52a-2d126c2531c4",
   "metadata": {},
   "outputs": [],
   "source": [
    "for i in range(5) :\n",
    "    print(\" \"*int(i)+\"*\"*int(5-i))"
   ]
  },
  {
   "cell_type": "code",
   "execution_count": null,
   "id": "cb2d61df-09cb-426b-887e-8b4a46bc0b9c",
   "metadata": {},
   "outputs": [],
   "source": [
    "for i in range(4) :\n",
    "    print((4-i)*\" \" + (i*2+1)*\"*\")   "
   ]
  },
  {
   "cell_type": "code",
   "execution_count": null,
   "id": "ceb3e10a-f355-43d9-b176-bb31fbf0de5e",
   "metadata": {},
   "outputs": [],
   "source": [
    "for i in range(7) :\n",
    "    if i<=3 :\n",
    "        print((4-i)*\" \" + (i*2+1)*\"*\")\n",
    "    else :\n",
    "        print((i-2)*\" \" + (((6-i)*2)+1)*\"*\")"
   ]
  },
  {
   "cell_type": "code",
   "execution_count": null,
   "id": "1f82d256-5ced-4513-bcae-e60c523476e6",
   "metadata": {},
   "outputs": [],
   "source": [
    "for i in range(1, 10) :\n",
    "    print('2*',i, '=', 2*i)"
   ]
  },
  {
   "cell_type": "code",
   "execution_count": null,
   "id": "5e299bde-8a5b-4ebf-90b6-1a2c73531e0a",
   "metadata": {},
   "outputs": [],
   "source": [
    "for i in range(2, 10) :\n",
    "    for j in range(1, 10) :\n",
    "        print (i, '*', j ,'=', i*j)\n",
    "    print('----------')"
   ]
  },
  {
   "cell_type": "markdown",
   "id": "08805c1a-5b5b-4a42-b2e3-b5ff8e2c03b5",
   "metadata": {},
   "source": [
    "##### Quiz\n",
    "\n",
    "1. for문을 이용하여 received_list에서 allowed_list에 존재하지 않는 목록을 뽑아 spam_mail이라는 리스트를 만드는 코드를 구현  "
   ]
  },
  {
   "cell_type": "code",
   "execution_count": null,
   "id": "e0878535-b189-4815-bce5-36ea7e170156",
   "metadata": {},
   "outputs": [],
   "source": [
    "received_list = ['tom', 'jenny', 'kyle', 'young', 'tami']\n",
    "allowed_list = ['kyle', 'tami', 'json']"
   ]
  },
  {
   "cell_type": "code",
   "execution_count": null,
   "id": "008758e1-af13-45de-a9b9-a34176db1171",
   "metadata": {},
   "outputs": [],
   "source": [
    "spam_mail = list(set(received_list) - set(allowed_list))"
   ]
  },
  {
   "cell_type": "code",
   "execution_count": null,
   "id": "b32899bc-3785-42a1-9217-039ad605235c",
   "metadata": {},
   "outputs": [],
   "source": [
    "spam_mail = list()"
   ]
  },
  {
   "cell_type": "code",
   "execution_count": null,
   "id": "33432336-182e-4a07-b9d0-3468e1d67140",
   "metadata": {},
   "outputs": [],
   "source": [
    "for i in received_list :\n",
    "    if i in allowed_list :\n",
    "        pass\n",
    "    else :\n",
    "        spam_mail.append(i)\n"
   ]
  },
  {
   "cell_type": "code",
   "execution_count": null,
   "id": "75614b9a-b82a-437e-8604-5a2cca6ef635",
   "metadata": {},
   "outputs": [],
   "source": [
    "spam_mail"
   ]
  },
  {
   "cell_type": "markdown",
   "id": "d89983c4-c791-410e-a082-841f265ab80c",
   "metadata": {},
   "source": [
    "##### 2. for문을 이용하여 word_list에서 단어가 7글자 이상이면 모두 대문자로, 7글자 미만이면 모두 소문자로 출력하는 코드를 구현"
   ]
  },
  {
   "cell_type": "code",
   "execution_count": null,
   "id": "77aaa038-7b80-4b47-a099-7f8964a4df5e",
   "metadata": {},
   "outputs": [],
   "source": [
    "word_list = ['culture','symbol','effect','experience','affair']"
   ]
  },
  {
   "cell_type": "code",
   "execution_count": null,
   "id": "351c485a-0dbf-469a-81f6-5a1b19d83f6f",
   "metadata": {},
   "outputs": [],
   "source": [
    "for i in word_list :\n",
    "    if len(i) >= 7 :\n",
    "        print(i.upper())\n",
    "    else :\n",
    "        print(i.lower())"
   ]
  },
  {
   "cell_type": "markdown",
   "id": "350aff99-1f11-46dd-8cf7-7d36ec2f2f57",
   "metadata": {},
   "source": [
    "##### 3. 구구단 3단 중 결과가 홀수인 결과만 출력하는 코드를 구현"
   ]
  },
  {
   "cell_type": "code",
   "execution_count": null,
   "id": "9b39a576-43fc-4d88-8dab-638eb90c908a",
   "metadata": {},
   "outputs": [],
   "source": [
    "for i in range (1, 10) :\n",
    "    if 3*i % 2 == 1 :\n",
    "        print (3*i)\n",
    "    else :\n",
    "        pass   "
   ]
  },
  {
   "cell_type": "markdown",
   "id": "9e7832ac-bdee-4ea8-88dd-5611304e375b",
   "metadata": {},
   "source": [
    "##### 4. 다음 2차원 리스트의 모든 요소를 출력하는 코드를 구현"
   ]
  },
  {
   "cell_type": "code",
   "execution_count": null,
   "id": "e19f0b17-7d50-4fc0-a4f1-eed8a3e81e71",
   "metadata": {},
   "outputs": [],
   "source": [
    "matrix=[[1,2,3],[4,5,6],[7,8,9],[10,11,12]]"
   ]
  },
  {
   "cell_type": "code",
   "execution_count": null,
   "id": "b263bf27-6bcb-40e9-b6f6-4714917562c9",
   "metadata": {},
   "outputs": [],
   "source": [
    "for i in matrix :\n",
    "    for j in i :\n",
    "        print(j, end=' ')\n",
    "    print(' ')"
   ]
  },
  {
   "cell_type": "code",
   "execution_count": null,
   "id": "f78b738f-43b7-47a2-a715-9be723f8ea51",
   "metadata": {},
   "outputs": [],
   "source": [
    "for i in range(1, 10) :\n",
    "        #print('3*',i, '=', 3*i)\n",
    "    if 3*i % 2 == 1 :\n",
    "        print ('3*',i, '=', 3*i)"
   ]
  },
  {
   "cell_type": "markdown",
   "id": "79375cf1-68a6-430f-b8ac-077329957df1",
   "metadata": {},
   "source": [
    "## While (왠만하면 while문은 for문으로 대체)"
   ]
  },
  {
   "cell_type": "raw",
   "id": "9db32554-5e1b-453f-9a2f-f72eb6f38fcb",
   "metadata": {},
   "source": [
    "while 조건문 : \n",
    "    행동"
   ]
  },
  {
   "cell_type": "code",
   "execution_count": 84,
   "id": "55047331-3c77-42ad-892b-492a23565c16",
   "metadata": {},
   "outputs": [
    {
     "name": "stdout",
     "output_type": "stream",
     "text": [
      "count는 0 입니다.\n",
      "count는 1 입니다.\n",
      "count는 2 입니다.\n",
      "count는 3 입니다.\n",
      "count는 4 입니다.\n"
     ]
    }
   ],
   "source": [
    "count = 0\n",
    "while count < 5 :\n",
    "    print(\"count는\", count, \"입니다.\")\n",
    "    count += 1"
   ]
  },
  {
   "cell_type": "code",
   "execution_count": 85,
   "id": "d1a07cff-0279-44de-8b31-d8fa1ac007e2",
   "metadata": {},
   "outputs": [
    {
     "name": "stdout",
     "output_type": "stream",
     "text": [
      "count는 0 입니다.\n",
      "count는 1 입니다.\n",
      "count는 2 입니다.\n",
      "count는 3 입니다.\n",
      "count는 4 입니다.\n"
     ]
    }
   ],
   "source": [
    "for i in range(5) :\n",
    "    print(\"count는\", i, \"입니다.\")"
   ]
  },
  {
   "cell_type": "markdown",
   "id": "0f2026d5-cc77-41ae-bb15-deed35f18b0a",
   "metadata": {},
   "source": [
    "#### 내장함수 알아보기"
   ]
  },
  {
   "cell_type": "code",
   "execution_count": null,
   "id": "9dc20777-409f-4e31-811d-ea263e20298d",
   "metadata": {},
   "outputs": [],
   "source": [
    "import random"
   ]
  },
  {
   "cell_type": "code",
   "execution_count": null,
   "id": "d16dced8-6064-47db-a0cd-5c82ead39222",
   "metadata": {},
   "outputs": [],
   "source": [
    "random.seed(1)"
   ]
  },
  {
   "cell_type": "code",
   "execution_count": null,
   "id": "3242e59f-5641-4053-94e6-e5715278749f",
   "metadata": {},
   "outputs": [],
   "source": [
    "random.randint(1, 1000)"
   ]
  },
  {
   "cell_type": "code",
   "execution_count": null,
   "id": "184f6e37-6615-4e4a-a8de-2c4605c28e19",
   "metadata": {},
   "outputs": [],
   "source": [
    "random_list = []"
   ]
  },
  {
   "cell_type": "code",
   "execution_count": null,
   "id": "adf40255-33f8-423e-8df4-b2aeb1d24f5f",
   "metadata": {},
   "outputs": [],
   "source": [
    "for _ in range(100) :\n",
    "    random_list.append(random.randint(1,1000))"
   ]
  },
  {
   "cell_type": "code",
   "execution_count": null,
   "id": "26956ea9-210f-4f77-93e0-b1b56fda8f33",
   "metadata": {},
   "outputs": [],
   "source": [
    "print(random_list, end=' ')"
   ]
  },
  {
   "cell_type": "code",
   "execution_count": null,
   "id": "12e2c76e-258e-47b0-89fa-60076cd2777d",
   "metadata": {},
   "outputs": [],
   "source": [
    "max_n = random_list[0]\n",
    "\n",
    "for n in random_list :\n",
    "    if max_n < n :\n",
    "        max_n = n\n",
    "        \n",
    "print(max_n)\n",
    "    "
   ]
  },
  {
   "cell_type": "code",
   "execution_count": null,
   "id": "4c40c1c8-a53b-4f00-89d5-586bd71a175f",
   "metadata": {},
   "outputs": [],
   "source": [
    "min_n = random_list[0]\n",
    "\n",
    "for n in random_list :\n",
    "    if min_n > n :\n",
    "        min_n = n\n",
    "        \n",
    "print(min_n)"
   ]
  },
  {
   "cell_type": "code",
   "execution_count": null,
   "id": "3c3fb6c4-e8f6-43e1-a7ba-1676b9851863",
   "metadata": {},
   "outputs": [],
   "source": [
    "lotto = list(range(1, 46))"
   ]
  },
  {
   "cell_type": "code",
   "execution_count": null,
   "id": "c8985fb4-3a81-4c85-b3f6-21b15fce2e65",
   "metadata": {},
   "outputs": [],
   "source": [
    "print(lotto, ' ')"
   ]
  },
  {
   "cell_type": "code",
   "execution_count": null,
   "id": "ed481bd9-ca8e-4187-8faa-4421c32762b3",
   "metadata": {},
   "outputs": [],
   "source": [
    "random.shuffle(lotto)"
   ]
  },
  {
   "cell_type": "code",
   "execution_count": null,
   "id": "446f2049-32bb-48a9-adb7-e78027cc2737",
   "metadata": {},
   "outputs": [],
   "source": [
    "print(lotto, ' ')"
   ]
  },
  {
   "cell_type": "code",
   "execution_count": null,
   "id": "5854e10f-e17e-49c7-aac1-0555e3aa7bbc",
   "metadata": {},
   "outputs": [],
   "source": [
    "for _ in range (10) :\n",
    "    random.shuffle(lotto)\n",
    "    print(lotto[0:6])"
   ]
  },
  {
   "cell_type": "code",
   "execution_count": null,
   "id": "3edf8b09-8f5c-4abc-9b03-1f9711de2e5f",
   "metadata": {},
   "outputs": [],
   "source": []
  }
 ],
 "metadata": {
  "kernelspec": {
   "display_name": "Python 3 (ipykernel)",
   "language": "python",
   "name": "python3"
  },
  "language_info": {
   "codemirror_mode": {
    "name": "ipython",
    "version": 3
   },
   "file_extension": ".py",
   "mimetype": "text/x-python",
   "name": "python",
   "nbconvert_exporter": "python",
   "pygments_lexer": "ipython3",
   "version": "3.9.12"
  }
 },
 "nbformat": 4,
 "nbformat_minor": 5
}
