{
 "cells": [
  {
   "cell_type": "markdown",
   "id": "12dac0f1-4559-4b05-bf2d-3da744bed580",
   "metadata": {},
   "source": [
    "# 함수(function)"
   ]
  },
  {
   "cell_type": "code",
   "execution_count": null,
   "id": "02510a3a-db98-4b8d-867c-7b8003c6f968",
   "metadata": {},
   "outputs": [],
   "source": [
    "def test() :\n",
    "    print('test 함수입니다')"
   ]
  },
  {
   "cell_type": "code",
   "execution_count": null,
   "id": "e3b2445d-6288-42eb-a2bf-4adf2d3c2d33",
   "metadata": {},
   "outputs": [],
   "source": [
    "test()"
   ]
  },
  {
   "cell_type": "code",
   "execution_count": null,
   "id": "73249781-356e-4e5a-a0a6-b85e1f9a8fbd",
   "metadata": {},
   "outputs": [],
   "source": [
    "def max_user() :\n",
    "    max_n = random_list[0]\n",
    "    \n",
    "    for n in random_list :\n",
    "        if max_n < n :\n",
    "            max_n = n\n",
    "            \n",
    "    print(max_n)"
   ]
  },
  {
   "cell_type": "markdown",
   "id": "3bd448da-e0fc-4627-b756-d325a1cec489",
   "metadata": {},
   "source": [
    "-함수의 매개변수와 return"
   ]
  },
  {
   "cell_type": "code",
   "execution_count": null,
   "id": "5c84ce9f-5614-427f-b1b9-978326f4cd9d",
   "metadata": {},
   "outputs": [],
   "source": [
    "#매개변수가 있는 함수\n",
    "def test(a) :\n",
    "    print('test 함수입니다')\n",
    "    print(a)"
   ]
  },
  {
   "cell_type": "code",
   "execution_count": null,
   "id": "2455b69c-e4f7-4250-be8b-4b2ff33a1296",
   "metadata": {},
   "outputs": [],
   "source": [
    "test(1)"
   ]
  },
  {
   "cell_type": "code",
   "execution_count": null,
   "id": "178a1a51-c5f9-4017-b0e5-144d47b7a5a7",
   "metadata": {},
   "outputs": [],
   "source": [
    "def test(a, b) :\n",
    "    print('test 함수입니다')\n",
    "    print(a, b)"
   ]
  },
  {
   "cell_type": "code",
   "execution_count": null,
   "id": "5a41338b-b8e1-44fa-85f0-feca19727574",
   "metadata": {},
   "outputs": [],
   "source": [
    "test(1, 2)"
   ]
  },
  {
   "cell_type": "code",
   "execution_count": null,
   "id": "210aac07-dd8d-4eaa-b869-3dec6daf24ac",
   "metadata": {},
   "outputs": [],
   "source": [
    "def max_user(l) :\n",
    "    max_n = l[0]\n",
    "    \n",
    "    for n in l :\n",
    "        if max_n < n :\n",
    "            max_n = n\n",
    "            \n",
    "    return max_n"
   ]
  },
  {
   "cell_type": "code",
   "execution_count": null,
   "id": "cb2e0ace-c878-4e87-884c-004d30649b7d",
   "metadata": {},
   "outputs": [],
   "source": [
    "max_num = max_user([1,3,5,2,4])"
   ]
  },
  {
   "cell_type": "code",
   "execution_count": null,
   "id": "561b7ccd-25a6-43e1-b3a9-c265fd694745",
   "metadata": {},
   "outputs": [],
   "source": [
    "max_num"
   ]
  },
  {
   "cell_type": "code",
   "execution_count": null,
   "id": "b8c16c41-c49c-4aad-ad46-c2841dc1d1f5",
   "metadata": {},
   "outputs": [],
   "source": [
    "#매개변수가 X, Return X\n",
    "def test() :\n",
    "    print('test')"
   ]
  },
  {
   "cell_type": "code",
   "execution_count": null,
   "id": "4e2de424-19e4-4495-8fc5-27206a1e37fb",
   "metadata": {},
   "outputs": [],
   "source": [
    "test()"
   ]
  },
  {
   "cell_type": "code",
   "execution_count": null,
   "id": "4f73a387-994d-454d-a64a-5d36d07fae26",
   "metadata": {},
   "outputs": [],
   "source": [
    "#매개변수가 O, Return X\n",
    "def test2(a) :\n",
    "    print(a)"
   ]
  },
  {
   "cell_type": "code",
   "execution_count": null,
   "id": "f797d63e-cdb4-4393-a94e-bec58b1f45e2",
   "metadata": {},
   "outputs": [],
   "source": [
    "test2(1)"
   ]
  },
  {
   "cell_type": "code",
   "execution_count": null,
   "id": "b0843f5b-91b3-4bf0-bed0-07aef46aea86",
   "metadata": {},
   "outputs": [],
   "source": [
    "#매개변수가 X, Return O\n",
    "def test3() :\n",
    "    return 1+2"
   ]
  },
  {
   "cell_type": "code",
   "execution_count": null,
   "id": "87b29d4c-5240-43c8-991d-b80f0735c064",
   "metadata": {},
   "outputs": [],
   "source": [
    "test3()"
   ]
  },
  {
   "cell_type": "code",
   "execution_count": null,
   "id": "234b147d-9143-43bb-a8c2-bf532c320e43",
   "metadata": {},
   "outputs": [],
   "source": [
    "#매개변수가 O, Return O\n",
    "def test4(a, b) :\n",
    "    return a+b"
   ]
  },
  {
   "cell_type": "code",
   "execution_count": null,
   "id": "fb329504-2ac8-426c-a46a-962fc318d721",
   "metadata": {},
   "outputs": [],
   "source": [
    "test4(1,2)"
   ]
  },
  {
   "cell_type": "code",
   "execution_count": null,
   "id": "236e99a6-8971-4b4b-b3fc-5c0a1da31028",
   "metadata": {},
   "outputs": [],
   "source": [
    "test4(b=1, a=2)"
   ]
  },
  {
   "cell_type": "code",
   "execution_count": null,
   "id": "153da479-abb6-46b1-89d5-b906e9ce22b8",
   "metadata": {},
   "outputs": [],
   "source": [
    "def add(a, b) :\n",
    "    result = a + b\n",
    "    return result"
   ]
  },
  {
   "cell_type": "code",
   "execution_count": null,
   "id": "efb581c1-1fcc-4689-8c28-23cf075bd9a9",
   "metadata": {},
   "outputs": [],
   "source": [
    "a = add(3, 4)"
   ]
  },
  {
   "cell_type": "code",
   "execution_count": null,
   "id": "364c0b23-16d6-4bfa-b9be-bbeb3090f673",
   "metadata": {},
   "outputs": [],
   "source": [
    "print(a)"
   ]
  },
  {
   "cell_type": "code",
   "execution_count": null,
   "id": "f8412642-437b-49fc-9109-c1446caa6eb6",
   "metadata": {},
   "outputs": [],
   "source": [
    "def say():\n",
    "    return 'Hi'"
   ]
  },
  {
   "cell_type": "code",
   "execution_count": null,
   "id": "6ea67a82-ef2a-45e2-bf66-09f393321963",
   "metadata": {},
   "outputs": [],
   "source": [
    "a = say()\n",
    "print(a)"
   ]
  },
  {
   "cell_type": "code",
   "execution_count": null,
   "id": "11c56e69-925d-4c0e-b87c-920ad549450f",
   "metadata": {},
   "outputs": [],
   "source": [
    "def add(a, b) :\n",
    "    print (\"%d, %d의 합은 %d입니다.\" % (a, b, a+b))"
   ]
  },
  {
   "cell_type": "code",
   "execution_count": null,
   "id": "43ea7e6f-e04b-419b-832f-2a689c78bb5b",
   "metadata": {},
   "outputs": [],
   "source": [
    "add(3, 4)"
   ]
  },
  {
   "cell_type": "code",
   "execution_count": null,
   "id": "cbfe09fb-deec-4738-b9de-384575b59a7d",
   "metadata": {},
   "outputs": [],
   "source": [
    "a = add(3, 4)"
   ]
  },
  {
   "cell_type": "code",
   "execution_count": null,
   "id": "8a42bf7b-2c28-4628-afb3-f69f68861935",
   "metadata": {},
   "outputs": [],
   "source": [
    "print(a)"
   ]
  },
  {
   "cell_type": "code",
   "execution_count": null,
   "id": "886fa43a-2962-4a02-a813-08a9d6f9b349",
   "metadata": {},
   "outputs": [],
   "source": [
    "def say():\n",
    "    print('Hi')"
   ]
  },
  {
   "cell_type": "code",
   "execution_count": null,
   "id": "cf8985bd-3dbd-41cf-89a5-a242366072a8",
   "metadata": {},
   "outputs": [],
   "source": [
    "say()"
   ]
  },
  {
   "cell_type": "code",
   "execution_count": null,
   "id": "e32fe9ec-ad2a-4ad3-b134-830400b848a8",
   "metadata": {},
   "outputs": [],
   "source": [
    "def test5(a, b=1) :\n",
    "    print('a:', a, 'b:', b)\n",
    "    return a+b"
   ]
  },
  {
   "cell_type": "code",
   "execution_count": null,
   "id": "34daae89-502e-47a3-993d-517ee0156ac5",
   "metadata": {},
   "outputs": [],
   "source": [
    "test5(1)"
   ]
  },
  {
   "cell_type": "code",
   "execution_count": null,
   "id": "15763845-d920-4ac9-8566-23b369d5c8ee",
   "metadata": {},
   "outputs": [],
   "source": [
    "l = [1, 2, 3]"
   ]
  },
  {
   "cell_type": "code",
   "execution_count": null,
   "id": "a36c4ee3-07e3-404c-84d6-98464b752a60",
   "metadata": {},
   "outputs": [],
   "source": [
    "l.sort()"
   ]
  },
  {
   "cell_type": "code",
   "execution_count": null,
   "id": "e5603fd6-2c1f-47d1-9a0d-b7bab778bd13",
   "metadata": {},
   "outputs": [],
   "source": [
    "#매개변수가 몇개가 될 지 모를 때,\n",
    "def hojin(*args) :\n",
    "    ret = 0\n",
    "    for i in args :\n",
    "        ret += i\n",
    "        \n",
    "    return ret"
   ]
  },
  {
   "cell_type": "code",
   "execution_count": null,
   "id": "8951de73-6ab0-4a9e-8b9e-2d405d364298",
   "metadata": {},
   "outputs": [],
   "source": [
    "hojin(1, 10)"
   ]
  },
  {
   "cell_type": "code",
   "execution_count": null,
   "id": "8dbc8425-1181-4c33-8259-ea16fe5eeed5",
   "metadata": {},
   "outputs": [],
   "source": [
    "hojin(1,2,3,4,5)"
   ]
  },
  {
   "cell_type": "markdown",
   "id": "6534ef1b-95ae-4844-ae67-9c88ca9c2e1a",
   "metadata": {},
   "source": [
    "#### Quiz"
   ]
  },
  {
   "cell_type": "raw",
   "id": "34558b9e-7711-4fb6-8309-88ae15a55a9a",
   "metadata": {},
   "source": [
    "계산기 - 인자 2개 / 1개는 + - * / 1개는 값 (몇 개가 들어올 지 모름)"
   ]
  },
  {
   "cell_type": "code",
   "execution_count": null,
   "id": "c7ccf28f-b33b-42e4-a49c-a42323fc511e",
   "metadata": {},
   "outputs": [],
   "source": [
    "def calc(oper, *args) :\n",
    "    ret = None\n",
    "    if args :\n",
    "    \n",
    "        if oper == '+' :\n",
    "            ret = 0\n",
    "            for i in args :\n",
    "                ret += i\n",
    "        elif oper == '*' : \n",
    "            ret = 1\n",
    "            for i in args :\n",
    "                ret *= i\n",
    "                \n",
    "    else :\n",
    "        ret = '값을 입력해 주세요.'\n",
    "    return ret"
   ]
  },
  {
   "cell_type": "code",
   "execution_count": null,
   "id": "f2bd0857-5e50-4f84-afb1-8598ea2a93bc",
   "metadata": {},
   "outputs": [],
   "source": [
    "calc('+',1,2)"
   ]
  },
  {
   "cell_type": "code",
   "execution_count": null,
   "id": "8fe2e3cf-22cb-45c2-91ca-8519f973fe0b",
   "metadata": {},
   "outputs": [],
   "source": [
    "calc('*',1,2,3,4,5)"
   ]
  },
  {
   "cell_type": "code",
   "execution_count": null,
   "id": "d58256f7-2642-44c5-be49-523f87f41d21",
   "metadata": {},
   "outputs": [],
   "source": [
    "calc('+')"
   ]
  },
  {
   "cell_type": "code",
   "execution_count": null,
   "id": "66d10108-9b50-4065-b486-b2531c5ae05f",
   "metadata": {},
   "outputs": [],
   "source": [
    "calc(1, 2, 3)"
   ]
  },
  {
   "cell_type": "code",
   "execution_count": null,
   "id": "f5cecfc4-4c3f-4cb7-92bc-3069e98075c9",
   "metadata": {},
   "outputs": [],
   "source": [
    "num = int(input())\n",
    "su = [] \n",
    "for i in range(1,num+1): # 1,10 = 1 ~ 9 \n",
    "    if num % i == 0:\n",
    "        su.append(i)\n",
    "print(su)\n"
   ]
  },
  {
   "cell_type": "code",
   "execution_count": null,
   "id": "22963ace-c7d7-475b-b34b-9cfeb2d4fba8",
   "metadata": {},
   "outputs": [],
   "source": [
    "def calc(oper, *args) : \n",
    "    \n",
    "    ret = None\n",
    "    \n",
    "    if len(args) == 0 :\n",
    "        raise ValueError\n",
    "    \n",
    "    if oper == '+' :\n",
    "        ret = 0\n",
    "        for i in args :\n",
    "            ret += i\n",
    "    \n",
    "    elif oper == '*' :\n",
    "        ret = 1\n",
    "        for i in args :\n",
    "            ret *= i\n",
    "    else :\n",
    "        raise ValueError\n",
    "        \n",
    "    return ret"
   ]
  },
  {
   "cell_type": "code",
   "execution_count": null,
   "id": "37c95219-ea87-41ec-83e6-09da8fb6cc42",
   "metadata": {},
   "outputs": [],
   "source": [
    "calc('+',1,2)"
   ]
  },
  {
   "cell_type": "code",
   "execution_count": null,
   "id": "253f963f-045d-4e96-a0f2-94019d91ff53",
   "metadata": {},
   "outputs": [],
   "source": [
    "calc('*',1,2,3,4,5)"
   ]
  },
  {
   "cell_type": "code",
   "execution_count": null,
   "id": "31c75e75-d529-42ec-ba2f-b3f2819eede7",
   "metadata": {},
   "outputs": [],
   "source": [
    "calc('+')"
   ]
  },
  {
   "cell_type": "code",
   "execution_count": null,
   "id": "a07393df-0fb0-48a5-bd4a-e383d1d84a02",
   "metadata": {},
   "outputs": [],
   "source": [
    "calc('-',1,2,3)"
   ]
  },
  {
   "cell_type": "code",
   "execution_count": null,
   "id": "e071dbef-c05e-4e05-8860-033927bc978b",
   "metadata": {},
   "outputs": [],
   "source": [
    "def test(a) :\n",
    "    scope_var = a + 1\n",
    "    print(scope_var)"
   ]
  },
  {
   "cell_type": "code",
   "execution_count": null,
   "id": "bb8a03b8-600e-42da-b3cf-c7e774fac8ba",
   "metadata": {},
   "outputs": [],
   "source": [
    "a =1 \n",
    "test(a)"
   ]
  },
  {
   "cell_type": "code",
   "execution_count": null,
   "id": "6fb505ee-14fd-4ade-b94a-689e32f41b56",
   "metadata": {},
   "outputs": [],
   "source": [
    "scope_var"
   ]
  },
  {
   "cell_type": "code",
   "execution_count": null,
   "id": "feeafbd0-c489-45d1-bdee-a27768aefb80",
   "metadata": {},
   "outputs": [],
   "source": [
    "def test2(a) :\n",
    "    a += 1\n",
    "    print(a)"
   ]
  },
  {
   "cell_type": "code",
   "execution_count": null,
   "id": "f07e5f06-91aa-4570-9b62-f5dc1ad7577b",
   "metadata": {},
   "outputs": [],
   "source": [
    "a=1\n",
    "test2(1)"
   ]
  },
  {
   "cell_type": "code",
   "execution_count": null,
   "id": "f911cdc4-55ce-4f8d-a985-d0a5eb13ef01",
   "metadata": {},
   "outputs": [],
   "source": [
    "def test3() :\n",
    "    global a #global 변수는 함수를 제외하고도 변수를 쓸 수 있음! 'global변수는 쓰지 않는 게 좋다.'\n",
    "    a += 1\n",
    "    print(a)"
   ]
  },
  {
   "cell_type": "code",
   "execution_count": null,
   "id": "7f95e9f0-9776-4acc-945e-f02b314f0910",
   "metadata": {},
   "outputs": [],
   "source": [
    "a = 3"
   ]
  },
  {
   "cell_type": "code",
   "execution_count": null,
   "id": "c960b6bb-bbd5-4102-b4ae-9e3332aef78d",
   "metadata": {},
   "outputs": [],
   "source": [
    "test3()"
   ]
  },
  {
   "cell_type": "code",
   "execution_count": null,
   "id": "e3a8191c-dce7-4faa-ab36-3010d0861129",
   "metadata": {},
   "outputs": [],
   "source": [
    "def print_kwargs(**kwargs):\n",
    "    print(kwargs)\n",
    "    for key,value in kwargs.items() :\n",
    "        print(key, value)"
   ]
  },
  {
   "cell_type": "code",
   "execution_count": null,
   "id": "fb1316d1-26c0-4dec-9ed4-aa41a7417954",
   "metadata": {},
   "outputs": [],
   "source": [
    "print_kwargs(a=[1,2,3], b=2)"
   ]
  },
  {
   "cell_type": "code",
   "execution_count": null,
   "id": "330a9442-9eac-4ced-8fc0-d56a3f610197",
   "metadata": {},
   "outputs": [],
   "source": [
    "print_kwargs(foo='a', bar='b', c='c')"
   ]
  },
  {
   "cell_type": "code",
   "execution_count": null,
   "id": "a2030b0d-2ae2-43f7-b8d1-04bdb405bb34",
   "metadata": {},
   "outputs": [],
   "source": [
    "def test(a, b, c) :\n",
    "    return a+b, a+c #2개 이상의 return '파이썬에서만 가능'"
   ]
  },
  {
   "cell_type": "code",
   "execution_count": null,
   "id": "c63f8f68-5859-41fc-b1d0-be9589d5f742",
   "metadata": {},
   "outputs": [],
   "source": [
    "ret1, ret2 = test (1, 2, 3)"
   ]
  },
  {
   "cell_type": "code",
   "execution_count": null,
   "id": "0d5e281c-0615-40f0-8a14-180579e7a409",
   "metadata": {},
   "outputs": [],
   "source": [
    "ret1"
   ]
  },
  {
   "cell_type": "code",
   "execution_count": null,
   "id": "c0182c97-63e8-4b9a-9e47-a84a6d5daf6c",
   "metadata": {},
   "outputs": [],
   "source": [
    "ret2"
   ]
  },
  {
   "cell_type": "code",
   "execution_count": null,
   "id": "9e5bb8d5",
   "metadata": {},
   "outputs": [],
   "source": [
    "ret1 + ret2, ret1 * ret2, ret1 // ret2"
   ]
  },
  {
   "cell_type": "markdown",
   "id": "2f9edb03-024e-48da-9de1-a210446f050a",
   "metadata": {},
   "source": [
    "### 파일 입출력"
   ]
  },
  {
   "cell_type": "markdown",
   "id": "6ee1081a-c3ed-41e1-927a-7dadb011e53c",
   "metadata": {},
   "source": [
    "open(filename, mode)\n",
    "\n",
    "- r(read) : 읽어오기\n",
    "- a(append) : 기존 내용에 추가하기\n",
    "- w(write) : 새로운 파일 쓰기"
   ]
  },
  {
   "cell_type": "code",
   "execution_count": null,
   "id": "814bd25e-d42a-44b7-ae95-064323ed22ff",
   "metadata": {},
   "outputs": [],
   "source": [
    "f = open('sample.txt', 'r', encoding='utf-8')"
   ]
  },
  {
   "cell_type": "code",
   "execution_count": null,
   "id": "71f53d98-2250-44e1-9825-804d19489cd4",
   "metadata": {},
   "outputs": [],
   "source": [
    "f.readline()"
   ]
  },
  {
   "cell_type": "code",
   "execution_count": null,
   "id": "ee09ad7b-769e-456a-91a2-a876fa56069d",
   "metadata": {},
   "outputs": [],
   "source": [
    "f2 = open('sample2.txt', 'r')"
   ]
  },
  {
   "cell_type": "code",
   "execution_count": null,
   "id": "57a7e519-59d0-4d9e-98f4-283ba8d6bc94",
   "metadata": {},
   "outputs": [],
   "source": [
    "f2.readline()"
   ]
  },
  {
   "cell_type": "code",
   "execution_count": null,
   "id": "f5172f1a-ed5d-49fd-a0bb-2d5f07da8b00",
   "metadata": {},
   "outputs": [],
   "source": [
    "line = f.readline()"
   ]
  },
  {
   "cell_type": "code",
   "execution_count": null,
   "id": "1f7c7ab6-972e-4001-aa6d-cd0c6d9351d0",
   "metadata": {},
   "outputs": [],
   "source": [
    "f = open('sample.txt', 'r', encoding='utf-8')\n",
    "while True :\n",
    "    line = f.readline()\n",
    "    if line :\n",
    "        print(line, end='')\n",
    "    else :\n",
    "        break\n",
    "f.close()"
   ]
  },
  {
   "cell_type": "code",
   "execution_count": null,
   "id": "e6ff23be-df4f-4a02-94fb-7e6c5c66a7ad",
   "metadata": {},
   "outputs": [],
   "source": [
    "f2 = open('sample2.txt', 'r')\n",
    "data = f2.read()\n",
    "print(data)\n",
    "print(data.split('\\n'))\n",
    "f2.close()"
   ]
  },
  {
   "cell_type": "code",
   "execution_count": null,
   "id": "ab604b29-e00e-462f-9efb-3ff11afb7fd5",
   "metadata": {},
   "outputs": [],
   "source": [
    "data #변수 안에 어떤게 있는지 보는것!"
   ]
  },
  {
   "cell_type": "code",
   "execution_count": null,
   "id": "a662a75f-d8a1-4f8c-8b00-e40909cc2f55",
   "metadata": {},
   "outputs": [],
   "source": [
    "print(data) #print로 출력된 결과물을 보는것!"
   ]
  },
  {
   "cell_type": "code",
   "execution_count": null,
   "id": "d9f17e9b-c8f3-4356-9f55-e938f1265392",
   "metadata": {},
   "outputs": [],
   "source": [
    "data.split('\\n')"
   ]
  },
  {
   "cell_type": "code",
   "execution_count": null,
   "id": "5f6144fd-ae39-434b-8ed0-3723918b0907",
   "metadata": {},
   "outputs": [],
   "source": [
    "f3 = open('sample3.txt', 'w', encoding='utf-8')\n",
    "\n",
    "for i in range(1,6) :\n",
    "    data = str(i) + '번째 줄입니다.\\n'\n",
    "    print(data)\n",
    "    f3.write(data)\n",
    "    \n",
    "f3.close()"
   ]
  },
  {
   "cell_type": "code",
   "execution_count": null,
   "id": "c4509fdf-3bf6-4baa-b33a-0ac94ed0acb6",
   "metadata": {},
   "outputs": [],
   "source": [
    "f4 = open('sample3.txt.', 'r', encoding='utf-8')"
   ]
  },
  {
   "cell_type": "code",
   "execution_count": null,
   "id": "dc6a7245-35d6-4446-bcdc-abb9abf2ad8e",
   "metadata": {},
   "outputs": [],
   "source": [
    "f4.read()"
   ]
  },
  {
   "cell_type": "code",
   "execution_count": null,
   "id": "ad89a10d-b1ba-4467-ba16-046c75000814",
   "metadata": {},
   "outputs": [],
   "source": [
    "f = open('sample.txt', 'r', encoding='utf-8')\n",
    "while True :\n",
    "    line = f.readlines() #readline<한줄씩>, readlines<리스트로>, read<통으로>의 차이!!\n",
    "    if line :\n",
    "        print(line, end='')\n",
    "    else :\n",
    "        break\n",
    "f.close()"
   ]
  },
  {
   "cell_type": "code",
   "execution_count": null,
   "id": "7bad9af8-02be-487b-9fcf-6fa0f2e0308b",
   "metadata": {},
   "outputs": [],
   "source": [
    "f5 = open('sample3.txt.', 'a', encoding='utf-8')"
   ]
  },
  {
   "cell_type": "code",
   "execution_count": null,
   "id": "b527f673-770e-45a2-8206-cded75189db2",
   "metadata": {},
   "outputs": [],
   "source": [
    "for i in range (6, 11) :\n",
    "    data = str(i) + '번째 줄입니다.\\n'\n",
    "    print(data)\n",
    "    f5.write(data)\n",
    "f5.close()"
   ]
  },
  {
   "cell_type": "markdown",
   "id": "5eb1e4a7-dd68-4b6d-b3b8-2e5e3af2b498",
   "metadata": {},
   "source": [
    "### Quiz\n",
    "\n",
    "quiz.txt\n",
    "\n",
    "1. 1~100 파일에 작성하세요\n",
    "2. 100~1 파일 뒤에 추가하세요\n",
    "3. 파일의 전체 내용을 출력하세요"
   ]
  },
  {
   "cell_type": "code",
   "execution_count": null,
   "id": "e7753aab-62cc-4e84-ad65-1196410ab0c5",
   "metadata": {},
   "outputs": [],
   "source": [
    "#1.\n",
    "f = open('quiz.txt', 'w', encoding='utf-8')\n",
    "for i in range (1, 101) :\n",
    "    data = str(i) + '\\n'\n",
    "    print(data)\n",
    "    f.write(data)\n",
    "f.close()"
   ]
  },
  {
   "cell_type": "code",
   "execution_count": null,
   "id": "deb00eb8-7749-470d-8352-68b54e43c919",
   "metadata": {},
   "outputs": [],
   "source": [
    "f1 = open('quiz.txt', 'a', encoding='utf-8')\n",
    "for i in range (100, 0, -1) : #for i in range (1, 101)\n",
    "    data = str(i) + '\\n'\n",
    "    print(data)\n",
    "    f1.write(data)\n",
    "f1.close()"
   ]
  },
  {
   "cell_type": "code",
   "execution_count": null,
   "id": "9a66b15d-4102-45a8-a02f-4eafc9875ad4",
   "metadata": {},
   "outputs": [],
   "source": [
    "f = open('quiz.txt', 'r', encoding='utf-8')\n",
    "while True :\n",
    "    line = f.read() #readline<한줄씩>, readlines<리스트로>, read<통으로>의 차이!!\n",
    "    if line :\n",
    "        print(line, end='')\n",
    "    else :\n",
    "        break\n",
    "f.close()"
   ]
  },
  {
   "cell_type": "markdown",
   "id": "34218a19-91cb-445a-b0c1-e2ad114aac1c",
   "metadata": {},
   "source": [
    "# 모듈"
   ]
  },
  {
   "cell_type": "code",
   "execution_count": null,
   "id": "17e7d856-15ca-496b-99f4-e89186ff0b2e",
   "metadata": {},
   "outputs": [],
   "source": [
    "import mod1"
   ]
  },
  {
   "cell_type": "code",
   "execution_count": null,
   "id": "8905abd2-a0ac-483a-967f-debd7d8fec92",
   "metadata": {},
   "outputs": [],
   "source": [
    "mod1.add(1,2)"
   ]
  },
  {
   "cell_type": "code",
   "execution_count": null,
   "id": "87ae0e00-b613-4449-876f-7d3adcce572a",
   "metadata": {},
   "outputs": [],
   "source": [
    "mod1.sub(1,2)"
   ]
  },
  {
   "cell_type": "code",
   "execution_count": null,
   "id": "be953bb3-aafe-426e-a764-b42a13b8b59c",
   "metadata": {},
   "outputs": [],
   "source": [
    "import random"
   ]
  },
  {
   "cell_type": "code",
   "execution_count": null,
   "id": "586f470e-96cb-427c-8d65-c0141dd169c5",
   "metadata": {},
   "outputs": [],
   "source": [
    "random.randint(1,3)"
   ]
  },
  {
   "cell_type": "code",
   "execution_count": null,
   "id": "8f7eea56-63d1-4423-a803-7cd4c2cc020e",
   "metadata": {},
   "outputs": [],
   "source": [
    "import mod1 as m #이방법으로 쓰는 것이 best!! # mod1을 m으로 쓰고 불러오겠다."
   ]
  },
  {
   "cell_type": "code",
   "execution_count": null,
   "id": "aa527eb2-21b5-4723-a179-60ca8958d5df",
   "metadata": {},
   "outputs": [],
   "source": [
    "m.add(1,2)"
   ]
  },
  {
   "cell_type": "code",
   "execution_count": null,
   "id": "fe2634d0-495d-4c05-9985-ffd02705312a",
   "metadata": {},
   "outputs": [],
   "source": [
    "m.sub(6,4)"
   ]
  },
  {
   "cell_type": "code",
   "execution_count": null,
   "id": "15ef6650-b3b9-4453-96ba-76ae314498ff",
   "metadata": {},
   "outputs": [],
   "source": [
    "from mod1 import add # mod1 모듈에서 add함수를 불러오겠다."
   ]
  },
  {
   "cell_type": "code",
   "execution_count": null,
   "id": "44ac258e-bc22-44ae-9b05-ce1eea88d51c",
   "metadata": {},
   "outputs": [],
   "source": [
    "add(1,2)"
   ]
  },
  {
   "cell_type": "code",
   "execution_count": null,
   "id": "58673657-6b31-4e2c-9599-2bddd35a1257",
   "metadata": {},
   "outputs": [],
   "source": [
    "sub(10, 9)"
   ]
  },
  {
   "cell_type": "code",
   "execution_count": null,
   "id": "5d6f4bb8-6fea-41de-99d1-3b6e89c25f94",
   "metadata": {},
   "outputs": [],
   "source": [
    "from mod1 import sub"
   ]
  },
  {
   "cell_type": "code",
   "execution_count": null,
   "id": "1c452d11-0d49-4adb-b376-f12a0d193cd5",
   "metadata": {},
   "outputs": [],
   "source": [
    "sub (10, 9)"
   ]
  },
  {
   "cell_type": "code",
   "execution_count": null,
   "id": "c5a0eb4e-3e70-4458-aac2-f29a98b5cb40",
   "metadata": {},
   "outputs": [],
   "source": [
    "from random import randint"
   ]
  },
  {
   "cell_type": "code",
   "execution_count": null,
   "id": "6fbd2bf1-af0b-453d-a04c-2e09d13ca0ee",
   "metadata": {},
   "outputs": [],
   "source": [
    "randint (1, 3)"
   ]
  },
  {
   "cell_type": "markdown",
   "id": "9132b70e-1c96-4412-92e3-30edd9e5b930",
   "metadata": {},
   "source": [
    "====================================="
   ]
  },
  {
   "cell_type": "code",
   "execution_count": null,
   "id": "580c3e96-b9b1-491f-b5b4-e32b7de53dc0",
   "metadata": {},
   "outputs": [],
   "source": [
    "import sesac.ai.func"
   ]
  },
  {
   "cell_type": "code",
   "execution_count": null,
   "id": "52d8c683-cb1e-4dbd-bf7c-57c0e46d0e84",
   "metadata": {},
   "outputs": [],
   "source": [
    "import sesac.ai.func as s"
   ]
  },
  {
   "cell_type": "code",
   "execution_count": null,
   "id": "d7ce835c-f657-4c0a-8ff2-9e3c105fefb7",
   "metadata": {},
   "outputs": [],
   "source": [
    "sesac.ai.func.test()"
   ]
  },
  {
   "cell_type": "code",
   "execution_count": null,
   "id": "cc9487a1-dc35-4c9d-bcba-ab7c1be84dac",
   "metadata": {},
   "outputs": [],
   "source": [
    "from sesac.ai import func"
   ]
  },
  {
   "cell_type": "code",
   "execution_count": null,
   "id": "81fb5cc6-b95e-47ae-b9bf-08ebcf14a1a4",
   "metadata": {},
   "outputs": [],
   "source": [
    "func.test()"
   ]
  },
  {
   "cell_type": "code",
   "execution_count": null,
   "id": "a2373e19-112a-4605-b846-e8193eee843d",
   "metadata": {},
   "outputs": [],
   "source": [
    "s.test()"
   ]
  },
  {
   "cell_type": "code",
   "execution_count": null,
   "id": "71cdf98c-d4fa-4acd-a4dc-88d3eb5b2ac2",
   "metadata": {},
   "outputs": [],
   "source": [
    "from sesac.ai.func import test"
   ]
  },
  {
   "cell_type": "code",
   "execution_count": null,
   "id": "c43f4e3e-5617-412c-80c5-cfabe51cdfa0",
   "metadata": {},
   "outputs": [],
   "source": [
    "test()"
   ]
  },
  {
   "cell_type": "code",
   "execution_count": null,
   "id": "d074bd51-276c-46f1-8ba6-712f5ce2471c",
   "metadata": {},
   "outputs": [],
   "source": [
    "from sesac.ai.func import test1"
   ]
  },
  {
   "cell_type": "code",
   "execution_count": null,
   "id": "bcf80577-100c-4328-807f-96963b36bf67",
   "metadata": {},
   "outputs": [],
   "source": [
    "test1()"
   ]
  },
  {
   "cell_type": "code",
   "execution_count": null,
   "id": "d577d61a-64b3-4d44-b9fb-72e941b9e793",
   "metadata": {},
   "outputs": [],
   "source": [
    "s.test1()"
   ]
  },
  {
   "cell_type": "markdown",
   "id": "41cfa94b-3614-4055-a4e0-b4c1bb2531ee",
   "metadata": {},
   "source": [
    "### 베스킨라빈스 31 게임 만들기"
   ]
  },
  {
   "cell_type": "markdown",
   "id": "bd6919d7-1282-4587-9ffb-66ff94725e0a",
   "metadata": {},
   "source": [
    "### 1번 : 컴퓨터와 사람 간의 선.후공을 정한다! (랜덤 함수 이용 1)\n",
    "### 2번 : 사람이 입력할 수 있는 개수를 input으로 받음.(1~3)\n",
    "### 3번 : 사람이 입력 후 그 후의 숫자를 컴퓨터가 랜덤으로 1~3개 출력 (랜덤 함수 이용2)\n",
    "### 4번 : 반복하다가 숫자가 31이 되는 순간 게임 끝. 31을 출력한 사람이 패배 (while문 이용)\n",
    "  "
   ]
  },
  {
   "cell_type": "code",
   "execution_count": null,
   "id": "f630ec24-3c06-4a31-ab3e-7953934227c3",
   "metadata": {},
   "outputs": [],
   "source": [
    "#1\n",
    "\n",
    "from random import randint"
   ]
  },
  {
   "cell_type": "code",
   "execution_count": null,
   "id": "7c5544ed-b187-43d1-8d07-7a83bcbc9e3e",
   "metadata": {},
   "outputs": [],
   "source": [
    "randint (1,2)"
   ]
  },
  {
   "cell_type": "code",
   "execution_count": null,
   "id": "7740f55c-5a6c-45c2-83a9-5a3448499990",
   "metadata": {},
   "outputs": [],
   "source": [
    "if randint (1,2) == 1 :\n",
    "    print('선공입니다!')\n",
    "else :\n",
    "    print('후공입니다!')"
   ]
  },
  {
   "cell_type": "code",
   "execution_count": null,
   "id": "66d2cc8d-86c4-47e5-96aa-e019f952be65",
   "metadata": {},
   "outputs": [],
   "source": [
    "user_n = int ( input ('숫자를 입력해주세요. (1~3)'))"
   ]
  },
  {
   "cell_type": "code",
   "execution_count": null,
   "id": "8aa8e3f1-7b0a-4518-ad61-541cde32a7d8",
   "metadata": {},
   "outputs": [],
   "source": [
    "for i in range (user_n) :\n",
    "    print ( 'user의 수:' ,i + user_n * user_n)"
   ]
  },
  {
   "cell_type": "code",
   "execution_count": null,
   "id": "6e6642da-0da0-4744-be4d-60142e4be7b5",
   "metadata": {},
   "outputs": [],
   "source": [
    "from random import randint"
   ]
  },
  {
   "cell_type": "code",
   "execution_count": null,
   "id": "4851bfb5-87b9-4e3a-89f0-451fee9ebd39",
   "metadata": {},
   "outputs": [],
   "source": [
    "C_n = randint(1,3)"
   ]
  },
  {
   "cell_type": "code",
   "execution_count": null,
   "id": "4d37b023-ef74-442d-adc8-5d87d493ad1c",
   "metadata": {},
   "outputs": [],
   "source": [
    "C_n = int(randint(1,3))"
   ]
  },
  {
   "cell_type": "code",
   "execution_count": null,
   "id": "fbe8f2cb-a882-4b40-8927-f9260b6c4fd1",
   "metadata": {},
   "outputs": [],
   "source": [
    "for j in range (C_n) :\n",
    "    print('computer의 수:', user_n+C_n * C_n)"
   ]
  },
  {
   "cell_type": "code",
   "execution_count": null,
   "id": "fc5dda56-19fa-4dea-bd17-201b052cd44c",
   "metadata": {},
   "outputs": [],
   "source": [
    "B31 = 1\n",
    "while B31 < 32 :\n",
    "    B31 += 1\n",
    "    if B31 == 32 :\n",
    "        print('\\'user\\'의 승리')\n",
    "    else :\n",
    "        print('\\'computer\\'의 승리')\n",
    "\n",
    "        break"
   ]
  },
  {
   "cell_type": "code",
   "execution_count": null,
   "id": "10090662-2d20-475d-b5e4-873b1083e802",
   "metadata": {},
   "outputs": [],
   "source": [
    "'''from random import randint\n",
    "if randint (1,2) == 1 :\n",
    "    print('선공입니다!')\n",
    "    user_n = int(input ('숫자를 입력해주세요. (1~3)'))\n",
    "    i = 1\n",
    "    for i in range (i, user_n) :\n",
    "        print ( 'user의 수:' ,i )\n",
    "        user_n += i\n",
    "            \n",
    "else :\n",
    "    print('후공입니다!')\n",
    "    C_n = randint(1,3)\n",
    "    for j in range (C_n) :\n",
    "        print('computer의 수:', j)\n",
    "        C_n += j \n",
    "        \n",
    "B31 = user_n + C_n\n",
    "\n",
    "B31 = 1\n",
    "while B31 < 32 :\n",
    "    B31 += 1\n",
    "    if B31 == 32 :\n",
    "        print('\\'user\\'의 승리')\n",
    "    else :\n",
    "        print('\\'computer\\'의 승리')\n",
    "\n",
    "        break\n",
    "\n",
    "'''"
   ]
  },
  {
   "cell_type": "code",
   "execution_count": null,
   "id": "00c5655d-2349-4800-b7ef-74303df55bae",
   "metadata": {},
   "outputs": [],
   "source": [
    "from random import randint\n",
    "\n",
    "if randint (1,2) == 1 :\n",
    "    print('선공입니다!')\n",
    "else :\n",
    "    print('후공입니다!')\n",
    "\n",
    "B31 = 0\n",
    "\n",
    "while True :\n",
    "    if randint (1,2) == 1 :\n",
    "        User_n = int(input('숫자를 입력하세요. (1~3)'))\n",
    "    \n",
    "        for i in range(User_n) :\n",
    "            print ('user 의 수', ':', B31+1+i)\n",
    "        B31 = B31 + User_n\n",
    "    \n",
    "        if B31 >= 31 :\n",
    "            print('패배하였습니다.')\n",
    "            break\n",
    "          \n",
    "    else :\n",
    "        C_n = int(randint(1,3))\n",
    "    \n",
    "        for j in range(C_n) :\n",
    "            print ('컴퓨터의 수', ':', B31+1+j)\n",
    "            if B31+1+j == 31 :\n",
    "                print('승리하였습니다.')\n",
    "                break \n",
    "        B31 = B31 + C_n\n",
    "    \n",
    "    "
   ]
  },
  {
   "cell_type": "code",
   "execution_count": null,
   "id": "ab42fd17-7069-4a2c-a976-9c7146d0b172",
   "metadata": {},
   "outputs": [],
   "source": [
    "import random as rand\n",
    "L1 = ['선공', '후공']\n",
    "game_set = L1[rand.randint(0,1)]    #선 후공 정하기\n",
    "print(game_set)\n",
    "num = 0\n",
    "if game_set == '선공' :\n",
    "    arg = 0\n",
    "else:\n",
    "    arg = 1\n",
    "while num <31:\n",
    "    if arg == 0: # 유저 키\n",
    "        print('-'*6+'User의 차례'+'-'*6)\n",
    "        a= int(input('숫자를 입력하세요'))\n",
    "        if 0 < a <= 3:\n",
    "            for _ in range(a):                            # 변수 없을 땐 '_'\n",
    "                if num >=31:  #반복문 중간에 끝날 경우\n",
    "                    game_finish=1\n",
    "                    break\n",
    "                num+=1\n",
    "                print('user의 수:', num)\n",
    "                game_finish=1\n",
    "            arg =1    # 컴퓨터로 전환\n",
    "        else:         # 잘 못 입력 경우\n",
    "            arg=0\n",
    "            print('잘못 입력하셨습니다. 다시 입력하세요')\n",
    "    elif arg == 1:\n",
    "            print('-'*6+'컴퓨터의 차례'+'-'*6)\n",
    "            com_set=rand.randint(1,3)\n",
    "            for _ in range(com_set):\n",
    "                if num >=31:\n",
    "                    game_finish=0\n",
    "                    break\n",
    "                num+=1\n",
    "                print('computer의 수:',num)\n",
    "                game_finish=0\n",
    "            arg =0\n",
    "else:                    #승리 조건\n",
    "    if game_finish == 1:\n",
    "        print('computer 승리')\n",
    "    elif game_finish == 0:\n",
    "        print('user 승리')"
   ]
  },
  {
   "cell_type": "code",
   "execution_count": null,
   "id": "dbc23769-b74c-4e02-9e34-11f7f01aec73",
   "metadata": {},
   "outputs": [],
   "source": [
    "import random\n",
    "# 선/후 정하기\n",
    "turn=random.randint(0,1)\n",
    "if turn==0:\n",
    "    print('당신은 선공입니다.')\n",
    "else:\n",
    "    print('당신은 후공입니다.')\n",
    "# 게임 시작\n",
    "print('\\n게임을 시작합니다.')\n",
    "count=0\n",
    "while True:\n",
    "    if turn==0:\n",
    "        print('------Your Turn-----')\n",
    "        num=int(input('Input number : '))\n",
    "        if num in [1,2,3]:\n",
    "            for _ in range(num):\n",
    "                count+=1\n",
    "                print(count)\n",
    "            \n",
    "            turn=1\n",
    "        else:\n",
    "            print('다시 입력해주세요 ')\n",
    "    elif turn==1:\n",
    "        print('-------My Turn-----')\n",
    "        if count==28:\n",
    "            num=2\n",
    "        elif count==29:\n",
    "            num=1\n",
    "        else:\n",
    "            num=random.randint(1,3)\n",
    "        for _ in range(num):\n",
    "            count+=1\n",
    "            print(count)\n",
    "        \n",
    "        turn=0\n",
    "    if count>=31:\n",
    "        break\n",
    "# 게임 결과\n",
    "print('\\n게임 종료!')\n",
    "if turn==0:\n",
    "    print('You Win!')\n",
    "else:\n",
    "    print('You Lose!!')"
   ]
  },
  {
   "cell_type": "code",
   "execution_count": null,
   "id": "96c09bc4-9ec6-4153-b05c-14f224832acb",
   "metadata": {},
   "outputs": [],
   "source": [
    "print(1,end=' ')\n",
    "print(2)"
   ]
  },
  {
   "cell_type": "code",
   "execution_count": null,
   "id": "f87aa87f-d77f-4ab6-b8f1-498657903609",
   "metadata": {},
   "outputs": [],
   "source": [
    "import random\n",
    "# 선/후 정하기\n",
    "turn=random.randint(0,1)\n",
    "if turn==0:\n",
    "    print('당신은 선공입니다.')\n",
    "else:\n",
    "    print('당신은 후공입니다.')\n",
    "# 게임 시작\n",
    "print('\\n게임을 시작합니다.')\n",
    "count=0\n",
    "while True:\n",
    "    if turn==0:\n",
    "        print('------Your Turn-----')\n",
    "        num=int(input('Input number : '))\n",
    "        if num in [1,2,3]:\n",
    "            for _ in range(num):\n",
    "                count+=1\n",
    "                print(count,end=' ')\n",
    "            print()\n",
    "            turn=1\n",
    "        else:\n",
    "            print('다시 입력해주세요 ')\n",
    "    elif turn==1:\n",
    "        print('-------My Turn-----')\n",
    "        if count==28:\n",
    "            num=2\n",
    "        elif count==29:\n",
    "            num=1\n",
    "        else:\n",
    "            num=random.randint(1,3)\n",
    "        for _ in range(num):\n",
    "            count+=1\n",
    "            print(count,end=' ')\n",
    "        print()\n",
    "        turn=0\n",
    "    if count>=31:\n",
    "        break\n",
    "# 게임 결과\n",
    "print('\\n게임 종료!')\n",
    "if turn==0:\n",
    "    print('You Win!')\n",
    "else:\n",
    "    print('You Lose!!')"
   ]
  },
  {
   "cell_type": "code",
   "execution_count": null,
   "id": "8eccbc83-46fe-4094-b603-535ae6c02dd4",
   "metadata": {},
   "outputs": [],
   "source": [
    "import random\n",
    "유저 = random.randint(0,1) #랜덤으로 값을 출력\n",
    "if 유저 == 0 :\n",
    "    print(\"유저 선공입니다.\")\n",
    "elif 유저 == 1 :\n",
    "    print(\"컴퓨터 선공입니다.\")\n",
    "num = 0\n",
    "while num < 31 :\n",
    "    print(\"----------------\")\n",
    "    if 유저 == 0 :\n",
    "        user_num = int(input(\"숫자를 입력하시오\"))\n",
    "        for i in range(user_num) :\n",
    "            num += 1\n",
    "            print(\"user의 수 :\" , num)\n",
    "        유저 = 1\n",
    "    elif 유저 == 1 :\n",
    "        print(\"computer 차례입니다\")\n",
    "        com_input = random.randint(1,3)\n",
    "        for i in range(com_input) :\n",
    "            num += 1\n",
    "            print(\"computer의 수 :\",num)\n",
    "        유저 = 0\n",
    "    \n",
    "if 유저 == 0 :\n",
    "    print(\"승리\")\n",
    "else :\n",
    "    print(\"패배\")"
   ]
  },
  {
   "cell_type": "markdown",
   "id": "041de005-b991-43bc-b498-dd8d9123c2e3",
   "metadata": {},
   "source": [
    "##### Q16 모스 부호 해독"
   ]
  },
  {
   "cell_type": "code",
   "execution_count": null,
   "id": "a66811f7-f383-4154-b779-a1be61835aef",
   "metadata": {},
   "outputs": [],
   "source": [
    "mo_dict = {'.-' : 'A', '-...' :'B' , '-.-.' : 'C', '-..,':'D' ,'.':'E', '..-.' :'F', '--.' :'G',\n",
    "           '....' : 'H', '..':'I', '.---':'J','-.-':'K','.-..':'L','--':'M','-.':'N', '---':'O',\n",
    "           '.--.':'P','--.-':'Q','.-.':'R','...':'S','-':'T','..-':'U','...-':'V',\n",
    "           '.--':'W','-..-':'X','-.--':'Y','--..':'Z'}"
   ]
  },
  {
   "cell_type": "code",
   "execution_count": null,
   "id": "1f341316-7a2b-4b88-afc5-1e65ac26afe3",
   "metadata": {},
   "outputs": [],
   "source": [
    "mo_dict['.-']"
   ]
  },
  {
   "cell_type": "code",
   "execution_count": null,
   "id": "4d51d36e-af34-4c38-baec-e7adf88e934c",
   "metadata": {},
   "outputs": [],
   "source": [
    "mo_dict.keys()"
   ]
  },
  {
   "cell_type": "code",
   "execution_count": null,
   "id": "987fbacf-a128-4f21-8f17-050ea230c172",
   "metadata": {},
   "outputs": [],
   "source": [
    "mo_dict.values()"
   ]
  },
  {
   "cell_type": "code",
   "execution_count": null,
   "id": "1e8bb3cb-9e21-42ad-af2f-b8cd178c5c67",
   "metadata": {},
   "outputs": [],
   "source": [
    "morse = '.... .  ... .-.. . . .--. ...  . .- .-. .-.. -.--'"
   ]
  },
  {
   "cell_type": "code",
   "execution_count": null,
   "id": "f4d85398-9c32-4874-9f5a-b57dcbfced24",
   "metadata": {},
   "outputs": [],
   "source": [
    "morse"
   ]
  },
  {
   "cell_type": "code",
   "execution_count": null,
   "id": "27e495ca-1d49-4b9e-82a8-3ccebb6eac27",
   "metadata": {},
   "outputs": [],
   "source": [
    "word = morse.split(\" \")"
   ]
  },
  {
   "cell_type": "code",
   "execution_count": null,
   "id": "0963bdf4-28e9-4795-82f0-7ecc43e02056",
   "metadata": {},
   "outputs": [],
   "source": [
    "word"
   ]
  },
  {
   "cell_type": "code",
   "execution_count": null,
   "id": "166adaad-dfff-41f9-89bf-a7cc31b57134",
   "metadata": {},
   "outputs": [],
   "source": [
    "for i in range(len(word)):\n",
    "    if word[i] in mo_dict :\n",
    "        a=mo_dict.get(word[i])\n",
    "        print (a, end=' ')"
   ]
  },
  {
   "cell_type": "code",
   "execution_count": null,
   "id": "480e1437-f7fa-4de3-9fdd-684fd09c6cc2",
   "metadata": {},
   "outputs": [],
   "source": [
    "mo_dict = {'.-' : 'A', '-...' :'B' , '-.-.' : 'C', '-..':'D' ,'.':'E', '..-.' :'F', '--.' :'G',\n",
    "           '....' : 'H', '..':'I', '.---':'J','-.-':'K','.-..':'L','--':'M','-.':'N', '---':'O',\n",
    "           '.--.':'P','--.-':'Q','.-.':'R','...':'S','-':'T','..-':'U','...-':'V',\n",
    "           '.--':'W','-..-':'X','-.--':'Y','--..':'Z'}\n",
    "\n",
    "morse = input('모스부호를 입력하세요.')\n",
    "\n",
    "word = morse.split(\" \")\n",
    "\n",
    "for i in range(len(word)):\n",
    "    if word[i] in mo_dict :\n",
    "        a = mo_dict.get(word[i])\n",
    "        print (a, end='')\n",
    "    else :\n",
    "        print (end=' ')"
   ]
  },
  {
   "cell_type": "code",
   "execution_count": null,
   "id": "5638389c-c915-4af0-8afe-d46d8a9068bc",
   "metadata": {},
   "outputs": [],
   "source": [
    "mo_dict = {'.-' : 'A', '-...' :'B' , '-.-.' : 'C', '-..':'D' ,'.':'E', '..-.' :'F', '--.' :'G',\n",
    "           '....' : 'H', '..':'I', '.---':'J','-.-':'K','.-..':'L','--':'M','-.':'N', '---':'O',\n",
    "           '.--.':'P','--.-':'Q','.-.':'R','...':'S','-':'T','..-':'U','...-':'V',\n",
    "           '.--':'W','-..-':'X','-.--':'Y','--..':'Z'}\n",
    "\n",
    "sent = input('문장을 대문자로 입력하세요.')\n",
    "\n",
    "mo_dict_r = mo_dict.keys() , mo_dict.values()"
   ]
  },
  {
   "cell_type": "code",
   "execution_count": null,
   "id": "8d2c0f02-9bfa-449d-a6fc-96c82b887f66",
   "metadata": {},
   "outputs": [],
   "source": [
    "mo_dict_r"
   ]
  },
  {
   "cell_type": "code",
   "execution_count": null,
   "id": "a942405b-3591-48e0-b373-f6e3a1ed80f7",
   "metadata": {},
   "outputs": [],
   "source": [
    "sent = input('문장을 대문자로 입력하세요.')\n",
    "\n",
    "print(sent)\n",
    "\n",
    "Arph = sent.split()\n",
    "\n",
    "print(Arph)\n",
    "\n",
    "if 'Arph' in mo_dict.values() :\n",
    "    print mo_dict.keys()\n"
   ]
  },
  {
   "cell_type": "code",
   "execution_count": null,
   "id": "9743a599-fbd5-4af0-84b4-6b2857ba1aff",
   "metadata": {},
   "outputs": [],
   "source": []
  },
  {
   "cell_type": "code",
   "execution_count": null,
   "id": "d753ce97-b10a-46e9-a770-3be38a535f29",
   "metadata": {},
   "outputs": [],
   "source": [
    "for i in range(len(Arph)):\n",
    "    if Arph[i] in mo_dict.values() :\n",
    "         print( mo_dict.values())\n",
    "        #a = mo_dict.get("
   ]
  },
  {
   "cell_type": "code",
   "execution_count": null,
   "id": "9c7acc79-af27-4aa2-9aff-a9c6bc498af0",
   "metadata": {},
   "outputs": [],
   "source": [
    "mo_dict.values()"
   ]
  },
  {
   "cell_type": "code",
   "execution_count": null,
   "id": "91876f9a-541e-4460-8173-347e57af9dd6",
   "metadata": {},
   "outputs": [],
   "source": [
    "dic = {}\n",
    "\n",
    "dic['k'] = 'v'\n",
    "dic['k']"
   ]
  },
  {
   "cell_type": "markdown",
   "id": "5d406c38-dfcc-4051-806a-442d1132faae",
   "metadata": {},
   "source": [
    "## 정답풀이"
   ]
  },
  {
   "cell_type": "code",
   "execution_count": 1,
   "id": "e55f0a60-3b74-4a29-b10e-6d3b57b53724",
   "metadata": {},
   "outputs": [],
   "source": [
    "text =''' A\t.-\tN\t-.\n",
    "B\t-...\tO\t---\n",
    "C\t-.-.\tP\t.--.\n",
    "D\t-..\tQ\t--.-\n",
    "E\t.\tR\t.-.\n",
    "F\t..-.\tS\t...\n",
    "G\t--.\tT\t-\n",
    "H\t....\tU\t..-\n",
    "I\t..\tV\t...-\n",
    "J\t.---\tW\t.--\n",
    "K\t-.-\tX\t-..-\n",
    "L\t.-..\tY\t-.--\n",
    "M\t--\tZ\t--..'''"
   ]
  },
  {
   "cell_type": "code",
   "execution_count": 2,
   "id": "6a410bdf-5cf6-4839-a731-c3cfcfb6480f",
   "metadata": {},
   "outputs": [
    {
     "data": {
      "text/plain": [
       "' A\\t.-\\tN\\t-.\\nB\\t-...\\tO\\t---\\nC\\t-.-.\\tP\\t.--.\\nD\\t-..\\tQ\\t--.-\\nE\\t.\\tR\\t.-.\\nF\\t..-.\\tS\\t...\\nG\\t--.\\tT\\t-\\nH\\t....\\tU\\t..-\\nI\\t..\\tV\\t...-\\nJ\\t.---\\tW\\t.--\\nK\\t-.-\\tX\\t-..-\\nL\\t.-..\\tY\\t-.--\\nM\\t--\\tZ\\t--..'"
      ]
     },
     "execution_count": 2,
     "metadata": {},
     "output_type": "execute_result"
    }
   ],
   "source": [
    "text"
   ]
  },
  {
   "cell_type": "code",
   "execution_count": 3,
   "id": "8c675ff7-3605-4482-b25b-2e522c0775b8",
   "metadata": {},
   "outputs": [],
   "source": [
    "mos_list = text.split()"
   ]
  },
  {
   "cell_type": "code",
   "execution_count": 4,
   "id": "68f4df37-0e44-4592-9e4c-a252fae9cd14",
   "metadata": {},
   "outputs": [
    {
     "data": {
      "text/plain": [
       "52"
      ]
     },
     "execution_count": 4,
     "metadata": {},
     "output_type": "execute_result"
    }
   ],
   "source": [
    "len(mos_list)"
   ]
  },
  {
   "cell_type": "code",
   "execution_count": 5,
   "id": "7867775b-eec7-4ea1-9294-72553f92db6e",
   "metadata": {},
   "outputs": [],
   "source": [
    "mos_dict = {}"
   ]
  },
  {
   "cell_type": "code",
   "execution_count": 6,
   "id": "d2f2842c-ecd4-4db5-a49e-33d666148bec",
   "metadata": {},
   "outputs": [
    {
     "name": "stdout",
     "output_type": "stream",
     "text": [
      "A .-\n",
      "-----------\n",
      "N -.\n",
      "-----------\n",
      "B -...\n",
      "-----------\n",
      "O ---\n",
      "-----------\n",
      "C -.-.\n",
      "-----------\n",
      "P .--.\n",
      "-----------\n",
      "D -..\n",
      "-----------\n",
      "Q --.-\n",
      "-----------\n",
      "E .\n",
      "-----------\n",
      "R .-.\n",
      "-----------\n",
      "F ..-.\n",
      "-----------\n",
      "S ...\n",
      "-----------\n",
      "G --.\n",
      "-----------\n",
      "T -\n",
      "-----------\n",
      "H ....\n",
      "-----------\n",
      "U ..-\n",
      "-----------\n",
      "I ..\n",
      "-----------\n",
      "V ...-\n",
      "-----------\n",
      "J .---\n",
      "-----------\n",
      "W .--\n",
      "-----------\n",
      "K -.-\n",
      "-----------\n",
      "X -..-\n",
      "-----------\n",
      "L .-..\n",
      "-----------\n",
      "Y -.--\n",
      "-----------\n",
      "M --\n",
      "-----------\n",
      "Z --..\n",
      "-----------\n"
     ]
    }
   ],
   "source": [
    "for i in range(0, len(mos_list), 2) :\n",
    "    key = mos_list[i+1]\n",
    "    value = mos_list[i]\n",
    "    mos_dict[key] = value\n",
    "    print(mos_list[i], mos_list[i+1])\n",
    "    print('-----------')"
   ]
  },
  {
   "cell_type": "code",
   "execution_count": 8,
   "id": "66e3fcc3-4055-41dd-80f8-8cc7b368c5f0",
   "metadata": {},
   "outputs": [
    {
     "data": {
      "text/plain": [
       "{'.-': 'A',\n",
       " '-.': 'N',\n",
       " '-...': 'B',\n",
       " '---': 'O',\n",
       " '-.-.': 'C',\n",
       " '.--.': 'P',\n",
       " '-..': 'D',\n",
       " '--.-': 'Q',\n",
       " '.': 'E',\n",
       " '.-.': 'R',\n",
       " '..-.': 'F',\n",
       " '...': 'S',\n",
       " '--.': 'G',\n",
       " '-': 'T',\n",
       " '....': 'H',\n",
       " '..-': 'U',\n",
       " '..': 'I',\n",
       " '...-': 'V',\n",
       " '.---': 'J',\n",
       " '.--': 'W',\n",
       " '-.-': 'K',\n",
       " '-..-': 'X',\n",
       " '.-..': 'L',\n",
       " '-.--': 'Y',\n",
       " '--': 'M',\n",
       " '--..': 'Z'}"
      ]
     },
     "execution_count": 8,
     "metadata": {},
     "output_type": "execute_result"
    }
   ],
   "source": [
    "mos_dict"
   ]
  },
  {
   "cell_type": "code",
   "execution_count": null,
   "id": "e72f34b5-de86-4155-b082-f30e6a7ef18d",
   "metadata": {},
   "outputs": [],
   "source": [
    "Arph = input('문장을 대문자로 입력하세요.')\n",
    "\n",
    "word1 = Arph.split(\" \")\n",
    "\n",
    "for i in range(len(word1)):\n",
    "    if word1[i] in mos_dict :\n",
    "        a = mo_dict.get(word[i])\n",
    "        print (a, end='')\n",
    "    else :\n",
    "        print (end=' ')\n",
    "    \n",
    "print(word1)"
   ]
  },
  {
   "cell_type": "code",
   "execution_count": 20,
   "id": "21a43b57-e582-4e7a-8317-5213badf6567",
   "metadata": {},
   "outputs": [],
   "source": [
    "DDD = ['GET']"
   ]
  },
  {
   "cell_type": "code",
   "execution_count": 21,
   "id": "955a1272-3a83-4e02-87d8-c6fdc7ca3f43",
   "metadata": {},
   "outputs": [
    {
     "data": {
      "text/plain": [
       "['GET']"
      ]
     },
     "execution_count": 21,
     "metadata": {},
     "output_type": "execute_result"
    }
   ],
   "source": [
    "list(DDD)"
   ]
  },
  {
   "cell_type": "code",
   "execution_count": null,
   "id": "a13a9fd9-8f26-4ebf-a484-a898d04ae8b1",
   "metadata": {},
   "outputs": [],
   "source": [
    "print(len(DDD))"
   ]
  },
  {
   "cell_type": "code",
   "execution_count": null,
   "id": "25168418-1f64-457b-b79e-aae2467b384f",
   "metadata": {},
   "outputs": [],
   "source": [
    "print(list(DDD))"
   ]
  },
  {
   "cell_type": "code",
   "execution_count": null,
   "id": "bf701707-8f63-46aa-9b8d-e7f7bc53ca0f",
   "metadata": {},
   "outputs": [],
   "source": [
    "str_word1 = str(word1)"
   ]
  },
  {
   "cell_type": "code",
   "execution_count": null,
   "id": "9e499cc1-863d-40d1-98cd-8b35f68a4c4c",
   "metadata": {},
   "outputs": [],
   "source": [
    "print(str_word1)"
   ]
  },
  {
   "cell_type": "code",
   "execution_count": null,
   "id": "246015a1-a1ec-477f-8d08-5b2f48a366d5",
   "metadata": {},
   "outputs": [],
   "source": [
    "word1 = str(word1)"
   ]
  },
  {
   "cell_type": "code",
   "execution_count": 9,
   "id": "fc39f25f-0cdb-474a-b655-8defdf10982d",
   "metadata": {},
   "outputs": [],
   "source": [
    "text =''' A\t.-\tN\t-.\n",
    "B\t-...\tO\t---\n",
    "C\t-.-.\tP\t.--.\n",
    "D\t-..\tQ\t--.-\n",
    "E\t.\tR\t.-.\n",
    "F\t..-.\tS\t...\n",
    "G\t--.\tT\t-\n",
    "H\t....\tU\t..-\n",
    "I\t..\tV\t...-\n",
    "J\t.---\tW\t.--\n",
    "K\t-.-\tX\t-..-\n",
    "L\t.-..\tY\t-.--\n",
    "M\t--\tZ\t--..'''"
   ]
  },
  {
   "cell_type": "code",
   "execution_count": 11,
   "id": "5b6c28fb-4e9f-4ad5-92bd-f3bec5882953",
   "metadata": {},
   "outputs": [],
   "source": [
    "mos_list2 = text.split()\n",
    "mos_dict = {}"
   ]
  },
  {
   "cell_type": "code",
   "execution_count": 12,
   "id": "780fe922-512d-486a-87aa-b98cd5361e72",
   "metadata": {},
   "outputs": [],
   "source": [
    "for i in range(0, len(mos_list2), 2) :\n",
    "    key = mos_list2[i]\n",
    "    value = mos_list2[i+1]\n",
    "    mos_dict2[key] = value"
   ]
  },
  {
   "cell_type": "code",
   "execution_count": 13,
   "id": "9d722a4a-2596-4ff8-b5f2-0b8a6177a7f3",
   "metadata": {},
   "outputs": [
    {
     "data": {
      "text/plain": [
       "{'A': '.-',\n",
       " 'N': '-.',\n",
       " 'B': '-...',\n",
       " 'O': '---',\n",
       " 'C': '-.-.',\n",
       " 'P': '.--.',\n",
       " 'D': '-..',\n",
       " 'Q': '--.-',\n",
       " 'E': '.',\n",
       " 'R': '.-.',\n",
       " 'F': '..-.',\n",
       " 'S': '...',\n",
       " 'G': '--.',\n",
       " 'T': '-',\n",
       " 'H': '....',\n",
       " 'U': '..-',\n",
       " 'I': '..',\n",
       " 'V': '...-',\n",
       " 'J': '.---',\n",
       " 'W': '.--',\n",
       " 'K': '-.-',\n",
       " 'X': '-..-',\n",
       " 'L': '.-..',\n",
       " 'Y': '-.--',\n",
       " 'M': '--',\n",
       " 'Z': '--..'}"
      ]
     },
     "execution_count": 13,
     "metadata": {},
     "output_type": "execute_result"
    }
   ],
   "source": [
    "mos_dict2"
   ]
  },
  {
   "cell_type": "code",
   "execution_count": 14,
   "id": "9cfd849a-5be4-4402-9cd4-ffa59f126ee5",
   "metadata": {},
   "outputs": [],
   "source": [
    "t = \"he sleep early\""
   ]
  },
  {
   "cell_type": "code",
   "execution_count": 17,
   "id": "1f6039b4-0dec-4c10-8283-97447cac1fb5",
   "metadata": {},
   "outputs": [],
   "source": [
    "t = t.upper()"
   ]
  },
  {
   "cell_type": "code",
   "execution_count": 18,
   "id": "75694398-ef6a-4358-b8e6-b9ef777c7d09",
   "metadata": {},
   "outputs": [
    {
     "data": {
      "text/plain": [
       "'HE SLEEP EARLY'"
      ]
     },
     "execution_count": 18,
     "metadata": {},
     "output_type": "execute_result"
    }
   ],
   "source": [
    "t"
   ]
  },
  {
   "cell_type": "code",
   "execution_count": 19,
   "id": "6368019b-61b9-44d6-b552-4a668bed2788",
   "metadata": {},
   "outputs": [
    {
     "data": {
      "text/plain": [
       "['H', 'E', ' ', 'S', 'L', 'E', 'E', 'P', ' ', 'E', 'A', 'R', 'L', 'Y']"
      ]
     },
     "execution_count": 19,
     "metadata": {},
     "output_type": "execute_result"
    }
   ],
   "source": [
    "list(t)"
   ]
  },
  {
   "cell_type": "code",
   "execution_count": 24,
   "id": "5a9c7f7e-0d97-4f00-bd02-a1f2d4b68fb6",
   "metadata": {},
   "outputs": [
    {
     "name": "stdout",
     "output_type": "stream",
     "text": [
      ".... .  ... .-.. . . .--.  . .- .-. .-.. -.--\n"
     ]
    }
   ],
   "source": [
    "plain = ''\n",
    "for i in t :\n",
    "    if i == ' ' :\n",
    "        plain += ''\n",
    "        #print(' ', end='')\n",
    "    else :\n",
    "        plain += mos_dict2[i]\n",
    "    plain += ' '\n",
    "        #print(mos_dict2[i], end=' ')\n",
    "\n",
    "print(plain.rstrip())"
   ]
  }
 ],
 "metadata": {
  "kernelspec": {
   "display_name": "Python 3 (ipykernel)",
   "language": "python",
   "name": "python3"
  },
  "language_info": {
   "codemirror_mode": {
    "name": "ipython",
    "version": 3
   },
   "file_extension": ".py",
   "mimetype": "text/x-python",
   "name": "python",
   "nbconvert_exporter": "python",
   "pygments_lexer": "ipython3",
   "version": "3.9.12"
  }
 },
 "nbformat": 4,
 "nbformat_minor": 5
}
