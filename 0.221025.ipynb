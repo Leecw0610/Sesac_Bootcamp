{
 "cells": [
  {
   "cell_type": "markdown",
   "id": "d2f9183a-b164-451e-b3b7-956f984f1b74",
   "metadata": {},
   "source": [
    "### 변수의 자료형"
   ]
  },
  {
   "cell_type": "code",
   "execution_count": 1,
   "id": "65a16632-5878-4162-bd56-2670d42b64a1",
   "metadata": {},
   "outputs": [],
   "source": [
    "x = 1"
   ]
  },
  {
   "cell_type": "code",
   "execution_count": 2,
   "id": "936a5385-3552-4aa8-ad2d-af215af07334",
   "metadata": {},
   "outputs": [
    {
     "data": {
      "text/plain": [
       "1"
      ]
     },
     "execution_count": 2,
     "metadata": {},
     "output_type": "execute_result"
    }
   ],
   "source": [
    "x"
   ]
  },
  {
   "cell_type": "code",
   "execution_count": 3,
   "id": "24304a8a-834f-4103-8b68-cbe628f0d718",
   "metadata": {},
   "outputs": [
    {
     "data": {
      "text/plain": [
       "int"
      ]
     },
     "execution_count": 3,
     "metadata": {},
     "output_type": "execute_result"
    }
   ],
   "source": [
    "type(x)"
   ]
  },
  {
   "cell_type": "code",
   "execution_count": 4,
   "id": "c0518cb3-4bfd-4f76-9a1e-7f4aa0fc4cda",
   "metadata": {},
   "outputs": [],
   "source": [
    "x = 1.0"
   ]
  },
  {
   "cell_type": "code",
   "execution_count": 5,
   "id": "c25e8f64-0d60-43c6-a04d-4b5dad2ab3a6",
   "metadata": {},
   "outputs": [
    {
     "data": {
      "text/plain": [
       "1.0"
      ]
     },
     "execution_count": 5,
     "metadata": {},
     "output_type": "execute_result"
    }
   ],
   "source": [
    "x"
   ]
  },
  {
   "cell_type": "code",
   "execution_count": 6,
   "id": "15dc5c16-7fdf-4a86-828b-dbbfedb6bbdc",
   "metadata": {},
   "outputs": [
    {
     "data": {
      "text/plain": [
       "float"
      ]
     },
     "execution_count": 6,
     "metadata": {},
     "output_type": "execute_result"
    }
   ],
   "source": [
    "type(x)"
   ]
  },
  {
   "cell_type": "code",
   "execution_count": 7,
   "id": "cfe8a21d-fdb6-4239-b1b0-e6fc69bbdfe0",
   "metadata": {},
   "outputs": [],
   "source": [
    "x ='1'"
   ]
  },
  {
   "cell_type": "code",
   "execution_count": 8,
   "id": "03419b4d-03fa-4c41-9ea6-20f3774cbb6b",
   "metadata": {},
   "outputs": [
    {
     "data": {
      "text/plain": [
       "str"
      ]
     },
     "execution_count": 8,
     "metadata": {},
     "output_type": "execute_result"
    }
   ],
   "source": [
    "type(x)"
   ]
  },
  {
   "cell_type": "code",
   "execution_count": 9,
   "id": "d8618d17-9ca9-4be8-92b3-a1bd8bac812a",
   "metadata": {},
   "outputs": [],
   "source": [
    "x =True"
   ]
  },
  {
   "cell_type": "code",
   "execution_count": 10,
   "id": "b5a24771-1f7a-48f2-895a-9b6aa448bc60",
   "metadata": {},
   "outputs": [
    {
     "data": {
      "text/plain": [
       "True"
      ]
     },
     "execution_count": 10,
     "metadata": {},
     "output_type": "execute_result"
    }
   ],
   "source": [
    "x"
   ]
  },
  {
   "cell_type": "code",
   "execution_count": 11,
   "id": "6f8f4371-6168-477e-9a23-110589721299",
   "metadata": {},
   "outputs": [
    {
     "data": {
      "text/plain": [
       "bool"
      ]
     },
     "execution_count": 11,
     "metadata": {},
     "output_type": "execute_result"
    }
   ],
   "source": [
    "type(x)"
   ]
  },
  {
   "cell_type": "code",
   "execution_count": 12,
   "id": "f7cc720c-8dc0-4ee4-8108-1251806331df",
   "metadata": {},
   "outputs": [],
   "source": [
    "x = str(1) # 숫자 1을 문자형으로!"
   ]
  },
  {
   "cell_type": "code",
   "execution_count": 13,
   "id": "ebede075-2001-4ac5-b2e7-2e0f70044fd6",
   "metadata": {},
   "outputs": [
    {
     "data": {
      "text/plain": [
       "'1'"
      ]
     },
     "execution_count": 13,
     "metadata": {},
     "output_type": "execute_result"
    }
   ],
   "source": [
    "x"
   ]
  },
  {
   "cell_type": "code",
   "execution_count": 1,
   "id": "4385e2e0-0353-4821-bc25-872f10d10989",
   "metadata": {},
   "outputs": [],
   "source": [
    "x = '1' # 숫자 1을 문자형으로 갖는 변수 'x'"
   ]
  },
  {
   "cell_type": "code",
   "execution_count": 15,
   "id": "df033df7-af8e-4619-adf1-afcc03b8cbba",
   "metadata": {},
   "outputs": [
    {
     "data": {
      "text/plain": [
       "1"
      ]
     },
     "execution_count": 15,
     "metadata": {},
     "output_type": "execute_result"
    }
   ],
   "source": [
    "int(x)"
   ]
  },
  {
   "cell_type": "code",
   "execution_count": 16,
   "id": "b8a462af-87db-48bb-949d-272f723b38ed",
   "metadata": {},
   "outputs": [],
   "source": [
    "x = None  # 아무것도 없다~ null값"
   ]
  },
  {
   "cell_type": "code",
   "execution_count": 17,
   "id": "8951589e-ce4d-4702-a096-66bc57d0b51b",
   "metadata": {},
   "outputs": [],
   "source": [
    "x"
   ]
  },
  {
   "cell_type": "markdown",
   "id": "4c42dcc0-fdf6-455f-a1cc-7bbcfb5f928f",
   "metadata": {},
   "source": [
    "### 리스트"
   ]
  },
  {
   "cell_type": "code",
   "execution_count": 18,
   "id": "f28b1d65-8f60-4862-b101-a46a06c8b855",
   "metadata": {},
   "outputs": [],
   "source": [
    "# 아무것도 없는 빈 리스트를 만드는 두가지 방법 1. 대괄호  2. 함수로 list()"
   ]
  },
  {
   "cell_type": "code",
   "execution_count": 19,
   "id": "ab3f1cc8-273c-467d-9bf5-8ca976212c2f",
   "metadata": {},
   "outputs": [],
   "source": [
    "list1 = list()"
   ]
  },
  {
   "cell_type": "code",
   "execution_count": 20,
   "id": "4e37ecdf-5387-4c3f-8efa-ef98df8d3464",
   "metadata": {},
   "outputs": [],
   "source": [
    "list1.insert(0, 'A') # insert (a,b)  index(a)의 위치에 b값을 넣는다."
   ]
  },
  {
   "cell_type": "code",
   "execution_count": 21,
   "id": "b898d107-8fbc-42f1-a5f9-6abaa717ed73",
   "metadata": {},
   "outputs": [
    {
     "data": {
      "text/plain": [
       "['A']"
      ]
     },
     "execution_count": 21,
     "metadata": {},
     "output_type": "execute_result"
    }
   ],
   "source": [
    "list1"
   ]
  },
  {
   "cell_type": "code",
   "execution_count": 22,
   "id": "909af37b-2446-4c42-9588-e8661e49ca20",
   "metadata": {},
   "outputs": [],
   "source": [
    "list1.append('B')"
   ]
  },
  {
   "cell_type": "code",
   "execution_count": 23,
   "id": "25d1f70e-3cfc-4b77-b631-575b438c5860",
   "metadata": {},
   "outputs": [
    {
     "data": {
      "text/plain": [
       "['A', 'B']"
      ]
     },
     "execution_count": 23,
     "metadata": {},
     "output_type": "execute_result"
    }
   ],
   "source": [
    "list1"
   ]
  },
  {
   "cell_type": "code",
   "execution_count": 24,
   "id": "a2acded5-f4a6-4764-918b-7bb597850592",
   "metadata": {},
   "outputs": [],
   "source": [
    "list2 = [i for i in range (0, 10)]"
   ]
  },
  {
   "cell_type": "code",
   "execution_count": 25,
   "id": "a55a9c6c-ab3d-43cc-9bce-8b47ce1d0d39",
   "metadata": {},
   "outputs": [
    {
     "data": {
      "text/plain": [
       "[0, 1, 2, 3, 4, 5, 6, 7, 8, 9]"
      ]
     },
     "execution_count": 25,
     "metadata": {},
     "output_type": "execute_result"
    }
   ],
   "source": [
    "list2"
   ]
  },
  {
   "cell_type": "code",
   "execution_count": 26,
   "id": "cc20bfd2-0519-4b53-ba1f-bc75f1cc0911",
   "metadata": {},
   "outputs": [
    {
     "data": {
      "text/plain": [
       "4"
      ]
     },
     "execution_count": 26,
     "metadata": {},
     "output_type": "execute_result"
    }
   ],
   "source": [
    "list2[4]"
   ]
  },
  {
   "cell_type": "code",
   "execution_count": 27,
   "id": "32cd8930-557b-4a4d-a2f0-c1a304c4dbe9",
   "metadata": {},
   "outputs": [
    {
     "data": {
      "text/plain": [
       "9"
      ]
     },
     "execution_count": 27,
     "metadata": {},
     "output_type": "execute_result"
    }
   ],
   "source": [
    "list2[-1]"
   ]
  },
  {
   "cell_type": "code",
   "execution_count": 28,
   "id": "e6d07fbb-af3a-4514-aa03-da4406955975",
   "metadata": {},
   "outputs": [
    {
     "data": {
      "text/plain": [
       "[1, 2, 3, 4]"
      ]
     },
     "execution_count": 28,
     "metadata": {},
     "output_type": "execute_result"
    }
   ],
   "source": [
    "list2[1:5]"
   ]
  },
  {
   "cell_type": "code",
   "execution_count": 29,
   "id": "b91d7ca6-557b-46fd-abd4-993024f59bca",
   "metadata": {},
   "outputs": [
    {
     "data": {
      "text/plain": [
       "[4, 5, 6, 7, 8]"
      ]
     },
     "execution_count": 29,
     "metadata": {},
     "output_type": "execute_result"
    }
   ],
   "source": [
    "list2[4:-1]"
   ]
  },
  {
   "cell_type": "code",
   "execution_count": 30,
   "id": "48b43baf-eb6a-4321-9805-6efeb3d08ba7",
   "metadata": {},
   "outputs": [
    {
     "data": {
      "text/plain": [
       "9"
      ]
     },
     "execution_count": 30,
     "metadata": {},
     "output_type": "execute_result"
    }
   ],
   "source": [
    "list2[-1]"
   ]
  },
  {
   "cell_type": "markdown",
   "id": "af1cf901-4f82-41a1-98e5-5011af4419ca",
   "metadata": {},
   "source": [
    "### 튜플"
   ]
  },
  {
   "cell_type": "code",
   "execution_count": 31,
   "id": "1c110893-1bfd-4072-9098-e402eb402889",
   "metadata": {},
   "outputs": [],
   "source": [
    "x = (1,2,3,4) #튜플은 수정 제외하고 다 가능!"
   ]
  },
  {
   "cell_type": "markdown",
   "id": "3d09521c-b951-439f-853d-4f0384627603",
   "metadata": {},
   "source": [
    "### 딕셔너리"
   ]
  },
  {
   "cell_type": "code",
   "execution_count": 32,
   "id": "45befcc9-9b40-49c0-b23c-66bdc3d2c1ea",
   "metadata": {},
   "outputs": [],
   "source": [
    "dict1= {}"
   ]
  },
  {
   "cell_type": "code",
   "execution_count": 33,
   "id": "df59849f-60f4-4700-b457-17529fc06552",
   "metadata": {},
   "outputs": [],
   "source": [
    "dict1 = dict()"
   ]
  },
  {
   "cell_type": "code",
   "execution_count": 34,
   "id": "d9943c2f-572a-4bf0-82db-dd323e6a5d90",
   "metadata": {},
   "outputs": [],
   "source": [
    "dict1 = {'name' : 'hojin'}"
   ]
  },
  {
   "cell_type": "code",
   "execution_count": 35,
   "id": "b885a091-2ae5-4a7b-bab0-40ab7903e993",
   "metadata": {},
   "outputs": [],
   "source": [
    "dict1['age'] = 20"
   ]
  },
  {
   "cell_type": "code",
   "execution_count": 36,
   "id": "a6f05cff-7fb5-4b0c-be78-20a2cc3eefb1",
   "metadata": {},
   "outputs": [],
   "source": [
    "dict1[1] = 1"
   ]
  },
  {
   "cell_type": "code",
   "execution_count": 37,
   "id": "536479e5-b8ea-4924-a308-d088905e05cd",
   "metadata": {},
   "outputs": [
    {
     "data": {
      "text/plain": [
       "{'name': 'hojin', 'age': 20, 1: 1}"
      ]
     },
     "execution_count": 37,
     "metadata": {},
     "output_type": "execute_result"
    }
   ],
   "source": [
    "dict1"
   ]
  },
  {
   "cell_type": "code",
   "execution_count": 38,
   "id": "14a12431-4cf4-44fb-b2a9-65321667cabf",
   "metadata": {},
   "outputs": [],
   "source": [
    "dict1[(1,2,3)] = 1"
   ]
  },
  {
   "cell_type": "code",
   "execution_count": 39,
   "id": "19eb9950-de49-4235-86e5-e8d48c9dbc06",
   "metadata": {},
   "outputs": [
    {
     "data": {
      "text/plain": [
       "{'name': 'hojin', 'age': 20, 1: 1, (1, 2, 3): 1}"
      ]
     },
     "execution_count": 39,
     "metadata": {},
     "output_type": "execute_result"
    }
   ],
   "source": [
    "dict1"
   ]
  },
  {
   "cell_type": "markdown",
   "id": "3ab21eb8-c7dd-4dc6-bb07-bb2c20663a3f",
   "metadata": {},
   "source": [
    "### 조건문 (if, for)"
   ]
  },
  {
   "cell_type": "markdown",
   "id": "70e4b94b-4bd4-4d7a-ba9b-1f5b0b5955c2",
   "metadata": {},
   "source": [
    "##### if 조건문1 :\n",
    "       구문 1\n",
    "      elif 조건문2 :\n",
    "       구문2\n",
    "      elif 조건문3 :\n",
    "       구문3\n",
    "      else :\n",
    "       구문4"
   ]
  },
  {
   "cell_type": "code",
   "execution_count": 40,
   "id": "0734ba60-3682-4004-829e-d2ca51ee3d68",
   "metadata": {},
   "outputs": [
    {
     "name": "stdout",
     "output_type": "stream",
     "text": [
      "World\n"
     ]
    }
   ],
   "source": [
    "if False:\n",
    "    print('Hello')\n",
    "    \n",
    "print('World')\n",
    "# indent 구분 확실히!!"
   ]
  },
  {
   "cell_type": "code",
   "execution_count": 41,
   "id": "32d2cd70-b4e2-4f6d-b2d0-aec613917a83",
   "metadata": {},
   "outputs": [],
   "source": [
    "num = 4"
   ]
  },
  {
   "cell_type": "code",
   "execution_count": 42,
   "id": "4b1f3462-9fe6-4bc7-9fa0-79ea8cc41758",
   "metadata": {},
   "outputs": [
    {
     "name": "stdout",
     "output_type": "stream",
     "text": [
      "짝수\n"
     ]
    }
   ],
   "source": [
    "if num %2  == 0 :\n",
    "    print('짝수')\n",
    "else :\n",
    "    print('홀수')"
   ]
  },
  {
   "cell_type": "markdown",
   "id": "5f337fc2-8528-480a-8521-0181e011953a",
   "metadata": {},
   "source": [
    "##### for 변수 in 반복될 대상 :\n",
    "        구문"
   ]
  },
  {
   "cell_type": "code",
   "execution_count": 43,
   "id": "e1d796c1-4a17-49fc-910a-d903e300f5cf",
   "metadata": {},
   "outputs": [
    {
     "data": {
      "text/plain": [
       "[0, 1, 2, 3, 4, 5, 6, 7, 8, 9]"
      ]
     },
     "execution_count": 43,
     "metadata": {},
     "output_type": "execute_result"
    }
   ],
   "source": [
    "list(range(0,10))"
   ]
  },
  {
   "cell_type": "code",
   "execution_count": 44,
   "id": "c2c8dd0f-2f05-4a4a-80b5-12433f3c2fd5",
   "metadata": {},
   "outputs": [
    {
     "data": {
      "text/plain": [
       "[0, 2, 4, 6, 8]"
      ]
     },
     "execution_count": 44,
     "metadata": {},
     "output_type": "execute_result"
    }
   ],
   "source": [
    "list(range(0,10,2))"
   ]
  },
  {
   "cell_type": "code",
   "execution_count": 45,
   "id": "ea549aba-c64d-4ab3-b8e7-73ebff51beca",
   "metadata": {},
   "outputs": [
    {
     "name": "stdout",
     "output_type": "stream",
     "text": [
      "0\n",
      "1\n",
      "2\n",
      "3\n",
      "4\n",
      "5\n",
      "6\n",
      "7\n",
      "8\n",
      "9\n"
     ]
    }
   ],
   "source": [
    "for i in range(10) :\n",
    "    print(i)"
   ]
  },
  {
   "cell_type": "code",
   "execution_count": 46,
   "id": "6f6be155-f1e9-4707-9117-fbaf654b0b5a",
   "metadata": {},
   "outputs": [
    {
     "name": "stdout",
     "output_type": "stream",
     "text": [
      "i: 2 j: 1\n",
      "i: 2 j: 2\n",
      "i: 2 j: 3\n",
      "i: 2 j: 4\n",
      "i: 2 j: 5\n",
      "i: 2 j: 6\n",
      "i: 2 j: 7\n",
      "i: 2 j: 8\n",
      "i: 2 j: 9\n",
      "i: 3 j: 1\n",
      "i: 3 j: 2\n",
      "i: 3 j: 3\n",
      "i: 3 j: 4\n",
      "i: 3 j: 5\n",
      "i: 3 j: 6\n",
      "i: 3 j: 7\n",
      "i: 3 j: 8\n",
      "i: 3 j: 9\n",
      "i: 4 j: 1\n",
      "i: 4 j: 2\n",
      "i: 4 j: 3\n",
      "i: 4 j: 4\n",
      "i: 4 j: 5\n",
      "i: 4 j: 6\n",
      "i: 4 j: 7\n",
      "i: 4 j: 8\n",
      "i: 4 j: 9\n",
      "i: 5 j: 1\n",
      "i: 5 j: 2\n",
      "i: 5 j: 3\n",
      "i: 5 j: 4\n",
      "i: 5 j: 5\n",
      "i: 5 j: 6\n",
      "i: 5 j: 7\n",
      "i: 5 j: 8\n",
      "i: 5 j: 9\n",
      "i: 6 j: 1\n",
      "i: 6 j: 2\n",
      "i: 6 j: 3\n",
      "i: 6 j: 4\n",
      "i: 6 j: 5\n",
      "i: 6 j: 6\n",
      "i: 6 j: 7\n",
      "i: 6 j: 8\n",
      "i: 6 j: 9\n",
      "i: 7 j: 1\n",
      "i: 7 j: 2\n",
      "i: 7 j: 3\n",
      "i: 7 j: 4\n",
      "i: 7 j: 5\n",
      "i: 7 j: 6\n",
      "i: 7 j: 7\n",
      "i: 7 j: 8\n",
      "i: 7 j: 9\n",
      "i: 8 j: 1\n",
      "i: 8 j: 2\n",
      "i: 8 j: 3\n",
      "i: 8 j: 4\n",
      "i: 8 j: 5\n",
      "i: 8 j: 6\n",
      "i: 8 j: 7\n",
      "i: 8 j: 8\n",
      "i: 8 j: 9\n",
      "i: 9 j: 1\n",
      "i: 9 j: 2\n",
      "i: 9 j: 3\n",
      "i: 9 j: 4\n",
      "i: 9 j: 5\n",
      "i: 9 j: 6\n",
      "i: 9 j: 7\n",
      "i: 9 j: 8\n",
      "i: 9 j: 9\n"
     ]
    }
   ],
   "source": [
    "for i in range (2,10) :\n",
    "    for j in range (1,10) :\n",
    "        print ( 'i:', i , 'j:', j)"
   ]
  },
  {
   "cell_type": "markdown",
   "id": "86326364-cae7-4b67-aa7d-5bb1b3f09c21",
   "metadata": {},
   "source": [
    "### 함수"
   ]
  },
  {
   "cell_type": "markdown",
   "id": "5da87354-65b8-4f45-8b5f-2daebdc31ac7",
   "metadata": {},
   "source": [
    "##### def func1() :\n",
    "        구문1\n",
    "        return"
   ]
  },
  {
   "cell_type": "raw",
   "id": "1e426038-abc9-4bec-98f2-efc0ffddfebe",
   "metadata": {},
   "source": [
    "매개변수와 return의 존재 유무에 따른 함수의 종류 4가지 !! 기억할것"
   ]
  },
  {
   "cell_type": "code",
   "execution_count": 48,
   "id": "3ffce81c-a264-4981-a876-4e22739a2d1a",
   "metadata": {},
   "outputs": [],
   "source": [
    "def fun5(*args) :\n",
    "    return args       \n",
    "#계산기"
   ]
  },
  {
   "cell_type": "code",
   "execution_count": 49,
   "id": "52677050-a79e-4db8-b441-d8bb9c49395f",
   "metadata": {},
   "outputs": [],
   "source": [
    "def calc(oper , *args) :\n",
    "    if oper == '+' :\n",
    "        ret= 0\n",
    "        for i in args :\n",
    "            ret += i\n",
    "    return ret"
   ]
  },
  {
   "cell_type": "code",
   "execution_count": 50,
   "id": "f52a00d8-3e84-4cad-b84f-bb741e911695",
   "metadata": {},
   "outputs": [
    {
     "data": {
      "text/plain": [
       "3"
      ]
     },
     "execution_count": 50,
     "metadata": {},
     "output_type": "execute_result"
    }
   ],
   "source": [
    "calc ('+' , 1, 2)"
   ]
  },
  {
   "cell_type": "code",
   "execution_count": 2,
   "id": "71bceb20-61b6-44c6-a67b-5ed10036e366",
   "metadata": {},
   "outputs": [],
   "source": [
    "def fun6(**kwargs) :\n",
    "    print(kwargs.keys())\n",
    "    for key in kwargs.keys():\n",
    "        print(key, kwargs[key])\n",
    "    return kwargs"
   ]
  },
  {
   "cell_type": "code",
   "execution_count": 3,
   "id": "7ec67c0c-d99b-4f93-b19b-2039eefeafc7",
   "metadata": {},
   "outputs": [
    {
     "name": "stdout",
     "output_type": "stream",
     "text": [
      "dict_keys(['name', 'age'])\n",
      "name hojin\n",
      "age 20\n"
     ]
    },
    {
     "data": {
      "text/plain": [
       "{'name': 'hojin', 'age': 20}"
      ]
     },
     "execution_count": 3,
     "metadata": {},
     "output_type": "execute_result"
    }
   ],
   "source": [
    "fun6(name = 'hojin' , age = 20)"
   ]
  },
  {
   "cell_type": "markdown",
   "id": "dd731d12-4bed-45e8-8410-906811bca56c",
   "metadata": {},
   "source": [
    "### 프린트 함수 배우기"
   ]
  },
  {
   "cell_type": "code",
   "execution_count": 53,
   "id": "3c21c6a1-9331-4fd1-ae21-f017d2e10405",
   "metadata": {},
   "outputs": [
    {
     "name": "stdout",
     "output_type": "stream",
     "text": [
      "문자열\n"
     ]
    }
   ],
   "source": [
    "print('문자열', sep=' ', end='\\n') # sep ; 자동 띄어쓰기, end ; 끝맺음 방법\n",
    "                                    #'\\n' : 줄 바꿈"
   ]
  },
  {
   "cell_type": "code",
   "execution_count": 54,
   "id": "c4d0e420-d800-46de-9824-1492633ba7ab",
   "metadata": {},
   "outputs": [
    {
     "name": "stdout",
     "output_type": "stream",
     "text": [
      "Hello World\n",
      "Hi Python\n"
     ]
    }
   ],
   "source": [
    "print('Hello', 'World')\n",
    "print('Hi', 'Python')"
   ]
  },
  {
   "cell_type": "code",
   "execution_count": 55,
   "id": "7a0d0314-64fc-4e66-b182-d300ebccf673",
   "metadata": {},
   "outputs": [
    {
     "name": "stdout",
     "output_type": "stream",
     "text": [
      "Hello|World\n"
     ]
    }
   ],
   "source": [
    "print('Hello', 'World', sep = '|')"
   ]
  },
  {
   "cell_type": "markdown",
   "id": "d9af329c-0c43-4e81-864f-b3ca55830144",
   "metadata": {},
   "source": [
    "#### 프린트 함수의 다른 유형"
   ]
  },
  {
   "cell_type": "markdown",
   "id": "5ab9bb9e-3a56-416b-9e39-c8f75adf54c9",
   "metadata": {},
   "source": [
    "##### print('{0},{1}'.format(value1, vaue2))"
   ]
  },
  {
   "cell_type": "code",
   "execution_count": 56,
   "id": "d08127b1-4c59-4c6f-879e-f818668e3873",
   "metadata": {},
   "outputs": [
    {
     "name": "stdout",
     "output_type": "stream",
     "text": [
      "This is apple. That is banana\n"
     ]
    }
   ],
   "source": [
    "print ('This is {}. That is {}'.format('apple','banana'))"
   ]
  },
  {
   "cell_type": "code",
   "execution_count": 57,
   "id": "bb2329bf-0c49-48c4-b338-399cdf526365",
   "metadata": {},
   "outputs": [
    {
     "name": "stdout",
     "output_type": "stream",
     "text": [
      "This is banana. That is apple\n"
     ]
    }
   ],
   "source": [
    "print ('This is {1}. That is {0}'.format('apple','banana')) #숫자를 기입하여 순서를 바꿀 수도 있다."
   ]
  },
  {
   "cell_type": "code",
   "execution_count": 58,
   "id": "635d8bd3-7382-40df-8087-75706d7b5f30",
   "metadata": {},
   "outputs": [],
   "source": [
    "a = 'apple'\n",
    "b = 'banana'"
   ]
  },
  {
   "cell_type": "code",
   "execution_count": 61,
   "id": "5517f1dd-2b89-4767-840e-12e4cc708521",
   "metadata": {},
   "outputs": [
    {
     "name": "stdout",
     "output_type": "stream",
     "text": [
      "This is apple. That is banana\n"
     ]
    }
   ],
   "source": [
    "print('This is {}. That is {}'.format(a,b)) # format안에 변수를 넣는 것도 가능!"
   ]
  },
  {
   "cell_type": "code",
   "execution_count": 4,
   "id": "e1893c2f-6a25-44f3-b40d-b0e5c23aa31d",
   "metadata": {},
   "outputs": [
    {
     "name": "stdout",
     "output_type": "stream",
     "text": [
      "This is apple. That is banana\n"
     ]
    }
   ],
   "source": [
    "print('This is {fruit1}. That is {fruit2}'.format(fruit1 = 'apple' , fruit2 = 'banana')) # 함수에서 매개변수 값 주는 것과 유사 "
   ]
  },
  {
   "cell_type": "code",
   "execution_count": 64,
   "id": "b8fed1fe-8250-454e-863a-9a8c772763b6",
   "metadata": {},
   "outputs": [
    {
     "name": "stdout",
     "output_type": "stream",
     "text": [
      "This is 123.457\n"
     ]
    }
   ],
   "source": [
    "print('This is {:0.3f}'.format(123.45678)) #0.3f 는 소수점 세자리까지 표기"
   ]
  },
  {
   "cell_type": "code",
   "execution_count": 65,
   "id": "40e48d63-a3e7-4051-96c2-9ff5d7eb7dc5",
   "metadata": {},
   "outputs": [
    {
     "name": "stdout",
     "output_type": "stream",
     "text": [
      "This is 123.4567800000\n"
     ]
    }
   ],
   "source": [
    "print('This is {0:0.10f}'.format(123.45678)) #0.3f 는 소수점 세자리까지 표기 #float"
   ]
  },
  {
   "cell_type": "code",
   "execution_count": 66,
   "id": "fc4381c5-c5e2-47d2-b664-2b2c0bb8de72",
   "metadata": {},
   "outputs": [
    {
     "name": "stdout",
     "output_type": "stream",
     "text": [
      "This is 012\n"
     ]
    }
   ],
   "source": [
    "print('This is {:03d}'.format(12)) #03d 는 세자리를 채워라~ #d는 정수"
   ]
  },
  {
   "cell_type": "code",
   "execution_count": 67,
   "id": "ee8bd85e-7665-4838-9f07-baeb899be206",
   "metadata": {},
   "outputs": [
    {
     "name": "stdout",
     "output_type": "stream",
     "text": [
      "This is 1234\n"
     ]
    }
   ],
   "source": [
    "print('This is {0:03d}'.format(1234))"
   ]
  },
  {
   "cell_type": "markdown",
   "id": "a3150b20-30c3-419d-9667-aa93d9e9f96e",
   "metadata": {},
   "source": [
    "##### 포맷팅\n",
    "- %s : 문자열\n",
    "- %d : 정수\n",
    "- %f : 실수\n",
    "\n",
    "- %o : 8진수\n",
    "- %x : 16진수"
   ]
  },
  {
   "cell_type": "code",
   "execution_count": 5,
   "id": "fbc58f2a-b2e1-4c8e-8c2e-825417e62e74",
   "metadata": {},
   "outputs": [
    {
     "name": "stdout",
     "output_type": "stream",
     "text": [
      "This is apple\n"
     ]
    }
   ],
   "source": [
    "print(f'This is %s'  %'apple')"
   ]
  },
  {
   "cell_type": "code",
   "execution_count": 6,
   "id": "d9cd14c5-a1cd-4a0d-b8da-957381b55ef0",
   "metadata": {},
   "outputs": [
    {
     "name": "stdout",
     "output_type": "stream",
     "text": [
      "This is apple. That is banana\n"
     ]
    }
   ],
   "source": [
    "print(f'This is %s. That is %s'    %('apple','banana'))"
   ]
  },
  {
   "cell_type": "code",
   "execution_count": 71,
   "id": "9e856f51-2de9-4eed-a890-b0ad61b48b43",
   "metadata": {},
   "outputs": [
    {
     "name": "stdout",
     "output_type": "stream",
     "text": [
      "The value is 1\n"
     ]
    }
   ],
   "source": [
    "print(f'The value is %d' %1)"
   ]
  },
  {
   "cell_type": "code",
   "execution_count": 73,
   "id": "d34ecc22-20bc-48a7-ae84-1ee620531cc5",
   "metadata": {},
   "outputs": [
    {
     "name": "stdout",
     "output_type": "stream",
     "text": [
      "The value is 00001\n"
     ]
    }
   ],
   "source": [
    "print(f'The value is %05d' %1) # 5자리로 만들어라!"
   ]
  },
  {
   "cell_type": "code",
   "execution_count": 10,
   "id": "fda7fa84-7d80-4381-8e83-82484597e130",
   "metadata": {},
   "outputs": [
    {
     "name": "stdout",
     "output_type": "stream",
     "text": [
      "2 * 1 =  2\n",
      "2 * 2 =  4\n",
      "2 * 3 =  6\n",
      "2 * 4 =  8\n",
      "2 * 5 = 10\n",
      "2 * 6 = 12\n",
      "2 * 7 = 14\n",
      "2 * 8 = 16\n",
      "2 * 9 = 18\n",
      "3 * 1 =  3\n",
      "3 * 2 =  6\n",
      "3 * 3 =  9\n",
      "3 * 4 = 12\n",
      "3 * 5 = 15\n",
      "3 * 6 = 18\n",
      "3 * 7 = 21\n",
      "3 * 8 = 24\n",
      "3 * 9 = 27\n",
      "4 * 1 =  4\n",
      "4 * 2 =  8\n",
      "4 * 3 = 12\n",
      "4 * 4 = 16\n",
      "4 * 5 = 20\n",
      "4 * 6 = 24\n",
      "4 * 7 = 28\n",
      "4 * 8 = 32\n",
      "4 * 9 = 36\n",
      "5 * 1 =  5\n",
      "5 * 2 = 10\n",
      "5 * 3 = 15\n",
      "5 * 4 = 20\n",
      "5 * 5 = 25\n",
      "5 * 6 = 30\n",
      "5 * 7 = 35\n",
      "5 * 8 = 40\n",
      "5 * 9 = 45\n",
      "6 * 1 =  6\n",
      "6 * 2 = 12\n",
      "6 * 3 = 18\n",
      "6 * 4 = 24\n",
      "6 * 5 = 30\n",
      "6 * 6 = 36\n",
      "6 * 7 = 42\n",
      "6 * 8 = 48\n",
      "6 * 9 = 54\n",
      "7 * 1 =  7\n",
      "7 * 2 = 14\n",
      "7 * 3 = 21\n",
      "7 * 4 = 28\n",
      "7 * 5 = 35\n",
      "7 * 6 = 42\n",
      "7 * 7 = 49\n",
      "7 * 8 = 56\n",
      "7 * 9 = 63\n",
      "8 * 1 =  8\n",
      "8 * 2 = 16\n",
      "8 * 3 = 24\n",
      "8 * 4 = 32\n",
      "8 * 5 = 40\n",
      "8 * 6 = 48\n",
      "8 * 7 = 56\n",
      "8 * 8 = 64\n",
      "8 * 9 = 72\n",
      "9 * 1 =  9\n",
      "9 * 2 = 18\n",
      "9 * 3 = 27\n",
      "9 * 4 = 36\n",
      "9 * 5 = 45\n",
      "9 * 6 = 54\n",
      "9 * 7 = 63\n",
      "9 * 8 = 72\n",
      "9 * 9 = 81\n"
     ]
    }
   ],
   "source": [
    "for i in range (2,10):           #구구단 반복문의 출력값을 깔끔하게!\n",
    "    for j in range (1,10):\n",
    "        print (f'%d * %d = %2d'%(i,j,i*j))"
   ]
  },
  {
   "cell_type": "code",
   "execution_count": 77,
   "id": "5441cb7c-90e2-4be9-824f-58517ce86626",
   "metadata": {},
   "outputs": [
    {
     "name": "stdout",
     "output_type": "stream",
     "text": [
      "The value is 123.457\n"
     ]
    }
   ],
   "source": [
    "print(f'The value is %.3f'%123.456789)"
   ]
  },
  {
   "cell_type": "markdown",
   "id": "0fa27a93-1b41-4e5c-91f9-31719eec035d",
   "metadata": {},
   "source": [
    "- 2진수 : 0, 1\n",
    "- 8진수 : 0 ~ 7\n",
    "- 10진수 : 0 ~ 9\n",
    "- 16진수 : 0 ~ 9 , a ~ f"
   ]
  },
  {
   "cell_type": "raw",
   "id": "d3f35b57-6734-4db5-bc58-5c59f2943824",
   "metadata": {},
   "source": [
    "2진수  : 0 1 10 11 100 101 110 111\n",
    "10진수 : 0 1 2  3  4   5   6   7"
   ]
  },
  {
   "cell_type": "raw",
   "id": "613f2904-c166-4f35-ba0d-0b98fbd74b1a",
   "metadata": {},
   "source": [
    "8진수 :  0 1 2 3 4 5 6 7 10 11 12 13 14 15 16 17 20\n",
    "10진수 : 0 1 2 3 4 5 6 7 8  9  10 11 12 13 14 15 16 17 18 \n",
    "16진수 : 0 1 2 3 4 5 6 7 8  9  a  b  c  d  e  f  10"
   ]
  },
  {
   "cell_type": "code",
   "execution_count": 78,
   "id": "24d46ca7-da56-4651-94cf-dfb45bd1f603",
   "metadata": {},
   "outputs": [
    {
     "name": "stdout",
     "output_type": "stream",
     "text": [
      "The value is 0\n",
      "The value is 1\n",
      "The value is 2\n",
      "The value is 3\n",
      "The value is 4\n",
      "The value is 5\n",
      "The value is 6\n",
      "The value is 7\n",
      "The value is 10\n",
      "The value is 11\n"
     ]
    }
   ],
   "source": [
    "for i in range(10) :\n",
    "    print (f'The value is %o'%i)"
   ]
  },
  {
   "cell_type": "raw",
   "id": "855455a0-cb8b-4a36-98a8-0a08bb6404e7",
   "metadata": {},
   "source": [
    "홈페이지 색작업 시, 색상분류가 16진수로 이루어져 있기 떄문에, 16진수 자주 활용."
   ]
  },
  {
   "cell_type": "code",
   "execution_count": 80,
   "id": "e5f95e68-5cbe-4c82-9399-9730b0f8f997",
   "metadata": {},
   "outputs": [
    {
     "name": "stdout",
     "output_type": "stream",
     "text": [
      "The value is 0\n",
      "The value is 1\n",
      "The value is 2\n",
      "The value is 3\n",
      "The value is 4\n",
      "The value is 5\n",
      "The value is 6\n",
      "The value is 7\n",
      "The value is 8\n",
      "The value is 9\n",
      "The value is a\n",
      "The value is b\n",
      "The value is c\n",
      "The value is d\n",
      "The value is e\n",
      "The value is f\n",
      "The value is 10\n",
      "The value is 11\n"
     ]
    }
   ],
   "source": [
    "for i in range(18) :\n",
    "    print(f'The value is %x'%i)"
   ]
  },
  {
   "cell_type": "code",
   "execution_count": 83,
   "id": "e092b510-7e24-4dc3-b277-5ff8dcaa3e9e",
   "metadata": {},
   "outputs": [
    {
     "name": "stdout",
     "output_type": "stream",
     "text": [
      "90.0%\n"
     ]
    }
   ],
   "source": [
    "print(f'%0.1f%%'%90) # %표현하고자 할 때 %%로!"
   ]
  },
  {
   "cell_type": "code",
   "execution_count": null,
   "id": "735ee9dd-bc25-4da2-9b00-ba6f2ecab458",
   "metadata": {},
   "outputs": [],
   "source": []
  }
 ],
 "metadata": {
  "kernelspec": {
   "display_name": "Python 3 (ipykernel)",
   "language": "python",
   "name": "python3"
  },
  "language_info": {
   "codemirror_mode": {
    "name": "ipython",
    "version": 3
   },
   "file_extension": ".py",
   "mimetype": "text/x-python",
   "name": "python",
   "nbconvert_exporter": "python",
   "pygments_lexer": "ipython3",
   "version": "3.9.13"
  }
 },
 "nbformat": 4,
 "nbformat_minor": 5
}
