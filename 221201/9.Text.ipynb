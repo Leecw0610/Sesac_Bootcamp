{
 "cells": [
  {
   "cell_type": "code",
   "execution_count": 2,
   "id": "a82f70d1-0dae-4540-857d-7dbc8c3dbdc6",
   "metadata": {},
   "outputs": [],
   "source": [
    "docs = [\"the cat in the hat\", \"the cow jumped over the moon\", \"the cat mooed and the cow meowed\",\n",
    "        \"the cat said to the cow cow you are not a cat\"]"
   ]
  },
  {
   "cell_type": "code",
   "execution_count": 17,
   "id": "f262dc2c-bedb-4fea-8b27-3f7f6d1b0c8f",
   "metadata": {},
   "outputs": [
    {
     "name": "stdout",
     "output_type": "stream",
     "text": [
      "['t']\n",
      "['t']\n",
      "['t']\n",
      "['t']\n"
     ]
    }
   ],
   "source": [
    "docs "
   ]
  },
  {
   "cell_type": "code",
   "execution_count": 10,
   "id": "8d8151c1-a22c-4e85-abad-ba3663bce9dc",
   "metadata": {},
   "outputs": [
    {
     "data": {
      "text/plain": [
       "['the',\n",
       " 'cat',\n",
       " 'said',\n",
       " 'to',\n",
       " 'the',\n",
       " 'cow',\n",
       " 'cow',\n",
       " 'you',\n",
       " 'are',\n",
       " 'not',\n",
       " 'a',\n",
       " 'cat']"
      ]
     },
     "execution_count": 10,
     "metadata": {},
     "output_type": "execute_result"
    }
   ],
   "source": [
    "sen.split(' ')"
   ]
  },
  {
   "cell_type": "code",
   "execution_count": 22,
   "id": "27a8d69a-68e1-46a6-9b2c-69aa3a3741b7",
   "metadata": {},
   "outputs": [],
   "source": [
    "for i in range (3) :\n",
    "    temp=[]\n",
    "    word=docs[i].split()\n",
    "    temp.append(word)"
   ]
  },
  {
   "cell_type": "code",
   "execution_count": 23,
   "id": "3d546e39-9a47-4326-896c-b1cd45062d44",
   "metadata": {},
   "outputs": [
    {
     "data": {
      "text/plain": [
       "['the', 'cat', 'mooed', 'and', 'the', 'cow', 'meowed']"
      ]
     },
     "execution_count": 23,
     "metadata": {},
     "output_type": "execute_result"
    }
   ],
   "source": [
    "word"
   ]
  },
  {
   "cell_type": "code",
   "execution_count": 24,
   "id": "0ee21170-ff25-4f72-b819-654dfb65f173",
   "metadata": {},
   "outputs": [
    {
     "data": {
      "text/plain": [
       "[['the', 'cat', 'mooed', 'and', 'the', 'cow', 'meowed']]"
      ]
     },
     "execution_count": 24,
     "metadata": {},
     "output_type": "execute_result"
    }
   ],
   "source": [
    "temp"
   ]
  },
  {
   "cell_type": "code",
   "execution_count": 25,
   "id": "c002fa28-27ce-4c20-a8fc-b30ab0163a25",
   "metadata": {},
   "outputs": [
    {
     "data": {
      "text/plain": [
       "'the cat in the hat'"
      ]
     },
     "execution_count": 25,
     "metadata": {},
     "output_type": "execute_result"
    }
   ],
   "source": [
    "docs[0]"
   ]
  },
  {
   "cell_type": "code",
   "execution_count": 26,
   "id": "dbb1694c-37a4-4874-a05f-5469d242cd27",
   "metadata": {},
   "outputs": [
    {
     "data": {
      "text/plain": [
       "'the cow jumped over the moon'"
      ]
     },
     "execution_count": 26,
     "metadata": {},
     "output_type": "execute_result"
    }
   ],
   "source": [
    "docs[1]"
   ]
  },
  {
   "cell_type": "code",
   "execution_count": 32,
   "id": "65560801-f39c-4ec7-b0e2-3561b28352e1",
   "metadata": {},
   "outputs": [
    {
     "data": {
      "text/plain": [
       "17"
      ]
     },
     "execution_count": 32,
     "metadata": {},
     "output_type": "execute_result"
    }
   ],
   "source": [
    "len(set(' '.join(docs).split()))"
   ]
  },
  {
   "cell_type": "code",
   "execution_count": 38,
   "id": "56590b8c-6cca-43d6-9b9e-615252c4d05b",
   "metadata": {},
   "outputs": [],
   "source": [
    "vvocabulary = set(' '.join(docs).split())"
   ]
  },
  {
   "cell_type": "code",
   "execution_count": 53,
   "id": "dcf5052a-6da1-4c53-9721-069f18cd32d8",
   "metadata": {},
   "outputs": [
    {
     "data": {
      "text/plain": [
       "{'a',\n",
       " 'and',\n",
       " 'are',\n",
       " 'cat',\n",
       " 'cow',\n",
       " 'hat',\n",
       " 'in',\n",
       " 'jumped',\n",
       " 'meowed',\n",
       " 'mooed',\n",
       " 'moon',\n",
       " 'not',\n",
       " 'over',\n",
       " 'said',\n",
       " 'the',\n",
       " 'to',\n",
       " 'you'}"
      ]
     },
     "execution_count": 53,
     "metadata": {},
     "output_type": "execute_result"
    }
   ],
   "source": [
    "vvocabulary"
   ]
  },
  {
   "cell_type": "code",
   "execution_count": 54,
   "id": "de6d0164-0aa4-4c3e-b0c7-9f7639104ffc",
   "metadata": {},
   "outputs": [],
   "source": [
    "common_words=set(['a','to','the','in','and','are'])"
   ]
  },
  {
   "cell_type": "code",
   "execution_count": 55,
   "id": "1d1df62d-4ad1-4abd-8e2f-7b576881c2e3",
   "metadata": {},
   "outputs": [],
   "source": [
    "vocabulary=vvocabulary - common_words"
   ]
  },
  {
   "cell_type": "code",
   "execution_count": 56,
   "id": "19f4fcfd-9540-48a1-8fd8-7039c1b43043",
   "metadata": {},
   "outputs": [
    {
     "data": {
      "text/plain": [
       "{'cat',\n",
       " 'cow',\n",
       " 'hat',\n",
       " 'jumped',\n",
       " 'meowed',\n",
       " 'mooed',\n",
       " 'moon',\n",
       " 'not',\n",
       " 'over',\n",
       " 'said',\n",
       " 'you'}"
      ]
     },
     "execution_count": 56,
     "metadata": {},
     "output_type": "execute_result"
    }
   ],
   "source": [
    "vocabulary"
   ]
  },
  {
   "cell_type": "code",
   "execution_count": 75,
   "id": "1e0e7dc4-4b8b-4eb9-9c64-fda6be07bf7a",
   "metadata": {},
   "outputs": [
    {
     "data": {
      "text/plain": [
       "True"
      ]
     },
     "execution_count": 75,
     "metadata": {},
     "output_type": "execute_result"
    }
   ],
   "source": [
    "'cat' in docs[0]"
   ]
  },
  {
   "cell_type": "code",
   "execution_count": 78,
   "id": "ded8b4d9-1de5-4a57-8458-48f084d201de",
   "metadata": {},
   "outputs": [
    {
     "name": "stdout",
     "output_type": "stream",
     "text": [
      "False\n",
      "False\n",
      "False\n",
      "False\n",
      "False\n"
     ]
    }
   ],
   "source": [
    "for word in docs[0].split() :\n",
    "    #print(word)\n",
    "    if word == vocabulary :\n",
    "        print(True)\n",
    "    else :\n",
    "        print(False)"
   ]
  },
  {
   "cell_type": "code",
   "execution_count": 89,
   "id": "397e2b88-0660-430c-8165-858378d921ae",
   "metadata": {},
   "outputs": [
    {
     "data": {
      "text/plain": [
       "'cat'"
      ]
     },
     "execution_count": 89,
     "metadata": {},
     "output_type": "execute_result"
    }
   ],
   "source": [
    "doc"
   ]
  },
  {
   "cell_type": "code",
   "execution_count": 88,
   "id": "1af8a3de-d19d-4be4-b1d6-3672ec8224b2",
   "metadata": {},
   "outputs": [
    {
     "data": {
      "text/plain": [
       "['cat']"
      ]
     },
     "execution_count": 88,
     "metadata": {},
     "output_type": "execute_result"
    }
   ],
   "source": [
    "doc.split()"
   ]
  },
  {
   "cell_type": "code",
   "execution_count": null,
   "id": "e19847cc-a6ed-46b4-b336-aca8716c5435",
   "metadata": {},
   "outputs": [],
   "source": []
  },
  {
   "cell_type": "code",
   "execution_count": 92,
   "id": "58f08152-647b-4307-a3f5-4cd212d345e5",
   "metadata": {},
   "outputs": [
    {
     "data": {
      "text/plain": [
       "'the cat in the hat'"
      ]
     },
     "execution_count": 92,
     "metadata": {},
     "output_type": "execute_result"
    }
   ],
   "source": [
    "docs[0]"
   ]
  },
  {
   "cell_type": "code",
   "execution_count": 94,
   "id": "05a7d2de-5680-42f8-ae90-ccb4e3f73f43",
   "metadata": {},
   "outputs": [
    {
     "name": "stdout",
     "output_type": "stream",
     "text": [
      "not False\n",
      "jumped False\n",
      "you False\n",
      "cow False\n",
      "hat True\n",
      "over False\n",
      "said False\n",
      "moon False\n",
      "mooed False\n",
      "cat True\n",
      "meowed False\n",
      "not False\n",
      "jumped True\n",
      "you False\n",
      "cow True\n",
      "hat False\n",
      "over True\n",
      "said False\n",
      "moon True\n",
      "mooed False\n",
      "cat False\n",
      "meowed False\n",
      "not False\n",
      "jumped False\n",
      "you False\n",
      "cow True\n",
      "hat False\n",
      "over False\n",
      "said False\n",
      "moon False\n",
      "mooed True\n",
      "cat True\n",
      "meowed True\n",
      "not True\n",
      "jumped False\n",
      "you True\n",
      "cow True\n",
      "hat False\n",
      "over False\n",
      "said True\n",
      "moon False\n",
      "mooed False\n",
      "cat True\n",
      "meowed False\n"
     ]
    }
   ],
   "source": [
    "for doc in docs :\n",
    "    #print(doc)\n",
    "    dict={}\n",
    "    for v in vocabulary :\n",
    "        print(v, v in doc)\n",
    "        #dict[v]=dict\n"
   ]
  },
  {
   "cell_type": "code",
   "execution_count": 82,
   "id": "058dbf02-901c-4816-a1ff-b87d677a5a70",
   "metadata": {},
   "outputs": [
    {
     "data": {
      "text/plain": [
       "'the cat said to the cow cow you are not a cat'"
      ]
     },
     "execution_count": 82,
     "metadata": {},
     "output_type": "execute_result"
    }
   ],
   "source": [
    "doc"
   ]
  },
  {
   "cell_type": "code",
   "execution_count": null,
   "id": "2be5e888-ec4b-43f9-82ae-593680592891",
   "metadata": {},
   "outputs": [],
   "source": []
  },
  {
   "cell_type": "code",
   "execution_count": null,
   "id": "b6c57da9-4dcc-4d19-a52c-ec6f7c1573a2",
   "metadata": {},
   "outputs": [],
   "source": []
  },
  {
   "cell_type": "code",
   "execution_count": null,
   "id": "13501a09-355b-4c8b-94a1-0723d2702dc0",
   "metadata": {},
   "outputs": [],
   "source": []
  },
  {
   "cell_type": "code",
   "execution_count": 70,
   "id": "fb990341-528a-4666-86f3-2dea2d3853a7",
   "metadata": {},
   "outputs": [
    {
     "data": {
      "text/plain": [
       "{'cow', 'jumped', 'meowed', 'mooed', 'moon', 'not', 'over', 'said', 'you'}"
      ]
     },
     "execution_count": 70,
     "metadata": {},
     "output_type": "execute_result"
    }
   ],
   "source": [
    "vocabulary - set(docs[0].split())"
   ]
  },
  {
   "cell_type": "code",
   "execution_count": 59,
   "id": "41745e14-2d72-4e05-83cb-2a4ca45ce109",
   "metadata": {},
   "outputs": [
    {
     "data": {
      "text/plain": [
       "{'cat': True, 'hat': True, 'cow': False}"
      ]
     },
     "execution_count": 59,
     "metadata": {},
     "output_type": "execute_result"
    }
   ],
   "source": [
    "{'cat':True, 'hat':True, 'cow':False}"
   ]
  },
  {
   "cell_type": "code",
   "execution_count": 62,
   "id": "0499fb20-6f99-45cb-89c8-9875d2576ca7",
   "metadata": {},
   "outputs": [
    {
     "data": {
      "text/plain": [
       "{'cat',\n",
       " 'cow',\n",
       " 'hat',\n",
       " 'jumped',\n",
       " 'meowed',\n",
       " 'mooed',\n",
       " 'moon',\n",
       " 'not',\n",
       " 'over',\n",
       " 'said',\n",
       " 'you'}"
      ]
     },
     "execution_count": 62,
     "metadata": {},
     "output_type": "execute_result"
    }
   ],
   "source": [
    "vocabulary"
   ]
  },
  {
   "cell_type": "code",
   "execution_count": 65,
   "id": "a5eb8c74-5ea5-484d-8ce0-c1a3571f76e4",
   "metadata": {},
   "outputs": [
    {
     "name": "stdout",
     "output_type": "stream",
     "text": [
      "False\n"
     ]
    }
   ],
   "source": [
    "if docs[0].split() == vocabulary :\n",
    "    print(True)\n",
    "else :\n",
    "    print(False)"
   ]
  },
  {
   "cell_type": "code",
   "execution_count": null,
   "id": "54522b1e-29c5-4e70-8fb2-48687c5d12a2",
   "metadata": {},
   "outputs": [],
   "source": []
  },
  {
   "cell_type": "code",
   "execution_count": 152,
   "id": "244e7f22-9a6f-4e07-b226-89fb95676759",
   "metadata": {},
   "outputs": [],
   "source": [
    "dic_list=[]\n",
    "for d in docs :\n",
    "    dict={}\n",
    "    for v in vocabulary :\n",
    "        #print(v, v in d)\n",
    "        dict[v] = v.count(d)\n",
    "    dic_list.append(dict)"
   ]
  },
  {
   "cell_type": "code",
   "execution_count": 153,
   "id": "1ef6f4c4-b615-4d0e-a3e9-8b71699c40ba",
   "metadata": {},
   "outputs": [
    {
     "data": {
      "text/plain": [
       "[{'not': 0,\n",
       "  'jumped': 0,\n",
       "  'you': 0,\n",
       "  'cow': 0,\n",
       "  'hat': 0,\n",
       "  'over': 0,\n",
       "  'said': 0,\n",
       "  'moon': 0,\n",
       "  'mooed': 0,\n",
       "  'cat': 0,\n",
       "  'meowed': 0},\n",
       " {'not': 0,\n",
       "  'jumped': 0,\n",
       "  'you': 0,\n",
       "  'cow': 0,\n",
       "  'hat': 0,\n",
       "  'over': 0,\n",
       "  'said': 0,\n",
       "  'moon': 0,\n",
       "  'mooed': 0,\n",
       "  'cat': 0,\n",
       "  'meowed': 0},\n",
       " {'not': 0,\n",
       "  'jumped': 0,\n",
       "  'you': 0,\n",
       "  'cow': 0,\n",
       "  'hat': 0,\n",
       "  'over': 0,\n",
       "  'said': 0,\n",
       "  'moon': 0,\n",
       "  'mooed': 0,\n",
       "  'cat': 0,\n",
       "  'meowed': 0},\n",
       " {'not': 0,\n",
       "  'jumped': 0,\n",
       "  'you': 0,\n",
       "  'cow': 0,\n",
       "  'hat': 0,\n",
       "  'over': 0,\n",
       "  'said': 0,\n",
       "  'moon': 0,\n",
       "  'mooed': 0,\n",
       "  'cat': 0,\n",
       "  'meowed': 0}]"
      ]
     },
     "execution_count": 153,
     "metadata": {},
     "output_type": "execute_result"
    }
   ],
   "source": [
    "dic_list"
   ]
  },
  {
   "cell_type": "code",
   "execution_count": 156,
   "id": "7afa8268-37a0-4d3b-b88d-86729cc1fd0b",
   "metadata": {},
   "outputs": [],
   "source": [
    "word_count=[{ v: d.count(v) for v in vocabulary} for d in docs]"
   ]
  },
  {
   "cell_type": "code",
   "execution_count": 157,
   "id": "0df1b09e-80e7-4d81-a851-858cd307cfa7",
   "metadata": {},
   "outputs": [],
   "source": [
    "wcs = pd.DataFrame(word_count)"
   ]
  },
  {
   "cell_type": "code",
   "execution_count": 158,
   "id": "7d13e025-fd70-44b6-89a9-8a8a45c43271",
   "metadata": {},
   "outputs": [
    {
     "data": {
      "text/html": [
       "<div>\n",
       "<style scoped>\n",
       "    .dataframe tbody tr th:only-of-type {\n",
       "        vertical-align: middle;\n",
       "    }\n",
       "\n",
       "    .dataframe tbody tr th {\n",
       "        vertical-align: top;\n",
       "    }\n",
       "\n",
       "    .dataframe thead th {\n",
       "        text-align: right;\n",
       "    }\n",
       "</style>\n",
       "<table border=\"1\" class=\"dataframe\">\n",
       "  <thead>\n",
       "    <tr style=\"text-align: right;\">\n",
       "      <th></th>\n",
       "      <th>cat</th>\n",
       "      <th>cow</th>\n",
       "      <th>hat</th>\n",
       "      <th>jumped</th>\n",
       "      <th>meowed</th>\n",
       "      <th>mooed</th>\n",
       "      <th>moon</th>\n",
       "      <th>not</th>\n",
       "      <th>over</th>\n",
       "      <th>said</th>\n",
       "      <th>you</th>\n",
       "    </tr>\n",
       "  </thead>\n",
       "  <tbody>\n",
       "    <tr>\n",
       "      <th>0</th>\n",
       "      <td>1</td>\n",
       "      <td>0</td>\n",
       "      <td>1</td>\n",
       "      <td>0</td>\n",
       "      <td>0</td>\n",
       "      <td>0</td>\n",
       "      <td>0</td>\n",
       "      <td>0</td>\n",
       "      <td>0</td>\n",
       "      <td>0</td>\n",
       "      <td>0</td>\n",
       "    </tr>\n",
       "    <tr>\n",
       "      <th>1</th>\n",
       "      <td>0</td>\n",
       "      <td>1</td>\n",
       "      <td>0</td>\n",
       "      <td>1</td>\n",
       "      <td>0</td>\n",
       "      <td>0</td>\n",
       "      <td>1</td>\n",
       "      <td>0</td>\n",
       "      <td>1</td>\n",
       "      <td>0</td>\n",
       "      <td>0</td>\n",
       "    </tr>\n",
       "    <tr>\n",
       "      <th>2</th>\n",
       "      <td>1</td>\n",
       "      <td>1</td>\n",
       "      <td>0</td>\n",
       "      <td>0</td>\n",
       "      <td>1</td>\n",
       "      <td>1</td>\n",
       "      <td>0</td>\n",
       "      <td>0</td>\n",
       "      <td>0</td>\n",
       "      <td>0</td>\n",
       "      <td>0</td>\n",
       "    </tr>\n",
       "    <tr>\n",
       "      <th>3</th>\n",
       "      <td>2</td>\n",
       "      <td>2</td>\n",
       "      <td>0</td>\n",
       "      <td>0</td>\n",
       "      <td>0</td>\n",
       "      <td>0</td>\n",
       "      <td>0</td>\n",
       "      <td>1</td>\n",
       "      <td>0</td>\n",
       "      <td>1</td>\n",
       "      <td>1</td>\n",
       "    </tr>\n",
       "  </tbody>\n",
       "</table>\n",
       "</div>"
      ],
      "text/plain": [
       "   cat  cow  hat  jumped  meowed  mooed  moon  not  over  said  you\n",
       "0    1    0    1       0       0      0     0    0     0     0    0\n",
       "1    0    1    0       1       0      0     1    0     1     0    0\n",
       "2    1    1    0       0       1      1     0    0     0     0    0\n",
       "3    2    2    0       0       0      0     0    1     0     1    1"
      ]
     },
     "execution_count": 158,
     "metadata": {},
     "output_type": "execute_result"
    }
   ],
   "source": [
    "wcs.sort_index(axis=1)"
   ]
  },
  {
   "cell_type": "code",
   "execution_count": 104,
   "id": "c205fdba-9841-41b2-8c7e-0002853b9d5f",
   "metadata": {},
   "outputs": [],
   "source": [
    "import pandas as pd"
   ]
  },
  {
   "cell_type": "code",
   "execution_count": 111,
   "id": "5548fd00-85d5-4948-9e21-75e974fda40b",
   "metadata": {},
   "outputs": [],
   "source": [
    "dcs= pd.DataFrame(doc_contains)"
   ]
  },
  {
   "cell_type": "code",
   "execution_count": 112,
   "id": "d58a2ad2-59d6-43f9-a517-c287b23fd27d",
   "metadata": {},
   "outputs": [
    {
     "data": {
      "text/html": [
       "<div>\n",
       "<style scoped>\n",
       "    .dataframe tbody tr th:only-of-type {\n",
       "        vertical-align: middle;\n",
       "    }\n",
       "\n",
       "    .dataframe tbody tr th {\n",
       "        vertical-align: top;\n",
       "    }\n",
       "\n",
       "    .dataframe thead th {\n",
       "        text-align: right;\n",
       "    }\n",
       "</style>\n",
       "<table border=\"1\" class=\"dataframe\">\n",
       "  <thead>\n",
       "    <tr style=\"text-align: right;\">\n",
       "      <th></th>\n",
       "      <th>not</th>\n",
       "      <th>jumped</th>\n",
       "      <th>you</th>\n",
       "      <th>cow</th>\n",
       "      <th>hat</th>\n",
       "      <th>over</th>\n",
       "      <th>said</th>\n",
       "      <th>moon</th>\n",
       "      <th>mooed</th>\n",
       "      <th>cat</th>\n",
       "      <th>meowed</th>\n",
       "    </tr>\n",
       "  </thead>\n",
       "  <tbody>\n",
       "    <tr>\n",
       "      <th>0</th>\n",
       "      <td>False</td>\n",
       "      <td>False</td>\n",
       "      <td>False</td>\n",
       "      <td>False</td>\n",
       "      <td>True</td>\n",
       "      <td>False</td>\n",
       "      <td>False</td>\n",
       "      <td>False</td>\n",
       "      <td>False</td>\n",
       "      <td>True</td>\n",
       "      <td>False</td>\n",
       "    </tr>\n",
       "    <tr>\n",
       "      <th>1</th>\n",
       "      <td>False</td>\n",
       "      <td>True</td>\n",
       "      <td>False</td>\n",
       "      <td>True</td>\n",
       "      <td>False</td>\n",
       "      <td>True</td>\n",
       "      <td>False</td>\n",
       "      <td>True</td>\n",
       "      <td>False</td>\n",
       "      <td>False</td>\n",
       "      <td>False</td>\n",
       "    </tr>\n",
       "    <tr>\n",
       "      <th>2</th>\n",
       "      <td>False</td>\n",
       "      <td>False</td>\n",
       "      <td>False</td>\n",
       "      <td>True</td>\n",
       "      <td>False</td>\n",
       "      <td>False</td>\n",
       "      <td>False</td>\n",
       "      <td>False</td>\n",
       "      <td>True</td>\n",
       "      <td>True</td>\n",
       "      <td>True</td>\n",
       "    </tr>\n",
       "    <tr>\n",
       "      <th>3</th>\n",
       "      <td>True</td>\n",
       "      <td>False</td>\n",
       "      <td>True</td>\n",
       "      <td>True</td>\n",
       "      <td>False</td>\n",
       "      <td>False</td>\n",
       "      <td>True</td>\n",
       "      <td>False</td>\n",
       "      <td>False</td>\n",
       "      <td>True</td>\n",
       "      <td>False</td>\n",
       "    </tr>\n",
       "  </tbody>\n",
       "</table>\n",
       "</div>"
      ],
      "text/plain": [
       "     not  jumped    you    cow    hat   over   said   moon  mooed    cat  \\\n",
       "0  False   False  False  False   True  False  False  False  False   True   \n",
       "1  False    True  False   True  False   True  False   True  False  False   \n",
       "2  False   False  False   True  False  False  False  False   True   True   \n",
       "3   True   False   True   True  False  False   True  False  False   True   \n",
       "\n",
       "   meowed  \n",
       "0   False  \n",
       "1   False  \n",
       "2    True  \n",
       "3   False  "
      ]
     },
     "execution_count": 112,
     "metadata": {},
     "output_type": "execute_result"
    }
   ],
   "source": [
    "dcs"
   ]
  },
  {
   "cell_type": "code",
   "execution_count": 113,
   "id": "781149d1-3aaf-48df-a630-2252982bf080",
   "metadata": {},
   "outputs": [
    {
     "data": {
      "text/html": [
       "<div>\n",
       "<style scoped>\n",
       "    .dataframe tbody tr th:only-of-type {\n",
       "        vertical-align: middle;\n",
       "    }\n",
       "\n",
       "    .dataframe tbody tr th {\n",
       "        vertical-align: top;\n",
       "    }\n",
       "\n",
       "    .dataframe thead th {\n",
       "        text-align: right;\n",
       "    }\n",
       "</style>\n",
       "<table border=\"1\" class=\"dataframe\">\n",
       "  <thead>\n",
       "    <tr style=\"text-align: right;\">\n",
       "      <th></th>\n",
       "      <th>cat</th>\n",
       "      <th>cow</th>\n",
       "      <th>hat</th>\n",
       "      <th>jumped</th>\n",
       "      <th>meowed</th>\n",
       "      <th>mooed</th>\n",
       "      <th>moon</th>\n",
       "      <th>not</th>\n",
       "      <th>over</th>\n",
       "      <th>said</th>\n",
       "      <th>you</th>\n",
       "    </tr>\n",
       "  </thead>\n",
       "  <tbody>\n",
       "    <tr>\n",
       "      <th>0</th>\n",
       "      <td>True</td>\n",
       "      <td>False</td>\n",
       "      <td>True</td>\n",
       "      <td>False</td>\n",
       "      <td>False</td>\n",
       "      <td>False</td>\n",
       "      <td>False</td>\n",
       "      <td>False</td>\n",
       "      <td>False</td>\n",
       "      <td>False</td>\n",
       "      <td>False</td>\n",
       "    </tr>\n",
       "    <tr>\n",
       "      <th>1</th>\n",
       "      <td>False</td>\n",
       "      <td>True</td>\n",
       "      <td>False</td>\n",
       "      <td>True</td>\n",
       "      <td>False</td>\n",
       "      <td>False</td>\n",
       "      <td>True</td>\n",
       "      <td>False</td>\n",
       "      <td>True</td>\n",
       "      <td>False</td>\n",
       "      <td>False</td>\n",
       "    </tr>\n",
       "    <tr>\n",
       "      <th>2</th>\n",
       "      <td>True</td>\n",
       "      <td>True</td>\n",
       "      <td>False</td>\n",
       "      <td>False</td>\n",
       "      <td>True</td>\n",
       "      <td>True</td>\n",
       "      <td>False</td>\n",
       "      <td>False</td>\n",
       "      <td>False</td>\n",
       "      <td>False</td>\n",
       "      <td>False</td>\n",
       "    </tr>\n",
       "    <tr>\n",
       "      <th>3</th>\n",
       "      <td>True</td>\n",
       "      <td>True</td>\n",
       "      <td>False</td>\n",
       "      <td>False</td>\n",
       "      <td>False</td>\n",
       "      <td>False</td>\n",
       "      <td>False</td>\n",
       "      <td>True</td>\n",
       "      <td>False</td>\n",
       "      <td>True</td>\n",
       "      <td>True</td>\n",
       "    </tr>\n",
       "  </tbody>\n",
       "</table>\n",
       "</div>"
      ],
      "text/plain": [
       "     cat    cow    hat  jumped  meowed  mooed   moon    not   over   said  \\\n",
       "0   True  False   True   False   False  False  False  False  False  False   \n",
       "1  False   True  False    True   False  False   True  False   True  False   \n",
       "2   True   True  False   False    True   True  False  False  False  False   \n",
       "3   True   True  False   False   False  False  False   True  False   True   \n",
       "\n",
       "     you  \n",
       "0  False  \n",
       "1  False  \n",
       "2  False  \n",
       "3   True  "
      ]
     },
     "execution_count": 113,
     "metadata": {},
     "output_type": "execute_result"
    }
   ],
   "source": [
    "dcs.sort_index(axis=1)"
   ]
  },
  {
   "cell_type": "code",
   "execution_count": 139,
   "id": "1c682b7e-4706-4f27-9d0b-f5a12b5d696c",
   "metadata": {},
   "outputs": [],
   "source": [
    "import pandas as pd\n",
    "import numpy as np"
   ]
  },
  {
   "cell_type": "code",
   "execution_count": 151,
   "id": "29cacb2b-61b4-4ea9-9593-b2881d9ac9f6",
   "metadata": {},
   "outputs": [
    {
     "name": "stdout",
     "output_type": "stream",
     "text": [
      "the cat in the hat\n",
      "the cow jumped over the moon\n",
      "the cat mooed and the cow meowed\n",
      "the cat said to the cow cow you are not a cat\n"
     ]
    }
   ],
   "source": [
    "dic_list=[]\n",
    "for d in docs :\n",
    "    print(d)\n",
    "    dict={}\n",
    "    for v in vocabulary :\n",
    "        print(v)\n",
    "        dict[v] = v.count()\n",
    "    dic_list.append(dict)"
   ]
  },
  {
   "cell_type": "code",
   "execution_count": null,
   "id": "5572e6d0-e45d-4220-926e-6da1166ac4fe",
   "metadata": {},
   "outputs": [],
   "source": []
  },
  {
   "cell_type": "code",
   "execution_count": null,
   "id": "bc620c6a-c369-4cc0-8638-c4af19ac5415",
   "metadata": {},
   "outputs": [],
   "source": []
  },
  {
   "cell_type": "code",
   "execution_count": null,
   "id": "6d4828e5-e648-4316-9f6a-f33e3583c413",
   "metadata": {},
   "outputs": [],
   "source": []
  },
  {
   "cell_type": "code",
   "execution_count": null,
   "id": "5d0f0ea0-ac62-4149-8565-5a06fb5228fe",
   "metadata": {},
   "outputs": [],
   "source": []
  },
  {
   "cell_type": "code",
   "execution_count": 131,
   "id": "a8a60824-aac3-4ee9-a0ef-4546a060652e",
   "metadata": {},
   "outputs": [],
   "source": [
    "from sklearn.feature_extraction.text import CountVectorizer #변수가 몇갠지 세어줌."
   ]
  },
  {
   "cell_type": "code",
   "execution_count": 125,
   "id": "8709bc75-9334-43b7-affe-338ecf5c0c07",
   "metadata": {},
   "outputs": [],
   "source": [
    "sparse=CountVectorizer(stop_words='english').fit_transform(docs)"
   ]
  },
  {
   "cell_type": "code",
   "execution_count": 126,
   "id": "82bab7a0-e710-45a3-82df-e692aa8fef75",
   "metadata": {},
   "outputs": [
    {
     "data": {
      "text/plain": [
       "matrix([[1, 0, 1, 0, 0, 0, 0, 0],\n",
       "        [0, 1, 0, 1, 0, 0, 1, 0],\n",
       "        [1, 1, 0, 0, 1, 1, 0, 0],\n",
       "        [2, 2, 0, 0, 0, 0, 0, 1]], dtype=int64)"
      ]
     },
     "execution_count": 126,
     "metadata": {},
     "output_type": "execute_result"
    }
   ],
   "source": [
    "sparse.todense()"
   ]
  },
  {
   "cell_type": "code",
   "execution_count": 159,
   "id": "a4ae0a9e-c25a-4d46-af79-805dc054f5ae",
   "metadata": {},
   "outputs": [
    {
     "data": {
      "text/html": [
       "<div>\n",
       "<style scoped>\n",
       "    .dataframe tbody tr th:only-of-type {\n",
       "        vertical-align: middle;\n",
       "    }\n",
       "\n",
       "    .dataframe tbody tr th {\n",
       "        vertical-align: top;\n",
       "    }\n",
       "\n",
       "    .dataframe thead th {\n",
       "        text-align: right;\n",
       "    }\n",
       "</style>\n",
       "<table border=\"1\" class=\"dataframe\">\n",
       "  <thead>\n",
       "    <tr style=\"text-align: right;\">\n",
       "      <th></th>\n",
       "      <th>cat</th>\n",
       "      <th>cow</th>\n",
       "      <th>hat</th>\n",
       "      <th>jumped</th>\n",
       "      <th>meowed</th>\n",
       "      <th>mooed</th>\n",
       "      <th>moon</th>\n",
       "      <th>not</th>\n",
       "      <th>over</th>\n",
       "      <th>said</th>\n",
       "      <th>you</th>\n",
       "    </tr>\n",
       "  </thead>\n",
       "  <tbody>\n",
       "    <tr>\n",
       "      <th>0</th>\n",
       "      <td>1</td>\n",
       "      <td>0</td>\n",
       "      <td>1</td>\n",
       "      <td>0</td>\n",
       "      <td>0</td>\n",
       "      <td>0</td>\n",
       "      <td>0</td>\n",
       "      <td>0</td>\n",
       "      <td>0</td>\n",
       "      <td>0</td>\n",
       "      <td>0</td>\n",
       "    </tr>\n",
       "    <tr>\n",
       "      <th>1</th>\n",
       "      <td>0</td>\n",
       "      <td>1</td>\n",
       "      <td>0</td>\n",
       "      <td>1</td>\n",
       "      <td>0</td>\n",
       "      <td>0</td>\n",
       "      <td>1</td>\n",
       "      <td>0</td>\n",
       "      <td>1</td>\n",
       "      <td>0</td>\n",
       "      <td>0</td>\n",
       "    </tr>\n",
       "    <tr>\n",
       "      <th>2</th>\n",
       "      <td>1</td>\n",
       "      <td>1</td>\n",
       "      <td>0</td>\n",
       "      <td>0</td>\n",
       "      <td>1</td>\n",
       "      <td>1</td>\n",
       "      <td>0</td>\n",
       "      <td>0</td>\n",
       "      <td>0</td>\n",
       "      <td>0</td>\n",
       "      <td>0</td>\n",
       "    </tr>\n",
       "    <tr>\n",
       "      <th>3</th>\n",
       "      <td>2</td>\n",
       "      <td>2</td>\n",
       "      <td>0</td>\n",
       "      <td>0</td>\n",
       "      <td>0</td>\n",
       "      <td>0</td>\n",
       "      <td>0</td>\n",
       "      <td>1</td>\n",
       "      <td>0</td>\n",
       "      <td>1</td>\n",
       "      <td>1</td>\n",
       "    </tr>\n",
       "  </tbody>\n",
       "</table>\n",
       "</div>"
      ],
      "text/plain": [
       "   cat  cow  hat  jumped  meowed  mooed  moon  not  over  said  you\n",
       "0    1    0    1       0       0      0     0    0     0     0    0\n",
       "1    0    1    0       1       0      0     1    0     1     0    0\n",
       "2    1    1    0       0       1      1     0    0     0     0    0\n",
       "3    2    2    0       0       0      0     0    1     0     1    1"
      ]
     },
     "execution_count": 159,
     "metadata": {},
     "output_type": "execute_result"
    }
   ],
   "source": [
    "wcs.sort_index(axis=1)"
   ]
  },
  {
   "cell_type": "code",
   "execution_count": 128,
   "id": "664015c0-a2e0-49a4-876c-aa1dd95c77c8",
   "metadata": {},
   "outputs": [
    {
     "data": {
      "text/plain": [
       "(4, 8)"
      ]
     },
     "execution_count": 128,
     "metadata": {},
     "output_type": "execute_result"
    }
   ],
   "source": [
    "sparse.get_shape()"
   ]
  },
  {
   "cell_type": "code",
   "execution_count": 132,
   "id": "e4124d09-495a-42f2-8254-2071d17c97b9",
   "metadata": {},
   "outputs": [
    {
     "data": {
      "text/html": [
       "<div>\n",
       "<style scoped>\n",
       "    .dataframe tbody tr th:only-of-type {\n",
       "        vertical-align: middle;\n",
       "    }\n",
       "\n",
       "    .dataframe tbody tr th {\n",
       "        vertical-align: top;\n",
       "    }\n",
       "\n",
       "    .dataframe thead th {\n",
       "        text-align: right;\n",
       "    }\n",
       "</style>\n",
       "<table border=\"1\" class=\"dataframe\">\n",
       "  <thead>\n",
       "    <tr style=\"text-align: right;\">\n",
       "      <th></th>\n",
       "      <th>not</th>\n",
       "      <th>jumped</th>\n",
       "      <th>you</th>\n",
       "      <th>cow</th>\n",
       "      <th>hat</th>\n",
       "      <th>over</th>\n",
       "      <th>said</th>\n",
       "      <th>moon</th>\n",
       "      <th>mooed</th>\n",
       "      <th>cat</th>\n",
       "      <th>meowed</th>\n",
       "    </tr>\n",
       "  </thead>\n",
       "  <tbody>\n",
       "    <tr>\n",
       "      <th>0</th>\n",
       "      <td>False</td>\n",
       "      <td>False</td>\n",
       "      <td>False</td>\n",
       "      <td>False</td>\n",
       "      <td>True</td>\n",
       "      <td>False</td>\n",
       "      <td>False</td>\n",
       "      <td>False</td>\n",
       "      <td>False</td>\n",
       "      <td>True</td>\n",
       "      <td>False</td>\n",
       "    </tr>\n",
       "    <tr>\n",
       "      <th>1</th>\n",
       "      <td>False</td>\n",
       "      <td>True</td>\n",
       "      <td>False</td>\n",
       "      <td>True</td>\n",
       "      <td>False</td>\n",
       "      <td>True</td>\n",
       "      <td>False</td>\n",
       "      <td>True</td>\n",
       "      <td>False</td>\n",
       "      <td>False</td>\n",
       "      <td>False</td>\n",
       "    </tr>\n",
       "    <tr>\n",
       "      <th>2</th>\n",
       "      <td>False</td>\n",
       "      <td>False</td>\n",
       "      <td>False</td>\n",
       "      <td>True</td>\n",
       "      <td>False</td>\n",
       "      <td>False</td>\n",
       "      <td>False</td>\n",
       "      <td>False</td>\n",
       "      <td>True</td>\n",
       "      <td>True</td>\n",
       "      <td>True</td>\n",
       "    </tr>\n",
       "    <tr>\n",
       "      <th>3</th>\n",
       "      <td>True</td>\n",
       "      <td>False</td>\n",
       "      <td>True</td>\n",
       "      <td>True</td>\n",
       "      <td>False</td>\n",
       "      <td>False</td>\n",
       "      <td>True</td>\n",
       "      <td>False</td>\n",
       "      <td>False</td>\n",
       "      <td>True</td>\n",
       "      <td>False</td>\n",
       "    </tr>\n",
       "  </tbody>\n",
       "</table>\n",
       "</div>"
      ],
      "text/plain": [
       "     not  jumped    you    cow    hat   over   said   moon  mooed    cat  \\\n",
       "0  False   False  False  False   True  False  False  False  False   True   \n",
       "1  False    True  False   True  False   True  False   True  False  False   \n",
       "2  False   False  False   True  False  False  False  False   True   True   \n",
       "3   True   False   True   True  False  False   True  False  False   True   \n",
       "\n",
       "   meowed  \n",
       "0   False  \n",
       "1   False  \n",
       "2    True  \n",
       "3   False  "
      ]
     },
     "execution_count": 132,
     "metadata": {},
     "output_type": "execute_result"
    }
   ],
   "source": [
    "dcs"
   ]
  },
  {
   "cell_type": "code",
   "execution_count": 160,
   "id": "b3e8c379-9bd2-4df0-891a-8be1648ba195",
   "metadata": {},
   "outputs": [
    {
     "data": {
      "text/html": [
       "<div>\n",
       "<style scoped>\n",
       "    .dataframe tbody tr th:only-of-type {\n",
       "        vertical-align: middle;\n",
       "    }\n",
       "\n",
       "    .dataframe tbody tr th {\n",
       "        vertical-align: top;\n",
       "    }\n",
       "\n",
       "    .dataframe thead th {\n",
       "        text-align: right;\n",
       "    }\n",
       "</style>\n",
       "<table border=\"1\" class=\"dataframe\">\n",
       "  <thead>\n",
       "    <tr style=\"text-align: right;\">\n",
       "      <th></th>\n",
       "      <th>not</th>\n",
       "      <th>jumped</th>\n",
       "      <th>you</th>\n",
       "      <th>cow</th>\n",
       "      <th>hat</th>\n",
       "      <th>over</th>\n",
       "      <th>said</th>\n",
       "      <th>moon</th>\n",
       "      <th>mooed</th>\n",
       "      <th>cat</th>\n",
       "      <th>meowed</th>\n",
       "    </tr>\n",
       "  </thead>\n",
       "  <tbody>\n",
       "    <tr>\n",
       "      <th>0</th>\n",
       "      <td>False</td>\n",
       "      <td>False</td>\n",
       "      <td>False</td>\n",
       "      <td>False</td>\n",
       "      <td>True</td>\n",
       "      <td>False</td>\n",
       "      <td>False</td>\n",
       "      <td>False</td>\n",
       "      <td>False</td>\n",
       "      <td>True</td>\n",
       "      <td>False</td>\n",
       "    </tr>\n",
       "    <tr>\n",
       "      <th>1</th>\n",
       "      <td>False</td>\n",
       "      <td>True</td>\n",
       "      <td>False</td>\n",
       "      <td>True</td>\n",
       "      <td>False</td>\n",
       "      <td>True</td>\n",
       "      <td>False</td>\n",
       "      <td>True</td>\n",
       "      <td>False</td>\n",
       "      <td>False</td>\n",
       "      <td>False</td>\n",
       "    </tr>\n",
       "    <tr>\n",
       "      <th>2</th>\n",
       "      <td>False</td>\n",
       "      <td>False</td>\n",
       "      <td>False</td>\n",
       "      <td>True</td>\n",
       "      <td>False</td>\n",
       "      <td>False</td>\n",
       "      <td>False</td>\n",
       "      <td>False</td>\n",
       "      <td>True</td>\n",
       "      <td>True</td>\n",
       "      <td>True</td>\n",
       "    </tr>\n",
       "    <tr>\n",
       "      <th>3</th>\n",
       "      <td>True</td>\n",
       "      <td>False</td>\n",
       "      <td>True</td>\n",
       "      <td>True</td>\n",
       "      <td>False</td>\n",
       "      <td>False</td>\n",
       "      <td>True</td>\n",
       "      <td>False</td>\n",
       "      <td>False</td>\n",
       "      <td>True</td>\n",
       "      <td>False</td>\n",
       "    </tr>\n",
       "  </tbody>\n",
       "</table>\n",
       "</div>"
      ],
      "text/plain": [
       "     not  jumped    you    cow    hat   over   said   moon  mooed    cat  \\\n",
       "0  False   False  False  False   True  False  False  False  False   True   \n",
       "1  False    True  False   True  False   True  False   True  False  False   \n",
       "2  False   False  False   True  False  False  False  False   True   True   \n",
       "3   True   False   True   True  False  False   True  False  False   True   \n",
       "\n",
       "   meowed  \n",
       "0   False  \n",
       "1   False  \n",
       "2    True  \n",
       "3   False  "
      ]
     },
     "execution_count": 160,
     "metadata": {},
     "output_type": "execute_result"
    }
   ],
   "source": [
    "doc"
   ]
  },
  {
   "cell_type": "code",
   "execution_count": 161,
   "id": "d6b0b647-4bf1-4756-9a82-603a353189aa",
   "metadata": {},
   "outputs": [
    {
     "data": {
      "text/plain": [
       "['the cat in the hat',\n",
       " 'the cow jumped over the moon',\n",
       " 'the cat mooed and the cow meowed',\n",
       " 'the cat said to the cow cow you are not a cat']"
      ]
     },
     "execution_count": 161,
     "metadata": {},
     "output_type": "execute_result"
    }
   ],
   "source": [
    "docs"
   ]
  },
  {
   "cell_type": "code",
   "execution_count": 164,
   "id": "b029d928-71d0-4e22-9e20-cb62b92bfaf7",
   "metadata": {},
   "outputs": [],
   "source": [
    "doc_freq = pd.DataFrame(dcs.sum(axis=0)).T"
   ]
  },
  {
   "cell_type": "code",
   "execution_count": 165,
   "id": "47343cfb-0944-4e85-b8b8-13db458663c2",
   "metadata": {},
   "outputs": [
    {
     "data": {
      "text/html": [
       "<div>\n",
       "<style scoped>\n",
       "    .dataframe tbody tr th:only-of-type {\n",
       "        vertical-align: middle;\n",
       "    }\n",
       "\n",
       "    .dataframe tbody tr th {\n",
       "        vertical-align: top;\n",
       "    }\n",
       "\n",
       "    .dataframe thead th {\n",
       "        text-align: right;\n",
       "    }\n",
       "</style>\n",
       "<table border=\"1\" class=\"dataframe\">\n",
       "  <thead>\n",
       "    <tr style=\"text-align: right;\">\n",
       "      <th></th>\n",
       "      <th>not</th>\n",
       "      <th>jumped</th>\n",
       "      <th>you</th>\n",
       "      <th>cow</th>\n",
       "      <th>hat</th>\n",
       "      <th>over</th>\n",
       "      <th>said</th>\n",
       "      <th>moon</th>\n",
       "      <th>mooed</th>\n",
       "      <th>cat</th>\n",
       "      <th>meowed</th>\n",
       "    </tr>\n",
       "  </thead>\n",
       "  <tbody>\n",
       "    <tr>\n",
       "      <th>0</th>\n",
       "      <td>1</td>\n",
       "      <td>1</td>\n",
       "      <td>1</td>\n",
       "      <td>3</td>\n",
       "      <td>1</td>\n",
       "      <td>1</td>\n",
       "      <td>1</td>\n",
       "      <td>1</td>\n",
       "      <td>1</td>\n",
       "      <td>3</td>\n",
       "      <td>1</td>\n",
       "    </tr>\n",
       "  </tbody>\n",
       "</table>\n",
       "</div>"
      ],
      "text/plain": [
       "   not  jumped  you  cow  hat  over  said  moon  mooed  cat  meowed\n",
       "0    1       1    1    3    1     1     1     1      1    3       1"
      ]
     },
     "execution_count": 165,
     "metadata": {},
     "output_type": "execute_result"
    }
   ],
   "source": [
    "doc_freq"
   ]
  },
  {
   "cell_type": "raw",
   "id": "2a283b5d-044f-4eb0-aeb3-dc5f190e86b2",
   "metadata": {},
   "source": [
    "DF(Document Frequency) -> 특정단어가 등장한 문서의 수"
   ]
  },
  {
   "cell_type": "raw",
   "id": "0dad2216-542a-463c-bb1b-745b3e49f55f",
   "metadata": {},
   "source": [
    "TF(Term Frequency/IDF(Inverse Document Frequency) -> 등장빈도의 역수"
   ]
  },
  {
   "cell_type": "code",
   "execution_count": 166,
   "id": "867bf64c-b4da-4eef-b9df-04f72d076bf1",
   "metadata": {},
   "outputs": [],
   "source": [
    "import numpy as np"
   ]
  },
  {
   "cell_type": "code",
   "execution_count": 167,
   "id": "b8facf3e-3dc5-4dd2-b5cc-3bd7b451eff3",
   "metadata": {},
   "outputs": [],
   "source": [
    "pd.options.display.float_format = '{:.2f}'.format"
   ]
  },
  {
   "cell_type": "code",
   "execution_count": 168,
   "id": "2c38f12a-0b7a-4390-b0bc-717944ae6534",
   "metadata": {},
   "outputs": [],
   "source": [
    "idf = np.log(len(docs)/ doc_freq)"
   ]
  },
  {
   "cell_type": "code",
   "execution_count": 169,
   "id": "8d5dd653-5efd-40c9-b6cf-688b32f01818",
   "metadata": {},
   "outputs": [
    {
     "data": {
      "text/html": [
       "<div>\n",
       "<style scoped>\n",
       "    .dataframe tbody tr th:only-of-type {\n",
       "        vertical-align: middle;\n",
       "    }\n",
       "\n",
       "    .dataframe tbody tr th {\n",
       "        vertical-align: top;\n",
       "    }\n",
       "\n",
       "    .dataframe thead th {\n",
       "        text-align: right;\n",
       "    }\n",
       "</style>\n",
       "<table border=\"1\" class=\"dataframe\">\n",
       "  <thead>\n",
       "    <tr style=\"text-align: right;\">\n",
       "      <th></th>\n",
       "      <th>not</th>\n",
       "      <th>jumped</th>\n",
       "      <th>you</th>\n",
       "      <th>cow</th>\n",
       "      <th>hat</th>\n",
       "      <th>over</th>\n",
       "      <th>said</th>\n",
       "      <th>moon</th>\n",
       "      <th>mooed</th>\n",
       "      <th>cat</th>\n",
       "      <th>meowed</th>\n",
       "    </tr>\n",
       "  </thead>\n",
       "  <tbody>\n",
       "    <tr>\n",
       "      <th>0</th>\n",
       "      <td>1.39</td>\n",
       "      <td>1.39</td>\n",
       "      <td>1.39</td>\n",
       "      <td>0.29</td>\n",
       "      <td>1.39</td>\n",
       "      <td>1.39</td>\n",
       "      <td>1.39</td>\n",
       "      <td>1.39</td>\n",
       "      <td>1.39</td>\n",
       "      <td>0.29</td>\n",
       "      <td>1.39</td>\n",
       "    </tr>\n",
       "  </tbody>\n",
       "</table>\n",
       "</div>"
      ],
      "text/plain": [
       "   not  jumped  you  cow  hat  over  said  moon  mooed  cat  meowed\n",
       "0 1.39    1.39 1.39 0.29 1.39  1.39  1.39  1.39   1.39 0.29    1.39"
      ]
     },
     "execution_count": 169,
     "metadata": {},
     "output_type": "execute_result"
    }
   ],
   "source": [
    "idf #수치가 작을수록 등장빈도가 높음!!"
   ]
  },
  {
   "cell_type": "raw",
   "id": "271909ef-5ac6-47ea-af7f-8114f0fe2f59",
   "metadata": {},
   "source": [
    "TF(Term Frequency) -> 특정 문서에서 특정 단어의 등장 횟수"
   ]
  },
  {
   "cell_type": "code",
   "execution_count": 172,
   "id": "2f638a6e-1f2a-4aa9-a0f8-345155c28e5b",
   "metadata": {},
   "outputs": [
    {
     "data": {
      "text/html": [
       "<div>\n",
       "<style scoped>\n",
       "    .dataframe tbody tr th:only-of-type {\n",
       "        vertical-align: middle;\n",
       "    }\n",
       "\n",
       "    .dataframe tbody tr th {\n",
       "        vertical-align: top;\n",
       "    }\n",
       "\n",
       "    .dataframe thead th {\n",
       "        text-align: right;\n",
       "    }\n",
       "</style>\n",
       "<table border=\"1\" class=\"dataframe\">\n",
       "  <thead>\n",
       "    <tr style=\"text-align: right;\">\n",
       "      <th></th>\n",
       "      <th>not</th>\n",
       "      <th>jumped</th>\n",
       "      <th>you</th>\n",
       "      <th>cow</th>\n",
       "      <th>hat</th>\n",
       "      <th>over</th>\n",
       "      <th>said</th>\n",
       "      <th>moon</th>\n",
       "      <th>mooed</th>\n",
       "      <th>cat</th>\n",
       "      <th>meowed</th>\n",
       "    </tr>\n",
       "  </thead>\n",
       "  <tbody>\n",
       "    <tr>\n",
       "      <th>0</th>\n",
       "      <td>0</td>\n",
       "      <td>0</td>\n",
       "      <td>0</td>\n",
       "      <td>0</td>\n",
       "      <td>1</td>\n",
       "      <td>0</td>\n",
       "      <td>0</td>\n",
       "      <td>0</td>\n",
       "      <td>0</td>\n",
       "      <td>1</td>\n",
       "      <td>0</td>\n",
       "    </tr>\n",
       "    <tr>\n",
       "      <th>1</th>\n",
       "      <td>0</td>\n",
       "      <td>1</td>\n",
       "      <td>0</td>\n",
       "      <td>1</td>\n",
       "      <td>0</td>\n",
       "      <td>1</td>\n",
       "      <td>0</td>\n",
       "      <td>1</td>\n",
       "      <td>0</td>\n",
       "      <td>0</td>\n",
       "      <td>0</td>\n",
       "    </tr>\n",
       "    <tr>\n",
       "      <th>2</th>\n",
       "      <td>0</td>\n",
       "      <td>0</td>\n",
       "      <td>0</td>\n",
       "      <td>1</td>\n",
       "      <td>0</td>\n",
       "      <td>0</td>\n",
       "      <td>0</td>\n",
       "      <td>0</td>\n",
       "      <td>1</td>\n",
       "      <td>1</td>\n",
       "      <td>1</td>\n",
       "    </tr>\n",
       "    <tr>\n",
       "      <th>3</th>\n",
       "      <td>1</td>\n",
       "      <td>0</td>\n",
       "      <td>1</td>\n",
       "      <td>2</td>\n",
       "      <td>0</td>\n",
       "      <td>0</td>\n",
       "      <td>1</td>\n",
       "      <td>0</td>\n",
       "      <td>0</td>\n",
       "      <td>2</td>\n",
       "      <td>0</td>\n",
       "    </tr>\n",
       "  </tbody>\n",
       "</table>\n",
       "</div>"
      ],
      "text/plain": [
       "   not  jumped  you  cow  hat  over  said  moon  mooed  cat  meowed\n",
       "0    0       0    0    0    1     0     0     0      0    1       0\n",
       "1    0       1    0    1    0     1     0     1      0    0       0\n",
       "2    0       0    0    1    0     0     0     0      1    1       1\n",
       "3    1       0    1    2    0     0     1     0      0    2       0"
      ]
     },
     "execution_count": 172,
     "metadata": {},
     "output_type": "execute_result"
    }
   ],
   "source": [
    "wcs # 이것이 TF"
   ]
  },
  {
   "cell_type": "raw",
   "id": "d220c072-dd4e-4772-88d7-b8d0a5bbbcc1",
   "metadata": {},
   "source": [
    "TF * IDF = tf_idf"
   ]
  },
  {
   "cell_type": "code",
   "execution_count": 173,
   "id": "88f68b25-7fc2-4a5a-9b6e-144756c9b305",
   "metadata": {},
   "outputs": [],
   "source": [
    "tf_idf = wcs * idf.iloc[0]"
   ]
  },
  {
   "cell_type": "code",
   "execution_count": 174,
   "id": "3aecebba-2ee1-4505-a8f8-fbf3634995a5",
   "metadata": {},
   "outputs": [
    {
     "data": {
      "text/html": [
       "<div>\n",
       "<style scoped>\n",
       "    .dataframe tbody tr th:only-of-type {\n",
       "        vertical-align: middle;\n",
       "    }\n",
       "\n",
       "    .dataframe tbody tr th {\n",
       "        vertical-align: top;\n",
       "    }\n",
       "\n",
       "    .dataframe thead th {\n",
       "        text-align: right;\n",
       "    }\n",
       "</style>\n",
       "<table border=\"1\" class=\"dataframe\">\n",
       "  <thead>\n",
       "    <tr style=\"text-align: right;\">\n",
       "      <th></th>\n",
       "      <th>not</th>\n",
       "      <th>jumped</th>\n",
       "      <th>you</th>\n",
       "      <th>cow</th>\n",
       "      <th>hat</th>\n",
       "      <th>over</th>\n",
       "      <th>said</th>\n",
       "      <th>moon</th>\n",
       "      <th>mooed</th>\n",
       "      <th>cat</th>\n",
       "      <th>meowed</th>\n",
       "    </tr>\n",
       "  </thead>\n",
       "  <tbody>\n",
       "    <tr>\n",
       "      <th>0</th>\n",
       "      <td>0.00</td>\n",
       "      <td>0.00</td>\n",
       "      <td>0.00</td>\n",
       "      <td>0.00</td>\n",
       "      <td>1.39</td>\n",
       "      <td>0.00</td>\n",
       "      <td>0.00</td>\n",
       "      <td>0.00</td>\n",
       "      <td>0.00</td>\n",
       "      <td>0.29</td>\n",
       "      <td>0.00</td>\n",
       "    </tr>\n",
       "    <tr>\n",
       "      <th>1</th>\n",
       "      <td>0.00</td>\n",
       "      <td>1.39</td>\n",
       "      <td>0.00</td>\n",
       "      <td>0.29</td>\n",
       "      <td>0.00</td>\n",
       "      <td>1.39</td>\n",
       "      <td>0.00</td>\n",
       "      <td>1.39</td>\n",
       "      <td>0.00</td>\n",
       "      <td>0.00</td>\n",
       "      <td>0.00</td>\n",
       "    </tr>\n",
       "    <tr>\n",
       "      <th>2</th>\n",
       "      <td>0.00</td>\n",
       "      <td>0.00</td>\n",
       "      <td>0.00</td>\n",
       "      <td>0.29</td>\n",
       "      <td>0.00</td>\n",
       "      <td>0.00</td>\n",
       "      <td>0.00</td>\n",
       "      <td>0.00</td>\n",
       "      <td>1.39</td>\n",
       "      <td>0.29</td>\n",
       "      <td>1.39</td>\n",
       "    </tr>\n",
       "    <tr>\n",
       "      <th>3</th>\n",
       "      <td>1.39</td>\n",
       "      <td>0.00</td>\n",
       "      <td>1.39</td>\n",
       "      <td>0.58</td>\n",
       "      <td>0.00</td>\n",
       "      <td>0.00</td>\n",
       "      <td>1.39</td>\n",
       "      <td>0.00</td>\n",
       "      <td>0.00</td>\n",
       "      <td>0.58</td>\n",
       "      <td>0.00</td>\n",
       "    </tr>\n",
       "  </tbody>\n",
       "</table>\n",
       "</div>"
      ],
      "text/plain": [
       "   not  jumped  you  cow  hat  over  said  moon  mooed  cat  meowed\n",
       "0 0.00    0.00 0.00 0.00 1.39  0.00  0.00  0.00   0.00 0.29    0.00\n",
       "1 0.00    1.39 0.00 0.29 0.00  1.39  0.00  1.39   0.00 0.00    0.00\n",
       "2 0.00    0.00 0.00 0.29 0.00  0.00  0.00  0.00   1.39 0.29    1.39\n",
       "3 1.39    0.00 1.39 0.58 0.00  0.00  1.39  0.00   0.00 0.58    0.00"
      ]
     },
     "execution_count": 174,
     "metadata": {},
     "output_type": "execute_result"
    }
   ],
   "source": [
    "tf_idf # 자주 등장하는 단어는 중요도가 낮다."
   ]
  },
  {
   "cell_type": "code",
   "execution_count": 182,
   "id": "98f2f45f-d3e7-4e86-99cb-4fcfe7b8c75b",
   "metadata": {},
   "outputs": [],
   "source": [
    "from sklearn.preprocessing import Normalizer"
   ]
  },
  {
   "cell_type": "code",
   "execution_count": 188,
   "id": "cd7afa0c-e3e1-45fa-ac1c-120e9c781118",
   "metadata": {},
   "outputs": [
    {
     "data": {
      "text/plain": [
       "array([[0.        , 0.        , 0.        , 0.        , 0.82814449,\n",
       "        0.        , 0.        , 0.        , 0.        , 0.17185551,\n",
       "        0.        ],\n",
       "       [0.        , 0.31176747, 0.        , 0.0646976 , 0.        ,\n",
       "        0.31176747, 0.        , 0.31176747, 0.        , 0.        ,\n",
       "        0.        ],\n",
       "       [0.        , 0.        , 0.        , 0.08592775, 0.        ,\n",
       "        0.        , 0.        , 0.        , 0.41407225, 0.08592775,\n",
       "        0.41407225],\n",
       "       [0.26109149, 0.        , 0.26109149, 0.10836276, 0.        ,\n",
       "        0.        , 0.26109149, 0.        , 0.        , 0.10836276,\n",
       "        0.        ]])"
      ]
     },
     "execution_count": 188,
     "metadata": {},
     "output_type": "execute_result"
    }
   ],
   "source": [
    "Normalizer(norm='l1').fit_transform(tf_idf)"
   ]
  },
  {
   "cell_type": "code",
   "execution_count": 184,
   "id": "60898fc1-0bab-4e08-b3b2-731ff747bd20",
   "metadata": {},
   "outputs": [],
   "source": [
    "from sklearn.feature_extraction.text import TfidfVectorizer"
   ]
  },
  {
   "cell_type": "code",
   "execution_count": 203,
   "id": "f1def059-d425-4b19-b83c-c265c893ac12",
   "metadata": {},
   "outputs": [],
   "source": [
    "vectorizer=TfidfVectorizer(norm='l1', stop_words='english')"
   ]
  },
  {
   "cell_type": "code",
   "execution_count": 204,
   "id": "743e227c-d0e1-4da0-8dae-9b72c10afaf5",
   "metadata": {},
   "outputs": [
    {
     "data": {
      "text/plain": [
       "matrix([[1, 0, 1, 0, 0, 0, 0, 0],\n",
       "        [0, 1, 0, 1, 0, 0, 1, 0],\n",
       "        [1, 1, 0, 0, 1, 1, 0, 0],\n",
       "        [2, 2, 0, 0, 0, 0, 0, 1]], dtype=int64)"
      ]
     },
     "execution_count": 204,
     "metadata": {},
     "output_type": "execute_result"
    }
   ],
   "source": [
    "sparse.todense()"
   ]
  },
  {
   "cell_type": "code",
   "execution_count": 205,
   "id": "16bba0fa-e048-42ba-96d4-a2339d2e49b2",
   "metadata": {},
   "outputs": [],
   "source": [
    "sparse = vectorizer.fit_transform(docs)"
   ]
  },
  {
   "cell_type": "code",
   "execution_count": 206,
   "id": "02ddece1-b25b-4b6b-906f-6b43a387fce3",
   "metadata": {},
   "outputs": [
    {
     "data": {
      "text/plain": [
       "array(['cat', 'cow', 'hat', 'jumped', 'meowed', 'mooed', 'moon', 'said'],\n",
       "      dtype=object)"
      ]
     },
     "execution_count": 206,
     "metadata": {},
     "output_type": "execute_result"
    }
   ],
   "source": [
    "vectorizer.get_feature_names_out()"
   ]
  },
  {
   "cell_type": "code",
   "execution_count": 207,
   "id": "8727cad4-9be0-4ae1-8cae-597e12ba2f6f",
   "metadata": {},
   "outputs": [
    {
     "data": {
      "text/plain": [
       "matrix([[0.38960636, 0.        , 0.61039364, 0.        , 0.        ,\n",
       "         0.        , 0.        , 0.        ],\n",
       "        [0.        , 0.24193237, 0.        , 0.37903381, 0.        ,\n",
       "         0.        , 0.37903381, 0.        ],\n",
       "        [0.19480318, 0.19480318, 0.        , 0.        , 0.30519682,\n",
       "         0.30519682, 0.        , 0.        ],\n",
       "        [0.35927972, 0.35927972, 0.        , 0.        , 0.        ,\n",
       "         0.        , 0.        , 0.28144056]])"
      ]
     },
     "execution_count": 207,
     "metadata": {},
     "output_type": "execute_result"
    }
   ],
   "source": [
    "sparse.todense()"
   ]
  },
  {
   "cell_type": "markdown",
   "id": "c1582107-8844-4e27-847f-05588aa1dec2",
   "metadata": {},
   "source": [
    "---------------"
   ]
  },
  {
   "cell_type": "code",
   "execution_count": 209,
   "id": "2437c004-8f02-40e9-a573-1f13ad08bea5",
   "metadata": {},
   "outputs": [],
   "source": [
    "from sklearn.datasets import fetch_20newsgroups #20개의 뉴스기사 (형식은 email)"
   ]
  },
  {
   "cell_type": "code",
   "execution_count": 210,
   "id": "e515e0d1-c983-41f4-ac5e-124246c2d8e3",
   "metadata": {},
   "outputs": [],
   "source": [
    "twenty_train = fetch_20newsgroups(subset='train', shuffle=True, random_state=0)"
   ]
  },
  {
   "cell_type": "code",
   "execution_count": 212,
   "id": "a00a7d6b-9140-43d5-b580-d32aa48d5e20",
   "metadata": {},
   "outputs": [
    {
     "data": {
      "text/plain": [
       "20"
      ]
     },
     "execution_count": 212,
     "metadata": {},
     "output_type": "execute_result"
    }
   ],
   "source": [
    "len(twenty_train.target_names)"
   ]
  },
  {
   "cell_type": "code",
   "execution_count": 213,
   "id": "d483c49e-ec6c-4308-a177-ce1f4f71f9bb",
   "metadata": {},
   "outputs": [],
   "source": [
    "from collections import Counter"
   ]
  },
  {
   "cell_type": "code",
   "execution_count": 215,
   "id": "9aef6348-0a7e-4711-b99e-b59bf17834a2",
   "metadata": {
    "collapsed": true,
    "jupyter": {
     "outputs_hidden": true
    },
    "tags": []
   },
   "outputs": [
    {
     "data": {
      "text/plain": [
       "Counter({15: 599,\n",
       "         13: 594,\n",
       "         10: 600,\n",
       "         12: 591,\n",
       "         7: 594,\n",
       "         1: 584,\n",
       "         5: 593,\n",
       "         4: 578,\n",
       "         3: 590,\n",
       "         17: 564,\n",
       "         2: 591,\n",
       "         8: 598,\n",
       "         16: 546,\n",
       "         9: 597,\n",
       "         6: 585,\n",
       "         11: 595,\n",
       "         18: 465,\n",
       "         14: 593,\n",
       "         0: 480,\n",
       "         19: 377})"
      ]
     },
     "execution_count": 215,
     "metadata": {},
     "output_type": "execute_result"
    }
   ],
   "source": [
    "Counter(twenty_train.target) #각각의 문서의 개수"
   ]
  },
  {
   "cell_type": "code",
   "execution_count": 224,
   "id": "76276dbe-cea2-4a64-9f8a-94f30c62a13d",
   "metadata": {},
   "outputs": [
    {
     "data": {
      "text/plain": [
       "'soc.religion.christian'"
      ]
     },
     "execution_count": 224,
     "metadata": {},
     "output_type": "execute_result"
    }
   ],
   "source": [
    "twenty_train.target_names[15]"
   ]
  },
  {
   "cell_type": "code",
   "execution_count": 219,
   "id": "eb0700c0-6f0f-430a-b5e5-98942de348ef",
   "metadata": {
    "collapsed": true,
    "jupyter": {
     "outputs_hidden": true
    },
    "tags": []
   },
   "outputs": [
    {
     "name": "stdout",
     "output_type": "stream",
     "text": [
      "From: kbanner@philae.sas.upenn.edu (Ken Banner)\n",
      "Subject: Re: SATANIC TOUNGES\n",
      "Organization: University of Pennsylvania\n",
      "Lines: 51\n",
      "\n",
      "In article <May.5.02.53.10.1993.28880@athos.rutgers.edu> koberg@spot.Colorado.EDU (Allen Koberg) writes:\n",
      "\n",
      ">.....................................................There is dis-\n",
      ">crepancy even among charismatic organizations as to the proper use\n",
      ">of tongues.  Be it revelatory with interpretation, for prayer use,\n",
      ">or for signifying believers (which I doubt since any one can do it).\n",
      ">Pentecostals (Assembly of God, Church of Christ), seem to espouse all\n",
      ">three.  Neo-pentecostals tend to view prayer use and as a sign as the\n",
      ">uses.  Speaking in tongues during a service is not usually done by\n",
      ">neo-pentecostals because for the most part, they still attend Protestant\n",
      ">churches.  Non-denominational churches seem to view the use as a sign\n",
      ">as merely optional, but recommended.\n",
      "\n",
      "Koberg,\n",
      "\n",
      "\tJust a couple of minor corrections here...\n",
      "\n",
      "\t1)  The Churches of Christ do not usually believe in speaking in\n",
      "tongues, in fact many of them are known for being strongly opposed to\n",
      "Pentecostal teaching.  You are probably thinking of Church of God in\n",
      "Christ, the largest African-American Pentecostal denomination.\n",
      "\n",
      "\t2)  I'm not sure what you mean by \"signifying believers\"  but it\n",
      "should be pointed out that the Assemblies of God does not now, nor has it\n",
      "ever, held that speaking in tongues is the sign that one is a Christian. \n",
      "The doctrine that traditional Pentecostals (including the A/G) maintain is\n",
      "that speaking in tongues is the sign of a second experience after becoming\n",
      "a Christian in which one is \"Baptized in the Holy Spirit\"  That may be\n",
      "what you were referring to, but I point this out because Pentecostals are\n",
      "frequently labeled as believing that you have to speak in tongues in order\n",
      "to be a Christian.  Such a position is only held by some groups and not the\n",
      "majority of Pentecostals.   Many Pentecostals will quote the passage in\n",
      "Mark 16 about \"these signs following them that believe\" but they generally\n",
      "do not interpret this as meaning if you don't pactice the signs you aren't\n",
      "\"saved\".\n",
      "\n",
      "\t3)  I know it's hard to summarize the beliefs of a movement that\n",
      "has such diversity, but I think you've made some pretty big\n",
      "generalizations here.  Do \"Neo-Pentecostals\" only believe in tongues as a\n",
      "sign and tongues as prayer but NOT tongues as revelatory with a message? \n",
      "I've never heard of that before.  In fact I would have characterized them\n",
      "as believing the same as Pentecostals except less likely to see tongues as\n",
      "a sign of Spirit Baptism.  Also, while neo-Pentecostals may not be\n",
      "inclined to speak in tongues in the non-Pentecostal churches they attend,\n",
      "they do have their own meetings and, in many cases, a whole church will be\n",
      "charismatic.\n",
      "\n",
      "Ken Banner\n",
      "Dept. of Religious Studies\n",
      "University of Pennsylvania\n",
      "kbanner@philae.sas.upenn.edu \n",
      "\n"
     ]
    }
   ],
   "source": [
    "print('\\n'.join(twenty_train.data[0].split('\\n')))"
   ]
  },
  {
   "cell_type": "raw",
   "id": "9bc92fc5-63bc-4335-9c2e-5412ab24c47c",
   "metadata": {},
   "source": [
    "pipeline // TF / IDF =>Randomforest"
   ]
  },
  {
   "cell_type": "code",
   "execution_count": 225,
   "id": "ceea1df1-d970-43ad-8cbb-d1e37ad89a13",
   "metadata": {},
   "outputs": [],
   "source": [
    "twenty_test = fetch_20newsgroups(subset='test', shuffle=True, random_state=0)"
   ]
  },
  {
   "cell_type": "code",
   "execution_count": null,
   "id": "98689379-3cea-44c7-b03d-75effbcb6d62",
   "metadata": {},
   "outputs": [],
   "source": []
  },
  {
   "cell_type": "code",
   "execution_count": 247,
   "id": "969b5981-707e-4dbc-be01-c686c276a05a",
   "metadata": {},
   "outputs": [],
   "source": [
    "from sklearn.feature_extraction.text import TfidfVectorizer\n",
    "from sklearn.ensemble import RandomForestClassifier\n",
    "from sklearn.pipeline import Pipeline\n",
    "from sklearn.pipeline import make_pipeline\n",
    "from sklearn.metrics import f1_score"
   ]
  },
  {
   "cell_type": "code",
   "execution_count": 232,
   "id": "026e6f5a-c688-4bcf-b222-f88382ab4c41",
   "metadata": {},
   "outputs": [],
   "source": [
    "pipe = make_pipeline(TfidfVectorizer(), RandomForestClassifier())"
   ]
  },
  {
   "cell_type": "code",
   "execution_count": 239,
   "id": "acb41c9a-47d2-49db-9f37-f859422d07a8",
   "metadata": {},
   "outputs": [
    {
     "data": {
      "text/plain": [
       "Pipeline(steps=[('tfidfvectorizer', TfidfVectorizer()),\n",
       "                ('randomforestclassifier', RandomForestClassifier())])"
      ]
     },
     "execution_count": 239,
     "metadata": {},
     "output_type": "execute_result"
    }
   ],
   "source": [
    "pipe.fit(twenty_train.data, twenty_train.target)"
   ]
  },
  {
   "cell_type": "code",
   "execution_count": 241,
   "id": "e178dd1f-239c-4404-87f8-f229a28d8b64",
   "metadata": {},
   "outputs": [
    {
     "data": {
      "text/plain": [
       "0.9999116139296447"
      ]
     },
     "execution_count": 241,
     "metadata": {},
     "output_type": "execute_result"
    }
   ],
   "source": [
    "pipe.score(twenty_train.data, twenty_train.target)"
   ]
  },
  {
   "cell_type": "code",
   "execution_count": 242,
   "id": "87cd4ffe-96a1-4319-bb32-e4385a41f75a",
   "metadata": {},
   "outputs": [
    {
     "data": {
      "text/plain": [
       "0.7584970791290494"
      ]
     },
     "execution_count": 242,
     "metadata": {},
     "output_type": "execute_result"
    }
   ],
   "source": [
    "pipe.score(twenty_test.data, twenty_test.target)"
   ]
  },
  {
   "cell_type": "code",
   "execution_count": 238,
   "id": "0e1e87c8-36b9-4d13-a90e-a899c23519ac",
   "metadata": {},
   "outputs": [
    {
     "name": "stdout",
     "output_type": "stream",
     "text": [
      "From: mliggett@silver.ucs.indiana.edu (matthew liggett)\n",
      "Subject: Re: V4 V6 V8 V12 Vx?\n",
      "Nntp-Posting-Host: silver.ucs.indiana.edu\n",
      "Organization: Indiana University\n",
      "Lines: 32\n",
      "\n",
      "In <1993Apr23.132214.6755@cs.tulane.edu> finnegan@nrlssc.navy.mil writes:\n",
      "\n",
      ">In article <Apr22.202724.24131@engr.washington.edu>\n",
      ">eliot@stalfos.engr.washington.edu (eliot) writes:\n",
      ">>\n",
      ">>the subarus all use 180 degree vees in their engines..  :-)\n",
      ">>\n",
      ">>\n",
      ">>eliot\n",
      "\n",
      ">Wouldn't that make them an I4?  Or would they \n",
      ">really be an _4 (henceforth referred to as\n",
      ">\"underscore 4\")?\n",
      "\n",
      "horizontally opposed 4.\n",
      "or 'boxer'\n",
      "great idea, actually..\n",
      "smooth running; low center of gravity..\n",
      "also used in some honda gullwings, corvairs, porsches (others?)\n",
      "...\n",
      "\n",
      ">Kenneth\n",
      ">finnegan@nrlssc.navy.mil\n",
      "\n",
      "\n",
      "\n",
      "\n",
      "-- \n",
      "/-=*=-=*=-=*=-=*=-=*=-=*=-=*=-=*=-=*=-=*=-=*=-=*=-=*=-=*=-=*=-=*=-=*=-=*=-=*=-\\\n",
      "| |\\/|  __   -=> mliggett@silver.ucs.indiana.edu <=- (mliggett@iugold.bitnet  |\n",
      "* |  |/\\||   'junk' collector, toys R us kid, antiauthoritarian, and fan of   *\n",
      "| frogs, iguanas, and other herps.\t\t\t\t\t      |\n",
      "\n"
     ]
    }
   ],
   "source": [
    "print('\\n'.join(twenty_test.data[0].split('\\n')))"
   ]
  },
  {
   "cell_type": "code",
   "execution_count": 255,
   "id": "5609ff43-7aad-4371-8e51-7f3357c2cffa",
   "metadata": {},
   "outputs": [],
   "source": [
    "y_pred = pipe.predict(twenty_test.data)"
   ]
  },
  {
   "cell_type": "code",
   "execution_count": 256,
   "id": "c517d729-e09c-4331-94cd-1bfd7fd0b758",
   "metadata": {},
   "outputs": [
    {
     "data": {
      "text/plain": [
       "0.7453099880665475"
      ]
     },
     "execution_count": 256,
     "metadata": {},
     "output_type": "execute_result"
    }
   ],
   "source": [
    "f1_score(twenty_test.target, y_pred, average='macro')"
   ]
  },
  {
   "cell_type": "code",
   "execution_count": null,
   "id": "a372d2db-8ba9-43c7-a08a-2f727879b97b",
   "metadata": {},
   "outputs": [],
   "source": []
  },
  {
   "cell_type": "code",
   "execution_count": 249,
   "id": "675ef27b-c6cc-4ea7-a1d3-67a49c39661e",
   "metadata": {},
   "outputs": [],
   "source": [
    "from xgboost import XGBClassifier"
   ]
  },
  {
   "cell_type": "code",
   "execution_count": 250,
   "id": "247930fb-8ba2-470a-b3c9-8195e59a3de1",
   "metadata": {},
   "outputs": [],
   "source": [
    "from sklearn.model_selection import train_test_split"
   ]
  },
  {
   "cell_type": "code",
   "execution_count": 258,
   "id": "407cbd06-3d67-4375-809b-b6204bd942e9",
   "metadata": {},
   "outputs": [],
   "source": [
    "from sklearn.model_selection import GridSearchCV"
   ]
  },
  {
   "cell_type": "code",
   "execution_count": 251,
   "id": "bc2fd924-daec-4525-ba1c-9e63db211a6a",
   "metadata": {},
   "outputs": [],
   "source": [
    "pipe1 = make_pipeline(TfidfVectorizer(), XGBClassifier())"
   ]
  },
  {
   "cell_type": "code",
   "execution_count": 252,
   "id": "88125201-942d-401b-aa83-4b7bee03ef1c",
   "metadata": {},
   "outputs": [],
   "source": [
    "x_train, x_test, y_train, y_test = train_test_split(twenty_train.data, twenty_train.target, test_size=0.2)"
   ]
  },
  {
   "cell_type": "code",
   "execution_count": 253,
   "id": "50448e77-2332-45c0-87b0-73dc6e7e9132",
   "metadata": {},
   "outputs": [
    {
     "data": {
      "text/plain": [
       "Pipeline(steps=[('tfidfvectorizer', TfidfVectorizer()),\n",
       "                ('xgbclassifier',\n",
       "                 XGBClassifier(base_score=0.5, booster='gbtree', callbacks=None,\n",
       "                               colsample_bylevel=1, colsample_bynode=1,\n",
       "                               colsample_bytree=1, early_stopping_rounds=None,\n",
       "                               enable_categorical=False, eval_metric=None,\n",
       "                               feature_types=None, gamma=0, gpu_id=-1,\n",
       "                               grow_policy='depthwise', importance_type=None,\n",
       "                               interaction_constraints='',\n",
       "                               learning_rate=0.300000012, max_bin=256,\n",
       "                               max_cat_threshold=64, max_cat_to_onehot=4,\n",
       "                               max_delta_step=0, max_depth=6, max_leaves=0,\n",
       "                               min_child_weight=1, missing=nan,\n",
       "                               monotone_constraints='()', n_estimators=100,\n",
       "                               n_jobs=0, num_parallel_tree=1,\n",
       "                               objective='multi:softprob', predictor='auto', ...))])"
      ]
     },
     "execution_count": 253,
     "metadata": {},
     "output_type": "execute_result"
    }
   ],
   "source": [
    "pipe1.fit(x_train, y_train)"
   ]
  },
  {
   "cell_type": "code",
   "execution_count": 254,
   "id": "647e8e17-f221-4986-a7ca-7e5073f4fb62",
   "metadata": {},
   "outputs": [
    {
     "data": {
      "text/plain": [
       "0.9998895149707214"
      ]
     },
     "execution_count": 254,
     "metadata": {},
     "output_type": "execute_result"
    }
   ],
   "source": [
    "pipe1.score(x_train,y_train)"
   ]
  },
  {
   "cell_type": "code",
   "execution_count": 257,
   "id": "e98137bf-6ddc-4c94-8de9-59abf7736db8",
   "metadata": {},
   "outputs": [
    {
     "data": {
      "text/plain": [
       "0.8144056562085726"
      ]
     },
     "execution_count": 257,
     "metadata": {},
     "output_type": "execute_result"
    }
   ],
   "source": [
    "pipe1.score(x_test, y_test)"
   ]
  },
  {
   "cell_type": "code",
   "execution_count": 259,
   "id": "529879dd-b3d9-4291-a69a-e8296ff39878",
   "metadata": {},
   "outputs": [
    {
     "data": {
      "text/plain": [
       "dict_keys(['memory', 'steps', 'verbose', 'tfidfvectorizer', 'xgbclassifier', 'tfidfvectorizer__analyzer', 'tfidfvectorizer__binary', 'tfidfvectorizer__decode_error', 'tfidfvectorizer__dtype', 'tfidfvectorizer__encoding', 'tfidfvectorizer__input', 'tfidfvectorizer__lowercase', 'tfidfvectorizer__max_df', 'tfidfvectorizer__max_features', 'tfidfvectorizer__min_df', 'tfidfvectorizer__ngram_range', 'tfidfvectorizer__norm', 'tfidfvectorizer__preprocessor', 'tfidfvectorizer__smooth_idf', 'tfidfvectorizer__stop_words', 'tfidfvectorizer__strip_accents', 'tfidfvectorizer__sublinear_tf', 'tfidfvectorizer__token_pattern', 'tfidfvectorizer__tokenizer', 'tfidfvectorizer__use_idf', 'tfidfvectorizer__vocabulary', 'xgbclassifier__objective', 'xgbclassifier__use_label_encoder', 'xgbclassifier__base_score', 'xgbclassifier__booster', 'xgbclassifier__callbacks', 'xgbclassifier__colsample_bylevel', 'xgbclassifier__colsample_bynode', 'xgbclassifier__colsample_bytree', 'xgbclassifier__early_stopping_rounds', 'xgbclassifier__enable_categorical', 'xgbclassifier__eval_metric', 'xgbclassifier__feature_types', 'xgbclassifier__gamma', 'xgbclassifier__gpu_id', 'xgbclassifier__grow_policy', 'xgbclassifier__importance_type', 'xgbclassifier__interaction_constraints', 'xgbclassifier__learning_rate', 'xgbclassifier__max_bin', 'xgbclassifier__max_cat_threshold', 'xgbclassifier__max_cat_to_onehot', 'xgbclassifier__max_delta_step', 'xgbclassifier__max_depth', 'xgbclassifier__max_leaves', 'xgbclassifier__min_child_weight', 'xgbclassifier__missing', 'xgbclassifier__monotone_constraints', 'xgbclassifier__n_estimators', 'xgbclassifier__n_jobs', 'xgbclassifier__num_parallel_tree', 'xgbclassifier__predictor', 'xgbclassifier__random_state', 'xgbclassifier__reg_alpha', 'xgbclassifier__reg_lambda', 'xgbclassifier__sampling_method', 'xgbclassifier__scale_pos_weight', 'xgbclassifier__subsample', 'xgbclassifier__tree_method', 'xgbclassifier__validate_parameters', 'xgbclassifier__verbosity'])"
      ]
     },
     "execution_count": 259,
     "metadata": {},
     "output_type": "execute_result"
    }
   ],
   "source": [
    "pipe1.get_params().keys()"
   ]
  },
  {
   "cell_type": "code",
   "execution_count": null,
   "id": "3a966e5f-749d-44a6-8296-e9ca0841c7a1",
   "metadata": {},
   "outputs": [],
   "source": [
    "param_grid = {}"
   ]
  },
  {
   "cell_type": "code",
   "execution_count": null,
   "id": "df17e0ec-9b58-424f-8d2a-a55a9c79082a",
   "metadata": {},
   "outputs": [],
   "source": []
  },
  {
   "cell_type": "code",
   "execution_count": null,
   "id": "7b7fec26-3eda-441a-8dec-95e9f9af00be",
   "metadata": {},
   "outputs": [],
   "source": [
    "mod =GridSearchCV(pipe1, param_grid, n_jobs=-1)"
   ]
  },
  {
   "cell_type": "code",
   "execution_count": null,
   "id": "40bfaedb-793f-4981-882a-8a8bde63234d",
   "metadata": {},
   "outputs": [],
   "source": []
  },
  {
   "cell_type": "markdown",
   "id": "af444781-11c1-49c5-9e2b-f7fe3ad1c43d",
   "metadata": {},
   "source": [
    "-------------"
   ]
  },
  {
   "cell_type": "code",
   "execution_count": null,
   "id": "09f0cf74-8d0e-41db-8bb5-1ce5635456c0",
   "metadata": {},
   "outputs": [],
   "source": []
  },
  {
   "cell_type": "code",
   "execution_count": 260,
   "id": "a4932ba6-33f1-43d6-a145-e296783cbb8f",
   "metadata": {},
   "outputs": [],
   "source": [
    "from sklearn.ensemble import RandomForestClassifier\n",
    "from sklearn.pipeline import make_pipeline"
   ]
  },
  {
   "cell_type": "code",
   "execution_count": 262,
   "id": "cc87481d-450e-43e4-9833-9fe721f40931",
   "metadata": {},
   "outputs": [],
   "source": [
    "pipe=make_pipeline(TfidfVectorizer(), RandomForestClassifier())"
   ]
  },
  {
   "cell_type": "code",
   "execution_count": 263,
   "id": "b2f886f2-b383-4ac0-9adb-eb45ec9897b5",
   "metadata": {},
   "outputs": [
    {
     "data": {
      "text/plain": [
       "Pipeline(steps=[('tfidfvectorizer', TfidfVectorizer()),\n",
       "                ('randomforestclassifier', RandomForestClassifier())])"
      ]
     },
     "execution_count": 263,
     "metadata": {},
     "output_type": "execute_result"
    }
   ],
   "source": [
    "pipe.fit(twenty_train.data, twenty_train.target)"
   ]
  },
  {
   "cell_type": "code",
   "execution_count": 264,
   "id": "a6b842ff-4474-4381-9414-1e844bb7aa47",
   "metadata": {},
   "outputs": [
    {
     "data": {
      "text/plain": [
       "0.9999116139296447"
      ]
     },
     "execution_count": 264,
     "metadata": {},
     "output_type": "execute_result"
    }
   ],
   "source": [
    "pipe.score(twenty_train.data, twenty_train.target)"
   ]
  },
  {
   "cell_type": "code",
   "execution_count": 265,
   "id": "15704243-f4a0-41b8-a55b-0266764b4f7c",
   "metadata": {},
   "outputs": [
    {
     "data": {
      "text/plain": [
       "0.758364312267658"
      ]
     },
     "execution_count": 265,
     "metadata": {},
     "output_type": "execute_result"
    }
   ],
   "source": [
    "pipe.score(twenty_test.data, twenty_test.target)"
   ]
  },
  {
   "cell_type": "code",
   "execution_count": 266,
   "id": "f1f1173c-c3d6-4de5-bd8b-d0a41eaa1416",
   "metadata": {},
   "outputs": [],
   "source": [
    "from sklearn.metrics import f1_score"
   ]
  },
  {
   "cell_type": "code",
   "execution_count": 267,
   "id": "7d052147-93f5-4a40-a697-4d08b731fa89",
   "metadata": {},
   "outputs": [],
   "source": [
    "pred= pipe.predict(twenty_test.data)"
   ]
  },
  {
   "cell_type": "code",
   "execution_count": 268,
   "id": "46d93f56-086c-44f2-8361-a03e4de41b5f",
   "metadata": {},
   "outputs": [
    {
     "data": {
      "text/plain": [
       "0.7442729005274582"
      ]
     },
     "execution_count": 268,
     "metadata": {},
     "output_type": "execute_result"
    }
   ],
   "source": [
    "f1_score(twenty_test.target, pred, average='macro')"
   ]
  },
  {
   "cell_type": "raw",
   "id": "cd8e2541-9156-43d5-9a57-daa6bba520be",
   "metadata": {},
   "source": [
    "튜닝을 위해~ GridSearchCV 사용!"
   ]
  },
  {
   "cell_type": "code",
   "execution_count": 270,
   "id": "38a4d6e3-2b8f-4984-a085-9491983aff14",
   "metadata": {},
   "outputs": [],
   "source": [
    "from sklearn.model_selection import GridSearchCV"
   ]
  },
  {
   "cell_type": "code",
   "execution_count": 275,
   "id": "bcf378a1-7ef0-49d8-84ae-f17b2effd303",
   "metadata": {},
   "outputs": [],
   "source": [
    "model = RandomForestClassifier()"
   ]
  },
  {
   "cell_type": "code",
   "execution_count": 276,
   "id": "e2829788-efaf-4d9e-a65d-337fd2f0ed2f",
   "metadata": {},
   "outputs": [
    {
     "data": {
      "text/plain": [
       "RandomForestClassifier()"
      ]
     },
     "execution_count": 276,
     "metadata": {},
     "output_type": "execute_result"
    }
   ],
   "source": [
    "pipe.named_steps['randomforestclassifier']"
   ]
  },
  {
   "cell_type": "code",
   "execution_count": 282,
   "id": "676d9c7b-99bd-423d-a0c6-f9ac8fc92cb1",
   "metadata": {},
   "outputs": [],
   "source": [
    "param_grid ={'randomforestclassifier__criterion' : ['gini','entropy','log_loss'],\n",
    "             'randomforestclassifier__max_features' : ['sqrt','log2'],\n",
    "                          'tfidfvectorizer__norm' : ['l1','l2']}"
   ]
  },
  {
   "cell_type": "code",
   "execution_count": 283,
   "id": "1ecf9f9c-971d-491b-a873-f6fcb1e9dab9",
   "metadata": {},
   "outputs": [],
   "source": [
    "grid_model =GridSearchCV(pipe, param_grid, verbose=1, n_jobs=-1)"
   ]
  },
  {
   "cell_type": "code",
   "execution_count": 284,
   "id": "a9d224aa-4e22-4cd2-9f03-a5f12b912267",
   "metadata": {
    "collapsed": true,
    "jupyter": {
     "outputs_hidden": true
    },
    "tags": []
   },
   "outputs": [
    {
     "name": "stdout",
     "output_type": "stream",
     "text": [
      "Fitting 5 folds for each of 12 candidates, totalling 60 fits\n"
     ]
    },
    {
     "name": "stderr",
     "output_type": "stream",
     "text": [
      "C:\\Users\\user\\anaconda3\\lib\\site-packages\\sklearn\\model_selection\\_validation.py:372: FitFailedWarning: \n",
      "20 fits failed out of a total of 60.\n",
      "The score on these train-test partitions for these parameters will be set to nan.\n",
      "If these failures are not expected, you can try to debug them by setting error_score='raise'.\n",
      "\n",
      "Below are more details about the failures:\n",
      "--------------------------------------------------------------------------------\n",
      "20 fits failed with the following error:\n",
      "Traceback (most recent call last):\n",
      "  File \"C:\\Users\\user\\anaconda3\\lib\\site-packages\\sklearn\\model_selection\\_validation.py\", line 680, in _fit_and_score\n",
      "    estimator.fit(X_train, y_train, **fit_params)\n",
      "  File \"C:\\Users\\user\\anaconda3\\lib\\site-packages\\sklearn\\pipeline.py\", line 394, in fit\n",
      "    self._final_estimator.fit(Xt, y, **fit_params_last_step)\n",
      "  File \"C:\\Users\\user\\anaconda3\\lib\\site-packages\\sklearn\\ensemble\\_forest.py\", line 450, in fit\n",
      "    trees = Parallel(\n",
      "  File \"C:\\Users\\user\\anaconda3\\lib\\site-packages\\joblib\\parallel.py\", line 1043, in __call__\n",
      "    if self.dispatch_one_batch(iterator):\n",
      "  File \"C:\\Users\\user\\anaconda3\\lib\\site-packages\\joblib\\parallel.py\", line 861, in dispatch_one_batch\n",
      "    self._dispatch(tasks)\n",
      "  File \"C:\\Users\\user\\anaconda3\\lib\\site-packages\\joblib\\parallel.py\", line 779, in _dispatch\n",
      "    job = self._backend.apply_async(batch, callback=cb)\n",
      "  File \"C:\\Users\\user\\anaconda3\\lib\\site-packages\\joblib\\_parallel_backends.py\", line 208, in apply_async\n",
      "    result = ImmediateResult(func)\n",
      "  File \"C:\\Users\\user\\anaconda3\\lib\\site-packages\\joblib\\_parallel_backends.py\", line 572, in __init__\n",
      "    self.results = batch()\n",
      "  File \"C:\\Users\\user\\anaconda3\\lib\\site-packages\\joblib\\parallel.py\", line 262, in __call__\n",
      "    return [func(*args, **kwargs)\n",
      "  File \"C:\\Users\\user\\anaconda3\\lib\\site-packages\\joblib\\parallel.py\", line 262, in <listcomp>\n",
      "    return [func(*args, **kwargs)\n",
      "  File \"C:\\Users\\user\\anaconda3\\lib\\site-packages\\sklearn\\utils\\fixes.py\", line 216, in __call__\n",
      "    return self.function(*args, **kwargs)\n",
      "  File \"C:\\Users\\user\\anaconda3\\lib\\site-packages\\sklearn\\ensemble\\_forest.py\", line 185, in _parallel_build_trees\n",
      "    tree.fit(X, y, sample_weight=curr_sample_weight, check_input=False)\n",
      "  File \"C:\\Users\\user\\anaconda3\\lib\\site-packages\\sklearn\\tree\\_classes.py\", line 937, in fit\n",
      "    super().fit(\n",
      "  File \"C:\\Users\\user\\anaconda3\\lib\\site-packages\\sklearn\\tree\\_classes.py\", line 352, in fit\n",
      "    criterion = CRITERIA_CLF[self.criterion](\n",
      "KeyError: 'log_loss'\n",
      "\n",
      "  warnings.warn(some_fits_failed_message, FitFailedWarning)\n",
      "C:\\Users\\user\\anaconda3\\lib\\site-packages\\sklearn\\model_selection\\_search.py:969: UserWarning: One or more of the test scores are non-finite: [0.83268523 0.83091719 0.83118225 0.83613249 0.73740565 0.74102916\n",
      " 0.79741949 0.80572611        nan        nan        nan        nan]\n",
      "  warnings.warn(\n"
     ]
    },
    {
     "data": {
      "text/plain": [
       "GridSearchCV(estimator=Pipeline(steps=[('tfidfvectorizer', TfidfVectorizer()),\n",
       "                                       ('randomforestclassifier',\n",
       "                                        RandomForestClassifier())]),\n",
       "             n_jobs=-1,\n",
       "             param_grid={'randomforestclassifier__criterion': ['gini',\n",
       "                                                               'entropy',\n",
       "                                                               'log_loss'],\n",
       "                         'randomforestclassifier__max_features': ['sqrt',\n",
       "                                                                  'log2'],\n",
       "                         'tfidfvectorizer__norm': ['l1', 'l2']},\n",
       "             verbose=1)"
      ]
     },
     "execution_count": 284,
     "metadata": {},
     "output_type": "execute_result"
    }
   ],
   "source": [
    "grid_model.fit(twenty_train.data, twenty_train.target)"
   ]
  },
  {
   "cell_type": "code",
   "execution_count": 285,
   "id": "d957501d-3f4f-4618-97ff-6c43723a468e",
   "metadata": {},
   "outputs": [
    {
     "data": {
      "text/plain": [
       "0.7326075411577271"
      ]
     },
     "execution_count": 285,
     "metadata": {},
     "output_type": "execute_result"
    }
   ],
   "source": [
    "grid_model.best_estimator_.score(twenty_test.data, twenty_test.target)"
   ]
  },
  {
   "cell_type": "code",
   "execution_count": null,
   "id": "6c0eb0cc-d9c6-46b9-8c96-b1b87eba40b9",
   "metadata": {},
   "outputs": [],
   "source": []
  }
 ],
 "metadata": {
  "kernelspec": {
   "display_name": "Python 3 (ipykernel)",
   "language": "python",
   "name": "python3"
  },
  "language_info": {
   "codemirror_mode": {
    "name": "ipython",
    "version": 3
   },
   "file_extension": ".py",
   "mimetype": "text/x-python",
   "name": "python",
   "nbconvert_exporter": "python",
   "pygments_lexer": "ipython3",
   "version": "3.9.12"
  }
 },
 "nbformat": 4,
 "nbformat_minor": 5
}
