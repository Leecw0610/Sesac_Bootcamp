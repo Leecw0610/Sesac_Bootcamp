{
 "cells": [
  {
   "cell_type": "markdown",
   "id": "f3938626-1567-456b-b5c9-8b103455f0a8",
   "metadata": {},
   "source": [
    "# Kaggle spaceship Titanic 예측하기"
   ]
  },
  {
   "cell_type": "markdown",
   "id": "15a3d54e-8726-4766-9c98-2d39530e7278",
   "metadata": {},
   "source": [
    "## 0. 라이브러리 불러오기"
   ]
  },
  {
   "cell_type": "code",
   "execution_count": null,
   "id": "4d865454-771d-482e-98dd-57b0b4ff1109",
   "metadata": {},
   "outputs": [],
   "source": [
    "import time\n",
    "import numpy as np\n",
    "import pandas as pd\n",
    "import seaborn as sns\n",
    "import matplotlib.pyplot as plt\n",
    "from sklearn.metrics import accuracy_score, confusion_matrix, f1_score, mean_absolute_error\n",
    "from sklearn.preprocessing import LabelEncoder, StandardScaler, MinMaxScaler\n",
    "from sklearn.model_selection import train_test_split\n",
    "import warnings\n",
    "warnings.filterwarnings('ignore')\n",
    "from sklearn.linear_model import LinearRegression, LogisticRegression\n",
    "from sklearn.svm import SVC\n",
    "from sklearn.tree import DecisionTreeClassifier\n",
    "from sklearn.ensemble import RandomForestClassifier\n",
    "import pickle\n",
    "from sklearn.preprocessing import Normalizer\n",
    "from sklearn.pipeline import Pipeline\n",
    "from sklearn.pipeline import make_pipeline\n",
    "from sklearn.metrics import f1_score\n"
   ]
  },
  {
   "cell_type": "markdown",
   "id": "258e7d21-677f-4420-a035-d5eff53ddf5d",
   "metadata": {},
   "source": [
    "## 1. 데이터 준비 및 데이터 살펴보기"
   ]
  },
  {
   "cell_type": "code",
   "execution_count": null,
   "id": "b881c0e8-e227-42fc-99e4-6e8eb05d618b",
   "metadata": {},
   "outputs": [],
   "source": [
    "train=pd.read_csv('train.csv')"
   ]
  },
  {
   "cell_type": "code",
   "execution_count": null,
   "id": "49b7856e-99b4-4e44-8146-3bbec19f8102",
   "metadata": {},
   "outputs": [],
   "source": [
    "train"
   ]
  },
  {
   "cell_type": "code",
   "execution_count": null,
   "id": "9bb77e8a-f021-4a5c-958e-a8335012285c",
   "metadata": {},
   "outputs": [],
   "source": [
    "train.columns"
   ]
  },
  {
   "cell_type": "markdown",
   "id": "c7398343-2da4-4c8c-ab1c-202a53750e6b",
   "metadata": {},
   "source": [
    "### 1-1. 변수해석"
   ]
  },
  {
   "cell_type": "raw",
   "id": "c16886c8-7ae5-4572-8efd-1c1166308bdb",
   "metadata": {},
   "source": [
    "PassengerId- 각 승객의 고유 ID. 각 Id는 승객이 함께 여행하는 그룹을 나타내고 그룹 내의 번호를 gggg_pp나타내는 형식을 취합니다. 그룹의 사람들은 종종 가족 구성원이지만 항상 그런 것은 아닙니다.ggggpp\n",
    "HomePlanet- 본 거주 행성.\n",
    "CryoSleep- 냉동 수면상태인지 아닌지\n",
    "Cabin- 승객이 머무르는 객실 번호. deck/num/side // side는 P는  Port / S 는 Starboard를 뜻함.\n",
    "Destination- 승객이 내릴 행성.(목적지)\n",
    "Age- 승객의 나이.\n",
    "VIP- 승객이 항해 중 특별 VIP 서비스 비용을 지불했는지 여부.\n",
    "RoomService, FoodCourt, ShoppingMall, Spa, VRDeck- 승객이 Spaceship Titanic 의 다양한 고급 편의 시설 각각에 대해 청구한 금액\\\n",
    "Name- 승객의 성과 이름\n",
    "Transported- 승객이 다른 차원으로 이동했는지 여부. 이것은 목표, 예측하려는 열입니다.<타겟변수>"
   ]
  },
  {
   "cell_type": "code",
   "execution_count": null,
   "id": "552ccd61-9104-4107-a278-6c03146a03ce",
   "metadata": {},
   "outputs": [],
   "source": []
  },
  {
   "cell_type": "markdown",
   "id": "23bcc207-49ce-4ee1-a5e7-85b75a4f1e41",
   "metadata": {
    "tags": []
   },
   "source": [
    "#### 1-1-1. 타겟 변수 살펴보기"
   ]
  },
  {
   "cell_type": "code",
   "execution_count": null,
   "id": "160636d8-e37b-41bd-9fbd-2e66dcb95bb8",
   "metadata": {},
   "outputs": [],
   "source": [
    "train['Transported'].value_counts()"
   ]
  },
  {
   "cell_type": "raw",
   "id": "0bf5c8d3-12dd-40e7-bbe8-9439fa423ac1",
   "metadata": {},
   "source": [
    "거의 50 : 50의 분포 (다른 차원으로 이동했는지 안했는지)"
   ]
  },
  {
   "cell_type": "code",
   "execution_count": null,
   "id": "218559f3-4430-4114-bf59-270b00972f4e",
   "metadata": {},
   "outputs": [],
   "source": []
  },
  {
   "cell_type": "code",
   "execution_count": null,
   "id": "a762371f-014b-480f-a833-01829806b8bd",
   "metadata": {},
   "outputs": [],
   "source": [
    "train.groupby(['Transported','VIP']).size()"
   ]
  },
  {
   "cell_type": "code",
   "execution_count": null,
   "id": "4ba79a82-f16f-4d01-a2da-be44029d63de",
   "metadata": {},
   "outputs": [],
   "source": [
    "train.groupby(['HomePlanet','VIP']).size() ###Homeplanet이 earth이면 vip가 아니다!!"
   ]
  },
  {
   "cell_type": "code",
   "execution_count": null,
   "id": "b4c8016e-9e85-457a-bf7b-f986f8ea7a38",
   "metadata": {},
   "outputs": [],
   "source": [
    "train.groupby(['Transported','HomePlanet']).size()"
   ]
  },
  {
   "cell_type": "raw",
   "id": "f5055bf5-760e-408c-8d23-62f4d1afbc76",
   "metadata": {},
   "source": [
    "**변수들마다의 관계를 여러가지로 파악해봐야 eda에 쓸 많은 정보를 얻을 수 있다!!"
   ]
  },
  {
   "cell_type": "code",
   "execution_count": null,
   "id": "d34485dd-59c1-4ddc-8699-cdb48a3a91fb",
   "metadata": {},
   "outputs": [],
   "source": []
  },
  {
   "cell_type": "code",
   "execution_count": null,
   "id": "1a6fce14-a6a0-4ffa-904c-c36e970b73f6",
   "metadata": {},
   "outputs": [],
   "source": []
  },
  {
   "cell_type": "code",
   "execution_count": null,
   "id": "04f044f6-45b9-4e66-b667-c8e428580b32",
   "metadata": {},
   "outputs": [],
   "source": []
  },
  {
   "cell_type": "code",
   "execution_count": null,
   "id": "2cf9227f-ada0-4b64-977f-40ec71e73359",
   "metadata": {},
   "outputs": [],
   "source": []
  },
  {
   "cell_type": "code",
   "execution_count": null,
   "id": "7e289346-13e7-4887-ae5b-b0dd43e876b2",
   "metadata": {},
   "outputs": [],
   "source": []
  },
  {
   "cell_type": "code",
   "execution_count": null,
   "id": "7be671b6-f9d5-41ae-b211-dde4b5cb03c4",
   "metadata": {},
   "outputs": [],
   "source": []
  },
  {
   "cell_type": "markdown",
   "id": "0da9270b-7bf2-4005-a5fa-149b0dfd79c4",
   "metadata": {},
   "source": [
    "#### 1-1-2. 예측 변수들 살펴보기"
   ]
  },
  {
   "cell_type": "code",
   "execution_count": null,
   "id": "3138ba82-66a2-4b3b-95b2-2ed7d182c060",
   "metadata": {},
   "outputs": [],
   "source": []
  },
  {
   "cell_type": "markdown",
   "id": "202bdf0a-8fab-4159-a426-d90b61ae7937",
   "metadata": {},
   "source": [
    "##### 1-1-2-2. Groupby로 살펴보기"
   ]
  },
  {
   "cell_type": "code",
   "execution_count": null,
   "id": "d1a2fdce-7e8b-4204-8302-05095eed82e6",
   "metadata": {},
   "outputs": [],
   "source": []
  },
  {
   "cell_type": "markdown",
   "id": "e70f1668-4ec8-453f-8fd3-bac6850675eb",
   "metadata": {},
   "source": [
    "### 1-2. 변수의 결측치/ 중복값 살펴보기"
   ]
  },
  {
   "cell_type": "code",
   "execution_count": null,
   "id": "c678b23f-d714-4282-91a3-63d01d6420b0",
   "metadata": {},
   "outputs": [],
   "source": [
    "train.isnull().sum().sum() #space 데이터의 총 결측치 수"
   ]
  },
  {
   "cell_type": "code",
   "execution_count": null,
   "id": "260cbb70-0a49-430f-b67a-7a454c0e00af",
   "metadata": {},
   "outputs": [],
   "source": [
    "train.isnull().sum() #space 데이터의 항목별 결측치 분포"
   ]
  },
  {
   "cell_type": "code",
   "execution_count": null,
   "id": "7b2a9a2f-0943-4663-bd0a-54edb83b3e94",
   "metadata": {},
   "outputs": [],
   "source": [
    "train.info()"
   ]
  },
  {
   "cell_type": "code",
   "execution_count": null,
   "id": "f5b01dfd-3f5c-4666-a0e6-99884905787d",
   "metadata": {},
   "outputs": [],
   "source": [
    "train.nunique()"
   ]
  },
  {
   "cell_type": "code",
   "execution_count": null,
   "id": "e68fb95c-7d12-42c5-b351-0df511397122",
   "metadata": {},
   "outputs": [],
   "source": [
    "train.duplicated().sum()  #train에 중복 데이터는 없음"
   ]
  },
  {
   "cell_type": "code",
   "execution_count": null,
   "id": "ea37c635-c65f-446e-a8ab-baf19f9f718f",
   "metadata": {},
   "outputs": [],
   "source": []
  },
  {
   "cell_type": "code",
   "execution_count": null,
   "id": "80741937-7f98-4598-9732-d69adeb84941",
   "metadata": {},
   "outputs": [],
   "source": []
  },
  {
   "cell_type": "markdown",
   "id": "38c069ba-da97-4d55-a47c-e360f608464b",
   "metadata": {
    "tags": []
   },
   "source": [
    "### 1-3. 각 변수들의 처리에 대한 고민 및 살펴보기(하나씩 해보자!)"
   ]
  },
  {
   "cell_type": "code",
   "execution_count": null,
   "id": "4ed9364a-6578-4520-9824-1ccd61fbbb81",
   "metadata": {},
   "outputs": [],
   "source": [
    "train"
   ]
  },
  {
   "cell_type": "markdown",
   "id": "d5997d70-fed3-4ef9-91ad-9aae5ccb5f2f",
   "metadata": {},
   "source": [
    "#### 0)PassengerId 를 그룹별로 나눠볼 수도 있음.(데이터의 행이 줄어든다 => 유의미한 결과 도출할 수 있을까?"
   ]
  },
  {
   "cell_type": "code",
   "execution_count": null,
   "id": "2403cf60-bfed-4a1d-a60c-711506ee7202",
   "metadata": {
    "tags": []
   },
   "outputs": [],
   "source": [
    "dic_id = {}\n",
    "for i in train['PassengerId'] :\n",
    "    dic_id[i] = i[:4]"
   ]
  },
  {
   "cell_type": "code",
   "execution_count": null,
   "id": "02fccb7e-5551-4905-90e2-56c52f0d0f11",
   "metadata": {
    "tags": []
   },
   "outputs": [],
   "source": [
    "dic_id"
   ]
  },
  {
   "cell_type": "code",
   "execution_count": null,
   "id": "57769fc3-30f0-42ba-a962-c92f317697a6",
   "metadata": {},
   "outputs": [],
   "source": [
    "train['pid'] = train['PassengerId'].map(dic_id)"
   ]
  },
  {
   "cell_type": "code",
   "execution_count": null,
   "id": "e7759728-7458-46f6-9e51-0d59459e0943",
   "metadata": {},
   "outputs": [],
   "source": [
    "train"
   ]
  },
  {
   "cell_type": "code",
   "execution_count": null,
   "id": "b9ed9b6e-5476-48f3-8037-b709cd48797a",
   "metadata": {},
   "outputs": [],
   "source": [
    "train['pid'].nunique()"
   ]
  },
  {
   "cell_type": "raw",
   "id": "fb2537e1-ac53-448e-abc9-5e072a17ce57",
   "metadata": {},
   "source": [
    "그룹별로 나눈 데이터로 Homeplanet의 결측치를 어느정도 채울 수 있다\n",
    "Because 같은 그룹은 같은 행성에서 탔기 때문"
   ]
  },
  {
   "cell_type": "code",
   "execution_count": null,
   "id": "6efd5f23-ce04-480e-be7e-731bd9ac3f91",
   "metadata": {},
   "outputs": [],
   "source": []
  },
  {
   "cell_type": "raw",
   "id": "b56e03bb-7aed-43f4-9fcb-a841545c7ea8",
   "metadata": {},
   "source": [
    "PassengerId 가 01만 있으면 혼자여행하는 사람 / 따라서 혼자여행하는사람 /같이 여행하는사람 구분도 가능!!"
   ]
  },
  {
   "cell_type": "code",
   "execution_count": null,
   "id": "c4d12c99-d857-4904-b151-23001d00608f",
   "metadata": {},
   "outputs": [],
   "source": []
  },
  {
   "cell_type": "code",
   "execution_count": null,
   "id": "938cb1cd-df6a-4daa-8568-05e0a005448f",
   "metadata": {},
   "outputs": [],
   "source": []
  },
  {
   "cell_type": "code",
   "execution_count": null,
   "id": "e8da4242-e69a-473d-9f41-9e4ab2a82d10",
   "metadata": {},
   "outputs": [],
   "source": []
  },
  {
   "cell_type": "markdown",
   "id": "0678eb9f-d7ad-4948-a171-8dbe3948af80",
   "metadata": {},
   "source": [
    "#### 1)HomePlanet 거주행성별 transported를 살펴본다?"
   ]
  },
  {
   "cell_type": "code",
   "execution_count": null,
   "id": "3e2ab19e-70aa-4827-ada6-0cc08bb03faf",
   "metadata": {},
   "outputs": [],
   "source": [
    "train.groupby('HomePlanet')['Transported'].mean()"
   ]
  },
  {
   "cell_type": "raw",
   "id": "562a8dc9-1e67-4aed-8744-1bd0e8dae19d",
   "metadata": {},
   "source": [
    "거주행성별 transported 애매"
   ]
  },
  {
   "cell_type": "code",
   "execution_count": null,
   "id": "4bdab30e-7f10-4789-9e81-896568941f7f",
   "metadata": {},
   "outputs": [],
   "source": []
  },
  {
   "cell_type": "code",
   "execution_count": null,
   "id": "47e263e1-5647-4f91-9ec7-358472a9d4c9",
   "metadata": {},
   "outputs": [],
   "source": []
  },
  {
   "cell_type": "markdown",
   "id": "4f5b9cc6-d156-4862-9845-446d868184a9",
   "metadata": {},
   "source": [
    "#### 2)CryoSleep 냉동수면상태에서의 transported를 살펴본다? "
   ]
  },
  {
   "cell_type": "code",
   "execution_count": null,
   "id": "e5e34bf1-7aab-488c-a30d-7971b3ba8cd0",
   "metadata": {},
   "outputs": [],
   "source": [
    "train.groupby('CryoSleep')['Transported'].mean()"
   ]
  },
  {
   "cell_type": "raw",
   "id": "993f36ed-403c-4a7b-8484-9591747dbb02",
   "metadata": {
    "tags": []
   },
   "source": [
    "t/f에 따라 꽤나 유의미하다 !!"
   ]
  },
  {
   "cell_type": "code",
   "execution_count": null,
   "id": "430ab4ae-417b-42d3-a320-6aa0266a2c73",
   "metadata": {},
   "outputs": [],
   "source": []
  },
  {
   "cell_type": "code",
   "execution_count": null,
   "id": "50e84304-cad6-4e71-bbea-dace4936b31b",
   "metadata": {},
   "outputs": [],
   "source": []
  },
  {
   "cell_type": "markdown",
   "id": "510de222-1bea-429a-b2b2-a8816c78a05f",
   "metadata": {},
   "source": [
    "#### 3) deck, num, side 별 transported와 비교"
   ]
  },
  {
   "cell_type": "raw",
   "id": "ffa8a0f8-f389-4d3f-86a7-d20e665ab0af",
   "metadata": {},
   "source": [
    "deck과 num과 side를 따로따로 분류 (항목을 더 늘리자!, but 지표가 유의미한지 확인해야함)"
   ]
  },
  {
   "cell_type": "markdown",
   "id": "dc7c3e2b-877d-4b14-984a-cf634680b2f0",
   "metadata": {},
   "source": [
    "##### 3-1) Cabin에서 deck과 num과 side를 train에 새항목들로 추가하기"
   ]
  },
  {
   "cell_type": "code",
   "execution_count": null,
   "id": "7fb6b299-cd2c-4875-b1c4-6f2fc06c58c4",
   "metadata": {},
   "outputs": [],
   "source": [
    "cab=train['Cabin'].str.split('/', expand=True) #cabin항목을 3개 항목으로 나누기"
   ]
  },
  {
   "cell_type": "code",
   "execution_count": null,
   "id": "84e75239-62d2-4688-b671-74108a2c8969",
   "metadata": {},
   "outputs": [],
   "source": [
    "cab.columns= (['deck','num','side'])"
   ]
  },
  {
   "cell_type": "code",
   "execution_count": null,
   "id": "23fd1f62-9d42-4986-bd4e-3a4c7748e845",
   "metadata": {},
   "outputs": [],
   "source": [
    "train = pd.concat([train,cab], axis=1) #나눈 3항목을 기존 train에 추가"
   ]
  },
  {
   "cell_type": "code",
   "execution_count": null,
   "id": "82cfd37d-0e1c-4429-a943-86f9a2f310cd",
   "metadata": {},
   "outputs": [],
   "source": [
    "train"
   ]
  },
  {
   "cell_type": "code",
   "execution_count": null,
   "id": "72415a42-771b-4289-a345-07f37a948309",
   "metadata": {},
   "outputs": [],
   "source": []
  },
  {
   "cell_type": "raw",
   "id": "f58f710f-fc57-4445-b046-c806640e5e75",
   "metadata": {},
   "source": []
  },
  {
   "cell_type": "raw",
   "id": "1e6d3d2f-fcbb-4d1f-a8d7-f63eaa10d14c",
   "metadata": {},
   "source": [
    "train['deck'][0]<<<< train['Cabin'].str.split('/')[0][0]"
   ]
  },
  {
   "cell_type": "raw",
   "id": "1a0a1f74-bad0-4353-834c-0d31a1593df0",
   "metadata": {},
   "source": [
    "train['num'][0]<<<< train['Cabin'].str.split('/')[0][1]"
   ]
  },
  {
   "cell_type": "raw",
   "id": "c56acdf5-c07f-4526-96eb-14010cac2758",
   "metadata": {},
   "source": [
    "train['side'][0]<<<< train['Cabin'].str.split('/')[0][2]"
   ]
  },
  {
   "cell_type": "raw",
   "id": "601f9e4a-b134-42e3-97d8-882f21743304",
   "metadata": {},
   "source": [
    "train['Cabin'].str.split('/')[0][0]"
   ]
  },
  {
   "cell_type": "raw",
   "id": "45983657-7a67-4fa6-bfcb-000db265c1ef",
   "metadata": {},
   "source": []
  },
  {
   "cell_type": "raw",
   "id": "6be6397e-7817-4924-9548-a88e00caf412",
   "metadata": {},
   "source": [
    "train['Cabin'].str.split('/', expand=True)"
   ]
  },
  {
   "cell_type": "code",
   "execution_count": null,
   "id": "ecc0c883-8982-4332-bd63-270e98d9cb94",
   "metadata": {},
   "outputs": [],
   "source": []
  },
  {
   "cell_type": "markdown",
   "id": "3c4bdfb3-aacd-46d2-9b9a-ab076bf4b335",
   "metadata": {},
   "source": [
    "##### 3-2) deck num side 항목들 살펴보기"
   ]
  },
  {
   "cell_type": "code",
   "execution_count": null,
   "id": "f2fa2787-a761-4d0b-b859-6a79c9bd8f80",
   "metadata": {},
   "outputs": [],
   "source": [
    "elements = ['deck','num','side']\n",
    "for ele in elements :\n",
    "    print(train.groupby(ele)['Transported'].mean())"
   ]
  },
  {
   "cell_type": "raw",
   "id": "466cb46e-e43d-4d83-b6f5-5e5b0178d5e9",
   "metadata": {},
   "source": [
    "deck은 꽤 크게 작용, side는 미미, num은 객실번호==>의미가없음! drop!"
   ]
  },
  {
   "cell_type": "code",
   "execution_count": null,
   "id": "ef2e730c-345b-4c2b-b7aa-5bef3cc26711",
   "metadata": {},
   "outputs": [],
   "source": [
    "train['num'].value_counts()"
   ]
  },
  {
   "cell_type": "code",
   "execution_count": null,
   "id": "1641ed79-4972-4c6b-a883-5f055ce655f0",
   "metadata": {},
   "outputs": [],
   "source": []
  },
  {
   "cell_type": "code",
   "execution_count": null,
   "id": "8da95343-6bc9-47f7-bb33-949877930d02",
   "metadata": {},
   "outputs": [],
   "source": []
  },
  {
   "cell_type": "code",
   "execution_count": null,
   "id": "48f43f31-5d9d-484e-8ced-d602f2c4e6cf",
   "metadata": {},
   "outputs": [],
   "source": []
  },
  {
   "cell_type": "code",
   "execution_count": null,
   "id": "f420f57a-0f85-4ab7-911c-ff9931b9a953",
   "metadata": {},
   "outputs": [],
   "source": []
  },
  {
   "cell_type": "markdown",
   "id": "c384a5a1-77be-425c-9bfa-6882803f9808",
   "metadata": {},
   "source": [
    "#### 4) Destination 에 따른 transported의 상관도 살펴보기"
   ]
  },
  {
   "cell_type": "code",
   "execution_count": null,
   "id": "8aab741b-daf4-4686-86c3-c758fac108e9",
   "metadata": {},
   "outputs": [],
   "source": [
    "train['Destination'].value_counts()"
   ]
  },
  {
   "cell_type": "code",
   "execution_count": null,
   "id": "85772538-2461-4d88-9eb6-b929b0d6f38d",
   "metadata": {},
   "outputs": [],
   "source": [
    "train.groupby('Destination')['Transported'].mean()"
   ]
  },
  {
   "cell_type": "raw",
   "id": "7a3436e8-e6fd-4586-9d63-88721ce1a306",
   "metadata": {},
   "source": [
    "Destination별  transported 애매"
   ]
  },
  {
   "cell_type": "code",
   "execution_count": null,
   "id": "735ee440-12cc-4f96-92cd-edd6cd1dcf88",
   "metadata": {},
   "outputs": [],
   "source": []
  },
  {
   "cell_type": "markdown",
   "id": "88a34fe9-0f9f-4df9-8228-894a2154c3bc",
   "metadata": {},
   "source": [
    "#### 5) 나이 분포를 살펴보고 그룹별 나이 분포에 따른 transported 살펴보기?"
   ]
  },
  {
   "cell_type": "code",
   "execution_count": null,
   "id": "e7d210fe-2e7e-4e75-b0da-d7ac920674c4",
   "metadata": {},
   "outputs": [],
   "source": [
    "train['Age'].value_counts()"
   ]
  },
  {
   "cell_type": "code",
   "execution_count": null,
   "id": "0970514e-195a-49bd-92b1-be02fad697ef",
   "metadata": {},
   "outputs": [],
   "source": [
    "plt.figure(figsize=(10,4))\n",
    "\n",
    "# Histogram\n",
    "sns.histplot(data=train, x='Age', hue='Transported', binwidth=1, kde=True)\n",
    "\n",
    "# Aesthetics\n",
    "plt.title('Age distribution')\n",
    "plt.xlabel('Age (years)')"
   ]
  },
  {
   "cell_type": "raw",
   "id": "fec5b827-9188-49af-a209-fb9a81392ab2",
   "metadata": {},
   "source": [
    "age의 구간이\n",
    "0~18까지는 Transported가 True의 비중의 더 높음.\n",
    "18~25까지는 Transported가 False의 비중의 더 높음.\n",
    "25~는 Transported와 not의 비중이 거의 동일함.\n",
    "\n",
    "따라서 \n",
    "age의 구간을 세개로 나눠서 나타내자!!"
   ]
  },
  {
   "cell_type": "code",
   "execution_count": null,
   "id": "72440596-d8eb-4797-bda1-d77af9fa110a",
   "metadata": {},
   "outputs": [],
   "source": []
  },
  {
   "cell_type": "markdown",
   "id": "d6599622-51df-4e56-927c-a3ec8122a4af",
   "metadata": {},
   "source": [
    "#### 6) vip 여부에 따른 transported 살펴보기?"
   ]
  },
  {
   "cell_type": "code",
   "execution_count": null,
   "id": "5f3154a0-2b0c-4bcd-89f3-193997fd178a",
   "metadata": {},
   "outputs": [],
   "source": [
    "train.groupby('VIP')['Transported'].mean()"
   ]
  },
  {
   "cell_type": "code",
   "execution_count": null,
   "id": "e56640e5-2f45-46a4-b4fd-10ff21c175cc",
   "metadata": {},
   "outputs": [],
   "source": [
    "train['VIP'].value_counts()"
   ]
  },
  {
   "cell_type": "code",
   "execution_count": null,
   "id": "2d2a8ddf-a6aa-4702-9c7b-ae1d821cfeea",
   "metadata": {},
   "outputs": [],
   "source": [
    "train['VIP'].isnull().sum()"
   ]
  },
  {
   "cell_type": "code",
   "execution_count": null,
   "id": "247fd177-cb5f-40ff-83be-d5b9c5ab87b8",
   "metadata": {},
   "outputs": [],
   "source": []
  },
  {
   "cell_type": "markdown",
   "id": "93a4ce22-52ae-45bf-a397-853d8d234954",
   "metadata": {},
   "source": [
    "#### 7) 승객이 Spaceship Titanic 의 다양한 고급 편의 시설 각각에 대해 청구한 금액 // 앞의 vip 여부와 비교 분석"
   ]
  },
  {
   "cell_type": "raw",
   "id": "5ba5b42a-41a4-42f7-a122-04df4615f4f2",
   "metadata": {},
   "source": [
    "??vip와 뒤의 고급편의시설 금액 합한것의 연관이 있는지??"
   ]
  },
  {
   "cell_type": "raw",
   "id": "a5347b83-a8fa-4b63-8262-4a207c7d2653",
   "metadata": {},
   "source": [
    "VIP별 뒤의 5개 항목의 총합을 비교"
   ]
  },
  {
   "cell_type": "code",
   "execution_count": null,
   "id": "6a4715ac-21c7-4b77-8980-984c1f11e8c1",
   "metadata": {},
   "outputs": [],
   "source": [
    "train.groupby('VIP')['RoomService','FoodCourt','ShoppingMall','Spa','VRDeck']"
   ]
  },
  {
   "cell_type": "code",
   "execution_count": null,
   "id": "999e9500-b0a1-4196-a886-547d59e932ee",
   "metadata": {},
   "outputs": [],
   "source": [
    "train['fee'] =train['RoomService']+train['FoodCourt']+train['ShoppingMall']+train['Spa']+train['VRDeck']"
   ]
  },
  {
   "cell_type": "code",
   "execution_count": null,
   "id": "8561bdd0-d0c3-4083-98d6-9adc6fe10633",
   "metadata": {},
   "outputs": [],
   "source": [
    "train"
   ]
  },
  {
   "cell_type": "code",
   "execution_count": null,
   "id": "33047291-55f0-41c0-a786-065b20fe9152",
   "metadata": {},
   "outputs": [],
   "source": [
    "train.groupby('VIP')['fee'].describe()"
   ]
  },
  {
   "cell_type": "code",
   "execution_count": null,
   "id": "c575a7a3-3e07-4444-8fd1-e966ab38c384",
   "metadata": {},
   "outputs": [],
   "source": []
  },
  {
   "cell_type": "markdown",
   "id": "9169657b-0c65-4d38-8daf-f3cf13dfd2ec",
   "metadata": {},
   "source": [
    "#### 8) Name 은 큰 연관없을듯? (상관계수 정도 보고 의미없으면 예측 변수에서 제외시키자!)"
   ]
  },
  {
   "cell_type": "raw",
   "id": "a53525a9-1783-4143-bc6e-e25508daab35",
   "metadata": {},
   "source": [
    "성이 같은사람이면서 그룹이 같으면 같은 가족으로 봐서 HomePlanet의 null값을 채울 수 있다 정도??"
   ]
  },
  {
   "cell_type": "code",
   "execution_count": null,
   "id": "3e6d1d7e-d7bf-4e16-b3a7-507b2444e277",
   "metadata": {},
   "outputs": [],
   "source": []
  },
  {
   "cell_type": "code",
   "execution_count": null,
   "id": "813cc3f4-f021-489d-a967-b0be90cfa0bc",
   "metadata": {},
   "outputs": [],
   "source": []
  },
  {
   "cell_type": "code",
   "execution_count": null,
   "id": "2b24eaae-335d-4924-8463-6b245d393d75",
   "metadata": {},
   "outputs": [],
   "source": []
  },
  {
   "cell_type": "code",
   "execution_count": null,
   "id": "405d259b-6cf0-4e03-b6b3-9054829b5d00",
   "metadata": {},
   "outputs": [],
   "source": []
  },
  {
   "cell_type": "code",
   "execution_count": null,
   "id": "e7e22c5c-683a-4b65-8559-2db88adf51cb",
   "metadata": {},
   "outputs": [],
   "source": []
  },
  {
   "cell_type": "markdown",
   "id": "7fcc10a1-d863-4e3a-85a7-2c4e90ba44c2",
   "metadata": {},
   "source": [
    "## 2. 데이터 전처리"
   ]
  },
  {
   "cell_type": "code",
   "execution_count": null,
   "id": "9cb76e80-ca98-4013-8560-3f52dd8b070d",
   "metadata": {},
   "outputs": [],
   "source": []
  },
  {
   "cell_type": "markdown",
   "id": "aa78a0aa-61e4-4afd-991b-ec12d11193be",
   "metadata": {},
   "source": [
    "### 2-1. 각 항목 결측치에 대한 전처리"
   ]
  },
  {
   "cell_type": "code",
   "execution_count": null,
   "id": "431e9d16-2a20-49fb-ba93-3519f0ea221a",
   "metadata": {},
   "outputs": [],
   "source": [
    "train.isnull().sum()"
   ]
  },
  {
   "cell_type": "markdown",
   "id": "3d5f10ac-a74d-46eb-b1ef-1d0d003c5dcd",
   "metadata": {},
   "source": [
    "#### 2-1-1) HomePlanet의 null값 채우기"
   ]
  },
  {
   "cell_type": "raw",
   "id": "c05e48d6-832e-4455-b86e-98aec431b495",
   "metadata": {},
   "source": [
    "HomePlanet의 결측치의 어느정도는 pid의 동률값을 찾아 어느정도 채워줄 수 있음."
   ]
  },
  {
   "cell_type": "code",
   "execution_count": null,
   "id": "43da419d-9254-4aa1-b427-e5bef0ed10f8",
   "metadata": {},
   "outputs": [],
   "source": [
    "train_HP_n=train[train['HomePlanet'].isnull()]"
   ]
  },
  {
   "cell_type": "code",
   "execution_count": null,
   "id": "8746faed-47e4-44ca-866c-6db50c86ec19",
   "metadata": {},
   "outputs": [],
   "source": [
    "train_HP_n"
   ]
  },
  {
   "cell_type": "code",
   "execution_count": null,
   "id": "9c60b629-542f-4ca7-a84b-e769acb5d291",
   "metadata": {},
   "outputs": [],
   "source": [
    "train['pid']"
   ]
  },
  {
   "cell_type": "code",
   "execution_count": null,
   "id": "bd4acd99-c031-4801-8498-fc13d3033940",
   "metadata": {},
   "outputs": [],
   "source": []
  },
  {
   "cell_type": "markdown",
   "id": "73ae20a8-e9bc-4bc6-ba3d-db8a562933c8",
   "metadata": {},
   "source": [
    "##### 추측1) 같은 Passenger Id그룹은 같은 homeplanet을 갖는다!?"
   ]
  },
  {
   "cell_type": "code",
   "execution_count": null,
   "id": "da92f619-3b98-40c2-813d-150834b8885a",
   "metadata": {},
   "outputs": [],
   "source": [
    "train['pid']"
   ]
  },
  {
   "cell_type": "code",
   "execution_count": null,
   "id": "88eac39b-3efb-4528-b284-fc66efc9be61",
   "metadata": {},
   "outputs": [],
   "source": [
    "home_group =train.groupby(['pid','HomePlanet']).size().reset_index()"
   ]
  },
  {
   "cell_type": "code",
   "execution_count": null,
   "id": "3c81015d-248c-460b-a91e-baf71dcc601b",
   "metadata": {},
   "outputs": [],
   "source": [
    "home_group"
   ]
  },
  {
   "cell_type": "code",
   "execution_count": null,
   "id": "d3ffba98-2155-4124-b1e9-58205ef70c9e",
   "metadata": {},
   "outputs": [],
   "source": [
    "home_group[home_group['pid'].duplicated()] #그룹이 중복된 값이 없다"
   ]
  },
  {
   "cell_type": "code",
   "execution_count": null,
   "id": "81ec6585-7462-4f1e-acac-5d0adbf2304a",
   "metadata": {},
   "outputs": [],
   "source": [
    "home_group[0].sum()"
   ]
  },
  {
   "cell_type": "code",
   "execution_count": null,
   "id": "a77ee763-9f83-44e7-ade4-d1240417060d",
   "metadata": {
    "tags": []
   },
   "outputs": [],
   "source": [
    "train[train['HomePlanet'].isnull()]"
   ]
  },
  {
   "cell_type": "code",
   "execution_count": null,
   "id": "c7a7884a-49a1-42f5-b742-55d4657b3be8",
   "metadata": {},
   "outputs": [],
   "source": [
    "home_group"
   ]
  },
  {
   "cell_type": "code",
   "execution_count": null,
   "id": "cd615346-082a-4649-8b91-22a22d22cbe9",
   "metadata": {
    "tags": []
   },
   "outputs": [],
   "source": [
    "home_dict = {}\n",
    "for p, hp in zip(home_group['pid'], home_group['HomePlanet']) :\n",
    "    #print(p, hp)\n",
    "    home_dict[p] = hp"
   ]
  },
  {
   "cell_type": "code",
   "execution_count": null,
   "id": "64765260-30f8-4563-8028-029b92be8e7a",
   "metadata": {
    "tags": []
   },
   "outputs": [],
   "source": [
    "home_dict"
   ]
  },
  {
   "cell_type": "code",
   "execution_count": null,
   "id": "e50a7b4d-d187-485e-bc78-91209adb2c0b",
   "metadata": {},
   "outputs": [],
   "source": [
    "train['HomePlanet'].fillna(train['pid'].map(home_dict), inplace=True)"
   ]
  },
  {
   "cell_type": "code",
   "execution_count": null,
   "id": "be97cfc0-0e68-40ab-9de5-d25d06553124",
   "metadata": {},
   "outputs": [],
   "source": [
    "train['HomePlanet'].isnull().sum()"
   ]
  },
  {
   "cell_type": "raw",
   "id": "dc761a66-35e4-4707-990d-3f23241f3468",
   "metadata": {},
   "source": [
    "그룹으로 채울값이 없는 null값 111개를 어떻게 처리할지 다시 고민!!"
   ]
  },
  {
   "cell_type": "markdown",
   "id": "433f5495-df5e-4707-870f-a3b9fc5af026",
   "metadata": {},
   "source": [
    "##### 추측2) last name이 같으면 같은 homeplanet을 갖는다!?"
   ]
  },
  {
   "cell_type": "code",
   "execution_count": null,
   "id": "4ac46557-b4d0-432f-ad4b-e87ca3f5bb32",
   "metadata": {},
   "outputs": [],
   "source": [
    "train['lastname'] = train['Name'].str.split(' ').str[-1]"
   ]
  },
  {
   "cell_type": "code",
   "execution_count": null,
   "id": "576b7125-2a71-459e-9890-a4cf0899c1f2",
   "metadata": {},
   "outputs": [],
   "source": [
    "train"
   ]
  },
  {
   "cell_type": "code",
   "execution_count": null,
   "id": "c8ba0ab8-58fb-4164-96b6-5e7687b72c3e",
   "metadata": {},
   "outputs": [],
   "source": [
    "train['lastname'].value_counts()"
   ]
  },
  {
   "cell_type": "code",
   "execution_count": null,
   "id": "9b37fe11-df93-4c38-90e7-c3a1595fa606",
   "metadata": {},
   "outputs": [],
   "source": [
    "name_group =train.groupby(['lastname','HomePlanet']).size().reset_index()"
   ]
  },
  {
   "cell_type": "code",
   "execution_count": null,
   "id": "31a1fd65-1c9a-4d62-9752-1b2f6c252927",
   "metadata": {},
   "outputs": [],
   "source": [
    "name_group[name_group['lastname'].duplicated()] #성이 중복되는 경우는 없다"
   ]
  },
  {
   "cell_type": "code",
   "execution_count": null,
   "id": "f24e8a16-1067-4c8d-a395-cf6f176fa854",
   "metadata": {},
   "outputs": [],
   "source": [
    "name_group"
   ]
  },
  {
   "cell_type": "code",
   "execution_count": null,
   "id": "ecc66d5f-40ec-4bc6-8d31-70999730b05d",
   "metadata": {},
   "outputs": [],
   "source": [
    "name_dict = {}\n",
    "for g, hp in zip(name_group['lastname'], name_group['HomePlanet']) :\n",
    "    #print(g, hp)\n",
    "    name_dict[g] = hp"
   ]
  },
  {
   "cell_type": "code",
   "execution_count": null,
   "id": "a2c35002-6903-4918-8746-660b90a233b6",
   "metadata": {
    "tags": []
   },
   "outputs": [],
   "source": [
    "name_dict"
   ]
  },
  {
   "cell_type": "code",
   "execution_count": null,
   "id": "cac8200a-0a75-40bb-9d59-fdaf9f598da7",
   "metadata": {},
   "outputs": [],
   "source": [
    "train['HomePlanet'].fillna(train['lastname'].map(name_dict), inplace=True)"
   ]
  },
  {
   "cell_type": "code",
   "execution_count": null,
   "id": "959df827-97bf-471f-84fb-47a945376062",
   "metadata": {},
   "outputs": [],
   "source": [
    "train['HomePlanet'].isnull().sum()"
   ]
  },
  {
   "cell_type": "code",
   "execution_count": null,
   "id": "3391493a-4cc3-407f-b465-0b8cd962533f",
   "metadata": {},
   "outputs": [],
   "source": [
    "train[train['HomePlanet'].isnull()]"
   ]
  },
  {
   "cell_type": "markdown",
   "id": "d949a81a-0979-430f-880b-16a00649f179",
   "metadata": {},
   "source": [
    "##### 추측3) HomePlanet이 같으면 Destination이 같지않을까? "
   ]
  },
  {
   "cell_type": "code",
   "execution_count": null,
   "id": "86d997ad-80f7-4b08-9ffe-031a20b88a67",
   "metadata": {},
   "outputs": [],
   "source": [
    "train.groupby(['Destination','HomePlanet']).size()"
   ]
  },
  {
   "cell_type": "code",
   "execution_count": null,
   "id": "54f3b500-1529-403f-bb7f-20f830ec739f",
   "metadata": {},
   "outputs": [],
   "source": [
    "train['Destination']"
   ]
  },
  {
   "cell_type": "code",
   "execution_count": null,
   "id": "e5c608b2-336f-4da4-975b-f850ad242e09",
   "metadata": {},
   "outputs": [],
   "source": [
    "home_dest= {'TRAPPIST-1e' :'Earth', '55 Cancri e' :'Europa', 'PSO J318.5-22' :'Earth'}"
   ]
  },
  {
   "cell_type": "code",
   "execution_count": null,
   "id": "be5db684-27e8-40f7-929b-b7cb141b7cfb",
   "metadata": {},
   "outputs": [],
   "source": [
    "train['HomePlanet'].fillna(train['Destination'].map(home_dest), inplace=True)"
   ]
  },
  {
   "cell_type": "code",
   "execution_count": null,
   "id": "ece8f2a9-d56c-4336-b312-764a2d1b4083",
   "metadata": {},
   "outputs": [],
   "source": [
    "train['HomePlanet'].isnull().sum()"
   ]
  },
  {
   "cell_type": "code",
   "execution_count": null,
   "id": "235b35be-201d-4381-8301-a547258ca568",
   "metadata": {},
   "outputs": [],
   "source": []
  },
  {
   "cell_type": "markdown",
   "id": "af321de4-bc88-4855-9c05-c75b782250d1",
   "metadata": {},
   "source": [
    "#### 2-1-2) CryoSleep  null값 채우기"
   ]
  },
  {
   "cell_type": "raw",
   "id": "de539f8e-9f97-474c-9bbd-be0191f4b9af",
   "metadata": {},
   "source": [
    "fee항목을 보고 fee항목이 없는 사람들은 False로 있으면 True 로!!"
   ]
  },
  {
   "cell_type": "code",
   "execution_count": null,
   "id": "ce1b67c3-dee6-4d19-8f07-625c197b6829",
   "metadata": {},
   "outputs": [],
   "source": [
    "train[train['CryoSleep']== True]['fee'].mean() #자고 있는 사람들의 평균이 0 (소모 비용이 없음)"
   ]
  },
  {
   "cell_type": "code",
   "execution_count": null,
   "id": "ecee1ea3-c006-42db-ac7c-8221052f5480",
   "metadata": {},
   "outputs": [],
   "source": [
    "train[train['CryoSleep'].isnull()]['fee']"
   ]
  },
  {
   "cell_type": "code",
   "execution_count": null,
   "id": "838b3eb8-29a2-47ec-82e3-ff60951fa79d",
   "metadata": {},
   "outputs": [],
   "source": [
    "train['CryoSleep'] = np.where(train['fee'] >0 , False, True)"
   ]
  },
  {
   "cell_type": "code",
   "execution_count": null,
   "id": "e512c36f-0eaf-472e-932d-46ca81728105",
   "metadata": {},
   "outputs": [],
   "source": [
    "train['CryoSleep'].isnull().sum()"
   ]
  },
  {
   "cell_type": "code",
   "execution_count": null,
   "id": "912e9424-b4c1-4e3f-a42f-3359d6e60494",
   "metadata": {},
   "outputs": [],
   "source": []
  },
  {
   "cell_type": "code",
   "execution_count": null,
   "id": "4bc41b78-c79a-4f8a-9288-34506074452c",
   "metadata": {},
   "outputs": [],
   "source": []
  },
  {
   "cell_type": "markdown",
   "id": "814f4b35-ca1e-490f-a54d-78cae7775416",
   "metadata": {},
   "source": [
    "#### 2-1-3) Cabin  null값 채우기 (deck,side)"
   ]
  },
  {
   "cell_type": "code",
   "execution_count": null,
   "id": "90c10ad3-6835-4d39-a376-cd18241f4a7f",
   "metadata": {},
   "outputs": [],
   "source": [
    "train['Cabin'].str.split('/').str[0]"
   ]
  },
  {
   "cell_type": "code",
   "execution_count": null,
   "id": "2aeec4ec-6c5c-4513-8e2d-e1d74ae69458",
   "metadata": {},
   "outputs": [],
   "source": [
    "train[train['Cabin'].isnull()]"
   ]
  },
  {
   "cell_type": "code",
   "execution_count": null,
   "id": "2ff676c5-3835-4415-8370-00d3c45f0108",
   "metadata": {},
   "outputs": [],
   "source": [
    "train.groupby(['HomePlanet','deck']).size()"
   ]
  },
  {
   "cell_type": "code",
   "execution_count": null,
   "id": "86e6abad-0944-418d-a5c0-f93800975e8c",
   "metadata": {},
   "outputs": [],
   "source": [
    "# Europa는 B,  Earth는 G , Mars는 F로 !!"
   ]
  },
  {
   "cell_type": "code",
   "execution_count": null,
   "id": "d7a04948-6841-4460-b201-f6b1b194f2dc",
   "metadata": {},
   "outputs": [],
   "source": [
    "train['deck'].fillna(train['HomePlanet'].map({'Earth':'G', 'Europa':'B','Mars':'F'}), inplace=True)"
   ]
  },
  {
   "cell_type": "code",
   "execution_count": null,
   "id": "8fe00521-ba1e-40a4-bdce-270373b8d983",
   "metadata": {},
   "outputs": [],
   "source": [
    "train['deck'].isnull().sum()"
   ]
  },
  {
   "cell_type": "code",
   "execution_count": null,
   "id": "0717fe3e-88cb-4f37-b0ec-d3f80a2180fb",
   "metadata": {},
   "outputs": [],
   "source": []
  },
  {
   "cell_type": "code",
   "execution_count": null,
   "id": "af617ccf-6433-49a4-871f-018495263b13",
   "metadata": {},
   "outputs": [],
   "source": [
    "side_group = train.groupby(['pid','side']).size().reset_index()"
   ]
  },
  {
   "cell_type": "code",
   "execution_count": null,
   "id": "47a037c8-9d5e-470f-82f9-571a14c5ca26",
   "metadata": {},
   "outputs": [],
   "source": [
    "side_group[side_group['pid'].duplicated()]"
   ]
  },
  {
   "cell_type": "code",
   "execution_count": null,
   "id": "600a8cb7-061a-4e91-9e9e-cd0644cbe4e7",
   "metadata": {},
   "outputs": [],
   "source": [
    "train['side'].value_counts()"
   ]
  },
  {
   "cell_type": "code",
   "execution_count": null,
   "id": "c7c7a498-d16c-42f4-b816-6c79cf425288",
   "metadata": {},
   "outputs": [],
   "source": [
    "train['pid'].value_counts()"
   ]
  },
  {
   "cell_type": "code",
   "execution_count": null,
   "id": "e4b2af88-f036-4bd1-8d56-0c7ce23913e5",
   "metadata": {},
   "outputs": [],
   "source": [
    "train['side'].isnull().sum()"
   ]
  },
  {
   "cell_type": "code",
   "execution_count": null,
   "id": "d8db99b3-49a8-4296-bd86-af9a68a747a5",
   "metadata": {},
   "outputs": [],
   "source": [
    "train[train['side'].isnull()]"
   ]
  },
  {
   "cell_type": "code",
   "execution_count": null,
   "id": "b505fd02-433e-46e9-a3c8-dc2b0fc3b2d6",
   "metadata": {},
   "outputs": [],
   "source": []
  },
  {
   "cell_type": "code",
   "execution_count": null,
   "id": "ff81723f-1989-4d08-b830-d94bbdd171f0",
   "metadata": {},
   "outputs": [],
   "source": [
    "side_group =train.groupby(['pid','side']).size().reset_index()"
   ]
  },
  {
   "cell_type": "code",
   "execution_count": null,
   "id": "6c00f6d0-4a8c-481f-9d33-96bd3141d068",
   "metadata": {},
   "outputs": [],
   "source": [
    "side_group"
   ]
  },
  {
   "cell_type": "code",
   "execution_count": null,
   "id": "c77896dc-13a4-4a4c-959c-c3c36e764848",
   "metadata": {},
   "outputs": [],
   "source": []
  },
  {
   "cell_type": "code",
   "execution_count": null,
   "id": "e1200fbc-5509-4d5a-a206-30a5fdde5644",
   "metadata": {
    "tags": []
   },
   "outputs": [],
   "source": [
    "side_dict = {}\n",
    "for p,s in zip(side_group['pid'], side_group['side']) :\n",
    "    #print(g, hp)\n",
    "    side_dict[p] = s"
   ]
  },
  {
   "cell_type": "code",
   "execution_count": null,
   "id": "998cbe26-1605-48ec-b666-af56265a15c7",
   "metadata": {
    "tags": []
   },
   "outputs": [],
   "source": [
    "side_dict"
   ]
  },
  {
   "cell_type": "code",
   "execution_count": null,
   "id": "1d219e8a-d8f8-46f8-958e-127091791252",
   "metadata": {},
   "outputs": [],
   "source": [
    "train['side'].fillna(train['pid'].map(side_dict), inplace=True)"
   ]
  },
  {
   "cell_type": "code",
   "execution_count": null,
   "id": "3c870416-d7df-4ad9-807a-40ebf48865e5",
   "metadata": {},
   "outputs": [],
   "source": [
    "train['side'].isnull().sum()"
   ]
  },
  {
   "cell_type": "code",
   "execution_count": null,
   "id": "e09ded70-495e-49a7-832e-3ba17bab9a5d",
   "metadata": {},
   "outputs": [],
   "source": [
    "train[train['side'].isnull()]"
   ]
  },
  {
   "cell_type": "code",
   "execution_count": null,
   "id": "9b877b50-475b-470f-a8d2-c128cdb705bc",
   "metadata": {},
   "outputs": [],
   "source": [
    "train['side'].value_counts()"
   ]
  },
  {
   "cell_type": "code",
   "execution_count": null,
   "id": "9aaf1b5f-7b69-44af-b55f-6c2fe8993912",
   "metadata": {},
   "outputs": [],
   "source": [
    "train.isnull().sum()"
   ]
  },
  {
   "cell_type": "code",
   "execution_count": null,
   "id": "f9aaa9b0-31ba-4386-9b6f-97c62dd3457e",
   "metadata": {},
   "outputs": [],
   "source": [
    "train['side'].fillna('S', inplace=True)"
   ]
  },
  {
   "cell_type": "code",
   "execution_count": null,
   "id": "f8c6822a-f2ac-49b2-a92a-348487d308b9",
   "metadata": {},
   "outputs": [],
   "source": [
    "train.isnull().sum()"
   ]
  },
  {
   "cell_type": "code",
   "execution_count": null,
   "id": "95a1f79f-bb79-4c3e-9d28-4dd4de3c6222",
   "metadata": {},
   "outputs": [],
   "source": []
  },
  {
   "cell_type": "code",
   "execution_count": null,
   "id": "810499ad-b254-4282-82cf-c14bfde4ab85",
   "metadata": {},
   "outputs": [],
   "source": []
  },
  {
   "cell_type": "markdown",
   "id": "9acf957c-e23d-4b85-a61c-b45fde93afc4",
   "metadata": {},
   "source": [
    "#### 2-1-4) Destination null값 채우기"
   ]
  },
  {
   "cell_type": "code",
   "execution_count": null,
   "id": "2de4cafc-675e-4c56-b6bf-838b8d81f1c9",
   "metadata": {},
   "outputs": [],
   "source": [
    "dest_group =train.groupby(['pid','Destination']).size().reset_index()"
   ]
  },
  {
   "cell_type": "code",
   "execution_count": null,
   "id": "d28e2d0a-e1e3-4b62-a6f0-550044f1a916",
   "metadata": {},
   "outputs": [],
   "source": [
    "dest_group = dest_group.sort_values(0, ascending = False) #정렬 한 후"
   ]
  },
  {
   "cell_type": "code",
   "execution_count": null,
   "id": "3997acfa-051b-47bc-8111-d53074837660",
   "metadata": {},
   "outputs": [],
   "source": [
    "dest_group = dest_group.drop_duplicates() #가장 위에값만 남기고 중복값들을 지움 / 가장 큰 값만 남음."
   ]
  },
  {
   "cell_type": "code",
   "execution_count": null,
   "id": "82f018c8-679b-47ef-b37d-11a5c98ad850",
   "metadata": {},
   "outputs": [],
   "source": [
    "dest_dict ={}\n",
    "for p, d in zip(dest_group['pid'], dest_group['Destination']) :\n",
    "    dest_dict[p] = d"
   ]
  },
  {
   "cell_type": "code",
   "execution_count": null,
   "id": "7f447a93-fd72-4d1a-943b-914dfd8b473f",
   "metadata": {},
   "outputs": [],
   "source": [
    "train['Destination'].fillna(train['Destination'].map(dest_dict), inplace=True)"
   ]
  },
  {
   "cell_type": "code",
   "execution_count": null,
   "id": "a6d97b93-9eea-45b5-aed5-adf146fd8abd",
   "metadata": {},
   "outputs": [],
   "source": [
    "train['Destination'].isnull().sum()"
   ]
  },
  {
   "cell_type": "code",
   "execution_count": null,
   "id": "f8aaae1a-1780-4319-a8aa-354833d82b59",
   "metadata": {},
   "outputs": [],
   "source": [
    "train.groupby(['HomePlanet','Destination']).size()"
   ]
  },
  {
   "cell_type": "code",
   "execution_count": null,
   "id": "6e4e10dc-cb17-4a84-bff7-1f3c076ca036",
   "metadata": {},
   "outputs": [],
   "source": [
    "train['Destination'].fillna('TRAPPIST-1e', inplace=True)"
   ]
  },
  {
   "cell_type": "code",
   "execution_count": null,
   "id": "0a271466-fa8d-4d16-9a6c-839aed3fb430",
   "metadata": {},
   "outputs": [],
   "source": [
    "train['Destination'].isnull().sum()"
   ]
  },
  {
   "cell_type": "code",
   "execution_count": null,
   "id": "f20a8b4e-2156-4c3d-9818-1d8051258a86",
   "metadata": {},
   "outputs": [],
   "source": []
  },
  {
   "cell_type": "markdown",
   "id": "83961166-3194-498f-a314-6f21dd4e9ee2",
   "metadata": {
    "tags": []
   },
   "source": [
    "#### 2-1-5) Age null값 채우기"
   ]
  },
  {
   "cell_type": "code",
   "execution_count": null,
   "id": "856f56d2-9b2c-4f94-9006-b15ba530bf6f",
   "metadata": {},
   "outputs": [],
   "source": [
    "train.groupby('Transported')['Age'].mean() #별 차이안남>> 중앙값 넣자!"
   ]
  },
  {
   "cell_type": "code",
   "execution_count": null,
   "id": "5f3e335e-e147-4533-9418-1bc22aaf7fa4",
   "metadata": {},
   "outputs": [],
   "source": [
    "train['Age'].fillna(train['Age'].median(), inplace=True)"
   ]
  },
  {
   "cell_type": "code",
   "execution_count": null,
   "id": "73aab38f-3213-4729-8f88-72755697b59a",
   "metadata": {},
   "outputs": [],
   "source": []
  },
  {
   "cell_type": "code",
   "execution_count": null,
   "id": "3587dcfc-f40f-4cf4-be45-2bf258ed02d8",
   "metadata": {},
   "outputs": [],
   "source": [
    "train['Age'].median()"
   ]
  },
  {
   "cell_type": "code",
   "execution_count": null,
   "id": "08b2e58d-9516-483d-9617-6126384ad9e0",
   "metadata": {},
   "outputs": [],
   "source": [
    "train.isnull().sum()"
   ]
  },
  {
   "cell_type": "code",
   "execution_count": null,
   "id": "d458bb80-263c-44b3-98f4-c332a92bea43",
   "metadata": {},
   "outputs": [],
   "source": []
  },
  {
   "cell_type": "code",
   "execution_count": null,
   "id": "c86cc0a0-beab-4c4e-92b1-e40d30eb6041",
   "metadata": {},
   "outputs": [],
   "source": []
  },
  {
   "cell_type": "markdown",
   "id": "2904e890-e237-4e2a-851d-cb1030536eb2",
   "metadata": {
    "tags": []
   },
   "source": [
    "#### 2-1-6) VIP null값 채우기"
   ]
  },
  {
   "cell_type": "code",
   "execution_count": null,
   "id": "65ba8fa8-dfde-4b57-a90b-b1c9ea1e4e84",
   "metadata": {},
   "outputs": [],
   "source": [
    "train['VIP'].value_counts(dropna=False)"
   ]
  },
  {
   "cell_type": "raw",
   "id": "f5f6e324-1b00-4c82-9f75-feeca4c87a7e",
   "metadata": {},
   "source": [
    "데이터 비율자체가 inbalanced하기 때문에 False로 하는것이 일반적!!"
   ]
  },
  {
   "cell_type": "code",
   "execution_count": null,
   "id": "a027c3c2-e505-4cc5-9d46-c3960937bd91",
   "metadata": {},
   "outputs": [],
   "source": [
    "train[train['VIP']==True]['HomePlanet'].value_counts() #Earth가 없다!! 하지만 큰 의미없음.. 그냥 False로 채우는것이 best"
   ]
  },
  {
   "cell_type": "code",
   "execution_count": null,
   "id": "ed63df9b-de05-434d-9365-f77fd3ebde7f",
   "metadata": {},
   "outputs": [],
   "source": [
    "train['VIP'].fillna(False, inplace=True)"
   ]
  },
  {
   "cell_type": "code",
   "execution_count": null,
   "id": "4fa363dc-fb40-42a0-a16a-eec2e6664200",
   "metadata": {},
   "outputs": [],
   "source": [
    "train['VIP'].isnull().sum()"
   ]
  },
  {
   "cell_type": "code",
   "execution_count": null,
   "id": "c6c10275-35ee-42b4-9803-fe8973c5b11b",
   "metadata": {},
   "outputs": [],
   "source": []
  },
  {
   "cell_type": "markdown",
   "id": "71278d31-9431-4f74-8491-e2679759b5ef",
   "metadata": {},
   "source": [
    "#### 2-1-7) fee null값 채우기"
   ]
  },
  {
   "cell_type": "raw",
   "id": "0b95451d-8338-4267-aff1-744347132e55",
   "metadata": {},
   "source": [
    "fee 구하기"
   ]
  },
  {
   "cell_type": "code",
   "execution_count": null,
   "id": "3f34ec1f-871f-4271-8944-be43de41fcec",
   "metadata": {},
   "outputs": [],
   "source": [
    "fee_list =['RoomService','FoodCourt','ShoppingMall','Spa','VRDeck']"
   ]
  },
  {
   "cell_type": "code",
   "execution_count": null,
   "id": "bb73e182-4471-445a-ad70-e0dde430ad1f",
   "metadata": {},
   "outputs": [],
   "source": [
    "train['RoomService'].median()"
   ]
  },
  {
   "cell_type": "code",
   "execution_count": null,
   "id": "47a55ed0-e03d-4cde-9cfc-0b791dba2cb5",
   "metadata": {},
   "outputs": [],
   "source": [
    "for col in fee_list :\n",
    "    train[col].fillna(train[col].median(), inplace=True) #중앙값이 0 .. 0으로 null 다 채우고 fee항목만 남기고 다 지우자!"
   ]
  },
  {
   "cell_type": "code",
   "execution_count": null,
   "id": "a20c10a1-c45f-4603-8595-83eee25a2649",
   "metadata": {},
   "outputs": [],
   "source": [
    "train['fee'].isnull().sum()"
   ]
  },
  {
   "cell_type": "code",
   "execution_count": null,
   "id": "f5f67b93-bc35-4e03-8ca4-9b4d2ef14129",
   "metadata": {
    "tags": []
   },
   "outputs": [],
   "source": [
    "train['fee'] =train['RoomService']+train['FoodCourt']+train['ShoppingMall']+train['Spa']+train['VRDeck']"
   ]
  },
  {
   "cell_type": "code",
   "execution_count": null,
   "id": "0d4a72f2-45e7-494b-8b2e-528c7e4455e1",
   "metadata": {
    "tags": []
   },
   "outputs": [],
   "source": [
    "train['fee'].describe()"
   ]
  },
  {
   "cell_type": "code",
   "execution_count": null,
   "id": "75b14d6d-42ce-4504-a582-f072e5d3771f",
   "metadata": {},
   "outputs": [],
   "source": []
  },
  {
   "cell_type": "markdown",
   "id": "cfab8c49-f6a0-4cf8-9c4d-1461d000b329",
   "metadata": {},
   "source": [
    "-----------------"
   ]
  },
  {
   "cell_type": "raw",
   "id": "91d1ad06-e608-4281-ad9e-4588f390c6fd",
   "metadata": {},
   "source": [
    "null 값을 정리하자!"
   ]
  },
  {
   "cell_type": "code",
   "execution_count": null,
   "id": "24327a7d-d7b3-4c51-bbe0-d29ba8cefb59",
   "metadata": {},
   "outputs": [],
   "source": [
    "train.isnull().sum()"
   ]
  },
  {
   "cell_type": "code",
   "execution_count": null,
   "id": "c5973843-c386-460d-b5a6-ed42ebf78bd2",
   "metadata": {},
   "outputs": [],
   "source": [
    "del_col = ['PassengerId' , 'Cabin' , 'Name' , 'lastname', 'num']"
   ]
  },
  {
   "cell_type": "code",
   "execution_count": null,
   "id": "86768348-383f-4caa-9815-84ef7f6d4cf6",
   "metadata": {
    "tags": []
   },
   "outputs": [],
   "source": [
    "train = train.drop(del_col, axis=1)"
   ]
  },
  {
   "cell_type": "code",
   "execution_count": null,
   "id": "3e6b8bcb-172f-421f-aff8-13ef809d9e2e",
   "metadata": {},
   "outputs": [],
   "source": [
    "train"
   ]
  },
  {
   "cell_type": "code",
   "execution_count": null,
   "id": "5b1028a2-72a3-4d40-b75e-b6280bb5a7f2",
   "metadata": {},
   "outputs": [],
   "source": []
  },
  {
   "cell_type": "code",
   "execution_count": null,
   "id": "b83d9293-bc87-41e0-90ba-03b5640d5fc9",
   "metadata": {
    "tags": []
   },
   "outputs": [],
   "source": [
    "#train.drop('num', axis=1, inplace=True)"
   ]
  },
  {
   "cell_type": "code",
   "execution_count": null,
   "id": "c8a30359-6196-4d3b-88c8-80be714573a4",
   "metadata": {},
   "outputs": [],
   "source": [
    "train.isnull().sum()"
   ]
  },
  {
   "cell_type": "code",
   "execution_count": null,
   "id": "e3b4d42c-ee8f-4b46-a4b7-fd6f22673e29",
   "metadata": {},
   "outputs": [],
   "source": [
    "train.head()"
   ]
  },
  {
   "cell_type": "code",
   "execution_count": null,
   "id": "c0054eba-9bcf-4704-b036-035e793af187",
   "metadata": {},
   "outputs": [],
   "source": []
  },
  {
   "cell_type": "code",
   "execution_count": null,
   "id": "1f93b33b-634d-4e0d-84ce-b75c4cded20e",
   "metadata": {},
   "outputs": [],
   "source": []
  },
  {
   "cell_type": "code",
   "execution_count": null,
   "id": "e1ba18de-4bc0-4fd1-9874-816b95dee804",
   "metadata": {},
   "outputs": [],
   "source": []
  },
  {
   "cell_type": "markdown",
   "id": "571652a6-78bf-4b6b-9145-ca3b726043bf",
   "metadata": {
    "tags": []
   },
   "source": [
    "### 2-2. object 항목들을 수치화하기"
   ]
  },
  {
   "cell_type": "code",
   "execution_count": null,
   "id": "cd6ccaf7-c164-4732-9809-7aa52199b47a",
   "metadata": {},
   "outputs": [],
   "source": []
  },
  {
   "cell_type": "code",
   "execution_count": null,
   "id": "c18fbbb2-4f25-42d5-9140-f7f7905066bf",
   "metadata": {},
   "outputs": [],
   "source": [
    "train.info()"
   ]
  },
  {
   "cell_type": "code",
   "execution_count": null,
   "id": "5e04b9ec-3180-4330-957f-874d1bfb6dc2",
   "metadata": {},
   "outputs": [],
   "source": []
  },
  {
   "cell_type": "code",
   "execution_count": null,
   "id": "780a346c-fcad-4221-9d3c-339bd2e1bdac",
   "metadata": {},
   "outputs": [],
   "source": [
    "col_list = ['HomePlanet','Destination','pid','deck','side']\n",
    "for col in col_list : \n",
    "    label = LabelEncoder()\n",
    "    label.fit(train[col].unique())\n",
    "    train[col] = label.transform(train[col]) "
   ]
  },
  {
   "cell_type": "code",
   "execution_count": null,
   "id": "bc270ffb-a53c-4a0c-9eb4-4c2eda5dfa97",
   "metadata": {},
   "outputs": [],
   "source": []
  },
  {
   "cell_type": "raw",
   "id": "d5c4e7d6-d81a-48d5-bc7d-4d623a253141",
   "metadata": {},
   "source": [
    "obj_col=[]\n",
    "for col, types in zip(train.dtypes.index, train.dtypes.values) :\n",
    "    if (types =='object') :\n",
    "        obj_col.append(col)"
   ]
  },
  {
   "cell_type": "raw",
   "id": "8da7c2ff-c1d4-4014-844a-a1ccc745c0d7",
   "metadata": {},
   "source": [
    "obj_col"
   ]
  },
  {
   "cell_type": "code",
   "execution_count": null,
   "id": "49074f60-b8a0-4b15-8c1c-fb8eebf41c98",
   "metadata": {},
   "outputs": [],
   "source": []
  },
  {
   "cell_type": "code",
   "execution_count": null,
   "id": "1acc562d-1e30-46c9-a4af-500e8ac9b97c",
   "metadata": {},
   "outputs": [],
   "source": [
    "train"
   ]
  },
  {
   "cell_type": "code",
   "execution_count": null,
   "id": "215f71c9-b982-4713-9dac-a4fcee3cb2c8",
   "metadata": {},
   "outputs": [],
   "source": []
  },
  {
   "cell_type": "code",
   "execution_count": null,
   "id": "9e92e0f8-8e48-4ac7-a60e-70fcd4bde8c9",
   "metadata": {},
   "outputs": [],
   "source": []
  },
  {
   "cell_type": "code",
   "execution_count": null,
   "id": "e99f66b5-a04b-4748-bde5-96e33c6de313",
   "metadata": {},
   "outputs": [],
   "source": []
  },
  {
   "cell_type": "markdown",
   "id": "6c74ba93-75d7-462f-a6d5-7d5719f095c0",
   "metadata": {
    "tags": []
   },
   "source": [
    "### 2-3-1) 상관 계수 살펴보기 & 해석 (!!!!! 전부 수치화 이후에 다시 봐야함 !!!)"
   ]
  },
  {
   "cell_type": "code",
   "execution_count": null,
   "id": "19de67fc-e946-4dc9-8db1-d4f898db67e6",
   "metadata": {},
   "outputs": [],
   "source": []
  },
  {
   "cell_type": "code",
   "execution_count": null,
   "id": "aa8deef3-5676-440e-a641-611faac1ec6b",
   "metadata": {},
   "outputs": [],
   "source": [
    "corr = train.corr().round(2)"
   ]
  },
  {
   "cell_type": "code",
   "execution_count": null,
   "id": "6b4215e9-bc20-463c-aeac-f8f8cb0316d7",
   "metadata": {
    "tags": []
   },
   "outputs": [],
   "source": [
    "plt.figure(figsize=(20,20))\n",
    "sns.heatmap(corr, annot=True)"
   ]
  },
  {
   "cell_type": "code",
   "execution_count": null,
   "id": "81923fae-e81c-4c81-b331-c268059145e3",
   "metadata": {},
   "outputs": [],
   "source": []
  },
  {
   "cell_type": "code",
   "execution_count": null,
   "id": "f482652a-b47f-41e2-8a10-46a1c1a86601",
   "metadata": {},
   "outputs": [],
   "source": []
  },
  {
   "cell_type": "markdown",
   "id": "23ffd534-c02f-4c76-b1d6-e92d2b3ee007",
   "metadata": {},
   "source": [
    "## 3. 데이터 모델링 및 학습, 모델평가"
   ]
  },
  {
   "cell_type": "markdown",
   "id": "c4113d46-c91c-42f5-a887-4b783731fe9f",
   "metadata": {},
   "source": [
    "### 3-1) 모델 선정 및 저장"
   ]
  },
  {
   "cell_type": "code",
   "execution_count": null,
   "id": "3621923d-f365-4b91-83fa-f94e1b80911e",
   "metadata": {},
   "outputs": [],
   "source": [
    "rfc = RandomForestClassifier()"
   ]
  },
  {
   "cell_type": "code",
   "execution_count": null,
   "id": "44cd74b9-efd2-4e52-8630-fdc86bf931c0",
   "metadata": {},
   "outputs": [],
   "source": [
    "X = train.drop(['Transported'],axis=1)"
   ]
  },
  {
   "cell_type": "code",
   "execution_count": null,
   "id": "803b7452-018d-4fb8-82a3-d9a48e976c8f",
   "metadata": {},
   "outputs": [],
   "source": [
    "Y = train['Transported']"
   ]
  },
  {
   "cell_type": "code",
   "execution_count": null,
   "id": "4f28d261-3862-409e-8927-a50d4c75b53a",
   "metadata": {},
   "outputs": [],
   "source": [
    "x_train, x_test, y_train, y_test = train_test_split(X,Y,test_size=0.2\n",
    "                                                    , random_state=0, stratify=Y)"
   ]
  },
  {
   "cell_type": "code",
   "execution_count": null,
   "id": "478ba5c4-ab60-4fbb-a8db-16598e2a4240",
   "metadata": {
    "tags": []
   },
   "outputs": [],
   "source": [
    "rfc.fit(x_train, y_train)"
   ]
  },
  {
   "cell_type": "code",
   "execution_count": null,
   "id": "d4063924-7f4d-475e-97f6-739c682cc93f",
   "metadata": {
    "tags": []
   },
   "outputs": [],
   "source": [
    "pre_train = rfc.predict(x_train)"
   ]
  },
  {
   "cell_type": "code",
   "execution_count": null,
   "id": "a233784a-f935-47ca-afba-48a81c98e614",
   "metadata": {
    "tags": []
   },
   "outputs": [],
   "source": [
    "mean_absolute_error(pre_train, y_train)"
   ]
  },
  {
   "cell_type": "code",
   "execution_count": null,
   "id": "01e71c04-74c9-4df0-9a13-678567504509",
   "metadata": {},
   "outputs": [],
   "source": [
    "rfc.score(x_train, y_train)"
   ]
  },
  {
   "cell_type": "code",
   "execution_count": null,
   "id": "d0d0514e-8af6-4bee-bb02-e93128b85838",
   "metadata": {},
   "outputs": [],
   "source": [
    "pre_test = rfc.predict(x_test)"
   ]
  },
  {
   "cell_type": "code",
   "execution_count": null,
   "id": "528c3d32-af00-4854-8c33-14c3cc19f5ad",
   "metadata": {},
   "outputs": [],
   "source": [
    "mean_absolute_error(pre_test, y_test)"
   ]
  },
  {
   "cell_type": "code",
   "execution_count": null,
   "id": "df271564-ace7-4419-b171-013070fafd9c",
   "metadata": {},
   "outputs": [],
   "source": [
    "rfc.score(x_test, y_test) #모델 정확도"
   ]
  },
  {
   "cell_type": "code",
   "execution_count": null,
   "id": "e1e1c5c2-dce3-4113-b60d-0778bcc208f6",
   "metadata": {},
   "outputs": [],
   "source": [
    "with open('rfc_model.pkl', 'wb') as f :\n",
    "    pickle.dump(rfc, f) #모델 저장!"
   ]
  },
  {
   "cell_type": "code",
   "execution_count": null,
   "id": "299c1eb2-5b16-4e79-b839-508bfe2115f7",
   "metadata": {},
   "outputs": [],
   "source": []
  },
  {
   "cell_type": "code",
   "execution_count": null,
   "id": "29b36013-dce4-4f28-8ccd-d915c639627e",
   "metadata": {},
   "outputs": [],
   "source": []
  },
  {
   "cell_type": "markdown",
   "id": "5192529d-d6b4-4dcc-a143-edf05bb57253",
   "metadata": {},
   "source": [
    "### 3-2) 라벨 저장"
   ]
  },
  {
   "cell_type": "code",
   "execution_count": null,
   "id": "558d396d-d079-4770-a508-703cc578de9b",
   "metadata": {},
   "outputs": [],
   "source": [
    "col_list = ['HomePlanet','Destination','pid','deck','side']\n",
    "for col in col_list : \n",
    "    label = LabelEncoder()\n",
    "    label.fit(train[col].unique())\n",
    "    train[col] = label.transform(train[col])\n",
    "    filename = 'label_' +col+'.pkl'\n",
    "    with open(filename, 'wb') as f:\n",
    "        pickle.dump(label, f)"
   ]
  },
  {
   "cell_type": "code",
   "execution_count": null,
   "id": "e8f4dfc4-4264-44b3-b68b-7bde9975e866",
   "metadata": {},
   "outputs": [],
   "source": []
  },
  {
   "cell_type": "markdown",
   "id": "71a09aa6-1702-4aec-b948-1ab983096aeb",
   "metadata": {},
   "source": [
    "### 3-3) 코드 정리"
   ]
  },
  {
   "cell_type": "raw",
   "id": "b7bb7759-7e4e-4264-a955-c3934592c85b",
   "metadata": {},
   "source": [
    "!!!! 코드를 모아야한다 코드정리!!!!"
   ]
  },
  {
   "cell_type": "raw",
   "id": "419a861e-acef-43b8-8357-ef6f297e384c",
   "metadata": {},
   "source": [
    "with #모델불러오기"
   ]
  },
  {
   "cell_type": "code",
   "execution_count": null,
   "id": "b6d3f6bb-9b4e-4d4f-8c29-6e80e1f0d2a4",
   "metadata": {},
   "outputs": [],
   "source": []
  },
  {
   "cell_type": "code",
   "execution_count": 128,
   "id": "b84963e8-f538-4b48-a500-00f92e66eaf1",
   "metadata": {},
   "outputs": [],
   "source": [
    "import time\n",
    "import numpy as np\n",
    "import pandas as pd\n",
    "import seaborn as sns\n",
    "import matplotlib.pyplot as plt\n",
    "from sklearn.metrics import accuracy_score, confusion_matrix, f1_score, mean_absolute_error\n",
    "from sklearn.preprocessing import LabelEncoder, StandardScaler, MinMaxScaler\n",
    "from sklearn.model_selection import train_test_split\n",
    "import warnings\n",
    "warnings.filterwarnings('ignore')\n",
    "from sklearn.linear_model import LinearRegression, LogisticRegression\n",
    "from sklearn.svm import SVC\n",
    "from sklearn.tree import DecisionTreeClassifier\n",
    "from sklearn.ensemble import RandomForestClassifier\n",
    "import pickle\n",
    "from xgboost import XGBClassifier\n",
    "from sklearn.pipeline import Pipeline\n",
    "from sklearn.pipeline import make_pipeline\n",
    "from sklearn.model_selection import GridSearchCV "
   ]
  },
  {
   "cell_type": "code",
   "execution_count": 129,
   "id": "02f1244b-606c-43b9-9bac-d2c12ab55a50",
   "metadata": {},
   "outputs": [],
   "source": [
    "train=pd.read_csv('train.csv')"
   ]
  },
  {
   "cell_type": "code",
   "execution_count": null,
   "id": "2e9515b6-7896-46fc-aa27-0a8146028612",
   "metadata": {},
   "outputs": [],
   "source": []
  },
  {
   "cell_type": "code",
   "execution_count": 130,
   "id": "27a49d05-5f16-44fe-9a25-88e18ab8822f",
   "metadata": {},
   "outputs": [],
   "source": [
    "dic_id = {}\n",
    "for i in train['PassengerId'] :\n",
    "    dic_id[i] = i[:4]\n",
    "\n",
    "train['pid'] = train['PassengerId'].map(dic_id) #pid 변수 생성"
   ]
  },
  {
   "cell_type": "code",
   "execution_count": null,
   "id": "122f6569-9b12-4d69-af63-35451e3b5c98",
   "metadata": {},
   "outputs": [],
   "source": []
  },
  {
   "cell_type": "code",
   "execution_count": 131,
   "id": "cdb10c0c-ddae-48c3-9455-c92002f78673",
   "metadata": {},
   "outputs": [],
   "source": [
    "dest_group =train.groupby(['pid','Destination']).size().reset_index()"
   ]
  },
  {
   "cell_type": "code",
   "execution_count": 132,
   "id": "eb17a308-9604-4073-baaa-a2d3077bebcb",
   "metadata": {},
   "outputs": [],
   "source": [
    "dest_group = dest_group.sort_values(0, ascending = False) #정렬 한 후"
   ]
  },
  {
   "cell_type": "code",
   "execution_count": 133,
   "id": "b6a4a6ad-59aa-4475-82b4-9237d78be0db",
   "metadata": {},
   "outputs": [],
   "source": [
    "dest_group = dest_group.drop_duplicates() #가장 위에값만 남기고 중복값들을 지움 / 가장 큰 값만 남음."
   ]
  },
  {
   "cell_type": "code",
   "execution_count": 134,
   "id": "59aeade3-fc08-4ad4-b7b6-96c558618fb1",
   "metadata": {},
   "outputs": [],
   "source": [
    "dest_dict ={}\n",
    "for p, d in zip(dest_group['pid'], dest_group['Destination']) :\n",
    "    dest_dict[p] = d"
   ]
  },
  {
   "cell_type": "code",
   "execution_count": 135,
   "id": "c3f12b9d-9f91-405f-9699-6a97976b3da8",
   "metadata": {},
   "outputs": [],
   "source": [
    "train['Destination'].fillna(train['Destination'].map(dest_dict), inplace=True) #그룹이 같은 사람은 목적지가 같을거란 가정으로 Destination의 null값 1차전처리"
   ]
  },
  {
   "cell_type": "code",
   "execution_count": 136,
   "id": "47fc475a-32b8-4f1d-910f-b7895bd7c7c3",
   "metadata": {},
   "outputs": [],
   "source": [
    "train['Destination'].fillna('TRAPPIST-1e', inplace=True) # 나머지는 최빈값인 TRAPPIST-1e로 전처리"
   ]
  },
  {
   "cell_type": "code",
   "execution_count": null,
   "id": "457bc3bb-35b7-4004-b292-b33c6379af14",
   "metadata": {},
   "outputs": [],
   "source": []
  },
  {
   "cell_type": "code",
   "execution_count": 137,
   "id": "e0132a95-353b-482b-89cd-a73da135558d",
   "metadata": {},
   "outputs": [],
   "source": [
    "train['fee'] =train['RoomService']+train['FoodCourt']+train['ShoppingMall']+train['Spa']+train['VRDeck'] #돈쓰는 항목들 5개의 총합을 내어 fee라는 변수 생성!"
   ]
  },
  {
   "cell_type": "code",
   "execution_count": 138,
   "id": "d41d5218-d4a1-4e86-9e4b-1823239f7191",
   "metadata": {},
   "outputs": [],
   "source": [
    "train['CryoSleep'] = np.where(train['fee'] >0 , False, True) #냉동된 상태인 사람들은 fee소모가 없을 것이기 때문에 fee가 있으면 false로 아니면 true로 전처리"
   ]
  },
  {
   "cell_type": "code",
   "execution_count": null,
   "id": "fec60a7e-3178-400f-879e-1741b1308b2c",
   "metadata": {},
   "outputs": [],
   "source": []
  },
  {
   "cell_type": "code",
   "execution_count": 139,
   "id": "3a696f54-000e-4a80-b8c1-346b7a3f7ca0",
   "metadata": {},
   "outputs": [],
   "source": [
    "home_group =train.groupby(['pid','HomePlanet']).size().reset_index()\n",
    "\n",
    "home_dict = {}\n",
    "for p, hp in zip(home_group['pid'], home_group['HomePlanet']) :\n",
    "    #print(p, hp)\n",
    "    home_dict[p] = hp\n",
    "\n",
    "train['HomePlanet'].fillna(train['pid'].map(home_dict), inplace=True) #HomePlanet null 전처리과정 1번\n",
    "\n",
    "train['lastname'] = train['Name'].str.split(' ').str[-1] #lastname 변수 생성"
   ]
  },
  {
   "cell_type": "code",
   "execution_count": 140,
   "id": "803de309-d53a-425e-80aa-f5d19b657d3b",
   "metadata": {
    "tags": []
   },
   "outputs": [],
   "source": [
    "name_group =train.groupby(['lastname','HomePlanet']).size().reset_index()\n",
    "\n",
    "name_dict = {}\n",
    "for g, hp in zip(name_group['lastname'], name_group['HomePlanet']) :\n",
    "    #print(g, hp)\n",
    "    name_dict[g] = hp #HomePlanet null 전처리과정 2번"
   ]
  },
  {
   "cell_type": "code",
   "execution_count": 141,
   "id": "9e2fe63b-5f3d-41d8-8393-6049ecc1c43f",
   "metadata": {},
   "outputs": [],
   "source": [
    "home_dest= {'TRAPPIST-1e' :'Earth', '55 Cancri e' :'Europa', 'PSO J318.5-22' :'Earth'}\n",
    "\n",
    "train['HomePlanet'].fillna(train['Destination'].map(home_dest), inplace=True) #HomePlanet 최종전처리"
   ]
  },
  {
   "cell_type": "code",
   "execution_count": null,
   "id": "a91a81d0-b70c-46c7-bde5-9643f0f12b38",
   "metadata": {},
   "outputs": [],
   "source": []
  },
  {
   "cell_type": "code",
   "execution_count": 142,
   "id": "24f05722-5370-4fc8-b9ad-5c1da033d1e9",
   "metadata": {
    "tags": []
   },
   "outputs": [],
   "source": [
    "cab=train['Cabin'].str.split('/', expand=True) #cabin항목을 3개 항목으로 나누기\n",
    "cab.columns= (['deck','num','side'])\n",
    "train = pd.concat([train,cab], axis=1) #나눈 3항목을 기존 train에 추가 ( deck, num, side )"
   ]
  },
  {
   "cell_type": "code",
   "execution_count": 143,
   "id": "d76ca62c-dc85-4cd1-936e-12663c19e48c",
   "metadata": {},
   "outputs": [],
   "source": [
    "train['deck'].fillna(train['HomePlanet'].map({'Earth':'G', 'Europa':'B','Mars':'F'}), inplace=True) #deck 항목의 null값 전처리"
   ]
  },
  {
   "cell_type": "code",
   "execution_count": 144,
   "id": "119e0642-8a04-434d-8d09-e5ac6076f4b1",
   "metadata": {},
   "outputs": [],
   "source": [
    "side_group =train.groupby(['pid','side']).size().reset_index()"
   ]
  },
  {
   "cell_type": "code",
   "execution_count": 145,
   "id": "b98e0e04-23c5-46d5-aecb-4a6eff4bba5a",
   "metadata": {},
   "outputs": [],
   "source": [
    "side_dict = {}\n",
    "for p,s in zip(side_group['pid'], side_group['side']) :\n",
    "    #print(g, hp)\n",
    "    side_dict[p] = s"
   ]
  },
  {
   "cell_type": "code",
   "execution_count": 146,
   "id": "7422a09a-a937-42ec-8a86-c524fa2cf0df",
   "metadata": {},
   "outputs": [],
   "source": [
    "train['side'].fillna(train['pid'].map(side_dict), inplace=True)  #side 항목의 1차 전처리 (id의 그룹넘버로 유추한 같은 그룹인은 같은 side에 있다는 가정)"
   ]
  },
  {
   "cell_type": "code",
   "execution_count": 147,
   "id": "b9126641-eee9-447c-b5dd-e4be55ce8a76",
   "metadata": {},
   "outputs": [],
   "source": [
    "train['side'].fillna('S', inplace=True) #side 항목의 최종 전처리 (그래도 남는 항목은 S로 처리~~)"
   ]
  },
  {
   "cell_type": "code",
   "execution_count": 148,
   "id": "9b144b74-32e1-470c-be84-7f95b90bd1fa",
   "metadata": {},
   "outputs": [],
   "source": [
    "train['VIP'].fillna(False, inplace=True) #VIP 항목의 전처리 (최빈값인 False로 다 채움)"
   ]
  },
  {
   "cell_type": "code",
   "execution_count": null,
   "id": "8f93e368-1024-45c7-b565-b4685c36b2e0",
   "metadata": {},
   "outputs": [],
   "source": []
  },
  {
   "cell_type": "code",
   "execution_count": 149,
   "id": "c64af2ac-cffe-4b0d-bbc3-583b8f46d2c0",
   "metadata": {},
   "outputs": [],
   "source": [
    "fee_list =['RoomService','FoodCourt','ShoppingMall','Spa','VRDeck']"
   ]
  },
  {
   "cell_type": "code",
   "execution_count": 150,
   "id": "2b3efdcc-28f9-4c65-984e-0663630826fc",
   "metadata": {},
   "outputs": [],
   "source": [
    "for col in fee_list :\n",
    "    #print(col, train[col].isnull().sum(), train[col].median())\n",
    "    train[col].fillna(0, inplace=True)  #5개 항목의 median이 전부다 0이라 5개항목의 null값들에 전부다 0을 부여"
   ]
  },
  {
   "cell_type": "code",
   "execution_count": 151,
   "id": "a79ff4b6-9091-49e8-8d3b-7a44f37adfaa",
   "metadata": {},
   "outputs": [],
   "source": [
    "train['fee'] =train['RoomService']+train['FoodCourt']+train['ShoppingMall']+train['Spa']+train['VRDeck'] #돈쓰는 항목들 5개의 총합을 내어 fee라는 변수 생성!"
   ]
  },
  {
   "cell_type": "code",
   "execution_count": null,
   "id": "37731695-1b8e-4e4f-90f8-689c2d14e957",
   "metadata": {},
   "outputs": [],
   "source": []
  },
  {
   "cell_type": "code",
   "execution_count": 152,
   "id": "19ae78b8-12b3-4f20-9c29-2d54bd6d4d44",
   "metadata": {},
   "outputs": [],
   "source": [
    "train['Age'].fillna(27, inplace=True) #Age의 median값인 27로 null값 전부다 처리"
   ]
  },
  {
   "cell_type": "code",
   "execution_count": 153,
   "id": "2c759afb-07b7-4419-b1fb-3fd0e7f0cbd4",
   "metadata": {
    "tags": []
   },
   "outputs": [],
   "source": [
    "col_list = ['HomePlanet','Destination','pid','deck','side']\n",
    "for col in col_list : \n",
    "    label = LabelEncoder()\n",
    "    label.fit(train[col].unique())\n",
    "    train[col] = label.transform(train[col]) "
   ]
  },
  {
   "cell_type": "code",
   "execution_count": null,
   "id": "243aad52-e59b-44c4-a458-9f6919c24503",
   "metadata": {},
   "outputs": [],
   "source": []
  },
  {
   "cell_type": "code",
   "execution_count": 154,
   "id": "511c16ae-ac3e-49d9-8227-077d6b6587b3",
   "metadata": {},
   "outputs": [],
   "source": [
    "del_col = ['PassengerId' , 'Cabin' , 'Name' , 'lastname', 'num', 'pid']"
   ]
  },
  {
   "cell_type": "code",
   "execution_count": 155,
   "id": "658972ad-b84a-4f91-a739-7a7faebe843d",
   "metadata": {
    "tags": []
   },
   "outputs": [],
   "source": [
    "train = train.drop(del_col, axis=1)"
   ]
  },
  {
   "cell_type": "code",
   "execution_count": 156,
   "id": "ca7ad33a-7fa7-4320-b91e-2b48ad8e7bb8",
   "metadata": {},
   "outputs": [
    {
     "data": {
      "text/html": [
       "<div>\n",
       "<style scoped>\n",
       "    .dataframe tbody tr th:only-of-type {\n",
       "        vertical-align: middle;\n",
       "    }\n",
       "\n",
       "    .dataframe tbody tr th {\n",
       "        vertical-align: top;\n",
       "    }\n",
       "\n",
       "    .dataframe thead th {\n",
       "        text-align: right;\n",
       "    }\n",
       "</style>\n",
       "<table border=\"1\" class=\"dataframe\">\n",
       "  <thead>\n",
       "    <tr style=\"text-align: right;\">\n",
       "      <th></th>\n",
       "      <th>HomePlanet</th>\n",
       "      <th>CryoSleep</th>\n",
       "      <th>Destination</th>\n",
       "      <th>Age</th>\n",
       "      <th>VIP</th>\n",
       "      <th>RoomService</th>\n",
       "      <th>FoodCourt</th>\n",
       "      <th>ShoppingMall</th>\n",
       "      <th>Spa</th>\n",
       "      <th>VRDeck</th>\n",
       "      <th>Transported</th>\n",
       "      <th>fee</th>\n",
       "      <th>deck</th>\n",
       "      <th>side</th>\n",
       "    </tr>\n",
       "  </thead>\n",
       "  <tbody>\n",
       "    <tr>\n",
       "      <th>0</th>\n",
       "      <td>1</td>\n",
       "      <td>True</td>\n",
       "      <td>2</td>\n",
       "      <td>39.0</td>\n",
       "      <td>False</td>\n",
       "      <td>0.0</td>\n",
       "      <td>0.0</td>\n",
       "      <td>0.0</td>\n",
       "      <td>0.0</td>\n",
       "      <td>0.0</td>\n",
       "      <td>False</td>\n",
       "      <td>0.0</td>\n",
       "      <td>1</td>\n",
       "      <td>0</td>\n",
       "    </tr>\n",
       "    <tr>\n",
       "      <th>1</th>\n",
       "      <td>0</td>\n",
       "      <td>False</td>\n",
       "      <td>2</td>\n",
       "      <td>24.0</td>\n",
       "      <td>False</td>\n",
       "      <td>109.0</td>\n",
       "      <td>9.0</td>\n",
       "      <td>25.0</td>\n",
       "      <td>549.0</td>\n",
       "      <td>44.0</td>\n",
       "      <td>True</td>\n",
       "      <td>736.0</td>\n",
       "      <td>5</td>\n",
       "      <td>1</td>\n",
       "    </tr>\n",
       "    <tr>\n",
       "      <th>2</th>\n",
       "      <td>1</td>\n",
       "      <td>False</td>\n",
       "      <td>2</td>\n",
       "      <td>58.0</td>\n",
       "      <td>True</td>\n",
       "      <td>43.0</td>\n",
       "      <td>3576.0</td>\n",
       "      <td>0.0</td>\n",
       "      <td>6715.0</td>\n",
       "      <td>49.0</td>\n",
       "      <td>False</td>\n",
       "      <td>10383.0</td>\n",
       "      <td>0</td>\n",
       "      <td>1</td>\n",
       "    </tr>\n",
       "    <tr>\n",
       "      <th>3</th>\n",
       "      <td>1</td>\n",
       "      <td>False</td>\n",
       "      <td>2</td>\n",
       "      <td>33.0</td>\n",
       "      <td>False</td>\n",
       "      <td>0.0</td>\n",
       "      <td>1283.0</td>\n",
       "      <td>371.0</td>\n",
       "      <td>3329.0</td>\n",
       "      <td>193.0</td>\n",
       "      <td>False</td>\n",
       "      <td>5176.0</td>\n",
       "      <td>0</td>\n",
       "      <td>1</td>\n",
       "    </tr>\n",
       "    <tr>\n",
       "      <th>4</th>\n",
       "      <td>0</td>\n",
       "      <td>False</td>\n",
       "      <td>2</td>\n",
       "      <td>16.0</td>\n",
       "      <td>False</td>\n",
       "      <td>303.0</td>\n",
       "      <td>70.0</td>\n",
       "      <td>151.0</td>\n",
       "      <td>565.0</td>\n",
       "      <td>2.0</td>\n",
       "      <td>True</td>\n",
       "      <td>1091.0</td>\n",
       "      <td>5</td>\n",
       "      <td>1</td>\n",
       "    </tr>\n",
       "    <tr>\n",
       "      <th>...</th>\n",
       "      <td>...</td>\n",
       "      <td>...</td>\n",
       "      <td>...</td>\n",
       "      <td>...</td>\n",
       "      <td>...</td>\n",
       "      <td>...</td>\n",
       "      <td>...</td>\n",
       "      <td>...</td>\n",
       "      <td>...</td>\n",
       "      <td>...</td>\n",
       "      <td>...</td>\n",
       "      <td>...</td>\n",
       "      <td>...</td>\n",
       "      <td>...</td>\n",
       "    </tr>\n",
       "    <tr>\n",
       "      <th>8688</th>\n",
       "      <td>1</td>\n",
       "      <td>False</td>\n",
       "      <td>0</td>\n",
       "      <td>41.0</td>\n",
       "      <td>True</td>\n",
       "      <td>0.0</td>\n",
       "      <td>6819.0</td>\n",
       "      <td>0.0</td>\n",
       "      <td>1643.0</td>\n",
       "      <td>74.0</td>\n",
       "      <td>False</td>\n",
       "      <td>8536.0</td>\n",
       "      <td>0</td>\n",
       "      <td>0</td>\n",
       "    </tr>\n",
       "    <tr>\n",
       "      <th>8689</th>\n",
       "      <td>0</td>\n",
       "      <td>True</td>\n",
       "      <td>1</td>\n",
       "      <td>18.0</td>\n",
       "      <td>False</td>\n",
       "      <td>0.0</td>\n",
       "      <td>0.0</td>\n",
       "      <td>0.0</td>\n",
       "      <td>0.0</td>\n",
       "      <td>0.0</td>\n",
       "      <td>False</td>\n",
       "      <td>0.0</td>\n",
       "      <td>6</td>\n",
       "      <td>1</td>\n",
       "    </tr>\n",
       "    <tr>\n",
       "      <th>8690</th>\n",
       "      <td>0</td>\n",
       "      <td>False</td>\n",
       "      <td>2</td>\n",
       "      <td>26.0</td>\n",
       "      <td>False</td>\n",
       "      <td>0.0</td>\n",
       "      <td>0.0</td>\n",
       "      <td>1872.0</td>\n",
       "      <td>1.0</td>\n",
       "      <td>0.0</td>\n",
       "      <td>True</td>\n",
       "      <td>1873.0</td>\n",
       "      <td>6</td>\n",
       "      <td>1</td>\n",
       "    </tr>\n",
       "    <tr>\n",
       "      <th>8691</th>\n",
       "      <td>1</td>\n",
       "      <td>False</td>\n",
       "      <td>0</td>\n",
       "      <td>32.0</td>\n",
       "      <td>False</td>\n",
       "      <td>0.0</td>\n",
       "      <td>1049.0</td>\n",
       "      <td>0.0</td>\n",
       "      <td>353.0</td>\n",
       "      <td>3235.0</td>\n",
       "      <td>False</td>\n",
       "      <td>4637.0</td>\n",
       "      <td>4</td>\n",
       "      <td>1</td>\n",
       "    </tr>\n",
       "    <tr>\n",
       "      <th>8692</th>\n",
       "      <td>1</td>\n",
       "      <td>False</td>\n",
       "      <td>2</td>\n",
       "      <td>44.0</td>\n",
       "      <td>False</td>\n",
       "      <td>126.0</td>\n",
       "      <td>4688.0</td>\n",
       "      <td>0.0</td>\n",
       "      <td>0.0</td>\n",
       "      <td>12.0</td>\n",
       "      <td>True</td>\n",
       "      <td>4826.0</td>\n",
       "      <td>4</td>\n",
       "      <td>1</td>\n",
       "    </tr>\n",
       "  </tbody>\n",
       "</table>\n",
       "<p>8693 rows × 14 columns</p>\n",
       "</div>"
      ],
      "text/plain": [
       "      HomePlanet  CryoSleep  Destination   Age    VIP  RoomService  FoodCourt  \\\n",
       "0              1       True            2  39.0  False          0.0        0.0   \n",
       "1              0      False            2  24.0  False        109.0        9.0   \n",
       "2              1      False            2  58.0   True         43.0     3576.0   \n",
       "3              1      False            2  33.0  False          0.0     1283.0   \n",
       "4              0      False            2  16.0  False        303.0       70.0   \n",
       "...          ...        ...          ...   ...    ...          ...        ...   \n",
       "8688           1      False            0  41.0   True          0.0     6819.0   \n",
       "8689           0       True            1  18.0  False          0.0        0.0   \n",
       "8690           0      False            2  26.0  False          0.0        0.0   \n",
       "8691           1      False            0  32.0  False          0.0     1049.0   \n",
       "8692           1      False            2  44.0  False        126.0     4688.0   \n",
       "\n",
       "      ShoppingMall     Spa  VRDeck  Transported      fee  deck  side  \n",
       "0              0.0     0.0     0.0        False      0.0     1     0  \n",
       "1             25.0   549.0    44.0         True    736.0     5     1  \n",
       "2              0.0  6715.0    49.0        False  10383.0     0     1  \n",
       "3            371.0  3329.0   193.0        False   5176.0     0     1  \n",
       "4            151.0   565.0     2.0         True   1091.0     5     1  \n",
       "...            ...     ...     ...          ...      ...   ...   ...  \n",
       "8688           0.0  1643.0    74.0        False   8536.0     0     0  \n",
       "8689           0.0     0.0     0.0        False      0.0     6     1  \n",
       "8690        1872.0     1.0     0.0         True   1873.0     6     1  \n",
       "8691           0.0   353.0  3235.0        False   4637.0     4     1  \n",
       "8692           0.0     0.0    12.0         True   4826.0     4     1  \n",
       "\n",
       "[8693 rows x 14 columns]"
      ]
     },
     "execution_count": 156,
     "metadata": {},
     "output_type": "execute_result"
    }
   ],
   "source": [
    "train"
   ]
  },
  {
   "cell_type": "code",
   "execution_count": null,
   "id": "ae482b7d-cb00-4fce-9bbc-72ca8ff35510",
   "metadata": {},
   "outputs": [],
   "source": []
  },
  {
   "cell_type": "code",
   "execution_count": null,
   "id": "23e3cae0-2829-4af8-a63f-1ce53938a785",
   "metadata": {},
   "outputs": [],
   "source": []
  },
  {
   "cell_type": "code",
   "execution_count": 75,
   "id": "c4dca816-c2fc-4b81-b700-70a13ae2f0e7",
   "metadata": {},
   "outputs": [],
   "source": [
    "model= XGBClassifier()"
   ]
  },
  {
   "cell_type": "code",
   "execution_count": 76,
   "id": "15924298-1972-4fdd-80f7-5a1b153478a8",
   "metadata": {},
   "outputs": [],
   "source": [
    "X = train.drop(['Transported'],axis=1)"
   ]
  },
  {
   "cell_type": "code",
   "execution_count": 77,
   "id": "b0f682fa-79da-4399-94a2-f725128dd74f",
   "metadata": {},
   "outputs": [],
   "source": [
    "Y = train['Transported']"
   ]
  },
  {
   "cell_type": "code",
   "execution_count": 78,
   "id": "08c01432-eda1-4282-b710-b5cd12f3e593",
   "metadata": {},
   "outputs": [],
   "source": [
    "x_train, x_test, y_train, y_test = train_test_split(X, Y, test_size=0.2, random_state=0, stratify=Y)"
   ]
  },
  {
   "cell_type": "code",
   "execution_count": 79,
   "id": "b5729b74-1d40-4813-b4c9-4002b2b0d4e4",
   "metadata": {},
   "outputs": [
    {
     "data": {
      "text/plain": [
       "XGBClassifier(base_score=0.5, booster='gbtree', callbacks=None,\n",
       "              colsample_bylevel=1, colsample_bynode=1, colsample_bytree=1,\n",
       "              early_stopping_rounds=None, enable_categorical=False,\n",
       "              eval_metric=None, feature_types=None, gamma=0, gpu_id=-1,\n",
       "              grow_policy='depthwise', importance_type=None,\n",
       "              interaction_constraints='', learning_rate=0.300000012,\n",
       "              max_bin=256, max_cat_threshold=64, max_cat_to_onehot=4,\n",
       "              max_delta_step=0, max_depth=6, max_leaves=0, min_child_weight=1,\n",
       "              missing=nan, monotone_constraints='()', n_estimators=100,\n",
       "              n_jobs=0, num_parallel_tree=1, predictor='auto', random_state=0, ...)"
      ]
     },
     "execution_count": 79,
     "metadata": {},
     "output_type": "execute_result"
    }
   ],
   "source": [
    "model.fit(x_train, y_train)"
   ]
  },
  {
   "cell_type": "code",
   "execution_count": 80,
   "id": "a8d4a668-3a76-47f6-837c-d0edd8ccb95b",
   "metadata": {
    "tags": []
   },
   "outputs": [],
   "source": [
    "pre_train = model.predict(x_train)"
   ]
  },
  {
   "cell_type": "code",
   "execution_count": 81,
   "id": "56b36c2c-4596-4de6-9c71-d7974d4a3f12",
   "metadata": {},
   "outputs": [
    {
     "data": {
      "text/plain": [
       "0.907103825136612"
      ]
     },
     "execution_count": 81,
     "metadata": {},
     "output_type": "execute_result"
    }
   ],
   "source": [
    "model.score(x_train, y_train)"
   ]
  },
  {
   "cell_type": "code",
   "execution_count": 82,
   "id": "2444484f-377e-461d-af00-5a8b6f450ffe",
   "metadata": {},
   "outputs": [],
   "source": [
    "pre_test = model.predict(x_test)"
   ]
  },
  {
   "cell_type": "code",
   "execution_count": 83,
   "id": "d7c883f6-2c4c-40aa-bf02-e5722262f707",
   "metadata": {},
   "outputs": [
    {
     "data": {
      "text/plain": [
       "0.8016101207590569"
      ]
     },
     "execution_count": 83,
     "metadata": {},
     "output_type": "execute_result"
    }
   ],
   "source": [
    "model.score(x_test, y_test) #모델 정확도"
   ]
  },
  {
   "cell_type": "code",
   "execution_count": 84,
   "id": "fe2d272c-e995-478f-bc77-ab7de58d1f16",
   "metadata": {},
   "outputs": [],
   "source": [
    "xgb_model=model"
   ]
  },
  {
   "cell_type": "code",
   "execution_count": 86,
   "id": "5706ef9b-b94c-4860-9f40-98f28db03197",
   "metadata": {},
   "outputs": [],
   "source": [
    "with open('xgb_model.pkl', 'wb') as f :\n",
    "    pickle.dump(model, f) #모델 저장!"
   ]
  },
  {
   "cell_type": "code",
   "execution_count": null,
   "id": "199f5272-8fe9-44a2-8c20-1780b222fdbd",
   "metadata": {},
   "outputs": [],
   "source": []
  },
  {
   "cell_type": "code",
   "execution_count": null,
   "id": "b30bccbc-2ed8-44eb-9c5c-d580b9fb9852",
   "metadata": {},
   "outputs": [],
   "source": []
  },
  {
   "cell_type": "markdown",
   "id": "16426b69-9ece-4cac-801f-48622f7b16b8",
   "metadata": {},
   "source": [
    "## 4. 실제 데이터로 모델 검정 및 예측"
   ]
  },
  {
   "cell_type": "code",
   "execution_count": 125,
   "id": "aada30da-0609-4668-96af-731ce2fecd2b",
   "metadata": {},
   "outputs": [],
   "source": [
    "train=pd.read_csv('train.csv')"
   ]
  },
  {
   "cell_type": "code",
   "execution_count": 126,
   "id": "57a1e1e2-ac61-48e0-ba7e-3519ba8886ec",
   "metadata": {},
   "outputs": [
    {
     "data": {
      "text/html": [
       "<div>\n",
       "<style scoped>\n",
       "    .dataframe tbody tr th:only-of-type {\n",
       "        vertical-align: middle;\n",
       "    }\n",
       "\n",
       "    .dataframe tbody tr th {\n",
       "        vertical-align: top;\n",
       "    }\n",
       "\n",
       "    .dataframe thead th {\n",
       "        text-align: right;\n",
       "    }\n",
       "</style>\n",
       "<table border=\"1\" class=\"dataframe\">\n",
       "  <thead>\n",
       "    <tr style=\"text-align: right;\">\n",
       "      <th></th>\n",
       "      <th>PassengerId</th>\n",
       "      <th>HomePlanet</th>\n",
       "      <th>CryoSleep</th>\n",
       "      <th>Cabin</th>\n",
       "      <th>Destination</th>\n",
       "      <th>Age</th>\n",
       "      <th>VIP</th>\n",
       "      <th>RoomService</th>\n",
       "      <th>FoodCourt</th>\n",
       "      <th>ShoppingMall</th>\n",
       "      <th>Spa</th>\n",
       "      <th>VRDeck</th>\n",
       "      <th>Name</th>\n",
       "      <th>Transported</th>\n",
       "    </tr>\n",
       "  </thead>\n",
       "  <tbody>\n",
       "    <tr>\n",
       "      <th>0</th>\n",
       "      <td>0001_01</td>\n",
       "      <td>Europa</td>\n",
       "      <td>False</td>\n",
       "      <td>B/0/P</td>\n",
       "      <td>TRAPPIST-1e</td>\n",
       "      <td>39.0</td>\n",
       "      <td>False</td>\n",
       "      <td>0.0</td>\n",
       "      <td>0.0</td>\n",
       "      <td>0.0</td>\n",
       "      <td>0.0</td>\n",
       "      <td>0.0</td>\n",
       "      <td>Maham Ofracculy</td>\n",
       "      <td>False</td>\n",
       "    </tr>\n",
       "    <tr>\n",
       "      <th>1</th>\n",
       "      <td>0002_01</td>\n",
       "      <td>Earth</td>\n",
       "      <td>False</td>\n",
       "      <td>F/0/S</td>\n",
       "      <td>TRAPPIST-1e</td>\n",
       "      <td>24.0</td>\n",
       "      <td>False</td>\n",
       "      <td>109.0</td>\n",
       "      <td>9.0</td>\n",
       "      <td>25.0</td>\n",
       "      <td>549.0</td>\n",
       "      <td>44.0</td>\n",
       "      <td>Juanna Vines</td>\n",
       "      <td>True</td>\n",
       "    </tr>\n",
       "    <tr>\n",
       "      <th>2</th>\n",
       "      <td>0003_01</td>\n",
       "      <td>Europa</td>\n",
       "      <td>False</td>\n",
       "      <td>A/0/S</td>\n",
       "      <td>TRAPPIST-1e</td>\n",
       "      <td>58.0</td>\n",
       "      <td>True</td>\n",
       "      <td>43.0</td>\n",
       "      <td>3576.0</td>\n",
       "      <td>0.0</td>\n",
       "      <td>6715.0</td>\n",
       "      <td>49.0</td>\n",
       "      <td>Altark Susent</td>\n",
       "      <td>False</td>\n",
       "    </tr>\n",
       "    <tr>\n",
       "      <th>3</th>\n",
       "      <td>0003_02</td>\n",
       "      <td>Europa</td>\n",
       "      <td>False</td>\n",
       "      <td>A/0/S</td>\n",
       "      <td>TRAPPIST-1e</td>\n",
       "      <td>33.0</td>\n",
       "      <td>False</td>\n",
       "      <td>0.0</td>\n",
       "      <td>1283.0</td>\n",
       "      <td>371.0</td>\n",
       "      <td>3329.0</td>\n",
       "      <td>193.0</td>\n",
       "      <td>Solam Susent</td>\n",
       "      <td>False</td>\n",
       "    </tr>\n",
       "    <tr>\n",
       "      <th>4</th>\n",
       "      <td>0004_01</td>\n",
       "      <td>Earth</td>\n",
       "      <td>False</td>\n",
       "      <td>F/1/S</td>\n",
       "      <td>TRAPPIST-1e</td>\n",
       "      <td>16.0</td>\n",
       "      <td>False</td>\n",
       "      <td>303.0</td>\n",
       "      <td>70.0</td>\n",
       "      <td>151.0</td>\n",
       "      <td>565.0</td>\n",
       "      <td>2.0</td>\n",
       "      <td>Willy Santantines</td>\n",
       "      <td>True</td>\n",
       "    </tr>\n",
       "    <tr>\n",
       "      <th>...</th>\n",
       "      <td>...</td>\n",
       "      <td>...</td>\n",
       "      <td>...</td>\n",
       "      <td>...</td>\n",
       "      <td>...</td>\n",
       "      <td>...</td>\n",
       "      <td>...</td>\n",
       "      <td>...</td>\n",
       "      <td>...</td>\n",
       "      <td>...</td>\n",
       "      <td>...</td>\n",
       "      <td>...</td>\n",
       "      <td>...</td>\n",
       "      <td>...</td>\n",
       "    </tr>\n",
       "    <tr>\n",
       "      <th>8688</th>\n",
       "      <td>9276_01</td>\n",
       "      <td>Europa</td>\n",
       "      <td>False</td>\n",
       "      <td>A/98/P</td>\n",
       "      <td>55 Cancri e</td>\n",
       "      <td>41.0</td>\n",
       "      <td>True</td>\n",
       "      <td>0.0</td>\n",
       "      <td>6819.0</td>\n",
       "      <td>0.0</td>\n",
       "      <td>1643.0</td>\n",
       "      <td>74.0</td>\n",
       "      <td>Gravior Noxnuther</td>\n",
       "      <td>False</td>\n",
       "    </tr>\n",
       "    <tr>\n",
       "      <th>8689</th>\n",
       "      <td>9278_01</td>\n",
       "      <td>Earth</td>\n",
       "      <td>True</td>\n",
       "      <td>G/1499/S</td>\n",
       "      <td>PSO J318.5-22</td>\n",
       "      <td>18.0</td>\n",
       "      <td>False</td>\n",
       "      <td>0.0</td>\n",
       "      <td>0.0</td>\n",
       "      <td>0.0</td>\n",
       "      <td>0.0</td>\n",
       "      <td>0.0</td>\n",
       "      <td>Kurta Mondalley</td>\n",
       "      <td>False</td>\n",
       "    </tr>\n",
       "    <tr>\n",
       "      <th>8690</th>\n",
       "      <td>9279_01</td>\n",
       "      <td>Earth</td>\n",
       "      <td>False</td>\n",
       "      <td>G/1500/S</td>\n",
       "      <td>TRAPPIST-1e</td>\n",
       "      <td>26.0</td>\n",
       "      <td>False</td>\n",
       "      <td>0.0</td>\n",
       "      <td>0.0</td>\n",
       "      <td>1872.0</td>\n",
       "      <td>1.0</td>\n",
       "      <td>0.0</td>\n",
       "      <td>Fayey Connon</td>\n",
       "      <td>True</td>\n",
       "    </tr>\n",
       "    <tr>\n",
       "      <th>8691</th>\n",
       "      <td>9280_01</td>\n",
       "      <td>Europa</td>\n",
       "      <td>False</td>\n",
       "      <td>E/608/S</td>\n",
       "      <td>55 Cancri e</td>\n",
       "      <td>32.0</td>\n",
       "      <td>False</td>\n",
       "      <td>0.0</td>\n",
       "      <td>1049.0</td>\n",
       "      <td>0.0</td>\n",
       "      <td>353.0</td>\n",
       "      <td>3235.0</td>\n",
       "      <td>Celeon Hontichre</td>\n",
       "      <td>False</td>\n",
       "    </tr>\n",
       "    <tr>\n",
       "      <th>8692</th>\n",
       "      <td>9280_02</td>\n",
       "      <td>Europa</td>\n",
       "      <td>False</td>\n",
       "      <td>E/608/S</td>\n",
       "      <td>TRAPPIST-1e</td>\n",
       "      <td>44.0</td>\n",
       "      <td>False</td>\n",
       "      <td>126.0</td>\n",
       "      <td>4688.0</td>\n",
       "      <td>0.0</td>\n",
       "      <td>0.0</td>\n",
       "      <td>12.0</td>\n",
       "      <td>Propsh Hontichre</td>\n",
       "      <td>True</td>\n",
       "    </tr>\n",
       "  </tbody>\n",
       "</table>\n",
       "<p>8693 rows × 14 columns</p>\n",
       "</div>"
      ],
      "text/plain": [
       "     PassengerId HomePlanet CryoSleep     Cabin    Destination   Age    VIP  \\\n",
       "0        0001_01     Europa     False     B/0/P    TRAPPIST-1e  39.0  False   \n",
       "1        0002_01      Earth     False     F/0/S    TRAPPIST-1e  24.0  False   \n",
       "2        0003_01     Europa     False     A/0/S    TRAPPIST-1e  58.0   True   \n",
       "3        0003_02     Europa     False     A/0/S    TRAPPIST-1e  33.0  False   \n",
       "4        0004_01      Earth     False     F/1/S    TRAPPIST-1e  16.0  False   \n",
       "...          ...        ...       ...       ...            ...   ...    ...   \n",
       "8688     9276_01     Europa     False    A/98/P    55 Cancri e  41.0   True   \n",
       "8689     9278_01      Earth      True  G/1499/S  PSO J318.5-22  18.0  False   \n",
       "8690     9279_01      Earth     False  G/1500/S    TRAPPIST-1e  26.0  False   \n",
       "8691     9280_01     Europa     False   E/608/S    55 Cancri e  32.0  False   \n",
       "8692     9280_02     Europa     False   E/608/S    TRAPPIST-1e  44.0  False   \n",
       "\n",
       "      RoomService  FoodCourt  ShoppingMall     Spa  VRDeck               Name  \\\n",
       "0             0.0        0.0           0.0     0.0     0.0    Maham Ofracculy   \n",
       "1           109.0        9.0          25.0   549.0    44.0       Juanna Vines   \n",
       "2            43.0     3576.0           0.0  6715.0    49.0      Altark Susent   \n",
       "3             0.0     1283.0         371.0  3329.0   193.0       Solam Susent   \n",
       "4           303.0       70.0         151.0   565.0     2.0  Willy Santantines   \n",
       "...           ...        ...           ...     ...     ...                ...   \n",
       "8688          0.0     6819.0           0.0  1643.0    74.0  Gravior Noxnuther   \n",
       "8689          0.0        0.0           0.0     0.0     0.0    Kurta Mondalley   \n",
       "8690          0.0        0.0        1872.0     1.0     0.0       Fayey Connon   \n",
       "8691          0.0     1049.0           0.0   353.0  3235.0   Celeon Hontichre   \n",
       "8692        126.0     4688.0           0.0     0.0    12.0   Propsh Hontichre   \n",
       "\n",
       "      Transported  \n",
       "0           False  \n",
       "1            True  \n",
       "2           False  \n",
       "3           False  \n",
       "4            True  \n",
       "...           ...  \n",
       "8688        False  \n",
       "8689        False  \n",
       "8690         True  \n",
       "8691        False  \n",
       "8692         True  \n",
       "\n",
       "[8693 rows x 14 columns]"
      ]
     },
     "execution_count": 126,
     "metadata": {},
     "output_type": "execute_result"
    }
   ],
   "source": [
    "train"
   ]
  },
  {
   "cell_type": "code",
   "execution_count": 2,
   "id": "2e3c6e00-f417-42ac-aaef-f686bc016a7c",
   "metadata": {},
   "outputs": [],
   "source": [
    "test=pd.read_csv('test.csv')"
   ]
  },
  {
   "cell_type": "code",
   "execution_count": 3,
   "id": "58221b50-6bf2-48f1-bfb8-169064c72e07",
   "metadata": {},
   "outputs": [
    {
     "data": {
      "text/html": [
       "<div>\n",
       "<style scoped>\n",
       "    .dataframe tbody tr th:only-of-type {\n",
       "        vertical-align: middle;\n",
       "    }\n",
       "\n",
       "    .dataframe tbody tr th {\n",
       "        vertical-align: top;\n",
       "    }\n",
       "\n",
       "    .dataframe thead th {\n",
       "        text-align: right;\n",
       "    }\n",
       "</style>\n",
       "<table border=\"1\" class=\"dataframe\">\n",
       "  <thead>\n",
       "    <tr style=\"text-align: right;\">\n",
       "      <th></th>\n",
       "      <th>PassengerId</th>\n",
       "      <th>HomePlanet</th>\n",
       "      <th>CryoSleep</th>\n",
       "      <th>Cabin</th>\n",
       "      <th>Destination</th>\n",
       "      <th>Age</th>\n",
       "      <th>VIP</th>\n",
       "      <th>RoomService</th>\n",
       "      <th>FoodCourt</th>\n",
       "      <th>ShoppingMall</th>\n",
       "      <th>Spa</th>\n",
       "      <th>VRDeck</th>\n",
       "      <th>Name</th>\n",
       "    </tr>\n",
       "  </thead>\n",
       "  <tbody>\n",
       "    <tr>\n",
       "      <th>0</th>\n",
       "      <td>0013_01</td>\n",
       "      <td>Earth</td>\n",
       "      <td>True</td>\n",
       "      <td>G/3/S</td>\n",
       "      <td>TRAPPIST-1e</td>\n",
       "      <td>27.0</td>\n",
       "      <td>False</td>\n",
       "      <td>0.0</td>\n",
       "      <td>0.0</td>\n",
       "      <td>0.0</td>\n",
       "      <td>0.0</td>\n",
       "      <td>0.0</td>\n",
       "      <td>Nelly Carsoning</td>\n",
       "    </tr>\n",
       "    <tr>\n",
       "      <th>1</th>\n",
       "      <td>0018_01</td>\n",
       "      <td>Earth</td>\n",
       "      <td>False</td>\n",
       "      <td>F/4/S</td>\n",
       "      <td>TRAPPIST-1e</td>\n",
       "      <td>19.0</td>\n",
       "      <td>False</td>\n",
       "      <td>0.0</td>\n",
       "      <td>9.0</td>\n",
       "      <td>0.0</td>\n",
       "      <td>2823.0</td>\n",
       "      <td>0.0</td>\n",
       "      <td>Lerome Peckers</td>\n",
       "    </tr>\n",
       "    <tr>\n",
       "      <th>2</th>\n",
       "      <td>0019_01</td>\n",
       "      <td>Europa</td>\n",
       "      <td>True</td>\n",
       "      <td>C/0/S</td>\n",
       "      <td>55 Cancri e</td>\n",
       "      <td>31.0</td>\n",
       "      <td>False</td>\n",
       "      <td>0.0</td>\n",
       "      <td>0.0</td>\n",
       "      <td>0.0</td>\n",
       "      <td>0.0</td>\n",
       "      <td>0.0</td>\n",
       "      <td>Sabih Unhearfus</td>\n",
       "    </tr>\n",
       "    <tr>\n",
       "      <th>3</th>\n",
       "      <td>0021_01</td>\n",
       "      <td>Europa</td>\n",
       "      <td>False</td>\n",
       "      <td>C/1/S</td>\n",
       "      <td>TRAPPIST-1e</td>\n",
       "      <td>38.0</td>\n",
       "      <td>False</td>\n",
       "      <td>0.0</td>\n",
       "      <td>6652.0</td>\n",
       "      <td>0.0</td>\n",
       "      <td>181.0</td>\n",
       "      <td>585.0</td>\n",
       "      <td>Meratz Caltilter</td>\n",
       "    </tr>\n",
       "    <tr>\n",
       "      <th>4</th>\n",
       "      <td>0023_01</td>\n",
       "      <td>Earth</td>\n",
       "      <td>False</td>\n",
       "      <td>F/5/S</td>\n",
       "      <td>TRAPPIST-1e</td>\n",
       "      <td>20.0</td>\n",
       "      <td>False</td>\n",
       "      <td>10.0</td>\n",
       "      <td>0.0</td>\n",
       "      <td>635.0</td>\n",
       "      <td>0.0</td>\n",
       "      <td>0.0</td>\n",
       "      <td>Brence Harperez</td>\n",
       "    </tr>\n",
       "    <tr>\n",
       "      <th>...</th>\n",
       "      <td>...</td>\n",
       "      <td>...</td>\n",
       "      <td>...</td>\n",
       "      <td>...</td>\n",
       "      <td>...</td>\n",
       "      <td>...</td>\n",
       "      <td>...</td>\n",
       "      <td>...</td>\n",
       "      <td>...</td>\n",
       "      <td>...</td>\n",
       "      <td>...</td>\n",
       "      <td>...</td>\n",
       "      <td>...</td>\n",
       "    </tr>\n",
       "    <tr>\n",
       "      <th>4272</th>\n",
       "      <td>9266_02</td>\n",
       "      <td>Earth</td>\n",
       "      <td>True</td>\n",
       "      <td>G/1496/S</td>\n",
       "      <td>TRAPPIST-1e</td>\n",
       "      <td>34.0</td>\n",
       "      <td>False</td>\n",
       "      <td>0.0</td>\n",
       "      <td>0.0</td>\n",
       "      <td>0.0</td>\n",
       "      <td>0.0</td>\n",
       "      <td>0.0</td>\n",
       "      <td>Jeron Peter</td>\n",
       "    </tr>\n",
       "    <tr>\n",
       "      <th>4273</th>\n",
       "      <td>9269_01</td>\n",
       "      <td>Earth</td>\n",
       "      <td>False</td>\n",
       "      <td>NaN</td>\n",
       "      <td>TRAPPIST-1e</td>\n",
       "      <td>42.0</td>\n",
       "      <td>False</td>\n",
       "      <td>0.0</td>\n",
       "      <td>847.0</td>\n",
       "      <td>17.0</td>\n",
       "      <td>10.0</td>\n",
       "      <td>144.0</td>\n",
       "      <td>Matty Scheron</td>\n",
       "    </tr>\n",
       "    <tr>\n",
       "      <th>4274</th>\n",
       "      <td>9271_01</td>\n",
       "      <td>Mars</td>\n",
       "      <td>True</td>\n",
       "      <td>D/296/P</td>\n",
       "      <td>55 Cancri e</td>\n",
       "      <td>NaN</td>\n",
       "      <td>False</td>\n",
       "      <td>0.0</td>\n",
       "      <td>0.0</td>\n",
       "      <td>0.0</td>\n",
       "      <td>0.0</td>\n",
       "      <td>0.0</td>\n",
       "      <td>Jayrin Pore</td>\n",
       "    </tr>\n",
       "    <tr>\n",
       "      <th>4275</th>\n",
       "      <td>9273_01</td>\n",
       "      <td>Europa</td>\n",
       "      <td>False</td>\n",
       "      <td>D/297/P</td>\n",
       "      <td>NaN</td>\n",
       "      <td>NaN</td>\n",
       "      <td>False</td>\n",
       "      <td>0.0</td>\n",
       "      <td>2680.0</td>\n",
       "      <td>0.0</td>\n",
       "      <td>0.0</td>\n",
       "      <td>523.0</td>\n",
       "      <td>Kitakan Conale</td>\n",
       "    </tr>\n",
       "    <tr>\n",
       "      <th>4276</th>\n",
       "      <td>9277_01</td>\n",
       "      <td>Earth</td>\n",
       "      <td>True</td>\n",
       "      <td>G/1498/S</td>\n",
       "      <td>PSO J318.5-22</td>\n",
       "      <td>43.0</td>\n",
       "      <td>False</td>\n",
       "      <td>0.0</td>\n",
       "      <td>0.0</td>\n",
       "      <td>0.0</td>\n",
       "      <td>0.0</td>\n",
       "      <td>0.0</td>\n",
       "      <td>Lilace Leonzaley</td>\n",
       "    </tr>\n",
       "  </tbody>\n",
       "</table>\n",
       "<p>4277 rows × 13 columns</p>\n",
       "</div>"
      ],
      "text/plain": [
       "     PassengerId HomePlanet CryoSleep     Cabin    Destination   Age    VIP  \\\n",
       "0        0013_01      Earth      True     G/3/S    TRAPPIST-1e  27.0  False   \n",
       "1        0018_01      Earth     False     F/4/S    TRAPPIST-1e  19.0  False   \n",
       "2        0019_01     Europa      True     C/0/S    55 Cancri e  31.0  False   \n",
       "3        0021_01     Europa     False     C/1/S    TRAPPIST-1e  38.0  False   \n",
       "4        0023_01      Earth     False     F/5/S    TRAPPIST-1e  20.0  False   \n",
       "...          ...        ...       ...       ...            ...   ...    ...   \n",
       "4272     9266_02      Earth      True  G/1496/S    TRAPPIST-1e  34.0  False   \n",
       "4273     9269_01      Earth     False       NaN    TRAPPIST-1e  42.0  False   \n",
       "4274     9271_01       Mars      True   D/296/P    55 Cancri e   NaN  False   \n",
       "4275     9273_01     Europa     False   D/297/P            NaN   NaN  False   \n",
       "4276     9277_01      Earth      True  G/1498/S  PSO J318.5-22  43.0  False   \n",
       "\n",
       "      RoomService  FoodCourt  ShoppingMall     Spa  VRDeck              Name  \n",
       "0             0.0        0.0           0.0     0.0     0.0   Nelly Carsoning  \n",
       "1             0.0        9.0           0.0  2823.0     0.0    Lerome Peckers  \n",
       "2             0.0        0.0           0.0     0.0     0.0   Sabih Unhearfus  \n",
       "3             0.0     6652.0           0.0   181.0   585.0  Meratz Caltilter  \n",
       "4            10.0        0.0         635.0     0.0     0.0   Brence Harperez  \n",
       "...           ...        ...           ...     ...     ...               ...  \n",
       "4272          0.0        0.0           0.0     0.0     0.0       Jeron Peter  \n",
       "4273          0.0      847.0          17.0    10.0   144.0     Matty Scheron  \n",
       "4274          0.0        0.0           0.0     0.0     0.0       Jayrin Pore  \n",
       "4275          0.0     2680.0           0.0     0.0   523.0    Kitakan Conale  \n",
       "4276          0.0        0.0           0.0     0.0     0.0  Lilace Leonzaley  \n",
       "\n",
       "[4277 rows x 13 columns]"
      ]
     },
     "execution_count": 3,
     "metadata": {},
     "output_type": "execute_result"
    }
   ],
   "source": [
    "test"
   ]
  },
  {
   "cell_type": "code",
   "execution_count": null,
   "id": "2e01da96-a770-4b47-8a9c-2ea74f76c6bc",
   "metadata": {},
   "outputs": [],
   "source": []
  },
  {
   "cell_type": "code",
   "execution_count": null,
   "id": "5fcaeaa1-3bb0-4c50-ac50-4fa803f56f6c",
   "metadata": {},
   "outputs": [],
   "source": []
  },
  {
   "cell_type": "code",
   "execution_count": 127,
   "id": "698bd15e-ecda-484a-82bc-ba8091790bb9",
   "metadata": {},
   "outputs": [
    {
     "ename": "KeyError",
     "evalue": "'PassengerId'",
     "output_type": "error",
     "traceback": [
      "\u001b[1;31m---------------------------------------------------------------------------\u001b[0m",
      "\u001b[1;31mKeyError\u001b[0m                                  Traceback (most recent call last)",
      "File \u001b[1;32m~\\anaconda3\\lib\\site-packages\\pandas\\core\\indexes\\base.py:3621\u001b[0m, in \u001b[0;36mIndex.get_loc\u001b[1;34m(self, key, method, tolerance)\u001b[0m\n\u001b[0;32m   3620\u001b[0m \u001b[38;5;28;01mtry\u001b[39;00m:\n\u001b[1;32m-> 3621\u001b[0m     \u001b[38;5;28;01mreturn\u001b[39;00m \u001b[38;5;28;43mself\u001b[39;49m\u001b[38;5;241;43m.\u001b[39;49m\u001b[43m_engine\u001b[49m\u001b[38;5;241;43m.\u001b[39;49m\u001b[43mget_loc\u001b[49m\u001b[43m(\u001b[49m\u001b[43mcasted_key\u001b[49m\u001b[43m)\u001b[49m\n\u001b[0;32m   3622\u001b[0m \u001b[38;5;28;01mexcept\u001b[39;00m \u001b[38;5;167;01mKeyError\u001b[39;00m \u001b[38;5;28;01mas\u001b[39;00m err:\n",
      "File \u001b[1;32m~\\anaconda3\\lib\\site-packages\\pandas\\_libs\\index.pyx:136\u001b[0m, in \u001b[0;36mpandas._libs.index.IndexEngine.get_loc\u001b[1;34m()\u001b[0m\n",
      "File \u001b[1;32m~\\anaconda3\\lib\\site-packages\\pandas\\_libs\\index.pyx:163\u001b[0m, in \u001b[0;36mpandas._libs.index.IndexEngine.get_loc\u001b[1;34m()\u001b[0m\n",
      "File \u001b[1;32mpandas\\_libs\\hashtable_class_helper.pxi:5198\u001b[0m, in \u001b[0;36mpandas._libs.hashtable.PyObjectHashTable.get_item\u001b[1;34m()\u001b[0m\n",
      "File \u001b[1;32mpandas\\_libs\\hashtable_class_helper.pxi:5206\u001b[0m, in \u001b[0;36mpandas._libs.hashtable.PyObjectHashTable.get_item\u001b[1;34m()\u001b[0m\n",
      "\u001b[1;31mKeyError\u001b[0m: 'PassengerId'",
      "\nThe above exception was the direct cause of the following exception:\n",
      "\u001b[1;31mKeyError\u001b[0m                                  Traceback (most recent call last)",
      "Input \u001b[1;32mIn [127]\u001b[0m, in \u001b[0;36m<cell line: 2>\u001b[1;34m()\u001b[0m\n\u001b[0;32m      1\u001b[0m dic_id \u001b[38;5;241m=\u001b[39m {}\n\u001b[1;32m----> 2\u001b[0m \u001b[38;5;28;01mfor\u001b[39;00m i \u001b[38;5;129;01min\u001b[39;00m \u001b[43mtest\u001b[49m\u001b[43m[\u001b[49m\u001b[38;5;124;43m'\u001b[39;49m\u001b[38;5;124;43mPassengerId\u001b[39;49m\u001b[38;5;124;43m'\u001b[39;49m\u001b[43m]\u001b[49m :\n\u001b[0;32m      3\u001b[0m     dic_id[i] \u001b[38;5;241m=\u001b[39m i[:\u001b[38;5;241m4\u001b[39m]\n\u001b[0;32m      5\u001b[0m test[\u001b[38;5;124m'\u001b[39m\u001b[38;5;124mpid\u001b[39m\u001b[38;5;124m'\u001b[39m] \u001b[38;5;241m=\u001b[39m test[\u001b[38;5;124m'\u001b[39m\u001b[38;5;124mPassengerId\u001b[39m\u001b[38;5;124m'\u001b[39m]\u001b[38;5;241m.\u001b[39mmap(dic_id)\n",
      "File \u001b[1;32m~\\anaconda3\\lib\\site-packages\\pandas\\core\\frame.py:3505\u001b[0m, in \u001b[0;36mDataFrame.__getitem__\u001b[1;34m(self, key)\u001b[0m\n\u001b[0;32m   3503\u001b[0m \u001b[38;5;28;01mif\u001b[39;00m \u001b[38;5;28mself\u001b[39m\u001b[38;5;241m.\u001b[39mcolumns\u001b[38;5;241m.\u001b[39mnlevels \u001b[38;5;241m>\u001b[39m \u001b[38;5;241m1\u001b[39m:\n\u001b[0;32m   3504\u001b[0m     \u001b[38;5;28;01mreturn\u001b[39;00m \u001b[38;5;28mself\u001b[39m\u001b[38;5;241m.\u001b[39m_getitem_multilevel(key)\n\u001b[1;32m-> 3505\u001b[0m indexer \u001b[38;5;241m=\u001b[39m \u001b[38;5;28;43mself\u001b[39;49m\u001b[38;5;241;43m.\u001b[39;49m\u001b[43mcolumns\u001b[49m\u001b[38;5;241;43m.\u001b[39;49m\u001b[43mget_loc\u001b[49m\u001b[43m(\u001b[49m\u001b[43mkey\u001b[49m\u001b[43m)\u001b[49m\n\u001b[0;32m   3506\u001b[0m \u001b[38;5;28;01mif\u001b[39;00m is_integer(indexer):\n\u001b[0;32m   3507\u001b[0m     indexer \u001b[38;5;241m=\u001b[39m [indexer]\n",
      "File \u001b[1;32m~\\anaconda3\\lib\\site-packages\\pandas\\core\\indexes\\base.py:3623\u001b[0m, in \u001b[0;36mIndex.get_loc\u001b[1;34m(self, key, method, tolerance)\u001b[0m\n\u001b[0;32m   3621\u001b[0m     \u001b[38;5;28;01mreturn\u001b[39;00m \u001b[38;5;28mself\u001b[39m\u001b[38;5;241m.\u001b[39m_engine\u001b[38;5;241m.\u001b[39mget_loc(casted_key)\n\u001b[0;32m   3622\u001b[0m \u001b[38;5;28;01mexcept\u001b[39;00m \u001b[38;5;167;01mKeyError\u001b[39;00m \u001b[38;5;28;01mas\u001b[39;00m err:\n\u001b[1;32m-> 3623\u001b[0m     \u001b[38;5;28;01mraise\u001b[39;00m \u001b[38;5;167;01mKeyError\u001b[39;00m(key) \u001b[38;5;28;01mfrom\u001b[39;00m \u001b[38;5;21;01merr\u001b[39;00m\n\u001b[0;32m   3624\u001b[0m \u001b[38;5;28;01mexcept\u001b[39;00m \u001b[38;5;167;01mTypeError\u001b[39;00m:\n\u001b[0;32m   3625\u001b[0m     \u001b[38;5;66;03m# If we have a listlike key, _check_indexing_error will raise\u001b[39;00m\n\u001b[0;32m   3626\u001b[0m     \u001b[38;5;66;03m#  InvalidIndexError. Otherwise we fall through and re-raise\u001b[39;00m\n\u001b[0;32m   3627\u001b[0m     \u001b[38;5;66;03m#  the TypeError.\u001b[39;00m\n\u001b[0;32m   3628\u001b[0m     \u001b[38;5;28mself\u001b[39m\u001b[38;5;241m.\u001b[39m_check_indexing_error(key)\n",
      "\u001b[1;31mKeyError\u001b[0m: 'PassengerId'"
     ]
    }
   ],
   "source": [
    "dic_id = {}\n",
    "for i in test['PassengerId'] :\n",
    "    dic_id[i] = i[:4]\n",
    "\n",
    "test['pid'] = test['PassengerId'].map(dic_id) #pid 변수 생성"
   ]
  },
  {
   "cell_type": "code",
   "execution_count": null,
   "id": "898b72f2-571e-4b27-909e-e74e5a02bba3",
   "metadata": {},
   "outputs": [],
   "source": []
  },
  {
   "cell_type": "code",
   "execution_count": 5,
   "id": "12231042-17ab-48f9-9355-9a261fafb3ba",
   "metadata": {},
   "outputs": [],
   "source": [
    "dest_group =test.groupby(['pid','Destination']).size().reset_index()"
   ]
  },
  {
   "cell_type": "code",
   "execution_count": 6,
   "id": "d092e5c2-0b52-4865-b133-2db2975cbe46",
   "metadata": {},
   "outputs": [],
   "source": [
    "dest_group = dest_group.sort_values(0, ascending = False) #정렬 한 후"
   ]
  },
  {
   "cell_type": "code",
   "execution_count": 7,
   "id": "17a7e49e-146a-40d3-b738-9b23a4f82c89",
   "metadata": {},
   "outputs": [],
   "source": [
    "dest_group = dest_group.drop_duplicates() #가장 위에값만 남기고 중복값들을 지움 / 가장 큰 값만 남음."
   ]
  },
  {
   "cell_type": "code",
   "execution_count": 8,
   "id": "a85997c9-06b9-45c8-b574-6c6aaffdbd99",
   "metadata": {},
   "outputs": [],
   "source": [
    "dest_dict ={}\n",
    "for p, d in zip(dest_group['pid'], dest_group['Destination']) :\n",
    "    dest_dict[p] = d"
   ]
  },
  {
   "cell_type": "code",
   "execution_count": 9,
   "id": "9e9fd306-82e4-4ab0-bf38-96eafc2a480e",
   "metadata": {},
   "outputs": [],
   "source": [
    "test['Destination'].fillna(test['Destination'].map(dest_dict), inplace=True) #그룹이 같은 사람은 목적지가 같을거란 가정으로 Destination의 null값 1차전처리"
   ]
  },
  {
   "cell_type": "code",
   "execution_count": 10,
   "id": "f224ec33-f3c5-48ac-9968-f89a390966e0",
   "metadata": {},
   "outputs": [],
   "source": [
    "test['Destination'].fillna('TRAPPIST-1e', inplace=True) # 나머지는 최빈값인 TRAPPIST-1e로 전처리"
   ]
  },
  {
   "cell_type": "code",
   "execution_count": null,
   "id": "6e601099-52e8-450c-8044-f09fd0008a0d",
   "metadata": {},
   "outputs": [],
   "source": []
  },
  {
   "cell_type": "code",
   "execution_count": 11,
   "id": "b5cfc06b-42dc-4107-93cc-89ad6009b6fb",
   "metadata": {},
   "outputs": [],
   "source": [
    "test['fee'] =test['RoomService']+test['FoodCourt']+test['ShoppingMall']+test['Spa']+test['VRDeck'] #돈쓰는 항목들 5개의 총합을 내어 fee라는 변수 생성!"
   ]
  },
  {
   "cell_type": "code",
   "execution_count": 12,
   "id": "bd6e1472-9c02-4094-9351-5ed6a2aa5447",
   "metadata": {},
   "outputs": [],
   "source": [
    "test['CryoSleep'] = np.where(test['fee'] >0 , False, True) #냉동된 상태인 사람들은 fee소모가 없을 것이기 때문에 fee가 있으면 false로 아니면 true로 전처리"
   ]
  },
  {
   "cell_type": "code",
   "execution_count": null,
   "id": "072eb7c4-e6db-40e9-9d57-71215941d05a",
   "metadata": {},
   "outputs": [],
   "source": []
  },
  {
   "cell_type": "code",
   "execution_count": 13,
   "id": "b7d62db0-3fd2-44aa-8223-b4982bb8b96e",
   "metadata": {},
   "outputs": [],
   "source": [
    "home_group =test.groupby(['pid','HomePlanet']).size().reset_index()\n",
    "\n",
    "home_dict = {}\n",
    "for p, hp in zip(home_group['pid'], home_group['HomePlanet']) :\n",
    "    #print(p, hp)\n",
    "    home_dict[p] = hp\n",
    "\n",
    "test['HomePlanet'].fillna(test['pid'].map(home_dict), inplace=True) #HomePlanet null 전처리과정 1번\n",
    "\n",
    "test['lastname'] = test['Name'].str.split(' ').str[-1] #lastname 변수 생성"
   ]
  },
  {
   "cell_type": "code",
   "execution_count": 14,
   "id": "ce3c5b7e-8bd8-4daa-a76a-07f15753a16c",
   "metadata": {
    "tags": []
   },
   "outputs": [],
   "source": [
    "name_group =test.groupby(['lastname','HomePlanet']).size().reset_index()\n",
    "\n",
    "name_dict = {}\n",
    "for g, hp in zip(name_group['lastname'], name_group['HomePlanet']) :\n",
    "    #print(g, hp)\n",
    "    name_dict[g] = hp #HomePlanet null 전처리과정 2번"
   ]
  },
  {
   "cell_type": "code",
   "execution_count": 15,
   "id": "32c39620-975d-413b-9041-c31646ec1876",
   "metadata": {},
   "outputs": [],
   "source": [
    "home_dest= {'TRAPPIST-1e' :'Earth', '55 Cancri e' :'Europa', 'PSO J318.5-22' :'Earth'}\n",
    "\n",
    "test['HomePlanet'].fillna(test['Destination'].map(home_dest), inplace=True) #HomePlanet 최종전처리"
   ]
  },
  {
   "cell_type": "code",
   "execution_count": null,
   "id": "43f834c6-55e1-4a0a-a2ea-a26b10ddc28f",
   "metadata": {},
   "outputs": [],
   "source": []
  },
  {
   "cell_type": "code",
   "execution_count": 16,
   "id": "3103db72-9370-48a4-bf97-bb8a69cb6aa2",
   "metadata": {
    "tags": []
   },
   "outputs": [],
   "source": [
    "cab=test['Cabin'].str.split('/', expand=True) #cabin항목을 3개 항목으로 나누기\n",
    "cab.columns= (['deck','num','side'])\n",
    "test = pd.concat([test,cab], axis=1) #나눈 3항목을 기존 train에 추가 ( deck, num, side )"
   ]
  },
  {
   "cell_type": "code",
   "execution_count": 17,
   "id": "3a8b0363-5bd9-42c2-b2c9-cece7616eede",
   "metadata": {},
   "outputs": [],
   "source": [
    "test['deck'].fillna(test['HomePlanet'].map({'Earth':'G', 'Europa':'B','Mars':'F'}), inplace=True) #deck 항목의 null값 전처리"
   ]
  },
  {
   "cell_type": "code",
   "execution_count": 18,
   "id": "0c2084e2-f708-4039-a949-544f01b85e3e",
   "metadata": {},
   "outputs": [],
   "source": [
    "side_group =test.groupby(['pid','side']).size().reset_index()"
   ]
  },
  {
   "cell_type": "code",
   "execution_count": 19,
   "id": "0041a9af-28a3-4bd1-9a6f-514bb3e9398e",
   "metadata": {},
   "outputs": [],
   "source": [
    "side_dict = {}\n",
    "for p,s in zip(side_group['pid'], side_group['side']) :\n",
    "    #print(g, hp)\n",
    "    side_dict[p] = s"
   ]
  },
  {
   "cell_type": "code",
   "execution_count": 20,
   "id": "d9e9c117-5c72-4deb-a047-57454f9a0430",
   "metadata": {},
   "outputs": [],
   "source": [
    "test['side'].fillna(test['pid'].map(side_dict), inplace=True)  #side 항목의 1차 전처리 (id의 그룹넘버로 유추한 같은 그룹인은 같은 side에 있다는 가정)"
   ]
  },
  {
   "cell_type": "code",
   "execution_count": 21,
   "id": "7a1cc2f1-b28b-408a-a817-f6f4749a2e2b",
   "metadata": {},
   "outputs": [],
   "source": [
    "test['side'].fillna('S', inplace=True) #side 항목의 최종 전처리 (그래도 남는 항목은 S로 처리~~)"
   ]
  },
  {
   "cell_type": "code",
   "execution_count": 22,
   "id": "711cad93-6f7b-48e3-92c1-463d819a1b85",
   "metadata": {},
   "outputs": [],
   "source": [
    "test['VIP'].fillna(False, inplace=True) #VIP 항목의 전처리 (최빈값인 False로 다 채움)"
   ]
  },
  {
   "cell_type": "code",
   "execution_count": null,
   "id": "21e94e73-d39f-4f96-bbd5-40f0fc2889e9",
   "metadata": {},
   "outputs": [],
   "source": []
  },
  {
   "cell_type": "code",
   "execution_count": 30,
   "id": "23083dc1-af1f-49ec-9892-ddfffaab8e4f",
   "metadata": {},
   "outputs": [],
   "source": [
    "fee_list =['RoomService','FoodCourt','ShoppingMall','Spa','VRDeck']"
   ]
  },
  {
   "cell_type": "code",
   "execution_count": 31,
   "id": "9229f87e-394c-4df5-9908-3fdcb81f9ffb",
   "metadata": {},
   "outputs": [],
   "source": [
    "for col in fee_list :\n",
    "    #print(col, train[col].isnull().sum(), train[col].median())\n",
    "    test[col].fillna(0, inplace=True)  #5개 항목의 median이 전부다 0이라 5개항목의 null값들에 전부다 0을 부여"
   ]
  },
  {
   "cell_type": "code",
   "execution_count": 32,
   "id": "53cc1fa9-0ec8-4707-977d-59c71ef08c0f",
   "metadata": {},
   "outputs": [],
   "source": [
    "test['fee'] =test['RoomService']+test['FoodCourt']+test['ShoppingMall']+test['Spa']+test['VRDeck'] #돈쓰는 항목들 5개의 총합을 내어 fee라는 변수 생성!"
   ]
  },
  {
   "cell_type": "code",
   "execution_count": null,
   "id": "4a079866-09a9-41d4-9744-73f6cd5a7229",
   "metadata": {},
   "outputs": [],
   "source": []
  },
  {
   "cell_type": "code",
   "execution_count": 33,
   "id": "d3859eef-a98a-4adb-bd77-41bc657a495b",
   "metadata": {},
   "outputs": [],
   "source": [
    "test['Age'].fillna(27, inplace=True) #Age의 median값인 27로 null값 전부다 처리"
   ]
  },
  {
   "cell_type": "code",
   "execution_count": 34,
   "id": "05315b05-d02b-4873-b35a-66a366551535",
   "metadata": {
    "tags": []
   },
   "outputs": [],
   "source": [
    "col_list = ['HomePlanet','Destination','pid','deck','side']\n",
    "for col in col_list : \n",
    "    label = LabelEncoder()\n",
    "    label.fit(test[col].unique())\n",
    "    test[col] = label.transform(test[col]) "
   ]
  },
  {
   "cell_type": "code",
   "execution_count": null,
   "id": "80e3bdc1-fef7-4b53-b1e5-e65d387d8d73",
   "metadata": {},
   "outputs": [],
   "source": []
  },
  {
   "cell_type": "code",
   "execution_count": 91,
   "id": "2a07f601-fd40-4a34-9aad-1860e45ed42b",
   "metadata": {},
   "outputs": [],
   "source": [
    "del_col = ['PassengerId' , 'Cabin' , 'Name' , 'lastname', 'num', 'pid','Transported']"
   ]
  },
  {
   "cell_type": "code",
   "execution_count": 94,
   "id": "b9b9a2a2-1f2c-496b-ae1f-edef1c6838cd",
   "metadata": {
    "collapsed": true,
    "jupyter": {
     "outputs_hidden": true
    },
    "tags": []
   },
   "outputs": [
    {
     "ename": "KeyError",
     "evalue": "\"['PassengerId', 'Cabin', 'Name', 'lastname', 'num', 'pid'] not found in axis\"",
     "output_type": "error",
     "traceback": [
      "\u001b[1;31m---------------------------------------------------------------------------\u001b[0m",
      "\u001b[1;31mKeyError\u001b[0m                                  Traceback (most recent call last)",
      "Input \u001b[1;32mIn [94]\u001b[0m, in \u001b[0;36m<cell line: 1>\u001b[1;34m()\u001b[0m\n\u001b[1;32m----> 1\u001b[0m test \u001b[38;5;241m=\u001b[39m \u001b[43mtest\u001b[49m\u001b[38;5;241;43m.\u001b[39;49m\u001b[43mdrop\u001b[49m\u001b[43m(\u001b[49m\u001b[43mdel_col\u001b[49m\u001b[43m,\u001b[49m\u001b[43m \u001b[49m\u001b[43maxis\u001b[49m\u001b[38;5;241;43m=\u001b[39;49m\u001b[38;5;241;43m1\u001b[39;49m\u001b[43m)\u001b[49m\n",
      "File \u001b[1;32m~\\anaconda3\\lib\\site-packages\\pandas\\util\\_decorators.py:311\u001b[0m, in \u001b[0;36mdeprecate_nonkeyword_arguments.<locals>.decorate.<locals>.wrapper\u001b[1;34m(*args, **kwargs)\u001b[0m\n\u001b[0;32m    305\u001b[0m \u001b[38;5;28;01mif\u001b[39;00m \u001b[38;5;28mlen\u001b[39m(args) \u001b[38;5;241m>\u001b[39m num_allow_args:\n\u001b[0;32m    306\u001b[0m     warnings\u001b[38;5;241m.\u001b[39mwarn(\n\u001b[0;32m    307\u001b[0m         msg\u001b[38;5;241m.\u001b[39mformat(arguments\u001b[38;5;241m=\u001b[39marguments),\n\u001b[0;32m    308\u001b[0m         \u001b[38;5;167;01mFutureWarning\u001b[39;00m,\n\u001b[0;32m    309\u001b[0m         stacklevel\u001b[38;5;241m=\u001b[39mstacklevel,\n\u001b[0;32m    310\u001b[0m     )\n\u001b[1;32m--> 311\u001b[0m \u001b[38;5;28;01mreturn\u001b[39;00m func(\u001b[38;5;241m*\u001b[39margs, \u001b[38;5;241m*\u001b[39m\u001b[38;5;241m*\u001b[39mkwargs)\n",
      "File \u001b[1;32m~\\anaconda3\\lib\\site-packages\\pandas\\core\\frame.py:4954\u001b[0m, in \u001b[0;36mDataFrame.drop\u001b[1;34m(self, labels, axis, index, columns, level, inplace, errors)\u001b[0m\n\u001b[0;32m   4806\u001b[0m \u001b[38;5;129m@deprecate_nonkeyword_arguments\u001b[39m(version\u001b[38;5;241m=\u001b[39m\u001b[38;5;28;01mNone\u001b[39;00m, allowed_args\u001b[38;5;241m=\u001b[39m[\u001b[38;5;124m\"\u001b[39m\u001b[38;5;124mself\u001b[39m\u001b[38;5;124m\"\u001b[39m, \u001b[38;5;124m\"\u001b[39m\u001b[38;5;124mlabels\u001b[39m\u001b[38;5;124m\"\u001b[39m])\n\u001b[0;32m   4807\u001b[0m \u001b[38;5;28;01mdef\u001b[39;00m \u001b[38;5;21mdrop\u001b[39m(\n\u001b[0;32m   4808\u001b[0m     \u001b[38;5;28mself\u001b[39m,\n\u001b[1;32m   (...)\u001b[0m\n\u001b[0;32m   4815\u001b[0m     errors: \u001b[38;5;28mstr\u001b[39m \u001b[38;5;241m=\u001b[39m \u001b[38;5;124m\"\u001b[39m\u001b[38;5;124mraise\u001b[39m\u001b[38;5;124m\"\u001b[39m,\n\u001b[0;32m   4816\u001b[0m ):\n\u001b[0;32m   4817\u001b[0m     \u001b[38;5;124;03m\"\"\"\u001b[39;00m\n\u001b[0;32m   4818\u001b[0m \u001b[38;5;124;03m    Drop specified labels from rows or columns.\u001b[39;00m\n\u001b[0;32m   4819\u001b[0m \n\u001b[1;32m   (...)\u001b[0m\n\u001b[0;32m   4952\u001b[0m \u001b[38;5;124;03m            weight  1.0     0.8\u001b[39;00m\n\u001b[0;32m   4953\u001b[0m \u001b[38;5;124;03m    \"\"\"\u001b[39;00m\n\u001b[1;32m-> 4954\u001b[0m     \u001b[38;5;28;01mreturn\u001b[39;00m \u001b[38;5;28;43msuper\u001b[39;49m\u001b[43m(\u001b[49m\u001b[43m)\u001b[49m\u001b[38;5;241;43m.\u001b[39;49m\u001b[43mdrop\u001b[49m\u001b[43m(\u001b[49m\n\u001b[0;32m   4955\u001b[0m \u001b[43m        \u001b[49m\u001b[43mlabels\u001b[49m\u001b[38;5;241;43m=\u001b[39;49m\u001b[43mlabels\u001b[49m\u001b[43m,\u001b[49m\n\u001b[0;32m   4956\u001b[0m \u001b[43m        \u001b[49m\u001b[43maxis\u001b[49m\u001b[38;5;241;43m=\u001b[39;49m\u001b[43maxis\u001b[49m\u001b[43m,\u001b[49m\n\u001b[0;32m   4957\u001b[0m \u001b[43m        \u001b[49m\u001b[43mindex\u001b[49m\u001b[38;5;241;43m=\u001b[39;49m\u001b[43mindex\u001b[49m\u001b[43m,\u001b[49m\n\u001b[0;32m   4958\u001b[0m \u001b[43m        \u001b[49m\u001b[43mcolumns\u001b[49m\u001b[38;5;241;43m=\u001b[39;49m\u001b[43mcolumns\u001b[49m\u001b[43m,\u001b[49m\n\u001b[0;32m   4959\u001b[0m \u001b[43m        \u001b[49m\u001b[43mlevel\u001b[49m\u001b[38;5;241;43m=\u001b[39;49m\u001b[43mlevel\u001b[49m\u001b[43m,\u001b[49m\n\u001b[0;32m   4960\u001b[0m \u001b[43m        \u001b[49m\u001b[43minplace\u001b[49m\u001b[38;5;241;43m=\u001b[39;49m\u001b[43minplace\u001b[49m\u001b[43m,\u001b[49m\n\u001b[0;32m   4961\u001b[0m \u001b[43m        \u001b[49m\u001b[43merrors\u001b[49m\u001b[38;5;241;43m=\u001b[39;49m\u001b[43merrors\u001b[49m\u001b[43m,\u001b[49m\n\u001b[0;32m   4962\u001b[0m \u001b[43m    \u001b[49m\u001b[43m)\u001b[49m\n",
      "File \u001b[1;32m~\\anaconda3\\lib\\site-packages\\pandas\\core\\generic.py:4267\u001b[0m, in \u001b[0;36mNDFrame.drop\u001b[1;34m(self, labels, axis, index, columns, level, inplace, errors)\u001b[0m\n\u001b[0;32m   4265\u001b[0m \u001b[38;5;28;01mfor\u001b[39;00m axis, labels \u001b[38;5;129;01min\u001b[39;00m axes\u001b[38;5;241m.\u001b[39mitems():\n\u001b[0;32m   4266\u001b[0m     \u001b[38;5;28;01mif\u001b[39;00m labels \u001b[38;5;129;01mis\u001b[39;00m \u001b[38;5;129;01mnot\u001b[39;00m \u001b[38;5;28;01mNone\u001b[39;00m:\n\u001b[1;32m-> 4267\u001b[0m         obj \u001b[38;5;241m=\u001b[39m \u001b[43mobj\u001b[49m\u001b[38;5;241;43m.\u001b[39;49m\u001b[43m_drop_axis\u001b[49m\u001b[43m(\u001b[49m\u001b[43mlabels\u001b[49m\u001b[43m,\u001b[49m\u001b[43m \u001b[49m\u001b[43maxis\u001b[49m\u001b[43m,\u001b[49m\u001b[43m \u001b[49m\u001b[43mlevel\u001b[49m\u001b[38;5;241;43m=\u001b[39;49m\u001b[43mlevel\u001b[49m\u001b[43m,\u001b[49m\u001b[43m \u001b[49m\u001b[43merrors\u001b[49m\u001b[38;5;241;43m=\u001b[39;49m\u001b[43merrors\u001b[49m\u001b[43m)\u001b[49m\n\u001b[0;32m   4269\u001b[0m \u001b[38;5;28;01mif\u001b[39;00m inplace:\n\u001b[0;32m   4270\u001b[0m     \u001b[38;5;28mself\u001b[39m\u001b[38;5;241m.\u001b[39m_update_inplace(obj)\n",
      "File \u001b[1;32m~\\anaconda3\\lib\\site-packages\\pandas\\core\\generic.py:4311\u001b[0m, in \u001b[0;36mNDFrame._drop_axis\u001b[1;34m(self, labels, axis, level, errors, consolidate, only_slice)\u001b[0m\n\u001b[0;32m   4309\u001b[0m         new_axis \u001b[38;5;241m=\u001b[39m axis\u001b[38;5;241m.\u001b[39mdrop(labels, level\u001b[38;5;241m=\u001b[39mlevel, errors\u001b[38;5;241m=\u001b[39merrors)\n\u001b[0;32m   4310\u001b[0m     \u001b[38;5;28;01melse\u001b[39;00m:\n\u001b[1;32m-> 4311\u001b[0m         new_axis \u001b[38;5;241m=\u001b[39m \u001b[43maxis\u001b[49m\u001b[38;5;241;43m.\u001b[39;49m\u001b[43mdrop\u001b[49m\u001b[43m(\u001b[49m\u001b[43mlabels\u001b[49m\u001b[43m,\u001b[49m\u001b[43m \u001b[49m\u001b[43merrors\u001b[49m\u001b[38;5;241;43m=\u001b[39;49m\u001b[43merrors\u001b[49m\u001b[43m)\u001b[49m\n\u001b[0;32m   4312\u001b[0m     indexer \u001b[38;5;241m=\u001b[39m axis\u001b[38;5;241m.\u001b[39mget_indexer(new_axis)\n\u001b[0;32m   4314\u001b[0m \u001b[38;5;66;03m# Case for non-unique axis\u001b[39;00m\n\u001b[0;32m   4315\u001b[0m \u001b[38;5;28;01melse\u001b[39;00m:\n",
      "File \u001b[1;32m~\\anaconda3\\lib\\site-packages\\pandas\\core\\indexes\\base.py:6644\u001b[0m, in \u001b[0;36mIndex.drop\u001b[1;34m(self, labels, errors)\u001b[0m\n\u001b[0;32m   6642\u001b[0m \u001b[38;5;28;01mif\u001b[39;00m mask\u001b[38;5;241m.\u001b[39many():\n\u001b[0;32m   6643\u001b[0m     \u001b[38;5;28;01mif\u001b[39;00m errors \u001b[38;5;241m!=\u001b[39m \u001b[38;5;124m\"\u001b[39m\u001b[38;5;124mignore\u001b[39m\u001b[38;5;124m\"\u001b[39m:\n\u001b[1;32m-> 6644\u001b[0m         \u001b[38;5;28;01mraise\u001b[39;00m \u001b[38;5;167;01mKeyError\u001b[39;00m(\u001b[38;5;124mf\u001b[39m\u001b[38;5;124m\"\u001b[39m\u001b[38;5;132;01m{\u001b[39;00m\u001b[38;5;28mlist\u001b[39m(labels[mask])\u001b[38;5;132;01m}\u001b[39;00m\u001b[38;5;124m not found in axis\u001b[39m\u001b[38;5;124m\"\u001b[39m)\n\u001b[0;32m   6645\u001b[0m     indexer \u001b[38;5;241m=\u001b[39m indexer[\u001b[38;5;241m~\u001b[39mmask]\n\u001b[0;32m   6646\u001b[0m \u001b[38;5;28;01mreturn\u001b[39;00m \u001b[38;5;28mself\u001b[39m\u001b[38;5;241m.\u001b[39mdelete(indexer)\n",
      "\u001b[1;31mKeyError\u001b[0m: \"['PassengerId', 'Cabin', 'Name', 'lastname', 'num', 'pid'] not found in axis\""
     ]
    }
   ],
   "source": [
    "test = test.drop(del_col, axis=1)"
   ]
  },
  {
   "cell_type": "code",
   "execution_count": 95,
   "id": "96d8a02f-5a59-4a7b-a3f7-da1af3c6e591",
   "metadata": {},
   "outputs": [
    {
     "data": {
      "text/html": [
       "<div>\n",
       "<style scoped>\n",
       "    .dataframe tbody tr th:only-of-type {\n",
       "        vertical-align: middle;\n",
       "    }\n",
       "\n",
       "    .dataframe tbody tr th {\n",
       "        vertical-align: top;\n",
       "    }\n",
       "\n",
       "    .dataframe thead th {\n",
       "        text-align: right;\n",
       "    }\n",
       "</style>\n",
       "<table border=\"1\" class=\"dataframe\">\n",
       "  <thead>\n",
       "    <tr style=\"text-align: right;\">\n",
       "      <th></th>\n",
       "      <th>HomePlanet</th>\n",
       "      <th>CryoSleep</th>\n",
       "      <th>Destination</th>\n",
       "      <th>Age</th>\n",
       "      <th>VIP</th>\n",
       "      <th>RoomService</th>\n",
       "      <th>FoodCourt</th>\n",
       "      <th>ShoppingMall</th>\n",
       "      <th>Spa</th>\n",
       "      <th>VRDeck</th>\n",
       "      <th>fee</th>\n",
       "      <th>deck</th>\n",
       "      <th>side</th>\n",
       "      <th>Transported</th>\n",
       "    </tr>\n",
       "  </thead>\n",
       "  <tbody>\n",
       "    <tr>\n",
       "      <th>0</th>\n",
       "      <td>0</td>\n",
       "      <td>True</td>\n",
       "      <td>2</td>\n",
       "      <td>27.0</td>\n",
       "      <td>False</td>\n",
       "      <td>0.0</td>\n",
       "      <td>0.0</td>\n",
       "      <td>0.0</td>\n",
       "      <td>0.0</td>\n",
       "      <td>0.0</td>\n",
       "      <td>0.0</td>\n",
       "      <td>6</td>\n",
       "      <td>1</td>\n",
       "      <td>None</td>\n",
       "    </tr>\n",
       "    <tr>\n",
       "      <th>1</th>\n",
       "      <td>0</td>\n",
       "      <td>False</td>\n",
       "      <td>2</td>\n",
       "      <td>19.0</td>\n",
       "      <td>False</td>\n",
       "      <td>0.0</td>\n",
       "      <td>9.0</td>\n",
       "      <td>0.0</td>\n",
       "      <td>2823.0</td>\n",
       "      <td>0.0</td>\n",
       "      <td>2832.0</td>\n",
       "      <td>5</td>\n",
       "      <td>1</td>\n",
       "      <td>None</td>\n",
       "    </tr>\n",
       "    <tr>\n",
       "      <th>2</th>\n",
       "      <td>1</td>\n",
       "      <td>True</td>\n",
       "      <td>0</td>\n",
       "      <td>31.0</td>\n",
       "      <td>False</td>\n",
       "      <td>0.0</td>\n",
       "      <td>0.0</td>\n",
       "      <td>0.0</td>\n",
       "      <td>0.0</td>\n",
       "      <td>0.0</td>\n",
       "      <td>0.0</td>\n",
       "      <td>2</td>\n",
       "      <td>1</td>\n",
       "      <td>None</td>\n",
       "    </tr>\n",
       "    <tr>\n",
       "      <th>3</th>\n",
       "      <td>1</td>\n",
       "      <td>False</td>\n",
       "      <td>2</td>\n",
       "      <td>38.0</td>\n",
       "      <td>False</td>\n",
       "      <td>0.0</td>\n",
       "      <td>6652.0</td>\n",
       "      <td>0.0</td>\n",
       "      <td>181.0</td>\n",
       "      <td>585.0</td>\n",
       "      <td>7418.0</td>\n",
       "      <td>2</td>\n",
       "      <td>1</td>\n",
       "      <td>None</td>\n",
       "    </tr>\n",
       "    <tr>\n",
       "      <th>4</th>\n",
       "      <td>0</td>\n",
       "      <td>False</td>\n",
       "      <td>2</td>\n",
       "      <td>20.0</td>\n",
       "      <td>False</td>\n",
       "      <td>10.0</td>\n",
       "      <td>0.0</td>\n",
       "      <td>635.0</td>\n",
       "      <td>0.0</td>\n",
       "      <td>0.0</td>\n",
       "      <td>645.0</td>\n",
       "      <td>5</td>\n",
       "      <td>1</td>\n",
       "      <td>None</td>\n",
       "    </tr>\n",
       "    <tr>\n",
       "      <th>...</th>\n",
       "      <td>...</td>\n",
       "      <td>...</td>\n",
       "      <td>...</td>\n",
       "      <td>...</td>\n",
       "      <td>...</td>\n",
       "      <td>...</td>\n",
       "      <td>...</td>\n",
       "      <td>...</td>\n",
       "      <td>...</td>\n",
       "      <td>...</td>\n",
       "      <td>...</td>\n",
       "      <td>...</td>\n",
       "      <td>...</td>\n",
       "      <td>...</td>\n",
       "    </tr>\n",
       "    <tr>\n",
       "      <th>4272</th>\n",
       "      <td>0</td>\n",
       "      <td>True</td>\n",
       "      <td>2</td>\n",
       "      <td>34.0</td>\n",
       "      <td>False</td>\n",
       "      <td>0.0</td>\n",
       "      <td>0.0</td>\n",
       "      <td>0.0</td>\n",
       "      <td>0.0</td>\n",
       "      <td>0.0</td>\n",
       "      <td>0.0</td>\n",
       "      <td>6</td>\n",
       "      <td>1</td>\n",
       "      <td>None</td>\n",
       "    </tr>\n",
       "    <tr>\n",
       "      <th>4273</th>\n",
       "      <td>0</td>\n",
       "      <td>False</td>\n",
       "      <td>2</td>\n",
       "      <td>42.0</td>\n",
       "      <td>False</td>\n",
       "      <td>0.0</td>\n",
       "      <td>847.0</td>\n",
       "      <td>17.0</td>\n",
       "      <td>10.0</td>\n",
       "      <td>144.0</td>\n",
       "      <td>1018.0</td>\n",
       "      <td>6</td>\n",
       "      <td>1</td>\n",
       "      <td>None</td>\n",
       "    </tr>\n",
       "    <tr>\n",
       "      <th>4274</th>\n",
       "      <td>2</td>\n",
       "      <td>True</td>\n",
       "      <td>0</td>\n",
       "      <td>27.0</td>\n",
       "      <td>False</td>\n",
       "      <td>0.0</td>\n",
       "      <td>0.0</td>\n",
       "      <td>0.0</td>\n",
       "      <td>0.0</td>\n",
       "      <td>0.0</td>\n",
       "      <td>0.0</td>\n",
       "      <td>3</td>\n",
       "      <td>0</td>\n",
       "      <td>None</td>\n",
       "    </tr>\n",
       "    <tr>\n",
       "      <th>4275</th>\n",
       "      <td>1</td>\n",
       "      <td>False</td>\n",
       "      <td>2</td>\n",
       "      <td>27.0</td>\n",
       "      <td>False</td>\n",
       "      <td>0.0</td>\n",
       "      <td>2680.0</td>\n",
       "      <td>0.0</td>\n",
       "      <td>0.0</td>\n",
       "      <td>523.0</td>\n",
       "      <td>3203.0</td>\n",
       "      <td>3</td>\n",
       "      <td>0</td>\n",
       "      <td>None</td>\n",
       "    </tr>\n",
       "    <tr>\n",
       "      <th>4276</th>\n",
       "      <td>0</td>\n",
       "      <td>True</td>\n",
       "      <td>1</td>\n",
       "      <td>43.0</td>\n",
       "      <td>False</td>\n",
       "      <td>0.0</td>\n",
       "      <td>0.0</td>\n",
       "      <td>0.0</td>\n",
       "      <td>0.0</td>\n",
       "      <td>0.0</td>\n",
       "      <td>0.0</td>\n",
       "      <td>6</td>\n",
       "      <td>1</td>\n",
       "      <td>None</td>\n",
       "    </tr>\n",
       "  </tbody>\n",
       "</table>\n",
       "<p>4277 rows × 14 columns</p>\n",
       "</div>"
      ],
      "text/plain": [
       "      HomePlanet  CryoSleep  Destination   Age    VIP  RoomService  FoodCourt  \\\n",
       "0              0       True            2  27.0  False          0.0        0.0   \n",
       "1              0      False            2  19.0  False          0.0        9.0   \n",
       "2              1       True            0  31.0  False          0.0        0.0   \n",
       "3              1      False            2  38.0  False          0.0     6652.0   \n",
       "4              0      False            2  20.0  False         10.0        0.0   \n",
       "...          ...        ...          ...   ...    ...          ...        ...   \n",
       "4272           0       True            2  34.0  False          0.0        0.0   \n",
       "4273           0      False            2  42.0  False          0.0      847.0   \n",
       "4274           2       True            0  27.0  False          0.0        0.0   \n",
       "4275           1      False            2  27.0  False          0.0     2680.0   \n",
       "4276           0       True            1  43.0  False          0.0        0.0   \n",
       "\n",
       "      ShoppingMall     Spa  VRDeck     fee  deck  side Transported  \n",
       "0              0.0     0.0     0.0     0.0     6     1        None  \n",
       "1              0.0  2823.0     0.0  2832.0     5     1        None  \n",
       "2              0.0     0.0     0.0     0.0     2     1        None  \n",
       "3              0.0   181.0   585.0  7418.0     2     1        None  \n",
       "4            635.0     0.0     0.0   645.0     5     1        None  \n",
       "...            ...     ...     ...     ...   ...   ...         ...  \n",
       "4272           0.0     0.0     0.0     0.0     6     1        None  \n",
       "4273          17.0    10.0   144.0  1018.0     6     1        None  \n",
       "4274           0.0     0.0     0.0     0.0     3     0        None  \n",
       "4275           0.0     0.0   523.0  3203.0     3     0        None  \n",
       "4276           0.0     0.0     0.0     0.0     6     1        None  \n",
       "\n",
       "[4277 rows x 14 columns]"
      ]
     },
     "execution_count": 95,
     "metadata": {},
     "output_type": "execute_result"
    }
   ],
   "source": [
    "test"
   ]
  },
  {
   "cell_type": "code",
   "execution_count": 96,
   "id": "35938a29-7f67-4e15-8339-d8d600106c82",
   "metadata": {},
   "outputs": [],
   "source": [
    "test.drop('Transported', axis=1, inplace=True)"
   ]
  },
  {
   "cell_type": "code",
   "execution_count": 97,
   "id": "617af270-7fe8-4f82-b8b9-5427fb8eb3fd",
   "metadata": {},
   "outputs": [
    {
     "data": {
      "text/html": [
       "<div>\n",
       "<style scoped>\n",
       "    .dataframe tbody tr th:only-of-type {\n",
       "        vertical-align: middle;\n",
       "    }\n",
       "\n",
       "    .dataframe tbody tr th {\n",
       "        vertical-align: top;\n",
       "    }\n",
       "\n",
       "    .dataframe thead th {\n",
       "        text-align: right;\n",
       "    }\n",
       "</style>\n",
       "<table border=\"1\" class=\"dataframe\">\n",
       "  <thead>\n",
       "    <tr style=\"text-align: right;\">\n",
       "      <th></th>\n",
       "      <th>HomePlanet</th>\n",
       "      <th>CryoSleep</th>\n",
       "      <th>Destination</th>\n",
       "      <th>Age</th>\n",
       "      <th>VIP</th>\n",
       "      <th>RoomService</th>\n",
       "      <th>FoodCourt</th>\n",
       "      <th>ShoppingMall</th>\n",
       "      <th>Spa</th>\n",
       "      <th>VRDeck</th>\n",
       "      <th>fee</th>\n",
       "      <th>deck</th>\n",
       "      <th>side</th>\n",
       "    </tr>\n",
       "  </thead>\n",
       "  <tbody>\n",
       "    <tr>\n",
       "      <th>0</th>\n",
       "      <td>0</td>\n",
       "      <td>True</td>\n",
       "      <td>2</td>\n",
       "      <td>27.0</td>\n",
       "      <td>False</td>\n",
       "      <td>0.0</td>\n",
       "      <td>0.0</td>\n",
       "      <td>0.0</td>\n",
       "      <td>0.0</td>\n",
       "      <td>0.0</td>\n",
       "      <td>0.0</td>\n",
       "      <td>6</td>\n",
       "      <td>1</td>\n",
       "    </tr>\n",
       "    <tr>\n",
       "      <th>1</th>\n",
       "      <td>0</td>\n",
       "      <td>False</td>\n",
       "      <td>2</td>\n",
       "      <td>19.0</td>\n",
       "      <td>False</td>\n",
       "      <td>0.0</td>\n",
       "      <td>9.0</td>\n",
       "      <td>0.0</td>\n",
       "      <td>2823.0</td>\n",
       "      <td>0.0</td>\n",
       "      <td>2832.0</td>\n",
       "      <td>5</td>\n",
       "      <td>1</td>\n",
       "    </tr>\n",
       "    <tr>\n",
       "      <th>2</th>\n",
       "      <td>1</td>\n",
       "      <td>True</td>\n",
       "      <td>0</td>\n",
       "      <td>31.0</td>\n",
       "      <td>False</td>\n",
       "      <td>0.0</td>\n",
       "      <td>0.0</td>\n",
       "      <td>0.0</td>\n",
       "      <td>0.0</td>\n",
       "      <td>0.0</td>\n",
       "      <td>0.0</td>\n",
       "      <td>2</td>\n",
       "      <td>1</td>\n",
       "    </tr>\n",
       "    <tr>\n",
       "      <th>3</th>\n",
       "      <td>1</td>\n",
       "      <td>False</td>\n",
       "      <td>2</td>\n",
       "      <td>38.0</td>\n",
       "      <td>False</td>\n",
       "      <td>0.0</td>\n",
       "      <td>6652.0</td>\n",
       "      <td>0.0</td>\n",
       "      <td>181.0</td>\n",
       "      <td>585.0</td>\n",
       "      <td>7418.0</td>\n",
       "      <td>2</td>\n",
       "      <td>1</td>\n",
       "    </tr>\n",
       "    <tr>\n",
       "      <th>4</th>\n",
       "      <td>0</td>\n",
       "      <td>False</td>\n",
       "      <td>2</td>\n",
       "      <td>20.0</td>\n",
       "      <td>False</td>\n",
       "      <td>10.0</td>\n",
       "      <td>0.0</td>\n",
       "      <td>635.0</td>\n",
       "      <td>0.0</td>\n",
       "      <td>0.0</td>\n",
       "      <td>645.0</td>\n",
       "      <td>5</td>\n",
       "      <td>1</td>\n",
       "    </tr>\n",
       "    <tr>\n",
       "      <th>...</th>\n",
       "      <td>...</td>\n",
       "      <td>...</td>\n",
       "      <td>...</td>\n",
       "      <td>...</td>\n",
       "      <td>...</td>\n",
       "      <td>...</td>\n",
       "      <td>...</td>\n",
       "      <td>...</td>\n",
       "      <td>...</td>\n",
       "      <td>...</td>\n",
       "      <td>...</td>\n",
       "      <td>...</td>\n",
       "      <td>...</td>\n",
       "    </tr>\n",
       "    <tr>\n",
       "      <th>4272</th>\n",
       "      <td>0</td>\n",
       "      <td>True</td>\n",
       "      <td>2</td>\n",
       "      <td>34.0</td>\n",
       "      <td>False</td>\n",
       "      <td>0.0</td>\n",
       "      <td>0.0</td>\n",
       "      <td>0.0</td>\n",
       "      <td>0.0</td>\n",
       "      <td>0.0</td>\n",
       "      <td>0.0</td>\n",
       "      <td>6</td>\n",
       "      <td>1</td>\n",
       "    </tr>\n",
       "    <tr>\n",
       "      <th>4273</th>\n",
       "      <td>0</td>\n",
       "      <td>False</td>\n",
       "      <td>2</td>\n",
       "      <td>42.0</td>\n",
       "      <td>False</td>\n",
       "      <td>0.0</td>\n",
       "      <td>847.0</td>\n",
       "      <td>17.0</td>\n",
       "      <td>10.0</td>\n",
       "      <td>144.0</td>\n",
       "      <td>1018.0</td>\n",
       "      <td>6</td>\n",
       "      <td>1</td>\n",
       "    </tr>\n",
       "    <tr>\n",
       "      <th>4274</th>\n",
       "      <td>2</td>\n",
       "      <td>True</td>\n",
       "      <td>0</td>\n",
       "      <td>27.0</td>\n",
       "      <td>False</td>\n",
       "      <td>0.0</td>\n",
       "      <td>0.0</td>\n",
       "      <td>0.0</td>\n",
       "      <td>0.0</td>\n",
       "      <td>0.0</td>\n",
       "      <td>0.0</td>\n",
       "      <td>3</td>\n",
       "      <td>0</td>\n",
       "    </tr>\n",
       "    <tr>\n",
       "      <th>4275</th>\n",
       "      <td>1</td>\n",
       "      <td>False</td>\n",
       "      <td>2</td>\n",
       "      <td>27.0</td>\n",
       "      <td>False</td>\n",
       "      <td>0.0</td>\n",
       "      <td>2680.0</td>\n",
       "      <td>0.0</td>\n",
       "      <td>0.0</td>\n",
       "      <td>523.0</td>\n",
       "      <td>3203.0</td>\n",
       "      <td>3</td>\n",
       "      <td>0</td>\n",
       "    </tr>\n",
       "    <tr>\n",
       "      <th>4276</th>\n",
       "      <td>0</td>\n",
       "      <td>True</td>\n",
       "      <td>1</td>\n",
       "      <td>43.0</td>\n",
       "      <td>False</td>\n",
       "      <td>0.0</td>\n",
       "      <td>0.0</td>\n",
       "      <td>0.0</td>\n",
       "      <td>0.0</td>\n",
       "      <td>0.0</td>\n",
       "      <td>0.0</td>\n",
       "      <td>6</td>\n",
       "      <td>1</td>\n",
       "    </tr>\n",
       "  </tbody>\n",
       "</table>\n",
       "<p>4277 rows × 13 columns</p>\n",
       "</div>"
      ],
      "text/plain": [
       "      HomePlanet  CryoSleep  Destination   Age    VIP  RoomService  FoodCourt  \\\n",
       "0              0       True            2  27.0  False          0.0        0.0   \n",
       "1              0      False            2  19.0  False          0.0        9.0   \n",
       "2              1       True            0  31.0  False          0.0        0.0   \n",
       "3              1      False            2  38.0  False          0.0     6652.0   \n",
       "4              0      False            2  20.0  False         10.0        0.0   \n",
       "...          ...        ...          ...   ...    ...          ...        ...   \n",
       "4272           0       True            2  34.0  False          0.0        0.0   \n",
       "4273           0      False            2  42.0  False          0.0      847.0   \n",
       "4274           2       True            0  27.0  False          0.0        0.0   \n",
       "4275           1      False            2  27.0  False          0.0     2680.0   \n",
       "4276           0       True            1  43.0  False          0.0        0.0   \n",
       "\n",
       "      ShoppingMall     Spa  VRDeck     fee  deck  side  \n",
       "0              0.0     0.0     0.0     0.0     6     1  \n",
       "1              0.0  2823.0     0.0  2832.0     5     1  \n",
       "2              0.0     0.0     0.0     0.0     2     1  \n",
       "3              0.0   181.0   585.0  7418.0     2     1  \n",
       "4            635.0     0.0     0.0   645.0     5     1  \n",
       "...            ...     ...     ...     ...   ...   ...  \n",
       "4272           0.0     0.0     0.0     0.0     6     1  \n",
       "4273          17.0    10.0   144.0  1018.0     6     1  \n",
       "4274           0.0     0.0     0.0     0.0     3     0  \n",
       "4275           0.0     0.0   523.0  3203.0     3     0  \n",
       "4276           0.0     0.0     0.0     0.0     6     1  \n",
       "\n",
       "[4277 rows x 13 columns]"
      ]
     },
     "execution_count": 97,
     "metadata": {},
     "output_type": "execute_result"
    }
   ],
   "source": [
    "test"
   ]
  },
  {
   "cell_type": "code",
   "execution_count": 87,
   "id": "b8b774b2-67b6-47cb-9e56-e052d8e5c0e0",
   "metadata": {},
   "outputs": [],
   "source": [
    "with open('xgb_model.pkl', 'rb') as f :\n",
    "    model = pickle.load(f)\n",
    "    #모델을 불러옴"
   ]
  },
  {
   "cell_type": "code",
   "execution_count": 98,
   "id": "8ea6560d-f6b4-4570-a117-ae8874bd0b5e",
   "metadata": {},
   "outputs": [
    {
     "data": {
      "text/plain": [
       "XGBClassifier(base_score=0.5, booster='gbtree', callbacks=None,\n",
       "              colsample_bylevel=1, colsample_bynode=1, colsample_bytree=1,\n",
       "              early_stopping_rounds=None, enable_categorical=False,\n",
       "              eval_metric=None, feature_types=None, gamma=0, gpu_id=-1,\n",
       "              grow_policy='depthwise', importance_type=None,\n",
       "              interaction_constraints='', learning_rate=0.300000012,\n",
       "              max_bin=256, max_cat_threshold=64, max_cat_to_onehot=4,\n",
       "              max_delta_step=0, max_depth=6, max_leaves=0, min_child_weight=1,\n",
       "              missing=nan, monotone_constraints='()', n_estimators=100,\n",
       "              n_jobs=0, num_parallel_tree=1, predictor='auto', random_state=0, ...)"
      ]
     },
     "execution_count": 98,
     "metadata": {},
     "output_type": "execute_result"
    }
   ],
   "source": [
    "model"
   ]
  },
  {
   "cell_type": "code",
   "execution_count": 99,
   "id": "32b50706-77a5-4a4e-a768-3e3d269f4f7d",
   "metadata": {},
   "outputs": [],
   "source": [
    "predict = model.predict(test)"
   ]
  },
  {
   "cell_type": "code",
   "execution_count": 100,
   "id": "4f8d0c33-e6d5-4b43-bde1-bc06640a431d",
   "metadata": {},
   "outputs": [
    {
     "data": {
      "text/plain": [
       "array([1, 0, 1, ..., 1, 1, 1])"
      ]
     },
     "execution_count": 100,
     "metadata": {},
     "output_type": "execute_result"
    }
   ],
   "source": [
    "predict"
   ]
  },
  {
   "cell_type": "code",
   "execution_count": 112,
   "id": "3231a589-1bfe-469e-8dca-cbabd26229bd",
   "metadata": {},
   "outputs": [
    {
     "data": {
      "text/html": [
       "<div>\n",
       "<style scoped>\n",
       "    .dataframe tbody tr th:only-of-type {\n",
       "        vertical-align: middle;\n",
       "    }\n",
       "\n",
       "    .dataframe tbody tr th {\n",
       "        vertical-align: top;\n",
       "    }\n",
       "\n",
       "    .dataframe thead th {\n",
       "        text-align: right;\n",
       "    }\n",
       "</style>\n",
       "<table border=\"1\" class=\"dataframe\">\n",
       "  <thead>\n",
       "    <tr style=\"text-align: right;\">\n",
       "      <th></th>\n",
       "      <th>PassengerId</th>\n",
       "      <th>Transported</th>\n",
       "    </tr>\n",
       "  </thead>\n",
       "  <tbody>\n",
       "    <tr>\n",
       "      <th>0</th>\n",
       "      <td>0013_01</td>\n",
       "      <td>True</td>\n",
       "    </tr>\n",
       "    <tr>\n",
       "      <th>1</th>\n",
       "      <td>0018_01</td>\n",
       "      <td>False</td>\n",
       "    </tr>\n",
       "    <tr>\n",
       "      <th>2</th>\n",
       "      <td>0019_01</td>\n",
       "      <td>True</td>\n",
       "    </tr>\n",
       "    <tr>\n",
       "      <th>3</th>\n",
       "      <td>0021_01</td>\n",
       "      <td>True</td>\n",
       "    </tr>\n",
       "    <tr>\n",
       "      <th>4</th>\n",
       "      <td>0023_01</td>\n",
       "      <td>False</td>\n",
       "    </tr>\n",
       "    <tr>\n",
       "      <th>...</th>\n",
       "      <td>...</td>\n",
       "      <td>...</td>\n",
       "    </tr>\n",
       "    <tr>\n",
       "      <th>4272</th>\n",
       "      <td>9266_02</td>\n",
       "      <td>True</td>\n",
       "    </tr>\n",
       "    <tr>\n",
       "      <th>4273</th>\n",
       "      <td>9269_01</td>\n",
       "      <td>True</td>\n",
       "    </tr>\n",
       "    <tr>\n",
       "      <th>4274</th>\n",
       "      <td>9271_01</td>\n",
       "      <td>True</td>\n",
       "    </tr>\n",
       "    <tr>\n",
       "      <th>4275</th>\n",
       "      <td>9273_01</td>\n",
       "      <td>True</td>\n",
       "    </tr>\n",
       "    <tr>\n",
       "      <th>4276</th>\n",
       "      <td>9277_01</td>\n",
       "      <td>True</td>\n",
       "    </tr>\n",
       "  </tbody>\n",
       "</table>\n",
       "<p>4277 rows × 2 columns</p>\n",
       "</div>"
      ],
      "text/plain": [
       "     PassengerId  Transported\n",
       "0        0013_01         True\n",
       "1        0018_01        False\n",
       "2        0019_01         True\n",
       "3        0021_01         True\n",
       "4        0023_01        False\n",
       "...          ...          ...\n",
       "4272     9266_02         True\n",
       "4273     9269_01         True\n",
       "4274     9271_01         True\n",
       "4275     9273_01         True\n",
       "4276     9277_01         True\n",
       "\n",
       "[4277 rows x 2 columns]"
      ]
     },
     "execution_count": 112,
     "metadata": {},
     "output_type": "execute_result"
    }
   ],
   "source": [
    "sub"
   ]
  },
  {
   "cell_type": "code",
   "execution_count": null,
   "id": "2dec0e61-ec6c-4888-9bb6-336b0b2443b5",
   "metadata": {},
   "outputs": [],
   "source": []
  },
  {
   "cell_type": "code",
   "execution_count": 42,
   "id": "ecdecb49-c7f2-4517-a158-6301ce97cc4c",
   "metadata": {
    "tags": []
   },
   "outputs": [],
   "source": [
    "X = test"
   ]
  },
  {
   "cell_type": "code",
   "execution_count": 44,
   "id": "d31335dc-b2a0-44dc-9491-201743b3f12a",
   "metadata": {},
   "outputs": [],
   "source": [
    "X['Transported'] = None"
   ]
  },
  {
   "cell_type": "code",
   "execution_count": 45,
   "id": "eca6073d-8810-4721-a55b-fda3dfe7d64a",
   "metadata": {},
   "outputs": [],
   "source": [
    "Y = test['Transported']"
   ]
  },
  {
   "cell_type": "code",
   "execution_count": null,
   "id": "1297d676-4807-4d13-9459-049bdb59a947",
   "metadata": {},
   "outputs": [],
   "source": [
    "x_train, x_test, y_train, y_test = train_test_split(X, Y, test_size=0.2, random_state=0, stratify=Y)"
   ]
  },
  {
   "cell_type": "code",
   "execution_count": null,
   "id": "a09593fb-670f-4c95-b4ed-1b4a744d3f9a",
   "metadata": {},
   "outputs": [],
   "source": [
    "model.fit(x_train, y_train)"
   ]
  },
  {
   "cell_type": "code",
   "execution_count": null,
   "id": "35c7e0fe-30e9-4045-8275-cb3bc0188f2e",
   "metadata": {
    "tags": []
   },
   "outputs": [],
   "source": [
    "pre_train = model.predict(x_train)"
   ]
  },
  {
   "cell_type": "code",
   "execution_count": null,
   "id": "c4daaad1-f764-4288-ae16-be2aa8f96cdf",
   "metadata": {},
   "outputs": [],
   "source": [
    "model.score(x_train, y_train)"
   ]
  },
  {
   "cell_type": "code",
   "execution_count": null,
   "id": "aa53528d-00ff-4b98-ac0a-faad96fce237",
   "metadata": {},
   "outputs": [],
   "source": [
    "pre_test = model.predict(x_test)"
   ]
  },
  {
   "cell_type": "code",
   "execution_count": null,
   "id": "730fc97d-c6f4-4983-a17a-6dc8eaa267b9",
   "metadata": {},
   "outputs": [],
   "source": [
    "model.score(x_test, y_test) #모델 정확도"
   ]
  },
  {
   "cell_type": "code",
   "execution_count": null,
   "id": "da8c4d9f-ff44-41a2-96e1-786194715689",
   "metadata": {},
   "outputs": [],
   "source": []
  },
  {
   "cell_type": "code",
   "execution_count": null,
   "id": "69d9d246-f888-4f5a-a204-62ab51a051f7",
   "metadata": {},
   "outputs": [],
   "source": []
  },
  {
   "cell_type": "code",
   "execution_count": 102,
   "id": "cfda2b51-fd02-4dbd-b98b-36bf45fd6239",
   "metadata": {},
   "outputs": [],
   "source": [
    "sub=pd.read_csv('sample_submission.csv')"
   ]
  },
  {
   "cell_type": "code",
   "execution_count": 103,
   "id": "7b26b79f-1d87-49b8-9703-ee55135a0e30",
   "metadata": {},
   "outputs": [
    {
     "data": {
      "text/html": [
       "<div>\n",
       "<style scoped>\n",
       "    .dataframe tbody tr th:only-of-type {\n",
       "        vertical-align: middle;\n",
       "    }\n",
       "\n",
       "    .dataframe tbody tr th {\n",
       "        vertical-align: top;\n",
       "    }\n",
       "\n",
       "    .dataframe thead th {\n",
       "        text-align: right;\n",
       "    }\n",
       "</style>\n",
       "<table border=\"1\" class=\"dataframe\">\n",
       "  <thead>\n",
       "    <tr style=\"text-align: right;\">\n",
       "      <th></th>\n",
       "      <th>PassengerId</th>\n",
       "      <th>Transported</th>\n",
       "    </tr>\n",
       "  </thead>\n",
       "  <tbody>\n",
       "    <tr>\n",
       "      <th>0</th>\n",
       "      <td>0013_01</td>\n",
       "      <td>False</td>\n",
       "    </tr>\n",
       "    <tr>\n",
       "      <th>1</th>\n",
       "      <td>0018_01</td>\n",
       "      <td>False</td>\n",
       "    </tr>\n",
       "    <tr>\n",
       "      <th>2</th>\n",
       "      <td>0019_01</td>\n",
       "      <td>False</td>\n",
       "    </tr>\n",
       "    <tr>\n",
       "      <th>3</th>\n",
       "      <td>0021_01</td>\n",
       "      <td>False</td>\n",
       "    </tr>\n",
       "    <tr>\n",
       "      <th>4</th>\n",
       "      <td>0023_01</td>\n",
       "      <td>False</td>\n",
       "    </tr>\n",
       "    <tr>\n",
       "      <th>...</th>\n",
       "      <td>...</td>\n",
       "      <td>...</td>\n",
       "    </tr>\n",
       "    <tr>\n",
       "      <th>4272</th>\n",
       "      <td>9266_02</td>\n",
       "      <td>False</td>\n",
       "    </tr>\n",
       "    <tr>\n",
       "      <th>4273</th>\n",
       "      <td>9269_01</td>\n",
       "      <td>False</td>\n",
       "    </tr>\n",
       "    <tr>\n",
       "      <th>4274</th>\n",
       "      <td>9271_01</td>\n",
       "      <td>False</td>\n",
       "    </tr>\n",
       "    <tr>\n",
       "      <th>4275</th>\n",
       "      <td>9273_01</td>\n",
       "      <td>False</td>\n",
       "    </tr>\n",
       "    <tr>\n",
       "      <th>4276</th>\n",
       "      <td>9277_01</td>\n",
       "      <td>False</td>\n",
       "    </tr>\n",
       "  </tbody>\n",
       "</table>\n",
       "<p>4277 rows × 2 columns</p>\n",
       "</div>"
      ],
      "text/plain": [
       "     PassengerId  Transported\n",
       "0        0013_01        False\n",
       "1        0018_01        False\n",
       "2        0019_01        False\n",
       "3        0021_01        False\n",
       "4        0023_01        False\n",
       "...          ...          ...\n",
       "4272     9266_02        False\n",
       "4273     9269_01        False\n",
       "4274     9271_01        False\n",
       "4275     9273_01        False\n",
       "4276     9277_01        False\n",
       "\n",
       "[4277 rows x 2 columns]"
      ]
     },
     "execution_count": 103,
     "metadata": {},
     "output_type": "execute_result"
    }
   ],
   "source": [
    "sub"
   ]
  },
  {
   "cell_type": "code",
   "execution_count": 105,
   "id": "8599ba0a-8dee-4f8e-a128-8c6707b969cb",
   "metadata": {},
   "outputs": [
    {
     "data": {
      "text/plain": [
       "numpy.ndarray"
      ]
     },
     "execution_count": 105,
     "metadata": {},
     "output_type": "execute_result"
    }
   ],
   "source": [
    "type(predict)"
   ]
  },
  {
   "cell_type": "code",
   "execution_count": 106,
   "id": "a2e26dd1-bca4-4547-afec-fd835d421c27",
   "metadata": {},
   "outputs": [],
   "source": [
    "sub['Transported'] = predict"
   ]
  },
  {
   "cell_type": "code",
   "execution_count": 107,
   "id": "9dfa9617-2bd7-42fd-9247-0a483726b7f6",
   "metadata": {},
   "outputs": [
    {
     "data": {
      "text/html": [
       "<div>\n",
       "<style scoped>\n",
       "    .dataframe tbody tr th:only-of-type {\n",
       "        vertical-align: middle;\n",
       "    }\n",
       "\n",
       "    .dataframe tbody tr th {\n",
       "        vertical-align: top;\n",
       "    }\n",
       "\n",
       "    .dataframe thead th {\n",
       "        text-align: right;\n",
       "    }\n",
       "</style>\n",
       "<table border=\"1\" class=\"dataframe\">\n",
       "  <thead>\n",
       "    <tr style=\"text-align: right;\">\n",
       "      <th></th>\n",
       "      <th>PassengerId</th>\n",
       "      <th>Transported</th>\n",
       "    </tr>\n",
       "  </thead>\n",
       "  <tbody>\n",
       "    <tr>\n",
       "      <th>0</th>\n",
       "      <td>0013_01</td>\n",
       "      <td>1</td>\n",
       "    </tr>\n",
       "    <tr>\n",
       "      <th>1</th>\n",
       "      <td>0018_01</td>\n",
       "      <td>0</td>\n",
       "    </tr>\n",
       "    <tr>\n",
       "      <th>2</th>\n",
       "      <td>0019_01</td>\n",
       "      <td>1</td>\n",
       "    </tr>\n",
       "    <tr>\n",
       "      <th>3</th>\n",
       "      <td>0021_01</td>\n",
       "      <td>1</td>\n",
       "    </tr>\n",
       "    <tr>\n",
       "      <th>4</th>\n",
       "      <td>0023_01</td>\n",
       "      <td>0</td>\n",
       "    </tr>\n",
       "    <tr>\n",
       "      <th>...</th>\n",
       "      <td>...</td>\n",
       "      <td>...</td>\n",
       "    </tr>\n",
       "    <tr>\n",
       "      <th>4272</th>\n",
       "      <td>9266_02</td>\n",
       "      <td>1</td>\n",
       "    </tr>\n",
       "    <tr>\n",
       "      <th>4273</th>\n",
       "      <td>9269_01</td>\n",
       "      <td>1</td>\n",
       "    </tr>\n",
       "    <tr>\n",
       "      <th>4274</th>\n",
       "      <td>9271_01</td>\n",
       "      <td>1</td>\n",
       "    </tr>\n",
       "    <tr>\n",
       "      <th>4275</th>\n",
       "      <td>9273_01</td>\n",
       "      <td>1</td>\n",
       "    </tr>\n",
       "    <tr>\n",
       "      <th>4276</th>\n",
       "      <td>9277_01</td>\n",
       "      <td>1</td>\n",
       "    </tr>\n",
       "  </tbody>\n",
       "</table>\n",
       "<p>4277 rows × 2 columns</p>\n",
       "</div>"
      ],
      "text/plain": [
       "     PassengerId  Transported\n",
       "0        0013_01            1\n",
       "1        0018_01            0\n",
       "2        0019_01            1\n",
       "3        0021_01            1\n",
       "4        0023_01            0\n",
       "...          ...          ...\n",
       "4272     9266_02            1\n",
       "4273     9269_01            1\n",
       "4274     9271_01            1\n",
       "4275     9273_01            1\n",
       "4276     9277_01            1\n",
       "\n",
       "[4277 rows x 2 columns]"
      ]
     },
     "execution_count": 107,
     "metadata": {},
     "output_type": "execute_result"
    }
   ],
   "source": [
    "sub"
   ]
  },
  {
   "cell_type": "code",
   "execution_count": 109,
   "id": "27378bb7-8dcb-4931-9b1d-f9c8395d03ae",
   "metadata": {},
   "outputs": [],
   "source": [
    "sub['Transported']= np.where(sub['Transported']==0, False, True)"
   ]
  },
  {
   "cell_type": "code",
   "execution_count": 110,
   "id": "4a30349a-a988-4417-89ef-8a6a06757508",
   "metadata": {},
   "outputs": [
    {
     "data": {
      "text/html": [
       "<div>\n",
       "<style scoped>\n",
       "    .dataframe tbody tr th:only-of-type {\n",
       "        vertical-align: middle;\n",
       "    }\n",
       "\n",
       "    .dataframe tbody tr th {\n",
       "        vertical-align: top;\n",
       "    }\n",
       "\n",
       "    .dataframe thead th {\n",
       "        text-align: right;\n",
       "    }\n",
       "</style>\n",
       "<table border=\"1\" class=\"dataframe\">\n",
       "  <thead>\n",
       "    <tr style=\"text-align: right;\">\n",
       "      <th></th>\n",
       "      <th>PassengerId</th>\n",
       "      <th>Transported</th>\n",
       "    </tr>\n",
       "  </thead>\n",
       "  <tbody>\n",
       "    <tr>\n",
       "      <th>0</th>\n",
       "      <td>0013_01</td>\n",
       "      <td>True</td>\n",
       "    </tr>\n",
       "    <tr>\n",
       "      <th>1</th>\n",
       "      <td>0018_01</td>\n",
       "      <td>False</td>\n",
       "    </tr>\n",
       "    <tr>\n",
       "      <th>2</th>\n",
       "      <td>0019_01</td>\n",
       "      <td>True</td>\n",
       "    </tr>\n",
       "    <tr>\n",
       "      <th>3</th>\n",
       "      <td>0021_01</td>\n",
       "      <td>True</td>\n",
       "    </tr>\n",
       "    <tr>\n",
       "      <th>4</th>\n",
       "      <td>0023_01</td>\n",
       "      <td>False</td>\n",
       "    </tr>\n",
       "    <tr>\n",
       "      <th>...</th>\n",
       "      <td>...</td>\n",
       "      <td>...</td>\n",
       "    </tr>\n",
       "    <tr>\n",
       "      <th>4272</th>\n",
       "      <td>9266_02</td>\n",
       "      <td>True</td>\n",
       "    </tr>\n",
       "    <tr>\n",
       "      <th>4273</th>\n",
       "      <td>9269_01</td>\n",
       "      <td>True</td>\n",
       "    </tr>\n",
       "    <tr>\n",
       "      <th>4274</th>\n",
       "      <td>9271_01</td>\n",
       "      <td>True</td>\n",
       "    </tr>\n",
       "    <tr>\n",
       "      <th>4275</th>\n",
       "      <td>9273_01</td>\n",
       "      <td>True</td>\n",
       "    </tr>\n",
       "    <tr>\n",
       "      <th>4276</th>\n",
       "      <td>9277_01</td>\n",
       "      <td>True</td>\n",
       "    </tr>\n",
       "  </tbody>\n",
       "</table>\n",
       "<p>4277 rows × 2 columns</p>\n",
       "</div>"
      ],
      "text/plain": [
       "     PassengerId  Transported\n",
       "0        0013_01         True\n",
       "1        0018_01        False\n",
       "2        0019_01         True\n",
       "3        0021_01         True\n",
       "4        0023_01        False\n",
       "...          ...          ...\n",
       "4272     9266_02         True\n",
       "4273     9269_01         True\n",
       "4274     9271_01         True\n",
       "4275     9273_01         True\n",
       "4276     9277_01         True\n",
       "\n",
       "[4277 rows x 2 columns]"
      ]
     },
     "execution_count": 110,
     "metadata": {},
     "output_type": "execute_result"
    }
   ],
   "source": [
    "sub"
   ]
  },
  {
   "cell_type": "code",
   "execution_count": 111,
   "id": "b7310254-5056-4d3f-bbc1-928ecf721630",
   "metadata": {},
   "outputs": [],
   "source": [
    "sub.to_csv('final.csv', index = False)"
   ]
  },
  {
   "cell_type": "code",
   "execution_count": null,
   "id": "324753c1-1d4c-4e59-be15-6217f5b4408c",
   "metadata": {},
   "outputs": [],
   "source": []
  },
  {
   "cell_type": "code",
   "execution_count": null,
   "id": "c3cb1d4c-4568-4235-b0c2-f7d4b3ebcba7",
   "metadata": {},
   "outputs": [],
   "source": []
  },
  {
   "cell_type": "code",
   "execution_count": 123,
   "id": "8fad67de-0df5-4d3c-8a31-c02b0c87b943",
   "metadata": {},
   "outputs": [],
   "source": [
    "train=pd.read_csv('train.csv')"
   ]
  },
  {
   "cell_type": "code",
   "execution_count": 124,
   "id": "fb136af2-771b-44f3-be1f-dc06e3e64e26",
   "metadata": {},
   "outputs": [
    {
     "data": {
      "text/html": [
       "<div>\n",
       "<style scoped>\n",
       "    .dataframe tbody tr th:only-of-type {\n",
       "        vertical-align: middle;\n",
       "    }\n",
       "\n",
       "    .dataframe tbody tr th {\n",
       "        vertical-align: top;\n",
       "    }\n",
       "\n",
       "    .dataframe thead th {\n",
       "        text-align: right;\n",
       "    }\n",
       "</style>\n",
       "<table border=\"1\" class=\"dataframe\">\n",
       "  <thead>\n",
       "    <tr style=\"text-align: right;\">\n",
       "      <th></th>\n",
       "      <th>PassengerId</th>\n",
       "      <th>HomePlanet</th>\n",
       "      <th>CryoSleep</th>\n",
       "      <th>Cabin</th>\n",
       "      <th>Destination</th>\n",
       "      <th>Age</th>\n",
       "      <th>VIP</th>\n",
       "      <th>RoomService</th>\n",
       "      <th>FoodCourt</th>\n",
       "      <th>ShoppingMall</th>\n",
       "      <th>Spa</th>\n",
       "      <th>VRDeck</th>\n",
       "      <th>Name</th>\n",
       "      <th>Transported</th>\n",
       "    </tr>\n",
       "  </thead>\n",
       "  <tbody>\n",
       "    <tr>\n",
       "      <th>0</th>\n",
       "      <td>0001_01</td>\n",
       "      <td>Europa</td>\n",
       "      <td>False</td>\n",
       "      <td>B/0/P</td>\n",
       "      <td>TRAPPIST-1e</td>\n",
       "      <td>39.0</td>\n",
       "      <td>False</td>\n",
       "      <td>0.0</td>\n",
       "      <td>0.0</td>\n",
       "      <td>0.0</td>\n",
       "      <td>0.0</td>\n",
       "      <td>0.0</td>\n",
       "      <td>Maham Ofracculy</td>\n",
       "      <td>False</td>\n",
       "    </tr>\n",
       "    <tr>\n",
       "      <th>1</th>\n",
       "      <td>0002_01</td>\n",
       "      <td>Earth</td>\n",
       "      <td>False</td>\n",
       "      <td>F/0/S</td>\n",
       "      <td>TRAPPIST-1e</td>\n",
       "      <td>24.0</td>\n",
       "      <td>False</td>\n",
       "      <td>109.0</td>\n",
       "      <td>9.0</td>\n",
       "      <td>25.0</td>\n",
       "      <td>549.0</td>\n",
       "      <td>44.0</td>\n",
       "      <td>Juanna Vines</td>\n",
       "      <td>True</td>\n",
       "    </tr>\n",
       "    <tr>\n",
       "      <th>2</th>\n",
       "      <td>0003_01</td>\n",
       "      <td>Europa</td>\n",
       "      <td>False</td>\n",
       "      <td>A/0/S</td>\n",
       "      <td>TRAPPIST-1e</td>\n",
       "      <td>58.0</td>\n",
       "      <td>True</td>\n",
       "      <td>43.0</td>\n",
       "      <td>3576.0</td>\n",
       "      <td>0.0</td>\n",
       "      <td>6715.0</td>\n",
       "      <td>49.0</td>\n",
       "      <td>Altark Susent</td>\n",
       "      <td>False</td>\n",
       "    </tr>\n",
       "    <tr>\n",
       "      <th>3</th>\n",
       "      <td>0003_02</td>\n",
       "      <td>Europa</td>\n",
       "      <td>False</td>\n",
       "      <td>A/0/S</td>\n",
       "      <td>TRAPPIST-1e</td>\n",
       "      <td>33.0</td>\n",
       "      <td>False</td>\n",
       "      <td>0.0</td>\n",
       "      <td>1283.0</td>\n",
       "      <td>371.0</td>\n",
       "      <td>3329.0</td>\n",
       "      <td>193.0</td>\n",
       "      <td>Solam Susent</td>\n",
       "      <td>False</td>\n",
       "    </tr>\n",
       "    <tr>\n",
       "      <th>4</th>\n",
       "      <td>0004_01</td>\n",
       "      <td>Earth</td>\n",
       "      <td>False</td>\n",
       "      <td>F/1/S</td>\n",
       "      <td>TRAPPIST-1e</td>\n",
       "      <td>16.0</td>\n",
       "      <td>False</td>\n",
       "      <td>303.0</td>\n",
       "      <td>70.0</td>\n",
       "      <td>151.0</td>\n",
       "      <td>565.0</td>\n",
       "      <td>2.0</td>\n",
       "      <td>Willy Santantines</td>\n",
       "      <td>True</td>\n",
       "    </tr>\n",
       "    <tr>\n",
       "      <th>...</th>\n",
       "      <td>...</td>\n",
       "      <td>...</td>\n",
       "      <td>...</td>\n",
       "      <td>...</td>\n",
       "      <td>...</td>\n",
       "      <td>...</td>\n",
       "      <td>...</td>\n",
       "      <td>...</td>\n",
       "      <td>...</td>\n",
       "      <td>...</td>\n",
       "      <td>...</td>\n",
       "      <td>...</td>\n",
       "      <td>...</td>\n",
       "      <td>...</td>\n",
       "    </tr>\n",
       "    <tr>\n",
       "      <th>8688</th>\n",
       "      <td>9276_01</td>\n",
       "      <td>Europa</td>\n",
       "      <td>False</td>\n",
       "      <td>A/98/P</td>\n",
       "      <td>55 Cancri e</td>\n",
       "      <td>41.0</td>\n",
       "      <td>True</td>\n",
       "      <td>0.0</td>\n",
       "      <td>6819.0</td>\n",
       "      <td>0.0</td>\n",
       "      <td>1643.0</td>\n",
       "      <td>74.0</td>\n",
       "      <td>Gravior Noxnuther</td>\n",
       "      <td>False</td>\n",
       "    </tr>\n",
       "    <tr>\n",
       "      <th>8689</th>\n",
       "      <td>9278_01</td>\n",
       "      <td>Earth</td>\n",
       "      <td>True</td>\n",
       "      <td>G/1499/S</td>\n",
       "      <td>PSO J318.5-22</td>\n",
       "      <td>18.0</td>\n",
       "      <td>False</td>\n",
       "      <td>0.0</td>\n",
       "      <td>0.0</td>\n",
       "      <td>0.0</td>\n",
       "      <td>0.0</td>\n",
       "      <td>0.0</td>\n",
       "      <td>Kurta Mondalley</td>\n",
       "      <td>False</td>\n",
       "    </tr>\n",
       "    <tr>\n",
       "      <th>8690</th>\n",
       "      <td>9279_01</td>\n",
       "      <td>Earth</td>\n",
       "      <td>False</td>\n",
       "      <td>G/1500/S</td>\n",
       "      <td>TRAPPIST-1e</td>\n",
       "      <td>26.0</td>\n",
       "      <td>False</td>\n",
       "      <td>0.0</td>\n",
       "      <td>0.0</td>\n",
       "      <td>1872.0</td>\n",
       "      <td>1.0</td>\n",
       "      <td>0.0</td>\n",
       "      <td>Fayey Connon</td>\n",
       "      <td>True</td>\n",
       "    </tr>\n",
       "    <tr>\n",
       "      <th>8691</th>\n",
       "      <td>9280_01</td>\n",
       "      <td>Europa</td>\n",
       "      <td>False</td>\n",
       "      <td>E/608/S</td>\n",
       "      <td>55 Cancri e</td>\n",
       "      <td>32.0</td>\n",
       "      <td>False</td>\n",
       "      <td>0.0</td>\n",
       "      <td>1049.0</td>\n",
       "      <td>0.0</td>\n",
       "      <td>353.0</td>\n",
       "      <td>3235.0</td>\n",
       "      <td>Celeon Hontichre</td>\n",
       "      <td>False</td>\n",
       "    </tr>\n",
       "    <tr>\n",
       "      <th>8692</th>\n",
       "      <td>9280_02</td>\n",
       "      <td>Europa</td>\n",
       "      <td>False</td>\n",
       "      <td>E/608/S</td>\n",
       "      <td>TRAPPIST-1e</td>\n",
       "      <td>44.0</td>\n",
       "      <td>False</td>\n",
       "      <td>126.0</td>\n",
       "      <td>4688.0</td>\n",
       "      <td>0.0</td>\n",
       "      <td>0.0</td>\n",
       "      <td>12.0</td>\n",
       "      <td>Propsh Hontichre</td>\n",
       "      <td>True</td>\n",
       "    </tr>\n",
       "  </tbody>\n",
       "</table>\n",
       "<p>8693 rows × 14 columns</p>\n",
       "</div>"
      ],
      "text/plain": [
       "     PassengerId HomePlanet CryoSleep     Cabin    Destination   Age    VIP  \\\n",
       "0        0001_01     Europa     False     B/0/P    TRAPPIST-1e  39.0  False   \n",
       "1        0002_01      Earth     False     F/0/S    TRAPPIST-1e  24.0  False   \n",
       "2        0003_01     Europa     False     A/0/S    TRAPPIST-1e  58.0   True   \n",
       "3        0003_02     Europa     False     A/0/S    TRAPPIST-1e  33.0  False   \n",
       "4        0004_01      Earth     False     F/1/S    TRAPPIST-1e  16.0  False   \n",
       "...          ...        ...       ...       ...            ...   ...    ...   \n",
       "8688     9276_01     Europa     False    A/98/P    55 Cancri e  41.0   True   \n",
       "8689     9278_01      Earth      True  G/1499/S  PSO J318.5-22  18.0  False   \n",
       "8690     9279_01      Earth     False  G/1500/S    TRAPPIST-1e  26.0  False   \n",
       "8691     9280_01     Europa     False   E/608/S    55 Cancri e  32.0  False   \n",
       "8692     9280_02     Europa     False   E/608/S    TRAPPIST-1e  44.0  False   \n",
       "\n",
       "      RoomService  FoodCourt  ShoppingMall     Spa  VRDeck               Name  \\\n",
       "0             0.0        0.0           0.0     0.0     0.0    Maham Ofracculy   \n",
       "1           109.0        9.0          25.0   549.0    44.0       Juanna Vines   \n",
       "2            43.0     3576.0           0.0  6715.0    49.0      Altark Susent   \n",
       "3             0.0     1283.0         371.0  3329.0   193.0       Solam Susent   \n",
       "4           303.0       70.0         151.0   565.0     2.0  Willy Santantines   \n",
       "...           ...        ...           ...     ...     ...                ...   \n",
       "8688          0.0     6819.0           0.0  1643.0    74.0  Gravior Noxnuther   \n",
       "8689          0.0        0.0           0.0     0.0     0.0    Kurta Mondalley   \n",
       "8690          0.0        0.0        1872.0     1.0     0.0       Fayey Connon   \n",
       "8691          0.0     1049.0           0.0   353.0  3235.0   Celeon Hontichre   \n",
       "8692        126.0     4688.0           0.0     0.0    12.0   Propsh Hontichre   \n",
       "\n",
       "      Transported  \n",
       "0           False  \n",
       "1            True  \n",
       "2           False  \n",
       "3           False  \n",
       "4            True  \n",
       "...           ...  \n",
       "8688        False  \n",
       "8689        False  \n",
       "8690         True  \n",
       "8691        False  \n",
       "8692         True  \n",
       "\n",
       "[8693 rows x 14 columns]"
      ]
     },
     "execution_count": 124,
     "metadata": {},
     "output_type": "execute_result"
    }
   ],
   "source": [
    "train"
   ]
  },
  {
   "cell_type": "code",
   "execution_count": null,
   "id": "6ed7aeb1-3387-449c-a8eb-4461f6da7daa",
   "metadata": {},
   "outputs": [],
   "source": []
  },
  {
   "cell_type": "code",
   "execution_count": 121,
   "id": "79b0a9be-5ffb-4790-ae28-975eb4ddf31c",
   "metadata": {
    "tags": []
   },
   "outputs": [],
   "source": [
    "def preprocess(data) :\n",
    "\n",
    "    dic_id = {}\n",
    "    for i in train['PassengerId'] :\n",
    "        dic_id[i] = i[:4]\n",
    "\n",
    "    train['pid'] = train['PassengerId'].map(dic_id) #pid 변수 생성\n",
    "\n",
    "\n",
    "\n",
    "    dest_group =train.groupby(['pid','Destination']).size().reset_index()\n",
    "\n",
    "    dest_group = dest_group.sort_values(0, ascending = False) #정렬 한 후\n",
    "\n",
    "    dest_group = dest_group.drop_duplicates() #가장 위에값만 남기고 중복값들을 지움 / 가장 큰 값만 남음.\n",
    "\n",
    "    dest_dict ={}\n",
    "    for p, d in zip(dest_group['pid'], dest_group['Destination']) :\n",
    "        dest_dict[p] = d\n",
    "\n",
    "    train['Destination'].fillna(train['Destination'].map(dest_dict), inplace=True) #그룹이 같은 사람은 목적지가 같을거란 가정으로 Destination의 null값 1차전처리\n",
    "\n",
    "    train['Destination'].fillna('TRAPPIST-1e', inplace=True) # 나머지는 최빈값인 TRAPPIST-1e로 전처리\n",
    "\n",
    "\n",
    "\n",
    "    train['fee'] =train['RoomService']+train['FoodCourt']+train['ShoppingMall']+train['Spa']+train['VRDeck'] #돈쓰는 항목들 5개의 총합을 내어 fee라는 변수 생성!\n",
    "\n",
    "    train['CryoSleep'] = np.where(train['fee'] >0 , False, True) #냉동된 상태인 사람들은 fee소모가 없을 것이기 때문에 fee가 있으면 false로 아니면 true로 전처리\n",
    "\n",
    "\n",
    "\n",
    "    home_group =train.groupby(['pid','HomePlanet']).size().reset_index()\n",
    "\n",
    "    home_dict = {}\n",
    "    for p, hp in zip(home_group['pid'], home_group['HomePlanet']) :\n",
    "        #print(p, hp)\n",
    "        home_dict[p] = hp\n",
    "\n",
    "    train['HomePlanet'].fillna(train['pid'].map(home_dict), inplace=True) #HomePlanet null 전처리과정 1번\n",
    "\n",
    "    train['lastname'] = train['Name'].str.split(' ').str[-1] #lastname 변수 생성\n",
    "\n",
    "    name_group =train.groupby(['lastname','HomePlanet']).size().reset_index()\n",
    "\n",
    "    name_dict = {}\n",
    "    for g, hp in zip(name_group['lastname'], name_group['HomePlanet']) :\n",
    "        #print(g, hp)\n",
    "        name_dict[g] = hp #HomePlanet null 전처리과정 2번\n",
    "\n",
    "    home_dest= {'TRAPPIST-1e' :'Earth', '55 Cancri e' :'Europa', 'PSO J318.5-22' :'Earth'}\n",
    "\n",
    "    train['HomePlanet'].fillna(train['Destination'].map(home_dest), inplace=True) #HomePlanet 최종전처리\n",
    "\n",
    "\n",
    "\n",
    "    cab=train['Cabin'].str.split('/', expand=True) #cabin항목을 3개 항목으로 나누기\n",
    "    cab.columns= (['deck','num','side'])\n",
    "    train = pd.concat([train,cab], axis=1) #나눈 3항목을 기존 train에 추가 ( deck, num, side )\n",
    "\n",
    "    train['deck'].fillna(train['HomePlanet'].map({'Earth':'G', 'Europa':'B','Mars':'F'}), inplace=True) #deck 항목의 null값 전처리\n",
    "\n",
    "    side_group =train.groupby(['pid','side']).size().reset_index()\n",
    "\n",
    "    side_dict = {}\n",
    "    for p,s in zip(side_group['pid'], side_group['side']) :\n",
    "        #print(g, hp)\n",
    "        side_dict[p] = s\n",
    "\n",
    "    train['side'].fillna(train['pid'].map(side_dict), inplace=True)  #side 항목의 1차 전처리 (id의 그룹넘버로 유추한 같은 그룹인은 같은 side에 있다는 가정)\n",
    "\n",
    "    train['side'].fillna('S', inplace=True) #side 항목의 최종 전처리 (그래도 남는 항목은 S로 처리~~)\n",
    "\n",
    "    train['VIP'].fillna(False, inplace=True) #VIP 항목의 전처리 (최빈값인 False로 다 채움)\n",
    "\n",
    "\n",
    "\n",
    "    fee_list =['RoomService','FoodCourt','ShoppingMall','Spa','VRDeck']\n",
    "\n",
    "    for col in fee_list :\n",
    "        #print(col, train[col].isnull().sum(), train[col].median())\n",
    "        train[col].fillna(0, inplace=True)  #5개 항목의 median이 전부다 0이라 5개항목의 null값들에 전부다 0을 부여\n",
    "\n",
    "    train['fee'] =train['RoomService']+train['FoodCourt']+train['ShoppingMall']+train['Spa']+train['VRDeck'] #돈쓰는 항목들 5개의 총합을 내어 fee라는 변수 생성!\n",
    "\n",
    "\n",
    "\n",
    "    train['Age'].fillna(27, inplace=True) #Age의 median값인 27로 null값 전부다 처리\n",
    "\n",
    "    col_list = ['HomePlanet','Destination','pid','deck','side']\n",
    "    for col in col_list : \n",
    "        label = LabelEncoder()\n",
    "        label.fit(train[col].unique())\n",
    "        train[col] = label.transform(train[col]) \n",
    "\n",
    "\n",
    "\n",
    "    del_col = ['PassengerId' , 'Cabin' , 'Name' , 'lastname', 'num', 'pid']\n",
    "\n",
    "    train = train.drop(del_col, axis=1)\n",
    "    return data"
   ]
  },
  {
   "cell_type": "code",
   "execution_count": 122,
   "id": "568f6e9a-0dbd-42ec-b5a1-97d8ba2fd03a",
   "metadata": {},
   "outputs": [
    {
     "ename": "UnboundLocalError",
     "evalue": "local variable 'train' referenced before assignment",
     "output_type": "error",
     "traceback": [
      "\u001b[1;31m---------------------------------------------------------------------------\u001b[0m",
      "\u001b[1;31mUnboundLocalError\u001b[0m                         Traceback (most recent call last)",
      "Input \u001b[1;32mIn [122]\u001b[0m, in \u001b[0;36m<cell line: 1>\u001b[1;34m()\u001b[0m\n\u001b[1;32m----> 1\u001b[0m \u001b[43mpreprocess\u001b[49m\u001b[43m(\u001b[49m\u001b[43mdf\u001b[49m\u001b[43m)\u001b[49m\n",
      "Input \u001b[1;32mIn [121]\u001b[0m, in \u001b[0;36mpreprocess\u001b[1;34m(data)\u001b[0m\n\u001b[0;32m      1\u001b[0m \u001b[38;5;28;01mdef\u001b[39;00m \u001b[38;5;21mpreprocess\u001b[39m(data) :\n\u001b[0;32m      3\u001b[0m     dic_id \u001b[38;5;241m=\u001b[39m {}\n\u001b[1;32m----> 4\u001b[0m     \u001b[38;5;28;01mfor\u001b[39;00m i \u001b[38;5;129;01min\u001b[39;00m \u001b[43mtrain\u001b[49m[\u001b[38;5;124m'\u001b[39m\u001b[38;5;124mPassengerId\u001b[39m\u001b[38;5;124m'\u001b[39m] :\n\u001b[0;32m      5\u001b[0m         dic_id[i] \u001b[38;5;241m=\u001b[39m i[:\u001b[38;5;241m4\u001b[39m]\n\u001b[0;32m      7\u001b[0m     train[\u001b[38;5;124m'\u001b[39m\u001b[38;5;124mpid\u001b[39m\u001b[38;5;124m'\u001b[39m] \u001b[38;5;241m=\u001b[39m train[\u001b[38;5;124m'\u001b[39m\u001b[38;5;124mPassengerId\u001b[39m\u001b[38;5;124m'\u001b[39m]\u001b[38;5;241m.\u001b[39mmap(dic_id) \u001b[38;5;66;03m#pid 변수 생성\u001b[39;00m\n",
      "\u001b[1;31mUnboundLocalError\u001b[0m: local variable 'train' referenced before assignment"
     ]
    }
   ],
   "source": [
    "preprocess(df)"
   ]
  },
  {
   "cell_type": "code",
   "execution_count": null,
   "id": "cde9c325-3698-4d4a-a836-50b27877b362",
   "metadata": {},
   "outputs": [],
   "source": [
    "pipe = (전처리함수, model) ==>model 을 여러개 dict에 넣어서 검정값을 다 뽑아보고 가장 좋을만한것 ==> GridsearchCV(model의 최적의 parameter를 찾고"
   ]
  }
 ],
 "metadata": {
  "kernelspec": {
   "display_name": "Python 3 (ipykernel)",
   "language": "python",
   "name": "python3"
  },
  "language_info": {
   "codemirror_mode": {
    "name": "ipython",
    "version": 3
   },
   "file_extension": ".py",
   "mimetype": "text/x-python",
   "name": "python",
   "nbconvert_exporter": "python",
   "pygments_lexer": "ipython3",
   "version": "3.9.12"
  }
 },
 "nbformat": 4,
 "nbformat_minor": 5
}
