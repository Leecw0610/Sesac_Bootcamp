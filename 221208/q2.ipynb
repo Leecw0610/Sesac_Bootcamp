{
 "cells": [
  {
   "cell_type": "code",
   "execution_count": 7,
   "metadata": {},
   "outputs": [],
   "source": [
    "answers =[1,2,3,4,5]\n",
    "# return = [1]"
   ]
  },
  {
   "cell_type": "code",
   "execution_count": 5,
   "metadata": {},
   "outputs": [],
   "source": [
    "answers = [1,3,2,4,2]\n",
    "# return = [1,2,3]"
   ]
  },
  {
   "cell_type": "code",
   "execution_count": 9,
   "metadata": {},
   "outputs": [
    {
     "data": {
      "text/plain": [
       "1"
      ]
     },
     "execution_count": 9,
     "metadata": {},
     "output_type": "execute_result"
    }
   ],
   "source": [
    "answers[0]"
   ]
  },
  {
   "cell_type": "code",
   "execution_count": 54,
   "metadata": {},
   "outputs": [],
   "source": [
    "gu1 =[1,2,3,4,5]\n",
    "gu2 =[2,1,2,3,2,4,2,5]\n",
    "gu3 =[3,3,1,1,2,2,4,4,5,5]"
   ]
  },
  {
   "cell_type": "code",
   "execution_count": 55,
   "metadata": {},
   "outputs": [],
   "source": [
    "answer = [1,2,3,4,5,1,2,3,4,5]"
   ]
  },
  {
   "cell_type": "code",
   "execution_count": 56,
   "metadata": {},
   "outputs": [],
   "source": [
    "students = [gu1, gu2, gu3]"
   ]
  },
  {
   "cell_type": "code",
   "execution_count": 57,
   "metadata": {},
   "outputs": [
    {
     "name": "stdout",
     "output_type": "stream",
     "text": [
      "[10, 1, 1]\n"
     ]
    }
   ],
   "source": [
    "def solution(answers):\n",
    "\n",
    "result = []\n",
    "temp=[]\n",
    "\n",
    "for student in students:\n",
    "    score = 0\n",
    "    for i in range(len(answer)):\n",
    "        if( answer[i] == student[i % len(student)]):\n",
    "            score += 1\n",
    "    result.append(score)\n",
    "print(result)\n",
    "\n",
    "\n",
    "for i in range(len(result)) :\n",
    "    if max(result) == result[i] :\n",
    "        temp.append(i+1)\n",
    "        \n",
    "        \n",
    "\n",
    "# result = 답안에 대한 1.2.3번 학생의 답 갯수"
   ]
  },
  {
   "cell_type": "code",
   "execution_count": 63,
   "metadata": {},
   "outputs": [],
   "source": [
    "result =[10,10,10]"
   ]
  },
  {
   "cell_type": "code",
   "execution_count": 64,
   "metadata": {},
   "outputs": [],
   "source": [
    "temp=[]\n",
    "for i in range(len(result)) :\n",
    "    if max(result) == result[i] :\n",
    "        temp.append(i+1)"
   ]
  },
  {
   "cell_type": "code",
   "execution_count": 65,
   "metadata": {},
   "outputs": [
    {
     "data": {
      "text/plain": [
       "[1, 2, 3]"
      ]
     },
     "execution_count": 65,
     "metadata": {},
     "output_type": "execute_result"
    }
   ],
   "source": [
    "temp"
   ]
  },
  {
   "cell_type": "code",
   "execution_count": 61,
   "metadata": {},
   "outputs": [
    {
     "data": {
      "text/plain": [
       "0"
      ]
     },
     "execution_count": 61,
     "metadata": {},
     "output_type": "execute_result"
    }
   ],
   "source": [
    "result.index(max(result))"
   ]
  },
  {
   "cell_type": "code",
   "execution_count": 49,
   "metadata": {},
   "outputs": [],
   "source": [
    "def getReturn(result) :\n",
    "    if result[0] == result[1] :\n",
    "        if result[0] == result[2] :\n",
    "            return [1,2,3]\n",
    "        elif result[0] > result[2] :\n",
    "            return [1,2]\n",
    "        else :\n",
    "            return [3]\n",
    "    elif result[0] > result[1] :\n",
    "        if result[0] == result[2] :\n",
    "            return [1,3]\n",
    "        elif result[0] < result[2] :\n",
    "            return [3]\n",
    "        else :\n",
    "            return [1]\n",
    "    elif result[0] < result[1] :\n",
    "        if result[1] == result[2] :\n",
    "            return [2,3]\n",
    "        elif result[1] > result[2] :\n",
    "            return [2]\n",
    "        else :\n",
    "            return []\n",
    "    \n",
    "    #     return \n",
    "    # elif result[0] > result[1] :\n",
    "    #     if result[0] > result[2] :\n",
    "    #         return [1]\n",
    "    #     else :\n",
    "    #         return [3]\n",
    "    # elif result[0] == result[1] :\n",
    "    #     return [1,2]\n",
    "    # elif result[1] == result[2] :\n",
    "    #     return [2,3]\n",
    "    # elif result[0] == result[2] :\n",
    "    #     return [1,3]\n",
    "    # elif  \n",
    "    # else :\n",
    "    #     if result[1] > result[2] :\n",
    "    #         return [2]"
   ]
  },
  {
   "cell_type": "code",
   "execution_count": 50,
   "metadata": {},
   "outputs": [
    {
     "data": {
      "text/plain": [
       "[1]"
      ]
     },
     "execution_count": 50,
     "metadata": {},
     "output_type": "execute_result"
    }
   ],
   "source": [
    "getReturn(result)"
   ]
  },
  {
   "cell_type": "code",
   "execution_count": 51,
   "metadata": {},
   "outputs": [],
   "source": [
    "result=[5,5,5]"
   ]
  },
  {
   "cell_type": "code",
   "execution_count": 52,
   "metadata": {},
   "outputs": [],
   "source": [
    "getReturn(result)"
   ]
  },
  {
   "cell_type": "code",
   "execution_count": null,
   "metadata": {},
   "outputs": [],
   "source": [
    "getReturn(result)"
   ]
  },
  {
   "cell_type": "code",
   "execution_count": null,
   "metadata": {},
   "outputs": [],
   "source": [
    "getReturn(result)"
   ]
  },
  {
   "cell_type": "code",
   "execution_count": null,
   "metadata": {},
   "outputs": [],
   "source": [
    "getReturn(result)"
   ]
  },
  {
   "cell_type": "code",
   "execution_count": null,
   "metadata": {},
   "outputs": [],
   "source": []
  },
  {
   "cell_type": "code",
   "execution_count": null,
   "metadata": {},
   "outputs": [],
   "source": []
  },
  {
   "cell_type": "code",
   "execution_count": 27,
   "metadata": {},
   "outputs": [
    {
     "ename": "IndexError",
     "evalue": "list assignment index out of range",
     "output_type": "error",
     "traceback": [
      "\u001b[0;31m---------------------------------------------------------------------------\u001b[0m",
      "\u001b[0;31mIndexError\u001b[0m                                Traceback (most recent call last)",
      "Cell \u001b[0;32mIn[27], line 17\u001b[0m\n\u001b[1;32m     15\u001b[0m gu1[\u001b[39m14\u001b[39m] \u001b[39m=\u001b[39m \u001b[39m5\u001b[39m\n\u001b[1;32m     16\u001b[0m gu1[\u001b[39m15\u001b[39m] \u001b[39m=\u001b[39m \u001b[39m1\u001b[39m\n\u001b[0;32m---> 17\u001b[0m gu1[\u001b[39m16\u001b[39;49m] \u001b[39m=\u001b[39m \u001b[39m2\u001b[39m\n\u001b[1;32m     18\u001b[0m gu1[\u001b[39m17\u001b[39m] \u001b[39m=\u001b[39m \u001b[39m3\u001b[39m\n\u001b[1;32m     20\u001b[0m \u001b[39m# gu1[(len(answers) % 5) + 1] # 1번 수포자의 시험문제 번호별 답안\u001b[39;00m\n",
      "\u001b[0;31mIndexError\u001b[0m: list assignment index out of range"
     ]
    }
   ],
   "source": [
    "gu1[0] = 1\n",
    "gu1[1] = 2\n",
    "gu1[2] = 3\n",
    "gu1[3] = 4\n",
    "gu1[4] = 5\n",
    "gu1[5] = 1\n",
    "gu1[6] = 2\n",
    "gu1[7] = 3\n",
    "gu1[8] = 4\n",
    "gu1[9] = 5\n",
    "gu1[10] = 1\n",
    "gu1[11] = 2\n",
    "gu1[12] = 3\n",
    "gu1[13] = 4\n",
    "gu1[14] = 5\n",
    "gu1[15] = 1\n",
    "gu1[16] = 2\n",
    "gu1[17] = 3\n",
    "\n",
    "# gu1[(i % 5) + 1] # 1번 수포자의 시험문제 번호별 답안"
   ]
  },
  {
   "cell_type": "code",
   "execution_count": 31,
   "metadata": {},
   "outputs": [],
   "source": [
    "answers =[1,2,3,4,5]"
   ]
  },
  {
   "cell_type": "code",
   "execution_count": 32,
   "metadata": {},
   "outputs": [],
   "source": [
    "cor1_count = 0\n",
    "for i in range(len(answers)):\n",
    "    #print(i)\n",
    "    if gu1[(i % 5) + 1] == answers[i] :\n",
    "        cor1_count += 1"
   ]
  },
  {
   "cell_type": "code",
   "execution_count": 33,
   "metadata": {},
   "outputs": [
    {
     "data": {
      "text/plain": [
       "0"
      ]
     },
     "execution_count": 33,
     "metadata": {},
     "output_type": "execute_result"
    }
   ],
   "source": [
    "cor1_count"
   ]
  },
  {
   "cell_type": "code",
   "execution_count": 34,
   "metadata": {},
   "outputs": [
    {
     "data": {
      "text/plain": [
       "5"
      ]
     },
     "execution_count": 34,
     "metadata": {},
     "output_type": "execute_result"
    }
   ],
   "source": [
    "len(answers)"
   ]
  },
  {
   "cell_type": "code",
   "execution_count": 35,
   "metadata": {},
   "outputs": [
    {
     "data": {
      "text/plain": [
       "0"
      ]
     },
     "execution_count": 35,
     "metadata": {},
     "output_type": "execute_result"
    }
   ],
   "source": [
    "5 %5"
   ]
  },
  {
   "cell_type": "code",
   "execution_count": null,
   "metadata": {},
   "outputs": [],
   "source": []
  }
 ],
 "metadata": {
  "kernelspec": {
   "display_name": "Python 3.9.6 64-bit",
   "language": "python",
   "name": "python3"
  },
  "language_info": {
   "codemirror_mode": {
    "name": "ipython",
    "version": 3
   },
   "file_extension": ".py",
   "mimetype": "text/x-python",
   "name": "python",
   "nbconvert_exporter": "python",
   "pygments_lexer": "ipython3",
   "version": "3.9.6 (default, Sep 26 2022, 11:37:49) \n[Clang 14.0.0 (clang-1400.0.29.202)]"
  },
  "orig_nbformat": 4,
  "vscode": {
   "interpreter": {
    "hash": "31f2aee4e71d21fbe5cf8b01ff0e069b9275f58929596ceb00d14d90e3e16cd6"
   }
  }
 },
 "nbformat": 4,
 "nbformat_minor": 2
}
