{
 "cells": [
  {
   "cell_type": "code",
   "execution_count": 115,
   "metadata": {},
   "outputs": [],
   "source": [
    "board = [[0,0,0,0,0],[0,0,1,0,3],[0,2,5,0,1],[4,2,4,4,2],[3,5,1,3,1]]"
   ]
  },
  {
   "cell_type": "code",
   "execution_count": 116,
   "metadata": {},
   "outputs": [],
   "source": [
    "moves = [1,5,3,5,1,2,1,4]"
   ]
  },
  {
   "cell_type": "code",
   "execution_count": 117,
   "metadata": {},
   "outputs": [
    {
     "data": {
      "text/plain": [
       "3"
      ]
     },
     "execution_count": 117,
     "metadata": {},
     "output_type": "execute_result"
    }
   ],
   "source": [
    "moves.count(1)"
   ]
  },
  {
   "cell_type": "code",
   "execution_count": 118,
   "metadata": {},
   "outputs": [],
   "source": [
    "def getItem(board, moves):\n",
    "    doll=[]\n",
    "    for num in moves :\n",
    "        \n",
    "        for i in range(len(board)):\n",
    "            \n",
    "            #print(target)\n",
    "            if (board[i][(num-1)] != 0) :\n",
    "                doll.append(board[i][(num-1)])\n",
    "                board[i][(num-1)] = 0\n",
    "                break\n",
    "    return doll\n",
    "\n"
   ]
  },
  {
   "cell_type": "code",
   "execution_count": 119,
   "metadata": {},
   "outputs": [
    {
     "data": {
      "text/plain": [
       "[4, 3, 1, 1, 3, 2, 4]"
      ]
     },
     "execution_count": 119,
     "metadata": {},
     "output_type": "execute_result"
    }
   ],
   "source": [
    "doll"
   ]
  },
  {
   "cell_type": "code",
   "execution_count": 120,
   "metadata": {},
   "outputs": [
    {
     "data": {
      "text/plain": [
       "[[0, 0, 0, 0, 0],\n",
       " [0, 0, 1, 0, 3],\n",
       " [0, 2, 5, 0, 1],\n",
       " [4, 2, 4, 4, 2],\n",
       " [3, 5, 1, 3, 1]]"
      ]
     },
     "execution_count": 120,
     "metadata": {},
     "output_type": "execute_result"
    }
   ],
   "source": [
    "board"
   ]
  },
  {
   "cell_type": "code",
   "execution_count": 121,
   "metadata": {},
   "outputs": [
    {
     "data": {
      "text/plain": [
       "[4, 3, 1, 1, 3, 2, 3, 4]"
      ]
     },
     "execution_count": 121,
     "metadata": {},
     "output_type": "execute_result"
    }
   ],
   "source": [
    "[4, 3, 1, 1, 3, 2 , 3, 4]"
   ]
  },
  {
   "cell_type": "code",
   "execution_count": 122,
   "metadata": {},
   "outputs": [
    {
     "data": {
      "text/plain": [
       "True"
      ]
     },
     "execution_count": 122,
     "metadata": {},
     "output_type": "execute_result"
    }
   ],
   "source": [
    "bool('aa')"
   ]
  },
  {
   "cell_type": "code",
   "execution_count": 123,
   "metadata": {},
   "outputs": [],
   "source": [
    "if(bool('') & True):\n",
    "    print(\"A\")"
   ]
  },
  {
   "cell_type": "code",
   "execution_count": 124,
   "metadata": {},
   "outputs": [],
   "source": [
    "b = [[0,0,0,0,0],[0,0,1,0,3],[0,2,5,0,1],[4,2,4,4,2],[3,5,1,3,1]]\n",
    "m = [1,5,3,5,1,2,1,4]"
   ]
  },
  {
   "cell_type": "code",
   "execution_count": 125,
   "metadata": {},
   "outputs": [],
   "source": [
    "basket=getItem(b, m) #doll"
   ]
  },
  {
   "cell_type": "code",
   "execution_count": 126,
   "metadata": {},
   "outputs": [
    {
     "data": {
      "text/plain": [
       "[4, 3, 1, 1, 3, 2, 4]"
      ]
     },
     "execution_count": 126,
     "metadata": {},
     "output_type": "execute_result"
    }
   ],
   "source": [
    "basket"
   ]
  },
  {
   "cell_type": "code",
   "execution_count": 128,
   "metadata": {},
   "outputs": [
    {
     "data": {
      "text/plain": [
       "4"
      ]
     },
     "execution_count": 128,
     "metadata": {},
     "output_type": "execute_result"
    }
   ],
   "source": [
    "basket[0]"
   ]
  },
  {
   "cell_type": "code",
   "execution_count": 150,
   "metadata": {},
   "outputs": [],
   "source": [
    "popping = 0\n",
    "\n",
    "for n in range(len(basket)) :\n",
    "    if   n == 0 :\n",
    "        if basket[n] == basket[n+1] :\n",
    "            popping += 2\n",
    "    elif (n != 0) & (n != (len(basket)-1)):\n",
    "        if (basket[n] == basket[n+1]) or (basket[n] == basket[n-1]) :\n",
    "            popping += 2\n",
    "    elif n == (len(basket)-1) :\n",
    "        if basket[n] == basket[n-1] :\n",
    "            popping += 2\n",
    "    else :\n",
    "        pass\n"
   ]
  },
  {
   "cell_type": "code",
   "execution_count": 129,
   "metadata": {},
   "outputs": [
    {
     "data": {
      "text/plain": [
       "4"
      ]
     },
     "execution_count": 129,
     "metadata": {},
     "output_type": "execute_result"
    }
   ],
   "source": [
    "basket[0]"
   ]
  },
  {
   "cell_type": "code",
   "execution_count": 151,
   "metadata": {},
   "outputs": [
    {
     "data": {
      "text/plain": [
       "4"
      ]
     },
     "execution_count": 151,
     "metadata": {},
     "output_type": "execute_result"
    }
   ],
   "source": [
    "popping"
   ]
  },
  {
   "cell_type": "code",
   "execution_count": 141,
   "metadata": {},
   "outputs": [
    {
     "data": {
      "text/plain": [
       "[4, 3, 1, 1, 3, 2, 4]"
      ]
     },
     "execution_count": 141,
     "metadata": {},
     "output_type": "execute_result"
    }
   ],
   "source": [
    "basket"
   ]
  },
  {
   "cell_type": "code",
   "execution_count": 139,
   "metadata": {},
   "outputs": [
    {
     "data": {
      "text/plain": [
       "4"
      ]
     },
     "execution_count": 139,
     "metadata": {},
     "output_type": "execute_result"
    }
   ],
   "source": [
    "basket[0]"
   ]
  },
  {
   "cell_type": "code",
   "execution_count": 140,
   "metadata": {},
   "outputs": [
    {
     "data": {
      "text/plain": [
       "3"
      ]
     },
     "execution_count": 140,
     "metadata": {},
     "output_type": "execute_result"
    }
   ],
   "source": [
    "\n",
    "basket[1]"
   ]
  },
  {
   "cell_type": "code",
   "execution_count": 144,
   "metadata": {},
   "outputs": [
    {
     "data": {
      "text/plain": [
       "7"
      ]
     },
     "execution_count": 144,
     "metadata": {},
     "output_type": "execute_result"
    }
   ],
   "source": [
    "len(basket)"
   ]
  },
  {
   "cell_type": "code",
   "execution_count": 149,
   "metadata": {},
   "outputs": [],
   "source": [
    "popping = 0\n",
    "\n",
    "for n in range(len(basket)) :\n",
    "    #print(n)\n",
    "    if   n == 0 :\n",
    "        if basket[n] == basket[n+1] :\n",
    "            popping += 2\n",
    "            #print(n)\n",
    "    elif (n != 0) & (n != (len(basket)-1)):\n",
    "        if (basket[n] == basket[n+1]) or (basket[n] == basket[n-1]) :\n",
    "            popping += 2\n",
    "    elif n == (len(basket)-1) :\n",
    "        if basket[n] == basket[n-1] :\n",
    "            popping += 2\n",
    "    else :\n",
    "        pass"
   ]
  },
  {
   "cell_type": "code",
   "execution_count": 156,
   "metadata": {},
   "outputs": [],
   "source": [
    "def solution(board, moves) :\n",
    "    doll = getDollarray(board, moves)\n",
    "    result = getPop(doll)\n",
    "    return result\n",
    "\n",
    "def getDollarray(board, moves): # 인형 배열을 doll 리스트로 반환\n",
    "    doll=[]\n",
    "    for num in moves :\n",
    "        \n",
    "        for i in range(len(board)):\n",
    "            \n",
    "            #print(target)\n",
    "            if (board[i][(num-1)] != 0) :\n",
    "                doll.append(board[i][(num-1)])\n",
    "                board[i][(num-1)] = 0\n",
    "                break\n",
    "    return doll\n",
    "\n",
    "def getPop(doll): # 인형 배열(doll)에서 popping횟수를 반환하는 함수\n",
    "\n",
    "    popping = 0\n",
    "\n",
    "    for n in range(len(doll)) :\n",
    "        if   n == 0 :\n",
    "            if doll[n] == doll[n+1] :\n",
    "                popping += 2\n",
    "                del doll[n]\n",
    "                del doll[n+1] \n",
    "        elif (n != 0) & (n != (len(doll)-1)):\n",
    "            if (doll[n] == doll[n+1]) or (doll[n] == doll[n-1]) :\n",
    "                popping += 2\n",
    "                del doll[n]\n",
    "                del doll[n+1]\n",
    "        elif n == (len(doll)-1) :\n",
    "            if doll[n] == doll[n-1] :\n",
    "                popping += 2\n",
    "                del doll[n]\n",
    "                del doll[n+1]\n",
    "        else :\n",
    "            pass\n",
    "    return popping"
   ]
  },
  {
   "cell_type": "code",
   "execution_count": 71,
   "metadata": {},
   "outputs": [],
   "source": [
    "def getPop(doll):\n",
    "\n",
    "    popping = 0\n",
    "    i=0\n",
    "    while True:\n",
    "        #print('i : ',i)\n",
    "        \n",
    "        length = len(doll)\n",
    "        #print('length : ',length)\n",
    "        if i+1 == length:\n",
    "            break\n",
    "        #print('doll[',i,'] : ', doll[i])    \n",
    "        #print('doll[',i+1,'] : ', doll[i+1])\n",
    "        if doll[i] == doll[i+1]:\n",
    "            popping+=2\n",
    "            del doll[i]\n",
    "            del doll[i]\n",
    "            i=0\n",
    "        else:\n",
    "            i+=1\n",
    "    return popping\n",
    "        \n",
    "#     print('doll리스트 : ', doll)\n",
    "#     print('popping점수 : ', popping,'\\n')\n",
    "# print('최종점수 : ',popping)"
   ]
  },
  {
   "cell_type": "code",
   "execution_count": 72,
   "metadata": {},
   "outputs": [
    {
     "data": {
      "text/plain": [
       "0"
      ]
     },
     "execution_count": 72,
     "metadata": {},
     "output_type": "execute_result"
    }
   ],
   "source": [
    "getPop(doll)"
   ]
  },
  {
   "cell_type": "code",
   "execution_count": 73,
   "metadata": {},
   "outputs": [
    {
     "data": {
      "text/plain": [
       "[4, 3, 1, 1, 3, 2, 4]"
      ]
     },
     "execution_count": 73,
     "metadata": {},
     "output_type": "execute_result"
    }
   ],
   "source": [
    "getDollarray([[0,0,0,0,0],[0,0,1,0,3],[0,2,5,0,1],[4,2,4,4,2],[3,5,1,3,1]],[1,5,3,5,1,2,1,4])"
   ]
  },
  {
   "cell_type": "code",
   "execution_count": 158,
   "metadata": {},
   "outputs": [
    {
     "data": {
      "text/plain": [
       "4"
      ]
     },
     "execution_count": 158,
     "metadata": {},
     "output_type": "execute_result"
    }
   ],
   "source": [
    "getCountpop(doll)"
   ]
  },
  {
   "cell_type": "code",
   "execution_count": 159,
   "metadata": {},
   "outputs": [
    {
     "data": {
      "text/plain": [
       "4"
      ]
     },
     "execution_count": 159,
     "metadata": {},
     "output_type": "execute_result"
    }
   ],
   "source": [
    "solution([[0,0,0,0,0],[0,0,1,0,3],[0,2,5,0,1],[4,2,4,4,2],[3,5,1,3,1]],[1,5,3,5,1,2,1,4])"
   ]
  },
  {
   "cell_type": "code",
   "execution_count": 174,
   "metadata": {},
   "outputs": [],
   "source": [
    "basket = [4, 3, 1, 1, 3, 2, 4]"
   ]
  },
  {
   "cell_type": "code",
   "execution_count": 175,
   "metadata": {},
   "outputs": [],
   "source": [
    "del basket[4],basket[5]"
   ]
  },
  {
   "cell_type": "code",
   "execution_count": 176,
   "metadata": {},
   "outputs": [
    {
     "data": {
      "text/plain": [
       "[4, 3, 1, 1, 2]"
      ]
     },
     "execution_count": 176,
     "metadata": {},
     "output_type": "execute_result"
    }
   ],
   "source": [
    "basket"
   ]
  },
  {
   "cell_type": "code",
   "execution_count": 163,
   "metadata": {},
   "outputs": [
    {
     "data": {
      "text/plain": [
       "[4, 3, 1, 1, 2, 4]"
      ]
     },
     "execution_count": 163,
     "metadata": {},
     "output_type": "execute_result"
    }
   ],
   "source": [
    "basket"
   ]
  },
  {
   "cell_type": "code",
   "execution_count": null,
   "metadata": {},
   "outputs": [],
   "source": [
    "del basket[i]"
   ]
  },
  {
   "cell_type": "code",
   "execution_count": 166,
   "metadata": {},
   "outputs": [],
   "source": [
    "temp = True\n",
    "a = [1,1,1,4]"
   ]
  },
  {
   "cell_type": "code",
   "execution_count": 173,
   "metadata": {},
   "outputs": [
    {
     "name": "stdout",
     "output_type": "stream",
     "text": [
      "0\n",
      "1\n",
      "2\n",
      "3\n",
      "4\n",
      "5\n",
      "6\n",
      "7\n",
      "8\n",
      "9\n"
     ]
    }
   ],
   "source": [
    "treeHit = 0\n",
    "while treeHit < 10:\n",
    "    print(treeHit)\n",
    "    treeHit += 1"
   ]
  },
  {
   "cell_type": "code",
   "execution_count": 164,
   "metadata": {},
   "outputs": [],
   "source": [
    "basket = [4, 3, 1, 1, 3, 2, 4]"
   ]
  },
  {
   "cell_type": "code",
   "execution_count": null,
   "metadata": {},
   "outputs": [],
   "source": [
    "if basket \n",
    "\n",
    "# basket[2] == basket [3]\n",
    "# popping += 2\n",
    "# basket = del basket[2]\n",
    "# basket = del basket[3]\n",
    "\n"
   ]
  },
  {
   "cell_type": "code",
   "execution_count": null,
   "metadata": {},
   "outputs": [],
   "source": [
    "while :\n",
    "    if doll[i] == doll[i+1]:\n",
    "        del doll[i], doll[i+1]\n",
    "        popping += 2\n",
    "        "
   ]
  },
  {
   "cell_type": "code",
   "execution_count": 5,
   "metadata": {},
   "outputs": [
    {
     "name": "stdout",
     "output_type": "stream",
     "text": [
      "1\n",
      "---- 4\n",
      "5\n",
      "---- 3\n",
      "3\n",
      "---- 1\n",
      "5\n",
      "---- 1\n",
      "1\n",
      "---- 3\n",
      "2\n",
      "---- 2\n",
      "1\n",
      "4\n",
      "---- 4\n",
      "4\n"
     ]
    }
   ],
   "source": [
    "doll_list =[[0,0,0,0,0],[0,0,1,0,3],[0,2,5,0,1],[4,2,4,4,2],[3,5,1,3,1]]\n",
    "moves = [1,5,3,5,1,2,1,4]\n",
    "crain_list = []\n",
    "boom=0\n",
    "for move in moves:\n",
    "    print(move)\n",
    "    for i in range(len(doll_list)):\n",
    "        if doll_list[i][move-1] > 0:\n",
    "            print('----',(doll_list[i][move-1]))\n",
    "            crain_list.append(doll_list[i][move-1])\n",
    "            doll_list[i][move-1] = 0\n",
    "            if crain_list[-1:] == crain_list[-2:-1]:\n",
    "                boom += 2\n",
    "                crain_list = crain_list[:-2]\n",
    "            break\n",
    "print(boom)"
   ]
  },
  {
   "cell_type": "code",
   "execution_count": 6,
   "metadata": {},
   "outputs": [
    {
     "data": {
      "text/plain": [
       "[4, 2, 4]"
      ]
     },
     "execution_count": 6,
     "metadata": {},
     "output_type": "execute_result"
    }
   ],
   "source": [
    "crain_list"
   ]
  },
  {
   "cell_type": "code",
   "execution_count": 7,
   "metadata": {},
   "outputs": [
    {
     "data": {
      "text/plain": [
       "4"
      ]
     },
     "execution_count": 7,
     "metadata": {},
     "output_type": "execute_result"
    }
   ],
   "source": [
    "boom"
   ]
  },
  {
   "attachments": {},
   "cell_type": "markdown",
   "metadata": {},
   "source": [
    "--------------"
   ]
  },
  {
   "cell_type": "code",
   "execution_count": 47,
   "metadata": {},
   "outputs": [],
   "source": [
    "board = [[0,0,0,0,0],[0,0,1,0,3],[0,2,5,0,1],[4,2,4,4,2],[3,5,1,3,1]]"
   ]
  },
  {
   "cell_type": "code",
   "execution_count": 48,
   "metadata": {},
   "outputs": [],
   "source": [
    "moves = [1,5,3,5,1,2,1,4]"
   ]
  },
  {
   "cell_type": "code",
   "execution_count": 49,
   "metadata": {},
   "outputs": [],
   "source": [
    "def solution(board, moves) :\n",
    "    doll = getDollarray(board, moves)\n",
    "    result = getPop(doll)\n",
    "    return result\n",
    "\n",
    "def getDollarray(board, moves): # 인형 배열을 doll 리스트로 반환\n",
    "    doll=[]\n",
    "    popping = 0\n",
    "    for num in moves :\n",
    "        \n",
    "        for i in range(len(board)):\n",
    "            \n",
    "            #print(target)\n",
    "            if (board[i][(num-1)] != 0) :\n",
    "                doll.append(board[i][(num-1)])\n",
    "                board[i][(num-1)] = 0\n",
    "                break\n",
    "    return doll\n",
    "    \n",
    "    # for i in range(len(doll_list)):\n",
    "    #     if doll_list[i][move-1] > 0:\n",
    "    #         print('----',(doll_list[i][move-1]))\n",
    "    #         crain_list.append(doll_list[i][move-1])\n",
    "    #         doll_list[i][move-1] = 0\n",
    "    #         if crain_list[-1:] == crain_list[-2:-1]:\n",
    "    #             boom += 2\n",
    "    #             crain_list = crain_list[:-2]\n",
    "    #         break\n",
    "            \n",
    "def getPop(doll) :\n",
    "    popping = 0\n",
    "    for n in range(len(doll)) :\n",
    "        if doll[-1:] == doll[-2:-1]:\n",
    "            popping += 2\n",
    "            doll = doll[:-2]\n",
    "            break\n",
    "    return popping\n",
    "            \n",
    "            \n",
    "            \n",
    "            \n",
    "    # for n in range(len(doll)) :\n",
    "    #     if   n == 0 :\n",
    "    #         if doll[n] == doll[n+1] :\n",
    "    #             popping += 2\n",
    "    #             del doll[n]\n",
    "    #             del doll[n+1] \n",
    "    #     elif (n != 0) & (n != (len(doll)-1)):\n",
    "    #         if (doll[n] == doll[n+1]) or (doll[n] == doll[n-1]) :\n",
    "    #             popping += 2\n",
    "    #             del doll[n]\n",
    "    #             del doll[n+1]\n",
    "    #     elif n == (len(doll)-1) :\n",
    "    #         if doll[n] == doll[n-1] :\n",
    "    #             popping += 2\n",
    "    #             del doll[n]\n",
    "    #             del doll[n+1]\n",
    "    #     else :\n",
    "    #         pass\n",
    "    # return popping"
   ]
  },
  {
   "cell_type": "code",
   "execution_count": 50,
   "metadata": {},
   "outputs": [
    {
     "data": {
      "text/plain": [
       "[4, 3, 1, 1, 3, 2, 4]"
      ]
     },
     "execution_count": 50,
     "metadata": {},
     "output_type": "execute_result"
    }
   ],
   "source": [
    "getDollarray(board, moves)"
   ]
  },
  {
   "cell_type": "code",
   "execution_count": 51,
   "metadata": {},
   "outputs": [
    {
     "ename": "NameError",
     "evalue": "name 'doll' is not defined",
     "output_type": "error",
     "traceback": [
      "\u001b[0;31m---------------------------------------------------------------------------\u001b[0m",
      "\u001b[0;31mNameError\u001b[0m                                 Traceback (most recent call last)",
      "Cell \u001b[0;32mIn[51], line 1\u001b[0m\n\u001b[0;32m----> 1\u001b[0m getPop(doll)\n",
      "\u001b[0;31mNameError\u001b[0m: name 'doll' is not defined"
     ]
    }
   ],
   "source": [
    "getPop(doll)"
   ]
  },
  {
   "cell_type": "code",
   "execution_count": 76,
   "metadata": {},
   "outputs": [],
   "source": [
    "def solution(board, moves) :\n",
    "    doll = getDollarray(board, moves)\n",
    "    result = getPop(doll)\n",
    "    return result"
   ]
  },
  {
   "cell_type": "code",
   "execution_count": 74,
   "metadata": {},
   "outputs": [],
   "source": [
    "def getDollarray(board, moves): # 인형 배열을 doll 리스트로 반환\n",
    "    doll=[]\n",
    "    \n",
    "    for num in moves :\n",
    "        \n",
    "        for i in range(len(board)):\n",
    "            \n",
    "            #print(target)\n",
    "            if (board[i][(num-1)] != 0) :\n",
    "                doll.append(board[i][(num-1)])\n",
    "                board[i][(num-1)] = 0\n",
    "                break\n",
    "    return doll\n"
   ]
  },
  {
   "cell_type": "code",
   "execution_count": 75,
   "metadata": {},
   "outputs": [],
   "source": [
    "def getPop(doll):\n",
    "    \n",
    "    popping = 0\n",
    "    i=0\n",
    "    while True:\n",
    "        #print('i : ',i)\n",
    "        \n",
    "        length = len(doll)\n",
    "        #print('length : ',length)\n",
    "        if i+1 == length:\n",
    "            break\n",
    "        #print('doll[',i,'] : ', doll[i])    \n",
    "        #print('doll[',i+1,'] : ', doll[i+1])\n",
    "        if doll[i] == doll[i+1]:\n",
    "            popping+=2\n",
    "            del doll[i]\n",
    "            del doll[i]\n",
    "            i=0\n",
    "        else:\n",
    "            i+=1\n",
    "    return popping\n",
    "        \n",
    "#     print('doll리스트 : ', doll)\n",
    "#     print('popping점수 : ', popping,'\\n')\n",
    "# print('최종점수 : ',popping)"
   ]
  },
  {
   "cell_type": "code",
   "execution_count": 79,
   "metadata": {},
   "outputs": [],
   "source": [
    "doll=getDollarray([[0,0,0,0,0],[0,0,1,0,3],[0,2,5,0,1],[4,2,4,4,2],[3,5,1,3,1]],[1,5,3,5,1,2,1,4])"
   ]
  },
  {
   "cell_type": "code",
   "execution_count": 80,
   "metadata": {},
   "outputs": [
    {
     "data": {
      "text/plain": [
       "4"
      ]
     },
     "execution_count": 80,
     "metadata": {},
     "output_type": "execute_result"
    }
   ],
   "source": [
    "getPop(doll)"
   ]
  },
  {
   "cell_type": "code",
   "execution_count": 81,
   "metadata": {},
   "outputs": [
    {
     "data": {
      "text/plain": [
       "4"
      ]
     },
     "execution_count": 81,
     "metadata": {},
     "output_type": "execute_result"
    }
   ],
   "source": [
    "solution([[0,0,0,0,0],[0,0,1,0,3],[0,2,5,0,1],[4,2,4,4,2],[3,5,1,3,1]],[1,5,3,5,1,2,1,4])"
   ]
  },
  {
   "cell_type": "code",
   "execution_count": null,
   "metadata": {},
   "outputs": [],
   "source": []
  }
 ],
 "metadata": {
  "kernelspec": {
   "display_name": "Python 3.9.6 64-bit",
   "language": "python",
   "name": "python3"
  },
  "language_info": {
   "codemirror_mode": {
    "name": "ipython",
    "version": 3
   },
   "file_extension": ".py",
   "mimetype": "text/x-python",
   "name": "python",
   "nbconvert_exporter": "python",
   "pygments_lexer": "ipython3",
   "version": "3.9.6 (default, Sep 26 2022, 11:37:49) \n[Clang 14.0.0 (clang-1400.0.29.202)]"
  },
  "orig_nbformat": 4,
  "vscode": {
   "interpreter": {
    "hash": "31f2aee4e71d21fbe5cf8b01ff0e069b9275f58929596ceb00d14d90e3e16cd6"
   }
  }
 },
 "nbformat": 4,
 "nbformat_minor": 2
}
