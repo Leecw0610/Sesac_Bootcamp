{
 "cells": [
  {
   "cell_type": "raw",
   "id": "0721579f-f619-46db-9015-2210fbac7df4",
   "metadata": {},
   "source": [
    "기존데이터를 새로 배운 방법으로 새로 만들어보기!! <<이게 복습의 목표가 되어야함"
   ]
  },
  {
   "cell_type": "markdown",
   "id": "ed907f82-cdb8-4551-9536-05018709e51a",
   "metadata": {},
   "source": [
    "# 3. Evaluation"
   ]
  },
  {
   "cell_type": "code",
   "execution_count": 185,
   "id": "d855c0f5-ffbe-4918-a9db-4d1caec9be83",
   "metadata": {},
   "outputs": [],
   "source": [
    "import pandas as pd\n",
    "from sklearn import datasets\n",
    "from sklearn.model_selection import train_test_split\n",
    "from sklearn.neighbors import KNeighborsRegressor\n",
    "from sklearn.model_selection import cross_val_score\n",
    "from sklearn.neighbors import KNeighborsClassifier\n",
    "from sklearn.model_selection import KFold\n",
    "import numpy as np\n",
    "from sklearn.model_selection import StratifiedKFold\n",
    "from sklearn.linear_model import LinearRegression\n",
    "from sklearn.metrics import mean_squared_error\n",
    "import seaborn as sns\n",
    "from sklearn.preprocessing import MinMaxScaler\n",
    "from sklearn.model_selection import ShuffleSplit\n",
    "from sklearn.preprocessing import PolynomialFeatures\n",
    "from sklearn.linear_model import LinearRegression\n",
    "from sklearn.pipeline import make_pipeline\n",
    "import matplotlib.pyplot as plt\n",
    "from sklearn.model_selection import validation_curve\n",
    "from sklearn.model_selection import learning_curve"
   ]
  },
  {
   "cell_type": "code",
   "execution_count": 3,
   "id": "046debe5-3bcf-4fbf-a23b-6a3ed8308cf5",
   "metadata": {},
   "outputs": [],
   "source": [
    "diabets = datasets.load_diabetes()"
   ]
  },
  {
   "cell_type": "code",
   "execution_count": 13,
   "id": "ad053714-1bcb-484a-84f3-d9b9651c1a01",
   "metadata": {},
   "outputs": [],
   "source": [
    "x_train, x_test, y_train, y_test = train_test_split(diabets.data, diabets.target, test_size=0.25, random_state=42)\n",
    "# 나눌필요없음 데이터전체로 하는게 더 정확"
   ]
  },
  {
   "cell_type": "code",
   "execution_count": 9,
   "id": "ae900920-0fba-4ab5-a1cd-83998ad78c65",
   "metadata": {},
   "outputs": [],
   "source": [
    "X = diabets.data\n",
    "Y = diabets.target"
   ]
  },
  {
   "cell_type": "code",
   "execution_count": 10,
   "id": "16794a9f-82f1-4318-89d0-bef0dd548e0f",
   "metadata": {},
   "outputs": [],
   "source": [
    "model = KNeighborsRegressor(n_neighbors=10)"
   ]
  },
  {
   "cell_type": "code",
   "execution_count": 16,
   "id": "54638429-664a-442b-805e-d7da432e6ead",
   "metadata": {},
   "outputs": [
    {
     "data": {
      "text/plain": [
       "(442, 10)"
      ]
     },
     "execution_count": 16,
     "metadata": {},
     "output_type": "execute_result"
    }
   ],
   "source": [
    "X.shape"
   ]
  },
  {
   "cell_type": "code",
   "execution_count": 193,
   "id": "4548e209-9603-4565-beb3-7d3ddbeea63e",
   "metadata": {
    "collapsed": true,
    "jupyter": {
     "outputs_hidden": true
    },
    "tags": []
   },
   "outputs": [
    {
     "ename": "ValueError",
     "evalue": "Found input variables with inconsistent numbers of samples: [40, 6]",
     "output_type": "error",
     "traceback": [
      "\u001b[1;31m---------------------------------------------------------------------------\u001b[0m",
      "\u001b[1;31mValueError\u001b[0m                                Traceback (most recent call last)",
      "Input \u001b[1;32mIn [193]\u001b[0m, in \u001b[0;36m<cell line: 1>\u001b[1;34m()\u001b[0m\n\u001b[1;32m----> 1\u001b[0m \u001b[43mcross_val_score\u001b[49m\u001b[43m(\u001b[49m\u001b[43mmodel\u001b[49m\u001b[43m,\u001b[49m\u001b[43m \u001b[49m\u001b[43mX\u001b[49m\u001b[43m,\u001b[49m\u001b[43m \u001b[49m\u001b[43mY\u001b[49m\u001b[43m,\u001b[49m\u001b[43m \u001b[49m\u001b[43mcv\u001b[49m\u001b[38;5;241;43m=\u001b[39;49m\u001b[38;5;241;43m10\u001b[39;49m\u001b[43m,\u001b[49m\u001b[43m \u001b[49m\u001b[43mscoring\u001b[49m\u001b[38;5;241;43m=\u001b[39;49m\u001b[38;5;124;43m\"\u001b[39;49m\u001b[38;5;124;43mneg_mean_squared_error\u001b[39;49m\u001b[38;5;124;43m\"\u001b[39;49m\u001b[43m)\u001b[49m\n",
      "File \u001b[1;32m~\\anaconda3\\lib\\site-packages\\sklearn\\model_selection\\_validation.py:509\u001b[0m, in \u001b[0;36mcross_val_score\u001b[1;34m(estimator, X, y, groups, scoring, cv, n_jobs, verbose, fit_params, pre_dispatch, error_score)\u001b[0m\n\u001b[0;32m    506\u001b[0m \u001b[38;5;66;03m# To ensure multimetric format is not supported\u001b[39;00m\n\u001b[0;32m    507\u001b[0m scorer \u001b[38;5;241m=\u001b[39m check_scoring(estimator, scoring\u001b[38;5;241m=\u001b[39mscoring)\n\u001b[1;32m--> 509\u001b[0m cv_results \u001b[38;5;241m=\u001b[39m \u001b[43mcross_validate\u001b[49m\u001b[43m(\u001b[49m\n\u001b[0;32m    510\u001b[0m \u001b[43m    \u001b[49m\u001b[43mestimator\u001b[49m\u001b[38;5;241;43m=\u001b[39;49m\u001b[43mestimator\u001b[49m\u001b[43m,\u001b[49m\n\u001b[0;32m    511\u001b[0m \u001b[43m    \u001b[49m\u001b[43mX\u001b[49m\u001b[38;5;241;43m=\u001b[39;49m\u001b[43mX\u001b[49m\u001b[43m,\u001b[49m\n\u001b[0;32m    512\u001b[0m \u001b[43m    \u001b[49m\u001b[43my\u001b[49m\u001b[38;5;241;43m=\u001b[39;49m\u001b[43my\u001b[49m\u001b[43m,\u001b[49m\n\u001b[0;32m    513\u001b[0m \u001b[43m    \u001b[49m\u001b[43mgroups\u001b[49m\u001b[38;5;241;43m=\u001b[39;49m\u001b[43mgroups\u001b[49m\u001b[43m,\u001b[49m\n\u001b[0;32m    514\u001b[0m \u001b[43m    \u001b[49m\u001b[43mscoring\u001b[49m\u001b[38;5;241;43m=\u001b[39;49m\u001b[43m{\u001b[49m\u001b[38;5;124;43m\"\u001b[39;49m\u001b[38;5;124;43mscore\u001b[39;49m\u001b[38;5;124;43m\"\u001b[39;49m\u001b[43m:\u001b[49m\u001b[43m \u001b[49m\u001b[43mscorer\u001b[49m\u001b[43m}\u001b[49m\u001b[43m,\u001b[49m\n\u001b[0;32m    515\u001b[0m \u001b[43m    \u001b[49m\u001b[43mcv\u001b[49m\u001b[38;5;241;43m=\u001b[39;49m\u001b[43mcv\u001b[49m\u001b[43m,\u001b[49m\n\u001b[0;32m    516\u001b[0m \u001b[43m    \u001b[49m\u001b[43mn_jobs\u001b[49m\u001b[38;5;241;43m=\u001b[39;49m\u001b[43mn_jobs\u001b[49m\u001b[43m,\u001b[49m\n\u001b[0;32m    517\u001b[0m \u001b[43m    \u001b[49m\u001b[43mverbose\u001b[49m\u001b[38;5;241;43m=\u001b[39;49m\u001b[43mverbose\u001b[49m\u001b[43m,\u001b[49m\n\u001b[0;32m    518\u001b[0m \u001b[43m    \u001b[49m\u001b[43mfit_params\u001b[49m\u001b[38;5;241;43m=\u001b[39;49m\u001b[43mfit_params\u001b[49m\u001b[43m,\u001b[49m\n\u001b[0;32m    519\u001b[0m \u001b[43m    \u001b[49m\u001b[43mpre_dispatch\u001b[49m\u001b[38;5;241;43m=\u001b[39;49m\u001b[43mpre_dispatch\u001b[49m\u001b[43m,\u001b[49m\n\u001b[0;32m    520\u001b[0m \u001b[43m    \u001b[49m\u001b[43merror_score\u001b[49m\u001b[38;5;241;43m=\u001b[39;49m\u001b[43merror_score\u001b[49m\u001b[43m,\u001b[49m\n\u001b[0;32m    521\u001b[0m \u001b[43m\u001b[49m\u001b[43m)\u001b[49m\n\u001b[0;32m    522\u001b[0m \u001b[38;5;28;01mreturn\u001b[39;00m cv_results[\u001b[38;5;124m\"\u001b[39m\u001b[38;5;124mtest_score\u001b[39m\u001b[38;5;124m\"\u001b[39m]\n",
      "File \u001b[1;32m~\\anaconda3\\lib\\site-packages\\sklearn\\model_selection\\_validation.py:253\u001b[0m, in \u001b[0;36mcross_validate\u001b[1;34m(estimator, X, y, groups, scoring, cv, n_jobs, verbose, fit_params, pre_dispatch, return_train_score, return_estimator, error_score)\u001b[0m\n\u001b[0;32m     48\u001b[0m \u001b[38;5;28;01mdef\u001b[39;00m \u001b[38;5;21mcross_validate\u001b[39m(\n\u001b[0;32m     49\u001b[0m     estimator,\n\u001b[0;32m     50\u001b[0m     X,\n\u001b[1;32m   (...)\u001b[0m\n\u001b[0;32m     62\u001b[0m     error_score\u001b[38;5;241m=\u001b[39mnp\u001b[38;5;241m.\u001b[39mnan,\n\u001b[0;32m     63\u001b[0m ):\n\u001b[0;32m     64\u001b[0m     \u001b[38;5;124;03m\"\"\"Evaluate metric(s) by cross-validation and also record fit/score times.\u001b[39;00m\n\u001b[0;32m     65\u001b[0m \n\u001b[0;32m     66\u001b[0m \u001b[38;5;124;03m    Read more in the :ref:`User Guide <multimetric_cross_validation>`.\u001b[39;00m\n\u001b[1;32m   (...)\u001b[0m\n\u001b[0;32m    251\u001b[0m \n\u001b[0;32m    252\u001b[0m \u001b[38;5;124;03m    \"\"\"\u001b[39;00m\n\u001b[1;32m--> 253\u001b[0m     X, y, groups \u001b[38;5;241m=\u001b[39m \u001b[43mindexable\u001b[49m\u001b[43m(\u001b[49m\u001b[43mX\u001b[49m\u001b[43m,\u001b[49m\u001b[43m \u001b[49m\u001b[43my\u001b[49m\u001b[43m,\u001b[49m\u001b[43m \u001b[49m\u001b[43mgroups\u001b[49m\u001b[43m)\u001b[49m\n\u001b[0;32m    255\u001b[0m     cv \u001b[38;5;241m=\u001b[39m check_cv(cv, y, classifier\u001b[38;5;241m=\u001b[39mis_classifier(estimator))\n\u001b[0;32m    257\u001b[0m     \u001b[38;5;28;01mif\u001b[39;00m callable(scoring):\n",
      "File \u001b[1;32m~\\anaconda3\\lib\\site-packages\\sklearn\\utils\\validation.py:378\u001b[0m, in \u001b[0;36mindexable\u001b[1;34m(*iterables)\u001b[0m\n\u001b[0;32m    359\u001b[0m \u001b[38;5;124;03m\"\"\"Make arrays indexable for cross-validation.\u001b[39;00m\n\u001b[0;32m    360\u001b[0m \n\u001b[0;32m    361\u001b[0m \u001b[38;5;124;03mChecks consistent length, passes through None, and ensures that everything\u001b[39;00m\n\u001b[1;32m   (...)\u001b[0m\n\u001b[0;32m    374\u001b[0m \u001b[38;5;124;03m    sparse matrix, or dataframe) or `None`.\u001b[39;00m\n\u001b[0;32m    375\u001b[0m \u001b[38;5;124;03m\"\"\"\u001b[39;00m\n\u001b[0;32m    377\u001b[0m result \u001b[38;5;241m=\u001b[39m [_make_indexable(X) \u001b[38;5;28;01mfor\u001b[39;00m X \u001b[38;5;129;01min\u001b[39;00m iterables]\n\u001b[1;32m--> 378\u001b[0m \u001b[43mcheck_consistent_length\u001b[49m\u001b[43m(\u001b[49m\u001b[38;5;241;43m*\u001b[39;49m\u001b[43mresult\u001b[49m\u001b[43m)\u001b[49m\n\u001b[0;32m    379\u001b[0m \u001b[38;5;28;01mreturn\u001b[39;00m result\n",
      "File \u001b[1;32m~\\anaconda3\\lib\\site-packages\\sklearn\\utils\\validation.py:332\u001b[0m, in \u001b[0;36mcheck_consistent_length\u001b[1;34m(*arrays)\u001b[0m\n\u001b[0;32m    330\u001b[0m uniques \u001b[38;5;241m=\u001b[39m np\u001b[38;5;241m.\u001b[39munique(lengths)\n\u001b[0;32m    331\u001b[0m \u001b[38;5;28;01mif\u001b[39;00m \u001b[38;5;28mlen\u001b[39m(uniques) \u001b[38;5;241m>\u001b[39m \u001b[38;5;241m1\u001b[39m:\n\u001b[1;32m--> 332\u001b[0m     \u001b[38;5;28;01mraise\u001b[39;00m \u001b[38;5;167;01mValueError\u001b[39;00m(\n\u001b[0;32m    333\u001b[0m         \u001b[38;5;124m\"\u001b[39m\u001b[38;5;124mFound input variables with inconsistent numbers of samples: \u001b[39m\u001b[38;5;132;01m%r\u001b[39;00m\u001b[38;5;124m\"\u001b[39m\n\u001b[0;32m    334\u001b[0m         \u001b[38;5;241m%\u001b[39m [\u001b[38;5;28mint\u001b[39m(l) \u001b[38;5;28;01mfor\u001b[39;00m l \u001b[38;5;129;01min\u001b[39;00m lengths]\n\u001b[0;32m    335\u001b[0m     )\n",
      "\u001b[1;31mValueError\u001b[0m: Found input variables with inconsistent numbers of samples: [40, 6]"
     ]
    }
   ],
   "source": [
    "cross_val_score(model, X, Y, cv=10, scoring=\"neg_mean_squared_error\")\n",
    "# cv 가 test size를 나누는 수\n",
    "# mean_squared_error가 작으면 작을수록 좋다~ 하지만 neg(-)를 붙이고 나서는 클수록 좋은 것으로 바뀌니까\\\n",
    "# score가 큰 순으로 모델이 더 정확하다고 볼 수 있음."
   ]
  },
  {
   "cell_type": "raw",
   "id": "d2aff440-ae58-42e7-9056-c5709fdea99b",
   "metadata": {},
   "source": [
    ">> 결국 데이터셋에 맞는 모델을 찾는 것이 중요하다~ 그걸 찾는 과정"
   ]
  },
  {
   "cell_type": "markdown",
   "id": "2844da46-a320-4690-9f9e-48f944962d6b",
   "metadata": {},
   "source": [
    "---------"
   ]
  },
  {
   "cell_type": "code",
   "execution_count": 21,
   "id": "da9ee120-549f-48c6-ba46-dd05acb42ac9",
   "metadata": {},
   "outputs": [],
   "source": [
    "iris = datasets.load_iris()"
   ]
  },
  {
   "cell_type": "code",
   "execution_count": 22,
   "id": "935b1672-8167-4edf-aeb1-af521247e189",
   "metadata": {},
   "outputs": [],
   "source": [
    "model = KNeighborsClassifier()"
   ]
  },
  {
   "cell_type": "code",
   "execution_count": 23,
   "id": "f07db959-ed66-410b-bbf2-39be3d31b079",
   "metadata": {},
   "outputs": [
    {
     "data": {
      "text/plain": [
       "array([0.96666667, 1.        , 0.93333333, 0.96666667, 1.        ])"
      ]
     },
     "execution_count": 23,
     "metadata": {},
     "output_type": "execute_result"
    }
   ],
   "source": [
    "cross_val_score(model, iris.data, iris.target, cv=5)"
   ]
  },
  {
   "cell_type": "markdown",
   "id": "3070eb16-0b28-4e80-a448-b63f644f6ab7",
   "metadata": {},
   "source": [
    "-----------"
   ]
  },
  {
   "cell_type": "code",
   "execution_count": 25,
   "id": "8db6f9b2-e4ed-429f-9375-89c26663587e",
   "metadata": {},
   "outputs": [],
   "source": [
    "X =np.array([['N','Y'],['Y','Y'],['N','Y'],['Y','Y'],['Y','Y'],['Y','Y']])"
   ]
  },
  {
   "cell_type": "code",
   "execution_count": 26,
   "id": "c989290d-5771-46f3-a8d8-0aeac9bbaefb",
   "metadata": {},
   "outputs": [],
   "source": [
    "Y =np.array(['cat','dog','cat','dog','dog','dog'])"
   ]
  },
  {
   "cell_type": "code",
   "execution_count": 27,
   "id": "805c5b5c-ea77-4996-9329-405fc53acd69",
   "metadata": {},
   "outputs": [],
   "source": [
    "kf = KFold(2) #반은 train , 반은 test"
   ]
  },
  {
   "cell_type": "code",
   "execution_count": 28,
   "id": "2325f2d0-12a2-40b4-93ea-d0e507dc83a6",
   "metadata": {},
   "outputs": [
    {
     "data": {
      "text/plain": [
       "[(array([3, 4, 5]), array([0, 1, 2])), (array([0, 1, 2]), array([3, 4, 5]))]"
      ]
     },
     "execution_count": 28,
     "metadata": {},
     "output_type": "execute_result"
    }
   ],
   "source": [
    "list(kf.split(X))"
   ]
  },
  {
   "cell_type": "code",
   "execution_count": 31,
   "id": "83258c75-5351-4c39-afb4-6f015f73893b",
   "metadata": {},
   "outputs": [
    {
     "name": "stdout",
     "output_type": "stream",
     "text": [
      "Train [3 4 5]\n",
      "[['Y' 'Y']\n",
      " ['Y' 'Y']\n",
      " ['Y' 'Y']] / ['dog' 'dog' 'dog']\n",
      "Test [0 1 2]\n",
      "[['N' 'Y']\n",
      " ['Y' 'Y']\n",
      " ['N' 'Y']] / ['cat' 'dog' 'cat']\n",
      "---------------------\n",
      "Train [0 1 2]\n",
      "[['N' 'Y']\n",
      " ['Y' 'Y']\n",
      " ['N' 'Y']] / ['cat' 'dog' 'cat']\n",
      "Test [3 4 5]\n",
      "[['Y' 'Y']\n",
      " ['Y' 'Y']\n",
      " ['Y' 'Y']] / ['dog' 'dog' 'dog']\n",
      "---------------------\n"
     ]
    }
   ],
   "source": [
    "for train_index, test_index in kf.split(X) :\n",
    "    x_train, x_test = X[train_index], X[test_index]\n",
    "    y_train, y_test = Y[train_index], Y[test_index]\n",
    "    print(\"Train\", train_index)\n",
    "    print(x_train, '/', y_train)\n",
    "    print(\"Test\", test_index)\n",
    "    print(x_test, '/', y_test)\n",
    "    print('---------------------')"
   ]
  },
  {
   "cell_type": "code",
   "execution_count": 33,
   "id": "6fc66e9b-d369-43dd-a12b-5f49d9536282",
   "metadata": {},
   "outputs": [],
   "source": [
    "skf = StratifiedKFold(2)"
   ]
  },
  {
   "cell_type": "code",
   "execution_count": 36,
   "id": "a5aaeecf-601b-4c55-a1c8-9be2bbd67922",
   "metadata": {},
   "outputs": [
    {
     "name": "stdout",
     "output_type": "stream",
     "text": [
      "Train [2 4 5]\n",
      "[['N' 'Y']\n",
      " ['Y' 'Y']\n",
      " ['Y' 'Y']] / ['cat' 'dog' 'dog']\n",
      "Test [0 1 3]\n",
      "[['N' 'Y']\n",
      " ['Y' 'Y']\n",
      " ['Y' 'Y']] / ['cat' 'dog' 'dog']\n",
      "---------------------\n",
      "Train [0 1 3]\n",
      "[['N' 'Y']\n",
      " ['Y' 'Y']\n",
      " ['Y' 'Y']] / ['cat' 'dog' 'dog']\n",
      "Test [2 4 5]\n",
      "[['N' 'Y']\n",
      " ['Y' 'Y']\n",
      " ['Y' 'Y']] / ['cat' 'dog' 'dog']\n",
      "---------------------\n"
     ]
    }
   ],
   "source": [
    "for train_index, test_index in skf.split(X, Y) : #인자가 Y가 더 들어감 Y를 가지고 나눌것이기 떄문에?\n",
    "    x_train, x_test = X[train_index], X[test_index]\n",
    "    y_train, y_test = Y[train_index], Y[test_index]\n",
    "    print(\"Train\", train_index)\n",
    "    print(x_train, '/', y_train)\n",
    "    print(\"Test\", test_index)\n",
    "    print(x_test, '/', y_test)\n",
    "    print('---------------------')"
   ]
  },
  {
   "cell_type": "markdown",
   "id": "b2369a8e-ef9d-4aa5-a800-b57c8bd51660",
   "metadata": {},
   "source": [
    "-----------"
   ]
  },
  {
   "cell_type": "code",
   "execution_count": 38,
   "id": "d8577393-15a7-47a4-998a-2df024db396b",
   "metadata": {},
   "outputs": [],
   "source": [
    "lr = LinearRegression()"
   ]
  },
  {
   "cell_type": "code",
   "execution_count": 39,
   "id": "0cec815c-1337-424e-83f9-14cc369d75dd",
   "metadata": {},
   "outputs": [],
   "source": [
    "diabets = datasets.load_diabetes()"
   ]
  },
  {
   "cell_type": "code",
   "execution_count": 40,
   "id": "b3eab00e-4b23-44bd-9021-6ad04884dee6",
   "metadata": {
    "collapsed": true,
    "jupyter": {
     "outputs_hidden": true
    },
    "tags": []
   },
   "outputs": [
    {
     "data": {
      "text/plain": [
       "{'data': array([[ 0.03807591,  0.05068012,  0.06169621, ..., -0.00259226,\n",
       "          0.01990842, -0.01764613],\n",
       "        [-0.00188202, -0.04464164, -0.05147406, ..., -0.03949338,\n",
       "         -0.06832974, -0.09220405],\n",
       "        [ 0.08529891,  0.05068012,  0.04445121, ..., -0.00259226,\n",
       "          0.00286377, -0.02593034],\n",
       "        ...,\n",
       "        [ 0.04170844,  0.05068012, -0.01590626, ..., -0.01107952,\n",
       "         -0.04687948,  0.01549073],\n",
       "        [-0.04547248, -0.04464164,  0.03906215, ...,  0.02655962,\n",
       "          0.04452837, -0.02593034],\n",
       "        [-0.04547248, -0.04464164, -0.0730303 , ..., -0.03949338,\n",
       "         -0.00421986,  0.00306441]]),\n",
       " 'target': array([151.,  75., 141., 206., 135.,  97., 138.,  63., 110., 310., 101.,\n",
       "         69., 179., 185., 118., 171., 166., 144.,  97., 168.,  68.,  49.,\n",
       "         68., 245., 184., 202., 137.,  85., 131., 283., 129.,  59., 341.,\n",
       "         87.,  65., 102., 265., 276., 252.,  90., 100.,  55.,  61.,  92.,\n",
       "        259.,  53., 190., 142.,  75., 142., 155., 225.,  59., 104., 182.,\n",
       "        128.,  52.,  37., 170., 170.,  61., 144.,  52., 128.,  71., 163.,\n",
       "        150.,  97., 160., 178.,  48., 270., 202., 111.,  85.,  42., 170.,\n",
       "        200., 252., 113., 143.,  51.,  52., 210.,  65., 141.,  55., 134.,\n",
       "         42., 111.,  98., 164.,  48.,  96.,  90., 162., 150., 279.,  92.,\n",
       "         83., 128., 102., 302., 198.,  95.,  53., 134., 144., 232.,  81.,\n",
       "        104.,  59., 246., 297., 258., 229., 275., 281., 179., 200., 200.,\n",
       "        173., 180.,  84., 121., 161.,  99., 109., 115., 268., 274., 158.,\n",
       "        107.,  83., 103., 272.,  85., 280., 336., 281., 118., 317., 235.,\n",
       "         60., 174., 259., 178., 128.,  96., 126., 288.,  88., 292.,  71.,\n",
       "        197., 186.,  25.,  84.,  96., 195.,  53., 217., 172., 131., 214.,\n",
       "         59.,  70., 220., 268., 152.,  47.,  74., 295., 101., 151., 127.,\n",
       "        237., 225.,  81., 151., 107.,  64., 138., 185., 265., 101., 137.,\n",
       "        143., 141.,  79., 292., 178.,  91., 116.,  86., 122.,  72., 129.,\n",
       "        142.,  90., 158.,  39., 196., 222., 277.,  99., 196., 202., 155.,\n",
       "         77., 191.,  70.,  73.,  49.,  65., 263., 248., 296., 214., 185.,\n",
       "         78.,  93., 252., 150.,  77., 208.,  77., 108., 160.,  53., 220.,\n",
       "        154., 259.,  90., 246., 124.,  67.,  72., 257., 262., 275., 177.,\n",
       "         71.,  47., 187., 125.,  78.,  51., 258., 215., 303., 243.,  91.,\n",
       "        150., 310., 153., 346.,  63.,  89.,  50.,  39., 103., 308., 116.,\n",
       "        145.,  74.,  45., 115., 264.,  87., 202., 127., 182., 241.,  66.,\n",
       "         94., 283.,  64., 102., 200., 265.,  94., 230., 181., 156., 233.,\n",
       "         60., 219.,  80.,  68., 332., 248.,  84., 200.,  55.,  85.,  89.,\n",
       "         31., 129.,  83., 275.,  65., 198., 236., 253., 124.,  44., 172.,\n",
       "        114., 142., 109., 180., 144., 163., 147.,  97., 220., 190., 109.,\n",
       "        191., 122., 230., 242., 248., 249., 192., 131., 237.,  78., 135.,\n",
       "        244., 199., 270., 164.,  72.,  96., 306.,  91., 214.,  95., 216.,\n",
       "        263., 178., 113., 200., 139., 139.,  88., 148.,  88., 243.,  71.,\n",
       "         77., 109., 272.,  60.,  54., 221.,  90., 311., 281., 182., 321.,\n",
       "         58., 262., 206., 233., 242., 123., 167.,  63., 197.,  71., 168.,\n",
       "        140., 217., 121., 235., 245.,  40.,  52., 104., 132.,  88.,  69.,\n",
       "        219.,  72., 201., 110.,  51., 277.,  63., 118.,  69., 273., 258.,\n",
       "         43., 198., 242., 232., 175.,  93., 168., 275., 293., 281.,  72.,\n",
       "        140., 189., 181., 209., 136., 261., 113., 131., 174., 257.,  55.,\n",
       "         84.,  42., 146., 212., 233.,  91., 111., 152., 120.,  67., 310.,\n",
       "         94., 183.,  66., 173.,  72.,  49.,  64.,  48., 178., 104., 132.,\n",
       "        220.,  57.]),\n",
       " 'frame': None,\n",
       " 'DESCR': '.. _diabetes_dataset:\\n\\nDiabetes dataset\\n----------------\\n\\nTen baseline variables, age, sex, body mass index, average blood\\npressure, and six blood serum measurements were obtained for each of n =\\n442 diabetes patients, as well as the response of interest, a\\nquantitative measure of disease progression one year after baseline.\\n\\n**Data Set Characteristics:**\\n\\n  :Number of Instances: 442\\n\\n  :Number of Attributes: First 10 columns are numeric predictive values\\n\\n  :Target: Column 11 is a quantitative measure of disease progression one year after baseline\\n\\n  :Attribute Information:\\n      - age     age in years\\n      - sex\\n      - bmi     body mass index\\n      - bp      average blood pressure\\n      - s1      tc, total serum cholesterol\\n      - s2      ldl, low-density lipoproteins\\n      - s3      hdl, high-density lipoproteins\\n      - s4      tch, total cholesterol / HDL\\n      - s5      ltg, possibly log of serum triglycerides level\\n      - s6      glu, blood sugar level\\n\\nNote: Each of these 10 feature variables have been mean centered and scaled by the standard deviation times `n_samples` (i.e. the sum of squares of each column totals 1).\\n\\nSource URL:\\nhttps://www4.stat.ncsu.edu/~boos/var.select/diabetes.html\\n\\nFor more information see:\\nBradley Efron, Trevor Hastie, Iain Johnstone and Robert Tibshirani (2004) \"Least Angle Regression,\" Annals of Statistics (with discussion), 407-499.\\n(https://web.stanford.edu/~hastie/Papers/LARS/LeastAngle_2002.pdf)',\n",
       " 'feature_names': ['age',\n",
       "  'sex',\n",
       "  'bmi',\n",
       "  'bp',\n",
       "  's1',\n",
       "  's2',\n",
       "  's3',\n",
       "  's4',\n",
       "  's5',\n",
       "  's6'],\n",
       " 'data_filename': 'diabetes_data.csv.gz',\n",
       " 'target_filename': 'diabetes_target.csv.gz',\n",
       " 'data_module': 'sklearn.datasets.data'}"
      ]
     },
     "execution_count": 40,
     "metadata": {},
     "output_type": "execute_result"
    }
   ],
   "source": [
    "diabets"
   ]
  },
  {
   "cell_type": "code",
   "execution_count": 65,
   "id": "11ede1fa-386d-4b1e-9786-7994f05e05a7",
   "metadata": {},
   "outputs": [],
   "source": [
    "scores= []\n",
    "\n",
    "for i in range(10) :\n",
    "    #print(_)\n",
    "    x_train, x_test, y_train, y_test = train_test_split(diabets.data, diabets.target, test_size=0.25, random_state=i)\n",
    "    \n",
    "    lr.fit(x_train, y_train)\n",
    "    preds = lr.predict(x_test)\n",
    "    \n",
    "    score = mean_squared_error(y_test, preds)\n",
    "    #print(score)\n",
    "    scores.append(score)"
   ]
  },
  {
   "cell_type": "code",
   "execution_count": 66,
   "id": "2f3d2188-7426-41c7-827d-bfc4fa541540",
   "metadata": {},
   "outputs": [
    {
     "data": {
      "text/plain": [
       "[3180.1988368427274,\n",
       " 2903.100001322798,\n",
       " 2933.1283490387764,\n",
       " 3033.5111001601285,\n",
       " 2923.9064741638276,\n",
       " 3042.032415755347,\n",
       " 3197.9172214559812,\n",
       " 2962.940299678103,\n",
       " 3108.04109825321,\n",
       " 2386.87206069772]"
      ]
     },
     "execution_count": 66,
     "metadata": {},
     "output_type": "execute_result"
    }
   ],
   "source": [
    "scores"
   ]
  },
  {
   "cell_type": "code",
   "execution_count": 67,
   "id": "24c68b0f-730f-45a9-821b-8c50468536fe",
   "metadata": {},
   "outputs": [],
   "source": [
    "df = pd.DataFrame({'RMSE' :np.sqrt(scores)})"
   ]
  },
  {
   "cell_type": "code",
   "execution_count": 68,
   "id": "7db71a6f-8f2c-4fc3-afa2-4f3917dc1605",
   "metadata": {},
   "outputs": [
    {
     "data": {
      "text/html": [
       "<div>\n",
       "<style scoped>\n",
       "    .dataframe tbody tr th:only-of-type {\n",
       "        vertical-align: middle;\n",
       "    }\n",
       "\n",
       "    .dataframe tbody tr th {\n",
       "        vertical-align: top;\n",
       "    }\n",
       "\n",
       "    .dataframe thead th {\n",
       "        text-align: right;\n",
       "    }\n",
       "</style>\n",
       "<table border=\"1\" class=\"dataframe\">\n",
       "  <thead>\n",
       "    <tr style=\"text-align: right;\">\n",
       "      <th></th>\n",
       "      <th>0</th>\n",
       "      <th>1</th>\n",
       "      <th>2</th>\n",
       "      <th>3</th>\n",
       "      <th>4</th>\n",
       "      <th>5</th>\n",
       "      <th>6</th>\n",
       "      <th>7</th>\n",
       "      <th>8</th>\n",
       "      <th>9</th>\n",
       "    </tr>\n",
       "  </thead>\n",
       "  <tbody>\n",
       "    <tr>\n",
       "      <th>RMSE</th>\n",
       "      <td>56.393252</td>\n",
       "      <td>53.880423</td>\n",
       "      <td>54.158364</td>\n",
       "      <td>55.077319</td>\n",
       "      <td>54.073159</td>\n",
       "      <td>55.154623</td>\n",
       "      <td>56.55013</td>\n",
       "      <td>54.432897</td>\n",
       "      <td>55.749808</td>\n",
       "      <td>48.855625</td>\n",
       "    </tr>\n",
       "  </tbody>\n",
       "</table>\n",
       "</div>"
      ],
      "text/plain": [
       "              0          1          2          3          4          5  \\\n",
       "RMSE  56.393252  53.880423  54.158364  55.077319  54.073159  55.154623   \n",
       "\n",
       "             6          7          8          9  \n",
       "RMSE  56.55013  54.432897  55.749808  48.855625  "
      ]
     },
     "execution_count": 68,
     "metadata": {},
     "output_type": "execute_result"
    }
   ],
   "source": [
    "df.T #10번 실행해서 출력된 RMSE값"
   ]
  },
  {
   "cell_type": "code",
   "execution_count": 69,
   "id": "24bb1d05-e553-4466-af1b-3fa984da1c3f",
   "metadata": {},
   "outputs": [
    {
     "data": {
      "image/png": "[encoded data removed]",
      "text/plain": [
       "<Figure size 432x288 with 1 Axes>"
      ]
     },
     "metadata": {
      "needs_background": "light"
     },
     "output_type": "display_data"
    }
   ],
   "source": [
    "swarm = sns.swarmplot(y='RMSE', data=df) #분산이 꽤 크다."
   ]
  },
  {
   "cell_type": "raw",
   "id": "4cc05726-5723-43a0-a27f-85b2a64e855e",
   "metadata": {},
   "source": [
    "- 분산과 편향 (분산과 편향이 둘다 가장 작은값이 best!)\n",
    "분산 낮고 낮은 편향 >> best!\n",
    "분산 높고 낮은 편향 >> 과적합\n",
    "분산 높고 높은 편향 >> 학습을 잘못함\n",
    "분산 낮고 높은 편향 >> 이상치가 많음"
   ]
  },
  {
   "cell_type": "code",
   "execution_count": 70,
   "id": "e04ad027-67ec-430a-8a6d-139553223cd0",
   "metadata": {},
   "outputs": [],
   "source": [
    "scaler = MinMaxScaler()"
   ]
  },
  {
   "cell_type": "code",
   "execution_count": 71,
   "id": "5515d448-7796-4300-8409-04cb1ea07d39",
   "metadata": {},
   "outputs": [],
   "source": [
    "X = scaler.fit_transform(diabets.data)"
   ]
  },
  {
   "cell_type": "code",
   "execution_count": 72,
   "id": "cbde7dea-c1aa-4567-a7a3-b5213a58820e",
   "metadata": {},
   "outputs": [],
   "source": [
    "scores= []\n",
    "\n",
    "for i in range(10) :\n",
    "    #print(_)\n",
    "    x_train, x_test, y_train, y_test = train_test_split(diabets.data, diabets.target, test_size=0.25)\n",
    "    \n",
    "    lr.fit(x_train, y_train)\n",
    "    preds = lr.predict(x_test)\n",
    "    \n",
    "    score = mean_squared_error(y_test, preds)\n",
    "    #print(score)\n",
    "    scores.append(score)"
   ]
  },
  {
   "cell_type": "code",
   "execution_count": 73,
   "id": "73870e28-efc8-4c5e-b621-a91685ff3c49",
   "metadata": {},
   "outputs": [
    {
     "data": {
      "text/plain": [
       "[3180.1988368427274,\n",
       " 2903.100001322798,\n",
       " 2933.1283490387764,\n",
       " 3033.5111001601285,\n",
       " 2923.9064741638276,\n",
       " 3042.032415755347,\n",
       " 3197.9172214559812,\n",
       " 2962.940299678103,\n",
       " 3108.04109825321,\n",
       " 2386.87206069772]"
      ]
     },
     "execution_count": 73,
     "metadata": {},
     "output_type": "execute_result"
    }
   ],
   "source": [
    "scores"
   ]
  },
  {
   "cell_type": "code",
   "execution_count": 76,
   "id": "931d4446-8562-4d18-867e-9852720d4313",
   "metadata": {},
   "outputs": [],
   "source": [
    "df2 = pd.DataFrame({'RMSE' : np.sqrt(scores)})"
   ]
  },
  {
   "cell_type": "code",
   "execution_count": 77,
   "id": "99a0b0fc-e21d-468b-9488-cd761b619e64",
   "metadata": {},
   "outputs": [
    {
     "data": {
      "image/png": "[encoded data removed]",
      "text/plain": [
       "<Figure size 432x288 with 1 Axes>"
      ]
     },
     "metadata": {
      "needs_background": "light"
     },
     "output_type": "display_data"
    }
   ],
   "source": [
    "swarm = sns.swarmplot(y='RMSE', data=df2)"
   ]
  },
  {
   "cell_type": "raw",
   "id": "8ed79fdf-1be8-4bbb-827f-96dddd8bdb07",
   "metadata": {},
   "source": [
    "그래프로 그려서 score값의 분포도를 살펴보는 정도로 이해"
   ]
  },
  {
   "cell_type": "code",
   "execution_count": 78,
   "id": "a171b420-2ca3-402e-b85d-078cc7f5d677",
   "metadata": {},
   "outputs": [
    {
     "data": {
      "text/plain": [
       "54.432559919877846"
      ]
     },
     "execution_count": 78,
     "metadata": {},
     "output_type": "execute_result"
    }
   ],
   "source": [
    "df['RMSE'].mean()"
   ]
  },
  {
   "cell_type": "code",
   "execution_count": null,
   "id": "3bf7c593-ea51-4398-b998-75f76a40dfdb",
   "metadata": {},
   "outputs": [],
   "source": []
  },
  {
   "cell_type": "code",
   "execution_count": 79,
   "id": "3ecad65f-ca2b-45fd-b312-e3faff89acc6",
   "metadata": {},
   "outputs": [],
   "source": [
    "def tts_fit_score(model, X, Y, evaluation, test_size=0.25) : #fit_score를 구하는 함수 선언!\n",
    "    x_train, x_test, y_train, y_test = train_test_split(X,Y,test_size=test_size)\n",
    "    \n",
    "    model.fit(x_train, y_train)\n",
    "    preds = model.predict(x_test)\n",
    "\n",
    "    score = evaluation(y_test, preds)\n",
    "    return score"
   ]
  },
  {
   "cell_type": "code",
   "execution_count": 80,
   "id": "963c1489-f6d7-4372-8965-4af28d25f69c",
   "metadata": {},
   "outputs": [],
   "source": [
    "lr = LinearRegression()\n",
    "diabets = datasets.load_diabetes()"
   ]
  },
  {
   "cell_type": "code",
   "execution_count": 82,
   "id": "522a5190-a024-45eb-b564-bf42914d1694",
   "metadata": {},
   "outputs": [],
   "source": [
    "scores = [tts_fit_score(lr, diabets.data, diabets.target, mean_squared_error) for _ in range(10)]"
   ]
  },
  {
   "cell_type": "code",
   "execution_count": 83,
   "id": "8aaff9ef-7b9a-4d5c-9f0a-020f3deaea10",
   "metadata": {},
   "outputs": [
    {
     "data": {
      "text/plain": [
       "[2410.437410952657,\n",
       " 2700.5217033671565,\n",
       " 3686.312346861883,\n",
       " 3347.7213784024366,\n",
       " 2927.346306429029,\n",
       " 2868.5616203097907,\n",
       " 3023.0471631427645,\n",
       " 2882.760950609017,\n",
       " 2819.066353492814,\n",
       " 3140.0161819156624]"
      ]
     },
     "execution_count": 83,
     "metadata": {},
     "output_type": "execute_result"
    }
   ],
   "source": [
    "scores"
   ]
  },
  {
   "cell_type": "code",
   "execution_count": 85,
   "id": "80e64b15-9226-4e11-a9c3-984f3eebc896",
   "metadata": {},
   "outputs": [
    {
     "data": {
      "text/plain": [
       "54.51054878470713"
      ]
     },
     "execution_count": 85,
     "metadata": {},
     "output_type": "execute_result"
    }
   ],
   "source": [
    "np.mean(np.sqrt(scores)) # 평균을 쓰는게 더 낫다. 왜냐, 이상치의 영향을 받을 필요성이 있다."
   ]
  },
  {
   "cell_type": "code",
   "execution_count": 105,
   "id": "66df9cfb-cac2-43d0-9da3-aefc1585c5d8",
   "metadata": {},
   "outputs": [],
   "source": [
    "ss = ShuffleSplit(test_size=0.25, n_splits=10) # n_splits 의 의미 train_test 세트를 10개 세트로 나눈다// \n",
    "#test size 를 결국에 10개 나누라는 뜻"
   ]
  },
  {
   "cell_type": "code",
   "execution_count": 106,
   "id": "d9ad548e-bcc3-4a00-b73d-0c3f8cf7ef5d",
   "metadata": {},
   "outputs": [],
   "source": [
    "lr = LinearRegression()\n",
    "diabets= datasets.load_diabetes()"
   ]
  },
  {
   "cell_type": "code",
   "execution_count": 107,
   "id": "d5b3df3c-db90-4cbb-a8b6-a8a825850d43",
   "metadata": {},
   "outputs": [],
   "source": [
    "scores = cross_val_score(lr, diabets.data, diabets.target, cv=ss, scoring='neg_mean_squared_error')"
   ]
  },
  {
   "cell_type": "code",
   "execution_count": 108,
   "id": "16a96644-1957-43c4-8d07-dbee3efad97f",
   "metadata": {},
   "outputs": [
    {
     "data": {
      "text/plain": [
       "array([-3627.87323923, -3228.28672001, -3283.5482615 , -3508.32462464,\n",
       "       -2199.95082397, -3259.45717406, -3352.70337587, -3489.65133544,\n",
       "       -2604.91406643, -3326.19293107])"
      ]
     },
     "execution_count": 108,
     "metadata": {},
     "output_type": "execute_result"
    }
   ],
   "source": [
    "scores"
   ]
  },
  {
   "cell_type": "code",
   "execution_count": 109,
   "id": "de6af0d5-7cee-45ed-8e9b-7bd694469921",
   "metadata": {},
   "outputs": [],
   "source": [
    "df3 = pd.DataFrame({'RMSE': np.sqrt(-scores)})"
   ]
  },
  {
   "cell_type": "code",
   "execution_count": 111,
   "id": "b0ab8c38-4078-4a3c-b66f-3fda24bccb12",
   "metadata": {},
   "outputs": [
    {
     "data": {
      "text/html": [
       "<div>\n",
       "<style scoped>\n",
       "    .dataframe tbody tr th:only-of-type {\n",
       "        vertical-align: middle;\n",
       "    }\n",
       "\n",
       "    .dataframe tbody tr th {\n",
       "        vertical-align: top;\n",
       "    }\n",
       "\n",
       "    .dataframe thead th {\n",
       "        text-align: right;\n",
       "    }\n",
       "</style>\n",
       "<table border=\"1\" class=\"dataframe\">\n",
       "  <thead>\n",
       "    <tr style=\"text-align: right;\">\n",
       "      <th></th>\n",
       "      <th>0</th>\n",
       "      <th>1</th>\n",
       "      <th>2</th>\n",
       "      <th>3</th>\n",
       "      <th>4</th>\n",
       "      <th>5</th>\n",
       "      <th>6</th>\n",
       "      <th>7</th>\n",
       "      <th>8</th>\n",
       "      <th>9</th>\n",
       "    </tr>\n",
       "  </thead>\n",
       "  <tbody>\n",
       "    <tr>\n",
       "      <th>RMSE</th>\n",
       "      <td>60.231829</td>\n",
       "      <td>56.818014</td>\n",
       "      <td>57.302254</td>\n",
       "      <td>59.231112</td>\n",
       "      <td>46.903633</td>\n",
       "      <td>57.091656</td>\n",
       "      <td>57.902533</td>\n",
       "      <td>59.073271</td>\n",
       "      <td>51.038359</td>\n",
       "      <td>57.673156</td>\n",
       "    </tr>\n",
       "  </tbody>\n",
       "</table>\n",
       "</div>"
      ],
      "text/plain": [
       "              0          1          2          3          4          5  \\\n",
       "RMSE  60.231829  56.818014  57.302254  59.231112  46.903633  57.091656   \n",
       "\n",
       "              6          7          8          9  \n",
       "RMSE  57.902533  59.073271  51.038359  57.673156  "
      ]
     },
     "execution_count": 111,
     "metadata": {},
     "output_type": "execute_result"
    }
   ],
   "source": [
    "df3.T"
   ]
  },
  {
   "cell_type": "code",
   "execution_count": 112,
   "id": "1caf617a-9487-4a85-a97c-c39bfbf6e7be",
   "metadata": {},
   "outputs": [
    {
     "data": {
      "image/png": "[encoded data removed]",
      "text/plain": [
       "<Figure size 432x288 with 1 Axes>"
      ]
     },
     "metadata": {
      "needs_background": "light"
     },
     "output_type": "display_data"
    }
   ],
   "source": [
    "swarm = sns.swarmplot(y='RMSE', data=df3)"
   ]
  },
  {
   "cell_type": "raw",
   "id": "508d7ac9-6f3e-4ba1-8466-5498c71bce2e",
   "metadata": {},
   "source": [
    "ShuffleSplit (교차 검증)\n",
    "https://homeproject.tistory.com/m/6 참고~"
   ]
  },
  {
   "cell_type": "markdown",
   "id": "c00e86cd-a764-4997-9551-327d52c6bff6",
   "metadata": {},
   "source": [
    "----------------------------"
   ]
  },
  {
   "cell_type": "raw",
   "id": "2348d0e6-d499-4d40-88af-241f6d3f082c",
   "metadata": {},
   "source": [
    "차수를 변화시켜 교차검증 (*Polynomial)"
   ]
  },
  {
   "cell_type": "code",
   "execution_count": 136,
   "id": "c30e09be-977c-4475-a1aa-a7c36588e444",
   "metadata": {},
   "outputs": [],
   "source": [
    "np.random.seed(1)\n",
    "\n",
    "X = np.random.rand(40,1) **2 # 0에서 1사이의 균등 분포를 가진 40개를 뽑아서 제곱\n",
    "y = (10- 1/(X.ravel()+0.1) ) + np.random.randn(40) #randn => 표준정규분포에서의 난수 40개 생성"
   ]
  },
  {
   "cell_type": "code",
   "execution_count": 137,
   "id": "a9283249-43a8-4fd3-be27-8215b0fdf0cd",
   "metadata": {
    "collapsed": true,
    "jupyter": {
     "outputs_hidden": true
    },
    "tags": []
   },
   "outputs": [
    {
     "data": {
      "text/plain": [
       "array([[1.73907352e-01],\n",
       "       [5.18867376e-01],\n",
       "       [1.30815988e-08],\n",
       "       [9.14049845e-02],\n",
       "       [2.15372915e-02],\n",
       "       [8.52641608e-03],\n",
       "       [3.46928663e-02],\n",
       "       [1.19412216e-01],\n",
       "       [1.57424429e-01],\n",
       "       [2.90323473e-01],\n",
       "       [1.75724041e-01],\n",
       "       [4.69525764e-01],\n",
       "       [4.18007224e-02],\n",
       "       [7.71090232e-01],\n",
       "       [7.50080261e-04],\n",
       "       [4.49526682e-01],\n",
       "       [1.74143298e-01],\n",
       "       [3.12134324e-01],\n",
       "       [1.97084925e-02],\n",
       "       [3.92442000e-02],\n",
       "       [6.41191864e-01],\n",
       "       [9.37530479e-01],\n",
       "       [9.82347155e-02],\n",
       "       [4.79310604e-01],\n",
       "       [7.68057946e-01],\n",
       "       [8.00321082e-01],\n",
       "       [7.23251789e-03],\n",
       "       [1.52527609e-03],\n",
       "       [2.88423714e-02],\n",
       "       [7.71134256e-01],\n",
       "       [9.67209972e-03],\n",
       "       [1.77331632e-01],\n",
       "       [9.17552352e-01],\n",
       "       [2.84265221e-01],\n",
       "       [4.78693941e-01],\n",
       "       [9.95501134e-02],\n",
       "       [4.71283524e-01],\n",
       "       [6.96600012e-01],\n",
       "       [3.34461088e-04],\n",
       "       [5.62716493e-01]])"
      ]
     },
     "execution_count": 137,
     "metadata": {},
     "output_type": "execute_result"
    }
   ],
   "source": [
    "X"
   ]
  },
  {
   "cell_type": "code",
   "execution_count": 138,
   "id": "df926a06-f76e-4b50-9929-b1f8f13d507a",
   "metadata": {},
   "outputs": [
    {
     "data": {
      "text/plain": [
       "array([ 7.24998644,  7.70041705, -0.12288892,  3.83970623,  1.50418461,\n",
       "        1.31600899,  1.88404109,  5.0456151 ,  5.42819209,  6.59281674,\n",
       "        5.70193919,  8.23148858,  1.8305394 ,  9.086429  ,  1.73425177,\n",
       "        8.92229631,  6.16043712,  6.68597765,  0.8992155 ,  4.51082693,\n",
       "        8.70162943,  8.39917725,  5.14639037, 10.37406543,  8.96816213,\n",
       "        9.50648826,  0.9746409 , -0.20201375,  1.09605993,  8.50272859,\n",
       "        0.67301646,  6.98083184,  9.856233  ,  8.32873282,  8.55755817,\n",
       "        5.87386864,  7.49515774,  9.997533  ,  0.54626444,  8.1929663 ])"
      ]
     },
     "execution_count": 138,
     "metadata": {},
     "output_type": "execute_result"
    }
   ],
   "source": [
    "y"
   ]
  },
  {
   "cell_type": "code",
   "execution_count": 139,
   "id": "41e57e6e-9f68-4a2d-ad05-1ea06185737e",
   "metadata": {},
   "outputs": [
    {
     "data": {
      "text/plain": [
       "<matplotlib.collections.PathCollection at 0x2411527a2b0>"
      ]
     },
     "execution_count": 139,
     "metadata": {},
     "output_type": "execute_result"
    },
    {
     "data": {
      "image/png": "[encoded data removed]",
      "text/plain": [
       "<Figure size 360x360 with 1 Axes>"
      ]
     },
     "metadata": {
      "needs_background": "light"
     },
     "output_type": "display_data"
    }
   ],
   "source": [
    "fig = plt.figure(figsize=(5,5))\n",
    "ax= fig.add_subplot()\n",
    "ax.scatter(X.ravel(), y, s=15)"
   ]
  },
  {
   "cell_type": "raw",
   "id": "2135d0c8-bea4-44d7-bb7d-38e9aa47540f",
   "metadata": {},
   "source": [
    "1차원적 ax+b가 아닌 ax*2 +b <<2차원"
   ]
  },
  {
   "cell_type": "code",
   "execution_count": 142,
   "id": "d986b263-492b-4736-acfe-2a9685c5addc",
   "metadata": {},
   "outputs": [],
   "source": [
    "X_test = np.linspace(-0.1, 1.1, 500).reshape(-1,1) #reshaoe을 안하면 1차원 reshape을 하면 2차원"
   ]
  },
  {
   "cell_type": "code",
   "execution_count": 143,
   "id": "1440f9c5-336e-4bf2-bdf3-4445d9111adc",
   "metadata": {
    "collapsed": true,
    "jupyter": {
     "outputs_hidden": true
    },
    "tags": []
   },
   "outputs": [
    {
     "data": {
      "text/plain": [
       "array([[-1.00000000e-01],\n",
       "       [-9.75951904e-02],\n",
       "       [-9.51903808e-02],\n",
       "       [-9.27855711e-02],\n",
       "       [-9.03807615e-02],\n",
       "       [-8.79759519e-02],\n",
       "       [-8.55711423e-02],\n",
       "       [-8.31663327e-02],\n",
       "       [-8.07615230e-02],\n",
       "       [-7.83567134e-02],\n",
       "       [-7.59519038e-02],\n",
       "       [-7.35470942e-02],\n",
       "       [-7.11422846e-02],\n",
       "       [-6.87374749e-02],\n",
       "       [-6.63326653e-02],\n",
       "       [-6.39278557e-02],\n",
       "       [-6.15230461e-02],\n",
       "       [-5.91182365e-02],\n",
       "       [-5.67134269e-02],\n",
       "       [-5.43086172e-02],\n",
       "       [-5.19038076e-02],\n",
       "       [-4.94989980e-02],\n",
       "       [-4.70941884e-02],\n",
       "       [-4.46893788e-02],\n",
       "       [-4.22845691e-02],\n",
       "       [-3.98797595e-02],\n",
       "       [-3.74749499e-02],\n",
       "       [-3.50701403e-02],\n",
       "       [-3.26653307e-02],\n",
       "       [-3.02605210e-02],\n",
       "       [-2.78557114e-02],\n",
       "       [-2.54509018e-02],\n",
       "       [-2.30460922e-02],\n",
       "       [-2.06412826e-02],\n",
       "       [-1.82364729e-02],\n",
       "       [-1.58316633e-02],\n",
       "       [-1.34268537e-02],\n",
       "       [-1.10220441e-02],\n",
       "       [-8.61723447e-03],\n",
       "       [-6.21242485e-03],\n",
       "       [-3.80761523e-03],\n",
       "       [-1.40280561e-03],\n",
       "       [ 1.00200401e-03],\n",
       "       [ 3.40681363e-03],\n",
       "       [ 5.81162325e-03],\n",
       "       [ 8.21643287e-03],\n",
       "       [ 1.06212425e-02],\n",
       "       [ 1.30260521e-02],\n",
       "       [ 1.54308617e-02],\n",
       "       [ 1.78356713e-02],\n",
       "       [ 2.02404810e-02],\n",
       "       [ 2.26452906e-02],\n",
       "       [ 2.50501002e-02],\n",
       "       [ 2.74549098e-02],\n",
       "       [ 2.98597194e-02],\n",
       "       [ 3.22645291e-02],\n",
       "       [ 3.46693387e-02],\n",
       "       [ 3.70741483e-02],\n",
       "       [ 3.94789579e-02],\n",
       "       [ 4.18837675e-02],\n",
       "       [ 4.42885772e-02],\n",
       "       [ 4.66933868e-02],\n",
       "       [ 4.90981964e-02],\n",
       "       [ 5.15030060e-02],\n",
       "       [ 5.39078156e-02],\n",
       "       [ 5.63126253e-02],\n",
       "       [ 5.87174349e-02],\n",
       "       [ 6.11222445e-02],\n",
       "       [ 6.35270541e-02],\n",
       "       [ 6.59318637e-02],\n",
       "       [ 6.83366733e-02],\n",
       "       [ 7.07414830e-02],\n",
       "       [ 7.31462926e-02],\n",
       "       [ 7.55511022e-02],\n",
       "       [ 7.79559118e-02],\n",
       "       [ 8.03607214e-02],\n",
       "       [ 8.27655311e-02],\n",
       "       [ 8.51703407e-02],\n",
       "       [ 8.75751503e-02],\n",
       "       [ 8.99799599e-02],\n",
       "       [ 9.23847695e-02],\n",
       "       [ 9.47895792e-02],\n",
       "       [ 9.71943888e-02],\n",
       "       [ 9.95991984e-02],\n",
       "       [ 1.02004008e-01],\n",
       "       [ 1.04408818e-01],\n",
       "       [ 1.06813627e-01],\n",
       "       [ 1.09218437e-01],\n",
       "       [ 1.11623246e-01],\n",
       "       [ 1.14028056e-01],\n",
       "       [ 1.16432866e-01],\n",
       "       [ 1.18837675e-01],\n",
       "       [ 1.21242485e-01],\n",
       "       [ 1.23647295e-01],\n",
       "       [ 1.26052104e-01],\n",
       "       [ 1.28456914e-01],\n",
       "       [ 1.30861723e-01],\n",
       "       [ 1.33266533e-01],\n",
       "       [ 1.35671343e-01],\n",
       "       [ 1.38076152e-01],\n",
       "       [ 1.40480962e-01],\n",
       "       [ 1.42885772e-01],\n",
       "       [ 1.45290581e-01],\n",
       "       [ 1.47695391e-01],\n",
       "       [ 1.50100200e-01],\n",
       "       [ 1.52505010e-01],\n",
       "       [ 1.54909820e-01],\n",
       "       [ 1.57314629e-01],\n",
       "       [ 1.59719439e-01],\n",
       "       [ 1.62124248e-01],\n",
       "       [ 1.64529058e-01],\n",
       "       [ 1.66933868e-01],\n",
       "       [ 1.69338677e-01],\n",
       "       [ 1.71743487e-01],\n",
       "       [ 1.74148297e-01],\n",
       "       [ 1.76553106e-01],\n",
       "       [ 1.78957916e-01],\n",
       "       [ 1.81362725e-01],\n",
       "       [ 1.83767535e-01],\n",
       "       [ 1.86172345e-01],\n",
       "       [ 1.88577154e-01],\n",
       "       [ 1.90981964e-01],\n",
       "       [ 1.93386774e-01],\n",
       "       [ 1.95791583e-01],\n",
       "       [ 1.98196393e-01],\n",
       "       [ 2.00601202e-01],\n",
       "       [ 2.03006012e-01],\n",
       "       [ 2.05410822e-01],\n",
       "       [ 2.07815631e-01],\n",
       "       [ 2.10220441e-01],\n",
       "       [ 2.12625251e-01],\n",
       "       [ 2.15030060e-01],\n",
       "       [ 2.17434870e-01],\n",
       "       [ 2.19839679e-01],\n",
       "       [ 2.22244489e-01],\n",
       "       [ 2.24649299e-01],\n",
       "       [ 2.27054108e-01],\n",
       "       [ 2.29458918e-01],\n",
       "       [ 2.31863727e-01],\n",
       "       [ 2.34268537e-01],\n",
       "       [ 2.36673347e-01],\n",
       "       [ 2.39078156e-01],\n",
       "       [ 2.41482966e-01],\n",
       "       [ 2.43887776e-01],\n",
       "       [ 2.46292585e-01],\n",
       "       [ 2.48697395e-01],\n",
       "       [ 2.51102204e-01],\n",
       "       [ 2.53507014e-01],\n",
       "       [ 2.55911824e-01],\n",
       "       [ 2.58316633e-01],\n",
       "       [ 2.60721443e-01],\n",
       "       [ 2.63126253e-01],\n",
       "       [ 2.65531062e-01],\n",
       "       [ 2.67935872e-01],\n",
       "       [ 2.70340681e-01],\n",
       "       [ 2.72745491e-01],\n",
       "       [ 2.75150301e-01],\n",
       "       [ 2.77555110e-01],\n",
       "       [ 2.79959920e-01],\n",
       "       [ 2.82364729e-01],\n",
       "       [ 2.84769539e-01],\n",
       "       [ 2.87174349e-01],\n",
       "       [ 2.89579158e-01],\n",
       "       [ 2.91983968e-01],\n",
       "       [ 2.94388778e-01],\n",
       "       [ 2.96793587e-01],\n",
       "       [ 2.99198397e-01],\n",
       "       [ 3.01603206e-01],\n",
       "       [ 3.04008016e-01],\n",
       "       [ 3.06412826e-01],\n",
       "       [ 3.08817635e-01],\n",
       "       [ 3.11222445e-01],\n",
       "       [ 3.13627255e-01],\n",
       "       [ 3.16032064e-01],\n",
       "       [ 3.18436874e-01],\n",
       "       [ 3.20841683e-01],\n",
       "       [ 3.23246493e-01],\n",
       "       [ 3.25651303e-01],\n",
       "       [ 3.28056112e-01],\n",
       "       [ 3.30460922e-01],\n",
       "       [ 3.32865731e-01],\n",
       "       [ 3.35270541e-01],\n",
       "       [ 3.37675351e-01],\n",
       "       [ 3.40080160e-01],\n",
       "       [ 3.42484970e-01],\n",
       "       [ 3.44889780e-01],\n",
       "       [ 3.47294589e-01],\n",
       "       [ 3.49699399e-01],\n",
       "       [ 3.52104208e-01],\n",
       "       [ 3.54509018e-01],\n",
       "       [ 3.56913828e-01],\n",
       "       [ 3.59318637e-01],\n",
       "       [ 3.61723447e-01],\n",
       "       [ 3.64128257e-01],\n",
       "       [ 3.66533066e-01],\n",
       "       [ 3.68937876e-01],\n",
       "       [ 3.71342685e-01],\n",
       "       [ 3.73747495e-01],\n",
       "       [ 3.76152305e-01],\n",
       "       [ 3.78557114e-01],\n",
       "       [ 3.80961924e-01],\n",
       "       [ 3.83366733e-01],\n",
       "       [ 3.85771543e-01],\n",
       "       [ 3.88176353e-01],\n",
       "       [ 3.90581162e-01],\n",
       "       [ 3.92985972e-01],\n",
       "       [ 3.95390782e-01],\n",
       "       [ 3.97795591e-01],\n",
       "       [ 4.00200401e-01],\n",
       "       [ 4.02605210e-01],\n",
       "       [ 4.05010020e-01],\n",
       "       [ 4.07414830e-01],\n",
       "       [ 4.09819639e-01],\n",
       "       [ 4.12224449e-01],\n",
       "       [ 4.14629259e-01],\n",
       "       [ 4.17034068e-01],\n",
       "       [ 4.19438878e-01],\n",
       "       [ 4.21843687e-01],\n",
       "       [ 4.24248497e-01],\n",
       "       [ 4.26653307e-01],\n",
       "       [ 4.29058116e-01],\n",
       "       [ 4.31462926e-01],\n",
       "       [ 4.33867735e-01],\n",
       "       [ 4.36272545e-01],\n",
       "       [ 4.38677355e-01],\n",
       "       [ 4.41082164e-01],\n",
       "       [ 4.43486974e-01],\n",
       "       [ 4.45891784e-01],\n",
       "       [ 4.48296593e-01],\n",
       "       [ 4.50701403e-01],\n",
       "       [ 4.53106212e-01],\n",
       "       [ 4.55511022e-01],\n",
       "       [ 4.57915832e-01],\n",
       "       [ 4.60320641e-01],\n",
       "       [ 4.62725451e-01],\n",
       "       [ 4.65130261e-01],\n",
       "       [ 4.67535070e-01],\n",
       "       [ 4.69939880e-01],\n",
       "       [ 4.72344689e-01],\n",
       "       [ 4.74749499e-01],\n",
       "       [ 4.77154309e-01],\n",
       "       [ 4.79559118e-01],\n",
       "       [ 4.81963928e-01],\n",
       "       [ 4.84368737e-01],\n",
       "       [ 4.86773547e-01],\n",
       "       [ 4.89178357e-01],\n",
       "       [ 4.91583166e-01],\n",
       "       [ 4.93987976e-01],\n",
       "       [ 4.96392786e-01],\n",
       "       [ 4.98797595e-01],\n",
       "       [ 5.01202405e-01],\n",
       "       [ 5.03607214e-01],\n",
       "       [ 5.06012024e-01],\n",
       "       [ 5.08416834e-01],\n",
       "       [ 5.10821643e-01],\n",
       "       [ 5.13226453e-01],\n",
       "       [ 5.15631263e-01],\n",
       "       [ 5.18036072e-01],\n",
       "       [ 5.20440882e-01],\n",
       "       [ 5.22845691e-01],\n",
       "       [ 5.25250501e-01],\n",
       "       [ 5.27655311e-01],\n",
       "       [ 5.30060120e-01],\n",
       "       [ 5.32464930e-01],\n",
       "       [ 5.34869739e-01],\n",
       "       [ 5.37274549e-01],\n",
       "       [ 5.39679359e-01],\n",
       "       [ 5.42084168e-01],\n",
       "       [ 5.44488978e-01],\n",
       "       [ 5.46893788e-01],\n",
       "       [ 5.49298597e-01],\n",
       "       [ 5.51703407e-01],\n",
       "       [ 5.54108216e-01],\n",
       "       [ 5.56513026e-01],\n",
       "       [ 5.58917836e-01],\n",
       "       [ 5.61322645e-01],\n",
       "       [ 5.63727455e-01],\n",
       "       [ 5.66132265e-01],\n",
       "       [ 5.68537074e-01],\n",
       "       [ 5.70941884e-01],\n",
       "       [ 5.73346693e-01],\n",
       "       [ 5.75751503e-01],\n",
       "       [ 5.78156313e-01],\n",
       "       [ 5.80561122e-01],\n",
       "       [ 5.82965932e-01],\n",
       "       [ 5.85370741e-01],\n",
       "       [ 5.87775551e-01],\n",
       "       [ 5.90180361e-01],\n",
       "       [ 5.92585170e-01],\n",
       "       [ 5.94989980e-01],\n",
       "       [ 5.97394790e-01],\n",
       "       [ 5.99799599e-01],\n",
       "       [ 6.02204409e-01],\n",
       "       [ 6.04609218e-01],\n",
       "       [ 6.07014028e-01],\n",
       "       [ 6.09418838e-01],\n",
       "       [ 6.11823647e-01],\n",
       "       [ 6.14228457e-01],\n",
       "       [ 6.16633267e-01],\n",
       "       [ 6.19038076e-01],\n",
       "       [ 6.21442886e-01],\n",
       "       [ 6.23847695e-01],\n",
       "       [ 6.26252505e-01],\n",
       "       [ 6.28657315e-01],\n",
       "       [ 6.31062124e-01],\n",
       "       [ 6.33466934e-01],\n",
       "       [ 6.35871743e-01],\n",
       "       [ 6.38276553e-01],\n",
       "       [ 6.40681363e-01],\n",
       "       [ 6.43086172e-01],\n",
       "       [ 6.45490982e-01],\n",
       "       [ 6.47895792e-01],\n",
       "       [ 6.50300601e-01],\n",
       "       [ 6.52705411e-01],\n",
       "       [ 6.55110220e-01],\n",
       "       [ 6.57515030e-01],\n",
       "       [ 6.59919840e-01],\n",
       "       [ 6.62324649e-01],\n",
       "       [ 6.64729459e-01],\n",
       "       [ 6.67134269e-01],\n",
       "       [ 6.69539078e-01],\n",
       "       [ 6.71943888e-01],\n",
       "       [ 6.74348697e-01],\n",
       "       [ 6.76753507e-01],\n",
       "       [ 6.79158317e-01],\n",
       "       [ 6.81563126e-01],\n",
       "       [ 6.83967936e-01],\n",
       "       [ 6.86372745e-01],\n",
       "       [ 6.88777555e-01],\n",
       "       [ 6.91182365e-01],\n",
       "       [ 6.93587174e-01],\n",
       "       [ 6.95991984e-01],\n",
       "       [ 6.98396794e-01],\n",
       "       [ 7.00801603e-01],\n",
       "       [ 7.03206413e-01],\n",
       "       [ 7.05611222e-01],\n",
       "       [ 7.08016032e-01],\n",
       "       [ 7.10420842e-01],\n",
       "       [ 7.12825651e-01],\n",
       "       [ 7.15230461e-01],\n",
       "       [ 7.17635271e-01],\n",
       "       [ 7.20040080e-01],\n",
       "       [ 7.22444890e-01],\n",
       "       [ 7.24849699e-01],\n",
       "       [ 7.27254509e-01],\n",
       "       [ 7.29659319e-01],\n",
       "       [ 7.32064128e-01],\n",
       "       [ 7.34468938e-01],\n",
       "       [ 7.36873747e-01],\n",
       "       [ 7.39278557e-01],\n",
       "       [ 7.41683367e-01],\n",
       "       [ 7.44088176e-01],\n",
       "       [ 7.46492986e-01],\n",
       "       [ 7.48897796e-01],\n",
       "       [ 7.51302605e-01],\n",
       "       [ 7.53707415e-01],\n",
       "       [ 7.56112224e-01],\n",
       "       [ 7.58517034e-01],\n",
       "       [ 7.60921844e-01],\n",
       "       [ 7.63326653e-01],\n",
       "       [ 7.65731463e-01],\n",
       "       [ 7.68136273e-01],\n",
       "       [ 7.70541082e-01],\n",
       "       [ 7.72945892e-01],\n",
       "       [ 7.75350701e-01],\n",
       "       [ 7.77755511e-01],\n",
       "       [ 7.80160321e-01],\n",
       "       [ 7.82565130e-01],\n",
       "       [ 7.84969940e-01],\n",
       "       [ 7.87374749e-01],\n",
       "       [ 7.89779559e-01],\n",
       "       [ 7.92184369e-01],\n",
       "       [ 7.94589178e-01],\n",
       "       [ 7.96993988e-01],\n",
       "       [ 7.99398798e-01],\n",
       "       [ 8.01803607e-01],\n",
       "       [ 8.04208417e-01],\n",
       "       [ 8.06613226e-01],\n",
       "       [ 8.09018036e-01],\n",
       "       [ 8.11422846e-01],\n",
       "       [ 8.13827655e-01],\n",
       "       [ 8.16232465e-01],\n",
       "       [ 8.18637275e-01],\n",
       "       [ 8.21042084e-01],\n",
       "       [ 8.23446894e-01],\n",
       "       [ 8.25851703e-01],\n",
       "       [ 8.28256513e-01],\n",
       "       [ 8.30661323e-01],\n",
       "       [ 8.33066132e-01],\n",
       "       [ 8.35470942e-01],\n",
       "       [ 8.37875752e-01],\n",
       "       [ 8.40280561e-01],\n",
       "       [ 8.42685371e-01],\n",
       "       [ 8.45090180e-01],\n",
       "       [ 8.47494990e-01],\n",
       "       [ 8.49899800e-01],\n",
       "       [ 8.52304609e-01],\n",
       "       [ 8.54709419e-01],\n",
       "       [ 8.57114228e-01],\n",
       "       [ 8.59519038e-01],\n",
       "       [ 8.61923848e-01],\n",
       "       [ 8.64328657e-01],\n",
       "       [ 8.66733467e-01],\n",
       "       [ 8.69138277e-01],\n",
       "       [ 8.71543086e-01],\n",
       "       [ 8.73947896e-01],\n",
       "       [ 8.76352705e-01],\n",
       "       [ 8.78757515e-01],\n",
       "       [ 8.81162325e-01],\n",
       "       [ 8.83567134e-01],\n",
       "       [ 8.85971944e-01],\n",
       "       [ 8.88376754e-01],\n",
       "       [ 8.90781563e-01],\n",
       "       [ 8.93186373e-01],\n",
       "       [ 8.95591182e-01],\n",
       "       [ 8.97995992e-01],\n",
       "       [ 9.00400802e-01],\n",
       "       [ 9.02805611e-01],\n",
       "       [ 9.05210421e-01],\n",
       "       [ 9.07615230e-01],\n",
       "       [ 9.10020040e-01],\n",
       "       [ 9.12424850e-01],\n",
       "       [ 9.14829659e-01],\n",
       "       [ 9.17234469e-01],\n",
       "       [ 9.19639279e-01],\n",
       "       [ 9.22044088e-01],\n",
       "       [ 9.24448898e-01],\n",
       "       [ 9.26853707e-01],\n",
       "       [ 9.29258517e-01],\n",
       "       [ 9.31663327e-01],\n",
       "       [ 9.34068136e-01],\n",
       "       [ 9.36472946e-01],\n",
       "       [ 9.38877756e-01],\n",
       "       [ 9.41282565e-01],\n",
       "       [ 9.43687375e-01],\n",
       "       [ 9.46092184e-01],\n",
       "       [ 9.48496994e-01],\n",
       "       [ 9.50901804e-01],\n",
       "       [ 9.53306613e-01],\n",
       "       [ 9.55711423e-01],\n",
       "       [ 9.58116232e-01],\n",
       "       [ 9.60521042e-01],\n",
       "       [ 9.62925852e-01],\n",
       "       [ 9.65330661e-01],\n",
       "       [ 9.67735471e-01],\n",
       "       [ 9.70140281e-01],\n",
       "       [ 9.72545090e-01],\n",
       "       [ 9.74949900e-01],\n",
       "       [ 9.77354709e-01],\n",
       "       [ 9.79759519e-01],\n",
       "       [ 9.82164329e-01],\n",
       "       [ 9.84569138e-01],\n",
       "       [ 9.86973948e-01],\n",
       "       [ 9.89378758e-01],\n",
       "       [ 9.91783567e-01],\n",
       "       [ 9.94188377e-01],\n",
       "       [ 9.96593186e-01],\n",
       "       [ 9.98997996e-01],\n",
       "       [ 1.00140281e+00],\n",
       "       [ 1.00380762e+00],\n",
       "       [ 1.00621242e+00],\n",
       "       [ 1.00861723e+00],\n",
       "       [ 1.01102204e+00],\n",
       "       [ 1.01342685e+00],\n",
       "       [ 1.01583166e+00],\n",
       "       [ 1.01823647e+00],\n",
       "       [ 1.02064128e+00],\n",
       "       [ 1.02304609e+00],\n",
       "       [ 1.02545090e+00],\n",
       "       [ 1.02785571e+00],\n",
       "       [ 1.03026052e+00],\n",
       "       [ 1.03266533e+00],\n",
       "       [ 1.03507014e+00],\n",
       "       [ 1.03747495e+00],\n",
       "       [ 1.03987976e+00],\n",
       "       [ 1.04228457e+00],\n",
       "       [ 1.04468938e+00],\n",
       "       [ 1.04709419e+00],\n",
       "       [ 1.04949900e+00],\n",
       "       [ 1.05190381e+00],\n",
       "       [ 1.05430862e+00],\n",
       "       [ 1.05671343e+00],\n",
       "       [ 1.05911824e+00],\n",
       "       [ 1.06152305e+00],\n",
       "       [ 1.06392786e+00],\n",
       "       [ 1.06633267e+00],\n",
       "       [ 1.06873747e+00],\n",
       "       [ 1.07114228e+00],\n",
       "       [ 1.07354709e+00],\n",
       "       [ 1.07595190e+00],\n",
       "       [ 1.07835671e+00],\n",
       "       [ 1.08076152e+00],\n",
       "       [ 1.08316633e+00],\n",
       "       [ 1.08557114e+00],\n",
       "       [ 1.08797595e+00],\n",
       "       [ 1.09038076e+00],\n",
       "       [ 1.09278557e+00],\n",
       "       [ 1.09519038e+00],\n",
       "       [ 1.09759519e+00],\n",
       "       [ 1.10000000e+00]])"
      ]
     },
     "execution_count": 143,
     "metadata": {},
     "output_type": "execute_result"
    }
   ],
   "source": [
    "X_test"
   ]
  },
  {
   "cell_type": "code",
   "execution_count": 155,
   "id": "203cfaa3-ae11-4035-9a75-24660b93febd",
   "metadata": {},
   "outputs": [],
   "source": [
    "poly2 = PolynomialFeatures(2) # 괄호안의 수만큼 변수를 늘려줌"
   ]
  },
  {
   "cell_type": "code",
   "execution_count": 156,
   "id": "9f08c515-7e40-4cab-b2ab-121777d027d8",
   "metadata": {},
   "outputs": [],
   "source": [
    "X_poly2= poly2.fit_transform(X)"
   ]
  },
  {
   "cell_type": "code",
   "execution_count": 157,
   "id": "2918aeae-68de-43d9-8321-dfe2a6ee791b",
   "metadata": {},
   "outputs": [
    {
     "data": {
      "text/plain": [
       "array([0.17390735])"
      ]
     },
     "execution_count": 157,
     "metadata": {},
     "output_type": "execute_result"
    }
   ],
   "source": [
    "X[0]"
   ]
  },
  {
   "cell_type": "code",
   "execution_count": 158,
   "id": "086eae67-eb1b-41e4-9507-053e15fd3804",
   "metadata": {},
   "outputs": [
    {
     "data": {
      "text/plain": [
       "array([1.        , 0.17390735, 0.03024377])"
      ]
     },
     "execution_count": 158,
     "metadata": {},
     "output_type": "execute_result"
    }
   ],
   "source": [
    "X_poly2[0]  # [ 1, X원본, X*2값]"
   ]
  },
  {
   "cell_type": "code",
   "execution_count": 159,
   "id": "47a91564-0d0a-46e5-aef1-8879340a9665",
   "metadata": {},
   "outputs": [],
   "source": [
    "poly3 = PolynomialFeatures(3) "
   ]
  },
  {
   "cell_type": "code",
   "execution_count": 161,
   "id": "c904f39f-dbf0-47f6-aed4-d69a2f93d3af",
   "metadata": {},
   "outputs": [],
   "source": [
    "X_poly3= poly3.fit_transform(X)"
   ]
  },
  {
   "cell_type": "code",
   "execution_count": 162,
   "id": "01f0585d-b0ec-4eb8-92f1-044a1e7507a3",
   "metadata": {},
   "outputs": [
    {
     "data": {
      "text/plain": [
       "array([1.        , 0.17390735, 0.03024377, 0.00525961])"
      ]
     },
     "execution_count": 162,
     "metadata": {},
     "output_type": "execute_result"
    }
   ],
   "source": [
    "X_poly3[0]"
   ]
  },
  {
   "cell_type": "code",
   "execution_count": 163,
   "id": "336ef3ed-d9e6-4d0b-b7e1-e87c7a700439",
   "metadata": {},
   "outputs": [],
   "source": [
    "lr= LinearRegression()"
   ]
  },
  {
   "cell_type": "code",
   "execution_count": 164,
   "id": "4e8cc016-9d3d-4b9d-a2ca-7b3099cb2a2a",
   "metadata": {},
   "outputs": [
    {
     "data": {
      "text/plain": [
       "LinearRegression()"
      ]
     },
     "execution_count": 164,
     "metadata": {},
     "output_type": "execute_result"
    }
   ],
   "source": [
    "lr.fit(X_poly, y)"
   ]
  },
  {
   "cell_type": "code",
   "execution_count": 165,
   "id": "2bb05ea7-5413-4e7f-95cf-9d772df5532d",
   "metadata": {},
   "outputs": [],
   "source": [
    "X_poly = poly.transform(X)\n",
    "X_test_poly = poly.transform(X_test)"
   ]
  },
  {
   "cell_type": "code",
   "execution_count": 166,
   "id": "49bb8e61-b6ec-4052-930c-4f179a0ca076",
   "metadata": {},
   "outputs": [],
   "source": [
    "y_test = lr.predict(X_test_poly)"
   ]
  },
  {
   "cell_type": "code",
   "execution_count": 167,
   "id": "4729c2f0-e77b-46d3-8de4-c0eb744acb74",
   "metadata": {
    "collapsed": true,
    "jupyter": {
     "outputs_hidden": true
    },
    "tags": []
   },
   "outputs": [
    {
     "data": {
      "text/plain": [
       "array([-1.34013187, -1.2698606 , -1.19981531, -1.12999599, -1.06040263,\n",
       "       -0.99103525, -0.92189383, -0.85297838, -0.78428891, -0.7158254 ,\n",
       "       -0.64758786, -0.57957629, -0.51179069, -0.44423105, -0.37689739,\n",
       "       -0.3097897 , -0.24290797, -0.17625222, -0.10982243, -0.04361861,\n",
       "        0.02235923,  0.08811111,  0.15363702,  0.21893696,  0.28401093,\n",
       "        0.34885894,  0.41348097,  0.47787703,  0.54204713,  0.60599125,\n",
       "        0.66970941,  0.7332016 ,  0.79646781,  0.85950806,  0.92232234,\n",
       "        0.98491065,  1.04727299,  1.10940937,  1.17131977,  1.2330042 ,\n",
       "        1.29446267,  1.35569516,  1.41670169,  1.47748225,  1.53803683,\n",
       "        1.59836545,  1.6584681 ,  1.71834478,  1.77799549,  1.83742023,\n",
       "        1.89661901,  1.95559181,  2.01433865,  2.07285951,  2.13115441,\n",
       "        2.18922333,  2.24706629,  2.30468328,  2.3620743 ,  2.41923935,\n",
       "        2.47617843,  2.53289154,  2.58937868,  2.64563986,  2.70167506,\n",
       "        2.7574843 ,  2.81306756,  2.86842486,  2.92355619,  2.97846155,\n",
       "        3.03314094,  3.08759436,  3.14182181,  3.19582329,  3.2495988 ,\n",
       "        3.30314835,  3.35647192,  3.40956952,  3.46244116,  3.51508683,\n",
       "        3.56750652,  3.61970025,  3.67166801,  3.7234098 ,  3.77492562,\n",
       "        3.82621548,  3.87727936,  3.92811727,  3.97872922,  4.02911519,\n",
       "        4.0792752 ,  4.12920923,  4.1789173 ,  4.2283994 ,  4.27765553,\n",
       "        4.32668569,  4.37548988,  4.4240681 ,  4.47242035,  4.52054664,\n",
       "        4.56844695,  4.6161213 ,  4.66356967,  4.71079208,  4.75778852,\n",
       "        4.80455898,  4.85110348,  4.89742201,  4.94351457,  4.98938117,\n",
       "        5.03502179,  5.08043644,  5.12562513,  5.17058784,  5.21532459,\n",
       "        5.25983536,  5.30412017,  5.34817901,  5.39201188,  5.43561878,\n",
       "        5.47899971,  5.52215467,  5.56508366,  5.60778668,  5.65026374,\n",
       "        5.69251482,  5.73453994,  5.77633909,  5.81791226,  5.85925947,\n",
       "        5.90038071,  5.94127598,  5.98194528,  6.02238861,  6.06260597,\n",
       "        6.10259737,  6.14236279,  6.18190225,  6.22121573,  6.26030325,\n",
       "        6.2991648 ,  6.33780037,  6.37620998,  6.41439362,  6.45235129,\n",
       "        6.49008299,  6.52758873,  6.56486849,  6.60192228,  6.63875011,\n",
       "        6.67535196,  6.71172785,  6.74787777,  6.78380172,  6.8194997 ,\n",
       "        6.8549717 ,  6.89021775,  6.92523782,  6.96003192,  6.99460005,\n",
       "        7.02894222,  7.06305841,  7.09694864,  7.13061289,  7.16405118,\n",
       "        7.1972635 ,  7.23024985,  7.26301023,  7.29554464,  7.32785308,\n",
       "        7.35993555,  7.39179205,  7.42342259,  7.45482715,  7.48600575,\n",
       "        7.51695837,  7.54768503,  7.57818572,  7.60846044,  7.63850919,\n",
       "        7.66833197,  7.69792878,  7.72729962,  7.75644449,  7.7853634 ,\n",
       "        7.81405633,  7.8425233 ,  7.87076429,  7.89877932,  7.92656838,\n",
       "        7.95413147,  7.98146859,  8.00857974,  8.03546492,  8.06212413,\n",
       "        8.08855737,  8.11476465,  8.14074595,  8.16650129,  8.19203065,\n",
       "        8.21733405,  8.24241148,  8.26726293,  8.29188842,  8.31628794,\n",
       "        8.3404615 ,  8.36440908,  8.38813069,  8.41162633,  8.43489601,\n",
       "        8.45793971,  8.48075745,  8.50334922,  8.52571501,  8.54785484,\n",
       "        8.5697687 ,  8.59145659,  8.61291851,  8.63415447,  8.65516445,\n",
       "        8.67594846,  8.69650651,  8.71683858,  8.73694469,  8.75682482,\n",
       "        8.77647899,  8.79590719,  8.81510942,  8.83408568,  8.85283597,\n",
       "        8.87136029,  8.88965864,  8.90773103,  8.92557744,  8.94319789,\n",
       "        8.96059236,  8.97776087,  8.99470341,  9.01141998,  9.02791058,\n",
       "        9.04417521,  9.06021387,  9.07602656,  9.09161328,  9.10697403,\n",
       "        9.12210882,  9.13701763,  9.15170048,  9.16615736,  9.18038826,\n",
       "        9.1943932 ,  9.20817217,  9.22172517,  9.2350522 ,  9.24815326,\n",
       "        9.26102836,  9.27367748,  9.28610063,  9.29829782,  9.31026903,\n",
       "        9.32201428,  9.33353356,  9.34482687,  9.35589421,  9.36673558,\n",
       "        9.37735098,  9.38774041,  9.39790387,  9.40784136,  9.41755289,\n",
       "        9.42703844,  9.43629803,  9.44533165,  9.45413929,  9.46272097,\n",
       "        9.47107668,  9.47920642,  9.48711019,  9.49478799,  9.50223983,\n",
       "        9.50946569,  9.51646558,  9.52323951,  9.52978746,  9.53610945,\n",
       "        9.54220547,  9.54807552,  9.55371959,  9.5591377 ,  9.56432984,\n",
       "        9.56929602,  9.57403622,  9.57855045,  9.58283872,  9.58690101,\n",
       "        9.59073734,  9.59434769,  9.59773208,  9.6008905 ,  9.60382295,\n",
       "        9.60652943,  9.60900994,  9.61126448,  9.61329305,  9.61509565,\n",
       "        9.61667229,  9.61802295,  9.61914765,  9.62004637,  9.62071913,\n",
       "        9.62116592,  9.62138674,  9.62138159,  9.62115047,  9.62069338,\n",
       "        9.62001032,  9.6191013 ,  9.6179663 ,  9.61660533,  9.6150184 ,\n",
       "        9.6132055 ,  9.61116662,  9.60890178,  9.60641097,  9.60369419,\n",
       "        9.60075144,  9.59758272,  9.59418803,  9.59056738,  9.58672075,\n",
       "        9.58264815,  9.57834959,  9.57382506,  9.56907455,  9.56409808,\n",
       "        9.55889564,  9.55346723,  9.54781285,  9.5419325 ,  9.53582618,\n",
       "        9.5294939 ,  9.52293564,  9.51615141,  9.50914122,  9.50190506,\n",
       "        9.49444292,  9.48675482,  9.47884075,  9.47070071,  9.4623347 ,\n",
       "        9.45374272,  9.44492477,  9.43588086,  9.42661097,  9.41711511,\n",
       "        9.40739329,  9.3974455 ,  9.38727173,  9.376872  ,  9.3662463 ,\n",
       "        9.35539463,  9.34431699,  9.33301338,  9.3214838 ,  9.30972825,\n",
       "        9.29774674,  9.28553925,  9.2731058 ,  9.26044637,  9.24756098,\n",
       "        9.23444962,  9.22111229,  9.20754899,  9.19375972,  9.17974448,\n",
       "        9.16550327,  9.15103609,  9.13634295,  9.12142383,  9.10627874,\n",
       "        9.09090769,  9.07531067,  9.05948768,  9.04343871,  9.02716378,\n",
       "        9.01066288,  8.99393601,  8.97698318,  8.95980437,  8.94239959,\n",
       "        8.92476885,  8.90691213,  8.88882945,  8.87052079,  8.85198617,\n",
       "        8.83322558,  8.81423902,  8.79502649,  8.77558799,  8.75592352,\n",
       "        8.73603309,  8.71591668,  8.6955743 ,  8.67500596,  8.65421164,\n",
       "        8.63319136,  8.61194511,  8.59047289,  8.5687747 ,  8.54685054,\n",
       "        8.52470041,  8.50232431,  8.47972224,  8.4568942 ,  8.4338402 ,\n",
       "        8.41056022,  8.38705428,  8.36332237,  8.33936448,  8.31518063,\n",
       "        8.29077081,  8.26613502,  8.24127326,  8.21618553,  8.19087184,\n",
       "        8.16533217,  8.13956653,  8.11357493,  8.08735735,  8.06091381,\n",
       "        8.0342443 ,  8.00734882,  7.98022736,  7.95287994,  7.92530656,\n",
       "        7.8975072 ,  7.86948187,  7.84123057,  7.81275331,  7.78405007,\n",
       "        7.75512087,  7.72596569,  7.69658455,  7.66697744,  7.63714436,\n",
       "        7.60708531,  7.57680029,  7.5462893 ,  7.51555234,  7.48458942,\n",
       "        7.45340052,  7.42198565,  7.39034482,  7.35847802,  7.32638524,\n",
       "        7.2940665 ,  7.26152179,  7.22875111,  7.19575446,  7.16253184,\n",
       "        7.12908325,  7.0954087 ,  7.06150817,  7.02738168,  6.99302921,\n",
       "        6.95845078,  6.92364638,  6.888616  ,  6.85335966,  6.81787735,\n",
       "        6.78216907,  6.74623482,  6.71007461,  6.67368842,  6.63707626,\n",
       "        6.60023814,  6.56317404,  6.52588398,  6.48836795,  6.45062595,\n",
       "        6.41265797,  6.37446403,  6.33604412,  6.29739825,  6.2585264 ,\n",
       "        6.21942858,  6.18010479,  6.14055504,  6.10077931,  6.06077762,\n",
       "        6.02054996,  5.98009633,  5.93941672,  5.89851115,  5.85737961,\n",
       "        5.81602211,  5.77443863,  5.73262918,  5.69059376,  5.64833238])"
      ]
     },
     "execution_count": 167,
     "metadata": {},
     "output_type": "execute_result"
    }
   ],
   "source": [
    "y_test"
   ]
  },
  {
   "cell_type": "code",
   "execution_count": 168,
   "id": "d0bdb335-2c66-4641-83b6-40dc735bed6b",
   "metadata": {},
   "outputs": [
    {
     "data": {
      "image/png": "[encoded data removed]",
      "text/plain": [
       "<Figure size 720x720 with 1 Axes>"
      ]
     },
     "metadata": {
      "needs_background": "light"
     },
     "output_type": "display_data"
    }
   ],
   "source": [
    "fig = plt.figure(figsize=(10,10))\n",
    "ax= fig.add_subplot(2,2,2)\n",
    "ax.scatter(X.ravel(), y, s=15)\n",
    "ax.plot(X_test.ravel(), y_test, label='degree=2')\n",
    "ax.set_xlim(-0.1, 1.0)\n",
    "ax.set_ylim(-2, 12)\n",
    "ax.legend(loc='best');"
   ]
  },
  {
   "cell_type": "raw",
   "id": "56c1237e-790d-4839-89cb-a7b059afd7c2",
   "metadata": {},
   "source": [
    "차원을 높여가면서 정확한 예측을 할 수 있다~\n",
    "너무 높이면 과적합~\n",
    "train / test를 가장 잘 나타내는 최적의 degree를 찾아야함\n",
    "다항회귀 - 모델훈련\n",
    "https://yganalyst.github.io/ml/ML_chap3-3/ 참고"
   ]
  },
  {
   "cell_type": "raw",
   "id": "0a9ed570-3bac-45d1-8b42-24867439596a",
   "metadata": {},
   "source": [
    "for 문을 이용하여 각 degree에 해당하는 그래프를 그려보자!"
   ]
  },
  {
   "cell_type": "code",
   "execution_count": 170,
   "id": "ee5151bc-f8bd-469c-b905-875b1e190bdb",
   "metadata": {},
   "outputs": [
    {
     "data": {
      "image/png": "[encoded data removed]",
      "text/plain": [
       "<Figure size 864x720 with 4 Axes>"
      ]
     },
     "metadata": {
      "needs_background": "light"
     },
     "output_type": "display_data"
    }
   ],
   "source": [
    "fig = plt.figure(figsize=(12,10))\n",
    "X_test = np.linspace(-0.1, 1.1, 500).reshape(-1,1)\n",
    "for i , degree in enumerate([1,3,6,10], start=1) :\n",
    "    \n",
    "    y_test=make_pipeline(PolynomialFeatures(degree), LinearRegression()).fit(X,y).predict(X_test)\n",
    "    #make pipeline으로 fit_transform 안하고도 전부다가능?\n",
    "    \n",
    "    ax= fig.add_subplot(2,2,i)\n",
    "    ax.scatter(X.ravel(), y, s=15)\n",
    "    ax.plot(X_test.ravel(), y_test, label='degree'+str(degree))\n",
    "    ax.set_xlim(-0.1, 1.0)\n",
    "    ax.set_ylim(-2, 12)\n",
    "    ax.legend(loc='best');"
   ]
  },
  {
   "cell_type": "raw",
   "id": "8b2a1cc0-3d0a-4fe0-8cb1-850b6a7c8e91",
   "metadata": {},
   "source": [
    "1차원은 선형 >> 예측이 힘듬.\n",
    "3차원은 두번 꺾임 >> 대충 적합하다?\n",
    "6차원은 3차원보다 더욱비슷\n",
    "10차원은 더더욱 비슷~\n",
    "더 고차원일수록 더 데이터를 잘나타냄 >> 과적합\n",
    "\n",
    "결국 train / test score를 degree와 비교 >>>learning curve "
   ]
  },
  {
   "cell_type": "code",
   "execution_count": 172,
   "id": "c8190839-fb13-4aff-840a-4ecb2716f9ae",
   "metadata": {},
   "outputs": [],
   "source": [
    "degree = np.arange(0, 21)"
   ]
  },
  {
   "cell_type": "code",
   "execution_count": 173,
   "id": "83a9647f-7437-40d5-afb3-05a733ede9b8",
   "metadata": {},
   "outputs": [
    {
     "data": {
      "text/plain": [
       "array([ 0,  1,  2,  3,  4,  5,  6,  7,  8,  9, 10, 11, 12, 13, 14, 15, 16,\n",
       "       17, 18, 19, 20])"
      ]
     },
     "execution_count": 173,
     "metadata": {},
     "output_type": "execute_result"
    }
   ],
   "source": [
    "degree"
   ]
  },
  {
   "cell_type": "code",
   "execution_count": 174,
   "id": "1f451730-d8d0-46fa-8cca-5d824b717b84",
   "metadata": {},
   "outputs": [],
   "source": [
    "model = make_pipeline(PolynomialFeatures(), LinearRegression())"
   ]
  },
  {
   "cell_type": "code",
   "execution_count": 179,
   "id": "3af8de46-c461-4f88-886c-c6a92e859526",
   "metadata": {},
   "outputs": [],
   "source": [
    "train_score, test_score = validation_curve(model, X, y, param_name='polynomialfeatures__degree', \\\n",
    "                                           param_range=degree, cv=7) #cv 7은 데이터를 7등분"
   ]
  },
  {
   "cell_type": "code",
   "execution_count": 181,
   "id": "51dac45d-e692-40f7-b8f2-a256060eb8cb",
   "metadata": {},
   "outputs": [
    {
     "data": {
      "text/plain": [
       "array([[0.        , 0.        , 0.        , 0.        , 0.        ,\n",
       "        0.        , 0.        ],\n",
       "       [0.72060505, 0.73235327, 0.71615237, 0.75517775, 0.6979951 ,\n",
       "        0.74351307, 0.71104367],\n",
       "       [0.8966661 , 0.89427274, 0.88460403, 0.90482859, 0.87685741,\n",
       "        0.90106431, 0.90420325],\n",
       "       [0.92830604, 0.93586649, 0.93273606, 0.95501615, 0.91919623,\n",
       "        0.92673491, 0.9402878 ],\n",
       "       [0.9386132 , 0.94947024, 0.94775706, 0.9632512 , 0.93425141,\n",
       "        0.94148127, 0.94641559],\n",
       "       [0.94121068, 0.94988755, 0.94891078, 0.9637873 , 0.93481636,\n",
       "        0.94464031, 0.94706837],\n",
       "       [0.94280027, 0.95011515, 0.95028793, 0.96555698, 0.93622172,\n",
       "        0.94504929, 0.94928043],\n",
       "       [0.94465044, 0.95166164, 0.95034312, 0.96584535, 0.93731514,\n",
       "        0.94571392, 0.95274503],\n",
       "       [0.94465097, 0.95169173, 0.95126473, 0.96709791, 0.93735454,\n",
       "        0.9484231 , 0.95274521],\n",
       "       [0.94935834, 0.9537075 , 0.95317786, 0.96799601, 0.93964532,\n",
       "        0.9490145 , 0.9527462 ],\n",
       "       [0.94936121, 0.95532262, 0.95403569, 0.97143334, 0.94283046,\n",
       "        0.95302621, 0.95316414],\n",
       "       [0.95004308, 0.95545384, 0.95410179, 0.97176131, 0.94606336,\n",
       "        0.95487769, 0.95317637],\n",
       "       [0.95800395, 0.95952176, 0.95867405, 0.97180582, 0.94724875,\n",
       "        0.95489589, 0.95812976],\n",
       "       [0.96018866, 0.960872  , 0.9604493 , 0.9761954 , 0.94796879,\n",
       "        0.95489902, 0.96158139],\n",
       "       [0.96062421, 0.96155007, 0.96186498, 0.97706   , 0.94977215,\n",
       "        0.95582416, 0.96158537],\n",
       "       [0.9618062 , 0.96211504, 0.96199219, 0.97734911, 0.95020002,\n",
       "        0.95586154, 0.96163618],\n",
       "       [0.96182216, 0.96288239, 0.96295942, 0.97858439, 0.95024067,\n",
       "        0.95608857, 0.96170853],\n",
       "       [0.96184622, 0.96412667, 0.97046506, 0.97865438, 0.95024302,\n",
       "        0.95647154, 0.96181987],\n",
       "       [0.96186251, 0.96687087, 0.9731115 , 0.98070647, 0.95894667,\n",
       "        0.95647738, 0.96850448],\n",
       "       [0.9665684 , 0.96784028, 0.9734629 , 0.98096699, 0.9599226 ,\n",
       "        0.95962208, 0.96889167],\n",
       "       [0.96779683, 0.96766164, 0.97365303, 0.98187286, 0.96352655,\n",
       "        0.95993886, 0.96905814]])"
      ]
     },
     "execution_count": 181,
     "metadata": {},
     "output_type": "execute_result"
    }
   ],
   "source": [
    "train_score #list 하나에 결괏값이 7개 (cv=7때문에) // list하나씩의 의미는 polynomial 차원 수치가 1, 2, 3, 총 20개"
   ]
  },
  {
   "cell_type": "code",
   "execution_count": 182,
   "id": "f737f384-1f39-429a-9f0e-b9be1d1735d3",
   "metadata": {},
   "outputs": [
    {
     "data": {
      "text/plain": [
       "<matplotlib.legend.Legend at 0x24116ef0820>"
      ]
     },
     "execution_count": 182,
     "metadata": {},
     "output_type": "execute_result"
    },
    {
     "data": {
      "image/png": "[encoded data removed]",
      "text/plain": [
       "<Figure size 576x360 with 1 Axes>"
      ]
     },
     "metadata": {
      "needs_background": "light"
     },
     "output_type": "display_data"
    }
   ],
   "source": [
    "plt.figure(figsize=(8,5))\n",
    "plt.plot(degree, np.median(train_score, 1), \"b-\", label=\"training score\")\n",
    "plt.plot(degree, np.median(test_score, 1), \"r-\", label=\"validation score\")\n",
    "plt.ylim(0,1)\n",
    "plt.xlabel(\"degree\")\n",
    "plt.ylabel(\"score\")\n",
    "plt.legend(loc=\"best\")"
   ]
  },
  {
   "cell_type": "raw",
   "id": "01d9f7c8-e4d8-416d-b4c8-fcbc4e508c85",
   "metadata": {},
   "source": [
    "degree 3이 이 데이터를 가장 잘대표할 수 있는 모델이 된다\n",
    ">>Polynomial에 degree값을 3을 줘야겠구나~\n",
    "이런식으로 파라미터의 최적화 값을 찾는 것이 validation_curve~!  << 튜닝 >>"
   ]
  },
  {
   "cell_type": "markdown",
   "id": "9c9c93de-8479-4711-b3d3-48c5bd039bc0",
   "metadata": {},
   "source": [
    "-----------------"
   ]
  },
  {
   "cell_type": "raw",
   "id": "d9f587a5-8fa8-4289-ac95-c1b7c2b5b7e6",
   "metadata": {},
   "source": [
    "train size와 test size중 어떻게 나누는 것이 적합할까?"
   ]
  },
  {
   "cell_type": "code",
   "execution_count": 187,
   "id": "4d48774d-4989-441d-9300-ded603d95da9",
   "metadata": {},
   "outputs": [
    {
     "data": {
      "text/plain": [
       "array([0.1   , 0.1375, 0.175 , 0.2125, 0.25  , 0.2875, 0.325 , 0.3625,\n",
       "       0.4   , 0.4375, 0.475 , 0.5125, 0.55  , 0.5875, 0.625 , 0.6625,\n",
       "       0.7   , 0.7375, 0.775 , 0.8125, 0.85  , 0.8875, 0.925 , 0.9625,\n",
       "       1.    ])"
      ]
     },
     "execution_count": 187,
     "metadata": {},
     "output_type": "execute_result"
    }
   ],
   "source": [
    "np.linspace(0.1, 1, 25) #이걸 train size에 넣을거임"
   ]
  },
  {
   "cell_type": "code",
   "execution_count": 192,
   "id": "8cf6158c-2bc4-4c62-99cc-46eb2c8819a2",
   "metadata": {},
   "outputs": [
    {
     "data": {
      "image/png": "[encoded data removed]",
      "text/plain": [
       "<Figure size 1152x432 with 2 Axes>"
      ]
     },
     "metadata": {
      "needs_background": "light"
     },
     "output_type": "display_data"
    }
   ],
   "source": [
    "fig, ax = plt.subplots(1,2, figsize=(16,6))\n",
    "for i, degree in enumerate([3,9]) :\n",
    "    model = make_pipeline(PolynomialFeatures(degree), LinearRegression())\n",
    "    n, train_lc, test_lc = learning_curve(model, X, y, cv=7, train_sizes=np.linspace(0.1, 1, 25))\n",
    "    ax[i].plot(n, np.mean(train_lc, 1), \"b-\", label=\"training score\")\n",
    "    ax[i].plot(n, np.mean(test_lc, 1), \"r-\", label=\"validation score\")\n",
    "    ax[i].hlines(np.mean([train_lc[-1], test_lc[-1]]), n[0], n[-1], color='gray', linestyle='dashed')\n",
    "    ax[i].set(xlim=(n[0], n[-1]), ylim=(0,1), xlabel=\"training size\", ylabel=\"score\")\n",
    "    ax[i].set_title(\"degree= {}\".format(degree), size=20)\n",
    "    ax[i].legend(loc='best');"
   ]
  },
  {
   "cell_type": "raw",
   "id": "4aa023a5-6cb0-4157-9113-79818c9786bc",
   "metadata": {},
   "source": [
    "* 해석 :\n",
    "train도 높으면서 validation도 높은 값을 선택하는 것이 중요\n",
    "차원이 높으면 train_size가 충분히 많아야 validation score 측정가능\n",
    "차원이 높으면 과적합될 확률이 높기 떄문에 될 수 있으면 낮은 degree를 쓰는게 맞음.\n",
    "비슷한 train validation 차이라면 degree가 낮은 값을 쓰는게 맞음"
   ]
  },
  {
   "cell_type": "code",
   "execution_count": null,
   "id": "28def900-edc2-41d9-ac41-2c452329a67a",
   "metadata": {},
   "outputs": [],
   "source": []
  }
 ],
 "metadata": {
  "kernelspec": {
   "display_name": "Python 3 (ipykernel)",
   "language": "python",
   "name": "python3"
  },
  "language_info": {
   "codemirror_mode": {
    "name": "ipython",
    "version": 3
   },
   "file_extension": ".py",
   "mimetype": "text/x-python",
   "name": "python",
   "nbconvert_exporter": "python",
   "pygments_lexer": "ipython3",
   "version": "3.9.12"
  }
 },
 "nbformat": 4,
 "nbformat_minor": 5
}
