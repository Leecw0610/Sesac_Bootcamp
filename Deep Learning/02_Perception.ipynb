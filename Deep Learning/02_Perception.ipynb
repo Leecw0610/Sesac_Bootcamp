{
 "cells": [
  {
   "cell_type": "markdown",
   "id": "1450ecf7-941a-45b9-8429-6faa0b579220",
   "metadata": {},
   "source": [
    "# AND 게이트"
   ]
  },
  {
   "cell_type": "code",
   "execution_count": 60,
   "id": "c943f40c",
   "metadata": {},
   "outputs": [],
   "source": [
    "import numpy as np"
   ]
  },
  {
   "cell_type": "code",
   "execution_count": 61,
   "id": "05d2ee45-6504-4f4d-8c0a-536ae2bfec34",
   "metadata": {},
   "outputs": [],
   "source": [
    "def AND(x1, x2) :\n",
    "    w1, w2, theta = 1,1,1 # 0.5,0.5,0.7\n",
    "    tmp = x1 * w1 + x2 * w2\n",
    "    \n",
    "    if tmp <= theta :\n",
    "        return 0\n",
    "    elif tmp > theta :\n",
    "        return 1"
   ]
  },
  {
   "cell_type": "code",
   "execution_count": 62,
   "id": "ab2a4d9e-37a4-493c-a268-dd6f016be244",
   "metadata": {},
   "outputs": [
    {
     "name": "stdout",
     "output_type": "stream",
     "text": [
      "AND(0,0) :  0\n",
      "AND(1,0) :  0\n",
      "AND(0,1) :  0\n",
      "AND(1,1) :  1\n"
     ]
    }
   ],
   "source": [
    "print(\"AND(0,0) : \", AND(0,0))\n",
    "print(\"AND(1,0) : \", AND(1,0))\n",
    "print(\"AND(0,1) : \", AND(0,1))\n",
    "print(\"AND(1,1) : \", AND(1,1))"
   ]
  },
  {
   "cell_type": "code",
   "execution_count": 63,
   "id": "2b221b7f-6f8b-49eb-9958-8a54938bcd1d",
   "metadata": {},
   "outputs": [],
   "source": [
    "def OR(x1, x2) :\n",
    "    w1, w2, theta = 0.5,0.5,0\n",
    "    tmp = x1 * w1 + x2 * w2\n",
    "    \n",
    "    if tmp <= theta :\n",
    "        return 0\n",
    "    elif tmp > theta :\n",
    "        return 1"
   ]
  },
  {
   "cell_type": "code",
   "execution_count": 64,
   "id": "b66b65cb-c814-4632-9c05-5f537549d603",
   "metadata": {},
   "outputs": [
    {
     "name": "stdout",
     "output_type": "stream",
     "text": [
      "OR(0,0) :  0\n",
      "OR(1,0) :  1\n",
      "OR(0,1) :  1\n",
      "OR(1,1) :  1\n"
     ]
    }
   ],
   "source": [
    "print(\"OR(0,0) : \", OR(0,0))\n",
    "print(\"OR(1,0) : \", OR(1,0))\n",
    "print(\"OR(0,1) : \", OR(0,1))\n",
    "print(\"OR(1,1) : \", OR(1,1))"
   ]
  },
  {
   "cell_type": "code",
   "execution_count": 65,
   "id": "057e5103-a99d-45be-991b-a8a3577bf5c9",
   "metadata": {},
   "outputs": [],
   "source": [
    "def NAND(x1, x2) :\n",
    "    w1, w2, theta = -1,-1,-1\n",
    "    tmp = x1 * w1 + x2 * w2\n",
    "    \n",
    "    if tmp <= theta :\n",
    "        return 0\n",
    "    elif tmp > theta :\n",
    "        return 1"
   ]
  },
  {
   "cell_type": "code",
   "execution_count": 66,
   "id": "9c9b7cb5-cdd2-4947-9df2-5f0124214fde",
   "metadata": {},
   "outputs": [
    {
     "name": "stdout",
     "output_type": "stream",
     "text": [
      "NAND(0,0) :  1\n",
      "NAND(1,0) :  0\n",
      "NAND(0,1) :  0\n",
      "NAND(1,1) :  0\n"
     ]
    }
   ],
   "source": [
    "print(\"NAND(0,0) : \", NAND(0,0))\n",
    "print(\"NAND(1,0) : \", NAND(1,0))\n",
    "print(\"NAND(0,1) : \", NAND(0,1))\n",
    "print(\"NAND(1,1) : \", NAND(1,1))"
   ]
  },
  {
   "cell_type": "markdown",
   "id": "56f947bf-857a-42c0-8775-6f40d0f124c4",
   "metadata": {},
   "source": [
    "가중치와 편향의 적정한 값을 찾는게 딥러닝의 목표!"
   ]
  },
  {
   "cell_type": "code",
   "execution_count": 67,
   "id": "48af0507",
   "metadata": {},
   "outputs": [],
   "source": [
    "def AND(x1, x2) :\n",
    "    w1, w2, theta = 1,1,1\n",
    "    b = -theta\n",
    "    x = np.array([x1,x2])\n",
    "    w = np.array([w1,w2])\n",
    "    tmp = np.sum(x*w) + b\n",
    "    \n",
    "    if tmp <= 0 :\n",
    "        return 0\n",
    "    elif tmp > 0 :\n",
    "        return 1"
   ]
  },
  {
   "cell_type": "code",
   "execution_count": 68,
   "id": "90ac10fd",
   "metadata": {},
   "outputs": [
    {
     "name": "stdout",
     "output_type": "stream",
     "text": [
      "AND(0,0) :  0\n",
      "AND(1,0) :  0\n",
      "AND(0,1) :  0\n",
      "AND(1,1) :  1\n"
     ]
    }
   ],
   "source": [
    "print(\"AND(0,0) : \", AND(0,0))\n",
    "print(\"AND(1,0) : \", AND(1,0))\n",
    "print(\"AND(0,1) : \", AND(0,1))\n",
    "print(\"AND(1,1) : \", AND(1,1))"
   ]
  },
  {
   "cell_type": "code",
   "execution_count": 69,
   "id": "e40fee51",
   "metadata": {},
   "outputs": [],
   "source": [
    "def OR(x1, x2) :\n",
    "    w1, w2, theta = 0.5,0.5,0\n",
    "    tmp = x1 * w1 + x2 * w2\n",
    "    b = -theta\n",
    "    x = np.array([x1,x2])\n",
    "    w = np.array([w1,w2])\n",
    "    tmp = np.sum(x*w) + b\n",
    "    \n",
    "    \n",
    "    if tmp <= 0 :\n",
    "        return 0\n",
    "    elif tmp > 0 :\n",
    "        return 1"
   ]
  },
  {
   "cell_type": "code",
   "execution_count": 70,
   "id": "a740dcce",
   "metadata": {},
   "outputs": [
    {
     "name": "stdout",
     "output_type": "stream",
     "text": [
      "OR(0,0) :  0\n",
      "OR(1,0) :  1\n",
      "OR(0,1) :  1\n",
      "OR(1,1) :  1\n"
     ]
    }
   ],
   "source": [
    "print(\"OR(0,0) : \", OR(0,0))\n",
    "print(\"OR(1,0) : \", OR(1,0))\n",
    "print(\"OR(0,1) : \", OR(0,1))\n",
    "print(\"OR(1,1) : \", OR(1,1))"
   ]
  },
  {
   "cell_type": "code",
   "execution_count": 71,
   "id": "61736503",
   "metadata": {},
   "outputs": [],
   "source": [
    "def NAND(x1, x2) :\n",
    "    w1, w2, theta = -0.5,-0.5,-0.7\n",
    "    tmp = x1 * w1 + x2 * w2\n",
    "    b = -theta\n",
    "    x = np.array([x1,x2])\n",
    "    w = np.array([w1,w2])\n",
    "    tmp = np.sum(x*w) + b\n",
    "    \n",
    "    \n",
    "    if tmp <= 0 :\n",
    "        return 0\n",
    "    elif tmp > 0 :\n",
    "        return 1"
   ]
  },
  {
   "cell_type": "code",
   "execution_count": 72,
   "id": "549c7c90",
   "metadata": {},
   "outputs": [
    {
     "name": "stdout",
     "output_type": "stream",
     "text": [
      "NAND(0,0) :  1\n",
      "NAND(1,0) :  1\n",
      "NAND(0,1) :  1\n",
      "NAND(1,1) :  0\n"
     ]
    }
   ],
   "source": [
    "print(\"NAND(0,0) : \", NAND(0,0))\n",
    "print(\"NAND(1,0) : \", NAND(1,0))\n",
    "print(\"NAND(0,1) : \", NAND(0,1))\n",
    "print(\"NAND(1,1) : \", NAND(1,1))"
   ]
  },
  {
   "cell_type": "code",
   "execution_count": 73,
   "id": "d772620a",
   "metadata": {},
   "outputs": [],
   "source": [
    "def XOR(x1, x2):\n",
    "    return AND(NAND(x1,x2),  OR(x1,x2))\n"
   ]
  },
  {
   "cell_type": "code",
   "execution_count": 74,
   "id": "64748574",
   "metadata": {},
   "outputs": [
    {
     "name": "stdout",
     "output_type": "stream",
     "text": [
      "XOR(0,0) :  0\n",
      "XOR(1,0) :  1\n",
      "XOR(0,1) :  1\n",
      "XOR(1,1) :  0\n"
     ]
    }
   ],
   "source": [
    "print(\"XOR(0,0) : \", XOR(0,0))\n",
    "print(\"XOR(1,0) : \", XOR(1,0))\n",
    "print(\"XOR(0,1) : \", XOR(0,1))\n",
    "print(\"XOR(1,1) : \", XOR(1,1))"
   ]
  },
  {
   "cell_type": "code",
   "execution_count": null,
   "id": "e3021a6c",
   "metadata": {},
   "outputs": [],
   "source": []
  },
  {
   "cell_type": "code",
   "execution_count": null,
   "id": "f2601477",
   "metadata": {},
   "outputs": [],
   "source": []
  },
  {
   "cell_type": "code",
   "execution_count": null,
   "id": "bd836319",
   "metadata": {},
   "outputs": [],
   "source": []
  }
 ],
 "metadata": {
  "kernelspec": {
   "display_name": "Python 3 (ipykernel)",
   "language": "python",
   "name": "python3"
  },
  "language_info": {
   "codemirror_mode": {
    "name": "ipython",
    "version": 3
   },
   "file_extension": ".py",
   "mimetype": "text/x-python",
   "name": "python",
   "nbconvert_exporter": "python",
   "pygments_lexer": "ipython3",
   "version": "3.9.12 (main, Apr  4 2022, 05:22:27) [MSC v.1916 64 bit (AMD64)]"
  },
  "vscode": {
   "interpreter": {
    "hash": "a077222d77dfe082b8f1dd562ad70e458ac2ab76993a0b248ab0476e32e9e8dd"
   }
  }
 },
 "nbformat": 4,
 "nbformat_minor": 5
}
