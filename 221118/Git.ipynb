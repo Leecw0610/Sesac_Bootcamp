{
 "cells": [
  {
   "cell_type": "markdown",
   "id": "d5d845e7-db69-42e6-aab1-5f6487fd213f",
   "metadata": {},
   "source": [
    "Git 용 연습용입니다"
   ]
  },
  {
   "cell_type": "code",
   "execution_count": null,
   "id": "08674e8d-32aa-4573-99a0-d11eede03cfa",
   "metadata": {},
   "outputs": [],
   "source": []
  },
  {
   "cell_type": "raw",
   "id": "aa0e7da5-188a-4605-b6c6-356fa437a612",
   "metadata": {},
   "source": [
    "add push checkout!!"
   ]
  },
  {
   "cell_type": "code",
   "execution_count": null,
   "id": "29808865-ee85-4ca3-9626-626ee31197d7",
   "metadata": {},
   "outputs": [],
   "source": []
  },
  {
   "cell_type": "raw",
   "id": "4384e7ff-b739-4c2f-b7ea-5a989e6c1b73",
   "metadata": {},
   "source": [
    "awetawetwat"
   ]
  },
  {
   "cell_type": "code",
   "execution_count": null,
   "id": "e70c98c0-5871-4d47-9177-90917c67a695",
   "metadata": {},
   "outputs": [],
   "source": [
    "\n"
   ]
  }
 ],
 "metadata": {
  "kernelspec": {
   "display_name": "Python 3 (ipykernel)",
   "language": "python",
   "name": "python3"
  },
  "language_info": {
   "codemirror_mode": {
    "name": "ipython",
    "version": 3
   },
   "file_extension": ".py",
   "mimetype": "text/x-python",
   "name": "python",
   "nbconvert_exporter": "python",
   "pygments_lexer": "ipython3",
   "version": "3.9.12"
  }
 },
 "nbformat": 4,
 "nbformat_minor": 5
}
