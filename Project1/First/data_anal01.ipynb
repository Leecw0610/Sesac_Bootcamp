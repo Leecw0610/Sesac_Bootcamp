{
 "cells": [
  {
   "cell_type": "markdown",
   "id": "b6261f51-01b5-4409-b7ce-1e5ded895103",
   "metadata": {},
   "source": [
    "# 모듈 설치"
   ]
  },
  {
   "cell_type": "code",
   "execution_count": 4,
   "id": "fa2e954a-ef44-4819-86f3-a35c864b0f87",
   "metadata": {},
   "outputs": [],
   "source": [
    "import os\n",
    "import sys\n",
    "# import re\n",
    "import pickle\n",
    "from collections import defaultdict, OrderedDict, Counter\n",
    "import warnings\n",
    "warnings.filterwarnings('ignore')\n",
    "\n",
    "# import json\n",
    "from tqdm import tqdm"
   ]
  },
  {
   "cell_type": "code",
   "execution_count": 5,
   "id": "446e36fc-c27a-4970-9013-785d2f3d3643",
   "metadata": {},
   "outputs": [],
   "source": [
    "import numpy as np\n",
    "import pandas as pd\n",
    "# from pandas.plotting import scatter_matrix\n",
    "# from pandas_profiling import ProfileReport\n",
    "# from missingno import dendrogram\n",
    "# import missingno as msno\n",
    "\n",
    "# pd.options.display.float_format = '{:0.5f}'.format`"
   ]
  },
  {
   "cell_type": "code",
   "execution_count": 160,
   "id": "ea7e9e75-eeee-4f58-bc10-f3ea162daec0",
   "metadata": {},
   "outputs": [],
   "source": [
    "import matplotlib.pyplot as plt\n",
    "import seaborn as sns\n",
    "\n",
    "# settings for seaborn plot sizes\n",
    "sns.set(rc={'figure.figsize':(20, 10)})\n",
    "plt.rc('font',family='Malgun Gothic')"
   ]
  },
  {
   "cell_type": "markdown",
   "id": "0f8ac772-18fd-4e58-9176-ffbf17f17724",
   "metadata": {},
   "source": [
    "----"
   ]
  },
  {
   "cell_type": "markdown",
   "id": "4f768a88-3001-4c5a-a7bd-0f41d46c8c35",
   "metadata": {},
   "source": [
    "# 데이터 베이스 활용"
   ]
  },
  {
   "cell_type": "code",
   "execution_count": 7,
   "id": "c2a8e2c3-53af-436a-92ad-f319b5886edb",
   "metadata": {},
   "outputs": [],
   "source": [
    "# 해당 데이터들의 정보와 DataFrame를 불러올 수 있는 딕셔너리\n",
    "# 파일 크기 큼 주의\n",
    "with open('Database.p', 'rb') as file:    \n",
    "    DataBase = pickle.load(file)"
   ]
  },
  {
   "cell_type": "code",
   "execution_count": 8,
   "id": "e65703d4-a702-483a-b100-3a677c179986",
   "metadata": {},
   "outputs": [],
   "source": [
    "# 해당 데이터들의 정보들만 빠르게 파악할 수 있는 딕셔너리\n",
    "with open('Database_info.p', 'rb') as file:\n",
    "    DataBase_info = pickle.load(file)"
   ]
  },
  {
   "cell_type": "code",
   "execution_count": 9,
   "id": "1019aa8b-fed9-4b26-8cee-31a2e0b68274",
   "metadata": {},
   "outputs": [],
   "source": [
    "def db_NameList():\n",
    "    \"\"\"데이터베이스 안에 있는 data 이름들 리스트로 반환\n",
    "\n",
    "    Returns:\n",
    "        list: data Names in DataBase\n",
    "    \"\"\"\n",
    "    return list(DataBase_info.keys())"
   ]
  },
  {
   "cell_type": "code",
   "execution_count": 10,
   "id": "3c60bbfc-a108-46d2-a422-aad200b1d75f",
   "metadata": {},
   "outputs": [],
   "source": [
    "def db_nameToInfo(name):\n",
    "    \"\"\"데이터베이스 중에 name 에 해당하는 정보들을 딕셔너리 형태로 반환\n",
    "\n",
    "    Args:\n",
    "        name (str): 데이터 이름 (한글)\n",
    "\n",
    "    Returns:\n",
    "        dict: name data's information\n",
    "    \"\"\"\n",
    "    return DataBase_info[name]"
   ]
  },
  {
   "cell_type": "code",
   "execution_count": 57,
   "id": "3953c0e5-c4c6-4fa1-9bfb-758db0ae491c",
   "metadata": {},
   "outputs": [],
   "source": [
    "def db_nameToDataframe(name):\n",
    "    \"\"\"데이터베이스 중에 name 에 해당하는 데이터 프레임 반환\n",
    "\n",
    "    Args:\n",
    "        name (str): 데이터 이름 (한글)\n",
    "\n",
    "    Returns:\n",
    "        DataFrame: name data's DataFrame\n",
    "    \"\"\"\n",
    "    return DataBase[name]['data'].copy()"
   ]
  },
  {
   "cell_type": "code",
   "execution_count": 58,
   "id": "5a71806e-5ac7-4071-87f4-2b186bafec61",
   "metadata": {},
   "outputs": [],
   "source": [
    "def db_nameToColumns(name):\n",
    "    \"\"\"데이터베이스 중에 name 에 해당하는 데이터 프레임의 칼럼 리스트 반환\n",
    "\n",
    "    Args:\n",
    "        name (str): 데이터 이름 (한글)\n",
    "\n",
    "    Returns:\n",
    "        list: name data's columns\n",
    "    \"\"\"\n",
    "    return db_nameToInfo(name)['columns']"
   ]
  },
  {
   "cell_type": "code",
   "execution_count": 59,
   "id": "f84f4141-9b5c-4c94-b317-7dd7a58b337e",
   "metadata": {},
   "outputs": [
    {
     "data": {
      "text/plain": [
       "['날씨별 배달 품목차이',\n",
       " '지역-업종 배달평균거리',\n",
       " '배달 상점 데이터',\n",
       " '업종 목적지별 배달 주문건수',\n",
       " '업종-거리구간 배달 건수',\n",
       " '업종 목적지별 평균주문금액',\n",
       " '주문지역 주거 특성',\n",
       " '주문지역 상권유형 특성',\n",
       " '주문지역 인구 특성',\n",
       " '주문지역 기상 정보',\n",
       " '지역-업종 결제정보',\n",
       " '지역-요일 배달 품목정보',\n",
       " '업종-거리구간 상권 정보',\n",
       " '시간-지역별 배달 주문건수',\n",
       " '시간-지역별 배달 평균주문금액',\n",
       " '시간-지역별 배달 소요시간평균',\n",
       " '업종-지역별 평균주문금액',\n",
       " '업종-지역별 배달 주문건수',\n",
       " '업종-지역별 평균배달소요시간']"
      ]
     },
     "execution_count": 59,
     "metadata": {},
     "output_type": "execute_result"
    }
   ],
   "source": [
    "db_NameList()"
   ]
  },
  {
   "cell_type": "raw",
   "id": "2d91b014-fbb2-49e6-9583-cdc7727344ce",
   "metadata": {},
   "source": [
    "분석할 데이터 :\n",
    " '주문지역 주거 특성',\n",
    " '주문지역 상권유형 특성',\n",
    " '주문지역 인구 특성',\n",
    " '주문지역 기상 정보',\n",
    " '날씨별 배달 품목차이'"
   ]
  },
  {
   "cell_type": "code",
   "execution_count": 60,
   "id": "47a43e95-c30b-4a1f-bef4-129898bb6d50",
   "metadata": {},
   "outputs": [
    {
     "data": {
      "text/plain": [
       "{'name': '주문지역 주거 특성',\n",
       " 'code': 'KGURESIDEINFO',\n",
       " 'len': 495000,\n",
       " 'columns': ['기준연도',\n",
       "  '시군구코드',\n",
       "  '시도명',\n",
       "  '시군구명',\n",
       "  '세대구성대분류',\n",
       "  '세대구성중분류',\n",
       "  '세대구성소분류',\n",
       "  '단위',\n",
       "  '빈도수'],\n",
       " 'shape': (495000, 9)}"
      ]
     },
     "execution_count": 60,
     "metadata": {},
     "output_type": "execute_result"
    }
   ],
   "source": [
    "db_nameToInfo('주문지역 주거 특성')"
   ]
  },
  {
   "cell_type": "markdown",
   "id": "e7d9a455-b00e-4e49-a725-f5a130782f30",
   "metadata": {},
   "source": [
    "### 0. 데이터 활용방안 모색"
   ]
  },
  {
   "cell_type": "code",
   "execution_count": null,
   "id": "895ac21c-fd0d-474f-b4b6-cab91e4dd71d",
   "metadata": {},
   "outputs": [],
   "source": []
  },
  {
   "cell_type": "markdown",
   "id": "3cee7887-4996-4549-af36-b4600802e818",
   "metadata": {},
   "source": [
    "# 1. 주문지역 주거 특성 분석"
   ]
  },
  {
   "cell_type": "code",
   "execution_count": 61,
   "id": "f928b883-01f1-41b2-a56b-b423f856f9ea",
   "metadata": {},
   "outputs": [],
   "source": [
    "data1=db_nameToDataframe('주문지역 주거 특성')"
   ]
  },
  {
   "cell_type": "code",
   "execution_count": 62,
   "id": "182b4321-6cd9-4009-b5ea-e2c94bf59419",
   "metadata": {},
   "outputs": [
    {
     "data": {
      "text/html": [
       "<div>\n",
       "<style scoped>\n",
       "    .dataframe tbody tr th:only-of-type {\n",
       "        vertical-align: middle;\n",
       "    }\n",
       "\n",
       "    .dataframe tbody tr th {\n",
       "        vertical-align: top;\n",
       "    }\n",
       "\n",
       "    .dataframe thead th {\n",
       "        text-align: right;\n",
       "    }\n",
       "</style>\n",
       "<table border=\"1\" class=\"dataframe\">\n",
       "  <thead>\n",
       "    <tr style=\"text-align: right;\">\n",
       "      <th></th>\n",
       "      <th>기준연도</th>\n",
       "      <th>시군구코드</th>\n",
       "      <th>시도명</th>\n",
       "      <th>시군구명</th>\n",
       "      <th>세대구성대분류</th>\n",
       "      <th>세대구성중분류</th>\n",
       "      <th>세대구성소분류</th>\n",
       "      <th>단위</th>\n",
       "      <th>빈도수</th>\n",
       "    </tr>\n",
       "  </thead>\n",
       "  <tbody>\n",
       "    <tr>\n",
       "      <th>0</th>\n",
       "      <td>2015</td>\n",
       "      <td>11110</td>\n",
       "      <td>서울특별시</td>\n",
       "      <td>종로구</td>\n",
       "      <td>1세대 가구</td>\n",
       "      <td>부부</td>\n",
       "      <td>일반가구</td>\n",
       "      <td>가구</td>\n",
       "      <td>8162</td>\n",
       "    </tr>\n",
       "    <tr>\n",
       "      <th>1</th>\n",
       "      <td>2015</td>\n",
       "      <td>11110</td>\n",
       "      <td>서울특별시</td>\n",
       "      <td>종로구</td>\n",
       "      <td>1세대 가구</td>\n",
       "      <td>부부</td>\n",
       "      <td>주택_단독주택</td>\n",
       "      <td>가구</td>\n",
       "      <td>3409</td>\n",
       "    </tr>\n",
       "    <tr>\n",
       "      <th>2</th>\n",
       "      <td>2015</td>\n",
       "      <td>11110</td>\n",
       "      <td>서울특별시</td>\n",
       "      <td>종로구</td>\n",
       "      <td>1세대 가구</td>\n",
       "      <td>부부</td>\n",
       "      <td>주택_아파트</td>\n",
       "      <td>가구</td>\n",
       "      <td>1873</td>\n",
       "    </tr>\n",
       "    <tr>\n",
       "      <th>3</th>\n",
       "      <td>2015</td>\n",
       "      <td>11110</td>\n",
       "      <td>서울특별시</td>\n",
       "      <td>종로구</td>\n",
       "      <td>1세대 가구</td>\n",
       "      <td>부부</td>\n",
       "      <td>주택_연립주택</td>\n",
       "      <td>가구</td>\n",
       "      <td>784</td>\n",
       "    </tr>\n",
       "    <tr>\n",
       "      <th>4</th>\n",
       "      <td>2015</td>\n",
       "      <td>11110</td>\n",
       "      <td>서울특별시</td>\n",
       "      <td>종로구</td>\n",
       "      <td>1세대 가구</td>\n",
       "      <td>부부</td>\n",
       "      <td>주택_다세대주택</td>\n",
       "      <td>가구</td>\n",
       "      <td>1290</td>\n",
       "    </tr>\n",
       "    <tr>\n",
       "      <th>...</th>\n",
       "      <td>...</td>\n",
       "      <td>...</td>\n",
       "      <td>...</td>\n",
       "      <td>...</td>\n",
       "      <td>...</td>\n",
       "      <td>...</td>\n",
       "      <td>...</td>\n",
       "      <td>...</td>\n",
       "      <td>...</td>\n",
       "    </tr>\n",
       "    <tr>\n",
       "      <th>82495</th>\n",
       "      <td>2020</td>\n",
       "      <td>50130</td>\n",
       "      <td>제주특별자치도</td>\n",
       "      <td>서귀포시</td>\n",
       "      <td>비친족 가구</td>\n",
       "      <td>비친족 가구</td>\n",
       "      <td>가구원수 4명</td>\n",
       "      <td>가구</td>\n",
       "      <td>43</td>\n",
       "    </tr>\n",
       "    <tr>\n",
       "      <th>82496</th>\n",
       "      <td>2020</td>\n",
       "      <td>50130</td>\n",
       "      <td>제주특별자치도</td>\n",
       "      <td>서귀포시</td>\n",
       "      <td>비친족 가구</td>\n",
       "      <td>비친족 가구</td>\n",
       "      <td>가구원수 5명</td>\n",
       "      <td>가구</td>\n",
       "      <td>21</td>\n",
       "    </tr>\n",
       "    <tr>\n",
       "      <th>82497</th>\n",
       "      <td>2020</td>\n",
       "      <td>50130</td>\n",
       "      <td>제주특별자치도</td>\n",
       "      <td>서귀포시</td>\n",
       "      <td>비친족 가구</td>\n",
       "      <td>비친족 가구</td>\n",
       "      <td>가구원수 6명</td>\n",
       "      <td>가구</td>\n",
       "      <td>2.5</td>\n",
       "    </tr>\n",
       "    <tr>\n",
       "      <th>82498</th>\n",
       "      <td>2020</td>\n",
       "      <td>50130</td>\n",
       "      <td>제주특별자치도</td>\n",
       "      <td>서귀포시</td>\n",
       "      <td>비친족 가구</td>\n",
       "      <td>비친족 가구</td>\n",
       "      <td>가구원수 7명 이상</td>\n",
       "      <td>가구</td>\n",
       "      <td>2.5</td>\n",
       "    </tr>\n",
       "    <tr>\n",
       "      <th>82499</th>\n",
       "      <td>2020</td>\n",
       "      <td>50130</td>\n",
       "      <td>제주특별자치도</td>\n",
       "      <td>서귀포시</td>\n",
       "      <td>비친족 가구</td>\n",
       "      <td>비친족 가구</td>\n",
       "      <td>평균 가구원수</td>\n",
       "      <td>명</td>\n",
       "      <td>2.2</td>\n",
       "    </tr>\n",
       "  </tbody>\n",
       "</table>\n",
       "<p>495000 rows × 9 columns</p>\n",
       "</div>"
      ],
      "text/plain": [
       "       기준연도  시군구코드      시도명  시군구명 세대구성대분류 세대구성중분류     세대구성소분류  단위   빈도수\n",
       "0      2015  11110    서울특별시   종로구  1세대 가구      부부        일반가구  가구  8162\n",
       "1      2015  11110    서울특별시   종로구  1세대 가구      부부     주택_단독주택  가구  3409\n",
       "2      2015  11110    서울특별시   종로구  1세대 가구      부부      주택_아파트  가구  1873\n",
       "3      2015  11110    서울특별시   종로구  1세대 가구      부부     주택_연립주택  가구   784\n",
       "4      2015  11110    서울특별시   종로구  1세대 가구      부부    주택_다세대주택  가구  1290\n",
       "...     ...    ...      ...   ...     ...     ...         ...  ..   ...\n",
       "82495  2020  50130  제주특별자치도  서귀포시  비친족 가구  비친족 가구     가구원수 4명  가구    43\n",
       "82496  2020  50130  제주특별자치도  서귀포시  비친족 가구  비친족 가구     가구원수 5명  가구    21\n",
       "82497  2020  50130  제주특별자치도  서귀포시  비친족 가구  비친족 가구     가구원수 6명  가구   2.5\n",
       "82498  2020  50130  제주특별자치도  서귀포시  비친족 가구  비친족 가구  가구원수 7명 이상  가구   2.5\n",
       "82499  2020  50130  제주특별자치도  서귀포시  비친족 가구  비친족 가구     평균 가구원수   명   2.2\n",
       "\n",
       "[495000 rows x 9 columns]"
      ]
     },
     "execution_count": 62,
     "metadata": {},
     "output_type": "execute_result"
    }
   ],
   "source": [
    "data1"
   ]
  },
  {
   "cell_type": "code",
   "execution_count": 63,
   "id": "7e68c723-c31f-4ffe-8aa0-4f137fcb7214",
   "metadata": {},
   "outputs": [
    {
     "name": "stdout",
     "output_type": "stream",
     "text": [
      "<class 'pandas.core.frame.DataFrame'>\n",
      "Int64Index: 495000 entries, 0 to 82499\n",
      "Data columns (total 9 columns):\n",
      " #   Column   Non-Null Count   Dtype \n",
      "---  ------   --------------   ----- \n",
      " 0   기준연도     495000 non-null  int64 \n",
      " 1   시군구코드    495000 non-null  int64 \n",
      " 2   시도명      495000 non-null  object\n",
      " 3   시군구명     495000 non-null  object\n",
      " 4   세대구성대분류  495000 non-null  object\n",
      " 5   세대구성중분류  495000 non-null  object\n",
      " 6   세대구성소분류  495000 non-null  object\n",
      " 7   단위       495000 non-null  object\n",
      " 8   빈도수      495000 non-null  object\n",
      "dtypes: int64(2), object(7)\n",
      "memory usage: 53.9+ MB\n"
     ]
    }
   ],
   "source": [
    "data1.info()"
   ]
  },
  {
   "cell_type": "code",
   "execution_count": 64,
   "id": "4776b9f3-d006-45b8-afdd-fb3a1b02a6ef",
   "metadata": {},
   "outputs": [
    {
     "data": {
      "text/plain": [
       "(495000, 9)"
      ]
     },
     "execution_count": 64,
     "metadata": {},
     "output_type": "execute_result"
    }
   ],
   "source": [
    "data1.shape"
   ]
  },
  {
   "cell_type": "markdown",
   "id": "34172832-3656-4f02-ade4-3befd96b35fb",
   "metadata": {},
   "source": [
    "## 1) 전처리"
   ]
  },
  {
   "cell_type": "code",
   "execution_count": 98,
   "id": "6962341b-bd93-48e3-842c-6536fc3c1c25",
   "metadata": {},
   "outputs": [
    {
     "data": {
      "text/plain": [
       "기준연도       0\n",
       "시군구코드      0\n",
       "시도명        0\n",
       "시군구명       0\n",
       "세대구성대분류    0\n",
       "세대구성중분류    0\n",
       "세대구성소분류    0\n",
       "단위         0\n",
       "빈도수        0\n",
       "dtype: int64"
      ]
     },
     "execution_count": 98,
     "metadata": {},
     "output_type": "execute_result"
    }
   ],
   "source": [
    "data1.isnull().sum()"
   ]
  },
  {
   "cell_type": "markdown",
   "id": "28ea9ec0-5a00-4c42-b1a6-e49f83025590",
   "metadata": {},
   "source": [
    "### 1> '빈도수'항목 전처리"
   ]
  },
  {
   "cell_type": "code",
   "execution_count": 65,
   "id": "5124d428-ef39-4045-98f8-f3763417cb6f",
   "metadata": {},
   "outputs": [
    {
     "data": {
      "text/html": [
       "<div>\n",
       "<style scoped>\n",
       "    .dataframe tbody tr th:only-of-type {\n",
       "        vertical-align: middle;\n",
       "    }\n",
       "\n",
       "    .dataframe tbody tr th {\n",
       "        vertical-align: top;\n",
       "    }\n",
       "\n",
       "    .dataframe thead th {\n",
       "        text-align: right;\n",
       "    }\n",
       "</style>\n",
       "<table border=\"1\" class=\"dataframe\">\n",
       "  <thead>\n",
       "    <tr style=\"text-align: right;\">\n",
       "      <th></th>\n",
       "      <th>기준연도</th>\n",
       "      <th>시군구코드</th>\n",
       "      <th>시도명</th>\n",
       "      <th>시군구명</th>\n",
       "      <th>세대구성대분류</th>\n",
       "      <th>세대구성중분류</th>\n",
       "      <th>세대구성소분류</th>\n",
       "      <th>단위</th>\n",
       "      <th>빈도수</th>\n",
       "    </tr>\n",
       "  </thead>\n",
       "  <tbody>\n",
       "  </tbody>\n",
       "</table>\n",
       "</div>"
      ],
      "text/plain": [
       "Empty DataFrame\n",
       "Columns: [기준연도, 시군구코드, 시도명, 시군구명, 세대구성대분류, 세대구성중분류, 세대구성소분류, 단위, 빈도수]\n",
       "Index: []"
      ]
     },
     "execution_count": 65,
     "metadata": {},
     "output_type": "execute_result"
    }
   ],
   "source": [
    "data1[(data1['빈도수']) == '다섯가구 미만']"
   ]
  },
  {
   "cell_type": "code",
   "execution_count": 72,
   "id": "0d4402ea-9d48-4d19-b074-45f867f8a020",
   "metadata": {},
   "outputs": [],
   "source": [
    "data1['빈도수']=np.where(data1['빈도수']=='다섯가구 미만', 2.5, data1['빈도수']) #디섯가구 미만을 2.5로"
   ]
  },
  {
   "cell_type": "code",
   "execution_count": 88,
   "id": "0d0bb69b-a0c7-4b93-8039-15a775c9d5d3",
   "metadata": {},
   "outputs": [],
   "source": [
    "data1['빈도수'] = data1['빈도수'].astype(float)"
   ]
  },
  {
   "cell_type": "code",
   "execution_count": 77,
   "id": "00dc8e96-9514-484c-a827-877cda9686c5",
   "metadata": {},
   "outputs": [],
   "source": [
    "data1.reset_index(inplace=True)"
   ]
  },
  {
   "cell_type": "code",
   "execution_count": 81,
   "id": "0a4b86d8-7e53-4d0f-9447-9c85a699d403",
   "metadata": {},
   "outputs": [],
   "source": [
    "data1.drop('index', axis=1, inplace=True)"
   ]
  },
  {
   "cell_type": "code",
   "execution_count": 82,
   "id": "dd1c65c1-e7af-4492-bf93-a0e5b8efd325",
   "metadata": {},
   "outputs": [
    {
     "data": {
      "text/html": [
       "<div>\n",
       "<style scoped>\n",
       "    .dataframe tbody tr th:only-of-type {\n",
       "        vertical-align: middle;\n",
       "    }\n",
       "\n",
       "    .dataframe tbody tr th {\n",
       "        vertical-align: top;\n",
       "    }\n",
       "\n",
       "    .dataframe thead th {\n",
       "        text-align: right;\n",
       "    }\n",
       "</style>\n",
       "<table border=\"1\" class=\"dataframe\">\n",
       "  <thead>\n",
       "    <tr style=\"text-align: right;\">\n",
       "      <th></th>\n",
       "      <th>기준연도</th>\n",
       "      <th>시군구코드</th>\n",
       "      <th>시도명</th>\n",
       "      <th>시군구명</th>\n",
       "      <th>세대구성대분류</th>\n",
       "      <th>세대구성중분류</th>\n",
       "      <th>세대구성소분류</th>\n",
       "      <th>단위</th>\n",
       "      <th>빈도수</th>\n",
       "    </tr>\n",
       "  </thead>\n",
       "  <tbody>\n",
       "    <tr>\n",
       "      <th>0</th>\n",
       "      <td>2015</td>\n",
       "      <td>11110</td>\n",
       "      <td>서울특별시</td>\n",
       "      <td>종로구</td>\n",
       "      <td>1세대 가구</td>\n",
       "      <td>부부</td>\n",
       "      <td>일반가구</td>\n",
       "      <td>가구</td>\n",
       "      <td>8162</td>\n",
       "    </tr>\n",
       "    <tr>\n",
       "      <th>1</th>\n",
       "      <td>2015</td>\n",
       "      <td>11110</td>\n",
       "      <td>서울특별시</td>\n",
       "      <td>종로구</td>\n",
       "      <td>1세대 가구</td>\n",
       "      <td>부부</td>\n",
       "      <td>주택_단독주택</td>\n",
       "      <td>가구</td>\n",
       "      <td>3409</td>\n",
       "    </tr>\n",
       "    <tr>\n",
       "      <th>2</th>\n",
       "      <td>2015</td>\n",
       "      <td>11110</td>\n",
       "      <td>서울특별시</td>\n",
       "      <td>종로구</td>\n",
       "      <td>1세대 가구</td>\n",
       "      <td>부부</td>\n",
       "      <td>주택_아파트</td>\n",
       "      <td>가구</td>\n",
       "      <td>1873</td>\n",
       "    </tr>\n",
       "    <tr>\n",
       "      <th>3</th>\n",
       "      <td>2015</td>\n",
       "      <td>11110</td>\n",
       "      <td>서울특별시</td>\n",
       "      <td>종로구</td>\n",
       "      <td>1세대 가구</td>\n",
       "      <td>부부</td>\n",
       "      <td>주택_연립주택</td>\n",
       "      <td>가구</td>\n",
       "      <td>784</td>\n",
       "    </tr>\n",
       "    <tr>\n",
       "      <th>4</th>\n",
       "      <td>2015</td>\n",
       "      <td>11110</td>\n",
       "      <td>서울특별시</td>\n",
       "      <td>종로구</td>\n",
       "      <td>1세대 가구</td>\n",
       "      <td>부부</td>\n",
       "      <td>주택_다세대주택</td>\n",
       "      <td>가구</td>\n",
       "      <td>1290</td>\n",
       "    </tr>\n",
       "    <tr>\n",
       "      <th>...</th>\n",
       "      <td>...</td>\n",
       "      <td>...</td>\n",
       "      <td>...</td>\n",
       "      <td>...</td>\n",
       "      <td>...</td>\n",
       "      <td>...</td>\n",
       "      <td>...</td>\n",
       "      <td>...</td>\n",
       "      <td>...</td>\n",
       "    </tr>\n",
       "    <tr>\n",
       "      <th>494995</th>\n",
       "      <td>2020</td>\n",
       "      <td>50130</td>\n",
       "      <td>제주특별자치도</td>\n",
       "      <td>서귀포시</td>\n",
       "      <td>비친족 가구</td>\n",
       "      <td>비친족 가구</td>\n",
       "      <td>가구원수 4명</td>\n",
       "      <td>가구</td>\n",
       "      <td>43</td>\n",
       "    </tr>\n",
       "    <tr>\n",
       "      <th>494996</th>\n",
       "      <td>2020</td>\n",
       "      <td>50130</td>\n",
       "      <td>제주특별자치도</td>\n",
       "      <td>서귀포시</td>\n",
       "      <td>비친족 가구</td>\n",
       "      <td>비친족 가구</td>\n",
       "      <td>가구원수 5명</td>\n",
       "      <td>가구</td>\n",
       "      <td>21</td>\n",
       "    </tr>\n",
       "    <tr>\n",
       "      <th>494997</th>\n",
       "      <td>2020</td>\n",
       "      <td>50130</td>\n",
       "      <td>제주특별자치도</td>\n",
       "      <td>서귀포시</td>\n",
       "      <td>비친족 가구</td>\n",
       "      <td>비친족 가구</td>\n",
       "      <td>가구원수 6명</td>\n",
       "      <td>가구</td>\n",
       "      <td>2.5</td>\n",
       "    </tr>\n",
       "    <tr>\n",
       "      <th>494998</th>\n",
       "      <td>2020</td>\n",
       "      <td>50130</td>\n",
       "      <td>제주특별자치도</td>\n",
       "      <td>서귀포시</td>\n",
       "      <td>비친족 가구</td>\n",
       "      <td>비친족 가구</td>\n",
       "      <td>가구원수 7명 이상</td>\n",
       "      <td>가구</td>\n",
       "      <td>2.5</td>\n",
       "    </tr>\n",
       "    <tr>\n",
       "      <th>494999</th>\n",
       "      <td>2020</td>\n",
       "      <td>50130</td>\n",
       "      <td>제주특별자치도</td>\n",
       "      <td>서귀포시</td>\n",
       "      <td>비친족 가구</td>\n",
       "      <td>비친족 가구</td>\n",
       "      <td>평균 가구원수</td>\n",
       "      <td>명</td>\n",
       "      <td>2.2</td>\n",
       "    </tr>\n",
       "  </tbody>\n",
       "</table>\n",
       "<p>495000 rows × 9 columns</p>\n",
       "</div>"
      ],
      "text/plain": [
       "        기준연도  시군구코드      시도명  시군구명 세대구성대분류 세대구성중분류     세대구성소분류  단위   빈도수\n",
       "0       2015  11110    서울특별시   종로구  1세대 가구      부부        일반가구  가구  8162\n",
       "1       2015  11110    서울특별시   종로구  1세대 가구      부부     주택_단독주택  가구  3409\n",
       "2       2015  11110    서울특별시   종로구  1세대 가구      부부      주택_아파트  가구  1873\n",
       "3       2015  11110    서울특별시   종로구  1세대 가구      부부     주택_연립주택  가구   784\n",
       "4       2015  11110    서울특별시   종로구  1세대 가구      부부    주택_다세대주택  가구  1290\n",
       "...      ...    ...      ...   ...     ...     ...         ...  ..   ...\n",
       "494995  2020  50130  제주특별자치도  서귀포시  비친족 가구  비친족 가구     가구원수 4명  가구    43\n",
       "494996  2020  50130  제주특별자치도  서귀포시  비친족 가구  비친족 가구     가구원수 5명  가구    21\n",
       "494997  2020  50130  제주특별자치도  서귀포시  비친족 가구  비친족 가구     가구원수 6명  가구   2.5\n",
       "494998  2020  50130  제주특별자치도  서귀포시  비친족 가구  비친족 가구  가구원수 7명 이상  가구   2.5\n",
       "494999  2020  50130  제주특별자치도  서귀포시  비친족 가구  비친족 가구     평균 가구원수   명   2.2\n",
       "\n",
       "[495000 rows x 9 columns]"
      ]
     },
     "execution_count": 82,
     "metadata": {},
     "output_type": "execute_result"
    }
   ],
   "source": [
    "data1"
   ]
  },
  {
   "cell_type": "markdown",
   "id": "04c301d5-0289-4c5e-b083-ce19f20dda4f",
   "metadata": {},
   "source": [
    "## 2) 데이터 분석"
   ]
  },
  {
   "cell_type": "code",
   "execution_count": null,
   "id": "1e4341cd-a988-4892-8682-38fde43c02eb",
   "metadata": {},
   "outputs": [],
   "source": []
  },
  {
   "cell_type": "markdown",
   "id": "305f5f0e-2a03-4792-a9e2-cf4a1cf57288",
   "metadata": {},
   "source": [
    "### 1> 세대구성 대분류 별 빈도수파악"
   ]
  },
  {
   "cell_type": "code",
   "execution_count": 102,
   "id": "7f3bb8b9-f53e-42f6-bfe4-b3d428775085",
   "metadata": {},
   "outputs": [
    {
     "data": {
      "text/plain": [
       "array(['1세대 가구', '2세대 가구', '3세대 가구', '4세대 이상 가구', '1인 가구', '비친족 가구'],\n",
       "      dtype=object)"
      ]
     },
     "execution_count": 102,
     "metadata": {},
     "output_type": "execute_result"
    }
   ],
   "source": [
    "data1['세대구성대분류'].unique()"
   ]
  },
  {
   "cell_type": "code",
   "execution_count": 117,
   "id": "909fec7f-84dc-473a-8aea-28b62efe6003",
   "metadata": {},
   "outputs": [],
   "source": [
    "data1_1=data1.groupby('세대구성대분류')[['빈도수']].sum()"
   ]
  },
  {
   "cell_type": "code",
   "execution_count": 118,
   "id": "73be0383-208f-4ed3-9e35-344b6ac35ae0",
   "metadata": {},
   "outputs": [
    {
     "data": {
      "text/html": [
       "<div>\n",
       "<style scoped>\n",
       "    .dataframe tbody tr th:only-of-type {\n",
       "        vertical-align: middle;\n",
       "    }\n",
       "\n",
       "    .dataframe tbody tr th {\n",
       "        vertical-align: top;\n",
       "    }\n",
       "\n",
       "    .dataframe thead th {\n",
       "        text-align: right;\n",
       "    }\n",
       "</style>\n",
       "<table border=\"1\" class=\"dataframe\">\n",
       "  <thead>\n",
       "    <tr style=\"text-align: right;\">\n",
       "      <th></th>\n",
       "      <th>빈도수</th>\n",
       "    </tr>\n",
       "    <tr>\n",
       "      <th>세대구성대분류</th>\n",
       "      <th></th>\n",
       "    </tr>\n",
       "  </thead>\n",
       "  <tbody>\n",
       "    <tr>\n",
       "      <th>1세대 가구</th>\n",
       "      <td>64269733.2</td>\n",
       "    </tr>\n",
       "    <tr>\n",
       "      <th>1인 가구</th>\n",
       "      <td>104601587.5</td>\n",
       "    </tr>\n",
       "    <tr>\n",
       "      <th>2세대 가구</th>\n",
       "      <td>167308287.8</td>\n",
       "    </tr>\n",
       "    <tr>\n",
       "      <th>3세대 가구</th>\n",
       "      <td>16483192.1</td>\n",
       "    </tr>\n",
       "    <tr>\n",
       "      <th>4세대 이상 가구</th>\n",
       "      <td>187459.0</td>\n",
       "    </tr>\n",
       "    <tr>\n",
       "      <th>비친족 가구</th>\n",
       "      <td>5844640.1</td>\n",
       "    </tr>\n",
       "  </tbody>\n",
       "</table>\n",
       "</div>"
      ],
      "text/plain": [
       "                   빈도수\n",
       "세대구성대분류               \n",
       "1세대 가구      64269733.2\n",
       "1인 가구      104601587.5\n",
       "2세대 가구     167308287.8\n",
       "3세대 가구      16483192.1\n",
       "4세대 이상 가구     187459.0\n",
       "비친족 가구       5844640.1"
      ]
     },
     "execution_count": 118,
     "metadata": {},
     "output_type": "execute_result"
    }
   ],
   "source": [
    "data1_1"
   ]
  },
  {
   "cell_type": "code",
   "execution_count": 123,
   "id": "b20d2996-8cb1-4ba0-b56d-0928cd95fdec",
   "metadata": {},
   "outputs": [],
   "source": [
    "data1_1.reset_index(inplace=True)"
   ]
  },
  {
   "cell_type": "code",
   "execution_count": 161,
   "id": "3c431a7f-4389-4846-8b6c-10904cecc5c6",
   "metadata": {},
   "outputs": [
    {
     "data": {
      "text/plain": [
       "<AxesSubplot:xlabel='세대구성대분류', ylabel='빈도수'>"
      ]
     },
     "execution_count": 161,
     "metadata": {},
     "output_type": "execute_result"
    },
    {
     "data": {
      "image/png": "[encoded data removed]",
      "text/plain": [
       "<Figure size 1440x720 with 1 Axes>"
      ]
     },
     "metadata": {},
     "output_type": "display_data"
    }
   ],
   "source": [
    "sns.barplot(data=data1_1, x='세대구성대분류', y='빈도수')"
   ]
  },
  {
   "cell_type": "code",
   "execution_count": 292,
   "id": "56a02bab-a2bf-4364-95b4-d8bc4868100a",
   "metadata": {},
   "outputs": [
    {
     "data": {
      "text/plain": [
       "시도명   세대구성대분류  \n",
       "강원도   2세대 가구       14580\n",
       "      1세대 가구        9720\n",
       "      3세대 가구        6480\n",
       "      1인 가구         1620\n",
       "      4세대 이상 가구     1620\n",
       "                   ...  \n",
       "충청북도  1세대 가구        7560\n",
       "      3세대 가구        5040\n",
       "      1인 가구         1260\n",
       "      4세대 이상 가구     1260\n",
       "      비친족 가구        1260\n",
       "Name: 세대구성대분류, Length: 102, dtype: int64"
      ]
     },
     "execution_count": 292,
     "metadata": {},
     "output_type": "execute_result"
    }
   ],
   "source": [
    "data1.groupby('시도명')['세대구성대분류'].value_counts()"
   ]
  },
  {
   "cell_type": "code",
   "execution_count": null,
   "id": "b013a209-4e29-49d9-beed-cb2497ba444e",
   "metadata": {},
   "outputs": [],
   "source": []
  },
  {
   "cell_type": "code",
   "execution_count": null,
   "id": "42a6874e-645d-48ef-bedf-602a72f106d9",
   "metadata": {},
   "outputs": [],
   "source": []
  },
  {
   "cell_type": "markdown",
   "id": "f5ab8eb9-563b-48b8-9f74-d5b172fd40af",
   "metadata": {},
   "source": [
    "#### >>> insight : 시대구성분류에 주 분류된 가구가 2세대 가구라서 딱히 배달빈도와의 유의미한 관계 도출 힘듬. 지역별 세대가구 비율을 도출해 "
   ]
  },
  {
   "cell_type": "code",
   "execution_count": null,
   "id": "0459162b-1cd7-45b2-8977-3fec96897132",
   "metadata": {},
   "outputs": [],
   "source": []
  },
  {
   "cell_type": "markdown",
   "id": "9305488f-936f-419c-a8c5-bf5bb245c50c",
   "metadata": {},
   "source": [
    "### 2> 지역별 배달 빈도수파악"
   ]
  },
  {
   "cell_type": "code",
   "execution_count": 173,
   "id": "b1de31c4-b887-446e-b851-7233ce27f2c4",
   "metadata": {},
   "outputs": [],
   "source": [
    "data1_2=data1.groupby('시도명')[['빈도수']].sum().reset_index() #지역별 빈도수 파악"
   ]
  },
  {
   "cell_type": "code",
   "execution_count": 174,
   "id": "4e965e52-0bcf-4958-ba85-68ec4065b266",
   "metadata": {},
   "outputs": [
    {
     "data": {
      "text/plain": [
       "<AxesSubplot:xlabel='시도명', ylabel='빈도수'>"
      ]
     },
     "execution_count": 174,
     "metadata": {},
     "output_type": "execute_result"
    },
    {
     "data": {
      "image/png": "[encoded data removed]",
      "text/plain": [
       "<Figure size 1440x720 with 1 Axes>"
      ]
     },
     "metadata": {},
     "output_type": "display_data"
    }
   ],
   "source": [
    "sns.barplot(data=data1_2, x='시도명', y='빈도수')"
   ]
  },
  {
   "cell_type": "markdown",
   "id": "7713f1c9-9e29-4d3d-bc4a-504a56f05f43",
   "metadata": {},
   "source": [
    "#### >>> insight : 단순 인구수에 비례한 누적 빈도수 값이라 지역별 인구비율과 비교해 빈도수 처리 필요!! (((지역별 인구수 비율 필요)))"
   ]
  },
  {
   "cell_type": "markdown",
   "id": "493e1bb0-702c-4d15-b636-ed6b5b8fafaa",
   "metadata": {},
   "source": [
    "### 3> 지역별 기준연도 기준 배달빈도수 파악"
   ]
  },
  {
   "cell_type": "code",
   "execution_count": 137,
   "id": "87d801fc-b12b-454b-b6d4-a1075c1ed167",
   "metadata": {},
   "outputs": [],
   "source": [
    "data1_3=data1.groupby(['시도명','기준연도'])[['빈도수']].sum()"
   ]
  },
  {
   "cell_type": "code",
   "execution_count": 138,
   "id": "410740e9-ca29-47b0-b614-05789a886a20",
   "metadata": {},
   "outputs": [],
   "source": [
    "data1_3.reset_index(inplace=True)"
   ]
  },
  {
   "cell_type": "code",
   "execution_count": 162,
   "id": "accc2ca7-a26f-46ff-8946-27ef2be1172f",
   "metadata": {},
   "outputs": [
    {
     "data": {
      "text/plain": [
       "<AxesSubplot:xlabel='시도명', ylabel='빈도수'>"
      ]
     },
     "execution_count": 162,
     "metadata": {},
     "output_type": "execute_result"
    },
    {
     "data": {
      "image/png": "[encoded data removed]",
      "text/plain": [
       "<Figure size 1440x720 with 1 Axes>"
      ]
     },
     "metadata": {},
     "output_type": "display_data"
    }
   ],
   "source": [
    "sns.barplot(data=data1_3, x='시도명', y='빈도수', hue ='기준연도')"
   ]
  },
  {
   "cell_type": "code",
   "execution_count": null,
   "id": "377ed6df-1926-4961-9299-6f2b401bafe0",
   "metadata": {},
   "outputs": [],
   "source": [
    "#### >>> insight : 2>의 insight와 마찬가지로 인구비율이 있어야 지표의 유의미한 insight 도출 가능"
   ]
  },
  {
   "cell_type": "markdown",
   "id": "af227da8-cba7-4ed8-afd9-04a73559bc21",
   "metadata": {},
   "source": [
    "### 4> 연도별 배달빈도수 파악"
   ]
  },
  {
   "cell_type": "code",
   "execution_count": 128,
   "id": "e1624685-090a-4b19-879e-966a4e39afec",
   "metadata": {},
   "outputs": [],
   "source": [
    "data1_4=data1.groupby('기준연도')[['빈도수']].sum().reset_index()"
   ]
  },
  {
   "cell_type": "code",
   "execution_count": 163,
   "id": "8987bf3f-d697-4716-a29f-077eb539c229",
   "metadata": {},
   "outputs": [
    {
     "data": {
      "text/plain": [
       "<AxesSubplot:xlabel='기준연도', ylabel='빈도수'>"
      ]
     },
     "execution_count": 163,
     "metadata": {},
     "output_type": "execute_result"
    },
    {
     "data": {
      "image/png": "[encoded data removed]",
      "text/plain": [
       "<Figure size 1440x720 with 1 Axes>"
      ]
     },
     "metadata": {},
     "output_type": "display_data"
    }
   ],
   "source": [
    "sns.barplot(data=data1_4, x='기준연도', y='빈도수')"
   ]
  },
  {
   "cell_type": "code",
   "execution_count": null,
   "id": "8d0d95b6-d7b3-4bc7-b36f-eb5da77a4d00",
   "metadata": {},
   "outputs": [],
   "source": [
    "#### >>> insight : 매년 배달 빈도수 소폭 증가 확인! 최소 2020년까지는 배달산업이 단계적으로 성장했다고 할 수 있음"
   ]
  },
  {
   "cell_type": "markdown",
   "id": "fe57aec7-7968-4e6a-a8e6-3ad6ad0d1dee",
   "metadata": {},
   "source": [
    "### 5> 세대구성 중분류 내의 빈도수파악"
   ]
  },
  {
   "cell_type": "code",
   "execution_count": 274,
   "id": "5e3324b7-22de-44c3-b60d-c67e67963fb8",
   "metadata": {},
   "outputs": [],
   "source": [
    "data1_5 = data1.groupby('세대구성중분류')[['빈도수']].sum()"
   ]
  },
  {
   "cell_type": "code",
   "execution_count": 275,
   "id": "da739bef-e0f3-41df-8df7-e678976d7156",
   "metadata": {},
   "outputs": [],
   "source": [
    "data1_5.reset_index(inplace=True)"
   ]
  },
  {
   "cell_type": "code",
   "execution_count": 276,
   "id": "916be518-dff2-421a-9347-9aca9642d703",
   "metadata": {},
   "outputs": [
    {
     "data": {
      "text/html": [
       "<div>\n",
       "<style scoped>\n",
       "    .dataframe tbody tr th:only-of-type {\n",
       "        vertical-align: middle;\n",
       "    }\n",
       "\n",
       "    .dataframe tbody tr th {\n",
       "        vertical-align: top;\n",
       "    }\n",
       "\n",
       "    .dataframe thead th {\n",
       "        text-align: right;\n",
       "    }\n",
       "</style>\n",
       "<table border=\"1\" class=\"dataframe\">\n",
       "  <thead>\n",
       "    <tr style=\"text-align: right;\">\n",
       "      <th></th>\n",
       "      <th>세대구성중분류</th>\n",
       "      <th>빈도수</th>\n",
       "    </tr>\n",
       "  </thead>\n",
       "  <tbody>\n",
       "    <tr>\n",
       "      <th>0</th>\n",
       "      <td>1인 가구</td>\n",
       "      <td>104601587.5</td>\n",
       "    </tr>\n",
       "    <tr>\n",
       "      <th>1</th>\n",
       "      <td>4세대 이상 가구</td>\n",
       "      <td>187459.0</td>\n",
       "    </tr>\n",
       "    <tr>\n",
       "      <th>2</th>\n",
       "      <td>가구주+기타친인척</td>\n",
       "      <td>345687.8</td>\n",
       "    </tr>\n",
       "    <tr>\n",
       "      <th>3</th>\n",
       "      <td>가구주+미혼형제자매</td>\n",
       "      <td>3681247.8</td>\n",
       "    </tr>\n",
       "    <tr>\n",
       "      <th>4</th>\n",
       "      <td>기타</td>\n",
       "      <td>23793878.3</td>\n",
       "    </tr>\n",
       "    <tr>\n",
       "      <th>5</th>\n",
       "      <td>모+미혼자녀</td>\n",
       "      <td>27077553.7</td>\n",
       "    </tr>\n",
       "    <tr>\n",
       "      <th>6</th>\n",
       "      <td>부+미혼자녀</td>\n",
       "      <td>9344759.2</td>\n",
       "    </tr>\n",
       "    <tr>\n",
       "      <th>7</th>\n",
       "      <td>부부</td>\n",
       "      <td>57795482.0</td>\n",
       "    </tr>\n",
       "    <tr>\n",
       "      <th>8</th>\n",
       "      <td>부부+기타친인척</td>\n",
       "      <td>117856.6</td>\n",
       "    </tr>\n",
       "    <tr>\n",
       "      <th>9</th>\n",
       "      <td>부부+미혼자녀</td>\n",
       "      <td>110325441.9</td>\n",
       "    </tr>\n",
       "    <tr>\n",
       "      <th>10</th>\n",
       "      <td>부부+미혼자녀+모친</td>\n",
       "      <td>6210285.6</td>\n",
       "    </tr>\n",
       "    <tr>\n",
       "      <th>11</th>\n",
       "      <td>부부+미혼자녀+부부미혼형제자매</td>\n",
       "      <td>1264397.7</td>\n",
       "    </tr>\n",
       "    <tr>\n",
       "      <th>12</th>\n",
       "      <td>부부+미혼자녀+부친</td>\n",
       "      <td>1288314.9</td>\n",
       "    </tr>\n",
       "    <tr>\n",
       "      <th>13</th>\n",
       "      <td>부부+미혼자녀+양친</td>\n",
       "      <td>1819219.5</td>\n",
       "    </tr>\n",
       "    <tr>\n",
       "      <th>14</th>\n",
       "      <td>부부+미혼형제자매</td>\n",
       "      <td>371190.0</td>\n",
       "    </tr>\n",
       "    <tr>\n",
       "      <th>15</th>\n",
       "      <td>부부+양친</td>\n",
       "      <td>382981.3</td>\n",
       "    </tr>\n",
       "    <tr>\n",
       "      <th>16</th>\n",
       "      <td>부부+한부모</td>\n",
       "      <td>2159102.0</td>\n",
       "    </tr>\n",
       "    <tr>\n",
       "      <th>17</th>\n",
       "      <td>비친족 가구</td>\n",
       "      <td>5844640.1</td>\n",
       "    </tr>\n",
       "    <tr>\n",
       "      <th>18</th>\n",
       "      <td>조부 또는 조모+미혼손자녀</td>\n",
       "      <td>1257239.9</td>\n",
       "    </tr>\n",
       "    <tr>\n",
       "      <th>19</th>\n",
       "      <td>조부모+미혼손자녀</td>\n",
       "      <td>826574.9</td>\n",
       "    </tr>\n",
       "  </tbody>\n",
       "</table>\n",
       "</div>"
      ],
      "text/plain": [
       "             세대구성중분류          빈도수\n",
       "0              1인 가구  104601587.5\n",
       "1          4세대 이상 가구     187459.0\n",
       "2          가구주+기타친인척     345687.8\n",
       "3         가구주+미혼형제자매    3681247.8\n",
       "4                 기타   23793878.3\n",
       "5             모+미혼자녀   27077553.7\n",
       "6             부+미혼자녀    9344759.2\n",
       "7                 부부   57795482.0\n",
       "8           부부+기타친인척     117856.6\n",
       "9            부부+미혼자녀  110325441.9\n",
       "10        부부+미혼자녀+모친    6210285.6\n",
       "11  부부+미혼자녀+부부미혼형제자매    1264397.7\n",
       "12        부부+미혼자녀+부친    1288314.9\n",
       "13        부부+미혼자녀+양친    1819219.5\n",
       "14         부부+미혼형제자매     371190.0\n",
       "15             부부+양친     382981.3\n",
       "16            부부+한부모    2159102.0\n",
       "17            비친족 가구    5844640.1\n",
       "18    조부 또는 조모+미혼손자녀    1257239.9\n",
       "19         조부모+미혼손자녀     826574.9"
      ]
     },
     "execution_count": 276,
     "metadata": {},
     "output_type": "execute_result"
    }
   ],
   "source": [
    "data1_5"
   ]
  },
  {
   "cell_type": "code",
   "execution_count": 281,
   "id": "cfa0511b-ed31-4c2a-9bf9-9299fa292b97",
   "metadata": {},
   "outputs": [
    {
     "data": {
      "text/plain": [
       "<AxesSubplot:xlabel='세대구성중분류', ylabel='빈도수'>"
      ]
     },
     "execution_count": 281,
     "metadata": {},
     "output_type": "execute_result"
    },
    {
     "data": {
      "image/png": "[encoded data removed]",
      "text/plain": [
       "<Figure size 1440x720 with 1 Axes>"
      ]
     },
     "metadata": {},
     "output_type": "display_data"
    }
   ],
   "source": [
    "sns.barplot(data=data1_5, x='세대구성중분류', y='빈도수')"
   ]
  },
  {
   "cell_type": "code",
   "execution_count": 280,
   "id": "8a5e476c-f078-4d0a-b060-c92bee859bd4",
   "metadata": {},
   "outputs": [],
   "source": [
    "data1_5=data1_5.sort_values(by= '빈도수', ascending=False)"
   ]
  },
  {
   "cell_type": "code",
   "execution_count": null,
   "id": "e9528f06-9019-4814-8164-694b495ea31e",
   "metadata": {},
   "outputs": [],
   "source": []
  },
  {
   "cell_type": "code",
   "execution_count": null,
   "id": "df87449f-180c-4b2b-b501-7485f95d8eb9",
   "metadata": {},
   "outputs": [],
   "source": [
    "#### >>> insight : "
   ]
  },
  {
   "cell_type": "code",
   "execution_count": null,
   "id": "b2597198-b214-4a72-952c-2ac3d5728297",
   "metadata": {},
   "outputs": [],
   "source": []
  },
  {
   "cell_type": "markdown",
   "id": "31b62585-0ba2-4c9c-b1c8-ca5ded468934",
   "metadata": {},
   "source": [
    "### 6> 세대구성 소분류 내의 빈도수파악"
   ]
  },
  {
   "cell_type": "code",
   "execution_count": null,
   "id": "d86bad17-297d-4413-8e28-ecee6d948b47",
   "metadata": {},
   "outputs": [],
   "source": []
  },
  {
   "cell_type": "code",
   "execution_count": 165,
   "id": "638ce53a-ffc0-4d73-9df3-1f2d014f071b",
   "metadata": {},
   "outputs": [],
   "source": [
    "data1_6 = data1.groupby('세대구성소분류')[['빈도수']].sum()"
   ]
  },
  {
   "cell_type": "code",
   "execution_count": 166,
   "id": "b6903bbf-78fc-487a-bb44-650a365c80e4",
   "metadata": {},
   "outputs": [],
   "source": [
    "data1_6.reset_index(inplace=True)"
   ]
  },
  {
   "cell_type": "code",
   "execution_count": 167,
   "id": "48dcf46c-3899-410e-980d-0b357c718e72",
   "metadata": {},
   "outputs": [
    {
     "data": {
      "text/plain": [
       "<AxesSubplot:xlabel='세대구성소분류', ylabel='빈도수'>"
      ]
     },
     "execution_count": 167,
     "metadata": {},
     "output_type": "execute_result"
    },
    {
     "data": {
      "image/png": "[encoded data removed]",
      "text/plain": [
       "<Figure size 1440x720 with 1 Axes>"
      ]
     },
     "metadata": {},
     "output_type": "display_data"
    }
   ],
   "source": [
    "sns.barplot(data=data1_6, x='세대구성소분류', y='빈도수')"
   ]
  },
  {
   "cell_type": "code",
   "execution_count": 170,
   "id": "4a38408b-a456-4eb2-b695-a83705bc2b6d",
   "metadata": {},
   "outputs": [
    {
     "data": {
      "text/html": [
       "<div>\n",
       "<style scoped>\n",
       "    .dataframe tbody tr th:only-of-type {\n",
       "        vertical-align: middle;\n",
       "    }\n",
       "\n",
       "    .dataframe tbody tr th {\n",
       "        vertical-align: top;\n",
       "    }\n",
       "\n",
       "    .dataframe thead th {\n",
       "        text-align: right;\n",
       "    }\n",
       "</style>\n",
       "<table border=\"1\" class=\"dataframe\">\n",
       "  <thead>\n",
       "    <tr style=\"text-align: right;\">\n",
       "      <th></th>\n",
       "      <th>세대구성소분류</th>\n",
       "      <th>빈도수</th>\n",
       "    </tr>\n",
       "  </thead>\n",
       "  <tbody>\n",
       "    <tr>\n",
       "      <th>0</th>\n",
       "      <td>가구원수 1명</td>\n",
       "      <td>34937946.0</td>\n",
       "    </tr>\n",
       "    <tr>\n",
       "      <th>1</th>\n",
       "      <td>가구원수 2명</td>\n",
       "      <td>32343586.0</td>\n",
       "    </tr>\n",
       "    <tr>\n",
       "      <th>2</th>\n",
       "      <td>가구원수 3명</td>\n",
       "      <td>25084233.0</td>\n",
       "    </tr>\n",
       "    <tr>\n",
       "      <th>3</th>\n",
       "      <td>가구원수 4명</td>\n",
       "      <td>20605107.0</td>\n",
       "    </tr>\n",
       "    <tr>\n",
       "      <th>4</th>\n",
       "      <td>가구원수 5명</td>\n",
       "      <td>5197859.0</td>\n",
       "    </tr>\n",
       "    <tr>\n",
       "      <th>5</th>\n",
       "      <td>가구원수 6명</td>\n",
       "      <td>1171655.5</td>\n",
       "    </tr>\n",
       "    <tr>\n",
       "      <th>6</th>\n",
       "      <td>가구원수 7명 이상</td>\n",
       "      <td>379533.0</td>\n",
       "    </tr>\n",
       "    <tr>\n",
       "      <th>7</th>\n",
       "      <td>일반가구</td>\n",
       "      <td>119401635.0</td>\n",
       "    </tr>\n",
       "    <tr>\n",
       "      <th>8</th>\n",
       "      <td>주택_다세대주택</td>\n",
       "      <td>11071308.0</td>\n",
       "    </tr>\n",
       "    <tr>\n",
       "      <th>9</th>\n",
       "      <td>주택_단독주택</td>\n",
       "      <td>39009579.5</td>\n",
       "    </tr>\n",
       "    <tr>\n",
       "      <th>10</th>\n",
       "      <td>주택_비거주용건물내 주택</td>\n",
       "      <td>1939439.5</td>\n",
       "    </tr>\n",
       "    <tr>\n",
       "      <th>11</th>\n",
       "      <td>주택_아파트</td>\n",
       "      <td>59490811.0</td>\n",
       "    </tr>\n",
       "    <tr>\n",
       "      <th>12</th>\n",
       "      <td>주택_연립주택</td>\n",
       "      <td>2619121.0</td>\n",
       "    </tr>\n",
       "    <tr>\n",
       "      <th>13</th>\n",
       "      <td>주택이외의 거처_계</td>\n",
       "      <td>5334645.5</td>\n",
       "    </tr>\n",
       "    <tr>\n",
       "      <th>14</th>\n",
       "      <td>평균 가구원수</td>\n",
       "      <td>108440.7</td>\n",
       "    </tr>\n",
       "  </tbody>\n",
       "</table>\n",
       "</div>"
      ],
      "text/plain": [
       "          세대구성소분류          빈도수\n",
       "0         가구원수 1명   34937946.0\n",
       "1         가구원수 2명   32343586.0\n",
       "2         가구원수 3명   25084233.0\n",
       "3         가구원수 4명   20605107.0\n",
       "4         가구원수 5명    5197859.0\n",
       "5         가구원수 6명    1171655.5\n",
       "6      가구원수 7명 이상     379533.0\n",
       "7            일반가구  119401635.0\n",
       "8        주택_다세대주택   11071308.0\n",
       "9         주택_단독주택   39009579.5\n",
       "10  주택_비거주용건물내 주택    1939439.5\n",
       "11         주택_아파트   59490811.0\n",
       "12        주택_연립주택    2619121.0\n",
       "13     주택이외의 거처_계    5334645.5\n",
       "14        평균 가구원수     108440.7"
      ]
     },
     "execution_count": 170,
     "metadata": {},
     "output_type": "execute_result"
    }
   ],
   "source": [
    "data1_6"
   ]
  },
  {
   "cell_type": "code",
   "execution_count": 250,
   "id": "216b580a-9af4-4053-a6b3-d2fade874e4a",
   "metadata": {},
   "outputs": [],
   "source": [
    "data1_6_1 = data1_6.loc[:6]"
   ]
  },
  {
   "cell_type": "code",
   "execution_count": 251,
   "id": "495628c9-b459-41cf-800d-7428b8c3cbbf",
   "metadata": {},
   "outputs": [],
   "source": [
    "def percent_(df_bin, df) :\n",
    "    total = sum(df_bin)\n",
    "    #print(total)\n",
    "    percentage = df_bin/total*100\n",
    "    #print(percentage)\n",
    "    df['%']=percentage\n",
    "    \n",
    "    # 데이터프레임의 항목당 백분율 계산 함수 (매개변수 (DF_백분율로 나타내려는 column, DF))"
   ]
  },
  {
   "cell_type": "code",
   "execution_count": 252,
   "id": "989945e1-592b-4de9-8bff-7fdadb644bbc",
   "metadata": {},
   "outputs": [
    {
     "data": {
      "text/html": [
       "<div>\n",
       "<style scoped>\n",
       "    .dataframe tbody tr th:only-of-type {\n",
       "        vertical-align: middle;\n",
       "    }\n",
       "\n",
       "    .dataframe tbody tr th {\n",
       "        vertical-align: top;\n",
       "    }\n",
       "\n",
       "    .dataframe thead th {\n",
       "        text-align: right;\n",
       "    }\n",
       "</style>\n",
       "<table border=\"1\" class=\"dataframe\">\n",
       "  <thead>\n",
       "    <tr style=\"text-align: right;\">\n",
       "      <th></th>\n",
       "      <th>세대구성소분류</th>\n",
       "      <th>빈도수</th>\n",
       "    </tr>\n",
       "  </thead>\n",
       "  <tbody>\n",
       "    <tr>\n",
       "      <th>0</th>\n",
       "      <td>가구원수 1명</td>\n",
       "      <td>34937946.0</td>\n",
       "    </tr>\n",
       "    <tr>\n",
       "      <th>1</th>\n",
       "      <td>가구원수 2명</td>\n",
       "      <td>32343586.0</td>\n",
       "    </tr>\n",
       "    <tr>\n",
       "      <th>2</th>\n",
       "      <td>가구원수 3명</td>\n",
       "      <td>25084233.0</td>\n",
       "    </tr>\n",
       "    <tr>\n",
       "      <th>3</th>\n",
       "      <td>가구원수 4명</td>\n",
       "      <td>20605107.0</td>\n",
       "    </tr>\n",
       "    <tr>\n",
       "      <th>4</th>\n",
       "      <td>가구원수 5명</td>\n",
       "      <td>5197859.0</td>\n",
       "    </tr>\n",
       "    <tr>\n",
       "      <th>5</th>\n",
       "      <td>가구원수 6명</td>\n",
       "      <td>1171655.5</td>\n",
       "    </tr>\n",
       "    <tr>\n",
       "      <th>6</th>\n",
       "      <td>가구원수 7명 이상</td>\n",
       "      <td>379533.0</td>\n",
       "    </tr>\n",
       "  </tbody>\n",
       "</table>\n",
       "</div>"
      ],
      "text/plain": [
       "      세대구성소분류         빈도수\n",
       "0     가구원수 1명  34937946.0\n",
       "1     가구원수 2명  32343586.0\n",
       "2     가구원수 3명  25084233.0\n",
       "3     가구원수 4명  20605107.0\n",
       "4     가구원수 5명   5197859.0\n",
       "5     가구원수 6명   1171655.5\n",
       "6  가구원수 7명 이상    379533.0"
      ]
     },
     "execution_count": 252,
     "metadata": {},
     "output_type": "execute_result"
    }
   ],
   "source": [
    "data1_6_1"
   ]
  },
  {
   "cell_type": "code",
   "execution_count": 253,
   "id": "e82f3513-55ef-4c34-8ddb-9866d14d9cef",
   "metadata": {},
   "outputs": [],
   "source": [
    "percent_(data1_6_1['빈도수'], data1_6_1)"
   ]
  },
  {
   "cell_type": "code",
   "execution_count": 254,
   "id": "8fbfedfb-6bca-42dc-9417-2387b2a3c7c7",
   "metadata": {},
   "outputs": [
    {
     "data": {
      "text/html": [
       "<div>\n",
       "<style scoped>\n",
       "    .dataframe tbody tr th:only-of-type {\n",
       "        vertical-align: middle;\n",
       "    }\n",
       "\n",
       "    .dataframe tbody tr th {\n",
       "        vertical-align: top;\n",
       "    }\n",
       "\n",
       "    .dataframe thead th {\n",
       "        text-align: right;\n",
       "    }\n",
       "</style>\n",
       "<table border=\"1\" class=\"dataframe\">\n",
       "  <thead>\n",
       "    <tr style=\"text-align: right;\">\n",
       "      <th></th>\n",
       "      <th>세대구성소분류</th>\n",
       "      <th>빈도수</th>\n",
       "      <th>%</th>\n",
       "    </tr>\n",
       "  </thead>\n",
       "  <tbody>\n",
       "    <tr>\n",
       "      <th>0</th>\n",
       "      <td>가구원수 1명</td>\n",
       "      <td>34937946.0</td>\n",
       "      <td>29.183068</td>\n",
       "    </tr>\n",
       "    <tr>\n",
       "      <th>1</th>\n",
       "      <td>가구원수 2명</td>\n",
       "      <td>32343586.0</td>\n",
       "      <td>27.016044</td>\n",
       "    </tr>\n",
       "    <tr>\n",
       "      <th>2</th>\n",
       "      <td>가구원수 3명</td>\n",
       "      <td>25084233.0</td>\n",
       "      <td>20.952431</td>\n",
       "    </tr>\n",
       "    <tr>\n",
       "      <th>3</th>\n",
       "      <td>가구원수 4명</td>\n",
       "      <td>20605107.0</td>\n",
       "      <td>17.211093</td>\n",
       "    </tr>\n",
       "    <tr>\n",
       "      <th>4</th>\n",
       "      <td>가구원수 5명</td>\n",
       "      <td>5197859.0</td>\n",
       "      <td>4.341683</td>\n",
       "    </tr>\n",
       "    <tr>\n",
       "      <th>5</th>\n",
       "      <td>가구원수 6명</td>\n",
       "      <td>1171655.5</td>\n",
       "      <td>0.978664</td>\n",
       "    </tr>\n",
       "    <tr>\n",
       "      <th>6</th>\n",
       "      <td>가구원수 7명 이상</td>\n",
       "      <td>379533.0</td>\n",
       "      <td>0.317017</td>\n",
       "    </tr>\n",
       "  </tbody>\n",
       "</table>\n",
       "</div>"
      ],
      "text/plain": [
       "      세대구성소분류         빈도수          %\n",
       "0     가구원수 1명  34937946.0  29.183068\n",
       "1     가구원수 2명  32343586.0  27.016044\n",
       "2     가구원수 3명  25084233.0  20.952431\n",
       "3     가구원수 4명  20605107.0  17.211093\n",
       "4     가구원수 5명   5197859.0   4.341683\n",
       "5     가구원수 6명   1171655.5   0.978664\n",
       "6  가구원수 7명 이상    379533.0   0.317017"
      ]
     },
     "execution_count": 254,
     "metadata": {},
     "output_type": "execute_result"
    }
   ],
   "source": [
    "data1_6_1"
   ]
  },
  {
   "cell_type": "markdown",
   "id": "c80a0b63-d2bb-433b-98a4-ad6260360638",
   "metadata": {},
   "source": [
    "#### 1>> 소분류 내의 가구원수 별 빈도수 파악"
   ]
  },
  {
   "cell_type": "code",
   "execution_count": 282,
   "id": "aeb7b785-b58d-4395-a219-7d946e72afd1",
   "metadata": {},
   "outputs": [
    {
     "data": {
      "text/plain": [
       "<AxesSubplot:xlabel='세대구성소분류', ylabel='%'>"
      ]
     },
     "execution_count": 282,
     "metadata": {},
     "output_type": "execute_result"
    },
    {
     "data": {
      "image/png": "[encoded data removed]",
      "text/plain": [
       "<Figure size 1440x720 with 1 Axes>"
      ]
     },
     "metadata": {},
     "output_type": "display_data"
    }
   ],
   "source": [
    "sns.barplot(data=data1_6_1, x='세대구성소분류', y='%')"
   ]
  },
  {
   "cell_type": "markdown",
   "id": "048d20da-7793-4e40-b780-0dbd472a3538",
   "metadata": {},
   "source": [
    "#### >>> insight : 가구원수가 1.2.3.4인이 대다수의 배달주문 점유율을 차지함 but 인구수의 가구원수별 비율을 보고 그 빈도수가 더중요"
   ]
  },
  {
   "cell_type": "code",
   "execution_count": null,
   "id": "9ed6a7e5-a469-4e1f-ac3a-7abb73f88eb0",
   "metadata": {},
   "outputs": [],
   "source": []
  },
  {
   "cell_type": "code",
   "execution_count": 262,
   "id": "5208d772-62b1-40e5-8086-3949b95b4b19",
   "metadata": {},
   "outputs": [
    {
     "data": {
      "text/plain": [
       "세대구성소분류    가구원수 1명가구원수 2명가구원수 3명가구원수 4명가구원수 5명가구원수 6명가구원수...\n",
       "빈도수                                              119719919.5\n",
       "dtype: object"
      ]
     },
     "execution_count": 262,
     "metadata": {},
     "output_type": "execute_result"
    }
   ],
   "source": [
    "data1_6[:7].sum()"
   ]
  },
  {
   "cell_type": "code",
   "execution_count": 257,
   "id": "89fe3d09-c2a7-4c3b-aea6-0042363a0ee0",
   "metadata": {},
   "outputs": [
    {
     "data": {
      "text/plain": [
       "세대구성소분류           일반가구\n",
       "빈도수        119401635.0\n",
       "Name: 7, dtype: object"
      ]
     },
     "execution_count": 257,
     "metadata": {},
     "output_type": "execute_result"
    }
   ],
   "source": [
    "data1_6.loc[7]"
   ]
  },
  {
   "cell_type": "code",
   "execution_count": null,
   "id": "5a53b4a4-d2bb-4ea3-a5e8-3f1fac778e69",
   "metadata": {},
   "outputs": [],
   "source": []
  },
  {
   "cell_type": "code",
   "execution_count": 258,
   "id": "e7854837-fc18-4e79-afaf-e297bd43514a",
   "metadata": {},
   "outputs": [
    {
     "data": {
      "text/plain": [
       "세대구성소분류    주택_다세대주택주택_단독주택주택_비거주용건물내 주택주택_아파트주택_연립주택주택이외의...\n",
       "빈도수                                              119573345.2\n",
       "dtype: object"
      ]
     },
     "execution_count": 258,
     "metadata": {},
     "output_type": "execute_result"
    }
   ],
   "source": [
    "data1_6[8:].sum()"
   ]
  },
  {
   "cell_type": "code",
   "execution_count": 261,
   "id": "2236980c-1f03-4e74-b1a8-f82c0897f09f",
   "metadata": {},
   "outputs": [
    {
     "data": {
      "text/html": [
       "<div>\n",
       "<style scoped>\n",
       "    .dataframe tbody tr th:only-of-type {\n",
       "        vertical-align: middle;\n",
       "    }\n",
       "\n",
       "    .dataframe tbody tr th {\n",
       "        vertical-align: top;\n",
       "    }\n",
       "\n",
       "    .dataframe thead th {\n",
       "        text-align: right;\n",
       "    }\n",
       "</style>\n",
       "<table border=\"1\" class=\"dataframe\">\n",
       "  <thead>\n",
       "    <tr style=\"text-align: right;\">\n",
       "      <th></th>\n",
       "      <th>기준연도</th>\n",
       "      <th>시군구코드</th>\n",
       "      <th>시도명</th>\n",
       "      <th>시군구명</th>\n",
       "      <th>세대구성대분류</th>\n",
       "      <th>세대구성중분류</th>\n",
       "      <th>세대구성소분류</th>\n",
       "      <th>단위</th>\n",
       "      <th>빈도수</th>\n",
       "    </tr>\n",
       "  </thead>\n",
       "  <tbody>\n",
       "    <tr>\n",
       "      <th>0</th>\n",
       "      <td>2015</td>\n",
       "      <td>11110</td>\n",
       "      <td>서울특별시</td>\n",
       "      <td>종로구</td>\n",
       "      <td>1세대 가구</td>\n",
       "      <td>부부</td>\n",
       "      <td>일반가구</td>\n",
       "      <td>가구</td>\n",
       "      <td>8162.0</td>\n",
       "    </tr>\n",
       "    <tr>\n",
       "      <th>7</th>\n",
       "      <td>2015</td>\n",
       "      <td>11110</td>\n",
       "      <td>서울특별시</td>\n",
       "      <td>종로구</td>\n",
       "      <td>1세대 가구</td>\n",
       "      <td>부부+미혼형제자매</td>\n",
       "      <td>일반가구</td>\n",
       "      <td>가구</td>\n",
       "      <td>64.0</td>\n",
       "    </tr>\n",
       "    <tr>\n",
       "      <th>14</th>\n",
       "      <td>2015</td>\n",
       "      <td>11110</td>\n",
       "      <td>서울특별시</td>\n",
       "      <td>종로구</td>\n",
       "      <td>1세대 가구</td>\n",
       "      <td>부부+기타친인척</td>\n",
       "      <td>일반가구</td>\n",
       "      <td>가구</td>\n",
       "      <td>13.0</td>\n",
       "    </tr>\n",
       "    <tr>\n",
       "      <th>21</th>\n",
       "      <td>2015</td>\n",
       "      <td>11110</td>\n",
       "      <td>서울특별시</td>\n",
       "      <td>종로구</td>\n",
       "      <td>1세대 가구</td>\n",
       "      <td>가구주+미혼형제자매</td>\n",
       "      <td>일반가구</td>\n",
       "      <td>가구</td>\n",
       "      <td>1096.0</td>\n",
       "    </tr>\n",
       "    <tr>\n",
       "      <th>28</th>\n",
       "      <td>2015</td>\n",
       "      <td>11110</td>\n",
       "      <td>서울특별시</td>\n",
       "      <td>종로구</td>\n",
       "      <td>1세대 가구</td>\n",
       "      <td>가구주+기타친인척</td>\n",
       "      <td>일반가구</td>\n",
       "      <td>가구</td>\n",
       "      <td>78.0</td>\n",
       "    </tr>\n",
       "    <tr>\n",
       "      <th>...</th>\n",
       "      <td>...</td>\n",
       "      <td>...</td>\n",
       "      <td>...</td>\n",
       "      <td>...</td>\n",
       "      <td>...</td>\n",
       "      <td>...</td>\n",
       "      <td>...</td>\n",
       "      <td>...</td>\n",
       "      <td>...</td>\n",
       "    </tr>\n",
       "    <tr>\n",
       "      <th>450965</th>\n",
       "      <td>2020</td>\n",
       "      <td>50130</td>\n",
       "      <td>제주특별자치도</td>\n",
       "      <td>서귀포시</td>\n",
       "      <td>3세대 가구</td>\n",
       "      <td>부부+미혼자녀+모친</td>\n",
       "      <td>일반가구</td>\n",
       "      <td>가구</td>\n",
       "      <td>1226.0</td>\n",
       "    </tr>\n",
       "    <tr>\n",
       "      <th>450972</th>\n",
       "      <td>2020</td>\n",
       "      <td>50130</td>\n",
       "      <td>제주특별자치도</td>\n",
       "      <td>서귀포시</td>\n",
       "      <td>3세대 가구</td>\n",
       "      <td>기타</td>\n",
       "      <td>일반가구</td>\n",
       "      <td>가구</td>\n",
       "      <td>1842.0</td>\n",
       "    </tr>\n",
       "    <tr>\n",
       "      <th>450979</th>\n",
       "      <td>2020</td>\n",
       "      <td>50130</td>\n",
       "      <td>제주특별자치도</td>\n",
       "      <td>서귀포시</td>\n",
       "      <td>4세대 이상 가구</td>\n",
       "      <td>4세대 이상 가구</td>\n",
       "      <td>일반가구</td>\n",
       "      <td>가구</td>\n",
       "      <td>43.0</td>\n",
       "    </tr>\n",
       "    <tr>\n",
       "      <th>450986</th>\n",
       "      <td>2020</td>\n",
       "      <td>50130</td>\n",
       "      <td>제주특별자치도</td>\n",
       "      <td>서귀포시</td>\n",
       "      <td>1인 가구</td>\n",
       "      <td>1인 가구</td>\n",
       "      <td>일반가구</td>\n",
       "      <td>가구</td>\n",
       "      <td>22817.0</td>\n",
       "    </tr>\n",
       "    <tr>\n",
       "      <th>450993</th>\n",
       "      <td>2020</td>\n",
       "      <td>50130</td>\n",
       "      <td>제주특별자치도</td>\n",
       "      <td>서귀포시</td>\n",
       "      <td>비친족 가구</td>\n",
       "      <td>비친족 가구</td>\n",
       "      <td>일반가구</td>\n",
       "      <td>가구</td>\n",
       "      <td>2329.0</td>\n",
       "    </tr>\n",
       "  </tbody>\n",
       "</table>\n",
       "<p>33000 rows × 9 columns</p>\n",
       "</div>"
      ],
      "text/plain": [
       "        기준연도  시군구코드      시도명  시군구명    세대구성대분류     세대구성중분류 세대구성소분류  단위      빈도수\n",
       "0       2015  11110    서울특별시   종로구     1세대 가구          부부    일반가구  가구   8162.0\n",
       "7       2015  11110    서울특별시   종로구     1세대 가구   부부+미혼형제자매    일반가구  가구     64.0\n",
       "14      2015  11110    서울특별시   종로구     1세대 가구    부부+기타친인척    일반가구  가구     13.0\n",
       "21      2015  11110    서울특별시   종로구     1세대 가구  가구주+미혼형제자매    일반가구  가구   1096.0\n",
       "28      2015  11110    서울특별시   종로구     1세대 가구   가구주+기타친인척    일반가구  가구     78.0\n",
       "...      ...    ...      ...   ...        ...         ...     ...  ..      ...\n",
       "450965  2020  50130  제주특별자치도  서귀포시     3세대 가구  부부+미혼자녀+모친    일반가구  가구   1226.0\n",
       "450972  2020  50130  제주특별자치도  서귀포시     3세대 가구          기타    일반가구  가구   1842.0\n",
       "450979  2020  50130  제주특별자치도  서귀포시  4세대 이상 가구   4세대 이상 가구    일반가구  가구     43.0\n",
       "450986  2020  50130  제주특별자치도  서귀포시      1인 가구       1인 가구    일반가구  가구  22817.0\n",
       "450993  2020  50130  제주특별자치도  서귀포시     비친족 가구      비친족 가구    일반가구  가구   2329.0\n",
       "\n",
       "[33000 rows x 9 columns]"
      ]
     },
     "execution_count": 261,
     "metadata": {},
     "output_type": "execute_result"
    }
   ],
   "source": [
    "data1[data1['세대구성소분류']=='일반가구']"
   ]
  },
  {
   "cell_type": "code",
   "execution_count": 283,
   "id": "ee8260f3-93e4-43fb-a936-a4cebfced485",
   "metadata": {},
   "outputs": [
    {
     "data": {
      "text/html": [
       "<div>\n",
       "<style scoped>\n",
       "    .dataframe tbody tr th:only-of-type {\n",
       "        vertical-align: middle;\n",
       "    }\n",
       "\n",
       "    .dataframe tbody tr th {\n",
       "        vertical-align: top;\n",
       "    }\n",
       "\n",
       "    .dataframe thead th {\n",
       "        text-align: right;\n",
       "    }\n",
       "</style>\n",
       "<table border=\"1\" class=\"dataframe\">\n",
       "  <thead>\n",
       "    <tr style=\"text-align: right;\">\n",
       "      <th></th>\n",
       "      <th>세대구성소분류</th>\n",
       "      <th>빈도수</th>\n",
       "    </tr>\n",
       "  </thead>\n",
       "  <tbody>\n",
       "    <tr>\n",
       "      <th>8</th>\n",
       "      <td>주택_다세대주택</td>\n",
       "      <td>11071308.0</td>\n",
       "    </tr>\n",
       "    <tr>\n",
       "      <th>9</th>\n",
       "      <td>주택_단독주택</td>\n",
       "      <td>39009579.5</td>\n",
       "    </tr>\n",
       "    <tr>\n",
       "      <th>10</th>\n",
       "      <td>주택_비거주용건물내 주택</td>\n",
       "      <td>1939439.5</td>\n",
       "    </tr>\n",
       "    <tr>\n",
       "      <th>11</th>\n",
       "      <td>주택_아파트</td>\n",
       "      <td>59490811.0</td>\n",
       "    </tr>\n",
       "    <tr>\n",
       "      <th>12</th>\n",
       "      <td>주택_연립주택</td>\n",
       "      <td>2619121.0</td>\n",
       "    </tr>\n",
       "    <tr>\n",
       "      <th>13</th>\n",
       "      <td>주택이외의 거처_계</td>\n",
       "      <td>5334645.5</td>\n",
       "    </tr>\n",
       "    <tr>\n",
       "      <th>14</th>\n",
       "      <td>평균 가구원수</td>\n",
       "      <td>108440.7</td>\n",
       "    </tr>\n",
       "  </tbody>\n",
       "</table>\n",
       "</div>"
      ],
      "text/plain": [
       "          세대구성소분류         빈도수\n",
       "8        주택_다세대주택  11071308.0\n",
       "9         주택_단독주택  39009579.5\n",
       "10  주택_비거주용건물내 주택   1939439.5\n",
       "11         주택_아파트  59490811.0\n",
       "12        주택_연립주택   2619121.0\n",
       "13     주택이외의 거처_계   5334645.5\n",
       "14        평균 가구원수    108440.7"
      ]
     },
     "execution_count": 283,
     "metadata": {},
     "output_type": "execute_result"
    }
   ],
   "source": [
    "data1_6[8:]"
   ]
  },
  {
   "cell_type": "code",
   "execution_count": 284,
   "id": "b336cb59-23b5-4eb4-9f40-a2ddd3e003de",
   "metadata": {},
   "outputs": [],
   "source": [
    "data1_6_2=data1_6[8:]"
   ]
  },
  {
   "cell_type": "code",
   "execution_count": 285,
   "id": "bb002876-2f1e-4f0b-a8d8-0616b4e3e7c0",
   "metadata": {},
   "outputs": [],
   "source": [
    "percent_(data1_6_2['빈도수'], data1_6_2)"
   ]
  },
  {
   "cell_type": "code",
   "execution_count": 287,
   "id": "8664ed29-eea5-4627-a086-b160ac83fb48",
   "metadata": {},
   "outputs": [],
   "source": [
    "data1_6_2= data1_6_2.sort_values(by='%', ascending=False)"
   ]
  },
  {
   "cell_type": "code",
   "execution_count": 289,
   "id": "9efefd94-f596-44c1-90af-1bfc8b2e8962",
   "metadata": {},
   "outputs": [
    {
     "data": {
      "text/html": [
       "<div>\n",
       "<style scoped>\n",
       "    .dataframe tbody tr th:only-of-type {\n",
       "        vertical-align: middle;\n",
       "    }\n",
       "\n",
       "    .dataframe tbody tr th {\n",
       "        vertical-align: top;\n",
       "    }\n",
       "\n",
       "    .dataframe thead th {\n",
       "        text-align: right;\n",
       "    }\n",
       "</style>\n",
       "<table border=\"1\" class=\"dataframe\">\n",
       "  <thead>\n",
       "    <tr style=\"text-align: right;\">\n",
       "      <th></th>\n",
       "      <th>세대구성소분류</th>\n",
       "      <th>빈도수</th>\n",
       "      <th>%</th>\n",
       "    </tr>\n",
       "  </thead>\n",
       "  <tbody>\n",
       "    <tr>\n",
       "      <th>11</th>\n",
       "      <td>주택_아파트</td>\n",
       "      <td>59490811.0</td>\n",
       "      <td>49.752569</td>\n",
       "    </tr>\n",
       "    <tr>\n",
       "      <th>9</th>\n",
       "      <td>주택_단독주택</td>\n",
       "      <td>39009579.5</td>\n",
       "      <td>32.623976</td>\n",
       "    </tr>\n",
       "    <tr>\n",
       "      <th>8</th>\n",
       "      <td>주택_다세대주택</td>\n",
       "      <td>11071308.0</td>\n",
       "      <td>9.259010</td>\n",
       "    </tr>\n",
       "    <tr>\n",
       "      <th>13</th>\n",
       "      <td>주택이외의 거처_계</td>\n",
       "      <td>5334645.5</td>\n",
       "      <td>4.461400</td>\n",
       "    </tr>\n",
       "    <tr>\n",
       "      <th>12</th>\n",
       "      <td>주택_연립주택</td>\n",
       "      <td>2619121.0</td>\n",
       "      <td>2.190389</td>\n",
       "    </tr>\n",
       "    <tr>\n",
       "      <th>10</th>\n",
       "      <td>주택_비거주용건물내 주택</td>\n",
       "      <td>1939439.5</td>\n",
       "      <td>1.621966</td>\n",
       "    </tr>\n",
       "    <tr>\n",
       "      <th>14</th>\n",
       "      <td>평균 가구원수</td>\n",
       "      <td>108440.7</td>\n",
       "      <td>0.090690</td>\n",
       "    </tr>\n",
       "  </tbody>\n",
       "</table>\n",
       "</div>"
      ],
      "text/plain": [
       "          세대구성소분류         빈도수          %\n",
       "11         주택_아파트  59490811.0  49.752569\n",
       "9         주택_단독주택  39009579.5  32.623976\n",
       "8        주택_다세대주택  11071308.0   9.259010\n",
       "13     주택이외의 거처_계   5334645.5   4.461400\n",
       "12        주택_연립주택   2619121.0   2.190389\n",
       "10  주택_비거주용건물내 주택   1939439.5   1.621966\n",
       "14        평균 가구원수    108440.7   0.090690"
      ]
     },
     "execution_count": 289,
     "metadata": {},
     "output_type": "execute_result"
    }
   ],
   "source": [
    "data1_6_2"
   ]
  },
  {
   "cell_type": "code",
   "execution_count": 288,
   "id": "bab73cf4-2721-4ce3-ab0b-6368a6456da5",
   "metadata": {},
   "outputs": [
    {
     "data": {
      "text/plain": [
       "<AxesSubplot:xlabel='세대구성소분류', ylabel='%'>"
      ]
     },
     "execution_count": 288,
     "metadata": {},
     "output_type": "execute_result"
    },
    {
     "data": {
      "image/png": "[encoded data removed]",
      "text/plain": [
       "<Figure size 1440x720 with 1 Axes>"
      ]
     },
     "metadata": {},
     "output_type": "display_data"
    }
   ],
   "source": [
    "sns.barplot(data=data1_6_2, x='세대구성소분류', y='%')"
   ]
  },
  {
   "cell_type": "markdown",
   "id": "47759ef5-4145-4398-b2c6-f57cd87912a6",
   "metadata": {},
   "source": [
    "#### >>> insight : 아파트와 단독주택에서 80% 이상의 배달율 차지 but 역시 비율별 비교가 더 정확"
   ]
  },
  {
   "cell_type": "code",
   "execution_count": null,
   "id": "860d5e66-c931-408d-a7b2-aeabe8cab3f1",
   "metadata": {},
   "outputs": [],
   "source": []
  }
 ],
 "metadata": {
  "kernelspec": {
   "display_name": "Python 3 (ipykernel)",
   "language": "python",
   "name": "python3"
  },
  "language_info": {
   "codemirror_mode": {
    "name": "ipython",
    "version": 3
   },
   "file_extension": ".py",
   "mimetype": "text/x-python",
   "name": "python",
   "nbconvert_exporter": "python",
   "pygments_lexer": "ipython3",
   "version": "3.9.12"
  }
 },
 "nbformat": 4,
 "nbformat_minor": 5
}
