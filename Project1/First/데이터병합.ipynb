{
 "cells": [
  {
   "cell_type": "code",
   "execution_count": 2,
   "metadata": {},
   "outputs": [],
   "source": [
    "import os\n",
    "import sys\n",
    "import re\n",
    "import pickle\n",
    "from collections import defaultdict, OrderedDict, Counter\n",
    "import warnings\n",
    "warnings.filterwarnings('ignore')\n",
    "\n",
    "import json\n",
    "from tqdm import tqdm"
   ]
  },
  {
   "cell_type": "code",
   "execution_count": 5,
   "metadata": {},
   "outputs": [],
   "source": [
    "import numpy as np\n",
    "import pandas as pd\n",
    "# from pandas.plotting import scatter_matrix\n",
    "# from pandas_profiling import ProfileReport\n",
    "from missingno import dendrogram\n",
    "import missingno as msno\n",
    "\n",
    "# pd.options.display.float_format = '{:0.5f}'.format`"
   ]
  },
  {
   "cell_type": "code",
   "execution_count": 6,
   "metadata": {},
   "outputs": [],
   "source": [
    "import matplotlib.pyplot as plt\n",
    "import seaborn as sns\n",
    "\n",
    "# settings for seaborn plot sizes\n",
    "sns.set(rc={'figure.figsize':(4.5, 3)})"
   ]
  },
  {
   "cell_type": "code",
   "execution_count": 31,
   "metadata": {},
   "outputs": [],
   "source": [
    "배달_주문건수 = pd.read_csv('data/업종-지역별 배달 주문건수.csv', header=None)\n",
    "평균배달소요시간 = pd.read_csv('data/업종-지역별 평균배달소요시간.csv', header=None)\n",
    "평균주문금액 = pd.read_csv('data/업종-지역별 평균주문금액.csv', header=None)"
   ]
  },
  {
   "cell_type": "code",
   "execution_count": 37,
   "metadata": {},
   "outputs": [
    {
     "ename": "ValueError",
     "evalue": "Length mismatch: Expected axis has 7 elements, new values have 6 elements",
     "output_type": "error",
     "traceback": [
      "\u001b[1;31m---------------------------------------------------------------------------\u001b[0m",
      "\u001b[1;31mValueError\u001b[0m                                Traceback (most recent call last)",
      "\u001b[1;32m~\\AppData\\Local\\Temp\\ipykernel_3780\\555241507.py\u001b[0m in \u001b[0;36m<module>\u001b[1;34m\u001b[0m\n\u001b[0;32m      1\u001b[0m \u001b[1;32mfor\u001b[0m \u001b[0mdff\u001b[0m \u001b[1;32min\u001b[0m \u001b[1;33m[\u001b[0m\u001b[0m배달_주문건수\u001b[0m\u001b[1;33m,\u001b[0m \u001b[0m평균배달소요시간\u001b[0m\u001b[1;33m,\u001b[0m \u001b[0m평균주문금액\u001b[0m\u001b[1;33m]\u001b[0m\u001b[1;33m:\u001b[0m\u001b[1;33m\u001b[0m\u001b[1;33m\u001b[0m\u001b[0m\n\u001b[1;32m----> 2\u001b[1;33m     \u001b[0mdff\u001b[0m\u001b[1;33m.\u001b[0m\u001b[0mcolumns\u001b[0m \u001b[1;33m=\u001b[0m \u001b[1;33m[\u001b[0m\u001b[1;34m'날짜'\u001b[0m\u001b[1;33m,\u001b[0m \u001b[1;34m'시간'\u001b[0m\u001b[1;33m,\u001b[0m \u001b[1;34m'업종명'\u001b[0m\u001b[1;33m,\u001b[0m \u001b[1;34m'광역시도'\u001b[0m \u001b[1;33m,\u001b[0m \u001b[1;34m'시군구'\u001b[0m\u001b[1;33m,\u001b[0m \u001b[1;34m'value'\u001b[0m\u001b[1;33m]\u001b[0m\u001b[1;33m\u001b[0m\u001b[1;33m\u001b[0m\u001b[0m\n\u001b[0m\u001b[0;32m      3\u001b[0m     \u001b[1;31m# print(dff.head(3))\u001b[0m\u001b[1;33m\u001b[0m\u001b[1;33m\u001b[0m\u001b[1;33m\u001b[0m\u001b[0m\n\u001b[0;32m      4\u001b[0m     \u001b[1;31m# print(dff.info())\u001b[0m\u001b[1;33m\u001b[0m\u001b[1;33m\u001b[0m\u001b[1;33m\u001b[0m\u001b[0m\n\u001b[0;32m      5\u001b[0m     \u001b[0mdff\u001b[0m\u001b[1;33m[\u001b[0m\u001b[1;34m'group'\u001b[0m\u001b[1;33m]\u001b[0m \u001b[1;33m=\u001b[0m \u001b[0mdff\u001b[0m\u001b[1;33m[\u001b[0m\u001b[1;34m'날짜'\u001b[0m\u001b[1;33m]\u001b[0m \u001b[1;33m+\u001b[0m \u001b[0mdff\u001b[0m\u001b[1;33m[\u001b[0m\u001b[1;34m'시간'\u001b[0m\u001b[1;33m]\u001b[0m\u001b[1;33m.\u001b[0m\u001b[0mastype\u001b[0m\u001b[1;33m(\u001b[0m\u001b[0mstr\u001b[0m\u001b[1;33m)\u001b[0m \u001b[1;33m+\u001b[0m \u001b[0mdff\u001b[0m\u001b[1;33m[\u001b[0m\u001b[1;34m'업종명'\u001b[0m\u001b[1;33m]\u001b[0m \u001b[1;33m+\u001b[0m \u001b[0mdff\u001b[0m\u001b[1;33m[\u001b[0m\u001b[1;34m'광역시도'\u001b[0m\u001b[1;33m]\u001b[0m \u001b[1;33m+\u001b[0m \u001b[0mdff\u001b[0m\u001b[1;33m[\u001b[0m\u001b[1;34m'시군구'\u001b[0m\u001b[1;33m]\u001b[0m\u001b[1;33m\u001b[0m\u001b[1;33m\u001b[0m\u001b[0m\n",
      "\u001b[1;32mc:\\Users\\user\\anaconda3\\envs\\python_3_7_13\\lib\\site-packages\\pandas\\core\\generic.py\u001b[0m in \u001b[0;36m__setattr__\u001b[1;34m(self, name, value)\u001b[0m\n\u001b[0;32m   5498\u001b[0m         \u001b[1;32mtry\u001b[0m\u001b[1;33m:\u001b[0m\u001b[1;33m\u001b[0m\u001b[1;33m\u001b[0m\u001b[0m\n\u001b[0;32m   5499\u001b[0m             \u001b[0mobject\u001b[0m\u001b[1;33m.\u001b[0m\u001b[0m__getattribute__\u001b[0m\u001b[1;33m(\u001b[0m\u001b[0mself\u001b[0m\u001b[1;33m,\u001b[0m \u001b[0mname\u001b[0m\u001b[1;33m)\u001b[0m\u001b[1;33m\u001b[0m\u001b[1;33m\u001b[0m\u001b[0m\n\u001b[1;32m-> 5500\u001b[1;33m             \u001b[1;32mreturn\u001b[0m \u001b[0mobject\u001b[0m\u001b[1;33m.\u001b[0m\u001b[0m__setattr__\u001b[0m\u001b[1;33m(\u001b[0m\u001b[0mself\u001b[0m\u001b[1;33m,\u001b[0m \u001b[0mname\u001b[0m\u001b[1;33m,\u001b[0m \u001b[0mvalue\u001b[0m\u001b[1;33m)\u001b[0m\u001b[1;33m\u001b[0m\u001b[1;33m\u001b[0m\u001b[0m\n\u001b[0m\u001b[0;32m   5501\u001b[0m         \u001b[1;32mexcept\u001b[0m \u001b[0mAttributeError\u001b[0m\u001b[1;33m:\u001b[0m\u001b[1;33m\u001b[0m\u001b[1;33m\u001b[0m\u001b[0m\n\u001b[0;32m   5502\u001b[0m             \u001b[1;32mpass\u001b[0m\u001b[1;33m\u001b[0m\u001b[1;33m\u001b[0m\u001b[0m\n",
      "\u001b[1;32mc:\\Users\\user\\anaconda3\\envs\\python_3_7_13\\lib\\site-packages\\pandas\\_libs\\properties.pyx\u001b[0m in \u001b[0;36mpandas._libs.properties.AxisProperty.__set__\u001b[1;34m()\u001b[0m\n",
      "\u001b[1;32mc:\\Users\\user\\anaconda3\\envs\\python_3_7_13\\lib\\site-packages\\pandas\\core\\generic.py\u001b[0m in \u001b[0;36m_set_axis\u001b[1;34m(self, axis, labels)\u001b[0m\n\u001b[0;32m    764\u001b[0m     \u001b[1;32mdef\u001b[0m \u001b[0m_set_axis\u001b[0m\u001b[1;33m(\u001b[0m\u001b[0mself\u001b[0m\u001b[1;33m,\u001b[0m \u001b[0maxis\u001b[0m\u001b[1;33m:\u001b[0m \u001b[0mint\u001b[0m\u001b[1;33m,\u001b[0m \u001b[0mlabels\u001b[0m\u001b[1;33m:\u001b[0m \u001b[0mIndex\u001b[0m\u001b[1;33m)\u001b[0m \u001b[1;33m->\u001b[0m \u001b[1;32mNone\u001b[0m\u001b[1;33m:\u001b[0m\u001b[1;33m\u001b[0m\u001b[1;33m\u001b[0m\u001b[0m\n\u001b[0;32m    765\u001b[0m         \u001b[0mlabels\u001b[0m \u001b[1;33m=\u001b[0m \u001b[0mensure_index\u001b[0m\u001b[1;33m(\u001b[0m\u001b[0mlabels\u001b[0m\u001b[1;33m)\u001b[0m\u001b[1;33m\u001b[0m\u001b[1;33m\u001b[0m\u001b[0m\n\u001b[1;32m--> 766\u001b[1;33m         \u001b[0mself\u001b[0m\u001b[1;33m.\u001b[0m\u001b[0m_mgr\u001b[0m\u001b[1;33m.\u001b[0m\u001b[0mset_axis\u001b[0m\u001b[1;33m(\u001b[0m\u001b[0maxis\u001b[0m\u001b[1;33m,\u001b[0m \u001b[0mlabels\u001b[0m\u001b[1;33m)\u001b[0m\u001b[1;33m\u001b[0m\u001b[1;33m\u001b[0m\u001b[0m\n\u001b[0m\u001b[0;32m    767\u001b[0m         \u001b[0mself\u001b[0m\u001b[1;33m.\u001b[0m\u001b[0m_clear_item_cache\u001b[0m\u001b[1;33m(\u001b[0m\u001b[1;33m)\u001b[0m\u001b[1;33m\u001b[0m\u001b[1;33m\u001b[0m\u001b[0m\n\u001b[0;32m    768\u001b[0m \u001b[1;33m\u001b[0m\u001b[0m\n",
      "\u001b[1;32mc:\\Users\\user\\anaconda3\\envs\\python_3_7_13\\lib\\site-packages\\pandas\\core\\internals\\managers.py\u001b[0m in \u001b[0;36mset_axis\u001b[1;34m(self, axis, new_labels)\u001b[0m\n\u001b[0;32m    214\u001b[0m     \u001b[1;32mdef\u001b[0m \u001b[0mset_axis\u001b[0m\u001b[1;33m(\u001b[0m\u001b[0mself\u001b[0m\u001b[1;33m,\u001b[0m \u001b[0maxis\u001b[0m\u001b[1;33m:\u001b[0m \u001b[0mint\u001b[0m\u001b[1;33m,\u001b[0m \u001b[0mnew_labels\u001b[0m\u001b[1;33m:\u001b[0m \u001b[0mIndex\u001b[0m\u001b[1;33m)\u001b[0m \u001b[1;33m->\u001b[0m \u001b[1;32mNone\u001b[0m\u001b[1;33m:\u001b[0m\u001b[1;33m\u001b[0m\u001b[1;33m\u001b[0m\u001b[0m\n\u001b[0;32m    215\u001b[0m         \u001b[1;31m# Caller is responsible for ensuring we have an Index object.\u001b[0m\u001b[1;33m\u001b[0m\u001b[1;33m\u001b[0m\u001b[1;33m\u001b[0m\u001b[0m\n\u001b[1;32m--> 216\u001b[1;33m         \u001b[0mself\u001b[0m\u001b[1;33m.\u001b[0m\u001b[0m_validate_set_axis\u001b[0m\u001b[1;33m(\u001b[0m\u001b[0maxis\u001b[0m\u001b[1;33m,\u001b[0m \u001b[0mnew_labels\u001b[0m\u001b[1;33m)\u001b[0m\u001b[1;33m\u001b[0m\u001b[1;33m\u001b[0m\u001b[0m\n\u001b[0m\u001b[0;32m    217\u001b[0m         \u001b[0mself\u001b[0m\u001b[1;33m.\u001b[0m\u001b[0maxes\u001b[0m\u001b[1;33m[\u001b[0m\u001b[0maxis\u001b[0m\u001b[1;33m]\u001b[0m \u001b[1;33m=\u001b[0m \u001b[0mnew_labels\u001b[0m\u001b[1;33m\u001b[0m\u001b[1;33m\u001b[0m\u001b[0m\n\u001b[0;32m    218\u001b[0m \u001b[1;33m\u001b[0m\u001b[0m\n",
      "\u001b[1;32mc:\\Users\\user\\anaconda3\\envs\\python_3_7_13\\lib\\site-packages\\pandas\\core\\internals\\base.py\u001b[0m in \u001b[0;36m_validate_set_axis\u001b[1;34m(self, axis, new_labels)\u001b[0m\n\u001b[0;32m     56\u001b[0m         \u001b[1;32melif\u001b[0m \u001b[0mnew_len\u001b[0m \u001b[1;33m!=\u001b[0m \u001b[0mold_len\u001b[0m\u001b[1;33m:\u001b[0m\u001b[1;33m\u001b[0m\u001b[1;33m\u001b[0m\u001b[0m\n\u001b[0;32m     57\u001b[0m             raise ValueError(\n\u001b[1;32m---> 58\u001b[1;33m                 \u001b[1;34mf\"Length mismatch: Expected axis has {old_len} elements, new \"\u001b[0m\u001b[1;33m\u001b[0m\u001b[1;33m\u001b[0m\u001b[0m\n\u001b[0m\u001b[0;32m     59\u001b[0m                 \u001b[1;34mf\"values have {new_len} elements\"\u001b[0m\u001b[1;33m\u001b[0m\u001b[1;33m\u001b[0m\u001b[0m\n\u001b[0;32m     60\u001b[0m             )\n",
      "\u001b[1;31mValueError\u001b[0m: Length mismatch: Expected axis has 7 elements, new values have 6 elements"
     ]
    }
   ],
   "source": [
    "for dff in [배달_주문건수, 평균배달소요시간, 평균주문금액]:\n",
    "    dff.columns = ['날짜', '시간', '업종명', '광역시도' , '시군구', 'value']\n",
    "    # print(dff.head(3))\n",
    "    # print(dff.info())\n",
    "    dff['group'] = dff['날짜'] + dff['시간'].astype(str) + dff['업종명'] + dff['광역시도'] + dff['시군구']"
   ]
  },
  {
   "cell_type": "code",
   "execution_count": 49,
   "metadata": {},
   "outputs": [],
   "source": [
    "df_1 = pd.merge(배달_주문건수, 평균배달소요시간, on='group', how='inner')"
   ]
  },
  {
   "cell_type": "code",
   "execution_count": 53,
   "metadata": {},
   "outputs": [],
   "source": [
    "df_2 = pd.merge(df_1, 평균주문금액, on='group', how='inner')"
   ]
  },
  {
   "cell_type": "code",
   "execution_count": 48,
   "metadata": {},
   "outputs": [
    {
     "name": "stdout",
     "output_type": "stream",
     "text": [
      "3367316\n",
      "3333595\n",
      "3223132\n"
     ]
    }
   ],
   "source": [
    "for dff in [배달_주문건수, 평균배달소요시간, 평균주문금액]:\n",
    "    print(len(dff['group'].unique()))"
   ]
  },
  {
   "cell_type": "code",
   "execution_count": 67,
   "metadata": {},
   "outputs": [
    {
     "data": {
      "text/plain": [
       "['날짜', '시간', '업종명', '광역시도', '시군구', 'value_x', 'value', 'value_y']"
      ]
     },
     "execution_count": 67,
     "metadata": {},
     "output_type": "execute_result"
    }
   ],
   "source": [
    "list(df_2.columns[-6:-1]) + ['value_x', 'value', 'value_y']"
   ]
  },
  {
   "cell_type": "code",
   "execution_count": 68,
   "metadata": {},
   "outputs": [],
   "source": [
    "df = df_2[list(df_2.columns[-6:-1]) + ['value_x', 'value', 'value_y']]"
   ]
  },
  {
   "cell_type": "code",
   "execution_count": 69,
   "metadata": {},
   "outputs": [
    {
     "data": {
      "text/html": [
       "<div><div id=6a7aa3c4-0107-4d4d-afdb-af03f269089c style=\"display:none; background-color:#9D6CFF; color:white; width:200px; height:30px; padding-left:5px; border-radius:4px; flex-direction:row; justify-content:space-around; align-items:center;\" onmouseover=\"this.style.backgroundColor='#BA9BF8'\" onmouseout=\"this.style.backgroundColor='#9D6CFF'\" onclick=\"window.commands?.execute('create-mitosheet-from-dataframe-output');\">See Full Dataframe in Mito</div> <script> if (window.commands?.hasCommand('create-mitosheet-from-dataframe-output')) document.getElementById('6a7aa3c4-0107-4d4d-afdb-af03f269089c').style.display = 'flex' </script> <table border=\"1\" class=\"dataframe\">\n",
       "  <thead>\n",
       "    <tr style=\"text-align: right;\">\n",
       "      <th></th>\n",
       "      <th>날짜</th>\n",
       "      <th>시간</th>\n",
       "      <th>업종명</th>\n",
       "      <th>광역시도</th>\n",
       "      <th>시군구</th>\n",
       "      <th>value_x</th>\n",
       "      <th>value</th>\n",
       "      <th>value_y</th>\n",
       "    </tr>\n",
       "  </thead>\n",
       "  <tbody>\n",
       "    <tr>\n",
       "      <th>0</th>\n",
       "      <td>2019-07-17</td>\n",
       "      <td>0</td>\n",
       "      <td>도시락</td>\n",
       "      <td>경기도</td>\n",
       "      <td>의정부시</td>\n",
       "      <td>1</td>\n",
       "      <td>21000</td>\n",
       "      <td>13.52</td>\n",
       "    </tr>\n",
       "    <tr>\n",
       "      <th>1</th>\n",
       "      <td>2019-07-17</td>\n",
       "      <td>0</td>\n",
       "      <td>돈까스/일식</td>\n",
       "      <td>경기도</td>\n",
       "      <td>의정부시</td>\n",
       "      <td>3</td>\n",
       "      <td>35000</td>\n",
       "      <td>13.02</td>\n",
       "    </tr>\n",
       "    <tr>\n",
       "      <th>2</th>\n",
       "      <td>2019-07-17</td>\n",
       "      <td>0</td>\n",
       "      <td>돈까스/일식</td>\n",
       "      <td>충청북도</td>\n",
       "      <td>제천시</td>\n",
       "      <td>1</td>\n",
       "      <td>42000</td>\n",
       "      <td>15.03</td>\n",
       "    </tr>\n",
       "    <tr>\n",
       "      <th>3</th>\n",
       "      <td>2019-07-17</td>\n",
       "      <td>0</td>\n",
       "      <td>배달전문업체</td>\n",
       "      <td>경기도</td>\n",
       "      <td>고양시 일산동구</td>\n",
       "      <td>8</td>\n",
       "      <td>23125</td>\n",
       "      <td>19.49</td>\n",
       "    </tr>\n",
       "    <tr>\n",
       "      <th>4</th>\n",
       "      <td>2019-07-17</td>\n",
       "      <td>0</td>\n",
       "      <td>배달전문업체</td>\n",
       "      <td>경기도</td>\n",
       "      <td>의정부시</td>\n",
       "      <td>3</td>\n",
       "      <td>16633</td>\n",
       "      <td>19.33</td>\n",
       "    </tr>\n",
       "  </tbody>\n",
       "</table></div>"
      ],
      "text/plain": [
       "           날짜  시간     업종명  광역시도       시군구  value_x  value  value_y\n",
       "0  2019-07-17   0     도시락   경기도      의정부시        1  21000    13.52\n",
       "1  2019-07-17   0  돈까스/일식   경기도      의정부시        3  35000    13.02\n",
       "2  2019-07-17   0  돈까스/일식  충청북도       제천시        1  42000    15.03\n",
       "3  2019-07-17   0  배달전문업체   경기도  고양시 일산동구        8  23125    19.49\n",
       "4  2019-07-17   0  배달전문업체   경기도      의정부시        3  16633    19.33"
      ]
     },
     "execution_count": 69,
     "metadata": {},
     "output_type": "execute_result"
    }
   ],
   "source": [
    "df.head()"
   ]
  },
  {
   "cell_type": "code",
   "execution_count": 70,
   "metadata": {},
   "outputs": [],
   "source": [
    "df.columns = ['날짜', '시간', '업종명',\t'광역시도' , '시군구',\\\n",
    "                    '배달주문건수', '평균주문금액', '평균배달소요시간']"
   ]
  },
  {
   "cell_type": "code",
   "execution_count": 83,
   "metadata": {},
   "outputs": [],
   "source": [
    "df.to_csv('업종지역별_주문건수_금액_배달소요시간', index=False)"
   ]
  },
  {
   "cell_type": "markdown",
   "metadata": {},
   "source": [
    "----"
   ]
  },
  {
   "cell_type": "code",
   "execution_count": 71,
   "metadata": {},
   "outputs": [],
   "source": [
    "import os\n",
    "\n",
    "dir_path = \"data\"\n",
    "\n",
    "path_ls = []\n",
    "for (root, directories, files) in os.walk(dir_path):\n",
    "    for file in files:\n",
    "        file_path = os.path.join(root, file)\n",
    "        path_ls.append(file_path)"
   ]
  },
  {
   "cell_type": "code",
   "execution_count": 72,
   "metadata": {},
   "outputs": [
    {
     "name": "stderr",
     "output_type": "stream",
     "text": [
      "100%|██████████| 58/58 [01:03<00:00,  1.09s/it]\n"
     ]
    }
   ],
   "source": [
    "dff_dict= defaultdict(list)\n",
    "for path in tqdm(path_ls):\n",
    "    name = path.split('_')[-2]\n",
    "    dff = pd.read_csv(f'{path}', header=None)\n",
    "    dff_dict[name].append(dff)"
   ]
  },
  {
   "cell_type": "code",
   "execution_count": 73,
   "metadata": {},
   "outputs": [
    {
     "data": {
      "text/plain": [
       "14"
      ]
     },
     "execution_count": 73,
     "metadata": {},
     "output_type": "execute_result"
    }
   ],
   "source": [
    "len(dff_dict)"
   ]
  },
  {
   "cell_type": "code",
   "execution_count": 74,
   "metadata": {},
   "outputs": [
    {
     "name": "stdout",
     "output_type": "stream",
     "text": [
      "----------KGUINDTAMOUNT----------\n",
      "----------KGUPOPLTNINFO----------\n",
      "----------KGURESIDEINFO----------\n",
      "----------KGUTRDARINFO----------\n",
      "----------KGUWETHERINFO----------\n",
      "----------KGUAREAAVDSTN----------\n",
      "----------KGUAREADOITEM----------\n",
      "----------KGUAREAINDPAY----------\n",
      "----------KGUDSTNAMOUNT----------\n",
      "----------KGUDSTNORDER----------\n",
      "----------KGUINSCTNINFO----------\n",
      "----------KGUINSCTNORDR----------\n",
      "----------KGUWTHRDLVRDF----------\n",
      "----------KGUDLIVERYSTORE00001----------\n"
     ]
    }
   ],
   "source": [
    "concat_dff_dict = defaultdict()\n",
    "for key, value in dff_dict.items():\n",
    "    print(f'----------{key}----------')\n",
    "    dff = pd.concat(value)\n",
    "    dff.drop_duplicates(keep='first')\n",
    "    concat_dff_dict[key] = (dff)"
   ]
  },
  {
   "cell_type": "code",
   "execution_count": 105,
   "metadata": {},
   "outputs": [
    {
     "name": "stdout",
     "output_type": "stream",
     "text": [
      "KGUINDTAMOUNT - (3223132, 6)\n",
      "KGUPOPLTNINFO - (220374, 8)\n",
      "KGURESIDEINFO - (495000, 9)\n",
      "KGUTRDARINFO - (159651, 10)\n",
      "KGUWETHERINFO - (5626750, 15)\n",
      "KGUAREAAVDSTN - (14606, 7)\n",
      "KGUAREADOITEM - (26398236, 6)\n",
      "KGUAREAINDPAY - (11023306, 6)\n",
      "KGUDSTNAMOUNT - (3794787, 6)\n",
      "KGUDSTNORDER - (3794787, 6)\n",
      "KGUINSCTNINFO - (30104, 23)\n",
      "KGUINSCTNORDR - (54754, 7)\n",
      "KGUWTHRDLVRDF - (380741, 27)\n",
      "KGUDLIVERYSTORE00001 - (125766, 11)\n"
     ]
    }
   ],
   "source": [
    "for code, dff in concat_dff_dict.items():\n",
    "    print(f'{code} - {dff.shape}')"
   ]
  },
  {
   "cell_type": "markdown",
   "metadata": {},
   "source": [
    "----"
   ]
  },
  {
   "cell_type": "code",
   "execution_count": 176,
   "metadata": {},
   "outputs": [],
   "source": [
    "all_dict = defaultdict(list)"
   ]
  },
  {
   "cell_type": "code",
   "execution_count": 177,
   "metadata": {},
   "outputs": [],
   "source": [
    "text = '날씨별 배달 품목차이'\n",
    "code = 'KGUWTHRDLVRDF'\n",
    "ls = ['광역시도명',\n",
    "'시군구명',\n",
    "'날짜',\n",
    "'시간대별 시간',\n",
    "'강수 유형명',\n",
    "'습도값',\n",
    "'강수량 값',\n",
    "'기온값',\n",
    "'풍속값',\n",
    "'바람강도 유형명',\n",
    "'동쪽서쪽바람유형명',\n",
    "'풍향값',\n",
    "'풍향카테고리명',\n",
    "'한식_배달건수',\n",
    "'분식_배달건수',\n",
    "'카페/디저트_배달건수',\n",
    "'돈까스/일식_배달건수',\n",
    "'회_배달건수',\n",
    "'치킨_배달건수',\n",
    "'피자_배달건수',\n",
    "'아시안/양식_배달건수',\n",
    "'중식_배달건수',\n",
    "'족발/보쌈_배달건수',\n",
    "'야식_배달건수',\n",
    "'찜탕_배달건수',\n",
    "'도시락_배달건수',\n",
    "'패스트푸드_배달건수']\n",
    "all_dict[text].append(code)\n",
    "all_dict[text].append(ls)"
   ]
  },
  {
   "cell_type": "code",
   "execution_count": 178,
   "metadata": {},
   "outputs": [],
   "source": [
    "text = '지역-업종 배달평균거리'\n",
    "code = 'KGUAREAAVDSTN'\n",
    "ls = ['년도',\n",
    "'월',\n",
    "'배달상점 업종명',\n",
    "'배달상점 광역시도명',\n",
    "'배달상점 시군구명',\n",
    "'배달주문수',\n",
    "'배달평균거리값']\n",
    "all_dict[text].append(code)\n",
    "all_dict[text].append(ls)"
   ]
  },
  {
   "cell_type": "code",
   "execution_count": 179,
   "metadata": {},
   "outputs": [],
   "source": [
    "text = '지역-업종 결제정보'\n",
    "code = 'KGUAREAINDPAY'\n",
    "ls = ['날짜',\n",
    "'24시기준 해당시간',\n",
    "'배달상점 업종명',\n",
    "'배달상점 광역시도명',\n",
    "'배달상점 시군구명',\n",
    "'결제종류값']\n",
    "all_dict[text].append(code)\n",
    "all_dict[text].append(ls)"
   ]
  },
  {
   "cell_type": "code",
   "execution_count": 180,
   "metadata": {},
   "outputs": [],
   "source": [
    "text = '배달 상점 데이터'\n",
    "code = 'KGUDLIVERYSTORE00001'\n",
    "ls = ['배달상점ID'\t,\n",
    "'배달상점 업종명',\n",
    "'배달상점 법정동코드'\t,\n",
    "'배달상점 시도명'\t,\n",
    "'배달상점 시군구명'\t,\n",
    "'배달상점 법정동 읍면동명'\t,\n",
    "'배달상점 법정동 리명'\t,\n",
    "'배달상점 행정동코드',\n",
    "'배달상점 행정동 읍면동명'\t,\n",
    "'배달상점 도로명주소코드',\n",
    "'배달상점 도로명주소 도로명']\n",
    "all_dict[text].append(code)\n",
    "all_dict[text].append(ls)"
   ]
  },
  {
   "cell_type": "code",
   "execution_count": 181,
   "metadata": {},
   "outputs": [],
   "source": [
    "text = '업종 목적지별 배달 주문건수'\n",
    "code = 'KGUDSTNORDER'\n",
    "ls = ['날짜',\n",
    "'시간대별 시간',\n",
    "'배달상점 업종명',\n",
    "'목적지 광역시도명',\n",
    "'목적지 시군구명',\n",
    "'주문 건수']\n",
    "all_dict[text].append(code)\n",
    "all_dict[text].append(ls)"
   ]
  },
  {
   "cell_type": "code",
   "execution_count": 182,
   "metadata": {},
   "outputs": [],
   "source": [
    "text = '업종-거리구간 배달 건수'\n",
    "code = 'KGUINSCTNORDR'\n",
    "ls = ['년도',\n",
    "'월',\n",
    "'배달상점 업종명',\n",
    "'배달상점 광역시도명',\n",
    "'배달상점 시군구명',\n",
    "'배달거리 구간명',\n",
    "'배달주문수']\n",
    "all_dict[text].append(code)\n",
    "all_dict[text].append(ls)"
   ]
  },
  {
   "cell_type": "code",
   "execution_count": 183,
   "metadata": {},
   "outputs": [],
   "source": [
    "text = '업종 목적지별 평균주문금액'\n",
    "code = 'KGUDSTNAMOUNT'\n",
    "ls = ['날짜',\n",
    "'시간대별 시간',\n",
    "'배달상점 업종명',\n",
    "'목적지 광역시도명',\n",
    "'목적지 시군구명',\n",
    "'평균주문금액']\n",
    "all_dict[text].append(code)\n",
    "all_dict[text].append(ls)"
   ]
  },
  {
   "cell_type": "code",
   "execution_count": 184,
   "metadata": {},
   "outputs": [],
   "source": [
    "text = '주문지역 주거 특성'\n",
    "code = 'KGURESIDEINFO'\n",
    "ls = ['기준연도',\t'시군구코드',\t'시도명',\t'시군구명',\t'세대구성대분류',\t'세대구성중분류',\t'세대구성소분류',\t'단위','빈도수']\n",
    "all_dict[text].append(code)\n",
    "all_dict[text].append(ls)"
   ]
  },
  {
   "cell_type": "code",
   "execution_count": 185,
   "metadata": {},
   "outputs": [],
   "source": [
    "text = '주문지역 상권유형 특성'\n",
    "code = 'KGUTRDARINFO'\n",
    "ls = ['기준연도',\t'시도명',\t'시도코드',\t'시군구명'\t,'시군구코드'\t,'상권업종대분류명',\t'상권업종중분류명'\t,'상권업종소분류명'\t,'상권업종소분류코드'\t,'상권업종개수']\n",
    "all_dict[text].append(code)\n",
    "all_dict[text].append(ls)"
   ]
  },
  {
   "cell_type": "code",
   "execution_count": 186,
   "metadata": {},
   "outputs": [],
   "source": [
    "text = '주문지역 인구 특성'\n",
    "code = 'KGUPOPLTNINFO'\n",
    "ls = ['기준연월',\t'시군구코드',\t'시도명',\t'시군구명'\t,'5세단위구분'\t,'총인구수'\t,'남성인구수','여성인구수']\n",
    "all_dict[text].append(code)\n",
    "all_dict[text].append(ls)"
   ]
  },
  {
   "cell_type": "code",
   "execution_count": 187,
   "metadata": {},
   "outputs": [],
   "source": [
    "text = '주문지역 기상 정보'\n",
    "code = 'KGUWETHERINFO'\n",
    "ls = ['순번',\t'시군구코드',\t'광역시도명',\t'시군구명',\t'공개 일',\t'공개 시간',\\\n",
    "    '강수 유형명',\t'습도',\t'1시간 강수량 값',\t'기온',\t'풍속',\t\\\n",
    "    '바람강도 유형명',\t'동쪽서쪽바람유형명',\t'풍향값',\t'풍향카테고리명']\n",
    "all_dict[text].append(code)\n",
    "all_dict[text].append(ls)"
   ]
  },
  {
   "cell_type": "code",
   "execution_count": 188,
   "metadata": {},
   "outputs": [],
   "source": [
    "text = '지역-요일 배달 품목정보'\n",
    "code = 'KGUAREADOITEM'\n",
    "ls = ['날짜',\n",
    "'24시기준 해당시간',\n",
    "'주문요일명',\n",
    "'배달상점 광역시도명',\n",
    "'배달상점 시군구명',\n",
    "'배달상점 업종명']\n",
    "all_dict[text].append(code)\n",
    "all_dict[text].append(ls)"
   ]
  },
  {
   "cell_type": "code",
   "execution_count": 189,
   "metadata": {},
   "outputs": [],
   "source": [
    "text = '업종-거리구간 상권 정보'\n",
    "code = 'KGUINSCTNINFO'\n",
    "ls = ['년도',\n",
    "'월',\n",
    "'배달상점 업종명',\n",
    "'배달상점 광역시도명',\n",
    "'배달상점 시군구명',\n",
    "'1km이하 배달건수',\n",
    "'1km초과3km이하배달건수',\n",
    "'3km초과5km이하배달건수',\n",
    "'거리 5000이상',\n",
    "'한식_매장수',\n",
    "'분식_매장수',\n",
    "'카페/디저트_매장수',\n",
    "'돈까스/일식_매장수',\n",
    "'회_매장수',\n",
    "'치킨_매장수',\n",
    "'피자_매장수',\n",
    "'아시안/양식_매장수',\n",
    "'중식_매장수',\n",
    "'족발/보쌈_매장수',\n",
    "'야식_매장수',\n",
    "'찜탕_매장수',\n",
    "'도시락_매장수',\n",
    "'패스트푸드_매장수']\n",
    "all_dict[text].append(code)\n",
    "all_dict[text].append(ls)"
   ]
  },
  {
   "cell_type": "code",
   "execution_count": 190,
   "metadata": {},
   "outputs": [],
   "source": [
    "text = '업종-지역별 평균주문금액'\n",
    "code = 'KGUINDTAMOUNT'\n",
    "ls = ['날짜',\t'시간대별 시간',\t'배달상점 업종명',\t'배달상점 광역시도명',\t'배달상점 시군구명',\t'평균주문금액']\n",
    "all_dict[text].append(code)\n",
    "all_dict[text].append(ls)"
   ]
  },
  {
   "cell_type": "markdown",
   "metadata": {},
   "source": [
    "- 업종 목적지별 평균주문금액 / KGUDSTNAMOUN\n",
    "'날짜'\n",
    "'시간대별 시간'\n",
    "'배달상점 업종명'\n",
    "'목적지 광역시도명'\n",
    "'목적지 시군구명'\n",
    "'평균주문금액'\n",
    "\n",
    "\n",
    "- 업종-거리구간 배달 건수/ KGUINSCTNORDR\n",
    "'년도'\n",
    "'월'\n",
    "'배달상점 업종명'\n",
    "'배달상점 광역시도명'\n",
    "'배달상점 시군구명'\n",
    "'배달거리 구간명'\n",
    "'배달주문수'\n",
    "\n",
    "\n",
    "\n",
    "- 업종 목적지별 배달 주문건수 / KGUDSTNORDER\n",
    "'날짜'\n",
    "'시간대별 시간'\n",
    "'배달상점 업종명'\n",
    "'목적지 광역시도명'\n",
    "'목적지 시군구명'\n",
    "'주문 건수'\n",
    "\n",
    "\n",
    "- 배달 상점 데이터 / KGUDLIVERYSTORE00001\n",
    "'배달상점ID'\t\n",
    "'배달상점'\n",
    "'업종명'\n",
    "'배달상점 법정동코드'\t\n",
    "'배달상점 시도명'\t\n",
    "'배달상점 시군구명'\t\n",
    "'배달상점 법정동 읍면동명'\t\n",
    "'배달상점 법정동 리명'\t\n",
    "'배달상점 행정동코드'\n",
    "'배달상점 행정동 읍면동명'\t\n",
    "'배달상점 도로명주소코드'\t\n",
    "'배달상점 도로명주소 도로명'\n",
    "\n",
    "\n",
    "- 지역-업종 결제정보 / KGUAREAINDPAY\n",
    "'날짜'\n",
    "'24시기준 해당시간'\n",
    "'배달상점 업종명'\n",
    "'배달상점 광역시도명'\n",
    "'배달상점 시군구명'\n",
    "'결제종류값'\n",
    "\n",
    "\n",
    "\n",
    "- 주문지역 기상 정보 / KGUWETHERINFO\n",
    "'순번'\t'시군구코드'\t'광역시도명'\t'시군구명'\t'공개 일'\t'공개 시간'\t'강수 유형명'\t'습도'\t'1시간 강수량 값'\t'기온'\t'풍속'\t'바람강도 유형명'\t'동쪽서쪽바람유형명'\t'풍향값'\t'풍향카테고리명'\n",
    "\n",
    "\n",
    "\n",
    "\n",
    "- 지역-요일 배달 품목정보 / KGUAREADOITEM\n",
    "'날짜'\n",
    "'24시기준 해당시간'\n",
    "'주문요일명'\n",
    "'배달상점 광역시도명'\n",
    "'배달상점 시군구명'\n",
    "'배달상점 업종명'\n",
    "\n",
    "\n",
    "\n",
    "- 지역-업종 배달평균거리 / KGUAREAAVDSTN\n",
    "'년도'\n",
    "'월'\n",
    "'배달상점 업종명'\n",
    "'배달상점 광역시도명'\n",
    "'배달상점 시군구명'\n",
    "'배달주문수'\n",
    "'배달평균거리값'\n",
    "\n",
    "\n",
    "\n",
    "\n",
    "- 날씨별 배달 품목차이 / KGUWTHRDLVRD\n",
    "'광역시도명'\n",
    "'시군구명'\n",
    "'날짜'\n",
    "'시간대별 시간'\n",
    "'강수 유형명'\n",
    "'습도값'\n",
    "'강수량 값'\n",
    "'기온값'\n",
    "'풍속값'\n",
    "'바람강도 유형명'\n",
    "'동쪽서쪽바람유형명'\n",
    "'풍향값'\n",
    "'풍향카테고리명'\n",
    "'한식_배달건수'\n",
    "'분식_배달건수'\n",
    "'카페/디저트_배달건수'\n",
    "'돈까스/일식_배달건수'\n",
    "'회_배달건수'\n",
    "'치킨_배달건수'\n",
    "'피자_배달건수'\n",
    "'아시안/양식_배달건수'\n",
    "'중식_배달건수'\n",
    "'족발/보쌈_배달건수'\n",
    "'야식_배달건수'\n",
    "'찜탕_배달건수'\n",
    "'도시락_배달건수'\n",
    "'패스트푸드_배달건수'\n",
    "\n",
    "\n",
    "- 주문지역 주거 특성 / KGURESIDEINFO\n",
    "'기준연도'\t'시군구코드'\t'시도명'\t'시군구명'\t'세대구성대분류'\t'세대구성중분류'\t'세대구성소분류'\t'단위'\t'빈도수'\n",
    "\n",
    "\n",
    "- 업종-거리구간 상권 정보 / KGUINSCTNINFO\n",
    "'년도'\n",
    "'월'\n",
    "'배달상점 업종명'\n",
    "'배달상점 광역시도명'\n",
    "'배달상점 시군구명'\n",
    "'1km이하 배달건수'\n",
    "'1km초과3km이하배달건수'\n",
    "'3km초과5km이하배달건수'\n",
    "'거리 5000이상'\n",
    "'한식_매장수'\n",
    "'분식_매장수'\n",
    "'카페/디저트_매장수'\n",
    "'돈까스/일식_매장수'\n",
    "'회_매장수'\n",
    "'치킨_매장수'\n",
    "'피자_매장수'\n",
    "'아시안/양식_매장수'\n",
    "'중식_매장수'\n",
    "'족발/보쌈_매장수'\n",
    "'야식_매장수'\n",
    "'찜탕_매장수'\n",
    "'도시락_매장수'\n",
    "'패스트푸드_매장수'\n",
    "\n",
    "\n",
    "- 날씨별 배달 품목차이 / KGUWTHRDLVRDF\n",
    "'광역시도명'\n",
    "'시군구명'\n",
    "'날짜'\n",
    "'시간대별 시간'\n",
    "'강수 유형명'\n",
    "'습도값'\n",
    "'강수량 값'\n",
    "'기온값'\n",
    "'풍속값'\n",
    "'바람강도 유형명'\n",
    "'동쪽서쪽바람유형명'\n",
    "'풍향값'\n",
    "'풍향카테고리명'\n",
    "'한식_배달건수'\n",
    "'분식_배달건수'\n",
    "'카페/디저트_배달건수'\n",
    "'돈까스/일식_배달건수'\n",
    "'회_배달건수'\n",
    "'치킨_배달건수'\n",
    "'피자_배달건수'\n",
    "'아시안/양식_배달건수'\n",
    "'중식_배달건수'\n",
    "'족발/보쌈_배달건수'\n",
    "'야식_배달건수'\n",
    "'찜탕_배달건수'\n",
    "'도시락_배달건수'\n",
    "'패스트푸드_배달건수'\n",
    "\n",
    "\n",
    "\n",
    "\n",
    "- 주문지역 인구 특성 / KGUPOPLTNINFO\n",
    "'기준연월'\t'시군구코드'\t'시도명'\t'시군구명'\t'5세단위구분'\t'총인구수'\t'남성인구수'\t'여성인구수'\n",
    "\n",
    "\n",
    "\n",
    "\n",
    "- 업종-지역별 평균주문금액 / KGUINDTAMOUNT\n",
    "'날짜'\t'시간대별 시간'\t'배달상점 업종명'\t'배달상점 광역시도명'\t'배달상점 시군구명'\t'평균주문금액'\n",
    "\n",
    "\n",
    "\n",
    "\n",
    "- 주문지역 상권유형 특성 / KGUTRDARINFO\n",
    "'기준연도'\t'시도명'\t'시도코드'\t'시군구명'\t'시군구코드'\t'상권업종대분류명'\t'상권업종중분류명'\t'상권업종소분류명'\t'상권업종소분류코드'\t'상권업종개수'\n",
    "\n",
    "\n",
    "- 주문지역 주거 특성 / KGURESIDEINFO\n",
    "'기준연도'\t'시군구코드'\t'시도명'\t'시군구명'\t'세대구성대분류'\t'세대구성중분류'\t'세대구성소분류'\t'단위'\t'빈도수'\n"
   ]
  },
  {
   "cell_type": "code",
   "execution_count": 191,
   "metadata": {},
   "outputs": [
    {
     "name": "stdout",
     "output_type": "stream",
     "text": [
      "KGUINDTAMOUNT - (3223132, 6)\n",
      "KGUPOPLTNINFO - (220374, 8)\n",
      "KGURESIDEINFO - (495000, 9)\n",
      "KGUTRDARINFO - (159651, 10)\n",
      "KGUWETHERINFO - (5626750, 15)\n",
      "KGUAREAAVDSTN - (14606, 7)\n",
      "KGUAREADOITEM - (26398236, 6)\n",
      "KGUAREAINDPAY - (11023306, 6)\n",
      "KGUDSTNAMOUNT - (3794787, 6)\n",
      "KGUDSTNORDER - (3794787, 6)\n",
      "KGUINSCTNINFO - (30104, 23)\n",
      "KGUINSCTNORDR - (54754, 7)\n",
      "KGUWTHRDLVRDF - (380741, 27)\n",
      "KGUDLIVERYSTORE00001 - (125766, 11)\n"
     ]
    }
   ],
   "source": [
    "for code, dff in concat_dff_dict.items():\n",
    "    print(f'{code} - {dff.shape}')"
   ]
  },
  {
   "cell_type": "code",
   "execution_count": 192,
   "metadata": {},
   "outputs": [],
   "source": [
    "for name, ls in all_dict.items():\n",
    "    # print(name)\n",
    "    code = ls[0]\n",
    "    cols = ls[1]\n",
    "    try:\n",
    "        concat_dff_dict[code].columns = cols\n",
    "    except:\n",
    "        print(name)\n",
    "        print(cols)\n",
    "        print(concat_dff_dict[code].columns)\n",
    "        print()\n",
    "    # cols = ls[1]\n",
    "    # concat_dff_dict[code].columns = cols\n",
    "    "
   ]
  },
  {
   "cell_type": "code",
   "execution_count": 228,
   "metadata": {},
   "outputs": [
    {
     "name": "stdout",
     "output_type": "stream",
     "text": [
      "0 날씨별 배달 품목차이 KGUWTHRDLVRDF\n",
      "1 지역-업종 배달평균거리 KGUAREAAVDSTN\n",
      "2 지역-업종 결제정보 KGUAREAINDPAY\n",
      "3 배달 상점 데이터 KGUDLIVERYSTORE00001\n",
      "4 업종 목적지별 배달 주문건수 KGUDSTNORDER\n",
      "5 업종-거리구간 배달 건수 KGUINSCTNORDR\n",
      "6 업종 목적지별 평균주문금액 KGUDSTNAMOUNT\n",
      "7 주문지역 주거 특성 KGURESIDEINFO\n",
      "8 주문지역 상권유형 특성 KGUTRDARINFO\n",
      "9 주문지역 인구 특성 KGUPOPLTNINFO\n",
      "10 주문지역 기상 정보 KGUWETHERINFO\n",
      "11 지역-요일 배달 품목정보 KGUAREADOITEM\n",
      "12 업종-거리구간 상권 정보 KGUINSCTNINFO\n",
      "13 업종-지역별 평균주문금액 KGUINDTAMOUNT\n"
     ]
    }
   ],
   "source": [
    "for i, (name, ls) in enumerate(all_dict.items()):\n",
    "    # print(name)\n",
    "    code = ls[0]\n",
    "    cols = ls[1]\n",
    "    print(i, name, code)\n",
    "    # concat_dff_dict[code].to_csv(f'data/{name}.csv', index=False)"
   ]
  },
  {
   "cell_type": "code",
   "execution_count": 238,
   "metadata": {},
   "outputs": [
    {
     "name": "stdout",
     "output_type": "stream",
     "text": [
      "0 날씨별 배달 품목차이 KGUWTHRDLVRDF\n",
      "\t0 광역시도명\n",
      "\t1 시군구명\n",
      "\t2 날짜\n",
      "\t3 시간대별 시간\n",
      "\t4 강수 유형명\n",
      "\t5 습도값\n",
      "\t6 강수량 값\n",
      "\t7 기온값\n",
      "\t8 풍속값\n",
      "\t9 바람강도 유형명\n",
      "\t10 동쪽서쪽바람유형명\n",
      "\t11 풍향값\n",
      "\t12 풍향카테고리명\n",
      "\t13 한식_배달건수\n",
      "\t14 분식_배달건수\n",
      "\t15 카페/디저트_배달건수\n",
      "\t16 돈까스/일식_배달건수\n",
      "\t17 회_배달건수\n",
      "\t18 치킨_배달건수\n",
      "\t19 피자_배달건수\n",
      "\t20 아시안/양식_배달건수\n",
      "\t21 중식_배달건수\n",
      "\t22 족발/보쌈_배달건수\n",
      "\t23 야식_배달건수\n",
      "\t24 찜탕_배달건수\n",
      "\t25 도시락_배달건수\n",
      "\t26 패스트푸드_배달건수\n",
      "\n",
      "1 지역-업종 배달평균거리 KGUAREAAVDSTN\n",
      "\t0 년도\n",
      "\t1 월\n",
      "\t2 배달상점 업종명\n",
      "\t3 배달상점 광역시도명\n",
      "\t4 배달상점 시군구명\n",
      "\t5 배달주문수\n",
      "\t6 배달평균거리값\n",
      "\n",
      "2 지역-업종 결제정보 KGUAREAINDPAY\n",
      "\t0 날짜\n",
      "\t1 24시기준 해당시간\n",
      "\t2 배달상점 업종명\n",
      "\t3 배달상점 광역시도명\n",
      "\t4 배달상점 시군구명\n",
      "\t5 결제종류값\n",
      "\n",
      "3 배달 상점 데이터 KGUDLIVERYSTORE00001\n",
      "\t0 배달상점ID\n",
      "\t1 배달상점 업종명\n",
      "\t2 배달상점 법정동코드\n",
      "\t3 배달상점 시도명\n",
      "\t4 배달상점 시군구명\n",
      "\t5 배달상점 법정동 읍면동명\n",
      "\t6 배달상점 법정동 리명\n",
      "\t7 배달상점 행정동코드\n",
      "\t8 배달상점 행정동 읍면동명\n",
      "\t9 배달상점 도로명주소코드\n",
      "\t10 배달상점 도로명주소 도로명\n",
      "\n",
      "4 업종 목적지별 배달 주문건수 KGUDSTNORDER\n",
      "\t0 날짜\n",
      "\t1 시간대별 시간\n",
      "\t2 배달상점 업종명\n",
      "\t3 목적지 광역시도명\n",
      "\t4 목적지 시군구명\n",
      "\t5 주문 건수\n",
      "\n",
      "5 업종-거리구간 배달 건수 KGUINSCTNORDR\n",
      "\t0 년도\n",
      "\t1 월\n",
      "\t2 배달상점 업종명\n",
      "\t3 배달상점 광역시도명\n",
      "\t4 배달상점 시군구명\n",
      "\t5 배달거리 구간명\n",
      "\t6 배달주문수\n",
      "\n",
      "6 업종 목적지별 평균주문금액 KGUDSTNAMOUNT\n",
      "\t0 날짜\n",
      "\t1 시간대별 시간\n",
      "\t2 배달상점 업종명\n",
      "\t3 목적지 광역시도명\n",
      "\t4 목적지 시군구명\n",
      "\t5 평균주문금액\n",
      "\n",
      "7 주문지역 주거 특성 KGURESIDEINFO\n",
      "\t0 기준연도\n",
      "\t1 시군구코드\n",
      "\t2 시도명\n",
      "\t3 시군구명\n",
      "\t4 세대구성대분류\n",
      "\t5 세대구성중분류\n",
      "\t6 세대구성소분류\n",
      "\t7 단위\n",
      "\t8 빈도수\n",
      "\n",
      "8 주문지역 상권유형 특성 KGUTRDARINFO\n",
      "\t0 기준연도\n",
      "\t1 시도명\n",
      "\t2 시도코드\n",
      "\t3 시군구명\n",
      "\t4 시군구코드\n",
      "\t5 상권업종대분류명\n",
      "\t6 상권업종중분류명\n",
      "\t7 상권업종소분류명\n",
      "\t8 상권업종소분류코드\n",
      "\t9 상권업종개수\n",
      "\n",
      "9 주문지역 인구 특성 KGUPOPLTNINFO\n",
      "\t0 기준연월\n",
      "\t1 시군구코드\n",
      "\t2 시도명\n",
      "\t3 시군구명\n",
      "\t4 5세단위구분\n",
      "\t5 총인구수\n",
      "\t6 남성인구수\n",
      "\t7 여성인구수\n",
      "\n",
      "10 주문지역 기상 정보 KGUWETHERINFO\n",
      "\t0 순번\n",
      "\t1 시군구코드\n",
      "\t2 광역시도명\n",
      "\t3 시군구명\n",
      "\t4 공개 일\n",
      "\t5 공개 시간\n",
      "\t6 강수 유형명\n",
      "\t7 습도\n",
      "\t8 1시간 강수량 값\n",
      "\t9 기온\n",
      "\t10 풍속\n",
      "\t11 바람강도 유형명\n",
      "\t12 동쪽서쪽바람유형명\n",
      "\t13 풍향값\n",
      "\t14 풍향카테고리명\n",
      "\n",
      "11 지역-요일 배달 품목정보 KGUAREADOITEM\n",
      "\t0 날짜\n",
      "\t1 24시기준 해당시간\n",
      "\t2 주문요일명\n",
      "\t3 배달상점 광역시도명\n",
      "\t4 배달상점 시군구명\n",
      "\t5 배달상점 업종명\n",
      "\n",
      "12 업종-거리구간 상권 정보 KGUINSCTNINFO\n",
      "\t0 년도\n",
      "\t1 월\n",
      "\t2 배달상점 업종명\n",
      "\t3 배달상점 광역시도명\n",
      "\t4 배달상점 시군구명\n",
      "\t5 1km이하 배달건수\n",
      "\t6 1km초과3km이하배달건수\n",
      "\t7 3km초과5km이하배달건수\n",
      "\t8 거리 5000이상\n",
      "\t9 한식_매장수\n",
      "\t10 분식_매장수\n",
      "\t11 카페/디저트_매장수\n",
      "\t12 돈까스/일식_매장수\n",
      "\t13 회_매장수\n",
      "\t14 치킨_매장수\n",
      "\t15 피자_매장수\n",
      "\t16 아시안/양식_매장수\n",
      "\t17 중식_매장수\n",
      "\t18 족발/보쌈_매장수\n",
      "\t19 야식_매장수\n",
      "\t20 찜탕_매장수\n",
      "\t21 도시락_매장수\n",
      "\t22 패스트푸드_매장수\n",
      "\n",
      "13 업종-지역별 평균주문금액 KGUINDTAMOUNT\n",
      "\t0 날짜\n",
      "\t1 시간대별 시간\n",
      "\t2 배달상점 업종명\n",
      "\t3 배달상점 광역시도명\n",
      "\t4 배달상점 시군구명\n",
      "\t5 평균주문금액\n",
      "\n"
     ]
    }
   ],
   "source": [
    "for i, (name, ls) in enumerate(all_dict.items()):\n",
    "    # print(name)\n",
    "    code = ls[0]\n",
    "    cols = ls[1]\n",
    "    print(i, name, code)\n",
    "    for idx, col in enumerate(list(concat_dff_dict[code].columns)):\n",
    "        print(f'\\t{idx} {col}')\n",
    "    print()\n",
    "    # concat_dff_dict[code].to_csv(f'data/{name}.csv', index=False)"
   ]
  },
  {
   "cell_type": "code",
   "execution_count": null,
   "metadata": {},
   "outputs": [],
   "source": []
  }
 ],
 "metadata": {
  "kernelspec": {
   "display_name": "Python 3 (ipykernel)",
   "language": "python",
   "name": "python3"
  },
  "language_info": {
   "codemirror_mode": {
    "name": "ipython",
    "version": 3
   },
   "file_extension": ".py",
   "mimetype": "text/x-python",
   "name": "python",
   "nbconvert_exporter": "python",
   "pygments_lexer": "ipython3",
   "version": "3.9.12"
  },
  "vscode": {
   "interpreter": {
    "hash": "c35ed6cab7437f11378c145b0a75f1d4745ad73aa078e50f5054bd309e6f59b8"
   }
  }
 },
 "nbformat": 4,
 "nbformat_minor": 4
}
