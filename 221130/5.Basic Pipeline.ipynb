{
 "cells": [
  {
   "cell_type": "code",
   "execution_count": 51,
   "id": "a7e62699-a858-4b44-adb2-801af0ab8e22",
   "metadata": {},
   "outputs": [],
   "source": [
    "import pandas as pd\n",
    "from sklearn.datasets import load_wine\n",
    "from sklearn.preprocessing import StandardScaler\n",
    "from sklearn.model_selection import train_test_split\n",
    "from sklearn.svm import SVC\n",
    "from sklearn.pipeline import Pipeline\n",
    "from sklearn import set_config\n",
    "from sklearn.pipeline import make_pipeline\n",
    "from joblib import dump, load\n",
    "from sklearn.preprocessing import FunctionTransformer"
   ]
  },
  {
   "cell_type": "code",
   "execution_count": 4,
   "id": "cb17591e-c8f4-4191-873c-5f12f5a20a85",
   "metadata": {},
   "outputs": [],
   "source": [
    "wine = load_wine()"
   ]
  },
  {
   "cell_type": "raw",
   "id": "844aea71-7e4c-4e52-8ae0-6c4a906324c2",
   "metadata": {},
   "source": [
    "순서 : data load >(전처리)> standardscaler >> train, test(0.2) >> svc>> fit >> score"
   ]
  },
  {
   "cell_type": "code",
   "execution_count": 5,
   "id": "11fe8554-f8fd-4598-be06-967f8cc247d0",
   "metadata": {
    "tags": []
   },
   "outputs": [
    {
     "data": {
      "text/plain": [
       "{'data': array([[1.423e+01, 1.710e+00, 2.430e+00, ..., 1.040e+00, 3.920e+00,\n",
       "         1.065e+03],\n",
       "        [1.320e+01, 1.780e+00, 2.140e+00, ..., 1.050e+00, 3.400e+00,\n",
       "         1.050e+03],\n",
       "        [1.316e+01, 2.360e+00, 2.670e+00, ..., 1.030e+00, 3.170e+00,\n",
       "         1.185e+03],\n",
       "        ...,\n",
       "        [1.327e+01, 4.280e+00, 2.260e+00, ..., 5.900e-01, 1.560e+00,\n",
       "         8.350e+02],\n",
       "        [1.317e+01, 2.590e+00, 2.370e+00, ..., 6.000e-01, 1.620e+00,\n",
       "         8.400e+02],\n",
       "        [1.413e+01, 4.100e+00, 2.740e+00, ..., 6.100e-01, 1.600e+00,\n",
       "         5.600e+02]]),\n",
       " 'target': array([0, 0, 0, 0, 0, 0, 0, 0, 0, 0, 0, 0, 0, 0, 0, 0, 0, 0, 0, 0, 0, 0,\n",
       "        0, 0, 0, 0, 0, 0, 0, 0, 0, 0, 0, 0, 0, 0, 0, 0, 0, 0, 0, 0, 0, 0,\n",
       "        0, 0, 0, 0, 0, 0, 0, 0, 0, 0, 0, 0, 0, 0, 0, 1, 1, 1, 1, 1, 1, 1,\n",
       "        1, 1, 1, 1, 1, 1, 1, 1, 1, 1, 1, 1, 1, 1, 1, 1, 1, 1, 1, 1, 1, 1,\n",
       "        1, 1, 1, 1, 1, 1, 1, 1, 1, 1, 1, 1, 1, 1, 1, 1, 1, 1, 1, 1, 1, 1,\n",
       "        1, 1, 1, 1, 1, 1, 1, 1, 1, 1, 1, 1, 1, 1, 1, 1, 1, 1, 1, 1, 2, 2,\n",
       "        2, 2, 2, 2, 2, 2, 2, 2, 2, 2, 2, 2, 2, 2, 2, 2, 2, 2, 2, 2, 2, 2,\n",
       "        2, 2, 2, 2, 2, 2, 2, 2, 2, 2, 2, 2, 2, 2, 2, 2, 2, 2, 2, 2, 2, 2,\n",
       "        2, 2]),\n",
       " 'frame': None,\n",
       " 'target_names': array(['class_0', 'class_1', 'class_2'], dtype='<U7'),\n",
       " 'DESCR': '.. _wine_dataset:\\n\\nWine recognition dataset\\n------------------------\\n\\n**Data Set Characteristics:**\\n\\n    :Number of Instances: 178 (50 in each of three classes)\\n    :Number of Attributes: 13 numeric, predictive attributes and the class\\n    :Attribute Information:\\n \\t\\t- Alcohol\\n \\t\\t- Malic acid\\n \\t\\t- Ash\\n\\t\\t- Alcalinity of ash  \\n \\t\\t- Magnesium\\n\\t\\t- Total phenols\\n \\t\\t- Flavanoids\\n \\t\\t- Nonflavanoid phenols\\n \\t\\t- Proanthocyanins\\n\\t\\t- Color intensity\\n \\t\\t- Hue\\n \\t\\t- OD280/OD315 of diluted wines\\n \\t\\t- Proline\\n\\n    - class:\\n            - class_0\\n            - class_1\\n            - class_2\\n\\t\\t\\n    :Summary Statistics:\\n    \\n    ============================= ==== ===== ======= =====\\n                                   Min   Max   Mean     SD\\n    ============================= ==== ===== ======= =====\\n    Alcohol:                      11.0  14.8    13.0   0.8\\n    Malic Acid:                   0.74  5.80    2.34  1.12\\n    Ash:                          1.36  3.23    2.36  0.27\\n    Alcalinity of Ash:            10.6  30.0    19.5   3.3\\n    Magnesium:                    70.0 162.0    99.7  14.3\\n    Total Phenols:                0.98  3.88    2.29  0.63\\n    Flavanoids:                   0.34  5.08    2.03  1.00\\n    Nonflavanoid Phenols:         0.13  0.66    0.36  0.12\\n    Proanthocyanins:              0.41  3.58    1.59  0.57\\n    Colour Intensity:              1.3  13.0     5.1   2.3\\n    Hue:                          0.48  1.71    0.96  0.23\\n    OD280/OD315 of diluted wines: 1.27  4.00    2.61  0.71\\n    Proline:                       278  1680     746   315\\n    ============================= ==== ===== ======= =====\\n\\n    :Missing Attribute Values: None\\n    :Class Distribution: class_0 (59), class_1 (71), class_2 (48)\\n    :Creator: R.A. Fisher\\n    :Donor: Michael Marshall (MARSHALL%PLU@io.arc.nasa.gov)\\n    :Date: July, 1988\\n\\nThis is a copy of UCI ML Wine recognition datasets.\\nhttps://archive.ics.uci.edu/ml/machine-learning-databases/wine/wine.data\\n\\nThe data is the results of a chemical analysis of wines grown in the same\\nregion in Italy by three different cultivators. There are thirteen different\\nmeasurements taken for different constituents found in the three types of\\nwine.\\n\\nOriginal Owners: \\n\\nForina, M. et al, PARVUS - \\nAn Extendible Package for Data Exploration, Classification and Correlation. \\nInstitute of Pharmaceutical and Food Analysis and Technologies,\\nVia Brigata Salerno, 16147 Genoa, Italy.\\n\\nCitation:\\n\\nLichman, M. (2013). UCI Machine Learning Repository\\n[https://archive.ics.uci.edu/ml]. Irvine, CA: University of California,\\nSchool of Information and Computer Science. \\n\\n.. topic:: References\\n\\n  (1) S. Aeberhard, D. Coomans and O. de Vel, \\n  Comparison of Classifiers in High Dimensional Settings, \\n  Tech. Rep. no. 92-02, (1992), Dept. of Computer Science and Dept. of  \\n  Mathematics and Statistics, James Cook University of North Queensland. \\n  (Also submitted to Technometrics). \\n\\n  The data was used with many others for comparing various \\n  classifiers. The classes are separable, though only RDA \\n  has achieved 100% correct classification. \\n  (RDA : 100%, QDA 99.4%, LDA 98.9%, 1NN 96.1% (z-transformed data)) \\n  (All results using the leave-one-out technique) \\n\\n  (2) S. Aeberhard, D. Coomans and O. de Vel, \\n  \"THE CLASSIFICATION PERFORMANCE OF RDA\" \\n  Tech. Rep. no. 92-01, (1992), Dept. of Computer Science and Dept. of \\n  Mathematics and Statistics, James Cook University of North Queensland. \\n  (Also submitted to Journal of Chemometrics).\\n',\n",
       " 'feature_names': ['alcohol',\n",
       "  'malic_acid',\n",
       "  'ash',\n",
       "  'alcalinity_of_ash',\n",
       "  'magnesium',\n",
       "  'total_phenols',\n",
       "  'flavanoids',\n",
       "  'nonflavanoid_phenols',\n",
       "  'proanthocyanins',\n",
       "  'color_intensity',\n",
       "  'hue',\n",
       "  'od280/od315_of_diluted_wines',\n",
       "  'proline']}"
      ]
     },
     "execution_count": 5,
     "metadata": {},
     "output_type": "execute_result"
    }
   ],
   "source": [
    "wine"
   ]
  },
  {
   "cell_type": "code",
   "execution_count": 6,
   "id": "3f856160-5e92-4e84-9f86-d06f5850912f",
   "metadata": {},
   "outputs": [],
   "source": [
    "df=pd.DataFrame(wine.data, columns= wine.feature_names)"
   ]
  },
  {
   "cell_type": "code",
   "execution_count": 7,
   "id": "3779a724-c16b-4b1e-92c7-7dafeeb3ccc6",
   "metadata": {},
   "outputs": [
    {
     "data": {
      "text/html": [
       "<div>\n",
       "<style scoped>\n",
       "    .dataframe tbody tr th:only-of-type {\n",
       "        vertical-align: middle;\n",
       "    }\n",
       "\n",
       "    .dataframe tbody tr th {\n",
       "        vertical-align: top;\n",
       "    }\n",
       "\n",
       "    .dataframe thead th {\n",
       "        text-align: right;\n",
       "    }\n",
       "</style>\n",
       "<table border=\"1\" class=\"dataframe\">\n",
       "  <thead>\n",
       "    <tr style=\"text-align: right;\">\n",
       "      <th></th>\n",
       "      <th>alcohol</th>\n",
       "      <th>malic_acid</th>\n",
       "      <th>ash</th>\n",
       "      <th>alcalinity_of_ash</th>\n",
       "      <th>magnesium</th>\n",
       "      <th>total_phenols</th>\n",
       "      <th>flavanoids</th>\n",
       "      <th>nonflavanoid_phenols</th>\n",
       "      <th>proanthocyanins</th>\n",
       "      <th>color_intensity</th>\n",
       "      <th>hue</th>\n",
       "      <th>od280/od315_of_diluted_wines</th>\n",
       "      <th>proline</th>\n",
       "    </tr>\n",
       "  </thead>\n",
       "  <tbody>\n",
       "    <tr>\n",
       "      <th>0</th>\n",
       "      <td>14.23</td>\n",
       "      <td>1.71</td>\n",
       "      <td>2.43</td>\n",
       "      <td>15.6</td>\n",
       "      <td>127.0</td>\n",
       "      <td>2.80</td>\n",
       "      <td>3.06</td>\n",
       "      <td>0.28</td>\n",
       "      <td>2.29</td>\n",
       "      <td>5.64</td>\n",
       "      <td>1.04</td>\n",
       "      <td>3.92</td>\n",
       "      <td>1065.0</td>\n",
       "    </tr>\n",
       "    <tr>\n",
       "      <th>1</th>\n",
       "      <td>13.20</td>\n",
       "      <td>1.78</td>\n",
       "      <td>2.14</td>\n",
       "      <td>11.2</td>\n",
       "      <td>100.0</td>\n",
       "      <td>2.65</td>\n",
       "      <td>2.76</td>\n",
       "      <td>0.26</td>\n",
       "      <td>1.28</td>\n",
       "      <td>4.38</td>\n",
       "      <td>1.05</td>\n",
       "      <td>3.40</td>\n",
       "      <td>1050.0</td>\n",
       "    </tr>\n",
       "    <tr>\n",
       "      <th>2</th>\n",
       "      <td>13.16</td>\n",
       "      <td>2.36</td>\n",
       "      <td>2.67</td>\n",
       "      <td>18.6</td>\n",
       "      <td>101.0</td>\n",
       "      <td>2.80</td>\n",
       "      <td>3.24</td>\n",
       "      <td>0.30</td>\n",
       "      <td>2.81</td>\n",
       "      <td>5.68</td>\n",
       "      <td>1.03</td>\n",
       "      <td>3.17</td>\n",
       "      <td>1185.0</td>\n",
       "    </tr>\n",
       "    <tr>\n",
       "      <th>3</th>\n",
       "      <td>14.37</td>\n",
       "      <td>1.95</td>\n",
       "      <td>2.50</td>\n",
       "      <td>16.8</td>\n",
       "      <td>113.0</td>\n",
       "      <td>3.85</td>\n",
       "      <td>3.49</td>\n",
       "      <td>0.24</td>\n",
       "      <td>2.18</td>\n",
       "      <td>7.80</td>\n",
       "      <td>0.86</td>\n",
       "      <td>3.45</td>\n",
       "      <td>1480.0</td>\n",
       "    </tr>\n",
       "    <tr>\n",
       "      <th>4</th>\n",
       "      <td>13.24</td>\n",
       "      <td>2.59</td>\n",
       "      <td>2.87</td>\n",
       "      <td>21.0</td>\n",
       "      <td>118.0</td>\n",
       "      <td>2.80</td>\n",
       "      <td>2.69</td>\n",
       "      <td>0.39</td>\n",
       "      <td>1.82</td>\n",
       "      <td>4.32</td>\n",
       "      <td>1.04</td>\n",
       "      <td>2.93</td>\n",
       "      <td>735.0</td>\n",
       "    </tr>\n",
       "    <tr>\n",
       "      <th>...</th>\n",
       "      <td>...</td>\n",
       "      <td>...</td>\n",
       "      <td>...</td>\n",
       "      <td>...</td>\n",
       "      <td>...</td>\n",
       "      <td>...</td>\n",
       "      <td>...</td>\n",
       "      <td>...</td>\n",
       "      <td>...</td>\n",
       "      <td>...</td>\n",
       "      <td>...</td>\n",
       "      <td>...</td>\n",
       "      <td>...</td>\n",
       "    </tr>\n",
       "    <tr>\n",
       "      <th>173</th>\n",
       "      <td>13.71</td>\n",
       "      <td>5.65</td>\n",
       "      <td>2.45</td>\n",
       "      <td>20.5</td>\n",
       "      <td>95.0</td>\n",
       "      <td>1.68</td>\n",
       "      <td>0.61</td>\n",
       "      <td>0.52</td>\n",
       "      <td>1.06</td>\n",
       "      <td>7.70</td>\n",
       "      <td>0.64</td>\n",
       "      <td>1.74</td>\n",
       "      <td>740.0</td>\n",
       "    </tr>\n",
       "    <tr>\n",
       "      <th>174</th>\n",
       "      <td>13.40</td>\n",
       "      <td>3.91</td>\n",
       "      <td>2.48</td>\n",
       "      <td>23.0</td>\n",
       "      <td>102.0</td>\n",
       "      <td>1.80</td>\n",
       "      <td>0.75</td>\n",
       "      <td>0.43</td>\n",
       "      <td>1.41</td>\n",
       "      <td>7.30</td>\n",
       "      <td>0.70</td>\n",
       "      <td>1.56</td>\n",
       "      <td>750.0</td>\n",
       "    </tr>\n",
       "    <tr>\n",
       "      <th>175</th>\n",
       "      <td>13.27</td>\n",
       "      <td>4.28</td>\n",
       "      <td>2.26</td>\n",
       "      <td>20.0</td>\n",
       "      <td>120.0</td>\n",
       "      <td>1.59</td>\n",
       "      <td>0.69</td>\n",
       "      <td>0.43</td>\n",
       "      <td>1.35</td>\n",
       "      <td>10.20</td>\n",
       "      <td>0.59</td>\n",
       "      <td>1.56</td>\n",
       "      <td>835.0</td>\n",
       "    </tr>\n",
       "    <tr>\n",
       "      <th>176</th>\n",
       "      <td>13.17</td>\n",
       "      <td>2.59</td>\n",
       "      <td>2.37</td>\n",
       "      <td>20.0</td>\n",
       "      <td>120.0</td>\n",
       "      <td>1.65</td>\n",
       "      <td>0.68</td>\n",
       "      <td>0.53</td>\n",
       "      <td>1.46</td>\n",
       "      <td>9.30</td>\n",
       "      <td>0.60</td>\n",
       "      <td>1.62</td>\n",
       "      <td>840.0</td>\n",
       "    </tr>\n",
       "    <tr>\n",
       "      <th>177</th>\n",
       "      <td>14.13</td>\n",
       "      <td>4.10</td>\n",
       "      <td>2.74</td>\n",
       "      <td>24.5</td>\n",
       "      <td>96.0</td>\n",
       "      <td>2.05</td>\n",
       "      <td>0.76</td>\n",
       "      <td>0.56</td>\n",
       "      <td>1.35</td>\n",
       "      <td>9.20</td>\n",
       "      <td>0.61</td>\n",
       "      <td>1.60</td>\n",
       "      <td>560.0</td>\n",
       "    </tr>\n",
       "  </tbody>\n",
       "</table>\n",
       "<p>178 rows × 13 columns</p>\n",
       "</div>"
      ],
      "text/plain": [
       "     alcohol  malic_acid   ash  alcalinity_of_ash  magnesium  total_phenols  \\\n",
       "0      14.23        1.71  2.43               15.6      127.0           2.80   \n",
       "1      13.20        1.78  2.14               11.2      100.0           2.65   \n",
       "2      13.16        2.36  2.67               18.6      101.0           2.80   \n",
       "3      14.37        1.95  2.50               16.8      113.0           3.85   \n",
       "4      13.24        2.59  2.87               21.0      118.0           2.80   \n",
       "..       ...         ...   ...                ...        ...            ...   \n",
       "173    13.71        5.65  2.45               20.5       95.0           1.68   \n",
       "174    13.40        3.91  2.48               23.0      102.0           1.80   \n",
       "175    13.27        4.28  2.26               20.0      120.0           1.59   \n",
       "176    13.17        2.59  2.37               20.0      120.0           1.65   \n",
       "177    14.13        4.10  2.74               24.5       96.0           2.05   \n",
       "\n",
       "     flavanoids  nonflavanoid_phenols  proanthocyanins  color_intensity   hue  \\\n",
       "0          3.06                  0.28             2.29             5.64  1.04   \n",
       "1          2.76                  0.26             1.28             4.38  1.05   \n",
       "2          3.24                  0.30             2.81             5.68  1.03   \n",
       "3          3.49                  0.24             2.18             7.80  0.86   \n",
       "4          2.69                  0.39             1.82             4.32  1.04   \n",
       "..          ...                   ...              ...              ...   ...   \n",
       "173        0.61                  0.52             1.06             7.70  0.64   \n",
       "174        0.75                  0.43             1.41             7.30  0.70   \n",
       "175        0.69                  0.43             1.35            10.20  0.59   \n",
       "176        0.68                  0.53             1.46             9.30  0.60   \n",
       "177        0.76                  0.56             1.35             9.20  0.61   \n",
       "\n",
       "     od280/od315_of_diluted_wines  proline  \n",
       "0                            3.92   1065.0  \n",
       "1                            3.40   1050.0  \n",
       "2                            3.17   1185.0  \n",
       "3                            3.45   1480.0  \n",
       "4                            2.93    735.0  \n",
       "..                            ...      ...  \n",
       "173                          1.74    740.0  \n",
       "174                          1.56    750.0  \n",
       "175                          1.56    835.0  \n",
       "176                          1.62    840.0  \n",
       "177                          1.60    560.0  \n",
       "\n",
       "[178 rows x 13 columns]"
      ]
     },
     "execution_count": 7,
     "metadata": {},
     "output_type": "execute_result"
    }
   ],
   "source": [
    "df"
   ]
  },
  {
   "cell_type": "code",
   "execution_count": 8,
   "id": "e39b4e51-588a-4ebb-86eb-ef5bbf6cb6e7",
   "metadata": {},
   "outputs": [
    {
     "data": {
      "text/html": [
       "<div>\n",
       "<style scoped>\n",
       "    .dataframe tbody tr th:only-of-type {\n",
       "        vertical-align: middle;\n",
       "    }\n",
       "\n",
       "    .dataframe tbody tr th {\n",
       "        vertical-align: top;\n",
       "    }\n",
       "\n",
       "    .dataframe thead th {\n",
       "        text-align: right;\n",
       "    }\n",
       "</style>\n",
       "<table border=\"1\" class=\"dataframe\">\n",
       "  <thead>\n",
       "    <tr style=\"text-align: right;\">\n",
       "      <th></th>\n",
       "      <th>alcohol</th>\n",
       "      <th>malic_acid</th>\n",
       "      <th>ash</th>\n",
       "      <th>alcalinity_of_ash</th>\n",
       "      <th>magnesium</th>\n",
       "      <th>total_phenols</th>\n",
       "      <th>flavanoids</th>\n",
       "      <th>nonflavanoid_phenols</th>\n",
       "      <th>proanthocyanins</th>\n",
       "      <th>color_intensity</th>\n",
       "      <th>hue</th>\n",
       "      <th>od280/od315_of_diluted_wines</th>\n",
       "      <th>proline</th>\n",
       "    </tr>\n",
       "  </thead>\n",
       "  <tbody>\n",
       "    <tr>\n",
       "      <th>count</th>\n",
       "      <td>178.000000</td>\n",
       "      <td>178.000000</td>\n",
       "      <td>178.000000</td>\n",
       "      <td>178.000000</td>\n",
       "      <td>178.000000</td>\n",
       "      <td>178.000000</td>\n",
       "      <td>178.000000</td>\n",
       "      <td>178.000000</td>\n",
       "      <td>178.000000</td>\n",
       "      <td>178.000000</td>\n",
       "      <td>178.000000</td>\n",
       "      <td>178.000000</td>\n",
       "      <td>178.000000</td>\n",
       "    </tr>\n",
       "    <tr>\n",
       "      <th>mean</th>\n",
       "      <td>13.000618</td>\n",
       "      <td>2.336348</td>\n",
       "      <td>2.366517</td>\n",
       "      <td>19.494944</td>\n",
       "      <td>99.741573</td>\n",
       "      <td>2.295112</td>\n",
       "      <td>2.029270</td>\n",
       "      <td>0.361854</td>\n",
       "      <td>1.590899</td>\n",
       "      <td>5.058090</td>\n",
       "      <td>0.957449</td>\n",
       "      <td>2.611685</td>\n",
       "      <td>746.893258</td>\n",
       "    </tr>\n",
       "    <tr>\n",
       "      <th>std</th>\n",
       "      <td>0.811827</td>\n",
       "      <td>1.117146</td>\n",
       "      <td>0.274344</td>\n",
       "      <td>3.339564</td>\n",
       "      <td>14.282484</td>\n",
       "      <td>0.625851</td>\n",
       "      <td>0.998859</td>\n",
       "      <td>0.124453</td>\n",
       "      <td>0.572359</td>\n",
       "      <td>2.318286</td>\n",
       "      <td>0.228572</td>\n",
       "      <td>0.709990</td>\n",
       "      <td>314.907474</td>\n",
       "    </tr>\n",
       "    <tr>\n",
       "      <th>min</th>\n",
       "      <td>11.030000</td>\n",
       "      <td>0.740000</td>\n",
       "      <td>1.360000</td>\n",
       "      <td>10.600000</td>\n",
       "      <td>70.000000</td>\n",
       "      <td>0.980000</td>\n",
       "      <td>0.340000</td>\n",
       "      <td>0.130000</td>\n",
       "      <td>0.410000</td>\n",
       "      <td>1.280000</td>\n",
       "      <td>0.480000</td>\n",
       "      <td>1.270000</td>\n",
       "      <td>278.000000</td>\n",
       "    </tr>\n",
       "    <tr>\n",
       "      <th>25%</th>\n",
       "      <td>12.362500</td>\n",
       "      <td>1.602500</td>\n",
       "      <td>2.210000</td>\n",
       "      <td>17.200000</td>\n",
       "      <td>88.000000</td>\n",
       "      <td>1.742500</td>\n",
       "      <td>1.205000</td>\n",
       "      <td>0.270000</td>\n",
       "      <td>1.250000</td>\n",
       "      <td>3.220000</td>\n",
       "      <td>0.782500</td>\n",
       "      <td>1.937500</td>\n",
       "      <td>500.500000</td>\n",
       "    </tr>\n",
       "    <tr>\n",
       "      <th>50%</th>\n",
       "      <td>13.050000</td>\n",
       "      <td>1.865000</td>\n",
       "      <td>2.360000</td>\n",
       "      <td>19.500000</td>\n",
       "      <td>98.000000</td>\n",
       "      <td>2.355000</td>\n",
       "      <td>2.135000</td>\n",
       "      <td>0.340000</td>\n",
       "      <td>1.555000</td>\n",
       "      <td>4.690000</td>\n",
       "      <td>0.965000</td>\n",
       "      <td>2.780000</td>\n",
       "      <td>673.500000</td>\n",
       "    </tr>\n",
       "    <tr>\n",
       "      <th>75%</th>\n",
       "      <td>13.677500</td>\n",
       "      <td>3.082500</td>\n",
       "      <td>2.557500</td>\n",
       "      <td>21.500000</td>\n",
       "      <td>107.000000</td>\n",
       "      <td>2.800000</td>\n",
       "      <td>2.875000</td>\n",
       "      <td>0.437500</td>\n",
       "      <td>1.950000</td>\n",
       "      <td>6.200000</td>\n",
       "      <td>1.120000</td>\n",
       "      <td>3.170000</td>\n",
       "      <td>985.000000</td>\n",
       "    </tr>\n",
       "    <tr>\n",
       "      <th>max</th>\n",
       "      <td>14.830000</td>\n",
       "      <td>5.800000</td>\n",
       "      <td>3.230000</td>\n",
       "      <td>30.000000</td>\n",
       "      <td>162.000000</td>\n",
       "      <td>3.880000</td>\n",
       "      <td>5.080000</td>\n",
       "      <td>0.660000</td>\n",
       "      <td>3.580000</td>\n",
       "      <td>13.000000</td>\n",
       "      <td>1.710000</td>\n",
       "      <td>4.000000</td>\n",
       "      <td>1680.000000</td>\n",
       "    </tr>\n",
       "  </tbody>\n",
       "</table>\n",
       "</div>"
      ],
      "text/plain": [
       "          alcohol  malic_acid         ash  alcalinity_of_ash   magnesium  \\\n",
       "count  178.000000  178.000000  178.000000         178.000000  178.000000   \n",
       "mean    13.000618    2.336348    2.366517          19.494944   99.741573   \n",
       "std      0.811827    1.117146    0.274344           3.339564   14.282484   \n",
       "min     11.030000    0.740000    1.360000          10.600000   70.000000   \n",
       "25%     12.362500    1.602500    2.210000          17.200000   88.000000   \n",
       "50%     13.050000    1.865000    2.360000          19.500000   98.000000   \n",
       "75%     13.677500    3.082500    2.557500          21.500000  107.000000   \n",
       "max     14.830000    5.800000    3.230000          30.000000  162.000000   \n",
       "\n",
       "       total_phenols  flavanoids  nonflavanoid_phenols  proanthocyanins  \\\n",
       "count     178.000000  178.000000            178.000000       178.000000   \n",
       "mean        2.295112    2.029270              0.361854         1.590899   \n",
       "std         0.625851    0.998859              0.124453         0.572359   \n",
       "min         0.980000    0.340000              0.130000         0.410000   \n",
       "25%         1.742500    1.205000              0.270000         1.250000   \n",
       "50%         2.355000    2.135000              0.340000         1.555000   \n",
       "75%         2.800000    2.875000              0.437500         1.950000   \n",
       "max         3.880000    5.080000              0.660000         3.580000   \n",
       "\n",
       "       color_intensity         hue  od280/od315_of_diluted_wines      proline  \n",
       "count       178.000000  178.000000                    178.000000   178.000000  \n",
       "mean          5.058090    0.957449                      2.611685   746.893258  \n",
       "std           2.318286    0.228572                      0.709990   314.907474  \n",
       "min           1.280000    0.480000                      1.270000   278.000000  \n",
       "25%           3.220000    0.782500                      1.937500   500.500000  \n",
       "50%           4.690000    0.965000                      2.780000   673.500000  \n",
       "75%           6.200000    1.120000                      3.170000   985.000000  \n",
       "max          13.000000    1.710000                      4.000000  1680.000000  "
      ]
     },
     "execution_count": 8,
     "metadata": {},
     "output_type": "execute_result"
    }
   ],
   "source": [
    "df.describe()"
   ]
  },
  {
   "cell_type": "code",
   "execution_count": 9,
   "id": "694a1627-1b43-476c-9440-3494364e0f34",
   "metadata": {},
   "outputs": [],
   "source": [
    "df['target'] = wine['target']"
   ]
  },
  {
   "cell_type": "code",
   "execution_count": 10,
   "id": "aa93da62-3255-4c6d-bb53-1958eb954f2e",
   "metadata": {},
   "outputs": [
    {
     "data": {
      "text/html": [
       "<div>\n",
       "<style scoped>\n",
       "    .dataframe tbody tr th:only-of-type {\n",
       "        vertical-align: middle;\n",
       "    }\n",
       "\n",
       "    .dataframe tbody tr th {\n",
       "        vertical-align: top;\n",
       "    }\n",
       "\n",
       "    .dataframe thead th {\n",
       "        text-align: right;\n",
       "    }\n",
       "</style>\n",
       "<table border=\"1\" class=\"dataframe\">\n",
       "  <thead>\n",
       "    <tr style=\"text-align: right;\">\n",
       "      <th></th>\n",
       "      <th>alcohol</th>\n",
       "      <th>malic_acid</th>\n",
       "      <th>ash</th>\n",
       "      <th>alcalinity_of_ash</th>\n",
       "      <th>magnesium</th>\n",
       "      <th>total_phenols</th>\n",
       "      <th>flavanoids</th>\n",
       "      <th>nonflavanoid_phenols</th>\n",
       "      <th>proanthocyanins</th>\n",
       "      <th>color_intensity</th>\n",
       "      <th>hue</th>\n",
       "      <th>od280/od315_of_diluted_wines</th>\n",
       "      <th>proline</th>\n",
       "      <th>target</th>\n",
       "    </tr>\n",
       "  </thead>\n",
       "  <tbody>\n",
       "    <tr>\n",
       "      <th>0</th>\n",
       "      <td>14.23</td>\n",
       "      <td>1.71</td>\n",
       "      <td>2.43</td>\n",
       "      <td>15.6</td>\n",
       "      <td>127.0</td>\n",
       "      <td>2.80</td>\n",
       "      <td>3.06</td>\n",
       "      <td>0.28</td>\n",
       "      <td>2.29</td>\n",
       "      <td>5.64</td>\n",
       "      <td>1.04</td>\n",
       "      <td>3.92</td>\n",
       "      <td>1065.0</td>\n",
       "      <td>0</td>\n",
       "    </tr>\n",
       "    <tr>\n",
       "      <th>1</th>\n",
       "      <td>13.20</td>\n",
       "      <td>1.78</td>\n",
       "      <td>2.14</td>\n",
       "      <td>11.2</td>\n",
       "      <td>100.0</td>\n",
       "      <td>2.65</td>\n",
       "      <td>2.76</td>\n",
       "      <td>0.26</td>\n",
       "      <td>1.28</td>\n",
       "      <td>4.38</td>\n",
       "      <td>1.05</td>\n",
       "      <td>3.40</td>\n",
       "      <td>1050.0</td>\n",
       "      <td>0</td>\n",
       "    </tr>\n",
       "    <tr>\n",
       "      <th>2</th>\n",
       "      <td>13.16</td>\n",
       "      <td>2.36</td>\n",
       "      <td>2.67</td>\n",
       "      <td>18.6</td>\n",
       "      <td>101.0</td>\n",
       "      <td>2.80</td>\n",
       "      <td>3.24</td>\n",
       "      <td>0.30</td>\n",
       "      <td>2.81</td>\n",
       "      <td>5.68</td>\n",
       "      <td>1.03</td>\n",
       "      <td>3.17</td>\n",
       "      <td>1185.0</td>\n",
       "      <td>0</td>\n",
       "    </tr>\n",
       "    <tr>\n",
       "      <th>3</th>\n",
       "      <td>14.37</td>\n",
       "      <td>1.95</td>\n",
       "      <td>2.50</td>\n",
       "      <td>16.8</td>\n",
       "      <td>113.0</td>\n",
       "      <td>3.85</td>\n",
       "      <td>3.49</td>\n",
       "      <td>0.24</td>\n",
       "      <td>2.18</td>\n",
       "      <td>7.80</td>\n",
       "      <td>0.86</td>\n",
       "      <td>3.45</td>\n",
       "      <td>1480.0</td>\n",
       "      <td>0</td>\n",
       "    </tr>\n",
       "    <tr>\n",
       "      <th>4</th>\n",
       "      <td>13.24</td>\n",
       "      <td>2.59</td>\n",
       "      <td>2.87</td>\n",
       "      <td>21.0</td>\n",
       "      <td>118.0</td>\n",
       "      <td>2.80</td>\n",
       "      <td>2.69</td>\n",
       "      <td>0.39</td>\n",
       "      <td>1.82</td>\n",
       "      <td>4.32</td>\n",
       "      <td>1.04</td>\n",
       "      <td>2.93</td>\n",
       "      <td>735.0</td>\n",
       "      <td>0</td>\n",
       "    </tr>\n",
       "    <tr>\n",
       "      <th>...</th>\n",
       "      <td>...</td>\n",
       "      <td>...</td>\n",
       "      <td>...</td>\n",
       "      <td>...</td>\n",
       "      <td>...</td>\n",
       "      <td>...</td>\n",
       "      <td>...</td>\n",
       "      <td>...</td>\n",
       "      <td>...</td>\n",
       "      <td>...</td>\n",
       "      <td>...</td>\n",
       "      <td>...</td>\n",
       "      <td>...</td>\n",
       "      <td>...</td>\n",
       "    </tr>\n",
       "    <tr>\n",
       "      <th>173</th>\n",
       "      <td>13.71</td>\n",
       "      <td>5.65</td>\n",
       "      <td>2.45</td>\n",
       "      <td>20.5</td>\n",
       "      <td>95.0</td>\n",
       "      <td>1.68</td>\n",
       "      <td>0.61</td>\n",
       "      <td>0.52</td>\n",
       "      <td>1.06</td>\n",
       "      <td>7.70</td>\n",
       "      <td>0.64</td>\n",
       "      <td>1.74</td>\n",
       "      <td>740.0</td>\n",
       "      <td>2</td>\n",
       "    </tr>\n",
       "    <tr>\n",
       "      <th>174</th>\n",
       "      <td>13.40</td>\n",
       "      <td>3.91</td>\n",
       "      <td>2.48</td>\n",
       "      <td>23.0</td>\n",
       "      <td>102.0</td>\n",
       "      <td>1.80</td>\n",
       "      <td>0.75</td>\n",
       "      <td>0.43</td>\n",
       "      <td>1.41</td>\n",
       "      <td>7.30</td>\n",
       "      <td>0.70</td>\n",
       "      <td>1.56</td>\n",
       "      <td>750.0</td>\n",
       "      <td>2</td>\n",
       "    </tr>\n",
       "    <tr>\n",
       "      <th>175</th>\n",
       "      <td>13.27</td>\n",
       "      <td>4.28</td>\n",
       "      <td>2.26</td>\n",
       "      <td>20.0</td>\n",
       "      <td>120.0</td>\n",
       "      <td>1.59</td>\n",
       "      <td>0.69</td>\n",
       "      <td>0.43</td>\n",
       "      <td>1.35</td>\n",
       "      <td>10.20</td>\n",
       "      <td>0.59</td>\n",
       "      <td>1.56</td>\n",
       "      <td>835.0</td>\n",
       "      <td>2</td>\n",
       "    </tr>\n",
       "    <tr>\n",
       "      <th>176</th>\n",
       "      <td>13.17</td>\n",
       "      <td>2.59</td>\n",
       "      <td>2.37</td>\n",
       "      <td>20.0</td>\n",
       "      <td>120.0</td>\n",
       "      <td>1.65</td>\n",
       "      <td>0.68</td>\n",
       "      <td>0.53</td>\n",
       "      <td>1.46</td>\n",
       "      <td>9.30</td>\n",
       "      <td>0.60</td>\n",
       "      <td>1.62</td>\n",
       "      <td>840.0</td>\n",
       "      <td>2</td>\n",
       "    </tr>\n",
       "    <tr>\n",
       "      <th>177</th>\n",
       "      <td>14.13</td>\n",
       "      <td>4.10</td>\n",
       "      <td>2.74</td>\n",
       "      <td>24.5</td>\n",
       "      <td>96.0</td>\n",
       "      <td>2.05</td>\n",
       "      <td>0.76</td>\n",
       "      <td>0.56</td>\n",
       "      <td>1.35</td>\n",
       "      <td>9.20</td>\n",
       "      <td>0.61</td>\n",
       "      <td>1.60</td>\n",
       "      <td>560.0</td>\n",
       "      <td>2</td>\n",
       "    </tr>\n",
       "  </tbody>\n",
       "</table>\n",
       "<p>178 rows × 14 columns</p>\n",
       "</div>"
      ],
      "text/plain": [
       "     alcohol  malic_acid   ash  alcalinity_of_ash  magnesium  total_phenols  \\\n",
       "0      14.23        1.71  2.43               15.6      127.0           2.80   \n",
       "1      13.20        1.78  2.14               11.2      100.0           2.65   \n",
       "2      13.16        2.36  2.67               18.6      101.0           2.80   \n",
       "3      14.37        1.95  2.50               16.8      113.0           3.85   \n",
       "4      13.24        2.59  2.87               21.0      118.0           2.80   \n",
       "..       ...         ...   ...                ...        ...            ...   \n",
       "173    13.71        5.65  2.45               20.5       95.0           1.68   \n",
       "174    13.40        3.91  2.48               23.0      102.0           1.80   \n",
       "175    13.27        4.28  2.26               20.0      120.0           1.59   \n",
       "176    13.17        2.59  2.37               20.0      120.0           1.65   \n",
       "177    14.13        4.10  2.74               24.5       96.0           2.05   \n",
       "\n",
       "     flavanoids  nonflavanoid_phenols  proanthocyanins  color_intensity   hue  \\\n",
       "0          3.06                  0.28             2.29             5.64  1.04   \n",
       "1          2.76                  0.26             1.28             4.38  1.05   \n",
       "2          3.24                  0.30             2.81             5.68  1.03   \n",
       "3          3.49                  0.24             2.18             7.80  0.86   \n",
       "4          2.69                  0.39             1.82             4.32  1.04   \n",
       "..          ...                   ...              ...              ...   ...   \n",
       "173        0.61                  0.52             1.06             7.70  0.64   \n",
       "174        0.75                  0.43             1.41             7.30  0.70   \n",
       "175        0.69                  0.43             1.35            10.20  0.59   \n",
       "176        0.68                  0.53             1.46             9.30  0.60   \n",
       "177        0.76                  0.56             1.35             9.20  0.61   \n",
       "\n",
       "     od280/od315_of_diluted_wines  proline  target  \n",
       "0                            3.92   1065.0       0  \n",
       "1                            3.40   1050.0       0  \n",
       "2                            3.17   1185.0       0  \n",
       "3                            3.45   1480.0       0  \n",
       "4                            2.93    735.0       0  \n",
       "..                            ...      ...     ...  \n",
       "173                          1.74    740.0       2  \n",
       "174                          1.56    750.0       2  \n",
       "175                          1.56    835.0       2  \n",
       "176                          1.62    840.0       2  \n",
       "177                          1.60    560.0       2  \n",
       "\n",
       "[178 rows x 14 columns]"
      ]
     },
     "execution_count": 10,
     "metadata": {},
     "output_type": "execute_result"
    }
   ],
   "source": [
    "df"
   ]
  },
  {
   "cell_type": "code",
   "execution_count": 11,
   "id": "be9749fd-9d3d-442b-8cf0-e86ae767add0",
   "metadata": {},
   "outputs": [],
   "source": [
    "scaler = StandardScaler() # 값의 차이를 scale 해서 정규화시킴."
   ]
  },
  {
   "cell_type": "code",
   "execution_count": 12,
   "id": "0d993ba9-5393-4e7d-bb9e-8d21a6ed9be7",
   "metadata": {},
   "outputs": [],
   "source": [
    "X= wine.data"
   ]
  },
  {
   "cell_type": "code",
   "execution_count": 13,
   "id": "e13d5b1d-188a-4dda-976d-4177ef5cb087",
   "metadata": {},
   "outputs": [],
   "source": [
    "Y= wine.target"
   ]
  },
  {
   "cell_type": "code",
   "execution_count": 14,
   "id": "92ea3084-60ae-4bdd-8a94-c18a0f7bc484",
   "metadata": {},
   "outputs": [],
   "source": [
    "model=SVC()"
   ]
  },
  {
   "cell_type": "code",
   "execution_count": 31,
   "id": "a4a2f19a-6921-4844-8beb-256831df96fb",
   "metadata": {},
   "outputs": [
    {
     "data": {
      "text/html": [
       "<style>#sk-ef11d642-e857-428c-8430-c7fdfbde228c {color: black;background-color: white;}#sk-ef11d642-e857-428c-8430-c7fdfbde228c pre{padding: 0;}#sk-ef11d642-e857-428c-8430-c7fdfbde228c div.sk-toggleable {background-color: white;}#sk-ef11d642-e857-428c-8430-c7fdfbde228c label.sk-toggleable__label {cursor: pointer;display: block;width: 100%;margin-bottom: 0;padding: 0.3em;box-sizing: border-box;text-align: center;}#sk-ef11d642-e857-428c-8430-c7fdfbde228c label.sk-toggleable__label-arrow:before {content: \"▸\";float: left;margin-right: 0.25em;color: #696969;}#sk-ef11d642-e857-428c-8430-c7fdfbde228c label.sk-toggleable__label-arrow:hover:before {color: black;}#sk-ef11d642-e857-428c-8430-c7fdfbde228c div.sk-estimator:hover label.sk-toggleable__label-arrow:before {color: black;}#sk-ef11d642-e857-428c-8430-c7fdfbde228c div.sk-toggleable__content {max-height: 0;max-width: 0;overflow: hidden;text-align: left;background-color: #f0f8ff;}#sk-ef11d642-e857-428c-8430-c7fdfbde228c div.sk-toggleable__content pre {margin: 0.2em;color: black;border-radius: 0.25em;background-color: #f0f8ff;}#sk-ef11d642-e857-428c-8430-c7fdfbde228c input.sk-toggleable__control:checked~div.sk-toggleable__content {max-height: 200px;max-width: 100%;overflow: auto;}#sk-ef11d642-e857-428c-8430-c7fdfbde228c input.sk-toggleable__control:checked~label.sk-toggleable__label-arrow:before {content: \"▾\";}#sk-ef11d642-e857-428c-8430-c7fdfbde228c div.sk-estimator input.sk-toggleable__control:checked~label.sk-toggleable__label {background-color: #d4ebff;}#sk-ef11d642-e857-428c-8430-c7fdfbde228c div.sk-label input.sk-toggleable__control:checked~label.sk-toggleable__label {background-color: #d4ebff;}#sk-ef11d642-e857-428c-8430-c7fdfbde228c input.sk-hidden--visually {border: 0;clip: rect(1px 1px 1px 1px);clip: rect(1px, 1px, 1px, 1px);height: 1px;margin: -1px;overflow: hidden;padding: 0;position: absolute;width: 1px;}#sk-ef11d642-e857-428c-8430-c7fdfbde228c div.sk-estimator {font-family: monospace;background-color: #f0f8ff;border: 1px dotted black;border-radius: 0.25em;box-sizing: border-box;margin-bottom: 0.5em;}#sk-ef11d642-e857-428c-8430-c7fdfbde228c div.sk-estimator:hover {background-color: #d4ebff;}#sk-ef11d642-e857-428c-8430-c7fdfbde228c div.sk-parallel-item::after {content: \"\";width: 100%;border-bottom: 1px solid gray;flex-grow: 1;}#sk-ef11d642-e857-428c-8430-c7fdfbde228c div.sk-label:hover label.sk-toggleable__label {background-color: #d4ebff;}#sk-ef11d642-e857-428c-8430-c7fdfbde228c div.sk-serial::before {content: \"\";position: absolute;border-left: 1px solid gray;box-sizing: border-box;top: 2em;bottom: 0;left: 50%;}#sk-ef11d642-e857-428c-8430-c7fdfbde228c div.sk-serial {display: flex;flex-direction: column;align-items: center;background-color: white;padding-right: 0.2em;padding-left: 0.2em;}#sk-ef11d642-e857-428c-8430-c7fdfbde228c div.sk-item {z-index: 1;}#sk-ef11d642-e857-428c-8430-c7fdfbde228c div.sk-parallel {display: flex;align-items: stretch;justify-content: center;background-color: white;}#sk-ef11d642-e857-428c-8430-c7fdfbde228c div.sk-parallel::before {content: \"\";position: absolute;border-left: 1px solid gray;box-sizing: border-box;top: 2em;bottom: 0;left: 50%;}#sk-ef11d642-e857-428c-8430-c7fdfbde228c div.sk-parallel-item {display: flex;flex-direction: column;position: relative;background-color: white;}#sk-ef11d642-e857-428c-8430-c7fdfbde228c div.sk-parallel-item:first-child::after {align-self: flex-end;width: 50%;}#sk-ef11d642-e857-428c-8430-c7fdfbde228c div.sk-parallel-item:last-child::after {align-self: flex-start;width: 50%;}#sk-ef11d642-e857-428c-8430-c7fdfbde228c div.sk-parallel-item:only-child::after {width: 0;}#sk-ef11d642-e857-428c-8430-c7fdfbde228c div.sk-dashed-wrapped {border: 1px dashed gray;margin: 0 0.4em 0.5em 0.4em;box-sizing: border-box;padding-bottom: 0.4em;background-color: white;position: relative;}#sk-ef11d642-e857-428c-8430-c7fdfbde228c div.sk-label label {font-family: monospace;font-weight: bold;background-color: white;display: inline-block;line-height: 1.2em;}#sk-ef11d642-e857-428c-8430-c7fdfbde228c div.sk-label-container {position: relative;z-index: 2;text-align: center;}#sk-ef11d642-e857-428c-8430-c7fdfbde228c div.sk-container {/* jupyter's `normalize.less` sets `[hidden] { display: none; }` but bootstrap.min.css set `[hidden] { display: none !important; }` so we also need the `!important` here to be able to override the default hidden behavior on the sphinx rendered scikit-learn.org. See: https://github.com/scikit-learn/scikit-learn/issues/21755 */display: inline-block !important;position: relative;}#sk-ef11d642-e857-428c-8430-c7fdfbde228c div.sk-text-repr-fallback {display: none;}</style><div id=\"sk-ef11d642-e857-428c-8430-c7fdfbde228c\" class=\"sk-top-container\"><div class=\"sk-text-repr-fallback\"><pre>SVC()</pre><b>Please rerun this cell to show the HTML repr or trust the notebook.</b></div><div class=\"sk-container\" hidden><div class=\"sk-item\"><div class=\"sk-estimator sk-toggleable\"><input class=\"sk-toggleable__control sk-hidden--visually\" id=\"e3e41223-e399-4f34-95c0-66c77d0738e6\" type=\"checkbox\" checked><label for=\"e3e41223-e399-4f34-95c0-66c77d0738e6\" class=\"sk-toggleable__label sk-toggleable__label-arrow\">SVC</label><div class=\"sk-toggleable__content\"><pre>SVC()</pre></div></div></div></div></div>"
      ],
      "text/plain": [
       "SVC()"
      ]
     },
     "execution_count": 31,
     "metadata": {},
     "output_type": "execute_result"
    }
   ],
   "source": [
    "model.fit(x_train,y_train)"
   ]
  },
  {
   "cell_type": "code",
   "execution_count": 32,
   "id": "4d742ede-9da9-44ce-80f0-91533329703c",
   "metadata": {},
   "outputs": [
    {
     "data": {
      "text/plain": [
       "0.7183098591549296"
      ]
     },
     "execution_count": 32,
     "metadata": {},
     "output_type": "execute_result"
    }
   ],
   "source": [
    "model.score(x_train,y_train)"
   ]
  },
  {
   "cell_type": "code",
   "execution_count": 33,
   "id": "20e6139d-6ab8-4c60-988c-d1beb29a3e52",
   "metadata": {},
   "outputs": [
    {
     "data": {
      "text/plain": [
       "0.7777777777777778"
      ]
     },
     "execution_count": 33,
     "metadata": {},
     "output_type": "execute_result"
    }
   ],
   "source": [
    "model.score(x_test, y_test)"
   ]
  },
  {
   "cell_type": "code",
   "execution_count": 16,
   "id": "73d2a243-3eb3-451a-ad9e-44273a82bdca",
   "metadata": {},
   "outputs": [],
   "source": [
    "scaler_x = scaler.fit_transform(X)"
   ]
  },
  {
   "cell_type": "code",
   "execution_count": 17,
   "id": "1f22ccbf-113f-4b05-902f-f2f0a589eee2",
   "metadata": {},
   "outputs": [],
   "source": [
    "x_train, x_test, y_train, y_test = train_test_split(scaler_x,Y,test_size=0.2, random_state=0)"
   ]
  },
  {
   "cell_type": "code",
   "execution_count": null,
   "id": "f42d7ddc-9afd-4d8d-806f-a7faa0cb9440",
   "metadata": {},
   "outputs": [],
   "source": []
  },
  {
   "cell_type": "code",
   "execution_count": 18,
   "id": "72c71573-2321-4b19-9776-659db5cc3d80",
   "metadata": {},
   "outputs": [],
   "source": [
    "model=SVC()"
   ]
  },
  {
   "cell_type": "code",
   "execution_count": 19,
   "id": "6a3553d5-1ce0-429d-9d30-06fdb558da0a",
   "metadata": {},
   "outputs": [
    {
     "data": {
      "text/html": [
       "<style>#sk-72f1b6ea-43ba-4f62-ae16-53a663aa4c46 {color: black;background-color: white;}#sk-72f1b6ea-43ba-4f62-ae16-53a663aa4c46 pre{padding: 0;}#sk-72f1b6ea-43ba-4f62-ae16-53a663aa4c46 div.sk-toggleable {background-color: white;}#sk-72f1b6ea-43ba-4f62-ae16-53a663aa4c46 label.sk-toggleable__label {cursor: pointer;display: block;width: 100%;margin-bottom: 0;padding: 0.3em;box-sizing: border-box;text-align: center;}#sk-72f1b6ea-43ba-4f62-ae16-53a663aa4c46 label.sk-toggleable__label-arrow:before {content: \"▸\";float: left;margin-right: 0.25em;color: #696969;}#sk-72f1b6ea-43ba-4f62-ae16-53a663aa4c46 label.sk-toggleable__label-arrow:hover:before {color: black;}#sk-72f1b6ea-43ba-4f62-ae16-53a663aa4c46 div.sk-estimator:hover label.sk-toggleable__label-arrow:before {color: black;}#sk-72f1b6ea-43ba-4f62-ae16-53a663aa4c46 div.sk-toggleable__content {max-height: 0;max-width: 0;overflow: hidden;text-align: left;background-color: #f0f8ff;}#sk-72f1b6ea-43ba-4f62-ae16-53a663aa4c46 div.sk-toggleable__content pre {margin: 0.2em;color: black;border-radius: 0.25em;background-color: #f0f8ff;}#sk-72f1b6ea-43ba-4f62-ae16-53a663aa4c46 input.sk-toggleable__control:checked~div.sk-toggleable__content {max-height: 200px;max-width: 100%;overflow: auto;}#sk-72f1b6ea-43ba-4f62-ae16-53a663aa4c46 input.sk-toggleable__control:checked~label.sk-toggleable__label-arrow:before {content: \"▾\";}#sk-72f1b6ea-43ba-4f62-ae16-53a663aa4c46 div.sk-estimator input.sk-toggleable__control:checked~label.sk-toggleable__label {background-color: #d4ebff;}#sk-72f1b6ea-43ba-4f62-ae16-53a663aa4c46 div.sk-label input.sk-toggleable__control:checked~label.sk-toggleable__label {background-color: #d4ebff;}#sk-72f1b6ea-43ba-4f62-ae16-53a663aa4c46 input.sk-hidden--visually {border: 0;clip: rect(1px 1px 1px 1px);clip: rect(1px, 1px, 1px, 1px);height: 1px;margin: -1px;overflow: hidden;padding: 0;position: absolute;width: 1px;}#sk-72f1b6ea-43ba-4f62-ae16-53a663aa4c46 div.sk-estimator {font-family: monospace;background-color: #f0f8ff;border: 1px dotted black;border-radius: 0.25em;box-sizing: border-box;margin-bottom: 0.5em;}#sk-72f1b6ea-43ba-4f62-ae16-53a663aa4c46 div.sk-estimator:hover {background-color: #d4ebff;}#sk-72f1b6ea-43ba-4f62-ae16-53a663aa4c46 div.sk-parallel-item::after {content: \"\";width: 100%;border-bottom: 1px solid gray;flex-grow: 1;}#sk-72f1b6ea-43ba-4f62-ae16-53a663aa4c46 div.sk-label:hover label.sk-toggleable__label {background-color: #d4ebff;}#sk-72f1b6ea-43ba-4f62-ae16-53a663aa4c46 div.sk-serial::before {content: \"\";position: absolute;border-left: 1px solid gray;box-sizing: border-box;top: 2em;bottom: 0;left: 50%;}#sk-72f1b6ea-43ba-4f62-ae16-53a663aa4c46 div.sk-serial {display: flex;flex-direction: column;align-items: center;background-color: white;padding-right: 0.2em;padding-left: 0.2em;}#sk-72f1b6ea-43ba-4f62-ae16-53a663aa4c46 div.sk-item {z-index: 1;}#sk-72f1b6ea-43ba-4f62-ae16-53a663aa4c46 div.sk-parallel {display: flex;align-items: stretch;justify-content: center;background-color: white;}#sk-72f1b6ea-43ba-4f62-ae16-53a663aa4c46 div.sk-parallel::before {content: \"\";position: absolute;border-left: 1px solid gray;box-sizing: border-box;top: 2em;bottom: 0;left: 50%;}#sk-72f1b6ea-43ba-4f62-ae16-53a663aa4c46 div.sk-parallel-item {display: flex;flex-direction: column;position: relative;background-color: white;}#sk-72f1b6ea-43ba-4f62-ae16-53a663aa4c46 div.sk-parallel-item:first-child::after {align-self: flex-end;width: 50%;}#sk-72f1b6ea-43ba-4f62-ae16-53a663aa4c46 div.sk-parallel-item:last-child::after {align-self: flex-start;width: 50%;}#sk-72f1b6ea-43ba-4f62-ae16-53a663aa4c46 div.sk-parallel-item:only-child::after {width: 0;}#sk-72f1b6ea-43ba-4f62-ae16-53a663aa4c46 div.sk-dashed-wrapped {border: 1px dashed gray;margin: 0 0.4em 0.5em 0.4em;box-sizing: border-box;padding-bottom: 0.4em;background-color: white;position: relative;}#sk-72f1b6ea-43ba-4f62-ae16-53a663aa4c46 div.sk-label label {font-family: monospace;font-weight: bold;background-color: white;display: inline-block;line-height: 1.2em;}#sk-72f1b6ea-43ba-4f62-ae16-53a663aa4c46 div.sk-label-container {position: relative;z-index: 2;text-align: center;}#sk-72f1b6ea-43ba-4f62-ae16-53a663aa4c46 div.sk-container {/* jupyter's `normalize.less` sets `[hidden] { display: none; }` but bootstrap.min.css set `[hidden] { display: none !important; }` so we also need the `!important` here to be able to override the default hidden behavior on the sphinx rendered scikit-learn.org. See: https://github.com/scikit-learn/scikit-learn/issues/21755 */display: inline-block !important;position: relative;}#sk-72f1b6ea-43ba-4f62-ae16-53a663aa4c46 div.sk-text-repr-fallback {display: none;}</style><div id=\"sk-72f1b6ea-43ba-4f62-ae16-53a663aa4c46\" class=\"sk-top-container\"><div class=\"sk-text-repr-fallback\"><pre>SVC()</pre><b>Please rerun this cell to show the HTML repr or trust the notebook.</b></div><div class=\"sk-container\" hidden><div class=\"sk-item\"><div class=\"sk-estimator sk-toggleable\"><input class=\"sk-toggleable__control sk-hidden--visually\" id=\"c457306f-c3d9-4dcd-9b85-6599608a13a2\" type=\"checkbox\" checked><label for=\"c457306f-c3d9-4dcd-9b85-6599608a13a2\" class=\"sk-toggleable__label sk-toggleable__label-arrow\">SVC</label><div class=\"sk-toggleable__content\"><pre>SVC()</pre></div></div></div></div></div>"
      ],
      "text/plain": [
       "SVC()"
      ]
     },
     "execution_count": 19,
     "metadata": {},
     "output_type": "execute_result"
    }
   ],
   "source": [
    "model.fit(x_train,y_train)"
   ]
  },
  {
   "cell_type": "code",
   "execution_count": 20,
   "id": "7e951f42-0c7a-43bf-91ab-56b4ffb724f2",
   "metadata": {},
   "outputs": [
    {
     "data": {
      "text/plain": [
       "0.9929577464788732"
      ]
     },
     "execution_count": 20,
     "metadata": {},
     "output_type": "execute_result"
    }
   ],
   "source": [
    "model.score(x_train,y_train)"
   ]
  },
  {
   "cell_type": "code",
   "execution_count": 21,
   "id": "efa1b782-8022-42de-9540-2e114bf1c0fa",
   "metadata": {},
   "outputs": [
    {
     "data": {
      "text/plain": [
       "1.0"
      ]
     },
     "execution_count": 21,
     "metadata": {},
     "output_type": "execute_result"
    }
   ],
   "source": [
    "model.score(x_test, y_test)"
   ]
  },
  {
   "cell_type": "code",
   "execution_count": null,
   "id": "50a483ef-41ca-4475-9679-2a4dc900edcf",
   "metadata": {},
   "outputs": [],
   "source": []
  },
  {
   "cell_type": "raw",
   "id": "711db942-76b0-4bc0-b3d4-1cad74795beb",
   "metadata": {},
   "source": [
    "선 scale 후 train/test나누는 것이 선 train/ test 나누고 후 train에 scale 하는것보다 낫다."
   ]
  },
  {
   "cell_type": "code",
   "execution_count": null,
   "id": "0a13d914-44d5-4982-a953-d9d38b161815",
   "metadata": {},
   "outputs": [],
   "source": []
  },
  {
   "cell_type": "markdown",
   "id": "caaa1bd7-6f01-4a14-9c1c-95beae755cf7",
   "metadata": {},
   "source": [
    "# 5. Pipeline"
   ]
  },
  {
   "cell_type": "code",
   "execution_count": 22,
   "id": "98468cdf-8954-4dec-9539-8b404403321f",
   "metadata": {},
   "outputs": [],
   "source": [
    "pipeline=Pipeline([('scaler2', StandardScaler()), ('svc', SVC())])"
   ]
  },
  {
   "cell_type": "code",
   "execution_count": 23,
   "id": "1da7152e-9e8f-4e91-a26b-7d8a4ff296c7",
   "metadata": {},
   "outputs": [],
   "source": [
    "X= wine.data"
   ]
  },
  {
   "cell_type": "code",
   "execution_count": 24,
   "id": "30be239a-550e-4466-aec9-74fa2a02d4f8",
   "metadata": {},
   "outputs": [],
   "source": [
    "Y= wine.target"
   ]
  },
  {
   "cell_type": "code",
   "execution_count": 25,
   "id": "8e8832cf-a994-41e9-aed3-69ca44e9c4b1",
   "metadata": {},
   "outputs": [],
   "source": [
    "x_train, x_test, y_train, y_test = train_test_split(X,Y,test_size=0.2, random_state=0)"
   ]
  },
  {
   "cell_type": "code",
   "execution_count": 26,
   "id": "5727203a-fe4d-4542-bcd2-8d79a4fe87d2",
   "metadata": {},
   "outputs": [
    {
     "data": {
      "text/html": [
       "<style>#sk-53e86a74-cd39-4371-84ca-9fbd3397bdb7 {color: black;background-color: white;}#sk-53e86a74-cd39-4371-84ca-9fbd3397bdb7 pre{padding: 0;}#sk-53e86a74-cd39-4371-84ca-9fbd3397bdb7 div.sk-toggleable {background-color: white;}#sk-53e86a74-cd39-4371-84ca-9fbd3397bdb7 label.sk-toggleable__label {cursor: pointer;display: block;width: 100%;margin-bottom: 0;padding: 0.3em;box-sizing: border-box;text-align: center;}#sk-53e86a74-cd39-4371-84ca-9fbd3397bdb7 label.sk-toggleable__label-arrow:before {content: \"▸\";float: left;margin-right: 0.25em;color: #696969;}#sk-53e86a74-cd39-4371-84ca-9fbd3397bdb7 label.sk-toggleable__label-arrow:hover:before {color: black;}#sk-53e86a74-cd39-4371-84ca-9fbd3397bdb7 div.sk-estimator:hover label.sk-toggleable__label-arrow:before {color: black;}#sk-53e86a74-cd39-4371-84ca-9fbd3397bdb7 div.sk-toggleable__content {max-height: 0;max-width: 0;overflow: hidden;text-align: left;background-color: #f0f8ff;}#sk-53e86a74-cd39-4371-84ca-9fbd3397bdb7 div.sk-toggleable__content pre {margin: 0.2em;color: black;border-radius: 0.25em;background-color: #f0f8ff;}#sk-53e86a74-cd39-4371-84ca-9fbd3397bdb7 input.sk-toggleable__control:checked~div.sk-toggleable__content {max-height: 200px;max-width: 100%;overflow: auto;}#sk-53e86a74-cd39-4371-84ca-9fbd3397bdb7 input.sk-toggleable__control:checked~label.sk-toggleable__label-arrow:before {content: \"▾\";}#sk-53e86a74-cd39-4371-84ca-9fbd3397bdb7 div.sk-estimator input.sk-toggleable__control:checked~label.sk-toggleable__label {background-color: #d4ebff;}#sk-53e86a74-cd39-4371-84ca-9fbd3397bdb7 div.sk-label input.sk-toggleable__control:checked~label.sk-toggleable__label {background-color: #d4ebff;}#sk-53e86a74-cd39-4371-84ca-9fbd3397bdb7 input.sk-hidden--visually {border: 0;clip: rect(1px 1px 1px 1px);clip: rect(1px, 1px, 1px, 1px);height: 1px;margin: -1px;overflow: hidden;padding: 0;position: absolute;width: 1px;}#sk-53e86a74-cd39-4371-84ca-9fbd3397bdb7 div.sk-estimator {font-family: monospace;background-color: #f0f8ff;border: 1px dotted black;border-radius: 0.25em;box-sizing: border-box;margin-bottom: 0.5em;}#sk-53e86a74-cd39-4371-84ca-9fbd3397bdb7 div.sk-estimator:hover {background-color: #d4ebff;}#sk-53e86a74-cd39-4371-84ca-9fbd3397bdb7 div.sk-parallel-item::after {content: \"\";width: 100%;border-bottom: 1px solid gray;flex-grow: 1;}#sk-53e86a74-cd39-4371-84ca-9fbd3397bdb7 div.sk-label:hover label.sk-toggleable__label {background-color: #d4ebff;}#sk-53e86a74-cd39-4371-84ca-9fbd3397bdb7 div.sk-serial::before {content: \"\";position: absolute;border-left: 1px solid gray;box-sizing: border-box;top: 2em;bottom: 0;left: 50%;}#sk-53e86a74-cd39-4371-84ca-9fbd3397bdb7 div.sk-serial {display: flex;flex-direction: column;align-items: center;background-color: white;padding-right: 0.2em;padding-left: 0.2em;}#sk-53e86a74-cd39-4371-84ca-9fbd3397bdb7 div.sk-item {z-index: 1;}#sk-53e86a74-cd39-4371-84ca-9fbd3397bdb7 div.sk-parallel {display: flex;align-items: stretch;justify-content: center;background-color: white;}#sk-53e86a74-cd39-4371-84ca-9fbd3397bdb7 div.sk-parallel::before {content: \"\";position: absolute;border-left: 1px solid gray;box-sizing: border-box;top: 2em;bottom: 0;left: 50%;}#sk-53e86a74-cd39-4371-84ca-9fbd3397bdb7 div.sk-parallel-item {display: flex;flex-direction: column;position: relative;background-color: white;}#sk-53e86a74-cd39-4371-84ca-9fbd3397bdb7 div.sk-parallel-item:first-child::after {align-self: flex-end;width: 50%;}#sk-53e86a74-cd39-4371-84ca-9fbd3397bdb7 div.sk-parallel-item:last-child::after {align-self: flex-start;width: 50%;}#sk-53e86a74-cd39-4371-84ca-9fbd3397bdb7 div.sk-parallel-item:only-child::after {width: 0;}#sk-53e86a74-cd39-4371-84ca-9fbd3397bdb7 div.sk-dashed-wrapped {border: 1px dashed gray;margin: 0 0.4em 0.5em 0.4em;box-sizing: border-box;padding-bottom: 0.4em;background-color: white;position: relative;}#sk-53e86a74-cd39-4371-84ca-9fbd3397bdb7 div.sk-label label {font-family: monospace;font-weight: bold;background-color: white;display: inline-block;line-height: 1.2em;}#sk-53e86a74-cd39-4371-84ca-9fbd3397bdb7 div.sk-label-container {position: relative;z-index: 2;text-align: center;}#sk-53e86a74-cd39-4371-84ca-9fbd3397bdb7 div.sk-container {/* jupyter's `normalize.less` sets `[hidden] { display: none; }` but bootstrap.min.css set `[hidden] { display: none !important; }` so we also need the `!important` here to be able to override the default hidden behavior on the sphinx rendered scikit-learn.org. See: https://github.com/scikit-learn/scikit-learn/issues/21755 */display: inline-block !important;position: relative;}#sk-53e86a74-cd39-4371-84ca-9fbd3397bdb7 div.sk-text-repr-fallback {display: none;}</style><div id=\"sk-53e86a74-cd39-4371-84ca-9fbd3397bdb7\" class=\"sk-top-container\"><div class=\"sk-text-repr-fallback\"><pre>Pipeline(steps=[(&#x27;scaler2&#x27;, StandardScaler()), (&#x27;svc&#x27;, SVC())])</pre><b>Please rerun this cell to show the HTML repr or trust the notebook.</b></div><div class=\"sk-container\" hidden><div class=\"sk-item sk-dashed-wrapped\"><div class=\"sk-label-container\"><div class=\"sk-label sk-toggleable\"><input class=\"sk-toggleable__control sk-hidden--visually\" id=\"edef1f17-1c6c-4f20-a80a-65dcd0e7eed6\" type=\"checkbox\" ><label for=\"edef1f17-1c6c-4f20-a80a-65dcd0e7eed6\" class=\"sk-toggleable__label sk-toggleable__label-arrow\">Pipeline</label><div class=\"sk-toggleable__content\"><pre>Pipeline(steps=[(&#x27;scaler2&#x27;, StandardScaler()), (&#x27;svc&#x27;, SVC())])</pre></div></div></div><div class=\"sk-serial\"><div class=\"sk-item\"><div class=\"sk-estimator sk-toggleable\"><input class=\"sk-toggleable__control sk-hidden--visually\" id=\"eb30cc6c-6b5a-43d6-85f7-b927fd3b7427\" type=\"checkbox\" ><label for=\"eb30cc6c-6b5a-43d6-85f7-b927fd3b7427\" class=\"sk-toggleable__label sk-toggleable__label-arrow\">StandardScaler</label><div class=\"sk-toggleable__content\"><pre>StandardScaler()</pre></div></div></div><div class=\"sk-item\"><div class=\"sk-estimator sk-toggleable\"><input class=\"sk-toggleable__control sk-hidden--visually\" id=\"8a4a2f72-8d28-4da2-a9f5-13723cb7cd35\" type=\"checkbox\" ><label for=\"8a4a2f72-8d28-4da2-a9f5-13723cb7cd35\" class=\"sk-toggleable__label sk-toggleable__label-arrow\">SVC</label><div class=\"sk-toggleable__content\"><pre>SVC()</pre></div></div></div></div></div></div></div>"
      ],
      "text/plain": [
       "Pipeline(steps=[('scaler2', StandardScaler()), ('svc', SVC())])"
      ]
     },
     "execution_count": 26,
     "metadata": {},
     "output_type": "execute_result"
    }
   ],
   "source": [
    "pipeline.fit(x_train, y_train)"
   ]
  },
  {
   "cell_type": "code",
   "execution_count": 27,
   "id": "adac5518-8cf7-4bc7-911c-7737b058d05c",
   "metadata": {},
   "outputs": [
    {
     "data": {
      "text/plain": [
       "1.0"
      ]
     },
     "execution_count": 27,
     "metadata": {},
     "output_type": "execute_result"
    }
   ],
   "source": [
    "pipeline.score(x_test,y_test)"
   ]
  },
  {
   "cell_type": "code",
   "execution_count": 28,
   "id": "6ffa29ac-4731-4df8-8284-3aceb7c753ae",
   "metadata": {},
   "outputs": [
    {
     "data": {
      "text/plain": [
       "array([1.29848592e+01, 2.37260563e+00, 2.36690141e+00, 1.95549296e+01,\n",
       "       1.00063380e+02, 2.25866197e+00, 1.94915493e+00, 3.63521127e-01,\n",
       "       1.60605634e+00, 5.04521126e+00, 9.53352113e-01, 2.58626761e+00,\n",
       "       7.42330986e+02])"
      ]
     },
     "execution_count": 28,
     "metadata": {},
     "output_type": "execute_result"
    }
   ],
   "source": [
    "pipeline.named_steps['scaler2'].mean_ #scaler안의 값을 named_step을 이용해서 꺼냄"
   ]
  },
  {
   "cell_type": "code",
   "execution_count": 29,
   "id": "d2d76a74-6236-48ca-8d03-87215e0a7a26",
   "metadata": {},
   "outputs": [
    {
     "data": {
      "text/plain": [
       "{'C': 1.0,\n",
       " 'break_ties': False,\n",
       " 'cache_size': 200,\n",
       " 'class_weight': None,\n",
       " 'coef0': 0.0,\n",
       " 'decision_function_shape': 'ovr',\n",
       " 'degree': 3,\n",
       " 'gamma': 'scale',\n",
       " 'kernel': 'rbf',\n",
       " 'max_iter': -1,\n",
       " 'probability': False,\n",
       " 'random_state': None,\n",
       " 'shrinking': True,\n",
       " 'tol': 0.001,\n",
       " 'verbose': False}"
      ]
     },
     "execution_count": 29,
     "metadata": {},
     "output_type": "execute_result"
    }
   ],
   "source": [
    "pipeline.named_steps['svc'].get_params()"
   ]
  },
  {
   "cell_type": "code",
   "execution_count": 30,
   "id": "b3165030-7156-491d-a573-9ba66bce677f",
   "metadata": {},
   "outputs": [],
   "source": [
    "set_config(display=\"diagram\")"
   ]
  },
  {
   "cell_type": "markdown",
   "id": "e7a23fe6-fa6b-46c7-bf4f-fe7a9bd7314b",
   "metadata": {},
   "source": [
    "--------------"
   ]
  },
  {
   "cell_type": "code",
   "execution_count": 35,
   "id": "1dcf8469-fa82-40fc-b45b-03206ae586c2",
   "metadata": {},
   "outputs": [],
   "source": [
    "pipeline2 = make_pipeline(StandardScaler(), SVC())"
   ]
  },
  {
   "cell_type": "code",
   "execution_count": 36,
   "id": "ce1738a1-e491-4237-8527-1c13f07ec934",
   "metadata": {},
   "outputs": [
    {
     "data": {
      "text/html": [
       "<style>#sk-c091f74b-2f75-4b21-8fc6-f70a437193c6 {color: black;background-color: white;}#sk-c091f74b-2f75-4b21-8fc6-f70a437193c6 pre{padding: 0;}#sk-c091f74b-2f75-4b21-8fc6-f70a437193c6 div.sk-toggleable {background-color: white;}#sk-c091f74b-2f75-4b21-8fc6-f70a437193c6 label.sk-toggleable__label {cursor: pointer;display: block;width: 100%;margin-bottom: 0;padding: 0.3em;box-sizing: border-box;text-align: center;}#sk-c091f74b-2f75-4b21-8fc6-f70a437193c6 label.sk-toggleable__label-arrow:before {content: \"▸\";float: left;margin-right: 0.25em;color: #696969;}#sk-c091f74b-2f75-4b21-8fc6-f70a437193c6 label.sk-toggleable__label-arrow:hover:before {color: black;}#sk-c091f74b-2f75-4b21-8fc6-f70a437193c6 div.sk-estimator:hover label.sk-toggleable__label-arrow:before {color: black;}#sk-c091f74b-2f75-4b21-8fc6-f70a437193c6 div.sk-toggleable__content {max-height: 0;max-width: 0;overflow: hidden;text-align: left;background-color: #f0f8ff;}#sk-c091f74b-2f75-4b21-8fc6-f70a437193c6 div.sk-toggleable__content pre {margin: 0.2em;color: black;border-radius: 0.25em;background-color: #f0f8ff;}#sk-c091f74b-2f75-4b21-8fc6-f70a437193c6 input.sk-toggleable__control:checked~div.sk-toggleable__content {max-height: 200px;max-width: 100%;overflow: auto;}#sk-c091f74b-2f75-4b21-8fc6-f70a437193c6 input.sk-toggleable__control:checked~label.sk-toggleable__label-arrow:before {content: \"▾\";}#sk-c091f74b-2f75-4b21-8fc6-f70a437193c6 div.sk-estimator input.sk-toggleable__control:checked~label.sk-toggleable__label {background-color: #d4ebff;}#sk-c091f74b-2f75-4b21-8fc6-f70a437193c6 div.sk-label input.sk-toggleable__control:checked~label.sk-toggleable__label {background-color: #d4ebff;}#sk-c091f74b-2f75-4b21-8fc6-f70a437193c6 input.sk-hidden--visually {border: 0;clip: rect(1px 1px 1px 1px);clip: rect(1px, 1px, 1px, 1px);height: 1px;margin: -1px;overflow: hidden;padding: 0;position: absolute;width: 1px;}#sk-c091f74b-2f75-4b21-8fc6-f70a437193c6 div.sk-estimator {font-family: monospace;background-color: #f0f8ff;border: 1px dotted black;border-radius: 0.25em;box-sizing: border-box;margin-bottom: 0.5em;}#sk-c091f74b-2f75-4b21-8fc6-f70a437193c6 div.sk-estimator:hover {background-color: #d4ebff;}#sk-c091f74b-2f75-4b21-8fc6-f70a437193c6 div.sk-parallel-item::after {content: \"\";width: 100%;border-bottom: 1px solid gray;flex-grow: 1;}#sk-c091f74b-2f75-4b21-8fc6-f70a437193c6 div.sk-label:hover label.sk-toggleable__label {background-color: #d4ebff;}#sk-c091f74b-2f75-4b21-8fc6-f70a437193c6 div.sk-serial::before {content: \"\";position: absolute;border-left: 1px solid gray;box-sizing: border-box;top: 2em;bottom: 0;left: 50%;}#sk-c091f74b-2f75-4b21-8fc6-f70a437193c6 div.sk-serial {display: flex;flex-direction: column;align-items: center;background-color: white;padding-right: 0.2em;padding-left: 0.2em;}#sk-c091f74b-2f75-4b21-8fc6-f70a437193c6 div.sk-item {z-index: 1;}#sk-c091f74b-2f75-4b21-8fc6-f70a437193c6 div.sk-parallel {display: flex;align-items: stretch;justify-content: center;background-color: white;}#sk-c091f74b-2f75-4b21-8fc6-f70a437193c6 div.sk-parallel::before {content: \"\";position: absolute;border-left: 1px solid gray;box-sizing: border-box;top: 2em;bottom: 0;left: 50%;}#sk-c091f74b-2f75-4b21-8fc6-f70a437193c6 div.sk-parallel-item {display: flex;flex-direction: column;position: relative;background-color: white;}#sk-c091f74b-2f75-4b21-8fc6-f70a437193c6 div.sk-parallel-item:first-child::after {align-self: flex-end;width: 50%;}#sk-c091f74b-2f75-4b21-8fc6-f70a437193c6 div.sk-parallel-item:last-child::after {align-self: flex-start;width: 50%;}#sk-c091f74b-2f75-4b21-8fc6-f70a437193c6 div.sk-parallel-item:only-child::after {width: 0;}#sk-c091f74b-2f75-4b21-8fc6-f70a437193c6 div.sk-dashed-wrapped {border: 1px dashed gray;margin: 0 0.4em 0.5em 0.4em;box-sizing: border-box;padding-bottom: 0.4em;background-color: white;position: relative;}#sk-c091f74b-2f75-4b21-8fc6-f70a437193c6 div.sk-label label {font-family: monospace;font-weight: bold;background-color: white;display: inline-block;line-height: 1.2em;}#sk-c091f74b-2f75-4b21-8fc6-f70a437193c6 div.sk-label-container {position: relative;z-index: 2;text-align: center;}#sk-c091f74b-2f75-4b21-8fc6-f70a437193c6 div.sk-container {/* jupyter's `normalize.less` sets `[hidden] { display: none; }` but bootstrap.min.css set `[hidden] { display: none !important; }` so we also need the `!important` here to be able to override the default hidden behavior on the sphinx rendered scikit-learn.org. See: https://github.com/scikit-learn/scikit-learn/issues/21755 */display: inline-block !important;position: relative;}#sk-c091f74b-2f75-4b21-8fc6-f70a437193c6 div.sk-text-repr-fallback {display: none;}</style><div id=\"sk-c091f74b-2f75-4b21-8fc6-f70a437193c6\" class=\"sk-top-container\"><div class=\"sk-text-repr-fallback\"><pre>Pipeline(steps=[(&#x27;standardscaler&#x27;, StandardScaler()), (&#x27;svc&#x27;, SVC())])</pre><b>Please rerun this cell to show the HTML repr or trust the notebook.</b></div><div class=\"sk-container\" hidden><div class=\"sk-item sk-dashed-wrapped\"><div class=\"sk-label-container\"><div class=\"sk-label sk-toggleable\"><input class=\"sk-toggleable__control sk-hidden--visually\" id=\"fcee7192-b101-4df1-a6ee-eb9ba5ecfe3c\" type=\"checkbox\" ><label for=\"fcee7192-b101-4df1-a6ee-eb9ba5ecfe3c\" class=\"sk-toggleable__label sk-toggleable__label-arrow\">Pipeline</label><div class=\"sk-toggleable__content\"><pre>Pipeline(steps=[(&#x27;standardscaler&#x27;, StandardScaler()), (&#x27;svc&#x27;, SVC())])</pre></div></div></div><div class=\"sk-serial\"><div class=\"sk-item\"><div class=\"sk-estimator sk-toggleable\"><input class=\"sk-toggleable__control sk-hidden--visually\" id=\"6ebaca23-b5d9-4011-a79f-d1def076b7a0\" type=\"checkbox\" ><label for=\"6ebaca23-b5d9-4011-a79f-d1def076b7a0\" class=\"sk-toggleable__label sk-toggleable__label-arrow\">StandardScaler</label><div class=\"sk-toggleable__content\"><pre>StandardScaler()</pre></div></div></div><div class=\"sk-item\"><div class=\"sk-estimator sk-toggleable\"><input class=\"sk-toggleable__control sk-hidden--visually\" id=\"173b589e-6c9f-40a6-89b1-1662dc437019\" type=\"checkbox\" ><label for=\"173b589e-6c9f-40a6-89b1-1662dc437019\" class=\"sk-toggleable__label sk-toggleable__label-arrow\">SVC</label><div class=\"sk-toggleable__content\"><pre>SVC()</pre></div></div></div></div></div></div></div>"
      ],
      "text/plain": [
       "Pipeline(steps=[('standardscaler', StandardScaler()), ('svc', SVC())])"
      ]
     },
     "execution_count": 36,
     "metadata": {},
     "output_type": "execute_result"
    }
   ],
   "source": [
    "pipeline2"
   ]
  },
  {
   "cell_type": "code",
   "execution_count": 37,
   "id": "e66e644c-1f97-4602-8a71-24fe45d1f9ec",
   "metadata": {},
   "outputs": [
    {
     "data": {
      "text/html": [
       "<style>#sk-0a6b5cca-5f2f-47a9-acce-4bf32a3d0297 {color: black;background-color: white;}#sk-0a6b5cca-5f2f-47a9-acce-4bf32a3d0297 pre{padding: 0;}#sk-0a6b5cca-5f2f-47a9-acce-4bf32a3d0297 div.sk-toggleable {background-color: white;}#sk-0a6b5cca-5f2f-47a9-acce-4bf32a3d0297 label.sk-toggleable__label {cursor: pointer;display: block;width: 100%;margin-bottom: 0;padding: 0.3em;box-sizing: border-box;text-align: center;}#sk-0a6b5cca-5f2f-47a9-acce-4bf32a3d0297 label.sk-toggleable__label-arrow:before {content: \"▸\";float: left;margin-right: 0.25em;color: #696969;}#sk-0a6b5cca-5f2f-47a9-acce-4bf32a3d0297 label.sk-toggleable__label-arrow:hover:before {color: black;}#sk-0a6b5cca-5f2f-47a9-acce-4bf32a3d0297 div.sk-estimator:hover label.sk-toggleable__label-arrow:before {color: black;}#sk-0a6b5cca-5f2f-47a9-acce-4bf32a3d0297 div.sk-toggleable__content {max-height: 0;max-width: 0;overflow: hidden;text-align: left;background-color: #f0f8ff;}#sk-0a6b5cca-5f2f-47a9-acce-4bf32a3d0297 div.sk-toggleable__content pre {margin: 0.2em;color: black;border-radius: 0.25em;background-color: #f0f8ff;}#sk-0a6b5cca-5f2f-47a9-acce-4bf32a3d0297 input.sk-toggleable__control:checked~div.sk-toggleable__content {max-height: 200px;max-width: 100%;overflow: auto;}#sk-0a6b5cca-5f2f-47a9-acce-4bf32a3d0297 input.sk-toggleable__control:checked~label.sk-toggleable__label-arrow:before {content: \"▾\";}#sk-0a6b5cca-5f2f-47a9-acce-4bf32a3d0297 div.sk-estimator input.sk-toggleable__control:checked~label.sk-toggleable__label {background-color: #d4ebff;}#sk-0a6b5cca-5f2f-47a9-acce-4bf32a3d0297 div.sk-label input.sk-toggleable__control:checked~label.sk-toggleable__label {background-color: #d4ebff;}#sk-0a6b5cca-5f2f-47a9-acce-4bf32a3d0297 input.sk-hidden--visually {border: 0;clip: rect(1px 1px 1px 1px);clip: rect(1px, 1px, 1px, 1px);height: 1px;margin: -1px;overflow: hidden;padding: 0;position: absolute;width: 1px;}#sk-0a6b5cca-5f2f-47a9-acce-4bf32a3d0297 div.sk-estimator {font-family: monospace;background-color: #f0f8ff;border: 1px dotted black;border-radius: 0.25em;box-sizing: border-box;margin-bottom: 0.5em;}#sk-0a6b5cca-5f2f-47a9-acce-4bf32a3d0297 div.sk-estimator:hover {background-color: #d4ebff;}#sk-0a6b5cca-5f2f-47a9-acce-4bf32a3d0297 div.sk-parallel-item::after {content: \"\";width: 100%;border-bottom: 1px solid gray;flex-grow: 1;}#sk-0a6b5cca-5f2f-47a9-acce-4bf32a3d0297 div.sk-label:hover label.sk-toggleable__label {background-color: #d4ebff;}#sk-0a6b5cca-5f2f-47a9-acce-4bf32a3d0297 div.sk-serial::before {content: \"\";position: absolute;border-left: 1px solid gray;box-sizing: border-box;top: 2em;bottom: 0;left: 50%;}#sk-0a6b5cca-5f2f-47a9-acce-4bf32a3d0297 div.sk-serial {display: flex;flex-direction: column;align-items: center;background-color: white;padding-right: 0.2em;padding-left: 0.2em;}#sk-0a6b5cca-5f2f-47a9-acce-4bf32a3d0297 div.sk-item {z-index: 1;}#sk-0a6b5cca-5f2f-47a9-acce-4bf32a3d0297 div.sk-parallel {display: flex;align-items: stretch;justify-content: center;background-color: white;}#sk-0a6b5cca-5f2f-47a9-acce-4bf32a3d0297 div.sk-parallel::before {content: \"\";position: absolute;border-left: 1px solid gray;box-sizing: border-box;top: 2em;bottom: 0;left: 50%;}#sk-0a6b5cca-5f2f-47a9-acce-4bf32a3d0297 div.sk-parallel-item {display: flex;flex-direction: column;position: relative;background-color: white;}#sk-0a6b5cca-5f2f-47a9-acce-4bf32a3d0297 div.sk-parallel-item:first-child::after {align-self: flex-end;width: 50%;}#sk-0a6b5cca-5f2f-47a9-acce-4bf32a3d0297 div.sk-parallel-item:last-child::after {align-self: flex-start;width: 50%;}#sk-0a6b5cca-5f2f-47a9-acce-4bf32a3d0297 div.sk-parallel-item:only-child::after {width: 0;}#sk-0a6b5cca-5f2f-47a9-acce-4bf32a3d0297 div.sk-dashed-wrapped {border: 1px dashed gray;margin: 0 0.4em 0.5em 0.4em;box-sizing: border-box;padding-bottom: 0.4em;background-color: white;position: relative;}#sk-0a6b5cca-5f2f-47a9-acce-4bf32a3d0297 div.sk-label label {font-family: monospace;font-weight: bold;background-color: white;display: inline-block;line-height: 1.2em;}#sk-0a6b5cca-5f2f-47a9-acce-4bf32a3d0297 div.sk-label-container {position: relative;z-index: 2;text-align: center;}#sk-0a6b5cca-5f2f-47a9-acce-4bf32a3d0297 div.sk-container {/* jupyter's `normalize.less` sets `[hidden] { display: none; }` but bootstrap.min.css set `[hidden] { display: none !important; }` so we also need the `!important` here to be able to override the default hidden behavior on the sphinx rendered scikit-learn.org. See: https://github.com/scikit-learn/scikit-learn/issues/21755 */display: inline-block !important;position: relative;}#sk-0a6b5cca-5f2f-47a9-acce-4bf32a3d0297 div.sk-text-repr-fallback {display: none;}</style><div id=\"sk-0a6b5cca-5f2f-47a9-acce-4bf32a3d0297\" class=\"sk-top-container\"><div class=\"sk-text-repr-fallback\"><pre>Pipeline(steps=[(&#x27;standardscaler&#x27;, StandardScaler()), (&#x27;svc&#x27;, SVC())])</pre><b>Please rerun this cell to show the HTML repr or trust the notebook.</b></div><div class=\"sk-container\" hidden><div class=\"sk-item sk-dashed-wrapped\"><div class=\"sk-label-container\"><div class=\"sk-label sk-toggleable\"><input class=\"sk-toggleable__control sk-hidden--visually\" id=\"4a1beaa0-501c-4a42-a2e9-35bad8a49e97\" type=\"checkbox\" ><label for=\"4a1beaa0-501c-4a42-a2e9-35bad8a49e97\" class=\"sk-toggleable__label sk-toggleable__label-arrow\">Pipeline</label><div class=\"sk-toggleable__content\"><pre>Pipeline(steps=[(&#x27;standardscaler&#x27;, StandardScaler()), (&#x27;svc&#x27;, SVC())])</pre></div></div></div><div class=\"sk-serial\"><div class=\"sk-item\"><div class=\"sk-estimator sk-toggleable\"><input class=\"sk-toggleable__control sk-hidden--visually\" id=\"f991de74-d882-49dd-879b-de78c2c280a6\" type=\"checkbox\" ><label for=\"f991de74-d882-49dd-879b-de78c2c280a6\" class=\"sk-toggleable__label sk-toggleable__label-arrow\">StandardScaler</label><div class=\"sk-toggleable__content\"><pre>StandardScaler()</pre></div></div></div><div class=\"sk-item\"><div class=\"sk-estimator sk-toggleable\"><input class=\"sk-toggleable__control sk-hidden--visually\" id=\"bec6a48c-f671-417f-b4a3-e1b260fd4e9a\" type=\"checkbox\" ><label for=\"bec6a48c-f671-417f-b4a3-e1b260fd4e9a\" class=\"sk-toggleable__label sk-toggleable__label-arrow\">SVC</label><div class=\"sk-toggleable__content\"><pre>SVC()</pre></div></div></div></div></div></div></div>"
      ],
      "text/plain": [
       "Pipeline(steps=[('standardscaler', StandardScaler()), ('svc', SVC())])"
      ]
     },
     "execution_count": 37,
     "metadata": {},
     "output_type": "execute_result"
    }
   ],
   "source": [
    "pipeline2.fit(x_train, y_train)"
   ]
  },
  {
   "cell_type": "code",
   "execution_count": 38,
   "id": "44a7ba99-7b96-4449-847a-aabc1ca59309",
   "metadata": {},
   "outputs": [
    {
     "data": {
      "text/plain": [
       "1.0"
      ]
     },
     "execution_count": 38,
     "metadata": {},
     "output_type": "execute_result"
    }
   ],
   "source": [
    "pipeline2.score(x_test, y_test)"
   ]
  },
  {
   "cell_type": "code",
   "execution_count": 40,
   "id": "35786021-d613-4d3f-8700-bdf54440f8b7",
   "metadata": {},
   "outputs": [
    {
     "data": {
      "text/plain": [
       "array([1.29848592e+01, 2.37260563e+00, 2.36690141e+00, 1.95549296e+01,\n",
       "       1.00063380e+02, 2.25866197e+00, 1.94915493e+00, 3.63521127e-01,\n",
       "       1.60605634e+00, 5.04521126e+00, 9.53352113e-01, 2.58626761e+00,\n",
       "       7.42330986e+02])"
      ]
     },
     "execution_count": 40,
     "metadata": {},
     "output_type": "execute_result"
    }
   ],
   "source": [
    "pipeline2.named_steps['standardscaler'].mean_"
   ]
  },
  {
   "cell_type": "code",
   "execution_count": 46,
   "id": "7b15d2c8-42cc-42fc-b301-b5e6cee9dd31",
   "metadata": {},
   "outputs": [
    {
     "data": {
      "text/plain": [
       "['pipeline2.joblib']"
      ]
     },
     "execution_count": 46,
     "metadata": {},
     "output_type": "execute_result"
    }
   ],
   "source": [
    "dump(pipeline2, 'pipeline2.joblib') #pickle 안쓰고 한번에 모델과 scaling 을 저장"
   ]
  },
  {
   "cell_type": "code",
   "execution_count": 44,
   "id": "cb29144f-5ac2-44e9-b4de-12124287e888",
   "metadata": {},
   "outputs": [],
   "source": [
    "load_pipeline = load('pipeline2.joblib')"
   ]
  },
  {
   "cell_type": "code",
   "execution_count": 45,
   "id": "9c4fb992-92ec-463a-9668-f4b59cd11591",
   "metadata": {},
   "outputs": [
    {
     "data": {
      "text/plain": [
       "1.0"
      ]
     },
     "execution_count": 45,
     "metadata": {},
     "output_type": "execute_result"
    }
   ],
   "source": [
    "load_pipeline.score(x_test, y_test)"
   ]
  },
  {
   "cell_type": "markdown",
   "id": "e837fdbb-25b8-4a48-8bd9-a23e38d0c1dc",
   "metadata": {},
   "source": [
    "-------------"
   ]
  },
  {
   "cell_type": "raw",
   "id": "657afa50-c4d9-4e97-afa5-34a9b20a68dc",
   "metadata": {},
   "source": [
    "내가 원하는 함수를 파이프라인에 넣기"
   ]
  },
  {
   "cell_type": "code",
   "execution_count": 56,
   "id": "aac7eb0a-a8d1-4729-afdf-66fa847de4ae",
   "metadata": {},
   "outputs": [],
   "source": [
    "def func(x) :\n",
    "    print('Before x:', x)\n",
    "    x = x+1\n",
    "    print('After x:', x)\n",
    "    return x"
   ]
  },
  {
   "cell_type": "code",
   "execution_count": 57,
   "id": "4761f310-1767-43d7-ba1a-14784f82789a",
   "metadata": {},
   "outputs": [
    {
     "name": "stdout",
     "output_type": "stream",
     "text": [
      "Before x: 10\n",
      "After x: 11\n"
     ]
    },
    {
     "data": {
      "text/plain": [
       "11"
      ]
     },
     "execution_count": 57,
     "metadata": {},
     "output_type": "execute_result"
    }
   ],
   "source": [
    "func(10)"
   ]
  },
  {
   "cell_type": "code",
   "execution_count": 58,
   "id": "1e368d77-cadc-48cd-8fa9-6b59211fc570",
   "metadata": {},
   "outputs": [],
   "source": [
    "trans_func = FunctionTransformer(func)"
   ]
  },
  {
   "cell_type": "code",
   "execution_count": 59,
   "id": "302de8d1-7904-4e61-b161-0de468c7360d",
   "metadata": {},
   "outputs": [],
   "source": [
    "pipeline3 = make_pipeline(StandardScaler(), trans_func, SVC())"
   ]
  },
  {
   "cell_type": "code",
   "execution_count": 60,
   "id": "211d1785-1f5a-4332-9fdc-6c761e7714ca",
   "metadata": {},
   "outputs": [
    {
     "data": {
      "text/html": [
       "<style>#sk-e6babba9-eedc-41a2-9efb-feb2d48954e3 {color: black;background-color: white;}#sk-e6babba9-eedc-41a2-9efb-feb2d48954e3 pre{padding: 0;}#sk-e6babba9-eedc-41a2-9efb-feb2d48954e3 div.sk-toggleable {background-color: white;}#sk-e6babba9-eedc-41a2-9efb-feb2d48954e3 label.sk-toggleable__label {cursor: pointer;display: block;width: 100%;margin-bottom: 0;padding: 0.3em;box-sizing: border-box;text-align: center;}#sk-e6babba9-eedc-41a2-9efb-feb2d48954e3 label.sk-toggleable__label-arrow:before {content: \"▸\";float: left;margin-right: 0.25em;color: #696969;}#sk-e6babba9-eedc-41a2-9efb-feb2d48954e3 label.sk-toggleable__label-arrow:hover:before {color: black;}#sk-e6babba9-eedc-41a2-9efb-feb2d48954e3 div.sk-estimator:hover label.sk-toggleable__label-arrow:before {color: black;}#sk-e6babba9-eedc-41a2-9efb-feb2d48954e3 div.sk-toggleable__content {max-height: 0;max-width: 0;overflow: hidden;text-align: left;background-color: #f0f8ff;}#sk-e6babba9-eedc-41a2-9efb-feb2d48954e3 div.sk-toggleable__content pre {margin: 0.2em;color: black;border-radius: 0.25em;background-color: #f0f8ff;}#sk-e6babba9-eedc-41a2-9efb-feb2d48954e3 input.sk-toggleable__control:checked~div.sk-toggleable__content {max-height: 200px;max-width: 100%;overflow: auto;}#sk-e6babba9-eedc-41a2-9efb-feb2d48954e3 input.sk-toggleable__control:checked~label.sk-toggleable__label-arrow:before {content: \"▾\";}#sk-e6babba9-eedc-41a2-9efb-feb2d48954e3 div.sk-estimator input.sk-toggleable__control:checked~label.sk-toggleable__label {background-color: #d4ebff;}#sk-e6babba9-eedc-41a2-9efb-feb2d48954e3 div.sk-label input.sk-toggleable__control:checked~label.sk-toggleable__label {background-color: #d4ebff;}#sk-e6babba9-eedc-41a2-9efb-feb2d48954e3 input.sk-hidden--visually {border: 0;clip: rect(1px 1px 1px 1px);clip: rect(1px, 1px, 1px, 1px);height: 1px;margin: -1px;overflow: hidden;padding: 0;position: absolute;width: 1px;}#sk-e6babba9-eedc-41a2-9efb-feb2d48954e3 div.sk-estimator {font-family: monospace;background-color: #f0f8ff;border: 1px dotted black;border-radius: 0.25em;box-sizing: border-box;margin-bottom: 0.5em;}#sk-e6babba9-eedc-41a2-9efb-feb2d48954e3 div.sk-estimator:hover {background-color: #d4ebff;}#sk-e6babba9-eedc-41a2-9efb-feb2d48954e3 div.sk-parallel-item::after {content: \"\";width: 100%;border-bottom: 1px solid gray;flex-grow: 1;}#sk-e6babba9-eedc-41a2-9efb-feb2d48954e3 div.sk-label:hover label.sk-toggleable__label {background-color: #d4ebff;}#sk-e6babba9-eedc-41a2-9efb-feb2d48954e3 div.sk-serial::before {content: \"\";position: absolute;border-left: 1px solid gray;box-sizing: border-box;top: 2em;bottom: 0;left: 50%;}#sk-e6babba9-eedc-41a2-9efb-feb2d48954e3 div.sk-serial {display: flex;flex-direction: column;align-items: center;background-color: white;padding-right: 0.2em;padding-left: 0.2em;}#sk-e6babba9-eedc-41a2-9efb-feb2d48954e3 div.sk-item {z-index: 1;}#sk-e6babba9-eedc-41a2-9efb-feb2d48954e3 div.sk-parallel {display: flex;align-items: stretch;justify-content: center;background-color: white;}#sk-e6babba9-eedc-41a2-9efb-feb2d48954e3 div.sk-parallel::before {content: \"\";position: absolute;border-left: 1px solid gray;box-sizing: border-box;top: 2em;bottom: 0;left: 50%;}#sk-e6babba9-eedc-41a2-9efb-feb2d48954e3 div.sk-parallel-item {display: flex;flex-direction: column;position: relative;background-color: white;}#sk-e6babba9-eedc-41a2-9efb-feb2d48954e3 div.sk-parallel-item:first-child::after {align-self: flex-end;width: 50%;}#sk-e6babba9-eedc-41a2-9efb-feb2d48954e3 div.sk-parallel-item:last-child::after {align-self: flex-start;width: 50%;}#sk-e6babba9-eedc-41a2-9efb-feb2d48954e3 div.sk-parallel-item:only-child::after {width: 0;}#sk-e6babba9-eedc-41a2-9efb-feb2d48954e3 div.sk-dashed-wrapped {border: 1px dashed gray;margin: 0 0.4em 0.5em 0.4em;box-sizing: border-box;padding-bottom: 0.4em;background-color: white;position: relative;}#sk-e6babba9-eedc-41a2-9efb-feb2d48954e3 div.sk-label label {font-family: monospace;font-weight: bold;background-color: white;display: inline-block;line-height: 1.2em;}#sk-e6babba9-eedc-41a2-9efb-feb2d48954e3 div.sk-label-container {position: relative;z-index: 2;text-align: center;}#sk-e6babba9-eedc-41a2-9efb-feb2d48954e3 div.sk-container {/* jupyter's `normalize.less` sets `[hidden] { display: none; }` but bootstrap.min.css set `[hidden] { display: none !important; }` so we also need the `!important` here to be able to override the default hidden behavior on the sphinx rendered scikit-learn.org. See: https://github.com/scikit-learn/scikit-learn/issues/21755 */display: inline-block !important;position: relative;}#sk-e6babba9-eedc-41a2-9efb-feb2d48954e3 div.sk-text-repr-fallback {display: none;}</style><div id=\"sk-e6babba9-eedc-41a2-9efb-feb2d48954e3\" class=\"sk-top-container\"><div class=\"sk-text-repr-fallback\"><pre>Pipeline(steps=[(&#x27;standardscaler&#x27;, StandardScaler()),\n",
       "                (&#x27;functiontransformer&#x27;,\n",
       "                 FunctionTransformer(func=&lt;function func at 0x00000136D024A4C0&gt;)),\n",
       "                (&#x27;svc&#x27;, SVC())])</pre><b>Please rerun this cell to show the HTML repr or trust the notebook.</b></div><div class=\"sk-container\" hidden><div class=\"sk-item sk-dashed-wrapped\"><div class=\"sk-label-container\"><div class=\"sk-label sk-toggleable\"><input class=\"sk-toggleable__control sk-hidden--visually\" id=\"c29f1317-d305-4d52-9abe-fb2ef502cac9\" type=\"checkbox\" ><label for=\"c29f1317-d305-4d52-9abe-fb2ef502cac9\" class=\"sk-toggleable__label sk-toggleable__label-arrow\">Pipeline</label><div class=\"sk-toggleable__content\"><pre>Pipeline(steps=[(&#x27;standardscaler&#x27;, StandardScaler()),\n",
       "                (&#x27;functiontransformer&#x27;,\n",
       "                 FunctionTransformer(func=&lt;function func at 0x00000136D024A4C0&gt;)),\n",
       "                (&#x27;svc&#x27;, SVC())])</pre></div></div></div><div class=\"sk-serial\"><div class=\"sk-item\"><div class=\"sk-estimator sk-toggleable\"><input class=\"sk-toggleable__control sk-hidden--visually\" id=\"c502d133-a33a-46f8-ac36-0f597551edc4\" type=\"checkbox\" ><label for=\"c502d133-a33a-46f8-ac36-0f597551edc4\" class=\"sk-toggleable__label sk-toggleable__label-arrow\">StandardScaler</label><div class=\"sk-toggleable__content\"><pre>StandardScaler()</pre></div></div></div><div class=\"sk-item\"><div class=\"sk-estimator sk-toggleable\"><input class=\"sk-toggleable__control sk-hidden--visually\" id=\"f096ea48-31a4-4cdf-8e8c-077aa5b8e280\" type=\"checkbox\" ><label for=\"f096ea48-31a4-4cdf-8e8c-077aa5b8e280\" class=\"sk-toggleable__label sk-toggleable__label-arrow\">FunctionTransformer</label><div class=\"sk-toggleable__content\"><pre>FunctionTransformer(func=&lt;function func at 0x00000136D024A4C0&gt;)</pre></div></div></div><div class=\"sk-item\"><div class=\"sk-estimator sk-toggleable\"><input class=\"sk-toggleable__control sk-hidden--visually\" id=\"4255c09d-f21b-4806-8965-9a333425ad36\" type=\"checkbox\" ><label for=\"4255c09d-f21b-4806-8965-9a333425ad36\" class=\"sk-toggleable__label sk-toggleable__label-arrow\">SVC</label><div class=\"sk-toggleable__content\"><pre>SVC()</pre></div></div></div></div></div></div></div>"
      ],
      "text/plain": [
       "Pipeline(steps=[('standardscaler', StandardScaler()),\n",
       "                ('functiontransformer',\n",
       "                 FunctionTransformer(func=<function func at 0x00000136D024A4C0>)),\n",
       "                ('svc', SVC())])"
      ]
     },
     "execution_count": 60,
     "metadata": {},
     "output_type": "execute_result"
    }
   ],
   "source": [
    "pipeline3"
   ]
  },
  {
   "cell_type": "code",
   "execution_count": 61,
   "id": "36cb944e-d9c7-4624-9bbc-f2cc7fc27a40",
   "metadata": {},
   "outputs": [
    {
     "name": "stdout",
     "output_type": "stream",
     "text": [
      "Before x: [[ 0.87668336  0.79842885  0.64412971 ...  0.0290166  -1.06412236\n",
      "  -0.2059076 ]\n",
      " [-0.36659076 -0.7581304  -0.39779858 ...  0.0290166  -0.73083231\n",
      "  -0.81704676]\n",
      " [-1.69689407 -0.34424759 -0.32337513 ...  0.90197362  0.51900537\n",
      "  -1.31256499]\n",
      " ...\n",
      " [-0.70227477 -0.68615078 -0.65828065 ...  0.46549511  0.51900537\n",
      "  -1.31256499]\n",
      " [ 1.13777093 -0.62316862 -0.91876272 ... -0.18922266  1.03282752\n",
      "   0.80164614]\n",
      " [ 1.4610222   0.12361993  0.42085937 ... -1.45501034 -1.2168803\n",
      "  -0.2719767 ]]\n",
      "After x: [[ 1.87668336  1.79842885  1.64412971 ...  1.0290166  -0.06412236\n",
      "   0.7940924 ]\n",
      " [ 0.63340924  0.2418696   0.60220142 ...  1.0290166   0.26916769\n",
      "   0.18295324]\n",
      " [-0.69689407  0.65575241  0.67662487 ...  1.90197362  1.51900537\n",
      "  -0.31256499]\n",
      " ...\n",
      " [ 0.29772523  0.31384922  0.34171935 ...  1.46549511  1.51900537\n",
      "  -0.31256499]\n",
      " [ 2.13777093  0.37683138  0.08123728 ...  0.81077734  2.03282752\n",
      "   1.80164614]\n",
      " [ 2.4610222   1.12361993  1.42085937 ... -0.45501034 -0.2168803\n",
      "   0.7280233 ]]\n"
     ]
    },
    {
     "data": {
      "text/html": [
       "<style>#sk-f5bb12e1-9b36-4666-bfab-a16b87d21d43 {color: black;background-color: white;}#sk-f5bb12e1-9b36-4666-bfab-a16b87d21d43 pre{padding: 0;}#sk-f5bb12e1-9b36-4666-bfab-a16b87d21d43 div.sk-toggleable {background-color: white;}#sk-f5bb12e1-9b36-4666-bfab-a16b87d21d43 label.sk-toggleable__label {cursor: pointer;display: block;width: 100%;margin-bottom: 0;padding: 0.3em;box-sizing: border-box;text-align: center;}#sk-f5bb12e1-9b36-4666-bfab-a16b87d21d43 label.sk-toggleable__label-arrow:before {content: \"▸\";float: left;margin-right: 0.25em;color: #696969;}#sk-f5bb12e1-9b36-4666-bfab-a16b87d21d43 label.sk-toggleable__label-arrow:hover:before {color: black;}#sk-f5bb12e1-9b36-4666-bfab-a16b87d21d43 div.sk-estimator:hover label.sk-toggleable__label-arrow:before {color: black;}#sk-f5bb12e1-9b36-4666-bfab-a16b87d21d43 div.sk-toggleable__content {max-height: 0;max-width: 0;overflow: hidden;text-align: left;background-color: #f0f8ff;}#sk-f5bb12e1-9b36-4666-bfab-a16b87d21d43 div.sk-toggleable__content pre {margin: 0.2em;color: black;border-radius: 0.25em;background-color: #f0f8ff;}#sk-f5bb12e1-9b36-4666-bfab-a16b87d21d43 input.sk-toggleable__control:checked~div.sk-toggleable__content {max-height: 200px;max-width: 100%;overflow: auto;}#sk-f5bb12e1-9b36-4666-bfab-a16b87d21d43 input.sk-toggleable__control:checked~label.sk-toggleable__label-arrow:before {content: \"▾\";}#sk-f5bb12e1-9b36-4666-bfab-a16b87d21d43 div.sk-estimator input.sk-toggleable__control:checked~label.sk-toggleable__label {background-color: #d4ebff;}#sk-f5bb12e1-9b36-4666-bfab-a16b87d21d43 div.sk-label input.sk-toggleable__control:checked~label.sk-toggleable__label {background-color: #d4ebff;}#sk-f5bb12e1-9b36-4666-bfab-a16b87d21d43 input.sk-hidden--visually {border: 0;clip: rect(1px 1px 1px 1px);clip: rect(1px, 1px, 1px, 1px);height: 1px;margin: -1px;overflow: hidden;padding: 0;position: absolute;width: 1px;}#sk-f5bb12e1-9b36-4666-bfab-a16b87d21d43 div.sk-estimator {font-family: monospace;background-color: #f0f8ff;border: 1px dotted black;border-radius: 0.25em;box-sizing: border-box;margin-bottom: 0.5em;}#sk-f5bb12e1-9b36-4666-bfab-a16b87d21d43 div.sk-estimator:hover {background-color: #d4ebff;}#sk-f5bb12e1-9b36-4666-bfab-a16b87d21d43 div.sk-parallel-item::after {content: \"\";width: 100%;border-bottom: 1px solid gray;flex-grow: 1;}#sk-f5bb12e1-9b36-4666-bfab-a16b87d21d43 div.sk-label:hover label.sk-toggleable__label {background-color: #d4ebff;}#sk-f5bb12e1-9b36-4666-bfab-a16b87d21d43 div.sk-serial::before {content: \"\";position: absolute;border-left: 1px solid gray;box-sizing: border-box;top: 2em;bottom: 0;left: 50%;}#sk-f5bb12e1-9b36-4666-bfab-a16b87d21d43 div.sk-serial {display: flex;flex-direction: column;align-items: center;background-color: white;padding-right: 0.2em;padding-left: 0.2em;}#sk-f5bb12e1-9b36-4666-bfab-a16b87d21d43 div.sk-item {z-index: 1;}#sk-f5bb12e1-9b36-4666-bfab-a16b87d21d43 div.sk-parallel {display: flex;align-items: stretch;justify-content: center;background-color: white;}#sk-f5bb12e1-9b36-4666-bfab-a16b87d21d43 div.sk-parallel::before {content: \"\";position: absolute;border-left: 1px solid gray;box-sizing: border-box;top: 2em;bottom: 0;left: 50%;}#sk-f5bb12e1-9b36-4666-bfab-a16b87d21d43 div.sk-parallel-item {display: flex;flex-direction: column;position: relative;background-color: white;}#sk-f5bb12e1-9b36-4666-bfab-a16b87d21d43 div.sk-parallel-item:first-child::after {align-self: flex-end;width: 50%;}#sk-f5bb12e1-9b36-4666-bfab-a16b87d21d43 div.sk-parallel-item:last-child::after {align-self: flex-start;width: 50%;}#sk-f5bb12e1-9b36-4666-bfab-a16b87d21d43 div.sk-parallel-item:only-child::after {width: 0;}#sk-f5bb12e1-9b36-4666-bfab-a16b87d21d43 div.sk-dashed-wrapped {border: 1px dashed gray;margin: 0 0.4em 0.5em 0.4em;box-sizing: border-box;padding-bottom: 0.4em;background-color: white;position: relative;}#sk-f5bb12e1-9b36-4666-bfab-a16b87d21d43 div.sk-label label {font-family: monospace;font-weight: bold;background-color: white;display: inline-block;line-height: 1.2em;}#sk-f5bb12e1-9b36-4666-bfab-a16b87d21d43 div.sk-label-container {position: relative;z-index: 2;text-align: center;}#sk-f5bb12e1-9b36-4666-bfab-a16b87d21d43 div.sk-container {/* jupyter's `normalize.less` sets `[hidden] { display: none; }` but bootstrap.min.css set `[hidden] { display: none !important; }` so we also need the `!important` here to be able to override the default hidden behavior on the sphinx rendered scikit-learn.org. See: https://github.com/scikit-learn/scikit-learn/issues/21755 */display: inline-block !important;position: relative;}#sk-f5bb12e1-9b36-4666-bfab-a16b87d21d43 div.sk-text-repr-fallback {display: none;}</style><div id=\"sk-f5bb12e1-9b36-4666-bfab-a16b87d21d43\" class=\"sk-top-container\"><div class=\"sk-text-repr-fallback\"><pre>Pipeline(steps=[(&#x27;standardscaler&#x27;, StandardScaler()),\n",
       "                (&#x27;functiontransformer&#x27;,\n",
       "                 FunctionTransformer(func=&lt;function func at 0x00000136D024A4C0&gt;)),\n",
       "                (&#x27;svc&#x27;, SVC())])</pre><b>Please rerun this cell to show the HTML repr or trust the notebook.</b></div><div class=\"sk-container\" hidden><div class=\"sk-item sk-dashed-wrapped\"><div class=\"sk-label-container\"><div class=\"sk-label sk-toggleable\"><input class=\"sk-toggleable__control sk-hidden--visually\" id=\"898a3e55-223a-4240-bf2f-3c95b8fc93f9\" type=\"checkbox\" ><label for=\"898a3e55-223a-4240-bf2f-3c95b8fc93f9\" class=\"sk-toggleable__label sk-toggleable__label-arrow\">Pipeline</label><div class=\"sk-toggleable__content\"><pre>Pipeline(steps=[(&#x27;standardscaler&#x27;, StandardScaler()),\n",
       "                (&#x27;functiontransformer&#x27;,\n",
       "                 FunctionTransformer(func=&lt;function func at 0x00000136D024A4C0&gt;)),\n",
       "                (&#x27;svc&#x27;, SVC())])</pre></div></div></div><div class=\"sk-serial\"><div class=\"sk-item\"><div class=\"sk-estimator sk-toggleable\"><input class=\"sk-toggleable__control sk-hidden--visually\" id=\"57b4085c-1197-48b9-a50c-933e441df94b\" type=\"checkbox\" ><label for=\"57b4085c-1197-48b9-a50c-933e441df94b\" class=\"sk-toggleable__label sk-toggleable__label-arrow\">StandardScaler</label><div class=\"sk-toggleable__content\"><pre>StandardScaler()</pre></div></div></div><div class=\"sk-item\"><div class=\"sk-estimator sk-toggleable\"><input class=\"sk-toggleable__control sk-hidden--visually\" id=\"8db2d2de-b609-4ef4-9ae5-9b471557f78f\" type=\"checkbox\" ><label for=\"8db2d2de-b609-4ef4-9ae5-9b471557f78f\" class=\"sk-toggleable__label sk-toggleable__label-arrow\">FunctionTransformer</label><div class=\"sk-toggleable__content\"><pre>FunctionTransformer(func=&lt;function func at 0x00000136D024A4C0&gt;)</pre></div></div></div><div class=\"sk-item\"><div class=\"sk-estimator sk-toggleable\"><input class=\"sk-toggleable__control sk-hidden--visually\" id=\"f2658c37-0b26-4be2-a859-7f24acbc4233\" type=\"checkbox\" ><label for=\"f2658c37-0b26-4be2-a859-7f24acbc4233\" class=\"sk-toggleable__label sk-toggleable__label-arrow\">SVC</label><div class=\"sk-toggleable__content\"><pre>SVC()</pre></div></div></div></div></div></div></div>"
      ],
      "text/plain": [
       "Pipeline(steps=[('standardscaler', StandardScaler()),\n",
       "                ('functiontransformer',\n",
       "                 FunctionTransformer(func=<function func at 0x00000136D024A4C0>)),\n",
       "                ('svc', SVC())])"
      ]
     },
     "execution_count": 61,
     "metadata": {},
     "output_type": "execute_result"
    }
   ],
   "source": [
    "pipeline3.fit(x_train, y_train)"
   ]
  },
  {
   "cell_type": "code",
   "execution_count": null,
   "id": "ba181d58-c726-4007-af7d-13f329840584",
   "metadata": {},
   "outputs": [],
   "source": []
  },
  {
   "cell_type": "code",
   "execution_count": null,
   "id": "8c7ef8dc-2474-403b-9962-80c66502090e",
   "metadata": {},
   "outputs": [],
   "source": []
  },
  {
   "cell_type": "code",
   "execution_count": null,
   "id": "ece209fc-6137-428e-85b1-e82491663d86",
   "metadata": {},
   "outputs": [],
   "source": []
  }
 ],
 "metadata": {
  "kernelspec": {
   "display_name": "Python 3 (ipykernel)",
   "language": "python",
   "name": "python3"
  },
  "language_info": {
   "codemirror_mode": {
    "name": "ipython",
    "version": 3
   },
   "file_extension": ".py",
   "mimetype": "text/x-python",
   "name": "python",
   "nbconvert_exporter": "python",
   "pygments_lexer": "ipython3",
   "version": "3.9.12"
  }
 },
 "nbformat": 4,
 "nbformat_minor": 5
}
