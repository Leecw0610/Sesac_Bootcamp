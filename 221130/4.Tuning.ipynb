{
 "cells": [
  {
   "cell_type": "markdown",
   "id": "0f5044a0-322b-4987-9fc8-b932dbef1bfd",
   "metadata": {},
   "source": [
    "# 4. Tuning"
   ]
  },
  {
   "cell_type": "raw",
   "id": "d5bd3055-61a7-4f02-a3f1-a88697c28bbc",
   "metadata": {},
   "source": [
    "최적의 파라미터 찾기"
   ]
  },
  {
   "cell_type": "code",
   "execution_count": 138,
   "id": "bfcba8dc-0eae-4959-b222-15ff26e40ff3",
   "metadata": {},
   "outputs": [],
   "source": [
    "from sklearn import datasets\n",
    "from sklearn.neighbors import KNeighborsClassifier\n",
    "import warnings\n",
    "warnings.filterwarnings('ignore')\n",
    "from sklearn.model_selection import GridSearchCV\n",
    "import pandas as pd\n",
    "from sklearn.model_selection import StratifiedKFold\n",
    "from sklearn.linear_model import LinearRegression\n",
    "from sklearn.model_selection import ShuffleSplit\n",
    "from sklearn.model_selection import cross_val_score"
   ]
  },
  {
   "cell_type": "code",
   "execution_count": 6,
   "id": "e92fae88-a48e-4a6b-bc88-bbfa3a34de93",
   "metadata": {},
   "outputs": [],
   "source": [
    "digits = datasets.load_digits() # 디지털 숫자 데이터"
   ]
  },
  {
   "cell_type": "code",
   "execution_count": 48,
   "id": "807a82a7-0cd7-4a0d-b7c1-fac764b5eb6d",
   "metadata": {
    "collapsed": true,
    "jupyter": {
     "outputs_hidden": true
    },
    "tags": []
   },
   "outputs": [
    {
     "data": {
      "text/plain": [
       "{'data': array([[ 0.,  0.,  5., ...,  0.,  0.,  0.],\n",
       "        [ 0.,  0.,  0., ..., 10.,  0.,  0.],\n",
       "        [ 0.,  0.,  0., ..., 16.,  9.,  0.],\n",
       "        ...,\n",
       "        [ 0.,  0.,  1., ...,  6.,  0.,  0.],\n",
       "        [ 0.,  0.,  2., ..., 12.,  0.,  0.],\n",
       "        [ 0.,  0., 10., ..., 12.,  1.,  0.]]),\n",
       " 'target': array([0, 1, 2, ..., 8, 9, 8]),\n",
       " 'frame': None,\n",
       " 'feature_names': ['pixel_0_0',\n",
       "  'pixel_0_1',\n",
       "  'pixel_0_2',\n",
       "  'pixel_0_3',\n",
       "  'pixel_0_4',\n",
       "  'pixel_0_5',\n",
       "  'pixel_0_6',\n",
       "  'pixel_0_7',\n",
       "  'pixel_1_0',\n",
       "  'pixel_1_1',\n",
       "  'pixel_1_2',\n",
       "  'pixel_1_3',\n",
       "  'pixel_1_4',\n",
       "  'pixel_1_5',\n",
       "  'pixel_1_6',\n",
       "  'pixel_1_7',\n",
       "  'pixel_2_0',\n",
       "  'pixel_2_1',\n",
       "  'pixel_2_2',\n",
       "  'pixel_2_3',\n",
       "  'pixel_2_4',\n",
       "  'pixel_2_5',\n",
       "  'pixel_2_6',\n",
       "  'pixel_2_7',\n",
       "  'pixel_3_0',\n",
       "  'pixel_3_1',\n",
       "  'pixel_3_2',\n",
       "  'pixel_3_3',\n",
       "  'pixel_3_4',\n",
       "  'pixel_3_5',\n",
       "  'pixel_3_6',\n",
       "  'pixel_3_7',\n",
       "  'pixel_4_0',\n",
       "  'pixel_4_1',\n",
       "  'pixel_4_2',\n",
       "  'pixel_4_3',\n",
       "  'pixel_4_4',\n",
       "  'pixel_4_5',\n",
       "  'pixel_4_6',\n",
       "  'pixel_4_7',\n",
       "  'pixel_5_0',\n",
       "  'pixel_5_1',\n",
       "  'pixel_5_2',\n",
       "  'pixel_5_3',\n",
       "  'pixel_5_4',\n",
       "  'pixel_5_5',\n",
       "  'pixel_5_6',\n",
       "  'pixel_5_7',\n",
       "  'pixel_6_0',\n",
       "  'pixel_6_1',\n",
       "  'pixel_6_2',\n",
       "  'pixel_6_3',\n",
       "  'pixel_6_4',\n",
       "  'pixel_6_5',\n",
       "  'pixel_6_6',\n",
       "  'pixel_6_7',\n",
       "  'pixel_7_0',\n",
       "  'pixel_7_1',\n",
       "  'pixel_7_2',\n",
       "  'pixel_7_3',\n",
       "  'pixel_7_4',\n",
       "  'pixel_7_5',\n",
       "  'pixel_7_6',\n",
       "  'pixel_7_7'],\n",
       " 'target_names': array([0, 1, 2, 3, 4, 5, 6, 7, 8, 9]),\n",
       " 'images': array([[[ 0.,  0.,  5., ...,  1.,  0.,  0.],\n",
       "         [ 0.,  0., 13., ..., 15.,  5.,  0.],\n",
       "         [ 0.,  3., 15., ..., 11.,  8.,  0.],\n",
       "         ...,\n",
       "         [ 0.,  4., 11., ..., 12.,  7.,  0.],\n",
       "         [ 0.,  2., 14., ..., 12.,  0.,  0.],\n",
       "         [ 0.,  0.,  6., ...,  0.,  0.,  0.]],\n",
       " \n",
       "        [[ 0.,  0.,  0., ...,  5.,  0.,  0.],\n",
       "         [ 0.,  0.,  0., ...,  9.,  0.,  0.],\n",
       "         [ 0.,  0.,  3., ...,  6.,  0.,  0.],\n",
       "         ...,\n",
       "         [ 0.,  0.,  1., ...,  6.,  0.,  0.],\n",
       "         [ 0.,  0.,  1., ...,  6.,  0.,  0.],\n",
       "         [ 0.,  0.,  0., ..., 10.,  0.,  0.]],\n",
       " \n",
       "        [[ 0.,  0.,  0., ..., 12.,  0.,  0.],\n",
       "         [ 0.,  0.,  3., ..., 14.,  0.,  0.],\n",
       "         [ 0.,  0.,  8., ..., 16.,  0.,  0.],\n",
       "         ...,\n",
       "         [ 0.,  9., 16., ...,  0.,  0.,  0.],\n",
       "         [ 0.,  3., 13., ..., 11.,  5.,  0.],\n",
       "         [ 0.,  0.,  0., ..., 16.,  9.,  0.]],\n",
       " \n",
       "        ...,\n",
       " \n",
       "        [[ 0.,  0.,  1., ...,  1.,  0.,  0.],\n",
       "         [ 0.,  0., 13., ...,  2.,  1.,  0.],\n",
       "         [ 0.,  0., 16., ..., 16.,  5.,  0.],\n",
       "         ...,\n",
       "         [ 0.,  0., 16., ..., 15.,  0.,  0.],\n",
       "         [ 0.,  0., 15., ..., 16.,  0.,  0.],\n",
       "         [ 0.,  0.,  2., ...,  6.,  0.,  0.]],\n",
       " \n",
       "        [[ 0.,  0.,  2., ...,  0.,  0.,  0.],\n",
       "         [ 0.,  0., 14., ..., 15.,  1.,  0.],\n",
       "         [ 0.,  4., 16., ..., 16.,  7.,  0.],\n",
       "         ...,\n",
       "         [ 0.,  0.,  0., ..., 16.,  2.,  0.],\n",
       "         [ 0.,  0.,  4., ..., 16.,  2.,  0.],\n",
       "         [ 0.,  0.,  5., ..., 12.,  0.,  0.]],\n",
       " \n",
       "        [[ 0.,  0., 10., ...,  1.,  0.,  0.],\n",
       "         [ 0.,  2., 16., ...,  1.,  0.,  0.],\n",
       "         [ 0.,  0., 15., ..., 15.,  0.,  0.],\n",
       "         ...,\n",
       "         [ 0.,  4., 16., ..., 16.,  6.,  0.],\n",
       "         [ 0.,  8., 16., ..., 16.,  8.,  0.],\n",
       "         [ 0.,  1.,  8., ..., 12.,  1.,  0.]]]),\n",
       " 'DESCR': \".. _digits_dataset:\\n\\nOptical recognition of handwritten digits dataset\\n--------------------------------------------------\\n\\n**Data Set Characteristics:**\\n\\n    :Number of Instances: 1797\\n    :Number of Attributes: 64\\n    :Attribute Information: 8x8 image of integer pixels in the range 0..16.\\n    :Missing Attribute Values: None\\n    :Creator: E. Alpaydin (alpaydin '@' boun.edu.tr)\\n    :Date: July; 1998\\n\\nThis is a copy of the test set of the UCI ML hand-written digits datasets\\nhttps://archive.ics.uci.edu/ml/datasets/Optical+Recognition+of+Handwritten+Digits\\n\\nThe data set contains images of hand-written digits: 10 classes where\\neach class refers to a digit.\\n\\nPreprocessing programs made available by NIST were used to extract\\nnormalized bitmaps of handwritten digits from a preprinted form. From a\\ntotal of 43 people, 30 contributed to the training set and different 13\\nto the test set. 32x32 bitmaps are divided into nonoverlapping blocks of\\n4x4 and the number of on pixels are counted in each block. This generates\\nan input matrix of 8x8 where each element is an integer in the range\\n0..16. This reduces dimensionality and gives invariance to small\\ndistortions.\\n\\nFor info on NIST preprocessing routines, see M. D. Garris, J. L. Blue, G.\\nT. Candela, D. L. Dimmick, J. Geist, P. J. Grother, S. A. Janet, and C.\\nL. Wilson, NIST Form-Based Handprint Recognition System, NISTIR 5469,\\n1994.\\n\\n.. topic:: References\\n\\n  - C. Kaynak (1995) Methods of Combining Multiple Classifiers and Their\\n    Applications to Handwritten Digit Recognition, MSc Thesis, Institute of\\n    Graduate Studies in Science and Engineering, Bogazici University.\\n  - E. Alpaydin, C. Kaynak (1998) Cascading Classifiers, Kybernetika.\\n  - Ken Tang and Ponnuthurai N. Suganthan and Xi Yao and A. Kai Qin.\\n    Linear dimensionalityreduction using relevance weighted LDA. School of\\n    Electrical and Electronic Engineering Nanyang Technological University.\\n    2005.\\n  - Claudio Gentile. A New Approximate Maximal Margin Classification\\n    Algorithm. NIPS. 2000.\\n\"}"
      ]
     },
     "execution_count": 48,
     "metadata": {},
     "output_type": "execute_result"
    }
   ],
   "source": [
    "digits"
   ]
  },
  {
   "cell_type": "code",
   "execution_count": 7,
   "id": "ea3abf99-95b3-411c-9433-630d406c4a19",
   "metadata": {},
   "outputs": [
    {
     "data": {
      "text/plain": [
       "array([ 0.,  0.,  5., 13.,  9.,  1.,  0.,  0.,  0.,  0., 13., 15., 10.,\n",
       "       15.,  5.,  0.,  0.,  3., 15.,  2.,  0., 11.,  8.,  0.,  0.,  4.,\n",
       "       12.,  0.,  0.,  8.,  8.,  0.,  0.,  5.,  8.,  0.,  0.,  9.,  8.,\n",
       "        0.,  0.,  4., 11.,  0.,  1., 12.,  7.,  0.,  0.,  2., 14.,  5.,\n",
       "       10., 12.,  0.,  0.,  0.,  0.,  6., 13., 10.,  0.,  0.,  0.])"
      ]
     },
     "execution_count": 7,
     "metadata": {},
     "output_type": "execute_result"
    }
   ],
   "source": [
    "digits.data[0]"
   ]
  },
  {
   "cell_type": "code",
   "execution_count": 8,
   "id": "135ad219-9194-4e8b-96ff-b7021d97883f",
   "metadata": {},
   "outputs": [
    {
     "data": {
      "text/plain": [
       "array([0, 1, 2, ..., 8, 9, 8])"
      ]
     },
     "execution_count": 8,
     "metadata": {},
     "output_type": "execute_result"
    }
   ],
   "source": [
    "digits.target"
   ]
  },
  {
   "cell_type": "code",
   "execution_count": 9,
   "id": "7ce45bc1-12d1-4521-8e92-8e25245fe096",
   "metadata": {},
   "outputs": [],
   "source": [
    "knn = KNeighborsClassifier()"
   ]
  },
  {
   "cell_type": "code",
   "execution_count": 11,
   "id": "5f662af6-d75c-4469-b384-395ece3ed98a",
   "metadata": {},
   "outputs": [
    {
     "data": {
      "text/plain": [
       "{'algorithm': 'auto',\n",
       " 'leaf_size': 30,\n",
       " 'metric': 'minkowski',\n",
       " 'metric_params': None,\n",
       " 'n_jobs': None,\n",
       " 'n_neighbors': 5,\n",
       " 'p': 2,\n",
       " 'weights': 'uniform'}"
      ]
     },
     "execution_count": 11,
     "metadata": {},
     "output_type": "execute_result"
    }
   ],
   "source": [
    "knn.get_params() #함수내 쓸 수 있는 파라미터 보기"
   ]
  },
  {
   "cell_type": "code",
   "execution_count": 12,
   "id": "41766cd3-bbc9-45ec-bb03-f2342ab1db89",
   "metadata": {},
   "outputs": [
    {
     "data": {
      "text/plain": [
       "dict_keys(['algorithm', 'leaf_size', 'metric', 'metric_params', 'n_jobs', 'n_neighbors', 'p', 'weights'])"
      ]
     },
     "execution_count": 12,
     "metadata": {},
     "output_type": "execute_result"
    }
   ],
   "source": [
    "knn.get_params().keys()"
   ]
  },
  {
   "cell_type": "code",
   "execution_count": 13,
   "id": "8fa83d47-0d8f-4546-8c6e-057bffec2380",
   "metadata": {},
   "outputs": [],
   "source": [
    "param_grid = {'n_neighbors': range(1,20)}"
   ]
  },
  {
   "cell_type": "code",
   "execution_count": 14,
   "id": "ace09989-9fe5-4b56-bc31-d688470fe994",
   "metadata": {},
   "outputs": [
    {
     "data": {
      "text/plain": [
       "{'n_neighbors': range(1, 20)}"
      ]
     },
     "execution_count": 14,
     "metadata": {},
     "output_type": "execute_result"
    }
   ],
   "source": [
    "param_grid"
   ]
  },
  {
   "cell_type": "raw",
   "id": "715e5d77-f926-43d3-98c8-a6397fedaaef",
   "metadata": {},
   "source": [
    "for i in range(1,20) :\n",
    "    knn = KNeighborsClassifier(n_neighbors=i)\n",
    "    \n",
    "    knn.fit() # for 구문을 이용하지 않고 !! 다른방법으로~"
   ]
  },
  {
   "cell_type": "code",
   "execution_count": 33,
   "id": "37e7e1f3-d90c-400f-b083-47ddb5759917",
   "metadata": {},
   "outputs": [],
   "source": [
    "grid_model = GridSearchCV(knn, return_train_score=True, param_grid = param_grid, cv=10, verbose=3 )\n",
    "# cv 값도 조정할 수 있음 여러가지 param을 수정 하면서 가장 정확히 표현할 수 있는 param을 찾는다"
   ]
  },
  {
   "cell_type": "raw",
   "id": "94ab8173-b16a-4f07-9f74-d9af5c1f5c8c",
   "metadata": {},
   "source": [
    "GridSearchCV의 iteration시마다 수행 결과 메시지를 출력합니다.\n",
    "\n",
    "verbose=0(default)면 메시지 출력 안함\n",
    "\n",
    "verbose=1이면 간단한 메시지 출력\n",
    "\n",
    "verbose=2이면 하이퍼 파라미터별 메시지 출력"
   ]
  },
  {
   "cell_type": "code",
   "execution_count": 34,
   "id": "ca3e2c07-dc16-42a4-9bdd-42616dddc489",
   "metadata": {
    "collapsed": true,
    "jupyter": {
     "outputs_hidden": true
    },
    "tags": []
   },
   "outputs": [
    {
     "name": "stdout",
     "output_type": "stream",
     "text": [
      "Fitting 10 folds for each of 19 candidates, totalling 190 fits\n",
      "[CV 1/10] END n_neighbors=1;, score=(train=1.000, test=0.933) total time=   0.0s\n",
      "[CV 2/10] END n_neighbors=1;, score=(train=1.000, test=0.994) total time=   0.0s\n",
      "[CV 3/10] END n_neighbors=1;, score=(train=1.000, test=0.972) total time=   0.0s\n",
      "[CV 4/10] END n_neighbors=1;, score=(train=1.000, test=0.972) total time=   0.0s\n",
      "[CV 5/10] END n_neighbors=1;, score=(train=1.000, test=0.967) total time=   0.0s\n",
      "[CV 6/10] END n_neighbors=1;, score=(train=1.000, test=0.983) total time=   0.0s\n",
      "[CV 7/10] END n_neighbors=1;, score=(train=1.000, test=0.994) total time=   0.0s\n",
      "[CV 8/10] END n_neighbors=1;, score=(train=1.000, test=0.989) total time=   0.0s\n",
      "[CV 9/10] END n_neighbors=1;, score=(train=1.000, test=0.978) total time=   0.0s\n",
      "[CV 10/10] END n_neighbors=1;, score=(train=1.000, test=0.966) total time=   0.0s\n",
      "[CV 1/10] END n_neighbors=2;, score=(train=0.993, test=0.939) total time=   0.0s\n",
      "[CV 2/10] END n_neighbors=2;, score=(train=0.990, test=0.989) total time=   0.0s\n",
      "[CV 3/10] END n_neighbors=2;, score=(train=0.991, test=0.989) total time=   0.0s\n",
      "[CV 4/10] END n_neighbors=2;, score=(train=0.992, test=0.961) total time=   0.0s\n",
      "[CV 5/10] END n_neighbors=2;, score=(train=0.991, test=0.961) total time=   0.0s\n",
      "[CV 6/10] END n_neighbors=2;, score=(train=0.991, test=0.983) total time=   0.0s\n",
      "[CV 7/10] END n_neighbors=2;, score=(train=0.991, test=0.989) total time=   0.0s\n",
      "[CV 8/10] END n_neighbors=2;, score=(train=0.989, test=0.978) total time=   0.0s\n",
      "[CV 9/10] END n_neighbors=2;, score=(train=0.991, test=0.978) total time=   0.0s\n",
      "[CV 10/10] END n_neighbors=2;, score=(train=0.990, test=0.978) total time=   0.0s\n",
      "[CV 1/10] END n_neighbors=3;, score=(train=0.994, test=0.939) total time=   0.0s\n",
      "[CV 2/10] END n_neighbors=3;, score=(train=0.993, test=1.000) total time=   0.0s\n",
      "[CV 3/10] END n_neighbors=3;, score=(train=0.993, test=0.989) total time=   0.0s\n",
      "[CV 4/10] END n_neighbors=3;, score=(train=0.994, test=0.972) total time=   0.0s\n",
      "[CV 5/10] END n_neighbors=3;, score=(train=0.994, test=0.967) total time=   0.0s\n",
      "[CV 6/10] END n_neighbors=3;, score=(train=0.992, test=0.978) total time=   0.0s\n",
      "[CV 7/10] END n_neighbors=3;, score=(train=0.994, test=0.983) total time=   0.0s\n",
      "[CV 8/10] END n_neighbors=3;, score=(train=0.993, test=0.983) total time=   0.0s\n",
      "[CV 9/10] END n_neighbors=3;, score=(train=0.993, test=0.983) total time=   0.0s\n",
      "[CV 10/10] END n_neighbors=3;, score=(train=0.993, test=0.972) total time=   0.0s\n",
      "[CV 1/10] END n_neighbors=4;, score=(train=0.993, test=0.933) total time=   0.0s\n",
      "[CV 2/10] END n_neighbors=4;, score=(train=0.990, test=0.983) total time=   0.0s\n",
      "[CV 3/10] END n_neighbors=4;, score=(train=0.991, test=0.983) total time=   0.0s\n",
      "[CV 4/10] END n_neighbors=4;, score=(train=0.994, test=0.961) total time=   0.0s\n",
      "[CV 5/10] END n_neighbors=4;, score=(train=0.993, test=0.967) total time=   0.0s\n",
      "[CV 6/10] END n_neighbors=4;, score=(train=0.991, test=0.983) total time=   0.0s\n",
      "[CV 7/10] END n_neighbors=4;, score=(train=0.993, test=0.983) total time=   0.0s\n",
      "[CV 8/10] END n_neighbors=4;, score=(train=0.991, test=0.978) total time=   0.0s\n",
      "[CV 9/10] END n_neighbors=4;, score=(train=0.991, test=0.983) total time=   0.0s\n",
      "[CV 10/10] END n_neighbors=4;, score=(train=0.991, test=0.966) total time=   0.0s\n",
      "[CV 1/10] END n_neighbors=5;, score=(train=0.990, test=0.928) total time=   0.0s\n",
      "[CV 2/10] END n_neighbors=5;, score=(train=0.992, test=0.983) total time=   0.0s\n",
      "[CV 3/10] END n_neighbors=5;, score=(train=0.991, test=0.978) total time=   0.0s\n",
      "[CV 4/10] END n_neighbors=5;, score=(train=0.991, test=0.956) total time=   0.0s\n",
      "[CV 5/10] END n_neighbors=5;, score=(train=0.990, test=0.972) total time=   0.0s\n",
      "[CV 6/10] END n_neighbors=5;, score=(train=0.989, test=0.972) total time=   0.0s\n",
      "[CV 7/10] END n_neighbors=5;, score=(train=0.991, test=0.989) total time=   0.0s\n",
      "[CV 8/10] END n_neighbors=5;, score=(train=0.991, test=0.983) total time=   0.0s\n",
      "[CV 9/10] END n_neighbors=5;, score=(train=0.990, test=0.983) total time=   0.0s\n",
      "[CV 10/10] END n_neighbors=5;, score=(train=0.991, test=0.966) total time=   0.0s\n",
      "[CV 1/10] END n_neighbors=6;, score=(train=0.989, test=0.928) total time=   0.0s\n",
      "[CV 2/10] END n_neighbors=6;, score=(train=0.988, test=0.972) total time=   0.0s\n",
      "[CV 3/10] END n_neighbors=6;, score=(train=0.990, test=0.972) total time=   0.0s\n",
      "[CV 4/10] END n_neighbors=6;, score=(train=0.990, test=0.956) total time=   0.0s\n",
      "[CV 5/10] END n_neighbors=6;, score=(train=0.990, test=0.972) total time=   0.0s\n",
      "[CV 6/10] END n_neighbors=6;, score=(train=0.989, test=0.972) total time=   0.0s\n",
      "[CV 7/10] END n_neighbors=6;, score=(train=0.990, test=0.989) total time=   0.0s\n",
      "[CV 8/10] END n_neighbors=6;, score=(train=0.988, test=0.983) total time=   0.0s\n",
      "[CV 9/10] END n_neighbors=6;, score=(train=0.989, test=0.972) total time=   0.0s\n",
      "[CV 10/10] END n_neighbors=6;, score=(train=0.990, test=0.966) total time=   0.0s\n",
      "[CV 1/10] END n_neighbors=7;, score=(train=0.989, test=0.922) total time=   0.0s\n",
      "[CV 2/10] END n_neighbors=7;, score=(train=0.990, test=0.978) total time=   0.0s\n",
      "[CV 3/10] END n_neighbors=7;, score=(train=0.992, test=0.978) total time=   0.0s\n",
      "[CV 4/10] END n_neighbors=7;, score=(train=0.990, test=0.950) total time=   0.0s\n",
      "[CV 5/10] END n_neighbors=7;, score=(train=0.991, test=0.978) total time=   0.0s\n",
      "[CV 6/10] END n_neighbors=7;, score=(train=0.990, test=0.961) total time=   0.0s\n",
      "[CV 7/10] END n_neighbors=7;, score=(train=0.989, test=0.989) total time=   0.0s\n",
      "[CV 8/10] END n_neighbors=7;, score=(train=0.989, test=0.989) total time=   0.0s\n",
      "[CV 9/10] END n_neighbors=7;, score=(train=0.990, test=0.972) total time=   0.0s\n",
      "[CV 10/10] END n_neighbors=7;, score=(train=0.989, test=0.961) total time=   0.0s\n",
      "[CV 1/10] END n_neighbors=8;, score=(train=0.986, test=0.922) total time=   0.0s\n",
      "[CV 2/10] END n_neighbors=8;, score=(train=0.988, test=0.978) total time=   0.0s\n",
      "[CV 3/10] END n_neighbors=8;, score=(train=0.991, test=0.972) total time=   0.0s\n",
      "[CV 4/10] END n_neighbors=8;, score=(train=0.989, test=0.950) total time=   0.0s\n",
      "[CV 5/10] END n_neighbors=8;, score=(train=0.989, test=0.967) total time=   0.0s\n",
      "[CV 6/10] END n_neighbors=8;, score=(train=0.989, test=0.972) total time=   0.0s\n",
      "[CV 7/10] END n_neighbors=8;, score=(train=0.988, test=0.989) total time=   0.0s\n",
      "[CV 8/10] END n_neighbors=8;, score=(train=0.987, test=0.978) total time=   0.0s\n",
      "[CV 9/10] END n_neighbors=8;, score=(train=0.989, test=0.966) total time=   0.0s\n",
      "[CV 10/10] END n_neighbors=8;, score=(train=0.989, test=0.955) total time=   0.0s\n",
      "[CV 1/10] END n_neighbors=9;, score=(train=0.986, test=0.917) total time=   0.0s\n",
      "[CV 2/10] END n_neighbors=9;, score=(train=0.986, test=0.967) total time=   0.0s\n",
      "[CV 3/10] END n_neighbors=9;, score=(train=0.990, test=0.978) total time=   0.0s\n",
      "[CV 4/10] END n_neighbors=9;, score=(train=0.989, test=0.950) total time=   0.0s\n",
      "[CV 5/10] END n_neighbors=9;, score=(train=0.989, test=0.978) total time=   0.0s\n",
      "[CV 6/10] END n_neighbors=9;, score=(train=0.988, test=0.978) total time=   0.0s\n",
      "[CV 7/10] END n_neighbors=9;, score=(train=0.988, test=0.983) total time=   0.0s\n",
      "[CV 8/10] END n_neighbors=9;, score=(train=0.986, test=0.983) total time=   0.0s\n",
      "[CV 9/10] END n_neighbors=9;, score=(train=0.988, test=0.961) total time=   0.0s\n",
      "[CV 10/10] END n_neighbors=9;, score=(train=0.989, test=0.955) total time=   0.0s\n",
      "[CV 1/10] END n_neighbors=10;, score=(train=0.985, test=0.917) total time=   0.0s\n",
      "[CV 2/10] END n_neighbors=10;, score=(train=0.986, test=0.961) total time=   0.0s\n",
      "[CV 3/10] END n_neighbors=10;, score=(train=0.988, test=0.972) total time=   0.0s\n",
      "[CV 4/10] END n_neighbors=10;, score=(train=0.985, test=0.939) total time=   0.0s\n",
      "[CV 5/10] END n_neighbors=10;, score=(train=0.985, test=0.967) total time=   0.0s\n",
      "[CV 6/10] END n_neighbors=10;, score=(train=0.986, test=0.983) total time=   0.0s\n",
      "[CV 7/10] END n_neighbors=10;, score=(train=0.986, test=0.989) total time=   0.0s\n",
      "[CV 8/10] END n_neighbors=10;, score=(train=0.984, test=0.978) total time=   0.0s\n",
      "[CV 9/10] END n_neighbors=10;, score=(train=0.986, test=0.961) total time=   0.0s\n",
      "[CV 10/10] END n_neighbors=10;, score=(train=0.988, test=0.955) total time=   0.0s\n",
      "[CV 1/10] END n_neighbors=11;, score=(train=0.986, test=0.922) total time=   0.0s\n",
      "[CV 2/10] END n_neighbors=11;, score=(train=0.985, test=0.967) total time=   0.0s\n",
      "[CV 3/10] END n_neighbors=11;, score=(train=0.989, test=0.978) total time=   0.0s\n",
      "[CV 4/10] END n_neighbors=11;, score=(train=0.988, test=0.939) total time=   0.0s\n",
      "[CV 5/10] END n_neighbors=11;, score=(train=0.988, test=0.972) total time=   0.0s\n",
      "[CV 6/10] END n_neighbors=11;, score=(train=0.987, test=0.983) total time=   0.0s\n",
      "[CV 7/10] END n_neighbors=11;, score=(train=0.989, test=0.989) total time=   0.0s\n",
      "[CV 8/10] END n_neighbors=11;, score=(train=0.986, test=0.983) total time=   0.0s\n",
      "[CV 9/10] END n_neighbors=11;, score=(train=0.987, test=0.950) total time=   0.0s\n",
      "[CV 10/10] END n_neighbors=11;, score=(train=0.989, test=0.955) total time=   0.0s\n",
      "[CV 1/10] END n_neighbors=12;, score=(train=0.985, test=0.917) total time=   0.0s\n",
      "[CV 2/10] END n_neighbors=12;, score=(train=0.986, test=0.967) total time=   0.0s\n",
      "[CV 3/10] END n_neighbors=12;, score=(train=0.988, test=0.978) total time=   0.0s\n",
      "[CV 4/10] END n_neighbors=12;, score=(train=0.986, test=0.944) total time=   0.0s\n",
      "[CV 5/10] END n_neighbors=12;, score=(train=0.989, test=0.967) total time=   0.0s\n",
      "[CV 6/10] END n_neighbors=12;, score=(train=0.987, test=0.983) total time=   0.0s\n",
      "[CV 7/10] END n_neighbors=12;, score=(train=0.987, test=0.989) total time=   0.0s\n",
      "[CV 8/10] END n_neighbors=12;, score=(train=0.985, test=0.983) total time=   0.0s\n",
      "[CV 9/10] END n_neighbors=12;, score=(train=0.986, test=0.961) total time=   0.0s\n",
      "[CV 10/10] END n_neighbors=12;, score=(train=0.988, test=0.955) total time=   0.0s\n",
      "[CV 1/10] END n_neighbors=13;, score=(train=0.984, test=0.917) total time=   0.0s\n",
      "[CV 2/10] END n_neighbors=13;, score=(train=0.986, test=0.967) total time=   0.0s\n",
      "[CV 3/10] END n_neighbors=13;, score=(train=0.988, test=0.978) total time=   0.0s\n",
      "[CV 4/10] END n_neighbors=13;, score=(train=0.986, test=0.939) total time=   0.0s\n",
      "[CV 5/10] END n_neighbors=13;, score=(train=0.986, test=0.972) total time=   0.0s\n",
      "[CV 6/10] END n_neighbors=13;, score=(train=0.985, test=0.983) total time=   0.0s\n",
      "[CV 7/10] END n_neighbors=13;, score=(train=0.986, test=0.989) total time=   0.0s\n",
      "[CV 8/10] END n_neighbors=13;, score=(train=0.985, test=0.983) total time=   0.0s\n",
      "[CV 9/10] END n_neighbors=13;, score=(train=0.987, test=0.950) total time=   0.0s\n",
      "[CV 10/10] END n_neighbors=13;, score=(train=0.986, test=0.955) total time=   0.0s\n",
      "[CV 1/10] END n_neighbors=14;, score=(train=0.985, test=0.911) total time=   0.0s\n",
      "[CV 2/10] END n_neighbors=14;, score=(train=0.985, test=0.972) total time=   0.0s\n",
      "[CV 3/10] END n_neighbors=14;, score=(train=0.988, test=0.978) total time=   0.0s\n",
      "[CV 4/10] END n_neighbors=14;, score=(train=0.986, test=0.944) total time=   0.0s\n",
      "[CV 5/10] END n_neighbors=14;, score=(train=0.985, test=0.972) total time=   0.0s\n",
      "[CV 6/10] END n_neighbors=14;, score=(train=0.985, test=0.983) total time=   0.0s\n",
      "[CV 7/10] END n_neighbors=14;, score=(train=0.985, test=0.989) total time=   0.0s\n",
      "[CV 8/10] END n_neighbors=14;, score=(train=0.982, test=0.983) total time=   0.0s\n",
      "[CV 9/10] END n_neighbors=14;, score=(train=0.986, test=0.944) total time=   0.0s\n",
      "[CV 10/10] END n_neighbors=14;, score=(train=0.985, test=0.955) total time=   0.0s\n",
      "[CV 1/10] END n_neighbors=15;, score=(train=0.985, test=0.917) total time=   0.0s\n",
      "[CV 2/10] END n_neighbors=15;, score=(train=0.985, test=0.967) total time=   0.0s\n",
      "[CV 3/10] END n_neighbors=15;, score=(train=0.987, test=0.978) total time=   0.0s\n",
      "[CV 4/10] END n_neighbors=15;, score=(train=0.984, test=0.944) total time=   0.0s\n",
      "[CV 5/10] END n_neighbors=15;, score=(train=0.984, test=0.978) total time=   0.0s\n",
      "[CV 6/10] END n_neighbors=15;, score=(train=0.983, test=0.972) total time=   0.0s\n",
      "[CV 7/10] END n_neighbors=15;, score=(train=0.983, test=0.983) total time=   0.0s\n",
      "[CV 8/10] END n_neighbors=15;, score=(train=0.981, test=0.983) total time=   0.0s\n",
      "[CV 9/10] END n_neighbors=15;, score=(train=0.985, test=0.944) total time=   0.0s\n",
      "[CV 10/10] END n_neighbors=15;, score=(train=0.986, test=0.955) total time=   0.0s\n",
      "[CV 1/10] END n_neighbors=16;, score=(train=0.983, test=0.917) total time=   0.0s\n",
      "[CV 2/10] END n_neighbors=16;, score=(train=0.984, test=0.967) total time=   0.0s\n",
      "[CV 3/10] END n_neighbors=16;, score=(train=0.985, test=0.978) total time=   0.0s\n",
      "[CV 4/10] END n_neighbors=16;, score=(train=0.983, test=0.939) total time=   0.0s\n",
      "[CV 5/10] END n_neighbors=16;, score=(train=0.985, test=0.972) total time=   0.0s\n",
      "[CV 6/10] END n_neighbors=16;, score=(train=0.981, test=0.983) total time=   0.0s\n",
      "[CV 7/10] END n_neighbors=16;, score=(train=0.982, test=0.978) total time=   0.0s\n",
      "[CV 8/10] END n_neighbors=16;, score=(train=0.980, test=0.972) total time=   0.0s\n",
      "[CV 9/10] END n_neighbors=16;, score=(train=0.984, test=0.955) total time=   0.0s\n",
      "[CV 10/10] END n_neighbors=16;, score=(train=0.983, test=0.961) total time=   0.0s\n",
      "[CV 1/10] END n_neighbors=17;, score=(train=0.982, test=0.917) total time=   0.0s\n",
      "[CV 2/10] END n_neighbors=17;, score=(train=0.982, test=0.967) total time=   0.0s\n",
      "[CV 3/10] END n_neighbors=17;, score=(train=0.986, test=0.978) total time=   0.0s\n",
      "[CV 4/10] END n_neighbors=17;, score=(train=0.983, test=0.944) total time=   0.0s\n",
      "[CV 5/10] END n_neighbors=17;, score=(train=0.984, test=0.972) total time=   0.0s\n",
      "[CV 6/10] END n_neighbors=17;, score=(train=0.983, test=0.978) total time=   0.0s\n",
      "[CV 7/10] END n_neighbors=17;, score=(train=0.981, test=0.983) total time=   0.0s\n",
      "[CV 8/10] END n_neighbors=17;, score=(train=0.981, test=0.972) total time=   0.0s\n",
      "[CV 9/10] END n_neighbors=17;, score=(train=0.985, test=0.944) total time=   0.0s\n",
      "[CV 10/10] END n_neighbors=17;, score=(train=0.984, test=0.961) total time=   0.0s\n",
      "[CV 1/10] END n_neighbors=18;, score=(train=0.981, test=0.922) total time=   0.0s\n",
      "[CV 2/10] END n_neighbors=18;, score=(train=0.982, test=0.967) total time=   0.0s\n",
      "[CV 3/10] END n_neighbors=18;, score=(train=0.985, test=0.978) total time=   0.0s\n",
      "[CV 4/10] END n_neighbors=18;, score=(train=0.983, test=0.939) total time=   0.0s\n",
      "[CV 5/10] END n_neighbors=18;, score=(train=0.984, test=0.972) total time=   0.0s\n",
      "[CV 6/10] END n_neighbors=18;, score=(train=0.981, test=0.978) total time=   0.0s\n",
      "[CV 7/10] END n_neighbors=18;, score=(train=0.981, test=0.983) total time=   0.0s\n",
      "[CV 8/10] END n_neighbors=18;, score=(train=0.980, test=0.972) total time=   0.0s\n",
      "[CV 9/10] END n_neighbors=18;, score=(train=0.983, test=0.955) total time=   0.0s\n",
      "[CV 10/10] END n_neighbors=18;, score=(train=0.982, test=0.961) total time=   0.0s\n",
      "[CV 1/10] END n_neighbors=19;, score=(train=0.983, test=0.922) total time=   0.0s\n",
      "[CV 2/10] END n_neighbors=19;, score=(train=0.981, test=0.967) total time=   0.0s\n",
      "[CV 3/10] END n_neighbors=19;, score=(train=0.985, test=0.978) total time=   0.0s\n",
      "[CV 4/10] END n_neighbors=19;, score=(train=0.982, test=0.944) total time=   0.0s\n",
      "[CV 5/10] END n_neighbors=19;, score=(train=0.983, test=0.972) total time=   0.0s\n",
      "[CV 6/10] END n_neighbors=19;, score=(train=0.980, test=0.972) total time=   0.0s\n",
      "[CV 7/10] END n_neighbors=19;, score=(train=0.980, test=0.983) total time=   0.0s\n",
      "[CV 8/10] END n_neighbors=19;, score=(train=0.980, test=0.978) total time=   0.0s\n",
      "[CV 9/10] END n_neighbors=19;, score=(train=0.983, test=0.944) total time=   0.0s\n",
      "[CV 10/10] END n_neighbors=19;, score=(train=0.981, test=0.961) total time=   0.0s\n"
     ]
    },
    {
     "data": {
      "text/plain": [
       "GridSearchCV(cv=10, estimator=KNeighborsClassifier(),\n",
       "             param_grid={'n_neighbors': range(1, 20)}, return_train_score=True,\n",
       "             verbose=3)"
      ]
     },
     "execution_count": 34,
     "metadata": {},
     "output_type": "execute_result"
    }
   ],
   "source": [
    "grid_model.fit(digits.data, digits.target)"
   ]
  },
  {
   "cell_type": "code",
   "execution_count": 35,
   "id": "2d64c2f1-c469-4f45-876b-9567d67c1d44",
   "metadata": {
    "collapsed": true,
    "jupyter": {
     "outputs_hidden": true
    },
    "tags": []
   },
   "outputs": [
    {
     "data": {
      "text/plain": [
       "dict_keys(['mean_fit_time', 'std_fit_time', 'mean_score_time', 'std_score_time', 'param_n_neighbors', 'params', 'split0_test_score', 'split1_test_score', 'split2_test_score', 'split3_test_score', 'split4_test_score', 'split5_test_score', 'split6_test_score', 'split7_test_score', 'split8_test_score', 'split9_test_score', 'mean_test_score', 'std_test_score', 'rank_test_score', 'split0_train_score', 'split1_train_score', 'split2_train_score', 'split3_train_score', 'split4_train_score', 'split5_train_score', 'split6_train_score', 'split7_train_score', 'split8_train_score', 'split9_train_score', 'mean_train_score', 'std_train_score'])"
      ]
     },
     "execution_count": 35,
     "metadata": {},
     "output_type": "execute_result"
    }
   ],
   "source": [
    "grid_model.cv_results_.keys() #시간에 대한정보, 스코어에 대한 정보, split한 각각의 데이터, 파라미터에 대한 정보 등등 다나옴.\n",
    "# 궁극적으로 궁금한건 train_score >> 보기쉽게 DF로 만들자!"
   ]
  },
  {
   "cell_type": "code",
   "execution_count": 36,
   "id": "8ba7f941-ff29-4318-976d-b2c12da38e33",
   "metadata": {},
   "outputs": [],
   "source": [
    "colnames = ['param_n_neighbors','mean_train_score','mean_test_score']"
   ]
  },
  {
   "cell_type": "code",
   "execution_count": 37,
   "id": "6bdfcb2a-66da-40f8-afa0-d5eab09cfe36",
   "metadata": {},
   "outputs": [],
   "source": [
    "grid_df = pd.DataFrame(grid_model.cv_results_, columns = colnames)"
   ]
  },
  {
   "cell_type": "code",
   "execution_count": 38,
   "id": "da4c53a4-df4e-41e7-9213-b379e8f732d9",
   "metadata": {},
   "outputs": [],
   "source": [
    "grid_df.set_index('param_n_neighbors', inplace=True)"
   ]
  },
  {
   "cell_type": "code",
   "execution_count": 29,
   "id": "97b73b51-bd19-4e20-9f29-5af565b20cd0",
   "metadata": {},
   "outputs": [
    {
     "data": {
      "text/html": [
       "<div>\n",
       "<style scoped>\n",
       "    .dataframe tbody tr th:only-of-type {\n",
       "        vertical-align: middle;\n",
       "    }\n",
       "\n",
       "    .dataframe tbody tr th {\n",
       "        vertical-align: top;\n",
       "    }\n",
       "\n",
       "    .dataframe thead th {\n",
       "        text-align: right;\n",
       "    }\n",
       "</style>\n",
       "<table border=\"1\" class=\"dataframe\">\n",
       "  <thead>\n",
       "    <tr style=\"text-align: right;\">\n",
       "      <th></th>\n",
       "      <th>mean_train_score</th>\n",
       "      <th>mean_test_score</th>\n",
       "    </tr>\n",
       "    <tr>\n",
       "      <th>param_n_neighbors</th>\n",
       "      <th></th>\n",
       "      <th></th>\n",
       "    </tr>\n",
       "  </thead>\n",
       "  <tbody>\n",
       "    <tr>\n",
       "      <th>3</th>\n",
       "      <td>0.993322</td>\n",
       "      <td>0.976633</td>\n",
       "    </tr>\n",
       "    <tr>\n",
       "      <th>1</th>\n",
       "      <td>1.000000</td>\n",
       "      <td>0.974963</td>\n",
       "    </tr>\n",
       "    <tr>\n",
       "      <th>2</th>\n",
       "      <td>0.990973</td>\n",
       "      <td>0.974407</td>\n",
       "    </tr>\n",
       "    <tr>\n",
       "      <th>4</th>\n",
       "      <td>0.991776</td>\n",
       "      <td>0.972182</td>\n",
       "    </tr>\n",
       "    <tr>\n",
       "      <th>5</th>\n",
       "      <td>0.990540</td>\n",
       "      <td>0.971074</td>\n",
       "    </tr>\n",
       "    <tr>\n",
       "      <th>6</th>\n",
       "      <td>0.989427</td>\n",
       "      <td>0.968290</td>\n",
       "    </tr>\n",
       "    <tr>\n",
       "      <th>7</th>\n",
       "      <td>0.990107</td>\n",
       "      <td>0.967734</td>\n",
       "    </tr>\n",
       "    <tr>\n",
       "      <th>8</th>\n",
       "      <td>0.988685</td>\n",
       "      <td>0.964944</td>\n",
       "    </tr>\n",
       "    <tr>\n",
       "      <th>9</th>\n",
       "      <td>0.987881</td>\n",
       "      <td>0.964944</td>\n",
       "    </tr>\n",
       "    <tr>\n",
       "      <th>12</th>\n",
       "      <td>0.986583</td>\n",
       "      <td>0.964389</td>\n",
       "    </tr>\n",
       "    <tr>\n",
       "      <th>11</th>\n",
       "      <td>0.987510</td>\n",
       "      <td>0.963827</td>\n",
       "    </tr>\n",
       "    <tr>\n",
       "      <th>13</th>\n",
       "      <td>0.985779</td>\n",
       "      <td>0.963271</td>\n",
       "    </tr>\n",
       "    <tr>\n",
       "      <th>14</th>\n",
       "      <td>0.985037</td>\n",
       "      <td>0.963268</td>\n",
       "    </tr>\n",
       "    <tr>\n",
       "      <th>18</th>\n",
       "      <td>0.982193</td>\n",
       "      <td>0.962716</td>\n",
       "    </tr>\n",
       "    <tr>\n",
       "      <th>10</th>\n",
       "      <td>0.985841</td>\n",
       "      <td>0.962163</td>\n",
       "    </tr>\n",
       "    <tr>\n",
       "      <th>16</th>\n",
       "      <td>0.982996</td>\n",
       "      <td>0.962160</td>\n",
       "    </tr>\n",
       "    <tr>\n",
       "      <th>15</th>\n",
       "      <td>0.984418</td>\n",
       "      <td>0.962157</td>\n",
       "    </tr>\n",
       "    <tr>\n",
       "      <th>19</th>\n",
       "      <td>0.981760</td>\n",
       "      <td>0.962157</td>\n",
       "    </tr>\n",
       "    <tr>\n",
       "      <th>17</th>\n",
       "      <td>0.983058</td>\n",
       "      <td>0.961598</td>\n",
       "    </tr>\n",
       "  </tbody>\n",
       "</table>\n",
       "</div>"
      ],
      "text/plain": [
       "                   mean_train_score  mean_test_score\n",
       "param_n_neighbors                                   \n",
       "3                          0.993322         0.976633\n",
       "1                          1.000000         0.974963\n",
       "2                          0.990973         0.974407\n",
       "4                          0.991776         0.972182\n",
       "5                          0.990540         0.971074\n",
       "6                          0.989427         0.968290\n",
       "7                          0.990107         0.967734\n",
       "8                          0.988685         0.964944\n",
       "9                          0.987881         0.964944\n",
       "12                         0.986583         0.964389\n",
       "11                         0.987510         0.963827\n",
       "13                         0.985779         0.963271\n",
       "14                         0.985037         0.963268\n",
       "18                         0.982193         0.962716\n",
       "10                         0.985841         0.962163\n",
       "16                         0.982996         0.962160\n",
       "15                         0.984418         0.962157\n",
       "19                         0.981760         0.962157\n",
       "17                         0.983058         0.961598"
      ]
     },
     "execution_count": 29,
     "metadata": {},
     "output_type": "execute_result"
    }
   ],
   "source": [
    "grid_df.sort_values(['mean_test_score','mean_train_score'], ascending=False)"
   ]
  },
  {
   "cell_type": "code",
   "execution_count": 32,
   "id": "50c7d037-c5fe-487a-94da-1fdc168ff659",
   "metadata": {},
   "outputs": [
    {
     "data": {
      "image/png": "[encoded data removed]",
      "text/plain": [
       "<Figure size 432x288 with 1 Axes>"
      ]
     },
     "metadata": {
      "needs_background": "light"
     },
     "output_type": "display_data"
    }
   ],
   "source": [
    "ax = grid_df.plot.line(marker='.')\n",
    "ax.set_xticks(grid_df.index); # param_n_neighbors를 1이나 3을 쓰는게 가장 best!"
   ]
  },
  {
   "cell_type": "code",
   "execution_count": 39,
   "id": "00e62128-dd2d-4a35-9538-a190fe81810e",
   "metadata": {},
   "outputs": [
    {
     "data": {
      "text/plain": [
       "KNeighborsClassifier(n_neighbors=3)"
      ]
     },
     "execution_count": 39,
     "metadata": {},
     "output_type": "execute_result"
    }
   ],
   "source": [
    "grid_model.best_estimator_ #한방에 나온다~ best가"
   ]
  },
  {
   "cell_type": "code",
   "execution_count": 40,
   "id": "d1d4f269-0ddd-4e39-b4ea-c80931351646",
   "metadata": {},
   "outputs": [
    {
     "data": {
      "text/plain": [
       "0.9766325263811299"
      ]
     },
     "execution_count": 40,
     "metadata": {},
     "output_type": "execute_result"
    }
   ],
   "source": [
    "grid_model.best_score_ "
   ]
  },
  {
   "cell_type": "code",
   "execution_count": 41,
   "id": "e51f385e-9a85-434b-872a-8dcb34487585",
   "metadata": {},
   "outputs": [
    {
     "data": {
      "text/plain": [
       "{'n_neighbors': 3}"
      ]
     },
     "execution_count": 41,
     "metadata": {},
     "output_type": "execute_result"
    }
   ],
   "source": [
    "grid_model.best_params_ "
   ]
  },
  {
   "cell_type": "code",
   "execution_count": 42,
   "id": "7065afc2-1592-414a-9a38-0d6707dbfcd3",
   "metadata": {},
   "outputs": [
    {
     "data": {
      "text/plain": [
       "2"
      ]
     },
     "execution_count": 42,
     "metadata": {},
     "output_type": "execute_result"
    }
   ],
   "source": [
    "grid_model.best_index_"
   ]
  },
  {
   "cell_type": "code",
   "execution_count": null,
   "id": "0075bfb7-50d3-4baa-a660-942e4f7b3a7c",
   "metadata": {},
   "outputs": [],
   "source": []
  },
  {
   "cell_type": "markdown",
   "id": "50f35ccb-c3af-4753-94cc-37266405b854",
   "metadata": {},
   "source": [
    "------------------------"
   ]
  },
  {
   "cell_type": "code",
   "execution_count": 139,
   "id": "8b9a4e38-45d3-418d-9019-44444adeb59c",
   "metadata": {},
   "outputs": [],
   "source": [
    "grid_knn = GridSearchCV(knn, param_grid=param_grid, cv=2) #cv 2는 반은 test 반은 train "
   ]
  },
  {
   "cell_type": "code",
   "execution_count": 140,
   "id": "be997c08-a16e-42bc-a98e-ca3fb6352d9e",
   "metadata": {},
   "outputs": [],
   "source": [
    "outer_scores=cross_val_score(grid_knn, digits.data, digits.target, cv=5) #cv 5는 train test 를 5번 나눠서함"
   ]
  },
  {
   "cell_type": "code",
   "execution_count": 141,
   "id": "bf66fd0b-79ae-4e5a-8df3-d3695bff5d54",
   "metadata": {},
   "outputs": [
    {
     "data": {
      "text/plain": [
       "array([0.96111111, 0.95277778, 0.96657382, 0.98607242, 0.96657382])"
      ]
     },
     "execution_count": 141,
     "metadata": {},
     "output_type": "execute_result"
    }
   ],
   "source": [
    "outer_scores #따라서 결과가 5개"
   ]
  },
  {
   "cell_type": "code",
   "execution_count": 142,
   "id": "a5a6b225-a0a7-4e9c-a016-c5b25ebcf5ed",
   "metadata": {},
   "outputs": [
    {
     "data": {
      "text/plain": [
       "GridSearchCV(cv=2, estimator=KNeighborsClassifier(),\n",
       "             param_grid={'n_neighbors': range(1, 20)})"
      ]
     },
     "execution_count": 142,
     "metadata": {},
     "output_type": "execute_result"
    }
   ],
   "source": [
    "grid_knn.fit(digits.data, digits.target)"
   ]
  },
  {
   "cell_type": "code",
   "execution_count": 148,
   "id": "f16ff224-3b5f-4cc1-b98b-738fa6446b45",
   "metadata": {},
   "outputs": [],
   "source": [
    "grid_knn.best_estimator_.get_params()"
   ]
  },
  {
   "cell_type": "code",
   "execution_count": 145,
   "id": "8e67331f-87e0-47a8-88b2-94e5d7b601e1",
   "metadata": {},
   "outputs": [
    {
     "data": {
      "text/plain": [
       "0.9610455566813907"
      ]
     },
     "execution_count": 145,
     "metadata": {},
     "output_type": "execute_result"
    }
   ],
   "source": [
    "grid_knn.best_score_"
   ]
  },
  {
   "cell_type": "code",
   "execution_count": 147,
   "id": "5e11f067-04a0-40e7-85bb-fa1294c2cfdf",
   "metadata": {},
   "outputs": [
    {
     "data": {
      "text/plain": [
       "{'n_neighbors': 1}"
      ]
     },
     "execution_count": 147,
     "metadata": {},
     "output_type": "execute_result"
    }
   ],
   "source": [
    "grid_knn.best_params_ "
   ]
  },
  {
   "cell_type": "code",
   "execution_count": 150,
   "id": "ccd18d12-03fb-45ac-b70d-d3f953c36dc9",
   "metadata": {},
   "outputs": [],
   "source": [
    "preferred_params=grid_knn.best_estimator_.get_params()"
   ]
  },
  {
   "cell_type": "code",
   "execution_count": 151,
   "id": "7285cb26-87a3-4442-979d-3dd3a14c46ab",
   "metadata": {},
   "outputs": [],
   "source": [
    "final_knn = KNeighborsClassifier(**preferred_params)"
   ]
  },
  {
   "cell_type": "code",
   "execution_count": 152,
   "id": "08edc14c-0d79-4db9-a880-f8ab0c3f74bd",
   "metadata": {},
   "outputs": [
    {
     "data": {
      "text/plain": [
       "KNeighborsClassifier(n_neighbors=1)"
      ]
     },
     "execution_count": 152,
     "metadata": {},
     "output_type": "execute_result"
    }
   ],
   "source": [
    "final_knn.fit(digits.data, digits.target)"
   ]
  },
  {
   "cell_type": "code",
   "execution_count": 154,
   "id": "5f3d5cce-4b69-471b-98a8-b88a554c2b34",
   "metadata": {},
   "outputs": [
    {
     "data": {
      "text/plain": [
       "1.0"
      ]
     },
     "execution_count": 154,
     "metadata": {},
     "output_type": "execute_result"
    }
   ],
   "source": [
    "final_knn.score(digits.data, digits.target)"
   ]
  },
  {
   "cell_type": "code",
   "execution_count": null,
   "id": "1dac0356-9fe3-4dd6-83fa-6edff54e47d5",
   "metadata": {},
   "outputs": [],
   "source": []
  },
  {
   "cell_type": "code",
   "execution_count": null,
   "id": "6f1dae62-acec-4f24-8f3b-96d144b53472",
   "metadata": {},
   "outputs": [],
   "source": []
  },
  {
   "cell_type": "code",
   "execution_count": null,
   "id": "27d41fbb-4904-410e-96be-21c17e3eeb97",
   "metadata": {},
   "outputs": [],
   "source": []
  },
  {
   "cell_type": "code",
   "execution_count": null,
   "id": "a2fc9805-c735-4a8c-9fa8-e07d0933a2a5",
   "metadata": {},
   "outputs": [],
   "source": []
  },
  {
   "cell_type": "markdown",
   "id": "73146870-2c1e-40e4-ae46-237268648bc5",
   "metadata": {},
   "source": [
    "---------------"
   ]
  },
  {
   "cell_type": "markdown",
   "id": "10ba42e8-f186-493a-b24d-b3dc073dd4e0",
   "metadata": {},
   "source": [
    "## Heart disease 로 해보자~"
   ]
  },
  {
   "cell_type": "code",
   "execution_count": 44,
   "id": "a6e44577-9e46-4692-bbd1-55b87569feaf",
   "metadata": {},
   "outputs": [],
   "source": [
    "heart = pd.read_csv('heart.csv')"
   ]
  },
  {
   "cell_type": "code",
   "execution_count": 45,
   "id": "9195af3c-e690-4534-9de1-c0d6b044aa64",
   "metadata": {},
   "outputs": [
    {
     "data": {
      "text/html": [
       "<div>\n",
       "<style scoped>\n",
       "    .dataframe tbody tr th:only-of-type {\n",
       "        vertical-align: middle;\n",
       "    }\n",
       "\n",
       "    .dataframe tbody tr th {\n",
       "        vertical-align: top;\n",
       "    }\n",
       "\n",
       "    .dataframe thead th {\n",
       "        text-align: right;\n",
       "    }\n",
       "</style>\n",
       "<table border=\"1\" class=\"dataframe\">\n",
       "  <thead>\n",
       "    <tr style=\"text-align: right;\">\n",
       "      <th></th>\n",
       "      <th>age</th>\n",
       "      <th>sex</th>\n",
       "      <th>cp</th>\n",
       "      <th>trestbps</th>\n",
       "      <th>chol</th>\n",
       "      <th>fbs</th>\n",
       "      <th>restecg</th>\n",
       "      <th>thalach</th>\n",
       "      <th>exang</th>\n",
       "      <th>oldpeak</th>\n",
       "      <th>slope</th>\n",
       "      <th>ca</th>\n",
       "      <th>thal</th>\n",
       "      <th>target</th>\n",
       "    </tr>\n",
       "  </thead>\n",
       "  <tbody>\n",
       "    <tr>\n",
       "      <th>0</th>\n",
       "      <td>63</td>\n",
       "      <td>1</td>\n",
       "      <td>3</td>\n",
       "      <td>145</td>\n",
       "      <td>233</td>\n",
       "      <td>1</td>\n",
       "      <td>0</td>\n",
       "      <td>150</td>\n",
       "      <td>0</td>\n",
       "      <td>2.3</td>\n",
       "      <td>0</td>\n",
       "      <td>0</td>\n",
       "      <td>1</td>\n",
       "      <td>1</td>\n",
       "    </tr>\n",
       "    <tr>\n",
       "      <th>1</th>\n",
       "      <td>37</td>\n",
       "      <td>1</td>\n",
       "      <td>2</td>\n",
       "      <td>130</td>\n",
       "      <td>250</td>\n",
       "      <td>0</td>\n",
       "      <td>1</td>\n",
       "      <td>187</td>\n",
       "      <td>0</td>\n",
       "      <td>3.5</td>\n",
       "      <td>0</td>\n",
       "      <td>0</td>\n",
       "      <td>2</td>\n",
       "      <td>1</td>\n",
       "    </tr>\n",
       "    <tr>\n",
       "      <th>2</th>\n",
       "      <td>41</td>\n",
       "      <td>0</td>\n",
       "      <td>1</td>\n",
       "      <td>130</td>\n",
       "      <td>204</td>\n",
       "      <td>0</td>\n",
       "      <td>0</td>\n",
       "      <td>172</td>\n",
       "      <td>0</td>\n",
       "      <td>1.4</td>\n",
       "      <td>2</td>\n",
       "      <td>0</td>\n",
       "      <td>2</td>\n",
       "      <td>1</td>\n",
       "    </tr>\n",
       "    <tr>\n",
       "      <th>3</th>\n",
       "      <td>56</td>\n",
       "      <td>1</td>\n",
       "      <td>1</td>\n",
       "      <td>120</td>\n",
       "      <td>236</td>\n",
       "      <td>0</td>\n",
       "      <td>1</td>\n",
       "      <td>178</td>\n",
       "      <td>0</td>\n",
       "      <td>0.8</td>\n",
       "      <td>2</td>\n",
       "      <td>0</td>\n",
       "      <td>2</td>\n",
       "      <td>1</td>\n",
       "    </tr>\n",
       "    <tr>\n",
       "      <th>4</th>\n",
       "      <td>57</td>\n",
       "      <td>0</td>\n",
       "      <td>0</td>\n",
       "      <td>120</td>\n",
       "      <td>354</td>\n",
       "      <td>0</td>\n",
       "      <td>1</td>\n",
       "      <td>163</td>\n",
       "      <td>1</td>\n",
       "      <td>0.6</td>\n",
       "      <td>2</td>\n",
       "      <td>0</td>\n",
       "      <td>2</td>\n",
       "      <td>1</td>\n",
       "    </tr>\n",
       "    <tr>\n",
       "      <th>...</th>\n",
       "      <td>...</td>\n",
       "      <td>...</td>\n",
       "      <td>...</td>\n",
       "      <td>...</td>\n",
       "      <td>...</td>\n",
       "      <td>...</td>\n",
       "      <td>...</td>\n",
       "      <td>...</td>\n",
       "      <td>...</td>\n",
       "      <td>...</td>\n",
       "      <td>...</td>\n",
       "      <td>...</td>\n",
       "      <td>...</td>\n",
       "      <td>...</td>\n",
       "    </tr>\n",
       "    <tr>\n",
       "      <th>298</th>\n",
       "      <td>57</td>\n",
       "      <td>0</td>\n",
       "      <td>0</td>\n",
       "      <td>140</td>\n",
       "      <td>241</td>\n",
       "      <td>0</td>\n",
       "      <td>1</td>\n",
       "      <td>123</td>\n",
       "      <td>1</td>\n",
       "      <td>0.2</td>\n",
       "      <td>1</td>\n",
       "      <td>0</td>\n",
       "      <td>3</td>\n",
       "      <td>0</td>\n",
       "    </tr>\n",
       "    <tr>\n",
       "      <th>299</th>\n",
       "      <td>45</td>\n",
       "      <td>1</td>\n",
       "      <td>3</td>\n",
       "      <td>110</td>\n",
       "      <td>264</td>\n",
       "      <td>0</td>\n",
       "      <td>1</td>\n",
       "      <td>132</td>\n",
       "      <td>0</td>\n",
       "      <td>1.2</td>\n",
       "      <td>1</td>\n",
       "      <td>0</td>\n",
       "      <td>3</td>\n",
       "      <td>0</td>\n",
       "    </tr>\n",
       "    <tr>\n",
       "      <th>300</th>\n",
       "      <td>68</td>\n",
       "      <td>1</td>\n",
       "      <td>0</td>\n",
       "      <td>144</td>\n",
       "      <td>193</td>\n",
       "      <td>1</td>\n",
       "      <td>1</td>\n",
       "      <td>141</td>\n",
       "      <td>0</td>\n",
       "      <td>3.4</td>\n",
       "      <td>1</td>\n",
       "      <td>2</td>\n",
       "      <td>3</td>\n",
       "      <td>0</td>\n",
       "    </tr>\n",
       "    <tr>\n",
       "      <th>301</th>\n",
       "      <td>57</td>\n",
       "      <td>1</td>\n",
       "      <td>0</td>\n",
       "      <td>130</td>\n",
       "      <td>131</td>\n",
       "      <td>0</td>\n",
       "      <td>1</td>\n",
       "      <td>115</td>\n",
       "      <td>1</td>\n",
       "      <td>1.2</td>\n",
       "      <td>1</td>\n",
       "      <td>1</td>\n",
       "      <td>3</td>\n",
       "      <td>0</td>\n",
       "    </tr>\n",
       "    <tr>\n",
       "      <th>302</th>\n",
       "      <td>57</td>\n",
       "      <td>0</td>\n",
       "      <td>1</td>\n",
       "      <td>130</td>\n",
       "      <td>236</td>\n",
       "      <td>0</td>\n",
       "      <td>0</td>\n",
       "      <td>174</td>\n",
       "      <td>0</td>\n",
       "      <td>0.0</td>\n",
       "      <td>1</td>\n",
       "      <td>1</td>\n",
       "      <td>2</td>\n",
       "      <td>0</td>\n",
       "    </tr>\n",
       "  </tbody>\n",
       "</table>\n",
       "<p>303 rows × 14 columns</p>\n",
       "</div>"
      ],
      "text/plain": [
       "     age  sex  cp  trestbps  chol  fbs  restecg  thalach  exang  oldpeak  \\\n",
       "0     63    1   3       145   233    1        0      150      0      2.3   \n",
       "1     37    1   2       130   250    0        1      187      0      3.5   \n",
       "2     41    0   1       130   204    0        0      172      0      1.4   \n",
       "3     56    1   1       120   236    0        1      178      0      0.8   \n",
       "4     57    0   0       120   354    0        1      163      1      0.6   \n",
       "..   ...  ...  ..       ...   ...  ...      ...      ...    ...      ...   \n",
       "298   57    0   0       140   241    0        1      123      1      0.2   \n",
       "299   45    1   3       110   264    0        1      132      0      1.2   \n",
       "300   68    1   0       144   193    1        1      141      0      3.4   \n",
       "301   57    1   0       130   131    0        1      115      1      1.2   \n",
       "302   57    0   1       130   236    0        0      174      0      0.0   \n",
       "\n",
       "     slope  ca  thal  target  \n",
       "0        0   0     1       1  \n",
       "1        0   0     2       1  \n",
       "2        2   0     2       1  \n",
       "3        2   0     2       1  \n",
       "4        2   0     2       1  \n",
       "..     ...  ..   ...     ...  \n",
       "298      1   0     3       0  \n",
       "299      1   0     3       0  \n",
       "300      1   2     3       0  \n",
       "301      1   1     3       0  \n",
       "302      1   1     2       0  \n",
       "\n",
       "[303 rows x 14 columns]"
      ]
     },
     "execution_count": 45,
     "metadata": {},
     "output_type": "execute_result"
    }
   ],
   "source": [
    "heart"
   ]
  },
  {
   "cell_type": "code",
   "execution_count": 46,
   "id": "56311c1a-024f-4c61-8121-36407b1cebdc",
   "metadata": {},
   "outputs": [],
   "source": [
    "knn = KNeighborsClassifier()"
   ]
  },
  {
   "cell_type": "code",
   "execution_count": 120,
   "id": "c6af97f9-21e4-41e1-b33d-68cff5eb13fb",
   "metadata": {},
   "outputs": [
    {
     "data": {
      "text/plain": [
       "dict_keys(['algorithm', 'leaf_size', 'metric', 'metric_params', 'n_jobs', 'n_neighbors', 'p', 'weights'])"
      ]
     },
     "execution_count": 120,
     "metadata": {},
     "output_type": "execute_result"
    }
   ],
   "source": [
    "knn.get_params().keys()"
   ]
  },
  {
   "cell_type": "code",
   "execution_count": 49,
   "id": "4261de5c-8026-49b4-bcb0-1b7a3dd9f46c",
   "metadata": {},
   "outputs": [],
   "source": [
    "grid_model = GridSearchCV(knn, return_train_score=True, param_grid = param_grid, cv=10, verbose=3 )"
   ]
  },
  {
   "cell_type": "code",
   "execution_count": 107,
   "id": "a75f65a4-878e-4b2f-9bbb-ec2efcb0b54d",
   "metadata": {},
   "outputs": [
    {
     "data": {
      "text/plain": [
       "dict_keys(['cv', 'error_score', 'estimator__algorithm', 'estimator__leaf_size', 'estimator__metric', 'estimator__metric_params', 'estimator__n_jobs', 'estimator__n_neighbors', 'estimator__p', 'estimator__weights', 'estimator', 'n_jobs', 'param_grid', 'pre_dispatch', 'refit', 'return_train_score', 'scoring', 'verbose'])"
      ]
     },
     "execution_count": 107,
     "metadata": {},
     "output_type": "execute_result"
    }
   ],
   "source": [
    "grid_model.get_params().keys()"
   ]
  },
  {
   "cell_type": "code",
   "execution_count": 51,
   "id": "9d214778-7b98-42a6-9472-870a96e7c1c5",
   "metadata": {
    "collapsed": true,
    "jupyter": {
     "outputs_hidden": true
    },
    "tags": []
   },
   "outputs": [
    {
     "name": "stdout",
     "output_type": "stream",
     "text": [
      "Fitting 10 folds for each of 19 candidates, totalling 190 fits\n",
      "[CV 1/10] END n_neighbors=1;, score=(train=1.000, test=0.742) total time=   0.0s\n",
      "[CV 2/10] END n_neighbors=1;, score=(train=1.000, test=0.645) total time=   0.0s\n",
      "[CV 3/10] END n_neighbors=1;, score=(train=1.000, test=0.258) total time=   0.0s\n",
      "[CV 4/10] END n_neighbors=1;, score=(train=1.000, test=0.633) total time=   0.0s\n",
      "[CV 5/10] END n_neighbors=1;, score=(train=1.000, test=0.567) total time=   0.0s\n",
      "[CV 6/10] END n_neighbors=1;, score=(train=1.000, test=0.500) total time=   0.0s\n",
      "[CV 7/10] END n_neighbors=1;, score=(train=1.000, test=0.633) total time=   0.0s\n",
      "[CV 8/10] END n_neighbors=1;, score=(train=1.000, test=0.733) total time=   0.0s\n",
      "[CV 9/10] END n_neighbors=1;, score=(train=1.000, test=0.633) total time=   0.0s\n",
      "[CV 10/10] END n_neighbors=1;, score=(train=1.000, test=0.600) total time=   0.0s\n",
      "[CV 1/10] END n_neighbors=2;, score=(train=0.790, test=0.645) total time=   0.0s\n",
      "[CV 2/10] END n_neighbors=2;, score=(train=0.805, test=0.581) total time=   0.0s\n",
      "[CV 3/10] END n_neighbors=2;, score=(train=0.831, test=0.387) total time=   0.0s\n",
      "[CV 4/10] END n_neighbors=2;, score=(train=0.817, test=0.533) total time=   0.0s\n",
      "[CV 5/10] END n_neighbors=2;, score=(train=0.810, test=0.600) total time=   0.0s\n",
      "[CV 6/10] END n_neighbors=2;, score=(train=0.824, test=0.500) total time=   0.0s\n",
      "[CV 7/10] END n_neighbors=2;, score=(train=0.806, test=0.700) total time=   0.0s\n",
      "[CV 8/10] END n_neighbors=2;, score=(train=0.795, test=0.633) total time=   0.0s\n",
      "[CV 9/10] END n_neighbors=2;, score=(train=0.813, test=0.500) total time=   0.0s\n",
      "[CV 10/10] END n_neighbors=2;, score=(train=0.802, test=0.633) total time=   0.0s\n",
      "[CV 1/10] END n_neighbors=3;, score=(train=0.746, test=0.710) total time=   0.0s\n",
      "[CV 2/10] END n_neighbors=3;, score=(train=0.768, test=0.645) total time=   0.0s\n",
      "[CV 3/10] END n_neighbors=3;, score=(train=0.776, test=0.484) total time=   0.0s\n",
      "[CV 4/10] END n_neighbors=3;, score=(train=0.766, test=0.633) total time=   0.0s\n",
      "[CV 5/10] END n_neighbors=3;, score=(train=0.784, test=0.567) total time=   0.0s\n",
      "[CV 6/10] END n_neighbors=3;, score=(train=0.780, test=0.533) total time=   0.0s\n",
      "[CV 7/10] END n_neighbors=3;, score=(train=0.773, test=0.667) total time=   0.0s\n",
      "[CV 8/10] END n_neighbors=3;, score=(train=0.773, test=0.700) total time=   0.0s\n",
      "[CV 9/10] END n_neighbors=3;, score=(train=0.791, test=0.600) total time=   0.0s\n",
      "[CV 10/10] END n_neighbors=3;, score=(train=0.777, test=0.733) total time=   0.0s\n",
      "[CV 1/10] END n_neighbors=4;, score=(train=0.746, test=0.677) total time=   0.0s\n",
      "[CV 2/10] END n_neighbors=4;, score=(train=0.768, test=0.645) total time=   0.0s\n",
      "[CV 3/10] END n_neighbors=4;, score=(train=0.790, test=0.516) total time=   0.0s\n",
      "[CV 4/10] END n_neighbors=4;, score=(train=0.758, test=0.533) total time=   0.0s\n",
      "[CV 5/10] END n_neighbors=4;, score=(train=0.769, test=0.600) total time=   0.0s\n",
      "[CV 6/10] END n_neighbors=4;, score=(train=0.780, test=0.500) total time=   0.0s\n",
      "[CV 7/10] END n_neighbors=4;, score=(train=0.769, test=0.733) total time=   0.0s\n",
      "[CV 8/10] END n_neighbors=4;, score=(train=0.755, test=0.667) total time=   0.0s\n",
      "[CV 9/10] END n_neighbors=4;, score=(train=0.780, test=0.500) total time=   0.0s\n",
      "[CV 10/10] END n_neighbors=4;, score=(train=0.744, test=0.667) total time=   0.0s\n",
      "[CV 1/10] END n_neighbors=5;, score=(train=0.761, test=0.710) total time=   0.0s\n",
      "[CV 2/10] END n_neighbors=5;, score=(train=0.768, test=0.677) total time=   0.0s\n",
      "[CV 3/10] END n_neighbors=5;, score=(train=0.772, test=0.548) total time=   0.0s\n",
      "[CV 4/10] END n_neighbors=5;, score=(train=0.758, test=0.633) total time=   0.0s\n",
      "[CV 5/10] END n_neighbors=5;, score=(train=0.769, test=0.633) total time=   0.0s\n",
      "[CV 6/10] END n_neighbors=5;, score=(train=0.773, test=0.567) total time=   0.0s\n",
      "[CV 7/10] END n_neighbors=5;, score=(train=0.766, test=0.767) total time=   0.0s\n",
      "[CV 8/10] END n_neighbors=5;, score=(train=0.766, test=0.700) total time=   0.0s\n",
      "[CV 9/10] END n_neighbors=5;, score=(train=0.777, test=0.533) total time=   0.0s\n",
      "[CV 10/10] END n_neighbors=5;, score=(train=0.766, test=0.767) total time=   0.0s\n",
      "[CV 1/10] END n_neighbors=6;, score=(train=0.746, test=0.677) total time=   0.0s\n",
      "[CV 2/10] END n_neighbors=6;, score=(train=0.768, test=0.645) total time=   0.0s\n",
      "[CV 3/10] END n_neighbors=6;, score=(train=0.772, test=0.581) total time=   0.0s\n",
      "[CV 4/10] END n_neighbors=6;, score=(train=0.755, test=0.633) total time=   0.0s\n",
      "[CV 5/10] END n_neighbors=6;, score=(train=0.769, test=0.667) total time=   0.0s\n",
      "[CV 6/10] END n_neighbors=6;, score=(train=0.769, test=0.567) total time=   0.0s\n",
      "[CV 7/10] END n_neighbors=6;, score=(train=0.762, test=0.733) total time=   0.0s\n",
      "[CV 8/10] END n_neighbors=6;, score=(train=0.773, test=0.767) total time=   0.0s\n",
      "[CV 9/10] END n_neighbors=6;, score=(train=0.784, test=0.533) total time=   0.0s\n",
      "[CV 10/10] END n_neighbors=6;, score=(train=0.762, test=0.767) total time=   0.0s\n",
      "[CV 1/10] END n_neighbors=7;, score=(train=0.732, test=0.645) total time=   0.0s\n",
      "[CV 2/10] END n_neighbors=7;, score=(train=0.746, test=0.710) total time=   0.0s\n",
      "[CV 3/10] END n_neighbors=7;, score=(train=0.768, test=0.613) total time=   0.0s\n",
      "[CV 4/10] END n_neighbors=7;, score=(train=0.736, test=0.700) total time=   0.0s\n",
      "[CV 5/10] END n_neighbors=7;, score=(train=0.747, test=0.667) total time=   0.0s\n",
      "[CV 6/10] END n_neighbors=7;, score=(train=0.747, test=0.567) total time=   0.0s\n",
      "[CV 7/10] END n_neighbors=7;, score=(train=0.755, test=0.700) total time=   0.0s\n",
      "[CV 8/10] END n_neighbors=7;, score=(train=0.740, test=0.767) total time=   0.0s\n",
      "[CV 9/10] END n_neighbors=7;, score=(train=0.766, test=0.567) total time=   0.0s\n",
      "[CV 10/10] END n_neighbors=7;, score=(train=0.733, test=0.800) total time=   0.0s\n",
      "[CV 1/10] END n_neighbors=8;, score=(train=0.721, test=0.613) total time=   0.0s\n",
      "[CV 2/10] END n_neighbors=8;, score=(train=0.735, test=0.645) total time=   0.0s\n",
      "[CV 3/10] END n_neighbors=8;, score=(train=0.746, test=0.613) total time=   0.0s\n",
      "[CV 4/10] END n_neighbors=8;, score=(train=0.744, test=0.700) total time=   0.0s\n",
      "[CV 5/10] END n_neighbors=8;, score=(train=0.733, test=0.700) total time=   0.0s\n",
      "[CV 6/10] END n_neighbors=8;, score=(train=0.740, test=0.567) total time=   0.0s\n",
      "[CV 7/10] END n_neighbors=8;, score=(train=0.729, test=0.700) total time=   0.0s\n",
      "[CV 8/10] END n_neighbors=8;, score=(train=0.740, test=0.767) total time=   0.0s\n",
      "[CV 9/10] END n_neighbors=8;, score=(train=0.758, test=0.567) total time=   0.0s\n",
      "[CV 10/10] END n_neighbors=8;, score=(train=0.729, test=0.667) total time=   0.0s\n",
      "[CV 1/10] END n_neighbors=9;, score=(train=0.721, test=0.645) total time=   0.0s\n",
      "[CV 2/10] END n_neighbors=9;, score=(train=0.717, test=0.645) total time=   0.0s\n",
      "[CV 3/10] END n_neighbors=9;, score=(train=0.743, test=0.581) total time=   0.0s\n",
      "[CV 4/10] END n_neighbors=9;, score=(train=0.718, test=0.700) total time=   0.0s\n",
      "[CV 5/10] END n_neighbors=9;, score=(train=0.714, test=0.667) total time=   0.0s\n",
      "[CV 6/10] END n_neighbors=9;, score=(train=0.736, test=0.600) total time=   0.0s\n",
      "[CV 7/10] END n_neighbors=9;, score=(train=0.736, test=0.700) total time=   0.0s\n",
      "[CV 8/10] END n_neighbors=9;, score=(train=0.718, test=0.767) total time=   0.0s\n",
      "[CV 9/10] END n_neighbors=9;, score=(train=0.744, test=0.567) total time=   0.0s\n",
      "[CV 10/10] END n_neighbors=9;, score=(train=0.736, test=0.733) total time=   0.0s\n",
      "[CV 1/10] END n_neighbors=10;, score=(train=0.702, test=0.613) total time=   0.0s\n",
      "[CV 2/10] END n_neighbors=10;, score=(train=0.710, test=0.548) total time=   0.0s\n",
      "[CV 3/10] END n_neighbors=10;, score=(train=0.724, test=0.613) total time=   0.0s\n",
      "[CV 4/10] END n_neighbors=10;, score=(train=0.711, test=0.733) total time=   0.0s\n",
      "[CV 5/10] END n_neighbors=10;, score=(train=0.703, test=0.767) total time=   0.0s\n",
      "[CV 6/10] END n_neighbors=10;, score=(train=0.718, test=0.533) total time=   0.0s\n",
      "[CV 7/10] END n_neighbors=10;, score=(train=0.729, test=0.667) total time=   0.0s\n",
      "[CV 8/10] END n_neighbors=10;, score=(train=0.711, test=0.767) total time=   0.0s\n",
      "[CV 9/10] END n_neighbors=10;, score=(train=0.729, test=0.533) total time=   0.0s\n",
      "[CV 10/10] END n_neighbors=10;, score=(train=0.700, test=0.633) total time=   0.0s\n",
      "[CV 1/10] END n_neighbors=11;, score=(train=0.699, test=0.710) total time=   0.0s\n",
      "[CV 2/10] END n_neighbors=11;, score=(train=0.706, test=0.645) total time=   0.0s\n",
      "[CV 3/10] END n_neighbors=11;, score=(train=0.732, test=0.581) total time=   0.0s\n",
      "[CV 4/10] END n_neighbors=11;, score=(train=0.725, test=0.733) total time=   0.0s\n",
      "[CV 5/10] END n_neighbors=11;, score=(train=0.707, test=0.733) total time=   0.0s\n",
      "[CV 6/10] END n_neighbors=11;, score=(train=0.729, test=0.600) total time=   0.0s\n",
      "[CV 7/10] END n_neighbors=11;, score=(train=0.725, test=0.633) total time=   0.0s\n",
      "[CV 8/10] END n_neighbors=11;, score=(train=0.718, test=0.833) total time=   0.0s\n",
      "[CV 9/10] END n_neighbors=11;, score=(train=0.722, test=0.567) total time=   0.0s\n",
      "[CV 10/10] END n_neighbors=11;, score=(train=0.703, test=0.667) total time=   0.0s\n",
      "[CV 1/10] END n_neighbors=12;, score=(train=0.713, test=0.613) total time=   0.0s\n",
      "[CV 2/10] END n_neighbors=12;, score=(train=0.710, test=0.613) total time=   0.0s\n",
      "[CV 3/10] END n_neighbors=12;, score=(train=0.713, test=0.645) total time=   0.0s\n",
      "[CV 4/10] END n_neighbors=12;, score=(train=0.711, test=0.733) total time=   0.0s\n",
      "[CV 5/10] END n_neighbors=12;, score=(train=0.685, test=0.800) total time=   0.0s\n",
      "[CV 6/10] END n_neighbors=12;, score=(train=0.714, test=0.567) total time=   0.0s\n",
      "[CV 7/10] END n_neighbors=12;, score=(train=0.718, test=0.667) total time=   0.0s\n",
      "[CV 8/10] END n_neighbors=12;, score=(train=0.700, test=0.833) total time=   0.0s\n",
      "[CV 9/10] END n_neighbors=12;, score=(train=0.725, test=0.567) total time=   0.0s\n",
      "[CV 10/10] END n_neighbors=12;, score=(train=0.689, test=0.667) total time=   0.0s\n",
      "[CV 1/10] END n_neighbors=13;, score=(train=0.699, test=0.677) total time=   0.0s\n",
      "[CV 2/10] END n_neighbors=13;, score=(train=0.710, test=0.613) total time=   0.0s\n",
      "[CV 3/10] END n_neighbors=13;, score=(train=0.717, test=0.548) total time=   0.0s\n",
      "[CV 4/10] END n_neighbors=13;, score=(train=0.703, test=0.733) total time=   0.0s\n",
      "[CV 5/10] END n_neighbors=13;, score=(train=0.681, test=0.800) total time=   0.0s\n",
      "[CV 6/10] END n_neighbors=13;, score=(train=0.714, test=0.567) total time=   0.0s\n",
      "[CV 7/10] END n_neighbors=13;, score=(train=0.718, test=0.700) total time=   0.0s\n",
      "[CV 8/10] END n_neighbors=13;, score=(train=0.703, test=0.767) total time=   0.0s\n",
      "[CV 9/10] END n_neighbors=13;, score=(train=0.696, test=0.567) total time=   0.0s\n",
      "[CV 10/10] END n_neighbors=13;, score=(train=0.696, test=0.633) total time=   0.0s\n",
      "[CV 1/10] END n_neighbors=14;, score=(train=0.710, test=0.645) total time=   0.0s\n",
      "[CV 2/10] END n_neighbors=14;, score=(train=0.717, test=0.613) total time=   0.0s\n",
      "[CV 3/10] END n_neighbors=14;, score=(train=0.713, test=0.613) total time=   0.0s\n",
      "[CV 4/10] END n_neighbors=14;, score=(train=0.718, test=0.733) total time=   0.0s\n",
      "[CV 5/10] END n_neighbors=14;, score=(train=0.678, test=0.833) total time=   0.0s\n",
      "[CV 6/10] END n_neighbors=14;, score=(train=0.718, test=0.600) total time=   0.0s\n",
      "[CV 7/10] END n_neighbors=14;, score=(train=0.722, test=0.700) total time=   0.0s\n",
      "[CV 8/10] END n_neighbors=14;, score=(train=0.692, test=0.767) total time=   0.0s\n",
      "[CV 9/10] END n_neighbors=14;, score=(train=0.703, test=0.567) total time=   0.0s\n",
      "[CV 10/10] END n_neighbors=14;, score=(train=0.685, test=0.633) total time=   0.0s\n",
      "[CV 1/10] END n_neighbors=15;, score=(train=0.684, test=0.677) total time=   0.0s\n",
      "[CV 2/10] END n_neighbors=15;, score=(train=0.713, test=0.613) total time=   0.0s\n",
      "[CV 3/10] END n_neighbors=15;, score=(train=0.717, test=0.548) total time=   0.0s\n",
      "[CV 4/10] END n_neighbors=15;, score=(train=0.685, test=0.733) total time=   0.0s\n",
      "[CV 5/10] END n_neighbors=15;, score=(train=0.681, test=0.833) total time=   0.0s\n",
      "[CV 6/10] END n_neighbors=15;, score=(train=0.725, test=0.600) total time=   0.0s\n",
      "[CV 7/10] END n_neighbors=15;, score=(train=0.700, test=0.667) total time=   0.0s\n",
      "[CV 8/10] END n_neighbors=15;, score=(train=0.692, test=0.767) total time=   0.0s\n",
      "[CV 9/10] END n_neighbors=15;, score=(train=0.703, test=0.600) total time=   0.0s\n",
      "[CV 10/10] END n_neighbors=15;, score=(train=0.667, test=0.667) total time=   0.0s\n",
      "[CV 1/10] END n_neighbors=16;, score=(train=0.713, test=0.710) total time=   0.0s\n",
      "[CV 2/10] END n_neighbors=16;, score=(train=0.713, test=0.613) total time=   0.0s\n",
      "[CV 3/10] END n_neighbors=16;, score=(train=0.695, test=0.613) total time=   0.0s\n",
      "[CV 4/10] END n_neighbors=16;, score=(train=0.700, test=0.700) total time=   0.0s\n",
      "[CV 5/10] END n_neighbors=16;, score=(train=0.678, test=0.833) total time=   0.0s\n",
      "[CV 6/10] END n_neighbors=16;, score=(train=0.722, test=0.633) total time=   0.0s\n",
      "[CV 7/10] END n_neighbors=16;, score=(train=0.692, test=0.600) total time=   0.0s\n",
      "[CV 8/10] END n_neighbors=16;, score=(train=0.692, test=0.767) total time=   0.0s\n",
      "[CV 9/10] END n_neighbors=16;, score=(train=0.696, test=0.533) total time=   0.0s\n",
      "[CV 10/10] END n_neighbors=16;, score=(train=0.674, test=0.667) total time=   0.0s\n",
      "[CV 1/10] END n_neighbors=17;, score=(train=0.695, test=0.710) total time=   0.0s\n",
      "[CV 2/10] END n_neighbors=17;, score=(train=0.717, test=0.645) total time=   0.0s\n",
      "[CV 3/10] END n_neighbors=17;, score=(train=0.702, test=0.613) total time=   0.0s\n",
      "[CV 4/10] END n_neighbors=17;, score=(train=0.711, test=0.700) total time=   0.0s\n",
      "[CV 5/10] END n_neighbors=17;, score=(train=0.678, test=0.800) total time=   0.0s\n",
      "[CV 6/10] END n_neighbors=17;, score=(train=0.718, test=0.600) total time=   0.0s\n",
      "[CV 7/10] END n_neighbors=17;, score=(train=0.685, test=0.600) total time=   0.0s\n",
      "[CV 8/10] END n_neighbors=17;, score=(train=0.696, test=0.767) total time=   0.0s\n",
      "[CV 9/10] END n_neighbors=17;, score=(train=0.696, test=0.533) total time=   0.0s\n",
      "[CV 10/10] END n_neighbors=17;, score=(train=0.685, test=0.667) total time=   0.0s\n",
      "[CV 1/10] END n_neighbors=18;, score=(train=0.702, test=0.677) total time=   0.0s\n",
      "[CV 2/10] END n_neighbors=18;, score=(train=0.702, test=0.581) total time=   0.0s\n",
      "[CV 3/10] END n_neighbors=18;, score=(train=0.695, test=0.613) total time=   0.0s\n",
      "[CV 4/10] END n_neighbors=18;, score=(train=0.711, test=0.633) total time=   0.0s\n",
      "[CV 5/10] END n_neighbors=18;, score=(train=0.663, test=0.867) total time=   0.0s\n",
      "[CV 6/10] END n_neighbors=18;, score=(train=0.700, test=0.600) total time=   0.0s\n",
      "[CV 7/10] END n_neighbors=18;, score=(train=0.681, test=0.600) total time=   0.0s\n",
      "[CV 8/10] END n_neighbors=18;, score=(train=0.700, test=0.767) total time=   0.0s\n",
      "[CV 9/10] END n_neighbors=18;, score=(train=0.700, test=0.467) total time=   0.0s\n",
      "[CV 10/10] END n_neighbors=18;, score=(train=0.678, test=0.700) total time=   0.0s\n",
      "[CV 1/10] END n_neighbors=19;, score=(train=0.706, test=0.710) total time=   0.0s\n",
      "[CV 2/10] END n_neighbors=19;, score=(train=0.688, test=0.677) total time=   0.0s\n",
      "[CV 3/10] END n_neighbors=19;, score=(train=0.699, test=0.613) total time=   0.0s\n",
      "[CV 4/10] END n_neighbors=19;, score=(train=0.700, test=0.700) total time=   0.0s\n",
      "[CV 5/10] END n_neighbors=19;, score=(train=0.681, test=0.767) total time=   0.0s\n",
      "[CV 6/10] END n_neighbors=19;, score=(train=0.711, test=0.600) total time=   0.0s\n",
      "[CV 7/10] END n_neighbors=19;, score=(train=0.681, test=0.633) total time=   0.0s\n",
      "[CV 8/10] END n_neighbors=19;, score=(train=0.685, test=0.767) total time=   0.0s\n",
      "[CV 9/10] END n_neighbors=19;, score=(train=0.703, test=0.533) total time=   0.0s\n",
      "[CV 10/10] END n_neighbors=19;, score=(train=0.689, test=0.633) total time=   0.0s\n"
     ]
    },
    {
     "data": {
      "text/plain": [
       "GridSearchCV(cv=10, estimator=KNeighborsClassifier(),\n",
       "             param_grid={'n_neighbors': range(1, 20)}, return_train_score=True,\n",
       "             verbose=3)"
      ]
     },
     "execution_count": 51,
     "metadata": {},
     "output_type": "execute_result"
    }
   ],
   "source": [
    "grid_model.fit(heart, heart.target)"
   ]
  },
  {
   "cell_type": "code",
   "execution_count": 52,
   "id": "fcc0ba60-03c1-4c06-a337-5d5d40337a15",
   "metadata": {},
   "outputs": [
    {
     "data": {
      "text/plain": [
       "dict_keys(['mean_fit_time', 'std_fit_time', 'mean_score_time', 'std_score_time', 'param_n_neighbors', 'params', 'split0_test_score', 'split1_test_score', 'split2_test_score', 'split3_test_score', 'split4_test_score', 'split5_test_score', 'split6_test_score', 'split7_test_score', 'split8_test_score', 'split9_test_score', 'mean_test_score', 'std_test_score', 'rank_test_score', 'split0_train_score', 'split1_train_score', 'split2_train_score', 'split3_train_score', 'split4_train_score', 'split5_train_score', 'split6_train_score', 'split7_train_score', 'split8_train_score', 'split9_train_score', 'mean_train_score', 'std_train_score'])"
      ]
     },
     "execution_count": 52,
     "metadata": {},
     "output_type": "execute_result"
    }
   ],
   "source": [
    "grid_model.cv_results_.keys()"
   ]
  },
  {
   "cell_type": "code",
   "execution_count": null,
   "id": "89ed624b-d264-4716-b2e8-610238d1b825",
   "metadata": {},
   "outputs": [],
   "source": []
  },
  {
   "cell_type": "code",
   "execution_count": 108,
   "id": "a950608d-432e-4f02-8b00-628a71cd507a",
   "metadata": {},
   "outputs": [],
   "source": [
    "colnames = ['cv','mean_train_score','mean_test_score']"
   ]
  },
  {
   "cell_type": "code",
   "execution_count": 109,
   "id": "f17edab3-2794-412a-864f-74d130a595e4",
   "metadata": {},
   "outputs": [],
   "source": [
    "grid_df = pd.DataFrame(grid_model.cv_results_, columns = colnames)"
   ]
  },
  {
   "cell_type": "code",
   "execution_count": 111,
   "id": "1dd7e94c-ef0c-4dd7-be45-e8ff394abd9a",
   "metadata": {
    "tags": []
   },
   "outputs": [],
   "source": [
    "grid_df.set_index('cv', inplace=True)"
   ]
  },
  {
   "cell_type": "code",
   "execution_count": 112,
   "id": "19f6bc7d-d006-428e-8ff2-464f7ea44235",
   "metadata": {},
   "outputs": [
    {
     "data": {
      "text/html": [
       "<div>\n",
       "<style scoped>\n",
       "    .dataframe tbody tr th:only-of-type {\n",
       "        vertical-align: middle;\n",
       "    }\n",
       "\n",
       "    .dataframe tbody tr th {\n",
       "        vertical-align: top;\n",
       "    }\n",
       "\n",
       "    .dataframe thead th {\n",
       "        text-align: right;\n",
       "    }\n",
       "</style>\n",
       "<table border=\"1\" class=\"dataframe\">\n",
       "  <thead>\n",
       "    <tr style=\"text-align: right;\">\n",
       "      <th></th>\n",
       "      <th>mean_train_score</th>\n",
       "      <th>mean_test_score</th>\n",
       "    </tr>\n",
       "    <tr>\n",
       "      <th>cv</th>\n",
       "      <th></th>\n",
       "      <th></th>\n",
       "    </tr>\n",
       "  </thead>\n",
       "  <tbody>\n",
       "    <tr>\n",
       "      <th>NaN</th>\n",
       "      <td>1.000000</td>\n",
       "      <td>0.809831</td>\n",
       "    </tr>\n",
       "    <tr>\n",
       "      <th>NaN</th>\n",
       "      <td>0.864258</td>\n",
       "      <td>0.662743</td>\n",
       "    </tr>\n",
       "    <tr>\n",
       "      <th>NaN</th>\n",
       "      <td>0.758487</td>\n",
       "      <td>0.515628</td>\n",
       "    </tr>\n",
       "    <tr>\n",
       "      <th>NaN</th>\n",
       "      <td>0.674768</td>\n",
       "      <td>0.452349</td>\n",
       "    </tr>\n",
       "    <tr>\n",
       "      <th>NaN</th>\n",
       "      <td>0.587655</td>\n",
       "      <td>0.386823</td>\n",
       "    </tr>\n",
       "    <tr>\n",
       "      <th>NaN</th>\n",
       "      <td>0.488096</td>\n",
       "      <td>0.318973</td>\n",
       "    </tr>\n",
       "    <tr>\n",
       "      <th>NaN</th>\n",
       "      <td>0.411741</td>\n",
       "      <td>0.257840</td>\n",
       "    </tr>\n",
       "    <tr>\n",
       "      <th>NaN</th>\n",
       "      <td>0.376689</td>\n",
       "      <td>0.232891</td>\n",
       "    </tr>\n",
       "    <tr>\n",
       "      <th>NaN</th>\n",
       "      <td>0.333151</td>\n",
       "      <td>0.216982</td>\n",
       "    </tr>\n",
       "    <tr>\n",
       "      <th>NaN</th>\n",
       "      <td>0.298081</td>\n",
       "      <td>0.187564</td>\n",
       "    </tr>\n",
       "    <tr>\n",
       "      <th>NaN</th>\n",
       "      <td>0.272617</td>\n",
       "      <td>0.164990</td>\n",
       "    </tr>\n",
       "    <tr>\n",
       "      <th>NaN</th>\n",
       "      <td>0.250550</td>\n",
       "      <td>0.149183</td>\n",
       "    </tr>\n",
       "    <tr>\n",
       "      <th>NaN</th>\n",
       "      <td>0.232439</td>\n",
       "      <td>0.131129</td>\n",
       "    </tr>\n",
       "    <tr>\n",
       "      <th>NaN</th>\n",
       "      <td>0.212077</td>\n",
       "      <td>0.117594</td>\n",
       "    </tr>\n",
       "    <tr>\n",
       "      <th>NaN</th>\n",
       "      <td>0.200200</td>\n",
       "      <td>0.106307</td>\n",
       "    </tr>\n",
       "    <tr>\n",
       "      <th>NaN</th>\n",
       "      <td>0.181543</td>\n",
       "      <td>0.090449</td>\n",
       "    </tr>\n",
       "    <tr>\n",
       "      <th>NaN</th>\n",
       "      <td>0.167400</td>\n",
       "      <td>0.083682</td>\n",
       "    </tr>\n",
       "    <tr>\n",
       "      <th>NaN</th>\n",
       "      <td>0.160055</td>\n",
       "      <td>0.076864</td>\n",
       "    </tr>\n",
       "    <tr>\n",
       "      <th>NaN</th>\n",
       "      <td>0.153840</td>\n",
       "      <td>0.076864</td>\n",
       "    </tr>\n",
       "  </tbody>\n",
       "</table>\n",
       "</div>"
      ],
      "text/plain": [
       "     mean_train_score  mean_test_score\n",
       "cv                                    \n",
       "NaN          1.000000         0.809831\n",
       "NaN          0.864258         0.662743\n",
       "NaN          0.758487         0.515628\n",
       "NaN          0.674768         0.452349\n",
       "NaN          0.587655         0.386823\n",
       "NaN          0.488096         0.318973\n",
       "NaN          0.411741         0.257840\n",
       "NaN          0.376689         0.232891\n",
       "NaN          0.333151         0.216982\n",
       "NaN          0.298081         0.187564\n",
       "NaN          0.272617         0.164990\n",
       "NaN          0.250550         0.149183\n",
       "NaN          0.232439         0.131129\n",
       "NaN          0.212077         0.117594\n",
       "NaN          0.200200         0.106307\n",
       "NaN          0.181543         0.090449\n",
       "NaN          0.167400         0.083682\n",
       "NaN          0.160055         0.076864\n",
       "NaN          0.153840         0.076864"
      ]
     },
     "execution_count": 112,
     "metadata": {},
     "output_type": "execute_result"
    }
   ],
   "source": [
    "grid_df.sort_values(['mean_test_score','mean_train_score'], ascending=False)"
   ]
  },
  {
   "cell_type": "code",
   "execution_count": 57,
   "id": "389e5ee2-d1b4-42f4-8d1c-7da6bbd4d775",
   "metadata": {},
   "outputs": [
    {
     "data": {
      "image/png": "[encoded data removed]",
      "text/plain": [
       "<Figure size 432x288 with 1 Axes>"
      ]
     },
     "metadata": {
      "needs_background": "light"
     },
     "output_type": "display_data"
    }
   ],
   "source": [
    "ax = grid_df.plot.line(marker='.')\n",
    "ax.set_xticks(grid_df.index); # param_n_neighbors를 1이나 3을 쓰는게 가장 best!"
   ]
  },
  {
   "cell_type": "code",
   "execution_count": 113,
   "id": "f3a631c3-1d28-4cbe-bd70-81dbab426721",
   "metadata": {},
   "outputs": [
    {
     "data": {
      "text/plain": [
       "KNeighborsClassifier(n_neighbors=1)"
      ]
     },
     "execution_count": 113,
     "metadata": {},
     "output_type": "execute_result"
    }
   ],
   "source": [
    "grid_model.best_estimator_ #한방에 나온다~ best가"
   ]
  },
  {
   "cell_type": "code",
   "execution_count": 114,
   "id": "c080e3a9-d672-4994-b3c5-3617e57464dc",
   "metadata": {},
   "outputs": [
    {
     "data": {
      "text/plain": [
       "0.8098314606741572"
      ]
     },
     "execution_count": 114,
     "metadata": {},
     "output_type": "execute_result"
    }
   ],
   "source": [
    "grid_model.best_score_ "
   ]
  },
  {
   "cell_type": "code",
   "execution_count": 115,
   "id": "bef3a1af-bf48-43d6-ab5c-0f31638a916e",
   "metadata": {},
   "outputs": [
    {
     "data": {
      "text/plain": [
       "{'n_neighbors': 1}"
      ]
     },
     "execution_count": 115,
     "metadata": {},
     "output_type": "execute_result"
    }
   ],
   "source": [
    "grid_model.best_params_ "
   ]
  },
  {
   "cell_type": "code",
   "execution_count": 116,
   "id": "1d10904e-5dbd-4dc8-b418-c73da3af2661",
   "metadata": {},
   "outputs": [
    {
     "data": {
      "text/plain": [
       "0"
      ]
     },
     "execution_count": 116,
     "metadata": {},
     "output_type": "execute_result"
    }
   ],
   "source": [
    "grid_model.best_index_"
   ]
  },
  {
   "cell_type": "code",
   "execution_count": 118,
   "id": "b3d5d303-929d-42ee-9bef-80e8a1b395a9",
   "metadata": {},
   "outputs": [],
   "source": [
    "lr = LinearRegression()"
   ]
  },
  {
   "cell_type": "code",
   "execution_count": 121,
   "id": "e287e66a-bf93-45c3-8c41-fcd967f2c16a",
   "metadata": {},
   "outputs": [
    {
     "data": {
      "text/plain": [
       "dict_keys(['copy_X', 'fit_intercept', 'n_jobs', 'normalize', 'positive'])"
      ]
     },
     "execution_count": 121,
     "metadata": {},
     "output_type": "execute_result"
    }
   ],
   "source": [
    "lr.get_params().keys()"
   ]
  },
  {
   "cell_type": "code",
   "execution_count": 122,
   "id": "4ad71762-37e1-4375-b2c2-4289da1ad010",
   "metadata": {},
   "outputs": [],
   "source": [
    "lr_model = LinearRegression(fit_intercept=True,\n",
    "    normalize='deprecated',\n",
    "    copy_X=True,\n",
    "    n_jobs=None,\n",
    "    positive=False)"
   ]
  },
  {
   "cell_type": "code",
   "execution_count": 123,
   "id": "9156d84c-5588-482a-b9fa-19d797fbdff1",
   "metadata": {},
   "outputs": [
    {
     "data": {
      "text/plain": [
       "dict_keys(['copy_X', 'fit_intercept', 'n_jobs', 'normalize', 'positive'])"
      ]
     },
     "execution_count": 123,
     "metadata": {},
     "output_type": "execute_result"
    }
   ],
   "source": [
    "lr_model.get_params().keys()"
   ]
  },
  {
   "cell_type": "code",
   "execution_count": 124,
   "id": "117925ff-0172-48ba-806c-75390606a077",
   "metadata": {},
   "outputs": [
    {
     "data": {
      "text/plain": [
       "LinearRegression()"
      ]
     },
     "execution_count": 124,
     "metadata": {},
     "output_type": "execute_result"
    }
   ],
   "source": [
    "lr_model.fit(heart, heart.target)"
   ]
  },
  {
   "cell_type": "code",
   "execution_count": 127,
   "id": "10f6a6d5-cd63-466d-be47-350a99b3c215",
   "metadata": {
    "collapsed": true,
    "jupyter": {
     "outputs_hidden": true
    },
    "tags": []
   },
   "outputs": [
    {
     "ename": "AttributeError",
     "evalue": "'LinearRegression' object has no attribute 'results_'",
     "output_type": "error",
     "traceback": [
      "\u001b[1;31m---------------------------------------------------------------------------\u001b[0m",
      "\u001b[1;31mAttributeError\u001b[0m                            Traceback (most recent call last)",
      "Input \u001b[1;32mIn [127]\u001b[0m, in \u001b[0;36m<cell line: 1>\u001b[1;34m()\u001b[0m\n\u001b[1;32m----> 1\u001b[0m \u001b[43mlr_model\u001b[49m\u001b[38;5;241;43m.\u001b[39;49m\u001b[43mresults_\u001b[49m\u001b[38;5;241m.\u001b[39mkeys()\n",
      "\u001b[1;31mAttributeError\u001b[0m: 'LinearRegression' object has no attribute 'results_'"
     ]
    }
   ],
   "source": [
    "lr_model.results_.keys()"
   ]
  },
  {
   "cell_type": "raw",
   "id": "f5e53ea8-3174-4d3c-96d6-2543b1db1f15",
   "metadata": {},
   "source": [
    "* ss로 n_splits의 적정값 찾기"
   ]
  },
  {
   "cell_type": "code",
   "execution_count": 129,
   "id": "4b28223d-926f-44c3-bc5e-80d667c0fc24",
   "metadata": {},
   "outputs": [],
   "source": [
    "ss = ShuffleSplit(test_size=0.25, n_splits=10)"
   ]
  },
  {
   "cell_type": "code",
   "execution_count": 130,
   "id": "8bc1949a-a94f-4952-91ec-2ea148f57b84",
   "metadata": {},
   "outputs": [],
   "source": [
    "grid_model = GridSearchCV(knn, return_train_score=True, param_grid = param_grid, cv=ss, verbose=3 )"
   ]
  },
  {
   "cell_type": "code",
   "execution_count": null,
   "id": "cad1811b-fcd7-4958-8f3f-940e339afb40",
   "metadata": {},
   "outputs": [],
   "source": []
  },
  {
   "cell_type": "code",
   "execution_count": 131,
   "id": "bcf8f547-0d16-494a-b601-3587d2dfa415",
   "metadata": {},
   "outputs": [
    {
     "data": {
      "text/plain": [
       "dict_keys(['cv', 'error_score', 'estimator__algorithm', 'estimator__leaf_size', 'estimator__metric', 'estimator__metric_params', 'estimator__n_jobs', 'estimator__n_neighbors', 'estimator__p', 'estimator__weights', 'estimator', 'n_jobs', 'param_grid', 'pre_dispatch', 'refit', 'return_train_score', 'scoring', 'verbose'])"
      ]
     },
     "execution_count": 131,
     "metadata": {},
     "output_type": "execute_result"
    }
   ],
   "source": [
    "grid_model.get_params().keys()"
   ]
  },
  {
   "cell_type": "code",
   "execution_count": 132,
   "id": "215681b4-806e-48f3-855e-632b2356792e",
   "metadata": {
    "collapsed": true,
    "jupyter": {
     "outputs_hidden": true
    },
    "tags": []
   },
   "outputs": [
    {
     "name": "stdout",
     "output_type": "stream",
     "text": [
      "Fitting 10 folds for each of 19 candidates, totalling 190 fits\n",
      "[CV 1/10] END n_neighbors=1;, score=(train=1.000, test=0.579) total time=   0.0s\n",
      "[CV 2/10] END n_neighbors=1;, score=(train=1.000, test=0.553) total time=   0.0s\n",
      "[CV 3/10] END n_neighbors=1;, score=(train=1.000, test=0.632) total time=   0.0s\n",
      "[CV 4/10] END n_neighbors=1;, score=(train=1.000, test=0.605) total time=   0.0s\n",
      "[CV 5/10] END n_neighbors=1;, score=(train=1.000, test=0.566) total time=   0.0s\n",
      "[CV 6/10] END n_neighbors=1;, score=(train=1.000, test=0.671) total time=   0.0s\n",
      "[CV 7/10] END n_neighbors=1;, score=(train=1.000, test=0.618) total time=   0.0s\n",
      "[CV 8/10] END n_neighbors=1;, score=(train=1.000, test=0.605) total time=   0.0s\n",
      "[CV 9/10] END n_neighbors=1;, score=(train=1.000, test=0.553) total time=   0.0s\n",
      "[CV 10/10] END n_neighbors=1;, score=(train=1.000, test=0.618) total time=   0.0s\n",
      "[CV 1/10] END n_neighbors=2;, score=(train=0.819, test=0.500) total time=   0.0s\n",
      "[CV 2/10] END n_neighbors=2;, score=(train=0.806, test=0.566) total time=   0.0s\n",
      "[CV 3/10] END n_neighbors=2;, score=(train=0.793, test=0.592) total time=   0.0s\n",
      "[CV 4/10] END n_neighbors=2;, score=(train=0.802, test=0.513) total time=   0.0s\n",
      "[CV 5/10] END n_neighbors=2;, score=(train=0.811, test=0.605) total time=   0.0s\n",
      "[CV 6/10] END n_neighbors=2;, score=(train=0.802, test=0.592) total time=   0.0s\n",
      "[CV 7/10] END n_neighbors=2;, score=(train=0.793, test=0.618) total time=   0.0s\n",
      "[CV 8/10] END n_neighbors=2;, score=(train=0.797, test=0.487) total time=   0.0s\n",
      "[CV 9/10] END n_neighbors=2;, score=(train=0.797, test=0.539) total time=   0.0s\n",
      "[CV 10/10] END n_neighbors=2;, score=(train=0.802, test=0.592) total time=   0.0s\n",
      "[CV 1/10] END n_neighbors=3;, score=(train=0.797, test=0.592) total time=   0.0s\n",
      "[CV 2/10] END n_neighbors=3;, score=(train=0.797, test=0.645) total time=   0.0s\n",
      "[CV 3/10] END n_neighbors=3;, score=(train=0.802, test=0.658) total time=   0.0s\n",
      "[CV 4/10] END n_neighbors=3;, score=(train=0.793, test=0.618) total time=   0.0s\n",
      "[CV 5/10] END n_neighbors=3;, score=(train=0.784, test=0.605) total time=   0.0s\n",
      "[CV 6/10] END n_neighbors=3;, score=(train=0.789, test=0.684) total time=   0.0s\n",
      "[CV 7/10] END n_neighbors=3;, score=(train=0.802, test=0.592) total time=   0.0s\n",
      "[CV 8/10] END n_neighbors=3;, score=(train=0.811, test=0.579) total time=   0.0s\n",
      "[CV 9/10] END n_neighbors=3;, score=(train=0.767, test=0.632) total time=   0.0s\n",
      "[CV 10/10] END n_neighbors=3;, score=(train=0.775, test=0.566) total time=   0.0s\n",
      "[CV 1/10] END n_neighbors=4;, score=(train=0.753, test=0.658) total time=   0.0s\n",
      "[CV 2/10] END n_neighbors=4;, score=(train=0.775, test=0.632) total time=   0.0s\n",
      "[CV 3/10] END n_neighbors=4;, score=(train=0.744, test=0.658) total time=   0.0s\n",
      "[CV 4/10] END n_neighbors=4;, score=(train=0.740, test=0.553) total time=   0.0s\n",
      "[CV 5/10] END n_neighbors=4;, score=(train=0.771, test=0.579) total time=   0.0s\n",
      "[CV 6/10] END n_neighbors=4;, score=(train=0.758, test=0.671) total time=   0.0s\n",
      "[CV 7/10] END n_neighbors=4;, score=(train=0.762, test=0.605) total time=   0.0s\n",
      "[CV 8/10] END n_neighbors=4;, score=(train=0.811, test=0.553) total time=   0.0s\n",
      "[CV 9/10] END n_neighbors=4;, score=(train=0.744, test=0.618) total time=   0.0s\n",
      "[CV 10/10] END n_neighbors=4;, score=(train=0.767, test=0.566) total time=   0.0s\n",
      "[CV 1/10] END n_neighbors=5;, score=(train=0.749, test=0.645) total time=   0.0s\n",
      "[CV 2/10] END n_neighbors=5;, score=(train=0.784, test=0.618) total time=   0.0s\n",
      "[CV 3/10] END n_neighbors=5;, score=(train=0.767, test=0.618) total time=   0.0s\n",
      "[CV 4/10] END n_neighbors=5;, score=(train=0.775, test=0.605) total time=   0.0s\n",
      "[CV 5/10] END n_neighbors=5;, score=(train=0.771, test=0.579) total time=   0.0s\n",
      "[CV 6/10] END n_neighbors=5;, score=(train=0.762, test=0.750) total time=   0.0s\n",
      "[CV 7/10] END n_neighbors=5;, score=(train=0.771, test=0.618) total time=   0.0s\n",
      "[CV 8/10] END n_neighbors=5;, score=(train=0.789, test=0.566) total time=   0.0s\n",
      "[CV 9/10] END n_neighbors=5;, score=(train=0.753, test=0.618) total time=   0.0s\n",
      "[CV 10/10] END n_neighbors=5;, score=(train=0.762, test=0.645) total time=   0.0s\n",
      "[CV 1/10] END n_neighbors=6;, score=(train=0.749, test=0.658) total time=   0.0s\n",
      "[CV 2/10] END n_neighbors=6;, score=(train=0.771, test=0.618) total time=   0.0s\n",
      "[CV 3/10] END n_neighbors=6;, score=(train=0.749, test=0.645) total time=   0.0s\n",
      "[CV 4/10] END n_neighbors=6;, score=(train=0.771, test=0.566) total time=   0.0s\n",
      "[CV 5/10] END n_neighbors=6;, score=(train=0.771, test=0.579) total time=   0.0s\n",
      "[CV 6/10] END n_neighbors=6;, score=(train=0.731, test=0.645) total time=   0.0s\n",
      "[CV 7/10] END n_neighbors=6;, score=(train=0.762, test=0.645) total time=   0.0s\n",
      "[CV 8/10] END n_neighbors=6;, score=(train=0.780, test=0.592) total time=   0.0s\n",
      "[CV 9/10] END n_neighbors=6;, score=(train=0.722, test=0.671) total time=   0.0s\n",
      "[CV 10/10] END n_neighbors=6;, score=(train=0.780, test=0.671) total time=   0.0s\n",
      "[CV 1/10] END n_neighbors=7;, score=(train=0.749, test=0.697) total time=   0.0s\n",
      "[CV 2/10] END n_neighbors=7;, score=(train=0.758, test=0.618) total time=   0.0s\n",
      "[CV 3/10] END n_neighbors=7;, score=(train=0.744, test=0.697) total time=   0.0s\n",
      "[CV 4/10] END n_neighbors=7;, score=(train=0.727, test=0.605) total time=   0.0s\n",
      "[CV 5/10] END n_neighbors=7;, score=(train=0.767, test=0.566) total time=   0.0s\n",
      "[CV 6/10] END n_neighbors=7;, score=(train=0.740, test=0.697) total time=   0.0s\n",
      "[CV 7/10] END n_neighbors=7;, score=(train=0.749, test=0.645) total time=   0.0s\n",
      "[CV 8/10] END n_neighbors=7;, score=(train=0.793, test=0.579) total time=   0.0s\n",
      "[CV 9/10] END n_neighbors=7;, score=(train=0.714, test=0.658) total time=   0.0s\n",
      "[CV 10/10] END n_neighbors=7;, score=(train=0.771, test=0.658) total time=   0.0s\n",
      "[CV 1/10] END n_neighbors=8;, score=(train=0.718, test=0.711) total time=   0.0s\n",
      "[CV 2/10] END n_neighbors=8;, score=(train=0.727, test=0.658) total time=   0.0s\n",
      "[CV 3/10] END n_neighbors=8;, score=(train=0.744, test=0.671) total time=   0.0s\n",
      "[CV 4/10] END n_neighbors=8;, score=(train=0.722, test=0.632) total time=   0.0s\n",
      "[CV 5/10] END n_neighbors=8;, score=(train=0.722, test=0.526) total time=   0.0s\n",
      "[CV 6/10] END n_neighbors=8;, score=(train=0.727, test=0.632) total time=   0.0s\n",
      "[CV 7/10] END n_neighbors=8;, score=(train=0.736, test=0.645) total time=   0.0s\n",
      "[CV 8/10] END n_neighbors=8;, score=(train=0.731, test=0.566) total time=   0.0s\n",
      "[CV 9/10] END n_neighbors=8;, score=(train=0.678, test=0.658) total time=   0.0s\n",
      "[CV 10/10] END n_neighbors=8;, score=(train=0.758, test=0.632) total time=   0.0s\n",
      "[CV 1/10] END n_neighbors=9;, score=(train=0.709, test=0.711) total time=   0.0s\n",
      "[CV 2/10] END n_neighbors=9;, score=(train=0.740, test=0.618) total time=   0.0s\n",
      "[CV 3/10] END n_neighbors=9;, score=(train=0.718, test=0.658) total time=   0.0s\n",
      "[CV 4/10] END n_neighbors=9;, score=(train=0.714, test=0.618) total time=   0.0s\n",
      "[CV 5/10] END n_neighbors=9;, score=(train=0.749, test=0.553) total time=   0.0s\n",
      "[CV 6/10] END n_neighbors=9;, score=(train=0.714, test=0.658) total time=   0.0s\n",
      "[CV 7/10] END n_neighbors=9;, score=(train=0.740, test=0.645) total time=   0.0s\n",
      "[CV 8/10] END n_neighbors=9;, score=(train=0.762, test=0.566) total time=   0.0s\n",
      "[CV 9/10] END n_neighbors=9;, score=(train=0.700, test=0.697) total time=   0.0s\n",
      "[CV 10/10] END n_neighbors=9;, score=(train=0.758, test=0.645) total time=   0.0s\n",
      "[CV 1/10] END n_neighbors=10;, score=(train=0.687, test=0.711) total time=   0.0s\n",
      "[CV 2/10] END n_neighbors=10;, score=(train=0.727, test=0.645) total time=   0.0s\n",
      "[CV 3/10] END n_neighbors=10;, score=(train=0.718, test=0.684) total time=   0.0s\n",
      "[CV 4/10] END n_neighbors=10;, score=(train=0.718, test=0.618) total time=   0.0s\n",
      "[CV 5/10] END n_neighbors=10;, score=(train=0.749, test=0.592) total time=   0.0s\n",
      "[CV 6/10] END n_neighbors=10;, score=(train=0.687, test=0.658) total time=   0.0s\n",
      "[CV 7/10] END n_neighbors=10;, score=(train=0.736, test=0.697) total time=   0.0s\n",
      "[CV 8/10] END n_neighbors=10;, score=(train=0.744, test=0.579) total time=   0.0s\n",
      "[CV 9/10] END n_neighbors=10;, score=(train=0.674, test=0.658) total time=   0.0s\n",
      "[CV 10/10] END n_neighbors=10;, score=(train=0.749, test=0.645) total time=   0.0s\n",
      "[CV 1/10] END n_neighbors=11;, score=(train=0.692, test=0.711) total time=   0.0s\n",
      "[CV 2/10] END n_neighbors=11;, score=(train=0.736, test=0.632) total time=   0.0s\n",
      "[CV 3/10] END n_neighbors=11;, score=(train=0.705, test=0.684) total time=   0.0s\n",
      "[CV 4/10] END n_neighbors=11;, score=(train=0.722, test=0.579) total time=   0.0s\n",
      "[CV 5/10] END n_neighbors=11;, score=(train=0.753, test=0.618) total time=   0.0s\n",
      "[CV 6/10] END n_neighbors=11;, score=(train=0.718, test=0.618) total time=   0.0s\n",
      "[CV 7/10] END n_neighbors=11;, score=(train=0.709, test=0.632) total time=   0.0s\n",
      "[CV 8/10] END n_neighbors=11;, score=(train=0.740, test=0.579) total time=   0.0s\n",
      "[CV 9/10] END n_neighbors=11;, score=(train=0.687, test=0.671) total time=   0.0s\n",
      "[CV 10/10] END n_neighbors=11;, score=(train=0.731, test=0.618) total time=   0.0s\n",
      "[CV 1/10] END n_neighbors=12;, score=(train=0.700, test=0.684) total time=   0.0s\n",
      "[CV 2/10] END n_neighbors=12;, score=(train=0.718, test=0.645) total time=   0.0s\n",
      "[CV 3/10] END n_neighbors=12;, score=(train=0.705, test=0.697) total time=   0.0s\n",
      "[CV 4/10] END n_neighbors=12;, score=(train=0.727, test=0.605) total time=   0.0s\n",
      "[CV 5/10] END n_neighbors=12;, score=(train=0.722, test=0.618) total time=   0.0s\n",
      "[CV 6/10] END n_neighbors=12;, score=(train=0.714, test=0.645) total time=   0.0s\n",
      "[CV 7/10] END n_neighbors=12;, score=(train=0.727, test=0.658) total time=   0.0s\n",
      "[CV 8/10] END n_neighbors=12;, score=(train=0.744, test=0.579) total time=   0.0s\n",
      "[CV 9/10] END n_neighbors=12;, score=(train=0.700, test=0.684) total time=   0.0s\n",
      "[CV 10/10] END n_neighbors=12;, score=(train=0.731, test=0.645) total time=   0.0s\n",
      "[CV 1/10] END n_neighbors=13;, score=(train=0.696, test=0.684) total time=   0.0s\n",
      "[CV 2/10] END n_neighbors=13;, score=(train=0.687, test=0.632) total time=   0.0s\n",
      "[CV 3/10] END n_neighbors=13;, score=(train=0.714, test=0.697) total time=   0.0s\n",
      "[CV 4/10] END n_neighbors=13;, score=(train=0.731, test=0.592) total time=   0.0s\n",
      "[CV 5/10] END n_neighbors=13;, score=(train=0.709, test=0.605) total time=   0.0s\n",
      "[CV 6/10] END n_neighbors=13;, score=(train=0.709, test=0.658) total time=   0.0s\n",
      "[CV 7/10] END n_neighbors=13;, score=(train=0.722, test=0.658) total time=   0.0s\n",
      "[CV 8/10] END n_neighbors=13;, score=(train=0.736, test=0.605) total time=   0.0s\n",
      "[CV 9/10] END n_neighbors=13;, score=(train=0.696, test=0.711) total time=   0.0s\n",
      "[CV 10/10] END n_neighbors=13;, score=(train=0.722, test=0.645) total time=   0.0s\n",
      "[CV 1/10] END n_neighbors=14;, score=(train=0.678, test=0.684) total time=   0.0s\n",
      "[CV 2/10] END n_neighbors=14;, score=(train=0.709, test=0.592) total time=   0.0s\n",
      "[CV 3/10] END n_neighbors=14;, score=(train=0.696, test=0.737) total time=   0.0s\n",
      "[CV 4/10] END n_neighbors=14;, score=(train=0.727, test=0.605) total time=   0.0s\n",
      "[CV 5/10] END n_neighbors=14;, score=(train=0.705, test=0.645) total time=   0.0s\n",
      "[CV 6/10] END n_neighbors=14;, score=(train=0.700, test=0.632) total time=   0.0s\n",
      "[CV 7/10] END n_neighbors=14;, score=(train=0.718, test=0.645) total time=   0.0s\n",
      "[CV 8/10] END n_neighbors=14;, score=(train=0.736, test=0.579) total time=   0.0s\n",
      "[CV 9/10] END n_neighbors=14;, score=(train=0.674, test=0.737) total time=   0.0s\n",
      "[CV 10/10] END n_neighbors=14;, score=(train=0.709, test=0.671) total time=   0.0s\n",
      "[CV 1/10] END n_neighbors=15;, score=(train=0.678, test=0.658) total time=   0.0s\n",
      "[CV 2/10] END n_neighbors=15;, score=(train=0.709, test=0.605) total time=   0.0s\n",
      "[CV 3/10] END n_neighbors=15;, score=(train=0.705, test=0.684) total time=   0.0s\n",
      "[CV 4/10] END n_neighbors=15;, score=(train=0.722, test=0.618) total time=   0.0s\n",
      "[CV 5/10] END n_neighbors=15;, score=(train=0.705, test=0.618) total time=   0.0s\n",
      "[CV 6/10] END n_neighbors=15;, score=(train=0.700, test=0.658) total time=   0.0s\n",
      "[CV 7/10] END n_neighbors=15;, score=(train=0.718, test=0.684) total time=   0.0s\n",
      "[CV 8/10] END n_neighbors=15;, score=(train=0.744, test=0.605) total time=   0.0s\n",
      "[CV 9/10] END n_neighbors=15;, score=(train=0.678, test=0.750) total time=   0.0s\n",
      "[CV 10/10] END n_neighbors=15;, score=(train=0.709, test=0.671) total time=   0.0s\n",
      "[CV 1/10] END n_neighbors=16;, score=(train=0.665, test=0.697) total time=   0.0s\n",
      "[CV 2/10] END n_neighbors=16;, score=(train=0.705, test=0.605) total time=   0.0s\n",
      "[CV 3/10] END n_neighbors=16;, score=(train=0.709, test=0.684) total time=   0.0s\n",
      "[CV 4/10] END n_neighbors=16;, score=(train=0.736, test=0.592) total time=   0.0s\n",
      "[CV 5/10] END n_neighbors=16;, score=(train=0.718, test=0.645) total time=   0.0s\n",
      "[CV 6/10] END n_neighbors=16;, score=(train=0.700, test=0.671) total time=   0.0s\n",
      "[CV 7/10] END n_neighbors=16;, score=(train=0.718, test=0.658) total time=   0.0s\n",
      "[CV 8/10] END n_neighbors=16;, score=(train=0.731, test=0.592) total time=   0.0s\n",
      "[CV 9/10] END n_neighbors=16;, score=(train=0.665, test=0.724) total time=   0.0s\n",
      "[CV 10/10] END n_neighbors=16;, score=(train=0.700, test=0.645) total time=   0.0s\n",
      "[CV 1/10] END n_neighbors=17;, score=(train=0.674, test=0.697) total time=   0.0s\n",
      "[CV 2/10] END n_neighbors=17;, score=(train=0.696, test=0.658) total time=   0.0s\n",
      "[CV 3/10] END n_neighbors=17;, score=(train=0.714, test=0.684) total time=   0.0s\n",
      "[CV 4/10] END n_neighbors=17;, score=(train=0.744, test=0.553) total time=   0.0s\n",
      "[CV 5/10] END n_neighbors=17;, score=(train=0.705, test=0.618) total time=   0.0s\n",
      "[CV 6/10] END n_neighbors=17;, score=(train=0.700, test=0.658) total time=   0.0s\n",
      "[CV 7/10] END n_neighbors=17;, score=(train=0.714, test=0.684) total time=   0.0s\n",
      "[CV 8/10] END n_neighbors=17;, score=(train=0.731, test=0.658) total time=   0.0s\n",
      "[CV 9/10] END n_neighbors=17;, score=(train=0.665, test=0.737) total time=   0.0s\n",
      "[CV 10/10] END n_neighbors=17;, score=(train=0.692, test=0.632) total time=   0.0s\n",
      "[CV 1/10] END n_neighbors=18;, score=(train=0.692, test=0.697) total time=   0.0s\n",
      "[CV 2/10] END n_neighbors=18;, score=(train=0.705, test=0.658) total time=   0.0s\n",
      "[CV 3/10] END n_neighbors=18;, score=(train=0.705, test=0.684) total time=   0.0s\n",
      "[CV 4/10] END n_neighbors=18;, score=(train=0.731, test=0.553) total time=   0.0s\n",
      "[CV 5/10] END n_neighbors=18;, score=(train=0.700, test=0.632) total time=   0.0s\n",
      "[CV 6/10] END n_neighbors=18;, score=(train=0.683, test=0.684) total time=   0.0s\n",
      "[CV 7/10] END n_neighbors=18;, score=(train=0.705, test=0.658) total time=   0.0s\n",
      "[CV 8/10] END n_neighbors=18;, score=(train=0.727, test=0.618) total time=   0.0s\n",
      "[CV 9/10] END n_neighbors=18;, score=(train=0.674, test=0.711) total time=   0.0s\n",
      "[CV 10/10] END n_neighbors=18;, score=(train=0.687, test=0.658) total time=   0.0s\n",
      "[CV 1/10] END n_neighbors=19;, score=(train=0.692, test=0.671) total time=   0.0s\n",
      "[CV 2/10] END n_neighbors=19;, score=(train=0.700, test=0.671) total time=   0.0s\n",
      "[CV 3/10] END n_neighbors=19;, score=(train=0.718, test=0.684) total time=   0.0s\n",
      "[CV 4/10] END n_neighbors=19;, score=(train=0.718, test=0.579) total time=   0.0s\n",
      "[CV 5/10] END n_neighbors=19;, score=(train=0.718, test=0.645) total time=   0.0s\n",
      "[CV 6/10] END n_neighbors=19;, score=(train=0.683, test=0.684) total time=   0.0s\n",
      "[CV 7/10] END n_neighbors=19;, score=(train=0.727, test=0.645) total time=   0.0s\n",
      "[CV 8/10] END n_neighbors=19;, score=(train=0.753, test=0.632) total time=   0.0s\n",
      "[CV 9/10] END n_neighbors=19;, score=(train=0.687, test=0.763) total time=   0.0s\n",
      "[CV 10/10] END n_neighbors=19;, score=(train=0.705, test=0.684) total time=   0.0s\n"
     ]
    },
    {
     "data": {
      "text/plain": [
       "GridSearchCV(cv=ShuffleSplit(n_splits=10, random_state=None, test_size=0.25, train_size=None),\n",
       "             estimator=KNeighborsClassifier(),\n",
       "             param_grid={'n_neighbors': range(1, 20)}, return_train_score=True,\n",
       "             verbose=3)"
      ]
     },
     "execution_count": 132,
     "metadata": {},
     "output_type": "execute_result"
    }
   ],
   "source": [
    "grid_model.fit(heart, heart.target)"
   ]
  },
  {
   "cell_type": "code",
   "execution_count": 133,
   "id": "c77c5c8c-8dd3-4f25-90fe-11d7057b1b6f",
   "metadata": {},
   "outputs": [
    {
     "data": {
      "text/plain": [
       "dict_keys(['mean_fit_time', 'std_fit_time', 'mean_score_time', 'std_score_time', 'param_n_neighbors', 'params', 'split0_test_score', 'split1_test_score', 'split2_test_score', 'split3_test_score', 'split4_test_score', 'split5_test_score', 'split6_test_score', 'split7_test_score', 'split8_test_score', 'split9_test_score', 'mean_test_score', 'std_test_score', 'rank_test_score', 'split0_train_score', 'split1_train_score', 'split2_train_score', 'split3_train_score', 'split4_train_score', 'split5_train_score', 'split6_train_score', 'split7_train_score', 'split8_train_score', 'split9_train_score', 'mean_train_score', 'std_train_score'])"
      ]
     },
     "execution_count": 133,
     "metadata": {},
     "output_type": "execute_result"
    }
   ],
   "source": [
    "grid_model.cv_results_.keys()"
   ]
  },
  {
   "cell_type": "code",
   "execution_count": null,
   "id": "df72c066-7f85-4fa9-a7d5-65381c18eaed",
   "metadata": {},
   "outputs": [],
   "source": []
  },
  {
   "cell_type": "code",
   "execution_count": 134,
   "id": "d1d9e7e0-6e02-4414-b765-44edb34517fc",
   "metadata": {},
   "outputs": [],
   "source": [
    "colnames = ['cv','mean_train_score','mean_test_score']"
   ]
  },
  {
   "cell_type": "code",
   "execution_count": 135,
   "id": "93bb1b65-fe2c-42c1-9e26-368788d49e4d",
   "metadata": {},
   "outputs": [],
   "source": [
    "grid_df = pd.DataFrame(grid_model.cv_results_, columns = colnames)"
   ]
  },
  {
   "cell_type": "code",
   "execution_count": 136,
   "id": "fc395319-315d-4fe8-b7de-d6e6273d8486",
   "metadata": {
    "tags": []
   },
   "outputs": [],
   "source": [
    "grid_df.set_index('cv', inplace=True)"
   ]
  },
  {
   "cell_type": "code",
   "execution_count": 137,
   "id": "08989d51-6392-4416-92be-14e7e0e7c809",
   "metadata": {},
   "outputs": [
    {
     "data": {
      "text/html": [
       "<div>\n",
       "<style scoped>\n",
       "    .dataframe tbody tr th:only-of-type {\n",
       "        vertical-align: middle;\n",
       "    }\n",
       "\n",
       "    .dataframe tbody tr th {\n",
       "        vertical-align: top;\n",
       "    }\n",
       "\n",
       "    .dataframe thead th {\n",
       "        text-align: right;\n",
       "    }\n",
       "</style>\n",
       "<table border=\"1\" class=\"dataframe\">\n",
       "  <thead>\n",
       "    <tr style=\"text-align: right;\">\n",
       "      <th></th>\n",
       "      <th>mean_train_score</th>\n",
       "      <th>mean_test_score</th>\n",
       "    </tr>\n",
       "    <tr>\n",
       "      <th>cv</th>\n",
       "      <th></th>\n",
       "      <th></th>\n",
       "    </tr>\n",
       "  </thead>\n",
       "  <tbody>\n",
       "    <tr>\n",
       "      <th>NaN</th>\n",
       "      <td>0.710132</td>\n",
       "      <td>0.665789</td>\n",
       "    </tr>\n",
       "    <tr>\n",
       "      <th>NaN</th>\n",
       "      <td>0.703524</td>\n",
       "      <td>0.657895</td>\n",
       "    </tr>\n",
       "    <tr>\n",
       "      <th>NaN</th>\n",
       "      <td>0.707048</td>\n",
       "      <td>0.655263</td>\n",
       "    </tr>\n",
       "    <tr>\n",
       "      <th>NaN</th>\n",
       "      <td>0.700881</td>\n",
       "      <td>0.655263</td>\n",
       "    </tr>\n",
       "    <tr>\n",
       "      <th>NaN</th>\n",
       "      <td>0.705286</td>\n",
       "      <td>0.652632</td>\n",
       "    </tr>\n",
       "    <tr>\n",
       "      <th>NaN</th>\n",
       "      <td>0.704846</td>\n",
       "      <td>0.651316</td>\n",
       "    </tr>\n",
       "    <tr>\n",
       "      <th>NaN</th>\n",
       "      <td>0.718943</td>\n",
       "      <td>0.648684</td>\n",
       "    </tr>\n",
       "    <tr>\n",
       "      <th>NaN</th>\n",
       "      <td>0.712335</td>\n",
       "      <td>0.648684</td>\n",
       "    </tr>\n",
       "    <tr>\n",
       "      <th>NaN</th>\n",
       "      <td>0.718943</td>\n",
       "      <td>0.646053</td>\n",
       "    </tr>\n",
       "    <tr>\n",
       "      <th>NaN</th>\n",
       "      <td>0.751101</td>\n",
       "      <td>0.642105</td>\n",
       "    </tr>\n",
       "    <tr>\n",
       "      <th>NaN</th>\n",
       "      <td>0.730396</td>\n",
       "      <td>0.636842</td>\n",
       "    </tr>\n",
       "    <tr>\n",
       "      <th>NaN</th>\n",
       "      <td>0.719383</td>\n",
       "      <td>0.634211</td>\n",
       "    </tr>\n",
       "    <tr>\n",
       "      <th>NaN</th>\n",
       "      <td>0.726432</td>\n",
       "      <td>0.632895</td>\n",
       "    </tr>\n",
       "    <tr>\n",
       "      <th>NaN</th>\n",
       "      <td>0.758590</td>\n",
       "      <td>0.628947</td>\n",
       "    </tr>\n",
       "    <tr>\n",
       "      <th>NaN</th>\n",
       "      <td>0.768282</td>\n",
       "      <td>0.626316</td>\n",
       "    </tr>\n",
       "    <tr>\n",
       "      <th>NaN</th>\n",
       "      <td>0.791630</td>\n",
       "      <td>0.617105</td>\n",
       "    </tr>\n",
       "    <tr>\n",
       "      <th>NaN</th>\n",
       "      <td>0.762555</td>\n",
       "      <td>0.609211</td>\n",
       "    </tr>\n",
       "    <tr>\n",
       "      <th>NaN</th>\n",
       "      <td>1.000000</td>\n",
       "      <td>0.600000</td>\n",
       "    </tr>\n",
       "    <tr>\n",
       "      <th>NaN</th>\n",
       "      <td>0.802203</td>\n",
       "      <td>0.560526</td>\n",
       "    </tr>\n",
       "  </tbody>\n",
       "</table>\n",
       "</div>"
      ],
      "text/plain": [
       "     mean_train_score  mean_test_score\n",
       "cv                                    \n",
       "NaN          0.710132         0.665789\n",
       "NaN          0.703524         0.657895\n",
       "NaN          0.707048         0.655263\n",
       "NaN          0.700881         0.655263\n",
       "NaN          0.705286         0.652632\n",
       "NaN          0.704846         0.651316\n",
       "NaN          0.718943         0.648684\n",
       "NaN          0.712335         0.648684\n",
       "NaN          0.718943         0.646053\n",
       "NaN          0.751101         0.642105\n",
       "NaN          0.730396         0.636842\n",
       "NaN          0.719383         0.634211\n",
       "NaN          0.726432         0.632895\n",
       "NaN          0.758590         0.628947\n",
       "NaN          0.768282         0.626316\n",
       "NaN          0.791630         0.617105\n",
       "NaN          0.762555         0.609211\n",
       "NaN          1.000000         0.600000\n",
       "NaN          0.802203         0.560526"
      ]
     },
     "execution_count": 137,
     "metadata": {},
     "output_type": "execute_result"
    }
   ],
   "source": [
    "grid_df.sort_values(['mean_test_score','mean_train_score'], ascending=False)"
   ]
  },
  {
   "cell_type": "code",
   "execution_count": null,
   "id": "7020f65d-e60f-45ac-a482-a4c13ed5eb28",
   "metadata": {},
   "outputs": [],
   "source": []
  },
  {
   "cell_type": "code",
   "execution_count": null,
   "id": "0bf4e930-1d67-4cdf-905e-8460f55a9a4c",
   "metadata": {},
   "outputs": [],
   "source": []
  },
  {
   "cell_type": "code",
   "execution_count": null,
   "id": "1d2ab172-52fe-4133-bd5b-41550a1acc10",
   "metadata": {},
   "outputs": [],
   "source": []
  },
  {
   "cell_type": "code",
   "execution_count": null,
   "id": "db40e417-061e-41f1-be22-68f9e76d0e4c",
   "metadata": {},
   "outputs": [],
   "source": []
  },
  {
   "cell_type": "code",
   "execution_count": null,
   "id": "7580ab1c-6872-4c16-8b04-4fe2b4723a6b",
   "metadata": {},
   "outputs": [],
   "source": []
  },
  {
   "cell_type": "markdown",
   "id": "a6c924c9-9bec-4703-bbc5-a297b140e410",
   "metadata": {},
   "source": [
    "-----------"
   ]
  },
  {
   "cell_type": "markdown",
   "id": "96e1b7be-3556-4729-91b8-34606f72b1a4",
   "metadata": {},
   "source": [
    "## diabet로 해보기"
   ]
  },
  {
   "cell_type": "code",
   "execution_count": 62,
   "id": "0a79e594-ef94-46bc-bdbe-c34b9d0cdb89",
   "metadata": {},
   "outputs": [],
   "source": [
    "diabets = datasets.load_diabetes()"
   ]
  },
  {
   "cell_type": "code",
   "execution_count": 63,
   "id": "e8b7c6a5-a9b4-46a7-be39-b57c8332470d",
   "metadata": {},
   "outputs": [],
   "source": [
    "df = pd.DataFrame(diabets.data, columns = diabets.feature_names)"
   ]
  },
  {
   "cell_type": "code",
   "execution_count": 65,
   "id": "a9726852-725f-4ba3-ad8c-cf675e48c7bc",
   "metadata": {},
   "outputs": [
    {
     "data": {
      "text/html": [
       "<div>\n",
       "<style scoped>\n",
       "    .dataframe tbody tr th:only-of-type {\n",
       "        vertical-align: middle;\n",
       "    }\n",
       "\n",
       "    .dataframe tbody tr th {\n",
       "        vertical-align: top;\n",
       "    }\n",
       "\n",
       "    .dataframe thead th {\n",
       "        text-align: right;\n",
       "    }\n",
       "</style>\n",
       "<table border=\"1\" class=\"dataframe\">\n",
       "  <thead>\n",
       "    <tr style=\"text-align: right;\">\n",
       "      <th></th>\n",
       "      <th>age</th>\n",
       "      <th>sex</th>\n",
       "      <th>bmi</th>\n",
       "      <th>bp</th>\n",
       "      <th>s1</th>\n",
       "      <th>s2</th>\n",
       "      <th>s3</th>\n",
       "      <th>s4</th>\n",
       "      <th>s5</th>\n",
       "      <th>s6</th>\n",
       "    </tr>\n",
       "  </thead>\n",
       "  <tbody>\n",
       "    <tr>\n",
       "      <th>0</th>\n",
       "      <td>0.038076</td>\n",
       "      <td>0.050680</td>\n",
       "      <td>0.061696</td>\n",
       "      <td>0.021872</td>\n",
       "      <td>-0.044223</td>\n",
       "      <td>-0.034821</td>\n",
       "      <td>-0.043401</td>\n",
       "      <td>-0.002592</td>\n",
       "      <td>0.019908</td>\n",
       "      <td>-0.017646</td>\n",
       "    </tr>\n",
       "    <tr>\n",
       "      <th>1</th>\n",
       "      <td>-0.001882</td>\n",
       "      <td>-0.044642</td>\n",
       "      <td>-0.051474</td>\n",
       "      <td>-0.026328</td>\n",
       "      <td>-0.008449</td>\n",
       "      <td>-0.019163</td>\n",
       "      <td>0.074412</td>\n",
       "      <td>-0.039493</td>\n",
       "      <td>-0.068330</td>\n",
       "      <td>-0.092204</td>\n",
       "    </tr>\n",
       "    <tr>\n",
       "      <th>2</th>\n",
       "      <td>0.085299</td>\n",
       "      <td>0.050680</td>\n",
       "      <td>0.044451</td>\n",
       "      <td>-0.005671</td>\n",
       "      <td>-0.045599</td>\n",
       "      <td>-0.034194</td>\n",
       "      <td>-0.032356</td>\n",
       "      <td>-0.002592</td>\n",
       "      <td>0.002864</td>\n",
       "      <td>-0.025930</td>\n",
       "    </tr>\n",
       "    <tr>\n",
       "      <th>3</th>\n",
       "      <td>-0.089063</td>\n",
       "      <td>-0.044642</td>\n",
       "      <td>-0.011595</td>\n",
       "      <td>-0.036656</td>\n",
       "      <td>0.012191</td>\n",
       "      <td>0.024991</td>\n",
       "      <td>-0.036038</td>\n",
       "      <td>0.034309</td>\n",
       "      <td>0.022692</td>\n",
       "      <td>-0.009362</td>\n",
       "    </tr>\n",
       "    <tr>\n",
       "      <th>4</th>\n",
       "      <td>0.005383</td>\n",
       "      <td>-0.044642</td>\n",
       "      <td>-0.036385</td>\n",
       "      <td>0.021872</td>\n",
       "      <td>0.003935</td>\n",
       "      <td>0.015596</td>\n",
       "      <td>0.008142</td>\n",
       "      <td>-0.002592</td>\n",
       "      <td>-0.031991</td>\n",
       "      <td>-0.046641</td>\n",
       "    </tr>\n",
       "    <tr>\n",
       "      <th>...</th>\n",
       "      <td>...</td>\n",
       "      <td>...</td>\n",
       "      <td>...</td>\n",
       "      <td>...</td>\n",
       "      <td>...</td>\n",
       "      <td>...</td>\n",
       "      <td>...</td>\n",
       "      <td>...</td>\n",
       "      <td>...</td>\n",
       "      <td>...</td>\n",
       "    </tr>\n",
       "    <tr>\n",
       "      <th>437</th>\n",
       "      <td>0.041708</td>\n",
       "      <td>0.050680</td>\n",
       "      <td>0.019662</td>\n",
       "      <td>0.059744</td>\n",
       "      <td>-0.005697</td>\n",
       "      <td>-0.002566</td>\n",
       "      <td>-0.028674</td>\n",
       "      <td>-0.002592</td>\n",
       "      <td>0.031193</td>\n",
       "      <td>0.007207</td>\n",
       "    </tr>\n",
       "    <tr>\n",
       "      <th>438</th>\n",
       "      <td>-0.005515</td>\n",
       "      <td>0.050680</td>\n",
       "      <td>-0.015906</td>\n",
       "      <td>-0.067642</td>\n",
       "      <td>0.049341</td>\n",
       "      <td>0.079165</td>\n",
       "      <td>-0.028674</td>\n",
       "      <td>0.034309</td>\n",
       "      <td>-0.018118</td>\n",
       "      <td>0.044485</td>\n",
       "    </tr>\n",
       "    <tr>\n",
       "      <th>439</th>\n",
       "      <td>0.041708</td>\n",
       "      <td>0.050680</td>\n",
       "      <td>-0.015906</td>\n",
       "      <td>0.017282</td>\n",
       "      <td>-0.037344</td>\n",
       "      <td>-0.013840</td>\n",
       "      <td>-0.024993</td>\n",
       "      <td>-0.011080</td>\n",
       "      <td>-0.046879</td>\n",
       "      <td>0.015491</td>\n",
       "    </tr>\n",
       "    <tr>\n",
       "      <th>440</th>\n",
       "      <td>-0.045472</td>\n",
       "      <td>-0.044642</td>\n",
       "      <td>0.039062</td>\n",
       "      <td>0.001215</td>\n",
       "      <td>0.016318</td>\n",
       "      <td>0.015283</td>\n",
       "      <td>-0.028674</td>\n",
       "      <td>0.026560</td>\n",
       "      <td>0.044528</td>\n",
       "      <td>-0.025930</td>\n",
       "    </tr>\n",
       "    <tr>\n",
       "      <th>441</th>\n",
       "      <td>-0.045472</td>\n",
       "      <td>-0.044642</td>\n",
       "      <td>-0.073030</td>\n",
       "      <td>-0.081414</td>\n",
       "      <td>0.083740</td>\n",
       "      <td>0.027809</td>\n",
       "      <td>0.173816</td>\n",
       "      <td>-0.039493</td>\n",
       "      <td>-0.004220</td>\n",
       "      <td>0.003064</td>\n",
       "    </tr>\n",
       "  </tbody>\n",
       "</table>\n",
       "<p>442 rows × 10 columns</p>\n",
       "</div>"
      ],
      "text/plain": [
       "          age       sex       bmi        bp        s1        s2        s3  \\\n",
       "0    0.038076  0.050680  0.061696  0.021872 -0.044223 -0.034821 -0.043401   \n",
       "1   -0.001882 -0.044642 -0.051474 -0.026328 -0.008449 -0.019163  0.074412   \n",
       "2    0.085299  0.050680  0.044451 -0.005671 -0.045599 -0.034194 -0.032356   \n",
       "3   -0.089063 -0.044642 -0.011595 -0.036656  0.012191  0.024991 -0.036038   \n",
       "4    0.005383 -0.044642 -0.036385  0.021872  0.003935  0.015596  0.008142   \n",
       "..        ...       ...       ...       ...       ...       ...       ...   \n",
       "437  0.041708  0.050680  0.019662  0.059744 -0.005697 -0.002566 -0.028674   \n",
       "438 -0.005515  0.050680 -0.015906 -0.067642  0.049341  0.079165 -0.028674   \n",
       "439  0.041708  0.050680 -0.015906  0.017282 -0.037344 -0.013840 -0.024993   \n",
       "440 -0.045472 -0.044642  0.039062  0.001215  0.016318  0.015283 -0.028674   \n",
       "441 -0.045472 -0.044642 -0.073030 -0.081414  0.083740  0.027809  0.173816   \n",
       "\n",
       "           s4        s5        s6  \n",
       "0   -0.002592  0.019908 -0.017646  \n",
       "1   -0.039493 -0.068330 -0.092204  \n",
       "2   -0.002592  0.002864 -0.025930  \n",
       "3    0.034309  0.022692 -0.009362  \n",
       "4   -0.002592 -0.031991 -0.046641  \n",
       "..        ...       ...       ...  \n",
       "437 -0.002592  0.031193  0.007207  \n",
       "438  0.034309 -0.018118  0.044485  \n",
       "439 -0.011080 -0.046879  0.015491  \n",
       "440  0.026560  0.044528 -0.025930  \n",
       "441 -0.039493 -0.004220  0.003064  \n",
       "\n",
       "[442 rows x 10 columns]"
      ]
     },
     "execution_count": 65,
     "metadata": {},
     "output_type": "execute_result"
    }
   ],
   "source": [
    "df"
   ]
  },
  {
   "cell_type": "code",
   "execution_count": 79,
   "id": "d9157417-589e-42ab-ae09-db6cbfd476ca",
   "metadata": {},
   "outputs": [],
   "source": [
    "df['target'] = diabets.target"
   ]
  },
  {
   "cell_type": "code",
   "execution_count": 80,
   "id": "8320415b-131f-4197-8d9f-821daec6ab0a",
   "metadata": {},
   "outputs": [
    {
     "data": {
      "text/html": [
       "<div>\n",
       "<style scoped>\n",
       "    .dataframe tbody tr th:only-of-type {\n",
       "        vertical-align: middle;\n",
       "    }\n",
       "\n",
       "    .dataframe tbody tr th {\n",
       "        vertical-align: top;\n",
       "    }\n",
       "\n",
       "    .dataframe thead th {\n",
       "        text-align: right;\n",
       "    }\n",
       "</style>\n",
       "<table border=\"1\" class=\"dataframe\">\n",
       "  <thead>\n",
       "    <tr style=\"text-align: right;\">\n",
       "      <th></th>\n",
       "      <th>age</th>\n",
       "      <th>sex</th>\n",
       "      <th>bmi</th>\n",
       "      <th>bp</th>\n",
       "      <th>s1</th>\n",
       "      <th>s2</th>\n",
       "      <th>s3</th>\n",
       "      <th>s4</th>\n",
       "      <th>s5</th>\n",
       "      <th>s6</th>\n",
       "      <th>target</th>\n",
       "    </tr>\n",
       "  </thead>\n",
       "  <tbody>\n",
       "    <tr>\n",
       "      <th>0</th>\n",
       "      <td>0.038076</td>\n",
       "      <td>0.050680</td>\n",
       "      <td>0.061696</td>\n",
       "      <td>0.021872</td>\n",
       "      <td>-0.044223</td>\n",
       "      <td>-0.034821</td>\n",
       "      <td>-0.043401</td>\n",
       "      <td>-0.002592</td>\n",
       "      <td>0.019908</td>\n",
       "      <td>-0.017646</td>\n",
       "      <td>151.0</td>\n",
       "    </tr>\n",
       "    <tr>\n",
       "      <th>1</th>\n",
       "      <td>-0.001882</td>\n",
       "      <td>-0.044642</td>\n",
       "      <td>-0.051474</td>\n",
       "      <td>-0.026328</td>\n",
       "      <td>-0.008449</td>\n",
       "      <td>-0.019163</td>\n",
       "      <td>0.074412</td>\n",
       "      <td>-0.039493</td>\n",
       "      <td>-0.068330</td>\n",
       "      <td>-0.092204</td>\n",
       "      <td>75.0</td>\n",
       "    </tr>\n",
       "    <tr>\n",
       "      <th>2</th>\n",
       "      <td>0.085299</td>\n",
       "      <td>0.050680</td>\n",
       "      <td>0.044451</td>\n",
       "      <td>-0.005671</td>\n",
       "      <td>-0.045599</td>\n",
       "      <td>-0.034194</td>\n",
       "      <td>-0.032356</td>\n",
       "      <td>-0.002592</td>\n",
       "      <td>0.002864</td>\n",
       "      <td>-0.025930</td>\n",
       "      <td>141.0</td>\n",
       "    </tr>\n",
       "    <tr>\n",
       "      <th>3</th>\n",
       "      <td>-0.089063</td>\n",
       "      <td>-0.044642</td>\n",
       "      <td>-0.011595</td>\n",
       "      <td>-0.036656</td>\n",
       "      <td>0.012191</td>\n",
       "      <td>0.024991</td>\n",
       "      <td>-0.036038</td>\n",
       "      <td>0.034309</td>\n",
       "      <td>0.022692</td>\n",
       "      <td>-0.009362</td>\n",
       "      <td>206.0</td>\n",
       "    </tr>\n",
       "    <tr>\n",
       "      <th>4</th>\n",
       "      <td>0.005383</td>\n",
       "      <td>-0.044642</td>\n",
       "      <td>-0.036385</td>\n",
       "      <td>0.021872</td>\n",
       "      <td>0.003935</td>\n",
       "      <td>0.015596</td>\n",
       "      <td>0.008142</td>\n",
       "      <td>-0.002592</td>\n",
       "      <td>-0.031991</td>\n",
       "      <td>-0.046641</td>\n",
       "      <td>135.0</td>\n",
       "    </tr>\n",
       "    <tr>\n",
       "      <th>...</th>\n",
       "      <td>...</td>\n",
       "      <td>...</td>\n",
       "      <td>...</td>\n",
       "      <td>...</td>\n",
       "      <td>...</td>\n",
       "      <td>...</td>\n",
       "      <td>...</td>\n",
       "      <td>...</td>\n",
       "      <td>...</td>\n",
       "      <td>...</td>\n",
       "      <td>...</td>\n",
       "    </tr>\n",
       "    <tr>\n",
       "      <th>437</th>\n",
       "      <td>0.041708</td>\n",
       "      <td>0.050680</td>\n",
       "      <td>0.019662</td>\n",
       "      <td>0.059744</td>\n",
       "      <td>-0.005697</td>\n",
       "      <td>-0.002566</td>\n",
       "      <td>-0.028674</td>\n",
       "      <td>-0.002592</td>\n",
       "      <td>0.031193</td>\n",
       "      <td>0.007207</td>\n",
       "      <td>178.0</td>\n",
       "    </tr>\n",
       "    <tr>\n",
       "      <th>438</th>\n",
       "      <td>-0.005515</td>\n",
       "      <td>0.050680</td>\n",
       "      <td>-0.015906</td>\n",
       "      <td>-0.067642</td>\n",
       "      <td>0.049341</td>\n",
       "      <td>0.079165</td>\n",
       "      <td>-0.028674</td>\n",
       "      <td>0.034309</td>\n",
       "      <td>-0.018118</td>\n",
       "      <td>0.044485</td>\n",
       "      <td>104.0</td>\n",
       "    </tr>\n",
       "    <tr>\n",
       "      <th>439</th>\n",
       "      <td>0.041708</td>\n",
       "      <td>0.050680</td>\n",
       "      <td>-0.015906</td>\n",
       "      <td>0.017282</td>\n",
       "      <td>-0.037344</td>\n",
       "      <td>-0.013840</td>\n",
       "      <td>-0.024993</td>\n",
       "      <td>-0.011080</td>\n",
       "      <td>-0.046879</td>\n",
       "      <td>0.015491</td>\n",
       "      <td>132.0</td>\n",
       "    </tr>\n",
       "    <tr>\n",
       "      <th>440</th>\n",
       "      <td>-0.045472</td>\n",
       "      <td>-0.044642</td>\n",
       "      <td>0.039062</td>\n",
       "      <td>0.001215</td>\n",
       "      <td>0.016318</td>\n",
       "      <td>0.015283</td>\n",
       "      <td>-0.028674</td>\n",
       "      <td>0.026560</td>\n",
       "      <td>0.044528</td>\n",
       "      <td>-0.025930</td>\n",
       "      <td>220.0</td>\n",
       "    </tr>\n",
       "    <tr>\n",
       "      <th>441</th>\n",
       "      <td>-0.045472</td>\n",
       "      <td>-0.044642</td>\n",
       "      <td>-0.073030</td>\n",
       "      <td>-0.081414</td>\n",
       "      <td>0.083740</td>\n",
       "      <td>0.027809</td>\n",
       "      <td>0.173816</td>\n",
       "      <td>-0.039493</td>\n",
       "      <td>-0.004220</td>\n",
       "      <td>0.003064</td>\n",
       "      <td>57.0</td>\n",
       "    </tr>\n",
       "  </tbody>\n",
       "</table>\n",
       "<p>442 rows × 11 columns</p>\n",
       "</div>"
      ],
      "text/plain": [
       "          age       sex       bmi        bp        s1        s2        s3  \\\n",
       "0    0.038076  0.050680  0.061696  0.021872 -0.044223 -0.034821 -0.043401   \n",
       "1   -0.001882 -0.044642 -0.051474 -0.026328 -0.008449 -0.019163  0.074412   \n",
       "2    0.085299  0.050680  0.044451 -0.005671 -0.045599 -0.034194 -0.032356   \n",
       "3   -0.089063 -0.044642 -0.011595 -0.036656  0.012191  0.024991 -0.036038   \n",
       "4    0.005383 -0.044642 -0.036385  0.021872  0.003935  0.015596  0.008142   \n",
       "..        ...       ...       ...       ...       ...       ...       ...   \n",
       "437  0.041708  0.050680  0.019662  0.059744 -0.005697 -0.002566 -0.028674   \n",
       "438 -0.005515  0.050680 -0.015906 -0.067642  0.049341  0.079165 -0.028674   \n",
       "439  0.041708  0.050680 -0.015906  0.017282 -0.037344 -0.013840 -0.024993   \n",
       "440 -0.045472 -0.044642  0.039062  0.001215  0.016318  0.015283 -0.028674   \n",
       "441 -0.045472 -0.044642 -0.073030 -0.081414  0.083740  0.027809  0.173816   \n",
       "\n",
       "           s4        s5        s6  target  \n",
       "0   -0.002592  0.019908 -0.017646   151.0  \n",
       "1   -0.039493 -0.068330 -0.092204    75.0  \n",
       "2   -0.002592  0.002864 -0.025930   141.0  \n",
       "3    0.034309  0.022692 -0.009362   206.0  \n",
       "4   -0.002592 -0.031991 -0.046641   135.0  \n",
       "..        ...       ...       ...     ...  \n",
       "437 -0.002592  0.031193  0.007207   178.0  \n",
       "438  0.034309 -0.018118  0.044485   104.0  \n",
       "439 -0.011080 -0.046879  0.015491   132.0  \n",
       "440  0.026560  0.044528 -0.025930   220.0  \n",
       "441 -0.039493 -0.004220  0.003064    57.0  \n",
       "\n",
       "[442 rows x 11 columns]"
      ]
     },
     "execution_count": 80,
     "metadata": {},
     "output_type": "execute_result"
    }
   ],
   "source": [
    "df"
   ]
  },
  {
   "cell_type": "code",
   "execution_count": 81,
   "id": "01eb8849-a058-4e8f-9b84-b9554be5f34d",
   "metadata": {},
   "outputs": [],
   "source": [
    "knn = KNeighborsClassifier()"
   ]
  },
  {
   "cell_type": "code",
   "execution_count": 82,
   "id": "d437cbcb-19a3-4484-991d-d0c55a51f3fa",
   "metadata": {},
   "outputs": [],
   "source": [
    "grid_model = GridSearchCV(knn, return_train_score=True, param_grid = param_grid, cv=5, verbose=2 )"
   ]
  },
  {
   "cell_type": "code",
   "execution_count": 83,
   "id": "486b7bfb-37ea-4a3a-9122-cec58138f485",
   "metadata": {
    "collapsed": true,
    "jupyter": {
     "outputs_hidden": true
    },
    "tags": []
   },
   "outputs": [
    {
     "name": "stdout",
     "output_type": "stream",
     "text": [
      "Fitting 5 folds for each of 19 candidates, totalling 95 fits\n",
      "[CV] END ......................................n_neighbors=1; total time=   0.0s\n",
      "[CV] END ......................................n_neighbors=1; total time=   0.0s\n",
      "[CV] END ......................................n_neighbors=1; total time=   0.0s\n",
      "[CV] END ......................................n_neighbors=1; total time=   0.0s\n",
      "[CV] END ......................................n_neighbors=1; total time=   0.0s\n",
      "[CV] END ......................................n_neighbors=2; total time=   0.0s\n",
      "[CV] END ......................................n_neighbors=2; total time=   0.0s\n",
      "[CV] END ......................................n_neighbors=2; total time=   0.0s\n",
      "[CV] END ......................................n_neighbors=2; total time=   0.0s\n",
      "[CV] END ......................................n_neighbors=2; total time=   0.0s\n",
      "[CV] END ......................................n_neighbors=3; total time=   0.0s\n",
      "[CV] END ......................................n_neighbors=3; total time=   0.0s\n",
      "[CV] END ......................................n_neighbors=3; total time=   0.0s\n",
      "[CV] END ......................................n_neighbors=3; total time=   0.0s\n",
      "[CV] END ......................................n_neighbors=3; total time=   0.0s\n",
      "[CV] END ......................................n_neighbors=4; total time=   0.0s\n",
      "[CV] END ......................................n_neighbors=4; total time=   0.0s\n",
      "[CV] END ......................................n_neighbors=4; total time=   0.0s\n",
      "[CV] END ......................................n_neighbors=4; total time=   0.0s\n",
      "[CV] END ......................................n_neighbors=4; total time=   0.0s\n",
      "[CV] END ......................................n_neighbors=5; total time=   0.0s\n",
      "[CV] END ......................................n_neighbors=5; total time=   0.0s\n",
      "[CV] END ......................................n_neighbors=5; total time=   0.0s\n",
      "[CV] END ......................................n_neighbors=5; total time=   0.0s\n",
      "[CV] END ......................................n_neighbors=5; total time=   0.0s\n",
      "[CV] END ......................................n_neighbors=6; total time=   0.0s\n",
      "[CV] END ......................................n_neighbors=6; total time=   0.0s\n",
      "[CV] END ......................................n_neighbors=6; total time=   0.0s\n",
      "[CV] END ......................................n_neighbors=6; total time=   0.0s\n",
      "[CV] END ......................................n_neighbors=6; total time=   0.0s\n",
      "[CV] END ......................................n_neighbors=7; total time=   0.0s\n",
      "[CV] END ......................................n_neighbors=7; total time=   0.0s\n",
      "[CV] END ......................................n_neighbors=7; total time=   0.0s\n",
      "[CV] END ......................................n_neighbors=7; total time=   0.0s\n",
      "[CV] END ......................................n_neighbors=7; total time=   0.0s\n",
      "[CV] END ......................................n_neighbors=8; total time=   0.0s\n",
      "[CV] END ......................................n_neighbors=8; total time=   0.0s\n",
      "[CV] END ......................................n_neighbors=8; total time=   0.0s\n",
      "[CV] END ......................................n_neighbors=8; total time=   0.0s\n",
      "[CV] END ......................................n_neighbors=8; total time=   0.0s\n",
      "[CV] END ......................................n_neighbors=9; total time=   0.0s\n",
      "[CV] END ......................................n_neighbors=9; total time=   0.0s\n",
      "[CV] END ......................................n_neighbors=9; total time=   0.0s\n",
      "[CV] END ......................................n_neighbors=9; total time=   0.0s\n",
      "[CV] END ......................................n_neighbors=9; total time=   0.0s\n",
      "[CV] END .....................................n_neighbors=10; total time=   0.0s\n",
      "[CV] END .....................................n_neighbors=10; total time=   0.0s\n",
      "[CV] END .....................................n_neighbors=10; total time=   0.0s\n",
      "[CV] END .....................................n_neighbors=10; total time=   0.0s\n",
      "[CV] END .....................................n_neighbors=10; total time=   0.0s\n",
      "[CV] END .....................................n_neighbors=11; total time=   0.0s\n",
      "[CV] END .....................................n_neighbors=11; total time=   0.0s\n",
      "[CV] END .....................................n_neighbors=11; total time=   0.0s\n",
      "[CV] END .....................................n_neighbors=11; total time=   0.0s\n",
      "[CV] END .....................................n_neighbors=11; total time=   0.0s\n",
      "[CV] END .....................................n_neighbors=12; total time=   0.0s\n",
      "[CV] END .....................................n_neighbors=12; total time=   0.0s\n",
      "[CV] END .....................................n_neighbors=12; total time=   0.0s\n",
      "[CV] END .....................................n_neighbors=12; total time=   0.0s\n",
      "[CV] END .....................................n_neighbors=12; total time=   0.0s\n",
      "[CV] END .....................................n_neighbors=13; total time=   0.0s\n",
      "[CV] END .....................................n_neighbors=13; total time=   0.0s\n",
      "[CV] END .....................................n_neighbors=13; total time=   0.0s\n",
      "[CV] END .....................................n_neighbors=13; total time=   0.0s\n",
      "[CV] END .....................................n_neighbors=13; total time=   0.0s\n",
      "[CV] END .....................................n_neighbors=14; total time=   0.0s\n",
      "[CV] END .....................................n_neighbors=14; total time=   0.0s\n",
      "[CV] END .....................................n_neighbors=14; total time=   0.0s\n",
      "[CV] END .....................................n_neighbors=14; total time=   0.0s\n",
      "[CV] END .....................................n_neighbors=14; total time=   0.0s\n",
      "[CV] END .....................................n_neighbors=15; total time=   0.0s\n",
      "[CV] END .....................................n_neighbors=15; total time=   0.0s\n",
      "[CV] END .....................................n_neighbors=15; total time=   0.0s\n",
      "[CV] END .....................................n_neighbors=15; total time=   0.0s\n",
      "[CV] END .....................................n_neighbors=15; total time=   0.0s\n",
      "[CV] END .....................................n_neighbors=16; total time=   0.0s\n",
      "[CV] END .....................................n_neighbors=16; total time=   0.0s\n",
      "[CV] END .....................................n_neighbors=16; total time=   0.0s\n",
      "[CV] END .....................................n_neighbors=16; total time=   0.0s\n",
      "[CV] END .....................................n_neighbors=16; total time=   0.0s\n",
      "[CV] END .....................................n_neighbors=17; total time=   0.0s\n",
      "[CV] END .....................................n_neighbors=17; total time=   0.0s\n",
      "[CV] END .....................................n_neighbors=17; total time=   0.0s\n",
      "[CV] END .....................................n_neighbors=17; total time=   0.0s\n",
      "[CV] END .....................................n_neighbors=17; total time=   0.0s\n",
      "[CV] END .....................................n_neighbors=18; total time=   0.0s\n",
      "[CV] END .....................................n_neighbors=18; total time=   0.0s\n",
      "[CV] END .....................................n_neighbors=18; total time=   0.0s\n",
      "[CV] END .....................................n_neighbors=18; total time=   0.0s\n",
      "[CV] END .....................................n_neighbors=18; total time=   0.0s\n",
      "[CV] END .....................................n_neighbors=19; total time=   0.0s\n",
      "[CV] END .....................................n_neighbors=19; total time=   0.0s\n",
      "[CV] END .....................................n_neighbors=19; total time=   0.0s\n",
      "[CV] END .....................................n_neighbors=19; total time=   0.0s\n",
      "[CV] END .....................................n_neighbors=19; total time=   0.0s\n"
     ]
    },
    {
     "data": {
      "text/plain": [
       "GridSearchCV(cv=5, estimator=KNeighborsClassifier(),\n",
       "             param_grid={'n_neighbors': range(1, 20)}, return_train_score=True,\n",
       "             verbose=2)"
      ]
     },
     "execution_count": 83,
     "metadata": {},
     "output_type": "execute_result"
    }
   ],
   "source": [
    "grid_model.fit(df, df.target)"
   ]
  },
  {
   "cell_type": "code",
   "execution_count": null,
   "id": "d80fa5d6-9047-41da-8347-1649ce142f4f",
   "metadata": {},
   "outputs": [],
   "source": []
  },
  {
   "cell_type": "code",
   "execution_count": 84,
   "id": "562fd846-4f96-4ff0-bd6d-9145e0a891b6",
   "metadata": {},
   "outputs": [],
   "source": [
    "colnames = ['param_n_neighbors','mean_train_score','mean_test_score']"
   ]
  },
  {
   "cell_type": "code",
   "execution_count": 85,
   "id": "03774e27-8667-436f-99d6-35ccca23b480",
   "metadata": {},
   "outputs": [],
   "source": [
    "grid_df = pd.DataFrame(grid_model.cv_results_, columns = colnames)"
   ]
  },
  {
   "cell_type": "code",
   "execution_count": 86,
   "id": "61c8c17c-8275-4e42-9134-b733f4ec1ed1",
   "metadata": {},
   "outputs": [],
   "source": [
    "grid_df.set_index('param_n_neighbors', inplace=True)"
   ]
  },
  {
   "cell_type": "code",
   "execution_count": 87,
   "id": "89efc7e0-e0ba-4b4a-acfb-8d1d4e610d7f",
   "metadata": {},
   "outputs": [
    {
     "data": {
      "text/html": [
       "<div>\n",
       "<style scoped>\n",
       "    .dataframe tbody tr th:only-of-type {\n",
       "        vertical-align: middle;\n",
       "    }\n",
       "\n",
       "    .dataframe tbody tr th {\n",
       "        vertical-align: top;\n",
       "    }\n",
       "\n",
       "    .dataframe thead th {\n",
       "        text-align: right;\n",
       "    }\n",
       "</style>\n",
       "<table border=\"1\" class=\"dataframe\">\n",
       "  <thead>\n",
       "    <tr style=\"text-align: right;\">\n",
       "      <th></th>\n",
       "      <th>mean_train_score</th>\n",
       "      <th>mean_test_score</th>\n",
       "    </tr>\n",
       "    <tr>\n",
       "      <th>param_n_neighbors</th>\n",
       "      <th></th>\n",
       "      <th></th>\n",
       "    </tr>\n",
       "  </thead>\n",
       "  <tbody>\n",
       "    <tr>\n",
       "      <th>1</th>\n",
       "      <td>1.000000</td>\n",
       "      <td>0.809831</td>\n",
       "    </tr>\n",
       "    <tr>\n",
       "      <th>2</th>\n",
       "      <td>0.864258</td>\n",
       "      <td>0.662743</td>\n",
       "    </tr>\n",
       "    <tr>\n",
       "      <th>3</th>\n",
       "      <td>0.758487</td>\n",
       "      <td>0.515628</td>\n",
       "    </tr>\n",
       "    <tr>\n",
       "      <th>4</th>\n",
       "      <td>0.674768</td>\n",
       "      <td>0.452349</td>\n",
       "    </tr>\n",
       "    <tr>\n",
       "      <th>5</th>\n",
       "      <td>0.587655</td>\n",
       "      <td>0.386823</td>\n",
       "    </tr>\n",
       "    <tr>\n",
       "      <th>6</th>\n",
       "      <td>0.488096</td>\n",
       "      <td>0.318973</td>\n",
       "    </tr>\n",
       "    <tr>\n",
       "      <th>7</th>\n",
       "      <td>0.411741</td>\n",
       "      <td>0.257840</td>\n",
       "    </tr>\n",
       "    <tr>\n",
       "      <th>8</th>\n",
       "      <td>0.376689</td>\n",
       "      <td>0.232891</td>\n",
       "    </tr>\n",
       "    <tr>\n",
       "      <th>9</th>\n",
       "      <td>0.333151</td>\n",
       "      <td>0.216982</td>\n",
       "    </tr>\n",
       "    <tr>\n",
       "      <th>10</th>\n",
       "      <td>0.298081</td>\n",
       "      <td>0.187564</td>\n",
       "    </tr>\n",
       "    <tr>\n",
       "      <th>11</th>\n",
       "      <td>0.272617</td>\n",
       "      <td>0.164990</td>\n",
       "    </tr>\n",
       "    <tr>\n",
       "      <th>12</th>\n",
       "      <td>0.250550</td>\n",
       "      <td>0.149183</td>\n",
       "    </tr>\n",
       "    <tr>\n",
       "      <th>13</th>\n",
       "      <td>0.232439</td>\n",
       "      <td>0.131129</td>\n",
       "    </tr>\n",
       "    <tr>\n",
       "      <th>14</th>\n",
       "      <td>0.212077</td>\n",
       "      <td>0.117594</td>\n",
       "    </tr>\n",
       "    <tr>\n",
       "      <th>15</th>\n",
       "      <td>0.200200</td>\n",
       "      <td>0.106307</td>\n",
       "    </tr>\n",
       "    <tr>\n",
       "      <th>16</th>\n",
       "      <td>0.181543</td>\n",
       "      <td>0.090449</td>\n",
       "    </tr>\n",
       "    <tr>\n",
       "      <th>17</th>\n",
       "      <td>0.167400</td>\n",
       "      <td>0.083682</td>\n",
       "    </tr>\n",
       "    <tr>\n",
       "      <th>18</th>\n",
       "      <td>0.160055</td>\n",
       "      <td>0.076864</td>\n",
       "    </tr>\n",
       "    <tr>\n",
       "      <th>19</th>\n",
       "      <td>0.153840</td>\n",
       "      <td>0.076864</td>\n",
       "    </tr>\n",
       "  </tbody>\n",
       "</table>\n",
       "</div>"
      ],
      "text/plain": [
       "                   mean_train_score  mean_test_score\n",
       "param_n_neighbors                                   \n",
       "1                          1.000000         0.809831\n",
       "2                          0.864258         0.662743\n",
       "3                          0.758487         0.515628\n",
       "4                          0.674768         0.452349\n",
       "5                          0.587655         0.386823\n",
       "6                          0.488096         0.318973\n",
       "7                          0.411741         0.257840\n",
       "8                          0.376689         0.232891\n",
       "9                          0.333151         0.216982\n",
       "10                         0.298081         0.187564\n",
       "11                         0.272617         0.164990\n",
       "12                         0.250550         0.149183\n",
       "13                         0.232439         0.131129\n",
       "14                         0.212077         0.117594\n",
       "15                         0.200200         0.106307\n",
       "16                         0.181543         0.090449\n",
       "17                         0.167400         0.083682\n",
       "18                         0.160055         0.076864\n",
       "19                         0.153840         0.076864"
      ]
     },
     "execution_count": 87,
     "metadata": {},
     "output_type": "execute_result"
    }
   ],
   "source": [
    "grid_df.sort_values(['mean_test_score','mean_train_score'], ascending=False)"
   ]
  },
  {
   "cell_type": "code",
   "execution_count": 88,
   "id": "5a6aacf2-d88b-4cfd-972d-b59ec7456057",
   "metadata": {},
   "outputs": [
    {
     "data": {
      "text/plain": [
       "KNeighborsClassifier(n_neighbors=1)"
      ]
     },
     "execution_count": 88,
     "metadata": {},
     "output_type": "execute_result"
    }
   ],
   "source": [
    "grid_model.best_estimator_ #한방에 나온다~ best가"
   ]
  },
  {
   "cell_type": "code",
   "execution_count": 89,
   "id": "c6668730-2dcb-4e3d-b168-af15685e8b52",
   "metadata": {},
   "outputs": [
    {
     "data": {
      "text/plain": [
       "0.8098314606741572"
      ]
     },
     "execution_count": 89,
     "metadata": {},
     "output_type": "execute_result"
    }
   ],
   "source": [
    "grid_model.best_score_ "
   ]
  },
  {
   "cell_type": "code",
   "execution_count": 90,
   "id": "c425ebfc-a865-4e9d-9553-4ded671bf1ec",
   "metadata": {},
   "outputs": [
    {
     "data": {
      "text/plain": [
       "{'n_neighbors': 1}"
      ]
     },
     "execution_count": 90,
     "metadata": {},
     "output_type": "execute_result"
    }
   ],
   "source": [
    "grid_model.best_params_ "
   ]
  },
  {
   "cell_type": "code",
   "execution_count": 91,
   "id": "c4436149-4636-4d99-9f16-1d212b4687a1",
   "metadata": {},
   "outputs": [
    {
     "data": {
      "text/plain": [
       "0"
      ]
     },
     "execution_count": 91,
     "metadata": {},
     "output_type": "execute_result"
    }
   ],
   "source": [
    "grid_model.best_index_"
   ]
  }
 ],
 "metadata": {
  "kernelspec": {
   "display_name": "Python 3 (ipykernel)",
   "language": "python",
   "name": "python3"
  },
  "language_info": {
   "codemirror_mode": {
    "name": "ipython",
    "version": 3
   },
   "file_extension": ".py",
   "mimetype": "text/x-python",
   "name": "python",
   "nbconvert_exporter": "python",
   "pygments_lexer": "ipython3",
   "version": "3.9.12"
  }
 },
 "nbformat": 4,
 "nbformat_minor": 5
}
