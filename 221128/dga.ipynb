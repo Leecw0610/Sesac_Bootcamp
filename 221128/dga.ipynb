{
 "cells": [
  {
   "cell_type": "markdown",
   "id": "3689e7fb-42fc-4610-8679-ef018603bebd",
   "metadata": {},
   "source": [
    "# DGA 도메인 탐지!!"
   ]
  },
  {
   "cell_type": "code",
   "execution_count": null,
   "id": "0bf3f1ee-1de6-4fce-9474-835dc0cdbc1c",
   "metadata": {},
   "outputs": [],
   "source": []
  },
  {
   "cell_type": "markdown",
   "id": "56967922-0758-45a0-857b-c367781be196",
   "metadata": {},
   "source": [
    "# 0. 라이브러리 불러오기"
   ]
  },
  {
   "cell_type": "code",
   "execution_count": 1,
   "id": "7b237976-8c0c-4e1d-913e-62a1b46d924d",
   "metadata": {},
   "outputs": [],
   "source": [
    "import pandas as pd\n",
    "import numpy as np"
   ]
  },
  {
   "cell_type": "code",
   "execution_count": 2,
   "id": "32ae3940-b7ea-456a-a4da-9660698f0b72",
   "metadata": {},
   "outputs": [],
   "source": [
    "data=pd.read_csv('DGA_예선_학습데이터.csv')"
   ]
  },
  {
   "cell_type": "code",
   "execution_count": 3,
   "id": "15a3373e-3871-4f89-adf9-1ede2c138178",
   "metadata": {},
   "outputs": [
    {
     "data": {
      "text/html": [
       "<div>\n",
       "<style scoped>\n",
       "    .dataframe tbody tr th:only-of-type {\n",
       "        vertical-align: middle;\n",
       "    }\n",
       "\n",
       "    .dataframe tbody tr th {\n",
       "        vertical-align: top;\n",
       "    }\n",
       "\n",
       "    .dataframe thead th {\n",
       "        text-align: right;\n",
       "    }\n",
       "</style>\n",
       "<table border=\"1\" class=\"dataframe\">\n",
       "  <thead>\n",
       "    <tr style=\"text-align: right;\">\n",
       "      <th></th>\n",
       "      <th>domain</th>\n",
       "      <th>dga</th>\n",
       "      <th>class</th>\n",
       "    </tr>\n",
       "  </thead>\n",
       "  <tbody>\n",
       "    <tr>\n",
       "      <th>0</th>\n",
       "      <td>vsviqe.com</td>\n",
       "      <td>yes</td>\n",
       "      <td>19</td>\n",
       "    </tr>\n",
       "    <tr>\n",
       "      <th>1</th>\n",
       "      <td>170qknj1onn4c37qf1w71rzei1h.org</td>\n",
       "      <td>yes</td>\n",
       "      <td>6</td>\n",
       "    </tr>\n",
       "    <tr>\n",
       "      <th>2</th>\n",
       "      <td>smartidpro.in</td>\n",
       "      <td>no</td>\n",
       "      <td>0</td>\n",
       "    </tr>\n",
       "    <tr>\n",
       "      <th>3</th>\n",
       "      <td>9mtrkmet8rjnpya4.ru</td>\n",
       "      <td>yes</td>\n",
       "      <td>2</td>\n",
       "    </tr>\n",
       "    <tr>\n",
       "      <th>4</th>\n",
       "      <td>ypyxhi.com</td>\n",
       "      <td>yes</td>\n",
       "      <td>19</td>\n",
       "    </tr>\n",
       "    <tr>\n",
       "      <th>...</th>\n",
       "      <td>...</td>\n",
       "      <td>...</td>\n",
       "      <td>...</td>\n",
       "    </tr>\n",
       "    <tr>\n",
       "      <th>1599995</th>\n",
       "      <td>10zpd8p1ktb8bg1al07c3rfkuqw.net</td>\n",
       "      <td>yes</td>\n",
       "      <td>6</td>\n",
       "    </tr>\n",
       "    <tr>\n",
       "      <th>1599996</th>\n",
       "      <td>acheemprego.com</td>\n",
       "      <td>no</td>\n",
       "      <td>0</td>\n",
       "    </tr>\n",
       "    <tr>\n",
       "      <th>1599997</th>\n",
       "      <td>dtvvqs.com</td>\n",
       "      <td>yes</td>\n",
       "      <td>19</td>\n",
       "    </tr>\n",
       "    <tr>\n",
       "      <th>1599998</th>\n",
       "      <td>qurtpwncfwhjke.pw</td>\n",
       "      <td>yes</td>\n",
       "      <td>7</td>\n",
       "    </tr>\n",
       "    <tr>\n",
       "      <th>1599999</th>\n",
       "      <td>p148e12d7c430db3c04635de27e343c625.ws</td>\n",
       "      <td>yes</td>\n",
       "      <td>5</td>\n",
       "    </tr>\n",
       "  </tbody>\n",
       "</table>\n",
       "<p>1600000 rows × 3 columns</p>\n",
       "</div>"
      ],
      "text/plain": [
       "                                        domain  dga  class\n",
       "0                                   vsviqe.com  yes     19\n",
       "1              170qknj1onn4c37qf1w71rzei1h.org  yes      6\n",
       "2                                smartidpro.in   no      0\n",
       "3                          9mtrkmet8rjnpya4.ru  yes      2\n",
       "4                                   ypyxhi.com  yes     19\n",
       "...                                        ...  ...    ...\n",
       "1599995        10zpd8p1ktb8bg1al07c3rfkuqw.net  yes      6\n",
       "1599996                        acheemprego.com   no      0\n",
       "1599997                             dtvvqs.com  yes     19\n",
       "1599998                      qurtpwncfwhjke.pw  yes      7\n",
       "1599999  p148e12d7c430db3c04635de27e343c625.ws  yes      5\n",
       "\n",
       "[1600000 rows x 3 columns]"
      ]
     },
     "execution_count": 3,
     "metadata": {},
     "output_type": "execute_result"
    }
   ],
   "source": [
    "data"
   ]
  },
  {
   "cell_type": "code",
   "execution_count": null,
   "id": "58c26e73-8727-409f-8e7c-d5ed46a6e40e",
   "metadata": {},
   "outputs": [],
   "source": [
    "data.info()"
   ]
  },
  {
   "cell_type": "code",
   "execution_count": null,
   "id": "53361463-2f33-4305-b510-66b79fb2b6f6",
   "metadata": {},
   "outputs": [],
   "source": [
    "data.isnull().sum()"
   ]
  },
  {
   "cell_type": "code",
   "execution_count": null,
   "id": "7e8c96c1-4642-4386-b255-b8c7b6134817",
   "metadata": {},
   "outputs": [],
   "source": [
    "data1=data[data['dga']=='no'] #dga가 no인것들만 data1"
   ]
  },
  {
   "cell_type": "code",
   "execution_count": null,
   "id": "d4d5c1ea-7c9e-44fd-a66e-6f8691e8ebcb",
   "metadata": {},
   "outputs": [],
   "source": [
    "data1['class'].unique()"
   ]
  },
  {
   "cell_type": "code",
   "execution_count": null,
   "id": "00a15b62-7d4c-4af2-921b-12e1ba5f2398",
   "metadata": {},
   "outputs": [],
   "source": [
    "data1"
   ]
  },
  {
   "cell_type": "code",
   "execution_count": null,
   "id": "b4ab5f9d-0b92-4a68-8aa7-35899f5fc2df",
   "metadata": {},
   "outputs": [],
   "source": [
    "data1['domain'].str.split('.').reset_index()['domain'][0][-1]"
   ]
  },
  {
   "cell_type": "code",
   "execution_count": null,
   "id": "3c620231-7ce3-4301-adaa-0bb567a9f65e",
   "metadata": {
    "tags": []
   },
   "outputs": [],
   "source": [
    "for i in range (len(data1)) :\n",
    "    data1['top domain']= data1['domain'].str.split('.').reset_index()['domain'][i][-1]"
   ]
  },
  {
   "cell_type": "code",
   "execution_count": null,
   "id": "1b75c382-298d-41b2-9d0a-f21267c7a6c1",
   "metadata": {},
   "outputs": [],
   "source": [
    "data1"
   ]
  },
  {
   "cell_type": "code",
   "execution_count": null,
   "id": "24006d1b-9eec-414c-a88f-de8d1d3870d3",
   "metadata": {},
   "outputs": [],
   "source": [
    "import warnings\n",
    "warnings.filterwarnings('ignore')"
   ]
  },
  {
   "cell_type": "code",
   "execution_count": null,
   "id": "3f45869b-144d-4a4e-bb39-0f53b289bd35",
   "metadata": {},
   "outputs": [],
   "source": [
    "data1"
   ]
  },
  {
   "cell_type": "code",
   "execution_count": null,
   "id": "5d739126-853d-4613-838b-60b620d3de95",
   "metadata": {
    "tags": []
   },
   "outputs": [],
   "source": [
    "for i in range (len(data1)) :\n",
    "    data1['top domain']= data1['domain'].str.split('.').reset_index()['domain'][i][-1]"
   ]
  },
  {
   "cell_type": "code",
   "execution_count": null,
   "id": "2b3270ea-22e8-49ef-9d45-6392c5c24568",
   "metadata": {},
   "outputs": [],
   "source": [
    "#data1['sub domain']= data1['domain'].str.split('.').reset_index()['domain'][i][1]"
   ]
  },
  {
   "cell_type": "code",
   "execution_count": null,
   "id": "69bfd7e7-4de5-4482-9350-f219b5e3ef9a",
   "metadata": {},
   "outputs": [],
   "source": [
    "pip install tld"
   ]
  },
  {
   "cell_type": "code",
   "execution_count": null,
   "id": "f63fbcea-da66-44e2-b915-9e2e0296dec9",
   "metadata": {},
   "outputs": [],
   "source": [
    "from tld import get_tld"
   ]
  },
  {
   "cell_type": "code",
   "execution_count": null,
   "id": "5f8a5295-5204-43af-a0aa-f081892b4eb8",
   "metadata": {},
   "outputs": [],
   "source": [
    "get_tld "
   ]
  },
  {
   "cell_type": "code",
   "execution_count": null,
   "id": "babd1dd3-6ae4-4505-b547-86bb18e88be6",
   "metadata": {},
   "outputs": [],
   "source": [
    "url= 'http://'+'abc.co.kr'\n",
    "url1 = 'http://'+'naver.com'"
   ]
  },
  {
   "cell_type": "code",
   "execution_count": null,
   "id": "48f5c0f0-0094-4478-9d85-018798692e66",
   "metadata": {},
   "outputs": [],
   "source": [
    "top = get_tld(url)"
   ]
  },
  {
   "cell_type": "code",
   "execution_count": null,
   "id": "442bf2bb-7e89-45bf-bb8f-6b927b5ad650",
   "metadata": {},
   "outputs": [],
   "source": [
    "top"
   ]
  },
  {
   "cell_type": "code",
   "execution_count": null,
   "id": "b037ea76-f9c1-4f17-ae27-624563905686",
   "metadata": {},
   "outputs": [],
   "source": [
    "top1= get_tld(url1)"
   ]
  },
  {
   "cell_type": "code",
   "execution_count": null,
   "id": "3f790c3e-05bf-4a59-9e91-f36fc7dd171b",
   "metadata": {},
   "outputs": [],
   "source": [
    "top1"
   ]
  },
  {
   "cell_type": "code",
   "execution_count": null,
   "id": "910aad62-02b4-4ec0-aab7-75687c143bc5",
   "metadata": {},
   "outputs": [],
   "source": [
    "data1['url']='http://'+data1['domain']"
   ]
  },
  {
   "cell_type": "code",
   "execution_count": null,
   "id": "25b5f0b7-6cd6-4292-9061-7a2c6066e1da",
   "metadata": {},
   "outputs": [],
   "source": [
    "data1.reset_index(inplace=True)"
   ]
  },
  {
   "cell_type": "code",
   "execution_count": null,
   "id": "68af4365-1729-4da5-bf40-87574107bdee",
   "metadata": {},
   "outputs": [],
   "source": [
    "data1"
   ]
  },
  {
   "cell_type": "code",
   "execution_count": null,
   "id": "4a81d516-3634-4841-b4b2-fdaaee4a13cf",
   "metadata": {
    "tags": []
   },
   "outputs": [],
   "source": [
    "\n",
    "    for i in range (len(data1)) :\n",
    "        try :\n",
    "            data1['top domain'][i] = get_tld(data1['url'][i])\n",
    "        except :\n",
    "            data1['top domain'][i] = '0'\n",
    "            print(data1['url'][i])"
   ]
  },
  {
   "cell_type": "code",
   "execution_count": null,
   "id": "1b203c07-e98d-4263-a94e-2ce9b38d6e60",
   "metadata": {},
   "outputs": [],
   "source": [
    "data1['top domain'][0]=(data1['url'][0])"
   ]
  },
  {
   "cell_type": "code",
   "execution_count": null,
   "id": "66f4e244-f89f-4c87-8eb0-2d39b8188d44",
   "metadata": {},
   "outputs": [],
   "source": [
    "data1"
   ]
  },
  {
   "cell_type": "code",
   "execution_count": null,
   "id": "2a808d0a-8bee-41c9-b831-aab9715529f0",
   "metadata": {},
   "outputs": [],
   "source": [
    "data1['url'][0] = get_tld(data1['url'][0])"
   ]
  },
  {
   "cell_type": "code",
   "execution_count": null,
   "id": "219b94ae-490f-46aa-ac15-4d92031071a2",
   "metadata": {},
   "outputs": [],
   "source": [
    "len(data1)"
   ]
  },
  {
   "cell_type": "code",
   "execution_count": null,
   "id": "f0a7c3d6-d342-4c9c-aeb9-1e82a2baa8e5",
   "metadata": {
    "tags": []
   },
   "outputs": [],
   "source": [
    "for i in range (len(data1))[:5] :\n",
    "    data1['top domain'][i]= get_tld(data1['url'].iloc[i])"
   ]
  },
  {
   "cell_type": "code",
   "execution_count": null,
   "id": "010ba4ef-6620-451f-8ad1-49544b6a09c7",
   "metadata": {
    "tags": []
   },
   "outputs": [],
   "source": [
    "data1['url'][2]"
   ]
  },
  {
   "cell_type": "code",
   "execution_count": null,
   "id": "c96dbd1b-3aa0-420d-97ae-2411a798ea68",
   "metadata": {},
   "outputs": [],
   "source": []
  },
  {
   "cell_type": "code",
   "execution_count": null,
   "id": "5b707350-d7f2-4127-83f1-917bb66f3e22",
   "metadata": {},
   "outputs": [],
   "source": [
    "data1"
   ]
  },
  {
   "cell_type": "markdown",
   "id": "78636883-5fd3-4e07-8573-6913a26346ce",
   "metadata": {},
   "source": [
    "--------------"
   ]
  },
  {
   "cell_type": "code",
   "execution_count": 4,
   "id": "ef4b8e92-5773-4e2a-b2bc-630dc34dbbe5",
   "metadata": {},
   "outputs": [
    {
     "data": {
      "text/plain": [
       "0     600000\n",
       "1        754\n",
       "2      28944\n",
       "3      13942\n",
       "4      28944\n",
       "5      28944\n",
       "6     323804\n",
       "7      18014\n",
       "8     114863\n",
       "9      63647\n",
       "10      8817\n",
       "11      4863\n",
       "12      2894\n",
       "13     39646\n",
       "14      7815\n",
       "15     10272\n",
       "16     14063\n",
       "17      6206\n",
       "18       927\n",
       "19    282641\n",
       "Name: class, dtype: int64"
      ]
     },
     "execution_count": 4,
     "metadata": {},
     "output_type": "execute_result"
    }
   ],
   "source": [
    "data['class'].value_counts().sort_index()"
   ]
  },
  {
   "cell_type": "code",
   "execution_count": 5,
   "id": "23a55f11-0caa-44c4-ae3c-554baed74cee",
   "metadata": {},
   "outputs": [],
   "source": [
    "import seaborn as sns"
   ]
  },
  {
   "cell_type": "code",
   "execution_count": 6,
   "id": "8f83baf2-0d7f-41f7-b0cc-5c47d61f0304",
   "metadata": {},
   "outputs": [
    {
     "data": {
      "text/plain": [
       "<AxesSubplot:xlabel='class', ylabel='count'>"
      ]
     },
     "execution_count": 6,
     "metadata": {},
     "output_type": "execute_result"
    },
    {
     "data": {
      "image/png": "[encoded data removed]",
      "text/plain": [
       "<Figure size 432x288 with 1 Axes>"
      ]
     },
     "metadata": {
      "needs_background": "light"
     },
     "output_type": "display_data"
    }
   ],
   "source": [
    "sns.countplot(x='class', data=data)"
   ]
  },
  {
   "cell_type": "code",
   "execution_count": 7,
   "id": "c179d023-eda2-4f55-8d60-4d397983ebda",
   "metadata": {},
   "outputs": [
    {
     "data": {
      "text/html": [
       "<div>\n",
       "<style scoped>\n",
       "    .dataframe tbody tr th:only-of-type {\n",
       "        vertical-align: middle;\n",
       "    }\n",
       "\n",
       "    .dataframe tbody tr th {\n",
       "        vertical-align: top;\n",
       "    }\n",
       "\n",
       "    .dataframe thead th {\n",
       "        text-align: right;\n",
       "    }\n",
       "</style>\n",
       "<table border=\"1\" class=\"dataframe\">\n",
       "  <thead>\n",
       "    <tr style=\"text-align: right;\">\n",
       "      <th></th>\n",
       "      <th>domain</th>\n",
       "      <th>dga</th>\n",
       "      <th>class</th>\n",
       "    </tr>\n",
       "  </thead>\n",
       "  <tbody>\n",
       "    <tr>\n",
       "      <th>257</th>\n",
       "      <td>b6427368140624515a0ee4c29d27b789.info</td>\n",
       "      <td>yes</td>\n",
       "      <td>1</td>\n",
       "    </tr>\n",
       "    <tr>\n",
       "      <th>800</th>\n",
       "      <td>6e3772dd01644a88e16b0dbe2a6c0d36.org</td>\n",
       "      <td>yes</td>\n",
       "      <td>1</td>\n",
       "    </tr>\n",
       "    <tr>\n",
       "      <th>1731</th>\n",
       "      <td>1c7fadd66c9fbb16cd1dcd38d743f263.org</td>\n",
       "      <td>yes</td>\n",
       "      <td>1</td>\n",
       "    </tr>\n",
       "    <tr>\n",
       "      <th>4462</th>\n",
       "      <td>773683efbacb0bb70b75322c7e4662b9.info</td>\n",
       "      <td>yes</td>\n",
       "      <td>1</td>\n",
       "    </tr>\n",
       "    <tr>\n",
       "      <th>5435</th>\n",
       "      <td>4a51234e6e87c3c793592df62508a7d4.info</td>\n",
       "      <td>yes</td>\n",
       "      <td>1</td>\n",
       "    </tr>\n",
       "    <tr>\n",
       "      <th>...</th>\n",
       "      <td>...</td>\n",
       "      <td>...</td>\n",
       "      <td>...</td>\n",
       "    </tr>\n",
       "    <tr>\n",
       "      <th>1589137</th>\n",
       "      <td>7a7e47b55b0162d673231eb87881b07a.org</td>\n",
       "      <td>yes</td>\n",
       "      <td>1</td>\n",
       "    </tr>\n",
       "    <tr>\n",
       "      <th>1590363</th>\n",
       "      <td>7f200216723deebc7c91b324fc0962ad.org</td>\n",
       "      <td>yes</td>\n",
       "      <td>1</td>\n",
       "    </tr>\n",
       "    <tr>\n",
       "      <th>1594675</th>\n",
       "      <td>ed6cd7bcc51974b2a76909b46c3c8696.org</td>\n",
       "      <td>yes</td>\n",
       "      <td>1</td>\n",
       "    </tr>\n",
       "    <tr>\n",
       "      <th>1596475</th>\n",
       "      <td>d86e4bd4f58b94de0cbf326ac4be7087.org</td>\n",
       "      <td>yes</td>\n",
       "      <td>1</td>\n",
       "    </tr>\n",
       "    <tr>\n",
       "      <th>1598316</th>\n",
       "      <td>6a97671109629d33769d9e6a07193dd2.org</td>\n",
       "      <td>yes</td>\n",
       "      <td>1</td>\n",
       "    </tr>\n",
       "  </tbody>\n",
       "</table>\n",
       "<p>754 rows × 3 columns</p>\n",
       "</div>"
      ],
      "text/plain": [
       "                                        domain  dga  class\n",
       "257      b6427368140624515a0ee4c29d27b789.info  yes      1\n",
       "800       6e3772dd01644a88e16b0dbe2a6c0d36.org  yes      1\n",
       "1731      1c7fadd66c9fbb16cd1dcd38d743f263.org  yes      1\n",
       "4462     773683efbacb0bb70b75322c7e4662b9.info  yes      1\n",
       "5435     4a51234e6e87c3c793592df62508a7d4.info  yes      1\n",
       "...                                        ...  ...    ...\n",
       "1589137   7a7e47b55b0162d673231eb87881b07a.org  yes      1\n",
       "1590363   7f200216723deebc7c91b324fc0962ad.org  yes      1\n",
       "1594675   ed6cd7bcc51974b2a76909b46c3c8696.org  yes      1\n",
       "1596475   d86e4bd4f58b94de0cbf326ac4be7087.org  yes      1\n",
       "1598316   6a97671109629d33769d9e6a07193dd2.org  yes      1\n",
       "\n",
       "[754 rows x 3 columns]"
      ]
     },
     "execution_count": 7,
     "metadata": {},
     "output_type": "execute_result"
    }
   ],
   "source": [
    "data[data['class']==1]"
   ]
  },
  {
   "cell_type": "code",
   "execution_count": 8,
   "id": "18f103bf-8679-42c4-a717-1cee690b2f44",
   "metadata": {},
   "outputs": [
    {
     "data": {
      "text/html": [
       "<div>\n",
       "<style scoped>\n",
       "    .dataframe tbody tr th:only-of-type {\n",
       "        vertical-align: middle;\n",
       "    }\n",
       "\n",
       "    .dataframe tbody tr th {\n",
       "        vertical-align: top;\n",
       "    }\n",
       "\n",
       "    .dataframe thead th {\n",
       "        text-align: right;\n",
       "    }\n",
       "</style>\n",
       "<table border=\"1\" class=\"dataframe\">\n",
       "  <thead>\n",
       "    <tr style=\"text-align: right;\">\n",
       "      <th></th>\n",
       "      <th>domain</th>\n",
       "      <th>dga</th>\n",
       "      <th>class</th>\n",
       "    </tr>\n",
       "  </thead>\n",
       "  <tbody>\n",
       "    <tr>\n",
       "      <th>3</th>\n",
       "      <td>9mtrkmet8rjnpya4.ru</td>\n",
       "      <td>yes</td>\n",
       "      <td>2</td>\n",
       "    </tr>\n",
       "    <tr>\n",
       "      <th>72</th>\n",
       "      <td>hft7aej7j8v3lef2.net</td>\n",
       "      <td>yes</td>\n",
       "      <td>2</td>\n",
       "    </tr>\n",
       "    <tr>\n",
       "      <th>104</th>\n",
       "      <td>fkvcyd54agu2ywtg.cn</td>\n",
       "      <td>yes</td>\n",
       "      <td>2</td>\n",
       "    </tr>\n",
       "    <tr>\n",
       "      <th>137</th>\n",
       "      <td>dbd5r2yfduh00apw.biz</td>\n",
       "      <td>yes</td>\n",
       "      <td>2</td>\n",
       "    </tr>\n",
       "    <tr>\n",
       "      <th>138</th>\n",
       "      <td>631w0kgnvsowppy4.biz</td>\n",
       "      <td>yes</td>\n",
       "      <td>2</td>\n",
       "    </tr>\n",
       "    <tr>\n",
       "      <th>...</th>\n",
       "      <td>...</td>\n",
       "      <td>...</td>\n",
       "      <td>...</td>\n",
       "    </tr>\n",
       "    <tr>\n",
       "      <th>1599757</th>\n",
       "      <td>5t7zgfv6pzl6nxwc.net</td>\n",
       "      <td>yes</td>\n",
       "      <td>2</td>\n",
       "    </tr>\n",
       "    <tr>\n",
       "      <th>1599797</th>\n",
       "      <td>ajczzwbxpn3lvy1r.biz</td>\n",
       "      <td>yes</td>\n",
       "      <td>2</td>\n",
       "    </tr>\n",
       "    <tr>\n",
       "      <th>1599823</th>\n",
       "      <td>hejo59u75evcr7mn.info</td>\n",
       "      <td>yes</td>\n",
       "      <td>2</td>\n",
       "    </tr>\n",
       "    <tr>\n",
       "      <th>1599825</th>\n",
       "      <td>0knotsa5jfqvz8he.biz</td>\n",
       "      <td>yes</td>\n",
       "      <td>2</td>\n",
       "    </tr>\n",
       "    <tr>\n",
       "      <th>1599832</th>\n",
       "      <td>ceik2lvfgxgwbk8x.info</td>\n",
       "      <td>yes</td>\n",
       "      <td>2</td>\n",
       "    </tr>\n",
       "  </tbody>\n",
       "</table>\n",
       "<p>28944 rows × 3 columns</p>\n",
       "</div>"
      ],
      "text/plain": [
       "                        domain  dga  class\n",
       "3          9mtrkmet8rjnpya4.ru  yes      2\n",
       "72        hft7aej7j8v3lef2.net  yes      2\n",
       "104        fkvcyd54agu2ywtg.cn  yes      2\n",
       "137       dbd5r2yfduh00apw.biz  yes      2\n",
       "138       631w0kgnvsowppy4.biz  yes      2\n",
       "...                        ...  ...    ...\n",
       "1599757   5t7zgfv6pzl6nxwc.net  yes      2\n",
       "1599797   ajczzwbxpn3lvy1r.biz  yes      2\n",
       "1599823  hejo59u75evcr7mn.info  yes      2\n",
       "1599825   0knotsa5jfqvz8he.biz  yes      2\n",
       "1599832  ceik2lvfgxgwbk8x.info  yes      2\n",
       "\n",
       "[28944 rows x 3 columns]"
      ]
     },
     "execution_count": 8,
     "metadata": {},
     "output_type": "execute_result"
    }
   ],
   "source": [
    "data[data['class']==2]"
   ]
  },
  {
   "cell_type": "code",
   "execution_count": 9,
   "id": "c5b6daa9-30c8-4563-a68a-4714d59c92a6",
   "metadata": {},
   "outputs": [],
   "source": [
    "for i in range(0,20) : \n",
    "    globals()['data_{}'.format(i)] = data[data['class']==i] #data를 class대로 쪼갬~"
   ]
  },
  {
   "cell_type": "code",
   "execution_count": 10,
   "id": "296a0b77-aae9-4148-85cb-5219ab0d03d1",
   "metadata": {},
   "outputs": [
    {
     "data": {
      "text/html": [
       "<div>\n",
       "<style scoped>\n",
       "    .dataframe tbody tr th:only-of-type {\n",
       "        vertical-align: middle;\n",
       "    }\n",
       "\n",
       "    .dataframe tbody tr th {\n",
       "        vertical-align: top;\n",
       "    }\n",
       "\n",
       "    .dataframe thead th {\n",
       "        text-align: right;\n",
       "    }\n",
       "</style>\n",
       "<table border=\"1\" class=\"dataframe\">\n",
       "  <thead>\n",
       "    <tr style=\"text-align: right;\">\n",
       "      <th></th>\n",
       "      <th>domain</th>\n",
       "      <th>dga</th>\n",
       "      <th>class</th>\n",
       "    </tr>\n",
       "  </thead>\n",
       "  <tbody>\n",
       "    <tr>\n",
       "      <th>257</th>\n",
       "      <td>b6427368140624515a0ee4c29d27b789.info</td>\n",
       "      <td>yes</td>\n",
       "      <td>1</td>\n",
       "    </tr>\n",
       "    <tr>\n",
       "      <th>800</th>\n",
       "      <td>6e3772dd01644a88e16b0dbe2a6c0d36.org</td>\n",
       "      <td>yes</td>\n",
       "      <td>1</td>\n",
       "    </tr>\n",
       "    <tr>\n",
       "      <th>1731</th>\n",
       "      <td>1c7fadd66c9fbb16cd1dcd38d743f263.org</td>\n",
       "      <td>yes</td>\n",
       "      <td>1</td>\n",
       "    </tr>\n",
       "    <tr>\n",
       "      <th>4462</th>\n",
       "      <td>773683efbacb0bb70b75322c7e4662b9.info</td>\n",
       "      <td>yes</td>\n",
       "      <td>1</td>\n",
       "    </tr>\n",
       "    <tr>\n",
       "      <th>5435</th>\n",
       "      <td>4a51234e6e87c3c793592df62508a7d4.info</td>\n",
       "      <td>yes</td>\n",
       "      <td>1</td>\n",
       "    </tr>\n",
       "    <tr>\n",
       "      <th>...</th>\n",
       "      <td>...</td>\n",
       "      <td>...</td>\n",
       "      <td>...</td>\n",
       "    </tr>\n",
       "    <tr>\n",
       "      <th>1589137</th>\n",
       "      <td>7a7e47b55b0162d673231eb87881b07a.org</td>\n",
       "      <td>yes</td>\n",
       "      <td>1</td>\n",
       "    </tr>\n",
       "    <tr>\n",
       "      <th>1590363</th>\n",
       "      <td>7f200216723deebc7c91b324fc0962ad.org</td>\n",
       "      <td>yes</td>\n",
       "      <td>1</td>\n",
       "    </tr>\n",
       "    <tr>\n",
       "      <th>1594675</th>\n",
       "      <td>ed6cd7bcc51974b2a76909b46c3c8696.org</td>\n",
       "      <td>yes</td>\n",
       "      <td>1</td>\n",
       "    </tr>\n",
       "    <tr>\n",
       "      <th>1596475</th>\n",
       "      <td>d86e4bd4f58b94de0cbf326ac4be7087.org</td>\n",
       "      <td>yes</td>\n",
       "      <td>1</td>\n",
       "    </tr>\n",
       "    <tr>\n",
       "      <th>1598316</th>\n",
       "      <td>6a97671109629d33769d9e6a07193dd2.org</td>\n",
       "      <td>yes</td>\n",
       "      <td>1</td>\n",
       "    </tr>\n",
       "  </tbody>\n",
       "</table>\n",
       "<p>754 rows × 3 columns</p>\n",
       "</div>"
      ],
      "text/plain": [
       "                                        domain  dga  class\n",
       "257      b6427368140624515a0ee4c29d27b789.info  yes      1\n",
       "800       6e3772dd01644a88e16b0dbe2a6c0d36.org  yes      1\n",
       "1731      1c7fadd66c9fbb16cd1dcd38d743f263.org  yes      1\n",
       "4462     773683efbacb0bb70b75322c7e4662b9.info  yes      1\n",
       "5435     4a51234e6e87c3c793592df62508a7d4.info  yes      1\n",
       "...                                        ...  ...    ...\n",
       "1589137   7a7e47b55b0162d673231eb87881b07a.org  yes      1\n",
       "1590363   7f200216723deebc7c91b324fc0962ad.org  yes      1\n",
       "1594675   ed6cd7bcc51974b2a76909b46c3c8696.org  yes      1\n",
       "1596475   d86e4bd4f58b94de0cbf326ac4be7087.org  yes      1\n",
       "1598316   6a97671109629d33769d9e6a07193dd2.org  yes      1\n",
       "\n",
       "[754 rows x 3 columns]"
      ]
     },
     "execution_count": 10,
     "metadata": {},
     "output_type": "execute_result"
    }
   ],
   "source": [
    "data_1"
   ]
  },
  {
   "cell_type": "code",
   "execution_count": 11,
   "id": "a58e6d1e-7c08-49ee-b439-3a4262790b99",
   "metadata": {},
   "outputs": [
    {
     "data": {
      "text/html": [
       "<div>\n",
       "<style scoped>\n",
       "    .dataframe tbody tr th:only-of-type {\n",
       "        vertical-align: middle;\n",
       "    }\n",
       "\n",
       "    .dataframe tbody tr th {\n",
       "        vertical-align: top;\n",
       "    }\n",
       "\n",
       "    .dataframe thead th {\n",
       "        text-align: right;\n",
       "    }\n",
       "</style>\n",
       "<table border=\"1\" class=\"dataframe\">\n",
       "  <thead>\n",
       "    <tr style=\"text-align: right;\">\n",
       "      <th></th>\n",
       "      <th>domain</th>\n",
       "      <th>dga</th>\n",
       "      <th>class</th>\n",
       "    </tr>\n",
       "  </thead>\n",
       "  <tbody>\n",
       "    <tr>\n",
       "      <th>3</th>\n",
       "      <td>9mtrkmet8rjnpya4.ru</td>\n",
       "      <td>yes</td>\n",
       "      <td>2</td>\n",
       "    </tr>\n",
       "    <tr>\n",
       "      <th>72</th>\n",
       "      <td>hft7aej7j8v3lef2.net</td>\n",
       "      <td>yes</td>\n",
       "      <td>2</td>\n",
       "    </tr>\n",
       "    <tr>\n",
       "      <th>104</th>\n",
       "      <td>fkvcyd54agu2ywtg.cn</td>\n",
       "      <td>yes</td>\n",
       "      <td>2</td>\n",
       "    </tr>\n",
       "    <tr>\n",
       "      <th>137</th>\n",
       "      <td>dbd5r2yfduh00apw.biz</td>\n",
       "      <td>yes</td>\n",
       "      <td>2</td>\n",
       "    </tr>\n",
       "    <tr>\n",
       "      <th>138</th>\n",
       "      <td>631w0kgnvsowppy4.biz</td>\n",
       "      <td>yes</td>\n",
       "      <td>2</td>\n",
       "    </tr>\n",
       "    <tr>\n",
       "      <th>...</th>\n",
       "      <td>...</td>\n",
       "      <td>...</td>\n",
       "      <td>...</td>\n",
       "    </tr>\n",
       "    <tr>\n",
       "      <th>1599757</th>\n",
       "      <td>5t7zgfv6pzl6nxwc.net</td>\n",
       "      <td>yes</td>\n",
       "      <td>2</td>\n",
       "    </tr>\n",
       "    <tr>\n",
       "      <th>1599797</th>\n",
       "      <td>ajczzwbxpn3lvy1r.biz</td>\n",
       "      <td>yes</td>\n",
       "      <td>2</td>\n",
       "    </tr>\n",
       "    <tr>\n",
       "      <th>1599823</th>\n",
       "      <td>hejo59u75evcr7mn.info</td>\n",
       "      <td>yes</td>\n",
       "      <td>2</td>\n",
       "    </tr>\n",
       "    <tr>\n",
       "      <th>1599825</th>\n",
       "      <td>0knotsa5jfqvz8he.biz</td>\n",
       "      <td>yes</td>\n",
       "      <td>2</td>\n",
       "    </tr>\n",
       "    <tr>\n",
       "      <th>1599832</th>\n",
       "      <td>ceik2lvfgxgwbk8x.info</td>\n",
       "      <td>yes</td>\n",
       "      <td>2</td>\n",
       "    </tr>\n",
       "  </tbody>\n",
       "</table>\n",
       "<p>28944 rows × 3 columns</p>\n",
       "</div>"
      ],
      "text/plain": [
       "                        domain  dga  class\n",
       "3          9mtrkmet8rjnpya4.ru  yes      2\n",
       "72        hft7aej7j8v3lef2.net  yes      2\n",
       "104        fkvcyd54agu2ywtg.cn  yes      2\n",
       "137       dbd5r2yfduh00apw.biz  yes      2\n",
       "138       631w0kgnvsowppy4.biz  yes      2\n",
       "...                        ...  ...    ...\n",
       "1599757   5t7zgfv6pzl6nxwc.net  yes      2\n",
       "1599797   ajczzwbxpn3lvy1r.biz  yes      2\n",
       "1599823  hejo59u75evcr7mn.info  yes      2\n",
       "1599825   0knotsa5jfqvz8he.biz  yes      2\n",
       "1599832  ceik2lvfgxgwbk8x.info  yes      2\n",
       "\n",
       "[28944 rows x 3 columns]"
      ]
     },
     "execution_count": 11,
     "metadata": {},
     "output_type": "execute_result"
    }
   ],
   "source": [
    "data_2"
   ]
  },
  {
   "cell_type": "code",
   "execution_count": 12,
   "id": "05f16ecd-a262-4dbd-b5d8-f1c2515948bf",
   "metadata": {},
   "outputs": [
    {
     "data": {
      "text/html": [
       "<div>\n",
       "<style scoped>\n",
       "    .dataframe tbody tr th:only-of-type {\n",
       "        vertical-align: middle;\n",
       "    }\n",
       "\n",
       "    .dataframe tbody tr th {\n",
       "        vertical-align: top;\n",
       "    }\n",
       "\n",
       "    .dataframe thead th {\n",
       "        text-align: right;\n",
       "    }\n",
       "</style>\n",
       "<table border=\"1\" class=\"dataframe\">\n",
       "  <thead>\n",
       "    <tr style=\"text-align: right;\">\n",
       "      <th></th>\n",
       "      <th>domain</th>\n",
       "      <th>dga</th>\n",
       "      <th>class</th>\n",
       "    </tr>\n",
       "  </thead>\n",
       "  <tbody>\n",
       "    <tr>\n",
       "      <th>41</th>\n",
       "      <td>yiplihqlhtjrremecm.bz</td>\n",
       "      <td>yes</td>\n",
       "      <td>9</td>\n",
       "    </tr>\n",
       "    <tr>\n",
       "      <th>46</th>\n",
       "      <td>lmlhyhjqwf.tw</td>\n",
       "      <td>yes</td>\n",
       "      <td>9</td>\n",
       "    </tr>\n",
       "    <tr>\n",
       "      <th>61</th>\n",
       "      <td>aianmykludygqibmrvgm.pw</td>\n",
       "      <td>yes</td>\n",
       "      <td>9</td>\n",
       "    </tr>\n",
       "    <tr>\n",
       "      <th>74</th>\n",
       "      <td>nycadywwdoycitixbns.tw</td>\n",
       "      <td>yes</td>\n",
       "      <td>9</td>\n",
       "    </tr>\n",
       "    <tr>\n",
       "      <th>97</th>\n",
       "      <td>syuchrifmcqqgaxqra.cx</td>\n",
       "      <td>yes</td>\n",
       "      <td>9</td>\n",
       "    </tr>\n",
       "    <tr>\n",
       "      <th>...</th>\n",
       "      <td>...</td>\n",
       "      <td>...</td>\n",
       "      <td>...</td>\n",
       "    </tr>\n",
       "    <tr>\n",
       "      <th>1599875</th>\n",
       "      <td>juxmpreymumlvqiktbui.sc</td>\n",
       "      <td>yes</td>\n",
       "      <td>9</td>\n",
       "    </tr>\n",
       "    <tr>\n",
       "      <th>1599944</th>\n",
       "      <td>ivydnokfrdwmtxey.ac</td>\n",
       "      <td>yes</td>\n",
       "      <td>9</td>\n",
       "    </tr>\n",
       "    <tr>\n",
       "      <th>1599951</th>\n",
       "      <td>rhhrrtc.me</td>\n",
       "      <td>yes</td>\n",
       "      <td>9</td>\n",
       "    </tr>\n",
       "    <tr>\n",
       "      <th>1599957</th>\n",
       "      <td>gdojplncsfirq.com</td>\n",
       "      <td>yes</td>\n",
       "      <td>9</td>\n",
       "    </tr>\n",
       "    <tr>\n",
       "      <th>1599974</th>\n",
       "      <td>btoaumyt.nu</td>\n",
       "      <td>yes</td>\n",
       "      <td>9</td>\n",
       "    </tr>\n",
       "  </tbody>\n",
       "</table>\n",
       "<p>63647 rows × 3 columns</p>\n",
       "</div>"
      ],
      "text/plain": [
       "                          domain  dga  class\n",
       "41         yiplihqlhtjrremecm.bz  yes      9\n",
       "46                 lmlhyhjqwf.tw  yes      9\n",
       "61       aianmykludygqibmrvgm.pw  yes      9\n",
       "74        nycadywwdoycitixbns.tw  yes      9\n",
       "97         syuchrifmcqqgaxqra.cx  yes      9\n",
       "...                          ...  ...    ...\n",
       "1599875  juxmpreymumlvqiktbui.sc  yes      9\n",
       "1599944      ivydnokfrdwmtxey.ac  yes      9\n",
       "1599951               rhhrrtc.me  yes      9\n",
       "1599957        gdojplncsfirq.com  yes      9\n",
       "1599974              btoaumyt.nu  yes      9\n",
       "\n",
       "[63647 rows x 3 columns]"
      ]
     },
     "execution_count": 12,
     "metadata": {},
     "output_type": "execute_result"
    }
   ],
   "source": [
    "data_9"
   ]
  },
  {
   "cell_type": "code",
   "execution_count": 13,
   "id": "fbff9d1b-e734-4fb5-8bcd-0e955bd537d7",
   "metadata": {},
   "outputs": [
    {
     "data": {
      "text/html": [
       "<div>\n",
       "<style scoped>\n",
       "    .dataframe tbody tr th:only-of-type {\n",
       "        vertical-align: middle;\n",
       "    }\n",
       "\n",
       "    .dataframe tbody tr th {\n",
       "        vertical-align: top;\n",
       "    }\n",
       "\n",
       "    .dataframe thead th {\n",
       "        text-align: right;\n",
       "    }\n",
       "</style>\n",
       "<table border=\"1\" class=\"dataframe\">\n",
       "  <thead>\n",
       "    <tr style=\"text-align: right;\">\n",
       "      <th></th>\n",
       "      <th>domain</th>\n",
       "      <th>dga</th>\n",
       "      <th>class</th>\n",
       "    </tr>\n",
       "  </thead>\n",
       "  <tbody>\n",
       "    <tr>\n",
       "      <th>2</th>\n",
       "      <td>smartidpro.in</td>\n",
       "      <td>no</td>\n",
       "      <td>0</td>\n",
       "    </tr>\n",
       "    <tr>\n",
       "      <th>11</th>\n",
       "      <td>extranet-altone.fr</td>\n",
       "      <td>no</td>\n",
       "      <td>0</td>\n",
       "    </tr>\n",
       "    <tr>\n",
       "      <th>15</th>\n",
       "      <td>math-shortcut-tricks.com</td>\n",
       "      <td>no</td>\n",
       "      <td>0</td>\n",
       "    </tr>\n",
       "    <tr>\n",
       "      <th>16</th>\n",
       "      <td>realher.com</td>\n",
       "      <td>no</td>\n",
       "      <td>0</td>\n",
       "    </tr>\n",
       "    <tr>\n",
       "      <th>18</th>\n",
       "      <td>kingkoil.com.sg</td>\n",
       "      <td>no</td>\n",
       "      <td>0</td>\n",
       "    </tr>\n",
       "    <tr>\n",
       "      <th>...</th>\n",
       "      <td>...</td>\n",
       "      <td>...</td>\n",
       "      <td>...</td>\n",
       "    </tr>\n",
       "    <tr>\n",
       "      <th>1599981</th>\n",
       "      <td>saltodoceu.mt.gov.br</td>\n",
       "      <td>no</td>\n",
       "      <td>0</td>\n",
       "    </tr>\n",
       "    <tr>\n",
       "      <th>1599982</th>\n",
       "      <td>az.gov</td>\n",
       "      <td>no</td>\n",
       "      <td>0</td>\n",
       "    </tr>\n",
       "    <tr>\n",
       "      <th>1599989</th>\n",
       "      <td>adella.ru</td>\n",
       "      <td>no</td>\n",
       "      <td>0</td>\n",
       "    </tr>\n",
       "    <tr>\n",
       "      <th>1599994</th>\n",
       "      <td>seikei.ac.jp</td>\n",
       "      <td>no</td>\n",
       "      <td>0</td>\n",
       "    </tr>\n",
       "    <tr>\n",
       "      <th>1599996</th>\n",
       "      <td>acheemprego.com</td>\n",
       "      <td>no</td>\n",
       "      <td>0</td>\n",
       "    </tr>\n",
       "  </tbody>\n",
       "</table>\n",
       "<p>600000 rows × 3 columns</p>\n",
       "</div>"
      ],
      "text/plain": [
       "                           domain dga  class\n",
       "2                   smartidpro.in  no      0\n",
       "11             extranet-altone.fr  no      0\n",
       "15       math-shortcut-tricks.com  no      0\n",
       "16                    realher.com  no      0\n",
       "18                kingkoil.com.sg  no      0\n",
       "...                           ...  ..    ...\n",
       "1599981      saltodoceu.mt.gov.br  no      0\n",
       "1599982                    az.gov  no      0\n",
       "1599989                 adella.ru  no      0\n",
       "1599994              seikei.ac.jp  no      0\n",
       "1599996           acheemprego.com  no      0\n",
       "\n",
       "[600000 rows x 3 columns]"
      ]
     },
     "execution_count": 13,
     "metadata": {},
     "output_type": "execute_result"
    }
   ],
   "source": [
    "data_0"
   ]
  },
  {
   "cell_type": "code",
   "execution_count": 14,
   "id": "bd19cf37-a1a0-446d-a3af-55d68010f74c",
   "metadata": {},
   "outputs": [],
   "source": [
    "for i in range(0,20) :\n",
    "    'data_{}'.format(i)"
   ]
  },
  {
   "cell_type": "code",
   "execution_count": 15,
   "id": "df011e3d-8d55-4d2b-9800-9543366db372",
   "metadata": {},
   "outputs": [
    {
     "data": {
      "text/html": [
       "<div>\n",
       "<style scoped>\n",
       "    .dataframe tbody tr th:only-of-type {\n",
       "        vertical-align: middle;\n",
       "    }\n",
       "\n",
       "    .dataframe tbody tr th {\n",
       "        vertical-align: top;\n",
       "    }\n",
       "\n",
       "    .dataframe thead th {\n",
       "        text-align: right;\n",
       "    }\n",
       "</style>\n",
       "<table border=\"1\" class=\"dataframe\">\n",
       "  <thead>\n",
       "    <tr style=\"text-align: right;\">\n",
       "      <th></th>\n",
       "      <th>domain</th>\n",
       "      <th>dga</th>\n",
       "      <th>class</th>\n",
       "    </tr>\n",
       "  </thead>\n",
       "  <tbody>\n",
       "    <tr>\n",
       "      <th>2</th>\n",
       "      <td>smartidpro.in</td>\n",
       "      <td>no</td>\n",
       "      <td>0</td>\n",
       "    </tr>\n",
       "    <tr>\n",
       "      <th>11</th>\n",
       "      <td>extranet-altone.fr</td>\n",
       "      <td>no</td>\n",
       "      <td>0</td>\n",
       "    </tr>\n",
       "    <tr>\n",
       "      <th>15</th>\n",
       "      <td>math-shortcut-tricks.com</td>\n",
       "      <td>no</td>\n",
       "      <td>0</td>\n",
       "    </tr>\n",
       "    <tr>\n",
       "      <th>16</th>\n",
       "      <td>realher.com</td>\n",
       "      <td>no</td>\n",
       "      <td>0</td>\n",
       "    </tr>\n",
       "    <tr>\n",
       "      <th>18</th>\n",
       "      <td>kingkoil.com.sg</td>\n",
       "      <td>no</td>\n",
       "      <td>0</td>\n",
       "    </tr>\n",
       "    <tr>\n",
       "      <th>...</th>\n",
       "      <td>...</td>\n",
       "      <td>...</td>\n",
       "      <td>...</td>\n",
       "    </tr>\n",
       "    <tr>\n",
       "      <th>1599981</th>\n",
       "      <td>saltodoceu.mt.gov.br</td>\n",
       "      <td>no</td>\n",
       "      <td>0</td>\n",
       "    </tr>\n",
       "    <tr>\n",
       "      <th>1599982</th>\n",
       "      <td>az.gov</td>\n",
       "      <td>no</td>\n",
       "      <td>0</td>\n",
       "    </tr>\n",
       "    <tr>\n",
       "      <th>1599989</th>\n",
       "      <td>adella.ru</td>\n",
       "      <td>no</td>\n",
       "      <td>0</td>\n",
       "    </tr>\n",
       "    <tr>\n",
       "      <th>1599994</th>\n",
       "      <td>seikei.ac.jp</td>\n",
       "      <td>no</td>\n",
       "      <td>0</td>\n",
       "    </tr>\n",
       "    <tr>\n",
       "      <th>1599996</th>\n",
       "      <td>acheemprego.com</td>\n",
       "      <td>no</td>\n",
       "      <td>0</td>\n",
       "    </tr>\n",
       "  </tbody>\n",
       "</table>\n",
       "<p>600000 rows × 3 columns</p>\n",
       "</div>"
      ],
      "text/plain": [
       "                           domain dga  class\n",
       "2                   smartidpro.in  no      0\n",
       "11             extranet-altone.fr  no      0\n",
       "15       math-shortcut-tricks.com  no      0\n",
       "16                    realher.com  no      0\n",
       "18                kingkoil.com.sg  no      0\n",
       "...                           ...  ..    ...\n",
       "1599981      saltodoceu.mt.gov.br  no      0\n",
       "1599982                    az.gov  no      0\n",
       "1599989                 adella.ru  no      0\n",
       "1599994              seikei.ac.jp  no      0\n",
       "1599996           acheemprego.com  no      0\n",
       "\n",
       "[600000 rows x 3 columns]"
      ]
     },
     "execution_count": 15,
     "metadata": {},
     "output_type": "execute_result"
    }
   ],
   "source": [
    "data_0"
   ]
  },
  {
   "cell_type": "markdown",
   "id": "eb2389fb-ff20-4b4d-839f-1453ea9d6241",
   "metadata": {},
   "source": [
    "# 1-0. 도메인 주소를 Top 도메인과 Sub 도메인으로 나누기"
   ]
  },
  {
   "cell_type": "code",
   "execution_count": 16,
   "id": "c9fad704-e1dc-466b-b616-1bc0c13ba331",
   "metadata": {},
   "outputs": [],
   "source": [
    "from tld import get_tld\n",
    "import warnings\n",
    "warnings.filterwarnings('ignore')"
   ]
  },
  {
   "cell_type": "code",
   "execution_count": 17,
   "id": "3a0ae43b-f62e-4c53-a4df-4ac883de9bb5",
   "metadata": {},
   "outputs": [],
   "source": [
    "url = 'awetawtawteawetawettt.info'"
   ]
  },
  {
   "cell_type": "code",
   "execution_count": 18,
   "id": "79b3fc3d-0cc9-4d0e-970d-32d7565957f7",
   "metadata": {},
   "outputs": [],
   "source": [
    "top_domain = get_tld('http://'+url, as_object=True) #type을 object로 반환 False로 하면 string으로 반환!!"
   ]
  },
  {
   "cell_type": "code",
   "execution_count": 19,
   "id": "cb2463ba-7acb-4b88-8a45-fb449655c91c",
   "metadata": {},
   "outputs": [
    {
     "data": {
      "text/plain": [
       "info"
      ]
     },
     "execution_count": 19,
     "metadata": {},
     "output_type": "execute_result"
    }
   ],
   "source": [
    "top_domain"
   ]
  },
  {
   "cell_type": "code",
   "execution_count": 20,
   "id": "e5641de9-c667-41a1-9d7f-e498cf870f37",
   "metadata": {},
   "outputs": [
    {
     "data": {
      "text/plain": [
       "tld.result.Result"
      ]
     },
     "execution_count": 20,
     "metadata": {},
     "output_type": "execute_result"
    }
   ],
   "source": [
    "type(top_domain)"
   ]
  },
  {
   "cell_type": "code",
   "execution_count": 21,
   "id": "81f793ff-764a-4154-80aa-9426db915b4c",
   "metadata": {},
   "outputs": [],
   "source": [
    "def top_domain(domain) :  #domain의 top domain을 출력하는 함수\n",
    "    try :\n",
    "        top = get_tld('http://'+ domain)\n",
    "    except :\n",
    "        print ('top_domain Error!\\n', domain)\n",
    "        \n",
    "    return top      "
   ]
  },
  {
   "cell_type": "code",
   "execution_count": 22,
   "id": "e809c370-bd66-4feb-92e4-c81bfa71e54f",
   "metadata": {},
   "outputs": [
    {
     "data": {
      "text/plain": [
       "'biz'"
      ]
     },
     "execution_count": 22,
     "metadata": {},
     "output_type": "execute_result"
    }
   ],
   "source": [
    "domain = 'fkfkhancwqeifu.biz'\n",
    "top_domain(domain)"
   ]
  },
  {
   "cell_type": "code",
   "execution_count": 23,
   "id": "59a4d61d-afb3-40f4-b3ee-ee57f9b7fd25",
   "metadata": {},
   "outputs": [
    {
     "data": {
      "text/html": [
       "<div>\n",
       "<style scoped>\n",
       "    .dataframe tbody tr th:only-of-type {\n",
       "        vertical-align: middle;\n",
       "    }\n",
       "\n",
       "    .dataframe tbody tr th {\n",
       "        vertical-align: top;\n",
       "    }\n",
       "\n",
       "    .dataframe thead th {\n",
       "        text-align: right;\n",
       "    }\n",
       "</style>\n",
       "<table border=\"1\" class=\"dataframe\">\n",
       "  <thead>\n",
       "    <tr style=\"text-align: right;\">\n",
       "      <th></th>\n",
       "      <th>domain</th>\n",
       "      <th>dga</th>\n",
       "      <th>class</th>\n",
       "    </tr>\n",
       "  </thead>\n",
       "  <tbody>\n",
       "    <tr>\n",
       "      <th>79</th>\n",
       "      <td>fkfkhancwqeifu.biz</td>\n",
       "      <td>yes</td>\n",
       "      <td>4</td>\n",
       "    </tr>\n",
       "    <tr>\n",
       "      <th>139</th>\n",
       "      <td>hijayloskyvilo.ru</td>\n",
       "      <td>yes</td>\n",
       "      <td>4</td>\n",
       "    </tr>\n",
       "    <tr>\n",
       "      <th>152</th>\n",
       "      <td>mvyyggruvbtle.net</td>\n",
       "      <td>yes</td>\n",
       "      <td>4</td>\n",
       "    </tr>\n",
       "    <tr>\n",
       "      <th>242</th>\n",
       "      <td>vdofoosxlrtsqq.ru</td>\n",
       "      <td>yes</td>\n",
       "      <td>4</td>\n",
       "    </tr>\n",
       "    <tr>\n",
       "      <th>364</th>\n",
       "      <td>llfwukakgcaxh.co.uk</td>\n",
       "      <td>yes</td>\n",
       "      <td>4</td>\n",
       "    </tr>\n",
       "    <tr>\n",
       "      <th>...</th>\n",
       "      <td>...</td>\n",
       "      <td>...</td>\n",
       "      <td>...</td>\n",
       "    </tr>\n",
       "    <tr>\n",
       "      <th>1599880</th>\n",
       "      <td>caijtgqlxuvnt.ru</td>\n",
       "      <td>yes</td>\n",
       "      <td>4</td>\n",
       "    </tr>\n",
       "    <tr>\n",
       "      <th>1599894</th>\n",
       "      <td>ochalcangyde.org</td>\n",
       "      <td>yes</td>\n",
       "      <td>4</td>\n",
       "    </tr>\n",
       "    <tr>\n",
       "      <th>1599924</th>\n",
       "      <td>cxmherskhqorip.org</td>\n",
       "      <td>yes</td>\n",
       "      <td>4</td>\n",
       "    </tr>\n",
       "    <tr>\n",
       "      <th>1599960</th>\n",
       "      <td>qlulpipqgcsj.org</td>\n",
       "      <td>yes</td>\n",
       "      <td>4</td>\n",
       "    </tr>\n",
       "    <tr>\n",
       "      <th>1599966</th>\n",
       "      <td>gitnmeanhklatgp.info</td>\n",
       "      <td>yes</td>\n",
       "      <td>4</td>\n",
       "    </tr>\n",
       "  </tbody>\n",
       "</table>\n",
       "<p>28944 rows × 3 columns</p>\n",
       "</div>"
      ],
      "text/plain": [
       "                       domain  dga  class\n",
       "79         fkfkhancwqeifu.biz  yes      4\n",
       "139         hijayloskyvilo.ru  yes      4\n",
       "152         mvyyggruvbtle.net  yes      4\n",
       "242         vdofoosxlrtsqq.ru  yes      4\n",
       "364       llfwukakgcaxh.co.uk  yes      4\n",
       "...                       ...  ...    ...\n",
       "1599880      caijtgqlxuvnt.ru  yes      4\n",
       "1599894      ochalcangyde.org  yes      4\n",
       "1599924    cxmherskhqorip.org  yes      4\n",
       "1599960      qlulpipqgcsj.org  yes      4\n",
       "1599966  gitnmeanhklatgp.info  yes      4\n",
       "\n",
       "[28944 rows x 3 columns]"
      ]
     },
     "execution_count": 23,
     "metadata": {},
     "output_type": "execute_result"
    }
   ],
   "source": [
    "data_4"
   ]
  },
  {
   "cell_type": "code",
   "execution_count": 24,
   "id": "066c9f41-7afa-4b00-8f4c-07c9ae0f5178",
   "metadata": {},
   "outputs": [
    {
     "data": {
      "text/html": [
       "<div>\n",
       "<style scoped>\n",
       "    .dataframe tbody tr th:only-of-type {\n",
       "        vertical-align: middle;\n",
       "    }\n",
       "\n",
       "    .dataframe tbody tr th {\n",
       "        vertical-align: top;\n",
       "    }\n",
       "\n",
       "    .dataframe thead th {\n",
       "        text-align: right;\n",
       "    }\n",
       "</style>\n",
       "<table border=\"1\" class=\"dataframe\">\n",
       "  <thead>\n",
       "    <tr style=\"text-align: right;\">\n",
       "      <th></th>\n",
       "      <th>domain</th>\n",
       "      <th>dga</th>\n",
       "      <th>class</th>\n",
       "    </tr>\n",
       "  </thead>\n",
       "  <tbody>\n",
       "    <tr>\n",
       "      <th>257</th>\n",
       "      <td>b6427368140624515a0ee4c29d27b789.info</td>\n",
       "      <td>yes</td>\n",
       "      <td>1</td>\n",
       "    </tr>\n",
       "    <tr>\n",
       "      <th>800</th>\n",
       "      <td>6e3772dd01644a88e16b0dbe2a6c0d36.org</td>\n",
       "      <td>yes</td>\n",
       "      <td>1</td>\n",
       "    </tr>\n",
       "    <tr>\n",
       "      <th>1731</th>\n",
       "      <td>1c7fadd66c9fbb16cd1dcd38d743f263.org</td>\n",
       "      <td>yes</td>\n",
       "      <td>1</td>\n",
       "    </tr>\n",
       "    <tr>\n",
       "      <th>4462</th>\n",
       "      <td>773683efbacb0bb70b75322c7e4662b9.info</td>\n",
       "      <td>yes</td>\n",
       "      <td>1</td>\n",
       "    </tr>\n",
       "    <tr>\n",
       "      <th>5435</th>\n",
       "      <td>4a51234e6e87c3c793592df62508a7d4.info</td>\n",
       "      <td>yes</td>\n",
       "      <td>1</td>\n",
       "    </tr>\n",
       "    <tr>\n",
       "      <th>...</th>\n",
       "      <td>...</td>\n",
       "      <td>...</td>\n",
       "      <td>...</td>\n",
       "    </tr>\n",
       "    <tr>\n",
       "      <th>1589137</th>\n",
       "      <td>7a7e47b55b0162d673231eb87881b07a.org</td>\n",
       "      <td>yes</td>\n",
       "      <td>1</td>\n",
       "    </tr>\n",
       "    <tr>\n",
       "      <th>1590363</th>\n",
       "      <td>7f200216723deebc7c91b324fc0962ad.org</td>\n",
       "      <td>yes</td>\n",
       "      <td>1</td>\n",
       "    </tr>\n",
       "    <tr>\n",
       "      <th>1594675</th>\n",
       "      <td>ed6cd7bcc51974b2a76909b46c3c8696.org</td>\n",
       "      <td>yes</td>\n",
       "      <td>1</td>\n",
       "    </tr>\n",
       "    <tr>\n",
       "      <th>1596475</th>\n",
       "      <td>d86e4bd4f58b94de0cbf326ac4be7087.org</td>\n",
       "      <td>yes</td>\n",
       "      <td>1</td>\n",
       "    </tr>\n",
       "    <tr>\n",
       "      <th>1598316</th>\n",
       "      <td>6a97671109629d33769d9e6a07193dd2.org</td>\n",
       "      <td>yes</td>\n",
       "      <td>1</td>\n",
       "    </tr>\n",
       "  </tbody>\n",
       "</table>\n",
       "<p>754 rows × 3 columns</p>\n",
       "</div>"
      ],
      "text/plain": [
       "                                        domain  dga  class\n",
       "257      b6427368140624515a0ee4c29d27b789.info  yes      1\n",
       "800       6e3772dd01644a88e16b0dbe2a6c0d36.org  yes      1\n",
       "1731      1c7fadd66c9fbb16cd1dcd38d743f263.org  yes      1\n",
       "4462     773683efbacb0bb70b75322c7e4662b9.info  yes      1\n",
       "5435     4a51234e6e87c3c793592df62508a7d4.info  yes      1\n",
       "...                                        ...  ...    ...\n",
       "1589137   7a7e47b55b0162d673231eb87881b07a.org  yes      1\n",
       "1590363   7f200216723deebc7c91b324fc0962ad.org  yes      1\n",
       "1594675   ed6cd7bcc51974b2a76909b46c3c8696.org  yes      1\n",
       "1596475   d86e4bd4f58b94de0cbf326ac4be7087.org  yes      1\n",
       "1598316   6a97671109629d33769d9e6a07193dd2.org  yes      1\n",
       "\n",
       "[754 rows x 3 columns]"
      ]
     },
     "execution_count": 24,
     "metadata": {},
     "output_type": "execute_result"
    }
   ],
   "source": [
    "data_1"
   ]
  },
  {
   "cell_type": "code",
   "execution_count": 25,
   "id": "37219db9-5542-4f5c-8a3b-2e06a9862a96",
   "metadata": {},
   "outputs": [],
   "source": [
    "top_list=[]\n",
    "# top_domain을 담기 위한 리스트 선언\n",
    "for index, value in data_1.iterrows() :  #iterrows => 데이터프레임의 행을 불러옴!\n",
    "    # print(index)\n",
    "    # print(value)\n",
    "    domain=value[0]\n",
    "    # print(domain)\n",
    "    top = top_domain(domain)\n",
    "    top_list.append(top)\n",
    "data_1.insert(1,'top_domain',top_list, allow_duplicates=True)\n",
    "    # print(top)\n",
    "    # break"
   ]
  },
  {
   "cell_type": "code",
   "execution_count": 26,
   "id": "e940601c-9645-4f63-97df-557a233ef574",
   "metadata": {},
   "outputs": [
    {
     "data": {
      "text/html": [
       "<div>\n",
       "<style scoped>\n",
       "    .dataframe tbody tr th:only-of-type {\n",
       "        vertical-align: middle;\n",
       "    }\n",
       "\n",
       "    .dataframe tbody tr th {\n",
       "        vertical-align: top;\n",
       "    }\n",
       "\n",
       "    .dataframe thead th {\n",
       "        text-align: right;\n",
       "    }\n",
       "</style>\n",
       "<table border=\"1\" class=\"dataframe\">\n",
       "  <thead>\n",
       "    <tr style=\"text-align: right;\">\n",
       "      <th></th>\n",
       "      <th>domain</th>\n",
       "      <th>top_domain</th>\n",
       "      <th>dga</th>\n",
       "      <th>class</th>\n",
       "    </tr>\n",
       "  </thead>\n",
       "  <tbody>\n",
       "    <tr>\n",
       "      <th>257</th>\n",
       "      <td>b6427368140624515a0ee4c29d27b789.info</td>\n",
       "      <td>info</td>\n",
       "      <td>yes</td>\n",
       "      <td>1</td>\n",
       "    </tr>\n",
       "    <tr>\n",
       "      <th>800</th>\n",
       "      <td>6e3772dd01644a88e16b0dbe2a6c0d36.org</td>\n",
       "      <td>org</td>\n",
       "      <td>yes</td>\n",
       "      <td>1</td>\n",
       "    </tr>\n",
       "    <tr>\n",
       "      <th>1731</th>\n",
       "      <td>1c7fadd66c9fbb16cd1dcd38d743f263.org</td>\n",
       "      <td>org</td>\n",
       "      <td>yes</td>\n",
       "      <td>1</td>\n",
       "    </tr>\n",
       "    <tr>\n",
       "      <th>4462</th>\n",
       "      <td>773683efbacb0bb70b75322c7e4662b9.info</td>\n",
       "      <td>info</td>\n",
       "      <td>yes</td>\n",
       "      <td>1</td>\n",
       "    </tr>\n",
       "    <tr>\n",
       "      <th>5435</th>\n",
       "      <td>4a51234e6e87c3c793592df62508a7d4.info</td>\n",
       "      <td>info</td>\n",
       "      <td>yes</td>\n",
       "      <td>1</td>\n",
       "    </tr>\n",
       "    <tr>\n",
       "      <th>...</th>\n",
       "      <td>...</td>\n",
       "      <td>...</td>\n",
       "      <td>...</td>\n",
       "      <td>...</td>\n",
       "    </tr>\n",
       "    <tr>\n",
       "      <th>1589137</th>\n",
       "      <td>7a7e47b55b0162d673231eb87881b07a.org</td>\n",
       "      <td>org</td>\n",
       "      <td>yes</td>\n",
       "      <td>1</td>\n",
       "    </tr>\n",
       "    <tr>\n",
       "      <th>1590363</th>\n",
       "      <td>7f200216723deebc7c91b324fc0962ad.org</td>\n",
       "      <td>org</td>\n",
       "      <td>yes</td>\n",
       "      <td>1</td>\n",
       "    </tr>\n",
       "    <tr>\n",
       "      <th>1594675</th>\n",
       "      <td>ed6cd7bcc51974b2a76909b46c3c8696.org</td>\n",
       "      <td>org</td>\n",
       "      <td>yes</td>\n",
       "      <td>1</td>\n",
       "    </tr>\n",
       "    <tr>\n",
       "      <th>1596475</th>\n",
       "      <td>d86e4bd4f58b94de0cbf326ac4be7087.org</td>\n",
       "      <td>org</td>\n",
       "      <td>yes</td>\n",
       "      <td>1</td>\n",
       "    </tr>\n",
       "    <tr>\n",
       "      <th>1598316</th>\n",
       "      <td>6a97671109629d33769d9e6a07193dd2.org</td>\n",
       "      <td>org</td>\n",
       "      <td>yes</td>\n",
       "      <td>1</td>\n",
       "    </tr>\n",
       "  </tbody>\n",
       "</table>\n",
       "<p>754 rows × 4 columns</p>\n",
       "</div>"
      ],
      "text/plain": [
       "                                        domain top_domain  dga  class\n",
       "257      b6427368140624515a0ee4c29d27b789.info       info  yes      1\n",
       "800       6e3772dd01644a88e16b0dbe2a6c0d36.org        org  yes      1\n",
       "1731      1c7fadd66c9fbb16cd1dcd38d743f263.org        org  yes      1\n",
       "4462     773683efbacb0bb70b75322c7e4662b9.info       info  yes      1\n",
       "5435     4a51234e6e87c3c793592df62508a7d4.info       info  yes      1\n",
       "...                                        ...        ...  ...    ...\n",
       "1589137   7a7e47b55b0162d673231eb87881b07a.org        org  yes      1\n",
       "1590363   7f200216723deebc7c91b324fc0962ad.org        org  yes      1\n",
       "1594675   ed6cd7bcc51974b2a76909b46c3c8696.org        org  yes      1\n",
       "1596475   d86e4bd4f58b94de0cbf326ac4be7087.org        org  yes      1\n",
       "1598316   6a97671109629d33769d9e6a07193dd2.org        org  yes      1\n",
       "\n",
       "[754 rows x 4 columns]"
      ]
     },
     "execution_count": 26,
     "metadata": {},
     "output_type": "execute_result"
    }
   ],
   "source": [
    "data_1 #data1의 top_domain column을 생성해서 다 넣음!"
   ]
  },
  {
   "cell_type": "code",
   "execution_count": 27,
   "id": "d7231b99-003a-496b-b0a8-5a9ffe6d6fab",
   "metadata": {},
   "outputs": [],
   "source": [
    "\n",
    "top_list=[]\n",
    "# top_domain을 담기 위한 리스트 선언\n",
    "for index, value in data_1.iterrows() :  #iterrows => 데이터프레임의 행을 불러옴!\n",
    "    # print(index)\n",
    "    # print(value)\n",
    "    domain=value[0]\n",
    "    # print(domain)\n",
    "    top = top_domain(domain)\n",
    "    top_list.append(top)\n",
    "data_1.insert(1,'top_domain',top_list, allow_duplicates=True)\n",
    "    # print(top)\n",
    "    # break"
   ]
  },
  {
   "cell_type": "code",
   "execution_count": 28,
   "id": "6d483f5f-a6ad-4349-b2e7-b1209b3a2478",
   "metadata": {},
   "outputs": [],
   "source": [
    "def add_dataframe(dataframe, function, col_name) : #기존 dataframe과 함수와 칼럼명을 기입하여 dataframe에 칼럼명을 추가하는 함수\n",
    "    temp_list=[]\n",
    "    for index, value in dataframe.iterrows() :  #iterrows => 데이터프레임의 행을 불러옴!\n",
    "        domain=value[0]\n",
    "        \n",
    "        temp = function(domain)\n",
    "        temp_list.append(temp)\n",
    "        \n",
    "    dataframe.insert(1, col_name, temp_list, allow_duplicates=True)\n"
   ]
  },
  {
   "cell_type": "code",
   "execution_count": 29,
   "id": "74fc1ab8-c600-4321-9b8c-67650ce66e8b",
   "metadata": {},
   "outputs": [],
   "source": [
    "add_dataframe(data, top_domain, 'top_domain')"
   ]
  },
  {
   "cell_type": "code",
   "execution_count": 30,
   "id": "cae858f0-1b4b-42c4-b8f7-0b5b518aff31",
   "metadata": {},
   "outputs": [
    {
     "data": {
      "text/html": [
       "<div>\n",
       "<style scoped>\n",
       "    .dataframe tbody tr th:only-of-type {\n",
       "        vertical-align: middle;\n",
       "    }\n",
       "\n",
       "    .dataframe tbody tr th {\n",
       "        vertical-align: top;\n",
       "    }\n",
       "\n",
       "    .dataframe thead th {\n",
       "        text-align: right;\n",
       "    }\n",
       "</style>\n",
       "<table border=\"1\" class=\"dataframe\">\n",
       "  <thead>\n",
       "    <tr style=\"text-align: right;\">\n",
       "      <th></th>\n",
       "      <th>domain</th>\n",
       "      <th>top_domain</th>\n",
       "      <th>dga</th>\n",
       "      <th>class</th>\n",
       "    </tr>\n",
       "  </thead>\n",
       "  <tbody>\n",
       "    <tr>\n",
       "      <th>0</th>\n",
       "      <td>vsviqe.com</td>\n",
       "      <td>com</td>\n",
       "      <td>yes</td>\n",
       "      <td>19</td>\n",
       "    </tr>\n",
       "    <tr>\n",
       "      <th>1</th>\n",
       "      <td>170qknj1onn4c37qf1w71rzei1h.org</td>\n",
       "      <td>org</td>\n",
       "      <td>yes</td>\n",
       "      <td>6</td>\n",
       "    </tr>\n",
       "    <tr>\n",
       "      <th>2</th>\n",
       "      <td>smartidpro.in</td>\n",
       "      <td>in</td>\n",
       "      <td>no</td>\n",
       "      <td>0</td>\n",
       "    </tr>\n",
       "    <tr>\n",
       "      <th>3</th>\n",
       "      <td>9mtrkmet8rjnpya4.ru</td>\n",
       "      <td>ru</td>\n",
       "      <td>yes</td>\n",
       "      <td>2</td>\n",
       "    </tr>\n",
       "    <tr>\n",
       "      <th>4</th>\n",
       "      <td>ypyxhi.com</td>\n",
       "      <td>com</td>\n",
       "      <td>yes</td>\n",
       "      <td>19</td>\n",
       "    </tr>\n",
       "    <tr>\n",
       "      <th>...</th>\n",
       "      <td>...</td>\n",
       "      <td>...</td>\n",
       "      <td>...</td>\n",
       "      <td>...</td>\n",
       "    </tr>\n",
       "    <tr>\n",
       "      <th>1599995</th>\n",
       "      <td>10zpd8p1ktb8bg1al07c3rfkuqw.net</td>\n",
       "      <td>net</td>\n",
       "      <td>yes</td>\n",
       "      <td>6</td>\n",
       "    </tr>\n",
       "    <tr>\n",
       "      <th>1599996</th>\n",
       "      <td>acheemprego.com</td>\n",
       "      <td>com</td>\n",
       "      <td>no</td>\n",
       "      <td>0</td>\n",
       "    </tr>\n",
       "    <tr>\n",
       "      <th>1599997</th>\n",
       "      <td>dtvvqs.com</td>\n",
       "      <td>com</td>\n",
       "      <td>yes</td>\n",
       "      <td>19</td>\n",
       "    </tr>\n",
       "    <tr>\n",
       "      <th>1599998</th>\n",
       "      <td>qurtpwncfwhjke.pw</td>\n",
       "      <td>pw</td>\n",
       "      <td>yes</td>\n",
       "      <td>7</td>\n",
       "    </tr>\n",
       "    <tr>\n",
       "      <th>1599999</th>\n",
       "      <td>p148e12d7c430db3c04635de27e343c625.ws</td>\n",
       "      <td>ws</td>\n",
       "      <td>yes</td>\n",
       "      <td>5</td>\n",
       "    </tr>\n",
       "  </tbody>\n",
       "</table>\n",
       "<p>1600000 rows × 4 columns</p>\n",
       "</div>"
      ],
      "text/plain": [
       "                                        domain top_domain  dga  class\n",
       "0                                   vsviqe.com        com  yes     19\n",
       "1              170qknj1onn4c37qf1w71rzei1h.org        org  yes      6\n",
       "2                                smartidpro.in         in   no      0\n",
       "3                          9mtrkmet8rjnpya4.ru         ru  yes      2\n",
       "4                                   ypyxhi.com        com  yes     19\n",
       "...                                        ...        ...  ...    ...\n",
       "1599995        10zpd8p1ktb8bg1al07c3rfkuqw.net        net  yes      6\n",
       "1599996                        acheemprego.com        com   no      0\n",
       "1599997                             dtvvqs.com        com  yes     19\n",
       "1599998                      qurtpwncfwhjke.pw         pw  yes      7\n",
       "1599999  p148e12d7c430db3c04635de27e343c625.ws         ws  yes      5\n",
       "\n",
       "[1600000 rows x 4 columns]"
      ]
     },
     "execution_count": 30,
     "metadata": {},
     "output_type": "execute_result"
    }
   ],
   "source": [
    "data"
   ]
  },
  {
   "cell_type": "raw",
   "id": "39f5d088-cb48-416f-a63b-1a93246a56bd",
   "metadata": {},
   "source": [
    "서브 도메인 찾기"
   ]
  },
  {
   "cell_type": "code",
   "execution_count": 32,
   "id": "0d30f4b5-0245-49b4-b198-6599e53ccfa4",
   "metadata": {},
   "outputs": [],
   "source": [
    "data_1_domain = 'awawe125r125r1255AWETAWaw35r.info'"
   ]
  },
  {
   "cell_type": "raw",
   "id": "8d335007-d8a4-42d3-86b2-bef210424ce8",
   "metadata": {},
   "source": [
    "data_1_sub = 도메인 - 탑도메인`"
   ]
  },
  {
   "cell_type": "code",
   "execution_count": 33,
   "id": "e6d824bc-25b5-451a-9680-b26b395e50df",
   "metadata": {},
   "outputs": [],
   "source": [
    "data_1_top = top_domain(data_1_domain)"
   ]
  },
  {
   "cell_type": "code",
   "execution_count": 34,
   "id": "da98c50b-11f7-4895-bf80-4283a25e8429",
   "metadata": {},
   "outputs": [
    {
     "data": {
      "text/plain": [
       "'info'"
      ]
     },
     "execution_count": 34,
     "metadata": {},
     "output_type": "execute_result"
    }
   ],
   "source": [
    "data_1_top"
   ]
  },
  {
   "cell_type": "code",
   "execution_count": 35,
   "id": "481631fd-9efb-4d88-98e7-8f5c126c23e6",
   "metadata": {},
   "outputs": [],
   "source": [
    "data_1_sub = data_1_domain.replace('.'+str(data_1_top), '') # '.' 과 top_domain을 날리고 남은걸 sub로 저장~"
   ]
  },
  {
   "cell_type": "code",
   "execution_count": 36,
   "id": "42d62a57-ce6b-48bd-9b5f-e26edb96d97e",
   "metadata": {},
   "outputs": [
    {
     "data": {
      "text/plain": [
       "'awawe125r125r1255AWETAWaw35r'"
      ]
     },
     "execution_count": 36,
     "metadata": {},
     "output_type": "execute_result"
    }
   ],
   "source": [
    "data_1_sub"
   ]
  },
  {
   "cell_type": "code",
   "execution_count": 37,
   "id": "5d8bad38-2cb8-4129-b6cb-6da590107d2a",
   "metadata": {},
   "outputs": [],
   "source": [
    "##이런식으로 서브 도메인 주소를 다 찾아서 기입~!!  >> sub을 뽑는 함수를 만들자~"
   ]
  },
  {
   "cell_type": "code",
   "execution_count": 297,
   "id": "1134123a-4e9a-429b-a427-be23a6635455",
   "metadata": {},
   "outputs": [],
   "source": [
    "def sub_domain(domain) :  # domain에서 sub_domain을 구하는 함수\n",
    "    top= top_domain(domain)\n",
    "    sub= domain.replace('.'+ str(top), '')\n",
    "    return sub"
   ]
  },
  {
   "cell_type": "code",
   "execution_count": 39,
   "id": "359dbb49-1edd-4906-8575-592ebabdd626",
   "metadata": {},
   "outputs": [
    {
     "data": {
      "text/plain": [
       "'naver'"
      ]
     },
     "execution_count": 39,
     "metadata": {},
     "output_type": "execute_result"
    }
   ],
   "source": [
    "sub_domain('naver.com')"
   ]
  },
  {
   "cell_type": "code",
   "execution_count": 40,
   "id": "1c479de3-52a5-43f8-9682-21c184cb1290",
   "metadata": {},
   "outputs": [
    {
     "data": {
      "text/plain": [
       "'korea'"
      ]
     },
     "execution_count": 40,
     "metadata": {},
     "output_type": "execute_result"
    }
   ],
   "source": [
    "sub_domain('korea.ac.kr')"
   ]
  },
  {
   "cell_type": "code",
   "execution_count": 41,
   "id": "c1c3408a-3a98-4f1f-ba25-a0c6b37c0219",
   "metadata": {},
   "outputs": [],
   "source": [
    "add_dataframe(data, sub_domain, 'sub_domain') #dataframe에 sub_domain 항목 추가함수 사용!!"
   ]
  },
  {
   "cell_type": "code",
   "execution_count": 42,
   "id": "82bd67ae-cf9e-4a8a-8a33-77c429b696e2",
   "metadata": {},
   "outputs": [
    {
     "data": {
      "text/html": [
       "<div>\n",
       "<style scoped>\n",
       "    .dataframe tbody tr th:only-of-type {\n",
       "        vertical-align: middle;\n",
       "    }\n",
       "\n",
       "    .dataframe tbody tr th {\n",
       "        vertical-align: top;\n",
       "    }\n",
       "\n",
       "    .dataframe thead th {\n",
       "        text-align: right;\n",
       "    }\n",
       "</style>\n",
       "<table border=\"1\" class=\"dataframe\">\n",
       "  <thead>\n",
       "    <tr style=\"text-align: right;\">\n",
       "      <th></th>\n",
       "      <th>domain</th>\n",
       "      <th>sub_domain</th>\n",
       "      <th>top_domain</th>\n",
       "      <th>dga</th>\n",
       "      <th>class</th>\n",
       "    </tr>\n",
       "  </thead>\n",
       "  <tbody>\n",
       "    <tr>\n",
       "      <th>0</th>\n",
       "      <td>vsviqe.com</td>\n",
       "      <td>vsviqe</td>\n",
       "      <td>com</td>\n",
       "      <td>yes</td>\n",
       "      <td>19</td>\n",
       "    </tr>\n",
       "    <tr>\n",
       "      <th>1</th>\n",
       "      <td>170qknj1onn4c37qf1w71rzei1h.org</td>\n",
       "      <td>170qknj1onn4c37qf1w71rzei1h</td>\n",
       "      <td>org</td>\n",
       "      <td>yes</td>\n",
       "      <td>6</td>\n",
       "    </tr>\n",
       "    <tr>\n",
       "      <th>2</th>\n",
       "      <td>smartidpro.in</td>\n",
       "      <td>smartidpro</td>\n",
       "      <td>in</td>\n",
       "      <td>no</td>\n",
       "      <td>0</td>\n",
       "    </tr>\n",
       "    <tr>\n",
       "      <th>3</th>\n",
       "      <td>9mtrkmet8rjnpya4.ru</td>\n",
       "      <td>9mtrkmet8rjnpya4</td>\n",
       "      <td>ru</td>\n",
       "      <td>yes</td>\n",
       "      <td>2</td>\n",
       "    </tr>\n",
       "    <tr>\n",
       "      <th>4</th>\n",
       "      <td>ypyxhi.com</td>\n",
       "      <td>ypyxhi</td>\n",
       "      <td>com</td>\n",
       "      <td>yes</td>\n",
       "      <td>19</td>\n",
       "    </tr>\n",
       "    <tr>\n",
       "      <th>...</th>\n",
       "      <td>...</td>\n",
       "      <td>...</td>\n",
       "      <td>...</td>\n",
       "      <td>...</td>\n",
       "      <td>...</td>\n",
       "    </tr>\n",
       "    <tr>\n",
       "      <th>1599995</th>\n",
       "      <td>10zpd8p1ktb8bg1al07c3rfkuqw.net</td>\n",
       "      <td>10zpd8p1ktb8bg1al07c3rfkuqw</td>\n",
       "      <td>net</td>\n",
       "      <td>yes</td>\n",
       "      <td>6</td>\n",
       "    </tr>\n",
       "    <tr>\n",
       "      <th>1599996</th>\n",
       "      <td>acheemprego.com</td>\n",
       "      <td>acheemprego</td>\n",
       "      <td>com</td>\n",
       "      <td>no</td>\n",
       "      <td>0</td>\n",
       "    </tr>\n",
       "    <tr>\n",
       "      <th>1599997</th>\n",
       "      <td>dtvvqs.com</td>\n",
       "      <td>dtvvqs</td>\n",
       "      <td>com</td>\n",
       "      <td>yes</td>\n",
       "      <td>19</td>\n",
       "    </tr>\n",
       "    <tr>\n",
       "      <th>1599998</th>\n",
       "      <td>qurtpwncfwhjke.pw</td>\n",
       "      <td>qurtpwncfwhjke</td>\n",
       "      <td>pw</td>\n",
       "      <td>yes</td>\n",
       "      <td>7</td>\n",
       "    </tr>\n",
       "    <tr>\n",
       "      <th>1599999</th>\n",
       "      <td>p148e12d7c430db3c04635de27e343c625.ws</td>\n",
       "      <td>p148e12d7c430db3c04635de27e343c625</td>\n",
       "      <td>ws</td>\n",
       "      <td>yes</td>\n",
       "      <td>5</td>\n",
       "    </tr>\n",
       "  </tbody>\n",
       "</table>\n",
       "<p>1600000 rows × 5 columns</p>\n",
       "</div>"
      ],
      "text/plain": [
       "                                        domain  \\\n",
       "0                                   vsviqe.com   \n",
       "1              170qknj1onn4c37qf1w71rzei1h.org   \n",
       "2                                smartidpro.in   \n",
       "3                          9mtrkmet8rjnpya4.ru   \n",
       "4                                   ypyxhi.com   \n",
       "...                                        ...   \n",
       "1599995        10zpd8p1ktb8bg1al07c3rfkuqw.net   \n",
       "1599996                        acheemprego.com   \n",
       "1599997                             dtvvqs.com   \n",
       "1599998                      qurtpwncfwhjke.pw   \n",
       "1599999  p148e12d7c430db3c04635de27e343c625.ws   \n",
       "\n",
       "                                 sub_domain top_domain  dga  class  \n",
       "0                                    vsviqe        com  yes     19  \n",
       "1               170qknj1onn4c37qf1w71rzei1h        org  yes      6  \n",
       "2                                smartidpro         in   no      0  \n",
       "3                          9mtrkmet8rjnpya4         ru  yes      2  \n",
       "4                                    ypyxhi        com  yes     19  \n",
       "...                                     ...        ...  ...    ...  \n",
       "1599995         10zpd8p1ktb8bg1al07c3rfkuqw        net  yes      6  \n",
       "1599996                         acheemprego        com   no      0  \n",
       "1599997                              dtvvqs        com  yes     19  \n",
       "1599998                      qurtpwncfwhjke         pw  yes      7  \n",
       "1599999  p148e12d7c430db3c04635de27e343c625         ws  yes      5  \n",
       "\n",
       "[1600000 rows x 5 columns]"
      ]
     },
     "execution_count": 42,
     "metadata": {},
     "output_type": "execute_result"
    }
   ],
   "source": [
    "data"
   ]
  },
  {
   "cell_type": "markdown",
   "id": "12c18484-ade7-4736-86c2-f8a854f39869",
   "metadata": {},
   "source": [
    "# 1-1. sub도메인주소의 길이를 표기한 column 추가!"
   ]
  },
  {
   "cell_type": "raw",
   "id": "d722e6d9-a420-4652-b5ce-d9815ac745cb",
   "metadata": {},
   "source": [
    "서브 도메인의 길이를 구해서 추가해볼 것!!"
   ]
  },
  {
   "cell_type": "code",
   "execution_count": 43,
   "id": "dce7e8e0-3fa9-4c7d-abf6-2eca0058d9aa",
   "metadata": {},
   "outputs": [
    {
     "data": {
      "text/plain": [
       "6"
      ]
     },
     "execution_count": 43,
     "metadata": {},
     "output_type": "execute_result"
    }
   ],
   "source": [
    "len(data['sub_domain'][0])"
   ]
  },
  {
   "cell_type": "raw",
   "id": "feee494d-f6ad-4327-9aae-7a8731484bec",
   "metadata": {
    "tags": []
   },
   "source": [
    "data['sub_length'][0] = data['sub_domain'][0]"
   ]
  },
  {
   "cell_type": "raw",
   "id": "aaa5bcec-9eb4-40fa-bf1b-5b3e7ec0857e",
   "metadata": {
    "tags": []
   },
   "source": [
    "data['sub_length'][0]= len(data['sub_domain'][0])"
   ]
  },
  {
   "cell_type": "code",
   "execution_count": 45,
   "id": "e82d9fff-6f6c-4bbe-84d0-c955a8eeacb2",
   "metadata": {},
   "outputs": [],
   "source": [
    "def sub_length(domain) :     #sub 도메인의 주소 길이를 구하는 함수\n",
    "    return len(sub_domain(domain))\n",
    "    "
   ]
  },
  {
   "cell_type": "code",
   "execution_count": 46,
   "id": "2157c627-34ff-47e0-9d28-1f27417c6934",
   "metadata": {},
   "outputs": [
    {
     "data": {
      "text/plain": [
       "27"
      ]
     },
     "execution_count": 46,
     "metadata": {},
     "output_type": "execute_result"
    }
   ],
   "source": [
    "sub_length('170qknj1onn4c37qf1w71rzei1h.org')"
   ]
  },
  {
   "cell_type": "code",
   "execution_count": 47,
   "id": "d46d67a7-ae8a-4243-940b-869d8c2e33c2",
   "metadata": {},
   "outputs": [],
   "source": [
    "add_dataframe(data, sub_length, 'sub_length')"
   ]
  },
  {
   "cell_type": "code",
   "execution_count": 48,
   "id": "129c9310-0669-4e68-8076-c4840b41bc24",
   "metadata": {},
   "outputs": [
    {
     "data": {
      "text/html": [
       "<div>\n",
       "<style scoped>\n",
       "    .dataframe tbody tr th:only-of-type {\n",
       "        vertical-align: middle;\n",
       "    }\n",
       "\n",
       "    .dataframe tbody tr th {\n",
       "        vertical-align: top;\n",
       "    }\n",
       "\n",
       "    .dataframe thead th {\n",
       "        text-align: right;\n",
       "    }\n",
       "</style>\n",
       "<table border=\"1\" class=\"dataframe\">\n",
       "  <thead>\n",
       "    <tr style=\"text-align: right;\">\n",
       "      <th></th>\n",
       "      <th>domain</th>\n",
       "      <th>sub_length</th>\n",
       "      <th>sub_domain</th>\n",
       "      <th>top_domain</th>\n",
       "      <th>dga</th>\n",
       "      <th>class</th>\n",
       "    </tr>\n",
       "  </thead>\n",
       "  <tbody>\n",
       "    <tr>\n",
       "      <th>0</th>\n",
       "      <td>vsviqe.com</td>\n",
       "      <td>6</td>\n",
       "      <td>vsviqe</td>\n",
       "      <td>com</td>\n",
       "      <td>yes</td>\n",
       "      <td>19</td>\n",
       "    </tr>\n",
       "    <tr>\n",
       "      <th>1</th>\n",
       "      <td>170qknj1onn4c37qf1w71rzei1h.org</td>\n",
       "      <td>27</td>\n",
       "      <td>170qknj1onn4c37qf1w71rzei1h</td>\n",
       "      <td>org</td>\n",
       "      <td>yes</td>\n",
       "      <td>6</td>\n",
       "    </tr>\n",
       "    <tr>\n",
       "      <th>2</th>\n",
       "      <td>smartidpro.in</td>\n",
       "      <td>10</td>\n",
       "      <td>smartidpro</td>\n",
       "      <td>in</td>\n",
       "      <td>no</td>\n",
       "      <td>0</td>\n",
       "    </tr>\n",
       "    <tr>\n",
       "      <th>3</th>\n",
       "      <td>9mtrkmet8rjnpya4.ru</td>\n",
       "      <td>16</td>\n",
       "      <td>9mtrkmet8rjnpya4</td>\n",
       "      <td>ru</td>\n",
       "      <td>yes</td>\n",
       "      <td>2</td>\n",
       "    </tr>\n",
       "    <tr>\n",
       "      <th>4</th>\n",
       "      <td>ypyxhi.com</td>\n",
       "      <td>6</td>\n",
       "      <td>ypyxhi</td>\n",
       "      <td>com</td>\n",
       "      <td>yes</td>\n",
       "      <td>19</td>\n",
       "    </tr>\n",
       "    <tr>\n",
       "      <th>...</th>\n",
       "      <td>...</td>\n",
       "      <td>...</td>\n",
       "      <td>...</td>\n",
       "      <td>...</td>\n",
       "      <td>...</td>\n",
       "      <td>...</td>\n",
       "    </tr>\n",
       "    <tr>\n",
       "      <th>1599995</th>\n",
       "      <td>10zpd8p1ktb8bg1al07c3rfkuqw.net</td>\n",
       "      <td>27</td>\n",
       "      <td>10zpd8p1ktb8bg1al07c3rfkuqw</td>\n",
       "      <td>net</td>\n",
       "      <td>yes</td>\n",
       "      <td>6</td>\n",
       "    </tr>\n",
       "    <tr>\n",
       "      <th>1599996</th>\n",
       "      <td>acheemprego.com</td>\n",
       "      <td>11</td>\n",
       "      <td>acheemprego</td>\n",
       "      <td>com</td>\n",
       "      <td>no</td>\n",
       "      <td>0</td>\n",
       "    </tr>\n",
       "    <tr>\n",
       "      <th>1599997</th>\n",
       "      <td>dtvvqs.com</td>\n",
       "      <td>6</td>\n",
       "      <td>dtvvqs</td>\n",
       "      <td>com</td>\n",
       "      <td>yes</td>\n",
       "      <td>19</td>\n",
       "    </tr>\n",
       "    <tr>\n",
       "      <th>1599998</th>\n",
       "      <td>qurtpwncfwhjke.pw</td>\n",
       "      <td>14</td>\n",
       "      <td>qurtpwncfwhjke</td>\n",
       "      <td>pw</td>\n",
       "      <td>yes</td>\n",
       "      <td>7</td>\n",
       "    </tr>\n",
       "    <tr>\n",
       "      <th>1599999</th>\n",
       "      <td>p148e12d7c430db3c04635de27e343c625.ws</td>\n",
       "      <td>34</td>\n",
       "      <td>p148e12d7c430db3c04635de27e343c625</td>\n",
       "      <td>ws</td>\n",
       "      <td>yes</td>\n",
       "      <td>5</td>\n",
       "    </tr>\n",
       "  </tbody>\n",
       "</table>\n",
       "<p>1600000 rows × 6 columns</p>\n",
       "</div>"
      ],
      "text/plain": [
       "                                        domain  sub_length  \\\n",
       "0                                   vsviqe.com           6   \n",
       "1              170qknj1onn4c37qf1w71rzei1h.org          27   \n",
       "2                                smartidpro.in          10   \n",
       "3                          9mtrkmet8rjnpya4.ru          16   \n",
       "4                                   ypyxhi.com           6   \n",
       "...                                        ...         ...   \n",
       "1599995        10zpd8p1ktb8bg1al07c3rfkuqw.net          27   \n",
       "1599996                        acheemprego.com          11   \n",
       "1599997                             dtvvqs.com           6   \n",
       "1599998                      qurtpwncfwhjke.pw          14   \n",
       "1599999  p148e12d7c430db3c04635de27e343c625.ws          34   \n",
       "\n",
       "                                 sub_domain top_domain  dga  class  \n",
       "0                                    vsviqe        com  yes     19  \n",
       "1               170qknj1onn4c37qf1w71rzei1h        org  yes      6  \n",
       "2                                smartidpro         in   no      0  \n",
       "3                          9mtrkmet8rjnpya4         ru  yes      2  \n",
       "4                                    ypyxhi        com  yes     19  \n",
       "...                                     ...        ...  ...    ...  \n",
       "1599995         10zpd8p1ktb8bg1al07c3rfkuqw        net  yes      6  \n",
       "1599996                         acheemprego        com   no      0  \n",
       "1599997                              dtvvqs        com  yes     19  \n",
       "1599998                      qurtpwncfwhjke         pw  yes      7  \n",
       "1599999  p148e12d7c430db3c04635de27e343c625         ws  yes      5  \n",
       "\n",
       "[1600000 rows x 6 columns]"
      ]
     },
     "execution_count": 48,
     "metadata": {},
     "output_type": "execute_result"
    }
   ],
   "source": [
    "data"
   ]
  },
  {
   "cell_type": "code",
   "execution_count": 49,
   "id": "55eea8af-704a-4dd6-ab09-e784a055ee87",
   "metadata": {},
   "outputs": [
    {
     "data": {
      "text/html": [
       "<div>\n",
       "<style scoped>\n",
       "    .dataframe tbody tr th:only-of-type {\n",
       "        vertical-align: middle;\n",
       "    }\n",
       "\n",
       "    .dataframe tbody tr th {\n",
       "        vertical-align: top;\n",
       "    }\n",
       "\n",
       "    .dataframe thead th {\n",
       "        text-align: right;\n",
       "    }\n",
       "</style>\n",
       "<table border=\"1\" class=\"dataframe\">\n",
       "  <thead>\n",
       "    <tr style=\"text-align: right;\">\n",
       "      <th></th>\n",
       "      <th>domain</th>\n",
       "      <th>sub_length</th>\n",
       "      <th>sub_domain</th>\n",
       "      <th>top_domain</th>\n",
       "      <th>dga</th>\n",
       "      <th>class</th>\n",
       "    </tr>\n",
       "  </thead>\n",
       "  <tbody>\n",
       "    <tr>\n",
       "      <th>0</th>\n",
       "      <td>vsviqe.com</td>\n",
       "      <td>6</td>\n",
       "      <td>vsviqe</td>\n",
       "      <td>com</td>\n",
       "      <td>yes</td>\n",
       "      <td>19</td>\n",
       "    </tr>\n",
       "    <tr>\n",
       "      <th>1</th>\n",
       "      <td>170qknj1onn4c37qf1w71rzei1h.org</td>\n",
       "      <td>27</td>\n",
       "      <td>170qknj1onn4c37qf1w71rzei1h</td>\n",
       "      <td>org</td>\n",
       "      <td>yes</td>\n",
       "      <td>6</td>\n",
       "    </tr>\n",
       "    <tr>\n",
       "      <th>2</th>\n",
       "      <td>smartidpro.in</td>\n",
       "      <td>10</td>\n",
       "      <td>smartidpro</td>\n",
       "      <td>in</td>\n",
       "      <td>no</td>\n",
       "      <td>0</td>\n",
       "    </tr>\n",
       "    <tr>\n",
       "      <th>3</th>\n",
       "      <td>9mtrkmet8rjnpya4.ru</td>\n",
       "      <td>16</td>\n",
       "      <td>9mtrkmet8rjnpya4</td>\n",
       "      <td>ru</td>\n",
       "      <td>yes</td>\n",
       "      <td>2</td>\n",
       "    </tr>\n",
       "    <tr>\n",
       "      <th>4</th>\n",
       "      <td>ypyxhi.com</td>\n",
       "      <td>6</td>\n",
       "      <td>ypyxhi</td>\n",
       "      <td>com</td>\n",
       "      <td>yes</td>\n",
       "      <td>19</td>\n",
       "    </tr>\n",
       "    <tr>\n",
       "      <th>...</th>\n",
       "      <td>...</td>\n",
       "      <td>...</td>\n",
       "      <td>...</td>\n",
       "      <td>...</td>\n",
       "      <td>...</td>\n",
       "      <td>...</td>\n",
       "    </tr>\n",
       "    <tr>\n",
       "      <th>1599995</th>\n",
       "      <td>10zpd8p1ktb8bg1al07c3rfkuqw.net</td>\n",
       "      <td>27</td>\n",
       "      <td>10zpd8p1ktb8bg1al07c3rfkuqw</td>\n",
       "      <td>net</td>\n",
       "      <td>yes</td>\n",
       "      <td>6</td>\n",
       "    </tr>\n",
       "    <tr>\n",
       "      <th>1599996</th>\n",
       "      <td>acheemprego.com</td>\n",
       "      <td>11</td>\n",
       "      <td>acheemprego</td>\n",
       "      <td>com</td>\n",
       "      <td>no</td>\n",
       "      <td>0</td>\n",
       "    </tr>\n",
       "    <tr>\n",
       "      <th>1599997</th>\n",
       "      <td>dtvvqs.com</td>\n",
       "      <td>6</td>\n",
       "      <td>dtvvqs</td>\n",
       "      <td>com</td>\n",
       "      <td>yes</td>\n",
       "      <td>19</td>\n",
       "    </tr>\n",
       "    <tr>\n",
       "      <th>1599998</th>\n",
       "      <td>qurtpwncfwhjke.pw</td>\n",
       "      <td>14</td>\n",
       "      <td>qurtpwncfwhjke</td>\n",
       "      <td>pw</td>\n",
       "      <td>yes</td>\n",
       "      <td>7</td>\n",
       "    </tr>\n",
       "    <tr>\n",
       "      <th>1599999</th>\n",
       "      <td>p148e12d7c430db3c04635de27e343c625.ws</td>\n",
       "      <td>34</td>\n",
       "      <td>p148e12d7c430db3c04635de27e343c625</td>\n",
       "      <td>ws</td>\n",
       "      <td>yes</td>\n",
       "      <td>5</td>\n",
       "    </tr>\n",
       "  </tbody>\n",
       "</table>\n",
       "<p>1600000 rows × 6 columns</p>\n",
       "</div>"
      ],
      "text/plain": [
       "                                        domain  sub_length  \\\n",
       "0                                   vsviqe.com           6   \n",
       "1              170qknj1onn4c37qf1w71rzei1h.org          27   \n",
       "2                                smartidpro.in          10   \n",
       "3                          9mtrkmet8rjnpya4.ru          16   \n",
       "4                                   ypyxhi.com           6   \n",
       "...                                        ...         ...   \n",
       "1599995        10zpd8p1ktb8bg1al07c3rfkuqw.net          27   \n",
       "1599996                        acheemprego.com          11   \n",
       "1599997                             dtvvqs.com           6   \n",
       "1599998                      qurtpwncfwhjke.pw          14   \n",
       "1599999  p148e12d7c430db3c04635de27e343c625.ws          34   \n",
       "\n",
       "                                 sub_domain top_domain  dga  class  \n",
       "0                                    vsviqe        com  yes     19  \n",
       "1               170qknj1onn4c37qf1w71rzei1h        org  yes      6  \n",
       "2                                smartidpro         in   no      0  \n",
       "3                          9mtrkmet8rjnpya4         ru  yes      2  \n",
       "4                                    ypyxhi        com  yes     19  \n",
       "...                                     ...        ...  ...    ...  \n",
       "1599995         10zpd8p1ktb8bg1al07c3rfkuqw        net  yes      6  \n",
       "1599996                         acheemprego        com   no      0  \n",
       "1599997                              dtvvqs        com  yes     19  \n",
       "1599998                      qurtpwncfwhjke         pw  yes      7  \n",
       "1599999  p148e12d7c430db3c04635de27e343c625         ws  yes      5  \n",
       "\n",
       "[1600000 rows x 6 columns]"
      ]
     },
     "execution_count": 49,
     "metadata": {},
     "output_type": "execute_result"
    }
   ],
   "source": [
    "data"
   ]
  },
  {
   "cell_type": "code",
   "execution_count": 50,
   "id": "255f0588-e1b7-48e7-b13a-a264b9a255de",
   "metadata": {},
   "outputs": [],
   "source": [
    "import matplotlib.pyplot as plt"
   ]
  },
  {
   "cell_type": "code",
   "execution_count": 52,
   "id": "41a51e7d-d58e-4d6d-83ee-5d3d5fc2a8d1",
   "metadata": {
    "tags": []
   },
   "outputs": [
    {
     "data": {
      "image/png": "[encoded data removed]",
      "text/plain": [
       "<Figure size 701.25x216 with 1 Axes>"
      ]
     },
     "metadata": {
      "needs_background": "light"
     },
     "output_type": "display_data"
    }
   ],
   "source": [
    "#sns.barplot(data, x=data.index, y=sub_length)\n",
    "facet = sns.FacetGrid(data, hue='dga', aspect=3)\n",
    "facet.map(sns.kdeplot, 'sub_length', shade=True)\n",
    "facet.set(xlim=(0, data['sub_length'].max()))\n",
    "facet.add_legend()\n",
    "plt.show()\n",
    "# 20이상은 비정상이라 판단?"
   ]
  },
  {
   "cell_type": "code",
   "execution_count": null,
   "id": "9fe9a361-205f-4ff7-894e-7b6e9b44a5b7",
   "metadata": {},
   "outputs": [],
   "source": []
  },
  {
   "cell_type": "markdown",
   "id": "65df9f05-ec8c-4219-ae04-91a8df03296b",
   "metadata": {},
   "source": [
    "# 1-2. sub domain 중심 파악"
   ]
  },
  {
   "cell_type": "markdown",
   "id": "3c82435f-f056-48c6-afa1-7c2954f34f2e",
   "metadata": {},
   "source": [
    "#### 1) 자음끼리 붙었을 경우 살펴보기"
   ]
  },
  {
   "cell_type": "code",
   "execution_count": 63,
   "id": "4279f0e8-bb3f-4013-bc3e-a02c7b660841",
   "metadata": {},
   "outputs": [
    {
     "data": {
      "text/plain": [
       "array(['info', 'org'], dtype=object)"
      ]
     },
     "execution_count": 63,
     "metadata": {},
     "output_type": "execute_result"
    }
   ],
   "source": [
    "data_1_topview = data[data['class']==1]\n",
    "data_1_topview['top_domain'].unique()"
   ]
  },
  {
   "cell_type": "code",
   "execution_count": null,
   "id": "31542ee7-c260-4451-b5fc-e4db7ee052a7",
   "metadata": {},
   "outputs": [],
   "source": []
  },
  {
   "cell_type": "raw",
   "id": "24db6d32-86ff-45b9-8ef5-cc8b323394e4",
   "metadata": {
    "jupyter": {
     "outputs_hidden": true
    },
    "tags": []
   },
   "source": [
    "for i in range(0,20) : \n",
    "    ('data_'+i+'_topview') = data[data['class']==i]\n",
    "    print('data_'+i+'_topview')\n",
    "    #'data_'+i+'_topview['top_domain'].unique()' #모든 class별 나눈것의 unique값 살펴보기!"
   ]
  },
  {
   "cell_type": "code",
   "execution_count": 85,
   "id": "90e30646-49a3-420e-8c5e-c9891f9cf2c9",
   "metadata": {},
   "outputs": [],
   "source": [
    "data_2_domain = 'awekltjklaewtklajaklwetjkltwpaiowetj.kr'"
   ]
  },
  {
   "cell_type": "code",
   "execution_count": 86,
   "id": "b6891bb9-7faf-4ae4-b083-b618e9530879",
   "metadata": {
    "tags": []
   },
   "outputs": [],
   "source": [
    "data_2_sub = 'awekltjklaewtklajaklwetjkltwpaiowetj'"
   ]
  },
  {
   "cell_type": "raw",
   "id": "6e599de6-6ab0-4fd7-8d2c-2e176d0b4821",
   "metadata": {},
   "source": [
    "자음 : bcdfghjklmnpqrstvwxyz\n",
    "모음 : aeiou"
   ]
  },
  {
   "cell_type": "code",
   "execution_count": 87,
   "id": "124ea011-bbaf-40ea-b472-74a66e46adfa",
   "metadata": {},
   "outputs": [],
   "source": [
    "import re"
   ]
  },
  {
   "cell_type": "code",
   "execution_count": 88,
   "id": "57e5b660-7bdd-41b4-b3b3-72d11fc656a9",
   "metadata": {},
   "outputs": [],
   "source": [
    "pattern = re.compile(r'[bcdfghjklmnpqrstvwxyz]{3,}')   # 중괄호 안의 3이라는 값 = 3번 이상 반복되면 캐치해내라!!"
   ]
  },
  {
   "cell_type": "code",
   "execution_count": 89,
   "id": "716184e6-b7a9-4112-a0b8-6ae4fb51ff94",
   "metadata": {},
   "outputs": [],
   "source": [
    "match = pattern.findall(data_2_sub)"
   ]
  },
  {
   "cell_type": "code",
   "execution_count": 90,
   "id": "147cfb29-b49c-4e23-853b-bc560976fd01",
   "metadata": {},
   "outputs": [
    {
     "data": {
      "text/plain": [
       "['kltjkl', 'wtkl', 'klw', 'tjkltwp']"
      ]
     },
     "execution_count": 90,
     "metadata": {},
     "output_type": "execute_result"
    }
   ],
   "source": [
    "match"
   ]
  },
  {
   "cell_type": "code",
   "execution_count": 91,
   "id": "f74a14b3-a932-4dd0-89d4-2760d0c41214",
   "metadata": {},
   "outputs": [
    {
     "data": {
      "text/plain": [
       "36"
      ]
     },
     "execution_count": 91,
     "metadata": {},
     "output_type": "execute_result"
    }
   ],
   "source": [
    "len(data_2_sub)"
   ]
  },
  {
   "cell_type": "code",
   "execution_count": 94,
   "id": "6f416713-07f9-43e4-8f3b-adea01671fe4",
   "metadata": {},
   "outputs": [
    {
     "data": {
      "text/plain": [
       "4"
      ]
     },
     "execution_count": 94,
     "metadata": {},
     "output_type": "execute_result"
    }
   ],
   "source": [
    "len(match)  #sub도메인 주소에서 자음이 3개이상 겹치는 구간의 개수!!"
   ]
  },
  {
   "cell_type": "code",
   "execution_count": 95,
   "id": "eb857c94-4e31-4cbf-92c3-589e28391f07",
   "metadata": {},
   "outputs": [],
   "source": [
    "def is_con(domain) : #domain 주소를 넣었을 때 자음이 세개이상 겹치는 구간의 개수를 구하는 함수!\n",
    "    sub = sub_domain(domain)\n",
    "    \n",
    "    pattern = re.compile(r'[bcdfghjklmnpqrstvwxyz]{3,}')\n",
    "    match = pattern.findall(sub)\n",
    "    \n",
    "    return len(match)"
   ]
  },
  {
   "cell_type": "code",
   "execution_count": 96,
   "id": "c57d1d54-b681-4b07-9d18-72a2a25a044e",
   "metadata": {},
   "outputs": [
    {
     "data": {
      "text/plain": [
       "0"
      ]
     },
     "execution_count": 96,
     "metadata": {},
     "output_type": "execute_result"
    }
   ],
   "source": [
    "is_con('naver.com')"
   ]
  },
  {
   "cell_type": "code",
   "execution_count": 97,
   "id": "36462751-2d49-4e7d-83f2-c7eac5e17358",
   "metadata": {},
   "outputs": [],
   "source": [
    "add_dataframe(data, is_con, 'is_con')"
   ]
  },
  {
   "cell_type": "code",
   "execution_count": 98,
   "id": "3103e7e8-0ed3-472f-aed0-5ce1c3066440",
   "metadata": {},
   "outputs": [
    {
     "data": {
      "text/html": [
       "<div>\n",
       "<style scoped>\n",
       "    .dataframe tbody tr th:only-of-type {\n",
       "        vertical-align: middle;\n",
       "    }\n",
       "\n",
       "    .dataframe tbody tr th {\n",
       "        vertical-align: top;\n",
       "    }\n",
       "\n",
       "    .dataframe thead th {\n",
       "        text-align: right;\n",
       "    }\n",
       "</style>\n",
       "<table border=\"1\" class=\"dataframe\">\n",
       "  <thead>\n",
       "    <tr style=\"text-align: right;\">\n",
       "      <th></th>\n",
       "      <th>domain</th>\n",
       "      <th>is_con</th>\n",
       "      <th>sub_length</th>\n",
       "      <th>sub_domain</th>\n",
       "      <th>top_domain</th>\n",
       "      <th>dga</th>\n",
       "      <th>class</th>\n",
       "    </tr>\n",
       "  </thead>\n",
       "  <tbody>\n",
       "    <tr>\n",
       "      <th>0</th>\n",
       "      <td>vsviqe.com</td>\n",
       "      <td>1</td>\n",
       "      <td>6</td>\n",
       "      <td>vsviqe</td>\n",
       "      <td>com</td>\n",
       "      <td>yes</td>\n",
       "      <td>19</td>\n",
       "    </tr>\n",
       "    <tr>\n",
       "      <th>1</th>\n",
       "      <td>170qknj1onn4c37qf1w71rzei1h.org</td>\n",
       "      <td>1</td>\n",
       "      <td>27</td>\n",
       "      <td>170qknj1onn4c37qf1w71rzei1h</td>\n",
       "      <td>org</td>\n",
       "      <td>yes</td>\n",
       "      <td>6</td>\n",
       "    </tr>\n",
       "    <tr>\n",
       "      <th>2</th>\n",
       "      <td>smartidpro.in</td>\n",
       "      <td>1</td>\n",
       "      <td>10</td>\n",
       "      <td>smartidpro</td>\n",
       "      <td>in</td>\n",
       "      <td>no</td>\n",
       "      <td>0</td>\n",
       "    </tr>\n",
       "    <tr>\n",
       "      <th>3</th>\n",
       "      <td>9mtrkmet8rjnpya4.ru</td>\n",
       "      <td>2</td>\n",
       "      <td>16</td>\n",
       "      <td>9mtrkmet8rjnpya4</td>\n",
       "      <td>ru</td>\n",
       "      <td>yes</td>\n",
       "      <td>2</td>\n",
       "    </tr>\n",
       "    <tr>\n",
       "      <th>4</th>\n",
       "      <td>ypyxhi.com</td>\n",
       "      <td>1</td>\n",
       "      <td>6</td>\n",
       "      <td>ypyxhi</td>\n",
       "      <td>com</td>\n",
       "      <td>yes</td>\n",
       "      <td>19</td>\n",
       "    </tr>\n",
       "    <tr>\n",
       "      <th>...</th>\n",
       "      <td>...</td>\n",
       "      <td>...</td>\n",
       "      <td>...</td>\n",
       "      <td>...</td>\n",
       "      <td>...</td>\n",
       "      <td>...</td>\n",
       "      <td>...</td>\n",
       "    </tr>\n",
       "    <tr>\n",
       "      <th>1599995</th>\n",
       "      <td>10zpd8p1ktb8bg1al07c3rfkuqw.net</td>\n",
       "      <td>3</td>\n",
       "      <td>27</td>\n",
       "      <td>10zpd8p1ktb8bg1al07c3rfkuqw</td>\n",
       "      <td>net</td>\n",
       "      <td>yes</td>\n",
       "      <td>6</td>\n",
       "    </tr>\n",
       "    <tr>\n",
       "      <th>1599996</th>\n",
       "      <td>acheemprego.com</td>\n",
       "      <td>1</td>\n",
       "      <td>11</td>\n",
       "      <td>acheemprego</td>\n",
       "      <td>com</td>\n",
       "      <td>no</td>\n",
       "      <td>0</td>\n",
       "    </tr>\n",
       "    <tr>\n",
       "      <th>1599997</th>\n",
       "      <td>dtvvqs.com</td>\n",
       "      <td>1</td>\n",
       "      <td>6</td>\n",
       "      <td>dtvvqs</td>\n",
       "      <td>com</td>\n",
       "      <td>yes</td>\n",
       "      <td>19</td>\n",
       "    </tr>\n",
       "    <tr>\n",
       "      <th>1599998</th>\n",
       "      <td>qurtpwncfwhjke.pw</td>\n",
       "      <td>1</td>\n",
       "      <td>14</td>\n",
       "      <td>qurtpwncfwhjke</td>\n",
       "      <td>pw</td>\n",
       "      <td>yes</td>\n",
       "      <td>7</td>\n",
       "    </tr>\n",
       "    <tr>\n",
       "      <th>1599999</th>\n",
       "      <td>p148e12d7c430db3c04635de27e343c625.ws</td>\n",
       "      <td>0</td>\n",
       "      <td>34</td>\n",
       "      <td>p148e12d7c430db3c04635de27e343c625</td>\n",
       "      <td>ws</td>\n",
       "      <td>yes</td>\n",
       "      <td>5</td>\n",
       "    </tr>\n",
       "  </tbody>\n",
       "</table>\n",
       "<p>1600000 rows × 7 columns</p>\n",
       "</div>"
      ],
      "text/plain": [
       "                                        domain  is_con  sub_length  \\\n",
       "0                                   vsviqe.com       1           6   \n",
       "1              170qknj1onn4c37qf1w71rzei1h.org       1          27   \n",
       "2                                smartidpro.in       1          10   \n",
       "3                          9mtrkmet8rjnpya4.ru       2          16   \n",
       "4                                   ypyxhi.com       1           6   \n",
       "...                                        ...     ...         ...   \n",
       "1599995        10zpd8p1ktb8bg1al07c3rfkuqw.net       3          27   \n",
       "1599996                        acheemprego.com       1          11   \n",
       "1599997                             dtvvqs.com       1           6   \n",
       "1599998                      qurtpwncfwhjke.pw       1          14   \n",
       "1599999  p148e12d7c430db3c04635de27e343c625.ws       0          34   \n",
       "\n",
       "                                 sub_domain top_domain  dga  class  \n",
       "0                                    vsviqe        com  yes     19  \n",
       "1               170qknj1onn4c37qf1w71rzei1h        org  yes      6  \n",
       "2                                smartidpro         in   no      0  \n",
       "3                          9mtrkmet8rjnpya4         ru  yes      2  \n",
       "4                                    ypyxhi        com  yes     19  \n",
       "...                                     ...        ...  ...    ...  \n",
       "1599995         10zpd8p1ktb8bg1al07c3rfkuqw        net  yes      6  \n",
       "1599996                         acheemprego        com   no      0  \n",
       "1599997                              dtvvqs        com  yes     19  \n",
       "1599998                      qurtpwncfwhjke         pw  yes      7  \n",
       "1599999  p148e12d7c430db3c04635de27e343c625         ws  yes      5  \n",
       "\n",
       "[1600000 rows x 7 columns]"
      ]
     },
     "execution_count": 98,
     "metadata": {},
     "output_type": "execute_result"
    }
   ],
   "source": [
    "data"
   ]
  },
  {
   "cell_type": "code",
   "execution_count": 99,
   "id": "8c9882ae-3548-4f3d-9cf0-b0aff8ee22a3",
   "metadata": {},
   "outputs": [
    {
     "data": {
      "text/plain": [
       "array([1, 2, 3, 0, 4, 5, 6, 7], dtype=int64)"
      ]
     },
     "execution_count": 99,
     "metadata": {},
     "output_type": "execute_result"
    }
   ],
   "source": [
    "data['is_con'].unique()"
   ]
  },
  {
   "cell_type": "code",
   "execution_count": 102,
   "id": "e203703c-e935-4a82-a2f5-a416e0851e85",
   "metadata": {},
   "outputs": [
    {
     "data": {
      "image/png": "[encoded data removed]",
      "text/plain": [
       "<Figure size 701.25x216 with 1 Axes>"
      ]
     },
     "metadata": {
      "needs_background": "light"
     },
     "output_type": "display_data"
    }
   ],
   "source": [
    "\n",
    "facet = sns.FacetGrid(data, hue='dga', aspect=3)\n",
    "facet.map(sns.kdeplot, 'is_con', shade=True)\n",
    "facet.set(xlim=(0, data['is_con'].max()))\n",
    "facet.add_legend()\n",
    "plt.show()\n",
    "# 0개일 떈 정상 ~ / 2개 이상은 비정상이라고 볼 수 도 있음!"
   ]
  },
  {
   "cell_type": "markdown",
   "id": "c6f08762-4c20-4b02-8b9f-308204a8fbc5",
   "metadata": {},
   "source": [
    "#### 2) 자음과 모음의 비율 찾기"
   ]
  },
  {
   "cell_type": "code",
   "execution_count": 110,
   "id": "1879b127-162b-4435-a0c1-130fc9abfc1f",
   "metadata": {},
   "outputs": [],
   "source": [
    "data_1_domain = 'wa0tejaw0etjeaw0-tjawt0ajt0aewt0j0.info'"
   ]
  },
  {
   "cell_type": "code",
   "execution_count": 111,
   "id": "c50a6f25-321e-4a7c-8000-0a81b9b3f22b",
   "metadata": {},
   "outputs": [],
   "source": [
    "data_1_sub = sub_domain(data_1_domain)"
   ]
  },
  {
   "cell_type": "code",
   "execution_count": 112,
   "id": "c16831f9-0daf-4f41-90c4-2adfe0144357",
   "metadata": {},
   "outputs": [],
   "source": [
    "pattern_con = re.compile(r'[bcdfghjklmnpqrstvwxyz]')\n",
    "pattern_vow = re.compile(r'[aeiou]')"
   ]
  },
  {
   "cell_type": "code",
   "execution_count": 113,
   "id": "25ac4760-4052-4c0e-aa85-19d976e348bf",
   "metadata": {},
   "outputs": [],
   "source": [
    "match_con = pattern_con.findall(data_1_sub)\n",
    "match_vow = pattern_vow.findall(data_1_sub)"
   ]
  },
  {
   "cell_type": "code",
   "execution_count": 114,
   "id": "2b0ca7b6-ebea-49a6-85d1-a18de733194c",
   "metadata": {},
   "outputs": [
    {
     "data": {
      "text/plain": [
       "['w',\n",
       " 't',\n",
       " 'j',\n",
       " 'w',\n",
       " 't',\n",
       " 'j',\n",
       " 'w',\n",
       " 't',\n",
       " 'j',\n",
       " 'w',\n",
       " 't',\n",
       " 'j',\n",
       " 't',\n",
       " 'w',\n",
       " 't',\n",
       " 'j']"
      ]
     },
     "execution_count": 114,
     "metadata": {},
     "output_type": "execute_result"
    }
   ],
   "source": [
    "match_con"
   ]
  },
  {
   "cell_type": "code",
   "execution_count": 115,
   "id": "1c43b6bb-7214-4c10-9edd-e79ac6c603e9",
   "metadata": {},
   "outputs": [
    {
     "data": {
      "text/plain": [
       "['a', 'e', 'a', 'e', 'e', 'a', 'a', 'a', 'a', 'e']"
      ]
     },
     "execution_count": 115,
     "metadata": {},
     "output_type": "execute_result"
    }
   ],
   "source": [
    "match_vow"
   ]
  },
  {
   "cell_type": "code",
   "execution_count": 116,
   "id": "7aa28e1c-0657-459d-8297-2168214a4492",
   "metadata": {},
   "outputs": [
    {
     "data": {
      "text/plain": [
       "0.47058823529411764"
      ]
     },
     "execution_count": 116,
     "metadata": {},
     "output_type": "execute_result"
    }
   ],
   "source": [
    "len(match_con)/sub_length(data_1_domain)  # 전체 sub도메인에서 자음의 비율"
   ]
  },
  {
   "cell_type": "code",
   "execution_count": 117,
   "id": "311e2ed3-b645-4a90-9cb7-ec2be1ac45dc",
   "metadata": {},
   "outputs": [
    {
     "data": {
      "text/plain": [
       "0.29411764705882354"
      ]
     },
     "execution_count": 117,
     "metadata": {},
     "output_type": "execute_result"
    }
   ],
   "source": [
    "len(match_vow)/sub_length(data_1_domain)  # 전체 sub도메인에서 모음의 비율"
   ]
  },
  {
   "cell_type": "code",
   "execution_count": 120,
   "id": "a90be0b4-9fec-4b9e-aa95-ae57df2758e1",
   "metadata": {},
   "outputs": [],
   "source": [
    "def rate_con(domain) :\n",
    "    sub = sub_domain(domain)\n",
    "    \n",
    "    pattern_con = re.compile(r'[bcdfghjklmnpqrstvwxyz]')\n",
    "    match_con = pattern_con.findall(sub)\n",
    "    \n",
    "    rate = round(len(match_con)/len(sub),5)  # 자음의길이 / 도메인길이  >> 비율이 너무 길게 나오니까 소수 다섯째 자리까지만 표기\n",
    "    \n",
    "    return rate"
   ]
  },
  {
   "cell_type": "code",
   "execution_count": null,
   "id": "60c65300-e83f-46fb-976c-43794f7bed70",
   "metadata": {},
   "outputs": [],
   "source": []
  },
  {
   "cell_type": "code",
   "execution_count": 121,
   "id": "1e762ea8-8997-4199-b0ba-154e4b879202",
   "metadata": {},
   "outputs": [],
   "source": [
    "def rate_vow(domain) :\n",
    "    sub = sub_domain(domain)\n",
    "    \n",
    "    pattern_vow = re.compile(r'[aeiou]')\n",
    "    match_vow = pattern_vow.findall(sub)\n",
    "    \n",
    "    rate = round(len(match_vow)/len(sub),5)  # 자음의길이 / 도메인길이  >> 비율이 너무 길게 나오니까 소수 다섯째 자리까지만 표기\n",
    "    \n",
    "    return rate"
   ]
  },
  {
   "cell_type": "code",
   "execution_count": null,
   "id": "07f187f4-6a55-48a6-b1b0-5f7d705399c5",
   "metadata": {},
   "outputs": [],
   "source": []
  },
  {
   "cell_type": "code",
   "execution_count": 122,
   "id": "d90da970-3319-47e8-a038-06d7992c9c6f",
   "metadata": {},
   "outputs": [
    {
     "data": {
      "text/plain": [
       "0.6"
      ]
     },
     "execution_count": 122,
     "metadata": {},
     "output_type": "execute_result"
    }
   ],
   "source": [
    "rate_con('naver.com')"
   ]
  },
  {
   "cell_type": "code",
   "execution_count": 123,
   "id": "3ba74f59-93db-4142-bec9-476115296eb8",
   "metadata": {},
   "outputs": [
    {
     "data": {
      "text/plain": [
       "0.4"
      ]
     },
     "execution_count": 123,
     "metadata": {},
     "output_type": "execute_result"
    }
   ],
   "source": [
    "rate_vow('naver.com')"
   ]
  },
  {
   "cell_type": "code",
   "execution_count": null,
   "id": "ea43f19f-9f46-4057-b66e-03a4d2a82994",
   "metadata": {},
   "outputs": [],
   "source": []
  },
  {
   "cell_type": "code",
   "execution_count": 124,
   "id": "b0af7619-37bf-4bd0-8039-7ac8484238c5",
   "metadata": {},
   "outputs": [],
   "source": [
    "add_dataframe(data, rate_con, 'rate_con')"
   ]
  },
  {
   "cell_type": "code",
   "execution_count": 125,
   "id": "2a31039b-ac66-4626-b6cf-ebdfa5deb104",
   "metadata": {},
   "outputs": [],
   "source": [
    "add_dataframe(data, rate_vow, 'rate_vow')"
   ]
  },
  {
   "cell_type": "code",
   "execution_count": null,
   "id": "2d92bd99-099c-4647-b9e0-46feb713b848",
   "metadata": {},
   "outputs": [],
   "source": []
  },
  {
   "cell_type": "code",
   "execution_count": 127,
   "id": "8b34503b-1818-4f3a-b891-df04b1ccd6af",
   "metadata": {},
   "outputs": [
    {
     "data": {
      "image/png": "[encoded data removed]",
      "text/plain": [
       "<Figure size 701.25x216 with 1 Axes>"
      ]
     },
     "metadata": {
      "needs_background": "light"
     },
     "output_type": "display_data"
    }
   ],
   "source": [
    "# 자음 비율 그래프\n",
    "facet = sns.FacetGrid(data, hue='dga', aspect=3)\n",
    "facet.map(sns.kdeplot, 'rate_con', shade=True)\n",
    "facet.set(xlim=(0, data['rate_con'].max()))\n",
    "facet.add_legend()\n",
    "plt.show()\n",
    "# 비율이 0.8이상이면 비정상 처리???"
   ]
  },
  {
   "cell_type": "code",
   "execution_count": 128,
   "id": "847209f6-052d-45cd-addd-fdc797d09db9",
   "metadata": {},
   "outputs": [
    {
     "data": {
      "image/png": "[encoded data removed]",
      "text/plain": [
       "<Figure size 701.25x216 with 1 Axes>"
      ]
     },
     "metadata": {
      "needs_background": "light"
     },
     "output_type": "display_data"
    }
   ],
   "source": [
    "# 모음 비율 그래프\n",
    "facet = sns.FacetGrid(data, hue='dga', aspect=3)\n",
    "facet.map(sns.kdeplot, 'rate_vow', shade=True)\n",
    "facet.set(xlim=(0, data['rate_vow'].max()))\n",
    "facet.add_legend()\n",
    "plt.show()\n",
    "# 비율이 0.2보다 낮으면 비정상 처리???"
   ]
  },
  {
   "cell_type": "code",
   "execution_count": null,
   "id": "3934dcad-b36a-4b9b-a8a0-41d3f82876f4",
   "metadata": {},
   "outputs": [],
   "source": []
  },
  {
   "cell_type": "raw",
   "id": "4fa50eb5-e320-4561-85f5-023d2b38f796",
   "metadata": {},
   "source": [
    "도메인의 숫자개수가 많으면 비정상?\n",
    "도메인의 특정 번째수에 숫자가 들어감? *한번 해보기!"
   ]
  },
  {
   "cell_type": "code",
   "execution_count": null,
   "id": "5e068208-db39-4860-bbb4-6c13498cb0ae",
   "metadata": {},
   "outputs": [],
   "source": []
  },
  {
   "cell_type": "markdown",
   "id": "ef42455b-e34e-472d-8fb9-f3014f28a3ca",
   "metadata": {},
   "source": [
    "#### 3) 숫자의 분포 찾기"
   ]
  },
  {
   "cell_type": "code",
   "execution_count": null,
   "id": "b2020ac8-c722-4905-b338-252e14b090ba",
   "metadata": {},
   "outputs": [],
   "source": []
  },
  {
   "cell_type": "code",
   "execution_count": 130,
   "id": "9fc822fa-ab7c-4efd-80f8-c4cef472b7c5",
   "metadata": {},
   "outputs": [],
   "source": [
    "data_1_domain = 'b6424902109412904u09u23094u09aw300j901941241029401924.info'"
   ]
  },
  {
   "cell_type": "raw",
   "id": "34cfbef6-d124-4b81-b4df-47c019258efa",
   "metadata": {},
   "source": [
    "숫자 분포 체크!!\n",
    "data_1_domain = \\\n",
    "'b\n",
    "6424902109412904 u \n",
    "09 u \n",
    "23094 u \n",
    "09 aw \n",
    "300 j \n",
    "901941241029401924\n",
    ".info'"
   ]
  },
  {
   "cell_type": "code",
   "execution_count": 131,
   "id": "2146f143-7d19-41eb-8d32-fb59d3055115",
   "metadata": {},
   "outputs": [],
   "source": [
    "data_1_sub = sub_domain(data_1_domain)"
   ]
  },
  {
   "cell_type": "code",
   "execution_count": 132,
   "id": "2a2b82ad-4aad-475a-8cfc-3f8c0a674408",
   "metadata": {},
   "outputs": [
    {
     "data": {
      "text/plain": [
       "'b6424902109412904u09u23094u09aw300j901941241029401924'"
      ]
     },
     "execution_count": 132,
     "metadata": {},
     "output_type": "execute_result"
    }
   ],
   "source": [
    "data_1_sub"
   ]
  },
  {
   "cell_type": "code",
   "execution_count": 133,
   "id": "42580db4-d3a0-4d59-a98f-2de35da6c994",
   "metadata": {},
   "outputs": [],
   "source": [
    "pattern = re.compile('[0-9]{1,}')"
   ]
  },
  {
   "cell_type": "code",
   "execution_count": 134,
   "id": "ad644c21-a043-430b-bc6b-07e00f21fc87",
   "metadata": {},
   "outputs": [],
   "source": [
    "match = pattern.findall(data_1_sub)"
   ]
  },
  {
   "cell_type": "code",
   "execution_count": 135,
   "id": "2c457f61-e0d3-4c44-982b-4afea8766025",
   "metadata": {},
   "outputs": [
    {
     "data": {
      "text/plain": [
       "['6424902109412904', '09', '23094', '09', '300', '901941241029401924']"
      ]
     },
     "execution_count": 135,
     "metadata": {},
     "output_type": "execute_result"
    }
   ],
   "source": [
    "match"
   ]
  },
  {
   "cell_type": "code",
   "execution_count": 137,
   "id": "6f3f7e7b-d3ed-4469-b736-50ba8947bec1",
   "metadata": {},
   "outputs": [
    {
     "data": {
      "text/plain": [
       "6"
      ]
     },
     "execution_count": 137,
     "metadata": {},
     "output_type": "execute_result"
    }
   ],
   "source": [
    "len(match)  # 6개의 숫자 구간 확인!!"
   ]
  },
  {
   "cell_type": "code",
   "execution_count": 138,
   "id": "6d82701d-1abf-456d-8cd2-4fa7652525c0",
   "metadata": {},
   "outputs": [],
   "source": [
    "def dist_num(domain) :\n",
    "    sub= sub_domain(domain)\n",
    "    \n",
    "    pattern= re.compile('[0-9]{1,}')\n",
    "    match = pattern.findall(sub)\n",
    "    \n",
    "    return len(match)"
   ]
  },
  {
   "cell_type": "code",
   "execution_count": 139,
   "id": "ea2be4cf-5ffe-4062-9060-151b8bed8e97",
   "metadata": {},
   "outputs": [
    {
     "data": {
      "text/plain": [
       "0"
      ]
     },
     "execution_count": 139,
     "metadata": {},
     "output_type": "execute_result"
    }
   ],
   "source": [
    "dist_num('naver.com')"
   ]
  },
  {
   "cell_type": "code",
   "execution_count": 140,
   "id": "24a52f86-aca5-464f-8854-b8004aa6c92d",
   "metadata": {},
   "outputs": [],
   "source": [
    "add_dataframe(data, dist_num, 'dist_num')"
   ]
  },
  {
   "cell_type": "code",
   "execution_count": 144,
   "id": "64d199a2-3ff7-44b0-8611-efb473dea301",
   "metadata": {},
   "outputs": [
    {
     "data": {
      "image/png": "[encoded data removed]",
      "text/plain": [
       "<Figure size 701.25x216 with 1 Axes>"
      ]
     },
     "metadata": {
      "needs_background": "light"
     },
     "output_type": "display_data"
    }
   ],
   "source": [
    "# 숫자 구간의 개수 그래프\n",
    "facet = sns.FacetGrid(data, hue='dga', aspect=3)\n",
    "facet.map(sns.kdeplot, 'dist_num', shade=True)\n",
    "facet.set(xlim=(0, 1))\n",
    "facet.add_legend()\n",
    "plt.show()\n",
    "# 비율이 0.1보다 0.9 보다 낮으면 비정상 처리???"
   ]
  },
  {
   "cell_type": "code",
   "execution_count": 142,
   "id": "00efef78-e83a-4b94-adc5-175a9b42bb3e",
   "metadata": {},
   "outputs": [
    {
     "data": {
      "text/html": [
       "<div>\n",
       "<style scoped>\n",
       "    .dataframe tbody tr th:only-of-type {\n",
       "        vertical-align: middle;\n",
       "    }\n",
       "\n",
       "    .dataframe tbody tr th {\n",
       "        vertical-align: top;\n",
       "    }\n",
       "\n",
       "    .dataframe thead th {\n",
       "        text-align: right;\n",
       "    }\n",
       "</style>\n",
       "<table border=\"1\" class=\"dataframe\">\n",
       "  <thead>\n",
       "    <tr style=\"text-align: right;\">\n",
       "      <th></th>\n",
       "      <th>domain</th>\n",
       "      <th>dist_num</th>\n",
       "      <th>rate_vow</th>\n",
       "      <th>rate_con</th>\n",
       "      <th>is_con</th>\n",
       "      <th>sub_length</th>\n",
       "      <th>sub_domain</th>\n",
       "      <th>top_domain</th>\n",
       "      <th>dga</th>\n",
       "      <th>class</th>\n",
       "    </tr>\n",
       "  </thead>\n",
       "  <tbody>\n",
       "    <tr>\n",
       "      <th>0</th>\n",
       "      <td>vsviqe.com</td>\n",
       "      <td>0</td>\n",
       "      <td>0.33333</td>\n",
       "      <td>0.66667</td>\n",
       "      <td>1</td>\n",
       "      <td>6</td>\n",
       "      <td>vsviqe</td>\n",
       "      <td>com</td>\n",
       "      <td>yes</td>\n",
       "      <td>19</td>\n",
       "    </tr>\n",
       "    <tr>\n",
       "      <th>1</th>\n",
       "      <td>170qknj1onn4c37qf1w71rzei1h.org</td>\n",
       "      <td>7</td>\n",
       "      <td>0.11111</td>\n",
       "      <td>0.48148</td>\n",
       "      <td>1</td>\n",
       "      <td>27</td>\n",
       "      <td>170qknj1onn4c37qf1w71rzei1h</td>\n",
       "      <td>org</td>\n",
       "      <td>yes</td>\n",
       "      <td>6</td>\n",
       "    </tr>\n",
       "    <tr>\n",
       "      <th>2</th>\n",
       "      <td>smartidpro.in</td>\n",
       "      <td>0</td>\n",
       "      <td>0.30000</td>\n",
       "      <td>0.70000</td>\n",
       "      <td>1</td>\n",
       "      <td>10</td>\n",
       "      <td>smartidpro</td>\n",
       "      <td>in</td>\n",
       "      <td>no</td>\n",
       "      <td>0</td>\n",
       "    </tr>\n",
       "    <tr>\n",
       "      <th>3</th>\n",
       "      <td>9mtrkmet8rjnpya4.ru</td>\n",
       "      <td>3</td>\n",
       "      <td>0.12500</td>\n",
       "      <td>0.68750</td>\n",
       "      <td>2</td>\n",
       "      <td>16</td>\n",
       "      <td>9mtrkmet8rjnpya4</td>\n",
       "      <td>ru</td>\n",
       "      <td>yes</td>\n",
       "      <td>2</td>\n",
       "    </tr>\n",
       "    <tr>\n",
       "      <th>4</th>\n",
       "      <td>ypyxhi.com</td>\n",
       "      <td>0</td>\n",
       "      <td>0.16667</td>\n",
       "      <td>0.83333</td>\n",
       "      <td>1</td>\n",
       "      <td>6</td>\n",
       "      <td>ypyxhi</td>\n",
       "      <td>com</td>\n",
       "      <td>yes</td>\n",
       "      <td>19</td>\n",
       "    </tr>\n",
       "    <tr>\n",
       "      <th>...</th>\n",
       "      <td>...</td>\n",
       "      <td>...</td>\n",
       "      <td>...</td>\n",
       "      <td>...</td>\n",
       "      <td>...</td>\n",
       "      <td>...</td>\n",
       "      <td>...</td>\n",
       "      <td>...</td>\n",
       "      <td>...</td>\n",
       "      <td>...</td>\n",
       "    </tr>\n",
       "    <tr>\n",
       "      <th>1599995</th>\n",
       "      <td>10zpd8p1ktb8bg1al07c3rfkuqw.net</td>\n",
       "      <td>7</td>\n",
       "      <td>0.07407</td>\n",
       "      <td>0.59259</td>\n",
       "      <td>3</td>\n",
       "      <td>27</td>\n",
       "      <td>10zpd8p1ktb8bg1al07c3rfkuqw</td>\n",
       "      <td>net</td>\n",
       "      <td>yes</td>\n",
       "      <td>6</td>\n",
       "    </tr>\n",
       "    <tr>\n",
       "      <th>1599996</th>\n",
       "      <td>acheemprego.com</td>\n",
       "      <td>0</td>\n",
       "      <td>0.45455</td>\n",
       "      <td>0.54545</td>\n",
       "      <td>1</td>\n",
       "      <td>11</td>\n",
       "      <td>acheemprego</td>\n",
       "      <td>com</td>\n",
       "      <td>no</td>\n",
       "      <td>0</td>\n",
       "    </tr>\n",
       "    <tr>\n",
       "      <th>1599997</th>\n",
       "      <td>dtvvqs.com</td>\n",
       "      <td>0</td>\n",
       "      <td>0.00000</td>\n",
       "      <td>1.00000</td>\n",
       "      <td>1</td>\n",
       "      <td>6</td>\n",
       "      <td>dtvvqs</td>\n",
       "      <td>com</td>\n",
       "      <td>yes</td>\n",
       "      <td>19</td>\n",
       "    </tr>\n",
       "    <tr>\n",
       "      <th>1599998</th>\n",
       "      <td>qurtpwncfwhjke.pw</td>\n",
       "      <td>0</td>\n",
       "      <td>0.14286</td>\n",
       "      <td>0.85714</td>\n",
       "      <td>1</td>\n",
       "      <td>14</td>\n",
       "      <td>qurtpwncfwhjke</td>\n",
       "      <td>pw</td>\n",
       "      <td>yes</td>\n",
       "      <td>7</td>\n",
       "    </tr>\n",
       "    <tr>\n",
       "      <th>1599999</th>\n",
       "      <td>p148e12d7c430db3c04635de27e343c625.ws</td>\n",
       "      <td>9</td>\n",
       "      <td>0.08824</td>\n",
       "      <td>0.23529</td>\n",
       "      <td>0</td>\n",
       "      <td>34</td>\n",
       "      <td>p148e12d7c430db3c04635de27e343c625</td>\n",
       "      <td>ws</td>\n",
       "      <td>yes</td>\n",
       "      <td>5</td>\n",
       "    </tr>\n",
       "  </tbody>\n",
       "</table>\n",
       "<p>1600000 rows × 10 columns</p>\n",
       "</div>"
      ],
      "text/plain": [
       "                                        domain  dist_num  rate_vow  rate_con  \\\n",
       "0                                   vsviqe.com         0   0.33333   0.66667   \n",
       "1              170qknj1onn4c37qf1w71rzei1h.org         7   0.11111   0.48148   \n",
       "2                                smartidpro.in         0   0.30000   0.70000   \n",
       "3                          9mtrkmet8rjnpya4.ru         3   0.12500   0.68750   \n",
       "4                                   ypyxhi.com         0   0.16667   0.83333   \n",
       "...                                        ...       ...       ...       ...   \n",
       "1599995        10zpd8p1ktb8bg1al07c3rfkuqw.net         7   0.07407   0.59259   \n",
       "1599996                        acheemprego.com         0   0.45455   0.54545   \n",
       "1599997                             dtvvqs.com         0   0.00000   1.00000   \n",
       "1599998                      qurtpwncfwhjke.pw         0   0.14286   0.85714   \n",
       "1599999  p148e12d7c430db3c04635de27e343c625.ws         9   0.08824   0.23529   \n",
       "\n",
       "         is_con  sub_length                          sub_domain top_domain  \\\n",
       "0             1           6                              vsviqe        com   \n",
       "1             1          27         170qknj1onn4c37qf1w71rzei1h        org   \n",
       "2             1          10                          smartidpro         in   \n",
       "3             2          16                    9mtrkmet8rjnpya4         ru   \n",
       "4             1           6                              ypyxhi        com   \n",
       "...         ...         ...                                 ...        ...   \n",
       "1599995       3          27         10zpd8p1ktb8bg1al07c3rfkuqw        net   \n",
       "1599996       1          11                         acheemprego        com   \n",
       "1599997       1           6                              dtvvqs        com   \n",
       "1599998       1          14                      qurtpwncfwhjke         pw   \n",
       "1599999       0          34  p148e12d7c430db3c04635de27e343c625         ws   \n",
       "\n",
       "         dga  class  \n",
       "0        yes     19  \n",
       "1        yes      6  \n",
       "2         no      0  \n",
       "3        yes      2  \n",
       "4        yes     19  \n",
       "...      ...    ...  \n",
       "1599995  yes      6  \n",
       "1599996   no      0  \n",
       "1599997  yes     19  \n",
       "1599998  yes      7  \n",
       "1599999  yes      5  \n",
       "\n",
       "[1600000 rows x 10 columns]"
      ]
     },
     "execution_count": 142,
     "metadata": {},
     "output_type": "execute_result"
    }
   ],
   "source": [
    "data"
   ]
  },
  {
   "cell_type": "code",
   "execution_count": null,
   "id": "dd14c495-df17-4b41-a892-14fc11508092",
   "metadata": {},
   "outputs": [],
   "source": []
  },
  {
   "cell_type": "markdown",
   "id": "40c15fcf-554c-4104-adae-e5bcf1ea7afa",
   "metadata": {},
   "source": [
    "# 2. n-gram 찾기"
   ]
  },
  {
   "cell_type": "code",
   "execution_count": null,
   "id": "a8bb2176-ad83-44c9-a87f-a29eb1bbddcd",
   "metadata": {},
   "outputs": [],
   "source": []
  },
  {
   "cell_type": "raw",
   "id": "dc809a30-fd4b-4889-94aa-42026d212c4b",
   "metadata": {},
   "source": [
    "naver.com\n",
    "---> naver\n",
    "1gram = {n:1, a:1, v:1, e:1, r:1} \n",
    "#한글자씩 떼서 빈도를 파악한 것이 n- gram!!"
   ]
  },
  {
   "cell_type": "raw",
   "id": "107c14d9-6c97-455e-9af5-a51cee19f225",
   "metadata": {},
   "source": [
    "google\n",
    "1gram = {g:2, o:2, l:1, e:1}\n",
    "2gram = {go:1, oo:1, og:1, gl:1, le:1}\n",
    "3gram = {goo:1, oog:1, ogl:1, gle:1}\n",
    "4gram = {goog:1, oogl:1, ogle:1}\n",
    "\n",
    "gram이 높아질수록 정상적인 글귀로 가게 된다.\n",
    "특정 gram에서 자주 나오는 값들의 빈도를 보면 그 문자를 자주쓴다고 볼 수 있음!\n",
    "따라서 data의 값에서 n - gram이 자주나오면 정상,\n",
    "n -gram 이 자주 안나오면 비정상으로 판단 가능~\n"
   ]
  },
  {
   "cell_type": "markdown",
   "id": "61713b58-43f3-470b-9ea5-14ee7b2599b3",
   "metadata": {},
   "source": [
    "- 1gram : 엔트로피에서 활용\n",
    "- 3,4,5gram : n - gram에서 활용"
   ]
  },
  {
   "cell_type": "markdown",
   "id": "8613c24f-f01d-4e6b-85d7-81584ba8874d",
   "metadata": {},
   "source": [
    "#### 1) 정상도메인에서 n- gram 찾기"
   ]
  },
  {
   "cell_type": "code",
   "execution_count": null,
   "id": "ee4e09e5-e274-44f7-972a-8a8c7eeaf29a",
   "metadata": {},
   "outputs": [],
   "source": []
  },
  {
   "cell_type": "code",
   "execution_count": 148,
   "id": "af809083-a81a-44a7-adc6-afbac58f84f9",
   "metadata": {},
   "outputs": [],
   "source": [
    "data_0_domain = 'smartidpro.in'"
   ]
  },
  {
   "cell_type": "code",
   "execution_count": 149,
   "id": "27672021-5b3f-4901-92ca-d74854a28ebf",
   "metadata": {},
   "outputs": [],
   "source": [
    "data_0_sub = sub_domain(data_0_domain)"
   ]
  },
  {
   "cell_type": "code",
   "execution_count": 150,
   "id": "272a9b1e-0d6e-4760-b1d4-b45fa9674dd3",
   "metadata": {},
   "outputs": [
    {
     "data": {
      "text/plain": [
       "'smartidpro'"
      ]
     },
     "execution_count": 150,
     "metadata": {},
     "output_type": "execute_result"
    }
   ],
   "source": [
    "data_0_sub"
   ]
  },
  {
   "cell_type": "code",
   "execution_count": 151,
   "id": "d970c794-41f9-43f4-8607-64f6a307f742",
   "metadata": {},
   "outputs": [
    {
     "data": {
      "text/plain": [
       "['sma', 'mar', 'art', 'rti', 'tid', 'idp', 'dpr', 'pro']"
      ]
     },
     "execution_count": 151,
     "metadata": {},
     "output_type": "execute_result"
    }
   ],
   "source": [
    "gram_list=[]\n",
    "\n",
    "if len(data_0_sub) < 3 : #3 gram 단위로 볼 것이기 때문에 3글자보다 낮은 data는 pass!\n",
    "    pass\n",
    "else :\n",
    "    for sp in range(len(data_0_sub) - (3-1)) :\n",
    "        gram_list.append(data_0_sub[sp:sp+3])\n",
    "gram_list    \n",
    "    \n",
    "        "
   ]
  },
  {
   "cell_type": "raw",
   "id": "3d19a875-bb0e-404c-bb14-0097661985ba",
   "metadata": {},
   "source": [
    "naver= {nav, ave, ver} # 다섯글자일떄 3gram은 3개\n",
    "google = {goo, oog, ogl, gle} # 여섯글자일때 3gram은 4개 \n",
    "facebook = {fac, ace, ceb, ebo, boo, ook} #여덟글자일때 3gram은 6개 //따라서 3gram으로 뽑을땐 (글자수의 -2개)가 3gram의 수"
   ]
  },
  {
   "cell_type": "code",
   "execution_count": 279,
   "id": "a7674136-cdc9-490b-b87d-fc19cdead872",
   "metadata": {},
   "outputs": [],
   "source": [
    "# n-gram을 구하는 함수 만들기\n",
    "def ngram(domain, number) :\n",
    "    sub = sub_domain(domain)\n",
    "    gram_list=[]\n",
    "\n",
    "    if len(sub) < number :\n",
    "        pass\n",
    "    else :\n",
    "        for sp in range(len(sub) - (number-1)) :\n",
    "            gram_list.append(sub[sp:sp+number])\n",
    "    return gram_list"
   ]
  },
  {
   "cell_type": "code",
   "execution_count": 155,
   "id": "439d33f8-cb02-4017-b939-c128472161de",
   "metadata": {},
   "outputs": [
    {
     "data": {
      "text/plain": [
       "['nav', 'ave', 'ver']"
      ]
     },
     "execution_count": 155,
     "metadata": {},
     "output_type": "execute_result"
    }
   ],
   "source": [
    "ngram('naver.com', 3)"
   ]
  },
  {
   "cell_type": "code",
   "execution_count": 156,
   "id": "f16a3961-479f-4d5f-91a1-e2462fd6f1b2",
   "metadata": {},
   "outputs": [
    {
     "data": {
      "text/plain": [
       "['na', 'av', 've', 'er']"
      ]
     },
     "execution_count": 156,
     "metadata": {},
     "output_type": "execute_result"
    }
   ],
   "source": [
    "ngram('naver.com', 2)"
   ]
  },
  {
   "cell_type": "code",
   "execution_count": 163,
   "id": "8f803526-d58d-4ec5-9e8e-64a217d3de9e",
   "metadata": {},
   "outputs": [],
   "source": [
    "import pickle"
   ]
  },
  {
   "cell_type": "code",
   "execution_count": 280,
   "id": "ece59ab5-1d24-4083-8f34-57208e3683a0",
   "metadata": {},
   "outputs": [],
   "source": [
    "def make_ngram_dict(dataframe, number) : # ngram 빈도를 파악할 딕셔너리 만들기\n",
    "    freqdict={}\n",
    "    domain_list= dataframe['domain'].tolist()\n",
    "    for domain in domain_list : \n",
    "        ngrams = ngram(domain, number)\n",
    "        for gram in ngrams :\n",
    "            if gram in freqdict :\n",
    "                freqdict[gram] += 1\n",
    "            else :\n",
    "                freqdict[gram] = 1\n",
    "    with open(str(number)+'_gram_dict.pkl','wb') as f:\n",
    "        pickle.dump(freqdict, f, pickle.HIGHEST_PROTOCOL)\n",
    "    f.close()\n",
    "    #return freqdict #실제 측정에서 쓰기 위해 피클에 저장하여야함    "
   ]
  },
  {
   "cell_type": "code",
   "execution_count": 281,
   "id": "bc4785dc-25ae-4527-af1b-65c4a1ceb064",
   "metadata": {},
   "outputs": [],
   "source": [
    "make_ngram_dict(data_0, 1)"
   ]
  },
  {
   "cell_type": "code",
   "execution_count": 212,
   "id": "40af1eb9-199c-4b7e-a9e0-fb6f53b956c0",
   "metadata": {},
   "outputs": [],
   "source": [
    "make_ngram_dict(data_0, 2)"
   ]
  },
  {
   "cell_type": "code",
   "execution_count": 213,
   "id": "c8b050e0-fa47-4ab2-a88f-b2b4e6db1cc7",
   "metadata": {},
   "outputs": [],
   "source": [
    "make_ngram_dict(data_0, 3)"
   ]
  },
  {
   "cell_type": "code",
   "execution_count": 214,
   "id": "1c5c23f2-6935-4bb2-bee9-de0f2b9a2d91",
   "metadata": {},
   "outputs": [],
   "source": [
    "make_ngram_dict(data_0, 4)"
   ]
  },
  {
   "cell_type": "code",
   "execution_count": 215,
   "id": "44adab3a-df9d-4072-ad4b-887eb5b960b3",
   "metadata": {},
   "outputs": [],
   "source": [
    "make_ngram_dict(data_0, 5)"
   ]
  },
  {
   "cell_type": "code",
   "execution_count": null,
   "id": "b7894c5d-e399-47c7-ade8-31f3600dac83",
   "metadata": {},
   "outputs": [],
   "source": []
  },
  {
   "cell_type": "code",
   "execution_count": 225,
   "id": "43045af8-e786-45e9-a34f-5e10d523c153",
   "metadata": {},
   "outputs": [
    {
     "data": {
      "text/html": [
       "<div>\n",
       "<style scoped>\n",
       "    .dataframe tbody tr th:only-of-type {\n",
       "        vertical-align: middle;\n",
       "    }\n",
       "\n",
       "    .dataframe tbody tr th {\n",
       "        vertical-align: top;\n",
       "    }\n",
       "\n",
       "    .dataframe thead th {\n",
       "        text-align: right;\n",
       "    }\n",
       "</style>\n",
       "<table border=\"1\" class=\"dataframe\">\n",
       "  <thead>\n",
       "    <tr style=\"text-align: right;\">\n",
       "      <th></th>\n",
       "      <th>domain</th>\n",
       "      <th>dga</th>\n",
       "      <th>class</th>\n",
       "    </tr>\n",
       "  </thead>\n",
       "  <tbody>\n",
       "    <tr>\n",
       "      <th>2</th>\n",
       "      <td>smartidpro.in</td>\n",
       "      <td>no</td>\n",
       "      <td>0</td>\n",
       "    </tr>\n",
       "    <tr>\n",
       "      <th>11</th>\n",
       "      <td>extranet-altone.fr</td>\n",
       "      <td>no</td>\n",
       "      <td>0</td>\n",
       "    </tr>\n",
       "    <tr>\n",
       "      <th>15</th>\n",
       "      <td>math-shortcut-tricks.com</td>\n",
       "      <td>no</td>\n",
       "      <td>0</td>\n",
       "    </tr>\n",
       "    <tr>\n",
       "      <th>16</th>\n",
       "      <td>realher.com</td>\n",
       "      <td>no</td>\n",
       "      <td>0</td>\n",
       "    </tr>\n",
       "    <tr>\n",
       "      <th>18</th>\n",
       "      <td>kingkoil.com.sg</td>\n",
       "      <td>no</td>\n",
       "      <td>0</td>\n",
       "    </tr>\n",
       "    <tr>\n",
       "      <th>...</th>\n",
       "      <td>...</td>\n",
       "      <td>...</td>\n",
       "      <td>...</td>\n",
       "    </tr>\n",
       "    <tr>\n",
       "      <th>1599981</th>\n",
       "      <td>saltodoceu.mt.gov.br</td>\n",
       "      <td>no</td>\n",
       "      <td>0</td>\n",
       "    </tr>\n",
       "    <tr>\n",
       "      <th>1599982</th>\n",
       "      <td>az.gov</td>\n",
       "      <td>no</td>\n",
       "      <td>0</td>\n",
       "    </tr>\n",
       "    <tr>\n",
       "      <th>1599989</th>\n",
       "      <td>adella.ru</td>\n",
       "      <td>no</td>\n",
       "      <td>0</td>\n",
       "    </tr>\n",
       "    <tr>\n",
       "      <th>1599994</th>\n",
       "      <td>seikei.ac.jp</td>\n",
       "      <td>no</td>\n",
       "      <td>0</td>\n",
       "    </tr>\n",
       "    <tr>\n",
       "      <th>1599996</th>\n",
       "      <td>acheemprego.com</td>\n",
       "      <td>no</td>\n",
       "      <td>0</td>\n",
       "    </tr>\n",
       "  </tbody>\n",
       "</table>\n",
       "<p>600000 rows × 3 columns</p>\n",
       "</div>"
      ],
      "text/plain": [
       "                           domain dga  class\n",
       "2                   smartidpro.in  no      0\n",
       "11             extranet-altone.fr  no      0\n",
       "15       math-shortcut-tricks.com  no      0\n",
       "16                    realher.com  no      0\n",
       "18                kingkoil.com.sg  no      0\n",
       "...                           ...  ..    ...\n",
       "1599981      saltodoceu.mt.gov.br  no      0\n",
       "1599982                    az.gov  no      0\n",
       "1599989                 adella.ru  no      0\n",
       "1599994              seikei.ac.jp  no      0\n",
       "1599996           acheemprego.com  no      0\n",
       "\n",
       "[600000 rows x 3 columns]"
      ]
     },
     "execution_count": 225,
     "metadata": {},
     "output_type": "execute_result"
    }
   ],
   "source": [
    "data_0"
   ]
  },
  {
   "cell_type": "code",
   "execution_count": 226,
   "id": "50ee0342-0fce-45da-9cf4-353e316a729f",
   "metadata": {},
   "outputs": [],
   "source": [
    "with open('5_gram_dict.pkl', 'rb') as f:\n",
    "    gram5 = pickle.load(f)\n",
    "f.close()"
   ]
  },
  {
   "cell_type": "code",
   "execution_count": 227,
   "id": "77fffafb-408f-4851-8b28-5eb9ced3ad89",
   "metadata": {
    "collapsed": true,
    "jupyter": {
     "outputs_hidden": true
    },
    "tags": []
   },
   "outputs": [
    {
     "data": {
      "text/plain": [
       "{'smart': 1250,\n",
       " 'marti': 291,\n",
       " 'artid': 18,\n",
       " 'rtidp': 1,\n",
       " 'tidpr': 1,\n",
       " 'idpro': 21,\n",
       " 'extra': 219,\n",
       " 'xtran': 26,\n",
       " 'trane': 53,\n",
       " 'ranet': 79,\n",
       " 'anet-': 27,\n",
       " 'net-a': 13,\n",
       " 'et-al': 9,\n",
       " 't-alt': 3,\n",
       " '-alto': 4,\n",
       " 'alton': 59,\n",
       " 'ltone': 10,\n",
       " 'math-': 13,\n",
       " 'ath-s': 2,\n",
       " 'th-sh': 3,\n",
       " 'h-sho': 18,\n",
       " '-shor': 9,\n",
       " 'short': 163,\n",
       " 'hortc': 17,\n",
       " 'ortcu': 15,\n",
       " 'rtcut': 16,\n",
       " 'tcut-': 1,\n",
       " 'cut-t': 2,\n",
       " 'ut-tr': 4,\n",
       " 't-tri': 5,\n",
       " '-tric': 13,\n",
       " 'trick': 235,\n",
       " 'ricks': 215,\n",
       " 'realh': 21,\n",
       " 'ealhe': 8,\n",
       " 'alher': 16,\n",
       " 'kingk': 16,\n",
       " 'ingko': 13,\n",
       " 'ngkoi': 2,\n",
       " 'gkoil': 1,\n",
       " 'error': 48,\n",
       " 'rror-': 5,\n",
       " 'ror-6': 1,\n",
       " 'or-64': 1,\n",
       " 'thewe': 96,\n",
       " 'hewes': 15,\n",
       " 'ewest': 50,\n",
       " 'weste': 166,\n",
       " 'ester': 533,\n",
       " 'sterf': 48,\n",
       " 'terfi': 53,\n",
       " 'erfie': 26,\n",
       " 'rfiel': 60,\n",
       " 'field': 481,\n",
       " 'ieldg': 22,\n",
       " 'eldgr': 8,\n",
       " 'ldgro': 19,\n",
       " 'dgrou': 90,\n",
       " 'group': 2492,\n",
       " 'drive': 642,\n",
       " 'river': 654,\n",
       " 'ivers': 986,\n",
       " 'verse': 307,\n",
       " 'ersed': 34,\n",
       " 'rsedd': 1,\n",
       " 'seddi': 3,\n",
       " 'eddir': 6,\n",
       " 'ddire': 26,\n",
       " 'direc': 1321,\n",
       " 'irect': 1310,\n",
       " 'recta': 41,\n",
       " 'ectan': 8,\n",
       " 'surfl': 8,\n",
       " 'urflo': 6,\n",
       " 'rfloc': 2,\n",
       " 'floco': 2,\n",
       " 'locos': 7,\n",
       " 'daily': 952,\n",
       " 'ailyj': 12,\n",
       " 'ilyji': 2,\n",
       " 'lyjin': 1,\n",
       " 'yjinn': 1,\n",
       " 'jinna': 2,\n",
       " 'innah': 2,\n",
       " 'sdela': 73,\n",
       " 'delai': 35,\n",
       " 'elaim': 3,\n",
       " 'laime': 20,\n",
       " 'aimeb': 3,\n",
       " 'imebe': 12,\n",
       " 'mebel': 59,\n",
       " 'wdupl': 1,\n",
       " 'duplo': 6,\n",
       " 'uploa': 139,\n",
       " 'pload': 143,\n",
       " 'famil': 648,\n",
       " 'amily': 521,\n",
       " 'milyh': 15,\n",
       " 'ilyho': 15,\n",
       " 'lyhos': 7,\n",
       " 'yhosi': 2,\n",
       " 'hosie': 4,\n",
       " 'osier': 14,\n",
       " 'siery': 4,\n",
       " 'iery.': 1,\n",
       " 'ery.t': 3,\n",
       " 'ry.tu': 32,\n",
       " 'y.tum': 188,\n",
       " '.tumb': 3045,\n",
       " 'tumbl': 3075,\n",
       " 'umblr': 3057,\n",
       " 'ebook': 444,\n",
       " 'book2': 6,\n",
       " 'ook2p': 2,\n",
       " 'ok2pd': 1,\n",
       " 'k2pdf': 2,\n",
       " 'techg': 78,\n",
       " 'echga': 9,\n",
       " 'chgam': 15,\n",
       " 'hgame': 51,\n",
       " 'gamea': 27,\n",
       " 'auffi': 3,\n",
       " 'calld': 7,\n",
       " 'alldr': 5,\n",
       " 'lldro': 3,\n",
       " 'ldron': 7,\n",
       " 'drone': 102,\n",
       " 'found': 465,\n",
       " 'ounda': 376,\n",
       " 'undag': 1,\n",
       " 'ndage': 41,\n",
       " 'dagen': 43,\n",
       " 'agenc': 357,\n",
       " 'gency': 297,\n",
       " 'mallp': 9,\n",
       " 'allpa': 163,\n",
       " 'llpas': 3,\n",
       " 'lpass': 30,\n",
       " 'johnc': 9,\n",
       " 'ohnch': 1,\n",
       " 'hncho': 1,\n",
       " 'nchow': 1,\n",
       " 'riggi': 10,\n",
       " 'iggin': 24,\n",
       " 'gging': 100,\n",
       " 'gingc': 19,\n",
       " 'ingca': 125,\n",
       " 'ngcan': 16,\n",
       " 'gcana': 7,\n",
       " 'canad': 355,\n",
       " 'anada': 302,\n",
       " 'tatto': 140,\n",
       " 'attoo': 137,\n",
       " 'ttoos': 23,\n",
       " 'toosu': 5,\n",
       " 'oosup': 3,\n",
       " 'osupp': 26,\n",
       " 'suppl': 623,\n",
       " 'uppli': 170,\n",
       " 'pplie': 200,\n",
       " 'plies': 142,\n",
       " 'globa': 1106,\n",
       " 'lobal': 1102,\n",
       " 'obalt': 59,\n",
       " 'baltr': 18,\n",
       " 'altrx': 1,\n",
       " 'polka': 12,\n",
       " 'olkab': 1,\n",
       " 'lkabe': 1,\n",
       " 'kabea': 2,\n",
       " 'abean': 6,\n",
       " 'gloss': 38,\n",
       " 'lossy': 10,\n",
       " 'ossyb': 5,\n",
       " 'ssybe': 3,\n",
       " 'sybel': 5,\n",
       " 'ybell': 25,\n",
       " 'belle': 150,\n",
       " 'explo': 260,\n",
       " 'xplor': 241,\n",
       " 'plore': 201,\n",
       " 'lorea': 43,\n",
       " 'oreat': 18,\n",
       " 'reatl': 26,\n",
       " 'eatla': 36,\n",
       " 'atlas': 177,\n",
       " 'msxga': 1,\n",
       " 'sxgam': 1,\n",
       " 'xgame': 41,\n",
       " 'games': 1308,\n",
       " 'amesw': 28,\n",
       " 'meswo': 10,\n",
       " 'eswor': 49,\n",
       " 'sworl': 212,\n",
       " 'world': 2206,\n",
       " 'getja': 4,\n",
       " 'etjar': 4,\n",
       " 'elnor': 10,\n",
       " 'lnort': 12,\n",
       " 'norte': 68,\n",
       " 'orted': 31,\n",
       " 'rtede': 18,\n",
       " 'tedec': 12,\n",
       " 'edeca': 22,\n",
       " 'decas': 33,\n",
       " 'ecast': 104,\n",
       " 'casti': 142,\n",
       " 'astil': 37,\n",
       " 'still': 148,\n",
       " 'tilla': 68,\n",
       " 'films': 309,\n",
       " 'ilmst': 20,\n",
       " 'lmstr': 12,\n",
       " 'mstri': 2,\n",
       " 'strib': 182,\n",
       " 'tribe': 75,\n",
       " 'riben': 3,\n",
       " 'porte': 421,\n",
       " 'orteu': 2,\n",
       " 'rteus': 2,\n",
       " 'teus-': 2,\n",
       " 'eus-k': 2,\n",
       " 'us-ki': 2,\n",
       " 's-kio': 1,\n",
       " '-kios': 3,\n",
       " 'kiosk': 24,\n",
       " 'reale': 252,\n",
       " 'eales': 230,\n",
       " 'alest': 296,\n",
       " 'lesta': 307,\n",
       " 'estat': 505,\n",
       " 'state': 859,\n",
       " 'tatee': 6,\n",
       " 'ateex': 4,\n",
       " 'teexp': 11,\n",
       " 'eexpr': 32,\n",
       " 'expre': 682,\n",
       " 'xpres': 744,\n",
       " 'press': 4357,\n",
       " 'sevil': 33,\n",
       " 'evill': 157,\n",
       " 'villa': 506,\n",
       " 'adult': 225,\n",
       " 'dultd': 17,\n",
       " 'ultdo': 1,\n",
       " 'ltdou': 1,\n",
       " 'tdoug': 2,\n",
       " 'douga': 31,\n",
       " 'onlin': 5392,\n",
       " 'nline': 5502,\n",
       " 'line-': 268,\n",
       " 'ine-u': 7,\n",
       " 'ne-ud': 1,\n",
       " 'e-udy': 1,\n",
       " '-udyo': 2,\n",
       " 'udyog': 8,\n",
       " 'dyoga': 12,\n",
       " 'yogaa': 12,\n",
       " 'ogaad': 3,\n",
       " 'gaadh': 3,\n",
       " 'aadha': 15,\n",
       " 'adhaa': 9,\n",
       " 'dhaar': 9,\n",
       " 'ronep': 7,\n",
       " 'onepi': 22,\n",
       " 'nepil': 6,\n",
       " 'epilo': 19,\n",
       " 'pilot': 126,\n",
       " 'ilott': 12,\n",
       " 'lottr': 3,\n",
       " 'ottra': 12,\n",
       " 'ttrai': 26,\n",
       " 'train': 747,\n",
       " 'raini': 516,\n",
       " 'ainin': 496,\n",
       " 'ining': 640,\n",
       " 'ningc': 98,\n",
       " 'ingce': 97,\n",
       " 'ngcen': 90,\n",
       " 'gcent': 101,\n",
       " 'cente': 1446,\n",
       " 'enter': 1810,\n",
       " 'onlan': 19,\n",
       " 'nlank': 3,\n",
       " 'lanka': 83,\n",
       " 'dayde': 13,\n",
       " 'aydea': 10,\n",
       " 'ydeal': 50,\n",
       " 'sscan': 15,\n",
       " 'scanb': 3,\n",
       " 'canbe': 14,\n",
       " 'anber': 30,\n",
       " 'nberr': 26,\n",
       " 'berra': 11,\n",
       " 'stori': 411,\n",
       " 'toriu': 48,\n",
       " 'orium': 79,\n",
       " 'riuma': 5,\n",
       " 'iumar': 3,\n",
       " 'umarc': 4,\n",
       " 'airfo': 23,\n",
       " 'irfox': 1,\n",
       " 'avis-': 12,\n",
       " 'vis-f': 2,\n",
       " 'is-fo': 6,\n",
       " 's-for': 38,\n",
       " '-form': 59,\n",
       " 'forma': 928,\n",
       " 'ormat': 459,\n",
       " 'rmati': 366,\n",
       " 'matio': 363,\n",
       " 'ation': 5169,\n",
       " 'tions': 2641,\n",
       " 'daypo': 8,\n",
       " 'downl': 772,\n",
       " 'ownlo': 761,\n",
       " 'wnloa': 755,\n",
       " 'nload': 793,\n",
       " 'loado': 9,\n",
       " 'oadoo': 1,\n",
       " 'bezbu': 2,\n",
       " 'ezbuk': 2,\n",
       " 'zbuka': 11,\n",
       " 'bukas': 2,\n",
       " 'ukash': 3,\n",
       " 'kashe': 7,\n",
       " 'ashek': 2,\n",
       " 'not-k': 4,\n",
       " 'ot-kl': 1,\n",
       " 't-klo': 1,\n",
       " '-klop': 2,\n",
       " 'shopz': 7,\n",
       " 'hopzi': 6,\n",
       " 'opzil': 5,\n",
       " 'pzill': 11,\n",
       " 'zilla': 76,\n",
       " 'cacap': 4,\n",
       " 'acapa': 14,\n",
       " 'capav': 3,\n",
       " 'apava': 14,\n",
       " 'weare': 110,\n",
       " 'eareb': 6,\n",
       " 'arebi': 7,\n",
       " 'rebig': 6,\n",
       " 'ebigr': 1,\n",
       " 'bigro': 11,\n",
       " 'igroc': 7,\n",
       " 'grock': 19,\n",
       " 'gioli': 6,\n",
       " 'iolia': 2,\n",
       " 'olian': 12,\n",
       " 'liand': 16,\n",
       " 'ianda': 23,\n",
       " 'andas': 63,\n",
       " 'ndass': 21,\n",
       " 'dassi': 9,\n",
       " 'assia': 14,\n",
       " 'sitat': 10,\n",
       " 'itato': 7,\n",
       " 'tatou': 9,\n",
       " 'atour': 96,\n",
       " 'tours': 309,\n",
       " 'equit': 89,\n",
       " 'quity': 66,\n",
       " 'uitym': 3,\n",
       " 'ityma': 58,\n",
       " 'tymas': 10,\n",
       " 'ymast': 26,\n",
       " 'maste': 989,\n",
       " 'aster': 1266,\n",
       " 'iskme': 4,\n",
       " 'audif': 6,\n",
       " 'udifs': 1,\n",
       " 'haxer': 1,\n",
       " 'axerw': 1,\n",
       " 'xerwh': 1,\n",
       " 'erwhe': 6,\n",
       " 'rwhee': 15,\n",
       " 'wheel': 217,\n",
       " 'heels': 112,\n",
       " 'ttlin': 10,\n",
       " 'tline': 118,\n",
       " 'parke': 93,\n",
       " 'arker': 104,\n",
       " 'rkert': 6,\n",
       " 'kerta': 9,\n",
       " 'ertal': 44,\n",
       " 'rtale': 73,\n",
       " 'talen': 207,\n",
       " 'alent': 241,\n",
       " 'lentm': 9,\n",
       " 'entma': 70,\n",
       " 'ntman': 28,\n",
       " 'tmana': 56,\n",
       " 'manag': 559,\n",
       " 'anage': 561,\n",
       " 'nagem': 268,\n",
       " 'ageme': 272,\n",
       " 'gemen': 296,\n",
       " 'ement': 1028,\n",
       " 'kayas': 5,\n",
       " 'ayask': 2,\n",
       " 'yaski': 3,\n",
       " 'askin': 50,\n",
       " 'skinc': 79,\n",
       " 'kincl': 8,\n",
       " 'incli': 22,\n",
       " 'nclin': 40,\n",
       " 'clini': 506,\n",
       " 'linic': 487,\n",
       " 'litur': 21,\n",
       " 'iturg': 18,\n",
       " 'turgi': 21,\n",
       " 'urgia': 20,\n",
       " 'rgiad': 11,\n",
       " 'giade': 15,\n",
       " 'iadel': 60,\n",
       " 'adell': 39,\n",
       " 'delle': 34,\n",
       " 'elleo': 7,\n",
       " 'lleor': 7,\n",
       " 'leore': 6,\n",
       " 'blogw': 4,\n",
       " 'logwe': 2,\n",
       " 'ogwee': 1,\n",
       " 'gweet': 1,\n",
       " 'melec': 22,\n",
       " 'elect': 1133,\n",
       " 'lectr': 900,\n",
       " 'ectro': 529,\n",
       " 'ctron': 345,\n",
       " 'troni': 561,\n",
       " 'ronic': 590,\n",
       " 'onics': 297,\n",
       " 'egypt': 86,\n",
       " 'gypti': 16,\n",
       " 'yptia': 14,\n",
       " 'ptian': 15,\n",
       " 'tianh': 9,\n",
       " 'ianhi': 6,\n",
       " 'anhie': 4,\n",
       " 'nhier': 1,\n",
       " 'hiero': 8,\n",
       " 'ierog': 5,\n",
       " 'erogl': 4,\n",
       " 'rogly': 1,\n",
       " 'oglyp': 1,\n",
       " 'glyph': 9,\n",
       " 'lyphi': 3,\n",
       " 'yphic': 2,\n",
       " 'phics': 98,\n",
       " 'mater': 244,\n",
       " 'ateri': 286,\n",
       " 'teria': 299,\n",
       " 'erial': 385,\n",
       " 'rialc': 27,\n",
       " 'ialco': 37,\n",
       " 'alcon': 176,\n",
       " 'lconc': 18,\n",
       " 'conce': 278,\n",
       " 'oncep': 155,\n",
       " 'ncept': 158,\n",
       " 'cepts': 70,\n",
       " 'vebli': 1,\n",
       " 'eblin': 32,\n",
       " 'blink': 65,\n",
       " 'neoco': 10,\n",
       " 'eocor': 8,\n",
       " 'ocore': 19,\n",
       " 'coreg': 13,\n",
       " 'orega': 21,\n",
       " 'regam': 32,\n",
       " 'egame': 234,\n",
       " 'wonde': 147,\n",
       " 'onder': 225,\n",
       " 'nderm': 40,\n",
       " 'dermo': 27,\n",
       " 'ermou': 15,\n",
       " 'rmous': 6,\n",
       " 'mouse': 68,\n",
       " 'study': 404,\n",
       " 'tudyp': 16,\n",
       " 'udypl': 2,\n",
       " 'dyplu': 1,\n",
       " 'yplus': 38,\n",
       " 'news4': 12,\n",
       " 'ews4t': 2,\n",
       " 'ws4ta': 1,\n",
       " 's4tam': 1,\n",
       " '4tami': 1,\n",
       " 'tamil': 170,\n",
       " 'plusn': 12,\n",
       " 'lusne': 12,\n",
       " 'usnet': 19,\n",
       " 'snetw': 99,\n",
       " 'netwo': 923,\n",
       " 'etwor': 953,\n",
       " 'twork': 1066,\n",
       " 'tribu': 336,\n",
       " 'ribut': 142,\n",
       " 'ibuti': 83,\n",
       " 'prote': 305,\n",
       " 'rotec': 260,\n",
       " 'otect': 154,\n",
       " 'tecti': 102,\n",
       " 'ectio': 680,\n",
       " 'ction': 1862,\n",
       " 'tion-': 306,\n",
       " 'ion-k': 9,\n",
       " 'on-ke': 4,\n",
       " 'n-key': 4,\n",
       " 'lakej': 2,\n",
       " 'akeja': 2,\n",
       " 'kejam': 1,\n",
       " 'ejame': 8,\n",
       " 'james': 179,\n",
       " 'ev-pr': 3,\n",
       " 'v-pro': 4,\n",
       " '-prop': 28,\n",
       " 'propu': 11,\n",
       " 'ropul': 6,\n",
       " 'opuls': 10,\n",
       " 'pulsi': 12,\n",
       " 'ulsio': 9,\n",
       " 'lsion': 8,\n",
       " 'agues': 33,\n",
       " 'guesp': 4,\n",
       " 'uespo': 8,\n",
       " 'espor': 293,\n",
       " 'sport': 2726,\n",
       " 'revol': 161,\n",
       " 'evolu': 205,\n",
       " 'voluc': 28,\n",
       " 'oluci': 79,\n",
       " 'lucio': 78,\n",
       " 'ucion': 102,\n",
       " 'cionk': 3,\n",
       " 'ionkn': 5,\n",
       " 'onkno': 5,\n",
       " 'nknow': 16,\n",
       " 'knowm': 7,\n",
       " 'nowma': 8,\n",
       " 'owmad': 4,\n",
       " 'wmada': 2,\n",
       " 'manga': 296,\n",
       " 'anga-': 34,\n",
       " 'nga-n': 2,\n",
       " 'ga-ne': 2,\n",
       " 'a-new': 27,\n",
       " '-news': 243,\n",
       " 'poppy': 15,\n",
       " 'oppyb': 1,\n",
       " 'ppyba': 7,\n",
       " 'pybar': 2,\n",
       " 'ybarl': 2,\n",
       " 'barle': 12,\n",
       " 'arley': 59,\n",
       " 'rapel': 5,\n",
       " 'apelu': 7,\n",
       " 'pelus': 3,\n",
       " 'elust': 9,\n",
       " 'kalat': 8,\n",
       " 'alate': 30,\n",
       " 'latec': 30,\n",
       " 'oders': 35,\n",
       " 'derso': 131,\n",
       " 'radio': 1118,\n",
       " 'adiol': 66,\n",
       " 'diolo': 74,\n",
       " 'iolog': 199,\n",
       " 'ology': 783,\n",
       " 'logye': 7,\n",
       " 'ogyed': 3,\n",
       " 'gyedu': 4,\n",
       " 'yeduc': 28,\n",
       " 'educa': 796,\n",
       " 'ducat': 550,\n",
       " 'ucati': 490,\n",
       " 'catio': 991,\n",
       " 'ochsn': 6,\n",
       " 'chsne': 6,\n",
       " 'hsner': 6,\n",
       " 'omnic': 19,\n",
       " 'mnica': 8,\n",
       " 'nicat': 117,\n",
       " 'alpen': 32,\n",
       " 'lpene': 5,\n",
       " 'penew': 6,\n",
       " 'enews': 283,\n",
       " 'lecti': 486,\n",
       " 'ectiv': 254,\n",
       " 'ctive': 578,\n",
       " 'tives': 179,\n",
       " 'indep': 119,\n",
       " 'ndept': 9,\n",
       " 'depth': 13,\n",
       " 'epthi': 1,\n",
       " 'pthin': 4,\n",
       " 'thinf': 12,\n",
       " 'hinfo': 48,\n",
       " 'dilar': 3,\n",
       " 'ilara': 6,\n",
       " 'laran': 21,\n",
       " 'arang': 61,\n",
       " 'alder': 49,\n",
       " 'icili': 44,\n",
       " 'econo': 235,\n",
       " 'conom': 228,\n",
       " 'onomy': 89,\n",
       " 'nomyc': 3,\n",
       " 'omych': 2,\n",
       " 'mycho': 10,\n",
       " 'ychos': 2,\n",
       " 'chosu': 11,\n",
       " 'hosun': 9,\n",
       " 'dhaka': 20,\n",
       " 'hakab': 3,\n",
       " 'akaba': 15,\n",
       " 'kaban': 17,\n",
       " 'abank': 162,\n",
       " 'zunsp': 1,\n",
       " 'unspo': 8,\n",
       " 'nspor': 316,\n",
       " 'tp-te': 2,\n",
       " 'p-tes': 3,\n",
       " '-test': 140,\n",
       " 'testm': 22,\n",
       " 'estme': 138,\n",
       " 'whotr': 1,\n",
       " 'hotra': 4,\n",
       " 'otrad': 71,\n",
       " 'trade': 858,\n",
       " 'rades': 155,\n",
       " 'vicev': 4,\n",
       " 'icevi': 10,\n",
       " 'cevi-': 1,\n",
       " 'evi-d': 1,\n",
       " 'vi-da': 1,\n",
       " 'i-dan': 2,\n",
       " '-dana': 4,\n",
       " 'veepe': 6,\n",
       " 'eepee': 6,\n",
       " 'epeeo': 1,\n",
       " 'peeon': 1,\n",
       " 'eeonl': 31,\n",
       " 'eonli': 407,\n",
       " 'thefu': 41,\n",
       " 'hefuc': 4,\n",
       " 'efuck': 33,\n",
       " 'fuckl': 5,\n",
       " 'uckli': 8,\n",
       " 'cklis': 27,\n",
       " 'klist': 40,\n",
       " 'buddh': 39,\n",
       " 'uddha': 28,\n",
       " 'ddhaf': 2,\n",
       " 'dhafe': 1,\n",
       " 'hafes': 7,\n",
       " 'afest': 54,\n",
       " 'festo': 33,\n",
       " 'eston': 206,\n",
       " 'stonl': 51,\n",
       " 'tonli': 266,\n",
       " 'disco': 556,\n",
       " 'iscou': 239,\n",
       " 'scoun': 310,\n",
       " 'count': 1331,\n",
       " 'ount-': 30,\n",
       " 'unt-c': 3,\n",
       " 'nt-co': 16,\n",
       " 't-com': 37,\n",
       " '-comp': 141,\n",
       " 'compu': 428,\n",
       " 'omput': 398,\n",
       " 'mpute': 331,\n",
       " 'puter': 332,\n",
       " 'mfree': 20,\n",
       " 'frees': 216,\n",
       " 'reesm': 9,\n",
       " 'eesms': 6,\n",
       " 'meyer': 42,\n",
       " 'eyerd': 1,\n",
       " 'yerdi': 1,\n",
       " 'erdis': 32,\n",
       " 'rdist': 30,\n",
       " 'distr': 326,\n",
       " 'istri': 375,\n",
       " 'butin': 13,\n",
       " 'uting': 69,\n",
       " 'email': 270,\n",
       " 'mailt': 20,\n",
       " 'ailtr': 15,\n",
       " 'iltra': 31,\n",
       " 'ltrac': 49,\n",
       " 'trace': 86,\n",
       " 'racer': 63,\n",
       " 'coggs': 1,\n",
       " 'hotel': 1212,\n",
       " 'otela': 44,\n",
       " 'telam': 8,\n",
       " 'elame': 13,\n",
       " 'lamet': 16,\n",
       " 'amety': 3,\n",
       " 'metys': 2,\n",
       " 'etyst': 8,\n",
       " 'rainw': 16,\n",
       " 'ainwi': 4,\n",
       " 'inwit': 7,\n",
       " 'nwith': 32,\n",
       " 'withm': 53,\n",
       " 'ithma': 16,\n",
       " 'thmab': 1,\n",
       " 'hmabl': 1,\n",
       " 'mable': 12,\n",
       " 'kmf19': 1,\n",
       " 'twirp': 2,\n",
       " 'wirpx': 1,\n",
       " 'carol': 152,\n",
       " 'aroli': 131,\n",
       " 'rolin': 168,\n",
       " 'olina': 129,\n",
       " 'linal': 8,\n",
       " 'inali': 28,\n",
       " 'naliv': 10,\n",
       " 'alivi': 25,\n",
       " 'livin': 459,\n",
       " 'iving': 639,\n",
       " 'dobla': 3,\n",
       " 'oblad': 6,\n",
       " 'blado': 7,\n",
       " 'lador': 41,\n",
       " 'adora': 129,\n",
       " 'dorac': 10,\n",
       " 'oraca': 40,\n",
       " 'racar': 37,\n",
       " 'acarv': 2,\n",
       " 'carva': 18,\n",
       " 'arvaj': 3,\n",
       " 'rvaja': 4,\n",
       " 'vajal': 3,\n",
       " 'cgari': 1,\n",
       " 'garia': 40,\n",
       " 'mutlu': 10,\n",
       " 'utluc': 2,\n",
       " 'tluce': 1,\n",
       " 'lucel': 5,\n",
       " 'ucell': 6,\n",
       " 'the-b': 36,\n",
       " 'he-bi': 8,\n",
       " 'e-big': 4,\n",
       " '-big-': 7,\n",
       " 'big-b': 12,\n",
       " 'ig-ba': 5,\n",
       " 'g-ban': 3,\n",
       " '-bang': 9,\n",
       " 'bang-': 12,\n",
       " 'ang-t': 7,\n",
       " 'ng-th': 11,\n",
       " 'g-the': 7,\n",
       " '-theo': 11,\n",
       " 'theor': 102,\n",
       " 'heory': 67,\n",
       " 'drdas': 1,\n",
       " 'rdash': 15,\n",
       " 'dasht': 14,\n",
       " 'ashta': 42,\n",
       " 'shta-': 1,\n",
       " 'hta-c': 1,\n",
       " 'ta-ch': 6,\n",
       " 'a-cha': 18,\n",
       " '-chat': 39,\n",
       " 'harap': 13,\n",
       " 'arapa': 34,\n",
       " 'rapan': 16,\n",
       " 'lacus': 1,\n",
       " 'acusc': 2,\n",
       " 'cusce': 2,\n",
       " 'uscem': 1,\n",
       " 'mento': 458,\n",
       " 'entor': 173,\n",
       " 'ntore': 18,\n",
       " 'tores': 280,\n",
       " 'oresp': 33,\n",
       " 'respo': 141,\n",
       " 'sporc': 9,\n",
       " 'porch': 13,\n",
       " 'orchi': 72,\n",
       " 'rchil': 49,\n",
       " 'chile': 205,\n",
       " 'getco': 28,\n",
       " 'etcod': 9,\n",
       " 'tcode': 61,\n",
       " 'codel': 43,\n",
       " 'odele': 39,\n",
       " 'deles': 27,\n",
       " 'eless': 176,\n",
       " 'alanb': 4,\n",
       " 'lanba': 11,\n",
       " 'anba-': 1,\n",
       " 'nba-m': 1,\n",
       " 'ba-my': 1,\n",
       " 'a-my.': 70,\n",
       " '-my.s': 1258,\n",
       " 'my.sh': 1262,\n",
       " 'y.sha': 1318,\n",
       " '.shar': 2965,\n",
       " 'share': 3559,\n",
       " 'harep': 2997,\n",
       " 'arepo': 3019,\n",
       " 'repoi': 2993,\n",
       " 'epoin': 3093,\n",
       " 'point': 3775,\n",
       " 'freel': 141,\n",
       " 'reele': 27,\n",
       " 'eeles': 7,\n",
       " 'elesb': 16,\n",
       " 'lesbo': 27,\n",
       " 'esbox': 12,\n",
       " 'sboxx': 1,\n",
       " 'boxxx': 2,\n",
       " 'westf': 39,\n",
       " 'estfi': 37,\n",
       " 'stfie': 12,\n",
       " 'tfiel': 25,\n",
       " 'ieldc': 33,\n",
       " 'eldca': 5,\n",
       " 'ldcar': 38,\n",
       " 'dcara': 5,\n",
       " 'carav': 64,\n",
       " 'arava': 82,\n",
       " 'ravan': 87,\n",
       " 'avans': 43,\n",
       " 'frafy': 1,\n",
       " 'rafyr': 1,\n",
       " 'behta': 11,\n",
       " 'ehtar': 9,\n",
       " 'htari': 10,\n",
       " 'tarin': 65,\n",
       " 'arini': 20,\n",
       " 'rinid': 7,\n",
       " 'inide': 6,\n",
       " 'nideh': 2,\n",
       " 'quixe': 4,\n",
       " 'uixel': 2,\n",
       " 'milit': 135,\n",
       " 'ilita': 174,\n",
       " 'litar': 142,\n",
       " 'itary': 88,\n",
       " 'tarys': 15,\n",
       " 'arysk': 1,\n",
       " 'ryskl': 1,\n",
       " 'yskla': 3,\n",
       " 'sklad': 35,\n",
       " 'intel': 285,\n",
       " 'ntell': 173,\n",
       " 'telli': 224,\n",
       " 'ellit': 53,\n",
       " 'llito': 7,\n",
       " 'litoo': 4,\n",
       " 'itool': 29,\n",
       " 'tools': 572,\n",
       " 'plaza': 147,\n",
       " 'lazak': 1,\n",
       " 'azaka': 10,\n",
       " 'zakam': 1,\n",
       " 'akame': 9,\n",
       " 'kamer': 45,\n",
       " 'amera': 211,\n",
       " 'websh': 33,\n",
       " 'ebsha': 4,\n",
       " 'bshar': 15,\n",
       " 'selgr': 6,\n",
       " 'elgro': 41,\n",
       " 'lgros': 7,\n",
       " 'gros2': 1,\n",
       " 'ros24': 2,\n",
       " 'seoza': 1,\n",
       " 'eozac': 1,\n",
       " 'storm': 140,\n",
       " 'tormg': 5,\n",
       " 'ormgi': 1,\n",
       " 'rmgir': 4,\n",
       " 'mgirl': 34,\n",
       " 'girls': 457,\n",
       " 'datac': 61,\n",
       " 'atach': 11,\n",
       " 'tacha': 19,\n",
       " 'achan': 58,\n",
       " 'chang': 570,\n",
       " 'hange': 488,\n",
       " 'anger': 218,\n",
       " 'ngers': 113,\n",
       " 'manta': 25,\n",
       " 'antan': 123,\n",
       " 'ntan-': 5,\n",
       " 'tan-w': 1,\n",
       " 'an-we': 7,\n",
       " 'n-web': 17,\n",
       " 'xyson': 1,\n",
       " 'ysong': 12,\n",
       " 'songl': 13,\n",
       " 'ongly': 9,\n",
       " 'nglyr': 9,\n",
       " 'glyri': 10,\n",
       " 'lyric': 140,\n",
       " 'yrics': 117,\n",
       " 'schwa': 82,\n",
       " 'chwae': 3,\n",
       " 'hwaeb': 2,\n",
       " 'waebi': 2,\n",
       " 'aebis': 3,\n",
       " 'ebisc': 6,\n",
       " 'bisch': 13,\n",
       " 'isch-': 20,\n",
       " 'sch-h': 21,\n",
       " 'ch-ha': 7,\n",
       " 'h-hal': 3,\n",
       " '-hall': 24,\n",
       " 'cladw': 1,\n",
       " 'ladwe': 2,\n",
       " 'adwel': 14,\n",
       " 'dwell': 77,\n",
       " 'sarka': 66,\n",
       " 'arkar': 75,\n",
       " 'rkari': 66,\n",
       " 'karib': 9,\n",
       " 'aribo': 13,\n",
       " 'riboo': 9,\n",
       " 'ibook': 43,\n",
       " 'colum': 165,\n",
       " 'olumb': 150,\n",
       " 'lumbi': 135,\n",
       " 'umbia': 71,\n",
       " 'mbiar': 6,\n",
       " 'biaro': 2,\n",
       " 'iaroa': 4,\n",
       " 'aroad': 13,\n",
       " 'ajust': 8,\n",
       " 'juste': 21,\n",
       " 'usteq': 1,\n",
       " 'stequ': 7,\n",
       " 'tequi': 42,\n",
       " 'equir': 10,\n",
       " 'quiro': 12,\n",
       " 'uirop': 3,\n",
       " 'iropr': 51,\n",
       " 'ropra': 50,\n",
       " 'oprax': 8,\n",
       " 'praxi': 93,\n",
       " 'raxia': 5,\n",
       " 'dance': 270,\n",
       " 'ancer': 201,\n",
       " 'ncers': 40,\n",
       " 'cersg': 2,\n",
       " 'ersgr': 23,\n",
       " 'rsgro': 18,\n",
       " 'sgrou': 215,\n",
       " 'woman': 131,\n",
       " 'omanf': 5,\n",
       " 'manfr': 12,\n",
       " 'anfre': 23,\n",
       " 'nfree': 61,\n",
       " 'freeb': 142,\n",
       " 'reebi': 62,\n",
       " 'eebie': 42,\n",
       " 'ebies': 37,\n",
       " 'sellw': 4,\n",
       " 'ellwo': 9,\n",
       " 'llwoo': 15,\n",
       " 'lwood': 32,\n",
       " 'woodc': 62,\n",
       " 'oodcy': 2,\n",
       " 'odcyc': 3,\n",
       " 'dcycl': 15,\n",
       " 'cycle': 416,\n",
       " 'outno': 8,\n",
       " 'utnor': 3,\n",
       " 'tnort': 17,\n",
       " 'north': 649,\n",
       " 'freea': 77,\n",
       " 'reead': 40,\n",
       " 'marts': 121,\n",
       " 'artse': 52,\n",
       " 'rtser': 28,\n",
       " 'tserv': 168,\n",
       " 'servi': 1777,\n",
       " 'ervis': 123,\n",
       " 'invit': 52,\n",
       " 'nvite': 32,\n",
       " 'viter': 11,\n",
       " 'getma': 20,\n",
       " 'etmai': 10,\n",
       " 'tmail': 47,\n",
       " 'ailto': 12,\n",
       " 'kvpko': 1,\n",
       " 'vpkom': 1,\n",
       " 'pkoma': 1,\n",
       " 'komar': 11,\n",
       " 'omarn': 3,\n",
       " 'marno': 4,\n",
       " ...}"
      ]
     },
     "execution_count": 227,
     "metadata": {},
     "output_type": "execute_result"
    }
   ],
   "source": [
    "gram5"
   ]
  },
  {
   "cell_type": "code",
   "execution_count": 173,
   "id": "cae4e5e3-3873-486c-96a4-b0bb2724979a",
   "metadata": {},
   "outputs": [
    {
     "data": {
      "text/html": [
       "<div>\n",
       "<style scoped>\n",
       "    .dataframe tbody tr th:only-of-type {\n",
       "        vertical-align: middle;\n",
       "    }\n",
       "\n",
       "    .dataframe tbody tr th {\n",
       "        vertical-align: top;\n",
       "    }\n",
       "\n",
       "    .dataframe thead th {\n",
       "        text-align: right;\n",
       "    }\n",
       "</style>\n",
       "<table border=\"1\" class=\"dataframe\">\n",
       "  <thead>\n",
       "    <tr style=\"text-align: right;\">\n",
       "      <th></th>\n",
       "      <th>domain</th>\n",
       "      <th>top_domain</th>\n",
       "      <th>top_domain</th>\n",
       "      <th>dga</th>\n",
       "      <th>class</th>\n",
       "    </tr>\n",
       "  </thead>\n",
       "  <tbody>\n",
       "    <tr>\n",
       "      <th>257</th>\n",
       "      <td>b6427368140624515a0ee4c29d27b789.info</td>\n",
       "      <td>info</td>\n",
       "      <td>info</td>\n",
       "      <td>yes</td>\n",
       "      <td>1</td>\n",
       "    </tr>\n",
       "    <tr>\n",
       "      <th>800</th>\n",
       "      <td>6e3772dd01644a88e16b0dbe2a6c0d36.org</td>\n",
       "      <td>org</td>\n",
       "      <td>org</td>\n",
       "      <td>yes</td>\n",
       "      <td>1</td>\n",
       "    </tr>\n",
       "    <tr>\n",
       "      <th>1731</th>\n",
       "      <td>1c7fadd66c9fbb16cd1dcd38d743f263.org</td>\n",
       "      <td>org</td>\n",
       "      <td>org</td>\n",
       "      <td>yes</td>\n",
       "      <td>1</td>\n",
       "    </tr>\n",
       "    <tr>\n",
       "      <th>4462</th>\n",
       "      <td>773683efbacb0bb70b75322c7e4662b9.info</td>\n",
       "      <td>info</td>\n",
       "      <td>info</td>\n",
       "      <td>yes</td>\n",
       "      <td>1</td>\n",
       "    </tr>\n",
       "    <tr>\n",
       "      <th>5435</th>\n",
       "      <td>4a51234e6e87c3c793592df62508a7d4.info</td>\n",
       "      <td>info</td>\n",
       "      <td>info</td>\n",
       "      <td>yes</td>\n",
       "      <td>1</td>\n",
       "    </tr>\n",
       "    <tr>\n",
       "      <th>...</th>\n",
       "      <td>...</td>\n",
       "      <td>...</td>\n",
       "      <td>...</td>\n",
       "      <td>...</td>\n",
       "      <td>...</td>\n",
       "    </tr>\n",
       "    <tr>\n",
       "      <th>1589137</th>\n",
       "      <td>7a7e47b55b0162d673231eb87881b07a.org</td>\n",
       "      <td>org</td>\n",
       "      <td>org</td>\n",
       "      <td>yes</td>\n",
       "      <td>1</td>\n",
       "    </tr>\n",
       "    <tr>\n",
       "      <th>1590363</th>\n",
       "      <td>7f200216723deebc7c91b324fc0962ad.org</td>\n",
       "      <td>org</td>\n",
       "      <td>org</td>\n",
       "      <td>yes</td>\n",
       "      <td>1</td>\n",
       "    </tr>\n",
       "    <tr>\n",
       "      <th>1594675</th>\n",
       "      <td>ed6cd7bcc51974b2a76909b46c3c8696.org</td>\n",
       "      <td>org</td>\n",
       "      <td>org</td>\n",
       "      <td>yes</td>\n",
       "      <td>1</td>\n",
       "    </tr>\n",
       "    <tr>\n",
       "      <th>1596475</th>\n",
       "      <td>d86e4bd4f58b94de0cbf326ac4be7087.org</td>\n",
       "      <td>org</td>\n",
       "      <td>org</td>\n",
       "      <td>yes</td>\n",
       "      <td>1</td>\n",
       "    </tr>\n",
       "    <tr>\n",
       "      <th>1598316</th>\n",
       "      <td>6a97671109629d33769d9e6a07193dd2.org</td>\n",
       "      <td>org</td>\n",
       "      <td>org</td>\n",
       "      <td>yes</td>\n",
       "      <td>1</td>\n",
       "    </tr>\n",
       "  </tbody>\n",
       "</table>\n",
       "<p>754 rows × 5 columns</p>\n",
       "</div>"
      ],
      "text/plain": [
       "                                        domain top_domain top_domain  dga  \\\n",
       "257      b6427368140624515a0ee4c29d27b789.info       info       info  yes   \n",
       "800       6e3772dd01644a88e16b0dbe2a6c0d36.org        org        org  yes   \n",
       "1731      1c7fadd66c9fbb16cd1dcd38d743f263.org        org        org  yes   \n",
       "4462     773683efbacb0bb70b75322c7e4662b9.info       info       info  yes   \n",
       "5435     4a51234e6e87c3c793592df62508a7d4.info       info       info  yes   \n",
       "...                                        ...        ...        ...  ...   \n",
       "1589137   7a7e47b55b0162d673231eb87881b07a.org        org        org  yes   \n",
       "1590363   7f200216723deebc7c91b324fc0962ad.org        org        org  yes   \n",
       "1594675   ed6cd7bcc51974b2a76909b46c3c8696.org        org        org  yes   \n",
       "1596475   d86e4bd4f58b94de0cbf326ac4be7087.org        org        org  yes   \n",
       "1598316   6a97671109629d33769d9e6a07193dd2.org        org        org  yes   \n",
       "\n",
       "         class  \n",
       "257          1  \n",
       "800          1  \n",
       "1731         1  \n",
       "4462         1  \n",
       "5435         1  \n",
       "...        ...  \n",
       "1589137      1  \n",
       "1590363      1  \n",
       "1594675      1  \n",
       "1596475      1  \n",
       "1598316      1  \n",
       "\n",
       "[754 rows x 5 columns]"
      ]
     },
     "execution_count": 173,
     "metadata": {},
     "output_type": "execute_result"
    }
   ],
   "source": [
    "data_1"
   ]
  },
  {
   "cell_type": "code",
   "execution_count": 228,
   "id": "671ca69d-b869-414a-b8b3-1d0defc753d9",
   "metadata": {},
   "outputs": [],
   "source": [
    "data_1_domain='b6427368140624515a0ee4c29d27b789.info'"
   ]
  },
  {
   "cell_type": "code",
   "execution_count": 229,
   "id": "2dd8f25d-5858-4ed7-a6f0-326767e5e5cd",
   "metadata": {},
   "outputs": [],
   "source": [
    "data_1_sub = sub_domain(data_1_domain)"
   ]
  },
  {
   "cell_type": "code",
   "execution_count": 230,
   "id": "e49ae7b8-130d-4ce0-8413-a4040b373539",
   "metadata": {},
   "outputs": [
    {
     "data": {
      "text/plain": [
       "'b6427368140624515a0ee4c29d27b789'"
      ]
     },
     "execution_count": 230,
     "metadata": {},
     "output_type": "execute_result"
    }
   ],
   "source": [
    "data_1_sub"
   ]
  },
  {
   "cell_type": "code",
   "execution_count": 231,
   "id": "8385daa4-59c0-4e69-98bd-833d0aa6f605",
   "metadata": {},
   "outputs": [],
   "source": [
    "data_1_ngram = ngram(data_1_domain, 3)"
   ]
  },
  {
   "cell_type": "code",
   "execution_count": 232,
   "id": "0272b225-790d-460f-ae8f-1469cc1a4e7d",
   "metadata": {
    "tags": []
   },
   "outputs": [
    {
     "data": {
      "text/plain": [
       "['b64',\n",
       " '642',\n",
       " '427',\n",
       " '273',\n",
       " '736',\n",
       " '368',\n",
       " '681',\n",
       " '814',\n",
       " '140',\n",
       " '406',\n",
       " '062',\n",
       " '624',\n",
       " '245',\n",
       " '451',\n",
       " '515',\n",
       " '15a',\n",
       " '5a0',\n",
       " 'a0e',\n",
       " '0ee',\n",
       " 'ee4',\n",
       " 'e4c',\n",
       " '4c2',\n",
       " 'c29',\n",
       " '29d',\n",
       " '9d2',\n",
       " 'd27',\n",
       " '27b',\n",
       " '7b7',\n",
       " 'b78',\n",
       " '789']"
      ]
     },
     "execution_count": 232,
     "metadata": {},
     "output_type": "execute_result"
    }
   ],
   "source": [
    "data_1_ngram"
   ]
  },
  {
   "cell_type": "code",
   "execution_count": 233,
   "id": "0b1dff4b-e20e-45a5-81ce-7588ef0a7fd7",
   "metadata": {},
   "outputs": [],
   "source": [
    "with open('3_gram_dict.pkl', 'rb') as f:\n",
    "    gram3 = pickle.load(f)\n",
    "f.close()"
   ]
  },
  {
   "cell_type": "code",
   "execution_count": 235,
   "id": "ea21d9a4-d3e5-499a-8941-375ac9e4ba57",
   "metadata": {},
   "outputs": [
    {
     "name": "stdout",
     "output_type": "stream",
     "text": [
      "180\n"
     ]
    }
   ],
   "source": [
    "total_score=0\n",
    "\n",
    "for gram in data_1_ngram :\n",
    "    #print(gram)\n",
    "    try :\n",
    "        score = gram3[gram]\n",
    "    except :\n",
    "        score = 0\n",
    "    total_score += score\n",
    "print(total_score)"
   ]
  },
  {
   "cell_type": "code",
   "execution_count": 236,
   "id": "4e68f938-e960-4287-89f1-eb119ebbeb87",
   "metadata": {},
   "outputs": [],
   "source": [
    "def ngram_scoring(domain, number, dict_name) :\n",
    "    ngrams = ngram(domain, number)\n",
    "    \n",
    "    total_score = 0\n",
    "    score = 0\n",
    "    for gram in ngrams : \n",
    "        try :\n",
    "            score = dict_name[gram]\n",
    "        except :\n",
    "            score = 0\n",
    "        total_score += score\n",
    "    return total_score"
   ]
  },
  {
   "cell_type": "code",
   "execution_count": 283,
   "id": "42e9bdd7-ea28-47d5-9b42-314847c420a2",
   "metadata": {},
   "outputs": [],
   "source": [
    "with open('1_gram_dict.pkl', 'rb') as f:\n",
    "    gram1 = pickle.load(f)"
   ]
  },
  {
   "cell_type": "code",
   "execution_count": 244,
   "id": "8764aad3-d4e3-4eb6-891d-b792bac1da21",
   "metadata": {},
   "outputs": [],
   "source": [
    "with open('2_gram_dict.pkl', 'rb') as f:\n",
    "    gram2 = pickle.load(f)"
   ]
  },
  {
   "cell_type": "code",
   "execution_count": 245,
   "id": "fdd432f9-b767-4e3b-a211-50f76d769205",
   "metadata": {},
   "outputs": [],
   "source": [
    "with open('3_gram_dict.pkl', 'rb') as f:\n",
    "    gram3 = pickle.load(f)"
   ]
  },
  {
   "cell_type": "code",
   "execution_count": 246,
   "id": "1a9ed2fb-c24d-48d5-9d92-5a1137ca7907",
   "metadata": {},
   "outputs": [],
   "source": [
    "with open('4_gram_dict.pkl', 'rb') as f:\n",
    "    gram4 = pickle.load(f)"
   ]
  },
  {
   "cell_type": "code",
   "execution_count": 247,
   "id": "f2d5ae5b-7090-44e8-9a6e-ad40586e2877",
   "metadata": {},
   "outputs": [],
   "source": [
    "with open('5_gram_dict.pkl', 'rb') as f:\n",
    "    gram5 = pickle.load(f)"
   ]
  },
  {
   "cell_type": "code",
   "execution_count": 248,
   "id": "4049a16b-77fd-4727-9140-33336930dd38",
   "metadata": {},
   "outputs": [
    {
     "data": {
      "text/plain": [
       "10069"
      ]
     },
     "execution_count": 248,
     "metadata": {},
     "output_type": "execute_result"
    }
   ],
   "source": [
    "ngram_scoring('youtube.com', 3, gram3)"
   ]
  },
  {
   "cell_type": "code",
   "execution_count": 249,
   "id": "297b6333-6769-4598-a487-98e54e16d543",
   "metadata": {},
   "outputs": [],
   "source": [
    "def add_dataframe(dataframe, function, col_name, number=0, dictionary=0) : #ngram수치를 데이터프레임에 넣기위해 기존함수 수정\n",
    "    temp_list=[]\n",
    "    for index, value in dataframe.iterrows() : \n",
    "        domain=value[0]\n",
    "        if number == 0 :\n",
    "        #일반적인 상황일 때\n",
    "            temp = function(domain)\n",
    "            temp_list.append(temp)\n",
    "        else : \n",
    "        # ngram을 사용할 때\n",
    "            temp = function(domain, number, dictionary)\n",
    "            temp_list.append(temp)\n",
    "\n",
    "    dataframe.insert(1, col_name, temp_list, allow_duplicates=True)\n"
   ]
  },
  {
   "cell_type": "code",
   "execution_count": 255,
   "id": "4cd9f4cd-6d32-4e96-929c-39451e935781",
   "metadata": {},
   "outputs": [],
   "source": [
    "add_dataframe(data, ngram_scoring, '1gram_scoring', 1, gram1)"
   ]
  },
  {
   "cell_type": "code",
   "execution_count": 256,
   "id": "ba702028-fbd6-45dc-8f5d-df0047f81ab7",
   "metadata": {},
   "outputs": [],
   "source": [
    "add_dataframe(data, ngram_scoring, '2gram_scoring', 2, gram2)"
   ]
  },
  {
   "cell_type": "code",
   "execution_count": 257,
   "id": "55e87cef-9fd0-4d8e-8a7f-a8c6730de99e",
   "metadata": {},
   "outputs": [],
   "source": [
    "add_dataframe(data, ngram_scoring, '3gram_scoring', 3, gram3)"
   ]
  },
  {
   "cell_type": "code",
   "execution_count": 258,
   "id": "f990195b-7b59-4ff8-89da-37238ea4e3dd",
   "metadata": {},
   "outputs": [],
   "source": [
    "add_dataframe(data, ngram_scoring, '4gram_scoring', 4, gram4)"
   ]
  },
  {
   "cell_type": "code",
   "execution_count": 259,
   "id": "f56318b2-0258-40e1-a972-e88cab95a6c2",
   "metadata": {},
   "outputs": [],
   "source": [
    "add_dataframe(data, ngram_scoring, '5gram_scoring', 5, gram5)"
   ]
  },
  {
   "cell_type": "code",
   "execution_count": 260,
   "id": "3d1d31df-87b6-46cd-8ad3-c530f173f8bf",
   "metadata": {},
   "outputs": [
    {
     "data": {
      "text/html": [
       "<div>\n",
       "<style scoped>\n",
       "    .dataframe tbody tr th:only-of-type {\n",
       "        vertical-align: middle;\n",
       "    }\n",
       "\n",
       "    .dataframe tbody tr th {\n",
       "        vertical-align: top;\n",
       "    }\n",
       "\n",
       "    .dataframe thead th {\n",
       "        text-align: right;\n",
       "    }\n",
       "</style>\n",
       "<table border=\"1\" class=\"dataframe\">\n",
       "  <thead>\n",
       "    <tr style=\"text-align: right;\">\n",
       "      <th></th>\n",
       "      <th>domain</th>\n",
       "      <th>5gram_scoring</th>\n",
       "      <th>4gram_scoring</th>\n",
       "      <th>3gram_scoring</th>\n",
       "      <th>2gram_scoring</th>\n",
       "      <th>1gram_scoring</th>\n",
       "      <th>ngram_scoring</th>\n",
       "      <th>ngram_scoring</th>\n",
       "      <th>ngram_scoring</th>\n",
       "      <th>ngram_scoring</th>\n",
       "      <th>ngram_scoring</th>\n",
       "      <th>dist_num</th>\n",
       "      <th>rate_vow</th>\n",
       "      <th>rate_con</th>\n",
       "      <th>is_con</th>\n",
       "      <th>sub_length</th>\n",
       "      <th>sub_domain</th>\n",
       "      <th>top_domain</th>\n",
       "      <th>dga</th>\n",
       "      <th>class</th>\n",
       "    </tr>\n",
       "  </thead>\n",
       "  <tbody>\n",
       "    <tr>\n",
       "      <th>0</th>\n",
       "      <td>vsviqe.com</td>\n",
       "      <td>0</td>\n",
       "      <td>5</td>\n",
       "      <td>524</td>\n",
       "      <td>27422</td>\n",
       "      <td>1718243</td>\n",
       "      <td>0</td>\n",
       "      <td>5</td>\n",
       "      <td>524</td>\n",
       "      <td>27422</td>\n",
       "      <td>1718243</td>\n",
       "      <td>0</td>\n",
       "      <td>0.33333</td>\n",
       "      <td>0.66667</td>\n",
       "      <td>1</td>\n",
       "      <td>6</td>\n",
       "      <td>vsviqe</td>\n",
       "      <td>com</td>\n",
       "      <td>yes</td>\n",
       "      <td>19</td>\n",
       "    </tr>\n",
       "    <tr>\n",
       "      <th>1</th>\n",
       "      <td>170qknj1onn4c37qf1w71rzei1h.org</td>\n",
       "      <td>0</td>\n",
       "      <td>27</td>\n",
       "      <td>2305</td>\n",
       "      <td>96325</td>\n",
       "      <td>4118443</td>\n",
       "      <td>0</td>\n",
       "      <td>27</td>\n",
       "      <td>2305</td>\n",
       "      <td>96325</td>\n",
       "      <td>4118443</td>\n",
       "      <td>7</td>\n",
       "      <td>0.11111</td>\n",
       "      <td>0.48148</td>\n",
       "      <td>1</td>\n",
       "      <td>27</td>\n",
       "      <td>170qknj1onn4c37qf1w71rzei1h</td>\n",
       "      <td>org</td>\n",
       "      <td>yes</td>\n",
       "      <td>6</td>\n",
       "    </tr>\n",
       "    <tr>\n",
       "      <th>2</th>\n",
       "      <td>smartidpro.in</td>\n",
       "      <td>1582</td>\n",
       "      <td>4843</td>\n",
       "      <td>37628</td>\n",
       "      <td>293314</td>\n",
       "      <td>3874591</td>\n",
       "      <td>1582</td>\n",
       "      <td>4843</td>\n",
       "      <td>37628</td>\n",
       "      <td>293314</td>\n",
       "      <td>3874591</td>\n",
       "      <td>0</td>\n",
       "      <td>0.30000</td>\n",
       "      <td>0.70000</td>\n",
       "      <td>1</td>\n",
       "      <td>10</td>\n",
       "      <td>smartidpro</td>\n",
       "      <td>in</td>\n",
       "      <td>no</td>\n",
       "      <td>0</td>\n",
       "    </tr>\n",
       "    <tr>\n",
       "      <th>3</th>\n",
       "      <td>9mtrkmet8rjnpya4.ru</td>\n",
       "      <td>2</td>\n",
       "      <td>76</td>\n",
       "      <td>3873</td>\n",
       "      <td>133947</td>\n",
       "      <td>4221948</td>\n",
       "      <td>2</td>\n",
       "      <td>76</td>\n",
       "      <td>3873</td>\n",
       "      <td>133947</td>\n",
       "      <td>4221948</td>\n",
       "      <td>3</td>\n",
       "      <td>0.12500</td>\n",
       "      <td>0.68750</td>\n",
       "      <td>2</td>\n",
       "      <td>16</td>\n",
       "      <td>9mtrkmet8rjnpya4</td>\n",
       "      <td>ru</td>\n",
       "      <td>yes</td>\n",
       "      <td>2</td>\n",
       "    </tr>\n",
       "    <tr>\n",
       "      <th>4</th>\n",
       "      <td>ypyxhi.com</td>\n",
       "      <td>0</td>\n",
       "      <td>0</td>\n",
       "      <td>71</td>\n",
       "      <td>25596</td>\n",
       "      <td>1066583</td>\n",
       "      <td>0</td>\n",
       "      <td>0</td>\n",
       "      <td>71</td>\n",
       "      <td>25596</td>\n",
       "      <td>1066583</td>\n",
       "      <td>0</td>\n",
       "      <td>0.16667</td>\n",
       "      <td>0.83333</td>\n",
       "      <td>1</td>\n",
       "      <td>6</td>\n",
       "      <td>ypyxhi</td>\n",
       "      <td>com</td>\n",
       "      <td>yes</td>\n",
       "      <td>19</td>\n",
       "    </tr>\n",
       "    <tr>\n",
       "      <th>...</th>\n",
       "      <td>...</td>\n",
       "      <td>...</td>\n",
       "      <td>...</td>\n",
       "      <td>...</td>\n",
       "      <td>...</td>\n",
       "      <td>...</td>\n",
       "      <td>...</td>\n",
       "      <td>...</td>\n",
       "      <td>...</td>\n",
       "      <td>...</td>\n",
       "      <td>...</td>\n",
       "      <td>...</td>\n",
       "      <td>...</td>\n",
       "      <td>...</td>\n",
       "      <td>...</td>\n",
       "      <td>...</td>\n",
       "      <td>...</td>\n",
       "      <td>...</td>\n",
       "      <td>...</td>\n",
       "      <td>...</td>\n",
       "    </tr>\n",
       "    <tr>\n",
       "      <th>1599995</th>\n",
       "      <td>10zpd8p1ktb8bg1al07c3rfkuqw.net</td>\n",
       "      <td>0</td>\n",
       "      <td>1</td>\n",
       "      <td>103</td>\n",
       "      <td>82379</td>\n",
       "      <td>3787578</td>\n",
       "      <td>0</td>\n",
       "      <td>1</td>\n",
       "      <td>103</td>\n",
       "      <td>82379</td>\n",
       "      <td>3787578</td>\n",
       "      <td>7</td>\n",
       "      <td>0.07407</td>\n",
       "      <td>0.59259</td>\n",
       "      <td>3</td>\n",
       "      <td>27</td>\n",
       "      <td>10zpd8p1ktb8bg1al07c3rfkuqw</td>\n",
       "      <td>net</td>\n",
       "      <td>yes</td>\n",
       "      <td>6</td>\n",
       "    </tr>\n",
       "    <tr>\n",
       "      <th>1599996</th>\n",
       "      <td>acheemprego.com</td>\n",
       "      <td>405</td>\n",
       "      <td>2047</td>\n",
       "      <td>24701</td>\n",
       "      <td>270685</td>\n",
       "      <td>4416141</td>\n",
       "      <td>405</td>\n",
       "      <td>2047</td>\n",
       "      <td>24701</td>\n",
       "      <td>270685</td>\n",
       "      <td>4416141</td>\n",
       "      <td>0</td>\n",
       "      <td>0.45455</td>\n",
       "      <td>0.54545</td>\n",
       "      <td>1</td>\n",
       "      <td>11</td>\n",
       "      <td>acheemprego</td>\n",
       "      <td>com</td>\n",
       "      <td>no</td>\n",
       "      <td>0</td>\n",
       "    </tr>\n",
       "    <tr>\n",
       "      <th>1599997</th>\n",
       "      <td>dtvvqs.com</td>\n",
       "      <td>0</td>\n",
       "      <td>1</td>\n",
       "      <td>98</td>\n",
       "      <td>7209</td>\n",
       "      <td>1226828</td>\n",
       "      <td>0</td>\n",
       "      <td>1</td>\n",
       "      <td>98</td>\n",
       "      <td>7209</td>\n",
       "      <td>1226828</td>\n",
       "      <td>0</td>\n",
       "      <td>0.00000</td>\n",
       "      <td>1.00000</td>\n",
       "      <td>1</td>\n",
       "      <td>6</td>\n",
       "      <td>dtvvqs</td>\n",
       "      <td>com</td>\n",
       "      <td>yes</td>\n",
       "      <td>19</td>\n",
       "    </tr>\n",
       "    <tr>\n",
       "      <th>1599998</th>\n",
       "      <td>qurtpwncfwhjke.pw</td>\n",
       "      <td>0</td>\n",
       "      <td>5</td>\n",
       "      <td>1372</td>\n",
       "      <td>107968</td>\n",
       "      <td>3103160</td>\n",
       "      <td>0</td>\n",
       "      <td>5</td>\n",
       "      <td>1372</td>\n",
       "      <td>107968</td>\n",
       "      <td>3103160</td>\n",
       "      <td>0</td>\n",
       "      <td>0.14286</td>\n",
       "      <td>0.85714</td>\n",
       "      <td>1</td>\n",
       "      <td>14</td>\n",
       "      <td>qurtpwncfwhjke</td>\n",
       "      <td>pw</td>\n",
       "      <td>yes</td>\n",
       "      <td>7</td>\n",
       "    </tr>\n",
       "    <tr>\n",
       "      <th>1599999</th>\n",
       "      <td>p148e12d7c430db3c04635de27e343c625.ws</td>\n",
       "      <td>0</td>\n",
       "      <td>2</td>\n",
       "      <td>197</td>\n",
       "      <td>50399</td>\n",
       "      <td>3844471</td>\n",
       "      <td>0</td>\n",
       "      <td>2</td>\n",
       "      <td>197</td>\n",
       "      <td>50399</td>\n",
       "      <td>3844471</td>\n",
       "      <td>9</td>\n",
       "      <td>0.08824</td>\n",
       "      <td>0.23529</td>\n",
       "      <td>0</td>\n",
       "      <td>34</td>\n",
       "      <td>p148e12d7c430db3c04635de27e343c625</td>\n",
       "      <td>ws</td>\n",
       "      <td>yes</td>\n",
       "      <td>5</td>\n",
       "    </tr>\n",
       "  </tbody>\n",
       "</table>\n",
       "<p>1600000 rows × 20 columns</p>\n",
       "</div>"
      ],
      "text/plain": [
       "                                        domain  5gram_scoring  4gram_scoring  \\\n",
       "0                                   vsviqe.com              0              5   \n",
       "1              170qknj1onn4c37qf1w71rzei1h.org              0             27   \n",
       "2                                smartidpro.in           1582           4843   \n",
       "3                          9mtrkmet8rjnpya4.ru              2             76   \n",
       "4                                   ypyxhi.com              0              0   \n",
       "...                                        ...            ...            ...   \n",
       "1599995        10zpd8p1ktb8bg1al07c3rfkuqw.net              0              1   \n",
       "1599996                        acheemprego.com            405           2047   \n",
       "1599997                             dtvvqs.com              0              1   \n",
       "1599998                      qurtpwncfwhjke.pw              0              5   \n",
       "1599999  p148e12d7c430db3c04635de27e343c625.ws              0              2   \n",
       "\n",
       "         3gram_scoring  2gram_scoring  1gram_scoring  ngram_scoring  \\\n",
       "0                  524          27422        1718243              0   \n",
       "1                 2305          96325        4118443              0   \n",
       "2                37628         293314        3874591           1582   \n",
       "3                 3873         133947        4221948              2   \n",
       "4                   71          25596        1066583              0   \n",
       "...                ...            ...            ...            ...   \n",
       "1599995            103          82379        3787578              0   \n",
       "1599996          24701         270685        4416141            405   \n",
       "1599997             98           7209        1226828              0   \n",
       "1599998           1372         107968        3103160              0   \n",
       "1599999            197          50399        3844471              0   \n",
       "\n",
       "         ngram_scoring  ngram_scoring  ngram_scoring  ngram_scoring  dist_num  \\\n",
       "0                    5            524          27422        1718243         0   \n",
       "1                   27           2305          96325        4118443         7   \n",
       "2                 4843          37628         293314        3874591         0   \n",
       "3                   76           3873         133947        4221948         3   \n",
       "4                    0             71          25596        1066583         0   \n",
       "...                ...            ...            ...            ...       ...   \n",
       "1599995              1            103          82379        3787578         7   \n",
       "1599996           2047          24701         270685        4416141         0   \n",
       "1599997              1             98           7209        1226828         0   \n",
       "1599998              5           1372         107968        3103160         0   \n",
       "1599999              2            197          50399        3844471         9   \n",
       "\n",
       "         rate_vow  rate_con  is_con  sub_length  \\\n",
       "0         0.33333   0.66667       1           6   \n",
       "1         0.11111   0.48148       1          27   \n",
       "2         0.30000   0.70000       1          10   \n",
       "3         0.12500   0.68750       2          16   \n",
       "4         0.16667   0.83333       1           6   \n",
       "...           ...       ...     ...         ...   \n",
       "1599995   0.07407   0.59259       3          27   \n",
       "1599996   0.45455   0.54545       1          11   \n",
       "1599997   0.00000   1.00000       1           6   \n",
       "1599998   0.14286   0.85714       1          14   \n",
       "1599999   0.08824   0.23529       0          34   \n",
       "\n",
       "                                 sub_domain top_domain  dga  class  \n",
       "0                                    vsviqe        com  yes     19  \n",
       "1               170qknj1onn4c37qf1w71rzei1h        org  yes      6  \n",
       "2                                smartidpro         in   no      0  \n",
       "3                          9mtrkmet8rjnpya4         ru  yes      2  \n",
       "4                                    ypyxhi        com  yes     19  \n",
       "...                                     ...        ...  ...    ...  \n",
       "1599995         10zpd8p1ktb8bg1al07c3rfkuqw        net  yes      6  \n",
       "1599996                         acheemprego        com   no      0  \n",
       "1599997                              dtvvqs        com  yes     19  \n",
       "1599998                      qurtpwncfwhjke         pw  yes      7  \n",
       "1599999  p148e12d7c430db3c04635de27e343c625         ws  yes      5  \n",
       "\n",
       "[1600000 rows x 20 columns]"
      ]
     },
     "execution_count": 260,
     "metadata": {},
     "output_type": "execute_result"
    }
   ],
   "source": [
    "data"
   ]
  },
  {
   "cell_type": "code",
   "execution_count": null,
   "id": "f68cecea-af27-4f5b-9409-017755ae020e",
   "metadata": {},
   "outputs": [],
   "source": []
  },
  {
   "cell_type": "code",
   "execution_count": 261,
   "id": "5664d0de-b0b8-4de7-88fa-383eeeefa3fd",
   "metadata": {},
   "outputs": [
    {
     "data": {
      "image/png": "[encoded data removed]",
      "text/plain": [
       "<Figure size 701.25x216 with 1 Axes>"
      ]
     },
     "metadata": {
      "needs_background": "light"
     },
     "output_type": "display_data"
    }
   ],
   "source": [
    "# 1gram score 그래프\n",
    "facet = sns.FacetGrid(data, hue='dga', aspect=3)\n",
    "facet.map(sns.kdeplot, '1gram_scoring', shade=True)\n",
    "facet.set(xlim=(0, data['1gram_scoring'].max()))\n",
    "facet.add_legend()\n",
    "plt.show()\n",
    "# "
   ]
  },
  {
   "cell_type": "code",
   "execution_count": 262,
   "id": "184c04b8-47c1-4f0e-9d8e-52e034a6d9bf",
   "metadata": {},
   "outputs": [
    {
     "data": {
      "image/png": "[encoded data removed]",
      "text/plain": [
       "<Figure size 701.25x216 with 1 Axes>"
      ]
     },
     "metadata": {
      "needs_background": "light"
     },
     "output_type": "display_data"
    }
   ],
   "source": [
    "# 2gram score 그래프\n",
    "facet = sns.FacetGrid(data, hue='dga', aspect=3)\n",
    "facet.map(sns.kdeplot, '2gram_scoring', shade=True)\n",
    "facet.set(xlim=(0, data['2gram_scoring'].max()))\n",
    "facet.add_legend()\n",
    "plt.show()\n",
    "# "
   ]
  },
  {
   "cell_type": "code",
   "execution_count": 263,
   "id": "948019a1-0a5a-4f3b-9a75-0adde058d175",
   "metadata": {},
   "outputs": [
    {
     "data": {
      "image/png": "[encoded data removed]",
      "text/plain": [
       "<Figure size 701.25x216 with 1 Axes>"
      ]
     },
     "metadata": {
      "needs_background": "light"
     },
     "output_type": "display_data"
    }
   ],
   "source": [
    "# 3gram score 그래프\n",
    "facet = sns.FacetGrid(data, hue='dga', aspect=3)\n",
    "facet.map(sns.kdeplot, '3gram_scoring', shade=True)\n",
    "facet.set(xlim=(0, data['3gram_scoring'].max()))\n",
    "facet.add_legend()\n",
    "plt.show()\n",
    "# "
   ]
  },
  {
   "cell_type": "code",
   "execution_count": 317,
   "id": "2c9653cd-20d2-479d-8ecf-97d831fcc169",
   "metadata": {},
   "outputs": [
    {
     "data": {
      "image/png": "[encoded data removed]",
      "text/plain": [
       "<Figure size 701.25x216 with 1 Axes>"
      ]
     },
     "metadata": {
      "needs_background": "light"
     },
     "output_type": "display_data"
    }
   ],
   "source": [
    "# 4gram score 그래프\n",
    "facet = sns.FacetGrid(data, hue='dga', aspect=3)\n",
    "facet.map(sns.kdeplot, '4gram_scoring', shade=True)\n",
    "facet.set(xlim=(0, 3000))\n",
    "facet.add_legend()\n",
    "plt.show()\n",
    "# "
   ]
  },
  {
   "cell_type": "code",
   "execution_count": 318,
   "id": "687af63d-005c-4ab9-a393-b64505de2812",
   "metadata": {},
   "outputs": [
    {
     "data": {
      "image/png": "[encoded data removed]",
      "text/plain": [
       "<Figure size 701.25x216 with 1 Axes>"
      ]
     },
     "metadata": {
      "needs_background": "light"
     },
     "output_type": "display_data"
    }
   ],
   "source": [
    "# 5gram score 그래프\n",
    "facet = sns.FacetGrid(data, hue='dga', aspect=3)\n",
    "facet.map(sns.kdeplot, '5gram_scoring', shade=True)\n",
    "facet.set(xlim=(0, 100))\n",
    "facet.add_legend()\n",
    "plt.show()\n",
    "# "
   ]
  },
  {
   "cell_type": "code",
   "execution_count": 266,
   "id": "223128ba-0f82-42c0-bc5e-afa0c6c488df",
   "metadata": {},
   "outputs": [],
   "source": [
    "data.drop(columns='ngram_scoring', inplace=True)"
   ]
  },
  {
   "cell_type": "code",
   "execution_count": 289,
   "id": "46e20fa7-8824-41b0-8db6-b98a8dd1e9bd",
   "metadata": {},
   "outputs": [],
   "source": [
    "import pickle\n",
    "import math\n",
    "from collections import Counter"
   ]
  },
  {
   "cell_type": "code",
   "execution_count": null,
   "id": "d3f9f20e-7360-44ea-9977-2301246349b8",
   "metadata": {},
   "outputs": [],
   "source": []
  },
  {
   "cell_type": "code",
   "execution_count": null,
   "id": "26ed758f-a56a-4529-b0bf-b6834c6358c2",
   "metadata": {},
   "outputs": [],
   "source": []
  },
  {
   "cell_type": "code",
   "execution_count": null,
   "id": "48531437-77d4-4a0c-b5b2-de97b08b9b45",
   "metadata": {},
   "outputs": [],
   "source": []
  },
  {
   "cell_type": "markdown",
   "id": "1c2f92d4-6071-404c-8351-dfb5faa679f1",
   "metadata": {},
   "source": [
    "# 3. 엔트로피 찾기"
   ]
  },
  {
   "cell_type": "code",
   "execution_count": 306,
   "id": "54b60857-b340-4a89-b76f-8eea839e4e2a",
   "metadata": {},
   "outputs": [],
   "source": [
    "import pickle\n",
    "import math\n",
    "from collections import Counter"
   ]
  },
  {
   "cell_type": "code",
   "execution_count": 307,
   "id": "a00058a5-34f1-4f79-8a6a-446c0aac9370",
   "metadata": {},
   "outputs": [
    {
     "data": {
      "text/html": [
       "<div>\n",
       "<style scoped>\n",
       "    .dataframe tbody tr th:only-of-type {\n",
       "        vertical-align: middle;\n",
       "    }\n",
       "\n",
       "    .dataframe tbody tr th {\n",
       "        vertical-align: top;\n",
       "    }\n",
       "\n",
       "    .dataframe thead th {\n",
       "        text-align: right;\n",
       "    }\n",
       "</style>\n",
       "<table border=\"1\" class=\"dataframe\">\n",
       "  <thead>\n",
       "    <tr style=\"text-align: right;\">\n",
       "      <th></th>\n",
       "      <th>domain</th>\n",
       "      <th>5gram_scoring</th>\n",
       "      <th>4gram_scoring</th>\n",
       "      <th>3gram_scoring</th>\n",
       "      <th>2gram_scoring</th>\n",
       "      <th>1gram_scoring</th>\n",
       "      <th>dist_num</th>\n",
       "      <th>rate_vow</th>\n",
       "      <th>rate_con</th>\n",
       "      <th>is_con</th>\n",
       "      <th>sub_length</th>\n",
       "      <th>sub_domain</th>\n",
       "      <th>top_domain</th>\n",
       "      <th>dga</th>\n",
       "      <th>class</th>\n",
       "    </tr>\n",
       "  </thead>\n",
       "  <tbody>\n",
       "    <tr>\n",
       "      <th>0</th>\n",
       "      <td>vsviqe.com</td>\n",
       "      <td>0</td>\n",
       "      <td>5</td>\n",
       "      <td>524</td>\n",
       "      <td>27422</td>\n",
       "      <td>1718243</td>\n",
       "      <td>0</td>\n",
       "      <td>0.33333</td>\n",
       "      <td>0.66667</td>\n",
       "      <td>1</td>\n",
       "      <td>6</td>\n",
       "      <td>vsviqe</td>\n",
       "      <td>com</td>\n",
       "      <td>yes</td>\n",
       "      <td>19</td>\n",
       "    </tr>\n",
       "    <tr>\n",
       "      <th>1</th>\n",
       "      <td>170qknj1onn4c37qf1w71rzei1h.org</td>\n",
       "      <td>0</td>\n",
       "      <td>27</td>\n",
       "      <td>2305</td>\n",
       "      <td>96325</td>\n",
       "      <td>4118443</td>\n",
       "      <td>7</td>\n",
       "      <td>0.11111</td>\n",
       "      <td>0.48148</td>\n",
       "      <td>1</td>\n",
       "      <td>27</td>\n",
       "      <td>170qknj1onn4c37qf1w71rzei1h</td>\n",
       "      <td>org</td>\n",
       "      <td>yes</td>\n",
       "      <td>6</td>\n",
       "    </tr>\n",
       "    <tr>\n",
       "      <th>2</th>\n",
       "      <td>smartidpro.in</td>\n",
       "      <td>1582</td>\n",
       "      <td>4843</td>\n",
       "      <td>37628</td>\n",
       "      <td>293314</td>\n",
       "      <td>3874591</td>\n",
       "      <td>0</td>\n",
       "      <td>0.30000</td>\n",
       "      <td>0.70000</td>\n",
       "      <td>1</td>\n",
       "      <td>10</td>\n",
       "      <td>smartidpro</td>\n",
       "      <td>in</td>\n",
       "      <td>no</td>\n",
       "      <td>0</td>\n",
       "    </tr>\n",
       "    <tr>\n",
       "      <th>3</th>\n",
       "      <td>9mtrkmet8rjnpya4.ru</td>\n",
       "      <td>2</td>\n",
       "      <td>76</td>\n",
       "      <td>3873</td>\n",
       "      <td>133947</td>\n",
       "      <td>4221948</td>\n",
       "      <td>3</td>\n",
       "      <td>0.12500</td>\n",
       "      <td>0.68750</td>\n",
       "      <td>2</td>\n",
       "      <td>16</td>\n",
       "      <td>9mtrkmet8rjnpya4</td>\n",
       "      <td>ru</td>\n",
       "      <td>yes</td>\n",
       "      <td>2</td>\n",
       "    </tr>\n",
       "    <tr>\n",
       "      <th>4</th>\n",
       "      <td>ypyxhi.com</td>\n",
       "      <td>0</td>\n",
       "      <td>0</td>\n",
       "      <td>71</td>\n",
       "      <td>25596</td>\n",
       "      <td>1066583</td>\n",
       "      <td>0</td>\n",
       "      <td>0.16667</td>\n",
       "      <td>0.83333</td>\n",
       "      <td>1</td>\n",
       "      <td>6</td>\n",
       "      <td>ypyxhi</td>\n",
       "      <td>com</td>\n",
       "      <td>yes</td>\n",
       "      <td>19</td>\n",
       "    </tr>\n",
       "    <tr>\n",
       "      <th>...</th>\n",
       "      <td>...</td>\n",
       "      <td>...</td>\n",
       "      <td>...</td>\n",
       "      <td>...</td>\n",
       "      <td>...</td>\n",
       "      <td>...</td>\n",
       "      <td>...</td>\n",
       "      <td>...</td>\n",
       "      <td>...</td>\n",
       "      <td>...</td>\n",
       "      <td>...</td>\n",
       "      <td>...</td>\n",
       "      <td>...</td>\n",
       "      <td>...</td>\n",
       "      <td>...</td>\n",
       "    </tr>\n",
       "    <tr>\n",
       "      <th>1599995</th>\n",
       "      <td>10zpd8p1ktb8bg1al07c3rfkuqw.net</td>\n",
       "      <td>0</td>\n",
       "      <td>1</td>\n",
       "      <td>103</td>\n",
       "      <td>82379</td>\n",
       "      <td>3787578</td>\n",
       "      <td>7</td>\n",
       "      <td>0.07407</td>\n",
       "      <td>0.59259</td>\n",
       "      <td>3</td>\n",
       "      <td>27</td>\n",
       "      <td>10zpd8p1ktb8bg1al07c3rfkuqw</td>\n",
       "      <td>net</td>\n",
       "      <td>yes</td>\n",
       "      <td>6</td>\n",
       "    </tr>\n",
       "    <tr>\n",
       "      <th>1599996</th>\n",
       "      <td>acheemprego.com</td>\n",
       "      <td>405</td>\n",
       "      <td>2047</td>\n",
       "      <td>24701</td>\n",
       "      <td>270685</td>\n",
       "      <td>4416141</td>\n",
       "      <td>0</td>\n",
       "      <td>0.45455</td>\n",
       "      <td>0.54545</td>\n",
       "      <td>1</td>\n",
       "      <td>11</td>\n",
       "      <td>acheemprego</td>\n",
       "      <td>com</td>\n",
       "      <td>no</td>\n",
       "      <td>0</td>\n",
       "    </tr>\n",
       "    <tr>\n",
       "      <th>1599997</th>\n",
       "      <td>dtvvqs.com</td>\n",
       "      <td>0</td>\n",
       "      <td>1</td>\n",
       "      <td>98</td>\n",
       "      <td>7209</td>\n",
       "      <td>1226828</td>\n",
       "      <td>0</td>\n",
       "      <td>0.00000</td>\n",
       "      <td>1.00000</td>\n",
       "      <td>1</td>\n",
       "      <td>6</td>\n",
       "      <td>dtvvqs</td>\n",
       "      <td>com</td>\n",
       "      <td>yes</td>\n",
       "      <td>19</td>\n",
       "    </tr>\n",
       "    <tr>\n",
       "      <th>1599998</th>\n",
       "      <td>qurtpwncfwhjke.pw</td>\n",
       "      <td>0</td>\n",
       "      <td>5</td>\n",
       "      <td>1372</td>\n",
       "      <td>107968</td>\n",
       "      <td>3103160</td>\n",
       "      <td>0</td>\n",
       "      <td>0.14286</td>\n",
       "      <td>0.85714</td>\n",
       "      <td>1</td>\n",
       "      <td>14</td>\n",
       "      <td>qurtpwncfwhjke</td>\n",
       "      <td>pw</td>\n",
       "      <td>yes</td>\n",
       "      <td>7</td>\n",
       "    </tr>\n",
       "    <tr>\n",
       "      <th>1599999</th>\n",
       "      <td>p148e12d7c430db3c04635de27e343c625.ws</td>\n",
       "      <td>0</td>\n",
       "      <td>2</td>\n",
       "      <td>197</td>\n",
       "      <td>50399</td>\n",
       "      <td>3844471</td>\n",
       "      <td>9</td>\n",
       "      <td>0.08824</td>\n",
       "      <td>0.23529</td>\n",
       "      <td>0</td>\n",
       "      <td>34</td>\n",
       "      <td>p148e12d7c430db3c04635de27e343c625</td>\n",
       "      <td>ws</td>\n",
       "      <td>yes</td>\n",
       "      <td>5</td>\n",
       "    </tr>\n",
       "  </tbody>\n",
       "</table>\n",
       "<p>1600000 rows × 15 columns</p>\n",
       "</div>"
      ],
      "text/plain": [
       "                                        domain  5gram_scoring  4gram_scoring  \\\n",
       "0                                   vsviqe.com              0              5   \n",
       "1              170qknj1onn4c37qf1w71rzei1h.org              0             27   \n",
       "2                                smartidpro.in           1582           4843   \n",
       "3                          9mtrkmet8rjnpya4.ru              2             76   \n",
       "4                                   ypyxhi.com              0              0   \n",
       "...                                        ...            ...            ...   \n",
       "1599995        10zpd8p1ktb8bg1al07c3rfkuqw.net              0              1   \n",
       "1599996                        acheemprego.com            405           2047   \n",
       "1599997                             dtvvqs.com              0              1   \n",
       "1599998                      qurtpwncfwhjke.pw              0              5   \n",
       "1599999  p148e12d7c430db3c04635de27e343c625.ws              0              2   \n",
       "\n",
       "         3gram_scoring  2gram_scoring  1gram_scoring  dist_num  rate_vow  \\\n",
       "0                  524          27422        1718243         0   0.33333   \n",
       "1                 2305          96325        4118443         7   0.11111   \n",
       "2                37628         293314        3874591         0   0.30000   \n",
       "3                 3873         133947        4221948         3   0.12500   \n",
       "4                   71          25596        1066583         0   0.16667   \n",
       "...                ...            ...            ...       ...       ...   \n",
       "1599995            103          82379        3787578         7   0.07407   \n",
       "1599996          24701         270685        4416141         0   0.45455   \n",
       "1599997             98           7209        1226828         0   0.00000   \n",
       "1599998           1372         107968        3103160         0   0.14286   \n",
       "1599999            197          50399        3844471         9   0.08824   \n",
       "\n",
       "         rate_con  is_con  sub_length                          sub_domain  \\\n",
       "0         0.66667       1           6                              vsviqe   \n",
       "1         0.48148       1          27         170qknj1onn4c37qf1w71rzei1h   \n",
       "2         0.70000       1          10                          smartidpro   \n",
       "3         0.68750       2          16                    9mtrkmet8rjnpya4   \n",
       "4         0.83333       1           6                              ypyxhi   \n",
       "...           ...     ...         ...                                 ...   \n",
       "1599995   0.59259       3          27         10zpd8p1ktb8bg1al07c3rfkuqw   \n",
       "1599996   0.54545       1          11                         acheemprego   \n",
       "1599997   1.00000       1           6                              dtvvqs   \n",
       "1599998   0.85714       1          14                      qurtpwncfwhjke   \n",
       "1599999   0.23529       0          34  p148e12d7c430db3c04635de27e343c625   \n",
       "\n",
       "        top_domain  dga  class  \n",
       "0              com  yes     19  \n",
       "1              org  yes      6  \n",
       "2               in   no      0  \n",
       "3               ru  yes      2  \n",
       "4              com  yes     19  \n",
       "...            ...  ...    ...  \n",
       "1599995        net  yes      6  \n",
       "1599996        com   no      0  \n",
       "1599997        com  yes     19  \n",
       "1599998         pw  yes      7  \n",
       "1599999         ws  yes      5  \n",
       "\n",
       "[1600000 rows x 15 columns]"
      ]
     },
     "execution_count": 307,
     "metadata": {},
     "output_type": "execute_result"
    }
   ],
   "source": [
    "data"
   ]
  },
  {
   "cell_type": "code",
   "execution_count": null,
   "id": "524c7fc5-0b09-4c41-baf3-db3ab38be064",
   "metadata": {},
   "outputs": [],
   "source": []
  },
  {
   "cell_type": "raw",
   "id": "07d00d03-1ec4-455c-bc06-3f30cf3bfd21",
   "metadata": {},
   "source": [
    "(1gram 에서 문자가 등장할확률을 구함!!)"
   ]
  },
  {
   "cell_type": "code",
   "execution_count": 308,
   "id": "5a2afc6d-d836-43fe-949d-51a838b89410",
   "metadata": {
    "tags": []
   },
   "outputs": [
    {
     "data": {
      "text/plain": [
       "{'s': 0.0664106,\n",
       " 'm': 0.0339727,\n",
       " 'a': 0.0941392,\n",
       " 'r': 0.068062,\n",
       " 't': 0.0620632,\n",
       " 'i': 0.072243,\n",
       " 'd': 0.0326817,\n",
       " 'p': 0.0292023,\n",
       " 'o': 0.0724418,\n",
       " 'e': 0.0985085,\n",
       " 'x': 0.0054499,\n",
       " 'n': 0.0615548,\n",
       " '-': 0.0110899,\n",
       " 'l': 0.0487052,\n",
       " 'h': 0.0256469,\n",
       " 'c': 0.040488,\n",
       " 'u': 0.0310035,\n",
       " 'k': 0.0174807,\n",
       " 'g': 0.0235613,\n",
       " '6': 0.0006714,\n",
       " '4': 0.0012927,\n",
       " 'w': 0.011585,\n",
       " 'f': 0.0159428,\n",
       " 'v': 0.0133572,\n",
       " 'y': 0.0162125,\n",
       " 'j': 0.0049574,\n",
       " 'b': 0.0223268,\n",
       " '.': 0.0020225,\n",
       " '2': 0.0018645,\n",
       " 'z': 0.005878,\n",
       " 'q': 0.0018822,\n",
       " '7': 0.0006504,\n",
       " '1': 0.0019057,\n",
       " '9': 0.0007116,\n",
       " '3': 0.0011747,\n",
       " '5': 0.0007226,\n",
       " '0': 0.0013851,\n",
       " '8': 0.0007483,\n",
       " '_': 3.2e-06}"
      ]
     },
     "execution_count": 308,
     "metadata": {},
     "output_type": "execute_result"
    }
   ],
   "source": [
    "gram1"
   ]
  },
  {
   "cell_type": "code",
   "execution_count": 309,
   "id": "eb03149c-5894-491f-a9a1-b2af816c03b5",
   "metadata": {},
   "outputs": [],
   "source": [
    "total_prob = sum(gram1.values()) # 총빈도수를 구해서 각 문자의 빈도수를 구해줄 것임"
   ]
  },
  {
   "cell_type": "code",
   "execution_count": 310,
   "id": "43afe866-9d7a-46c4-bf8c-280bffc838a6",
   "metadata": {},
   "outputs": [],
   "source": [
    "for key, value in gram1.items() :\n",
    "    gram1[key] = round(value/total_prob, 7) #특정 문자가 등장할 확률!"
   ]
  },
  {
   "cell_type": "code",
   "execution_count": 311,
   "id": "6d67346a-fb15-447f-adba-e5d2885e6788",
   "metadata": {
    "tags": []
   },
   "outputs": [
    {
     "data": {
      "text/plain": [
       "{'s': 0.0664106,\n",
       " 'm': 0.0339727,\n",
       " 'a': 0.0941392,\n",
       " 'r': 0.068062,\n",
       " 't': 0.0620632,\n",
       " 'i': 0.072243,\n",
       " 'd': 0.0326817,\n",
       " 'p': 0.0292023,\n",
       " 'o': 0.0724418,\n",
       " 'e': 0.0985085,\n",
       " 'x': 0.0054499,\n",
       " 'n': 0.0615548,\n",
       " '-': 0.0110899,\n",
       " 'l': 0.0487052,\n",
       " 'h': 0.0256469,\n",
       " 'c': 0.040488,\n",
       " 'u': 0.0310035,\n",
       " 'k': 0.0174807,\n",
       " 'g': 0.0235613,\n",
       " '6': 0.0006714,\n",
       " '4': 0.0012927,\n",
       " 'w': 0.011585,\n",
       " 'f': 0.0159428,\n",
       " 'v': 0.0133572,\n",
       " 'y': 0.0162125,\n",
       " 'j': 0.0049574,\n",
       " 'b': 0.0223268,\n",
       " '.': 0.0020225,\n",
       " '2': 0.0018645,\n",
       " 'z': 0.005878,\n",
       " 'q': 0.0018822,\n",
       " '7': 0.0006504,\n",
       " '1': 0.0019057,\n",
       " '9': 0.0007116,\n",
       " '3': 0.0011747,\n",
       " '5': 0.0007226,\n",
       " '0': 0.0013851,\n",
       " '8': 0.0007483,\n",
       " '_': 3.2e-06}"
      ]
     },
     "execution_count": 311,
     "metadata": {},
     "output_type": "execute_result"
    }
   ],
   "source": [
    "gram1"
   ]
  },
  {
   "cell_type": "code",
   "execution_count": 312,
   "id": "cbcd26cc-00dd-4eb2-920d-078b9c795158",
   "metadata": {},
   "outputs": [],
   "source": [
    "with open('probability.pkl', 'wb') as f:\n",
    "    pickle.dump(gram1, f, pickle.HIGHEST_PROTOCOL)\n",
    "f.close()"
   ]
  },
  {
   "cell_type": "code",
   "execution_count": 319,
   "id": "f3bb6263-7ea7-4b58-a873-b7cfaae6a36f",
   "metadata": {},
   "outputs": [],
   "source": [
    "with open('probability.pkl','rb') as f:\n",
    "    prob = pickle.load(f)\n",
    "f.close()"
   ]
  },
  {
   "cell_type": "code",
   "execution_count": 320,
   "id": "5f3c8580-c474-47fb-baff-7749f243528d",
   "metadata": {},
   "outputs": [
    {
     "data": {
      "text/plain": [
       "Counter({'g': 2, 'o': 2, 'l': 1, 'e': 1})"
      ]
     },
     "execution_count": 320,
     "metadata": {},
     "output_type": "execute_result"
    }
   ],
   "source": [
    "Counter('google')"
   ]
  },
  {
   "cell_type": "code",
   "execution_count": 321,
   "id": "ce577124-bfac-480c-bc7a-2e1d0ad28e6c",
   "metadata": {},
   "outputs": [],
   "source": [
    "def relative_entropy(domain) : #엔트로피를 구하는 함수를 정의\n",
    "    entropy = 0 #변수를 0으로선언해서 초기화 해줌\n",
    "    \n",
    "    sub = sub_domain(domain)\n",
    "    length = len(sub)\n",
    "    cnt = Counter(sub)\n",
    "    for key, value in cnt.items() :\n",
    "        obs = value / length\n",
    "        exp = prob[key]\n",
    "        entropy += obs * math.log((obs/exp),2)\n",
    "    return entropy"
   ]
  },
  {
   "cell_type": "code",
   "execution_count": 322,
   "id": "f9dab6ff-def9-4cb6-9109-ba451a77730d",
   "metadata": {},
   "outputs": [],
   "source": [
    "normal = 'google.com'\n",
    "unnormal = '170qknj1onn4c37qf1w71rzei1h.org'"
   ]
  },
  {
   "cell_type": "code",
   "execution_count": 323,
   "id": "99ee6d80-747e-4c33-91c8-5cdd486a477c",
   "metadata": {},
   "outputs": [
    {
     "data": {
      "text/plain": [
       "2.4304258393305194"
      ]
     },
     "execution_count": 323,
     "metadata": {},
     "output_type": "execute_result"
    }
   ],
   "source": [
    "relative_entropy(normal)"
   ]
  },
  {
   "cell_type": "code",
   "execution_count": 325,
   "id": "52a985cd-7a82-4c80-abe2-0f3196aca473",
   "metadata": {},
   "outputs": [
    {
     "data": {
      "text/plain": [
       "3.28476566831208"
      ]
     },
     "execution_count": 325,
     "metadata": {},
     "output_type": "execute_result"
    }
   ],
   "source": [
    "relative_entropy(unnormal)"
   ]
  },
  {
   "cell_type": "raw",
   "id": "bb776252-96a3-45a3-9e15-7de4eee3dcdc",
   "metadata": {},
   "source": [
    "entropy 수치가 낮다는 것이 정상, 높으면 비정상"
   ]
  },
  {
   "cell_type": "code",
   "execution_count": 326,
   "id": "0bff3c7f-526c-4a16-831d-2ec49bdf116c",
   "metadata": {},
   "outputs": [],
   "source": [
    "a='math-shortcut-tricks.com'"
   ]
  },
  {
   "cell_type": "code",
   "execution_count": 327,
   "id": "de494c07-a370-4266-9f88-b8eaa798ba64",
   "metadata": {},
   "outputs": [
    {
     "data": {
      "text/plain": [
       "1.135449364984622"
      ]
     },
     "execution_count": 327,
     "metadata": {},
     "output_type": "execute_result"
    }
   ],
   "source": [
    "relative_entropy(a)"
   ]
  },
  {
   "cell_type": "code",
   "execution_count": null,
   "id": "2c6ee5c7-4390-498f-94dd-b510cbfa1cc4",
   "metadata": {},
   "outputs": [],
   "source": []
  }
 ],
 "metadata": {
  "kernelspec": {
   "display_name": "Python 3 (ipykernel)",
   "language": "python",
   "name": "python3"
  },
  "language_info": {
   "codemirror_mode": {
    "name": "ipython",
    "version": 3
   },
   "file_extension": ".py",
   "mimetype": "text/x-python",
   "name": "python",
   "nbconvert_exporter": "python",
   "pygments_lexer": "ipython3",
   "version": "3.9.12"
  }
 },
 "nbformat": 4,
 "nbformat_minor": 5
}
