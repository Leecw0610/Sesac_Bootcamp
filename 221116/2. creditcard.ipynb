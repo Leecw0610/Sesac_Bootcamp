{
 "cells": [
  {
   "cell_type": "code",
   "execution_count": 1,
   "id": "6502b68f-b701-489f-88f3-6964aaddf0ce",
   "metadata": {},
   "outputs": [],
   "source": [
    "import pandas as pd"
   ]
  },
  {
   "cell_type": "code",
   "execution_count": 2,
   "id": "0f9c62e5-e820-4363-97fb-9609c806aa3a",
   "metadata": {},
   "outputs": [],
   "source": [
    "card = pd.read_csv('creditcard.csv')"
   ]
  },
  {
   "cell_type": "code",
   "execution_count": null,
   "id": "f99e8183-9dc6-4eb2-ba4e-547f5ce8f746",
   "metadata": {},
   "outputs": [],
   "source": [
    "card['Class'].value_counts() #0은 정상, 1은 이상 거래 데이터"
   ]
  },
  {
   "cell_type": "code",
   "execution_count": null,
   "id": "0718af2c-7951-4897-94eb-5c64c849c14c",
   "metadata": {},
   "outputs": [],
   "source": [
    "card.head()"
   ]
  },
  {
   "cell_type": "code",
   "execution_count": null,
   "id": "5fd2f79e-7c67-42e1-abb9-695b453a84e7",
   "metadata": {},
   "outputs": [],
   "source": [
    "card.describe()"
   ]
  },
  {
   "cell_type": "code",
   "execution_count": 3,
   "id": "e6746ee8-e57e-4ce5-a336-04043d7c5d11",
   "metadata": {},
   "outputs": [],
   "source": [
    "from sklearn.tree import DecisionTreeClassifier #1\n",
    "import seaborn as sns\n",
    "import matplotlib.pyplot as plt\n",
    "from sklearn.model_selection import train_test_split\n",
    "import numpy as np"
   ]
  },
  {
   "cell_type": "code",
   "execution_count": null,
   "id": "88f90a1f-db11-423e-ae77-1d3decfc5b75",
   "metadata": {
    "tags": []
   },
   "outputs": [],
   "source": [
    "card.isnull().sum()"
   ]
  },
  {
   "cell_type": "code",
   "execution_count": null,
   "id": "315a8894-956b-486e-88b5-b68ffc0f1e1d",
   "metadata": {
    "tags": []
   },
   "outputs": [],
   "source": [
    "card.info()"
   ]
  },
  {
   "cell_type": "code",
   "execution_count": null,
   "id": "05f3c890-be6d-4708-9f94-8ebc85cb07fe",
   "metadata": {},
   "outputs": [],
   "source": [
    "card=card.drop_duplicates() #중복값들 제거"
   ]
  },
  {
   "cell_type": "code",
   "execution_count": 4,
   "id": "ee5c3d47-6f91-4bca-aa8a-fad181cfb889",
   "metadata": {},
   "outputs": [],
   "source": [
    "from sklearn.metrics import f1_score\n",
    "from sklearn.preprocessing import LabelBinarizer #속성값을 수치화 해주는~\n",
    "from sklearn.metrics import classification_report \n",
    "from sklearn.linear_model import LogisticRegression #2\n",
    "from sklearn.linear_model import LogisticRegressionCV #3\n",
    "from sklearn.svm import SVC #4\n",
    "import warnings\n",
    "warnings.filterwarnings('ignore')"
   ]
  },
  {
   "cell_type": "code",
   "execution_count": 5,
   "id": "a42eeaff-9e63-42d1-a71d-a81b2b5da2bc",
   "metadata": {},
   "outputs": [],
   "source": [
    "x = card.drop(['Class'], axis=1)"
   ]
  },
  {
   "cell_type": "code",
   "execution_count": 6,
   "id": "956cddd6-1f61-4e2e-98be-85f31e34bd0c",
   "metadata": {},
   "outputs": [],
   "source": [
    "y = card['Class']"
   ]
  },
  {
   "cell_type": "code",
   "execution_count": 7,
   "id": "9a5e9533-fb16-4a53-9fe6-bc4c5140a327",
   "metadata": {},
   "outputs": [],
   "source": [
    "x_train, x_test, y_train, y_test = train_test_split(x,y,test_size=0.2, random_state=1234, stratify=y)"
   ]
  },
  {
   "cell_type": "code",
   "execution_count": 8,
   "id": "aa0a7634-b3c9-48f2-9643-d5e3240bae5c",
   "metadata": {
    "tags": []
   },
   "outputs": [],
   "source": [
    "model1 = DecisionTreeClassifier() #1"
   ]
  },
  {
   "cell_type": "code",
   "execution_count": 9,
   "id": "ce9b9861-60aa-4895-9d8e-10f92420bb13",
   "metadata": {},
   "outputs": [
    {
     "data": {
      "text/plain": [
       "DecisionTreeClassifier()"
      ]
     },
     "execution_count": 9,
     "metadata": {},
     "output_type": "execute_result"
    }
   ],
   "source": [
    "model1.fit(x_train, y_train)"
   ]
  },
  {
   "cell_type": "code",
   "execution_count": 10,
   "id": "d7ca4d41-6915-4789-83bd-28d6abcb44c4",
   "metadata": {},
   "outputs": [
    {
     "data": {
      "text/plain": [
       "1.0"
      ]
     },
     "execution_count": 10,
     "metadata": {},
     "output_type": "execute_result"
    }
   ],
   "source": [
    "model1.score(x_train, y_train)"
   ]
  },
  {
   "cell_type": "code",
   "execution_count": 11,
   "id": "a8907c28-c08c-4409-8f8d-3f996fc9e7d7",
   "metadata": {},
   "outputs": [
    {
     "data": {
      "text/plain": [
       "0.9993504441557529"
      ]
     },
     "execution_count": 11,
     "metadata": {},
     "output_type": "execute_result"
    }
   ],
   "source": [
    "model1.score (x_test, y_test)"
   ]
  },
  {
   "cell_type": "code",
   "execution_count": null,
   "id": "90ac808b-49f6-4ac5-a5a8-9059479dae5f",
   "metadata": {},
   "outputs": [],
   "source": []
  },
  {
   "cell_type": "code",
   "execution_count": 12,
   "id": "50c3a911-c2e2-404f-ba60-47a25cd402e2",
   "metadata": {},
   "outputs": [],
   "source": [
    "pred1 = model1.predict(x_test)"
   ]
  },
  {
   "cell_type": "code",
   "execution_count": 13,
   "id": "5cf512ce-6280-4223-bcbd-15961c42ae80",
   "metadata": {},
   "outputs": [],
   "source": [
    "binarizer = LabelBinarizer()"
   ]
  },
  {
   "cell_type": "code",
   "execution_count": 14,
   "id": "d08e2344-2b2a-4086-b0d4-116a3b375e2a",
   "metadata": {},
   "outputs": [
    {
     "data": {
      "text/plain": [
       "LabelBinarizer()"
      ]
     },
     "execution_count": 14,
     "metadata": {},
     "output_type": "execute_result"
    }
   ],
   "source": [
    "binarizer.fit(y_test)"
   ]
  },
  {
   "cell_type": "code",
   "execution_count": 15,
   "id": "32c7e0a2-351f-4776-84bf-5c3f12c72459",
   "metadata": {},
   "outputs": [
    {
     "data": {
      "text/plain": [
       "0.8082901554404144"
      ]
     },
     "execution_count": 15,
     "metadata": {},
     "output_type": "execute_result"
    }
   ],
   "source": [
    "f1_score(binarizer.transform(pred1), binarizer.transform(y_test))"
   ]
  },
  {
   "cell_type": "code",
   "execution_count": 16,
   "id": "73172b78-110f-47ce-8750-ee58a0ae55e0",
   "metadata": {},
   "outputs": [
    {
     "data": {
      "text/plain": [
       "0.8082901554404144"
      ]
     },
     "execution_count": 16,
     "metadata": {},
     "output_type": "execute_result"
    }
   ],
   "source": [
    "f1_score(pred1, y_test)"
   ]
  },
  {
   "cell_type": "code",
   "execution_count": null,
   "id": "823b661a-4e2c-423c-8eec-3f1773338d74",
   "metadata": {},
   "outputs": [],
   "source": []
  },
  {
   "cell_type": "code",
   "execution_count": null,
   "id": "714e979e-7970-47b5-b309-7d8d4bdc7acf",
   "metadata": {
    "tags": []
   },
   "outputs": [],
   "source": [
    "model2 = LogisticRegression() #2"
   ]
  },
  {
   "cell_type": "code",
   "execution_count": null,
   "id": "4f490b94-12ae-4f06-b21b-074755baf5a3",
   "metadata": {},
   "outputs": [],
   "source": [
    "model2.fit(x_train, y_train)"
   ]
  },
  {
   "cell_type": "code",
   "execution_count": null,
   "id": "c5c763fd-d441-4d18-b97b-bed17054fab7",
   "metadata": {},
   "outputs": [],
   "source": [
    "model2.score(x_train, y_train)"
   ]
  },
  {
   "cell_type": "code",
   "execution_count": null,
   "id": "4f3553f9-543e-42ca-86e1-29656da6ab6a",
   "metadata": {},
   "outputs": [],
   "source": [
    "model2.score (x_test, y_test)"
   ]
  },
  {
   "cell_type": "code",
   "execution_count": null,
   "id": "2f5c6efa-2a20-427b-8bd1-af44ff9d35dd",
   "metadata": {},
   "outputs": [],
   "source": [
    "pred2 = model2.predict(x_test)"
   ]
  },
  {
   "cell_type": "code",
   "execution_count": null,
   "id": "426a913e-a341-493a-94a6-05f3aca3cc7b",
   "metadata": {},
   "outputs": [],
   "source": [
    "binarizer = LabelBinarizer()"
   ]
  },
  {
   "cell_type": "code",
   "execution_count": null,
   "id": "502e3b33-eef4-4245-985c-5a159c85d92d",
   "metadata": {},
   "outputs": [],
   "source": [
    "binarizer.fit(y_test)"
   ]
  },
  {
   "cell_type": "code",
   "execution_count": null,
   "id": "c1d35713-77d1-4dc5-b778-2cc243741efe",
   "metadata": {},
   "outputs": [],
   "source": [
    "f1_score(binarizer.transform(pred2), binarizer.transform(y_test))"
   ]
  },
  {
   "cell_type": "code",
   "execution_count": null,
   "id": "8154cfed-3d80-4e5f-be2e-97cf02d53a08",
   "metadata": {},
   "outputs": [],
   "source": [
    "f1_score(pred2, y_test)"
   ]
  },
  {
   "cell_type": "code",
   "execution_count": null,
   "id": "2b033a4f-cb21-4828-985f-5c6a473f1904",
   "metadata": {},
   "outputs": [],
   "source": []
  },
  {
   "cell_type": "code",
   "execution_count": null,
   "id": "9df3411d-1514-4497-af4a-b00b876f9b49",
   "metadata": {},
   "outputs": [],
   "source": []
  },
  {
   "cell_type": "code",
   "execution_count": null,
   "id": "ee9e51f4-4451-4729-9ad9-c23591a3c988",
   "metadata": {
    "tags": []
   },
   "outputs": [],
   "source": [
    "model3 = LogisticRegressionCV() #3"
   ]
  },
  {
   "cell_type": "code",
   "execution_count": null,
   "id": "254dbf38-b1f7-459c-9a51-7fb23e0374e6",
   "metadata": {},
   "outputs": [],
   "source": [
    "model3.fit(x_train, y_train)"
   ]
  },
  {
   "cell_type": "code",
   "execution_count": null,
   "id": "d58ae820-158a-4110-bbd4-5a1a4f9f15c4",
   "metadata": {},
   "outputs": [],
   "source": [
    "model3.score(x_train, y_train)"
   ]
  },
  {
   "cell_type": "code",
   "execution_count": null,
   "id": "96072d5e-6b8e-4798-92c1-be2feb16a1a4",
   "metadata": {},
   "outputs": [],
   "source": [
    "model3.score(x_test, y_test)"
   ]
  },
  {
   "cell_type": "code",
   "execution_count": null,
   "id": "541adcf9-d9be-418d-9d14-ed43b030954a",
   "metadata": {},
   "outputs": [],
   "source": []
  },
  {
   "cell_type": "code",
   "execution_count": null,
   "id": "fd739bc9-b276-43a0-9ba6-fce82974bc22",
   "metadata": {},
   "outputs": [],
   "source": [
    "pred3 = model3.predict(x_test)"
   ]
  },
  {
   "cell_type": "code",
   "execution_count": null,
   "id": "956d8129-bc22-42bc-9bf6-e370f28d809b",
   "metadata": {},
   "outputs": [],
   "source": [
    "binarizer = LabelBinarizer()"
   ]
  },
  {
   "cell_type": "code",
   "execution_count": null,
   "id": "f5aa242a-813d-48ea-bd9b-061cd1ded742",
   "metadata": {},
   "outputs": [],
   "source": [
    "binarizer.fit(y_test)"
   ]
  },
  {
   "cell_type": "code",
   "execution_count": null,
   "id": "b8648732-c233-45a0-829e-fdc2a66ced22",
   "metadata": {},
   "outputs": [],
   "source": [
    "f1_score(binarizer.transform(pred3), binarizer.transform(y_test))"
   ]
  },
  {
   "cell_type": "code",
   "execution_count": null,
   "id": "333ff36a-85fa-465a-b3ea-0de3108c89f4",
   "metadata": {},
   "outputs": [],
   "source": [
    "f1_score(pred3, y_test)"
   ]
  },
  {
   "cell_type": "code",
   "execution_count": null,
   "id": "4f08e2f1-c279-44a6-b7e2-94f665f58115",
   "metadata": {
    "tags": []
   },
   "outputs": [],
   "source": []
  },
  {
   "cell_type": "code",
   "execution_count": null,
   "id": "4ef77f27-fe86-4f57-b415-568f104c10ff",
   "metadata": {
    "tags": []
   },
   "outputs": [],
   "source": [
    "model4 = SVC() #4"
   ]
  },
  {
   "cell_type": "code",
   "execution_count": null,
   "id": "ae598bd3-59a7-492f-ab06-24cb4980f70b",
   "metadata": {},
   "outputs": [],
   "source": [
    "model4.fit(x_train, y_train)"
   ]
  },
  {
   "cell_type": "code",
   "execution_count": null,
   "id": "6aa6c4a2-0167-4abb-87d6-2fec575bfdea",
   "metadata": {},
   "outputs": [],
   "source": [
    "model4.score(x_train, y_train)"
   ]
  },
  {
   "cell_type": "code",
   "execution_count": null,
   "id": "2576d8be-89c6-4398-a07c-1cc20d0645cc",
   "metadata": {},
   "outputs": [],
   "source": [
    "model4.score (x_test, y_test)"
   ]
  },
  {
   "cell_type": "code",
   "execution_count": null,
   "id": "14200d1e-e0df-4bcc-81b6-a78897a71f70",
   "metadata": {},
   "outputs": [],
   "source": []
  },
  {
   "cell_type": "code",
   "execution_count": null,
   "id": "8cbac9a5-3bce-43c1-a2fe-a3bd45841ada",
   "metadata": {},
   "outputs": [],
   "source": [
    "pred4 = model4.predict(x_test)"
   ]
  },
  {
   "cell_type": "code",
   "execution_count": null,
   "id": "7c52613e-da3d-4bca-bfe5-456e05263a42",
   "metadata": {},
   "outputs": [],
   "source": [
    "binarizer = LabelBinarizer()"
   ]
  },
  {
   "cell_type": "code",
   "execution_count": null,
   "id": "20a67d0a-d666-4d86-949f-9d35e429cb9e",
   "metadata": {},
   "outputs": [],
   "source": [
    "binarizer.fit(y_test)"
   ]
  },
  {
   "cell_type": "code",
   "execution_count": null,
   "id": "520f3cd8-606d-4f5b-bb19-946c22de17d9",
   "metadata": {},
   "outputs": [],
   "source": [
    "f1_score(binarizer.transform(pred4), binarizer.transform(y_test))"
   ]
  },
  {
   "cell_type": "code",
   "execution_count": null,
   "id": "4e4a7618-73de-43c0-9891-a6bad97bc50c",
   "metadata": {},
   "outputs": [],
   "source": [
    "f1_score(pred4, y_test)"
   ]
  },
  {
   "cell_type": "code",
   "execution_count": null,
   "id": "3d8bb35d-c841-43b1-bba3-95a1a79b8c30",
   "metadata": {},
   "outputs": [],
   "source": []
  },
  {
   "cell_type": "code",
   "execution_count": null,
   "id": "d0ae3620-9427-4eda-abdc-78ca74f53944",
   "metadata": {},
   "outputs": [],
   "source": []
  },
  {
   "cell_type": "code",
   "execution_count": null,
   "id": "7c06103f-3045-4422-b4df-45a4f0b1bf6d",
   "metadata": {},
   "outputs": [],
   "source": []
  },
  {
   "cell_type": "markdown",
   "id": "bd9c877a-36d4-44fc-b929-c9732229b66a",
   "metadata": {},
   "source": [
    "------------------"
   ]
  },
  {
   "cell_type": "code",
   "execution_count": null,
   "id": "9774cd4f-301e-46a6-aa4b-2f4c27a3c594",
   "metadata": {},
   "outputs": [],
   "source": [
    "print(classification_report(pred, y_test))"
   ]
  },
  {
   "cell_type": "markdown",
   "id": "f40dc021-a231-42ea-9bc1-add2bedee21e",
   "metadata": {},
   "source": [
    "-----------------------"
   ]
  },
  {
   "cell_type": "code",
   "execution_count": null,
   "id": "92809287-c8f9-42d8-a907-a670ceffd50f",
   "metadata": {},
   "outputs": [],
   "source": []
  },
  {
   "cell_type": "code",
   "execution_count": null,
   "id": "c7025f79-4094-4559-b7d9-e7cd4de6e6ed",
   "metadata": {},
   "outputs": [],
   "source": []
  },
  {
   "cell_type": "code",
   "execution_count": null,
   "id": "81d44529-6c45-4f49-98c1-77e0db129829",
   "metadata": {},
   "outputs": [],
   "source": []
  },
  {
   "cell_type": "code",
   "execution_count": null,
   "id": "8aaccdf1-2f59-42fd-bb84-e33cff26239e",
   "metadata": {},
   "outputs": [],
   "source": []
  },
  {
   "cell_type": "code",
   "execution_count": null,
   "id": "4e9492d0-b34c-44b7-8ce2-d9910415f072",
   "metadata": {},
   "outputs": [],
   "source": []
  },
  {
   "cell_type": "code",
   "execution_count": 17,
   "id": "b4d7ade8-e94b-417c-a7f7-264cdbbae78f",
   "metadata": {},
   "outputs": [],
   "source": [
    "legit = card[card['Class']==0]\n",
    "fraud = card[card['Class']==1]"
   ]
  },
  {
   "cell_type": "code",
   "execution_count": 18,
   "id": "2fe51a42-bdd0-4d03-999a-181606080aec",
   "metadata": {},
   "outputs": [],
   "source": [
    "legit_sample = legit.sample(473) #Class의 개수를 맞춘 샘플 추출!"
   ]
  },
  {
   "cell_type": "code",
   "execution_count": 19,
   "id": "4b61a4b9-ad2d-425e-8133-7a2f3219885a",
   "metadata": {},
   "outputs": [],
   "source": [
    "new_dataset = pd.concat([legit_sample, fraud])"
   ]
  },
  {
   "cell_type": "code",
   "execution_count": 20,
   "id": "7eba8277-1b2a-4b6c-aa4c-9fbb0091d882",
   "metadata": {},
   "outputs": [
    {
     "data": {
      "text/plain": [
       "1    492\n",
       "0    473\n",
       "Name: Class, dtype: int64"
      ]
     },
     "execution_count": 20,
     "metadata": {},
     "output_type": "execute_result"
    }
   ],
   "source": [
    "new_dataset['Class'].value_counts()"
   ]
  },
  {
   "cell_type": "code",
   "execution_count": 21,
   "id": "d757b123-87d7-42c6-bb21-303a6eac5f27",
   "metadata": {},
   "outputs": [
    {
     "data": {
      "text/html": [
       "<div>\n",
       "<style scoped>\n",
       "    .dataframe tbody tr th:only-of-type {\n",
       "        vertical-align: middle;\n",
       "    }\n",
       "\n",
       "    .dataframe tbody tr th {\n",
       "        vertical-align: top;\n",
       "    }\n",
       "\n",
       "    .dataframe thead th {\n",
       "        text-align: right;\n",
       "    }\n",
       "</style>\n",
       "<table border=\"1\" class=\"dataframe\">\n",
       "  <thead>\n",
       "    <tr style=\"text-align: right;\">\n",
       "      <th></th>\n",
       "      <th>Time</th>\n",
       "      <th>V1</th>\n",
       "      <th>V2</th>\n",
       "      <th>V3</th>\n",
       "      <th>V4</th>\n",
       "      <th>V5</th>\n",
       "      <th>V6</th>\n",
       "      <th>V7</th>\n",
       "      <th>V8</th>\n",
       "      <th>V9</th>\n",
       "      <th>...</th>\n",
       "      <th>V21</th>\n",
       "      <th>V22</th>\n",
       "      <th>V23</th>\n",
       "      <th>V24</th>\n",
       "      <th>V25</th>\n",
       "      <th>V26</th>\n",
       "      <th>V27</th>\n",
       "      <th>V28</th>\n",
       "      <th>Amount</th>\n",
       "      <th>Class</th>\n",
       "    </tr>\n",
       "  </thead>\n",
       "  <tbody>\n",
       "    <tr>\n",
       "      <th>111967</th>\n",
       "      <td>72455.0</td>\n",
       "      <td>0.957312</td>\n",
       "      <td>-0.500752</td>\n",
       "      <td>-0.761346</td>\n",
       "      <td>-0.053358</td>\n",
       "      <td>0.051740</td>\n",
       "      <td>-0.559140</td>\n",
       "      <td>0.564264</td>\n",
       "      <td>-0.239008</td>\n",
       "      <td>-0.345140</td>\n",
       "      <td>...</td>\n",
       "      <td>0.066420</td>\n",
       "      <td>-0.271734</td>\n",
       "      <td>-0.371716</td>\n",
       "      <td>-0.409683</td>\n",
       "      <td>0.551989</td>\n",
       "      <td>1.084146</td>\n",
       "      <td>-0.156878</td>\n",
       "      <td>0.006208</td>\n",
       "      <td>204.09</td>\n",
       "      <td>0</td>\n",
       "    </tr>\n",
       "    <tr>\n",
       "      <th>81858</th>\n",
       "      <td>59129.0</td>\n",
       "      <td>1.202770</td>\n",
       "      <td>-0.073810</td>\n",
       "      <td>0.377508</td>\n",
       "      <td>-0.176963</td>\n",
       "      <td>-0.497348</td>\n",
       "      <td>-0.541176</td>\n",
       "      <td>-0.183002</td>\n",
       "      <td>0.068067</td>\n",
       "      <td>0.052868</td>\n",
       "      <td>...</td>\n",
       "      <td>-0.148872</td>\n",
       "      <td>-0.465222</td>\n",
       "      <td>0.164597</td>\n",
       "      <td>0.243645</td>\n",
       "      <td>0.013467</td>\n",
       "      <td>0.849898</td>\n",
       "      <td>-0.079358</td>\n",
       "      <td>-0.009478</td>\n",
       "      <td>1.00</td>\n",
       "      <td>0</td>\n",
       "    </tr>\n",
       "    <tr>\n",
       "      <th>117999</th>\n",
       "      <td>74907.0</td>\n",
       "      <td>1.203064</td>\n",
       "      <td>0.111665</td>\n",
       "      <td>0.367861</td>\n",
       "      <td>0.444995</td>\n",
       "      <td>-0.300542</td>\n",
       "      <td>-0.476322</td>\n",
       "      <td>-0.038237</td>\n",
       "      <td>-0.028925</td>\n",
       "      <td>-0.158623</td>\n",
       "      <td>...</td>\n",
       "      <td>-0.218530</td>\n",
       "      <td>-0.722696</td>\n",
       "      <td>0.068576</td>\n",
       "      <td>-0.012990</td>\n",
       "      <td>0.216676</td>\n",
       "      <td>0.096484</td>\n",
       "      <td>-0.038519</td>\n",
       "      <td>0.008349</td>\n",
       "      <td>21.24</td>\n",
       "      <td>0</td>\n",
       "    </tr>\n",
       "    <tr>\n",
       "      <th>275294</th>\n",
       "      <td>166463.0</td>\n",
       "      <td>-2.130269</td>\n",
       "      <td>2.349712</td>\n",
       "      <td>-0.854641</td>\n",
       "      <td>0.309102</td>\n",
       "      <td>0.969486</td>\n",
       "      <td>-0.283953</td>\n",
       "      <td>1.287108</td>\n",
       "      <td>-0.177629</td>\n",
       "      <td>0.995038</td>\n",
       "      <td>...</td>\n",
       "      <td>-0.192657</td>\n",
       "      <td>0.520160</td>\n",
       "      <td>-0.061621</td>\n",
       "      <td>0.663237</td>\n",
       "      <td>0.394611</td>\n",
       "      <td>-0.415725</td>\n",
       "      <td>1.040169</td>\n",
       "      <td>0.482597</td>\n",
       "      <td>1.99</td>\n",
       "      <td>0</td>\n",
       "    </tr>\n",
       "    <tr>\n",
       "      <th>245167</th>\n",
       "      <td>152632.0</td>\n",
       "      <td>0.056750</td>\n",
       "      <td>0.320815</td>\n",
       "      <td>-0.180350</td>\n",
       "      <td>0.098305</td>\n",
       "      <td>0.672541</td>\n",
       "      <td>-0.494907</td>\n",
       "      <td>0.862318</td>\n",
       "      <td>-0.534838</td>\n",
       "      <td>-1.299639</td>\n",
       "      <td>...</td>\n",
       "      <td>-0.056409</td>\n",
       "      <td>0.765301</td>\n",
       "      <td>0.000047</td>\n",
       "      <td>-0.666541</td>\n",
       "      <td>-0.816017</td>\n",
       "      <td>-0.434597</td>\n",
       "      <td>0.298155</td>\n",
       "      <td>0.117794</td>\n",
       "      <td>40.00</td>\n",
       "      <td>0</td>\n",
       "    </tr>\n",
       "    <tr>\n",
       "      <th>...</th>\n",
       "      <td>...</td>\n",
       "      <td>...</td>\n",
       "      <td>...</td>\n",
       "      <td>...</td>\n",
       "      <td>...</td>\n",
       "      <td>...</td>\n",
       "      <td>...</td>\n",
       "      <td>...</td>\n",
       "      <td>...</td>\n",
       "      <td>...</td>\n",
       "      <td>...</td>\n",
       "      <td>...</td>\n",
       "      <td>...</td>\n",
       "      <td>...</td>\n",
       "      <td>...</td>\n",
       "      <td>...</td>\n",
       "      <td>...</td>\n",
       "      <td>...</td>\n",
       "      <td>...</td>\n",
       "      <td>...</td>\n",
       "      <td>...</td>\n",
       "    </tr>\n",
       "    <tr>\n",
       "      <th>279863</th>\n",
       "      <td>169142.0</td>\n",
       "      <td>-1.927883</td>\n",
       "      <td>1.125653</td>\n",
       "      <td>-4.518331</td>\n",
       "      <td>1.749293</td>\n",
       "      <td>-1.566487</td>\n",
       "      <td>-2.010494</td>\n",
       "      <td>-0.882850</td>\n",
       "      <td>0.697211</td>\n",
       "      <td>-2.064945</td>\n",
       "      <td>...</td>\n",
       "      <td>0.778584</td>\n",
       "      <td>-0.319189</td>\n",
       "      <td>0.639419</td>\n",
       "      <td>-0.294885</td>\n",
       "      <td>0.537503</td>\n",
       "      <td>0.788395</td>\n",
       "      <td>0.292680</td>\n",
       "      <td>0.147968</td>\n",
       "      <td>390.00</td>\n",
       "      <td>1</td>\n",
       "    </tr>\n",
       "    <tr>\n",
       "      <th>280143</th>\n",
       "      <td>169347.0</td>\n",
       "      <td>1.378559</td>\n",
       "      <td>1.289381</td>\n",
       "      <td>-5.004247</td>\n",
       "      <td>1.411850</td>\n",
       "      <td>0.442581</td>\n",
       "      <td>-1.326536</td>\n",
       "      <td>-1.413170</td>\n",
       "      <td>0.248525</td>\n",
       "      <td>-1.127396</td>\n",
       "      <td>...</td>\n",
       "      <td>0.370612</td>\n",
       "      <td>0.028234</td>\n",
       "      <td>-0.145640</td>\n",
       "      <td>-0.081049</td>\n",
       "      <td>0.521875</td>\n",
       "      <td>0.739467</td>\n",
       "      <td>0.389152</td>\n",
       "      <td>0.186637</td>\n",
       "      <td>0.76</td>\n",
       "      <td>1</td>\n",
       "    </tr>\n",
       "    <tr>\n",
       "      <th>280149</th>\n",
       "      <td>169351.0</td>\n",
       "      <td>-0.676143</td>\n",
       "      <td>1.126366</td>\n",
       "      <td>-2.213700</td>\n",
       "      <td>0.468308</td>\n",
       "      <td>-1.120541</td>\n",
       "      <td>-0.003346</td>\n",
       "      <td>-2.234739</td>\n",
       "      <td>1.210158</td>\n",
       "      <td>-0.652250</td>\n",
       "      <td>...</td>\n",
       "      <td>0.751826</td>\n",
       "      <td>0.834108</td>\n",
       "      <td>0.190944</td>\n",
       "      <td>0.032070</td>\n",
       "      <td>-0.739695</td>\n",
       "      <td>0.471111</td>\n",
       "      <td>0.385107</td>\n",
       "      <td>0.194361</td>\n",
       "      <td>77.89</td>\n",
       "      <td>1</td>\n",
       "    </tr>\n",
       "    <tr>\n",
       "      <th>281144</th>\n",
       "      <td>169966.0</td>\n",
       "      <td>-3.113832</td>\n",
       "      <td>0.585864</td>\n",
       "      <td>-5.399730</td>\n",
       "      <td>1.817092</td>\n",
       "      <td>-0.840618</td>\n",
       "      <td>-2.943548</td>\n",
       "      <td>-2.208002</td>\n",
       "      <td>1.058733</td>\n",
       "      <td>-1.632333</td>\n",
       "      <td>...</td>\n",
       "      <td>0.583276</td>\n",
       "      <td>-0.269209</td>\n",
       "      <td>-0.456108</td>\n",
       "      <td>-0.183659</td>\n",
       "      <td>-0.328168</td>\n",
       "      <td>0.606116</td>\n",
       "      <td>0.884876</td>\n",
       "      <td>-0.253700</td>\n",
       "      <td>245.00</td>\n",
       "      <td>1</td>\n",
       "    </tr>\n",
       "    <tr>\n",
       "      <th>281674</th>\n",
       "      <td>170348.0</td>\n",
       "      <td>1.991976</td>\n",
       "      <td>0.158476</td>\n",
       "      <td>-2.583441</td>\n",
       "      <td>0.408670</td>\n",
       "      <td>1.151147</td>\n",
       "      <td>-0.096695</td>\n",
       "      <td>0.223050</td>\n",
       "      <td>-0.068384</td>\n",
       "      <td>0.577829</td>\n",
       "      <td>...</td>\n",
       "      <td>-0.164350</td>\n",
       "      <td>-0.295135</td>\n",
       "      <td>-0.072173</td>\n",
       "      <td>-0.450261</td>\n",
       "      <td>0.313267</td>\n",
       "      <td>-0.289617</td>\n",
       "      <td>0.002988</td>\n",
       "      <td>-0.015309</td>\n",
       "      <td>42.53</td>\n",
       "      <td>1</td>\n",
       "    </tr>\n",
       "  </tbody>\n",
       "</table>\n",
       "<p>965 rows × 31 columns</p>\n",
       "</div>"
      ],
      "text/plain": [
       "            Time        V1        V2        V3        V4        V5        V6  \\\n",
       "111967   72455.0  0.957312 -0.500752 -0.761346 -0.053358  0.051740 -0.559140   \n",
       "81858    59129.0  1.202770 -0.073810  0.377508 -0.176963 -0.497348 -0.541176   \n",
       "117999   74907.0  1.203064  0.111665  0.367861  0.444995 -0.300542 -0.476322   \n",
       "275294  166463.0 -2.130269  2.349712 -0.854641  0.309102  0.969486 -0.283953   \n",
       "245167  152632.0  0.056750  0.320815 -0.180350  0.098305  0.672541 -0.494907   \n",
       "...          ...       ...       ...       ...       ...       ...       ...   \n",
       "279863  169142.0 -1.927883  1.125653 -4.518331  1.749293 -1.566487 -2.010494   \n",
       "280143  169347.0  1.378559  1.289381 -5.004247  1.411850  0.442581 -1.326536   \n",
       "280149  169351.0 -0.676143  1.126366 -2.213700  0.468308 -1.120541 -0.003346   \n",
       "281144  169966.0 -3.113832  0.585864 -5.399730  1.817092 -0.840618 -2.943548   \n",
       "281674  170348.0  1.991976  0.158476 -2.583441  0.408670  1.151147 -0.096695   \n",
       "\n",
       "              V7        V8        V9  ...       V21       V22       V23  \\\n",
       "111967  0.564264 -0.239008 -0.345140  ...  0.066420 -0.271734 -0.371716   \n",
       "81858  -0.183002  0.068067  0.052868  ... -0.148872 -0.465222  0.164597   \n",
       "117999 -0.038237 -0.028925 -0.158623  ... -0.218530 -0.722696  0.068576   \n",
       "275294  1.287108 -0.177629  0.995038  ... -0.192657  0.520160 -0.061621   \n",
       "245167  0.862318 -0.534838 -1.299639  ... -0.056409  0.765301  0.000047   \n",
       "...          ...       ...       ...  ...       ...       ...       ...   \n",
       "279863 -0.882850  0.697211 -2.064945  ...  0.778584 -0.319189  0.639419   \n",
       "280143 -1.413170  0.248525 -1.127396  ...  0.370612  0.028234 -0.145640   \n",
       "280149 -2.234739  1.210158 -0.652250  ...  0.751826  0.834108  0.190944   \n",
       "281144 -2.208002  1.058733 -1.632333  ...  0.583276 -0.269209 -0.456108   \n",
       "281674  0.223050 -0.068384  0.577829  ... -0.164350 -0.295135 -0.072173   \n",
       "\n",
       "             V24       V25       V26       V27       V28  Amount  Class  \n",
       "111967 -0.409683  0.551989  1.084146 -0.156878  0.006208  204.09      0  \n",
       "81858   0.243645  0.013467  0.849898 -0.079358 -0.009478    1.00      0  \n",
       "117999 -0.012990  0.216676  0.096484 -0.038519  0.008349   21.24      0  \n",
       "275294  0.663237  0.394611 -0.415725  1.040169  0.482597    1.99      0  \n",
       "245167 -0.666541 -0.816017 -0.434597  0.298155  0.117794   40.00      0  \n",
       "...          ...       ...       ...       ...       ...     ...    ...  \n",
       "279863 -0.294885  0.537503  0.788395  0.292680  0.147968  390.00      1  \n",
       "280143 -0.081049  0.521875  0.739467  0.389152  0.186637    0.76      1  \n",
       "280149  0.032070 -0.739695  0.471111  0.385107  0.194361   77.89      1  \n",
       "281144 -0.183659 -0.328168  0.606116  0.884876 -0.253700  245.00      1  \n",
       "281674 -0.450261  0.313267 -0.289617  0.002988 -0.015309   42.53      1  \n",
       "\n",
       "[965 rows x 31 columns]"
      ]
     },
     "execution_count": 21,
     "metadata": {},
     "output_type": "execute_result"
    }
   ],
   "source": [
    "new_dataset"
   ]
  },
  {
   "cell_type": "code",
   "execution_count": null,
   "id": "999ee6d6-bb31-42ec-bccd-3e9531c66409",
   "metadata": {},
   "outputs": [],
   "source": []
  },
  {
   "cell_type": "code",
   "execution_count": null,
   "id": "d64cb14d-14cb-4ba0-b4d1-4249cdcf1e8a",
   "metadata": {},
   "outputs": [],
   "source": [
    "x = new_dataset.drop(['Class'], axis=1)"
   ]
  },
  {
   "cell_type": "code",
   "execution_count": null,
   "id": "6e9671f4-0bcf-47c2-b171-05c3248e0625",
   "metadata": {},
   "outputs": [],
   "source": [
    "y = new_dataset['Class']"
   ]
  },
  {
   "cell_type": "code",
   "execution_count": null,
   "id": "10c759e6-0e54-4cdc-b265-3aef62b95622",
   "metadata": {},
   "outputs": [],
   "source": [
    "x_train, x_test, y_train, y_test = train_test_split(x,y,test_size=0.2, random_state=1234, stratify=y)"
   ]
  },
  {
   "cell_type": "code",
   "execution_count": null,
   "id": "dc74f2ac-3530-4e58-afac-fdf63722f0f2",
   "metadata": {
    "tags": []
   },
   "outputs": [],
   "source": [
    "model1 = DecisionTreeClassifier() #1"
   ]
  },
  {
   "cell_type": "code",
   "execution_count": null,
   "id": "2831b43c-0b84-4882-a5f4-952bb300ecd5",
   "metadata": {},
   "outputs": [],
   "source": [
    "model1.fit(x_train, y_train)"
   ]
  },
  {
   "cell_type": "code",
   "execution_count": null,
   "id": "1e77cb41-517a-4164-b75e-afa06243b9c5",
   "metadata": {},
   "outputs": [],
   "source": [
    "model1.score(x_train, y_train)"
   ]
  },
  {
   "cell_type": "code",
   "execution_count": null,
   "id": "923aedea-0a6b-4ada-adda-2e8431eb1587",
   "metadata": {},
   "outputs": [],
   "source": [
    "model1.score (x_test, y_test)"
   ]
  },
  {
   "cell_type": "code",
   "execution_count": null,
   "id": "608adb06-b475-40f3-a22f-0f2c79324a4c",
   "metadata": {},
   "outputs": [],
   "source": []
  },
  {
   "cell_type": "code",
   "execution_count": null,
   "id": "b151fe8d-deb4-4aa8-90b1-4b6e484bcc9c",
   "metadata": {},
   "outputs": [],
   "source": [
    "pred1 = model1.predict(x_test)"
   ]
  },
  {
   "cell_type": "code",
   "execution_count": null,
   "id": "918ee187-1e3b-4df7-82b7-13ba5c689e90",
   "metadata": {},
   "outputs": [],
   "source": [
    "binarizer = LabelBinarizer()"
   ]
  },
  {
   "cell_type": "code",
   "execution_count": null,
   "id": "a31fbc29-4ea8-4c0a-b01c-db4259dd5d47",
   "metadata": {},
   "outputs": [],
   "source": [
    "binarizer.fit(y_test)"
   ]
  },
  {
   "cell_type": "code",
   "execution_count": null,
   "id": "3620c7bf-7c98-4080-a976-6cd56403d621",
   "metadata": {},
   "outputs": [],
   "source": [
    "f1_score(binarizer.transform(pred1), binarizer.transform(y_test))"
   ]
  },
  {
   "cell_type": "code",
   "execution_count": null,
   "id": "9ba25125-9a77-40cb-a6be-0224b0fe4d8c",
   "metadata": {},
   "outputs": [],
   "source": [
    "f1_score(pred1, y_test, average='macro')"
   ]
  },
  {
   "cell_type": "code",
   "execution_count": null,
   "id": "62c4e36b-1994-4def-b85a-f2c1ad1ff8f0",
   "metadata": {},
   "outputs": [],
   "source": []
  },
  {
   "cell_type": "code",
   "execution_count": null,
   "id": "f72892ec-1a46-46c5-be04-3e216653b4ee",
   "metadata": {
    "tags": []
   },
   "outputs": [],
   "source": [
    "model2 = LogisticRegression() #2"
   ]
  },
  {
   "cell_type": "code",
   "execution_count": null,
   "id": "8d3df241-5183-40fb-8685-3c6efa6c8a39",
   "metadata": {},
   "outputs": [],
   "source": [
    "model2.fit(x_train, y_train)"
   ]
  },
  {
   "cell_type": "code",
   "execution_count": null,
   "id": "4fa17d0b-a079-439f-82e6-1e6b811e29fe",
   "metadata": {},
   "outputs": [],
   "source": [
    "model2.score(x_train, y_train)"
   ]
  },
  {
   "cell_type": "code",
   "execution_count": null,
   "id": "6b7826a6-0330-4d0c-a13f-7ed14965fc62",
   "metadata": {},
   "outputs": [],
   "source": [
    "model2.score (x_test, y_test)"
   ]
  },
  {
   "cell_type": "code",
   "execution_count": null,
   "id": "004866b0-4f6f-42f0-83e1-811aae20aed8",
   "metadata": {},
   "outputs": [],
   "source": [
    "pred2 = model2.predict(x_test)"
   ]
  },
  {
   "cell_type": "code",
   "execution_count": null,
   "id": "a403afd3-3c89-4200-93a1-a12bce57e344",
   "metadata": {},
   "outputs": [],
   "source": [
    "binarizer = LabelBinarizer()"
   ]
  },
  {
   "cell_type": "code",
   "execution_count": null,
   "id": "dae85c0f-4c9b-424a-9fb4-9f14714e25be",
   "metadata": {},
   "outputs": [],
   "source": [
    "binarizer.fit(y_test)"
   ]
  },
  {
   "cell_type": "code",
   "execution_count": null,
   "id": "01da28b6-caf1-4871-9de9-805a9ac92170",
   "metadata": {},
   "outputs": [],
   "source": [
    "f1_score(binarizer.transform(pred2), binarizer.transform(y_test))"
   ]
  },
  {
   "cell_type": "code",
   "execution_count": null,
   "id": "598040a4-fc90-4144-a709-71fa3f55a492",
   "metadata": {},
   "outputs": [],
   "source": [
    "f1_score(pred2, y_test, average='macro')"
   ]
  },
  {
   "cell_type": "code",
   "execution_count": null,
   "id": "498b1d56-af10-44ff-b2c5-02fc3c404d3a",
   "metadata": {},
   "outputs": [],
   "source": []
  },
  {
   "cell_type": "code",
   "execution_count": null,
   "id": "94208ad7-437e-4c9c-a409-e76cec8dbbbb",
   "metadata": {},
   "outputs": [],
   "source": []
  },
  {
   "cell_type": "code",
   "execution_count": null,
   "id": "7d9fe513-7629-4ddc-ae4f-bd19271ed3bc",
   "metadata": {
    "tags": []
   },
   "outputs": [],
   "source": [
    "model3 = LogisticRegressionCV() #3"
   ]
  },
  {
   "cell_type": "code",
   "execution_count": null,
   "id": "168112d6-30d0-47e8-adcd-f12d5770e670",
   "metadata": {},
   "outputs": [],
   "source": [
    "model3.fit(x_train, y_train)"
   ]
  },
  {
   "cell_type": "code",
   "execution_count": null,
   "id": "e5266e4f-4811-418b-ac0a-c854718e66a3",
   "metadata": {},
   "outputs": [],
   "source": [
    "model3.score(x_train, y_train)"
   ]
  },
  {
   "cell_type": "code",
   "execution_count": null,
   "id": "3f0039ff-a4b6-40d5-bc18-04740ea752ef",
   "metadata": {},
   "outputs": [],
   "source": [
    "model3.score(x_test, y_test)"
   ]
  },
  {
   "cell_type": "code",
   "execution_count": null,
   "id": "b7edbfe5-afdc-4a7d-885c-5696987bc950",
   "metadata": {},
   "outputs": [],
   "source": []
  },
  {
   "cell_type": "code",
   "execution_count": null,
   "id": "4281ebc6-eafa-4608-ad82-6ecd933b10cb",
   "metadata": {},
   "outputs": [],
   "source": [
    "pred3 = model3.predict(x_test)"
   ]
  },
  {
   "cell_type": "code",
   "execution_count": null,
   "id": "84db642a-2323-43b5-99c6-fcc3b9642e2c",
   "metadata": {},
   "outputs": [],
   "source": [
    "binarizer = LabelBinarizer()"
   ]
  },
  {
   "cell_type": "code",
   "execution_count": null,
   "id": "faf35e29-f4c5-4239-a566-a9548448d067",
   "metadata": {},
   "outputs": [],
   "source": [
    "binarizer.fit(y_test)"
   ]
  },
  {
   "cell_type": "code",
   "execution_count": null,
   "id": "a9c84f5c-a50d-4f3b-ba10-fdcb3d28a33b",
   "metadata": {},
   "outputs": [],
   "source": [
    "f1_score(binarizer.transform(pred3), binarizer.transform(y_test))"
   ]
  },
  {
   "cell_type": "code",
   "execution_count": null,
   "id": "4e70411d-4353-454a-9edf-957951d10197",
   "metadata": {},
   "outputs": [],
   "source": [
    "f1_score(pred3, y_test, average='macro')"
   ]
  },
  {
   "cell_type": "code",
   "execution_count": null,
   "id": "2449d95b-0640-44d4-8e72-89e363b83240",
   "metadata": {
    "tags": []
   },
   "outputs": [],
   "source": []
  },
  {
   "cell_type": "code",
   "execution_count": null,
   "id": "fcc0fb7b-0877-4bd5-912a-c2d8526bad7b",
   "metadata": {
    "tags": []
   },
   "outputs": [],
   "source": [
    "model4 = SVC() #4"
   ]
  },
  {
   "cell_type": "code",
   "execution_count": null,
   "id": "795dd789-eb23-481a-a69a-f8b54106f618",
   "metadata": {},
   "outputs": [],
   "source": [
    "model4.fit(x_train, y_train)"
   ]
  },
  {
   "cell_type": "code",
   "execution_count": null,
   "id": "ba81d1a9-767b-40ef-8505-5ec70d028179",
   "metadata": {},
   "outputs": [],
   "source": [
    "model4.score(x_train, y_train)"
   ]
  },
  {
   "cell_type": "code",
   "execution_count": null,
   "id": "3f35a8a0-2e84-418f-8fda-d14d7e2b8547",
   "metadata": {},
   "outputs": [],
   "source": [
    "model4.score (x_test, y_test)"
   ]
  },
  {
   "cell_type": "code",
   "execution_count": null,
   "id": "c5081ed6-31fa-4fc3-ae42-b62ca4d45435",
   "metadata": {},
   "outputs": [],
   "source": []
  },
  {
   "cell_type": "code",
   "execution_count": null,
   "id": "41758cd6-1c13-4712-bed7-574e403c80e6",
   "metadata": {},
   "outputs": [],
   "source": [
    "pred4 = model4.predict(x_test)"
   ]
  },
  {
   "cell_type": "code",
   "execution_count": null,
   "id": "57764737-7728-46a0-91e8-9bf0b10a1104",
   "metadata": {},
   "outputs": [],
   "source": [
    "binarizer = LabelBinarizer()"
   ]
  },
  {
   "cell_type": "code",
   "execution_count": null,
   "id": "148e82c9-8107-4902-88b2-fda3e3b25c18",
   "metadata": {},
   "outputs": [],
   "source": [
    "binarizer.fit(y_test)"
   ]
  },
  {
   "cell_type": "code",
   "execution_count": null,
   "id": "e8e66982-dee8-48ce-9a53-d0c51f88ff2c",
   "metadata": {},
   "outputs": [],
   "source": [
    "f1_score(binarizer.transform(pred4), binarizer.transform(y_test))"
   ]
  },
  {
   "cell_type": "code",
   "execution_count": null,
   "id": "40dd0070-97d8-426d-8b18-b7134863192e",
   "metadata": {},
   "outputs": [],
   "source": [
    "f1_score(pred4, y_test, average='macro')"
   ]
  },
  {
   "cell_type": "code",
   "execution_count": null,
   "id": "74ab97c8-e3d2-4599-b47c-59b2d3a4b506",
   "metadata": {},
   "outputs": [],
   "source": []
  },
  {
   "cell_type": "code",
   "execution_count": null,
   "id": "da80c215-5a31-4cae-8385-4decbed10c6e",
   "metadata": {},
   "outputs": [],
   "source": [
    "print(classification_report(pred1, y_test))"
   ]
  },
  {
   "cell_type": "code",
   "execution_count": null,
   "id": "5e94735c-193e-47e7-9a35-b2efd29be28b",
   "metadata": {},
   "outputs": [],
   "source": [
    "print(classification_report(pred2, y_test))"
   ]
  },
  {
   "cell_type": "code",
   "execution_count": null,
   "id": "892ce0d1-b688-4370-9abf-8232a9a59948",
   "metadata": {},
   "outputs": [],
   "source": [
    "print(classification_report(pred3, y_test))"
   ]
  },
  {
   "cell_type": "code",
   "execution_count": null,
   "id": "2946b716-e1cd-4471-a8a1-0c32f9d3bd53",
   "metadata": {},
   "outputs": [],
   "source": [
    "print(classification_report(pred4, y_test))"
   ]
  },
  {
   "cell_type": "code",
   "execution_count": null,
   "id": "99c10224-6165-4e50-874c-249066b2ae5c",
   "metadata": {},
   "outputs": [],
   "source": [
    "##모델 2번 택~"
   ]
  },
  {
   "cell_type": "code",
   "execution_count": null,
   "id": "73b7b2e0-296f-491d-8a64-0151fa4f899c",
   "metadata": {},
   "outputs": [],
   "source": []
  },
  {
   "cell_type": "code",
   "execution_count": null,
   "id": "a0f0296f-1c4d-4f2c-8970-8b23573bc3ad",
   "metadata": {},
   "outputs": [],
   "source": [
    "card"
   ]
  },
  {
   "cell_type": "code",
   "execution_count": null,
   "id": "896c4a87-b5f0-4e9b-bf26-b7a1d1809a89",
   "metadata": {},
   "outputs": [],
   "source": [
    "x = card.drop(['Class'], axis=1)"
   ]
  },
  {
   "cell_type": "code",
   "execution_count": null,
   "id": "139296a8-cfd6-4c13-8b2c-96cde0d49d9c",
   "metadata": {},
   "outputs": [],
   "source": [
    "y = card['Class']"
   ]
  },
  {
   "cell_type": "code",
   "execution_count": null,
   "id": "d5f2dd8c-23a6-48fb-a118-8229ccfcf05c",
   "metadata": {
    "tags": []
   },
   "outputs": [],
   "source": [
    "model2 = LogisticRegression() #2"
   ]
  },
  {
   "cell_type": "code",
   "execution_count": null,
   "id": "113b1a27-111c-482f-ae11-c8e709440898",
   "metadata": {},
   "outputs": [],
   "source": [
    "model2.fit(x_train, y_train)"
   ]
  },
  {
   "cell_type": "code",
   "execution_count": null,
   "id": "9a8e45b4-6d2b-412f-a713-b85520c383cc",
   "metadata": {},
   "outputs": [],
   "source": [
    "model2.score(x_train, y_train)"
   ]
  },
  {
   "cell_type": "code",
   "execution_count": null,
   "id": "5a9e64fc-5f95-4f1d-a248-26ab92bf112f",
   "metadata": {},
   "outputs": [],
   "source": [
    "model2.score (x_test, y_test)"
   ]
  },
  {
   "cell_type": "code",
   "execution_count": null,
   "id": "e62f3032-d0d9-4213-add3-29034cf005f8",
   "metadata": {},
   "outputs": [],
   "source": [
    "pred2 = model2.predict(x_test)"
   ]
  },
  {
   "cell_type": "code",
   "execution_count": null,
   "id": "4382a2cf-bd11-4ab2-8a14-9248b896ef84",
   "metadata": {},
   "outputs": [],
   "source": [
    "binarizer = LabelBinarizer()"
   ]
  },
  {
   "cell_type": "code",
   "execution_count": null,
   "id": "23a3c2a6-22df-49fb-983d-997150d6031d",
   "metadata": {},
   "outputs": [],
   "source": [
    "binarizer.fit(y_test)"
   ]
  },
  {
   "cell_type": "code",
   "execution_count": null,
   "id": "22621e38-d0cf-407b-86e6-4fc8c3d79043",
   "metadata": {},
   "outputs": [],
   "source": [
    "f1_score(binarizer.transform(pred2), binarizer.transform(y_test))"
   ]
  },
  {
   "cell_type": "code",
   "execution_count": null,
   "id": "226b68aa-75ef-436f-b77c-8bff723e2bce",
   "metadata": {},
   "outputs": [],
   "source": [
    "f1_score(pred2, y_test, average='macro')"
   ]
  },
  {
   "cell_type": "code",
   "execution_count": null,
   "id": "dbac60ab-1bc6-4091-99ab-f1895165a17b",
   "metadata": {},
   "outputs": [],
   "source": []
  },
  {
   "cell_type": "markdown",
   "id": "69446c8f-010b-489a-af30-c989721d4ca0",
   "metadata": {},
   "source": [
    "----------------------"
   ]
  },
  {
   "cell_type": "raw",
   "id": "534e2870-8e71-43cc-a078-43ffd833e811",
   "metadata": {},
   "source": [
    "모델만들어서 학습시키기"
   ]
  },
  {
   "cell_type": "code",
   "execution_count": null,
   "id": "8ca44c7c-8fa5-4a29-a8ee-ed4a179502cc",
   "metadata": {},
   "outputs": [],
   "source": []
  },
  {
   "cell_type": "code",
   "execution_count": null,
   "id": "48019170-f1b8-4d59-9c5b-c1e21a557570",
   "metadata": {},
   "outputs": [],
   "source": [
    "legit = card[card['Class']==0]\n",
    "fraud = card[card['Class']==1]"
   ]
  },
  {
   "cell_type": "code",
   "execution_count": null,
   "id": "f524b3d5-1b28-412c-b30c-dd2b43239161",
   "metadata": {},
   "outputs": [],
   "source": [
    "legit_sample = legit.sample(473) #Class의 개수를 맞춘 샘플 추출!"
   ]
  },
  {
   "cell_type": "code",
   "execution_count": null,
   "id": "9c847fba-c5ef-4642-9416-a5e23675c022",
   "metadata": {},
   "outputs": [],
   "source": [
    "new_dataset = pd.concat([legit_sample, fraud])"
   ]
  },
  {
   "cell_type": "code",
   "execution_count": null,
   "id": "a5168861-e80a-4906-892f-bcac33da7af4",
   "metadata": {},
   "outputs": [],
   "source": [
    "new_dataset['Class'].value_counts()"
   ]
  },
  {
   "cell_type": "code",
   "execution_count": null,
   "id": "7cfd4b87-f9e7-4407-8659-35d5f3943fe9",
   "metadata": {},
   "outputs": [],
   "source": [
    "new_dataset"
   ]
  },
  {
   "cell_type": "code",
   "execution_count": 22,
   "id": "56d27417-a9f9-4702-ae09-4347e172f475",
   "metadata": {},
   "outputs": [],
   "source": [
    "model1 = DecisionTreeClassifier()"
   ]
  },
  {
   "cell_type": "code",
   "execution_count": 23,
   "id": "41b658aa-6168-49c4-8658-c98ea97b0c9f",
   "metadata": {},
   "outputs": [],
   "source": [
    "X = card.drop('Class', axis=1)"
   ]
  },
  {
   "cell_type": "code",
   "execution_count": 24,
   "id": "aff0ee66-8e1a-4e6c-b51c-ac1fbd645d2c",
   "metadata": {},
   "outputs": [],
   "source": [
    "Y = card['Class']"
   ]
  },
  {
   "cell_type": "code",
   "execution_count": 25,
   "id": "63d229d7-bfce-49a8-bbbc-41eeebe2c28c",
   "metadata": {},
   "outputs": [],
   "source": [
    "x_train, x_test, y_train, y_test = train_test_split(X,Y,test_size=0.2, random_state=1234, stratify=Y)"
   ]
  },
  {
   "cell_type": "code",
   "execution_count": 28,
   "id": "8ce0a726-2a5e-4981-8ed9-57d7c7f00ae8",
   "metadata": {
    "tags": []
   },
   "outputs": [
    {
     "ename": "NotFittedError",
     "evalue": "This DecisionTreeClassifier instance is not fitted yet. Call 'fit' with appropriate arguments before using this estimator.",
     "output_type": "error",
     "traceback": [
      "\u001b[1;31m---------------------------------------------------------------------------\u001b[0m",
      "\u001b[1;31mNotFittedError\u001b[0m                            Traceback (most recent call last)",
      "Input \u001b[1;32mIn [28]\u001b[0m, in \u001b[0;36m<cell line: 1>\u001b[1;34m()\u001b[0m\n\u001b[1;32m----> 1\u001b[0m pred \u001b[38;5;241m=\u001b[39m\u001b[43mmodel1\u001b[49m\u001b[38;5;241;43m.\u001b[39;49m\u001b[43mpredict\u001b[49m\u001b[43m(\u001b[49m\u001b[43mx_test\u001b[49m\u001b[43m)\u001b[49m\n",
      "File \u001b[1;32m~\\anaconda3\\lib\\site-packages\\sklearn\\tree\\_classes.py:466\u001b[0m, in \u001b[0;36mBaseDecisionTree.predict\u001b[1;34m(self, X, check_input)\u001b[0m\n\u001b[0;32m    443\u001b[0m \u001b[38;5;28;01mdef\u001b[39;00m \u001b[38;5;21mpredict\u001b[39m(\u001b[38;5;28mself\u001b[39m, X, check_input\u001b[38;5;241m=\u001b[39m\u001b[38;5;28;01mTrue\u001b[39;00m):\n\u001b[0;32m    444\u001b[0m     \u001b[38;5;124;03m\"\"\"Predict class or regression value for X.\u001b[39;00m\n\u001b[0;32m    445\u001b[0m \n\u001b[0;32m    446\u001b[0m \u001b[38;5;124;03m    For a classification model, the predicted class for each sample in X is\u001b[39;00m\n\u001b[1;32m   (...)\u001b[0m\n\u001b[0;32m    464\u001b[0m \u001b[38;5;124;03m        The predicted classes, or the predict values.\u001b[39;00m\n\u001b[0;32m    465\u001b[0m \u001b[38;5;124;03m    \"\"\"\u001b[39;00m\n\u001b[1;32m--> 466\u001b[0m     \u001b[43mcheck_is_fitted\u001b[49m\u001b[43m(\u001b[49m\u001b[38;5;28;43mself\u001b[39;49m\u001b[43m)\u001b[49m\n\u001b[0;32m    467\u001b[0m     X \u001b[38;5;241m=\u001b[39m \u001b[38;5;28mself\u001b[39m\u001b[38;5;241m.\u001b[39m_validate_X_predict(X, check_input)\n\u001b[0;32m    468\u001b[0m     proba \u001b[38;5;241m=\u001b[39m \u001b[38;5;28mself\u001b[39m\u001b[38;5;241m.\u001b[39mtree_\u001b[38;5;241m.\u001b[39mpredict(X)\n",
      "File \u001b[1;32m~\\anaconda3\\lib\\site-packages\\sklearn\\utils\\validation.py:1222\u001b[0m, in \u001b[0;36mcheck_is_fitted\u001b[1;34m(estimator, attributes, msg, all_or_any)\u001b[0m\n\u001b[0;32m   1217\u001b[0m     fitted \u001b[38;5;241m=\u001b[39m [\n\u001b[0;32m   1218\u001b[0m         v \u001b[38;5;28;01mfor\u001b[39;00m v \u001b[38;5;129;01min\u001b[39;00m \u001b[38;5;28mvars\u001b[39m(estimator) \u001b[38;5;28;01mif\u001b[39;00m v\u001b[38;5;241m.\u001b[39mendswith(\u001b[38;5;124m\"\u001b[39m\u001b[38;5;124m_\u001b[39m\u001b[38;5;124m\"\u001b[39m) \u001b[38;5;129;01mand\u001b[39;00m \u001b[38;5;129;01mnot\u001b[39;00m v\u001b[38;5;241m.\u001b[39mstartswith(\u001b[38;5;124m\"\u001b[39m\u001b[38;5;124m__\u001b[39m\u001b[38;5;124m\"\u001b[39m)\n\u001b[0;32m   1219\u001b[0m     ]\n\u001b[0;32m   1221\u001b[0m \u001b[38;5;28;01mif\u001b[39;00m \u001b[38;5;129;01mnot\u001b[39;00m fitted:\n\u001b[1;32m-> 1222\u001b[0m     \u001b[38;5;28;01mraise\u001b[39;00m NotFittedError(msg \u001b[38;5;241m%\u001b[39m {\u001b[38;5;124m\"\u001b[39m\u001b[38;5;124mname\u001b[39m\u001b[38;5;124m\"\u001b[39m: \u001b[38;5;28mtype\u001b[39m(estimator)\u001b[38;5;241m.\u001b[39m\u001b[38;5;18m__name__\u001b[39m})\n",
      "\u001b[1;31mNotFittedError\u001b[0m: This DecisionTreeClassifier instance is not fitted yet. Call 'fit' with appropriate arguments before using this estimator."
     ]
    }
   ],
   "source": [
    "pred =model1.predict(x_test)"
   ]
  },
  {
   "cell_type": "code",
   "execution_count": null,
   "id": "4e34db67-3e4b-4cd9-b018-6aaf093d1aae",
   "metadata": {},
   "outputs": [],
   "source": []
  },
  {
   "cell_type": "code",
   "execution_count": null,
   "id": "35a60c28-04b8-4ede-b581-f0d4af43433d",
   "metadata": {},
   "outputs": [],
   "source": []
  },
  {
   "cell_type": "code",
   "execution_count": 29,
   "id": "f94e071e-e3b5-4308-93d5-a6b2cc71f23a",
   "metadata": {
    "tags": []
   },
   "outputs": [
    {
     "ename": "NotFittedError",
     "evalue": "This DecisionTreeClassifier instance is not fitted yet. Call 'fit' with appropriate arguments before using this estimator.",
     "output_type": "error",
     "traceback": [
      "\u001b[1;31m---------------------------------------------------------------------------\u001b[0m",
      "\u001b[1;31mNotFittedError\u001b[0m                            Traceback (most recent call last)",
      "Input \u001b[1;32mIn [29]\u001b[0m, in \u001b[0;36m<cell line: 1>\u001b[1;34m()\u001b[0m\n\u001b[1;32m----> 1\u001b[0m real_pred1 \u001b[38;5;241m=\u001b[39m \u001b[43mmodel1\u001b[49m\u001b[38;5;241;43m.\u001b[39;49m\u001b[43mpredict\u001b[49m\u001b[43m(\u001b[49m\u001b[43mX\u001b[49m\u001b[43m)\u001b[49m\n",
      "File \u001b[1;32m~\\anaconda3\\lib\\site-packages\\sklearn\\tree\\_classes.py:466\u001b[0m, in \u001b[0;36mBaseDecisionTree.predict\u001b[1;34m(self, X, check_input)\u001b[0m\n\u001b[0;32m    443\u001b[0m \u001b[38;5;28;01mdef\u001b[39;00m \u001b[38;5;21mpredict\u001b[39m(\u001b[38;5;28mself\u001b[39m, X, check_input\u001b[38;5;241m=\u001b[39m\u001b[38;5;28;01mTrue\u001b[39;00m):\n\u001b[0;32m    444\u001b[0m     \u001b[38;5;124;03m\"\"\"Predict class or regression value for X.\u001b[39;00m\n\u001b[0;32m    445\u001b[0m \n\u001b[0;32m    446\u001b[0m \u001b[38;5;124;03m    For a classification model, the predicted class for each sample in X is\u001b[39;00m\n\u001b[1;32m   (...)\u001b[0m\n\u001b[0;32m    464\u001b[0m \u001b[38;5;124;03m        The predicted classes, or the predict values.\u001b[39;00m\n\u001b[0;32m    465\u001b[0m \u001b[38;5;124;03m    \"\"\"\u001b[39;00m\n\u001b[1;32m--> 466\u001b[0m     \u001b[43mcheck_is_fitted\u001b[49m\u001b[43m(\u001b[49m\u001b[38;5;28;43mself\u001b[39;49m\u001b[43m)\u001b[49m\n\u001b[0;32m    467\u001b[0m     X \u001b[38;5;241m=\u001b[39m \u001b[38;5;28mself\u001b[39m\u001b[38;5;241m.\u001b[39m_validate_X_predict(X, check_input)\n\u001b[0;32m    468\u001b[0m     proba \u001b[38;5;241m=\u001b[39m \u001b[38;5;28mself\u001b[39m\u001b[38;5;241m.\u001b[39mtree_\u001b[38;5;241m.\u001b[39mpredict(X)\n",
      "File \u001b[1;32m~\\anaconda3\\lib\\site-packages\\sklearn\\utils\\validation.py:1222\u001b[0m, in \u001b[0;36mcheck_is_fitted\u001b[1;34m(estimator, attributes, msg, all_or_any)\u001b[0m\n\u001b[0;32m   1217\u001b[0m     fitted \u001b[38;5;241m=\u001b[39m [\n\u001b[0;32m   1218\u001b[0m         v \u001b[38;5;28;01mfor\u001b[39;00m v \u001b[38;5;129;01min\u001b[39;00m \u001b[38;5;28mvars\u001b[39m(estimator) \u001b[38;5;28;01mif\u001b[39;00m v\u001b[38;5;241m.\u001b[39mendswith(\u001b[38;5;124m\"\u001b[39m\u001b[38;5;124m_\u001b[39m\u001b[38;5;124m\"\u001b[39m) \u001b[38;5;129;01mand\u001b[39;00m \u001b[38;5;129;01mnot\u001b[39;00m v\u001b[38;5;241m.\u001b[39mstartswith(\u001b[38;5;124m\"\u001b[39m\u001b[38;5;124m__\u001b[39m\u001b[38;5;124m\"\u001b[39m)\n\u001b[0;32m   1219\u001b[0m     ]\n\u001b[0;32m   1221\u001b[0m \u001b[38;5;28;01mif\u001b[39;00m \u001b[38;5;129;01mnot\u001b[39;00m fitted:\n\u001b[1;32m-> 1222\u001b[0m     \u001b[38;5;28;01mraise\u001b[39;00m NotFittedError(msg \u001b[38;5;241m%\u001b[39m {\u001b[38;5;124m\"\u001b[39m\u001b[38;5;124mname\u001b[39m\u001b[38;5;124m\"\u001b[39m: \u001b[38;5;28mtype\u001b[39m(estimator)\u001b[38;5;241m.\u001b[39m\u001b[38;5;18m__name__\u001b[39m})\n",
      "\u001b[1;31mNotFittedError\u001b[0m: This DecisionTreeClassifier instance is not fitted yet. Call 'fit' with appropriate arguments before using this estimator."
     ]
    }
   ],
   "source": [
    "real_pred1 = model1.predict(X)"
   ]
  },
  {
   "cell_type": "code",
   "execution_count": 30,
   "id": "9aa5f278-d068-4769-94ce-bb0c0b942bde",
   "metadata": {},
   "outputs": [],
   "source": [
    "new_X = new_dataset.drop('Class', axis=1)"
   ]
  },
  {
   "cell_type": "code",
   "execution_count": 31,
   "id": "6661372f-447b-49be-a2d5-73d38ec390ef",
   "metadata": {},
   "outputs": [],
   "source": [
    "new_Y = new_dataset['Class']"
   ]
  },
  {
   "cell_type": "code",
   "execution_count": 48,
   "id": "892aa645-12b2-4cb7-b9a9-b301d6db9c4c",
   "metadata": {},
   "outputs": [],
   "source": [
    "x_train, x_test, y_train, y_test = train_test_split(x,y,test_size=0.2, random_state=0, stratify=y)"
   ]
  },
  {
   "cell_type": "code",
   "execution_count": 49,
   "id": "9ad25951-e068-4cb1-bb0d-f00ddcbb904f",
   "metadata": {},
   "outputs": [
    {
     "data": {
      "text/plain": [
       "DecisionTreeClassifier()"
      ]
     },
     "execution_count": 49,
     "metadata": {},
     "output_type": "execute_result"
    }
   ],
   "source": [
    "model1.fit(x_train, y_train)"
   ]
  },
  {
   "cell_type": "code",
   "execution_count": 50,
   "id": "ef0c799f-a047-4dec-a9e8-d61042dec185",
   "metadata": {},
   "outputs": [
    {
     "data": {
      "text/plain": [
       "1.0"
      ]
     },
     "execution_count": 50,
     "metadata": {},
     "output_type": "execute_result"
    }
   ],
   "source": [
    "model1.score(x_train, y_train)"
   ]
  },
  {
   "cell_type": "code",
   "execution_count": 51,
   "id": "80d8cf74-b965-4f6b-994d-da399ea92a15",
   "metadata": {},
   "outputs": [
    {
     "data": {
      "text/plain": [
       "0.9990168884519505"
      ]
     },
     "execution_count": 51,
     "metadata": {},
     "output_type": "execute_result"
    }
   ],
   "source": [
    "model1.score(x_test, y_test)"
   ]
  },
  {
   "cell_type": "code",
   "execution_count": null,
   "id": "dd6daed6-eef4-4d15-a4ff-26469018529f",
   "metadata": {},
   "outputs": [],
   "source": []
  },
  {
   "cell_type": "code",
   "execution_count": 52,
   "id": "7312b312-1b05-479d-b024-9ed09a2eeff5",
   "metadata": {},
   "outputs": [],
   "source": [
    "pred1 = model1.predict(x_test)"
   ]
  },
  {
   "cell_type": "code",
   "execution_count": 53,
   "id": "8100f325-62e9-4859-b7fe-16f1860a1f1d",
   "metadata": {},
   "outputs": [
    {
     "data": {
      "text/plain": [
       "0.8554239059592215"
      ]
     },
     "execution_count": 53,
     "metadata": {},
     "output_type": "execute_result"
    }
   ],
   "source": [
    "f1_score(pred1, y_test, average='macro')"
   ]
  },
  {
   "cell_type": "code",
   "execution_count": null,
   "id": "7831b015-cded-43be-b511-0c606dc8c462",
   "metadata": {},
   "outputs": [],
   "source": []
  },
  {
   "cell_type": "code",
   "execution_count": null,
   "id": "7eea3b27-57e9-42d7-99c3-ee256489c9dc",
   "metadata": {},
   "outputs": [],
   "source": []
  },
  {
   "cell_type": "code",
   "execution_count": null,
   "id": "602ffbba-f5e4-44f8-a01c-a6acc8b6dc42",
   "metadata": {},
   "outputs": [],
   "source": []
  },
  {
   "cell_type": "code",
   "execution_count": null,
   "id": "6b8b9061-df34-44ad-a1c1-d9b11e5d9d83",
   "metadata": {},
   "outputs": [],
   "source": []
  },
  {
   "cell_type": "code",
   "execution_count": 41,
   "id": "5c61f341-5507-4c23-9d35-118d65c89c8d",
   "metadata": {},
   "outputs": [],
   "source": [
    "X = card.drop(['Class'], axis=1)"
   ]
  },
  {
   "cell_type": "code",
   "execution_count": 42,
   "id": "60ed5690-dae9-4315-8733-439b04d03354",
   "metadata": {},
   "outputs": [],
   "source": [
    "Y = card['Class']"
   ]
  },
  {
   "cell_type": "code",
   "execution_count": null,
   "id": "c65d7e4b-6503-41c7-9a07-35b94317b16d",
   "metadata": {},
   "outputs": [],
   "source": []
  },
  {
   "cell_type": "code",
   "execution_count": 44,
   "id": "cc14e58e-08c3-46ac-abd3-dbc370126638",
   "metadata": {
    "tags": []
   },
   "outputs": [],
   "source": [
    "real_pred = model1.predict(X)"
   ]
  },
  {
   "cell_type": "code",
   "execution_count": 45,
   "id": "64a41855-1dde-440e-b35f-836dcfa191fa",
   "metadata": {},
   "outputs": [
    {
     "data": {
      "text/plain": [
       "0.9999331724783161"
      ]
     },
     "execution_count": 45,
     "metadata": {},
     "output_type": "execute_result"
    }
   ],
   "source": [
    "f1_score(Y, real_pred, pos_label=0)"
   ]
  },
  {
   "cell_type": "code",
   "execution_count": 46,
   "id": "02f57099-35a9-4f77-aa2b-8560b38042ba",
   "metadata": {},
   "outputs": [
    {
     "data": {
      "text/plain": [
       "0.9614604462474645"
      ]
     },
     "execution_count": 46,
     "metadata": {},
     "output_type": "execute_result"
    }
   ],
   "source": [
    "f1_score(Y, real_pred, pos_label=1)"
   ]
  },
  {
   "cell_type": "code",
   "execution_count": 47,
   "id": "1bdd9c3e-b765-447b-87b6-73b7151e2f89",
   "metadata": {},
   "outputs": [
    {
     "data": {
      "text/plain": [
       "0.9806968093628903"
      ]
     },
     "execution_count": 47,
     "metadata": {},
     "output_type": "execute_result"
    }
   ],
   "source": [
    "f1_score(Y, real_pred, average='macro')"
   ]
  },
  {
   "cell_type": "code",
   "execution_count": null,
   "id": "c7396278-a4b8-4ccf-8487-c2f751ae2256",
   "metadata": {},
   "outputs": [],
   "source": []
  },
  {
   "cell_type": "markdown",
   "id": "ead6bbc3-a7a3-4a11-a15d-d943f35b1aad",
   "metadata": {},
   "source": [
    "----------------------"
   ]
  },
  {
   "cell_type": "code",
   "execution_count": null,
   "id": "323bd064-1fda-4923-af8c-0096fde47933",
   "metadata": {},
   "outputs": [],
   "source": [
    "#해설"
   ]
  },
  {
   "cell_type": "code",
   "execution_count": null,
   "id": "ec56b10c-0b52-4d4f-b31e-5442b307f7ba",
   "metadata": {},
   "outputs": [],
   "source": []
  },
  {
   "cell_type": "code",
   "execution_count": null,
   "id": "57b9b9b6-9ad2-4800-85b2-07bf1369a5bf",
   "metadata": {},
   "outputs": [],
   "source": [
    "X = card.drop(['Class'], axis=1)"
   ]
  },
  {
   "cell_type": "code",
   "execution_count": null,
   "id": "3f7f5a41-cd71-444d-bcea-ac27c55bdd75",
   "metadata": {},
   "outputs": [],
   "source": [
    "Y = card['Class']"
   ]
  },
  {
   "cell_type": "code",
   "execution_count": null,
   "id": "d631f1d3-cd5e-4ad5-9168-fd5b724fe67b",
   "metadata": {},
   "outputs": [],
   "source": []
  },
  {
   "cell_type": "code",
   "execution_count": null,
   "id": "003570b7-b1ac-4f84-bf58-fd6ec857c073",
   "metadata": {
    "tags": []
   },
   "outputs": [],
   "source": [
    "real_pred = model.predict(X)"
   ]
  },
  {
   "cell_type": "code",
   "execution_count": null,
   "id": "279614f5-9d21-4b56-97fb-a135ae0515cb",
   "metadata": {},
   "outputs": [],
   "source": [
    "f1_score(Y, real_pred, pos_label=0)"
   ]
  },
  {
   "cell_type": "code",
   "execution_count": null,
   "id": "e9952bcf-3afc-4496-b48e-cda9e61b6536",
   "metadata": {},
   "outputs": [],
   "source": [
    "f1_score(Y, real_pred, pos_label=1)"
   ]
  },
  {
   "cell_type": "code",
   "execution_count": null,
   "id": "110c11c0-5338-46d4-8861-0ea43bc2e0a9",
   "metadata": {},
   "outputs": [],
   "source": [
    "f1_score(Y, real_pred, average='macro')"
   ]
  },
  {
   "cell_type": "code",
   "execution_count": null,
   "id": "5d348f42-06ba-4514-aede-77df17b28770",
   "metadata": {},
   "outputs": [],
   "source": []
  },
  {
   "cell_type": "code",
   "execution_count": null,
   "id": "98a3b849-1cf7-4732-ad1c-627215b94372",
   "metadata": {},
   "outputs": [],
   "source": [
    "f1 score 함수 구현하기 parameter "
   ]
  }
 ],
 "metadata": {
  "kernelspec": {
   "display_name": "Python 3 (ipykernel)",
   "language": "python",
   "name": "python3"
  },
  "language_info": {
   "codemirror_mode": {
    "name": "ipython",
    "version": 3
   },
   "file_extension": ".py",
   "mimetype": "text/x-python",
   "name": "python",
   "nbconvert_exporter": "python",
   "pygments_lexer": "ipython3",
   "version": "3.9.12"
  }
 },
 "nbformat": 4,
 "nbformat_minor": 5
}
