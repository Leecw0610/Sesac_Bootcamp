{
 "cells": [
  {
   "cell_type": "code",
   "execution_count": 1,
   "id": "b4bad45d-03ce-4e7b-bfa4-535db2319ca9",
   "metadata": {},
   "outputs": [],
   "source": [
    "import requests\n",
    "from bs4 import BeautifulSoup"
   ]
  },
  {
   "cell_type": "code",
   "execution_count": 5,
   "id": "e78e3ad5-79ce-4c66-ad85-d106e74ffdc1",
   "metadata": {},
   "outputs": [],
   "source": [
    "url = 'https://sesac.seoul.kr/usr/member/dash/detail.do'\n",
    "headers = {'Cookie': 'page_logintype=1; InitechEamUID_V42=Y3y7EIJOm89mkSLSquotBg%3D%3D; InitechEamUIP_V42=ObI%2BsLG6D4mrVazs8DBKHA%3D%3D; InitechEamUTOA_V42=1; InitechEamUPID_V42=j3mVpo3U0M3pvdUTRFS4uw%3D%3D; _BS_GUUID=LzSyDge0Re6BOw89OhGf4TvlZPGLaIrWhjvVAJVr; _TRK_SID=f78b80032053b3bb05b88c17f05af6f8; JSESSIONID=6A700E2CC07F0650AEEC67F7AA628E1C; InitechEamULAT_V42=1667804038; InitechEamUHMAC_V42=LhJGdclJD88l67wcXa4MANRCCGWT8J1T2FrOM9xwJww%3D; _ga_ZLMCDSG8JM=GS1.1.1667804012.1.1.1667804165.0.0.0; _TRK_EX=13'}"
   ]
  },
  {
   "cell_type": "code",
   "execution_count": 6,
   "id": "c2424f68-94f7-467a-804c-7c3bcc1696a0",
   "metadata": {},
   "outputs": [],
   "source": [
    "req = requests.get(url, headers=headers)"
   ]
  },
  {
   "cell_type": "code",
   "execution_count": 7,
   "id": "46b1d370-eb13-47a4-a833-9bcc65551c20",
   "metadata": {},
   "outputs": [],
   "source": [
    "soup = BeautifulSoup(req.text, 'html.parser')"
   ]
  },
  {
   "cell_type": "code",
   "execution_count": 11,
   "id": "02533cc9-8b4d-43f6-bfc7-dc00b85953ff",
   "metadata": {},
   "outputs": [
    {
     "data": {
      "text/plain": [
       "'(금천2기)기업데이터를 활용한 AI 취업 부트캠프'"
      ]
     },
     "execution_count": 11,
     "metadata": {},
     "output_type": "execute_result"
    }
   ],
   "source": [
    "soup.select('#s2_02 > div > table > tbody > tr > td.al > a')[0].text"
   ]
  },
  {
   "cell_type": "code",
   "execution_count": null,
   "id": "fb47f92c-5e30-421f-8c92-8cb197461ee3",
   "metadata": {},
   "outputs": [],
   "source": []
  }
 ],
 "metadata": {
  "kernelspec": {
   "display_name": "Python 3 (ipykernel)",
   "language": "python",
   "name": "python3"
  },
  "language_info": {
   "codemirror_mode": {
    "name": "ipython",
    "version": 3
   },
   "file_extension": ".py",
   "mimetype": "text/x-python",
   "name": "python",
   "nbconvert_exporter": "python",
   "pygments_lexer": "ipython3",
   "version": "3.9.13"
  }
 },
 "nbformat": 4,
 "nbformat_minor": 5
}
