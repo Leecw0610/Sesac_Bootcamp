{
 "cells": [
  {
   "cell_type": "code",
   "execution_count": 5,
   "id": "c2cb675a-779c-49c4-bf96-e0321e36cd8b",
   "metadata": {},
   "outputs": [
    {
     "name": "stdout",
     "output_type": "stream",
     "text": [
      "Collecting python-docx\n",
      "  Downloading python-docx-0.8.11.tar.gz (5.6 MB)\n",
      "Requirement already satisfied: lxml>=2.3.2 in c:\\users\\user\\anaconda3\\lib\\site-packages (from python-docx) (4.8.0)\n",
      "Building wheels for collected packages: python-docx\n",
      "  Building wheel for python-docx (setup.py): started\n",
      "  Building wheel for python-docx (setup.py): finished with status 'done'\n",
      "  Created wheel for python-docx: filename=python_docx-0.8.11-py3-none-any.whl size=184507 sha256=60673fc4d58865b63617a9bc1d21e1486871ceb0bafaffc04ca2795f8e5623ec\n",
      "  Stored in directory: c:\\users\\user\\appdata\\local\\pip\\cache\\wheels\\83\\8b\\7c\\09ae60c42c7ba4ed2dddaf2b8b9186cb105255856d6ed3dba5\n",
      "Successfully built python-docx\n",
      "Installing collected packages: python-docx\n",
      "Successfully installed python-docx-0.8.11\n",
      "Note: you may need to restart the kernel to use updated packages.\n"
     ]
    }
   ],
   "source": [
    "pip install python-docx"
   ]
  },
  {
   "cell_type": "code",
   "execution_count": 10,
   "id": "5b61bfd4-42d6-4ee6-92e9-f0ecda5c7430",
   "metadata": {},
   "outputs": [],
   "source": [
    "import pandas as pd\n",
    "import docx"
   ]
  },
  {
   "cell_type": "code",
   "execution_count": 8,
   "id": "68b4b1d5-962e-4780-9161-b08cd23b985a",
   "metadata": {},
   "outputs": [],
   "source": [
    "df = pd.read_csv('data.csv', encoding='euckr')"
   ]
  },
  {
   "cell_type": "code",
   "execution_count": 9,
   "id": "79151172-a53d-4651-a5b4-b4ad40a6160f",
   "metadata": {},
   "outputs": [
    {
     "data": {
      "text/html": [
       "<div>\n",
       "<style scoped>\n",
       "    .dataframe tbody tr th:only-of-type {\n",
       "        vertical-align: middle;\n",
       "    }\n",
       "\n",
       "    .dataframe tbody tr th {\n",
       "        vertical-align: top;\n",
       "    }\n",
       "\n",
       "    .dataframe thead th {\n",
       "        text-align: right;\n",
       "    }\n",
       "</style>\n",
       "<table border=\"1\" class=\"dataframe\">\n",
       "  <thead>\n",
       "    <tr style=\"text-align: right;\">\n",
       "      <th></th>\n",
       "      <th>수료번호</th>\n",
       "      <th>성명</th>\n",
       "      <th>소속</th>\n",
       "      <th>교육과정</th>\n",
       "      <th>교육기간</th>\n",
       "      <th>발행일</th>\n",
       "    </tr>\n",
       "  </thead>\n",
       "  <tbody>\n",
       "    <tr>\n",
       "      <th>0</th>\n",
       "      <td>2022-001</td>\n",
       "      <td>강지원</td>\n",
       "      <td>금천 2기</td>\n",
       "      <td>기업데이터를 활용한 AI</td>\n",
       "      <td>2022.10 ~ 2023.02</td>\n",
       "      <td>23.03.01</td>\n",
       "    </tr>\n",
       "    <tr>\n",
       "      <th>1</th>\n",
       "      <td>2022-002</td>\n",
       "      <td>고건영</td>\n",
       "      <td>금천 2기</td>\n",
       "      <td>기업데이터를 활용한 AI</td>\n",
       "      <td>2022.10 ~ 2023.02</td>\n",
       "      <td>23.03.01</td>\n",
       "    </tr>\n",
       "    <tr>\n",
       "      <th>2</th>\n",
       "      <td>2022-003</td>\n",
       "      <td>고상현</td>\n",
       "      <td>금천 2기</td>\n",
       "      <td>기업데이터를 활용한 AI</td>\n",
       "      <td>2022.10 ~ 2023.02</td>\n",
       "      <td>23.03.01</td>\n",
       "    </tr>\n",
       "    <tr>\n",
       "      <th>3</th>\n",
       "      <td>2022-004</td>\n",
       "      <td>김민진</td>\n",
       "      <td>금천 2기</td>\n",
       "      <td>기업데이터를 활용한 AI</td>\n",
       "      <td>2022.10 ~ 2023.02</td>\n",
       "      <td>23.03.01</td>\n",
       "    </tr>\n",
       "    <tr>\n",
       "      <th>4</th>\n",
       "      <td>2022-005</td>\n",
       "      <td>김병진</td>\n",
       "      <td>금천 2기</td>\n",
       "      <td>기업데이터를 활용한 AI</td>\n",
       "      <td>2022.10 ~ 2023.02</td>\n",
       "      <td>23.03.01</td>\n",
       "    </tr>\n",
       "  </tbody>\n",
       "</table>\n",
       "</div>"
      ],
      "text/plain": [
       "       수료번호   성명     소속           교육과정               교육기간       발행일\n",
       "0  2022-001  강지원  금천 2기  기업데이터를 활용한 AI  2022.10 ~ 2023.02  23.03.01\n",
       "1  2022-002  고건영  금천 2기  기업데이터를 활용한 AI  2022.10 ~ 2023.02  23.03.01\n",
       "2  2022-003  고상현  금천 2기  기업데이터를 활용한 AI  2022.10 ~ 2023.02  23.03.01\n",
       "3  2022-004  김민진  금천 2기  기업데이터를 활용한 AI  2022.10 ~ 2023.02  23.03.01\n",
       "4  2022-005  김병진  금천 2기  기업데이터를 활용한 AI  2022.10 ~ 2023.02  23.03.01"
      ]
     },
     "execution_count": 9,
     "metadata": {},
     "output_type": "execute_result"
    }
   ],
   "source": [
    "df"
   ]
  },
  {
   "cell_type": "code",
   "execution_count": 12,
   "id": "1f06c5f5-ceb9-4b00-a277-e51300e6e064",
   "metadata": {},
   "outputs": [
    {
     "data": {
      "text/html": [
       "<div>\n",
       "<style scoped>\n",
       "    .dataframe tbody tr th:only-of-type {\n",
       "        vertical-align: middle;\n",
       "    }\n",
       "\n",
       "    .dataframe tbody tr th {\n",
       "        vertical-align: top;\n",
       "    }\n",
       "\n",
       "    .dataframe thead th {\n",
       "        text-align: right;\n",
       "    }\n",
       "</style>\n",
       "<table border=\"1\" class=\"dataframe\">\n",
       "  <thead>\n",
       "    <tr style=\"text-align: right;\">\n",
       "      <th></th>\n",
       "      <th>교육기간</th>\n",
       "      <th>성명</th>\n",
       "    </tr>\n",
       "  </thead>\n",
       "  <tbody>\n",
       "    <tr>\n",
       "      <th>0</th>\n",
       "      <td>2022.10 ~ 2023.02</td>\n",
       "      <td>강지원</td>\n",
       "    </tr>\n",
       "    <tr>\n",
       "      <th>1</th>\n",
       "      <td>2022.10 ~ 2023.02</td>\n",
       "      <td>고건영</td>\n",
       "    </tr>\n",
       "    <tr>\n",
       "      <th>2</th>\n",
       "      <td>2022.10 ~ 2023.02</td>\n",
       "      <td>고상현</td>\n",
       "    </tr>\n",
       "    <tr>\n",
       "      <th>3</th>\n",
       "      <td>2022.10 ~ 2023.02</td>\n",
       "      <td>김민진</td>\n",
       "    </tr>\n",
       "    <tr>\n",
       "      <th>4</th>\n",
       "      <td>2022.10 ~ 2023.02</td>\n",
       "      <td>김병진</td>\n",
       "    </tr>\n",
       "  </tbody>\n",
       "</table>\n",
       "</div>"
      ],
      "text/plain": [
       "                교육기간   성명\n",
       "0  2022.10 ~ 2023.02  강지원\n",
       "1  2022.10 ~ 2023.02  고건영\n",
       "2  2022.10 ~ 2023.02  고상현\n",
       "3  2022.10 ~ 2023.02  김민진\n",
       "4  2022.10 ~ 2023.02  김병진"
      ]
     },
     "execution_count": 12,
     "metadata": {},
     "output_type": "execute_result"
    }
   ],
   "source": [
    "df[['교육기간','성명']]"
   ]
  },
  {
   "cell_type": "code",
   "execution_count": 34,
   "id": "719ef68e-ff29-4b0d-8b7b-50eca503a090",
   "metadata": {},
   "outputs": [],
   "source": [
    "doc=docx.Document('template.docx')"
   ]
  },
  {
   "cell_type": "code",
   "execution_count": 35,
   "id": "0e71432b-1683-4631-a51e-52d59f17f1bb",
   "metadata": {},
   "outputs": [],
   "source": [
    "para = doc.paragraphs"
   ]
  },
  {
   "cell_type": "code",
   "execution_count": 36,
   "id": "1510f1c4-3861-4bf9-95e3-b405cbb04651",
   "metadata": {},
   "outputs": [],
   "source": [
    "def view(para) :\n",
    "    for n, t in enumerate(para) :\n",
    "        print(n, t.text)"
   ]
  },
  {
   "cell_type": "code",
   "execution_count": 37,
   "id": "220d60ff-5a09-437b-b408-fb0784d147d2",
   "metadata": {},
   "outputs": [
    {
     "name": "stdout",
     "output_type": "stream",
     "text": [
      "0 \n",
      "1 수료번호 : \n",
      "2 수 료 증\n",
      "3 \n",
      "4 성    명 : \n",
      "5 소    속 : \n",
      "6 교육과정 : \n",
      "7 교육기간 : \n",
      "8 \n",
      "9 귀하는 위 교육을 수료하였기에 이 증서를 수여합니다.\n",
      "10 \n",
      "11 \n",
      "12 (발행일)\n",
      "13 \n",
      "14 청년취업사관학교\n"
     ]
    }
   ],
   "source": [
    "for n, t in enumerate(para) :\n",
    "    print(n, t.text)"
   ]
  },
  {
   "cell_type": "code",
   "execution_count": 27,
   "id": "2575fb80-03e2-4343-99bf-340475c88e13",
   "metadata": {},
   "outputs": [
    {
     "data": {
      "text/plain": [
       "<docx.text.paragraph.Paragraph at 0x222088ce8b0>"
      ]
     },
     "execution_count": 27,
     "metadata": {},
     "output_type": "execute_result"
    }
   ],
   "source": [
    "para[1].clear()"
   ]
  },
  {
   "cell_type": "code",
   "execution_count": 28,
   "id": "5b30f649-e4fa-4d45-aef8-bab345587ed9",
   "metadata": {},
   "outputs": [
    {
     "name": "stdout",
     "output_type": "stream",
     "text": [
      "0 \n",
      "1 \n",
      "2 \n",
      "3 수 료 증\n",
      "4 \n",
      "5 성    명 : \n",
      "6 소    속 : \n",
      "7 교육과정 : \n",
      "8 교육기간 : \n",
      "9 \n",
      "10 귀하는 위 교육을 수료하였기에 이 증서를 수여합니다.\n",
      "11 \n",
      "12 \n",
      "13 (발행일)\n",
      "14 \n",
      "15 청년취업사관학교\n",
      "16 \n"
     ]
    }
   ],
   "source": [
    "view(para)"
   ]
  },
  {
   "cell_type": "code",
   "execution_count": 29,
   "id": "0c14cc73-fdd8-4f3b-a901-8ff33a35de07",
   "metadata": {},
   "outputs": [],
   "source": [
    "run = para[1].add_run(\"수료번호 : \" + df.iloc[0]['수료번호'])"
   ]
  },
  {
   "cell_type": "code",
   "execution_count": 30,
   "id": "5c4cecd0-1471-4035-93f8-5c4ec167b2fe",
   "metadata": {},
   "outputs": [],
   "source": [
    "run.font.name = '나눔고딕'\n",
    "run.bold=True\n",
    "run.font.size = docx.shared.Pt(16)"
   ]
  },
  {
   "cell_type": "code",
   "execution_count": null,
   "id": "afeb9a70-d6ec-4da1-9363-ddbb9820fe64",
   "metadata": {},
   "outputs": [],
   "source": []
  },
  {
   "cell_type": "code",
   "execution_count": 44,
   "id": "f444b737-d831-43ab-a8f5-6606253c0284",
   "metadata": {},
   "outputs": [
    {
     "name": "stdout",
     "output_type": "stream",
     "text": [
      "0 \n",
      "1 수료번호 : 2022-001\n",
      "2 수 료 증\n",
      "3 \n",
      "4 성    명 : \n",
      "5 소    속 : \n",
      "6 교육과정 : \n",
      "7 교육기간 : \n",
      "8 \n",
      "9 귀하는 위 교육을 수료하였기에 이 증서를 수여합니다.\n",
      "10 \n",
      "11 \n",
      "12 (발행일)\n",
      "13 \n",
      "14 청년취업사관학교\n"
     ]
    }
   ],
   "source": [
    "view(para)"
   ]
  },
  {
   "cell_type": "code",
   "execution_count": 39,
   "id": "26d8f08b-2c30-4317-806d-02bb8e106be8",
   "metadata": {},
   "outputs": [],
   "source": [
    "from tqdm import tqdm"
   ]
  },
  {
   "cell_type": "code",
   "execution_count": 54,
   "id": "71193de5-dbb8-4ffc-ae36-d50e9aec67fc",
   "metadata": {},
   "outputs": [],
   "source": [
    "for index , low in df.iterrows() :\n",
    "    # print(index, low['수료번호'], low['성명'], low['소속'],low['교육과정'],low['교육기간'],low['발행일'])\n",
    "    # print('---')\n",
    "    doc=docx.Document('template.docx')      \n",
    "    para = doc.paragraphs\n",
    "    \n",
    "    para[1].clear()\n",
    "    run = para[1].add_run(\"수료번호 : \" + df.iloc[index]['수료번호'])\n",
    "    run.font.name = '나눔고딕'\n",
    "    run.bold=True\n",
    "    run.font.size = docx.shared.Pt(16)\n",
    "    \n",
    "    para[4].clear()\n",
    "    run = para[4].add_run(\"성명 : \" + df.iloc[0]['성명'])\n",
    "    run.font.name = '나눔고딕'\n",
    "    run.bold=True\n",
    "    run.font.size = docx.shared.Pt(16)\n",
    "    \n",
    "    para[5].clear()\n",
    "    run = para[5].add_run(\"소속 : \" + df.iloc[0]['소속'])\n",
    "    run.font.name = '나눔고딕'\n",
    "    run.bold=True\n",
    "    run.font.size = docx.shared.Pt(16)\n",
    "    \n",
    "    para[6].clear()\n",
    "    run = para[6].add_run(\"교육과정 : \" + df.iloc[0]['교육과정'])\n",
    "    run.font.name = '나눔고딕'\n",
    "    run.bold=True\n",
    "    run.font.size = docx.shared.Pt(16)\n",
    "    \n",
    "    para[7].clear()\n",
    "    run = para[7].add_run(\"교육기간 : \" + df.iloc[0]['교육기간'])\n",
    "    run.font.name = '나눔고딕'\n",
    "    run.bold=True\n",
    "    run.font.size = docx.shared.Pt(16)\n",
    "    \n",
    "    doc.save(low['수료번호'] +'.docx')"
   ]
  },
  {
   "cell_type": "code",
   "execution_count": 49,
   "id": "c0a47d42-2927-455a-b1a7-b8916d461dc1",
   "metadata": {},
   "outputs": [
    {
     "name": "stdout",
     "output_type": "stream",
     "text": [
      "Requirement already satisfied: docx2pdf in c:\\users\\user\\anaconda3\\lib\\site-packages (0.1.8)\n",
      "Requirement already satisfied: pywin32>=227 in c:\\users\\user\\anaconda3\\lib\\site-packages (from docx2pdf) (302)\n",
      "Requirement already satisfied: tqdm>=4.41.0 in c:\\users\\user\\anaconda3\\lib\\site-packages (from docx2pdf) (4.64.0)\n",
      "Requirement already satisfied: colorama in c:\\users\\user\\anaconda3\\lib\\site-packages (from tqdm>=4.41.0->docx2pdf) (0.4.4)\n",
      "Note: you may need to restart the kernel to use updated packages.\n"
     ]
    }
   ],
   "source": [
    "pip install docx2pdf"
   ]
  },
  {
   "cell_type": "code",
   "execution_count": 50,
   "id": "6e253ff7-8009-4394-9495-a6c4e378f74d",
   "metadata": {},
   "outputs": [],
   "source": [
    "from docx2pdf import convert"
   ]
  },
  {
   "cell_type": "code",
   "execution_count": 53,
   "id": "6d3ee976-98b1-4e1d-a153-435e96d80c2a",
   "metadata": {},
   "outputs": [
    {
     "data": {
      "application/vnd.jupyter.widget-view+json": {
       "model_id": "dbb53025d1fb4e47be31d9374a6bd5f2",
       "version_major": 2,
       "version_minor": 0
      },
      "text/plain": [
       "  0%|          | 0/1 [00:00<?, ?it/s]"
      ]
     },
     "metadata": {},
     "output_type": "display_data"
    },
    {
     "ename": "com_error",
     "evalue": "(-2147352567, '예외가 발생했습니다.', (0, 'Microsoft Word', '파일을 찾을 수 없습니다. 파일이 이동 또는 삭제되었거나 이름이 변경되었는지 확인하세요.\\r (C:\\\\Users\\\\user\\\\Documents\\\\2022-001.docx)', 'wdmain11.chm', 24654, -2146823114), None)",
     "output_type": "error",
     "traceback": [
      "\u001b[1;31m---------------------------------------------------------------------------\u001b[0m",
      "\u001b[1;31mcom_error\u001b[0m                                 Traceback (most recent call last)",
      "Input \u001b[1;32mIn [53]\u001b[0m, in \u001b[0;36m<cell line: 1>\u001b[1;34m()\u001b[0m\n\u001b[0;32m      2\u001b[0m inputFile \u001b[38;5;241m=\u001b[39m num \u001b[38;5;241m+\u001b[39m \u001b[38;5;124m'\u001b[39m\u001b[38;5;124m.docx\u001b[39m\u001b[38;5;124m'\u001b[39m\n\u001b[0;32m      3\u001b[0m outputFile \u001b[38;5;241m=\u001b[39m num \u001b[38;5;241m+\u001b[39m \u001b[38;5;124m'\u001b[39m\u001b[38;5;124m.pdf\u001b[39m\u001b[38;5;124m'\u001b[39m\n\u001b[1;32m----> 5\u001b[0m \u001b[43mconvert\u001b[49m\u001b[43m(\u001b[49m\u001b[43minputFile\u001b[49m\u001b[43m,\u001b[49m\u001b[43m \u001b[49m\u001b[43m\\\u001b[49m\n\u001b[0;32m      6\u001b[0m \u001b[43m        \u001b[49m\u001b[38;5;124;43m'\u001b[39;49m\u001b[38;5;124;43mC:\u001b[39;49m\u001b[38;5;130;43;01m\\\\\u001b[39;49;00m\u001b[38;5;124;43mUsers\u001b[39;49m\u001b[38;5;130;43;01m\\\\\u001b[39;49;00m\u001b[38;5;124;43muser\u001b[39;49m\u001b[38;5;130;43;01m\\\\\u001b[39;49;00m\u001b[38;5;124;43mDesktop\u001b[39;49m\u001b[38;5;130;43;01m\\\\\u001b[39;49;00m\u001b[38;5;124;43mPython\u001b[39;49m\u001b[38;5;130;43;01m\\\\\u001b[39;49;00m\u001b[38;5;124;43m221107\u001b[39;49m\u001b[38;5;124;43m'\u001b[39;49m\u001b[43m \u001b[49m\u001b[38;5;241;43m+\u001b[39;49m\u001b[43m \u001b[49m\u001b[43moutputFile\u001b[49m\u001b[43m)\u001b[49m\n",
      "File \u001b[1;32m~\\anaconda3\\lib\\site-packages\\docx2pdf\\__init__.py:106\u001b[0m, in \u001b[0;36mconvert\u001b[1;34m(input_path, output_path, keep_active)\u001b[0m\n\u001b[0;32m    104\u001b[0m     \u001b[38;5;28;01mreturn\u001b[39;00m macos(paths, keep_active)\n\u001b[0;32m    105\u001b[0m \u001b[38;5;28;01melif\u001b[39;00m sys\u001b[38;5;241m.\u001b[39mplatform \u001b[38;5;241m==\u001b[39m \u001b[38;5;124m\"\u001b[39m\u001b[38;5;124mwin32\u001b[39m\u001b[38;5;124m\"\u001b[39m:\n\u001b[1;32m--> 106\u001b[0m     \u001b[38;5;28;01mreturn\u001b[39;00m \u001b[43mwindows\u001b[49m\u001b[43m(\u001b[49m\u001b[43mpaths\u001b[49m\u001b[43m,\u001b[49m\u001b[43m \u001b[49m\u001b[43mkeep_active\u001b[49m\u001b[43m)\u001b[49m\n\u001b[0;32m    107\u001b[0m \u001b[38;5;28;01melse\u001b[39;00m:\n\u001b[0;32m    108\u001b[0m     \u001b[38;5;28;01mraise\u001b[39;00m \u001b[38;5;167;01mNotImplementedError\u001b[39;00m(\n\u001b[0;32m    109\u001b[0m         \u001b[38;5;124m\"\u001b[39m\u001b[38;5;124mdocx2pdf is not implemented for linux as it requires Microsoft Word to be installed\u001b[39m\u001b[38;5;124m\"\u001b[39m\n\u001b[0;32m    110\u001b[0m     )\n",
      "File \u001b[1;32m~\\anaconda3\\lib\\site-packages\\docx2pdf\\__init__.py:32\u001b[0m, in \u001b[0;36mwindows\u001b[1;34m(paths, keep_active)\u001b[0m\n\u001b[0;32m     30\u001b[0m docx_filepath \u001b[38;5;241m=\u001b[39m Path(paths[\u001b[38;5;124m\"\u001b[39m\u001b[38;5;124minput\u001b[39m\u001b[38;5;124m\"\u001b[39m])\u001b[38;5;241m.\u001b[39mresolve()\n\u001b[0;32m     31\u001b[0m pdf_filepath \u001b[38;5;241m=\u001b[39m Path(paths[\u001b[38;5;124m\"\u001b[39m\u001b[38;5;124moutput\u001b[39m\u001b[38;5;124m\"\u001b[39m])\u001b[38;5;241m.\u001b[39mresolve()\n\u001b[1;32m---> 32\u001b[0m doc \u001b[38;5;241m=\u001b[39m \u001b[43mword\u001b[49m\u001b[38;5;241;43m.\u001b[39;49m\u001b[43mDocuments\u001b[49m\u001b[38;5;241;43m.\u001b[39;49m\u001b[43mOpen\u001b[49m\u001b[43m(\u001b[49m\u001b[38;5;28;43mstr\u001b[39;49m\u001b[43m(\u001b[49m\u001b[43mdocx_filepath\u001b[49m\u001b[43m)\u001b[49m\u001b[43m)\u001b[49m\n\u001b[0;32m     33\u001b[0m doc\u001b[38;5;241m.\u001b[39mSaveAs(\u001b[38;5;28mstr\u001b[39m(pdf_filepath), FileFormat\u001b[38;5;241m=\u001b[39mwdFormatPDF)\n\u001b[0;32m     34\u001b[0m doc\u001b[38;5;241m.\u001b[39mClose(\u001b[38;5;241m0\u001b[39m)\n",
      "File \u001b[1;32m<COMObject <unknown>>:5\u001b[0m, in \u001b[0;36mOpen\u001b[1;34m(self, FileName, ConfirmConversions, ReadOnly, AddToRecentFiles, PasswordDocument, PasswordTemplate, Revert, WritePasswordDocument, WritePasswordTemplate, Format, Encoding, Visible, OpenAndRepair, DocumentDirection, NoEncodingDialog, XMLTransform)\u001b[0m\n",
      "\u001b[1;31mcom_error\u001b[0m: (-2147352567, '예외가 발생했습니다.', (0, 'Microsoft Word', '파일을 찾을 수 없습니다. 파일이 이동 또는 삭제되었거나 이름이 변경되었는지 확인하세요.\\r (C:\\\\Users\\\\user\\\\Documents\\\\2022-001.docx)', 'wdmain11.chm', 24654, -2146823114), None)"
     ]
    }
   ],
   "source": [
    "for num in df['수료번호'] :\n",
    "    inputFile = num + '.docx'\n",
    "    outputFile = num + '.pdf'\n",
    "    \n",
    "    convert(inputFile, \\\n",
    "            'C:\\\\Users\\\\user\\\\Desktop\\\\Python\\\\221107' + outputFile)"
   ]
  },
  {
   "cell_type": "code",
   "execution_count": null,
   "id": "32f6b0b0-3ecd-4321-a98e-f1b2f58bc952",
   "metadata": {},
   "outputs": [],
   "source": []
  }
 ],
 "metadata": {
  "kernelspec": {
   "display_name": "Python 3 (ipykernel)",
   "language": "python",
   "name": "python3"
  },
  "language_info": {
   "codemirror_mode": {
    "name": "ipython",
    "version": 3
   },
   "file_extension": ".py",
   "mimetype": "text/x-python",
   "name": "python",
   "nbconvert_exporter": "python",
   "pygments_lexer": "ipython3",
   "version": "3.9.12"
  }
 },
 "nbformat": 4,
 "nbformat_minor": 5
}
