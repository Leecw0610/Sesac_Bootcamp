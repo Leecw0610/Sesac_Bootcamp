{
 "cells": [
  {
   "cell_type": "markdown",
   "id": "a421a360-370d-4f11-9362-9815d8da2914",
   "metadata": {},
   "source": [
    "# Python Comprehension\n",
    "- List\n",
    "- Set\n",
    "- Dict"
   ]
  },
  {
   "cell_type": "markdown",
   "id": "37d3139d-4ba5-46af-b3e4-d184250c1f76",
   "metadata": {},
   "source": [
    "## List Comprehension"
   ]
  },
  {
   "cell_type": "markdown",
   "id": "132e70fe-d817-4867-8a30-3e449ab7c7be",
   "metadata": {},
   "source": [
    "## [ 출력표현식 for 요소 in 입력 Sequence [if 조건식] ]"
   ]
  },
  {
   "cell_type": "raw",
   "id": "086153bf-4dc3-408d-a7e1-27b4ae7589ed",
   "metadata": {},
   "source": [
    "구구단 2단의 결과를 넣은 리스트를 만들어보시오"
   ]
  },
  {
   "cell_type": "code",
   "execution_count": 9,
   "id": "e2ffb1ca-25e6-4e30-94bf-15e55778fa75",
   "metadata": {},
   "outputs": [
    {
     "name": "stdout",
     "output_type": "stream",
     "text": [
      "2 1 2\n",
      "2 2 4\n",
      "2 3 6\n",
      "2 4 8\n",
      "2 5 10\n",
      "2 6 12\n",
      "2 7 14\n",
      "2 8 16\n",
      "2 9 18\n"
     ]
    }
   ],
   "source": [
    "dan =[]\n",
    "i= 2\n",
    "for j in range (1, 10) :\n",
    "    print(i,j, i*j)\n",
    "    dan.append(i*j)\n",
    "    \n"
   ]
  },
  {
   "cell_type": "code",
   "execution_count": 10,
   "id": "bfd39e2a-3d66-41b8-90a0-6e8315519bce",
   "metadata": {},
   "outputs": [
    {
     "data": {
      "text/plain": [
       "[2, 4, 6, 8, 10, 12, 14, 16, 18]"
      ]
     },
     "execution_count": 10,
     "metadata": {},
     "output_type": "execute_result"
    }
   ],
   "source": [
    "dan"
   ]
  },
  {
   "cell_type": "code",
   "execution_count": 11,
   "id": "337c0ae7-b286-4b6a-8b30-517bc7a2aa3d",
   "metadata": {},
   "outputs": [
    {
     "data": {
      "text/plain": [
       "[2, 4, 6, 8, 10, 12, 14, 16, 18]"
      ]
     },
     "execution_count": 11,
     "metadata": {},
     "output_type": "execute_result"
    }
   ],
   "source": [
    "[2*i for i in range(1,10)]"
   ]
  },
  {
   "cell_type": "raw",
   "id": "149836f0-f0c6-4d8c-837d-53100e43d1c6",
   "metadata": {},
   "source": [
    "[Quiz] List Comprehension을 이용해서 1~10까지 제곱 출력하기\n",
    "[1, 4, 9, 16, 25, 36, 49, 64, 81, 100]"
   ]
  },
  {
   "cell_type": "code",
   "execution_count": 16,
   "id": "a14e5720-2f39-45e3-b67d-759b5acae4cb",
   "metadata": {},
   "outputs": [
    {
     "data": {
      "text/plain": [
       "[1, 4, 9, 16, 25, 36, 49, 64, 81, 100]"
      ]
     },
     "execution_count": 16,
     "metadata": {},
     "output_type": "execute_result"
    }
   ],
   "source": [
    "[i **2 for i in range(1, 11)]"
   ]
  },
  {
   "cell_type": "code",
   "execution_count": 18,
   "id": "a14a5f31-9312-4e10-96df-b42dc42e7800",
   "metadata": {},
   "outputs": [
    {
     "data": {
      "text/plain": [
       "[False,\n",
       " True,\n",
       " False,\n",
       " True,\n",
       " False,\n",
       " True,\n",
       " False,\n",
       " True,\n",
       " False,\n",
       " True,\n",
       " False,\n",
       " True,\n",
       " False,\n",
       " True,\n",
       " False,\n",
       " True,\n",
       " False,\n",
       " True,\n",
       " False,\n",
       " True]"
      ]
     },
     "execution_count": 18,
     "metadata": {},
     "output_type": "execute_result"
    }
   ],
   "source": [
    "[i%2==0 for i in range(1,21)]"
   ]
  },
  {
   "cell_type": "code",
   "execution_count": 20,
   "id": "6aabaaa0-6663-44b7-807c-1f836503d286",
   "metadata": {},
   "outputs": [],
   "source": [
    "ret =[]\n",
    "for i in range(1, 21) :\n",
    "    if i%2 ==0:\n",
    "        ret.append(i)"
   ]
  },
  {
   "cell_type": "code",
   "execution_count": 21,
   "id": "13cbb636-6e50-4fdd-8153-460b249c8dd5",
   "metadata": {},
   "outputs": [
    {
     "data": {
      "text/plain": [
       "[2, 4, 6, 8, 10, 12, 14, 16, 18, 20]"
      ]
     },
     "execution_count": 21,
     "metadata": {},
     "output_type": "execute_result"
    }
   ],
   "source": [
    "ret"
   ]
  },
  {
   "cell_type": "code",
   "execution_count": 22,
   "id": "f062f4f8-48aa-4922-b507-2ea79b222413",
   "metadata": {},
   "outputs": [
    {
     "data": {
      "text/plain": [
       "[2, 4, 6, 8, 10, 12, 14, 16, 18, 20]"
      ]
     },
     "execution_count": 22,
     "metadata": {},
     "output_type": "execute_result"
    }
   ],
   "source": [
    "[i for i in range(1, 21) if i%2 ==0 ]"
   ]
  },
  {
   "cell_type": "markdown",
   "id": "d18e8d70-129e-4b8c-bdbe-bc500d23589e",
   "metadata": {},
   "source": [
    "## [Quiz] List Comprehension을 이용하여 oldlist에서 숫자를 제곱해서 newlist를 만들어라\n",
    "## new list =[1,4,9]"
   ]
  },
  {
   "cell_type": "code",
   "execution_count": 26,
   "id": "977a5d32-c3a9-4856-bbeb-cc5e95a25a55",
   "metadata": {},
   "outputs": [],
   "source": [
    "oldlist = [1, 2, 'A', False, 3]"
   ]
  },
  {
   "cell_type": "code",
   "execution_count": 37,
   "id": "67b2a8be-2b90-4b57-ae9d-cfb2e7daaf96",
   "metadata": {},
   "outputs": [],
   "source": [
    "newlist=[i**2 for i in (oldlist) if type(i)==int]"
   ]
  },
  {
   "cell_type": "code",
   "execution_count": 35,
   "id": "c53aafb9-a09a-4c47-aa30-ee3f6783e81d",
   "metadata": {},
   "outputs": [
    {
     "data": {
      "text/plain": [
       "[1, 4, 9]"
      ]
     },
     "execution_count": 35,
     "metadata": {},
     "output_type": "execute_result"
    }
   ],
   "source": [
    "newlist"
   ]
  },
  {
   "cell_type": "code",
   "execution_count": null,
   "id": "eeac208d-193a-416d-a50f-d42f056e0fea",
   "metadata": {},
   "outputs": [],
   "source": []
  },
  {
   "cell_type": "markdown",
   "id": "542f2b2c-419b-4d60-bf8c-8426475be45b",
   "metadata": {},
   "source": [
    "# Set Comprehension"
   ]
  },
  {
   "cell_type": "code",
   "execution_count": 38,
   "id": "ddb1d924-476d-49d6-b654-899b45bb3ac3",
   "metadata": {},
   "outputs": [],
   "source": [
    "oldlist = [1,1,2,3,3,4]"
   ]
  },
  {
   "cell_type": "code",
   "execution_count": 39,
   "id": "d77eeb75-a61e-4037-a026-0b206b166adf",
   "metadata": {},
   "outputs": [
    {
     "data": {
      "text/plain": [
       "{1, 4, 9, 16}"
      ]
     },
     "execution_count": 39,
     "metadata": {},
     "output_type": "execute_result"
    }
   ],
   "source": [
    "{i*i for i in oldlist}"
   ]
  },
  {
   "cell_type": "code",
   "execution_count": null,
   "id": "93701f5d-a7c4-4c68-b8dc-c9ce39495dcb",
   "metadata": {},
   "outputs": [],
   "source": []
  },
  {
   "cell_type": "markdown",
   "id": "088b3f1f-37b3-497f-aa8d-cbd11926dab1",
   "metadata": {},
   "source": [
    "# Dictionary Comprehension"
   ]
  },
  {
   "cell_type": "markdown",
   "id": "471deeae-e4cd-4fc9-88e6-7592df595bb7",
   "metadata": {},
   "source": [
    "## {Key:Value for 요소 in  입력 Sequence [if 조건식]}"
   ]
  },
  {
   "cell_type": "code",
   "execution_count": 40,
   "id": "5a9641a0-8fcf-4e45-afc7-7e1ee74e4bd5",
   "metadata": {},
   "outputs": [],
   "source": [
    "id_name = {1: '남성현', 2: '고상현', 3: '윤승현'}"
   ]
  },
  {
   "cell_type": "raw",
   "id": "636a4e54-1721-46d2-8ea0-42bf41908295",
   "metadata": {},
   "source": [
    "이름이 key고 value가 숫자"
   ]
  },
  {
   "cell_type": "code",
   "execution_count": 41,
   "id": "77cb13e2-4797-45e8-b220-0365bee89244",
   "metadata": {},
   "outputs": [
    {
     "data": {
      "text/plain": [
       "dict_items([(1, '남성현'), (2, '고상현'), (3, '윤승현')])"
      ]
     },
     "execution_count": 41,
     "metadata": {},
     "output_type": "execute_result"
    }
   ],
   "source": [
    "id_name.items()"
   ]
  },
  {
   "cell_type": "code",
   "execution_count": 66,
   "id": "4d08553f-d72b-485a-ae75-ac945e3a148c",
   "metadata": {},
   "outputs": [],
   "source": [
    "name_id = {}\n",
    "for key, value in id_name.items() :\n",
    "    name_id[value] = key"
   ]
  },
  {
   "cell_type": "code",
   "execution_count": 143,
   "id": "a63b2605-760a-48d6-b49d-bfed2e342e9c",
   "metadata": {},
   "outputs": [
    {
     "data": {
      "text/plain": [
       "{'남성현': 1, '고상현': 2, '윤승현': 3}"
      ]
     },
     "execution_count": 143,
     "metadata": {},
     "output_type": "execute_result"
    }
   ],
   "source": [
    "name_id"
   ]
  },
  {
   "cell_type": "code",
   "execution_count": 106,
   "id": "dcf1b55e-03c6-499c-bc5c-a1011cee1237",
   "metadata": {},
   "outputs": [
    {
     "data": {
      "text/plain": [
       "{'남성현': 1, '고상현': 2, '윤승현': 3}"
      ]
     },
     "execution_count": 106,
     "metadata": {},
     "output_type": "execute_result"
    }
   ],
   "source": [
    "{value : key for key, value in id_name.items()}"
   ]
  },
  {
   "cell_type": "code",
   "execution_count": 105,
   "id": "333499bb-d36f-4220-9969-d90610590f9e",
   "metadata": {},
   "outputs": [
    {
     "data": {
      "text/plain": [
       "dict_keys([1, 2, 3])"
      ]
     },
     "execution_count": 105,
     "metadata": {},
     "output_type": "execute_result"
    }
   ],
   "source": [
    "id_name.keys()"
   ]
  },
  {
   "cell_type": "code",
   "execution_count": 103,
   "id": "540526cc-ffcd-47d4-bbc2-1aaf30739fca",
   "metadata": {},
   "outputs": [],
   "source": [
    "newdict={}\n",
    "for i, j in zip(id_name.keys() , id_name.values()) :\n",
    "   # print ((j,i))\n",
    "    newdict[j]= i"
   ]
  },
  {
   "cell_type": "code",
   "execution_count": 145,
   "id": "a1f29ca8-e427-4b65-bf5d-1482f649f56e",
   "metadata": {},
   "outputs": [
    {
     "data": {
      "text/plain": [
       "{'남성현': 1, '고상현': 2, '윤승현': 3}"
      ]
     },
     "execution_count": 145,
     "metadata": {},
     "output_type": "execute_result"
    }
   ],
   "source": [
    "newdict"
   ]
  },
  {
   "cell_type": "raw",
   "id": "16cb4417-9d4b-4ed1-b4e5-90b5d437ca0d",
   "metadata": {},
   "source": [
    "Value가 2인 사람만 출력"
   ]
  },
  {
   "cell_type": "code",
   "execution_count": 136,
   "id": "cd9ef1bf-810a-4e38-852e-1cd311c9020a",
   "metadata": {},
   "outputs": [
    {
     "data": {
      "text/plain": [
       "'고상현'"
      ]
     },
     "execution_count": 136,
     "metadata": {},
     "output_type": "execute_result"
    }
   ],
   "source": [
    "[key for key, value in name_id.items() if value ==2][0]"
   ]
  },
  {
   "cell_type": "code",
   "execution_count": 121,
   "id": "c3f2eb9f-2a71-48c2-8b07-2df9f0a54532",
   "metadata": {},
   "outputs": [
    {
     "data": {
      "text/plain": [
       "dict_items([('남성현', 1), ('고상현', 2), ('윤승현', 3)])"
      ]
     },
     "execution_count": 121,
     "metadata": {},
     "output_type": "execute_result"
    }
   ],
   "source": [
    "name_id.items()"
   ]
  },
  {
   "cell_type": "raw",
   "id": "97fd59fa-9be7-4eab-baf2-f63c11d45227",
   "metadata": {},
   "source": [
    "1부터 10까지 홀수를 key로 하고 value를 key의 제곱으로 하는 dict만들기"
   ]
  },
  {
   "cell_type": "code",
   "execution_count": 141,
   "id": "55d393c0-8464-4c37-99eb-dccba4407a71",
   "metadata": {},
   "outputs": [
    {
     "data": {
      "text/plain": [
       "{1: 1, 3: 9, 5: 25, 7: 49, 9: 81}"
      ]
     },
     "execution_count": 141,
     "metadata": {},
     "output_type": "execute_result"
    }
   ],
   "source": [
    "{key : (key**2) for key in range(11) if key%2==1}"
   ]
  },
  {
   "cell_type": "code",
   "execution_count": null,
   "id": "a041fe09-9895-440a-9fbe-225a0b1c39f4",
   "metadata": {},
   "outputs": [],
   "source": []
  },
  {
   "cell_type": "markdown",
   "id": "ad433636-64f9-49cf-b236-336bd5882cc8",
   "metadata": {},
   "source": [
    "## Partial"
   ]
  },
  {
   "cell_type": "markdown",
   "id": "e14645cc-9350-4966-8c71-68bba918c06b",
   "metadata": {},
   "source": [
    "- 매개 변수가 1개인 함수에 여러 매개 변수를 전달해야 할 때 많이 사용"
   ]
  },
  {
   "cell_type": "code",
   "execution_count": 164,
   "id": "1f791579-97ac-432b-8597-6ce12149970b",
   "metadata": {},
   "outputs": [],
   "source": [
    "def double(x) :\n",
    "    return x ** 2\n",
    "\n",
    "def triple(x) : \n",
    "    return x ** 3\n",
    "\n",
    "def multiple(x,y,z) : \n",
    "    return x** y +z"
   ]
  },
  {
   "cell_type": "code",
   "execution_count": 165,
   "id": "22058134-fefc-4bdf-9e83-d10fab2f3b8d",
   "metadata": {},
   "outputs": [
    {
     "name": "stdout",
     "output_type": "stream",
     "text": [
      "4\n",
      "8\n"
     ]
    }
   ],
   "source": [
    "print(double(2))\n",
    "print(triple(2))"
   ]
  },
  {
   "cell_type": "raw",
   "id": "070613cf-ef08-485d-b6c8-d94753839f4a",
   "metadata": {},
   "source": [
    "매개변수를 여러개 넣고 싶을때,"
   ]
  },
  {
   "cell_type": "code",
   "execution_count": 166,
   "id": "95c9ef47-aff5-4c5b-8a7a-933d4ebc555d",
   "metadata": {},
   "outputs": [],
   "source": [
    "from functools import partial"
   ]
  },
  {
   "cell_type": "code",
   "execution_count": 167,
   "id": "b7500096-dd1c-4076-b821-cd14e8bdb211",
   "metadata": {},
   "outputs": [],
   "source": [
    "dbl = partial(multiple, y=2, z=1)\n",
    "tpl = partial(multiple, y=3, z=2)"
   ]
  },
  {
   "cell_type": "code",
   "execution_count": 169,
   "id": "dc87f07a-3daf-4b93-928c-c06b1bee63a6",
   "metadata": {},
   "outputs": [
    {
     "name": "stdout",
     "output_type": "stream",
     "text": [
      "10\n",
      "29\n"
     ]
    }
   ],
   "source": [
    "print(dbl(3))\n",
    "print(tpl(3))"
   ]
  },
  {
   "cell_type": "code",
   "execution_count": null,
   "id": "fbff7446-15a7-4cee-99ed-e482cb16c926",
   "metadata": {},
   "outputs": [],
   "source": []
  },
  {
   "cell_type": "code",
   "execution_count": null,
   "id": "389710d4-fd13-4cda-bdd6-cdb4d1c60fab",
   "metadata": {},
   "outputs": [],
   "source": []
  },
  {
   "cell_type": "code",
   "execution_count": null,
   "id": "312d87fb-70f8-49f0-b80e-05a245353b08",
   "metadata": {},
   "outputs": [],
   "source": []
  }
 ],
 "metadata": {
  "kernelspec": {
   "display_name": "Python 3 (ipykernel)",
   "language": "python",
   "name": "python3"
  },
  "language_info": {
   "codemirror_mode": {
    "name": "ipython",
    "version": 3
   },
   "file_extension": ".py",
   "mimetype": "text/x-python",
   "name": "python",
   "nbconvert_exporter": "python",
   "pygments_lexer": "ipython3",
   "version": "3.9.12"
  }
 },
 "nbformat": 4,
 "nbformat_minor": 5
}
