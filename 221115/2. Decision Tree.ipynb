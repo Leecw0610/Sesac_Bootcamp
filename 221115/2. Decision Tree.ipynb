{
 "cells": [
  {
   "cell_type": "raw",
   "id": "403388f3-82ce-43d3-ae69-72ae1e975084",
   "metadata": {},
   "source": [
    "엔트로피를 구해 어떤 항목으로 먼저 의사결정나무를 분류할지 결정하기"
   ]
  },
  {
   "cell_type": "code",
   "execution_count": 217,
   "id": "4727bfc6-905a-494c-9a8b-d8fdfbc0c385",
   "metadata": {},
   "outputs": [],
   "source": [
    "import math\n",
    "from collections import Counter, defaultdict\n",
    "from functools import partial"
   ]
  },
  {
   "cell_type": "code",
   "execution_count": 1,
   "id": "d7da92bb-cca7-403d-88ec-84ec8ac9cf84",
   "metadata": {},
   "outputs": [],
   "source": [
    "inputs = [ ({'level':'Senior','lang':'Java','tweets':'no','phd':'no'},   False),\n",
    "        ({'level':'Senior','lang':'Java','tweets':'no','phd':'yes'},  False),\n",
    "        ({'level':'Mid','lang':'Python','tweets':'no','phd':'no'},     True),\n",
    "        ({'level':'Junior','lang':'Python','tweets':'no','phd':'no'},  True),\n",
    "        ({'level':'Junior','lang':'R','tweets':'yes','phd':'no'},      True),\n",
    "        ({'level':'Junior','lang':'R','tweets':'yes','phd':'yes'},    False),\n",
    "        ({'level':'Mid','lang':'R','tweets':'yes','phd':'yes'},        True),\n",
    "        ({'level':'Senior','lang':'Python','tweets':'no','phd':'no'}, False),\n",
    "        ({'level':'Senior','lang':'R','tweets':'yes','phd':'no'},      True),\n",
    "        ({'level':'Junior','lang':'Python','tweets':'yes','phd':'no'}, True),\n",
    "        ({'level':'Senior','lang':'Python','tweets':'yes','phd':'yes'},True),\n",
    "        ({'level':'Mid','lang':'Python','tweets':'no','phd':'yes'},    True),\n",
    "        ({'level':'Mid','lang':'Java','tweets':'yes','phd':'no'},      True),\n",
    "        ({'level':'Junior','lang':'Python','tweets':'no','phd':'yes'},False)\n",
    "    ]"
   ]
  },
  {
   "cell_type": "code",
   "execution_count": 2,
   "id": "019ad193-c459-4552-b7e0-ec36fa949482",
   "metadata": {},
   "outputs": [
    {
     "data": {
      "text/plain": [
       "({'level': 'Senior', 'lang': 'Java', 'tweets': 'no', 'phd': 'no'}, False)"
      ]
     },
     "execution_count": 2,
     "metadata": {},
     "output_type": "execute_result"
    }
   ],
   "source": [
    "inputs[0]"
   ]
  },
  {
   "cell_type": "code",
   "execution_count": 3,
   "id": "ebb4596b-61bf-41c6-8984-bf4516c20f4a",
   "metadata": {},
   "outputs": [
    {
     "data": {
      "text/plain": [
       "False"
      ]
     },
     "execution_count": 3,
     "metadata": {},
     "output_type": "execute_result"
    }
   ],
   "source": [
    "inputs[0][1]"
   ]
  },
  {
   "cell_type": "code",
   "execution_count": 9,
   "id": "eaa82cb9-98f1-40e7-97f6-bec1931b73a1",
   "metadata": {},
   "outputs": [
    {
     "data": {
      "text/plain": [
       "'Senior'"
      ]
     },
     "execution_count": 9,
     "metadata": {},
     "output_type": "execute_result"
    }
   ],
   "source": [
    "inputs[0][0]['level']"
   ]
  },
  {
   "cell_type": "code",
   "execution_count": 10,
   "id": "158224e0-6cc2-413e-bc0a-96c92db13826",
   "metadata": {},
   "outputs": [
    {
     "name": "stdout",
     "output_type": "stream",
     "text": [
      "({'level': 'Senior', 'lang': 'Java', 'tweets': 'no', 'phd': 'no'}, False)\n",
      "({'level': 'Senior', 'lang': 'Java', 'tweets': 'no', 'phd': 'yes'}, False)\n",
      "({'level': 'Senior', 'lang': 'Python', 'tweets': 'no', 'phd': 'no'}, False)\n",
      "({'level': 'Senior', 'lang': 'R', 'tweets': 'yes', 'phd': 'no'}, True)\n",
      "({'level': 'Senior', 'lang': 'Python', 'tweets': 'yes', 'phd': 'yes'}, True)\n"
     ]
    }
   ],
   "source": [
    "for data in inputs :\n",
    "    if data[0]['level'] == 'Senior' :\n",
    "        print(data)"
   ]
  },
  {
   "cell_type": "code",
   "execution_count": 31,
   "id": "96c7d2a1-fe98-4390-90e7-d47fe5146154",
   "metadata": {},
   "outputs": [
    {
     "data": {
      "text/plain": [
       "[({'level': 'Senior', 'lang': 'Java', 'tweets': 'no', 'phd': 'no'}, False),\n",
       " ({'level': 'Senior', 'lang': 'Java', 'tweets': 'no', 'phd': 'yes'}, False),\n",
       " ({'level': 'Senior', 'lang': 'Python', 'tweets': 'no', 'phd': 'no'}, False),\n",
       " ({'level': 'Senior', 'lang': 'R', 'tweets': 'yes', 'phd': 'no'}, True),\n",
       " ({'level': 'Senior', 'lang': 'Python', 'tweets': 'yes', 'phd': 'yes'}, True)]"
      ]
     },
     "execution_count": 31,
     "metadata": {},
     "output_type": "execute_result"
    }
   ],
   "source": [
    "[data for data in inputs if data[0]['level'] == 'Senior']"
   ]
  },
  {
   "cell_type": "code",
   "execution_count": 30,
   "id": "328b11c4-5400-4feb-b93b-950a12d61828",
   "metadata": {},
   "outputs": [],
   "source": [
    "#엔트로피 공식\n",
    "def entropy(class_probabilities) :\n",
    "    return sum(-p * math.log(p,2) for p in class_probabilities if p) # if p --> none 값이 있어도 error방지\n",
    "    "
   ]
  },
  {
   "cell_type": "raw",
   "id": "0d6f1275-1f60-49c1-8532-f301d5633469",
   "metadata": {},
   "source": [
    "n=10 / T 5 F 5"
   ]
  },
  {
   "cell_type": "code",
   "execution_count": 23,
   "id": "0d5d8b35-f891-40c5-9045-dc911a3e7a6a",
   "metadata": {},
   "outputs": [],
   "source": [
    "p = 5/10\n",
    "q = 5/10"
   ]
  },
  {
   "cell_type": "code",
   "execution_count": 25,
   "id": "822af4a7-3468-46aa-b70a-01481e682f28",
   "metadata": {},
   "outputs": [
    {
     "data": {
      "text/plain": [
       "1.0"
      ]
     },
     "execution_count": 25,
     "metadata": {},
     "output_type": "execute_result"
    }
   ],
   "source": [
    "-p * math.log(p,2)-q * math.log(q,2) #그래프의 엔트로피 구하는 식"
   ]
  },
  {
   "cell_type": "code",
   "execution_count": 26,
   "id": "a57d161d-d2d6-4206-a227-6e1a079be41e",
   "metadata": {},
   "outputs": [],
   "source": [
    "class_probabillities = [5/10, 5/10]"
   ]
  },
  {
   "cell_type": "code",
   "execution_count": 29,
   "id": "82b83a55-cc82-4fdb-a091-1ad43206e80c",
   "metadata": {},
   "outputs": [
    {
     "data": {
      "text/plain": [
       "1.0"
      ]
     },
     "execution_count": 29,
     "metadata": {},
     "output_type": "execute_result"
    }
   ],
   "source": [
    "entropy(class_probabillities)"
   ]
  },
  {
   "cell_type": "code",
   "execution_count": null,
   "id": "118ca74a-4caa-4243-8da2-7e980f7b0a57",
   "metadata": {},
   "outputs": [],
   "source": []
  },
  {
   "cell_type": "raw",
   "id": "7b5fac77-0f8c-4d34-b17f-919923f59c2f",
   "metadata": {},
   "source": [
    "레벨이 senior인 애들의 true false 개수"
   ]
  },
  {
   "cell_type": "code",
   "execution_count": 38,
   "id": "d0db2d82-1a6c-4a80-bc3a-e70e81312af0",
   "metadata": {},
   "outputs": [],
   "source": [
    "labeled_data = [data for data in inputs if data[0]['level'] == 'Senior']"
   ]
  },
  {
   "cell_type": "code",
   "execution_count": 39,
   "id": "a927a96c-16dc-46ab-870f-90d55be8b51f",
   "metadata": {},
   "outputs": [
    {
     "data": {
      "text/plain": [
       "[({'level': 'Senior', 'lang': 'Java', 'tweets': 'no', 'phd': 'no'}, False),\n",
       " ({'level': 'Senior', 'lang': 'Java', 'tweets': 'no', 'phd': 'yes'}, False),\n",
       " ({'level': 'Senior', 'lang': 'Python', 'tweets': 'no', 'phd': 'no'}, False),\n",
       " ({'level': 'Senior', 'lang': 'R', 'tweets': 'yes', 'phd': 'no'}, True),\n",
       " ({'level': 'Senior', 'lang': 'Python', 'tweets': 'yes', 'phd': 'yes'}, True)]"
      ]
     },
     "execution_count": 39,
     "metadata": {},
     "output_type": "execute_result"
    }
   ],
   "source": [
    "labeled_data"
   ]
  },
  {
   "cell_type": "code",
   "execution_count": 33,
   "id": "3c5f2557-534f-409b-9c6c-6a56e51f4e2c",
   "metadata": {},
   "outputs": [
    {
     "data": {
      "text/plain": [
       "[False, False, False, True, True]"
      ]
     },
     "execution_count": 33,
     "metadata": {},
     "output_type": "execute_result"
    }
   ],
   "source": [
    "[label for _, label in labeled_data]"
   ]
  },
  {
   "cell_type": "code",
   "execution_count": 34,
   "id": "76598b7b-f297-457e-ab52-a5f8565e32c9",
   "metadata": {},
   "outputs": [
    {
     "name": "stdout",
     "output_type": "stream",
     "text": [
      "{'level': 'Senior', 'lang': 'Java', 'tweets': 'no', 'phd': 'no'} / False\n",
      "{'level': 'Senior', 'lang': 'Java', 'tweets': 'no', 'phd': 'yes'} / False\n",
      "{'level': 'Senior', 'lang': 'Python', 'tweets': 'no', 'phd': 'no'} / False\n",
      "{'level': 'Senior', 'lang': 'R', 'tweets': 'yes', 'phd': 'no'} / True\n",
      "{'level': 'Senior', 'lang': 'Python', 'tweets': 'yes', 'phd': 'yes'} / True\n"
     ]
    }
   ],
   "source": [
    "for data, label in labeled_data :\n",
    "    print(data, '/', label)"
   ]
  },
  {
   "cell_type": "code",
   "execution_count": 37,
   "id": "016e5bd0-26ea-4a54-95be-8e90f0af2f76",
   "metadata": {},
   "outputs": [
    {
     "name": "stdout",
     "output_type": "stream",
     "text": [
      "False\n",
      "False\n",
      "False\n",
      "True\n",
      "True\n"
     ]
    }
   ],
   "source": [
    "for _, label in labeled_data :\n",
    "    print(label)  # _ << 앞의 내용은 상관없음, 이변수는 사용하지 않겠다는 의미"
   ]
  },
  {
   "cell_type": "code",
   "execution_count": 40,
   "id": "ed06b69f-e5d9-4015-8732-a2083b2ef587",
   "metadata": {},
   "outputs": [],
   "source": [
    "labels = [label for _, label in labeled_data]"
   ]
  },
  {
   "cell_type": "code",
   "execution_count": 41,
   "id": "e669bf39-e106-4ea7-9642-1a71d9e1b7ba",
   "metadata": {},
   "outputs": [
    {
     "data": {
      "text/plain": [
       "5"
      ]
     },
     "execution_count": 41,
     "metadata": {},
     "output_type": "execute_result"
    }
   ],
   "source": [
    "len(labels)"
   ]
  },
  {
   "cell_type": "code",
   "execution_count": 42,
   "id": "b04591e4-3ed4-42b4-b9c0-3467a98864b9",
   "metadata": {},
   "outputs": [
    {
     "data": {
      "text/plain": [
       "[False, False, False, True, True]"
      ]
     },
     "execution_count": 42,
     "metadata": {},
     "output_type": "execute_result"
    }
   ],
   "source": [
    "labels"
   ]
  },
  {
   "cell_type": "code",
   "execution_count": 44,
   "id": "179dc03b-41dc-44fd-9e1a-03134df76a95",
   "metadata": {},
   "outputs": [
    {
     "data": {
      "text/plain": [
       "Counter({False: 3, True: 2})"
      ]
     },
     "execution_count": 44,
     "metadata": {},
     "output_type": "execute_result"
    }
   ],
   "source": [
    "Counter(labels)"
   ]
  },
  {
   "cell_type": "code",
   "execution_count": 45,
   "id": "048cae0f-e8b3-46ec-b977-1b4bc2e97f82",
   "metadata": {},
   "outputs": [],
   "source": [
    "total = len(labels)"
   ]
  },
  {
   "cell_type": "code",
   "execution_count": 46,
   "id": "0aae9a2d-c77e-4c38-b078-961344bb6824",
   "metadata": {},
   "outputs": [
    {
     "data": {
      "text/plain": [
       "dict_values([3, 2])"
      ]
     },
     "execution_count": 46,
     "metadata": {},
     "output_type": "execute_result"
    }
   ],
   "source": [
    "Counter(labels).values()"
   ]
  },
  {
   "cell_type": "code",
   "execution_count": 50,
   "id": "7355b082-6ba4-48e8-a578-b5f6dd74c6d4",
   "metadata": {},
   "outputs": [
    {
     "data": {
      "text/plain": [
       "[0.6, 0.4]"
      ]
     },
     "execution_count": 50,
     "metadata": {},
     "output_type": "execute_result"
    }
   ],
   "source": [
    "[ count / total for count in Counter(labels).values() ] #False의 확률 / True의 확률"
   ]
  },
  {
   "cell_type": "code",
   "execution_count": 70,
   "id": "6d4ab927-a3cc-4830-acc6-85599a55adb4",
   "metadata": {},
   "outputs": [
    {
     "data": {
      "text/plain": [
       "[({'level': 'Junior', 'lang': 'Python', 'tweets': 'no', 'phd': 'no'}, True),\n",
       " ({'level': 'Junior', 'lang': 'R', 'tweets': 'yes', 'phd': 'no'}, True),\n",
       " ({'level': 'Junior', 'lang': 'R', 'tweets': 'yes', 'phd': 'yes'}, False),\n",
       " ({'level': 'Junior', 'lang': 'Python', 'tweets': 'yes', 'phd': 'no'}, True),\n",
       " ({'level': 'Junior', 'lang': 'Python', 'tweets': 'no', 'phd': 'yes'}, False)]"
      ]
     },
     "execution_count": 70,
     "metadata": {},
     "output_type": "execute_result"
    }
   ],
   "source": [
    "labeled_data"
   ]
  },
  {
   "cell_type": "code",
   "execution_count": 71,
   "id": "aa733762-84d0-4375-8b81-912e5687b3ce",
   "metadata": {},
   "outputs": [
    {
     "data": {
      "text/plain": [
       "{'level': 'Senior', 'lang': 'Python', 'tweets': 'yes', 'phd': 'yes'}"
      ]
     },
     "execution_count": 71,
     "metadata": {},
     "output_type": "execute_result"
    }
   ],
   "source": [
    "data"
   ]
  },
  {
   "cell_type": "code",
   "execution_count": 58,
   "id": "3bea01a7-9db4-4cfc-bdba-07de35c59475",
   "metadata": {},
   "outputs": [],
   "source": [
    "labeled_data = [ data for data in inputs if data[0]['level']=='Senior']"
   ]
  },
  {
   "cell_type": "code",
   "execution_count": 30,
   "id": "f8c20b98-93b5-46b8-a63a-d4c1ff699009",
   "metadata": {},
   "outputs": [],
   "source": [
    "#엔트로피 공식\n",
    "def entropy(class_probabilities) :\n",
    "    return sum(-p * math.log(p,2) for p in class_probabilities if p) # if p --> none 값이 있어도 error방지\n",
    "    "
   ]
  },
  {
   "cell_type": "code",
   "execution_count": 73,
   "id": "42677d76-18c4-45ca-813e-f30a025b3473",
   "metadata": {},
   "outputs": [],
   "source": [
    "#함수로 만들자!\n",
    "\n",
    "def class_probabilities(labels) :\n",
    "    total = len(labels)\n",
    "    return [ count / total for count in Counter(labels).values() ] # 각각의 확률을 구하는 함수"
   ]
  },
  {
   "cell_type": "code",
   "execution_count": 74,
   "id": "746c799c-728c-4a36-9870-25109cbc3120",
   "metadata": {},
   "outputs": [],
   "source": [
    "def data_entropy(labeled_data) :\n",
    "    labels = [label for _, label in labeled_data]\n",
    "    probabilities = class_probabilities(labels)\n",
    "    return entropy(probabilities) # 엔트로피 출력 함수"
   ]
  },
  {
   "cell_type": "code",
   "execution_count": 77,
   "id": "7de82e31-e7b6-4807-92d3-7e5a3d95bebc",
   "metadata": {},
   "outputs": [],
   "source": [
    "labeled_data = [ data for data in inputs if data[0]['level']=='Senior']"
   ]
  },
  {
   "cell_type": "code",
   "execution_count": 79,
   "id": "2550bc0e-4d4f-4719-971a-62e7d0571beb",
   "metadata": {},
   "outputs": [],
   "source": [
    "labeled_data = [ data for data in inputs if data[0]['level']=='Mid']"
   ]
  },
  {
   "cell_type": "code",
   "execution_count": 81,
   "id": "e95c9f2a-600d-45cb-b62c-578bec2de4f2",
   "metadata": {},
   "outputs": [],
   "source": [
    "labeled_data = [ data for data in inputs if data[0]['level']=='Junior']"
   ]
  },
  {
   "cell_type": "code",
   "execution_count": 82,
   "id": "d8bad4a3-638c-482c-a744-2ac1f34fe443",
   "metadata": {},
   "outputs": [
    {
     "data": {
      "text/plain": [
       "0.9709505944546686"
      ]
     },
     "execution_count": 82,
     "metadata": {},
     "output_type": "execute_result"
    }
   ],
   "source": [
    "data_entropy(labeled_data)"
   ]
  },
  {
   "cell_type": "code",
   "execution_count": 75,
   "id": "d125c535-fcd7-4bf2-a4ac-bf034f37d586",
   "metadata": {},
   "outputs": [],
   "source": [
    "labeled_data = [ data for data in inputs if data[0]['phd']=='no']"
   ]
  },
  {
   "cell_type": "code",
   "execution_count": 76,
   "id": "3085b032-b4ce-4d2b-aa5c-1a2bbc06ea3b",
   "metadata": {},
   "outputs": [
    {
     "data": {
      "text/plain": [
       "0.8112781244591328"
      ]
     },
     "execution_count": 76,
     "metadata": {},
     "output_type": "execute_result"
    }
   ],
   "source": [
    "data_entropy(labeled_data)"
   ]
  },
  {
   "cell_type": "code",
   "execution_count": 83,
   "id": "a3a4a075-7049-46f3-a46b-6b5ccded0db7",
   "metadata": {},
   "outputs": [
    {
     "data": {
      "text/plain": [
       "[({'level': 'Junior', 'lang': 'Python', 'tweets': 'no', 'phd': 'no'}, True),\n",
       " ({'level': 'Junior', 'lang': 'R', 'tweets': 'yes', 'phd': 'no'}, True),\n",
       " ({'level': 'Junior', 'lang': 'R', 'tweets': 'yes', 'phd': 'yes'}, False),\n",
       " ({'level': 'Junior', 'lang': 'Python', 'tweets': 'yes', 'phd': 'no'}, True),\n",
       " ({'level': 'Junior', 'lang': 'Python', 'tweets': 'no', 'phd': 'yes'}, False)]"
      ]
     },
     "execution_count": 83,
     "metadata": {},
     "output_type": "execute_result"
    }
   ],
   "source": [
    "labeled_data"
   ]
  },
  {
   "cell_type": "raw",
   "id": "8a2208b5-d0a1-4f3b-87fb-d6819160e4ea",
   "metadata": {},
   "source": [
    "defaultdict 의 이해"
   ]
  },
  {
   "cell_type": "code",
   "execution_count": 85,
   "id": "8b55c268-4153-4392-abe1-b6f1be380f22",
   "metadata": {},
   "outputs": [],
   "source": [
    "temp =defaultdict(list)"
   ]
  },
  {
   "cell_type": "code",
   "execution_count": 86,
   "id": "d16757f0-bb93-461e-9f68-328f55d057f7",
   "metadata": {},
   "outputs": [
    {
     "data": {
      "text/plain": [
       "defaultdict(list, {})"
      ]
     },
     "execution_count": 86,
     "metadata": {},
     "output_type": "execute_result"
    }
   ],
   "source": [
    "temp"
   ]
  },
  {
   "cell_type": "code",
   "execution_count": 87,
   "id": "35a32cbf-4ebf-4330-a147-48973823e44f",
   "metadata": {},
   "outputs": [
    {
     "data": {
      "text/plain": [
       "[]"
      ]
     },
     "execution_count": 87,
     "metadata": {},
     "output_type": "execute_result"
    }
   ],
   "source": [
    "temp['a']"
   ]
  },
  {
   "cell_type": "code",
   "execution_count": 88,
   "id": "cacb8a6d-99ba-492f-8b1b-d52f939874b9",
   "metadata": {},
   "outputs": [
    {
     "data": {
      "text/plain": [
       "defaultdict(list, {'a': []})"
      ]
     },
     "execution_count": 88,
     "metadata": {},
     "output_type": "execute_result"
    }
   ],
   "source": [
    "temp"
   ]
  },
  {
   "cell_type": "code",
   "execution_count": 89,
   "id": "0081b450-1959-4b20-a802-4ee97df44ffa",
   "metadata": {},
   "outputs": [],
   "source": [
    "temp = defaultdict(int)"
   ]
  },
  {
   "cell_type": "code",
   "execution_count": 90,
   "id": "35fd0d73-7526-48ef-ba8a-5ab608e9e720",
   "metadata": {},
   "outputs": [
    {
     "data": {
      "text/plain": [
       "defaultdict(int, {})"
      ]
     },
     "execution_count": 90,
     "metadata": {},
     "output_type": "execute_result"
    }
   ],
   "source": [
    "temp"
   ]
  },
  {
   "cell_type": "code",
   "execution_count": 91,
   "id": "284a8084-3184-4050-88e8-5b99eea10166",
   "metadata": {},
   "outputs": [
    {
     "data": {
      "text/plain": [
       "0"
      ]
     },
     "execution_count": 91,
     "metadata": {},
     "output_type": "execute_result"
    }
   ],
   "source": [
    "temp['a']"
   ]
  },
  {
   "cell_type": "code",
   "execution_count": 92,
   "id": "df8eebaf-0791-4925-8e6a-ae3e7fef9e18",
   "metadata": {},
   "outputs": [
    {
     "data": {
      "text/plain": [
       "defaultdict(int, {'a': 0})"
      ]
     },
     "execution_count": 92,
     "metadata": {},
     "output_type": "execute_result"
    }
   ],
   "source": [
    "temp"
   ]
  },
  {
   "cell_type": "code",
   "execution_count": 93,
   "id": "ef6ca6e6-5d39-495b-837b-bf9108075540",
   "metadata": {},
   "outputs": [],
   "source": [
    "temp = {}"
   ]
  },
  {
   "cell_type": "code",
   "execution_count": 95,
   "id": "37513d58-f7fd-4ce1-b276-5a77d2c25008",
   "metadata": {},
   "outputs": [],
   "source": [
    "temp['a'] =1"
   ]
  },
  {
   "cell_type": "code",
   "execution_count": 96,
   "id": "bf0a6035-c1ab-467c-96ac-6fe7d6844c1d",
   "metadata": {},
   "outputs": [
    {
     "data": {
      "text/plain": [
       "{'a': 1}"
      ]
     },
     "execution_count": 96,
     "metadata": {},
     "output_type": "execute_result"
    }
   ],
   "source": [
    "temp"
   ]
  },
  {
   "cell_type": "code",
   "execution_count": 97,
   "id": "aa9c18a4-2d4d-44c7-9177-6ceec607ae67",
   "metadata": {},
   "outputs": [],
   "source": [
    "temp2 = defaultdict(list)"
   ]
  },
  {
   "cell_type": "code",
   "execution_count": 98,
   "id": "a7db05b7-f405-4b30-be34-c54f193847d1",
   "metadata": {},
   "outputs": [],
   "source": [
    "temp2['a'] =1"
   ]
  },
  {
   "cell_type": "code",
   "execution_count": 99,
   "id": "3c666c67-3db5-435d-bbe1-ed905baa4a18",
   "metadata": {},
   "outputs": [
    {
     "data": {
      "text/plain": [
       "defaultdict(list, {'a': 1})"
      ]
     },
     "execution_count": 99,
     "metadata": {},
     "output_type": "execute_result"
    }
   ],
   "source": [
    "temp2"
   ]
  },
  {
   "cell_type": "code",
   "execution_count": 100,
   "id": "39794662-2b82-43e9-9350-c64eceb89d63",
   "metadata": {},
   "outputs": [
    {
     "data": {
      "text/plain": [
       "[]"
      ]
     },
     "execution_count": 100,
     "metadata": {},
     "output_type": "execute_result"
    }
   ],
   "source": [
    "temp2['b']"
   ]
  },
  {
   "cell_type": "code",
   "execution_count": 101,
   "id": "52e986ee-06cc-4cdf-983e-de2e1379757b",
   "metadata": {},
   "outputs": [
    {
     "data": {
      "text/plain": [
       "defaultdict(list, {'a': 1, 'b': []})"
      ]
     },
     "execution_count": 101,
     "metadata": {},
     "output_type": "execute_result"
    }
   ],
   "source": [
    "temp2"
   ]
  },
  {
   "cell_type": "code",
   "execution_count": 119,
   "id": "14586ca9-87c2-45c5-bfa6-c8ae54a10fdc",
   "metadata": {},
   "outputs": [],
   "source": [
    "## 결국 defaultdict 를 쓰면 비어있는 리스트를 만들 수 있다. >>> append함수를 쓸 수 있다!!"
   ]
  },
  {
   "cell_type": "code",
   "execution_count": 120,
   "id": "f022bbfd-95a0-4a98-80f1-c41db5877bbf",
   "metadata": {},
   "outputs": [],
   "source": [
    "groups = defaultdict(list)\n",
    "\n",
    "for i in inputs :\n",
    "    key = i[0]['level']\n",
    "    #print(key)\n",
    "    groups[key].append(i)"
   ]
  },
  {
   "cell_type": "code",
   "execution_count": 121,
   "id": "dee89125-d57e-4831-8704-406f55120fb6",
   "metadata": {
    "collapsed": true,
    "jupyter": {
     "outputs_hidden": true
    },
    "tags": []
   },
   "outputs": [
    {
     "data": {
      "text/plain": [
       "defaultdict(list,\n",
       "            {'Senior': [({'level': 'Senior',\n",
       "                'lang': 'Java',\n",
       "                'tweets': 'no',\n",
       "                'phd': 'no'},\n",
       "               False),\n",
       "              ({'level': 'Senior',\n",
       "                'lang': 'Java',\n",
       "                'tweets': 'no',\n",
       "                'phd': 'yes'},\n",
       "               False),\n",
       "              ({'level': 'Senior',\n",
       "                'lang': 'Python',\n",
       "                'tweets': 'no',\n",
       "                'phd': 'no'},\n",
       "               False),\n",
       "              ({'level': 'Senior', 'lang': 'R', 'tweets': 'yes', 'phd': 'no'},\n",
       "               True),\n",
       "              ({'level': 'Senior',\n",
       "                'lang': 'Python',\n",
       "                'tweets': 'yes',\n",
       "                'phd': 'yes'},\n",
       "               True)],\n",
       "             'Mid': [({'level': 'Mid',\n",
       "                'lang': 'Python',\n",
       "                'tweets': 'no',\n",
       "                'phd': 'no'},\n",
       "               True),\n",
       "              ({'level': 'Mid', 'lang': 'R', 'tweets': 'yes', 'phd': 'yes'},\n",
       "               True),\n",
       "              ({'level': 'Mid',\n",
       "                'lang': 'Python',\n",
       "                'tweets': 'no',\n",
       "                'phd': 'yes'},\n",
       "               True),\n",
       "              ({'level': 'Mid', 'lang': 'Java', 'tweets': 'yes', 'phd': 'no'},\n",
       "               True)],\n",
       "             'Junior': [({'level': 'Junior',\n",
       "                'lang': 'Python',\n",
       "                'tweets': 'no',\n",
       "                'phd': 'no'},\n",
       "               True),\n",
       "              ({'level': 'Junior', 'lang': 'R', 'tweets': 'yes', 'phd': 'no'},\n",
       "               True),\n",
       "              ({'level': 'Junior', 'lang': 'R', 'tweets': 'yes', 'phd': 'yes'},\n",
       "               False),\n",
       "              ({'level': 'Junior',\n",
       "                'lang': 'Python',\n",
       "                'tweets': 'yes',\n",
       "                'phd': 'no'},\n",
       "               True),\n",
       "              ({'level': 'Junior',\n",
       "                'lang': 'Python',\n",
       "                'tweets': 'no',\n",
       "                'phd': 'yes'},\n",
       "               False)]})"
      ]
     },
     "execution_count": 121,
     "metadata": {},
     "output_type": "execute_result"
    }
   ],
   "source": [
    "groups\n",
    "#level이 senior인 애들만 쫙~!, mid인 애들 쫙, Junior인 애들 쫙 !"
   ]
  },
  {
   "cell_type": "code",
   "execution_count": 122,
   "id": "1b50743a-54dd-4b2e-99ef-db776c579c55",
   "metadata": {},
   "outputs": [],
   "source": [
    "def partition_by (inputs, attribute) :\n",
    "    groups = defaultdict(list)\n",
    "    for i in inputs :\n",
    "        key = i[0][attribute]\n",
    "        groups[key].append(i)\n",
    "    return groups"
   ]
  },
  {
   "cell_type": "code",
   "execution_count": 132,
   "id": "8bdfd9a2-fcfa-4458-b9c6-1bbd12a886b1",
   "metadata": {},
   "outputs": [
    {
     "name": "stdout",
     "output_type": "stream",
     "text": [
      "level dict_keys(['Senior', 'Mid', 'Junior'])\n",
      "-------------\n",
      "lang dict_keys(['Java', 'Python', 'R'])\n",
      "-------------\n",
      "tweets dict_keys(['no', 'yes'])\n",
      "-------------\n",
      "phd dict_keys(['no', 'yes'])\n",
      "-------------\n"
     ]
    }
   ],
   "source": [
    "for key in ['level','lang','tweets','phd'] :\n",
    "    print(key, partition_by(inputs,key).keys())\n",
    "    \n",
    "    print('-------------')\n",
    "    "
   ]
  },
  {
   "cell_type": "code",
   "execution_count": 129,
   "id": "d5e361ff-be6e-4006-a4a7-78f0075f35a7",
   "metadata": {
    "collapsed": true,
    "jupyter": {
     "outputs_hidden": true
    },
    "tags": []
   },
   "outputs": [
    {
     "data": {
      "text/plain": [
       "defaultdict(list,\n",
       "            {'no': [({'level': 'Senior',\n",
       "                'lang': 'Java',\n",
       "                'tweets': 'no',\n",
       "                'phd': 'no'},\n",
       "               False),\n",
       "              ({'level': 'Mid', 'lang': 'Python', 'tweets': 'no', 'phd': 'no'},\n",
       "               True),\n",
       "              ({'level': 'Junior',\n",
       "                'lang': 'Python',\n",
       "                'tweets': 'no',\n",
       "                'phd': 'no'},\n",
       "               True),\n",
       "              ({'level': 'Junior', 'lang': 'R', 'tweets': 'yes', 'phd': 'no'},\n",
       "               True),\n",
       "              ({'level': 'Senior',\n",
       "                'lang': 'Python',\n",
       "                'tweets': 'no',\n",
       "                'phd': 'no'},\n",
       "               False),\n",
       "              ({'level': 'Senior', 'lang': 'R', 'tweets': 'yes', 'phd': 'no'},\n",
       "               True),\n",
       "              ({'level': 'Junior',\n",
       "                'lang': 'Python',\n",
       "                'tweets': 'yes',\n",
       "                'phd': 'no'},\n",
       "               True),\n",
       "              ({'level': 'Mid', 'lang': 'Java', 'tweets': 'yes', 'phd': 'no'},\n",
       "               True)],\n",
       "             'yes': [({'level': 'Senior',\n",
       "                'lang': 'Java',\n",
       "                'tweets': 'no',\n",
       "                'phd': 'yes'},\n",
       "               False),\n",
       "              ({'level': 'Junior', 'lang': 'R', 'tweets': 'yes', 'phd': 'yes'},\n",
       "               False),\n",
       "              ({'level': 'Mid', 'lang': 'R', 'tweets': 'yes', 'phd': 'yes'},\n",
       "               True),\n",
       "              ({'level': 'Senior',\n",
       "                'lang': 'Python',\n",
       "                'tweets': 'yes',\n",
       "                'phd': 'yes'},\n",
       "               True),\n",
       "              ({'level': 'Mid',\n",
       "                'lang': 'Python',\n",
       "                'tweets': 'no',\n",
       "                'phd': 'yes'},\n",
       "               True),\n",
       "              ({'level': 'Junior',\n",
       "                'lang': 'Python',\n",
       "                'tweets': 'no',\n",
       "                'phd': 'yes'},\n",
       "               False)]})"
      ]
     },
     "execution_count": 129,
     "metadata": {},
     "output_type": "execute_result"
    }
   ],
   "source": [
    "partition_by (inputs, key)"
   ]
  },
  {
   "cell_type": "code",
   "execution_count": 133,
   "id": "17c45b0c-4712-4214-b9b1-4fe1861ae517",
   "metadata": {},
   "outputs": [
    {
     "name": "stdout",
     "output_type": "stream",
     "text": [
      "level dict_values([[({'level': 'Senior', 'lang': 'Java', 'tweets': 'no', 'phd': 'no'}, False), ({'level': 'Senior', 'lang': 'Java', 'tweets': 'no', 'phd': 'yes'}, False), ({'level': 'Senior', 'lang': 'Python', 'tweets': 'no', 'phd': 'no'}, False), ({'level': 'Senior', 'lang': 'R', 'tweets': 'yes', 'phd': 'no'}, True), ({'level': 'Senior', 'lang': 'Python', 'tweets': 'yes', 'phd': 'yes'}, True)], [({'level': 'Mid', 'lang': 'Python', 'tweets': 'no', 'phd': 'no'}, True), ({'level': 'Mid', 'lang': 'R', 'tweets': 'yes', 'phd': 'yes'}, True), ({'level': 'Mid', 'lang': 'Python', 'tweets': 'no', 'phd': 'yes'}, True), ({'level': 'Mid', 'lang': 'Java', 'tweets': 'yes', 'phd': 'no'}, True)], [({'level': 'Junior', 'lang': 'Python', 'tweets': 'no', 'phd': 'no'}, True), ({'level': 'Junior', 'lang': 'R', 'tweets': 'yes', 'phd': 'no'}, True), ({'level': 'Junior', 'lang': 'R', 'tweets': 'yes', 'phd': 'yes'}, False), ({'level': 'Junior', 'lang': 'Python', 'tweets': 'yes', 'phd': 'no'}, True), ({'level': 'Junior', 'lang': 'Python', 'tweets': 'no', 'phd': 'yes'}, False)]])\n",
      "-------------\n",
      "lang dict_values([[({'level': 'Senior', 'lang': 'Java', 'tweets': 'no', 'phd': 'no'}, False), ({'level': 'Senior', 'lang': 'Java', 'tweets': 'no', 'phd': 'yes'}, False), ({'level': 'Mid', 'lang': 'Java', 'tweets': 'yes', 'phd': 'no'}, True)], [({'level': 'Mid', 'lang': 'Python', 'tweets': 'no', 'phd': 'no'}, True), ({'level': 'Junior', 'lang': 'Python', 'tweets': 'no', 'phd': 'no'}, True), ({'level': 'Senior', 'lang': 'Python', 'tweets': 'no', 'phd': 'no'}, False), ({'level': 'Junior', 'lang': 'Python', 'tweets': 'yes', 'phd': 'no'}, True), ({'level': 'Senior', 'lang': 'Python', 'tweets': 'yes', 'phd': 'yes'}, True), ({'level': 'Mid', 'lang': 'Python', 'tweets': 'no', 'phd': 'yes'}, True), ({'level': 'Junior', 'lang': 'Python', 'tweets': 'no', 'phd': 'yes'}, False)], [({'level': 'Junior', 'lang': 'R', 'tweets': 'yes', 'phd': 'no'}, True), ({'level': 'Junior', 'lang': 'R', 'tweets': 'yes', 'phd': 'yes'}, False), ({'level': 'Mid', 'lang': 'R', 'tweets': 'yes', 'phd': 'yes'}, True), ({'level': 'Senior', 'lang': 'R', 'tweets': 'yes', 'phd': 'no'}, True)]])\n",
      "-------------\n",
      "tweets dict_values([[({'level': 'Senior', 'lang': 'Java', 'tweets': 'no', 'phd': 'no'}, False), ({'level': 'Senior', 'lang': 'Java', 'tweets': 'no', 'phd': 'yes'}, False), ({'level': 'Mid', 'lang': 'Python', 'tweets': 'no', 'phd': 'no'}, True), ({'level': 'Junior', 'lang': 'Python', 'tweets': 'no', 'phd': 'no'}, True), ({'level': 'Senior', 'lang': 'Python', 'tweets': 'no', 'phd': 'no'}, False), ({'level': 'Mid', 'lang': 'Python', 'tweets': 'no', 'phd': 'yes'}, True), ({'level': 'Junior', 'lang': 'Python', 'tweets': 'no', 'phd': 'yes'}, False)], [({'level': 'Junior', 'lang': 'R', 'tweets': 'yes', 'phd': 'no'}, True), ({'level': 'Junior', 'lang': 'R', 'tweets': 'yes', 'phd': 'yes'}, False), ({'level': 'Mid', 'lang': 'R', 'tweets': 'yes', 'phd': 'yes'}, True), ({'level': 'Senior', 'lang': 'R', 'tweets': 'yes', 'phd': 'no'}, True), ({'level': 'Junior', 'lang': 'Python', 'tweets': 'yes', 'phd': 'no'}, True), ({'level': 'Senior', 'lang': 'Python', 'tweets': 'yes', 'phd': 'yes'}, True), ({'level': 'Mid', 'lang': 'Java', 'tweets': 'yes', 'phd': 'no'}, True)]])\n",
      "-------------\n",
      "phd dict_values([[({'level': 'Senior', 'lang': 'Java', 'tweets': 'no', 'phd': 'no'}, False), ({'level': 'Mid', 'lang': 'Python', 'tweets': 'no', 'phd': 'no'}, True), ({'level': 'Junior', 'lang': 'Python', 'tweets': 'no', 'phd': 'no'}, True), ({'level': 'Junior', 'lang': 'R', 'tweets': 'yes', 'phd': 'no'}, True), ({'level': 'Senior', 'lang': 'Python', 'tweets': 'no', 'phd': 'no'}, False), ({'level': 'Senior', 'lang': 'R', 'tweets': 'yes', 'phd': 'no'}, True), ({'level': 'Junior', 'lang': 'Python', 'tweets': 'yes', 'phd': 'no'}, True), ({'level': 'Mid', 'lang': 'Java', 'tweets': 'yes', 'phd': 'no'}, True)], [({'level': 'Senior', 'lang': 'Java', 'tweets': 'no', 'phd': 'yes'}, False), ({'level': 'Junior', 'lang': 'R', 'tweets': 'yes', 'phd': 'yes'}, False), ({'level': 'Mid', 'lang': 'R', 'tweets': 'yes', 'phd': 'yes'}, True), ({'level': 'Senior', 'lang': 'Python', 'tweets': 'yes', 'phd': 'yes'}, True), ({'level': 'Mid', 'lang': 'Python', 'tweets': 'no', 'phd': 'yes'}, True), ({'level': 'Junior', 'lang': 'Python', 'tweets': 'no', 'phd': 'yes'}, False)]])\n",
      "-------------\n"
     ]
    }
   ],
   "source": [
    "for key in ['level','lang','tweets','phd'] :\n",
    "    print(key, partition_by(inputs,key).values())\n",
    "    \n",
    "    print('-------------')\n",
    "    "
   ]
  },
  {
   "cell_type": "code",
   "execution_count": 136,
   "id": "795812b9-7e3e-45a5-8fc8-daad6e0cfb6f",
   "metadata": {},
   "outputs": [
    {
     "name": "stdout",
     "output_type": "stream",
     "text": [
      "0.9709505944546686\n",
      "0.0\n",
      "0.9709505944546686\n"
     ]
    }
   ],
   "source": [
    "for i in partition_by(inputs, 'level').values():\n",
    "    print(data_entropy(i))  # level [Senior, mid, junior] 에 해당하는 엔트로피 값들!!"
   ]
  },
  {
   "cell_type": "raw",
   "id": "57155a39-b20d-44c0-be19-e28081d1a58e",
   "metadata": {},
   "source": [
    "partition_by(inputs, 'level').values():  #'level'의 위치에 for문을 이용해 다양한 변수들을 넣을 수 있다!"
   ]
  },
  {
   "cell_type": "raw",
   "id": "7110ba02-7da0-4db8-b019-638bd5d8c830",
   "metadata": {},
   "source": [
    "전체 개수에서 subset의 개수 별로 나눈 후 각각의 엔트로피를 곱해준다~(like 가중치의 개념)"
   ]
  },
  {
   "cell_type": "code",
   "execution_count": 140,
   "id": "bfd8fb90-2996-4814-b6cd-d0c8630b3597",
   "metadata": {},
   "outputs": [],
   "source": [
    "subsets = partition_by(inputs, 'level').values()"
   ]
  },
  {
   "cell_type": "code",
   "execution_count": 143,
   "id": "314fc8c6-40cd-4ed1-a939-c69ce701652b",
   "metadata": {},
   "outputs": [
    {
     "data": {
      "text/plain": [
       "dict_values([[({'level': 'Senior', 'lang': 'Java', 'tweets': 'no', 'phd': 'no'}, False), ({'level': 'Senior', 'lang': 'Java', 'tweets': 'no', 'phd': 'yes'}, False), ({'level': 'Senior', 'lang': 'Python', 'tweets': 'no', 'phd': 'no'}, False), ({'level': 'Senior', 'lang': 'R', 'tweets': 'yes', 'phd': 'no'}, True), ({'level': 'Senior', 'lang': 'Python', 'tweets': 'yes', 'phd': 'yes'}, True)], [({'level': 'Mid', 'lang': 'Python', 'tweets': 'no', 'phd': 'no'}, True), ({'level': 'Mid', 'lang': 'R', 'tweets': 'yes', 'phd': 'yes'}, True), ({'level': 'Mid', 'lang': 'Python', 'tweets': 'no', 'phd': 'yes'}, True), ({'level': 'Mid', 'lang': 'Java', 'tweets': 'yes', 'phd': 'no'}, True)], [({'level': 'Junior', 'lang': 'Python', 'tweets': 'no', 'phd': 'no'}, True), ({'level': 'Junior', 'lang': 'R', 'tweets': 'yes', 'phd': 'no'}, True), ({'level': 'Junior', 'lang': 'R', 'tweets': 'yes', 'phd': 'yes'}, False), ({'level': 'Junior', 'lang': 'Python', 'tweets': 'yes', 'phd': 'no'}, True), ({'level': 'Junior', 'lang': 'Python', 'tweets': 'no', 'phd': 'yes'}, False)]])"
      ]
     },
     "execution_count": 143,
     "metadata": {},
     "output_type": "execute_result"
    }
   ],
   "source": [
    "subsets"
   ]
  },
  {
   "cell_type": "code",
   "execution_count": 141,
   "id": "e0c068b5-8053-4df0-8b63-184f10463c5f",
   "metadata": {},
   "outputs": [],
   "source": [
    "total_count = sum(len(subset) for subset in subsets)"
   ]
  },
  {
   "cell_type": "code",
   "execution_count": 142,
   "id": "6cdfc1df-9061-42f9-b812-1c28e0a651e1",
   "metadata": {},
   "outputs": [
    {
     "data": {
      "text/plain": [
       "14"
      ]
     },
     "execution_count": 142,
     "metadata": {},
     "output_type": "execute_result"
    }
   ],
   "source": [
    "total_count"
   ]
  },
  {
   "cell_type": "code",
   "execution_count": 145,
   "id": "9863e8ac-5924-4ea9-968b-47f6b2ce2f58",
   "metadata": {},
   "outputs": [
    {
     "data": {
      "text/plain": [
       "0.6935361388961918"
      ]
     },
     "execution_count": 145,
     "metadata": {},
     "output_type": "execute_result"
    }
   ],
   "source": [
    "sum(len(subset) / total_count * data_entropy(subset) for subset in subsets)"
   ]
  },
  {
   "cell_type": "code",
   "execution_count": 146,
   "id": "5833afac-9340-4de7-8229-96f5159c60b0",
   "metadata": {},
   "outputs": [],
   "source": [
    "def partition_entropy(subsets) :\n",
    "    total_count = sum(len(subset) for subset in subsets)\n",
    "    return sum(len(subset) / total_count * data_entropy(subset) for subset in subsets)"
   ]
  },
  {
   "cell_type": "code",
   "execution_count": 147,
   "id": "45ada47d-4364-42f1-b217-da70b726545a",
   "metadata": {},
   "outputs": [],
   "source": [
    "def partition_entropy_by(inputs, attribute):\n",
    "    partitions = partition_by(inputs, attribute)\n",
    "    return partition_entropy(partitions.values())"
   ]
  },
  {
   "cell_type": "code",
   "execution_count": 152,
   "id": "9ce10060-5d84-449b-a529-6c585a7c7a83",
   "metadata": {},
   "outputs": [
    {
     "name": "stdout",
     "output_type": "stream",
     "text": [
      "level 0.6935361388961918\n",
      "lang 0.8601317128547441\n",
      "tweets 0.7884504573082896\n",
      "phd 0.8921589282623617\n"
     ]
    }
   ],
   "source": [
    "for key in ['level','lang','tweets','phd'] :\n",
    "    print(key, partition_entropy_by(inputs,key))\n",
    "    #엔트로피가 가장 낮은 'level'별 분류가 의사결정나무의 맨 위에 오게됨!!"
   ]
  },
  {
   "cell_type": "code",
   "execution_count": 164,
   "id": "612357b2-ff85-4908-8462-660f9cc9b424",
   "metadata": {},
   "outputs": [],
   "source": [
    "senior_inputs = [(data, label) for data, label in inputs if data['level'] =='Senior']"
   ]
  },
  {
   "cell_type": "code",
   "execution_count": 158,
   "id": "a20a4ca8-fb19-4864-bf13-1f48172d69f5",
   "metadata": {},
   "outputs": [],
   "source": [
    "mid_inputs = [(data, label) for data, label in inputs if data['level'] =='Mid']"
   ]
  },
  {
   "cell_type": "code",
   "execution_count": 165,
   "id": "ae07c7fe-bbc4-4ac6-ade7-4bc195b4d431",
   "metadata": {},
   "outputs": [],
   "source": [
    "junior_inputs = [(data, label) for data, label in inputs if data['level'] =='Junior']"
   ]
  },
  {
   "cell_type": "code",
   "execution_count": 169,
   "id": "ec2028e1-61c9-4faf-ad0d-65fd3d282da6",
   "metadata": {},
   "outputs": [
    {
     "name": "stdout",
     "output_type": "stream",
     "text": [
      "lang 0.4\n",
      "tweets 0.0\n",
      "phd 0.9509775004326937\n"
     ]
    }
   ],
   "source": [
    "for key in ['lang','tweets','phd'] :\n",
    "    print (key, partition_entropy_by(senior_inputs, key))\n",
    "#senior 는 tweets로~"
   ]
  },
  {
   "cell_type": "code",
   "execution_count": 170,
   "id": "a00774fe-b4f3-4684-9c83-02cce0a16358",
   "metadata": {},
   "outputs": [
    {
     "name": "stdout",
     "output_type": "stream",
     "text": [
      "lang 0.9509775004326937\n",
      "tweets 0.9509775004326937\n",
      "phd 0.0\n"
     ]
    }
   ],
   "source": [
    "for key in ['lang','tweets','phd'] :\n",
    "    print (key, partition_entropy_by(junior_inputs, key))\n",
    "#junior는 phd로~"
   ]
  },
  {
   "cell_type": "code",
   "execution_count": 174,
   "id": "7e963d23-79a4-4447-89b6-a72f10285a9f",
   "metadata": {},
   "outputs": [],
   "source": [
    "#재귀함수!! (피보나치 수열 참조)\n",
    "def func_test(x) :\n",
    "    if x<0 :\n",
    "        return 0\n",
    "    x = x-1\n",
    "    print(x)\n",
    "    x = func_test(x)\n",
    "    return x"
   ]
  },
  {
   "cell_type": "code",
   "execution_count": 175,
   "id": "5ff70b61-8f2f-4be4-a312-746cfe513488",
   "metadata": {},
   "outputs": [
    {
     "name": "stdout",
     "output_type": "stream",
     "text": [
      "9\n",
      "8\n",
      "7\n",
      "6\n",
      "5\n",
      "4\n",
      "3\n",
      "2\n",
      "1\n",
      "0\n",
      "-1\n"
     ]
    },
    {
     "data": {
      "text/plain": [
       "0"
      ]
     },
     "execution_count": 175,
     "metadata": {},
     "output_type": "execute_result"
    }
   ],
   "source": [
    "func_test(10)"
   ]
  },
  {
   "cell_type": "code",
   "execution_count": 176,
   "id": "2f326d40-a751-48ce-b2eb-f01c3e9cf657",
   "metadata": {},
   "outputs": [],
   "source": [
    "def fibo(n):\n",
    "    # 재귀함수는 탈출조건이 꼭 필요하다.\n",
    "    if n == 0 or n == 1:\n",
    "        return 1\n",
    "    return fibo(n-2) + fibo(n-1)\n",
    "\n",
    "# index n까지의 피보나치 수열 구하기\n",
    "def fibo_list(n):\n",
    "    for i in range(n):\n",
    "        print(fibo(i), end= \" \")"
   ]
  },
  {
   "cell_type": "code",
   "execution_count": 179,
   "id": "244bc3f6-5d81-47d5-9438-79bf0771afb5",
   "metadata": {},
   "outputs": [
    {
     "data": {
      "text/plain": [
       "89"
      ]
     },
     "execution_count": 179,
     "metadata": {},
     "output_type": "execute_result"
    }
   ],
   "source": [
    "fibo(10)"
   ]
  },
  {
   "cell_type": "code",
   "execution_count": 180,
   "id": "7814ca51-cd90-436e-b3f0-52e5291a39cd",
   "metadata": {},
   "outputs": [
    {
     "name": "stdout",
     "output_type": "stream",
     "text": [
      "1 1 2 3 5 "
     ]
    }
   ],
   "source": [
    "fibo_list(5)"
   ]
  },
  {
   "cell_type": "code",
   "execution_count": 280,
   "id": "e9569f6d-6575-44cf-a488-9e72edf43bf7",
   "metadata": {},
   "outputs": [
    {
     "data": {
      "text/plain": [
       "[({'level': 'Senior', 'lang': 'Java', 'tweets': 'no', 'phd': 'no'}, False),\n",
       " ({'level': 'Senior', 'lang': 'Java', 'tweets': 'no', 'phd': 'yes'}, False),\n",
       " ({'level': 'Mid', 'lang': 'Python', 'tweets': 'no', 'phd': 'no'}, True),\n",
       " ({'level': 'Junior', 'lang': 'Python', 'tweets': 'no', 'phd': 'no'}, True),\n",
       " ({'level': 'Junior', 'lang': 'R', 'tweets': 'yes', 'phd': 'no'}, True),\n",
       " ({'level': 'Junior', 'lang': 'R', 'tweets': 'yes', 'phd': 'yes'}, False),\n",
       " ({'level': 'Mid', 'lang': 'R', 'tweets': 'yes', 'phd': 'yes'}, True),\n",
       " ({'level': 'Senior', 'lang': 'Python', 'tweets': 'no', 'phd': 'no'}, False),\n",
       " ({'level': 'Senior', 'lang': 'R', 'tweets': 'yes', 'phd': 'no'}, True),\n",
       " ({'level': 'Junior', 'lang': 'Python', 'tweets': 'yes', 'phd': 'no'}, True),\n",
       " ({'level': 'Senior', 'lang': 'Python', 'tweets': 'yes', 'phd': 'yes'}, True),\n",
       " ({'level': 'Mid', 'lang': 'Python', 'tweets': 'no', 'phd': 'yes'}, True),\n",
       " ({'level': 'Mid', 'lang': 'Java', 'tweets': 'yes', 'phd': 'no'}, True),\n",
       " ({'level': 'Junior', 'lang': 'Python', 'tweets': 'no', 'phd': 'yes'}, False)]"
      ]
     },
     "execution_count": 280,
     "metadata": {},
     "output_type": "execute_result"
    }
   ],
   "source": [
    "inputs"
   ]
  },
  {
   "cell_type": "code",
   "execution_count": 281,
   "id": "adfc25cd-2675-41f5-bfe3-a90a6e1e2051",
   "metadata": {},
   "outputs": [],
   "source": [
    "def build_tree_id3(inputs, split_candidates=None):\n",
    "    # 첫 분기라면 입력 데이터의 모든 변수가 분기 후보\n",
    "    if split_candidates is None:\n",
    "        # 'lang', 'tweets', 'phd', 'level' 모두 후보\n",
    "        split_candidates = inputs[0][0].keys()   \n",
    "\n",
    "    # 입력 데이터에서 범주별 개수를 세어 본다\n",
    "    num_inputs = len(inputs) # 14개\n",
    "    num_trues = len([label for _, label in inputs if label])\n",
    "    num_falses = num_inputs - num_trues\n",
    "    \n",
    "    \n",
    "    if not split_candidates :\n",
    "        return num_trues >= num_falses\n",
    "    \n",
    "    best_attribute = min(split_candidates, key=partial(partition_entropy_by, inputs))\n",
    "    partitions = partition_by(inputs, best_attribute)\n",
    "    new_candidates = [a for a in split_candidates if a != best_attribute]\n",
    "    \n",
    "    subtrees = { attribute_value : build_tree_id3(subset, new_candidates)\n",
    "                 for attribute_value, subset in partitions.items()}\n",
    "    \n",
    "    subtrees[None] = num_trues > num_falses \n",
    "    return (best_attribute, subtrees)  "
   ]
  },
  {
   "cell_type": "raw",
   "id": "7f3c7491-bbc0-41df-b131-5902774f73e6",
   "metadata": {
    "tags": []
   },
   "source": [
    "    # class0(true)이 하나도 없으면 False leaf 반환\n",
    "    if num_class0 == 0: return False\n",
    "    # class1(false)이 하나도 없으면 Ture leaf 반환\n",
    "    if num_class1 == 0: return True\n",
    "\n",
    "    # 파티션 기준으로 사용할 변수가 없다면\n",
    "    if not split_candidates:\n",
    "        # 다수결로 결정\n",
    "        # class0(true)가 많으면 true,\n",
    "        # class1(false)가 많으면 false 반환\n",
    "        return num_class0 >= num_class1\n",
    "\n",
    "    # 아니면 가장 적합한 변수를 기준으로 분기\n",
    "    best_attribute = min(split_candidates,\n",
    "                         key=partial(partition_entropy_by, inputs))\n",
    "    partitions = partition_by(inputs, best_attribute)\n",
    "    new_candidates = [a for a in split_candidates\n",
    "                      if a != best_attribute]\n",
    "\n",
    "    # 재귀적으로 서브트리를 구축\n",
    "    subtrees = { attribute_value : build_tree(subset, new_candidates)\n",
    "                 for attribute_value, subset in partitions.iteritems()}\n",
    "    # 기본값\n",
    "    subtrees[None] = num_class0 > num_class1 \n",
    "    return (best_attribute, subtrees)"
   ]
  },
  {
   "cell_type": "code",
   "execution_count": 271,
   "id": "4bf6c7ee-144b-40df-ab3b-7ea9cdaa92a7",
   "metadata": {},
   "outputs": [
    {
     "data": {
      "text/plain": [
       "dict_keys(['level', 'lang', 'tweets', 'phd'])"
      ]
     },
     "execution_count": 271,
     "metadata": {},
     "output_type": "execute_result"
    }
   ],
   "source": [
    "inputs[0][0].keys()"
   ]
  },
  {
   "cell_type": "code",
   "execution_count": 272,
   "id": "1ba06c8a-17f6-4a08-844f-a2415a9a88fb",
   "metadata": {
    "tags": []
   },
   "outputs": [
    {
     "data": {
      "text/plain": [
       "('level',\n",
       " {'Senior': ('tweets', {'no': False, 'yes': True, None: False}),\n",
       "  'Mid': True,\n",
       "  'Junior': ('phd', {'no': True, 'yes': False, None: True}),\n",
       "  None: True})"
      ]
     },
     "execution_count": 272,
     "metadata": {},
     "output_type": "execute_result"
    }
   ],
   "source": [
    "build_tree_id3(inputs)"
   ]
  },
  {
   "cell_type": "code",
   "execution_count": null,
   "id": "3d385f53-f1bb-4501-b156-36f5bbe3fab0",
   "metadata": {},
   "outputs": [],
   "source": []
  },
  {
   "cell_type": "code",
   "execution_count": null,
   "id": "f1b0c6e3-6024-4579-a9c0-6e0f6b1fcb5c",
   "metadata": {},
   "outputs": [],
   "source": []
  },
  {
   "cell_type": "markdown",
   "id": "b1cb49bd-5c5c-4879-930b-a2ef80a7b7b2",
   "metadata": {},
   "source": [
    "-------------"
   ]
  },
  {
   "cell_type": "raw",
   "id": "b24b359c-611a-4659-af35-c9b6d2edd6f8",
   "metadata": {},
   "source": [
    "min이나 max를 적용할때 결과값을 한개값만 받을 수 있지만 함수에서 정의된 매개변수가 두개일 떄 한개의 값을 미리 정해두고 할 수 있음!?\n",
    "key에 적용 가능한 함수를 넣을 수 있음"
   ]
  },
  {
   "cell_type": "code",
   "execution_count": 207,
   "id": "8901ecb6-d454-4bd1-b61a-892db4b0e74c",
   "metadata": {},
   "outputs": [],
   "source": [
    "#예시\n",
    "test = ['abc12321', 'abc2132d4', 'abcde0', 'abcdef6']"
   ]
  },
  {
   "cell_type": "code",
   "execution_count": 208,
   "id": "2f776497-85c3-4298-818f-a480c19abeb9",
   "metadata": {},
   "outputs": [
    {
     "data": {
      "text/plain": [
       "'abcde0'"
      ]
     },
     "execution_count": 208,
     "metadata": {},
     "output_type": "execute_result"
    }
   ],
   "source": [
    "min(test, key=len) #key를 기준으로한 min(최솟값)을 구하라"
   ]
  },
  {
   "cell_type": "code",
   "execution_count": 273,
   "id": "456212ba-b326-43f4-b8db-c66b1e15b463",
   "metadata": {},
   "outputs": [],
   "source": [
    "def back(x) :\n",
    "    return x[-1]"
   ]
  },
  {
   "cell_type": "code",
   "execution_count": 274,
   "id": "2ecad999-937c-451d-bf1c-1227fcc471d6",
   "metadata": {},
   "outputs": [
    {
     "data": {
      "text/plain": [
       "'abcdef6'"
      ]
     },
     "execution_count": 274,
     "metadata": {},
     "output_type": "execute_result"
    }
   ],
   "source": [
    "max(test, key=back) #key자리에 함수가 올 수 있음"
   ]
  },
  {
   "cell_type": "markdown",
   "id": "2db42645-855b-4375-9c1f-a0eee495bbcc",
   "metadata": {},
   "source": [
    "--------------------"
   ]
  },
  {
   "cell_type": "code",
   "execution_count": 282,
   "id": "d67f8285-20e9-4a02-b39f-e5670ae638a5",
   "metadata": {},
   "outputs": [],
   "source": [
    "tree = build_tree_id3(inputs)"
   ]
  },
  {
   "cell_type": "code",
   "execution_count": 285,
   "id": "bc02faf7-bc4d-4ae3-a480-493dafd8a36a",
   "metadata": {},
   "outputs": [
    {
     "data": {
      "text/plain": [
       "('level',\n",
       " {'Senior': ('tweets',\n",
       "   {'no': ('lang',\n",
       "     {'Java': ('phd', {'no': False, 'yes': False, None: False}),\n",
       "      'Python': ('phd', {'no': False, None: False}),\n",
       "      None: False}),\n",
       "    'yes': ('lang',\n",
       "     {'R': ('phd', {'no': True, None: True}),\n",
       "      'Python': ('phd', {'yes': True, None: True}),\n",
       "      None: True}),\n",
       "    None: False}),\n",
       "  'Mid': ('lang',\n",
       "   {'Python': ('tweets',\n",
       "     {'no': ('phd', {'no': True, 'yes': True, None: True}), None: True}),\n",
       "    'R': ('tweets', {'yes': ('phd', {'yes': True, None: True}), None: True}),\n",
       "    'Java': ('tweets', {'yes': ('phd', {'no': True, None: True}), None: True}),\n",
       "    None: True}),\n",
       "  'Junior': ('phd',\n",
       "   {'no': ('lang',\n",
       "     {'Python': ('tweets', {'no': True, 'yes': True, None: True}),\n",
       "      'R': ('tweets', {'yes': True, None: True}),\n",
       "      None: True}),\n",
       "    'yes': ('lang',\n",
       "     {'R': ('tweets', {'yes': False, None: False}),\n",
       "      'Python': ('tweets', {'no': False, None: False}),\n",
       "      None: False}),\n",
       "    None: True}),\n",
       "  None: True})"
      ]
     },
     "execution_count": 285,
     "metadata": {},
     "output_type": "execute_result"
    }
   ],
   "source": [
    "tree"
   ]
  },
  {
   "cell_type": "code",
   "execution_count": 277,
   "id": "9118cd1d-9628-43ec-9d44-16a6cf00d3ab",
   "metadata": {},
   "outputs": [],
   "source": [
    "def classify(tree, x):\n",
    "    # 주어진 tree를 기준으로 input을 분류\n",
    "    # 잎 노드이면 값 반환\n",
    "    if tree in [True, False]:\n",
    "        return tree\n",
    "\n",
    "    # 그게 아니면 데이터의 변수로 분기\n",
    "    # 키로 변수값, 값으로 서브트리를 나타내는 dict 사용\n",
    "    attribute, subtree_dict = tree\n",
    "\n",
    "    # 만약 입력된 데이터 변수 가운데 하나가\n",
    "    # 기존에 관찰되지 않았다면 None\n",
    "    subtree_key = x[attribute]\n",
    "\n",
    "    # 키에 해당하는 서브트리가 존재하지 않을 때\n",
    "    if subtree_key not in subtree_dict:\n",
    "        # None 서브트리를 사용\n",
    "        subtree_key = None\n",
    "\n",
    "    # 적절한 서브트리를 선택\n",
    "    subtree = subtree_dict[subtree_key]\n",
    "    # 그리고 입력된 데이터를 분류\n",
    "    return classify(subtree, x)"
   ]
  },
  {
   "cell_type": "code",
   "execution_count": 278,
   "id": "7ac52e58-b78b-49a1-9c34-491b89385509",
   "metadata": {},
   "outputs": [
    {
     "data": {
      "text/plain": [
       "True"
      ]
     },
     "execution_count": 278,
     "metadata": {},
     "output_type": "execute_result"
    }
   ],
   "source": [
    "classify(tree, {'level': 'Junior', 'lang': 'Java', 'tweets': 'yes', 'phd': 'no'})"
   ]
  },
  {
   "cell_type": "code",
   "execution_count": 279,
   "id": "5a147f45-8fc1-46c9-ad10-e549958c9da7",
   "metadata": {},
   "outputs": [
    {
     "data": {
      "text/plain": [
       "({'level': 'Senior', 'lang': 'Java', 'tweets': 'no', 'phd': 'no'}, False)"
      ]
     },
     "execution_count": 279,
     "metadata": {},
     "output_type": "execute_result"
    }
   ],
   "source": [
    "inputs[0]"
   ]
  },
  {
   "cell_type": "code",
   "execution_count": null,
   "id": "f221ca9d-14e7-47a9-9ee0-97da224ecd3f",
   "metadata": {},
   "outputs": [],
   "source": []
  },
  {
   "cell_type": "raw",
   "id": "accc7f5d-be82-407f-9bb0-269d1f902422",
   "metadata": {},
   "source": [
    "위 과정으로 의사결정나무 모델을 직접 만드는게 아닌 사이킷런을 이용해 바로 모델을 쓸 수 있음."
   ]
  },
  {
   "cell_type": "code",
   "execution_count": 291,
   "id": "36955004-2103-4969-88e0-97b60568ddae",
   "metadata": {},
   "outputs": [],
   "source": [
    "from sklearn.tree import DecisionTreeClassifier"
   ]
  },
  {
   "cell_type": "code",
   "execution_count": 292,
   "id": "c5afe3c1-c01c-4771-a88f-fc57fe9774e7",
   "metadata": {},
   "outputs": [],
   "source": [
    "model = DecisionTreeClassifier()"
   ]
  },
  {
   "cell_type": "code",
   "execution_count": 289,
   "id": "edd10be3-8f23-447c-8274-43f3df9bb026",
   "metadata": {
    "collapsed": true,
    "jupyter": {
     "outputs_hidden": true
    },
    "tags": []
   },
   "outputs": [
    {
     "ename": "NameError",
     "evalue": "name 'x_train' is not defined",
     "output_type": "error",
     "traceback": [
      "\u001b[1;31m---------------------------------------------------------------------------\u001b[0m",
      "\u001b[1;31mNameError\u001b[0m                                 Traceback (most recent call last)",
      "Input \u001b[1;32mIn [289]\u001b[0m, in \u001b[0;36m<cell line: 1>\u001b[1;34m()\u001b[0m\n\u001b[1;32m----> 1\u001b[0m model\u001b[38;5;241m.\u001b[39mfit(\u001b[43mx_train\u001b[49m, y_train)\n",
      "\u001b[1;31mNameError\u001b[0m: name 'x_train' is not defined"
     ]
    }
   ],
   "source": [
    "model.fit(x_train, y_train)"
   ]
  },
  {
   "cell_type": "code",
   "execution_count": null,
   "id": "dcd73ff1-62e0-40a0-9b0e-6795ba2beb77",
   "metadata": {},
   "outputs": [],
   "source": []
  },
  {
   "cell_type": "code",
   "execution_count": null,
   "id": "f4c4b22e-4a8c-40cf-88c8-7c7a226fd9c1",
   "metadata": {},
   "outputs": [],
   "source": []
  },
  {
   "cell_type": "code",
   "execution_count": null,
   "id": "499f1299-861e-4d8f-a974-0c9fb958d012",
   "metadata": {},
   "outputs": [],
   "source": []
  }
 ],
 "metadata": {
  "kernelspec": {
   "display_name": "Python 3 (ipykernel)",
   "language": "python",
   "name": "python3"
  },
  "language_info": {
   "codemirror_mode": {
    "name": "ipython",
    "version": 3
   },
   "file_extension": ".py",
   "mimetype": "text/x-python",
   "name": "python",
   "nbconvert_exporter": "python",
   "pygments_lexer": "ipython3",
   "version": "3.9.12"
  }
 },
 "nbformat": 4,
 "nbformat_minor": 5
}
